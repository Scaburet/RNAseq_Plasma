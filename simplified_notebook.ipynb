{
 "cells": [
  {
   "cell_type": "markdown",
   "id": "25e68baf",
   "metadata": {},
   "source": [
    "# RNA-seq Data Analysis Pipeline\n",
    "### Master Course - Tuesday 26/11/2024\n",
    "\n",
    "<div class=\"alert alert-info\">\n",
    "<b>Course Overview:</b><br>\n",
    "This notebook covers the essential steps of RNA-seq data analysis including:\n",
    "- Quality control of raw sequencing data\n",
    "- Read preprocessing and quality verification\n",
    "- Read mapping to reference genome\n",
    "</div>\n",
    "\n",
    "<div class=\"alert alert-warning\">\n",
    "<b>Resource Requirements:</b><br>\n",
    "- CPUs: 10\n",
    "- RAM: 6GB\n",
    "</div>"
   ]
  },
  {
   "cell_type": "markdown",
   "id": "337d3af3",
   "metadata": {},
   "source": [
    "## 1. Environment Setup\n",
    "\n",
    "<div class=\"alert alert-info\">\n",
    "The required tools are pre-installed in the Plasmabio environment:\n",
    "- FastQC (v0.12.1) - Quality control\n",
    "- MultiQC (v1.13) - Aggregate reports\n",
    "- fastp (v0.23.1) - Read preprocessing\n",
    "- STAR (v2.7.11a) - Read mapping\n",
    "- samtools (v1.18) - BAM file handling\n",
    "</div>"
   ]
  },
  {
   "cell_type": "code",
   "execution_count": null,
   "id": "505a8301",
   "metadata": {},
   "outputs": [],
   "source": [
    "# Cell 1: Create working directories\n",
    "mkdir -p ~/rnaseq/results/{fastqc,fastp,star}\n",
    "cd ~/rnaseq"
   ]
  },
  {
   "cell_type": "markdown",
   "id": "288f942d",
   "metadata": {},
   "source": [
    "## 2. Raw Data Quality Assessment\n",
    "\n",
    "<div class=\"alert alert-info\">\n",
    "We'll first examine the quality of raw sequencing data using FastQC.\n",
    "The raw data is located in: <code>/srv/data/meg-m2-rnaseq/Data/fastq/raw/</code>\n",
    "</div>"
   ]
  },
  {
   "cell_type": "code",
   "execution_count": null,
   "id": "3449ae85",
   "metadata": {},
   "outputs": [],
   "source": [
    "# Cell 2: Run FastQC on first two samples\n",
    "cd ~/rnaseq\n",
    "fastqc -o results/fastqc -t 10 \\\n",
    "  /srv/data/meg-m2-rnaseq/Data/fastq/raw/*_R{1,2}.fastq.gz"
   ]
  },
  {
   "cell_type": "raw",
   "id": "0502e4fa",
   "metadata": {},
   "source": [
    "# (Cell 3): Command to run FastQC on all samples\n",
    "cd ~/rnaseq\n",
    "fastqc -o results/fastqc -t 10 \\\n",
    "  /srv/data/meg-m2-rnaseq/Data/fastq/raw/*.fastq.gz"
   ]
  },
  {
   "cell_type": "markdown",
   "id": "ad4ec7fa",
   "metadata": {},
   "source": [
    "## 3. Read Preprocessing\n",
    "\n",
    "<div class=\"alert alert-info\">\n",
    "We use fastp to:\n",
    "- Trim low quality bases\n",
    "- Remove adapter sequences\n",
    "- Filter out poor quality reads\n",
    "</div>"
   ]
  },
  {
   "cell_type": "code",
   "execution_count": null,
   "id": "d77ffddc",
   "metadata": {},
   "outputs": [],
   "source": [
    "# Cell 4: Process first two samples with fastp\n",
    "cd ~/rnaseq\n",
    "for sample in $(ls /srv/data/meg-m2-rnaseq/Data/fastq/raw/*_R1.fastq.gz | head -n 2); do\n",
    "    base=$(basename $sample _R1.fastq.gz)\n",
    "    fastp \\\n",
    "        -i ${sample} \\\n",
    "        -I ${sample%_R1.fastq.gz}_R2.fastq.gz \\\n",
    "        -o results/fastp/${base}_R1_cleaned.fastq.gz \\\n",
    "        -O results/fastp/${base}_R2_cleaned.fastq.gz \\\n",
    "        --html results/fastp/${base}_report.html \\\n",
    "        --json results/fastp/${base}_report.json \\\n",
    "        --thread 10\n",
    "done"
   ]
  },
  {
   "cell_type": "raw",
   "id": "fcb06bfb",
   "metadata": {},
   "source": [
    "# (Cell 5): Command to process all samples with fastp\n",
    "cd ~/rnaseq\n",
    "for sample in /srv/data/meg-m2-rnaseq/Data/fastq/raw/*_R1.fastq.gz; do\n",
    "    base=$(basename $sample _R1.fastq.gz)\n",
    "    fastp \\\n",
    "        -i ${sample} \\\n",
    "        -I ${sample%_R1.fastq.gz}_R2.fastq.gz \\\n",
    "        -o results/fastp/${base}_R1_cleaned.fastq.gz \\\n",
    "        -O results/fastp/${base}_R2_cleaned.fastq.gz \\\n",
    "        --html results/fastp/${base}_report.html \\\n",
    "        --json results/fastp/${base}_report.json \\\n",
    "        --thread 10\n",
    "done"
   ]
  },
  {
   "cell_type": "markdown",
   "id": "f1798bc3",
   "metadata": {},
   "source": [
    "## 4. Post-processing Quality Check\n",
    "\n",
    "<div class=\"alert alert-info\">\n",
    "We'll run FastQC on the cleaned reads and generate a MultiQC report combining all quality metrics.\n",
    "</div>"
   ]
  },
  {
   "cell_type": "code",
   "execution_count": null,
   "id": "7b80dbca",
   "metadata": {},
   "outputs": [],
   "source": [
    "# Cell 6: Run FastQC on cleaned reads (first two samples)\n",
    "cd ~/rnaseq\n",
    "fastqc -o results/fastqc -t 10 \\\n",
    "  results/fastp/*_cleaned.fastq.gz"
   ]
  },
  {
   "cell_type": "code",
   "execution_count": null,
   "id": "168042f7",
   "metadata": {},
   "outputs": [],
   "source": [
    "# Cell 7: Generate MultiQC report\n",
    "cd ~/rnaseq\n",
    "multiqc -o results/multiqc results/fastqc results/fastp"
   ]
  },
  {
   "cell_type": "markdown",
   "id": "7112f2a5",
   "metadata": {},
   "source": [
    "## 5. Read Mapping\n",
    "\n",
    "<div class=\"alert alert-info\">\n",
    "We'll map the cleaned reads to the mouse reference genome using STAR.\n",
    "The genome annotation file is located at:\n",
    "<code>/srv/data/meg-m2-rnaseq/Genomes/Mmu/GRCm39/extracted/mouse genome_annotation-M35.gtf</code>\n",
    "</div>"
   ]
  },
  {
   "cell_type": "raw",
   "id": "b17ee413",
   "metadata": {},
   "source": [
    "# (Cell 8): Download and prepare reference genome\n",
    "cd ~/rnaseq\n",
    "mkdir -p reference\n",
    "cd reference\n",
    "wget https://ftp.ensembl.org/pub/release-109/fasta/mus_musculus/dna/Mus_musculus.GRCm39.dna.primary_assembly.fa.gz\n",
    "gunzip Mus_musculus.GRCm39.dna.primary_assembly.fa.gz"
   ]
  },
  {
   "cell_type": "raw",
   "id": "956fc550",
   "metadata": {},
   "source": [
    "# (Cell 9): Index reference genome\n",
    "cd ~/rnaseq/reference\n",
    "STAR --runMode genomeGenerate \\\n",
    "     --genomeDir star_index \\\n",
    "     --genomeFastaFiles Mus_musculus.GRCm39.dna.primary_assembly.fa \\\n",
    "     --sjdbGTFfile /srv/data/meg-m2-rnaseq/Genomes/Mmu/GRCm39/extracted/mouse\\ genome_annotation-M35.gtf \\\n",
    "     --runThreadN 10"
   ]
  },
  {
   "cell_type": "code",
   "execution_count": null,
   "id": "3636137e",
   "metadata": {},
   "outputs": [],
   "source": [
    "# Cell 10: Map reads for first two samples\n",
    "cd ~/rnaseq\n",
    "for sample in $(ls results/fastp/*_R1_cleaned.fastq.gz | head -n 2); do\n",
    "    base=$(basename $sample _R1_cleaned.fastq.gz)\n",
    "    STAR --genomeDir reference/star_index \\\n",
    "         --readFilesIn ${sample} ${sample%_R1_cleaned.fastq.gz}_R2_cleaned.fastq.gz \\\n",
    "         --readFilesCommand zcat \\\n",
    "         --outFileNamePrefix results/star/${base}_ \\\n",
    "         --outSAMtype BAM SortedByCoordinate \\\n",
    "         --runThreadN 10\n",
    "done"
   ]
  },
  {
   "cell_type": "raw",
   "id": "9df53c15",
   "metadata": {},
   "source": [
    "# (Cell 11): Command to map all samples\n",
    "cd ~/rnaseq\n",
    "for sample in results/fastp/*_R1_cleaned.fastq.gz; do\n",
    "    base=$(basename $sample _R1_cleaned.fastq.gz)\n",
    "    STAR --genomeDir reference/star_index \\\n",
    "         --readFilesIn ${sample} ${sample%_R1_cleaned.fastq.gz}_R2_cleaned.fastq.gz \\\n",
    "         --readFilesCommand zcat \\\n",
    "         --outFileNamePrefix results/star/${base}_ \\\n",
    "         --outSAMtype BAM SortedByCoordinate \\\n",
    "         --runThreadN 10\n",
    "done"
   ]
  },
  {
   "cell_type": "code",
   "execution_count": null,
   "id": "a670933d",
   "metadata": {},
   "outputs": [],
   "source": [
    "# Cell 12: Index BAM files\n",
    "cd ~/rnaseq\n",
    "for bam in results/star/*_Aligned.sortedByCoord.out.bam; do\n",
    "    samtools index -@ 10 $bam\n",
    "done"
   ]
  }
 ],
 "metadata": {
  "kernelspec": {
   "display_name": "Bash",
   "language": "bash",
   "name": "bash"
  }
 },
 "nbformat": 4,
 "nbformat_minor": 5
}

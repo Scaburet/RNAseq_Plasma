{
 "cells": [
  {
   "cell_type": "markdown",
   "metadata": {},
   "source": [
    "# Formation RNAseq CEA - juin 2024\n",
    "\n",
    "*Enseignantes: Sandrine Caburet, Claire Vandiedonck*\n",
    "\n",
    "Session IFB : 16 CPU + 70 GB de RAM\n",
    "\n",
    "# Part 4 : Mapping reads to genome"
   ]
  },
  {
   "cell_type": "markdown",
   "metadata": {},
   "source": [
    "<div class=\"alert alert-block alert-danger\"> \n",
    "    <b>     🚨 🚨 🚨 💣 💣 💣 <u> WARNING WARNING WARNING </u> 💣 💣 💣 🚨 🚨 🚨    </b> <br><br>\n",
    "    The mapping tool is very greedy! Therefore we need to allocate more CPU and RAM for this session , but we CAN NOT run this notebook all together at the same time! <br>\n",
    "    <b>Following values are valid for a 16-CPU session with access to 70 GB of RAM</b>. Ideally, use 70-80% of the CPU amount your system or session has. DO NOT ask for more RAM than you can use.\n",
    "</div>"
   ]
  },
  {
   "cell_type": "markdown",
   "metadata": {
    "tags": []
   },
   "source": [
    "\n",
    "- 0.1 - About session for IFB core cluster\n",
    "- 0.2 - Parameters to be set or modified by the user\n",
    "- 1 - Reference genome and annotation file\n",
    "- 2 - Building genome reference files with ``STAR``\n",
    "- 3 - Mapping samples on reference genome with ``STAR``\n",
    "- 4 - Building sample ``.bam`` indexes with ``samtools``\n"
   ]
  },
  {
   "cell_type": "markdown",
   "metadata": {},
   "source": [
    "---\n",
    "## **Before going further**\n",
    "\n",
    "<div class=\"alert alert-block alert-danger\"><b>Caution:</b> \n",
    "Before starting the analysis, save a backup copy of this notebok : in the left-hand panel, right-click on this file and select \"Duplicate\"<br>\n",
    "You can also make backups during the analysis. Don't forget to save your notebook regularly: <kbd>Ctrl</kbd> + <kbd>S</kbd> or click on the 💾 icon.\n",
    "</div>"
   ]
  },
  {
   "cell_type": "markdown",
   "metadata": {},
   "source": [
    "<div class=\"alert alert-block alert-danger\">\n",
    "    Please note that Mouse Reference genome file indexing is set for RNA sequencing of 100-bases reads. <br>\n",
    "    If different, change <code>rawreadlength</code> below: set value with the proper read length for your dataset.\n",
    "</div>"
   ]
  },
  {
   "cell_type": "markdown",
   "metadata": {},
   "source": [
    "---\n",
    "---\n",
    "\n",
    "## 0.1 - About session for IFB core cluster\n",
    "---\n",
    "\n",
    "<em>loaded JupyterLab</em> : Version 3.5.0"
   ]
  },
  {
   "cell_type": "code",
   "execution_count": null,
   "metadata": {
    "tags": []
   },
   "outputs": [],
   "source": [
    "## Code cell 1 ##\n",
    "\n",
    "echo \"=== Cell launched on $(date) ===\"\n",
    "squeue -hu $USER \n",
    "\n",
    "echo \"=== Current IFB session size: as an indication: Medium (4CPU, 10GB) or Large (10CPU, 50GB) ===\"\n",
    "jobid=$(squeue -hu $USER | awk '/sys/dash {print $1}')\n",
    "\n",
    "sacct --format=JobID,AllocCPUS,ReqMem,NodeList,Elapsed,State --jobs ${jobid}"
   ]
  },
  {
   "cell_type": "code",
   "execution_count": null,
   "metadata": {},
   "outputs": [],
   "source": [
    "## Code cell 2 ##\n",
    "\n",
    "module load star/2.7.11a samtools/1.18\n",
    "\n",
    "# module load star/2.7.10b samtools/1.15.1 in 2023\n",
    "# module load star/2.7.11a samtools/1.18 in 2024\n",
    "\n",
    "echo \"===== download network files =====\"\n",
    "wget --version | head -n 1\n",
    "echo \"===== alignement tool =====\"\n",
    "STAR --version \n",
    "echo \"===== index construction + quality =====\"\n",
    "samtools --version | head -n 2"
   ]
  },
  {
   "cell_type": "markdown",
   "metadata": {},
   "source": [
    "---\n",
    "\n",
    "## 0.2 - Parameters to be set or modified by the user"
   ]
  },
  {
   "cell_type": "markdown",
   "metadata": {},
   "source": [
    "- Using a full path with a `/` at the end, **define the folder** where you want or have to work with `gohome` variable:"
   ]
  },
  {
   "cell_type": "code",
   "execution_count": null,
   "metadata": {},
   "outputs": [],
   "source": [
    "## Code cell 3 ##\n",
    "\n",
    "gohome=\"/shared/projects/2413_rnaseq_cea/\"\n",
    "\n",
    "echo \"=== Home root folder is ===\"\n",
    "echo \"${gohome}\"\n",
    "echo \"\"\n",
    "echo \"=== Working (personal) folder tree ===\"\n",
    "tree -d -L 2 \"${gohome}$USER\"\n",
    "echo \"=== current working directory ===\"\n",
    "echo \"${PWD}\""
   ]
  },
  {
   "cell_type": "markdown",
   "metadata": {},
   "source": [
    "- **Reference genome and annotation files will be downloaded from the web** in [section 1.2](#downloadsection), so **don't forget to change url for both files** in [section 1.1](#urlsection). The names we use to store links are `fagzurl` (*for fasta.gzip.url*) and `gtfgzurl` *(for gtf.gzip.url)*, respectively."
   ]
  },
  {
   "cell_type": "markdown",
   "metadata": {},
   "source": [
    "- To map reads efficiently, a set of indexes has to be created. The amount of indexes relies on the read length value, a parameter set by the experimenter on the sequencing platform.    \n",
    "    **Change read length value below if you have a different read size**:   \n"
   ]
  },
  {
   "cell_type": "code",
   "execution_count": null,
   "metadata": {},
   "outputs": [],
   "source": [
    "## Code cell 4 ##\n",
    "\n",
    "rawreadlength=100"
   ]
  },
  {
   "cell_type": "markdown",
   "metadata": {},
   "source": [
    "- Please, precise the **maximum amount of CPU** (*Central Processing Units*, cores) and **RAM-memory (in Bytes)** that programs below can use.<a id=\"computressources\"></a>\n",
    "\n",
    "<div class=\"alert alert-block alert-danger\">\n",
    "    <b>Following values are valid for a 16-CPU session with access to 70 GB of RAM</b>. Ideally, use 70-80% of the CPU amount your system or session has. DO NOT ask for more RAM than you can use.\n",
    "</div>"
   ]
  },
  {
   "cell_type": "code",
   "execution_count": null,
   "metadata": {},
   "outputs": [],
   "source": [
    "## Code cell 5 ##\n",
    "\n",
    "authorizedCPU=13  # 13\n",
    "\n",
    "authorizedRAM=60000000000  # 60GB"
   ]
  },
  {
   "cell_type": "markdown",
   "metadata": {},
   "source": [
    "---\n",
    "---\n",
    "## 1 - Reference genome and annotation files \n",
    "---\n",
    "\n",
    "Classical mapping of RNAseq data relies on the use of a reference genome sequence (in <code>fasta</code> format) and a companion annotation file that contains the location of genomic features, such as genes and exons (in <code>gtf</code> or <code>gff</code> format). \n",
    "The Reference genome also has to be indexed by STAR (the mapping tool that we'll be using), with indexes corresponding to the specific read length in the dataset.\n",
    "\n",
    "<div class=\"alert alert-block alert-warning\">   \n",
    "<b>Here we will used pre-downloaded files and pre-computed indexes, in order to save time and disk space</b> (<i>we share one copy for all of us</i>).\n",
    "The sections 1.1 to 1.3 (downloading and extracting Reference files) and 2.1 to 2.4 (indexing Reference file) are therefore only provided for further use in your own later projects.   \n",
    "\n",
    "To use those commands:   \n",
    "* change the format of the cells from <code>raw</code> to <code>code</code>.  \n",
    "* specify the correct read length in Code cell 4 (above)\n",
    "* choose the correct species in Code cells 6 and 7.\n",
    "\n",
    "**The section 1.4 is kept active to verify the Reference files**\n",
    "</div>"
   ]
  },
  {
   "cell_type": "markdown",
   "metadata": {
    "tags": []
   },
   "source": [
    "### **1.1 - Searching for urls on the web**"
   ]
  },
  {
   "cell_type": "markdown",
   "metadata": {
    "tags": []
   },
   "source": [
    "There are several websites to download reference genome and annotation files:<a id=\"urlsection\"></a>\n",
    "- <a href=\"https://www.gencodegenes.org/\"><i>Gencode</i></a> from the European Biomolecular Institute (EBI)\n",
    "- <a href=\"http://www.ensembl.org/info/data/ftp/index.html\"><i>Accessing Ensembl Data</i></a> from Ensembl project database for most studies\n",
    "- <a href=\"https://www.ncbi.nlm.nih.gov/genome/guide/human/\"><i>Human Genome Ressources</i></a> at NCBI\n",
    "- <a href=\"https://github.com/marbl/CHM13\">For human, there is also now the Telomere-to-telomere consortium CHM13 (T2T-CHM13) project.\n",
    "- ... and maybe one day a commom NCBI and Ensembl/Gencode release (MANE collaboration, <a href=\"https://ncbiinsights.ncbi.nlm.nih.gov/2020/11/02/ncbi-refseq-ensembl-gencode-mane-v0-92/#more-4781\">a story beginning in 2020</a>)"
   ]
  },
  {
   "cell_type": "markdown",
   "metadata": {
    "tags": []
   },
   "source": [
    "We will use a **Primary assembly** (PRI) release. It includes chromosomes and scaffolds (candidate regions to be integrated or discarded in next genome builds).  \n",
    "On the contrary, the **main annotation** file is limited to chromosomes, while the ***extensive annotation*** file also includes all known haplotypes (for highly variable regions such as the MHC)."
   ]
  },
  {
   "cell_type": "markdown",
   "metadata": {
    "tags": []
   },
   "source": [
    "<div class=\"alert alert-block alert-warning\">\n",
    "    In this notebook, we use the latest <b>Gencode release</b>, that provides user with <b><code>.gz</code> compressed</b> files, and we choose <b>GTF format</b> for the annotation file. <br>\n",
    "    Feel free to choose the source you want among citated ones above, as far as downloaded files follow the same file formats (if they don't, change next sections code cells!).\n",
    "</div>\n",
    "\n",
    "<div class=\"alert alert-block alert-info\">\n",
    "    Nonetheless, please note that annotation file format is an actively opened issue as some relevant official sources are contradictory: \n",
    "    <ul>\n",
    "        <li>\n",
    "            For US Galaxy Main project: <a href=\"https://galaxyproject.org/learn/datatypes/#gtf\">GTF</a> is the GFF version 2 while <a href=\"https://galaxyproject.org/learn/datatypes/#gff\">GFF</a> is version 1 and <a href=\"https://galaxyproject.org/learn/datatypes/#gff3\">GFF3</a> is the latest and 3rd version... \n",
    "        </li>\n",
    "        <li>\n",
    "        ... but IGV Broad Institute, as UCSC genome browser, makes distinction between <a href=\"http://software.broadinstitute.org/software/igv/GFF\">GFF2 and GTF formats</a>, <a href=\"https://genome.ucsc.edu/FAQ/FAQformat.html#format3\"> the later being only compatible with the former</a>.\n",
    "        </li>\n",
    "        <li>\n",
    "            While both <a href=\"https://biocorecrg.github.io/PhD_course/gtf_format.html\">GTF</a> and <a href=\"https://biostar.usegalaxy.org/p/28147/\">GFF</a> formats have 9 columns, field in the ninth column is longer for <code>.gtf</code> files than for <code>.gff</code> files (<a href=\"https://genome.ucsc.edu/FAQ/FAQformat.html#format3\">UCSC Genome browser documentation</a> and <a href=\"https://www.ensembl.org/info/website/upload/gff.html\">ensembl documentation</a>).\n",
    "        </li>\n",
    "        <li>\n",
    "            Even if both file format have header lines, some tools do not support them (<a href=\"https://biostar.usegalaxy.org/p/28147/\">second bullet point in last answer</a>) and US Galaxy portal asks users to remove those lines before use (see upper US Galaxy links).\n",
    "        </li>\n",
    "        <li>\n",
    "            <code>FeatureCounts</code> (a downstream tool we will use) only <a href=\"http://bioinf.wehi.edu.au/featureCounts/\">works with GTF files</a>. This tool expects to find <i>exon</i> in the <i>features</i> column (both GFF and GTF!) and <i>gene_id</i> as a gene identifier (missing in GFF), see <a href=\"https://biostar.usegalaxy.org/p/28094/index.html#28099\">item 4 in latest answer</a>.\n",
    "        </li>\n",
    "    </ul>\n",
    "</div>"
   ]
  },
  {
   "cell_type": "markdown",
   "metadata": {
    "tags": []
   },
   "source": [
    "In order to have latest current genome release for your analyses, please go to Gencode's <a href=\"https://www.gencodegenes.org/human/\">download page</a> (or to other chosen reference download page) and adapt url links for:\n",
    "- Primary annotation (this notebook is developped with GTF file)\n",
    "> in *GTF/GFF3 files* Gencode's chart: Comprehensive gene annotation > primary annotation > *gtf* file "
   ]
  },
  {
   "cell_type": "raw",
   "metadata": {},
   "source": [
    "## (Code cell 6) ##\n",
    "\n",
    "# for Homo sapiens genome, release 46 (latest, June 2024) on GRCh38.p14:\n",
    "# gtfgzurl=\"https://ftp.ebi.ac.uk/pub/databases/gencode/Gencode_human/release_46/gencode.v46.primary_assembly.annotation.gtf.gz\"\n",
    "\n",
    "# For Mus musculus, release M35 (latest, June 2024) on GRCm39:\n",
    "gtfgzurl=\"https://ftp.ebi.ac.uk/pub/databases/gencode/Gencode_mouse/release_M35/gencode.vM35.primary_assembly.annotation.gtf.gz\"\n"
   ]
  },
  {
   "cell_type": "markdown",
   "metadata": {},
   "source": [
    "- Primary genome sequence file\n",
    "> in *Fasta files* Gencode's chart: Genome sequence, primary assembly > *Fasta* file "
   ]
  },
  {
   "cell_type": "raw",
   "metadata": {},
   "source": [
    "## (Code cell 7) ##\n",
    "\n",
    "# for Homo sapiens genome release 46 (latest, June 2024) on GRCh38.p14:\n",
    "# fagzurl=\"https://ftp.ebi.ac.uk/pub/databases/gencode/Gencode_human/release_46/GRCh38.primary_assembly.genome.fa.gz\"\n",
    "\n",
    "# For Mus musculus release M35 (latest,June 2024) on GRCm39:\n",
    "fagzurl=\"https://ftp.ebi.ac.uk/pub/databases/gencode/Gencode_mouse/release_M35/GRCm39.primary_assembly.genome.fa.gz\"\n"
   ]
  },
  {
   "cell_type": "markdown",
   "metadata": {},
   "source": [
    "*Note*: You can get url link with a right click on download links, then *copy link to clipboard*.\n",
    "\n",
    "<div class=\"alert alert-block alert-danger\">\n",
    "    Both files have to be retrieved from the same source as sequence region names need to be the same in both; in order to avoid dowstream analysis issues. <br>\n",
    "    <i>In Gencode, this compatibility between files is specified in the <b>fasta description field</b></i>.\n",
    "</div>"
   ]
  },
  {
   "cell_type": "markdown",
   "metadata": {},
   "source": [
    "### **1.2 - Retrieve files with ``wget``**"
   ]
  },
  {
   "cell_type": "markdown",
   "metadata": {
    "tags": []
   },
   "source": [
    "We will download those files in a distinct folder:<a id=\"downloadsection\"></a>"
   ]
  },
  {
   "cell_type": "raw",
   "metadata": {},
   "source": [
    "## (Code cell 8) ##\n",
    "\n",
    "reffolder=\"${gohome}alldata/Reference/\"\n",
    "mkdir -p ${reffolder}"
   ]
  },
  {
   "cell_type": "markdown",
   "metadata": {
    "tags": []
   },
   "source": [
    "<ul class=\"alert alert-block alert-info\">\n",
    "    <li>\n",
    "        Sometimes (often?!), other users issues help us understand a command more than its manual. For instance, a Stackoverflow's <a href=\"https://unix.stackexchange.com/questions/23501/download-using-wget-to-a-different-directory-than-current-directory\">thread</a> about <code>wget</code> command and the way to write into a chosen output folder. \n",
    "    </li>\n",
    "</ul>"
   ]
  },
  {
   "cell_type": "raw",
   "metadata": {},
   "source": [
    "## (Code cell 9) ##\n",
    "\n",
    "logfile=\"${reffolder}wget_reference_files_extraction-2024-M35.log\""
   ]
  },
  {
   "cell_type": "raw",
   "metadata": {},
   "source": [
    "## (Code cell 10) ##\n",
    "\n",
    "echo \"Some output is redirected to ${logfile} for record\"\n",
    "\n",
    "echo \"===== Annotation file retrieval ...\" >> ${logfile}\n",
    "wget -P \"${reffolder}\" -N \"${gtfgzurl}\"\n",
    "echo \"... done\" >> ${logfile}\n",
    "\n",
    "echo \"Used command is: wget -P ${reffolder} -N ${gtfgzurl}\"\n",
    "ls -lh \"${reffolder}\"*.gtf.gz >> ${logfile}"
   ]
  },
  {
   "cell_type": "markdown",
   "metadata": {
    "tags": []
   },
   "source": [
    "We only use these two options:\n",
    "> ``-P PREFIX`` or ``--directory-prefix=PREFIX`` to specify output folder  \n",
    "> ``-N`` or ``--timestamping``: don't re-retrieve files unless newer than local  \n",
    "\n",
    "Some other available options exist and among them this one:\n",
    "> ``-a FILE`` or ``--append-output=FILE`` to append messages to FILE  "
   ]
  },
  {
   "cell_type": "raw",
   "metadata": {},
   "source": [
    "## (Code cell 11) ##\n",
    "\n",
    "echo \"Some output is redirected to ${logfile} for record\"\n",
    "\n",
    "echo \"===== Genome sequence retrieval ...\" >> ${logfile}\n",
    "wget -P \"${reffolder}\" -N \"${fagzurl}\"\n",
    "echo \"... done\" >> ${logfile}\n",
    "\n",
    "echo \"Used command is: wget -P ${reffolder} -N ${fagzurl}\"\n",
    "ls -lh \"${reffolder}\"*.fa.gz >> ${logfile}"
   ]
  },
  {
   "cell_type": "markdown",
   "metadata": {},
   "source": [
    "### **1.3 - Extract archive files**"
   ]
  },
  {
   "cell_type": "markdown",
   "metadata": {
    "tags": []
   },
   "source": [
    "**STAR**, as other downstream tools, can't deal with compressed reference files.  \n",
    "Uncompressed files are quite big but compressed ones are of rather affordable size. So we will keep them as is, along with more simple filename assigment for uncompressed files (easier to handle, in particular when changing release and/or database source)."
   ]
  },
  {
   "cell_type": "markdown",
   "metadata": {},
   "source": [
    "To save time, we already performed this extraction and the following indexing of the mouse genome (version M35) before the training session.   \n",
    "   \n",
    "**You should do these two steps (Code cells 12 to 28) if:   \n",
    "    - you're working on another genome   \n",
    "    - or you want to use an older version of the mouse genome**   "
   ]
  },
  {
   "cell_type": "raw",
   "metadata": {},
   "source": [
    "## (Code cell 12) ##\n",
    "\n",
    "mkdir -p \"${reffolder}extracted/\""
   ]
  },
  {
   "cell_type": "markdown",
   "metadata": {
    "tags": []
   },
   "source": [
    "- Primary annotation (notebook developped with GTF file).    \n",
    "**Modify the names in this command if they don't correspond to your genome or version!**"
   ]
  },
  {
   "cell_type": "raw",
   "metadata": {},
   "source": [
    "## (Code cell 13) ##\n",
    "\n",
    "echo \"===== Extracting annotation file ...\" |& tee -a  ${logfile}\n",
    "gtfgzfile=\"${reffolder}gencode.vM35.primary_assembly.annotation.gtf.gz\"\n",
    "gtffile=\"${reffolder}extracted/genome_annotation-M35.gtf\"\n",
    "\n",
    "zcat ${gtfgzfile} > ${gtffile}\n",
    "echo \"... done\" |& tee -a  ${logfile}\n",
    "\n",
    "ls -lh \"${reffolder}extracted/\"*.gtf >> ${logfile}"
   ]
  },
  {
   "cell_type": "markdown",
   "metadata": {
    "tags": []
   },
   "source": [
    "- Primary genome sequence file"
   ]
  },
  {
   "cell_type": "raw",
   "metadata": {},
   "source": [
    "## (Code cell 14) ##\n",
    "\n",
    "echo \"===== Extracting sequence file ...\" |& tee -a  ${logfile}\n",
    "fastagzfile=$(ls \"${reffolder}\"*.fa.gz)\n",
    "fastafile=\"${reffolder}extracted/genome_sequence.fa\"\n",
    "\n",
    "zcat ${fastagzfile} > ${fastafile}\n",
    "echo \"... done\" |& tee -a  ${logfile}\n",
    "\n",
    "ls -lh \"${reffolder}extracted/\"*.fa >> ${logfile}"
   ]
  },
  {
   "cell_type": "markdown",
   "metadata": {},
   "source": [
    "### **1.4 - Verify downloaded files**\n",
    "Let's have a look at the first rows of these files to check they correspond to what we expect (or just discover file format)."
   ]
  },
  {
   "cell_type": "raw",
   "metadata": {
    "tags": []
   },
   "source": [
    "## (Code cell 15) ##\n",
    "\n",
    "reffolder=\"${gohome}alldata/Reference/\"\n",
    "gtffile=\"${reffolder}extracted/genome_annotation-M35.gtf\"\n",
    "fastafile=\"${reffolder}extracted/genome_sequence.fa\""
   ]
  },
  {
   "cell_type": "markdown",
   "metadata": {},
   "source": [
    "- Primary annotation (notebook developped with GTF file)"
   ]
  },
  {
   "cell_type": "raw",
   "metadata": {},
   "source": [
    "## (Code cell 16) ##\n",
    "\n",
    "head ${gtffile}"
   ]
  },
  {
   "cell_type": "markdown",
   "metadata": {},
   "source": [
    "- Primary genome sequence file"
   ]
  },
  {
   "cell_type": "raw",
   "metadata": {},
   "source": [
    "## (Code cell 17) ##\n",
    "\n",
    "head ${fastafile}"
   ]
  },
  {
   "cell_type": "markdown",
   "metadata": {},
   "source": [
    "---\n",
    "---\n",
    "## 2 - Building genome reference index files with <code>STAR</code>\n",
    "---"
   ]
  },
  {
   "cell_type": "markdown",
   "metadata": {},
   "source": [
    "The indexes are small files that tell a program where to look for data in a large data file. They are required for mapping algorithms, as they allow for faster processing of dozens to hundreds of millions reads.   \n",
    "To save time, we already performed this indexing of the mouse genome (version M35) before the training session.   \n",
    "   \n",
    "**You should do this step (Code cells 18 to 28) if:   \n",
    "    - you're working on another genome   \n",
    "    - or you want to use an older version of the mouse genome   \n",
    "    - or you have read length other than 100 bp**\n"
   ]
  },
  {
   "cell_type": "markdown",
   "metadata": {},
   "source": [
    "### **2.1 - Tool version and command line presentation**"
   ]
  },
  {
   "cell_type": "raw",
   "metadata": {},
   "source": [
    "## (Code cell 18) ##\n",
    "\n",
    "STAR --version"
   ]
  },
  {
   "cell_type": "markdown",
   "metadata": {
    "tags": []
   },
   "source": [
    "To create reference genome files, the default command is: <br>\n",
    "<code>STAR --runMode genomeGenerate --genomeDir destination/folder \\\n",
    "      --genomeFastaFiles path/to/sequence.fa\n",
    "</code>\n",
    "\n",
    "<blockquote>\n",
    "    <code>--runMode genomeGenerate</code>, to switch to indexing step, else STAR is by defaul turned to alignReads (mapping step) <br>\n",
    "    <code>--genomeDir</code>, to specify folder where to put reference genome indexes <br>\n",
    "    <code>--genomeFastaFiles</code>, fasta file reference genome path (DOES NOT work with gz files)"
   ]
  },
  {
   "cell_type": "markdown",
   "metadata": {
    "tags": []
   },
   "source": [
    "We are working on RNAseq data and need to have files that take splice junctions into account. Thus, we need to add following 2 parameters: <br>\n",
    "<code>--sjdbGTFfile path/to/annotation.file --sjdbOverhang readlengthnum</code>\n",
    "\n",
    "They stand for:\n",
    "<blockquote>\n",
    "    <code>--sjdbGTFfiles</code>, to specify where to find annotation file that contains exon positions, thus placing splice junction along genome sequence <br>\n",
    "    <code>--sjdbOverhang</code>, the maximum size that we expected to found on one splice junction side (<em>ideally, mate length-1</em>)\n",
    "</blockquote>\n",
    "\n",
    "For STAR, we can specify those two additional options either when genereating genome index files or when mapping sample. As we may be limited in computational ressources, we will add these items here and avoid memory-consuming operation repetition lately when iterating on all samples for mapping."
   ]
  },
  {
   "cell_type": "markdown",
   "metadata": {},
   "source": [
    "### **2.2 - Preparing command line variables**"
   ]
  },
  {
   "cell_type": "markdown",
   "metadata": {},
   "source": [
    "<div class=\"alert alert-block alert-warning\">The dataset used to develop this pipeline is based on reads sequenced on 100 bases.  \n",
    "If this is not the case for your dataset, change the value in Code cell 4.</div>"
   ]
  },
  {
   "cell_type": "raw",
   "metadata": {},
   "source": [
    "## (Code cell 19) ##\n",
    "\n",
    "rawreadlength=${rawreadlength}\n",
    "echo ${rawreadlength}\n",
    "#rawreadlength=100\n",
    "maxoneside=$((${rawreadlength}-1))"
   ]
  },
  {
   "cell_type": "markdown",
   "metadata": {},
   "source": [
    "We will then create a folder to put those specific genome index files, with an explicit name for later use:"
   ]
  },
  {
   "cell_type": "raw",
   "metadata": {},
   "source": [
    "## (Code cell 20) ##\n",
    "\n",
    "indexfolder=\"${gohome}alldata/Reference/indexes_upto${maxoneside}bases/\"\n",
    "mkdir -p ${indexfolder}"
   ]
  },
  {
   "cell_type": "markdown",
   "metadata": {},
   "source": [
    "Let's verify ``fastafile`` and ``gtffile`` variables, defined when extracting compressed files in Code cell 15.  "
   ]
  },
  {
   "cell_type": "raw",
   "metadata": {},
   "source": [
    "## (Code cell 21) ##\n",
    "\n",
    "echo ${fastafile}\n",
    "echo ${gtffile}  "
   ]
  },
  {
   "cell_type": "markdown",
   "metadata": {},
   "source": [
    "Let's verify, or set if not done in [**Parameters**'s section](#computressources), the **number of CPU** (central processing units, cores) and **RAM-memory size (in Bytes)** that next multithreading program is allowed to use.  \n",
    "<div class=\"alert alert-block alert-danger\">\n",
    "    <b>Following values are valid for a 16-CPU session with access to 70 GB of RAM</b>. Ideally, use 70-80% of the CPU amount your system or session has. DO NOT ask for more RAM than your can use.\n",
    "</div>"
   ]
  },
  {
   "cell_type": "raw",
   "metadata": {},
   "source": [
    "## (Code cell 22) ##\n",
    "\n",
    "authorizedCPU=${authorizedCPU}\n",
    "#authorizedCPU=13\n",
    "echo ${authorizedCPU}"
   ]
  },
  {
   "cell_type": "raw",
   "metadata": {},
   "source": [
    "## (Code cell 23) ##\n",
    "authorizedRAM=${authorizedRAM}\n",
    "#authorizedRAM=60000000000  # 60GB\n",
    "echo ${authorizedRAM}"
   ]
  },
  {
   "cell_type": "markdown",
   "metadata": {
    "tags": []
   },
   "source": [
    "If you have limited computer ressources, change following parameters directly in the command cell below or [set ``authorizedCPU`` and ``authorizedCPU`` values](#computressources) in Code cell 5 otherwise.\n",
    "<blockquote>\n",
    "    <code>--limitGenomeGenerateRAM</code>, to set maximum available RAM (in bytes, standing for <i>octets</i> in French) for genome generation (integer, positive and not null, default value: 31000000000) <br>\n",
    "    <code>--runThreadN</code>, to limit the number of threads that <code>STAR</code> can use. On the IFB, it has to be set to the number of available cores\n",
    "</blockquote>\n"
   ]
  },
  {
   "cell_type": "markdown",
   "metadata": {},
   "source": [
    "### **2.3 - Indexing Reference genome**"
   ]
  },
  {
   "cell_type": "raw",
   "metadata": {},
   "source": [
    "## (Code cell 24) ##\n",
    "\n",
    "logfile=\"${gohome}alldata/Reference/star_indexing_genome.log\""
   ]
  },
  {
   "cell_type": "raw",
   "metadata": {},
   "source": [
    "## (Code cell 25) ##\n",
    "\n",
    "echo \"Screen output is also redirected to ${logfile} for record\"\n",
    "\n",
    "echo \"=== starting genome indexing ...\" |& tee -a \"${logfile}\"\n",
    "echo \"operation started at $(date)\" >> ${logfile}\n",
    "\n",
    "time STAR --runThreadN ${authorizedCPU} --runMode genomeGenerate \\\n",
    "          --genomeDir \"${indexfolder}\" \\\n",
    "          --genomeFastaFiles \"${fastafile}\" \\\n",
    "          --sjdbGTFfile \"${gtffile}\" \\\n",
    "          --sjdbOverhang \"${maxoneside}\" \\\n",
    "          --limitGenomeGenerateRAM ${authorizedRAM} \\\n",
    "          |& tee -a \"${logfile}\"\n",
    "echo \"STAR indexing ended at $(date)\" >> ${logfile}\n",
    "\n",
    "# list files with their size\n",
    "ls -lh \"${indexfolder}\" >> ${logfile}\n",
    "\n",
    "echo \"... done\" |& tee -a \"${logfile}\""
   ]
  },
  {
   "cell_type": "markdown",
   "metadata": {},
   "source": [
    "If there is any issue, among all output files that STAR writes, start with ``Log.out``. It's a plain text file containing understood command line. It's quite verbose, that's very helpful!"
   ]
  },
  {
   "cell_type": "raw",
   "metadata": {},
   "source": [
    "## (Code cell 26) ##\n",
    "\n",
    "head -n 16 \"${indexfolder}Log.out\"\n",
    "tail -n 2 \"${indexfolder}Log.out\""
   ]
  },
  {
   "cell_type": "raw",
   "metadata": {},
   "source": [
    "## (Example output for Code cell 26)\n",
    "\n",
    "STAR version=2.7.11a\n",
    "STAR compilation time,server,dir=2023-09-15T02:58:53+0000 :/opt/conda/conda-bld/star_1694746407721/work/source\n",
    "##### Command Line:\n",
    "/shared/ifbstor1/software/miniconda/envs/star-2.7.11a/bin/STAR-avx2 --runThreadN 13 --runMode genomeGenerate --genomeDir /shared/projects/2413_rnaseq_cea/alldata/Reference/indexes_upto99bases/ --genomeFastaFiles /shared/projects/2413_rnaseq_cea/alldata/Reference/extracted/genome_sequence.fa --sjdbGTFfile /shared/projects/2413_rnaseq_cea/alldata/Reference/extracted/genome_annotation-M35.gtf --sjdbOverhang 99 --limitGenomeGenerateRAM 60000000000\n",
    "##### Initial USER parameters from Command Line:\n",
    "###### All USER parameters from Command Line:\n",
    "runThreadN                    13     ~RE-DEFINED\n",
    "runMode                       genomeGenerate        ~RE-DEFINED\n",
    "genomeDir                     /shared/projects/2413_rnaseq_cea/alldata/Reference/indexes_upto99bases/     ~RE-DEFINED\n",
    "genomeFastaFiles              /shared/projects/2413_rnaseq_cea/alldata/Reference/extracted/genome_sequence.fa        ~RE-DEFINED\n",
    "sjdbGTFfile                   /shared/projects/2413_rnaseq_cea/alldata/Reference/extracted/genome_annotation-M35.gtf     ~RE-DEFINED\n",
    "sjdbOverhang                  99     ~RE-DEFINED\n",
    "limitGenomeGenerateRAM        60000000000     ~RE-DEFINED\n",
    "##### Finished reading parameters from all sources\n",
    "\n",
    "##### Final user re-defined parameters-----------------:\n",
    "Jun 12 14:07:22 ..... finished successfully\n",
    "DONE: Genome generation, EXITING"
   ]
  },
  {
   "cell_type": "markdown",
   "metadata": {},
   "source": [
    "### **2.4 - Extracted Reference genome file removal**"
   ]
  },
  {
   "cell_type": "markdown",
   "metadata": {},
   "source": [
    "We can verify the disk space that Reference files use:"
   ]
  },
  {
   "cell_type": "raw",
   "metadata": {},
   "source": [
    "## (Code cell 27) ##\n",
    "\n",
    "du -h ${reffolder}\n",
    "ls -lh \"${reffolder}indexes_upto99bases\" "
   ]
  },
  {
   "cell_type": "markdown",
   "metadata": {},
   "source": [
    "Extracted genome file is no more used after this step, so we can remove it to save space:"
   ]
  },
  {
   "cell_type": "raw",
   "metadata": {},
   "source": [
    "## (Code cell 28) ##\n",
    "\n",
    "rm \"${reffolder}extracted/genome_sequence.fa\" \n",
    "du -h ${reffolder}\n",
    "ls -lh \"${reffolder}extracted/\" "
   ]
  },
  {
   "cell_type": "markdown",
   "metadata": {},
   "source": [
    "---\n",
    "---\n",
    "## 3 - Mapping samples on reference genome with <code>STAR</code></b>\n",
    "---"
   ]
  },
  {
   "cell_type": "markdown",
   "metadata": {},
   "source": [
    "### **3.1 - Tool version and command line presentation**"
   ]
  },
  {
   "cell_type": "markdown",
   "metadata": {},
   "source": [
    "A little stop to discover ``STAR`` version as you may have skiped genome indexing:"
   ]
  },
  {
   "cell_type": "code",
   "execution_count": null,
   "metadata": {},
   "outputs": [],
   "source": [
    "## Code cell 29 ##\n",
    "\n",
    "STAR --version"
   ]
  },
  {
   "cell_type": "markdown",
   "metadata": {},
   "source": [
    "A rather simple version of command line for mapping is: <br>\n",
    "<code>STAR --genomeDir path/to/indexes/folder/ \\\n",
    "      --readFilesIn path/to/read1.fastq.gz path/to/read2.fastq.gz \\\n",
    "      --readFilesCommand zcat \\\n",
    "      --outSAMtype BAM SortedByCoordinate \\\n",
    "      --quantMode GeneCounts \\\n",
    "</code>\n",
    "\n",
    "<blockquote>\n",
    "    <code>--readFilesIn</code> for <code>Read</code> (for Single End data) or both <code>Read1 Read2</code> (for Paired End data) as full paths to files that contain input read(s)  <br> \n",
    "    <code>--readFilesCommand</code>, to indicate the tool that can handle read file format. <code>STAR</code> allow user a direct use of compressed files but rely on available dezipping tools <br>\n",
    "    <br>\n",
    "    <code>--outSAMtype word1 word2</code>, to set output file format we want (default, SAM). <br>\n",
    "    Options for <code>word1</code> are <code>BAM</code>, <code>SAM</code> and <code>NoneNone</code> (no SAM/BAM output). <br>\n",
    "    Options for <code>word2</code> are <code>Unsorted</code> or <code>SortedByCoordinate</code>. This option will allocate extra memory for sorting which can be specified by <code>--limitBAMsortRAM</code>.<br>\n",
    "    <br>\n",
    "    <code>--quantMode</code> (default, <i>none</i>), to activate and ask for one or several quantification outputs.  <br>\n",
    "    Available options are: <code>GeneCounts</code> and <code>TranscriptomeSAM</code>. The latter will generate an output SAM/BAM alignments to transcriptome into a separate file while the former only generates a text file with count reads per gene.\n",
    "</blockquote>"
   ]
  },
  {
   "cell_type": "markdown",
   "metadata": {},
   "source": [
    "``_Aligned.toTranscriptome.out.bam`` generated files for downstream transcript level are as big or bigger than ``_Aligned.sortedByCoord.out.bam``.In addition, downstream quantification tools, including **FeatureCounts**, use the gene level files. We will focus thus focus on gene level quantification mode."
   ]
  },
  {
   "cell_type": "markdown",
   "metadata": {},
   "source": [
    "If you want to use transcript level quantification, we can use this option: <br>\n",
    "<code>--quantMode TranscriptomeSAM GeneCounts</code> ; or we recommand you to rather use the pseudomapping with Salmon that directly counts reads per transcripts !"
   ]
  },
  {
   "cell_type": "markdown",
   "metadata": {},
   "source": [
    "### **3.2- Preparing command line variables**"
   ]
  },
  {
   "cell_type": "markdown",
   "metadata": {},
   "source": [
    "Let's check that we still have all ``.fastq.gz`` files where we left them. We count files that do no include *_removed* in their name *(remember fastP removed reads)*:"
   ]
  },
  {
   "cell_type": "code",
   "execution_count": null,
   "metadata": {},
   "outputs": [],
   "source": [
    "## Code cell 30 ##\n",
    "\n",
    "ls \"${gohome}$USER/Results/fastp/\"\n",
    "ls \"${gohome}$USER/Results/fastp/\" | grep -v -e \"_removed\" | wc -l"
   ]
  },
  {
   "cell_type": "markdown",
   "metadata": {},
   "source": [
    "We also check that the variables in ``${gtffile}`` and ``${indexfolder}`` contain the proper path to Reference features and indexes: "
   ]
  },
  {
   "cell_type": "code",
   "execution_count": null,
   "metadata": {},
   "outputs": [],
   "source": [
    "## Code cell 31 ##\n",
    "\n",
    "reffolder=\"${gohome}alldata/Reference/\"\n",
    "gtffile=\"${reffolder}extracted/genome_annotation-M35.gtf\"\n",
    "indexfolder=\"${reffolder}indexes_upto99bases/\"\n",
    "\n",
    "\n",
    "ls -lh \"${indexfolder}\""
   ]
  },
  {
   "cell_type": "markdown",
   "metadata": {},
   "source": [
    "Now we create a destination folder for aligned ``.bam`` and other output files:"
   ]
  },
  {
   "cell_type": "code",
   "execution_count": null,
   "metadata": {},
   "outputs": [],
   "source": [
    "## Code cell 32 ##\n",
    "\n",
    "mappedfolder=\"${gohome}$USER/Results/star/\"\n",
    "mkdir -p ${mappedfolder}"
   ]
  },
  {
   "cell_type": "markdown",
   "metadata": {},
   "source": [
    "... and reset matching ``Results/`` destination folder for log files..."
   ]
  },
  {
   "cell_type": "code",
   "execution_count": null,
   "metadata": {},
   "outputs": [],
   "source": [
    "## Code cell 33 ##\n",
    "\n",
    "logfolder=\"${gohome}$USER/Results/logfiles/\""
   ]
  },
  {
   "cell_type": "markdown",
   "metadata": {},
   "source": [
    "Let's verify, or set if not done in [**Parameters**'s section](#computressources), the **number of CPU** (central processing units, cores) and **RAM-memory size (in Bytes)** that next multithreading program is allowed to use.  \n",
    "<div class=\"alert alert-block alert-danger\">\n",
    "    <b>Following values are valid for a 16-CPU session with access to 70 GB of RAM</b>. Ideally, use 70-80% of the CPU amount your system or session has. DO NOT ask for more RAM than your can use.\n",
    "</div>"
   ]
  },
  {
   "cell_type": "code",
   "execution_count": null,
   "metadata": {},
   "outputs": [],
   "source": [
    "## Code cell 34 ##\n",
    "\n",
    "authorizedCPU=${authorizedCPU}\n",
    "#authorizedCPU=13\n",
    "echo ${authorizedCPU}\n",
    "\n",
    "\n",
    "authorizedRAM=${authorizedRAM}\n",
    "#authorizedRAM=60000000000  # 60GB\n",
    "echo ${authorizedRAM}"
   ]
  },
  {
   "cell_type": "markdown",
   "metadata": {},
   "source": [
    "### **3.3- Running command line for mapping with <code>STAR</code>**"
   ]
  },
  {
   "cell_type": "markdown",
   "metadata": {},
   "source": [
    "If you have limited computer ressources, please change following parameters directly in the command cell below or [set ``authorizedCPU`` and ``authorizedRAM`` values](#computressources) in Code cell 5 otherwise. \n",
    "<blockquote>\n",
    "    <code>--limitBAMsortRAM</code>, to set maximum available RAM (in bytes, standing for <i>octets</i> in French) for sorting <code>.bam</code> file (integer, positive). <i>Note: Value can be null only if <code>--genomeLoad</code> option is unchanged, thus it will be set to the genome index size.</i> <br>\n",
    "    <code>--runThreadN</code>, to limit the number of threads that <code>STAR</code> can use, it has to be set to the number of available cores\n",
    "</blockquote>\n"
   ]
  },
  {
   "cell_type": "code",
   "execution_count": null,
   "metadata": {},
   "outputs": [],
   "source": [
    "## Code cell 35 ##\n",
    "\n",
    "logfile=\"${logfolder}star_mapping_3samples-M35.log\""
   ]
  },
  {
   "cell_type": "code",
   "execution_count": null,
   "metadata": {},
   "outputs": [],
   "source": [
    "## Code cell 36 ##\n",
    "\n",
    "echo \"Screen output is redirected to ${logfile}\"\n",
    "\n",
    "# as time command does not redirect output\n",
    "echo \"operation starts at $(date)\" >> ${logfile}\n",
    "\n",
    "time for read1 in $(ls \"${gohome}$USER/Results/fastp/\"*_1.fastp.fastq.gz); do\n",
    "\n",
    "    # handling names with the sample name\n",
    "    samplenum=$(basename ${read1} | cut -d\"_\" -f1)\n",
    "    echo \"====== Processing sampleID: ${samplenum}...\" | tee -a ${logfile}\n",
    "    read2=$(echo ${read1} | sed 's#_1#_2#')\n",
    "\n",
    "    echo \"STAR starts at $(date)\" >> ${logfile}\n",
    "    # STAR working\n",
    "    STAR --runThreadN ${authorizedCPU} --runMode alignReads \\\n",
    "        --genomeDir \"${indexfolder}\" \\\n",
    "        --readFilesIn \"${read1}\" \"${read2}\" \\\n",
    "        --readFilesCommand zcat \\\n",
    "        --outFileNamePrefix \"${mappedfolder}${samplenum}_\" \\\n",
    "        --outSAMtype BAM SortedByCoordinate \\\n",
    "        --outSAMattributes All \\\n",
    "        --outReadsUnmapped Fastx \\\n",
    "        --limitBAMsortRAM ${authorizedRAM} \\\n",
    "        --quantMode GeneCounts \\\n",
    "        |& tee -a ${logfile}\n",
    "    echo \"STAR ends at $(date)\" >> ${logfile}\n",
    "    \n",
    "    echo \"...done\" | tee -a ${logfile} \n",
    "done  "
   ]
  },
  {
   "cell_type": "code",
   "execution_count": null,
   "metadata": {},
   "outputs": [],
   "source": [
    "## Code cell 37 ##\n",
    "\n",
    "echo \"operation ends at $(date)\"\n",
    "echo \"operation ends at $(date)\" >> ${logfile}\n",
    "\n",
    "echo \"=== files created during mapping step ===\" >> ${logfile}\n",
    "ls -lh \"${mappedfolder}\" >> ${logfile}\n",
    "\n",
    "echo \"STAR generated $(ls \"${mappedfolder}\" | wc -l) files during this step.\" \\\n",
    "     | tee -a ${logfile}"
   ]
  },
  {
   "cell_type": "markdown",
   "metadata": {},
   "source": [
    "### **3.4 - Additionnal lines to perform single sample mapping**"
   ]
  },
  {
   "cell_type": "markdown",
   "metadata": {},
   "source": [
    "<div class=\"alert alert-block alert-info\"><b> Info/help : </b><br><ul>\n",
    "    <li>If you have <b>only one sample to map</b>, or if mapping failed for one sample, here is an additional Code cell without the loop:<a id=\"supplementalmapping\"></a></il>\n",
    "    <li>This additional cell can also be used to test mapping <b>at transcript level</b>:      \n",
    "option <code>--quantMode TranscriptomeSAM GeneCounts</code> </il></div> "
   ]
  },
  {
   "cell_type": "raw",
   "metadata": {},
   "source": [
    "## (Code cell 38) ##\n",
    "\n",
    "read1=\"${gohome}Results/fastp/SRR12730403_1.fastp.fastq.gz\"\n",
    "\n",
    "samplenum=$(basename ${read1} | cut -d\"_\" -f1)\n",
    "echo \"====== Processing sampleID: ${samplenum} for transcript-level mapping...\" | tee -a ${logfile}\n",
    "read2=$(echo ${read1} | sed 's#_1#_2#')\n",
    "\n",
    "echo \"STAR starts at $(date)\" >> ${logfile}\n",
    "# STAR working\n",
    "STAR --runThreadN ${authorizedCPU} --runMode alignReads \\\n",
    "    --genomeDir \"${indexfolder\n",
    "    }\" \\\n",
    "    --readFilesIn \"${read1}\" \"${read2}\" \\\n",
    "    --readFilesCommand zcat \\\n",
    "    --outFileNamePrefix \"${mappedfolder}${samplenum}_transcripts_\" \\\n",
    "    --outSAMtype BAM SortedByCoordinate \\\n",
    "    --outSAMattributes All \\\n",
    "    --outReadsUnmapped Fastx \\\n",
    "    --limitBAMsortRAM ${authorizedRAM} \\\n",
    "    --quantMode TranscriptomeSAM GeneCounts \\\n",
    "    |& tee -a ${logfile}\n",
    "echo \"STAR ends at $(date)\" >> ${logfile}\n",
    "\n",
    "echo \"...done\" | tee -a ${logfile}\n",
    "\n",
    "echo \"=== files created during SRR7430706 mapping step ===\" >> ${logfile}"
   ]
  },
  {
   "cell_type": "markdown",
   "metadata": {},
   "source": [
    "Then you can verify the output files with the name of the sample:"
   ]
  },
  {
   "cell_type": "raw",
   "metadata": {},
   "source": [
    "## (Code cell 39) ##\n",
    "\n",
    "ls -lh \"${mappedfolder}\" | grep \"SRR12730403\" >> ${logfile}"
   ]
  },
  {
   "cell_type": "markdown",
   "metadata": {},
   "source": [
    "---\n",
    "---\n",
    "\n",
    "## 4 - Building samples ``.bam`` indexes with ``samtools``\n",
    "---\n",
    "\n",
    "We now have to index ``.bam`` files to produce the companion index ``.bai`` file. Such index files help, in particular, to go faster to visualize alignements ``.bam`` file in genome browser viewer."
   ]
  },
  {
   "cell_type": "markdown",
   "metadata": {},
   "source": [
    "### **4.1 - Tool version**"
   ]
  },
  {
   "cell_type": "markdown",
   "metadata": {},
   "source": [
    "The commands used for this part belong to a large package of utilities that are very useful to manage those types of files: **SAMTOOLS** (http://www.htslib.org/).\n",
    "\n",
    "Let's check first which version of SAMTOOLS we are using:"
   ]
  },
  {
   "cell_type": "code",
   "execution_count": null,
   "metadata": {},
   "outputs": [],
   "source": [
    "## Code cell 40 ##\n",
    "\n",
    "samtools --version"
   ]
  },
  {
   "cell_type": "markdown",
   "metadata": {},
   "source": [
    "Simple commandline syntax is: <code>samtools index path/to/file.bam</code>\n",
    "  \n",
    "There is no need to provide a name of the ouput file, as it should always be the same as the corresponding ``.bam`` file, expect for the added ``.bai`` suffix."
   ]
  },
  {
   "cell_type": "markdown",
   "metadata": {
    "tags": []
   },
   "source": [
    "### **4.2 - Creating files**"
   ]
  },
  {
   "cell_type": "markdown",
   "metadata": {},
   "source": [
    "The only variable we need is the folder where ``.bam`` produced by <code>STAR</code> files are saved:"
   ]
  },
  {
   "cell_type": "code",
   "execution_count": null,
   "metadata": {},
   "outputs": [],
   "source": [
    "## Code cell 41 ##\n",
    "\n",
    "echo ${mappedfolder}"
   ]
  },
  {
   "cell_type": "markdown",
   "metadata": {},
   "source": [
    "Now, we use a loop to perform ``_Aligned.sortedByCoord.out.bam`` files indexation:"
   ]
  },
  {
   "cell_type": "code",
   "execution_count": null,
   "metadata": {},
   "outputs": [],
   "source": [
    "## Code cell 42 ##\n",
    "\n",
    "logfile=\"${logfolder}samtools_indexing_samples.log\"\n",
    "echo \"Screen output is redirected to ${logfile}\"\n",
    "\n",
    "# as time command does not redirect output\n",
    "echo \"operation starts at $(date)\" >> ${logfile}\n",
    "\n",
    "time for bamfile in $(ls \"${mappedfolder}\"*_Aligned.sortedByCoord.out.bam); do\n",
    "\n",
    "    samplenum=$(basename ${bamfile} | cut -d\"_\" -f1)\n",
    "    echo \"====== Processing sampleID: ${samplenum}...\" | tee -a ${logfile}\n",
    "    \n",
    "    echo \"samtools index starts at $(date)\" >> ${logfile}\n",
    "    samtools index \"${bamfile}\" \\\n",
    "             &>> ${logfile}\n",
    "    echo \"samtools index ends at $(date)\" >> ${logfile}\n",
    "    \n",
    "    echo \"...done\" | tee -a ${logfile} \n",
    "    \n",
    "done"
   ]
  },
  {
   "cell_type": "code",
   "execution_count": null,
   "metadata": {},
   "outputs": [],
   "source": [
    "## Code cell 43 ##\n",
    "\n",
    "echo \"operation ends at $(date)\"\n",
    "echo \"operation ends at $(date)\" >> ${logfile}\n",
    "\n",
    "echo \"=== files created during indexing step ===\" >> ${logfile}\n",
    "ls -lh \"${mappedfolder}\"*.bai >> ${logfile}\n",
    "\n",
    "echo \"samtools index generated $(ls \"${mappedfolder}\"*.bai | wc -l) files during this step.\" \\\n",
    "     | tee -a ${logfile}"
   ]
  },
  {
   "cell_type": "markdown",
   "metadata": {},
   "source": [
    "<div class=\"alert alert-block alert-warning\">\n",
    "    If one or more <code>.bai</code> files are missing, there should be an error in their matched <code>.bam</code> file. You then have a look into the generated <code>.log</code> file. <br>\n",
    "    When there is not enough disk space during mapping process, <code>.bam</code> file may be incomplete: you can find <i>missing EOF block when one should be present</i> error for this sample. <br>\n",
    "    In fact,you have to ensure before you start the mapping step that you have at least 5 times more space than one sample <code>.fastq</code> files size (or 10 times if you activate <code>TranscriptomeSAM</code> along with <code>GeneCounts</code>).\n",
    "</div>"
   ]
  },
  {
   "cell_type": "markdown",
   "metadata": {},
   "source": [
    "## 5 - Keep track of disk space usage"
   ]
  },
  {
   "cell_type": "code",
   "execution_count": null,
   "metadata": {},
   "outputs": [],
   "source": [
    "## Code cell 44 ##\n",
    "du -ch -d3 ${gohome}$USER"
   ]
  },
  {
   "cell_type": "markdown",
   "metadata": {},
   "source": [
    "For the current project, we can use up to 70 Gb in each personal folder. Next steps are less space consuming, but nervetheless, we will be able to delete the initial fastq.gz files when the mapping is verified (next session)."
   ]
  },
  {
   "cell_type": "markdown",
   "metadata": {},
   "source": [
    "---\n",
    "___\n",
    "\n",
    "## Conclusion\n",
    "\n",
    "\n",
    "**Next Practical session**"
   ]
  },
  {
   "cell_type": "markdown",
   "metadata": {},
   "source": [
    "Now we go on to check mapping quality.  \n",
    "  \n",
    "**=> Step 5: Post mapping Quality check** "
   ]
  },
  {
   "cell_type": "markdown",
   "metadata": {},
   "source": [
    "The jupyter notebook used for the next session will be *Pipe_05-bash_mapping-quality.ipynb*    \n",
    "Let's retrieve it in our directory, in order to have a private copy to work on:   "
   ]
  },
  {
   "cell_type": "code",
   "execution_count": null,
   "metadata": {
    "tags": []
   },
   "outputs": [],
   "source": [
    "## Code cell 45 ##   \n",
    "\n",
    "cp \"${gohome}pipeline/Pipe_05-bash_mapping-quality.ipynb\" \"${gohome}$USER/\""
   ]
  },
  {
   "cell_type": "markdown",
   "metadata": {},
   "source": [
    "\n",
    "\n",
    "**Save executed notebook**\n",
    "\n",
    "To end the session, save your exectued notebook in your `run_notebooks' folder. Adjust the name with yours and reformat as code cell to run it."
   ]
  },
  {
   "cell_type": "raw",
   "metadata": {
    "tags": []
   },
   "source": [
    "## Code cell 46 ##   \n",
    "#mkdir -p /shared/projects/2413_rnaseq_cea/$USER/run_notebooks\n",
    "cp /shared/projects/2413_rnaseq_cea/$USER/Pipe_04-bash_classical-reads-mapping.ipynb /shared/projects/2413_rnaseq_cea/$USER/run_notebooks/Pipe_04-bash_classical-reads-mapping-run.ipynb"
   ]
  },
  {
   "cell_type": "markdown",
   "metadata": {
    "tags": []
   },
   "source": [
    "<div class=\"alert alert-block alert-success\"><b>Success:</b> Well done! You now know how to map reads on a reference genome.<br>\n",
    "Don't forget to save you notebook and export a copy as an <b>html</b> file as well <br>\n",
    "- Open \"File\" in the Menu<br>\n",
    "- Select \"Export Notebook As\"<br>\n",
    "- Export notebook as HTML<br>\n",
    "- You can then open it in your browser even without being connected to the server! \n",
    "</div>"
   ]
  },
  {
   "cell_type": "markdown",
   "metadata": {},
   "source": [
    "---\n",
    "---"
   ]
  },
  {
   "cell_type": "markdown",
   "metadata": {
    "tags": []
   },
   "source": [
    "## Useful commands\n",
    "<div class=\"alert alert-block alert-info\"> \n",
    "    \n",
    "- <kbd>CTRL</kbd>+<kbd>S</kbd> : save notebook<br>    \n",
    "- <kbd>CTRL</kbd>+<kbd>ENTER</kbd> : Run Cell<br>  \n",
    "- <kbd>SHIFT</kbd>+<kbd>ENTER</kbd> : Run Cell and Select Next<br>   \n",
    "- <kbd>ALT</kbd>+<kbd>ENTER</kbd> : Run Cell and Insert Below<br>   \n",
    "- <kbd>ESC</kbd>+<kbd>y</kbd> : Change to *Code* Cell Type<br>  \n",
    "- <kbd>ESC</kbd>+<kbd>m</kbd> : Change to *Markdown* Cell Type<br> \n",
    "- <kbd>ESC</kbd>+<kbd>r</kbd> : Change to *Raw* Cell Type<br>    \n",
    "- <kbd>ESC</kbd>+<kbd>a</kbd> : Create Cell Above<br> \n",
    "- <kbd>ESC</kbd>+<kbd>b</kbd> : Create Cell Below<br> \n",
    "\n",
    "<em>  \n",
    "To make nice html reports with markdown: <a href=\"https://dillinger.io/\" title=\"dillinger.io\">html visualization tool 1</a> or <a href=\"https://stackedit.io/app#\" title=\"stackedit.io\">html visualization tool 2</a>, <a href=\"https://www.tablesgenerator.com/markdown_tables\" title=\"tablesgenerator.com\">to draw nice tables</a>, and the <a href=\"https://medium.com/analytics-vidhya/the-ultimate-markdown-guide-for-jupyter-notebook-d5e5abf728fd\" title=\"Ultimate guide\">Ultimate guide</a>. <br>\n",
    "Further reading on JupyterLab notebooks: <a href=\"https://jupyterlab.readthedocs.io/en/latest/user/notebook.html\" title=\"Jupyter Lab\">Jupyter Lab documentation</a>.<br>   \n",
    "</em>    \n",
    " \n",
    "</div>"
   ]
  },
  {
   "cell_type": "markdown",
   "metadata": {
    "tags": []
   },
   "source": [
    "---\n",
    "Bénédicte Noblet - 05-07 2021   \n",
    "Sandrine Caburet - 02-05 2023   \n",
    "Claire Vandiedonck - 01-06 2023  \n",
    "Maj 14/06/2024 by @CVandiedonck"
   ]
  }
 ],
 "metadata": {
  "kernelspec": {
   "display_name": "Bash",
   "language": "bash",
   "name": "bash"
  },
  "language_info": {
   "codemirror_mode": "shell",
   "file_extension": ".sh",
   "mimetype": "text/x-sh",
   "name": "bash"
  },
  "toc-autonumbering": false,
  "toc-showcode": false
 },
 "nbformat": 4,
 "nbformat_minor": 4
}

{
 "cells": [
  {
   "cell_type": "markdown",
   "metadata": {},
   "source": [
    "# Formation RNAseq CEA - juin 2023\n",
    "\n",
    "Session IFB : 5 CPU + 21 GB de RAM\n",
    "\n",
    "# Part 5: Mapping quality check"
   ]
  },
  {
   "cell_type": "markdown",
   "metadata": {},
   "source": [
    "  \n",
    "- 0.1 - About session for IFB core cluster\n",
    "- 0.2 -Parameters to be set or modified by the user\n",
    "- 1 - Some checks as a precaution with ``samtools``\n",
    "- 2 - Some metrics with ``samtools``\n",
    "- 3 - Some metrics and graphical results with ``Qualimap``\n",
    "- 4 - Summary report with ``MultiQC``\n",
    "- 5 - Monitoring disk usage"
   ]
  },
  {
   "cell_type": "markdown",
   "metadata": {},
   "source": [
    "After quite long running cells, I needed to start again an IFB session. The two additionnal loading sections of this notebook may not be required for your analyses:\n",
    "- <a href=\"#sectionIII.3.b\">section III.3.b</a>\n",
    "- <a href=\"#sectionIV.1.a\">section IV.1.a</a>  \n",
    "\n",
    "**If you use these sections**, change variable cell from *Raw* type to *Code* type before reproducing same changes to ``gohome`` and ``mappedfolder`` variables that you will do (or did) in **Parameter**'s section."
   ]
  },
  {
   "cell_type": "markdown",
   "metadata": {},
   "source": [
    "---\n",
    "## **Before going further**\n",
    "\n",
    "<div class=\"alert alert-block alert-danger\"><b>Caution:</b> \n",
    "Before starting the analysis, save a backup copy of this notebok : in the left-hand panel, right-click on this file and select \"Duplicate\"<br>\n",
    "You can also make backups during the analysis. Don't forget to save your notebook regularly: <kbd>Ctrl</kbd> + <kbd>S</kbd> or click on the 💾 icon.\n",
    "</div>"
   ]
  },
  {
   "cell_type": "markdown",
   "metadata": {},
   "source": [
    "---\n",
    "\n",
    "## 0.1 - About session for IFB core cluster\n",
    "\n",
    "<em>loaded JupyterLab</em> : Version 3.2.1"
   ]
  },
  {
   "cell_type": "code",
   "execution_count": 1,
   "metadata": {},
   "outputs": [
    {
     "name": "stdout",
     "output_type": "stream",
     "text": [
      "=== Cell launched on Thu May 25 09:53:47 CEST 2023 ===\n",
      "=== Current IFB session size: Medium (5 CPU, 21GB) ===\n",
      "       JobID  AllocCPUS        NodeList \n",
      "------------ ---------- --------------- \n",
      "33538881              5     cpu-node-82 \n",
      "33538881.ba+          5     cpu-node-82 \n",
      "33538881.0            5     cpu-node-82 \n"
     ]
    }
   ],
   "source": [
    "## Code cell 1 ##\n",
    "\n",
    "echo \"=== Cell launched on $(date) ===\"\n",
    "\n",
    "echo \"=== Current IFB session size: Medium (5 CPU, 21GB) ===\"\n",
    "jobid=$(squeue -hu $USER | awk '/jupyter/ {print $1}')\n",
    "sacct --format=JobID,AllocCPUS,NODELIST -j ${jobid}\n"
   ]
  },
  {
   "cell_type": "code",
   "execution_count": 2,
   "metadata": {},
   "outputs": [
    {
     "name": "stdout",
     "output_type": "stream",
     "text": [
      "===== quality control & bam sorting =====\n",
      "samtools 1.15.1\n",
      "Using htslib 1.15.1\n",
      "===== graphical quality controls =====\n",
      "Java memory size is set to 1200M\n",
      "Launching application...\n",
      "\n",
      "QualiMap v.2.2.2-dev\n",
      "===== quality reports compilation =====\n",
      "multiqc, version 1.13\n"
     ]
    }
   ],
   "source": [
    "## Code cell 2 ##\n",
    "\n",
    "module load samtools/1.15.1 qualimap/2.2.2b multiqc/1.13\n",
    "\n",
    "echo \"===== quality control & bam sorting =====\"\n",
    "samtools --version | head -n 2\n",
    "echo \"===== graphical quality controls =====\"\n",
    "qualimap --help | head -n 4\n",
    "echo \"===== quality reports compilation =====\"\n",
    "multiqc --version"
   ]
  },
  {
   "cell_type": "markdown",
   "metadata": {},
   "source": [
    "---\n",
    "\n",
    "## 0.2 - Parameters to be set or modified by the user"
   ]
  },
  {
   "cell_type": "markdown",
   "metadata": {},
   "source": [
    "- Using a full path with a `/` at the end, **define the folder** where you want or have to work with `gohome` variable:"
   ]
  },
  {
   "cell_type": "code",
   "execution_count": 3,
   "metadata": {},
   "outputs": [
    {
     "name": "stdout",
     "output_type": "stream",
     "text": [
      "=== Home root folder is ===\n",
      "/shared/projects/2312_rnaseq_cea/\n",
      "\n",
      "=== Working (personal) folder tree ===\n",
      "/shared/projects/2312_rnaseq_cea/scaburet\n",
      "├── Data\n",
      "│   ├── fastq\n",
      "│   ├── sra\n",
      "│   ├── sra-files_creation_fastqgz.log\n",
      "│   ├── sra-files_integrity.log\n",
      "│   └── sra-files_retrieval.log\n",
      "├── Pipe_5-bash_mapping-quality.ipynb\n",
      "└── Results\n",
      "    ├── fastp\n",
      "    ├── fastqc\n",
      "    ├── fastq_screen\n",
      "    ├── logfiles\n",
      "    ├── multiqc\n",
      "    ├── qualimap\n",
      "    ├── samtools\n",
      "    ├── star\n",
      "    └── star-old\n",
      "\n",
      "13 directories, 4 files\n",
      "=== current working directory ===\n",
      "/shared/ifbstor1/projects/2312_rnaseq_cea/pipeline\n"
     ]
    }
   ],
   "source": [
    "## Code cell 3 ##\n",
    "\n",
    "gohome=\"/shared/projects/2312_rnaseq_cea/\"\n",
    "\n",
    "echo \"=== Home root folder is ===\"\n",
    "echo \"${gohome}\"\n",
    "echo \"\"\n",
    "echo \"=== Working (personal) folder tree ===\"\n",
    "tree -L 2 \"${gohome}$USER\"\n",
    "echo \"=== current working directory ===\"\n",
    "echo \"${PWD}\""
   ]
  },
  {
   "cell_type": "markdown",
   "metadata": {},
   "source": [
    "- Precise the **maximum amount of CPU** (central processing units, cores) and **RAM-memory (in Bytes)** that programs can use.<a id=\"computressources\"></a>"
   ]
  },
  {
   "cell_type": "code",
   "execution_count": 4,
   "metadata": {},
   "outputs": [],
   "source": [
    "## Code cell 4 ##\n",
    "\n",
    "authorizedCPU=4\n",
    "\n",
    "authorizedRAM=20000000000  # 20GB"
   ]
  },
  {
   "cell_type": "markdown",
   "metadata": {
    "tags": []
   },
   "source": [
    "- This notebook contains heavy running cells in <a href=\"#section3.2\">section 3.2</a> so make sure before you launch these cells that they are adapted to your environment. <br>\n",
    "For Samtools, the ``-m`` option is the **RAM memory size that will be used by each thread**! <br>\n",
    "<blockquote>\n",
    "        See option <code>--java-mem-size=20G</code> in Qualimap lines, <a href=\"#section3.2\">section 3.2</a> <br>\n",
    "        See options <code>--threads 4 -m 5G</code> in Samtools line, <a href=\"#section3.3\">section 3.3.b</a>\n",
    "</blockquote>\n",
    "\n",
    "<div class=\"alert alert-block alert-danger\">\n",
    "    <b>Values set in this notebook are valid for a 5-CPU session with access to 21 GB of RAM</b>. Ideally, use 70-80% of the CPU amount your system or session has. <br>\n",
    "    DO NOT ask for more RAM than you can use.\n",
    "</div>"
   ]
  },
  {
   "cell_type": "markdown",
   "metadata": {},
   "source": [
    "- With a `/` at the end, precise the folder where alignment ``_ALigned.SortedByCoord.out.bam`` files (produced by ``STAR``) are:"
   ]
  },
  {
   "cell_type": "code",
   "execution_count": 5,
   "metadata": {},
   "outputs": [],
   "source": [
    "## Code cell 5 ##\n",
    "\n",
    "mappedfolder=\"${gohome}allData/Results/star/\"\n",
    "\n",
    "#mappedfolder=\"${gohome}$USER/Results/star/\""
   ]
  },
  {
   "cell_type": "markdown",
   "metadata": {},
   "source": [
    "- Reset the path to uncompressed annotation file, especially if you changed it in previous notebook."
   ]
  },
  {
   "cell_type": "code",
   "execution_count": 6,
   "metadata": {},
   "outputs": [],
   "source": [
    "## Code cell 6 ##\n",
    "\n",
    "gtffile=\"${gohome}allData/Reference/extracted/genome_annotation.gtf\""
   ]
  },
  {
   "cell_type": "markdown",
   "metadata": {},
   "source": [
    "- Comment will later be included in Quality report to keep analysis informations handy. **Beware to adapt ``mycomment`` variable text** in [section 4.1.c](#multiqctextvar) before launching MultiQC report generation."
   ]
  },
  {
   "cell_type": "markdown",
   "metadata": {},
   "source": [
    "---\n",
    "## 1 - Some checks as a precaution with <code>samtools</code>"
   ]
  },
  {
   "cell_type": "markdown",
   "metadata": {},
   "source": [
    "### **1.1 - Available files**"
   ]
  },
  {
   "cell_type": "markdown",
   "metadata": {},
   "source": [
    "As we change session or even day, let's first check all files are there:"
   ]
  },
  {
   "cell_type": "code",
   "execution_count": 84,
   "metadata": {},
   "outputs": [
    {
     "name": "stdout",
     "output_type": "stream",
     "text": [
      "mappedfolder is /shared/projects/2312_rnaseq_cea/allData/Results/star/\n",
      "There are 11 bam files in it:\n",
      "/shared/projects/2312_rnaseq_cea/allData/Results/star/SRR12730403_Aligned.sortedByCoord.out.bam\n",
      "/shared/projects/2312_rnaseq_cea/allData/Results/star/SRR12730404_Aligned.sortedByCoord.out.bam\n",
      "/shared/projects/2312_rnaseq_cea/allData/Results/star/SRR12730405_Aligned.sortedByCoord.out.bam\n",
      "/shared/projects/2312_rnaseq_cea/allData/Results/star/SRR12730406_Aligned.sortedByCoord.out.bam\n",
      "/shared/projects/2312_rnaseq_cea/allData/Results/star/SRR12730407_Aligned.sortedByCoord.out.bam\n",
      "/shared/projects/2312_rnaseq_cea/allData/Results/star/SRR12730408_Aligned.sortedByCoord.out.bam\n",
      "/shared/projects/2312_rnaseq_cea/allData/Results/star/SRR12730409_Aligned.sortedByCoord.out.bam\n",
      "/shared/projects/2312_rnaseq_cea/allData/Results/star/SRR12730410_Aligned.sortedByCoord.out.bam\n",
      "/shared/projects/2312_rnaseq_cea/allData/Results/star/SRR12730411_Aligned.sortedByCoord.out.bam\n",
      "/shared/projects/2312_rnaseq_cea/allData/Results/star/SRR12730412_Aligned.sortedByCoord.out.bam\n",
      "/shared/projects/2312_rnaseq_cea/allData/Results/star/SRR12730413_Aligned.sortedByCoord.out.bam\n"
     ]
    }
   ],
   "source": [
    "## Code cell 7 ##\n",
    "\n",
    "mappedfolder=${mappedfolder}\n",
    "#mappedfolder=\"${gohome}$USER/Results/star/\"\n",
    "\n",
    "echo \"mappedfolder is \"${mappedfolder}\n",
    "echo \"There are $(ls \"${mappedfolder}\"*_Aligned.sortedByCoord.out.bam | wc -l) bam files in it:\"\n",
    "ls \"${mappedfolder}\"*_Aligned.sortedByCoord.out.bam"
   ]
  },
  {
   "cell_type": "markdown",
   "metadata": {},
   "source": [
    "### **1.2 - Examining data files: are they what we expect?**"
   ]
  },
  {
   "cell_type": "markdown",
   "metadata": {},
   "source": [
    "These files are smaller that ``.sam`` files as they are binary ones... but we can't see inside without a specific tool (``samtools view``) included in ``samtools``suite."
   ]
  },
  {
   "cell_type": "code",
   "execution_count": 85,
   "metadata": {},
   "outputs": [
    {
     "name": "stdout",
     "output_type": "stream",
     "text": [
      "samtools 1.15.1\n",
      "Using htslib 1.15.1\n"
     ]
    }
   ],
   "source": [
    "## Code cell 8 ##\n",
    "\n",
    "samtools --version | head -n 2"
   ]
  },
  {
   "cell_type": "markdown",
   "metadata": {},
   "source": [
    "We list the files in the folder and ask for only the first line (``-n 1``) to get one sample:"
   ]
  },
  {
   "cell_type": "code",
   "execution_count": 86,
   "metadata": {},
   "outputs": [
    {
     "name": "stdout",
     "output_type": "stream",
     "text": [
      "/shared/projects/2312_rnaseq_cea/allData/Results/star/SRR12730403_Aligned.sortedByCoord.out.bam\n"
     ]
    }
   ],
   "source": [
    "## Code cell 9 ##\n",
    "\n",
    "abamfile=$(ls \"${mappedfolder}\"*_Aligned.sortedByCoord.out.bam | head -n 1)\n",
    "echo ${abamfile}"
   ]
  },
  {
   "cell_type": "code",
   "execution_count": 87,
   "metadata": {},
   "outputs": [
    {
     "name": "stdout",
     "output_type": "stream",
     "text": [
      "SRR12730403.44571836\t99\tchr1\t3111929\t255\t101M\t=\t3112269\t441\tCTGATAAGCAGCTTCGGTGAAGTAGCTGGATATAAAATAAACTCAAACAAGTCAATGGCCTTTCTCTATACAAAGAATAAACAGGCTGAGAAAGAAATTAG\tFFFFFFFFFFFFFFFFFFFFFFFFFFFFFFF:FF:FFFFFFFFFFF,FFFFFFFFFFFFFFFFFFFFFFFFFFFFFFFFFFFFFFFFFFFFFFFFFFFFFF\tNH:i:1\tHI:i:1\tAS:i:198\tnM:i:1\tNM:i:1\tMD:Z:7A93\tjM:B:c,-1\tjI:B:i,-1\tMC:Z:101M\n",
      "SRR12730403.44571836\t147\tchr1\t3112269\t255\t101M\t=\t3111929\t-441\tATTCTTCAACGAATTAGAAGGAGCAATTTGCAAATTCAGCTGGAATAACAAAAAACCTAGGATAGCAAAAAGTCTTCTCAAGGATAAAAGAACCTCTGGTG\tFFFFFFFFFF,F,FFFF:FFFFFFF:,:F,FFFFFFFF,FFFFF,FFFF:FF,,F:FF,FFF,FFFF:FF,FF::FFFFF::F,:FFFFF:,FFF:FFFF:\tNH:i:1\tHI:i:1\tAS:i:198\tnM:i:1\tNM:i:0\tMD:Z:101\tjM:B:c,-1\tjI:B:i,-1\tMC:Z:101M\n",
      "SRR12730403.6920683\t163\tchr1\t3225116\t3\t101M\t=\t3225152\t137\tCTGTGGAAAAAACAGGGATGAGGAGGAACGACTTCCAGCTCCTATTTTAGCCACAAATCGTGGTGTTACTAATGACATAATTCTTGCCTAGGTCTTGCTAA\tFFFFFFFFFFFFFFFFFFFFFFFFFFFFFFFFFFFFFFFFFFFFFFFFFFFFFFFFFFFFFFFFFFFFFFFFFFFFFFFFFFFFFFFFFFFFFFFFFFFFF\tNH:i:2\tHI:i:1\tAS:i:200\tnM:i:0\tNM:i:0\tMD:Z:101\tjM:B:c,-1\tjI:B:i,-1\tMC:Z:101M\n",
      "SRR12730403.6920683\t83\tchr1\t3225152\t3\t101M\t=\t3225116\t-137\tAGCTCCTATTTTAGCCACAAATCGTGGTGTTACTAATGACATAATTCTTGCCTAGGTCTTGCTAAATCTGAGGTTGATAATTCTCCTTTAGGAGCTGCACA\tFFFFFFFFFFF:FFFFFFFFFFFFFFFFFFFFFFFFFFFFFFFFFFFFFFFFFFFFFFFFFFFFFFFFFFFFFFFFFFFFFFFFFFFFFFFFFFFFFFFFF\tNH:i:2\tHI:i:1\tAS:i:200\tnM:i:0\tNM:i:0\tMD:Z:101\tjM:B:c,-1\tjI:B:i,-1\tMC:Z:101M\n",
      "SRR12730403.6920681\t419\tchr1\t3225157\t1\t101M\t=\t3225196\t140\tCTATTTTAGCCACAAATCGTGGTGTTACTAATGACATAATTCTTGCCTAGGTCTTGCTAAATCTGAGGTTGATAATTCTCCTTTAGGAGCTGCACAGCACT\tFFFF::,FFFFFFFFFFFFF,F,FFFFFFFFF:FFFFFFFF,FF:FFFFF:FFFFFFFFFFFFFFFFFFFFFFFFF:F:FFFFFFF:FF:FFFFFFFFFFF\tNH:i:3\tHI:i:2\tAS:i:200\tnM:i:0\tNM:i:0\tMD:Z:101\tjM:B:c,-1\tjI:B:i,-1\tMC:Z:101M\n",
      "SRR12730403.6920681\t339\tchr1\t3225196\t1\t101M\t=\t3225157\t-140\tTTCTTGCCTAGGTCTTGCTAAATCTGAGGTTGATAATTCTCCTTTAGGAGCTGCACAGCACTCAGAACTGTGCATACTGGTTTGTGATTGTACAAATTCAG\tFFFFFFFFFF:FFFFFFFFFFFF:FFFFFFFFFFFFFFFFFFF,F:FFFFFFFFFFFFFFFFFFFFFFFFFFFFF:FFFFFF:FFFFFFFFFFFFFFF:FF\tNH:i:3\tHI:i:2\tAS:i:200\tnM:i:0\tNM:i:0\tMD:Z:101\tjM:B:c,-1\tjI:B:i,-1\tMC:Z:101M\n",
      "SRR12730403.48514884\t163\tchr1\t3344762\t255\t101M\t=\t3344918\t257\tCCACAGGAAAGGATCTTCTTATCGGACATCGGAGCAACGGACAGGTACACATGCTAGCGCTAGCTTAAAATTTCAGTTTTGTAAAGTGTTGCTGAGGATGC\tFFFFFFFFFF,FF:FFFF,FFF:F:F,FFF,FFF,:FF:FFFF:,FFFFF:FFFFFF,FFFFFFFFFFF,FFFFFFF,F::FF:::F::FFFFFF::FFFF\tNH:i:1\tHI:i:1\tAS:i:182\tnM:i:9\tNM:i:3\tMD:Z:18G4A13T63\tjM:B:c,-1\tjI:B:i,-1\tMC:Z:101M\n",
      "SRR12730403.48514884\t83\tchr1\t3344918\t255\t101M\t=\t3344762\t-257\tGTCAGCAGCGTGTTAATCGGAACTAGAAACGGAAACAGTCAGGTTAGCCGCAGCTTTTTAGGAAGCTGCTTAGTTGGAAGAAGAAAGGGTTTAAAGTCATG\tFFF,,,FF,:FFFF,,F::FF,FF,F:::,:,FF:,FF,F::FFFFFF,::FFFFFFF:F,F,FF,F,,FF,F,F,,FF:F,FFF:FFFFFF:FFFF,FFF\tNH:i:1\tHI:i:1\tAS:i:182\tnM:i:9\tNM:i:6\tMD:Z:9A24G3G6G15A11G27\tjM:B:c,-1\tjI:B:i,-1\tMC:Z:101M\n",
      "SRR12730403.10555531\t355\tchr1\t3415321\t1\t101M\t=\t3415552\t333\tCCCAGGTCTGCTGAGAGACAGTAACAGAATCACCAGAAGAACAATCTCTAAACAGAGTCAACTATAACTACTAACTCCAGAGATTACCAGATGGCGAAAGG\tFFFFFFFFFFFFFFFFFFFFFFFFFFFFFFFFFFFFFFFFFFFFFFFFFFFF:FFFFFFFFFFFFFFFFFFFFFFFFFFFFFFFFFFFFFFFFFFFFFFFF\tNH:i:4\tHI:i:3\tAS:i:192\tnM:i:2\tNM:i:1\tMD:Z:19G81\tjM:B:c,-1\tjI:B:i,-1\tMC:Z:53M1D48M\n",
      "SRR12730403.10555531\t403\tchr1\t3415552\t1\t53M1D48M\t=\t3415321\t-333\tATGATGATGGTAGAGGACATCAAGAAGGAATTTAATAAATCACTTAAAGAAATAAGGAGAACACTGCTAAAGAGTTACAAGTCCTTAAAGAAAAACAGGAA\tFFFFF:FF:FFFFFFFF:FFFFFFFF,FF,FFFFFFFFFF:F,FFFFFFFFFF,F,FF:FFF:FFFFFFFF:FFFFFFFF:FFFFFFFFFFF:F,FF:FFF\tNH:i:4\tHI:i:3\tAS:i:192\tnM:i:2\tNM:i:2\tMD:Z:29C23^A48\tjM:B:c,-1\tjI:B:i,-1\tMC:Z:101M\n",
      "samtools view: writing to standard output failed: Broken pipe\n",
      "samtools view: error closing standard output: -1\n"
     ]
    }
   ],
   "source": [
    "## Code cell 10 ##\n",
    "\n",
    "samtools view ${abamfile} | head"
   ]
  },
  {
   "cell_type": "markdown",
   "metadata": {},
   "source": [
    "<ul class=\"alert alert-block alert-info\">\n",
    "    <li>\n",
    "        For more information on BAM file format, see <a href=\"https://biocorecrg.github.io/RNAseq_course_2019/alnpractical.html\"><i>BAM/SAM/CRAM format</i></a> section of another training course made by Barcelona's CRG Biocore Facility members on 2019.\n",
    "    </li>\n",
    "    <li>\n",
    "        To understand, or at least know what is inside alignment quality scores, the Broad Institute's tool <a href=\"https://broadinstitute.github.io/picard/explain-flags.html\">Explain SAM Flags</a> may be helpfull!\n",
    "    </li>\n",
    "    <li>\n",
    "        To convert flags between numeric and textual representation, you may also use <code>samtools flags</code>, see <a href=\"http://www.htslib.org/doc/samtools.html\">online manual</a>.\n",
    "    </li>\n",
    "</ul>"
   ]
  },
  {
   "cell_type": "markdown",
   "metadata": {},
   "source": [
    "### **1.3 - Checking `.bam` files integrity**"
   ]
  },
  {
   "cell_type": "markdown",
   "metadata": {},
   "source": [
    "You may join this pipeline with your own `.bam` files, either generated from another alignment tool or directly downloaded from network.  \n",
    "Alternatively, you may have issues with `STAR` and some of your files may be corrupted.  \n",
    "\n",
    "So, to start off on the right foot, let's check that files are correct. To that purpose, `samtools` will once again help us to deal with `.bam` files."
   ]
  },
  {
   "cell_type": "code",
   "execution_count": 88,
   "metadata": {},
   "outputs": [
    {
     "name": "stdout",
     "output_type": "stream",
     "text": [
      "Screen output is redirected to /shared/projects/2312_rnaseq_cea/allData/Results/star/samtools_quickcheck_bamfiles.log\n",
      "All files are goods.\n"
     ]
    }
   ],
   "source": [
    "## Code cell 11 ##\n",
    "\n",
    "logfile=\"${mappedfolder}samtools_quickcheck_bamfiles.log\"\n",
    "echo \"Screen output is redirected to ${logfile}\"\n",
    "\n",
    "# as time command does not redirect output\n",
    "echo \"operation starts at $(date)\" >> ${logfile}\n",
    "\n",
    "samtools quickcheck -vvv \"${mappedfolder}\"*_Aligned.sortedByCoord.out.bam \\\n",
    "            &>> ${logfile}\n",
    "echo \"operation ends at $(date)\" >> ${logfile}            \n",
    "\n",
    "# to print user's message (samtools quickcheck is really quick!) and record it\n",
    "samtools quickcheck \"${mappedfolder}\"*_Aligned.sortedByCoord.out.bam \\\n",
    "            && inbrief=\"All files are goods.\" \\\n",
    "            || inbrief=\"At least one file is corrupted, see logfile.\"\n",
    "echo ${inbrief} | tee -a ${logfile}"
   ]
  },
  {
   "cell_type": "markdown",
   "metadata": {},
   "source": [
    "<div class=\"alert alert-block alert-warning\">\n",
    "    <b>If there is an issue with your files</b>, you should start again previous steps for corrupted file(s). Indeed, some downstream tools may work but <code>samtools</code> will fail. Besides, you wouldn't be confident with generated results: <b>save time, take some before losing later!</b>\n",
    "</div>"
   ]
  },
  {
   "cell_type": "markdown",
   "metadata": {},
   "source": [
    "## 2 - Some metrics with <code>samtools</code>"
   ]
  },
  {
   "cell_type": "markdown",
   "metadata": {},
   "source": [
    "The commands used for this part belong to a large package of utilities that are very useful to manage those types of files: Samtools (http://www.htslib.org/)."
   ]
  },
  {
   "cell_type": "markdown",
   "metadata": {},
   "source": [
    "### **2.1 - Preparing command line variables**\n",
    "\n",
    "An option would be to save results files along with `.bam` files but it's not the best idea to have a lot of files in one folder (especially when saving them, along with long list handling). So we will save the output files to another folder."
   ]
  },
  {
   "cell_type": "code",
   "execution_count": 89,
   "metadata": {},
   "outputs": [],
   "source": [
    "## Code cell 12 ##\n",
    "\n",
    "samtoolsfolder=\"${gohome}allData/Results/samtools/\"\n",
    "\n",
    "#samtoolsfolder=\"${gohome}$USER/Results/samtools/\"\n",
    "mkdir -p ${samtoolsfolder}"
   ]
  },
  {
   "cell_type": "markdown",
   "metadata": {},
   "source": [
    "Count files are *per se* the interesting outputs but, if there is any issue will or for duration information, we nonetheless keep some details into a `.log` file saved with the others reports."
   ]
  },
  {
   "cell_type": "code",
   "execution_count": 13,
   "metadata": {},
   "outputs": [],
   "source": [
    "## Code cell 13 ##\n",
    "\n",
    "logfolder=\"${gohome}allData/Results/logfiles/\"\n",
    "\n",
    "#logfolder=\"${gohome}$USER/Results/logfiles/\""
   ]
  },
  {
   "cell_type": "markdown",
   "metadata": {},
   "source": [
    "### **2.2 - Running command line for <code>samtools</code> metrics**"
   ]
  },
  {
   "cell_type": "markdown",
   "metadata": {},
   "source": [
    "<div class=\"alert alert-block alert-danger\">\n",
    "    In the loop below, we select files with name ending with <code>_sortedByCoord.out.bam</code> pattern. <br>\n",
    "    Indeed, <code>STAR</code> produces a second <code>.bam</code> file if you asked for transcripts counts using <code>TranscriptomeSAM</code> quantification mode. The suffix for this second filename is <code>_Aligned.toTranscriptome.out.bam</code>: it's not a standardized one as reads are sorted by transcript name instead of chromosome position. <br>\n",
    "    <b>If you did not use previous notebook as initially set, please remove or adapt <code>_sortedByCoord.out</code> in the fifth line below, in order that filename pattern suits your filename format.</b>\n",
    "</div>"
   ]
  },
  {
   "cell_type": "code",
   "execution_count": null,
   "metadata": {},
   "outputs": [
    {
     "name": "stdout",
     "output_type": "stream",
     "text": [
      "Screen output is redirected to /shared/projects/2312_rnaseq_cea/allData/Results/logfiles/samtools_stats_flagstat_bamfiles.log\n",
      "======= Processing sampleID: SRR12730403...\n",
      "... done\n",
      "======= Processing sampleID: SRR12730404...\n",
      "... done\n",
      "======= Processing sampleID: SRR12730405...\n",
      "... done\n",
      "======= Processing sampleID: SRR12730407...\n",
      "... done\n",
      "======= Processing sampleID: SRR12730408...\n",
      "... done\n",
      "======= Processing sampleID: SRR12730409...\n",
      "... done\n",
      "======= Processing sampleID: SRR12730410...\n",
      "... done\n",
      "======= Processing sampleID: SRR12730411...\n",
      "... done\n",
      "======= Processing sampleID: SRR12730412...\n",
      "... done\n",
      "======= Processing sampleID: SRR12730413...\n"
     ]
    }
   ],
   "source": [
    "## Code cell 14 ##\n",
    "\n",
    "logfile=\"${logfolder}samtools_stats_flagstat_bamfiles.log\"\n",
    "echo \"Screen output is redirected to ${logfile}\"\n",
    "\n",
    "# as time command does not redirect output\n",
    "echo \"operation starts at $(date)\" >> ${logfile}\n",
    "\n",
    "time for fn in $(ls \"${mappedfolder}\"*_Aligned.sortedByCoord.out.bam); do\n",
    "\n",
    "    mysortedbam=$(basename ${fn})\n",
    "    id=${mysortedbam/_Aligned.sortedByCoord.out.bam/}\n",
    "    echo \"======= Processing sampleID: ${id}...\" | tee -a ${logfile}\n",
    "\n",
    "    statsfile=\"${samtoolsfolder}${id}.stats\"\n",
    "    echo \"$(date) starting ${statsfile}\" >> ${logfile}\n",
    "    samtools stats ${fn} > ${statsfile}\n",
    "\n",
    "    flagsfile=\"${samtoolsfolder}${id}.flagstat\"\n",
    "    echo \"$(date) starting ${flagsfile}\" >> ${logfile}\n",
    "    samtools flagstat ${fn} > ${flagsfile}\n",
    "    \n",
    "    echo \"... done\" | tee -a ${logfile}\n",
    "\n",
    "done\n",
    "\n",
    "echo \"operation ends at $(date)\" >> ${logfile}\n",
    "\n",
    "echo \"=== files created after samtools counts ===\" >> ${logfile}\n",
    "ls -lh \"${samtoolsfolder}\" >> ${logfile}\n",
    "\n",
    "echo \"There are $(ls \"${samtoolsfolder}\" | wc -l) output files.\""
   ]
  },
  {
   "cell_type": "markdown",
   "metadata": {},
   "source": [
    "## 3 - Some metrics and graphical results with Qualimap"
   ]
  },
  {
   "cell_type": "markdown",
   "metadata": {},
   "source": [
    "### **3.1 - Tool introduction and preparation step**"
   ]
  },
  {
   "cell_type": "markdown",
   "metadata": {},
   "source": [
    "We'll run the QUALIMAP program (http://qualimap.conesalab.org/), that collects the data about the `.bam file`, including coverage estimation and many other parameters, and reports a summary of the main properties of the alignment data. QUalimap reads `.sorted.bam` files and generates a folder containing a report on `.html` format.\n",
    "\n",
    "As you can see from the next command to know which version we are running, Qualimap includes several tools. We will be using the classical bamqc tool which can work on any kind of NGS .bam files. Of note, there is also a rnaqc tool which is dedicated to RNASeq data but it fails to run with C. Parapsilosis annotations."
   ]
  },
  {
   "cell_type": "code",
   "execution_count": 19,
   "metadata": {},
   "outputs": [
    {
     "name": "stdout",
     "output_type": "stream",
     "text": [
      "Java memory size is set to 1200M\n",
      "Launching application...\n",
      "\n",
      "QualiMap v.2.2.2-dev\n",
      "Built on 2017-08-28 08:37\n",
      "\n",
      "usage: qualimap <tool> [options]\n",
      "\n",
      "To launch GUI leave <tool> empty.\n",
      "\n",
      "Available tools:\n",
      "\n",
      "    bamqc            Evaluate NGS mapping to a reference genome\n",
      "    rnaseq           Evaluate RNA-seq alignment data\n",
      "    counts           Counts data analysis (further RNA-seq data evaluation)\n",
      "    multi-bamqc      Compare QC reports from multiple NGS mappings\n",
      "    clustering       Cluster epigenomic signals\n",
      "    comp-counts      Compute feature counts\n",
      "\n",
      "Special arguments: \n",
      "\n",
      "    --java-mem-size  Use this argument to set Java memory heap size. Example:\n",
      "                     qualimap bamqc -bam very_large_alignment.bam --java-mem-size=4G\n",
      "\n"
     ]
    }
   ],
   "source": [
    "## Code cell 15 ##\n",
    "\n",
    "qualimap --help"
   ]
  },
  {
   "cell_type": "markdown",
   "metadata": {},
   "source": [
    "> Remark: QUALIMAP can also be launched on most OS using a command line that will open a user-friendly Java window. On Mac or Windows, you may have to modify the memory RAMs to run it. It is all explained in the documentation."
   ]
  },
  {
   "cell_type": "markdown",
   "metadata": {},
   "source": [
    "As with previous tools, we will put its results in a `Results/` subfolder:"
   ]
  },
  {
   "cell_type": "code",
   "execution_count": 20,
   "metadata": {},
   "outputs": [],
   "source": [
    "## Code cell 16 ##\n",
    "\n",
    "qualimapfolder=\"${gohome}allData/Results/qualimap/\"\n",
    "\n",
    "#qualimapfolder=\"${gohome}$USER/Results/qualimap/\"\n",
    "mkdir -p ${qualimapfolder}"
   ]
  },
  {
   "cell_type": "markdown",
   "metadata": {},
   "source": [
    "An issue with current Qualimap releases is that we can't change file names for both tools we will use.  \n",
    "Thus, let's create distinct folders for the two tools within the qualimap folder."
   ]
  },
  {
   "cell_type": "code",
   "execution_count": 21,
   "metadata": {},
   "outputs": [],
   "source": [
    "## Code cell 17 ##\n",
    "\n",
    "bamqcfolder=\"${qualimapfolder}bamqc/\"\n",
    "mkdir -p ${bamqcfolder}"
   ]
  },
  {
   "cell_type": "code",
   "execution_count": 22,
   "metadata": {},
   "outputs": [],
   "source": [
    "## Code cell 18 ##\n",
    "\n",
    "rnaseqfolder=\"${qualimapfolder}rnaseq/\"\n",
    "mkdir -p ${rnaseqfolder}"
   ]
  },
  {
   "cell_type": "markdown",
   "metadata": {},
   "source": [
    "### **3.2 - General view with <code>qualimap bamqc</code>**"
   ]
  },
  {
   "cell_type": "markdown",
   "metadata": {},
   "source": [
    "The <code>qualimap</code> options we will use are: <br>\n",
    "<blockquote>\n",
    "    <code>-bam filepath</code>, Input mapping file in BAM format, with reads sorted by coordinates <br>\n",
    "    <code>-gff filepath</code> or <code>--feature-file path/to/file</code>, the path to the feature file with regions of interest in GFF/GTF or BED format <br>\n",
    "    <code>-outdir text</code>, Output folder for HTML report and raw results. <br>\n",
    "    <code>-p VALUE</code> or <code>--sequencing-protocol VALUE</code>, Sequencing library protocol: strand-specific-forward, strand-specific-reverse or non-strand-specific (default). <br>\n",
    "    <code>-c</code> or <code>--paint-chromosome-limits</code>, Paint chromosome limits inside charts\n",
    "</blockquote>"
   ]
  },
  {
   "cell_type": "markdown",
   "metadata": {},
   "source": [
    "Qualimap produces by default an HTML report but we may ask for a PDF or both, using <code>-outformat</code> option and corresponding predefined values (PDF, HTML or PDF:HTML for both)."
   ]
  },
  {
   "cell_type": "markdown",
   "metadata": {},
   "source": [
    "<ul class=\"alert alert-block alert-info\">\n",
    "    <li>\n",
    "        See <a href=\"http://qualimap.conesalab.org/doc_html/analysis.html#bam-qc\">online manual</a> for more details\n",
    "    </li>\n",
    "</ul>"
   ]
  },
  {
   "cell_type": "markdown",
   "metadata": {
    "tags": []
   },
   "source": [
    "<div class=\"alert alert-block alert-danger\"> <a id=\"section3.2\"></a>\n",
    "    Following <b>command is prepared for usage on a computational cluster</b> such as the <i>Institut Français de Bioinformatique</i> (IFB)'s core cluster. We use a session defined as <b>5 CPU with 21 GB available for RAM</b>. Adapt it to your ressources.\n",
    "</div>"
   ]
  },
  {
   "cell_type": "code",
   "execution_count": 11,
   "metadata": {},
   "outputs": [
    {
     "name": "stdout",
     "output_type": "stream",
     "text": [
      "Screen output is redirected to qualimap_bamqc_allSamples.log\n",
      "===== Processing sampleID: SRR12730411...\n",
      "... done\n",
      "===== Processing sampleID: SRR12730412...\n",
      "... done\n",
      "Qualimap generated 11 html reports.\n"
     ]
    }
   ],
   "source": [
    "## Code cell 19 ##\n",
    "\n",
    "logfile=\"${logfolder}qualimap_bamqc_allSamples.log\"\n",
    "#logfile=\"${logfolder}qualimap_bamqc_3samples.log\"\n",
    "echo \"Screen output is redirected to ${logfile}\"\n",
    "\n",
    "# as time command does not redirect output\n",
    "echo \"operation starts at $(date)\" >> ${logfile}\n",
    "\n",
    "for fn in $(ls \"${mappedfolder}\"*_Aligned.sortedByCoord.out.bam); do   \n",
    "    \n",
    "    mysortedbam=$(basename ${fn})\n",
    "    id=${mysortedbam/_Aligned.sortedByCoord.out.bam/}\n",
    "    echo \"===== Processing sampleID: ${id}...\" | tee -a ${logfile}\n",
    "\n",
    "    myoutdir=\"${bamqcfolder}${id}\"\n",
    "    echo \"destination folder is ${myoutdir}\" >> ${logfile}\n",
    "    \n",
    "    echo \"qualimap bamqc starts at $(date)\" >> ${logfile}\n",
    "    qualimap bamqc -bam ${fn} \\\n",
    "                    --feature-file \"${gtffile}\" \\\n",
    "                    --sequencing-protocol non-strand-specific \\\n",
    "                    --paint-chromosome-limits \\\n",
    "                    -outdir ${myoutdir} \\\n",
    "                    --java-mem-size=20G \\\n",
    "                    &>> ${logfile}\n",
    "    echo \"qualimap bamqc ends at $(date)\" >> ${logfile}\n",
    "    \n",
    "    echo \"... done\" | tee -a ${logfile}\n",
    "  \n",
    "done \n",
    "\n",
    "echo \"operation ends at $(date)\" >> ${logfile}\n",
    "\n",
    "echo \"=== Files created after qualimap bamqc ===\" >> ${logfile}\n",
    "tree \"${bamqcfolder}\" >> ${logfile}\n",
    "echo \"Qualimap generated $(find \"${bamqcfolder}\" -name *.html | wc -l) html reports.\""
   ]
  },
  {
   "cell_type": "markdown",
   "metadata": {},
   "source": [
    "We can know how long this cell lasts, thanks to ``logfile``:"
   ]
  },
  {
   "cell_type": "code",
   "execution_count": 14,
   "metadata": {},
   "outputs": [
    {
     "name": "stdout",
     "output_type": "stream",
     "text": [
      "operation starts at Wed May 24 19:40:54 CEST 2023\n",
      "operation starts at Thu May 25 09:54:38 CEST 2023\n",
      "operation ends at Thu May 25 10:35:54 CEST 2023\n"
     ]
    }
   ],
   "source": [
    "## Code cell 20 ##\n",
    "\n",
    "grep -e \"operation\" ${logfile}"
   ]
  },
  {
   "cell_type": "markdown",
   "metadata": {},
   "source": [
    "### **3.3 - Specific RNAseq plots with <code>qualimap rnaseq</code>**"
   ]
  },
  {
   "cell_type": "markdown",
   "metadata": {},
   "source": [
    "``qualimap rnaseq``, a Qualimap specific option for RNAseq data, gives some more metrics: \n",
    "- a *Reads genomic origin* circus-plot to check that reads map to exons\n",
    "- two *Coverage Profile Along Genes* plots (low and high)\n",
    "- a *Junction Analysis* circus-plot to distinguish between known and novel junctions"
   ]
  },
  {
   "cell_type": "markdown",
   "metadata": {},
   "source": [
    "<ul class=\"alert alert-block alert-info\">\n",
    "    <li>\n",
    "        See <a href=\"http://qualimap.conesalab.org/doc_html/analysis.html#rna-seq-qc\">online manual for this tool</a> for more details\n",
    "    </li>\n",
    "</ul>"
   ]
  },
  {
   "cell_type": "markdown",
   "metadata": {},
   "source": [
    "#### **3.3.a - Understanding operations**"
   ]
  },
  {
   "cell_type": "markdown",
   "metadata": {},
   "source": [
    "With paired end data, we could use following lines:  \n",
    "<code>qualimap rnaseq -pe \\  \n",
    "               -bam path/to/sortedByNames.bam \\ \n",
    "               -gtf path/to/gencode_annotation.gtf \\ \n",
    "               -outdir path/to/outputfolder/</code>"
   ]
  },
  {
   "cell_type": "markdown",
   "metadata": {},
   "source": [
    "Those options, along with others, are explained in manual:\n",
    "<blockquote>\n",
    "     <code>-pe</code> or <code>--paired</code> Setting this flag for paired-end experiments will result in counting fragments instead of reads <br>\n",
    "     <code>-bam path/to/file.bam</code>, to locate input mapping file in BAM format. <br>\n",
    "     <code>-gtf path/to/file.gtf</code>, where to find annotations file in Ensembl GTF format (no compressed format). <br>\n",
    "     <code>-outdir path/to/folder/</code> to define output folder for HTML report and raw data. <br> \n",
    "</blockquote>\n",
    "\n",
    "There are some more options of interest and we will use the first two while letting the third one by default:\n",
    "<blockquote>\n",
    "     <code>-p VALUE</code> or <code>--sequencing-protocol VALUE</code>, to precise sequencing library protocol. VALUES among: strand-specific-forward, strand-specific-reverse or non-strand-specific (default) <br>\n",
    "     <code>-oc path/to/outfile.counts</code>, to place output file for computed counts in a distinct folder. If only name of the file is provided, then the file will be saved in the output folder. <br>\n",
    "     <code>-a</code> or <code>--algorithm</code>, to set counting algorithm: uniquely-mapped-reads(default) or proportional.\n",
    "</blockquote>"
   ]
  },
  {
   "cell_type": "markdown",
   "metadata": {},
   "source": [
    "Contrary to `bamqc`, `rnaseq` Qualimap tool needs alignment files to be sorted by read names. By default, if given otherwise, it will sort `.bam` file... but we already noticed that handling those big files is quite slow with only one process running at a time.  \n",
    "So we will use `samtools sort` tool to perform it with multiple threads at a time and give `qualimap rnaseq` an already sorted input file and let it know with <code>-s</code> or <code>--sorted</code> (Only required for paired-end analysis...)."
   ]
  },
  {
   "cell_type": "markdown",
   "metadata": {},
   "source": [
    "In order to follow this process, we will use this command format:  \n",
    "<code>samtools sort -n \\ \n",
    "            -@ X -m YG \\ \n",
    "            -O BAM \\ \n",
    "            -o path/to/sortedByNames.bam \\ \n",
    "            -T path/to/temporaryfolder/ \\ \n",
    "            path/to/input.bam</code>"
   ]
  },
  {
   "cell_type": "markdown",
   "metadata": {},
   "source": [
    "where options correspond to:  \n",
    "<blockquote>\n",
    "    <code>-n</code> for activating sorting by read name (<i>i.e.</i> the QNAME field) <br>\n",
    "    <code>-o FILE</code>    Write final output to FILE rather than standard output <br>\n",
    "    <code>-T PREFIX</code>, to write temporary files to a particular folder. Used names are <i>PREFIX.nnnn.bam</i>, where <i>nnnn</i> stands for a 4-digit number <br>\n",
    "    <code>-O</code> or <code>--output-fmt FORMAT</code> to specify output format (SAM, BAM or CRAM). If not mentionned, <code>samtools</code> will deduce it from file extension (not available if there is no written output file!) <br>\n",
    "    <code>-@ INT</code> or <code>--threads INT</code>, the number of additional threads to use [0]. Indeed, you will  only use 1 thread by default. <br>\n",
    "    <code>-m INT</code>, to limit maximum memory per thread; suffix K/M/G recognized [768M]\n",
    "</blockquote>"
   ]
  },
  {
   "cell_type": "markdown",
   "metadata": {},
   "source": [
    "#### **3.3.b - Running <code>qualimap rnaseq</code> loop... with patience**"
   ]
  },
  {
   "cell_type": "markdown",
   "metadata": {},
   "source": [
    "<div class=\"alert alert-block alert-warning\">\n",
    "    Below cell will run for <b>at least 30 minutes per sample</b>. Either you come back later or you may use JupyterLab otion to <i>Run selected cell and all below</i> in <i>Run</i> Menu (top bar).\n",
    "</div>"
   ]
  },
  {
   "cell_type": "markdown",
   "metadata": {
    "tags": []
   },
   "source": [
    "<div class=\"alert alert-block alert-danger\"> <a id=\"section3.2\"></a>\n",
    "    Following <b>command is prepared for usage on a computational cluster</b> such as the <i>Institut Français de Bioinformatique</i> (IFB)'s core cluster. We use a session defined as <b>5 CPU with 21 GB available for RAM</b>. Adapt it to your ressources.\n",
    "</div>"
   ]
  },
  {
   "cell_type": "code",
   "execution_count": 17,
   "metadata": {},
   "outputs": [],
   "source": [
    "## Code cell 21 ##\n",
    "\n",
    "logfile=\"${logfolder}qualimap_rnaseq_allSamples.log\"\n",
    "#logfile=\"${logfolder}qualimap_rnaseq_3samples.log\""
   ]
  },
  {
   "cell_type": "code",
   "execution_count": 18,
   "metadata": {},
   "outputs": [
    {
     "name": "stdout",
     "output_type": "stream",
     "text": [
      "Screen output is redirected to /shared/projects/2312_rnaseq_cea/allData/Results/logfiles/qualimap_rnaseq_allSamples.log\n",
      "===== Processing sampleID: SRR12730408...\n",
      "input filename: /shared/projects/2312_rnaseq_cea/allData/Results/star/SRR12730408_Aligned.sortedByCoord.out.bam\n",
      "...changing tool...\n",
      "... done\n",
      "===== Processing sampleID: SRR12730409...\n",
      "input filename: /shared/projects/2312_rnaseq_cea/allData/Results/star/SRR12730409_Aligned.sortedByCoord.out.bam\n",
      "...changing tool...\n",
      "... done\n",
      "===== Processing sampleID: SRR12730410...\n",
      "input filename: /shared/projects/2312_rnaseq_cea/allData/Results/star/SRR12730410_Aligned.sortedByCoord.out.bam\n",
      "...changing tool...\n",
      "... done\n",
      "===== Processing sampleID: SRR12730411...\n",
      "input filename: /shared/projects/2312_rnaseq_cea/allData/Results/star/SRR12730411_Aligned.sortedByCoord.out.bam\n",
      "...changing tool...\n",
      "... done\n",
      "===== Processing sampleID: SRR12730412...\n",
      "input filename: /shared/projects/2312_rnaseq_cea/allData/Results/star/SRR12730412_Aligned.sortedByCoord.out.bam\n",
      "...changing tool...\n",
      "... done\n",
      "===== Processing sampleID: SRR12730413...\n",
      "input filename: /shared/projects/2312_rnaseq_cea/allData/Results/star/SRR12730413_Aligned.sortedByCoord.out.bam\n",
      "...changing tool...\n",
      "... done\n",
      "Qualimap generated 11 html reports.\n"
     ]
    }
   ],
   "source": [
    "## Code cell 22 ##\n",
    "\n",
    "echo \"Screen output is redirected to ${logfile}\"\n",
    "\n",
    "# as time command does not redirect output\n",
    "echo \"operation starts at $(date)\" >> ${logfile}\n",
    "\n",
    "for fn in $(ls \"${mappedfolder}\"*_Aligned.sortedByCoord.out.bam); do  \n",
    "    \n",
    "    mysortedbam=$(basename ${fn})\n",
    "    id=${mysortedbam/_Aligned.sortedByCoord.out.bam/}\n",
    "    echo \"===== Processing sampleID: ${id}...\" | tee -a ${logfile}\n",
    "    echo \"input filename: ${fn}\"\n",
    "    \n",
    "    # some preparation\n",
    "    mytempfile=\"${rnaseqfolder}${id}_Aligned.sortedByNames.bam\"\n",
    "    myoutdir=\"${rnaseqfolder}${id}/\"\n",
    "    mkdir -p ${myoutdir}\n",
    "    echo \"destination folder ${myoutdir}\" >> ${logfile}\n",
    "    \n",
    "    # bam sorting...\n",
    "    echo \"samtools starts at $(date)\" >> ${logfile}\n",
    "    \n",
    "    samtools sort -n \\\n",
    "                --threads 3 -m 5G \\\n",
    "                --output-fmt BAM \\\n",
    "                -o ${mytempfile} \\\n",
    "                -T ${rnaseqfolder} \\\n",
    "                --verbosity 3 \\\n",
    "                ${fn} \\\n",
    "                &>> ${logfile}\n",
    "    \n",
    "    echo \"samtools ends at $(date)\" >> ${logfile}\n",
    "\n",
    "    # some user conversation to help being patient\n",
    "\n",
    "    echo \"...changing tool...\" | tee -a ${logfile}\n",
    "\n",
    "    # then rnaseq QC from Qualimap\n",
    "    echo \"qualimap rnaseq starts at $(date)\" >> ${logfile}\n",
    "    qualimap rnaseq -bam ${mytempfile} \\\n",
    "                        --sorted \\\n",
    "                        -gtf \"${gtffile}\" \\\n",
    "                        --sequencing-protocol non-strand-specific \\\n",
    "                        --paired \\\n",
    "                        -outdir ${myoutdir} \\\n",
    "                        --java-mem-size=20G \\\n",
    "                        &>> ${logfile}\n",
    "    echo \"qualimap rnaseq ends at $(date)\" >> ${logfile}\n",
    "    \n",
    "    # removing extra bam file... saving disk space\n",
    "    rm ${mytempfile}\n",
    "    \n",
    "    echo \"... done\" | tee -a ${logfile}\n",
    "    \n",
    "done\n",
    "\n",
    "echo \"operation ends at $(date)\" >> ${logfile}\n",
    "\n",
    "echo \"=== Files created after qualimap rnaseq ===\" >> ${logfile}\n",
    "tree \"${rnaseqfolder}\" >> ${logfile}\n",
    "echo \"Qualimap generated $(find \"${rnaseqfolder}\" -name *.html | wc -l) html reports.\" | tee -a ${logfile}"
   ]
  },
  {
   "cell_type": "code",
   "execution_count": 23,
   "metadata": {},
   "outputs": [
    {
     "name": "stdout",
     "output_type": "stream",
     "text": [
      "operation starts at Thu May 25 10:58:27 CEST 2023\n",
      "operation starts at Thu May 25 13:28:46 CEST 2023\n",
      "operation ends at Thu May 25 15:30:12 CEST 2023\n"
     ]
    }
   ],
   "source": [
    "## Code cell 23 ##\n",
    "\n",
    "#logfile=\"/shared/projects/2312_rnaseq_cea/scaburet/Results/logfiles/qualimap_rnaseq_3samples.log\"\n",
    "grep -e \"operation\" ${logfile}"
   ]
  },
  {
   "cell_type": "markdown",
   "metadata": {},
   "source": [
    "## 4- Having a summary report with MultiQC"
   ]
  },
  {
   "cell_type": "markdown",
   "metadata": {},
   "source": [
    "### **4.1 - Preparations steps**"
   ]
  },
  {
   "cell_type": "markdown",
   "metadata": {},
   "source": [
    "#### **4.1.a - Tool presentation and version**"
   ]
  },
  {
   "cell_type": "markdown",
   "metadata": {},
   "source": [
    "When numerous samples are processed, it can easily become tedious to look in each mapping quality report. So we'll run MultiQC (https://multiqc.info/), that scans automatically a folder for all quality checks outputs and produce a single report. MutliQC runs on almost any possible NGS tools (https://multiqc.info/docs/#multiqc-modules)."
   ]
  },
  {
   "cell_type": "code",
   "execution_count": 24,
   "metadata": {},
   "outputs": [
    {
     "name": "stdout",
     "output_type": "stream",
     "text": [
      "multiqc, version 1.13\n"
     ]
    }
   ],
   "source": [
    "## Code cell 24 ##\n",
    "\n",
    "multiqc --version"
   ]
  },
  {
   "cell_type": "markdown",
   "metadata": {},
   "source": [
    "#### **4.1.b - Personnalize the report: setting variables**"
   ]
  },
  {
   "cell_type": "markdown",
   "metadata": {},
   "source": [
    "Please, specify **file name** you want to have (do not worry about extension, MultiQC will handle this for us) inside quotes in the next cell. <a id=\"multiqctextvar\"></a>  \n",
    "<b>DO NOT use spaces or any special characters!</b>"
   ]
  },
  {
   "cell_type": "code",
   "execution_count": 25,
   "metadata": {},
   "outputs": [],
   "source": [
    "## Code cell 25 ##\n",
    "\n",
    "inamemyfile=\"3_starAlignments-bam-files\""
   ]
  },
  {
   "cell_type": "markdown",
   "metadata": {},
   "source": [
    "Please, specify a meaningful **title** inside quotes in the next cell, to display at the head of your oncoming report.\n",
    "<b>No more space limit but still avoid any special characters.</b> "
   ]
  },
  {
   "cell_type": "code",
   "execution_count": 26,
   "metadata": {},
   "outputs": [],
   "source": [
    "## Code cell 26 ##\n",
    "\n",
    "mytitle=\"Sorted by coordinates bam files quality for 11 paired end sequenced samples, from double-Htz B-ALL mice study (Dataset GSE158673, subSerie GSE158661)\""
   ]
  },
  {
   "cell_type": "markdown",
   "metadata": {},
   "source": [
    "Besides, we can add a comment in header's report. It's a good practise to do so. So we will define it in following cell.\n",
    "\n",
    "> In this cell, we use several lines to keep it readable when displaying notebook. As your text lines are just collapsed together in the html report, be sure to keep last blank space when ending every line)."
   ]
  },
  {
   "cell_type": "code",
   "execution_count": 27,
   "metadata": {},
   "outputs": [],
   "source": [
    "## Code cell 27 ##\n",
    "\n",
    "mycomment=$(echo \"Bam files derived from bulk RNA sequencing (mouse, unstranded) \" \\\n",
    "\"Performed by Ramamoorthy et al. 2020 (PMID:  33004416 ; GEO: GSE158673, subSerie GSE158661 ; SRA: PRJNA666155). \" \\\n",
    "\"RNASeq analysis to unravel molecular networks driving leukemia in Ebf1+/-Pax5+/- (dHet) B-ALL mice : To profile gene expression changes in  Ebf1+/-Pax5+/- (dHet) leukemic mice, RNASeq analysis was performed in dHet B-ALL, dHet proB and wt proB\n",
    "cells.     \" \\\n",
    "\"PRJNA666155: 3 dHet mice, 2 replicates; proB cells derived from dHet pre-leukemic mouse, 3 replicates; wt proB cells, 2 replicates. \" \\\n",
    "\"Mapping to the reference genome (mouse, Gencode GRCm39, release 32) performed by STAR. Additionnal settings:  \" \\\n",
    "\"Unmapped or too multimapped (>20) are kept in separate file, GeneCounts quantification mode activated.\")"
   ]
  },
  {
   "cell_type": "markdown",
   "metadata": {},
   "source": [
    "... and don't forget to specify the output folder!"
   ]
  },
  {
   "cell_type": "code",
   "execution_count": 28,
   "metadata": {},
   "outputs": [],
   "source": [
    "## Code cell 28 ##\n",
    "\n",
    "qcsummaries=\"${gohome}allData/Results/multiqc/\"\n",
    "#qcsummaries=\"${gohome}$USER/Results/multiqc/\""
   ]
  },
  {
   "cell_type": "markdown",
   "metadata": {},
   "source": [
    "### **4.2 - Generate MultiQC summary report**"
   ]
  },
  {
   "cell_type": "markdown",
   "metadata": {},
   "source": [
    "MultiQC is verbose but, as it will work only on FastQC reports, it is quite short.  *This time, we will have qualimap bamqc, qualimap rnaseq, samtools stats and samtools idxstats*!\n",
    "So, we will let it lines show in notebook while saving them in a file for later use."
   ]
  },
  {
   "cell_type": "code",
   "execution_count": 29,
   "metadata": {},
   "outputs": [
    {
     "name": "stdout",
     "output_type": "stream",
     "text": [
      "Screen output is also saved in /shared/projects/2312_rnaseq_cea/allData/Results/logfiles/multiqc-processing_mapped-quality.log\n",
      "bash: /shared/projects/2312_rnaseq_cea/allData/Results/logfiles/multiqc-processing_mapped-quality.log: Bad address\n",
      "\n",
      "  /// MultiQC 🔍 | v1.13\n",
      "\n",
      "|           multiqc | MultiQC Version v1.14 now available!\n",
      "|           multiqc | Report title: Sorted by coordinates bam files quality for 11 paired end sequenced samples, from double-Htz B-ALL mice study (Dataset GSE158673, subSerie GSE158661)\n",
      "|           multiqc | Only using modules: star, samtools, qualimap\n",
      "|           multiqc | Search path : /shared/projects/2312_rnaseq_cea/allData/Results/star\n",
      "|           multiqc | Search path : /shared/projects/2312_rnaseq_cea/allData/Results/qualimap\n",
      "|           multiqc | Search path : /shared/projects/2312_rnaseq_cea/allData/Results\n",
      "|         searching | ━━━━━━━━━━━━━━━━━━━━━━━━━━━━━━━━━━━━━━━━ 100% 2696/2696  \n",
      "|          qualimap | Found 11 BamQC reports\n",
      "|          qualimap | Found 11 RNASeq reports\n",
      "|          samtools | Found 11 stats reports\n",
      "|          samtools | Found 11 flagstat reports\n",
      "|              star | Found 11 reports and 11 gene count files\n",
      "|           multiqc | Compressing plot data\n",
      "|           multiqc | Report      : ../../../../projects/2312_rnaseq_cea/allData/Results/multiqc/3_starAlignments-bam-files.html\n",
      "|           multiqc | Data        : ../../../../projects/2312_rnaseq_cea/allData/Results/multiqc/3_starAlignments-bam-files_data\n",
      "Traceback (most recent call last):\n",
      "  File \"/shared/ifbstor1/software/miniconda/envs/multiqc-1.13/lib/python3.10/site-packages/setuptools/_distutils/dir_util.py\", line 75, in mkpath\n",
      "    os.mkdir(head, mode)\n",
      "OSError: [Errno 14] Bad address: '/shared/projects/2312_rnaseq_cea/allData/Results/multiqc/3_starAlignments-bam-files_data'\n",
      "\n",
      "During handling of the above exception, another exception occurred:\n",
      "\n",
      "Traceback (most recent call last):\n",
      "  File \"/shared/ifbstor1/software/miniconda/envs/multiqc-1.13/bin/multiqc\", line 10, in <module>\n",
      "    sys.exit(run_multiqc())\n",
      "  File \"/shared/ifbstor1/software/miniconda/envs/multiqc-1.13/lib/python3.10/site-packages/multiqc/__main__.py\", line 22, in run_multiqc\n",
      "    multiqc.run_cli(prog_name=\"multiqc\")\n",
      "  File \"/shared/ifbstor1/software/miniconda/envs/multiqc-1.13/lib/python3.10/site-packages/click/core.py\", line 1130, in __call__\n",
      "    return self.main(*args, **kwargs)\n",
      "  File \"/shared/ifbstor1/software/miniconda/envs/multiqc-1.13/lib/python3.10/site-packages/rich_click/rich_command.py\", line 19, in main\n",
      "    rv = super().main(*args, standalone_mode=False, **kwargs)\n",
      "  File \"/shared/ifbstor1/software/miniconda/envs/multiqc-1.13/lib/python3.10/site-packages/click/core.py\", line 1055, in main\n",
      "    rv = self.invoke(ctx)\n",
      "  File \"/shared/ifbstor1/software/miniconda/envs/multiqc-1.13/lib/python3.10/site-packages/click/core.py\", line 1404, in invoke\n",
      "    return ctx.invoke(self.callback, **ctx.params)\n",
      "  File \"/shared/ifbstor1/software/miniconda/envs/multiqc-1.13/lib/python3.10/site-packages/click/core.py\", line 760, in invoke\n",
      "    return __callback(*args, **kwargs)\n",
      "  File \"/shared/ifbstor1/software/miniconda/envs/multiqc-1.13/lib/python3.10/site-packages/multiqc/multiqc.py\", line 286, in run_cli\n",
      "    multiqc_run = run(**kwargs)\n",
      "  File \"/shared/ifbstor1/software/miniconda/envs/multiqc-1.13/lib/python3.10/site-packages/multiqc/multiqc.py\", line 941, in run\n",
      "    copy_tree(config.data_tmp_dir, config.data_dir, preserve_times=0, preserve_mode=0)\n",
      "  File \"/shared/ifbstor1/software/miniconda/envs/multiqc-1.13/lib/python3.10/site-packages/setuptools/_distutils/dir_util.py\", line 151, in copy_tree\n",
      "    mkpath(dst, verbose=verbose)\n",
      "  File \"/shared/ifbstor1/software/miniconda/envs/multiqc-1.13/lib/python3.10/site-packages/setuptools/_distutils/dir_util.py\", line 78, in mkpath\n",
      "    raise DistutilsFileError(\n",
      "distutils.errors.DistutilsFileError: could not create '/shared/projects/2312_rnaseq_cea/allData/Results/multiqc/3_starAlignments-bam-files_data': Bad address\n",
      "\n",
      "real\t0m50.222s\n",
      "user\t0m45.090s\n",
      "sys\t0m17.878s\n"
     ]
    }
   ],
   "source": [
    "## Code cell 29 ##\n",
    "\n",
    "logfile=\"${logfolder}multiqc-processing_mapped-quality.log\"\n",
    "echo \"Screen output is also saved in ${logfile}\"\n",
    "\n",
    "# as time command does not redirect output\n",
    "echo \"operation starting at $(date)\" >> ${logfile}\n",
    "time multiqc --interactive --export \\\n",
    "        --module star ${mappedfolder} \\\n",
    "        --module samtools ${samtoolsfolder} \\\n",
    "        --module qualimap ${qualimapfolder} \\\n",
    "        --outdir \"${qcsummaries}\" \\\n",
    "        --filename \"${inamemyfile}\" \\\n",
    "        --title \"${mytitle}\"  \\\n",
    "        --comment \"${mycomment}\" \\\n",
    "        \"${gohome}allData/Results/\" \\\n",
    "        |& tee -a ${logfile}\n",
    "echo \"operation finished at $(date)\" >> ${logfile}\n",
    "\n",
    "# to see which files we have afterward and follow folder sizes\n",
    "ls -lh \"${qcsummaries}\" >> ${logfile}\n",
    "\n",
    "du -h -d1 \"${gohome}allData/Results/\" >> ${logfile}\n",
    "#du -h -d1 \"${gohome}$USER/Results/\" >> ${logfile}"
   ]
  },
  {
   "cell_type": "markdown",
   "metadata": {},
   "source": [
    "## 5 - Monitoring disk space usage"
   ]
  },
  {
   "cell_type": "code",
   "execution_count": null,
   "metadata": {},
   "outputs": [],
   "source": [
    "## Code cell 29 ##\n",
    "\n",
    "#du -h -d2 ${gohome}$USER\n",
    "du -h -d2 ${gohome}"
   ]
  },
  {
   "cell_type": "markdown",
   "metadata": {},
   "source": [
    "---\n",
    "___\n",
    "\n",
    "Now we go on to reads quantification at gene level.  \n",
    "  \n",
    "**=> Step 6: Reads Count** "
   ]
  },
  {
   "cell_type": "markdown",
   "metadata": {
    "tags": []
   },
   "source": [
    "The jupyter notebook used for the next session will be *Pipe_06-bash_reads-counts.ipynb.ipynb*    \n",
    "Let's retrieve it in our directory, in order to have a private copy to work on:   "
   ]
  },
  {
   "cell_type": "code",
   "execution_count": null,
   "metadata": {
    "tags": []
   },
   "outputs": [],
   "source": [
    "## Code cell 38 ##   \n",
    "\n",
    "cp \"${gohome}pipeline/Pipe_06-bash_reads-counts.ipynb\" \"${gohome}$USER/\""
   ]
  },
  {
   "cell_type": "markdown",
   "metadata": {
    "tags": []
   },
   "source": [
    "Bénédicte Noblet - 05-07 2021   \n",
    "Sandrine Caburet - 02-05 2023   \n",
    "Maj 24/05/2023"
   ]
  }
 ],
 "metadata": {
  "kernelspec": {
   "display_name": "Bash",
   "language": "bash",
   "name": "bash"
  },
  "language_info": {
   "codemirror_mode": "shell",
   "file_extension": ".sh",
   "mimetype": "text/x-sh",
   "name": "bash"
  },
  "toc-showcode": false
 },
 "nbformat": 4,
 "nbformat_minor": 4
}

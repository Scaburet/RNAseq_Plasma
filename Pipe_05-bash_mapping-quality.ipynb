{
 "cells": [
  {
   "cell_type": "markdown",
   "metadata": {},
   "source": [
    "# Formation RNAseq CEA - juin 2023\n",
    "\n",
    "*Enseignantes: Sandrine Caburet et Claire Vandiedonck*\n",
    "\n",
    "Session IFB : 5 CPU + 21 GB de RAM\n",
    "\n",
    "# Part 5: Mapping quality check"
   ]
  },
  {
   "cell_type": "markdown",
   "metadata": {},
   "source": [
    "  \n",
    "- 0.1 - About session for IFB core cluster\n",
    "- 0.2 -Parameters to be set or modified by the user\n",
    "- 1 - Some checks as a precaution with ``samtools``\n",
    "- 2 - Some metrics with ``samtools``\n",
    "- 3 - Some metrics and graphical results with ``Qualimap``\n",
    "- 4 - Summary report with ``MultiQC``\n",
    "- 5 - Monitoring disk usage"
   ]
  },
  {
   "cell_type": "markdown",
   "metadata": {},
   "source": [
    "<div class=\"alert alert-block alert-danger\"> \n",
    "    <b>     🚨 🚨 🚨 💣 💣 💣 <u> WARNING WARNING WARNING </u> 💣 💣 💣 🚨 🚨 🚨    </b> <br><br>\n",
    "    Now the mapping step is done, please go back to a lighter session with <b>only 5-CPU and 21 GB of RAM</b>.\n",
    "</div>"
   ]
  },
  {
   "cell_type": "markdown",
   "metadata": {},
   "source": [
    "---\n",
    "---\n",
    "## 0. Before going further\n",
    "---\n",
    "\n",
    "<div class=\"alert alert-block alert-danger\"><b>Caution:</b> \n",
    "Before starting the analysis, save a backup copy of this notebok : in the left-hand panel, right-click on this file and select \"Duplicate\"<br>\n",
    "You can also make backups during the analysis. Don't forget to save your notebook regularly: <kbd>Ctrl</kbd> + <kbd>S</kbd> or click on the 💾 icon.\n",
    "</div>"
   ]
  },
  {
   "cell_type": "markdown",
   "metadata": {},
   "source": [
    "\n",
    "\n",
    "### 0.1 - About session for IFB core cluster\n",
    "---\n",
    "<em>loaded JupyterLab</em> : Version 3.2.1"
   ]
  },
  {
   "cell_type": "code",
   "execution_count": null,
   "metadata": {},
   "outputs": [],
   "source": [
    "## Code cell 1 ##\n",
    "\n",
    "echo \"=== Cell launched on $(date) ===\"\n",
    "\n",
    "echo \"=== Current IFB session size: Medium (5 CPU, 21GB) ===\"\n",
    "jobid=$(squeue -hu $USER | awk '/jupyter/ {print $1}')\n",
    "sacct --format=JobID,AllocCPUS,NODELIST -j ${jobid}\n"
   ]
  },
  {
   "cell_type": "code",
   "execution_count": null,
   "metadata": {
    "tags": []
   },
   "outputs": [],
   "source": [
    "## Code cell 2 ##\n",
    "\n",
    "module load samtools/1.15.1 qualimap/2.2.2b multiqc/1.13\n",
    "\n",
    "echo \"===== quality control & bam sorting =====\"\n",
    "samtools --version | head -n 2\n",
    "echo \"===== graphical quality controls =====\"\n",
    "qualimap --help | head -n 4\n",
    "echo \"===== quality reports compilation =====\"\n",
    "multiqc --version"
   ]
  },
  {
   "cell_type": "markdown",
   "metadata": {
    "tags": []
   },
   "source": [
    "--\n",
    "\n",
    "### 0.2 - Parameters to be set or modified by the user\n",
    "---"
   ]
  },
  {
   "cell_type": "markdown",
   "metadata": {},
   "source": [
    "- Using a full path with a `/` at the end, **define the folder** where you want or have to work with `gohome` variable:"
   ]
  },
  {
   "cell_type": "code",
   "execution_count": null,
   "metadata": {},
   "outputs": [],
   "source": [
    "## Code cell 3 ##\n",
    "\n",
    "gohome=\"/shared/projects/2312_rnaseq_cea/\"\n",
    "\n",
    "echo \"=== Home root folder is ===\"\n",
    "echo \"${gohome}\"\n",
    "echo \"\"\n",
    "echo \"=== Working (personal) folder tree ===\"\n",
    "tree -L 2 \"${gohome}$USER\"\n",
    "echo \"=== current working directory ===\"\n",
    "echo \"${PWD}\""
   ]
  },
  {
   "cell_type": "markdown",
   "metadata": {},
   "source": [
    "- Precise the **maximum amount of CPU** (central processing units, cores) and **RAM-memory (in Bytes)** that programs can use.<a id=\"computressources\"></a>"
   ]
  },
  {
   "cell_type": "code",
   "execution_count": null,
   "metadata": {},
   "outputs": [],
   "source": [
    "## Code cell 4 ##\n",
    "\n",
    "authorizedCPU=4\n",
    "\n",
    "authorizedRAM=20000000000  # 20GB"
   ]
  },
  {
   "cell_type": "markdown",
   "metadata": {
    "tags": []
   },
   "source": [
    "- This notebook contains heavy running cells in <a href=\"#section3.2\">section 3.2</a> so make sure before you launch these cells that they are adapted to your environment. <br>\n",
    "For Samtools, the ``-m`` option is the **RAM memory size that will be used by each thread**! <br>\n",
    "<blockquote>\n",
    "        See option <code>--java-mem-size=20G</code> in Qualimap lines, <a href=\"#section3.2\">section 3.2</a> <br>\n",
    "        See options <code>--threads 4 -m 5G</code> in Samtools line, <a href=\"#section3.3\">section 3.3.b</a>\n",
    "</blockquote>\n",
    "\n",
    "<div class=\"alert alert-block alert-danger\">\n",
    "    <b>Values set in this notebook are valid for a 5-CPU session with access to 21 GB of RAM</b>. Ideally, use 70-80% of the CPU amount your system or session has. <br>\n",
    "    DO NOT ask for more RAM than you can use.\n",
    "</div>"
   ]
  },
  {
   "cell_type": "markdown",
   "metadata": {},
   "source": [
    "- With a `/` at the end, precise the folder where alignment ``_ALigned.SortedByCoord.out.bam`` files (produced by ``STAR``) are:"
   ]
  },
  {
   "cell_type": "code",
   "execution_count": null,
   "metadata": {},
   "outputs": [],
   "source": [
    "## Code cell 5 ##\n",
    "\n",
    "mappedfolder=\"${gohome}$USER/Results/star/\""
   ]
  },
  {
   "cell_type": "markdown",
   "metadata": {},
   "source": [
    "- Reset the path to uncompressed annotation file, especially if you changed it in previous notebook."
   ]
  },
  {
   "cell_type": "code",
   "execution_count": null,
   "metadata": {},
   "outputs": [],
   "source": [
    "## Code cell 6 ##\n",
    "\n",
    "gtffile=\"${gohome}allData/Reference/extracted/genome_annotation.gtf\""
   ]
  },
  {
   "cell_type": "markdown",
   "metadata": {},
   "source": [
    "- Comment will later be included in Quality report to keep analysis informations handy. **Beware to adapt ``mycomment`` variable text** in [section 4.1.b](#multiqctextvar) before launching MultiQC report generation."
   ]
  },
  {
   "cell_type": "markdown",
   "metadata": {},
   "source": [
    "---\n",
    "---\n",
    "## 1 - Some checks as a precaution with <code>samtools</code>\n",
    "---"
   ]
  },
  {
   "cell_type": "markdown",
   "metadata": {},
   "source": [
    "### 1.1 - Available files\n",
    "---"
   ]
  },
  {
   "cell_type": "markdown",
   "metadata": {},
   "source": [
    "As we change session or even day, let's first check all files are there:"
   ]
  },
  {
   "cell_type": "code",
   "execution_count": null,
   "metadata": {},
   "outputs": [],
   "source": [
    "## Code cell 7 ##\n",
    "\n",
    "mappedfolder=\"${gohome}$USER/Results/star/\"\n",
    "\n",
    "echo \"mappedfolder is \"${mappedfolder}\n",
    "echo \"There are $(ls \"${mappedfolder}\"*_Aligned.sortedByCoord.out.bam | wc -l) bam files in it:\"\n",
    "ls \"${mappedfolder}\"*_Aligned.sortedByCoord.out.bam"
   ]
  },
  {
   "cell_type": "markdown",
   "metadata": {},
   "source": [
    "--\n",
    "### 1.2 - Examining data files: are they what we expect?\n",
    "---"
   ]
  },
  {
   "cell_type": "markdown",
   "metadata": {},
   "source": [
    "These `.bam` files are smaller that ``.sam`` files as they are binary ones... but we can't see inside without a specific tool (``samtools view``) included in **samtools** suite (http://www.htslib.org/)."
   ]
  },
  {
   "cell_type": "code",
   "execution_count": null,
   "metadata": {},
   "outputs": [],
   "source": [
    "## Code cell 8 ##\n",
    "\n",
    "samtools --version | head -n 2"
   ]
  },
  {
   "cell_type": "markdown",
   "metadata": {},
   "source": [
    "We list the files in the folder and ask for only the first line (``-n 1``) to get one sample:"
   ]
  },
  {
   "cell_type": "code",
   "execution_count": null,
   "metadata": {},
   "outputs": [],
   "source": [
    "## Code cell 9 ##\n",
    "\n",
    "abamfile=$(ls \"${mappedfolder}\"*_Aligned.sortedByCoord.out.bam | head -n 1)\n",
    "echo ${abamfile}"
   ]
  },
  {
   "cell_type": "markdown",
   "metadata": {},
   "source": [
    "Let's visualize the first lines of this file using [samtools `view`](http://www.htslib.org/doc/samtools-view.html)."
   ]
  },
  {
   "cell_type": "code",
   "execution_count": null,
   "metadata": {},
   "outputs": [],
   "source": [
    "## Code cell 10 ##\n",
    "\n",
    "samtools view ${abamfile} | head"
   ]
  },
  {
   "cell_type": "markdown",
   "metadata": {},
   "source": [
    "<ul class=\"alert alert-block alert-info\"><b> Info 💡 :</b><br>\n",
    "    <li>\n",
    "        For <b>SAM tools documentation</b>, see the <a href=\"http://www.htslib.org/doc/#manual-pages\"><i>manual page</i></a></il>\n",
    "        <li>\n",
    "    For <b>SAM/BAM format specifications</b>: <br>see <a href=\"https://github.com/samtools/hts-specs\"><i>the full SAM/BAM file format specification</i></a> with in particular this further link to the <i>gold-standard reference</i> of  <a href=\"http://samtools.github.io/hts-specs/SAMv1.pdf\"><i>the canonical specifications of SAM/BAM</i></a>. For more information on BAM file format, see also <a href=\"https://biocorecrg.github.io/RNAseq_course_2019/alnpractical.html\"><i>BAM/SAM/CRAM format</i></a> section of another training course made by Barcelona's CRG Biocore Facility members on 2019.\n",
    "    </li>\n",
    "    <li>\n",
    " To understand the <b>Flag</b> field, or at least know what is inside alignment quality scores: <br> The Broad Institute's tool <a href=\"https://broadinstitute.github.io/picard/explain-flags.html\"><i>Explain SAM Flags</i></a> may be helpfull! To convert flags between numeric and textual representation, you may also use <a href=\"http://www.htslib.org/doc/samtools-flags.html\">samtools <code>flag<code></a>.\n",
    "</ul>"
   ]
  },
  {
   "cell_type": "markdown",
   "metadata": {},
   "source": [
    "--\n",
    "### 1.3 - Checking `.bam` files integrity\n",
    "---"
   ]
  },
  {
   "cell_type": "markdown",
   "metadata": {},
   "source": [
    "You may join this pipeline with your own `.bam` files now, either generated from another alignment tool or directly downloaded from network.  \n",
    "Alternatively, you keep going with previous pipe and you want to check there were no major issues with the aligment tool we used (*STAR*) that could have led to incorrect outputs.  \n",
    "\n",
    "So, to start off on the right foot, let's check that files are intact. To that purpose, **samtools** will once again help us to deal with `.bam` files using the [`quickcheck` tool](http://www.htslib.org/doc/samtools-quickcheck.html). It checks the beginng and the end of each file."
   ]
  },
  {
   "cell_type": "code",
   "execution_count": null,
   "metadata": {},
   "outputs": [],
   "source": [
    "## Code cell 11 ##\n",
    "\n",
    "logfile=\"${mappedfolder}samtools_quickcheck_bamfiles.log\"\n",
    "echo \"Screen output is redirected to ${logfile}\"\n",
    "\n",
    "# as time command does not redirect output\n",
    "echo \"operation starts at $(date)\" >> ${logfile}\n",
    "\n",
    "samtools quickcheck -vvv \"${mappedfolder}\"*_Aligned.sortedByCoord.out.bam \\\n",
    "            &>> ${logfile}\n",
    "echo \"operation ends at $(date)\" >> ${logfile}            \n",
    "\n",
    "# to print user's message (samtools quickcheck is really quick!) and record it\n",
    "samtools quickcheck \"${mappedfolder}\"*_Aligned.sortedByCoord.out.bam \\\n",
    "            && inbrief=\"All files are goods.\" \\\n",
    "            || inbrief=\"At least one file is corrupted, see logfile.\"\n",
    "echo ${inbrief} | tee -a ${logfile}"
   ]
  },
  {
   "cell_type": "markdown",
   "metadata": {},
   "source": [
    "<div class=\"alert alert-block alert-warning\">\n",
    "    <b>If there is an issue with your files</b>, you should start again previous steps for corrupted file(s). Indeed, some downstream tools may work but <b><i>samtools</i></b> will fail. Besides, you wouldn't be confident with generated results: <b>save time, take some before losing later!</b>\n",
    "</div>"
   ]
  },
  {
   "cell_type": "markdown",
   "metadata": {},
   "source": [
    "---\n",
    "---\n",
    "## 2 - Some metrics with <code>samtools</code>\n",
    "---"
   ]
  },
  {
   "cell_type": "markdown",
   "metadata": {},
   "source": [
    "The commands used for this part belong to a large package of utilities that are very useful to manage those types of files: **Samtools** (http://www.htslib.org/)."
   ]
  },
  {
   "cell_type": "markdown",
   "metadata": {},
   "source": [
    "### 2.1 - Preparing command line variables\n",
    "---\n",
    "\n",
    "An option would be to save results files along with `.bam` files but it's not the best idea to have a lot of files in one folder (especially when saving them, along with long list handling). So we will save the output files to another folder."
   ]
  },
  {
   "cell_type": "code",
   "execution_count": null,
   "metadata": {},
   "outputs": [],
   "source": [
    "## Code cell 12 ##\n",
    "\n",
    "samtoolsfolder=\"${gohome}$USER/Results/samtools/\"\n",
    "\n",
    "mkdir -p ${samtoolsfolder}"
   ]
  },
  {
   "cell_type": "markdown",
   "metadata": {},
   "source": [
    "Count files are *per se* the interesting outputs but, if there is any issue or for duration information, we nonetheless keep some details into a `.log` file saved with the others reports."
   ]
  },
  {
   "cell_type": "code",
   "execution_count": null,
   "metadata": {},
   "outputs": [],
   "source": [
    "## Code cell 13 ##\n",
    "\n",
    "logfolder=\"${gohome}$USER/Results/logfiles/\""
   ]
  },
  {
   "cell_type": "markdown",
   "metadata": {},
   "source": [
    "--\n",
    "### 2.2 - Running command line for <code>samtools</code> metrics\n",
    "---"
   ]
  },
  {
   "cell_type": "markdown",
   "metadata": {},
   "source": [
    "We are using two tools as part of samtools to generate metrics on bam files:\n",
    "- `stats` http://www.htslib.org/doc/samtools-stats.html  produces comprehensive statistics from alignment file \n",
    "- `flagstat` http://www.htslib.org/doc/samtools-flagstat.html counts the number of alignments for each FLAG type "
   ]
  },
  {
   "cell_type": "markdown",
   "metadata": {},
   "source": [
    "<div class=\"alert alert-block alert-warning\"><b>Warning:</b>If you did not use previous notebook P04 of this pipeline, please remove or adapt <code>_sortedByCoord.out</code> in the fifth line below in the loop, in order that filename pattern suits your filename format.</b></div>\n",
    "\n",
    "\n",
    "In the loop below, we select input bam files with a `_sortedByCoord.out.bam` suffix.\n",
    "\n",
    ">Note that STAR can produce another bam file with the suffix `_Aligned.toTranscriptome.out.bam` if you used the *quantification mode* with the option `TranscriptomeSAM` to get transcripts counts. Such .bam files are not standard ones as reads are sorted by transcript name instead of chromosome position.\n",
    "\n",
    "\n"
   ]
  },
  {
   "cell_type": "code",
   "execution_count": null,
   "metadata": {},
   "outputs": [],
   "source": [
    "## Code cell 14 ##\n",
    "\n",
    "logfile=\"${logfolder}samtools_stats_flagstat_bamfiles.log\"\n",
    "echo \"Screen output is redirected to ${logfile}\"\n",
    "\n",
    "# as time command does not redirect output\n",
    "echo \"operation starts at $(date)\" >> ${logfile}\n",
    "\n",
    "time for fn in $(ls \"${mappedfolder}\"*_Aligned.sortedByCoord.out.bam); do\n",
    "\n",
    "    mysortedbam=$(basename ${fn})\n",
    "    id=${mysortedbam/_Aligned.sortedByCoord.out.bam/}\n",
    "    echo \"======= Processing sampleID: ${id}...\" | tee -a ${logfile}\n",
    "\n",
    "    statsfile=\"${samtoolsfolder}${id}.stats\"\n",
    "    echo \"$(date) starting ${statsfile}\" >> ${logfile}\n",
    "    samtools stats ${fn} > ${statsfile}\n",
    "\n",
    "    flagsfile=\"${samtoolsfolder}${id}.flagstat\"\n",
    "    echo \"$(date) starting ${flagsfile}\" >> ${logfile}\n",
    "    samtools flagstat ${fn} > ${flagsfile}\n",
    "    \n",
    "    echo \"... done\" | tee -a ${logfile}\n",
    "\n",
    "done\n",
    "\n",
    "echo \"operation ends at $(date)\" >> ${logfile}\n",
    "\n",
    "echo \"=== files created after samtools counts ===\" >> ${logfile}\n",
    "ls -lh \"${samtoolsfolder}\" >> ${logfile}\n",
    "\n",
    "echo \"There are $(ls \"${samtoolsfolder}\" | wc -l) output files.\""
   ]
  },
  {
   "cell_type": "markdown",
   "metadata": {},
   "source": [
    "---\n",
    "---\n",
    "## 3 - Some metrics and graphical results with Qualimap\n",
    "---"
   ]
  },
  {
   "cell_type": "markdown",
   "metadata": {},
   "source": [
    "### 3.1 - Tool introduction and preparation step\n",
    "---"
   ]
  },
  {
   "cell_type": "markdown",
   "metadata": {},
   "source": [
    "We will run the **QUALIMAP** program (http://qualimap.conesalab.org/), that collects the data about the `.bam file`, including coverage estimation and many other parameters, and reports a summary of the main properties of the alignment data.\n",
    "\n",
    "Qualimap reads `.sorted.bam` files and generates a folder containing a report on `.html` format.\n",
    "\n",
    "As you can see from the next command to know which version we are running, Qualimap includes several tools. We will be using the classical `bamqc tool` which can work on any kind of NGS .bam files. We will also use `rnaqc tool` which is dedicated to RNASeq."
   ]
  },
  {
   "cell_type": "code",
   "execution_count": null,
   "metadata": {},
   "outputs": [],
   "source": [
    "## Code cell 15 ##\n",
    "\n",
    "qualimap --help"
   ]
  },
  {
   "cell_type": "markdown",
   "metadata": {},
   "source": [
    "> Remark: QUALIMAP can also be launched on most OS using a command line that will open a user-friendly Java window. On Mac or Windows, you may have to modify the memory RAMs to run it. It is all explained in the documentation."
   ]
  },
  {
   "cell_type": "markdown",
   "metadata": {},
   "source": [
    "As with previous tools, we will put its results in a `Results/` subfolder:"
   ]
  },
  {
   "cell_type": "code",
   "execution_count": null,
   "metadata": {},
   "outputs": [],
   "source": [
    "## Code cell 16 ##\n",
    "\n",
    "qualimapfolder=\"${gohome}$USER/Results/qualimap/\"\n",
    "mkdir -p ${qualimapfolder}"
   ]
  },
  {
   "cell_type": "markdown",
   "metadata": {},
   "source": [
    "An issue with current Qualimap releases is that we can't change file names for both tools we will use.  \n",
    "Thus, let's create distinct folders for the two tools within the qualimap folder."
   ]
  },
  {
   "cell_type": "code",
   "execution_count": null,
   "metadata": {},
   "outputs": [],
   "source": [
    "## Code cell 17 ##\n",
    "\n",
    "bamqcfolder=\"${qualimapfolder}bamqc/\"\n",
    "mkdir -p ${bamqcfolder}"
   ]
  },
  {
   "cell_type": "code",
   "execution_count": null,
   "metadata": {},
   "outputs": [],
   "source": [
    "## Code cell 18 ##\n",
    "\n",
    "rnaseqfolder=\"${qualimapfolder}rnaseq/\"\n",
    "mkdir -p ${rnaseqfolder}"
   ]
  },
  {
   "cell_type": "markdown",
   "metadata": {},
   "source": [
    "--\n",
    "### 3.2 - General view with <code>qualimap bamqc</code>\n",
    "---"
   ]
  },
  {
   "cell_type": "markdown",
   "metadata": {},
   "source": [
    "The **qualimap** options we will use are: <br>\n",
    "\n",
    "- `-bam filepath`: input mapping file in BAM format, with reads sorted by coordinates\n",
    "- `-gff filepath` or `--feature-file path/to/file`, the path to the feature file with regions of interest in GFF/GTF or BED format\n",
    "- `-outdir text`: output folder for HTML report and raw results.\n",
    "- `-p VALUE` or `--sequencing-protocol VALUE`, sequencing library protocol: strand-specific-forward, strand-specific-reverse or non-strand-specific (default).\n",
    "- `c` or `--paint-chromosome-limits`: paint chromosome limits inside charts\n",
    "- `outformat`: Qualimap produces by default an HTML report but we may ask for a PDF or both using corresponding predefined values (PDF, HTML or PDF:HTML for both)."
   ]
  },
  {
   "cell_type": "markdown",
   "metadata": {},
   "source": [
    "<ul class=\"alert alert-block alert-info\">\n",
    "    <li>\n",
    "        See <a href=\"http://qualimap.conesalab.org/doc_html/analysis.html#bam-qc\">online manual</a> for more details\n",
    "    </li>\n",
    "</ul>"
   ]
  },
  {
   "cell_type": "markdown",
   "metadata": {
    "tags": []
   },
   "source": [
    "<div class=\"alert alert-block alert-danger\"> <a id=\"section3.2\"></a>\n",
    "    Following <b>command is prepared for usage on a computational cluster</b> such as the <i>Institut Français de Bioinformatique</i> (IFB)'s core cluster. We use a session defined as <b>5 CPU with 21 GB available for RAM</b>. Adapt it to your ressources.\n",
    "</div>"
   ]
  },
  {
   "cell_type": "code",
   "execution_count": null,
   "metadata": {},
   "outputs": [],
   "source": [
    "## Code cell 19 ##\n",
    "\n",
    "logfile=\"${logfolder}qualimap_bamqc_3samples.log\"\n",
    "echo \"Screen output is redirected to ${logfile}\"\n",
    "\n",
    "# as time command does not redirect output\n",
    "echo \"operation starts at $(date)\" >> ${logfile}\n",
    "\n",
    "for fn in $(ls \"${mappedfolder}\"*_Aligned.sortedByCoord.out.bam); do   \n",
    "    \n",
    "    mysortedbam=$(basename ${fn})\n",
    "    id=${mysortedbam/_Aligned.sortedByCoord.out.bam/}\n",
    "    echo \"===== Processing sampleID: ${id}...\" | tee -a ${logfile}\n",
    "\n",
    "    myoutdir=\"${bamqcfolder}${id}\"\n",
    "    echo \"destination folder is ${myoutdir}\" >> ${logfile}\n",
    "    \n",
    "    echo \"qualimap bamqc starts at $(date)\" >> ${logfile}\n",
    "    qualimap bamqc -bam ${fn} \\\n",
    "                    --feature-file \"${gtffile}\" \\\n",
    "                    --sequencing-protocol non-strand-specific \\\n",
    "                    --paint-chromosome-limits \\\n",
    "                    -outdir ${myoutdir} \\\n",
    "                    --java-mem-size=20G \\\n",
    "                    &>> ${logfile}\n",
    "    echo \"qualimap bamqc ends at $(date)\" >> ${logfile}\n",
    "    \n",
    "    echo \"... done\" | tee -a ${logfile}\n",
    "  \n",
    "done "
   ]
  },
  {
   "cell_type": "code",
   "execution_count": null,
   "metadata": {},
   "outputs": [],
   "source": [
    "## Code cell 20 ##\n",
    "echo \"operation ends at $(date)\" >> ${logfile}\n",
    "\n",
    "echo \"=== Files created after qualimap bamqc ===\" >> ${logfile}\n",
    "tree \"${bamqcfolder}\" >> ${logfile}\n",
    "echo \"Qualimap generated $(find \"${bamqcfolder}\" -name *.html | wc -l) html reports.\""
   ]
  },
  {
   "cell_type": "markdown",
   "metadata": {},
   "source": [
    "We can know how long this cell lasts, thanks to ``logfile``:"
   ]
  },
  {
   "cell_type": "code",
   "execution_count": null,
   "metadata": {},
   "outputs": [],
   "source": [
    "## Code cell 21 ##\n",
    "\n",
    "grep -e \"operation\" ${logfile}"
   ]
  },
  {
   "cell_type": "markdown",
   "metadata": {},
   "source": [
    "--\n",
    "### 3.3 - Specific RNAseq plots with <code>qualimap rnaseq</code>\n",
    "---"
   ]
  },
  {
   "cell_type": "markdown",
   "metadata": {},
   "source": [
    "``qualimap rnaseq``, a Qualimap specific option for RNAseq data, gives some more metrics: \n",
    "- a *Reads genomic origin* circus-plot to check that reads map to exons\n",
    "- two *Coverage Profile Along Genes* plots (low and high)\n",
    "- a *Junction Analysis* circus-plot to distinguish between known and novel junctions"
   ]
  },
  {
   "cell_type": "markdown",
   "metadata": {},
   "source": [
    "<ul class=\"alert alert-block alert-info\">\n",
    "    <li>\n",
    "        See <a href=\"http://qualimap.conesalab.org/doc_html/analysis.html#rna-seq-qc\">online manual for this tool</a> for more details\n",
    "    </li>\n",
    "</ul>"
   ]
  },
  {
   "cell_type": "markdown",
   "metadata": {},
   "source": [
    "#### **3.3.a - Understanding operations**"
   ]
  },
  {
   "cell_type": "markdown",
   "metadata": {},
   "source": [
    "With paired end data, we could use following lines:  \n",
    "<code>qualimap rnaseq -pe \\  \n",
    "               -bam path/to/sortedByNames.bam \\ \n",
    "               -gtf path/to/gencode_annotation.gtf \\ \n",
    "               -outdir path/to/outputfolder/</code>"
   ]
  },
  {
   "cell_type": "markdown",
   "metadata": {},
   "source": [
    "Those options, along with others, are explained in manual:\n",
    "<blockquote>\n",
    "     <code>-pe</code> or <code>--paired</code> Setting this flag for paired-end experiments will result in counting fragments instead of reads <br>\n",
    "     <code>-bam path/to/file.bam</code>, to locate input mapping file in BAM format. <br>\n",
    "     <code>-gtf path/to/file.gtf</code>, where to find annotations file in Ensembl GTF format (no compressed format). <br>\n",
    "     <code>-outdir path/to/folder/</code> to define output folder for HTML report and raw data. <br> \n",
    "</blockquote>\n",
    "\n",
    "There are some more options of interest and we will use the first two while letting the third one by default:\n",
    "<blockquote>\n",
    "     <code>-p VALUE</code> or <code>--sequencing-protocol VALUE</code>, to precise sequencing library protocol. VALUES among: strand-specific-forward, strand-specific-reverse or non-strand-specific (default) <br>\n",
    "     <code>-oc path/to/outfile.counts</code>, to place output file for computed counts in a distinct folder. If only name of the file is provided, then the file will be saved in the output folder. <br>\n",
    "     <code>-a</code> or <code>--algorithm</code>, to set counting algorithm: uniquely-mapped-reads(default) or proportional.\n",
    "</blockquote>"
   ]
  },
  {
   "cell_type": "markdown",
   "metadata": {},
   "source": [
    "Contrary to `bamqc`, `rnaseq` Qualimap tool needs alignment files to be sorted by read names. By default, if given otherwise, it will sort `.bam` file... but we already noticed that handling those big files is quite slow with only one process running at a time.  \n",
    "So we will use `samtools sort` tool to perform it with multiple threads at a time and give `qualimap rnaseq` an already sorted input file and let it know with <code>-s</code> or <code>--sorted</code> (Only required for paired-end analysis...)."
   ]
  },
  {
   "cell_type": "markdown",
   "metadata": {},
   "source": [
    "In order to follow this process, we will use this command format:  \n",
    "<code>samtools sort -n \\ \n",
    "            -@ X -m YG \\ \n",
    "            -O BAM \\ \n",
    "            -o path/to/sortedByNames.bam \\ \n",
    "            -T path/to/temporaryfolder/ \\ \n",
    "            path/to/input.bam</code>"
   ]
  },
  {
   "cell_type": "markdown",
   "metadata": {},
   "source": [
    "where options correspond to:  \n",
    "<blockquote>\n",
    "    <code>-n</code> for activating sorting by read name (<i>i.e.</i> the QNAME field) <br>\n",
    "    <code>-o FILE</code>    Write final output to FILE rather than standard output <br>\n",
    "    <code>-T PREFIX</code>, to write temporary files to a particular folder. Used names are <i>PREFIX.nnnn.bam</i>, where <i>nnnn</i> stands for a 4-digit number <br>\n",
    "    <code>-O</code> or <code>--output-fmt FORMAT</code> to specify output format (SAM, BAM or CRAM). If not mentionned, <code>samtools</code> will deduce it from file extension (not available if there is no written output file!) <br>\n",
    "    <code>-@ INT</code> or <code>--threads INT</code>, the number of additional threads to use [0]. Indeed, you will  only use 1 thread by default. <br>\n",
    "    <code>-m INT</code>, to limit maximum memory per thread; suffix K/M/G recognized [768M]\n",
    "</blockquote>"
   ]
  },
  {
   "cell_type": "markdown",
   "metadata": {},
   "source": [
    "#### **3.3.b - Running <code>qualimap rnaseq</code> loop... with patience**"
   ]
  },
  {
   "cell_type": "markdown",
   "metadata": {},
   "source": [
    "<div class=\"alert alert-block alert-warning\">\n",
    "    Below cell will run for <b>at least 30 minutes per sample</b>. Either you come back later or you may use JupyterLab option to <i>Run selected cell and all below</i> in <i>Run</i> Menu (top bar).\n",
    "</div>"
   ]
  },
  {
   "cell_type": "markdown",
   "metadata": {
    "tags": []
   },
   "source": [
    "<div class=\"alert alert-block alert-danger\"> <a id=\"section3.2\"></a>\n",
    "    Following <b>command is prepared for usage on a computational cluster</b> such as the <i>Institut Français de Bioinformatique</i> (IFB)'s core cluster. We use a session defined as <b>5 CPU with 21 GB available for RAM</b>. Adapt it to your ressources.\n",
    "</div>"
   ]
  },
  {
   "cell_type": "code",
   "execution_count": null,
   "metadata": {},
   "outputs": [],
   "source": [
    "## Code cell 22 ##\n",
    "\n",
    "logfile=\"${logfolder}qualimap_rnaseq_3samples.log\""
   ]
  },
  {
   "cell_type": "code",
   "execution_count": null,
   "metadata": {},
   "outputs": [],
   "source": [
    "## Code cell 23 ##\n",
    "\n",
    "echo \"Screen output is redirected to ${logfile}\"\n",
    "\n",
    "# as time command does not redirect output\n",
    "echo \"operation starts at $(date)\" >> ${logfile}\n",
    "\n",
    "for fn in $(ls \"${mappedfolder}\"*_Aligned.sortedByCoord.out.bam); do  \n",
    "    \n",
    "    mysortedbam=$(basename ${fn})\n",
    "    id=${mysortedbam/_Aligned.sortedByCoord.out.bam/}\n",
    "    echo \"===== Processing sampleID: ${id}...\" | tee -a ${logfile}\n",
    "    echo \"input filename: ${fn}\"\n",
    "    \n",
    "    # some preparation\n",
    "    mytempfile=\"${rnaseqfolder}${id}_Aligned.sortedByNames.bam\"\n",
    "    myoutdir=\"${rnaseqfolder}${id}/\"\n",
    "    mkdir -p ${myoutdir}\n",
    "    echo \"destination folder ${myoutdir}\" >> ${logfile}\n",
    "    \n",
    "    # bam sorting...\n",
    "    echo \"samtools starts at $(date)\" >> ${logfile}\n",
    "    \n",
    "    samtools sort -n \\\n",
    "                --threads 3 -m 5G \\\n",
    "                --output-fmt BAM \\\n",
    "                -o ${mytempfile} \\\n",
    "                -T ${rnaseqfolder} \\\n",
    "                --verbosity 3 \\\n",
    "                ${fn} \\\n",
    "                &>> ${logfile}\n",
    "    \n",
    "    echo \"samtools ends at $(date)\" >> ${logfile}\n",
    "\n",
    "    # some user conversation to help being patient\n",
    "\n",
    "    echo \"...changing tool...\" | tee -a ${logfile}\n",
    "\n",
    "    # then rnaseq QC from Qualimap\n",
    "    echo \"qualimap rnaseq starts at $(date)\" >> ${logfile}\n",
    "    qualimap rnaseq -bam ${mytempfile} \\\n",
    "                        --sorted \\\n",
    "                        -gtf \"${gtffile}\" \\\n",
    "                        --sequencing-protocol non-strand-specific \\\n",
    "                        --paired \\\n",
    "                        -outdir ${myoutdir} \\\n",
    "                        --java-mem-size=20G \\\n",
    "                        &>> ${logfile}\n",
    "    echo \"qualimap rnaseq ends at $(date)\" >> ${logfile}\n",
    "    \n",
    "    # removing extra bam file... saving disk space\n",
    "    rm ${mytempfile}\n",
    "    \n",
    "    echo \"... done\" | tee -a ${logfile}\n",
    "    \n",
    "done"
   ]
  },
  {
   "cell_type": "code",
   "execution_count": null,
   "metadata": {},
   "outputs": [],
   "source": [
    "## Code cell 24 ##\n",
    "echo \"operation ends at $(date)\" >> ${logfile}\n",
    "\n",
    "echo \"=== Files created after qualimap rnaseq ===\" >> ${logfile}\n",
    "tree \"${rnaseqfolder}\" >> ${logfile}\n",
    "echo \"Qualimap generated $(find \"${rnaseqfolder}\" -name *.html | wc -l) html reports.\" | tee -a ${logfile}"
   ]
  },
  {
   "cell_type": "code",
   "execution_count": null,
   "metadata": {},
   "outputs": [],
   "source": [
    "## Code cell 25 ##\n",
    "\n",
    "#logfile=\"/shared/projects/2312_rnaseq_cea/scaburet/Results/logfiles/qualimap_rnaseq_3samples.log\"\n",
    "grep -e \"operation\" ${logfile}"
   ]
  },
  {
   "cell_type": "markdown",
   "metadata": {},
   "source": [
    "---\n",
    "---\n",
    "## 4- Having a summary report with MultiQC\n",
    "---"
   ]
  },
  {
   "cell_type": "markdown",
   "metadata": {},
   "source": [
    "### 4.1 - Preparations steps\n",
    "---"
   ]
  },
  {
   "cell_type": "markdown",
   "metadata": {},
   "source": [
    "#### **4.1.a - Tool presentation and version**"
   ]
  },
  {
   "cell_type": "markdown",
   "metadata": {},
   "source": [
    "When numerous samples are processed, it can easily become tedious to look in each mapping quality report. So we'll run MultiQC (https://multiqc.info/), that scans automatically a folder for all quality checks outputs and produce a single report. MutliQC runs on almost any possible NGS tools (https://multiqc.info/docs/#multiqc-modules)."
   ]
  },
  {
   "cell_type": "code",
   "execution_count": null,
   "metadata": {},
   "outputs": [],
   "source": [
    "## Code cell 26 ##\n",
    "\n",
    "multiqc --version"
   ]
  },
  {
   "cell_type": "markdown",
   "metadata": {},
   "source": [
    "#### **4.1.b - Personnalize the report: setting variables**"
   ]
  },
  {
   "cell_type": "markdown",
   "metadata": {},
   "source": [
    "Please, specify **file name** you want to have (do not worry about extension, MultiQC will handle this for us) inside quotes in the next cell. <a id=\"multiqctextvar\"></a>  \n",
    "<b>DO NOT use spaces or any special characters!</b>"
   ]
  },
  {
   "cell_type": "code",
   "execution_count": null,
   "metadata": {},
   "outputs": [],
   "source": [
    "## Code cell 27 ##\n",
    "\n",
    "inamemyfile=\"4_starAlignments-bam-files-3samples\""
   ]
  },
  {
   "cell_type": "markdown",
   "metadata": {},
   "source": [
    "Please, specify a meaningful **title** inside quotes in the next cell, to display at the head of your oncoming report.\n",
    "<b>No more space limit but still avoid any special characters.</b> "
   ]
  },
  {
   "cell_type": "code",
   "execution_count": null,
   "metadata": {},
   "outputs": [],
   "source": [
    "## Code cell 28 ##\n",
    "\n",
    "mytitle=\"Sorted by coordinates bam files quality for 3 paired end sequenced samples, from double-Htz B-ALL mice study (Dataset GSE158673, subSerie GSE158661)\""
   ]
  },
  {
   "cell_type": "markdown",
   "metadata": {},
   "source": [
    "Besides, we can add a comment in header's report. It's a good practise to do so. So we will define it in following cell.\n",
    "\n",
    "> In this cell, we use several lines to keep it readable when displaying notebook. As your text lines are just collapsed together in the html report, be sure to keep last blank space when ending every line)."
   ]
  },
  {
   "cell_type": "code",
   "execution_count": null,
   "metadata": {},
   "outputs": [],
   "source": [
    "## Code cell 29 ##\n",
    "\n",
    "mycomment=$(echo \"Bam files derived from bulk RNA sequencing (mouse, unstranded) \" \\\n",
    "\"Performed by Ramamoorthy et al. 2020 (PMID:  33004416 ; GEO: GSE158673, subSerie GSE158661 ; SRA: PRJNA666155). \" \\\n",
    "\"RNASeq analysis to unravel molecular networks driving leukemia in Ebf1+/-Pax5+/- (dHet) B-ALL mice : To profile gene expression changes in  Ebf1+/-Pax5+/- (dHet) leukemic mice, RNASeq analysis was performed in dHet B-ALL, dHet proB and wt proB\n",
    "cells.     \" \\\n",
    "\"PRJNA666155: 3 dHet mice, 2 replicates; proB cells derived from dHet pre-leukemic mouse, 3 replicates; wt proB cells, 2 replicates. \" \\\n",
    "\"Mapping to the reference genome (mouse, Gencode GRCm39, release 32) performed by STAR. Additionnal settings:  \" \\\n",
    "\"Unmapped or too multimapped (>20) are kept in separate file, GeneCounts quantification mode activated.\")"
   ]
  },
  {
   "cell_type": "markdown",
   "metadata": {},
   "source": [
    "... and don't forget to specify the output folder!"
   ]
  },
  {
   "cell_type": "code",
   "execution_count": null,
   "metadata": {},
   "outputs": [],
   "source": [
    "## Code cell 30 ##\n",
    "\n",
    "qcsummaries=\"${gohome}$USER/Results/multiqc/\""
   ]
  },
  {
   "cell_type": "markdown",
   "metadata": {},
   "source": [
    "--\n",
    "### 4.2 - Generate MultiQC summary report\n",
    "---"
   ]
  },
  {
   "cell_type": "markdown",
   "metadata": {},
   "source": [
    "MultiQC is verbose but, as it will work only on FastQC reports, it is quite short.  *This time, we will have qualimap bamqc, qualimap rnaseq, samtools stats and samtools idxstats*!\n",
    "So, we will let it lines show in notebook while saving them in a file for later use."
   ]
  },
  {
   "cell_type": "code",
   "execution_count": null,
   "metadata": {},
   "outputs": [],
   "source": [
    "## Code cell 31 ##\n",
    "\n",
    "logfile=\"${logfolder}multiqc-processing_mapped-quality-3samples.log\"\n",
    "echo \"Screen output is also saved in ${logfile}\"\n",
    "\n",
    "# as time command does not redirect output\n",
    "echo \"operation starting at $(date)\" >> ${logfile}\n",
    "time multiqc --interactive --export \\\n",
    "        --module star ${mappedfolder} \\\n",
    "        --module samtools ${samtoolsfolder} \\\n",
    "        --module qualimap ${qualimapfolder} \\\n",
    "        --outdir \"${qcsummaries}\" \\\n",
    "        --filename \"${inamemyfile}\" \\\n",
    "        --title \"${mytitle}\"  \\\n",
    "        --comment \"${mycomment}\" \\\n",
    "        \"${gohome}${USER}/Results/\" \\\n",
    "        |& tee -a ${logfile}\n",
    "echo \"operation finished at $(date)\" >> ${logfile}\n",
    "\n",
    "# to see which files we have afterward and follow folder sizes\n",
    "ls -lh \"${qcsummaries}\" >> ${logfile}\n",
    "\n",
    "du -h -d1 \"${gohome}$USER/Results/\" >> ${logfile}"
   ]
  },
  {
   "cell_type": "markdown",
   "metadata": {
    "tags": []
   },
   "source": [
    "--\n",
    "### 4.3 - Retrieve MultiQC report for all samples\n",
    "---"
   ]
  },
  {
   "cell_type": "markdown",
   "metadata": {},
   "source": [
    "Similar reports were generated for all 11 samples. They are available in the allData folder, and we can have a copy in our personal folder for later use."
   ]
  },
  {
   "cell_type": "code",
   "execution_count": null,
   "metadata": {},
   "outputs": [],
   "source": [
    "## Code cell 32 ##   \n",
    "\n",
    "cp -r \"${gohome}allData/Results/multiqc/4_starAlignments-bam-files_data\" \"${gohome}$USER/Results/multiqc/\"\n",
    "cp -r \"${gohome}allData/Results/multiqc/4_starAlignments-bam-files_plots\" \"${gohome}$USER/Results/multiqc/\"\n",
    "cp \"${gohome}allData/Results/multiqc/4_starAlignments-bam-files.html\" \"${gohome}$USER/Results/multiqc/\""
   ]
  },
  {
   "cell_type": "markdown",
   "metadata": {},
   "source": [
    "---\n",
    "---\n",
    "## 5 - Monitoring disk space usage\n",
    "---"
   ]
  },
  {
   "cell_type": "code",
   "execution_count": null,
   "metadata": {},
   "outputs": [],
   "source": [
    "## Code cell 33 ##\n",
    "\n",
    "du -h -d2 ${gohome}$USER"
   ]
  },
  {
   "cell_type": "markdown",
   "metadata": {
    "tags": []
   },
   "source": [
    "---\n",
    "___\n",
    "\n",
    "## Conclusion\n",
    "\n",
    "\n",
    "**Next Practical session**"
   ]
  },
  {
   "cell_type": "markdown",
   "metadata": {},
   "source": [
    "Now we go on to reads quantification at gene level.  \n",
    "  \n",
    "**=> Step 6: Reads Count** "
   ]
  },
  {
   "cell_type": "markdown",
   "metadata": {},
   "source": [
    "The jupyter notebook used for the next session will be *Pipe_06-bash_reads-counts.ipynb.ipynb*    \n",
    "Let's retrieve it in our directory, in order to have a private copy to work on:   "
   ]
  },
  {
   "cell_type": "code",
   "execution_count": null,
   "metadata": {
    "tags": []
   },
   "outputs": [],
   "source": [
    "## Code cell 34 ##   \n",
    "\n",
    "cp \"${gohome}pipeline/Pipe_06-bash_reads-counts.ipynb\" \"${gohome}$USER/\""
   ]
  },
  {
   "cell_type": "markdown",
   "metadata": {},
   "source": [
    "\n",
    "\n",
    "**Save executed notebook**\n",
    "\n",
    "To end the session, save your exectued notebook in your `run_notebooks' folder. Adjust the name with yours and reformat as code cell to run it."
   ]
  },
  {
   "cell_type": "raw",
   "metadata": {
    "tags": []
   },
   "source": [
    "## Code cell 46 ##   \n",
    "#mkdir -p /shared/projects/2312_rnaseq_cea/$USER/run_notebooks\n",
    "cp /shared/projects/2312_rnaseq_cea/$USER/Pipe_05-bash_mapping-quality.ipynb /shared/projects/2312_rnaseq_cea/$USER/run_notebooks"
   ]
  },
  {
   "cell_type": "markdown",
   "metadata": {
    "tags": []
   },
   "source": [
    "<div class=\"alert alert-block alert-success\"><b>Success:</b> Well done! You now know how to do QCs on mapped reads.<br>\n",
    "Don't forget to save you notebook and export a copy as an <b>html</b> file as well <br>\n",
    "- Open \"File\" in the Menu<br>\n",
    "- Select \"Export Notebook As\"<br>\n",
    "- Export notebook as HTML<br>\n",
    "- You can then open it in your browser even without being connected to the server! \n",
    "</div>"
   ]
  },
  {
   "cell_type": "markdown",
   "metadata": {},
   "source": [
    "---\n",
    "---"
   ]
  },
  {
   "cell_type": "markdown",
   "metadata": {
    "tags": []
   },
   "source": [
    "## Useful commands\n",
    "<div class=\"alert alert-block alert-info\"> \n",
    "    \n",
    "- <kbd>CTRL</kbd>+<kbd>S</kbd> : save notebook<br>    \n",
    "- <kbd>CTRL</kbd>+<kbd>ENTER</kbd> : Run Cell<br>  \n",
    "- <kbd>SHIFT</kbd>+<kbd>ENTER</kbd> : Run Cell and Select Next<br>   \n",
    "- <kbd>ALT</kbd>+<kbd>ENTER</kbd> : Run Cell and Insert Below<br>   \n",
    "- <kbd>ESC</kbd>+<kbd>y</kbd> : Change to *Code* Cell Type<br>  \n",
    "- <kbd>ESC</kbd>+<kbd>m</kbd> : Change to *Markdown* Cell Type<br> \n",
    "- <kbd>ESC</kbd>+<kbd>r</kbd> : Change to *Raw* Cell Type<br>    \n",
    "- <kbd>ESC</kbd>+<kbd>a</kbd> : Create Cell Above<br> \n",
    "- <kbd>ESC</kbd>+<kbd>b</kbd> : Create Cell Below<br> \n",
    "\n",
    "<em>  \n",
    "To make nice html reports with markdown: <a href=\"https://dillinger.io/\" title=\"dillinger.io\">html visualization tool 1</a> or <a href=\"https://stackedit.io/app#\" title=\"stackedit.io\">html visualization tool 2</a>, <a href=\"https://www.tablesgenerator.com/markdown_tables\" title=\"tablesgenerator.com\">to draw nice tables</a>, and the <a href=\"https://medium.com/analytics-vidhya/the-ultimate-markdown-guide-for-jupyter-notebook-d5e5abf728fd\" title=\"Ultimate guide\">Ultimate guide</a>. <br>\n",
    "Further reading on JupyterLab notebooks: <a href=\"https://jupyterlab.readthedocs.io/en/latest/user/notebook.html\" title=\"Jupyter Lab\">Jupyter Lab documentation</a>.<br>   \n",
    "</em>    \n",
    " \n",
    "</div>"
   ]
  },
  {
   "cell_type": "markdown",
   "metadata": {
    "tags": []
   },
   "source": [
    "---\n",
    "Bénédicte Noblet - 05-07 2021   \n",
    "Sandrine Caburet - 02-05 2023   \n",
    "Claire Vandiedonck - 01-06 2023  \n",
    "Maj 03/06/2023 by @CVandiedonck"
   ]
  }
 ],
 "metadata": {
  "kernelspec": {
   "display_name": "Bash",
   "language": "bash",
   "name": "bash"
  },
  "language_info": {
   "codemirror_mode": "shell",
   "file_extension": ".sh",
   "mimetype": "text/x-sh",
   "name": "bash"
  },
  "toc-autonumbering": false,
  "toc-showcode": true
 },
 "nbformat": 4,
 "nbformat_minor": 4
}

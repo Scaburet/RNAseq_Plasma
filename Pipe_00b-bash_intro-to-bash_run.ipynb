{
 "cells": [
  {
   "cell_type": "markdown",
   "id": "f665898b-0117-4387-8ed0-d699f17bbe70",
   "metadata": {},
   "source": [
    "# Formation RNAseq CEA - juin 2024\n",
    "\n",
    "*Enseignantes: Sandrine Caburet et Claire Vandiedonck.*\n",
    "\n",
    "Session IFB : 5 CPU + 10 GB de RAM\n",
    "\n",
    "# Part 00b: Découverte des commandes de base en bash (Unix) : \n",
    "\n",
    ">- pwd, ls\n",
    ">- du, df\n",
    ">- tree, cd\n",
    ">- mkdir, touch, echo, nano\n",
    ">- cp, mv\n",
    ">- rm, rmdir\n",
    ">- cat, head, tail\n",
    ">- wc, sort, cut, grep, sed\n",
    ">- md5sum"
   ]
  },
  {
   "cell_type": "markdown",
   "id": "76d8d34a-5132-4349-807e-9144535b6029",
   "metadata": {},
   "source": [
    "## Plan du notebook\n",
    "\n",
    "- 0 - Avant d'aller plus loin\n",
    "- 1 - Introduction\n",
    "- 2 - Système de fichiers\n",
    "- 3 - Manipulation de fichiers et répertoires\n",
    "- 4 - Lire, explorer un fichier et écrire dedans\n",
    "- 5 - Sommes de contrôle\n",
    "- 6 - Un peu d'automatisation : variables et boucles\n"
   ]
  },
  {
   "cell_type": "markdown",
   "id": "87f73d4d-7a9a-4745-a9e5-9c7fb1800ed8",
   "metadata": {
    "tags": []
   },
   "source": [
    "---\n",
    "---\n",
    "\n",
    "## 0 - Avant d'aller plus loin\n",
    "---\n",
    "\n",
    "<div class=\"alert alert-block alert-warning\"> ⚠️\n",
    "    <u>Ce notebook doit être dans le dossier correspondant à votre <b>home</b></u> dans laquelle vous arrivez en cliquant dans l'arboresence, en haut à gauche du navigateur de l'interface Jupyter lab:\n",
    "    <ul>\n",
    "    <li>vous cliquez d'abord sur <code>projects</code><il>\n",
    "    <li>puis sur <code>shared</code> au dessus de <code>projects</code><il>\n",
    "    <li>puis sur <code>home</code> dans <code>projects</code><il>\n",
    "    <li>puis sur le dossier dans <code>home</code> qui correspond à votre <code>login</code><il></ul>\n",
    "   \n",
    "Si ce n'est pas le cas, supprimez-le du dossier où vous l'avez mis et mettez-le de nouveau directement dans le bon dossier depuis votre ordinateur.</div>\n",
    "        \n",
    "Nous vous expliquerons un peu plus loin ce qu'est votre `home` et l'`arboresence` unix.\n"
   ]
  },
  {
   "cell_type": "markdown",
   "id": "859b37df-3cdd-4e52-9d49-db084d816757",
   "metadata": {
    "tags": []
   },
   "source": [
    "<div class=\"alert alert-block alert-danger\"> 🚨 <b>Attention:</b> \n",
    "Ne travaillez pas directement sur ce notebook pour ne pas le perdre. Dupliquez-le et renommez-le par exemple en ajoutant vos initiales et travaillez sur cette nouvelle copie.<br>\n",
    "    N'oubliez pas de sauvegarder régulièrement votre notebook: <kbd>Ctrl</kbd> + <kbd>S</kbd>. ou en cliquant sur l'icone 💾 en haut à gauche de votre notebook ou dans le Menu du JupyterLab \"File puis \"Save Notebook\"!\n",
    "</div>"
   ]
  },
  {
   "cell_type": "markdown",
   "id": "1bc416de-6edc-4545-aa95-ffece0a30a4b",
   "metadata": {},
   "source": [
    "<div class=\"alert alert-block alert-info\"> \n",
    "   \n",
    "💡 <b>Rappel :</b> Vous pouvez prendre des notes directement dans ce notebook, en ajoutant une cellule Markdown en cliquant sur l'icône <kbd>➕</kbd> dans la barre des menus, et en choisissant son format dans le menu déroulant. \n",
    "Les astuces pour utiliser les cellules des notebooks sont rappelées tout en bas dans un cadre bleu ⏬.\n",
    "</div>"
   ]
  },
  {
   "cell_type": "markdown",
   "id": "2221abc4-4329-46e3-9bac-006b6c73dba0",
   "metadata": {},
   "source": [
    "=> ***A propos de ce notebook jupyter***\n",
    "\n",
    "Ce notebook jupyter notebook est en **bash**, ce qui signifie que les commandes que vous entrerez dans les cellules de `Code` seront directement lues en Bash par le serveur. <br> Vous pourriez executez ces mêmes commandes dans un  `Terminal` (l'effroyable fenêtre noire :😰). "
   ]
  },
  {
   "cell_type": "markdown",
   "id": "4f5e4029-3135-4a94-b451-603db72100c6",
   "metadata": {},
   "source": [
    "  \n",
    "Dans ce notebook, <u>**vous aurez 3 types de cellule de code :**</u>\n",
    "    \n",
    "- des cellules de code déjà renseigné sans questions (texte en noir au dessus) : il s'agit de commandes avec les explications fournies avant/après en mode \"tutoriel\"\n",
    "- <span style=\"color:green\">des cellules avec le code déjà renseigné avec des questions (texte en vert au-dessus):</span> vous devrez comprendre les commandes correspondantes.\n",
    "- <span style=\"color:blue\">des cellules sans code avec des instructions en bleu au dessus :</span> vous devrez trouver et écrire le code adéquat\n"
   ]
  },
  {
   "cell_type": "markdown",
   "id": "fb28ae98-9c14-4d64-a06c-7c5bf09941d6",
   "metadata": {},
   "source": [
    "Dans ce TP, vous lancerez **chaque cellule l'une après l'autre dans l'ordre**. Si vous revenez en arrière et rééxécuter une cellule, veillez à relancer les suivantes. Les cellules sont numérotées dans leur ordre d'exécution."
   ]
  },
  {
   "cell_type": "markdown",
   "id": "d7c59419-8116-4a82-8d6c-45003e35274a",
   "metadata": {},
   "source": [
    "---\n",
    "---\n",
    "\n",
    "## 1. Introduction : un aperçu du shell Unix\n",
    "---"
   ]
  },
  {
   "cell_type": "markdown",
   "id": "4d3ef14a-cfbb-4c94-a080-e120780f42d7",
   "metadata": {
    "jp-MarkdownHeadingCollapsed": true,
    "tags": []
   },
   "source": [
    "### 1.1. Shell, bash et terminal\n",
    "---\n",
    "\n",
    "Un ***shell*** est un programme qui attend un ordre de la part de l'utilisateur, exécute cet ordre, affiche le résultat puis attend à nouveau un ordre. En anglais on parle de *REPL* pour *Read Execute Print Loop*. Il existe plusieurs *shells* : *Bash*, *csh*, *zsh*... Ici on ne parlera que du *shell* *Bash* qui est le plus utilisé. Cela dit, toutes les commandes présentées ici sont communes à tous les *shells* Unix.\n",
    "\n",
    "Lorsqu'on donne des ordres à un *shell*, on utilise ni menu, ni bouton, ni case à cocher. Tous les ordres sont **écrits** au *shell*.\n",
    "\n",
    "Le *shell* fonctionne sur un ordinateur, qui n'a aucune capacité d'abstraction ni d'intuition. Pour que les ordres donnés au *shell* soient compris et exécutés, il faut respecter des règles bien précises :\n",
    "\n",
    "1. Dans Unix, tous les caractères sont *sensibles à la casse*, c'est-à-dire l'utilisation des majuscules et des minuscules. Par exemple la commande `ls` existe mais pas `LS` ou `Ls` ni `lS`.\n",
    "2. N'utilisez pas d'accents et évitez les caractères spéciaux. \n",
    "3. Il faut bien comprendre que le caractère espace est utilisé pour séparer l'instruction des options et des arguments et que par conséquent **le caractère `espace` ne doit plus être utilisé** dans les noms de fichiers ou de répertoires.\n",
    "4. Dans les cellules de `Code` du notebook Jupyter, les lignes débutant par un `#` sont des commentaires qui ne seront pas interprétées comme des commandes. Elles ont été ajoutées pour vous aider. Vous pouvez ajouter vos propres commentaires ou notes dans ce document, soit dans des cellules de `Code` en utilisant `#`, soit dans des cellules de type `Markdown` que vous pouvez ajouter en cliquant sur le <kbd>➕</kbd> dans le menu en haut à gauche de ce notebook. \n",
    "\n",
    "***Bash*** est un interpréteur de lignes de commande (*shell*) utilisé sur des systèmes Unix / Linux. C'est un des *shells* les plus utilisés sous Linux.\n",
    "\n",
    "Enfin, un ***terminal*** (ou une console) est un logiciel graphique qui lance un *shell*. C'est ce dernier (le *shell*) qui va exécuter vos ordres. Dans un notebook, les ordres sont directement mis dans les cellules de code.\n",
    "\n",
    "\n",
    "<div class=\"alert alert-block alert-info\"> 💡 <b>Info :</b> <br>Si vous souhaitez mieux comprendre la différence entre <i>shell</i> et <i>terminal</i>, jetez un oeil à cette <a href=\"https://www.youtube.com/watch?v=U2b-MYcSCLc\">vidéo</a>.</div>"
   ]
  },
  {
   "cell_type": "markdown",
   "id": "2a810597-30fe-4ce3-8c9c-08dfeb418211",
   "metadata": {},
   "source": [
    "--\n",
    "### 1.2. Invite de commande\n",
    "---\n",
    "\n",
    "Lorsque vous lancez un *shell*, l'invite de commande, c'est-à-dire la zone à gauche du curseur qui clignote, ressemble à quelque chose du type :\n",
    "\n",
    ">claire@7920-Tower:~$\n",
    "\n",
    "ou bien encore\n",
    "\n",
    ">[cvandiedonck@cpu-node-15 ~]$\n",
    "\n",
    "ou bien encore\n",
    "\n",
    ">[cvandiedonck@cpu-node-15 cvandiedonck]$\n",
    "\n",
    "voire\n",
    "\n",
    ">toto $\n",
    "\n",
    "<div class=\"alert alert-block alert-info\"> <b> 💡 Info :</b> <br>\n",
    "Dans de nombreuses ressources en ligne, on vous indique des commandes en mettant l'invite de commande, généralement représentée par un simple \"\\$\" en tout début de ligne. Par exemple, \"\\$ pwd\". Dans ce cas, pour reproduire les commandes présentées, il ne faut pas taper ce caractère \"\\$\" en début de ligne. Cela signifie : tapez l'instruction <code>pwd</code> dans le <i>shell</i> (sans le <code>$</code>), puis validez cette commande en pressant la touche <kbd>Entrée</kbd>.<br>Dans une cellule de Jupyter notebook, le prompt n'apparaît pas. Vous savez quel langage vous utilisez <i>(bash ici)</i> en regardant le nom du <b><i>kernel</i></b> (<i>noyau</i>) utilisé dans le coin en haut à droite du notebook.</div>"
   ]
  },
  {
   "cell_type": "markdown",
   "id": "0d5cbf64-6171-42b8-ad56-344a618396ea",
   "metadata": {},
   "source": [
    "---\n",
    "---\n",
    "\n",
    "## 2. Système de fichiers \n",
    "---\n",
    "\n",
    "Le système de fichiers (*file system*) d'un système d'exploitation (*operating system* ou *OS*) permet l'organisation hiérarchique des fichiers (*file*) et des répertoires/dossiers (*directory*). Un ensemble de commandes Unix permettent de se déplacer dans cette arborescence, de créer/renommer/déplacer/effacer des fichiers ou des répertoires. \n"
   ]
  },
  {
   "cell_type": "markdown",
   "id": "edc1f746-c9f7-42ce-b21b-c03cf8fcf3bb",
   "metadata": {},
   "source": [
    "### 2.1. Répertoire de travail/répertoire courant\n",
    "---\n",
    "\n",
    "Sous Unix, les répertoires et les fichiers sont organisés sous forme d'une structure en arbre. On parle d'arborescence (voir l'[illustration](https://swcarpentry.github.io/shell-novice/fig/home-directories.svg) de [Software Carpentry](https://swcarpentry.github.io/shell-novice/02-filedir.html)).\n",
    "\n",
    "Le répertoire dont dépendent tous les autres est le `/` qu'on appelle la « racine » (*root* en anglais), les différents sous-répertoires sont séparés les uns des autres par le caractère `/` (le même caractère que la racine).\n",
    "\n",
    "Pour se déplacer dans l'arborescence, il faut d'abord savoir à quel niveau on se trouve à un instant donné, c'est-à-dire **connaitre le répertoire de travail** (*working directory* ou *wd*) encore appelé **répertoire courant**. \n",
    "\n",
    "<span style=\"color:blue\">- Exécutez la commande `pwd` qui affiche le répertoire de travail (<i>print working directory</i>):</span>"
   ]
  },
  {
   "cell_type": "code",
   "execution_count": 1,
   "id": "e14fc91a-c0d2-4cb6-8bae-7a6dec6a01f5",
   "metadata": {},
   "outputs": [
    {
     "name": "stdout",
     "output_type": "stream",
     "text": [
      "/shared/home/cvandiedonck\n"
     ]
    }
   ],
   "source": [
    "# cell 1\n",
    "pwd"
   ]
  },
  {
   "cell_type": "markdown",
   "id": "11772517-8f69-41fc-ab14-90e1158553bb",
   "metadata": {},
   "source": [
    "<div class=\"alert alert-block alert-success\">\n",
    "Vous devriez obtenir ceci: <code>/shared/ifbstor1/home/votre_login/</code> ou <code>/shared/home/votre_login/</code></div>"
   ]
  },
  {
   "cell_type": "markdown",
   "id": "090a4122-84c0-44a6-9c16-67a572d7bd13",
   "metadata": {},
   "source": [
    "Remarquez que le chemin affiché contient votre `Username`, c'est à dire que le dossier correspondant à votre `home` a été créé avec le même nom que votre login.\n",
    "\n",
    "Dans l'exemple de `/shared/home/cvandiedonck` :\n",
    "\n",
    "- on se trouve dans le répertoire `cvandiedonck`,\n",
    "- qui est lui-même un sous-répertoire du répertoire `home`,\n",
    "- qui est lui-même un sous-répertoire du répertoire `shared`,\n",
    "- qui est lui-même un sous-répertoire du répertoire `/` (la racine du système de fichiers).\n",
    "\n",
    "`/shared/home/cvandiedonck` est aussi appelé un **chemin** car il indique la succession des répertoires à suivre pour arriver jusqu'au dernier répertoire `cvandiedonck`. D'abord la racine  `/`, puis `shared`, puis `home`, et enfin `cvandiedonck`.\n",
    "\n",
    "\n",
    "Il s'agit du **chemin absolu** (*absolute path*) de votre actuel répertoire de travail. Remarquez qu' <span style=\"color:red\"><b>un chemin absolu commence toujours par un \"slash\" `/`</b></span> , qui désigne la racine (*root*) de l'arborescence.\n",
    "\n",
    "\n",
    "Il existe aussi des **chemins relatifs** (donc qui ne débutent pas par `/`) que l'on verra plus tard.\n",
    "\n",
    "\n",
    "<div class=\"alert alert-block alert-danger\"> 🚨 <b>Attention:</b> \n",
    "Ne confondez pas le <code>/</code> qui, lorsqu'il est placé au tout au début d'un chemin, désigne la racine, du même caractère <code>/</code> qui sépare deux répertoires successifs.\n",
    "</div>\n",
    "\n",
    "\n",
    "<div class=\"alert alert-block alert-info\"> <b> 💡 Info :</b> <br>\n",
    "<b>Le <code>home</code> est votre répertoire principal</b> sur l'IFB (et tout autre serveur). Le symbole <code>~</code> (touches <kbd>AltGr</kbd>+<kbd>2</kbd> sur Azerty PC ou <kbd>Alt</kbd>+<kbd>n</kbd> sur un Azerty Mac) est un raccourci de votre home. Vous pouvez utiliser ce symbole plutôt que le chemin absolu/relatif de votre home.</div>\n",
    "\n"
   ]
  },
  {
   "cell_type": "markdown",
   "id": "711c7a0e-0374-43d0-967b-c829d4d5a0bd",
   "metadata": {},
   "source": [
    "--\n",
    "### 2.2. Contenu d'un répertoire\n",
    "---\n",
    "\n",
    "#### 2.2.A. Lister le contenu du répertoire de travail\n",
    "---\n"
   ]
  },
  {
   "cell_type": "markdown",
   "id": "87f5a0da-e700-468e-ad43-66644d1b2f0e",
   "metadata": {},
   "source": [
    "La commande `ls` (pour *list*) affiche le contenu d'un répertoire :\n",
    "\n",
    "<span style=\"color:blue\">- Listez (<i>list</i>) les fichiers/répertoires du répertoire courant à l'aide de la commande `ls`:</span>"
   ]
  },
  {
   "cell_type": "code",
   "execution_count": 2,
   "id": "fd5302e2-f8e9-4194-85bd-1d14bdae55f2",
   "metadata": {},
   "outputs": [
    {
     "name": "stdout",
     "output_type": "stream",
     "text": [
      "Pipe_00a-bash-bienvenue-sur-IFB.ipynb\t intro-to-jupyter-notebooks_en.ipynb\n",
      "Pipe_00b-bash_intro-to-bash-Copy1.ipynb  mnt\n",
      "Pipe_00b-bash_intro-to-bash.ipynb\t ondemand\n",
      "R\t\t\t\t\t to_hide\n",
      "intro-to-bash_en.ipynb\n"
     ]
    }
   ],
   "source": [
    "# cell 2\n",
    "ls"
   ]
  },
  {
   "cell_type": "markdown",
   "id": "07fc94bc-4a8a-44e4-9e42-d8500372f266",
   "metadata": {},
   "source": [
    "Comparez le résultat à ce qui est affiché dans la barre latérale gauche de l'interface. Ce doit être identique."
   ]
  },
  {
   "cell_type": "markdown",
   "id": "40700749-d4e1-49ae-8149-efab6b0b7021",
   "metadata": {},
   "source": [
    "L'affichage se fait sous forme d'une série de valeurs sur une même ligne ou plusieurs lignes.\n",
    "\n",
    "\n",
    "On peut modifier le comportement par défaut d'une commande avec une (ou plusieurs) option(s). Cette option est séparée de la commande `ls` par un ou plusieurs espaces.\n",
    "\n",
    "Par exemple avec `-r` :"
   ]
  },
  {
   "cell_type": "code",
   "execution_count": 3,
   "id": "72b16bfb-eacf-413b-baca-4342ac6231c2",
   "metadata": {},
   "outputs": [
    {
     "name": "stdout",
     "output_type": "stream",
     "text": [
      "to_hide\t\t\t\t     R\n",
      "ondemand\t\t\t     Pipe_00b-bash_intro-to-bash.ipynb\n",
      "mnt\t\t\t\t     Pipe_00b-bash_intro-to-bash-Copy1.ipynb\n",
      "intro-to-jupyter-notebooks_en.ipynb  Pipe_00a-bash-bienvenue-sur-IFB.ipynb\n",
      "intro-to-bash_en.ipynb\n"
     ]
    }
   ],
   "source": [
    "# cell 3\n",
    "ls -r"
   ]
  },
  {
   "cell_type": "markdown",
   "id": "5ee8e675-2b58-421f-bd89-5509cedf3a5e",
   "metadata": {},
   "source": [
    "Cette commane a listé les fichiers dans l'ordre inverse. L'option `-r` signifie reverse.\n",
    "\n",
    "\n",
    "<div class=\"alert alert-block alert-warning\"> 📝 Retenez qu’il faut au moins un espace entre une commande et son option.</div>"
   ]
  },
  {
   "cell_type": "markdown",
   "id": "4c15d6aa-53ab-4336-80f0-0b78677b6baf",
   "metadata": {},
   "source": [
    "<div class=\"alert alert-block alert-info\"> <b> 💡 Info :</b> <br>\n",
    "Pour trouver de l'aide sur les commandes, on peut utiliser la commande <code>man</code> ou l'option <code>--help</code>.</div>\n",
    "\n",
    "> La commande `man` (pour *manuel*) affiche la documentation associée à une commande. Par exemple pour la commande `ls` :\n",
    "\n",
    "```bash\n",
    "$ man ls\n",
    "```\n",
    "\n",
    "*Si vous êtes dans un terminal et non dans un notebook : utilisez les flèches <kbd>↓</kbd> et <kbd>↑</kbd> pour naviguer dans cette aide; la touche <kbd>Espace</kbd> saute une page à la fois alors que la touche <kbd>Q</kbd> quitte l'aide et revient au *shell*.*\n",
    "\n",
    "> Par ailleurs, de nombreuses commandes Unix disposent de l'option `--help` qui affiche une aide succincte :\n",
    "\n",
    "```bash\n",
    "$ ls --help\n",
    "Usage: ls [OPTION]... [FILE]...\n",
    "List information about the FILEs (the current directory by default).\n",
    "Sort entries alphabetically if none of -cftuvSUX nor --sort is specified.\n",
    "\n",
    "Mandatory arguments to long options are mandatory for short options too.\n",
    "  -a, --all                  do not ignore entries starting with .\n",
    "  -A, --almost-all           do not list implied . and ..\n",
    "      --author               with -l, print the author of each file\n",
    "  -b, --escape               print C-style escapes for nongraphic characters\n",
    "      --block-size=SIZE      scale sizes by SIZE before printing them; e.g.,\n",
    "\n",
    "[...]\n",
    "\n"
   ]
  },
  {
   "cell_type": "markdown",
   "id": "3b6f9922-45c2-4dc5-8900-8a5481dd0ddf",
   "metadata": {},
   "source": [
    "➡️ <span style=\"color:blue\"> <u>   A vous de jouer</u>    </span> \n",
    "\n",
    "<span style=\"color:blue\">    \n",
    "    - En consultant l'aide intégrée avec <code>--help</code>, faites-vous une idée du nombre de possibilités pour changer l'affichage du résultat de la commande <code>ls</code>  (il devrait y avoir beaucoup de possibilités, plus ou moins intéressantes ou compréhensibles...). </span>"
   ]
  },
  {
   "cell_type": "code",
   "execution_count": 4,
   "id": "520bb46d-e682-41f0-b21c-e6caf682459b",
   "metadata": {},
   "outputs": [
    {
     "name": "stdout",
     "output_type": "stream",
     "text": [
      "Usage: ls [OPTION]... [FILE]...\n",
      "List information about the FILEs (the current directory by default).\n",
      "Sort entries alphabetically if none of -cftuvSUX nor --sort is specified.\n",
      "\n",
      "Mandatory arguments to long options are mandatory for short options too.\n",
      "  -a, --all                  do not ignore entries starting with .\n",
      "  -A, --almost-all           do not list implied . and ..\n",
      "      --author               with -l, print the author of each file\n",
      "  -b, --escape               print C-style escapes for nongraphic characters\n",
      "      --block-size=SIZE      scale sizes by SIZE before printing them; e.g.,\n",
      "                               '--block-size=M' prints sizes in units of\n",
      "                               1,048,576 bytes; see SIZE format below\n",
      "  -B, --ignore-backups       do not list implied entries ending with ~\n",
      "  -c                         with -lt: sort by, and show, ctime (time of last\n",
      "                               modification of file status information);\n",
      "                               with -l: show ctime and sort by name;\n",
      "                               otherwise: sort by ctime, newest first\n",
      "  -C                         list entries by columns\n",
      "      --color[=WHEN]         colorize the output; WHEN can be 'never', 'auto',\n",
      "                               or 'always' (the default); more info below\n",
      "  -d, --directory            list directories themselves, not their contents\n",
      "  -D, --dired                generate output designed for Emacs' dired mode\n",
      "  -f                         do not sort, enable -aU, disable -ls --color\n",
      "  -F, --classify             append indicator (one of */=>@|) to entries\n",
      "      --file-type            likewise, except do not append '*'\n",
      "      --format=WORD          across -x, commas -m, horizontal -x, long -l,\n",
      "                               single-column -1, verbose -l, vertical -C\n",
      "      --full-time            like -l --time-style=full-iso\n",
      "  -g                         like -l, but do not list owner\n",
      "      --group-directories-first\n",
      "                             group directories before files;\n",
      "                               can be augmented with a --sort option, but any\n",
      "                               use of --sort=none (-U) disables grouping\n",
      "  -G, --no-group             in a long listing, don't print group names\n",
      "  -h, --human-readable       with -l, print sizes in human readable format\n",
      "                               (e.g., 1K 234M 2G)\n",
      "      --si                   likewise, but use powers of 1000 not 1024\n",
      "  -H, --dereference-command-line\n",
      "                             follow symbolic links listed on the command line\n",
      "      --dereference-command-line-symlink-to-dir\n",
      "                             follow each command line symbolic link\n",
      "                               that points to a directory\n",
      "      --hide=PATTERN         do not list implied entries matching shell PATTERN\n",
      "                               (overridden by -a or -A)\n",
      "      --indicator-style=WORD  append indicator with style WORD to entry names:\n",
      "                               none (default), slash (-p),\n",
      "                               file-type (--file-type), classify (-F)\n",
      "  -i, --inode                print the index number of each file\n",
      "  -I, --ignore=PATTERN       do not list implied entries matching shell PATTERN\n",
      "  -k, --kibibytes            default to 1024-byte blocks for disk usage\n",
      "  -l                         use a long listing format\n",
      "  -L, --dereference          when showing file information for a symbolic\n",
      "                               link, show information for the file the link\n",
      "                               references rather than for the link itself\n",
      "  -m                         fill width with a comma separated list of entries\n",
      "  -n, --numeric-uid-gid      like -l, but list numeric user and group IDs\n",
      "  -N, --literal              print raw entry names (don't treat e.g. control\n",
      "                               characters specially)\n",
      "  -o                         like -l, but do not list group information\n",
      "  -p, --indicator-style=slash\n",
      "                             append / indicator to directories\n",
      "  -q, --hide-control-chars   print ? instead of nongraphic characters\n",
      "      --show-control-chars   show nongraphic characters as-is (the default,\n",
      "                               unless program is 'ls' and output is a terminal)\n",
      "  -Q, --quote-name           enclose entry names in double quotes\n",
      "      --quoting-style=WORD   use quoting style WORD for entry names:\n",
      "                               literal, locale, shell, shell-always, c, escape\n",
      "  -r, --reverse              reverse order while sorting\n",
      "  -R, --recursive            list subdirectories recursively\n",
      "  -s, --size                 print the allocated size of each file, in blocks\n",
      "  -S                         sort by file size\n",
      "      --sort=WORD            sort by WORD instead of name: none (-U), size (-S),\n",
      "                               time (-t), version (-v), extension (-X)\n",
      "      --time=WORD            with -l, show time as WORD instead of default\n",
      "                               modification time: atime or access or use (-u)\n",
      "                               ctime or status (-c); also use specified time\n",
      "                               as sort key if --sort=time\n",
      "      --time-style=STYLE     with -l, show times using style STYLE:\n",
      "                               full-iso, long-iso, iso, locale, or +FORMAT;\n",
      "                               FORMAT is interpreted like in 'date'; if FORMAT\n",
      "                               is FORMAT1<newline>FORMAT2, then FORMAT1 applies\n",
      "                               to non-recent files and FORMAT2 to recent files;\n",
      "                               if STYLE is prefixed with 'posix-', STYLE\n",
      "                               takes effect only outside the POSIX locale\n",
      "  -t                         sort by modification time, newest first\n",
      "  -T, --tabsize=COLS         assume tab stops at each COLS instead of 8\n",
      "  -u                         with -lt: sort by, and show, access time;\n",
      "                               with -l: show access time and sort by name;\n",
      "                               otherwise: sort by access time\n",
      "  -U                         do not sort; list entries in directory order\n",
      "  -v                         natural sort of (version) numbers within text\n",
      "  -w, --width=COLS           assume screen width instead of current value\n",
      "  -x                         list entries by lines instead of by columns\n",
      "  -X                         sort alphabetically by entry extension\n",
      "  -1                         list one file per line\n",
      "\n",
      "SELinux options:\n",
      "\n",
      "  --lcontext                 Display security context.   Enable -l. Lines\n",
      "                             will probably be too wide for most displays.\n",
      "  -Z, --context              Display security context so it fits on most\n",
      "                             displays.  Displays only mode, user, group,\n",
      "                             security context and file name.\n",
      "  --scontext                 Display only security context and file name.\n",
      "      --help     display this help and exit\n",
      "      --version  output version information and exit\n",
      "\n",
      "SIZE is an integer and optional unit (example: 10M is 10*1024*1024).  Units\n",
      "are K, M, G, T, P, E, Z, Y (powers of 1024) or KB, MB, ... (powers of 1000).\n",
      "\n",
      "Using color to distinguish file types is disabled both by default and\n",
      "with --color=never.  With --color=auto, ls emits color codes only when\n",
      "standard output is connected to a terminal.  The LS_COLORS environment\n",
      "variable can change the settings.  Use the dircolors command to set it.\n",
      "\n",
      "Exit status:\n",
      " 0  if OK,\n",
      " 1  if minor problems (e.g., cannot access subdirectory),\n",
      " 2  if serious trouble (e.g., cannot access command-line argument).\n",
      "\n",
      "GNU coreutils online help: <http://www.gnu.org/software/coreutils/>\n",
      "Report ls translation bugs to <http://translationproject.org/team/>\n",
      "For complete documentation, run: info coreutils 'ls invocation'\n"
     ]
    }
   ],
   "source": [
    "# cell 4\n",
    "ls --help"
   ]
  },
  {
   "cell_type": "markdown",
   "id": "274a51f2-2bac-4ec8-88b2-818a693dffa2",
   "metadata": {},
   "source": [
    "<span style=\"color:blue\"> - Trouvez le/les argument/s à ajouter à la commande `ls` pour :  </span>"
   ]
  },
  {
   "cell_type": "markdown",
   "id": "153d079f-ee71-4c1f-af02-17dc2841ec38",
   "metadata": {},
   "source": [
    "<span style=\"color:blue\"> <b>a-</b>\n",
    "faire apparaître des fichiers/répertoires cachés, c'est-à-dire les fichiers/répertoires dont le nom commence par un point `.`</span>"
   ]
  },
  {
   "cell_type": "code",
   "execution_count": 5,
   "id": "1670f5ba-92cd-4be9-a18a-ce7e7808f89f",
   "metadata": {},
   "outputs": [
    {
     "name": "stdout",
     "output_type": "stream",
     "text": [
      ".\t\t       .jupyter_33584636.log\n",
      "..\t\t       .jupyter_33595902.log\n",
      ".Rhistory\t       .jupyter_33595980.log\n",
      ".Xauthority\t       .jupyter_33597522.log\n",
      ".apptainer\t       .jupyter_33610834.log\n",
      ".bash_history\t       .jupyter_33615082.log\n",
      ".bash_logout\t       .jupyter_33616236.log\n",
      ".bash_profile\t       .jupyter_33624288.log\n",
      ".bashrc\t\t       .jupyter_33630600.log\n",
      ".cache\t\t       .jupyter_33631595.log\n",
      ".conda\t\t       .jupyter_33633177.log\n",
      ".config\t\t       .jupyter_33633566.log\n",
      ".emacs\t\t       .jupyter_33640924.log\n",
      ".gitconfig\t       .jupyter_33641150.log\n",
      ".ipynb_checkpoints     .jupyter_33645891.log\n",
      ".ipython\t       .jupyter_33646142.log\n",
      ".java\t\t       .jupyter_33647977.log\n",
      ".jupyter\t       .jupyter_33651711.log\n",
      ".jupyter_14643943.log  .jupyter_33652090.log\n",
      ".jupyter_14652528.log  .jupyter_33657087.log\n",
      ".jupyter_14663664.log  .jupyter_33663350.log\n",
      ".jupyter_15101339.log  .jupyter_33667468.log\n",
      ".jupyter_15209207.log  .jupyter_33676975.log\n",
      ".jupyter_15210126.log  .jupyter_33677858.log\n",
      ".jupyter_15215247.log  .jupyter_33686159.log\n",
      ".jupyter_15219510.log  .jupyter_33692989.log\n",
      ".jupyter_15220784.log  .jupyter_33698067.log\n",
      ".jupyter_15225232.log  .jupyter_33698314.log\n",
      ".jupyter_15225306.log  .jupyter_33701152.log\n",
      ".jupyter_15225667.log  .jupyter_33705398.log\n",
      ".jupyter_15225682.log  .jupyter_33714862.log\n",
      ".jupyter_15271181.log  .jupyter_33715702.log\n",
      ".jupyter_15274208.log  .jupyter_34021516.log\n",
      ".jupyter_15314913.log  .jupyter_34062798.log\n",
      ".jupyter_15342542.log  .jupyter_34062835.log\n",
      ".jupyter_15354731.log  .jupyter_35082866.log\n",
      ".jupyter_15365374.log  .jupyter_35084954.log\n",
      ".jupyter_15394159.log  .jupyter_35094037.log\n",
      ".jupyter_15400930.log  .jupyter_35183249.log\n",
      ".jupyter_15479499.log  .jupyter_35194318.log\n",
      ".jupyter_15541889.log  .jupyter_35406039.log\n",
      ".jupyter_15918402.log  .jupyter_35432023.log\n",
      ".jupyter_15958761.log  .jupyter_35432814.log\n",
      ".jupyter_16037712.log  .jupyter_35442608.log\n",
      ".jupyter_16090428.log  .jupyter_35448684.log\n",
      ".jupyter_16199541.log  .jupyter_35451766.log\n",
      ".jupyter_17009599.log  .jupyter_35467949.log\n",
      ".jupyter_17016886.log  .jupyter_35473610.log\n",
      ".jupyter_17070047.log  .jupyter_35498248.log\n",
      ".jupyter_17132566.log  .jupyter_37293222.log\n",
      ".jupyter_17138959.log  .jupyter_37411750.log\n",
      ".jupyter_17144554.log  .jupyter_37591299.log\n",
      ".jupyter_17725938.log  .local\n",
      ".jupyter_18386746.log  .ncbi\n",
      ".jupyter_18483673.log  .npm\n",
      ".jupyter_18676946.log  .pki\n",
      ".jupyter_18776602.log  .rstudio\n",
      ".jupyter_18819501.log  .singularity\n",
      ".jupyter_18896402.log  .ssh\n",
      ".jupyter_19009605.log  .subversion\n",
      ".jupyter_19020040.log  .xemacs\n",
      ".jupyter_19183685.log  Pipe_00a-bash-bienvenue-sur-IFB.ipynb\n",
      ".jupyter_19419942.log  Pipe_00b-bash_intro-to-bash-Copy1.ipynb\n",
      ".jupyter_19758716.log  Pipe_00b-bash_intro-to-bash.ipynb\n",
      ".jupyter_19884218.log  R\n",
      ".jupyter_22188251.log  intro-to-bash_en.ipynb\n",
      ".jupyter_22457754.log  intro-to-jupyter-notebooks_en.ipynb\n",
      ".jupyter_22548596.log  mnt\n",
      ".jupyter_23368874.log  ondemand\n",
      ".jupyter_33423340.log  to_hide\n"
     ]
    }
   ],
   "source": [
    "# cell 5\n",
    "ls -a"
   ]
  },
  {
   "cell_type": "markdown",
   "id": "7d6f2536-67d4-4663-b1de-bc36aca92e83",
   "metadata": {},
   "source": [
    "Par défaut, il y a deux répertoires cachés qui sont toujours présents et sont créés automatiquement : `.` et `..`\n",
    "\n",
    "- Le répertoire `.` désigne le répertoire courant.\n",
    "- Le répertoire `..` désigne le répertoire parent. Par exemple, si on est dans le répertoire `/shared/home/cvandiedonck`, alors `..` désigne le répertoire `/shared/home/`.\n",
    "\n",
    "D'autres fichiers/répertoires cachés peuvent parfois être présents. Ils correspondent à des fichiers/répertoires de configuration qui n'ont pas vocation à être modifiés régulièrement, notamment dans le cadre d'une utilisation scientifique. Néanmoins, ils permettent de configurer vos préférences (langues, éditeur de texte, shell à utiliser, etc.), de stocker des historiques, des identifiants à des sites distants, etc.\n"
   ]
  },
  {
   "cell_type": "markdown",
   "id": "d783da32-322e-4e6f-a5ef-45c8f0a03168",
   "metadata": {},
   "source": [
    "<span style=\"color:blue\"> <b>b-</b>\n",
    "n'avoir qu'un seul nom (un seul fichier ou répertoire) par ligne dans un format long</span>"
   ]
  },
  {
   "cell_type": "code",
   "execution_count": 6,
   "id": "2787c269-36f9-4bf0-aee1-5d6b2379dad7",
   "metadata": {},
   "outputs": [
    {
     "name": "stdout",
     "output_type": "stream",
     "text": [
      "total 844\n",
      "-rw-rw---- 1 cvandiedonck cvandiedonck 161507 Jun 12 14:44 Pipe_00a-bash-bienvenue-sur-IFB.ipynb\n",
      "-rw-r--r-- 1 cvandiedonck cvandiedonck 223800 Jun 12 19:37 Pipe_00b-bash_intro-to-bash-Copy1.ipynb\n",
      "-rw-rw---- 1 cvandiedonck cvandiedonck 188892 Jun 12 19:37 Pipe_00b-bash_intro-to-bash.ipynb\n",
      "drwxr-xr-x 5 cvandiedonck cvandiedonck   4096 Jun 26  2023 R\n",
      "-rw-r--r-- 1 cvandiedonck cvandiedonck 101949 Mar  7 22:56 intro-to-bash_en.ipynb\n",
      "-rw-r--r-- 1 cvandiedonck cvandiedonck 142111 Mar  7 22:56 intro-to-jupyter-notebooks_en.ipynb\n",
      "drwxrwxr-x 3 cvandiedonck cvandiedonck   4096 Mar  9  2020 mnt\n",
      "drwxr-xr-x 3 cvandiedonck cvandiedonck   4096 Jan 29 12:08 ondemand\n",
      "drwxr-xr-x 4 cvandiedonck cvandiedonck   4096 Mar  7 20:42 to_hide\n"
     ]
    }
   ],
   "source": [
    "ls -l"
   ]
  },
  {
   "attachments": {
    "c2c8d756-ba96-47be-b80b-ec3219ff2a19.png": {
     "image/png": "[encoded data removed]"
    }
   },
   "cell_type": "markdown",
   "id": "8bbb5596-a350-44ba-bedd-bec660838b03",
   "metadata": {},
   "source": [
    "L'affichage devrait se faire ligne par ligne et indiquer, pour chaque élément du répertoire de travail, s'il s'agit d'un fichier (`-`) ou un répertoire (`d`); les permissions (`rwx`) de lecture/écriture/exécution (*read/write/execute*) pour successivement le propriétaire, pour le groupe et pour tout le monde ; le propriétaire ; le groupe ; la taille et la date et heure de modification.\n",
    "\n",
    "![droits.png](attachment:c2c8d756-ba96-47be-b80b-ec3219ff2a19.png)"
   ]
  },
  {
   "cell_type": "markdown",
   "id": "57e4cfd7-b9d5-45cb-a438-8b0b677a6d92",
   "metadata": {},
   "source": [
    "Notez que sur le serveur de l'IFB, il existe une gestion plus avancée des droits des groupes et utilisateurs appellée ACL (pour *Access Control List*). Les repertoires et fichiers concernés apparaissant  avec un `+` à la fin des droits, lesquels ne sont pas toujours explicites dans ce cas. Si des ACLs ont été appliqués, dans ce cas la commande pour voir les droits est `$ getfacl repertoire`."
   ]
  },
  {
   "cell_type": "code",
   "execution_count": 7,
   "id": "526fbe16-cce2-4448-b889-69ebf984befe",
   "metadata": {},
   "outputs": [
    {
     "name": "stdout",
     "output_type": "stream",
     "text": [
      "# file: .\n",
      "# owner: cvandiedonck\n",
      "# group: cvandiedonck\n",
      "user::rwx\n",
      "group::---\n",
      "other::---\n",
      "\n"
     ]
    }
   ],
   "source": [
    "# cell 7\n",
    "getfacl ."
   ]
  },
  {
   "cell_type": "markdown",
   "id": "4ce2e5d9-ac95-4bd3-949c-08c762e1978f",
   "metadata": {},
   "source": [
    "- On peut combiner des options dans une même commande de manière séparée :"
   ]
  },
  {
   "cell_type": "code",
   "execution_count": 8,
   "id": "5208d48a-078f-4e3b-b2f4-306cf27585c6",
   "metadata": {},
   "outputs": [
    {
     "name": "stdout",
     "output_type": "stream",
     "text": [
      "total 844K\n",
      "-rw-rw---- 1 cvandiedonck cvandiedonck 158K Jun 12 14:44 Pipe_00a-bash-bienvenue-sur-IFB.ipynb\n",
      "-rw-r--r-- 1 cvandiedonck cvandiedonck 219K Jun 12 19:37 Pipe_00b-bash_intro-to-bash-Copy1.ipynb\n",
      "-rw-rw---- 1 cvandiedonck cvandiedonck 185K Jun 12 19:37 Pipe_00b-bash_intro-to-bash.ipynb\n",
      "drwxr-xr-x 5 cvandiedonck cvandiedonck 4.0K Jun 26  2023 R\n",
      "-rw-r--r-- 1 cvandiedonck cvandiedonck 100K Mar  7 22:56 intro-to-bash_en.ipynb\n",
      "-rw-r--r-- 1 cvandiedonck cvandiedonck 139K Mar  7 22:56 intro-to-jupyter-notebooks_en.ipynb\n",
      "drwxrwxr-x 3 cvandiedonck cvandiedonck 4.0K Mar  9  2020 mnt\n",
      "drwxr-xr-x 3 cvandiedonck cvandiedonck 4.0K Jan 29 12:08 ondemand\n",
      "drwxr-xr-x 4 cvandiedonck cvandiedonck 4.0K Mar  7 20:42 to_hide\n"
     ]
    }
   ],
   "source": [
    "# cell 8\n",
    "ls -l -h"
   ]
  },
  {
   "cell_type": "markdown",
   "id": "0ab3c1c5-4dc1-4815-85b3-384cf6cdf733",
   "metadata": {},
   "source": [
    "- ou groupée :"
   ]
  },
  {
   "cell_type": "code",
   "execution_count": 9,
   "id": "bb176732-ac05-4ad8-aa3a-6c87f2923e45",
   "metadata": {},
   "outputs": [
    {
     "name": "stdout",
     "output_type": "stream",
     "text": [
      "total 844K\n",
      "-rw-rw---- 1 cvandiedonck cvandiedonck 158K Jun 12 14:44 Pipe_00a-bash-bienvenue-sur-IFB.ipynb\n",
      "-rw-r--r-- 1 cvandiedonck cvandiedonck 219K Jun 12 19:37 Pipe_00b-bash_intro-to-bash-Copy1.ipynb\n",
      "-rw-rw---- 1 cvandiedonck cvandiedonck 185K Jun 12 19:37 Pipe_00b-bash_intro-to-bash.ipynb\n",
      "drwxr-xr-x 5 cvandiedonck cvandiedonck 4.0K Jun 26  2023 R\n",
      "-rw-r--r-- 1 cvandiedonck cvandiedonck 100K Mar  7 22:56 intro-to-bash_en.ipynb\n",
      "-rw-r--r-- 1 cvandiedonck cvandiedonck 139K Mar  7 22:56 intro-to-jupyter-notebooks_en.ipynb\n",
      "drwxrwxr-x 3 cvandiedonck cvandiedonck 4.0K Mar  9  2020 mnt\n",
      "drwxr-xr-x 3 cvandiedonck cvandiedonck 4.0K Jan 29 12:08 ondemand\n",
      "drwxr-xr-x 4 cvandiedonck cvandiedonck 4.0K Mar  7 20:42 to_hide\n"
     ]
    }
   ],
   "source": [
    "# cell 9\n",
    "ls -lh"
   ]
  },
  {
   "cell_type": "markdown",
   "id": "61f29bbc-b68b-4fc4-9a29-b6c58023074d",
   "metadata": {},
   "source": [
    "Ici ces options, fréquemment utilisés, sont sous une forme courte. Mais vous pouvez très bien utiliser des arguments en forme longue, plus explicites. La plupart du temps, les arguments longs doivent être indiqués avec un double tiret : `--`\n"
   ]
  },
  {
   "cell_type": "markdown",
   "id": "074a5125-6986-48bb-9a32-f06a4de08cb2",
   "metadata": {},
   "source": [
    "<span style=\"color:green\">- <b>Question 1 :</b> Qu'est-ce que l'argument `-h` a permis de faire?</span>"
   ]
  },
  {
   "cell_type": "markdown",
   "id": "f1f4b310-a6ad-4587-ab09-a17033cefd64",
   "metadata": {},
   "source": [
    "-> Votre réponse... <span style=\"color:gray\">-> Par défaut, l'argument -l affiche les tailles en octet ce qui n'est pas toujours lisible. L'ajout de l'argument -h permet d'afficher les tailles dans un format lisible par un humain en arrondissant dans les unités les plus appropriées (kilo-octets, mégaoctets, ...).</span>"
   ]
  },
  {
   "cell_type": "markdown",
   "id": "011e52aa-79bf-4072-96c0-fa2e4cc9594c",
   "metadata": {},
   "source": [
    "Une combinaison d'options intéressantes est `-ltrh` qui affiche en dernier (en bas de la liste) le fichier modifié le plus récemment. L'option `-t` affiche les fichiers du plus récent au plus ancien et l'option `-r` inverse cet ordre, l’option -h pour afficher des tailles lisibles par des humains, c’est-à-dire en octets, ko, Mo et Go."
   ]
  },
  {
   "cell_type": "markdown",
   "id": "dedabb2e-10d8-49a4-b503-99e35b6bcfcc",
   "metadata": {},
   "source": [
    "On peut même obtenir des informations détaillées sur un fichier en particulier.\n",
    "Comme pour les options, il faut au moins un espace entre une commande et son ou ses arguments."
   ]
  },
  {
   "cell_type": "code",
   "execution_count": 10,
   "id": "523fafe3-4cce-42d9-866d-bb7361ea6fc5",
   "metadata": {},
   "outputs": [
    {
     "name": "stdout",
     "output_type": "stream",
     "text": [
      "-rw-rw---- 1 cvandiedonck cvandiedonck 158K Jun 12 14:44 Pipe_00a-bash-bienvenue-sur-IFB.ipynb\n"
     ]
    }
   ],
   "source": [
    "# cell 10\n",
    "ls -lh Pipe_00a-bash-bienvenue-sur-IFB.ipynb"
   ]
  },
  {
   "cell_type": "markdown",
   "id": "7567df49-234f-4f63-8509-9cc0d718a35a",
   "metadata": {},
   "source": [
    "Dans cet exemple, `ls` est la commande Unix, `-lh` sont les options et `Pipe_00a-bash-bienvenue-sur-IFB.ipynb` est l'argument.\n",
    "\n",
    "Cette anatomie d'une instruction Unix est schématisée dans l'illustration suivante :"
   ]
  },
  {
   "cell_type": "markdown",
   "id": "3909e71a-faec-4e55-835d-d4efee0c6310",
   "metadata": {},
   "source": [
    "![](https://swcarpentry.github.io/shell-novice/fig/shell_command_syntax.svg)\n",
    "\n",
    "Source : [Software Carpentry](https://swcarpentry.github.io/shell-novice/02-filedir/index.html)."
   ]
  },
  {
   "cell_type": "markdown",
   "id": "2cbb2565-3833-4c9e-b369-1557b5a3f2e5",
   "metadata": {
    "tags": []
   },
   "source": [
    "--\n",
    "#### 2.2.B. Lister le contenu de n'importe quel répertoire\n",
    "---\n",
    "\n",
    "\n",
    "Pour lister le contenu d'un répertoire autre que le répertoire de travail, il suffit d'utiliser la commande `ls` (suivie de ses éventuels options et arguments) suivie du **chemin absolu ou relatif** de ce répertoire.\n",
    "\n",
    "<div class=\"alert alert-block alert-warning\"> <b> 🧠 Rappels : </b><ul>\n",
    "    <li>le <b>chemin absolu</b> commence par un <code>/</code> et toute l'arborescence depuis la racine (<i>root</i>) est donnée</il>\n",
    "    <li>le <b>chemin relatif</b> est positionné par rapport à votre répertoire courant et ne démarre jamais pas un slash</li> </ul> </div>\n",
    "\n",
    "<span style=\"color:blue\"> - Listez le contenu du répertoire `/shared/projects/2413_rnaseq_cea`. <span>\n",
    "    \n",
    "<mark><span style=\"color:red\"> Ce répertoire situé ailleurs sur le serveur de l'IFB est le répertoire dédié à notre formation. C'est dans ce répertoire que nous travaillerons à partir des prochains notebooks pour faire notre analyse. </span></mark>\n"
   ]
  },
  {
   "cell_type": "code",
   "execution_count": 11,
   "id": "09d2f021-69eb-401d-a257-b6e44daeb636",
   "metadata": {},
   "outputs": [
    {
     "name": "stdout",
     "output_type": "stream",
     "text": [
      "total 112K\n",
      "drwxrwx---+ 2 root         root         4.0K Jun 11 16:34 ebourneuf\n",
      "drwxrwx---+ 2 root         root         4.0K Jun 11 16:35 gvinascosandoval\n",
      "drwxrwx---+ 2 root         root         4.0K Jun 11 16:35 kbenmeziane\n",
      "drwxrwx---+ 2 root         root         4.0K Jun 11 16:35 achicheportiche\n",
      "drwxrwx---+ 2 root         root         4.0K Jun 11 16:36 vcluzet\n",
      "drwxrwx---+ 2 root         root         4.0K Jun 11 16:36 cfovet\n",
      "drwxrwx---+ 2 root         root         4.0K Jun 11 16:36 sgerardchantalat\n",
      "drwxrwx---+ 2 root         root         4.0K Jun 11 16:37 ejougla\n",
      "drwxrwx---+ 2 root         root         4.0K Jun 11 16:37 jlemaitre\n",
      "drwxrwx---+ 2 root         root         4.0K Jun 11 16:37 lmadrange\n",
      "drwxrwx---+ 2 root         root         4.0K Jun 11 16:38 jmataorozco\n",
      "drwxrwx---+ 2 root         root         4.0K Jun 11 16:38 pmazet\n",
      "drwxrwx---+ 2 root         root         4.0K Jun 11 16:38 vmonteiro\n",
      "drwxrwx---+ 2 root         root         4.0K Jun 11 16:39 spetiton\n",
      "drwxrwx---+ 2 root         root         4.0K Jun 11 16:39 jpons\n",
      "drwxrwx---+ 2 root         root         4.0K Jun 11 16:39 bporcel\n",
      "drwxrwx---+ 2 root         root         4.0K Jun 11 16:40 jrussick\n",
      "drwxrwx---+ 2 root         root         4.0K Jun 11 16:40 esaindoy\n",
      "drwxrwx---+ 2 root         root         4.0K Jun 11 16:40 nseddiki\n",
      "drwxrwx---+ 2 root         root         4.0K Jun 12 09:27 noussada\n",
      "drwxrwx---+ 4 scaburet     scaburet     4.0K Jun 12 09:35 data11\n",
      "drwxrwx---+ 5 cvandiedonck cvandiedonck 4.0K Jun 12 11:12 allData-old\n",
      "drwxrwx---+ 8 root         root         4.0K Jun 12 13:28 alldata\n",
      "drwxrwx---+ 2 root         root         4.0K Jun 12 17:08 kbaczkowski\n",
      "drwxrwx---+ 7 scaburet     scaburet     4.0K Jun 12 18:03 scaburet\n",
      "drwxrwx---+ 3 root         root         4.0K Jun 12 18:32 staff\n",
      "drwxrwx---+ 4 cvandiedonck cvandiedonck 4.0K Jun 12 18:32 pipeline\n",
      "-rw-rw----+ 1 cvandiedonck cvandiedonck    0 Jun 12 19:29 tmp_file.txt\n",
      "drwxrwx---+ 7 cvandiedonck cvandiedonck 4.0K Jun 12 19:38 cvandiedonck\n",
      "getfacl: Removing leading '/' from absolute path names\n",
      "# file: shared/projects/2413_rnaseq_cea/\n",
      "# owner: root\n",
      "# group: root\n",
      "user::rwx\n",
      "group::rwx\n",
      "group:2413_rnaseq_cea:rwx\n",
      "mask::rwx\n",
      "other::---\n",
      "default:user::rwx\n",
      "default:group::rwx\n",
      "default:group:2413_rnaseq_cea:rwx\n",
      "default:mask::rwx\n",
      "default:other::---\n",
      "\n"
     ]
    }
   ],
   "source": [
    "# cell 11\n",
    "ls -ltrh /shared/projects/2413_rnaseq_cea\n",
    "getfacl /shared/projects/2413_rnaseq_cea/"
   ]
  },
  {
   "cell_type": "markdown",
   "id": "efe74d82-932f-4dd6-b2fd-aa6148a2a526",
   "metadata": {},
   "source": [
    "<span style=\"color:green\">- <b>Question 2</b>  Quels droits avez-vous sur ces fichiers/répertoires?</span>"
   ]
  },
  {
   "cell_type": "markdown",
   "id": "f586b053-fab3-4060-8157-6a19366bc8be",
   "metadata": {},
   "source": [
    "-> Votre réponse...<span style=\"color:gray\">tous pour moi</span>"
   ]
  },
  {
   "cell_type": "markdown",
   "id": "e11448c3-1653-4a02-8523-4fd7d71c040c",
   "metadata": {},
   "source": [
    "<div class=\"alert alert-block alert-info\"> <b> 💡 Info :</b> <br>\n",
    "A noter que le <b>répertoire courant</b> peut aussi s'indiquer avec son chemin absolu ou par un <code>.</code> ou <code>./</code> . </div>\n",
    "Ainsi les 3 (ou 4) commandes suivantes retournent le même résultat !"
   ]
  },
  {
   "cell_type": "code",
   "execution_count": 12,
   "id": "df65a480-26a2-4fa5-9d5e-4e8a0884a8cd",
   "metadata": {},
   "outputs": [
    {
     "name": "stdout",
     "output_type": "stream",
     "text": [
      "Pipe_00a-bash-bienvenue-sur-IFB.ipynb\t intro-to-jupyter-notebooks_en.ipynb\n",
      "Pipe_00b-bash_intro-to-bash-Copy1.ipynb  mnt\n",
      "Pipe_00b-bash_intro-to-bash.ipynb\t ondemand\n",
      "R\t\t\t\t\t to_hide\n",
      "intro-to-bash_en.ipynb\n"
     ]
    }
   ],
   "source": [
    "# cell 12\n",
    "ls"
   ]
  },
  {
   "cell_type": "code",
   "execution_count": 13,
   "id": "1f3cd7d2-c3b7-42a1-8c27-6d80bba568b1",
   "metadata": {},
   "outputs": [
    {
     "name": "stdout",
     "output_type": "stream",
     "text": [
      "Pipe_00a-bash-bienvenue-sur-IFB.ipynb\t intro-to-jupyter-notebooks_en.ipynb\n",
      "Pipe_00b-bash_intro-to-bash-Copy1.ipynb  mnt\n",
      "Pipe_00b-bash_intro-to-bash.ipynb\t ondemand\n",
      "R\t\t\t\t\t to_hide\n",
      "intro-to-bash_en.ipynb\n"
     ]
    }
   ],
   "source": [
    "# cell 13\n",
    "ls ./"
   ]
  },
  {
   "cell_type": "code",
   "execution_count": 14,
   "id": "dba3f3ef-aede-49e8-8728-c07166d1dca2",
   "metadata": {},
   "outputs": [
    {
     "name": "stdout",
     "output_type": "stream",
     "text": [
      "Pipe_00a-bash-bienvenue-sur-IFB.ipynb\t intro-to-jupyter-notebooks_en.ipynb\n",
      "Pipe_00b-bash_intro-to-bash-Copy1.ipynb  mnt\n",
      "Pipe_00b-bash_intro-to-bash.ipynb\t ondemand\n",
      "R\t\t\t\t\t to_hide\n",
      "intro-to-bash_en.ipynb\n"
     ]
    }
   ],
   "source": [
    "# cell 14\n",
    "ls ."
   ]
  },
  {
   "cell_type": "code",
   "execution_count": 15,
   "id": "e6fbfd6b-bb96-4825-a09b-f6bc5096b4f8",
   "metadata": {},
   "outputs": [
    {
     "name": "stdout",
     "output_type": "stream",
     "text": [
      "bash: cell: command not found\n",
      "Pipe_00a-bash-bienvenue-sur-IFB.ipynb\t intro-to-jupyter-notebooks_en.ipynb\n",
      "Pipe_00b-bash_intro-to-bash-Copy1.ipynb  mnt\n",
      "Pipe_00b-bash_intro-to-bash.ipynb\t ondemand\n",
      "R\t\t\t\t\t to_hide\n",
      "intro-to-bash_en.ipynb\n"
     ]
    }
   ],
   "source": [
    "cell 15\n",
    "ls /shared/home/cvandiedonck/ ## ici remplacez cvandiedonck par votre login et transformez cette cellule au format code."
   ]
  },
  {
   "cell_type": "markdown",
   "id": "0bf77dcb-4ed6-48c2-b4c3-3983074872f2",
   "metadata": {},
   "source": [
    "--\n",
    "#### 2.2.C. Prêter attention aux noms de fichiers et répertoires\n",
    "---\n",
    "\n",
    "Sous Unix, les noms de fichiers et de répertoires sont sensibles à la casse, c'est-à-dire aux majuscules et aux minuscules. Par conséquent, le *shell* fait la différence entre le fichier `test.txt` et le fichier `Test.txt`.\n",
    "\n",
    "Par ailleurs, l'extension de fichier est facultative et purement indicative. Le *shell* ne l'utilise pas. Elle sert simplement à l'utilisateur pour mieux organiser ses fichiers. Un nom de fichier du type `test` ou `test.my_extension` est parfaitement valide. On peut même nommer un répertoire `directory.txt` (mais ce n'est pas très malin 🙄).\n",
    "\n",
    "Enfin, pour nommer un fichier ou un répertoire, on peut utiliser :\n",
    "\n",
    "- les lettres minuscules,\n",
    "- les lettres majuscules,\n",
    "- les chiffres,\n",
    "- le tiret du milieu «`-`» (mais pas comme premier caractère du nom),\n",
    "- le tiret du bas «`_`»,\n",
    "- le point «`.`».\n",
    "\n",
    "On vous déconseille fortement l'utilisation d'autres caractères comme `+()[]éèàùç`. Certains caractères sont même interdits (`<>|;&`).\n",
    "\n",
    "Enfin, ne mettez **jamais** un espace dans un nom de fichier ou de répertoire. **J-A-M-A-I-S**. Unix l'autorise mais c'est très pénible par la suite car l'espace est utilisé pour séparer les options et les arguments d'une commande.\n",
    "\n",
    "Pour le reste, laissez faire votre imagination et utilisez des noms de fichiers et de répertoires expressifs et compréhensibles. N'oubliez pas que vous aurez souvent l'occasion de reprendre des analyses ou de récupérer des scripts ou des résultats des mois ou des années après. Facilitez-vous la vie pour plus tard !"
   ]
  },
  {
   "cell_type": "markdown",
   "id": "a1ea90ae-23ca-477d-9ecb-eea40737b390",
   "metadata": {},
   "source": [
    "--\n",
    "#### 2.2.D. Arborescence\n",
    "---\n",
    "\n",
    "Le système de fichiers est une arborescence plus ou moins complexe constituée d'une racine, de branches et de noeuds sur une profondeur variable. \n",
    "\n",
    "\n",
    "- **Visualisez l'arborescence à partir d'un répertoire**"
   ]
  },
  {
   "cell_type": "markdown",
   "id": "51338915-ef23-40b3-8f00-b89f9f4a4d0e",
   "metadata": {},
   "source": [
    "On peut visualiser l'arborescence à partir d'un noeud du système de fichiers à l'aide de la commande `tree`. \n",
    "\n",
    "Ainsi, on peut regarder l'arboresence à partir du répertoire dédié à la formation `/shared/projects/2413_rnaseq_cea/alldata/Example_Data` en le passant comme argument *(ici on donne son chemin absolu)*."
   ]
  },
  {
   "cell_type": "code",
   "execution_count": 16,
   "id": "2916a7ff-85f9-447e-ac7f-762dda5d71ba",
   "metadata": {
    "tags": []
   },
   "outputs": [
    {
     "name": "stdout",
     "output_type": "stream",
     "text": [
      "/shared/projects/2413_rnaseq_cea/alldata/Example_Data\n",
      "|-- TSI\n",
      "|   |-- Hapmap3-TSI_13q.21.ped\n",
      "|   `-- Hapmap3-TSI_13q21.info\n",
      "|-- Temperatures.txt\n",
      "|-- motorisation.txt\n",
      "|-- poisson.txt\n",
      "`-- protein.txt\n",
      "\n",
      "1 directory, 6 files\n"
     ]
    }
   ],
   "source": [
    "# cell 16\n",
    "tree /shared/projects/2413_rnaseq_cea/alldata/Example_Data"
   ]
  },
  {
   "cell_type": "markdown",
   "id": "334c200a-130b-470c-ace0-30088b8ca868",
   "metadata": {},
   "source": [
    "La commande ci-dessus a été utilisée sans option. Une option très pratique est `-L` pour afficher le nombre de niveaux souhaités."
   ]
  },
  {
   "cell_type": "code",
   "execution_count": 17,
   "id": "89af2721-710e-476f-857e-61e0bfc922d8",
   "metadata": {},
   "outputs": [
    {
     "name": "stdout",
     "output_type": "stream",
     "text": [
      "/shared/projects/2413_rnaseq_cea/alldata/Example_Data\n",
      "|-- TSI\n",
      "|-- Temperatures.txt\n",
      "|-- motorisation.txt\n",
      "|-- poisson.txt\n",
      "`-- protein.txt\n",
      "\n",
      "1 directory, 4 files\n"
     ]
    }
   ],
   "source": [
    "# cell 17\n",
    "tree -L 1 /shared/projects/2413_rnaseq_cea/alldata/Example_Data # affichage de 1 niveau"
   ]
  },
  {
   "cell_type": "markdown",
   "id": "3d2e92e2-2030-4cf3-b7fc-d3b14dd590b2",
   "metadata": {},
   "source": [
    "- **Se déplacer dans l'arboresence**"
   ]
  },
  {
   "cell_type": "markdown",
   "id": "70b034a3-453b-45da-af33-cfda12349c83",
   "metadata": {},
   "source": [
    "📌 <span style=\"color:red\">Pour rappel, nous sommes actuellement dans le répertoire qui correspond à votre home<code>~/</code> comme on le vérifie dans la cellule suivante.</span>"
   ]
  },
  {
   "cell_type": "code",
   "execution_count": 18,
   "id": "8bd388d5-16f2-4baa-9f64-f4fc8bf10504",
   "metadata": {},
   "outputs": [
    {
     "name": "stdout",
     "output_type": "stream",
     "text": [
      "/shared/home/cvandiedonck\n"
     ]
    }
   ],
   "source": [
    "#cell 18\n",
    "pwd"
   ]
  },
  {
   "cell_type": "markdown",
   "id": "9298ad36-ace3-4894-a4f9-95fddf5f2672",
   "metadata": {},
   "source": [
    "<div class=\"alert alert-block alert-warning\"> <b> Aide: retour dans le bon répertoire \"~\" </b><br>En cas de problème sur cette partie 2.2.D, si vous avez besoin de refaire tourner les commandes dans l'ordre des cellules 18 à 24, retournez dans votre home <br><code>cd ~</code>et vérifiez que vous y êtes avec la commande <code>pwd</code>. Ces commandes sont déjà écrites dans la cellule 'raw' suivante. Vous avez juste besoin de la transformer en cellule de code et de l'exécuter.</div>"
   ]
  },
  {
   "cell_type": "raw",
   "id": "458088f1-d63f-43be-9d8f-3e95ec86eee8",
   "metadata": {},
   "source": [
    "# En cas d'urgence, retour au bon répertoire !\n",
    "cd ~\n",
    "pwd"
   ]
  },
  {
   "cell_type": "markdown",
   "id": "dc979373-6128-491d-8d07-608cf8da0299",
   "metadata": {},
   "source": [
    "Pour se déplacer dans l'arborescence du système de fichiers, c'est-à-dire changer le répertoire de travail, on utilise la commande `cd` (*change directory*).\n",
    "\n",
    "<div class=\"alert alert-block alert-info\"> <b> 💡 Aide :</b> <br><code>cd</code> est une commande silencieuse si tout s'est bien passé, vous n'aurez de message que si le repertoire de destination n'existe pas. Aussi, afin de savoir si vous êtes arrivés à bon port, vérifiez-le avec la commande <code>pwd</code>.<br></div>\n",
    "\n",
    "\n",
    "➡️ <span style=\"color:blue\"> <u>   A vous de jouer</u>    </span> \n",
    "\n",
    "<span style=\"color:blue\">- Déplacez-vous dans le sous-répertoire `alldata` du répertoire dédié `/shared/projects/2413_rnaseq_cea` en utilisant un <u>chemin relatif</u>, puis vérifier que le <b>working directory</b> a bien été modifié. Vous pouvez effectuer plusieurs lignes de code dans la même cellule. </span>"
   ]
  },
  {
   "cell_type": "markdown",
   "id": "e6cde4ab-32e2-4bc9-aa8e-e81f6fb6c82d",
   "metadata": {},
   "source": [
    "<div class=\"alert alert-block alert-info\"> <b> 💡 Astuce :</b> <br><i>Pour remonter d'un niveau dans l'arborescence, on utilise l'écriture <code>../</code> qui désigne le répertoire \"parent\" du répertoire de travail.</i></div>"
   ]
  },
  {
   "cell_type": "code",
   "execution_count": 19,
   "id": "57a17b4d-f610-4cbc-a350-04a558f2a9e4",
   "metadata": {},
   "outputs": [
    {
     "name": "stdout",
     "output_type": "stream",
     "text": [
      "/shared/projects/2413_rnaseq_cea/alldata\n"
     ]
    }
   ],
   "source": [
    "# cell 19\n",
    "# votre code\n",
    "cd ../../projects/2413_rnaseq_cea/alldata/\n",
    "pwd"
   ]
  },
  {
   "cell_type": "markdown",
   "id": "c8215499-2d4f-4bb2-bf46-4e0777d0a71a",
   "metadata": {},
   "source": [
    "<span style=\"color:blue\">- Déplacez-vous dans le sous répertoire `Reference` du répertoire `alldata` en utilisant un <b>chemin relatif</b> et vérifiez que vous vous êtes bien déplacé dans le bon répertoire."
   ]
  },
  {
   "cell_type": "markdown",
   "id": "9f698f75-2d11-4409-a785-43cf07710e53",
   "metadata": {},
   "source": [
    "<div class=\"alert alert-block alert-info\"> <b> 💡 Astuce (TRES pratique) :</b> <br> <i>Utilisez la flèche de tabulation de votre clavier pour autocompléter le nom des répertoires !</i></div>"
   ]
  },
  {
   "cell_type": "code",
   "execution_count": 20,
   "id": "3c0a6d28-3de4-470f-b43c-1a6778d42a25",
   "metadata": {},
   "outputs": [
    {
     "name": "stdout",
     "output_type": "stream",
     "text": [
      "/shared/projects/2413_rnaseq_cea/alldata/Reference\n"
     ]
    }
   ],
   "source": [
    "# cell 20\n",
    "cd ./Reference/\n",
    "pwd"
   ]
  },
  {
   "cell_type": "markdown",
   "id": "945b5320-4f59-4b05-b901-4ff39c161dce",
   "metadata": {},
   "source": [
    "<span style=\"color:blue\">- Déplacez-vous à présent dans le répertoire correspondant à la formation `2413_rnaseq_cea` avec le <b>chemin relatif</b>. Vérifiez que vous y êtes bien arrivé.</span>"
   ]
  },
  {
   "cell_type": "code",
   "execution_count": 21,
   "id": "a0fd9e8f-cbf0-4e5c-89c3-fe3f6194ec0d",
   "metadata": {},
   "outputs": [
    {
     "name": "stdout",
     "output_type": "stream",
     "text": [
      "/shared/projects/2413_rnaseq_cea\n"
     ]
    }
   ],
   "source": [
    "# cell 21\n",
    "cd ../../\n",
    "pwd"
   ]
  },
  {
   "cell_type": "markdown",
   "id": "ffdf00dd-c5ce-467e-8cc9-caa787cc11cc",
   "metadata": {},
   "source": [
    "<span style=\"color:blue\">- Déplacez-vous dans le répertoire `alldata` en utilisant le <b>chemin relatif</b>. Vérifiez où vous êtes.</span>"
   ]
  },
  {
   "cell_type": "code",
   "execution_count": 22,
   "id": "2dade9d9-3655-4c3f-bd69-5e4704339011",
   "metadata": {},
   "outputs": [
    {
     "name": "stdout",
     "output_type": "stream",
     "text": [
      "/shared/projects/2413_rnaseq_cea/alldata\n"
     ]
    }
   ],
   "source": [
    "# cell 22\n",
    "cd ./alldata/\n",
    "pwd"
   ]
  },
  {
   "cell_type": "markdown",
   "id": "21343aa9-c09a-469b-9dda-fa1fb04aa0a9",
   "metadata": {},
   "source": [
    "<span style=\"color:blue\">- Retournez à présent dans le répertoire `2413_rnaseq_cea` en utilisant le <b>chemin absolu</b>. Vérifiez où vous êtes."
   ]
  },
  {
   "cell_type": "code",
   "execution_count": 23,
   "id": "b30cdcd0-da64-4bdd-ab64-377a2429345d",
   "metadata": {},
   "outputs": [
    {
     "name": "stdout",
     "output_type": "stream",
     "text": [
      "/shared/projects/2413_rnaseq_cea\n"
     ]
    }
   ],
   "source": [
    "# cell 23\n",
    "cd /shared/projects/2413_rnaseq_cea/\n",
    "pwd"
   ]
  },
  {
   "cell_type": "markdown",
   "id": "7409f6a7-7ec9-4834-9192-0ba18279a81b",
   "metadata": {},
   "source": [
    "On peut utiliser des **raccourcis** pour se déplacer plus vite :\n",
    "\n",
    "- pour revenir dans le répertoire utilisateur (répertoire par défaut dans lequel se trouve l'utilisateur lorsqu'il lance un *shell*), le raccourci est `~`"
   ]
  },
  {
   "cell_type": "code",
   "execution_count": 24,
   "id": "d53bfaa7-f567-4cfd-b317-c52d3445a853",
   "metadata": {},
   "outputs": [
    {
     "name": "stdout",
     "output_type": "stream",
     "text": [
      "/shared/home/cvandiedonck\n"
     ]
    }
   ],
   "source": [
    "# cell 24\n",
    "cd ~\n",
    "pwd"
   ]
  },
  {
   "cell_type": "markdown",
   "id": "0558ee6d-5628-4e69-84c6-b4b6f7ca9a3e",
   "metadata": {},
   "source": [
    "* taper simplement la commande `cd` (sans argument) ramène aussi l'utilisateur dans son répertoire personnel."
   ]
  },
  {
   "cell_type": "markdown",
   "id": "f0b3955c-84f7-4c9f-aef2-35d0059aee13",
   "metadata": {},
   "source": [
    "- pour revenir dans le répertoire précédent, il suffit d'ajouter l'option `-`"
   ]
  },
  {
   "cell_type": "code",
   "execution_count": 25,
   "id": "ad7f7ac5-4180-4b64-9bce-e01234b7bfc5",
   "metadata": {},
   "outputs": [
    {
     "name": "stdout",
     "output_type": "stream",
     "text": [
      "/shared/projects/2413_rnaseq_cea\n",
      "/shared/projects/2413_rnaseq_cea\n"
     ]
    }
   ],
   "source": [
    "# cell 25\n",
    "cd -\n",
    "pwd\n"
   ]
  },
  {
   "cell_type": "markdown",
   "id": "3029c682-0628-4bad-ae76-91872e5299ec",
   "metadata": {},
   "source": [
    "--\n",
    "#### 2.2.E. Espace disque utilisé\n",
    "---"
   ]
  },
  {
   "cell_type": "markdown",
   "id": "29af1fdd-e484-41d6-949c-cb4af837e169",
   "metadata": {
    "tags": []
   },
   "source": [
    "📌 <span style=\"color:red\">Nous sommes actuellement dans le répertoire <code>/shared/projects/2413_rnaseq_cea</code>.</span>\n",
    "\n",
    "\n",
    "<div class=\"alert alert-block alert-warning\"> <b> Aide: retour dans le bon répertoire \"shared/projects/2413_rnaseq_cea\" </b><br>En cas de problème sur cette partie 2.2.E, si vous avez besoin de refaire tourner les commandes dans l'ordre des cellules 25 à 29, retournez dans le bon répertoire avec la commande <br><code>cd /shared/projects/2413_rnaseq_cea/</code> et vérifiez que vous y êtes avec la commande <code>pwd</code>. Ces commandes sont déjà écrites dans la cellule 'raw' suivante. Vous avez juste besoin de la transformer en cellule de code et de l'exécuter.</div>"
   ]
  },
  {
   "cell_type": "raw",
   "id": "c53d267d-11e8-48bc-a8c2-fb8a953b0d42",
   "metadata": {},
   "source": [
    "# En cas d'urgence, retour au bon répertoire !\n",
    "cd /shared/projects/2413_rnaseq_cea/\n",
    "pwd"
   ]
  },
  {
   "cell_type": "markdown",
   "id": "7a7a439e-bc1b-43bd-a2aa-ba2e5d1b61d9",
   "metadata": {},
   "source": [
    "- **Sur un répertoire**"
   ]
  },
  {
   "cell_type": "markdown",
   "id": "4338348a-0fb1-4f0b-81a3-aa7113dd7ab4",
   "metadata": {},
   "source": [
    "Afin de connaître l'espace occupé par un répertoire, il faut utiliser la commande `du` pour *disk usage*.\n",
    "Plusieurs arguments peuvent être utilisés comme indiqué dans l'aide."
   ]
  },
  {
   "cell_type": "code",
   "execution_count": 26,
   "id": "593da0ed-f18a-41b9-a19a-6f89bef9fd98",
   "metadata": {},
   "outputs": [
    {
     "name": "stdout",
     "output_type": "stream",
     "text": [
      "Usage: du [OPTION]... [FILE]...\n",
      "  or:  du [OPTION]... --files0-from=F\n",
      "Summarize disk usage of each FILE, recursively for directories.\n",
      "\n",
      "Mandatory arguments to long options are mandatory for short options too.\n",
      "  -0, --null            end each output line with 0 byte rather than newline\n",
      "  -a, --all             write counts for all files, not just directories\n",
      "      --apparent-size   print apparent sizes, rather than disk usage; although\n",
      "                          the apparent size is usually smaller, it may be\n",
      "                          larger due to holes in ('sparse') files, internal\n",
      "                          fragmentation, indirect blocks, and the like\n",
      "  -B, --block-size=SIZE  scale sizes by SIZE before printing them; e.g.,\n",
      "                           '-BM' prints sizes in units of 1,048,576 bytes;\n",
      "                           see SIZE format below\n",
      "  -b, --bytes           equivalent to '--apparent-size --block-size=1'\n",
      "  -c, --total           produce a grand total\n",
      "  -D, --dereference-args  dereference only symlinks that are listed on the\n",
      "                          command line\n",
      "  -d, --max-depth=N     print the total for a directory (or file, with --all)\n",
      "                          only if it is N or fewer levels below the command\n",
      "                          line argument;  --max-depth=0 is the same as\n",
      "                          --summarize\n",
      "      --files0-from=F   summarize disk usage of the\n",
      "                          NUL-terminated file names specified in file F;\n",
      "                          if F is -, then read names from standard input\n",
      "  -H                    equivalent to --dereference-args (-D)\n",
      "  -h, --human-readable  print sizes in human readable format (e.g., 1K 234M 2G)\n",
      "      --inodes          list inode usage information instead of block usage\n",
      "  -k                    like --block-size=1K\n",
      "  -L, --dereference     dereference all symbolic links\n",
      "  -l, --count-links     count sizes many times if hard linked\n",
      "  -m                    like --block-size=1M\n",
      "  -P, --no-dereference  don't follow any symbolic links (this is the default)\n",
      "  -S, --separate-dirs   for directories do not include size of subdirectories\n",
      "      --si              like -h, but use powers of 1000 not 1024\n",
      "  -s, --summarize       display only a total for each argument\n",
      "  -t, --threshold=SIZE  exclude entries smaller than SIZE if positive,\n",
      "                          or entries greater than SIZE if negative\n",
      "      --time            show time of the last modification of any file in the\n",
      "                          directory, or any of its subdirectories\n",
      "      --time=WORD       show time as WORD instead of modification time:\n",
      "                          atime, access, use, ctime or status\n",
      "      --time-style=STYLE  show times using STYLE, which can be:\n",
      "                            full-iso, long-iso, iso, or +FORMAT;\n",
      "                            FORMAT is interpreted like in 'date'\n",
      "  -X, --exclude-from=FILE  exclude files that match any pattern in FILE\n",
      "      --exclude=PATTERN    exclude files that match PATTERN\n",
      "  -x, --one-file-system    skip directories on different file systems\n",
      "      --help     display this help and exit\n",
      "      --version  output version information and exit\n",
      "\n",
      "Display values are in units of the first available SIZE from --block-size,\n",
      "and the DU_BLOCK_SIZE, BLOCK_SIZE and BLOCKSIZE environment variables.\n",
      "Otherwise, units default to 1024 bytes (or 512 if POSIXLY_CORRECT is set).\n",
      "\n",
      "SIZE is an integer and optional unit (example: 10M is 10*1024*1024).  Units\n",
      "are K, M, G, T, P, E, Z, Y (powers of 1024) or KB, MB, ... (powers of 1000).\n",
      "\n",
      "GNU coreutils online help: <http://www.gnu.org/software/coreutils/>\n",
      "Report du translation bugs to <http://translationproject.org/team/>\n",
      "For complete documentation, run: info coreutils 'du invocation'\n"
     ]
    }
   ],
   "source": [
    "# cell 26\n",
    "du --help"
   ]
  },
  {
   "cell_type": "markdown",
   "id": "8fdeb0fd-bf03-46dc-91fd-5edc7c942d0c",
   "metadata": {},
   "source": [
    "<span style=\"color:green\">- <b>Question 3</b>  Que vous affiche la commande ci-dessous?</span>\n"
   ]
  },
  {
   "cell_type": "code",
   "execution_count": 27,
   "id": "9d14c7bf-a7f8-49df-988e-5b8bb108eecd",
   "metadata": {},
   "outputs": [
    {
     "name": "stdout",
     "output_type": "stream",
     "text": [
      "538G\t.\n"
     ]
    }
   ],
   "source": [
    "# cell 27\n",
    "du -sh ."
   ]
  },
  {
   "cell_type": "markdown",
   "id": "fe84b3d6-4c5a-43a2-a58b-27b6435f08b3",
   "metadata": {},
   "source": [
    "-> Votre réponse...<span style=\"color:gray\">Espace occupé par le repertoire parent (.) = un seul niveau (-s) en mode lisible humain (-h).</span>"
   ]
  },
  {
   "cell_type": "markdown",
   "id": "8505d6b1-d93b-489b-a70e-a19a56f76160",
   "metadata": {},
   "source": [
    "La commande ci-après donne un résultat similaire avec également les répertoires cachés"
   ]
  },
  {
   "cell_type": "code",
   "execution_count": 28,
   "id": "b6f6bff6-6c2b-49ca-8877-f42dca8e6a16",
   "metadata": {},
   "outputs": [
    {
     "name": "stdout",
     "output_type": "stream",
     "text": [
      "4.0K\t./cfovet\n",
      "45G\t./scaburet\n",
      "54M\t./.git\n",
      "4.0K\t./lmadrange\n",
      "26M\t./.ipynb_checkpoints\n",
      "35M\t./pipeline\n",
      "4.0K\t./achicheportiche\n",
      "4.0K\t./nseddiki\n",
      "253G\t./allData-old\n",
      "4.0K\t./sgerardchantalat\n",
      "4.0K\t./noussada\n",
      "4.0K\t./kbaczkowski\n",
      "4.0K\t./jrussick\n",
      "4.0K\t./esaindoy\n",
      "4.0K\t./vmonteiro\n",
      "4.0K\t./pmazet\n",
      "4.0K\t./kbenmeziane\n",
      "4.0K\t./ejougla\n",
      "4.0K\t./jlemaitre\n",
      "4.0K\t./jmataorozco\n",
      "4.0K\t./gvinascosandoval\n",
      "4.0K\t./bporcel\n",
      "4.6M\t./staff\n",
      "135G\t./alldata\n",
      "4.0K\t./jpons\n",
      "38G\t./cvandiedonck\n",
      "69G\t./data11\n",
      "4.0K\t./vcluzet\n",
      "4.0K\t./spetiton\n",
      "4.0K\t./ebourneuf\n",
      "538G\t.\n"
     ]
    }
   ],
   "source": [
    "# cell 28\n",
    "du -hd1"
   ]
  },
  {
   "cell_type": "markdown",
   "id": "659da712-46f9-4023-a1f7-4933a5fd52cf",
   "metadata": {},
   "source": [
    "<span style=\"color:green\">- <b>Question 4 :</b>  Qu'apporte l'agument `d2` dans la commande ci-dessous comparé à la commande avec `d1`?</span>"
   ]
  },
  {
   "cell_type": "code",
   "execution_count": 29,
   "id": "e4b33652-1a98-4a29-9402-8564965b4120",
   "metadata": {},
   "outputs": [
    {
     "name": "stdout",
     "output_type": "stream",
     "text": [
      "4.0K\t./cfovet\n",
      "600K\t./scaburet/.ipynb_checkpoints\n",
      "31G\t./scaburet/Results\n",
      "4.8M\t./scaburet/stuff\n",
      "14G\t./scaburet/Data\n",
      "536K\t./scaburet/run_notebooks\n",
      "45G\t./scaburet\n",
      "54M\t./.git/objects\n",
      "68K\t./.git/logs\n",
      "64K\t./.git/hooks\n",
      "8.0K\t./.git/info\n",
      "28K\t./.git/refs\n",
      "54M\t./.git\n",
      "4.0K\t./lmadrange\n",
      "26M\t./.ipynb_checkpoints\n",
      "34M\t./pipeline/.git\n",
      "544K\t./pipeline/.ipynb_checkpoints\n",
      "35M\t./pipeline\n",
      "4.0K\t./achicheportiche\n",
      "4.0K\t./nseddiki\n",
      "20K\t./allData-old/.ipynb_checkpoints\n",
      "161G\t./allData-old/Results\n",
      "93G\t./allData-old/Reference\n",
      "253G\t./allData-old\n",
      "4.0K\t./sgerardchantalat\n",
      "4.0K\t./noussada\n",
      "4.0K\t./kbaczkowski\n",
      "4.0K\t./jrussick\n",
      "4.0K\t./esaindoy\n",
      "4.0K\t./vmonteiro\n",
      "4.0K\t./pmazet\n",
      "4.0K\t./kbenmeziane\n",
      "4.0K\t./ejougla\n",
      "4.0K\t./jlemaitre\n",
      "4.0K\t./jmataorozco\n",
      "4.0K\t./gvinascosandoval\n",
      "4.0K\t./bporcel\n",
      "272K\t./staff/.ipynb_checkpoints\n",
      "4.6M\t./staff\n",
      "61G\t./alldata/Data\n",
      "92K\t./alldata/Example_Data\n",
      "27G\t./alldata/Reference\n",
      "47G\t./alldata/Results\n",
      "17M\t./alldata/Article\n",
      "4.0K\t./alldata/.ipynb_checkpoints\n",
      "135G\t./alldata\n",
      "4.0K\t./jpons\n",
      "38G\t./cvandiedonck/2023\n",
      "28M\t./cvandiedonck/.ipynb_checkpoints\n",
      "9.5M\t./cvandiedonck/autres_archives\n",
      "1.7M\t./cvandiedonck/ongoing\n",
      "2.1M\t./cvandiedonck/temporary\n",
      "38G\t./cvandiedonck\n",
      "4.0K\t./data11/.ipynb_checkpoints\n",
      "69G\t./data11/Results\n",
      "69G\t./data11\n",
      "4.0K\t./vcluzet\n",
      "4.0K\t./spetiton\n",
      "4.0K\t./ebourneuf\n",
      "538G\t.\n"
     ]
    }
   ],
   "source": [
    "# cell 29\n",
    "du -hd2 ."
   ]
  },
  {
   "cell_type": "markdown",
   "id": "6169e16e-1474-4484-86d5-79ff481e3551",
   "metadata": {},
   "source": [
    "-> Votre réponse...<span style=\"color:gray\">-> L'argument d permet d'afficher le total (taille) à une profondeur donnée. Avec d1 on a la même profondeur qu'avec -s .: les informations de taille sont données pour le répertoire courant. En indiquant -d2, on a les tailles sur 2 niveaux de profondeur depuis le répertoire courant.</span>"
   ]
  },
  {
   "cell_type": "markdown",
   "id": "ed179c0c-9bcc-4fe5-9619-268489c42dda",
   "metadata": {},
   "source": [
    "- **Sur toute la machine**\n",
    "\n",
    "La commande `df` pour *disk free* donne sur chacun des volumes de la machine l'espace libre et l'espace occupé."
   ]
  },
  {
   "cell_type": "code",
   "execution_count": 30,
   "id": "ff38d106-8f51-4a19-8de6-52cf38165767",
   "metadata": {
    "tags": []
   },
   "outputs": [
    {
     "name": "stdout",
     "output_type": "stream",
     "text": [
      "Filesystem                                       Size  Used Avail Use% Mounted on\n",
      "devtmpfs                                         126G     0  126G   0% /dev\n",
      "tmpfs                                            126G   15M  126G   1% /dev/shm\n",
      "tmpfs                                            126G  235M  126G   1% /run\n",
      "tmpfs                                            126G     0  126G   0% /sys/fs/cgroup\n",
      "/dev/mapper/system-root                           30G  490M   29G   2% /\n",
      "/dev/mapper/system-usr                           9.8G  2.4G  7.5G  24% /usr\n",
      "/dev/sda2                                        2.0G  188M  1.8G  10% /boot\n",
      "/dev/mapper/system-var                           9.8G  7.3G  2.6G  75% /var\n",
      "/dev/mapper/system-home                          3.9G   33M  3.9G   1% /home\n",
      "/dev/mapper/system-opt                           4.9G   33M  4.9G   1% /opt\n",
      "/dev/mapper/system-tmp                           3.6T  374M  3.6T   1% /tmp\n",
      "192.168.16.184@tcp:192.168.16.186@tcp:/ifbstor1  2.0P  918T  1.1P  47% /shared/ifbstor1\n"
     ]
    }
   ],
   "source": [
    "# cell 30\n",
    "df -h"
   ]
  },
  {
   "cell_type": "markdown",
   "id": "421b7236-9c75-4ae6-8839-2c8fdf3a175e",
   "metadata": {},
   "source": [
    "---\n",
    "---\n",
    "\n",
    "## 3. Manipulation de fichiers et répertoires\n",
    "---"
   ]
  },
  {
   "cell_type": "markdown",
   "id": "db781ca9-6f96-4b4a-8a2e-1a08849e98ef",
   "metadata": {
    "tags": []
   },
   "source": [
    "📌 <span style=\"color:red\">Nous sommes actuellement dans le répertoire <code>/shared/projects/2413_rnaseq_cea</code>.</span>\n",
    "\n",
    "\n",
    "<div class=\"alert alert-block alert-warning\"> <b> Aide: retour dans le bon répertoire \"/shared/projects/2413_rnaseq_cea\" </b><br>En cas de problème sur cette partie 3, si vous avez besoin de refaire tourner les commandes dans l'ordre des cellules 30 à 32, retournez dans le bon répertoire avec la commande <br><code>cd /shared/projects/2413_rnaseq_cea/</code> et vérifiez que vous y êtes avec la commande <code>pwd</code>. Ces commandes sont déjà écrites dans la cellule 'raw' suivante. Vous avez juste besoin de la transformer en cellule de code et de l'exécuter.</div>"
   ]
  },
  {
   "cell_type": "raw",
   "id": "54f50e3c-5072-44ec-a3bd-45d8f5c87621",
   "metadata": {},
   "source": [
    "# En cas d'urgence, retour au bon répertoire !\n",
    "cd /shared/projects/2413_rnaseq_cea/\n",
    "pwd"
   ]
  },
  {
   "cell_type": "markdown",
   "id": "b0e0e20f-82ac-40e7-a1fb-b7c80e08d180",
   "metadata": {
    "tags": []
   },
   "source": [
    "--\n",
    "### 3.1. Création d'un répertoire et d'un fichier\n",
    "---"
   ]
  },
  {
   "cell_type": "markdown",
   "id": "6b1639a9-6fe2-4a9c-b29c-210557a4b3de",
   "metadata": {},
   "source": [
    "\n",
    "<div class=\"alert alert-block alert-danger\"> 🚨 <b>Attention:</b> <br><br>\n",
    "En principe, il existe dans \"/shared/2413_rnaseq_cea/\"un repertoire qui porte le nom de votre login: <code>/shared/projects/2413_rnaseq_cea/votre_login/</code>. <br><br>\n",
    "<b>=> C'est votre répertoire personnel associé au projet/à la formation <i>(disponible jusqu'au 31/12/2024)</i>.</b><br>\n",
    "<br>\n",
    "Vérifiez qu'il est bien présent dans la cellule suivante avec la commande <code>ls</code>.<br>\n",
    "S'il n'est pas créé, veuillez appeler un des enseignants ou un assistant avant de le créer avec la commande <code>mkdir -p /shared/projects/2413_rnaseq_cea/$USER/ <code>\n",
    "</div>\n",
    "\n"
   ]
  },
  {
   "cell_type": "code",
   "execution_count": 31,
   "id": "98af4acf-65d4-44cb-820a-72a7adf46607",
   "metadata": {},
   "outputs": [
    {
     "name": "stdout",
     "output_type": "stream",
     "text": [
      "achicheportiche  data11\t\t   jmataorozco\tnoussada\t  spetiton\n",
      "allData-old\t ebourneuf\t   jpons\tnseddiki\t  staff\n",
      "alldata\t\t ejougla\t   jrussick\tpipeline\t  tmp_file.txt\n",
      "bporcel\t\t esaindoy\t   kbaczkowski\tpmazet\t\t  vcluzet\n",
      "cfovet\t\t gvinascosandoval  kbenmeziane\tscaburet\t  vmonteiro\n",
      "cvandiedonck\t jlemaitre\t   lmadrange\tsgerardchantalat\n"
     ]
    }
   ],
   "source": [
    "#cell 31\n",
    "ls # pour vérifier que vous avez un répertoire avec votre login dans le repertoire du projet"
   ]
  },
  {
   "cell_type": "markdown",
   "id": "14cd5e37-76a2-4540-af41-c83a94f65cca",
   "metadata": {},
   "source": [
    "- Pour **créer un répertoire**, on utilise la commande `mkdir` (*make directory*) suivie du chemin du nouveau répertoire et de son nom."
   ]
  },
  {
   "cell_type": "markdown",
   "id": "bc8d998f-4557-4b07-a4af-45cd418e03cc",
   "metadata": {},
   "source": [
    "➡️ <span style=\"color:blue\"> <u>   A vous de jouer</u>    </span> \n",
    "\n",
    "<span style=\"color:blue\">- depuis votre répertoire courant, créez un répertoire temporaire `tmp` dans votre dossier <u>personnel</u> du projet `/shared/2413_rnaseq_cea/` puis déplacez-vous dans ce répertoire et vérifiez que vous y êtes </span>"
   ]
  },
  {
   "cell_type": "code",
   "execution_count": 32,
   "id": "19907912-0159-45bc-891b-54d0c756fefb",
   "metadata": {},
   "outputs": [
    {
     "name": "stdout",
     "output_type": "stream",
     "text": [
      "/shared/projects/2413_rnaseq_cea/cvandiedonck/tmp\n"
     ]
    }
   ],
   "source": [
    "# cell 32\n",
    "mkdir ./cvandiedonck/tmp/\n",
    "cd ./cvandiedonck/tmp/\n",
    "pwd"
   ]
  },
  {
   "cell_type": "markdown",
   "id": "769d1490-d2c2-4539-ba6f-112bfe08aec4",
   "metadata": {},
   "source": [
    "- Pour **créer un fichier**, on utilise la commande `touch` suivie du chemin du nouveau fichier avec son nom. \n",
    "\n",
    "<span style=\"color:blue\">- Créez un fichier texte `tmp_file.txt` dans le répertoire `tmp` et vérifiez qu'il a bien été créé avec `ls`.</span>"
   ]
  },
  {
   "cell_type": "code",
   "execution_count": 33,
   "id": "721755cd-2768-4790-92e3-441be64bf0d2",
   "metadata": {},
   "outputs": [
    {
     "name": "stdout",
     "output_type": "stream",
     "text": [
      "tmp_file.txt\n"
     ]
    }
   ],
   "source": [
    "# cell 33\n",
    "touch ./tmp_file.txt\n",
    "ls"
   ]
  },
  {
   "cell_type": "markdown",
   "id": "305836d3-8653-47e3-a932-1f9a6edbe8a5",
   "metadata": {},
   "source": [
    "--\n",
    "\n",
    "### 3.2. Copie d'un fichier ou d'un répertoire\n",
    "---\n",
    "\n",
    "➡️ <span style=\"color:blue\"> <u>   A vous de jouer</u>    </span> \n",
    "\n",
    "- Pour **copier un fichier**, on utilise la commande `cp` (*copy*) suivie du chemin (absolu ou relatif) du fichier source, suivi du chemin (absolu ou relatif) du répertoire de copie. \n",
    "\n",
    "<span style=\"color:blue\">- Sans vous déplacer, copiez le fichier `Temperatures.txt` présent dans le répertoire du projet `alldata/Example_Data` dans le répertoire `tmp`. NB: il vous faudra réfléchir à la localisation du fichier et du répertoire par rapport au <i>working directory</i>. La tabulation peut de nouveau vous aider à autocompléter les noms des répertoires/fichiers. N'hésitez pas à ajouter une cellule pour vérifier quel est votre répertoire courant si vous l'avez oublié.</span>"
   ]
  },
  {
   "cell_type": "code",
   "execution_count": 34,
   "id": "fcc0f0c3-9756-4ad3-a3ed-832d5ca7a865",
   "metadata": {},
   "outputs": [
    {
     "name": "stdout",
     "output_type": "stream",
     "text": [
      "/shared/projects/2413_rnaseq_cea/cvandiedonck/tmp\n"
     ]
    }
   ],
   "source": [
    "# cell 34\n",
    "pwd\n",
    "cp ../../alldata/Example_Data/Temperatures.txt ."
   ]
  },
  {
   "cell_type": "markdown",
   "id": "eb687e1e-ece3-4af6-9b56-6e18d0a65975",
   "metadata": {},
   "source": [
    "<span style=\"color:blue\">-Quelle commande pouvez-vous utiliser pour vérifier que vous avez bien copié le bon fichier au bon endroit ?</span>"
   ]
  },
  {
   "cell_type": "code",
   "execution_count": 35,
   "id": "668c1016-e514-4c31-b8bd-491bea55cc33",
   "metadata": {},
   "outputs": [
    {
     "name": "stdout",
     "output_type": "stream",
     "text": [
      "Temperatures.txt  tmp_file.txt\n"
     ]
    }
   ],
   "source": [
    "# cell 35\n",
    "ls"
   ]
  },
  {
   "cell_type": "markdown",
   "id": "5627ae96-84d2-4129-898c-382f073ff46c",
   "metadata": {},
   "source": [
    "- Pour **copier un répertoire**, la commande est également `cp` en ajoutant l'argument `-r` pour recursif (*recursive*) afin de copier le contenu du répertoire également. Par exemple, dans la cellule suivante, on copie le répertoire `2413_rnaseq_cea/alldata/Example_Data` dans le répertoire courant `tmp` et on vérifie qu'il y est."
   ]
  },
  {
   "cell_type": "code",
   "execution_count": 36,
   "id": "0bf0ab66-4669-4486-80ba-c9a71c93f74e",
   "metadata": {},
   "outputs": [
    {
     "name": "stdout",
     "output_type": "stream",
     "text": [
      "Example_Data  Temperatures.txt\ttmp_file.txt\n"
     ]
    }
   ],
   "source": [
    "# cell 36\n",
    "cp -r ../../alldata/Example_Data/ .\n",
    "ls"
   ]
  },
  {
   "cell_type": "markdown",
   "id": "d55dda3f-17a9-45d7-a9fd-406f292cc9bd",
   "metadata": {},
   "source": [
    "<span style=\"color:red\">Pour faciliter la suite des commandes, déplacez vous dans votre répertoire personnel avec la commande suivante. Ici, nous avons mis la *variable* `$USER` à la place de votre identifiant. Nous expliquerons un peu plus loin les variables.</span>"
   ]
  },
  {
   "cell_type": "code",
   "execution_count": 37,
   "id": "57f9f258-3ff5-4e29-93d9-bd975ba00cbf",
   "metadata": {},
   "outputs": [
    {
     "name": "stdout",
     "output_type": "stream",
     "text": [
      "/shared/projects/2413_rnaseq_cea/cvandiedonck\n"
     ]
    }
   ],
   "source": [
    "# cell 37\n",
    "cd /shared/projects/2413_rnaseq_cea/$USER/ \n",
    "pwd"
   ]
  },
  {
   "cell_type": "markdown",
   "id": "becb0da9-3372-40aa-8f1c-73d6f3c55684",
   "metadata": {
    "tags": []
   },
   "source": [
    "--\n",
    "### 3.3 Suppression d'un fichier ou d'un répertoire\n",
    "---\n",
    "\n",
    "- Pour **supprimer un fichier**, on utilise la commande `rm` (*remove*) suivie du chemin du fichier à supprimer. \n",
    "\n",
    "<span style=\"color:blue\">- Supprimez le fichier `Temperatures.txt` situé dans `tmp` et vérifiez que la suppression a bien eu lieu.</span>\n"
   ]
  },
  {
   "cell_type": "code",
   "execution_count": 38,
   "id": "4e85127f-1b89-46b2-9bac-7a2e7befe4c4",
   "metadata": {},
   "outputs": [
    {
     "name": "stdout",
     "output_type": "stream",
     "text": [
      "Example_Data  tmp_file.txt\n"
     ]
    }
   ],
   "source": [
    "# cell 38\n",
    "rm ./tmp/Temperatures.txt\n",
    "ls ./tmp"
   ]
  },
  {
   "cell_type": "markdown",
   "id": "25bae6e8-234d-4a91-88fa-b8b1e340095b",
   "metadata": {},
   "source": [
    "<div class=\"alert alert-block alert-danger\"> 🚨 <b>Attention:</b> <br>Il n’y a pas de corbeille dans le shell Unix, c’est-à-dire aucune possibilité de récupérer un fichier ou un répertoire effacé par erreur. Pensez à sauvegarder régulièrement vos fichiers. </div>"
   ]
  },
  {
   "cell_type": "markdown",
   "id": "4acd1493-5580-42ba-a470-277622576a00",
   "metadata": {},
   "source": [
    "- Pour **supprimer un répertoire** il existe deux méthodes :\n",
    "\n",
    "**1.** Celle qui fonctionne toujours, **que le répertoire soit vide ou non**,  utilise `rm -r` puis le nom du répertoire. Par exemple, nous pouvons supprimer le répertoire `Example_Data` que nous avions copié dans `tmp` ainsi:"
   ]
  },
  {
   "cell_type": "code",
   "execution_count": 39,
   "id": "c4e70fbe-74f8-41d7-b5cb-cc534a79e9e0",
   "metadata": {
    "tags": []
   },
   "outputs": [
    {
     "name": "stdout",
     "output_type": "stream",
     "text": [
      "tmp_file.txt\n"
     ]
    }
   ],
   "source": [
    "# cell 39\n",
    "rm -r ./tmp/Example_Data\n",
    "ls ./tmp/"
   ]
  },
  {
   "cell_type": "markdown",
   "id": "17220ec5-2abe-4f02-8a27-98dc30eb25f6",
   "metadata": {},
   "source": [
    "<div class=\"alert alert-block alert-danger\"> 🚨 <b>Attention:</b> <br>La commande <b>rm -r</b> supprime le répertoire et bien évidemment tout son contenu. Vous pourriez le regretter. Par prudence, la seconde solution est conseillée. </div>"
   ]
  },
  {
   "cell_type": "markdown",
   "id": "813d2ee2-9ff0-414e-bf3a-9c2866f7ac5b",
   "metadata": {},
   "source": [
    "**2. Si le répertoire est vide**, le mieux est d'utiliser `rmdir`. Cette commande ne fonctionne que si le répertoire est vide. Vous pouvez donc le vider avant. C'est ce que nous allons faire en vidant ce qui reste dans le répertoire `tmp` avant de le supprimer."
   ]
  },
  {
   "cell_type": "code",
   "execution_count": 40,
   "id": "b75c44be-ab0b-485f-b657-ca8512d97c44",
   "metadata": {},
   "outputs": [
    {
     "name": "stdout",
     "output_type": "stream",
     "text": [
      "2023  autres_archives  ongoing\ttemporary\n"
     ]
    }
   ],
   "source": [
    "# cell 40\n",
    "rm ./tmp/tmp_file.txt\n",
    "rmdir tmp\n",
    "ls"
   ]
  },
  {
   "cell_type": "markdown",
   "id": "fa64983e-ae94-4686-a98e-9a93f87fe1a7",
   "metadata": {},
   "source": [
    "<div class=\"alert alert-block alert-info\">Avant de passer à la suite de ce notebook on recrée un répertoire temporaire <b>tmp2</b> dans lequel on copie de nouveau le fichier <b>Temperatures.txt</b>.</div>"
   ]
  },
  {
   "cell_type": "code",
   "execution_count": 41,
   "id": "3f794d50-803a-4aff-bddf-e931099f8e65",
   "metadata": {},
   "outputs": [
    {
     "name": "stdout",
     "output_type": "stream",
     "text": [
      "/shared/projects/2413_rnaseq_cea/cvandiedonck/tmp2\n",
      "Temperatures.txt\n"
     ]
    }
   ],
   "source": [
    "# cell 41\n",
    "mkdir -p tmp2\n",
    "cd tmp2\n",
    "pwd\n",
    "cp ../../alldata/Example_Data/Temperatures.txt .\n",
    "ls"
   ]
  },
  {
   "cell_type": "markdown",
   "id": "0f4cc556-689a-4317-a999-30892689fb0b",
   "metadata": {
    "tags": []
   },
   "source": [
    "--\n",
    "### 3.4. Déplacer ou renommer un fichier ou un répertoire avec `mv`\n",
    "---"
   ]
  },
  {
   "cell_type": "markdown",
   "id": "5a57e39a-53e2-4d9d-809d-ae587b923b62",
   "metadata": {},
   "source": [
    "- Pour **déplacer (*sans le copier*) un fichier vers un répertoire cible**, on utilise la commande `mv` (*move*) suivie en 1er argument du chemin du fichier à déplacer, puis en 2ème argument du chemin du répertoire cible. \n",
    "\n",
    "On déplace par exemple le fichier `Temperatures.txt` actuellement présent dans le répertoire `tmp2` dans le répertoire parent (votre repertoire personnel)."
   ]
  },
  {
   "cell_type": "code",
   "execution_count": 42,
   "id": "a49a8166-45f4-42a6-89d0-8b27ca51cf04",
   "metadata": {},
   "outputs": [],
   "source": [
    "# cell 42\n",
    "mv ./Temperatures.txt ../"
   ]
  },
  {
   "cell_type": "markdown",
   "id": "e814c4f4-6cf1-48ef-b8fc-01afdf715e92",
   "metadata": {},
   "source": [
    "<span style=\"color:green\">- <b>Question 5</b>  Expliquez pas à pas le détail de la commande ci-dessus.</span>"
   ]
  },
  {
   "cell_type": "markdown",
   "id": "fd90ad61-5fe1-4e8e-bdc5-3f950b81cc12",
   "metadata": {},
   "source": [
    "-> Réponse <span style=\"color:gray\">-> mv sert à déplacer un fichier ou répertoire, ./Temperatures.txt indique qu'on prend le fichier Temperatures.txt actuellement présent dans le répertoire courant (./). La destination est ../ ce qui indique qu'il s'agit du répertoire parent (repertoire personnel du projet) du répertoire courant (tmp2).</span>"
   ]
  },
  {
   "cell_type": "markdown",
   "id": "18eb2b18-7f8d-479a-80e8-debdf5e2c564",
   "metadata": {},
   "source": [
    "Une fois déplacé, le fichier n'est plus dans le répertoire initial comme on peut s'en assurer ci-dessous."
   ]
  },
  {
   "cell_type": "code",
   "execution_count": 43,
   "id": "4ec29140-fb83-46da-be40-9a0425a7d01a",
   "metadata": {},
   "outputs": [],
   "source": [
    "# cell 43\n",
    "ls"
   ]
  },
  {
   "cell_type": "markdown",
   "id": "1714d610-e586-420c-98c0-d9c2f647cc89",
   "metadata": {},
   "source": [
    "Vous auriez pu en profiter également pour changer le nom du fichier déplacé en indiquant un nouveau nom après le chemin du répertoire de destination (sans espace). Par exemple on le remet dans `tmp2` en le renommant `Temperatures2.txt`."
   ]
  },
  {
   "cell_type": "code",
   "execution_count": 44,
   "id": "8cb55ca4-2e86-4030-bfec-9b7675d17d8c",
   "metadata": {},
   "outputs": [],
   "source": [
    "# cell 44\n",
    "mv ../Temperatures.txt ./Temperatures2.txt"
   ]
  },
  {
   "cell_type": "markdown",
   "id": "31ad3b86-c82b-4306-a72c-8dce2ccb21f3",
   "metadata": {},
   "source": [
    "<span style=\"color:green\">- <b>Question 6</b>  Expliquez pas à pas le détail de la commande ci-dessus.</span>"
   ]
  },
  {
   "cell_type": "markdown",
   "id": "e6585688-4e15-4327-a914-c62b9805ef4d",
   "metadata": {},
   "source": [
    "-> Réponse <span style=\"color:gray\">-> Cette fois-ci on déplace tout en renommant avec mv le fichier Temperatures.txt actuellement présent dans le répertoire parent (repertoire personnel du projet) du répertoire courant (tmp2). La destination est le répertoire courant (./) en donnant un nouveau nom Temperatures2.txt au fichier ainsi déplacé. Le fichier source n'est plus présent dans le répertoire source.</span>"
   ]
  },
  {
   "cell_type": "markdown",
   "id": "dc08abb1-5d2d-48fd-b583-3d88cf74a291",
   "metadata": {},
   "source": [
    "- Pour **renommer un fichier**, on utilise en effet également la commande `mv` (*move*) suivie en 1er argument du nom du fichier à renommer, puis en 2ème argument du nouveau nom. C'est donc possible sans changer de répertoire!\n",
    "\n",
    "Par exemple, on renomme le fichier `Temperatures2.txt` de notre répertoire courant en `Temperatures3.txt`."
   ]
  },
  {
   "cell_type": "code",
   "execution_count": 45,
   "id": "87703453-3814-439e-a7cb-9752948e5550",
   "metadata": {},
   "outputs": [
    {
     "name": "stdout",
     "output_type": "stream",
     "text": [
      "Temperatures3.txt\n"
     ]
    }
   ],
   "source": [
    "# cell 45\n",
    "mv Temperatures2.txt Temperatures3.txt\n",
    "ls"
   ]
  },
  {
   "cell_type": "markdown",
   "id": "9f9476eb-4721-4c88-a3b9-82e168ea3209",
   "metadata": {},
   "source": [
    "- Pour **déplacer ou renommer un répertoire** on utilise également la commande `mv`, ce qui déplace le répertoire et tout son contenu. Par exemple, on va renommer le répertoire `tmp2` en `tmp3`."
   ]
  },
  {
   "cell_type": "code",
   "execution_count": 46,
   "id": "6c9635a3-cded-4deb-b0bb-5807f5d5a7af",
   "metadata": {},
   "outputs": [],
   "source": [
    "# cell 46\n",
    "cd ..\n",
    "mv tmp2 tmp3"
   ]
  },
  {
   "cell_type": "code",
   "execution_count": 47,
   "id": "95a7db99-cbd0-42dd-81ea-baef09d5a81a",
   "metadata": {},
   "outputs": [
    {
     "name": "stdout",
     "output_type": "stream",
     "text": [
      "2023  autres_archives  ongoing\ttemporary  tmp3\n"
     ]
    }
   ],
   "source": [
    "# cell 47\n",
    "ls"
   ]
  },
  {
   "cell_type": "code",
   "execution_count": 48,
   "id": "e259e01d-6249-459e-914c-ca3adcf17dd3",
   "metadata": {},
   "outputs": [
    {
     "name": "stdout",
     "output_type": "stream",
     "text": [
      "Temperatures3.txt\n"
     ]
    }
   ],
   "source": [
    "# cell 48\n",
    "ls tmp3"
   ]
  },
  {
   "cell_type": "markdown",
   "id": "ac876d13-d996-4556-8a4e-65718672a35f",
   "metadata": {},
   "source": [
    "--\n",
    "### 3.5. Trucs et astuces\n",
    "---\n",
    "\n",
    "**Dans un notebook ou un terminal :**\n",
    "\n",
    "- Complétion automatique\n",
    "\n",
    "La touche tabulation <kbd>Tab</kbd> est utile pour compléter une commande, un nom de répertoire ou de fichier. Appuyez deux fois sur <kbd>Tab</kbd> en cas d’ambiguïté.\n",
    "\n",
    "Par exemple, si vous tapez `/h` puis la touche <kbd>Tab</kbd>, le *shell* va compléter automatiquement à `/home`.\n",
    "\n",
    "\n",
    "- Copier / coller\n",
    "\n",
    "Pour copier / coller quelque chose dans le *shell*, sélectionnez du texte puis utilisez les combinaisons de touches <kbd>Ctrl</kbd>+<kbd>C</kbd> pour copier et <kbd>Ctrl</kbd>+<kbd>V</kbd> (ou <kbd>Ctrl</kbd>+<kbd>Maj</kbd>+<kbd>V</kbd>) pour coller.\n",
    "\n",
    "**et seulement dans un terminal :**\n",
    "\n",
    "- Arrêter une commande en cours\n",
    "\n",
    "Pressez la touche <kbd>Ctrl</kbd> et la touche <kbd>C</kbd> en même temps pour arrêter une commande en cours.\n",
    "\n",
    "- Rappel des anciennes commandes\n",
    "\n",
    "Écrire des commandes dans un *shell* peut sembler rébarbatif mais on gagne rapidement en efficacité avec les astuces suivantes.\n",
    "\n",
    "La flèche du haut <kbd>↑</kbd> rappelle les commandes précédentes (depuis la plus récente jusqu'à la plus ancienne).\n",
    "\n",
    "\n",
    "**Automatiser (un peu)**\n",
    "\n",
    "Les caractères `*` et `?` peuvent remplacer n'importe quels caractères dans les noms de fichiers ou de répertoires :\n",
    "\n",
    "- `*` remplace 0, 1 ou plus caractères.\n",
    "- `?` remplace exactement 1 caractère.\n",
    "\n",
    "Par exemple :"
   ]
  },
  {
   "cell_type": "code",
   "execution_count": 49,
   "id": "b55e2295-8834-4449-9e76-51ecab125ffe",
   "metadata": {},
   "outputs": [
    {
     "name": "stdout",
     "output_type": "stream",
     "text": [
      "/shared/projects/2413_rnaseq_cea/alldata/Example_Data/protein.txt\n"
     ]
    }
   ],
   "source": [
    "# cell 49\n",
    "ls /shared/projects/2413_rnaseq_cea/alldata/Example_Data/pro?ein.txt"
   ]
  },
  {
   "cell_type": "code",
   "execution_count": 50,
   "id": "e15ac80c-0e46-4d6b-8b87-b33fff2cd923",
   "metadata": {},
   "outputs": [
    {
     "name": "stdout",
     "output_type": "stream",
     "text": [
      "/shared/projects/2413_rnaseq_cea/alldata/Example_Data/Temperatures.txt\n",
      "/shared/projects/2413_rnaseq_cea/alldata/Example_Data/motorisation.txt\n",
      "/shared/projects/2413_rnaseq_cea/alldata/Example_Data/poisson.txt\n",
      "/shared/projects/2413_rnaseq_cea/alldata/Example_Data/protein.txt\n"
     ]
    }
   ],
   "source": [
    "# cell 50\n",
    "ls /shared/projects/2413_rnaseq_cea/alldata/Example_Data/*.txt"
   ]
  },
  {
   "cell_type": "markdown",
   "id": "eaf8324f-10d6-49b4-9c3d-936a06a24f28",
   "metadata": {},
   "source": [
    "Ces caractères sont très utiles quand il s'agit d'effectuer une opération sur plusieurs fichiers en même temps.\n",
    "Cela fonctionne avec autant de fichiers qu'on le souhaite.   \n",
    "Vous pouvez donc imaginer la puissance d'une commande `rm *.*` ...😱\n"
   ]
  },
  {
   "cell_type": "markdown",
   "id": "54a733ae-9d12-423f-8383-4eb3f9c3a0a9",
   "metadata": {},
   "source": [
    "---\n",
    "---\n",
    "## 4. Lire, explorer un fichier et écrire dedans\n",
    "---"
   ]
  },
  {
   "cell_type": "markdown",
   "id": "b5075187-626e-4c11-8c31-64a66823a001",
   "metadata": {},
   "source": [
    "<div class=\"alert alert-block alert-warning\"> 📌 <span style=\"color:red\">Retournons dans votre répertoire personnel du projet <code>/shared/projects/2413_rnaseq_cea</code>.</span></div>\n"
   ]
  },
  {
   "cell_type": "code",
   "execution_count": 51,
   "id": "50201fec-3144-4bca-a07c-f2e641f4e386",
   "metadata": {},
   "outputs": [
    {
     "name": "stdout",
     "output_type": "stream",
     "text": [
      "/shared/projects/2413_rnaseq_cea/cvandiedonck\n"
     ]
    }
   ],
   "source": [
    "# cell 51\n",
    "cd /shared/projects/2413_rnaseq_cea/$USER/ \n",
    "pwd"
   ]
  },
  {
   "cell_type": "markdown",
   "id": "519b3cbd-eb50-4456-8b54-a426115fcb9c",
   "metadata": {
    "tags": []
   },
   "source": [
    "### 4.1. Lire un fichier\n",
    "---\n",
    "\n",
    "- Pour **visualiser le contenu d'un fichier** de type texte (on verra dans la semaine qu'il existe d'autres formats), on utilise la commande `cat` (pour *concatenate*) suivie du chemin du fichier à visualiser. \n",
    "\n",
    "<span style=\"color:blue\">- Déplacez-vous dans le répertoire `/shared/projects/2413_rnaseq_cea/alldata/Example_Data/TSI`.\n",
    "Visualisez le contenu du fichier `Hapmap3-TSI_13q21.info` situé dans ce répertoire . </span>"
   ]
  },
  {
   "cell_type": "code",
   "execution_count": 52,
   "id": "4de30835-f8bc-4e0b-9dec-5e0cee162bea",
   "metadata": {
    "tags": []
   },
   "outputs": [
    {
     "name": "stdout",
     "output_type": "stream",
     "text": [
      "Hapmap3-TSI_13q.21.ped\tHapmap3-TSI_13q21.info\n",
      "rs9569366\t55232916\n",
      "rs9597258\t55234440\n",
      "rs4885941\t55234854\n",
      "rs11839457\t55243360\n",
      "rs9591687\t55249342\n",
      "rs9569373\t55254118\n",
      "rs7334154\t55259125\n",
      "rs6561867\t55267869\n",
      "rs9597267\t55268861\n",
      "rs4597206\t55274285\n",
      "rs2997106\t55278733\n",
      "rs3015425\t55280381\n",
      "rs12585364\t55286848\n",
      "rs2997114\t55287986\n",
      "rs2997118\t55290109\n",
      "rs2935461\t55302250\n",
      "rs9569384\t55306855\n",
      "rs1391044\t55311160\n",
      "rs1532453\t55315271\n",
      "rs1391041\t55324975\n",
      "rs10507603\t55328914\n",
      "rs2645938\t55329151\n",
      "rs1117969\t55334130\n",
      "rs2645929\t55342530\n",
      "rs1497292\t55348261\n",
      "rs2645924\t55348356\n",
      "rs2801621\t55352569\n",
      "rs2645920\t55357235\n",
      "rs17052609\t55366456\n",
      "rs2801618\t55368150\n",
      "rs9591697\t55368450\n",
      "rs2801617\t55368842\n",
      "rs17052626\t55369150\n",
      "rs3015430\t55371003\n",
      "rs1995099\t55374794\n",
      "rs975273\t55379417\n",
      "rs1587260\t55381246\n",
      "rs17052641\t55384997\n",
      "rs9537297\t55387445\n",
      "rs9527458\t55391080\n",
      "rs7993035\t55397589\n",
      "rs9597296\t55403182\n",
      "rs1497301\t55407531\n",
      "rs2201715\t55409754\n",
      "rs7992310\t55418764\n",
      "rs11617045\t55419026\n",
      "rs7993082\t55419220\n",
      "rs9597307\t55426306\n",
      "rs1497302\t55429744\n",
      "rs7989771\t55434151\n",
      "rs12430288\t55444122\n",
      "rs377576\t55448019\n",
      "rs2314014\t55448804\n",
      "rs10467541\t55454251\n",
      "rs573051\t55455450\n",
      "rs12584224\t55464336\n",
      "rs442714\t55464860\n",
      "rs494175\t55466299\n",
      "rs9563369\t55469632\n",
      "rs9597316\t55471531\n",
      "rs7997193\t55472364\n",
      "rs8000414\t55472527\n"
     ]
    }
   ],
   "source": [
    "# cell 52\n",
    "#votre code\n",
    "cd /shared/projects/2413_rnaseq_cea/alldata/Example_Data/TSI\n",
    "ls\n",
    "\n",
    "cat Hapmap3-TSI_13q21.info\n"
   ]
  },
  {
   "cell_type": "markdown",
   "id": "d7cd10b0-c8d4-46a5-b3ab-9ffff0d86bb4",
   "metadata": {
    "tags": []
   },
   "source": [
    "Il s'agit d'un fichier au format `.info` d'Haploview, un logiciel d'analyse génétique. Il liste les marqueurs génétiques analysés, chaque ligne décrivant un SNP (*identifiant*, *position physique sur le chromosome*)."
   ]
  },
  {
   "cell_type": "markdown",
   "id": "2207ba61-60c8-43b9-8817-c14d491df0c6",
   "metadata": {},
   "source": [
    "- Souvent les fichiers sont très longs. Si vous travaillez sur le terminal, la commande `less` qui affiche progressivement le contenu un fichier est recommandée. Dans un notebook, on recommande de ne **visualiser** que le **début** ou la **fin** du fichier. Les commandes dédiées à ces tâches sont `head` et `tail`. \n",
    "\n",
    "<span style=\"color:blue\">-Exécutez-les sur le fichier `Hapmap3-TSI_13q21.info`.</span>\n"
   ]
  },
  {
   "cell_type": "code",
   "execution_count": 53,
   "id": "bf704e70-8a08-4f1b-a7e2-90d3f175a89c",
   "metadata": {},
   "outputs": [
    {
     "name": "stdout",
     "output_type": "stream",
     "text": [
      "rs9569366\t55232916\n",
      "rs9597258\t55234440\n",
      "rs4885941\t55234854\n",
      "rs11839457\t55243360\n",
      "rs9591687\t55249342\n",
      "rs9569373\t55254118\n",
      "rs7334154\t55259125\n",
      "rs6561867\t55267869\n",
      "rs9597267\t55268861\n",
      "rs4597206\t55274285\n"
     ]
    }
   ],
   "source": [
    "# cell 53\n",
    "head Hapmap3-TSI_13q21.info"
   ]
  },
  {
   "cell_type": "code",
   "execution_count": 54,
   "id": "86cabc0f-b940-48f4-ab62-f32f0a912498",
   "metadata": {},
   "outputs": [
    {
     "name": "stdout",
     "output_type": "stream",
     "text": [
      "rs2314014\t55448804\n",
      "rs10467541\t55454251\n",
      "rs573051\t55455450\n",
      "rs12584224\t55464336\n",
      "rs442714\t55464860\n",
      "rs494175\t55466299\n",
      "rs9563369\t55469632\n",
      "rs9597316\t55471531\n",
      "rs7997193\t55472364\n",
      "rs8000414\t55472527\n"
     ]
    }
   ],
   "source": [
    "# cell 54\n",
    "tail Hapmap3-TSI_13q21.info"
   ]
  },
  {
   "cell_type": "markdown",
   "id": "24519490-bc0d-4acd-aa9b-94314a188121",
   "metadata": {},
   "source": [
    "Les commandes `head` et `tail`  en bash n'affiche que 10 lignes par défaut."
   ]
  },
  {
   "cell_type": "markdown",
   "id": "3cb1c412-1ef4-40c5-af63-0c3ea8c6adea",
   "metadata": {},
   "source": [
    "L'option `-n`précise le nombre de lignes à afficher. Par exemple :"
   ]
  },
  {
   "cell_type": "code",
   "execution_count": 55,
   "id": "4339f498-cb1a-44f3-b4ed-a8b013e956eb",
   "metadata": {},
   "outputs": [
    {
     "name": "stdout",
     "output_type": "stream",
     "text": [
      "rs9569366\t55232916\n",
      "rs9597258\t55234440\n"
     ]
    }
   ],
   "source": [
    "# cell 55\n",
    "head -n 2 Hapmap3-TSI_13q21.info"
   ]
  },
  {
   "cell_type": "markdown",
   "id": "d656215e-0c91-46c1-9128-479552bcea3a",
   "metadata": {},
   "source": [
    "ou avec tail en n'affichant que les 3 dernières lignes:\n"
   ]
  },
  {
   "cell_type": "code",
   "execution_count": 56,
   "id": "e5d10657-b131-45ce-9435-63d31d8a545e",
   "metadata": {},
   "outputs": [
    {
     "name": "stdout",
     "output_type": "stream",
     "text": [
      "rs9597316\t55471531\n",
      "rs7997193\t55472364\n",
      "rs8000414\t55472527\n"
     ]
    }
   ],
   "source": [
    "# cell 56\n",
    "tail -n 3 Hapmap3-TSI_13q21.info"
   ]
  },
  {
   "cell_type": "markdown",
   "id": "dcc75848-e106-48cf-8ce9-5f6f5055b97e",
   "metadata": {},
   "source": [
    "On peut s'amuser à afficher tout le contenu sauf les 50 premières lignes</span>\n"
   ]
  },
  {
   "cell_type": "code",
   "execution_count": 57,
   "id": "8e2baa4f-3d46-4964-8a0c-47c40416505f",
   "metadata": {},
   "outputs": [
    {
     "name": "stdout",
     "output_type": "stream",
     "text": [
      "rs12430288\t55444122\n",
      "rs377576\t55448019\n",
      "rs2314014\t55448804\n",
      "rs10467541\t55454251\n",
      "rs573051\t55455450\n",
      "rs12584224\t55464336\n",
      "rs442714\t55464860\n",
      "rs494175\t55466299\n",
      "rs9563369\t55469632\n",
      "rs9597316\t55471531\n",
      "rs7997193\t55472364\n",
      "rs8000414\t55472527\n"
     ]
    }
   ],
   "source": [
    "# cell 57\n",
    "tail -n +51 Hapmap3-TSI_13q21.info"
   ]
  },
  {
   "cell_type": "markdown",
   "id": "14c1333c-1b09-44b6-b550-63989fa37d7c",
   "metadata": {},
   "source": [
    "ou tout le contenu sauf les 60 dernières lignes :\n"
   ]
  },
  {
   "cell_type": "code",
   "execution_count": 58,
   "id": "c9df5043-81c7-4e72-8c69-cd1739185aae",
   "metadata": {},
   "outputs": [
    {
     "name": "stdout",
     "output_type": "stream",
     "text": [
      "rs9569366\t55232916\n",
      "rs9597258\t55234440\n"
     ]
    }
   ],
   "source": [
    "# cell 58\n",
    "head -n -60 Hapmap3-TSI_13q21.info"
   ]
  },
  {
   "cell_type": "markdown",
   "id": "549ada25-c618-4cc8-bd8d-6f7248f7faec",
   "metadata": {
    "tags": []
   },
   "source": [
    "--\n",
    "### 4.2. Compter les éléments d'un fichier\n",
    "---\n",
    "\n",
    "\n",
    "- On peut **compter le nombre de caratères, mots, ou lignes** (mais aussi de caractères et de mots) d'un fichier texte à l'aide de la commande `wc`.\n",
    "\n",
    "Avec son argument `-l` (pour *line*), vous comptez le nombre de lignes.\n",
    "\n",
    "<span style=\"color:blue\">- Comptez le nombre de lignes du fichier `Hapmap3-TSI_13q21.info`</span>\n"
   ]
  },
  {
   "cell_type": "code",
   "execution_count": 59,
   "id": "5de26e7f-b7e6-41d1-bb29-5bef4646e8de",
   "metadata": {},
   "outputs": [
    {
     "name": "stdout",
     "output_type": "stream",
     "text": [
      "62 Hapmap3-TSI_13q21.info\n"
     ]
    }
   ],
   "source": [
    "# cell 59\n",
    "wc -l Hapmap3-TSI_13q21.info"
   ]
  },
  {
   "cell_type": "markdown",
   "id": "18d74d13-c3af-4731-905b-5e1fd6ff7b3b",
   "metadata": {},
   "source": [
    "Avec d'autres arguments, vous comptez d'autres éléments."
   ]
  },
  {
   "cell_type": "code",
   "execution_count": 60,
   "id": "9128f909-2b40-402b-a57f-986fe95c0340",
   "metadata": {},
   "outputs": [
    {
     "name": "stdout",
     "output_type": "stream",
     "text": [
      "Usage: wc [OPTION]... [FILE]...\n",
      "  or:  wc [OPTION]... --files0-from=F\n",
      "Print newline, word, and byte counts for each FILE, and a total line if\n",
      "more than one FILE is specified.  With no FILE, or when FILE is -,\n",
      "read standard input.  A word is a non-zero-length sequence of characters\n",
      "delimited by white space.\n",
      "The options below may be used to select which counts are printed, always in\n",
      "the following order: newline, word, character, byte, maximum line length.\n",
      "  -c, --bytes            print the byte counts\n",
      "  -m, --chars            print the character counts\n",
      "  -l, --lines            print the newline counts\n",
      "      --files0-from=F    read input from the files specified by\n",
      "                           NUL-terminated names in file F;\n",
      "                           If F is - then read names from standard input\n",
      "  -L, --max-line-length  print the length of the longest line\n",
      "  -w, --words            print the word counts\n",
      "      --help     display this help and exit\n",
      "      --version  output version information and exit\n",
      "\n",
      "GNU coreutils online help: <http://www.gnu.org/software/coreutils/>\n",
      "Report wc translation bugs to <http://translationproject.org/team/>\n",
      "For complete documentation, run: info coreutils 'wc invocation'\n"
     ]
    }
   ],
   "source": [
    "# cell 60\n",
    "wc --help"
   ]
  },
  {
   "cell_type": "code",
   "execution_count": 61,
   "id": "a608868b-f0e4-45e7-be1e-237908060579",
   "metadata": {},
   "outputs": [
    {
     "name": "stdout",
     "output_type": "stream",
     "text": [
      "124 Hapmap3-TSI_13q21.info\n"
     ]
    }
   ],
   "source": [
    "# cell 61\n",
    "wc -w Hapmap3-TSI_13q21.info"
   ]
  },
  {
   "cell_type": "code",
   "execution_count": 62,
   "id": "940ca9db-19d7-437e-9b90-8ab3bb138aae",
   "metadata": {},
   "outputs": [
    {
     "name": "stdout",
     "output_type": "stream",
     "text": [
      "  62  124 1183 Hapmap3-TSI_13q21.info\n"
     ]
    }
   ],
   "source": [
    "# cell 62\n",
    "wc Hapmap3-TSI_13q21.info"
   ]
  },
  {
   "cell_type": "markdown",
   "id": "6d721c60-469e-4bec-beb5-a4bf30040f36",
   "metadata": {},
   "source": [
    "<span style=\"color:green\">- <b>Question 7</b>  Expliquez les résultat des deux commandes ci-dessus en consultant l'aide de la commande.</span>"
   ]
  },
  {
   "cell_type": "markdown",
   "id": "4c3a9698-7df4-47e3-a9d8-26a1e26c05c2",
   "metadata": {},
   "source": [
    "-> Votre réponse ... <span style=\"color:gray\">-> Dans la cellule 61, l'argument -w permet de compter le nombre de mots. Il y en a 124 ce qui est normal car le fichier avait 62 lignes et 2 mots par ligne (ouvrez le en double cliquant dessus depuis le navigateur du Jupyter Lab pour en être convaincu). Dans la cellule 62, aucun argument n'a été ajouté. Dans ce cas, l'aide indique que la commande affiche d'abord le nombre de lignes, puis le nombre de mots puis le nombre d'octets (taille). </span>"
   ]
  },
  {
   "cell_type": "markdown",
   "id": "ee9d22b0-5ff5-4469-bded-d36042c0b56f",
   "metadata": {},
   "source": [
    "- On peut compter les éléments *uniques* avec la commande `uniq`\n",
    "\n",
    "La commande `uniq` affiche les éléments uniques.\n",
    "\n",
    "Par exemple avec le contenu du fichier `/shared/projects/2413_rnaseq_cea/alldata_Example_Data/protein.txt` :"
   ]
  },
  {
   "cell_type": "code",
   "execution_count": 63,
   "id": "f52a3182-a022-43d4-a1ed-bf60fe4388f1",
   "metadata": {},
   "outputs": [
    {
     "name": "stdout",
     "output_type": "stream",
     "text": [
      "insulin\n",
      "insulin\n",
      "insulin\n",
      "insulin\n",
      "insulin\n",
      "insulin\n",
      "integrin\n",
      "integrin\n",
      "rhodopsin\n",
      "rhodopsin\n",
      "rhodopsin\n",
      "transferrin\n",
      "transferrin\n",
      "transferrin\n",
      "transferrin\n"
     ]
    }
   ],
   "source": [
    "# cell 63\n",
    "cat /shared/projects/2413_rnaseq_cea/alldata/Example_Data/protein.txt"
   ]
  },
  {
   "cell_type": "markdown",
   "id": "0cd7da9f-352e-414e-bb76-65657577fee0",
   "metadata": {},
   "source": [
    "On obtient alors uniquement les lignes uniques :"
   ]
  },
  {
   "cell_type": "code",
   "execution_count": 64,
   "id": "16273875-4f37-4484-ad4d-4f5f9e7cc110",
   "metadata": {},
   "outputs": [
    {
     "name": "stdout",
     "output_type": "stream",
     "text": [
      "insulin\n",
      "integrin\n",
      "rhodopsin\n",
      "transferrin\n"
     ]
    }
   ],
   "source": [
    "# cell 64\n",
    "uniq /shared/projects/2413_rnaseq_cea/alldata/Example_Data/protein.txt"
   ]
  },
  {
   "cell_type": "markdown",
   "id": "412d0ced-735f-4b1f-8227-db2644eaecaf",
   "metadata": {},
   "source": [
    "L'option `-c` compte le nombre de fois qu'un élément est présent :"
   ]
  },
  {
   "cell_type": "code",
   "execution_count": 65,
   "id": "2b419813-05ae-4a8d-803c-bfaacb3f3d64",
   "metadata": {},
   "outputs": [
    {
     "name": "stdout",
     "output_type": "stream",
     "text": [
      "      6 insulin\n",
      "      2 integrin\n",
      "      3 rhodopsin\n",
      "      4 transferrin\n"
     ]
    }
   ],
   "source": [
    "# cell 65\n",
    "uniq -c /shared/projects/2413_rnaseq_cea/alldata/Example_Data/protein.txt"
   ]
  },
  {
   "cell_type": "markdown",
   "id": "97908e9c-aa5c-4924-902d-35bafdf40978",
   "metadata": {},
   "source": [
    "La commande `uniq` ne fonctionne que sur un fichier trié, c'est-à-dire pour lequel les lignes sont déjà triées par ordre alphabétique."
   ]
  },
  {
   "cell_type": "markdown",
   "id": "e5aa6f2a-ee23-4832-859b-3b1646c1c307",
   "metadata": {
    "tags": []
   },
   "source": [
    "--\n",
    "### 4.3. Triez des lignes d'un fichier\n",
    "---\n",
    "\n",
    "- Avec la commande `sort`, il est possible de **trier les lignes** d'un fichier selon un ordre ascendant, descendant, voire aléatoire selon les valeurs d'une colonne. "
   ]
  },
  {
   "cell_type": "code",
   "execution_count": 66,
   "id": "f88dc1e9-0685-49b4-8c83-8f441685bbaf",
   "metadata": {},
   "outputs": [
    {
     "name": "stdout",
     "output_type": "stream",
     "text": [
      "Usage: sort [OPTION]... [FILE]...\n",
      "  or:  sort [OPTION]... --files0-from=F\n",
      "Write sorted concatenation of all FILE(s) to standard output.\n",
      "\n",
      "Mandatory arguments to long options are mandatory for short options too.\n",
      "Ordering options:\n",
      "\n",
      "  -b, --ignore-leading-blanks  ignore leading blanks\n",
      "  -d, --dictionary-order      consider only blanks and alphanumeric characters\n",
      "  -f, --ignore-case           fold lower case to upper case characters\n",
      "  -g, --general-numeric-sort  compare according to general numerical value\n",
      "  -i, --ignore-nonprinting    consider only printable characters\n",
      "  -M, --month-sort            compare (unknown) < 'JAN' < ... < 'DEC'\n",
      "  -h, --human-numeric-sort    compare human readable numbers (e.g., 2K 1G)\n",
      "  -n, --numeric-sort          compare according to string numerical value\n",
      "  -R, --random-sort           sort by random hash of keys\n",
      "      --random-source=FILE    get random bytes from FILE\n",
      "  -r, --reverse               reverse the result of comparisons\n",
      "      --sort=WORD             sort according to WORD:\n",
      "                                general-numeric -g, human-numeric -h, month -M,\n",
      "                                numeric -n, random -R, version -V\n",
      "  -V, --version-sort          natural sort of (version) numbers within text\n",
      "\n",
      "Other options:\n",
      "\n",
      "      --batch-size=NMERGE   merge at most NMERGE inputs at once;\n",
      "                            for more use temp files\n",
      "  -c, --check, --check=diagnose-first  check for sorted input; do not sort\n",
      "  -C, --check=quiet, --check=silent  like -c, but do not report first bad line\n",
      "      --compress-program=PROG  compress temporaries with PROG;\n",
      "                              decompress them with PROG -d\n",
      "      --debug               annotate the part of the line used to sort,\n",
      "                              and warn about questionable usage to stderr\n",
      "      --files0-from=F       read input from the files specified by\n",
      "                            NUL-terminated names in file F;\n",
      "                            If F is - then read names from standard input\n",
      "  -k, --key=KEYDEF          sort via a key; KEYDEF gives location and type\n",
      "  -m, --merge               merge already sorted files; do not sort\n",
      "  -o, --output=FILE         write result to FILE instead of standard output\n",
      "  -s, --stable              stabilize sort by disabling last-resort comparison\n",
      "  -S, --buffer-size=SIZE    use SIZE for main memory buffer\n",
      "  -t, --field-separator=SEP  use SEP instead of non-blank to blank transition\n",
      "  -T, --temporary-directory=DIR  use DIR for temporaries, not $TMPDIR or /tmp;\n",
      "                              multiple options specify multiple directories\n",
      "      --parallel=N          change the number of sorts run concurrently to N\n",
      "  -u, --unique              with -c, check for strict ordering;\n",
      "                              without -c, output only the first of an equal run\n",
      "  -z, --zero-terminated     end lines with 0 byte, not newline\n",
      "      --help     display this help and exit\n",
      "      --version  output version information and exit\n",
      "\n",
      "KEYDEF is F[.C][OPTS][,F[.C][OPTS]] for start and stop position, where F is a\n",
      "field number and C a character position in the field; both are origin 1, and\n",
      "the stop position defaults to the line's end.  If neither -t nor -b is in\n",
      "effect, characters in a field are counted from the beginning of the preceding\n",
      "whitespace.  OPTS is one or more single-letter ordering options [bdfgiMhnRrV],\n",
      "which override global ordering options for that key.  If no key is given, use\n",
      "the entire line as the key.\n",
      "\n",
      "SIZE may be followed by the following multiplicative suffixes:\n",
      "% 1% of memory, b 1, K 1024 (default), and so on for M, G, T, P, E, Z, Y.\n",
      "\n",
      "With no FILE, or when FILE is -, read standard input.\n",
      "\n",
      "*** WARNING ***\n",
      "The locale specified by the environment affects sort order.\n",
      "Set LC_ALL=C to get the traditional sort order that uses\n",
      "native byte values.\n",
      "\n",
      "GNU coreutils online help: <http://www.gnu.org/software/coreutils/>\n",
      "Report sort translation bugs to <http://translationproject.org/team/>\n",
      "For complete documentation, run: info coreutils 'sort invocation'\n"
     ]
    }
   ],
   "source": [
    "# cell 66\n",
    "sort --help"
   ]
  },
  {
   "cell_type": "code",
   "execution_count": 67,
   "id": "e0b18ff1-46b0-4b5d-bb9a-2152b42cb9f3",
   "metadata": {},
   "outputs": [
    {
     "name": "stdout",
     "output_type": "stream",
     "text": [
      "rs8000414\t55472527\n",
      "rs7997193\t55472364\n",
      "rs9597316\t55471531\n",
      "rs9563369\t55469632\n",
      "rs494175\t55466299\n",
      "rs442714\t55464860\n",
      "rs12584224\t55464336\n",
      "rs573051\t55455450\n",
      "rs10467541\t55454251\n",
      "rs2314014\t55448804\n",
      "rs377576\t55448019\n",
      "rs12430288\t55444122\n",
      "rs7989771\t55434151\n",
      "rs1497302\t55429744\n",
      "rs9597307\t55426306\n",
      "rs7993082\t55419220\n",
      "rs11617045\t55419026\n",
      "rs7992310\t55418764\n",
      "rs2201715\t55409754\n",
      "rs1497301\t55407531\n",
      "rs9597296\t55403182\n",
      "rs7993035\t55397589\n",
      "rs9527458\t55391080\n",
      "rs9537297\t55387445\n",
      "rs17052641\t55384997\n",
      "rs1587260\t55381246\n",
      "rs975273\t55379417\n",
      "rs1995099\t55374794\n",
      "rs3015430\t55371003\n",
      "rs17052626\t55369150\n",
      "rs2801617\t55368842\n",
      "rs9591697\t55368450\n",
      "rs2801618\t55368150\n",
      "rs17052609\t55366456\n",
      "rs2645920\t55357235\n",
      "rs2801621\t55352569\n",
      "rs2645924\t55348356\n",
      "rs1497292\t55348261\n",
      "rs2645929\t55342530\n",
      "rs1117969\t55334130\n",
      "rs2645938\t55329151\n",
      "rs10507603\t55328914\n",
      "rs1391041\t55324975\n",
      "rs1532453\t55315271\n",
      "rs1391044\t55311160\n",
      "rs9569384\t55306855\n",
      "rs2935461\t55302250\n",
      "rs2997118\t55290109\n",
      "rs2997114\t55287986\n",
      "rs12585364\t55286848\n",
      "rs3015425\t55280381\n",
      "rs2997106\t55278733\n",
      "rs4597206\t55274285\n",
      "rs9597267\t55268861\n",
      "rs6561867\t55267869\n",
      "rs7334154\t55259125\n",
      "rs9569373\t55254118\n",
      "rs9591687\t55249342\n",
      "rs11839457\t55243360\n",
      "rs4885941\t55234854\n",
      "rs9597258\t55234440\n",
      "rs9569366\t55232916\n"
     ]
    }
   ],
   "source": [
    "# cell 67\n",
    "sort -n -r -k2 Hapmap3-TSI_13q21.info"
   ]
  },
  {
   "cell_type": "markdown",
   "id": "58f10ea9-5bc8-4cda-95ea-27149977e883",
   "metadata": {},
   "source": [
    "<span style=\"color:green\">- <b>Question 8 :</b> Quel tri a été fait dans la commande précédente? Expliquez les 3 arguments. </span>"
   ]
  },
  {
   "cell_type": "markdown",
   "id": "4d06b42a-9407-4e59-afc2-9be29cfa4496",
   "metadata": {},
   "source": [
    "-> Votre réponse: <span style=\"color:gray\">-> Le tri est numérique, avec une clé de tri correspondant à la 2e colonne, et dans l'ordre décroissant.</span>\n"
   ]
  },
  {
   "cell_type": "markdown",
   "id": "ffbd6ed7-4da1-46b7-b4e3-500d3a24f44b",
   "metadata": {},
   "source": [
    "<div class=\"alert alert-block alert-info\"> Dans Unix, on peut enchaîner 2 commandes en utilisant à la suite en utilisant le pipe `<b>|</b>` (touche <kbd>AltGr</kbd>+<kbd>6</kbd> sur un clavier Azerty PC ou <kbd>Alt</kbd>+<kbd>MAJ</kbd>+<kbd>l</kbd> sur un clavier Azerty Mac). La commande située à gauche du pipe s'exécute en premier et son résultat est directement utilisé par la commande située après le pipe.</div> "
   ]
  },
  {
   "cell_type": "code",
   "execution_count": 68,
   "id": "5463274c-2aee-4188-9aaf-9515dfa98a70",
   "metadata": {},
   "outputs": [
    {
     "name": "stdout",
     "output_type": "stream",
     "text": [
      "rs8000414\t55472527\n",
      "rs7997193\t55472364\n",
      "rs9597316\t55471531\n",
      "rs9563369\t55469632\n",
      "rs494175\t55466299\n",
      "rs442714\t55464860\n",
      "rs12584224\t55464336\n",
      "rs573051\t55455450\n",
      "rs10467541\t55454251\n",
      "rs2314014\t55448804\n"
     ]
    }
   ],
   "source": [
    "# cell 68\n",
    "sort -n -r -k2 Hapmap3-TSI_13q21.info | head"
   ]
  },
  {
   "cell_type": "markdown",
   "id": "92f6276b-0c2d-4647-83a3-53b5a61ec9a2",
   "metadata": {},
   "source": [
    "Ci-dessus on a donc enchainé le tri et décidé de n'afficher que les 10 premières lignes du résultat du tri. On voit que cela correspond à l'ordre inverse des 10 dernières lignes du fichier non trié."
   ]
  },
  {
   "cell_type": "code",
   "execution_count": 69,
   "id": "7774ee57-a797-4bba-b686-6a6165fb3dc6",
   "metadata": {},
   "outputs": [
    {
     "name": "stdout",
     "output_type": "stream",
     "text": [
      "rs2314014\t55448804\n",
      "rs10467541\t55454251\n",
      "rs573051\t55455450\n",
      "rs12584224\t55464336\n",
      "rs442714\t55464860\n",
      "rs494175\t55466299\n",
      "rs9563369\t55469632\n",
      "rs9597316\t55471531\n",
      "rs7997193\t55472364\n",
      "rs8000414\t55472527\n"
     ]
    }
   ],
   "source": [
    "# cell 69\n",
    "tail Hapmap3-TSI_13q21.info"
   ]
  },
  {
   "cell_type": "markdown",
   "id": "b4736cbd-484a-4e6f-8e81-f38dc122746c",
   "metadata": {
    "tags": []
   },
   "source": [
    "--\n",
    "### 4.4. Extraire les colonnes d'un fichier\n",
    "---"
   ]
  },
  {
   "cell_type": "markdown",
   "id": "595f32ab-0c3a-4595-a230-b4cb12b33e38",
   "metadata": {},
   "source": [
    "- Lorsque le fichier texte est un **\"fichier plat\"** (chaque ligne contient le même nombre de colonnes, séparées les unes des autres par un délimiteur), il est possible d'**extraire uniquement certaines colonnes** avec la commande `cut`. "
   ]
  },
  {
   "cell_type": "markdown",
   "id": "24245048-3017-4572-8960-95fa0d68353b",
   "metadata": {},
   "source": [
    "Pour l'exemple, nous allons regarder le fichier `Hapmap3-TSI_13q.21.ped`. Ce fichier est un fichier de génétique au format `.ped` contenant pour chaque ligne les informations pour un individu donné, avec dans les 6 premières colonnes des informations d'identifiant sur cet un individu (identifiant de la famille, identifiant de l'individu, identifiant du père, identifiant de la mère, sexe, statut par rapport à la maladie). Les colonnes suivantes contiennent les génotypes pour chacun des marqueurs listé dans le fichier `.info` ou `.map` correspondant.\n",
    "\n",
    "Affichons d'abord les 10 premières lignes."
   ]
  },
  {
   "cell_type": "code",
   "execution_count": 70,
   "id": "dd33358a-70be-419d-89bd-bd01ee50777f",
   "metadata": {},
   "outputs": [
    {
     "name": "stdout",
     "output_type": "stream",
     "text": [
      "NA20502 NA20502 0 0 2 0 C C G A A G A G C C T T A G G G T C G A C A C C G G T G T G G A T T G A T T T G A A T G G G G G G G C C C C C C A A A A G G T T G G A A G A G G T T A A C C T T C C A A A A C C C C G G A A G G C C C C A A A G G G T C T C G A C C A G C C A G C T C A\n",
      "NA20504 NA20504 0 0 2 0 C C G A A G A G T C T T A G A G T C G A C A T C G G T G 0 0 G A T T G A C T T G A A T G A G G G G G C C C C C C A A A A G G T T A G A A A A G G T T A A C C C T C C A A A A C C C C A G A A A G C C C C A A A G G G C C C C A A C C G G C C G G T T A A\n",
      "NA20505 NA20505 0 0 2 0 C C G A A G A G T C T T A G A G T C G A C A T C G G T G T G G A T T G A C T T G A A T G A G G G G G C C C C C C A A A A G G T T A G A A G A G G T T A A C C T T C C A A A A C C C C A G A A G G C C C C A A A A G G C C C C A A C C G G C C G G T T A A\n",
      "NA20506 NA20506 0 0 2 0 C C G A A G A G T C T T A G A G T C G A C A T C G G T G T G G A T T G A C T G G A A G G A G G G G G C C C C C C A A A A G G T T G G A A A A G G C T A A T C C T C C A A A A C C C C G G A A G G G C C C A A G G G G C C C C A A C C A G C C G G T T A A\n",
      "NA20508 NA20508 0 0 2 0 C C G A A G A G C C T T A G G G T C G A C A C C G G T G T G G A T T G A T T T G A A T G G G A G G G C C T C C C A A C A A G C T G G C A G A T G C T A A T C T T C C C A A A T C C C G G A A A G G C T C G A A G G G T C T C G A C C A G C C A G C T C A\n",
      "NA20509 NA20509 0 0 1 0 C C A A G G G G C C T T G G G G C C A A A A C C G G G G T G A A T T A A T T T T A A T T G G G G G G C C C C C C A A A A G G T T G G A A G A G G T T A A C C C T C C A A A A C C C C G G A A G G C C C C A A A G G G C C C C A A C C G G C C G G T T A A\n",
      "NA20510 NA20510 0 0 1 0 T C G A A A A G T C C T A G A G T C G A C A T C A G T G G G G A C T G G C T G G A A G G A G A G G G C C T C C C A A C A A G T T A G C A A A T G C T A A T C T T C C C A A A T C C C A G A A A G G C T C G A A G G G T C T C G A C C A G C C A G C T C A\n",
      "NA20512 NA20512 0 0 1 0 C C G A A G A G C C T T A G G G T C G A C A C C G G T G T G G A T T G A T T T G A A T G G G A G G G C C C C C C A A A A G G T T G G A A A A G G T T A A C C C T C C A A A A C C C C G G A A G G C C C C A A G G G G T C T C G A C C A G C C A G C T C A\n",
      "NA20515 NA20515 0 0 1 0 C C G A A G A G T C T T A G A G T C G A C A T C G G T G T G G A T T G A C T T G A A T G A G G G G G C C C C C C A A A A G G T T A G A A G A G G T T A A C C T T C C A A A A C C C C A G A A G G C C C C A A A A G G C C C C A A C C G G C C G G T T A A\n",
      "NA20516 NA20516 0 0 1 0 T T A A A A G G C C T T G G G G C C A A A A C C A A G G G G A A C C G G T T G G G G G G G G G G G G C C C C C C A A A A G G T T G G A A G A G G T T A A C C C T C C A A A A C C C C G G A A G G C C C C A A A G G G C C C C A A C C G G C C G G T T A A\n"
     ]
    }
   ],
   "source": [
    "# cell 70\n",
    "head Hapmap3-TSI_13q.21.ped"
   ]
  },
  {
   "cell_type": "markdown",
   "id": "10df7349-0e5f-49ca-be7a-b52eeb0ec70c",
   "metadata": {},
   "source": [
    "Chaque ligne commence par un identifiant au format `NAXXXXX` dans cet exemple. Comme 62 marqueurs ont été génotypés, l'affichage de chaque ligne continue en dessous."
   ]
  },
  {
   "cell_type": "markdown",
   "id": "dead3708-d354-46d5-a70a-b696a5e82874",
   "metadata": {},
   "source": [
    "Consultons l'aide de la commande `cut` pour connaitre les options possibles. "
   ]
  },
  {
   "cell_type": "code",
   "execution_count": 71,
   "id": "44868bbe-18f1-4259-9e31-045960dc869b",
   "metadata": {},
   "outputs": [
    {
     "name": "stdout",
     "output_type": "stream",
     "text": [
      "Usage: cut OPTION... [FILE]...\n",
      "Print selected parts of lines from each FILE to standard output.\n",
      "\n",
      "Mandatory arguments to long options are mandatory for short options too.\n",
      "  -b, --bytes=LIST        select only these bytes\n",
      "  -c, --characters=LIST   select only these characters\n",
      "  -d, --delimiter=DELIM   use DELIM instead of TAB for field delimiter\n",
      "  -f, --fields=LIST       select only these fields;  also print any line\n",
      "                            that contains no delimiter character, unless\n",
      "                            the -s option is specified\n",
      "  -n                      with -b: don't split multibyte characters\n",
      "      --complement        complement the set of selected bytes, characters\n",
      "                            or fields\n",
      "  -s, --only-delimited    do not print lines not containing delimiters\n",
      "      --output-delimiter=STRING  use STRING as the output delimiter\n",
      "                            the default is to use the input delimiter\n",
      "      --help     display this help and exit\n",
      "      --version  output version information and exit\n",
      "\n",
      "Use one, and only one of -b, -c or -f.  Each LIST is made up of one\n",
      "range, or many ranges separated by commas.  Selected input is written\n",
      "in the same order that it is read, and is written exactly once.\n",
      "Each range is one of:\n",
      "\n",
      "  N     N'th byte, character or field, counted from 1\n",
      "  N-    from N'th byte, character or field, to end of line\n",
      "  N-M   from N'th to M'th (included) byte, character or field\n",
      "  -M    from first to M'th (included) byte, character or field\n",
      "\n",
      "With no FILE, or when FILE is -, read standard input.\n",
      "\n",
      "GNU coreutils online help: <http://www.gnu.org/software/coreutils/>\n",
      "Report cut translation bugs to <http://translationproject.org/team/>\n",
      "For complete documentation, run: info coreutils 'cut invocation'\n"
     ]
    }
   ],
   "source": [
    "# cell 71\n",
    "cut --help"
   ]
  },
  {
   "cell_type": "markdown",
   "id": "f7fb3bdf-76b8-4a8b-8206-908809abd294",
   "metadata": {},
   "source": [
    "Sélectionnons à présent les 6 premières colonnes du fichier."
   ]
  },
  {
   "cell_type": "code",
   "execution_count": 72,
   "id": "0bb04e19-6772-49aa-be03-fd187166c1ae",
   "metadata": {},
   "outputs": [
    {
     "name": "stdout",
     "output_type": "stream",
     "text": [
      "NA20502 NA20502 0 0 2 0\n",
      "NA20504 NA20504 0 0 2 0\n",
      "NA20505 NA20505 0 0 2 0\n",
      "NA20506 NA20506 0 0 2 0\n",
      "NA20508 NA20508 0 0 2 0\n",
      "NA20509 NA20509 0 0 1 0\n",
      "NA20510 NA20510 0 0 1 0\n",
      "NA20512 NA20512 0 0 1 0\n",
      "NA20515 NA20515 0 0 1 0\n",
      "NA20516 NA20516 0 0 1 0\n"
     ]
    }
   ],
   "source": [
    "# cell 72\n",
    "cut -d\" \" -f1-6 Hapmap3-TSI_13q.21.ped | head"
   ]
  },
  {
   "cell_type": "markdown",
   "id": "24aa9d40-c266-49fd-b1a4-955eef8135e2",
   "metadata": {},
   "source": [
    "<span style=\"color:green\">- <b>Question 9:</b> Expliquez la commande ci-dessus. </span>"
   ]
  },
  {
   "cell_type": "markdown",
   "id": "cb31a8d0-1909-49ff-905f-4eb9e1ed4295",
   "metadata": {},
   "source": [
    "-> Votre réponse...<span style=\"color:gray\"> -> Le séparateur étant un expace plutôt qu'une tabulation, on utilise -d pour indiquer le type de séparateur, puis on choisit les colonnes 1 à 6 avec l'agrument -f. On idnique ensuite le fichier sur lequel on réalise ces manipulations. Le résultat de cette 1ère commande est envoyé comme input de la commande head grâce au pipe |.</span>"
   ]
  },
  {
   "cell_type": "markdown",
   "id": "34a5c1fd-1659-48b9-96b8-2b7745a9d8db",
   "metadata": {},
   "source": [
    "<div class=\"alert alert-block alert-info\"> <b> Information: </b>Vous noterez que l'ordre dans le fichier `Hapmap3-TSI_13q21.info` n'a pas été modifié, et que toutes les colonnes du fichier `Hapmap3-TSI_13q21.ped` n'ont pas disparu. Les commandes `sort` ou `cut` ont seulement affiché le résultat du tri mais elles n'ont pas écrasé les données dans le fichier.<br>\n",
    "Comment modifie-t-on un fichier ou écrit-on dedans ? C'est ce qui vous sera présenté dans le paragraphe 4.6.</div> "
   ]
  },
  {
   "cell_type": "markdown",
   "id": "0d0d072a-60b8-41ef-9f3a-3c44cbf53d68",
   "metadata": {},
   "source": [
    "--\n",
    "### 4.5 Extraire un motif d'un fichier\n",
    "---"
   ]
  },
  {
   "cell_type": "markdown",
   "id": "54ad8aa7-96fe-42af-b227-364036ebed62",
   "metadata": {},
   "source": [
    "Pour extraire un motif, on utilise la commande `grep`. Cela retourne toutes les lignes d'un fichier texte contenant le motif en question indiqué entre des doubles ou simples guillemets."
   ]
  },
  {
   "cell_type": "markdown",
   "id": "64456c9c-67ba-4cf5-9e1a-b113664ca645",
   "metadata": {},
   "source": [
    "- Par exemple, on peut extraire la ligne contenant le SNP `rs9597307` du fichier `Hapmap3-TSI_13q21.info`."
   ]
  },
  {
   "cell_type": "code",
   "execution_count": 73,
   "id": "2b7bda1a-5519-4790-af5f-3fb1f02b07e1",
   "metadata": {},
   "outputs": [
    {
     "name": "stdout",
     "output_type": "stream",
     "text": [
      "rs9597307\t55426306\n"
     ]
    }
   ],
   "source": [
    "# cell 73\n",
    "grep \"rs9597307\" Hapmap3-TSI_13q21.info"
   ]
  },
  {
   "cell_type": "markdown",
   "id": "fa9b323d-574c-4152-9085-a7e9f5a8e0c9",
   "metadata": {},
   "source": [
    "- On peut aussi extraire un motif plus court, par exemple toutes les lignes avec le motif \"rs95\"."
   ]
  },
  {
   "cell_type": "code",
   "execution_count": 74,
   "id": "b5eebed0-fe46-4540-a24f-9b64f41c52dc",
   "metadata": {},
   "outputs": [
    {
     "name": "stdout",
     "output_type": "stream",
     "text": [
      "rs9569366\t55232916\n",
      "rs9597258\t55234440\n",
      "rs9591687\t55249342\n",
      "rs9569373\t55254118\n",
      "rs9597267\t55268861\n",
      "rs9569384\t55306855\n",
      "rs9591697\t55368450\n",
      "rs9537297\t55387445\n",
      "rs9527458\t55391080\n",
      "rs9597296\t55403182\n",
      "rs9597307\t55426306\n",
      "rs9563369\t55469632\n",
      "rs9597316\t55471531\n"
     ]
    }
   ],
   "source": [
    "# cell 74\n",
    "grep \"rs95\" Hapmap3-TSI_13q21.info"
   ]
  },
  {
   "cell_type": "markdown",
   "id": "1d14429d-0ab3-4749-8a77-80e5b691c30b",
   "metadata": {},
   "source": [
    "- Dans la commandesuivante, on extrait tous les SNPs dont l'identifiant se termine par un \"3\". Pour ce faire, on utilise l'argument `-P` pour lire en langage Perl une *expression régulière*. Entre les guillements, on ajoute un `.` pour indiquer un caractère, n'importe lequel. Le fait d'ajouter `*` permet d'appliquer le `.` à un nombre variable de caractères (un ou plusieurs). Ensuite, comme il y a 2 colonnes, on ajoute `\\\\t` pour indiquer qu'il y a une tabulation comme séparateur de colonne (et que donc la recherche de `rs.*3` se fait dans la première colonne)."
   ]
  },
  {
   "cell_type": "code",
   "execution_count": 75,
   "id": "36460c62-45e8-45be-acf3-ae19c2f42f73",
   "metadata": {},
   "outputs": [
    {
     "name": "stdout",
     "output_type": "stream",
     "text": [
      "rs9569373\t55254118\n",
      "rs1532453\t55315271\n",
      "rs10507603\t55328914\n",
      "rs975273\t55379417\n",
      "rs7997193\t55472364\n"
     ]
    }
   ],
   "source": [
    "# cell 75\n",
    "grep -P \"rs.*3\\\\t\" Hapmap3-TSI_13q21.info "
   ]
  },
  {
   "cell_type": "markdown",
   "id": "bc6ad254-f359-4eb0-be1f-3f90e5834f5c",
   "metadata": {},
   "source": [
    "- Au dessus, on savait que le rs était dans la 1ère colonne et en début de ligne, mais ce n'est pas toujours le cas. On peut forcer à chercher en début de ligne avec le `^` placé au début du motif recherché.\n"
   ]
  },
  {
   "cell_type": "code",
   "execution_count": 76,
   "id": "a6eb5ee9-62f1-4d42-a140-1bb16c16d0f7",
   "metadata": {},
   "outputs": [
    {
     "name": "stdout",
     "output_type": "stream",
     "text": [
      "rs9569373\t55254118\n",
      "rs1532453\t55315271\n",
      "rs10507603\t55328914\n",
      "rs975273\t55379417\n",
      "rs7997193\t55472364\n"
     ]
    }
   ],
   "source": [
    "# cell 76\n",
    "grep -P \"^rs.*3\\\\t\" Hapmap3-TSI_13q21.info"
   ]
  },
  {
   "cell_type": "markdown",
   "id": "51ab3bfe-7414-4d37-a401-4bcbb12f93b3",
   "metadata": {},
   "source": [
    "- On peut aussi chercher dans la 2ème colonne (après la tabulation) tout ce qui commence par \"554\"."
   ]
  },
  {
   "cell_type": "code",
   "execution_count": 77,
   "id": "ab31af8b-7d45-4fc4-9511-67cb8a103c19",
   "metadata": {},
   "outputs": [
    {
     "name": "stdout",
     "output_type": "stream",
     "text": [
      "rs9597296\t55403182\n",
      "rs1497301\t55407531\n",
      "rs2201715\t55409754\n",
      "rs7992310\t55418764\n",
      "rs11617045\t55419026\n",
      "rs7993082\t55419220\n",
      "rs9597307\t55426306\n",
      "rs1497302\t55429744\n",
      "rs7989771\t55434151\n",
      "rs12430288\t55444122\n",
      "rs377576\t55448019\n",
      "rs2314014\t55448804\n",
      "rs10467541\t55454251\n",
      "rs573051\t55455450\n",
      "rs12584224\t55464336\n",
      "rs442714\t55464860\n",
      "rs494175\t55466299\n",
      "rs9563369\t55469632\n",
      "rs9597316\t55471531\n",
      "rs7997193\t55472364\n",
      "rs8000414\t55472527\n"
     ]
    }
   ],
   "source": [
    "# cell 77\n",
    "grep -P \"\\\\t554\" Hapmap3-TSI_13q21.info"
   ]
  },
  {
   "cell_type": "markdown",
   "id": "81fd6088-818d-4f4c-9b88-43e6b1f49bca",
   "metadata": {},
   "source": [
    "- Dans ce dernier  exemple, on recherche toutes les lignes qui se terminent par \"1\" en utilisant `$` pour indiquer la fin de la ligne."
   ]
  },
  {
   "cell_type": "code",
   "execution_count": 78,
   "id": "0a8a0fff-3d83-4ee2-8699-abee19b57013",
   "metadata": {},
   "outputs": [
    {
     "name": "stdout",
     "output_type": "stream",
     "text": [
      "rs9597267\t55268861\n",
      "rs3015425\t55280381\n",
      "rs1532453\t55315271\n",
      "rs2645938\t55329151\n",
      "rs1497292\t55348261\n",
      "rs1497301\t55407531\n",
      "rs7989771\t55434151\n",
      "rs10467541\t55454251\n",
      "rs9597316\t55471531\n"
     ]
    }
   ],
   "source": [
    "# cell 78\n",
    "grep \"1$\" Hapmap3-TSI_13q21.info"
   ]
  },
  {
   "cell_type": "markdown",
   "id": "415ff189-6016-4db0-a558-b9513bbc504c",
   "metadata": {
    "tags": []
   },
   "source": [
    "--\n",
    "### 4.6. Ecrire dans un fichier\n",
    "---\n",
    "\n",
    "Pour **écrire dans un fichier :**\n",
    "\n",
    "**1. Sur l'interface Jupyter Lab**, il est possible d'ouvrir un fichier par un double clic sur son nom dans le navigateur à gauche.  Vous pouvez y écrire du texte directement. En le fermant, Jupyter Lab vous demandera de le sauvegarder.\n",
    "\n",
    "**2. Sans interface Jupyter Lab**, comment écrit-on dans un fichier texte?\n",
    "Plusieurs outils existent, plus ou moins faciles.\n",
    "\n",
    "Une solution est de **rediriger le résultat d'une commande dans un fichier**. Cela se fait avec avec `>` qui écrase le fichier ou avec `>>` qui écrit à la suite d'un fichier existant.\n",
    "    \n",
    "Pour l'exemple, une façon simple d'écrire du texte est d'utiliser la commande `echo` qui écrit du texte sur le terminal et dont vous pouvez rediriger  le contenu dans un fichier.\n"
   ]
  },
  {
   "cell_type": "code",
   "execution_count": 79,
   "id": "c01375c2-ffad-435a-a06e-2b9a784a19ba",
   "metadata": {},
   "outputs": [
    {
     "name": "stdout",
     "output_type": "stream",
     "text": [
      "/shared/projects/2413_rnaseq_cea/cvandiedonck\n"
     ]
    }
   ],
   "source": [
    "# cell 79\n",
    "cd /shared/projects/2413_rnaseq_cea/$USER/ \n",
    "pwd\n",
    "echo \"quelques mots dans mon fichier\" > tmp_file.txt"
   ]
  },
  {
   "cell_type": "markdown",
   "id": "71ace914-556a-4481-9e07-ad02225c5e0f",
   "metadata": {},
   "source": [
    "Si vous voulez continuer d'écrire à la suite, il faudra utiliser `>>` plutôt que `>` pour ne pas écraser le contenu."
   ]
  },
  {
   "cell_type": "code",
   "execution_count": 80,
   "id": "982d8801-f6bc-4f48-9dbe-83c3c2ddd0fb",
   "metadata": {},
   "outputs": [],
   "source": [
    "# cell 80\n",
    "echo \"d'autres mots dans mon fichier\" >> tmp_file.txt"
   ]
  },
  {
   "cell_type": "markdown",
   "id": "f353a459-644d-493c-91e9-dd2164c39759",
   "metadata": {},
   "source": [
    "Regardez le résultat:"
   ]
  },
  {
   "cell_type": "code",
   "execution_count": 81,
   "id": "d735ba7d-5038-4e4a-b2fc-ab19356483e5",
   "metadata": {},
   "outputs": [
    {
     "name": "stdout",
     "output_type": "stream",
     "text": [
      "quelques mots dans mon fichier\n",
      "d'autres mots dans mon fichier\n"
     ]
    }
   ],
   "source": [
    "# cell 81\n",
    "cat tmp_file.txt"
   ]
  },
  {
   "cell_type": "markdown",
   "id": "dd1f2794-6147-492b-804a-029419143268",
   "metadata": {},
   "source": [
    "> ***Facultatif*** *Pour les plus audacieux, vous pouvez tester le programme `nano`.*\n",
    "> On veut créer un nouveau fichier de type texte nommé `gene_list.txt` dans le répertoire `tmp` et ayant le contenu suivant (NB: vous séparerez les colonnes par des tabulations):\n",
    ">\n",
    "> | symbol | name |\n",
    "> | --- | --- |\n",
    "> | APOE | apolipoprotein  |\n",
    "> | AR | androgen receptor |\n",
    "> | GRN | granulin |\n",
    "> | HTT | huntingtin |\n",
    "> | PSEN1 | presenilin 1 |\n",
    ">\n",
    "> <div class=\"alert alert-block alert-danger\">\n",
    "><b>Attention</b>: \n",
    ">    nano est un outil interactif qui doit être appelé depuis un <b>Terminal</b> et pas depuis un Notebook Jupyter. \n",
    "></div>\n",
    ">- Cliquez en haut à gauche sur le \"+\" et ouvrez un Terminal.\n",
    ">\n",
    "> - Déplacez-vous dans le bon répertoire avec la commande `cd`\n",
    "> - Executez la commande: `nano gene_list.txt`\n",
    ">\n",
    "> **Attention**: si nano s'utilise comme n'importe quel éditeur de texte classique pour la saisie du texte, les raccourcis clavier (pour copier, couper, coller, sauvegarder, quitter) sont inhabituels:\n",
    "> - <kbd>ALT</kbd>+<kbd>SHIFT</kbd>+<kbd>6</kbd>: copier un texte sélectionné (et le placer dans le presse-papier)\n",
    "> - <kbd>CTRL</kbd>+<kbd>K</kbd> : couper un texte sélectionné (et le placer dans le presse-papier)\n",
    "> - <kbd>CTRL</kbd>+<kbd>U</kbd> : coller le texte présent dans le presse-paprier\n",
    "> - <kbd>CTRL</kbd>+<kbd>O</kbd> : enregistrer le fichier\n",
    "> - <kbd>CTRL</kbd>+<kbd>X</kbd> : quitter nano\n",
    ">\n",
    ">Les différentes combinaisons de touches sont rappelées en bas de l'écran. Le caractère « `^` » désigne la touche <kbd>Ctrl</kbd>.\n",
    "\n",
    "\n",
    "\n"
   ]
  },
  {
   "cell_type": "markdown",
   "id": "e1723c90-85ec-4ed5-81e5-5edbe9784bc1",
   "metadata": {
    "tags": []
   },
   "source": [
    "---\n",
    "---\n",
    "## 5. Sommes de contrôle\n",
    "---"
   ]
  },
  {
   "cell_type": "markdown",
   "id": "1d295961-e43c-4204-a6f8-649232e9310d",
   "metadata": {},
   "source": [
    "Les sommes de contrôle sont la signature ou l'empreinte numérique (*hash*) d'un fichier. Elles sont particulièrement utiles pour vérifier l'intégrité d'un fichier. En passant un fichier dans un algorithme particulier, on obtient une somme de contrôle, souvent représentée comme une suite de chiffres et de lettres."
   ]
  },
  {
   "cell_type": "markdown",
   "id": "c3d17891-93f8-48af-9e6b-044a3483a17b",
   "metadata": {
    "tags": []
   },
   "source": [
    "**MD5:** L'agorithme *Message Digest 5* (MD5) est un des algorithmes les plus utilisés et un des plus anciens. Il date de 1991.\n",
    "\n",
    "Cet algorithme est (était) utilisé en cryptographie. L'empreinte est obtenue est représentée sur 32 caractatères. Par exemple : \n",
    "```\n",
    "0648b3abc5c0e0e7cbf78c466670affa\n",
    "```\n",
    "\n",
    "La probabilité que 2 fichiers différents possèdent la même empreinte est de l'ordre de $2^{-128}$.\n",
    "\n",
    ">*Remarque :* avec un système d'exploitation Mac OS X, l'équivalent de la commande `md5sum` est `md5`\n",
    "\n",
    "\n",
    "Voici une ***démonstration:***"
   ]
  },
  {
   "cell_type": "markdown",
   "id": "fa7b584d-97e4-4ccf-bc6b-6c8421698364",
   "metadata": {},
   "source": [
    "1. Faisons une copie du fichier dans `tmp_file.txt`."
   ]
  },
  {
   "cell_type": "code",
   "execution_count": 82,
   "id": "16c93268-f7d8-4521-8ad8-afbd6750ea71",
   "metadata": {},
   "outputs": [],
   "source": [
    "# cell 82\n",
    "cp tmp_file.txt tmp_file2.txt"
   ]
  },
  {
   "cell_type": "markdown",
   "id": "9e7e4543-142d-4985-9f78-7ff2778ab09d",
   "metadata": {},
   "source": [
    "2. On calcule les empreintes MD5 des deux fichiers avec la commande suivante:"
   ]
  },
  {
   "cell_type": "code",
   "execution_count": 83,
   "id": "7da2535d-6dcd-40a0-b69f-2f448be1bbfb",
   "metadata": {},
   "outputs": [
    {
     "name": "stdout",
     "output_type": "stream",
     "text": [
      "c0e4d8e35c33fff15162af498635086b  tmp_file.txt\n",
      "c0e4d8e35c33fff15162af498635086b  tmp_file2.txt\n"
     ]
    }
   ],
   "source": [
    "# cell 83\n",
    "md5sum tmp_file.txt tmp_file2.txt"
   ]
  },
  {
   "cell_type": "markdown",
   "id": "523e093c-4569-43dc-9253-d956e8d35cce",
   "metadata": {},
   "source": [
    "\n",
    "\n",
    "=> On voit que les empreintes sont les mêmes donc les fichiers sont identiques (copie l'un de l'autre)."
   ]
  },
  {
   "cell_type": "markdown",
   "id": "c3474972-19be-4852-80fe-bc1bf7650d66",
   "metadata": {},
   "source": [
    "3. Modifions le fichier `tmp_file2.txt` en changeant un seul caractère."
   ]
  },
  {
   "cell_type": "markdown",
   "id": "a797c007-a328-4718-92c1-6dbd3b0a11db",
   "metadata": {},
   "source": [
    "On peut modifier le fichier `tmp_file2.txt`, en l'ouvrant dans le lab, avec nano ou directement en ligne de commande, par exemple, en remplacant un seul caractère (le `a` de `dans` et `d'autres` est remplacé par `A` en utilisant encore une expression régulière) :"
   ]
  },
  {
   "cell_type": "code",
   "execution_count": 84,
   "id": "db2ee5e4-e5f7-4170-9107-6064bf870c38",
   "metadata": {},
   "outputs": [
    {
     "name": "stdout",
     "output_type": "stream",
     "text": [
      "quelques mots dAns mon fichier\n",
      "d'Autres mots dans mon fichier\n"
     ]
    }
   ],
   "source": [
    "# cell 84\n",
    "sed -i 's/a/A/' tmp_file2.txt\n",
    "\n",
    "cat tmp_file2.txt"
   ]
  },
  {
   "cell_type": "markdown",
   "id": "825bada7-b127-42fa-b673-210d3f50fddc",
   "metadata": {},
   "source": [
    "4. On calcule à nouveau les empreintes MD5 des deux fichiers."
   ]
  },
  {
   "cell_type": "code",
   "execution_count": 85,
   "id": "20b8745e-4af4-40c0-8c39-981a5dd1f594",
   "metadata": {},
   "outputs": [
    {
     "name": "stdout",
     "output_type": "stream",
     "text": [
      "c0e4d8e35c33fff15162af498635086b  tmp_file.txt\n",
      "614be7730d995df76a4feeb59761e657  tmp_file2.txt\n"
     ]
    }
   ],
   "source": [
    "# cell 85\n",
    "md5sum tmp_file.txt tmp_file2.txt"
   ]
  },
  {
   "cell_type": "markdown",
   "id": "7f2e64be-90f7-4955-a5d2-bf5ce2c5bcbb",
   "metadata": {},
   "source": [
    "L'empreinte du fichier `tmp_file.txt` est la même que précédemment car le fichier n'a pas été modifié. Par contre, l'empreinte du fichier `tmp_file2.txt` est complètement différente, alors qu'un seul caractère a été modifié (*a* minuscule remplacé par *A* majuscule)."
   ]
  },
  {
   "cell_type": "markdown",
   "id": "0ebf0710-3946-4b56-b0e1-6cd4af3a352c",
   "metadata": {},
   "source": [
    "Comme nous ne nous en servirons pas par la suite, nous supprimons le repertoire tmp3."
   ]
  },
  {
   "cell_type": "code",
   "execution_count": 86,
   "id": "af4c9893-1926-4ac5-9420-5b6a621d3142",
   "metadata": {},
   "outputs": [
    {
     "name": "stdout",
     "output_type": "stream",
     "text": [
      "2023  autres_archives  ongoing\ttemporary\n"
     ]
    }
   ],
   "source": [
    "# cell 86\n",
    "rm -r tmp3\n",
    "rm tmp*\n",
    "ls"
   ]
  },
  {
   "cell_type": "markdown",
   "id": "4c42e2a7-ee85-486f-bea1-f2218d838d0f",
   "metadata": {},
   "source": [
    "---\n",
    "---\n",
    "## 6.  Un peu d'automatisation\n",
    "---\n",
    "\n",
    "\n",
    "Le *shell* Bash vous donne accès aux commandes Unix (`ls`, `cat`, `pwd`...).\n",
    "\n",
    "Bash est aussi un langage de programmation que l'ont peut utiliser pour automatiser un certain nombre de manipulations sur des fichiers.\n",
    "En programmation, on a besoin de faire 4 actions essentielles :\n",
    "\n",
    "1. Stocker de l'information (les variables).\n",
    "2. Manipuler cette information (les opérateurs).\n",
    "3. Répéter des actions (les boucles).\n",
    "4. Prendre des décisions (les tests).\n",
    "\n",
    "Une fois qu'on sait faire ces 4 actions, on peut pratiquement tout faire.\n",
    "Voici ci-dessous une petite initiation aux variables et boucles dont nous aurons besoin pour notre analyse afin d'analyser plusieurs échantillons ensemble.\n",
    "\n",
    "\n",
    "### 6.1. Variables Bash\n",
    "---\n",
    "\n",
    "Une variable va contenir de l'information qui sera utilisable autant de fois que nécessaire.\n",
    "\n",
    "Créer des variables :"
   ]
  },
  {
   "cell_type": "code",
   "execution_count": 87,
   "id": "a78590ad-41d1-41bc-931c-a5f307ede4ea",
   "metadata": {},
   "outputs": [],
   "source": [
    "# cell 87\n",
    "toto=33\n",
    "t=\"salut\""
   ]
  },
  {
   "cell_type": "markdown",
   "id": "3ee6201e-7bcb-4024-9667-bec2b394d170",
   "metadata": {},
   "source": [
    "Il faut coller le nom de la variable et son contenu au symbole `=`.\n",
    "\n",
    "\n",
    "Afficher des variables :"
   ]
  },
  {
   "cell_type": "code",
   "execution_count": 88,
   "id": "54deb1b5-a09e-4c00-a74d-54b11eb4e94c",
   "metadata": {},
   "outputs": [
    {
     "name": "stdout",
     "output_type": "stream",
     "text": [
      "33\n"
     ]
    }
   ],
   "source": [
    "# cell 88\n",
    "echo $toto"
   ]
  },
  {
   "cell_type": "code",
   "execution_count": 89,
   "id": "ff06d315-899b-40d8-b6ef-e810ab0dc2f3",
   "metadata": {},
   "outputs": [
    {
     "name": "stdout",
     "output_type": "stream",
     "text": [
      "salut Sandrine\n"
     ]
    }
   ],
   "source": [
    "# cell 89\n",
    "echo \"$t Sandrine\""
   ]
  },
  {
   "cell_type": "markdown",
   "id": "619346c3-d5d9-4ea6-a98f-d3eb8732b59b",
   "metadata": {},
   "source": [
    "La commande `echo` affiche une chaîne de caractères, une variable, ou les deux.\n",
    "\n",
    "Pour utiliser une variable (et accéder à son contenu), il faut précéder son nom du caractère `$`. Attention, ne  confondez pas ce symbole avec celui qui désigne l'invite de commande de votre *shell* Linux.\n",
    "\n",
    "Enfin, une bonne pratique consiste à utiliser une variable avec le symbole `$` et son nom entre accolades :"
   ]
  },
  {
   "cell_type": "code",
   "execution_count": 90,
   "id": "74e432ae-3d81-456b-ae94-8bc9ee2fcda1",
   "metadata": {},
   "outputs": [
    {
     "name": "stdout",
     "output_type": "stream",
     "text": [
      "33\n"
     ]
    }
   ],
   "source": [
    "# cell 90\n",
    "echo ${toto}"
   ]
  },
  {
   "cell_type": "code",
   "execution_count": 91,
   "id": "8028a51c-148b-4f72-bae3-b75dc791c072",
   "metadata": {},
   "outputs": [
    {
     "name": "stdout",
     "output_type": "stream",
     "text": [
      "salut Claire\n"
     ]
    }
   ],
   "source": [
    "# cell 91\n",
    "echo \"${t} Claire\""
   ]
  },
  {
   "cell_type": "markdown",
   "id": "22d4cb33-6b8b-4090-a498-3c0c1100d604",
   "metadata": {},
   "source": [
    "--\n",
    "### 6.2. Répéter une action en Bash\n",
    "---\n",
    "\n",
    "Une boucle permet de répéter un ensemble d'instructions.\n",
    "\n",
    "Voici un exemple en Bash :"
   ]
  },
  {
   "cell_type": "code",
   "execution_count": 92,
   "id": "4a53139d-b0f3-420e-92c3-51b21636b651",
   "metadata": {},
   "outputs": [
    {
     "name": "stdout",
     "output_type": "stream",
     "text": [
      "Salut Claire !\n",
      "Salut Sandrine !\n",
      "Salut Tatiana !\n",
      "Salut Nouara !\n"
     ]
    }
   ],
   "source": [
    "# cell 92\n",
    "for prenom in Claire Sandrine Tatiana Nouara\n",
    "do\n",
    "echo \"Salut ${prenom} !\"\n",
    "done"
   ]
  },
  {
   "cell_type": "markdown",
   "id": "2286e868-2d73-4040-b49c-97c6155c8350",
   "metadata": {},
   "source": [
    "En sacrifiant un peu de lisibilité, la même commande peut s'écrire sur une seule ligne :"
   ]
  },
  {
   "cell_type": "code",
   "execution_count": 93,
   "id": "a63a601a-bb76-4eeb-9691-4a9f6b65b85b",
   "metadata": {},
   "outputs": [
    {
     "name": "stdout",
     "output_type": "stream",
     "text": [
      "Salut Claire !\n",
      "Salut Sandrine !\n",
      "Salut Tatiana !\n",
      "Salut Nouara !\n"
     ]
    }
   ],
   "source": [
    "# cell 93\n",
    "for prenom in Claire Sandrine Tatiana Nouara; do echo \"Salut ${prenom} !\"; done"
   ]
  },
  {
   "cell_type": "markdown",
   "id": "c0c4e4c4-4a5d-4546-aeed-f1e638e26e66",
   "metadata": {},
   "source": [
    "Notez l'utilisation du symbole `;` pour séparer les différents éléments de la boucle.\n",
    "\n",
    "Une leçon de Software Carpentry aborde cette notion de [boucle](https://swcarpentry.github.io/shell-novice/05-loop.html). Prenez quelques minutes pour parcourir cette leçon et comprendre de quoi il s'agit."
   ]
  },
  {
   "cell_type": "markdown",
   "id": "55e54bac-32b8-40ec-b578-a8f13831d6e8",
   "metadata": {},
   "source": [
    "---\n",
    "---\n",
    "\n",
    "## Conclusion\n",
    "---\n"
   ]
  },
  {
   "cell_type": "markdown",
   "id": "68c87829-d2c0-4ba9-8977-20bb3bc8e0d7",
   "metadata": {},
   "source": [
    "Le prochain notebook **Pipe_01-bash_download-files.ipynb** portera sur la récupération des données brutes de RNAseq à analyser.\n",
    "Pour le récupérer dans votre dossier personnel, exécutez simplement la commande suivante :"
   ]
  },
  {
   "cell_type": "code",
   "execution_count": 94,
   "id": "29871654-b2a8-41c1-b258-3edfc13b6462",
   "metadata": {},
   "outputs": [],
   "source": [
    "# cell 93\n",
    "mkdir -p /shared/projects/2413_rnaseq_cea/$USER/\n",
    "cp \"/shared/projects/2413_rnaseq_cea/pipeline/Pipe_01-bash_download-files.ipynb\" \"/shared/projects/2413_rnaseq_cea/$USER/\""
   ]
  },
  {
   "cell_type": "markdown",
   "id": "4afd245d-29bc-4e40-9651-632d4cb0e2df",
   "metadata": {},
   "source": [
    "\n",
    "Pour finir, nous allons sauvegarder vos notebooks 00a et 00b dans un nouveau sous-répertoire au sein de votre répertoire personnel dans le projet."
   ]
  },
  {
   "cell_type": "code",
   "execution_count": null,
   "id": "cfd6ae2f-4969-41a2-99ff-213346df94bc",
   "metadata": {},
   "outputs": [],
   "source": [
    "# # cell 94\n",
    "mkdir -p /shared/projects/2413_rnaseq_cea/$USER/run_notebooks\n",
    "cp ~/*.ipynb /shared/projects/2413_rnaseq_cea/$USER/run_notebooks"
   ]
  },
  {
   "cell_type": "markdown",
   "id": "aa5f538f-abfd-47c6-8c5f-edaeece3789a",
   "metadata": {},
   "source": [
    "---\n",
    "---\n"
   ]
  },
  {
   "cell_type": "markdown",
   "id": "e2883a53-eed9-4b70-aa1e-85fa3279b833",
   "metadata": {},
   "source": [
    "<div class=\"alert alert-block alert-success\"><b>\n",
    "    Bravo! Vous avez accompli vos premiers pas dans l'univers des commandes Unix avec  succès!</b> <br>\n",
    "    Vous pourrez désormais vous lancer dans le processing des données de RNAseq.<br><br>\n",
    "    N'oubliez pas de sauvegarder votre rapport. Vous pouvez en faire un export en format html : <br>\n",
    "- Ouvrez \"File\" dans le Menu<br>\n",
    "- Selectionnez \"Export Notebook As\"<br>\n",
    "- Exportez votre notebook en HTML<br>\n",
    "- Vous pouvez maintenant l'ouvrir dans un navigateur sans être connecté au serveur de l'IFB! \n",
    "</div>"
   ]
  },
  {
   "cell_type": "markdown",
   "id": "26a8881e-6b2a-494c-9421-f5d07f8cbc5d",
   "metadata": {},
   "source": [
    "<div class=\"alert alert-block alert-info\"> \n",
    "    \n",
    "<b>Rappel</b>, dans un notebook :\n",
    "\n",
    "- la combinaison de touches <kbd>Ctrl</kbd>+<kbd>Entrée</kbd> exécute une cellule.<br>\n",
    "- la combinaison de touches <kbd>Shift</kbd>+<kbd>Entrée</kbd> exécute une cellule puis passe à la suivante. C'est équivalent à cliquer sur l'icone ▶️ dans la barre de menu du notebook.<br>\n",
    "- la combinaison de touches <kbd>Alt</kbd>+<kbd>Entrée</kbd> exécute une cellule puis en crée une nouvelle (vide) en dessous.<br>\n",
    "\n",
    "Pour ajouter une cellule, vous pouvez aussi cliquer sur l'icone ➕ dans la barre de menu du notebook.\n",
    "- vous pouvez déplacer les cellules en les glissant pour les réorganiser les unes en-dessous des autres.<br>\n",
    "- vous pouvez ajouter des commentaires, soit en commençant la ligne par un \"#\" dans une cellule de code (ces lignes ne seront pas éxécutées), soit dans une nouvelle céllule de type Markdown.<br>\n",
    "- vous sélectionner le type de cellule dans le menu en haut de votre notebbok.<br>\n",
    "    - \"Code\" pour entrer des lignes de commande à éxécuter <br>\n",
    "    - \"Markdown pour ajouter du texte balisé qui peut être formatté<br>\n",
    "- pour modifier une cellule ̀Markdown, double-cliquez dessus<br>\n",
    "- attention à la casse des caractères pour les cellules de code<br>\n",
    "- évitez les caractères spéciaux dans les cellules de code<br>\n",
    "    \n",
    "<em>  \n",
    "To make nice html reports with markdown: <a href=\"https://dillinger.io/\" title=\"dillinger.io\">html visualization tool 1</a> or <a href=\"https://stackedit.io/app#\" title=\"stackedit.io\">html visualization tool 2</a>, <a href=\"https://www.tablesgenerator.com/markdown_tables\" title=\"tablesgenerator.com\">to draw nice tables</a>, and the <a href=\"https://medium.com/analytics-vidhya/the-ultimate-markdown-guide-for-jupyter-notebook-d5e5abf728fd\" title=\"Ultimate guide\">Ultimate guide</a>. <br>\n",
    "Further reading on JupyterLab notebooks: <a href=\"https://jupyterlab.readthedocs.io/en/latest/user/notebook.html\" title=\"Jupyter Lab\">Jupyter Lab documentation</a>.<br>\n",
    "</em>    \n",
    "</div>"
   ]
  },
  {
   "cell_type": "markdown",
   "id": "d8d25570-4da1-44de-b5dd-39fb928173ba",
   "metadata": {},
   "source": [
    "🙏 Remerciements à Bruno Toupance et Pierre Poulain leur matériel de cours.\n",
    "\n",
    "Claire Vandiedonck - 2022-2024   \n",
    "Last version of this notebook modified on 04/06/2024 by @SCaburet"
   ]
  }
 ],
 "metadata": {
  "kernelspec": {
   "display_name": "Bash",
   "language": "bash",
   "name": "bash"
  },
  "language_info": {
   "codemirror_mode": "shell",
   "file_extension": ".sh",
   "mimetype": "text/x-sh",
   "name": "bash"
  },
  "toc-autonumbering": false,
  "toc-showcode": false
 },
 "nbformat": 4,
 "nbformat_minor": 5
}

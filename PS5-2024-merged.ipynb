{
 "cells": [
  {
   "cell_type": "markdown",
   "id": "b466c9e6",
   "metadata": {},
   "source": [
    "# RNA-seq Data Analysis Pipeline - Part 5: Read Counting\n",
    "## Tuesday 26/11/2024\n",
    "\n",
    "This notebook covers read counting and quantification using two complementary approaches:\n",
    "1. Gene-level quantification with featureCounts\n",
    "2. Transcript-level quantification with Salmon\n",
    "\n",
    "<div class=\"alert alert-info\">\n",
    "<b>Learning Objectives:</b><br>\n",
    "- Understand different approaches to RNA-seq read counting\n",
    "- Learn to use featureCounts for gene-level quantification\n",
    "- Learn to use Salmon for transcript-level quantification\n",
    "- Interpret read count statistics and quality metrics\n",
    "</div>\n"
   ]
  },
  {
   "cell_type": "markdown",
   "id": "802a3fd3",
   "metadata": {},
   "source": [
    "## 1. System Setup\n",
    "### 1.1 Environment Configuration\n",
    "\n",
    "We'll set up our working environment with the necessary variables and directory structure."
   ]
  },
  {
   "cell_type": "code",
   "execution_count": null,
   "id": "ab81c8b4",
   "metadata": {},
   "outputs": [],
   "source": [
    "## Code cell 1 ##\n",
    "# Base directories\n",
    "WORK_DIR=\"/srv/home/${USER}/meg_m2_rnaseq_bash\"\n",
    "DATA_DIR=\"/srv/data/meg-m2-rnaseq\"\n",
    "\n",
    "# Input/Output directories\n",
    "RESULTS_DIR=\"${WORK_DIR}/Results\"\n",
    "BAM_DIR=\"${RESULTS_DIR}/star\"\n",
    "COUNTS_DIR=\"${RESULTS_DIR}/counts\"\n",
    "SALMON_DIR=\"${RESULTS_DIR}/salmon\"\n",
    "\n",
    "# Reference files\n",
    "GTF_FILE=\"${DATA_DIR}/Genomes/Mmu/GRCm39/extracted/genome_annotation-M35.gtf\"\n",
    "TRANSCRIPTOME=\"${DATA_DIR}/Genomes/Mmu/GRCm39/extracted/transcriptome.fa\"\n",
    "\n",
    "# System resources (adjusted for Plasmabio)\n",
    "CPU_CORES=4\n",
    "MAX_RAM=\"6G\"\n",
    "\n",
    "# Tool parameters\n",
    "STRAND_SPECIFIC=0  # 0=unstranded, 1=stranded, 2=reversely stranded\n",
    "MIN_MAPPING_QUALITY=10\n",
    "LIBTYPE=\"A\"  # Automatic detection of library type"
   ]
  },
  {
   "cell_type": "code",
   "execution_count": null,
   "id": "71719d09",
   "metadata": {},
   "outputs": [],
   "source": [
    "## Code cell 2 ##\n",
    "# Create output directories\n",
    "mkdir -p ${COUNTS_DIR} ${SALMON_DIR}\n",
    "\n",
    "# Validate input files\n",
    "echo \"Checking input files...\"\n",
    "[ -f \"${GTF_FILE}\" ] && echo \"GTF file found\" || echo \"ERROR: GTF file missing\"\n",
    "[ -d \"${BAM_DIR}\" ] && echo \"BAM directory found\" || echo \"ERROR: BAM directory missing\"\n"
   ]
  },
  {
   "cell_type": "markdown",
   "id": "1256eafa",
   "metadata": {},
   "source": [
    "## 2. Gene-Level Read Counting with featureCounts\n",
    "\n",
    "<div class=\"alert alert-info\">\n",
    "<b>Tool Information:</b><br>\n",
    "featureCounts is part of the Subread package and provides fast and accurate read counting for RNA-seq data.\n",
    "<br><br>\n",
    "<b>Key Features:</b>\n",
    "- Supports both single and paired-end reads\n",
    "- Handles multi-mapping reads\n",
    "- Provides detailed assignment statistics\n",
    "- Efficient memory usage\n",
    "</div>\n",
    "\n",
    "For more information, visit the [featureCounts documentation](http://subread.sourceforge.net/)."
   ]
  },
  {
   "cell_type": "code",
   "execution_count": null,
   "id": "36360329",
   "metadata": {},
   "outputs": [],
   "source": [
    "## Code cell 3 ##\n",
    "# Run featureCounts on a single sample\n",
    "SAMPLE1=$(ls ${BAM_DIR}/*.bam | head -n 1)\n",
    "SAMPLE_NAME=$(basename ${SAMPLE1} .bam)\n",
    "\n",
    "featureCounts \\\n",
    "    -T ${CPU_CORES} \\\n",
    "    -s ${STRAND_SPECIFIC} \\\n",
    "    -Q ${MIN_MAPPING_QUALITY} \\\n",
    "    -p \\  # paired-end\n",
    "    -a ${GTF_FILE} \\\n",
    "    -o ${COUNTS_DIR}/${SAMPLE_NAME}_counts.txt \\\n",
    "    ${SAMPLE1}\n",
    "\n",
    "# Display summary\n",
    "cat ${COUNTS_DIR}/${SAMPLE_NAME}_counts.txt.summary"
   ]
  },
  {
   "cell_type": "markdown",
   "id": "2665716e",
   "metadata": {},
   "source": [
    "### 1.3.2 Running featureCounts on Multiple Samples\n",
    "\n",
    "<div class=\"alert alert-info\">\n",
    "<b>Important:</b><br>\n",
    "Processing multiple samples at once is more efficient and ensures consistent parameters across all samples.\n",
    "</div>\n",
    "\n",
    "Now we'll process all samples using a loop. This approach allows us to:\n",
    "1. Process all samples with identical parameters\n",
    "2. Generate a combined count matrix\n",
    "3. Save time and reduce potential errors\n",
    "4. Create consistent output files"
   ]
  },
  {
   "cell_type": "code",
   "execution_count": null,
   "id": "3a30ee40",
   "metadata": {},
   "outputs": [],
   "source": [
    "## Code cell 4 ##\n",
    "# Create a list of all BAM files\n",
    "BAM_FILES=(${BAM_DIR}/*.bam)\n",
    "echo \"Found ${#BAM_FILES[@]} BAM files\"\n",
    "\n",
    "# Run featureCounts on all samples\n",
    "featureCounts \\\n",
    "    -T ${CPU_CORES} \\\n",
    "    -s ${STRAND_SPECIFIC} \\\n",
    "    -Q ${MIN_MAPPING_QUALITY} \\\n",
    "    -p \\\n",
    "    -a ${GTF_FILE} \\\n",
    "    -o ${COUNTS_DIR}/all_samples_counts.txt \\\n",
    "    ${BAM_FILES[@]}\n",
    "\n",
    "# Create a simplified count matrix\n",
    "cut -f 1,7- ${COUNTS_DIR}/all_samples_counts.txt | grep -v '^#' > ${COUNTS_DIR}/counts_matrix.txt"
   ]
  },
  {
   "cell_type": "markdown",
   "id": "f78d7c9e",
   "metadata": {},
   "source": [
    "## 2. Pseudo-mapping with Salmon\n",
    "\n",
    "<div class=\"alert alert-info\">\n",
    "<b>Tool Information:</b><br>\n",
    "Salmon performs transcript-level quantification using lightweight algorithms (pseudo-alignment).\n",
    "<br><br>\n",
    "<b>Advantages:</b>\n",
    "- Faster than traditional alignment\n",
    "- Direct transcript-level quantification\n",
    "- Bias-aware estimation\n",
    "- Memory efficient\n",
    "</div>\n",
    "\n",
    "For more information, visit the [Salmon documentation](https://salmon.readthedocs.io/)."
   ]
  },
  {
   "cell_type": "code",
   "execution_count": null,
   "id": "081c40da",
   "metadata": {},
   "outputs": [],
   "source": [
    "## Code cell 5 ##\n",
    "# Index the transcriptome (if not already done)\n",
    "salmon index \\\n",
    "    -t ${TRANSCRIPTOME} \\\n",
    "    -i ${SALMON_DIR}/transcriptome_index \\\n",
    "    -p ${CPU_CORES}"
   ]
  },
  {
   "cell_type": "code",
   "execution_count": null,
   "id": "3c3660e0",
   "metadata": {},
   "outputs": [],
   "source": [
    "## Code cell 6 ##\n",
    "# Process first two samples\n",
    "FASTQ_DIR=\"${DATA_DIR}/fastq/raw\"\n",
    "SAMPLES=($(ls ${FASTQ_DIR}/*_R1.fastq.gz | head -n 2))\n",
    "\n",
    "for R1 in \"${SAMPLES[@]}\"; do\n",
    "    R2=${R1/_R1/_R2}\n",
    "    SAMPLE=$(basename ${R1} _R1.fastq.gz)\n",
    "\n",
    "    echo \"Processing sample: ${SAMPLE}\"\n",
    "\n",
    "    salmon quant \\\n",
    "        -i ${SALMON_DIR}/transcriptome_index \\\n",
    "        -l ${LIBTYPE} \\\n",
    "        -1 ${R1} \\\n",
    "        -2 ${R2} \\\n",
    "        -p ${CPU_CORES} \\\n",
    "        --validateMappings \\\n",
    "        -o ${SALMON_DIR}/${SAMPLE}\n",
    "done"
   ]
  },
  {
   "cell_type": "raw",
   "id": "ffef9f25",
   "metadata": {},
   "source": [
    "## Code cell 7 ##\n",
    "# Process all samples\n",
    "for R1 in ${FASTQ_DIR}/*_R1.fastq.gz; do\n",
    "    R2=${R1/_R1/_R2}\n",
    "    SAMPLE=$(basename ${R1} _R1.fastq.gz)\n",
    "\n",
    "    salmon quant \\\n",
    "        -i ${SALMON_DIR}/transcriptome_index \\\n",
    "        -l ${LIBTYPE} \\\n",
    "        -1 ${R1} \\\n",
    "        -2 ${R2} \\\n",
    "        -p ${CPU_CORES} \\\n",
    "        --validateMappings \\\n",
    "        -o ${SALMON_DIR}/${SAMPLE}\n",
    "done"
   ]
  },
  {
   "cell_type": "markdown",
   "id": "cf9de622",
   "metadata": {},
   "source": [
    "## 3. Quality Control\n",
    "\n",
    "Let's examine the quality metrics for both quantification methods. This helps us ensure the reliability of our results."
   ]
  },
  {
   "cell_type": "code",
   "execution_count": null,
   "id": "ea51becd",
   "metadata": {},
   "outputs": [],
   "source": [
    "## Code cell 8 ##\n",
    "# Check featureCounts assignment statistics\n",
    "echo \"=== featureCounts Assignment Statistics ===\"\n",
    "cat ${COUNTS_DIR}/all_samples_counts.txt.summary\n",
    "\n",
    "# Check Salmon mapping rates\n",
    "echo -e \"\\n=== Salmon Mapping Rates ===\"\n",
    "for dir in ${SALMON_DIR}/*/; do\n",
    "    sample=$(basename ${dir})\n",
    "    rate=$(grep -A 1 \"Mapping Rate\" ${dir}/logs/salmon_quant.log | tail -n 1)\n",
    "    echo \"${sample}: ${rate}\"\n",
    "done"
   ]
  },
  {
   "cell_type": "markdown",
   "id": "4d2f35fd",
   "metadata": {},
   "source": [
    "## 4. Results Interpretation\n",
    "\n",
    "<div class=\"alert alert-info\">\n",
    "<b>Key Points:</b><br>\n",
    "- featureCounts provides gene-level counts\n",
    "- Salmon provides transcript-level abundance estimates\n",
    "- Both tools generate quality metrics\n",
    "- Compare mapping rates between methods\n",
    "</div>\n",
    "\n",
    "The output files can be found in:\n",
    "1. Gene counts: ${COUNTS_DIR}/counts_matrix.txt\n",
    "2. Transcript quantification: ${SALMON_DIR}/<sample>/quant.sf"
   ]
  }
 ],
 "metadata": {},
 "nbformat": 4,
 "nbformat_minor": 5
}

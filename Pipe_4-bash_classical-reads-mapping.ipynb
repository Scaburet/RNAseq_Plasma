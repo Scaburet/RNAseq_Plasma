{
 "cells": [
  {
   "cell_type": "markdown",
   "metadata": {},
   "source": [
    "# Formation RNAseq CEA - juin 2023\n",
    "\n",
    "Session IFB : 5 CPU + 21 GB de RAM\n",
    "\n",
    "# Part 4 : Mapping reads to genome"
   ]
  },
  {
   "cell_type": "markdown",
   "metadata": {
    "jupyter": {
     "source_hidden": true
    },
    "tags": []
   },
   "source": [
    "\n",
    "- 0.1 - About session for IFB core cluster\n",
    "- 0.2 - Parameters to be set or modified by the user\n",
    "- 1 - Reference genome and annotation file\n",
    "- 2 - Building genome reference files with ``STAR``\n",
    "- 3 - Mapping samples on reference genome with ``STAR``\n",
    "- 4 - Building sample ``.bam`` indexes with ``samtools``\n"
   ]
  },
  {
   "cell_type": "markdown",
   "metadata": {},
   "source": [
    "<div class=\"alert alert-block alert-danger\">\n",
    "    Please note that Reference genome file indexing is set for RNA sequencing of 100-bases reads. <br>\n",
    "    If different, change <code>rawreadlength</code> below set value with the proper read length for your dataset.\n",
    "</div>"
   ]
  },
  {
   "cell_type": "markdown",
   "metadata": {},
   "source": [
    "---\n",
    "## **Before going further**\n",
    "\n",
    "<div class=\"alert alert-block alert-danger\"><b>Caution:</b> \n",
    "Before starting the analysis, save a backup copy of this notebok : in the left-hand panel, right-click on this file and select \"Duplicate\"<br>\n",
    "You can also make backups during the analysis. Don't forget to save your notebook regularly: <kbd>Ctrl</kbd> + <kbd>S</kbd> or click on the 💾 icon.\n",
    "</div>"
   ]
  },
  {
   "cell_type": "markdown",
   "metadata": {},
   "source": [
    "---\n",
    "\n",
    "## 0.1 - About session for IFB core cluster\n",
    "\n",
    "<em>loaded JupyterLab</em> : Version 3.2.1"
   ]
  },
  {
   "cell_type": "code",
   "execution_count": 1,
   "metadata": {},
   "outputs": [
    {
     "name": "stdout",
     "output_type": "stream",
     "text": [
      "=== Cell launched on Wed May 24 11:12:14 CEST 2023 ===\n",
      "=== Current IFB session size: Medium (5CPU, 21 GB) ===\n",
      "       JobID  AllocCPUS        NodeList \n",
      "------------ ---------- --------------- \n",
      "33528930              5     cpu-node-23 \n",
      "33528930.ba+          5     cpu-node-23 \n",
      "33528930.0            5     cpu-node-23 \n"
     ]
    }
   ],
   "source": [
    "## Code cell 1 ##\n",
    "\n",
    "echo \"=== Cell launched on $(date) ===\"\n",
    "\n",
    "echo \"=== Current IFB session size: Medium (5CPU, 21 GB) ===\"\n",
    "jobid=$(squeue -hu $USER | awk '/jupyter/ {print $1}')\n",
    "sacct --format=JobID,AllocCPUS,NODELIST -j ${jobid}"
   ]
  },
  {
   "cell_type": "code",
   "execution_count": 2,
   "metadata": {},
   "outputs": [
    {
     "name": "stdout",
     "output_type": "stream",
     "text": [
      "===== download network files =====\n",
      "GNU Wget 1.14 built on linux-gnu.\n",
      "===== alignement tool =====\n",
      "2.7.10b\n",
      "===== index construction + quality =====\n",
      "samtools 1.15.1\n",
      "Using htslib 1.15.1\n",
      "Copyright (C) 2022 Genome Research Ltd.\n",
      "\n",
      "Samtools compilation details:\n",
      "    Features:       build=configure curses=yes \n",
      "    CC:             /opt/conda/conda-bld/samtools_1649352267887/_build_env/bin/x86_64-conda-linux-gnu-cc\n",
      "    CPPFLAGS:       -DNDEBUG -D_FORTIFY_SOURCE=2 -O2 -isystem /shared/ifbstor1/software/miniconda/envs/samtools-1.15.1/include\n",
      "    CFLAGS:         -Wall -march=nocona -mtune=haswell -ftree-vectorize -fPIC -fstack-protector-strong -fno-plt -O2 -ffunction-sections -pipe -isystem /shared/ifbstor1/software/miniconda/envs/samtools-1.15.1/include -fdebug-prefix-map=/opt/conda/conda-bld/samtools_1649352267887/work=/usr/local/src/conda/samtools-1.15.1 -fdebug-prefix-map=/shared/ifbstor1/software/miniconda/envs/samtools-1.15.1=/usr/local/src/conda-prefix\n",
      "    LDFLAGS:        -Wl,-O2 -Wl,--sort-common -Wl,--as-needed -Wl,-z,relro -Wl,-z,now -Wl,--disable-new-dtags -Wl,--gc-sections -Wl,--allow-shlib-undefined -Wl,-rpath,/shared/ifbstor1/software/miniconda/envs/samtools-1.15.1/lib -Wl,-rpath-link,/shared/ifbstor1/software/miniconda/envs/samtools-1.15.1/lib -L/shared/ifbstor1/software/miniconda/envs/samtools-1.15.1/lib\n",
      "    HTSDIR:         \n",
      "    LIBS:           \n",
      "    CURSES_LIB:     -ltinfow -lncursesw\n",
      "\n",
      "HTSlib compilation details:\n",
      "    Features:       build=configure plugins=yes, plugin-path=/shared/ifbstor1/software/miniconda/envs/samtools-1.15.1/libexec/htslib libcurl=yes S3=yes GCS=yes libdeflate=yes lzma=yes bzip2=yes htscodecs=1.2.2\n",
      "    CC:             /opt/conda/conda-bld/htslib_1649384579568/_build_env/bin/x86_64-conda-linux-gnu-cc\n",
      "    CPPFLAGS:       -DNDEBUG -D_FORTIFY_SOURCE=2 -O2 -isystem /shared/ifbstor1/software/miniconda/envs/samtools-1.15.1/include\n",
      "    CFLAGS:         -Wall -march=nocona -mtune=haswell -ftree-vectorize -fPIC -fstack-protector-strong -fno-plt -O2 -ffunction-sections -pipe -isystem /shared/ifbstor1/software/miniconda/envs/samtools-1.15.1/include -fdebug-prefix-map=/opt/conda/conda-bld/htslib_1649384579568/work=/usr/local/src/conda/htslib-1.15.1 -fdebug-prefix-map=/shared/ifbstor1/software/miniconda/envs/samtools-1.15.1=/usr/local/src/conda-prefix -fvisibility=hidden\n",
      "    LDFLAGS:        -Wl,-O2 -Wl,--sort-common -Wl,--as-needed -Wl,-z,relro -Wl,-z,now -Wl,--disable-new-dtags -Wl,--gc-sections -Wl,--allow-shlib-undefined -Wl,-rpath,/shared/ifbstor1/software/miniconda/envs/samtools-1.15.1/lib -Wl,-rpath-link,/shared/ifbstor1/software/miniconda/envs/samtools-1.15.1/lib -L/shared/ifbstor1/software/miniconda/envs/samtools-1.15.1/lib -fvisibility=hidden -rdynamic\n",
      "\n",
      "HTSlib URL scheme handlers present:\n",
      "    built-in:\t preload, data, file\n",
      "    S3 Multipart Upload:\t s3w, s3w+https, s3w+http\n",
      "    libcurl:\t imaps, pop3, gophers, http, smb, gopher, sftp, ftps, imap, smtp, smtps, rtsp, scp, ftp, telnet, mqtt, https, smbs, tftp, pop3s, dict\n",
      "    Amazon S3:\t s3+https, s3+http, s3\n",
      "    Google Cloud Storage:\t gs+http, gs+https, gs\n",
      "    crypt4gh-needed:\t crypt4gh\n",
      "    mem:\t mem\n"
     ]
    }
   ],
   "source": [
    "## Code cell 2 ##\n",
    "\n",
    "module load star/2.7.10b samtools/1.15.1\n",
    "\n",
    "echo \"===== download network files =====\"\n",
    "wget --version | head -n 1\n",
    "echo \"===== alignement tool =====\"\n",
    "STAR --version\n",
    "echo \"===== index construction + quality =====\"\n",
    "samtools --version"
   ]
  },
  {
   "cell_type": "markdown",
   "metadata": {},
   "source": [
    "---\n",
    "\n",
    "## 0.2 - Parameters to be set or modified by the user"
   ]
  },
  {
   "cell_type": "markdown",
   "metadata": {},
   "source": [
    "- Using a full path with a `/` at the end, **define the folder** where you want or have to work with `gohome` variable:"
   ]
  },
  {
   "cell_type": "code",
   "execution_count": 3,
   "metadata": {},
   "outputs": [
    {
     "name": "stdout",
     "output_type": "stream",
     "text": [
      "=== Home root folder is ===\n",
      "/shared/projects/2312_rnaseq_cea/\n",
      "\n",
      "=== Working (personal) folder tree ===\n",
      "/shared/projects/2312_rnaseq_cea/scaburet\n",
      "├── Data\n",
      "│   ├── fastq\n",
      "│   └── sra\n",
      "└── Results\n",
      "    ├── fastp\n",
      "    ├── fastqc\n",
      "    ├── fastq_screen\n",
      "    ├── logfiles\n",
      "    ├── multiqc\n",
      "    ├── star\n",
      "    └── star-old\n",
      "\n",
      "11 directories\n",
      "=== current working directory ===\n",
      "/shared/ifbstor1/projects/2312_rnaseq_cea/pipeline\n"
     ]
    }
   ],
   "source": [
    "## Code cell 3 ##\n",
    "\n",
    "gohome=\"/shared/projects/2312_rnaseq_cea/\"\n",
    "\n",
    "echo \"=== Home root folder is ===\"\n",
    "echo \"${gohome}\"\n",
    "echo \"\"\n",
    "echo \"=== Working (personal) folder tree ===\"\n",
    "tree -d -L 2 \"${gohome}$USER\"\n",
    "echo \"=== current working directory ===\"\n",
    "echo \"${PWD}\""
   ]
  },
  {
   "cell_type": "markdown",
   "metadata": {},
   "source": [
    "- **Reference genome and annotation files will be downloaded from the web** in [section 1.2](#downloadsection), so **don't forget to change url for both files** in [section 1.1](#urlsection). The names used to store links are ``fagzurl`` and ``gtfgzurl``, respectively."
   ]
  },
  {
   "cell_type": "markdown",
   "metadata": {},
   "source": [
    "- To map reads efficiently, a set of indexes has to be created. The amount of indexes relies on the read length value, a parameter set by the experimenter on sequencing platform.    \n",
    "    **Change read length value below if you have a different read size**:   \n"
   ]
  },
  {
   "cell_type": "code",
   "execution_count": 4,
   "metadata": {},
   "outputs": [],
   "source": [
    "## Code cell 4 ##\n",
    "\n",
    "rawreadlength=100"
   ]
  },
  {
   "cell_type": "markdown",
   "metadata": {},
   "source": [
    "- Please, precise the **maximum amount of CPU** (central processing units, cores) and **RAM-memory (in Bytes)** that programs can use.<a id=\"computressources\"></a>\n",
    "\n",
    "<div class=\"alert alert-block alert-danger\">\n",
    "    <b>Following values are valid for a 5-CPU session with access to 21 GB of RAM</b>. Ideally, use 70-80% of the CPU amount your system or session has. DO NOT ask for more RAM than you can use.\n",
    "</div>"
   ]
  },
  {
   "cell_type": "code",
   "execution_count": 6,
   "metadata": {},
   "outputs": [],
   "source": [
    "## Code cell 5 ##\n",
    "\n",
    "authorizedCPU=4  #4\n",
    "\n",
    "authorizedRAM=20000000000  # 20GB"
   ]
  },
  {
   "cell_type": "markdown",
   "metadata": {},
   "source": [
    "---\n",
    "## 1 - Reference genome and annotation files   \n",
    "\n",
    "Classical mapping of RNAseq data relies on the use of a reference genome sequence (in <code>fasta</code> format) and a companion annotation file that contains the location of genomic features, such as genes and exons (in <code>gtf</code> or <code>gff</code> format). \n",
    "The Reference genome also has to be indexed by STAR, with indexes corresponding to the specific read length in the dataset.\n",
    "\n",
    "   \n",
    "**Here we will used pre-downloaded files and pre-computed indexes, in order to save time and disk space.**   \n",
    "The sections 1.1 to 1.3 (downloading and extracting Reference files) and 2.1 to 2.4 (indexing Reference file) are therefore only provided for further use in your own later projects.   \n",
    "\n",
    "To use those commands:   \n",
    "* change the format of the cells from <code>raw</code> to <code>code</code>.  \n",
    "* specify the correct read length in Code cell 4\n",
    "* choose the correct species in Code cells 6 and 7.\n",
    "\n",
    "**The section 1.4 is kept active to verify the Reference files**\n"
   ]
  },
  {
   "cell_type": "markdown",
   "metadata": {
    "tags": []
   },
   "source": [
    "### **1.1 - Searching for urls on the web**"
   ]
  },
  {
   "cell_type": "markdown",
   "metadata": {
    "tags": []
   },
   "source": [
    "There are several websites to download reference genome and annotation files:<a id=\"urlsection\"></a>\n",
    "- <a href=\"https://www.gencodegenes.org/human/\"><i>Gencode</i></a> from the European Biomolecular Institute (EBI)  \n",
    "- <a href=\"http://www.ensembl.org/info/data/ftp/index.html\"><i>Accessing Ensembl Data</i></a> from Ensembl project database  \n",
    "- <a href=\"https://www.ncbi.nlm.nih.gov/genome/guide/human/\"><i>Human Genome Ressources</i></a> at NCBI  \n",
    "- ... and maybe one day a commom NCBI and Ensembl/Gencode realease (MANE collaboration, <a href=\"https://ncbiinsights.ncbi.nlm.nih.gov/2020/11/02/ncbi-refseq-ensembl-gencode-mane-v0-92/#more-4781\">a story beginning in 2020</a>)"
   ]
  },
  {
   "cell_type": "markdown",
   "metadata": {
    "tags": []
   },
   "source": [
    "We will use a **Primary assembly** (PRI) release. It includes chromosomes and scaffolds (candidate regions to be integrated or discarded in next genome build).  \n",
    "On the contrary, the main annotation file is limited to chromosomes while the extensive annotation file also includes all known haplotypes (for highly variables regions such as the HMC)."
   ]
  },
  {
   "cell_type": "markdown",
   "metadata": {
    "tags": []
   },
   "source": [
    "<div class=\"alert alert-block alert-warning\">\n",
    "    In this notebook, we use <b>Gencode release</b>, that provides user with <b><code>.gz</code> compressed</b> files, and we choose <b>GTF format</b> for the annotation file. <br>\n",
    "    Feel free to choose the source you want among citated ones above, as far as downloaded files follow the same file formats (if they don't, change next sections code cells!).\n",
    "</div>\n",
    "\n",
    "<div class=\"alert alert-block alert-info\">\n",
    "    Nonetheless, please note that annotation file format is an actively opened issue as some relevant official sources are contradictory: \n",
    "    <ul>\n",
    "        <li>\n",
    "            For US Galaxy Main project: <a href=\"https://galaxyproject.org/learn/datatypes/#gtf\">GTF</a> is the GFF version 2 while <a href=\"https://galaxyproject.org/learn/datatypes/#gff\">GFF</a> is version 1 and <a href=\"https://galaxyproject.org/learn/datatypes/#gff3\">GFF3</a> is the latest and 3rd version... \n",
    "        </li>\n",
    "        <li>\n",
    "        ... but IGV Broad Institute, as UCSC genome browser, makes distinction between <a href=\"http://software.broadinstitute.org/software/igv/GFF\">GFF2 and GTF formats</a>, <a href=\"https://genome.ucsc.edu/FAQ/FAQformat.html#format3\"> the later being only compatible with the former</a>.\n",
    "        </li>\n",
    "        <li>\n",
    "            While both <a href=\"https://biocorecrg.github.io/PhD_course/gtf_format.html\">GTF</a> and <a href=\"https://biostar.usegalaxy.org/p/28147/\">GFF</a> formats have 9 columns, field in the ninth column is longer for <code>.gtf</code> files than for <code>.gff</code> files (<a href=\"https://genome.ucsc.edu/FAQ/FAQformat.html#format3\">UCSC Genome browser documentation</a> and <a href=\"https://www.ensembl.org/info/website/upload/gff.html\">ensembl documentation</a>).\n",
    "        </li>\n",
    "        <li>\n",
    "            Even if both file format have header lines, some tools do not support them (<a href=\"https://biostar.usegalaxy.org/p/28147/\">second bullet point in last answer</a>) and US Galaxy portal asks users to remove those lines before use (see upper US Galaxy links).\n",
    "        </li>\n",
    "        <li>\n",
    "            <code>FeatureCounts</code> (a downstream tool we will use) only <a href=\"http://bioinf.wehi.edu.au/featureCounts/\">works with GTF files</a>. This tool expects to find <i>exon</i> in the <i>features</i> column (both GFF and GTF!) and <i>gene_id</i> as a gene identifier (missing in GFF), see <a href=\"https://biostar.usegalaxy.org/p/28094/index.html#28099\">item 4 in latest answer</a>.\n",
    "        </li>\n",
    "    </ul>\n",
    "</div>"
   ]
  },
  {
   "cell_type": "markdown",
   "metadata": {
    "tags": []
   },
   "source": [
    "In order to have latest current genome release for your analyses, please go to Gencode's <a href=\"https://www.gencodegenes.org/human/\">download page</a> (or to other chosen reference download page) and adapt url links for:\n",
    "- Primary annotation (this notebook is developped with GTF file)\n",
    "> in *GTF/GFF3 files* Gencode's chart: Comprehensive gene annotation > primary annotation > *gtf* file "
   ]
  },
  {
   "cell_type": "raw",
   "metadata": {},
   "source": [
    "## (Code cell 6) ##\n",
    "\n",
    "# for Homo sapiens genome release 37:\n",
    "# gtfgzurl=\"ftp://ftp.ebi.ac.uk/pub/databases/gencode/Gencode_human/release_37/gencode.v37.primary_assembly.annotation.gtf.gz\" \n",
    "\n",
    "# for Homo sapiens genome, release 43 (latest, May 2023):\n",
    "# gtfgzurl=\"https://ftp.ebi.ac.uk/pub/databases/gencode/Gencode_human/release_43/gencode.v43.primary_assembly.annotation.gtf.gz\"\n",
    "\n",
    "# For Mus musculus in 2023, release M32 (latest, May 2023):\n",
    "gtfgzurl=\"https://ftp.ebi.ac.uk/pub/databases/gencode/Gencode_mouse/release_M32/gencode.vM32.primary_assembly.annotation.gtf.gz\""
   ]
  },
  {
   "cell_type": "markdown",
   "metadata": {},
   "source": [
    "- Primary genome sequence file\n",
    "> in *Fasta files* Gencode's chart: Genome sequence, primary assembly > *Fasta* file "
   ]
  },
  {
   "cell_type": "raw",
   "metadata": {},
   "source": [
    "## (Code cell 7) ##\n",
    "\n",
    "# for Homo sapiens genome release 37:\n",
    "# fagzurl=\"ftp://ftp.ebi.ac.uk/pub/databases/gencode/Gencode_human/release_37/GRCh38.primary_assembly.genome.fa.gz\"\n",
    "\n",
    "# for Homo sapiens genome release 43 (latest, May 2023):\n",
    "# fagzurl=\"https://ftp.ebi.ac.uk/pub/databases/gencode/Gencode_human/release_43/GRCh38.primary_assembly.genome.fa.gz\"\n",
    "\n",
    "# For Mus musculus release M32 (latest, May 2023):\n",
    "fagzurl=\"https://ftp.ebi.ac.uk/pub/databases/gencode/Gencode_mouse/release_M32/GRCm39.primary_assembly.genome.fa.gz\"\n"
   ]
  },
  {
   "cell_type": "markdown",
   "metadata": {},
   "source": [
    "*Note*: You can get url link with a right click on download links, then *copy link to clipboard*.\n",
    "\n",
    "<div class=\"alert alert-block alert-danger\">\n",
    "    Both files have to be retrieved from the same source as sequence region names need to be the same in both; in order to avoid dowstream analysis issues. <br>\n",
    "    <i>In Gencode, this compatibility between files is specified in the <b>fasta description field</b></i>.\n",
    "</div>"
   ]
  },
  {
   "cell_type": "markdown",
   "metadata": {},
   "source": [
    "### **1.2 - Retrieve files with ``wget``**"
   ]
  },
  {
   "cell_type": "markdown",
   "metadata": {
    "tags": []
   },
   "source": [
    "We will download those files in a distinct folder:<a id=\"downloadsection\"></a>"
   ]
  },
  {
   "cell_type": "raw",
   "metadata": {},
   "source": [
    "## (Code cell 8) ##\n",
    "\n",
    "reffolder=\"${gohome}allData/Reference/\"\n",
    "mkdir -p ${reffolder}"
   ]
  },
  {
   "cell_type": "markdown",
   "metadata": {
    "tags": []
   },
   "source": [
    "<ul class=\"alert alert-block alert-info\">\n",
    "    <li>\n",
    "        Sometimes (often?!), other users issues help us understand a command more than its manual. For instance, a Stackoverflow's <a href=\"https://unix.stackexchange.com/questions/23501/download-using-wget-to-a-different-directory-than-current-directory\">thread</a> about <code>wget</code> command and the way to write into a chosen output folder. \n",
    "    </li>\n",
    "</ul>"
   ]
  },
  {
   "cell_type": "raw",
   "metadata": {},
   "source": [
    "## (Code cell 9) ##\n",
    "\n",
    "logfile=\"${reffolder}wget_reference_files_downloads.log\""
   ]
  },
  {
   "cell_type": "raw",
   "metadata": {},
   "source": [
    "## (Code cell 10) ##\n",
    "\n",
    "echo \"Some output is redirected to ${logfile} for record\"\n",
    "\n",
    "echo \"===== Annotation file retrieval ...\" >> ${logfile}\n",
    "wget -P \"${reffolder}\" -N \"${gtfgzurl}\"\n",
    "echo \"... done\" >> ${logfile}\n",
    "\n",
    "echo \"Used command is: wget -P ${reffolder} -N ${gtfgzurl}\"\n",
    "ls -lh \"${reffolder}\"*.gtf.gz >> ${logfile}"
   ]
  },
  {
   "cell_type": "markdown",
   "metadata": {
    "tags": []
   },
   "source": [
    "We only use these two options:\n",
    "> ``-P PREFIX`` or ``--directory-prefix=PREFIX`` to specify output folder  \n",
    "> ``-N`` or ``--timestamping``: don't re-retrieve files unless newer than local  \n",
    "\n",
    "Some other available options exist and among them this one:\n",
    "> ``-a FILE`` or ``--append-output=FILE`` to append messages to FILE  "
   ]
  },
  {
   "cell_type": "raw",
   "metadata": {},
   "source": [
    "## (Code cell 10) ##\n",
    "\n",
    "echo \"Some output is redirected to ${logfile} for record\"\n",
    "\n",
    "echo \"===== Genome sequence retrieval ...\" >> ${logfile}\n",
    "wget -P \"${reffolder}\" -N \"${fagzurl}\"\n",
    "echo \"... done\" >> ${logfile}\n",
    "\n",
    "echo \"Used command is: wget -P ${reffolder} -N ${fagzurl}\"\n",
    "ls -lh \"${reffolder}\"*.fa.gz >> ${logfile}"
   ]
  },
  {
   "cell_type": "markdown",
   "metadata": {},
   "source": [
    "### **1.3 - Extract archive files**"
   ]
  },
  {
   "cell_type": "markdown",
   "metadata": {
    "tags": []
   },
   "source": [
    "``STAR``, as other downstream tools, can't deal with compressed reference files.  \n",
    "Extracted files are quite big but compressed ones are of rather affordable size. So we will keep them as is, along with more simple filename assigment for extracted files (easier to handle, in particular when changing release and/or database source)."
   ]
  },
  {
   "cell_type": "raw",
   "metadata": {},
   "source": [
    "## (Code cell 11) ##\n",
    "\n",
    "mkdir -p \"${reffolder}extracted/\""
   ]
  },
  {
   "cell_type": "markdown",
   "metadata": {
    "tags": []
   },
   "source": [
    "- Primary annotation (notebook developped with GTF file)"
   ]
  },
  {
   "cell_type": "raw",
   "metadata": {},
   "source": [
    "## (Code cell 12) ##\n",
    "\n",
    "echo \"===== Extracting annotation file ...\" |& tee -a  ${logfile}\n",
    "gtfgzfile=$(ls \"${reffolder}\"*.gtf.gz)\n",
    "gtffile=\"${reffolder}extracted/genome_annotation.gtf\"\n",
    "\n",
    "zcat ${gtfgzfile} > ${gtffile}\n",
    "echo \"... done\" |& tee -a  ${logfile}\n",
    "\n",
    "ls -lh \"${reffolder}extracted/\"*.gtf >> ${logfile}"
   ]
  },
  {
   "cell_type": "markdown",
   "metadata": {
    "tags": []
   },
   "source": [
    "- Primary genome sequence file"
   ]
  },
  {
   "cell_type": "raw",
   "metadata": {},
   "source": [
    "## (Code cell 13) ##\n",
    "\n",
    "echo \"===== Extracting sequence file ...\" |& tee -a  ${logfile}\n",
    "fastagzfile=$(ls \"${reffolder}\"*.fa.gz)\n",
    "fastafile=\"${reffolder}extracted/genome_sequence.fa\"\n",
    "\n",
    "zcat ${fastagzfile} > ${fastafile}\n",
    "echo \"... done\" |& tee -a  ${logfile}\n",
    "\n",
    "ls -lh \"${reffolder}extracted/\"*.fa >> ${logfile}"
   ]
  },
  {
   "cell_type": "markdown",
   "metadata": {},
   "source": [
    "### **1.4 - Verify downloaded files**\n",
    "Let's have a look to these files to check they correspond to what we expect (or just discover file format)."
   ]
  },
  {
   "cell_type": "code",
   "execution_count": 7,
   "metadata": {
    "tags": []
   },
   "outputs": [],
   "source": [
    "## Code cell 14 ##\n",
    "\n",
    "reffolder=\"${gohome}allData/Reference/\"\n",
    "gtffile=\"${reffolder}extracted/genome_annotation.gtf\"\n",
    "fastafile=\"${reffolder}extracted/genome_sequence.fa\""
   ]
  },
  {
   "cell_type": "markdown",
   "metadata": {},
   "source": [
    "- Primary annotation (notebook developped with GTF file)"
   ]
  },
  {
   "cell_type": "code",
   "execution_count": 7,
   "metadata": {},
   "outputs": [
    {
     "name": "stdout",
     "output_type": "stream",
     "text": [
      "##description: evidence-based annotation of the mouse genome (GRCm39), version M32 (Ensembl 109)\n",
      "##provider: GENCODE\n",
      "##contact: gencode-help@ebi.ac.uk\n",
      "##format: gtf\n",
      "##date: 2022-12-06\n",
      "chr1\tHAVANA\tgene\t3143476\t3144545\t.\t+\t.\tgene_id \"ENSMUSG00000102693.2\"; gene_type \"TEC\"; gene_name \"4933401J01Rik\"; level 2; mgi_id \"MGI:1918292\"; havana_gene \"OTTMUSG00000049935.1\";\n",
      "chr1\tHAVANA\ttranscript\t3143476\t3144545\t.\t+\t.\tgene_id \"ENSMUSG00000102693.2\"; transcript_id \"ENSMUST00000193812.2\"; gene_type \"TEC\"; gene_name \"4933401J01Rik\"; transcript_type \"TEC\"; transcript_name \"4933401J01Rik-201\"; level 2; transcript_support_level \"NA\"; mgi_id \"MGI:1918292\"; tag \"basic\"; tag \"Ensembl_canonical\"; havana_gene \"OTTMUSG00000049935.1\"; havana_transcript \"OTTMUST00000127109.1\";\n",
      "chr1\tHAVANA\texon\t3143476\t3144545\t.\t+\t.\tgene_id \"ENSMUSG00000102693.2\"; transcript_id \"ENSMUST00000193812.2\"; gene_type \"TEC\"; gene_name \"4933401J01Rik\"; transcript_type \"TEC\"; transcript_name \"4933401J01Rik-201\"; exon_number 1; exon_id \"ENSMUSE00001343744.2\"; level 2; transcript_support_level \"NA\"; mgi_id \"MGI:1918292\"; tag \"basic\"; tag \"Ensembl_canonical\"; havana_gene \"OTTMUSG00000049935.1\"; havana_transcript \"OTTMUST00000127109.1\";\n",
      "chr1\tENSEMBL\tgene\t3172239\t3172348\t.\t+\t.\tgene_id \"ENSMUSG00000064842.3\"; gene_type \"snRNA\"; gene_name \"Gm26206\"; level 3; mgi_id \"MGI:5455983\";\n",
      "chr1\tENSEMBL\ttranscript\t3172239\t3172348\t.\t+\t.\tgene_id \"ENSMUSG00000064842.3\"; transcript_id \"ENSMUST00000082908.3\"; gene_type \"snRNA\"; gene_name \"Gm26206\"; transcript_type \"snRNA\"; transcript_name \"Gm26206-201\"; level 3; transcript_support_level \"NA\"; mgi_id \"MGI:5455983\"; tag \"basic\"; tag \"Ensembl_canonical\";\n"
     ]
    }
   ],
   "source": [
    "## Code cell 15 ##\n",
    "\n",
    "head ${gtffile}"
   ]
  },
  {
   "cell_type": "markdown",
   "metadata": {},
   "source": [
    "- Primary genome sequence file"
   ]
  },
  {
   "cell_type": "code",
   "execution_count": 8,
   "metadata": {},
   "outputs": [
    {
     "name": "stdout",
     "output_type": "stream",
     "text": [
      ">chr1 1\n",
      "NNNNNNNNNNNNNNNNNNNNNNNNNNNNNNNNNNNNNNNNNNNNNNNNNNNNNNNNNNNN\n",
      "NNNNNNNNNNNNNNNNNNNNNNNNNNNNNNNNNNNNNNNNNNNNNNNNNNNNNNNNNNNN\n",
      "NNNNNNNNNNNNNNNNNNNNNNNNNNNNNNNNNNNNNNNNNNNNNNNNNNNNNNNNNNNN\n",
      "NNNNNNNNNNNNNNNNNNNNNNNNNNNNNNNNNNNNNNNNNNNNNNNNNNNNNNNNNNNN\n",
      "NNNNNNNNNNNNNNNNNNNNNNNNNNNNNNNNNNNNNNNNNNNNNNNNNNNNNNNNNNNN\n",
      "NNNNNNNNNNNNNNNNNNNNNNNNNNNNNNNNNNNNNNNNNNNNNNNNNNNNNNNNNNNN\n",
      "NNNNNNNNNNNNNNNNNNNNNNNNNNNNNNNNNNNNNNNNNNNNNNNNNNNNNNNNNNNN\n",
      "NNNNNNNNNNNNNNNNNNNNNNNNNNNNNNNNNNNNNNNNNNNNNNNNNNNNNNNNNNNN\n",
      "NNNNNNNNNNNNNNNNNNNNNNNNNNNNNNNNNNNNNNNNNNNNNNNNNNNNNNNNNNNN\n"
     ]
    }
   ],
   "source": [
    "## Code cell 16 ##\n",
    "\n",
    "head ${fastafile}"
   ]
  },
  {
   "cell_type": "markdown",
   "metadata": {},
   "source": [
    "---\n",
    "## 2 - Building genome reference index files with <code>STAR</code>"
   ]
  },
  {
   "cell_type": "markdown",
   "metadata": {},
   "source": [
    "The indexes are small files that tell a program where to look for data in a large data file. They are required for mapping algorithms, as they allow for faster processing of millions reads."
   ]
  },
  {
   "cell_type": "markdown",
   "metadata": {},
   "source": [
    "### **2.1 - Tool version and command line presentation**"
   ]
  },
  {
   "cell_type": "raw",
   "metadata": {},
   "source": [
    "## (Code cell 17) ##\n",
    "\n",
    "STAR --version"
   ]
  },
  {
   "cell_type": "markdown",
   "metadata": {
    "tags": []
   },
   "source": [
    "To create reference genome files, the default command is: <br>\n",
    "<code>STAR --runMode genomeGenerate --genomeDir destination/folder \\\n",
    "      --genomeFastaFiles path/to/sequence.fa\n",
    "</code>\n",
    "\n",
    "<blockquote>\n",
    "    <code>--runMode genomeGenerate</code>, to switch to indexing step, else STAR is by defaul turned to alignReads (mapping step) <br>\n",
    "    <code>--genomeDir</code>, to specify folder where to put reference genome indexes <br>\n",
    "    <code>--genomeFastaFiles</code>, fasta file reference genome path (DOES NOT work with gz files)"
   ]
  },
  {
   "cell_type": "markdown",
   "metadata": {
    "tags": []
   },
   "source": [
    "We are working on RNAseq data and need to have files that take splice junctions into account. Thus, we need to add following 2 parameters: <br>\n",
    "<code>--sjdbGTFfile path/to/annotation.file --sjdbOverhang readlengthnum</code>\n",
    "\n",
    "They stand for:\n",
    "<blockquote>\n",
    "    <code>--sjdbGTFfiles</code>, to specify where to find annotation file that contains exon positions, thus placing splice junction along genome sequence <br>\n",
    "    <code>--sjdbOverhang</code>, the maximum size that we expected to found on one splice junction side (<em>ideally, mate length-1</em>)\n",
    "</blockquote>\n",
    "\n",
    "For STAR, we can specify those two additional options either when genereating genome index files or when mapping sample. As we may be limited in computational ressources, we will add these items here and avoid memory-consuming operation repetition lately when iterating on all samples for mapping."
   ]
  },
  {
   "cell_type": "markdown",
   "metadata": {},
   "source": [
    "### **2.2 - Preparing command line variables**"
   ]
  },
  {
   "cell_type": "markdown",
   "metadata": {},
   "source": [
    "The dataset used to develop this pipeline is based on reads sequenced on 100 bases.  \n",
    "If this is not the case for your dataset, change the value in Code cell 4."
   ]
  },
  {
   "cell_type": "raw",
   "metadata": {},
   "source": [
    "## (Code cell 18) ##\n",
    "\n",
    "rawreadlength=${rawreadlength}\n",
    "echo ${rawreadlength}\n",
    "#rawreadlength=100\n",
    "maxoneside=$((${rawreadlength}-1))"
   ]
  },
  {
   "cell_type": "markdown",
   "metadata": {},
   "source": [
    "We will then create a folder to put those specific genomes indexes files, with an explicit name for later use:"
   ]
  },
  {
   "cell_type": "raw",
   "metadata": {},
   "source": [
    "## (Code cell 19) ##\n",
    "\n",
    "indexfolder=\"${gohome}allData/Reference/indexes_upto${maxoneside}bases/\"\n",
    "mkdir -p ${indexfolder}"
   ]
  },
  {
   "cell_type": "markdown",
   "metadata": {},
   "source": [
    "Let's verify ``fastafile`` and ``gtffile`` variables, defined when extracting compressed files in Code cell 14.  "
   ]
  },
  {
   "cell_type": "raw",
   "metadata": {},
   "source": [
    "## (Code cell 20) ##\n",
    "\n",
    "echo ${fastafile}\n",
    "echo ${gtffile}  "
   ]
  },
  {
   "cell_type": "markdown",
   "metadata": {},
   "source": [
    "Let's verify, or set if not done in [**Parameters**'s section](#computressources), the **number of CPU** (central processing units, cores) and **RAM-memory size (in Bytes)** that next multithreading program is allowed to use.  \n",
    "<div class=\"alert alert-block alert-danger\">\n",
    "    <b>Following values are valid for a 5-CPU session with access to 21 GB of RAM</b>. Ideally, use 70-80% of the CPU amount your system or session has. DO NOT ask for more RAM than your can use.\n",
    "</div>"
   ]
  },
  {
   "cell_type": "raw",
   "metadata": {},
   "source": [
    "## (Code cell 21) ##\n",
    "\n",
    "authorizedCPU=${authorizedCPU}\n",
    "#authorizedCPU=4\n",
    "echo ${authorizedCPU}\n",
    "\n",
    "\n",
    "authorizedRAM=${authorizedRAM}\n",
    "#authorizedRAM=20000000000  # 20GB\n",
    "echo ${authorizedRAM}"
   ]
  },
  {
   "cell_type": "markdown",
   "metadata": {
    "tags": []
   },
   "source": [
    "If you have limited computer ressources, change following parameters directly in the command cell below or [set ``authorizedCPU`` and ``authorizedCPU`` values](#computressources) in Code cell 5 otherwise.\n",
    "<blockquote>\n",
    "    <code>--limitGenomeGenerateRAM</code>, to set maximum available RAM (in bytes, standing for <i>octets</i> in French) for genome generation (integer, positive and not null, default value: 31000000000) <br>\n",
    "    <code>--runThreadN</code>, to limit the number of threads that <code>STAR</code> can use. On the IFB, it has to be set to the number of available cores\n",
    "</blockquote>\n"
   ]
  },
  {
   "cell_type": "markdown",
   "metadata": {},
   "source": [
    "### **2.3 - Indexing Reference genome**"
   ]
  },
  {
   "cell_type": "raw",
   "metadata": {},
   "source": [
    "## (Code cell 22) ##\n",
    "\n",
    "logfile=\"${gohome}allData/Reference/star_indexing_genome.log\""
   ]
  },
  {
   "cell_type": "raw",
   "metadata": {},
   "source": [
    "## (Code cell 23) ##\n",
    "\n",
    "echo \"Screen output is also redirected to ${logfile} for record\"\n",
    "\n",
    "echo \"=== starting genome indexing ...\" |& tee -a \"${logfile}\"\n",
    "echo \"operation started at $(date)\" >> ${logfile}\n",
    "\n",
    "time STAR --runThreadN ${authorizedCPU} --runMode genomeGenerate \\\n",
    "          --genomeDir \"${indexfolder}\" \\\n",
    "          --genomeFastaFiles \"${fastafile}\" \\\n",
    "          --sjdbGTFfile \"${gtffile}\" \\\n",
    "          --sjdbOverhang \"${maxoneside}\" \\\n",
    "          --limitGenomeGenerateRAM ${authorizedRAM} \\\n",
    "          |& tee -a \"${logfile}\"\n",
    "echo \"STAR indexing ended at $(date)\" >> ${logfile}\n",
    "\n",
    "# list files with their size\n",
    "ls -lh \"${indexfolder}\" >> ${logfile}\n",
    "\n",
    "echo \"... done\" |& tee -a \"${logfile}\""
   ]
  },
  {
   "cell_type": "markdown",
   "metadata": {},
   "source": [
    "If there is any issue, among all output files that STAR writes, start with ``Log.out``. It's a plain text file containing understood command line. It's quite verbose, that's very helpful!"
   ]
  },
  {
   "cell_type": "raw",
   "metadata": {},
   "source": [
    "## (Code cell 23) ##\n",
    "\n",
    "head -n 16 \"${indexfolder}Log.out\"\n",
    "tail -n 2 \"${indexfolder}Log.out\""
   ]
  },
  {
   "cell_type": "raw",
   "metadata": {},
   "source": [
    "## Example output for (Code cell 23)\n",
    "\n",
    "STAR version=2.7.10b\n",
    "STAR compilation time,server,dir=2022-11-01T09:53:26-04:00 :/home/dobin/data/STAR/STARcode/STAR.master/source\n",
    "STAR git: On branch master ; commit c6f8efc2c7043ef83bf8b0d9bed36bbb6b9b1133 ; diff files: CHANGES.md \n",
    "##### Command Line:\n",
    "STAR --runThreadN 45 --runMode genomeGenerate --genomeDir /shared/projects/2312_rnaseq_cea/allData/Reference/indexes_upto99bases/ --genomeFastaFiles /shared/projects/2312_rnaseq_cea/allData/Reference/extracted/genome_sequence.fa --sjdbGTFfile /shared/projects/2312_rnaseq_cea/allData/Reference/extracted/genome_annotation.gtf --sjdbOverhang 99 --limitGenomeGenerateRAM 50000000000\n",
    "##### Initial USER parameters from Command Line:\n",
    "###### All USER parameters from Command Line:\n",
    "runThreadN                    45     ~RE-DEFINED\n",
    "runMode                       genomeGenerate        ~RE-DEFINED\n",
    "genomeDir                     /shared/projects/2312_rnaseq_cea/allData/Reference/indexes_upto99bases/     ~RE-DEFINED\n",
    "genomeFastaFiles              /shared/projects/2312_rnaseq_cea/allData/Reference/extracted/genome_sequence.fa        ~RE-DEFINED\n",
    "sjdbGTFfile                   /shared/projects/2312_rnaseq_cea/allData/Reference/extracted/genome_annotation.gtf     ~RE-DEFINED\n",
    "sjdbOverhang                  99     ~RE-DEFINED\n",
    "limitGenomeGenerateRAM        50000000000     ~RE-DEFINED\n",
    "##### Finished reading parameters from all sources\n",
    "\n",
    "May 23 17:26:26 ..... finished successfully\n",
    "DONE: Genome generation, EXITING"
   ]
  },
  {
   "cell_type": "markdown",
   "metadata": {},
   "source": [
    "### **2.4 - Extracted Reference genome file removal**"
   ]
  },
  {
   "cell_type": "markdown",
   "metadata": {},
   "source": [
    "We can verify the disk space that Reference files use:"
   ]
  },
  {
   "cell_type": "raw",
   "metadata": {},
   "source": [
    "## (Code cell 24) ##\n",
    "\n",
    "du -h ${reffolder}\n",
    "ls -lh \"${reffolder}indexes_upto99bases\" "
   ]
  },
  {
   "cell_type": "markdown",
   "metadata": {},
   "source": [
    "Extracted genome file is no more used after this step, so we can remove it to save space:"
   ]
  },
  {
   "cell_type": "raw",
   "metadata": {},
   "source": [
    "## (Code cell 25) ##\n",
    "\n",
    "rm \"${reffolder}extracted/genome_sequence.fa\" \n",
    "du -h ${reffolder}\n",
    "ls -lh \"${reffolder}extracted/\" "
   ]
  },
  {
   "cell_type": "markdown",
   "metadata": {},
   "source": [
    "## 3 - Mapping samples on reference genome with <code>STAR</code></b>"
   ]
  },
  {
   "cell_type": "markdown",
   "metadata": {},
   "source": [
    "### **3.1 - Tool version and command line presentation**"
   ]
  },
  {
   "cell_type": "markdown",
   "metadata": {},
   "source": [
    "A little stop to discover ``STAR`` version as you may have skiped genome indexing:"
   ]
  },
  {
   "cell_type": "code",
   "execution_count": 42,
   "metadata": {},
   "outputs": [
    {
     "name": "stdout",
     "output_type": "stream",
     "text": [
      "2.7.10b\n"
     ]
    }
   ],
   "source": [
    "## Code cell 26 ##\n",
    "\n",
    "STAR --version"
   ]
  },
  {
   "cell_type": "markdown",
   "metadata": {},
   "source": [
    "A rather simple version of command line for mapping is: <br>\n",
    "<code>STAR --genomeDir path/to/indexes/folder/ \\\n",
    "      --readFilesIn path/to/read1.fastq.gz path/to/read2.fastq.gz \\\n",
    "      --readFilesCommand zcat \\\n",
    "      --outSAMtype BAM SortedByCoordinate \\\n",
    "      --quantMode GeneCounts \\\n",
    "</code>\n",
    "\n",
    "<blockquote>\n",
    "    <code>--readFilesIn</code> for <code>Read</code> (for Single End data) or both <code>Read1 Read2</code> (for Paired End data) as full paths to files that contain input read(s)  <br> \n",
    "    <code>--readFilesCommand</code>, to indicate the tool that can handle read file format. <code>STAR</code> allow user a direct use of compressed files but rely on available dezipping tools <br>\n",
    "    <br>\n",
    "    <code>--outSAMtype word1 word2</code>, to set output file format we want (default, SAM). <br>\n",
    "    Options for <code>word1</code> are <code>BAM</code>, <code>SAM</code> and <code>NoneNone</code> (no SAM/BAM output). <br>\n",
    "    Options for <code>word2</code> are <code>Unsorted</code> or <code>SortedByCoordinate</code>. This option will allocate extra memory for sorting which can be specified by <code>--limitBAMsortRAM</code>.<br>\n",
    "    <br>\n",
    "    <code>--quantMode</code> (default, <i>none</i>), to activate and ask for one or several quantification outputs.  <br>\n",
    "    Available options are: <code>GeneCounts</code> and <code>TranscriptomeSAM</code>. The latter will generate an output SAM/BAM alignments to transcriptome into a separate file while the former only generates a text file with count reads per gene.\n",
    "</blockquote>"
   ]
  },
  {
   "cell_type": "markdown",
   "metadata": {},
   "source": [
    "As ``_Aligned.toTranscriptome.out.bam`` generated files for downstream transcript level are as big or bigger than ``_Aligned.sortedByCoord.out.bam``, only required for downstream quantification analysis by ``FeatureCounts``, we will focus on gene level quantification mode."
   ]
  },
  {
   "cell_type": "markdown",
   "metadata": {},
   "source": [
    "If you want to use transcript level qualification, we have previously successfully used below options: <br>\n",
    "<code>--quantMode TranscriptomeSAM GeneCounts</code>"
   ]
  },
  {
   "cell_type": "markdown",
   "metadata": {},
   "source": [
    "### **3.2- Preparing command line variables**"
   ]
  },
  {
   "cell_type": "markdown",
   "metadata": {},
   "source": [
    "Let's check that we still have all ``.fastq.gz`` files where we left them. We count files that do no include *_removed* in their name:"
   ]
  },
  {
   "cell_type": "code",
   "execution_count": 19,
   "metadata": {},
   "outputs": [
    {
     "name": "stdout",
     "output_type": "stream",
     "text": [
      "SRR12730403_1.fastp.fastq.gz\t    SRR12730404_fastp.json\n",
      "SRR12730403_2.fastp.fastq.gz\t    SRR12730404_removed.fastp.fastq.gz\n",
      "SRR12730403_fastp.html\t\t    SRR12730405_1.fastp.fastq.gz\n",
      "SRR12730403_fastp.json\t\t    SRR12730405_2.fastp.fastq.gz\n",
      "SRR12730403_removed.fastp.fastq.gz  SRR12730405_fastp.html\n",
      "SRR12730404_1.fastp.fastq.gz\t    SRR12730405_fastp.json\n",
      "SRR12730404_2.fastp.fastq.gz\t    SRR12730405_removed.fastp.fastq.gz\n",
      "SRR12730404_fastp.html\n",
      "12\n"
     ]
    }
   ],
   "source": [
    "## Code cell 27 ##\n",
    "\n",
    "ls \"${gohome}$USER/Results/fastp/\"\n",
    "ls \"${gohome}$USER/Results/fastp/\" | grep -v -e \"_removed\" | wc -l"
   ]
  },
  {
   "cell_type": "markdown",
   "metadata": {},
   "source": [
    "We also check that the variables in ``${gtffile}`` and ``${indexfolder}`` contain the proper path to Reference features and indexes: "
   ]
  },
  {
   "cell_type": "code",
   "execution_count": 20,
   "metadata": {},
   "outputs": [
    {
     "name": "stdout",
     "output_type": "stream",
     "text": [
      "total 25G\n",
      "-rw-rw----+ 1 scaburet scaburet  459 May 23 17:12 chrLength.txt\n",
      "-rw-rw----+ 1 scaburet scaburet 1008 May 23 17:12 chrNameLength.txt\n",
      "-rw-rw----+ 1 scaburet scaburet  549 May 23 17:12 chrName.txt\n",
      "-rw-rw----+ 1 scaburet scaburet  667 May 23 17:12 chrStart.txt\n",
      "-rw-rw----+ 1 scaburet scaburet  30M May 23 17:12 exonGeTrInfo.tab\n",
      "-rw-rw----+ 1 scaburet scaburet  12M May 23 17:12 exonInfo.tab\n",
      "-rw-rw----+ 1 scaburet scaburet 2.4M May 23 17:12 geneInfo.tab\n",
      "-rw-rw----+ 1 scaburet scaburet 2.7G May 23 17:26 Genome\n",
      "-rw-rw----+ 1 scaburet scaburet  981 May 23 17:26 genomeParameters.txt\n",
      "-rw-rw----+ 1 scaburet scaburet  29K May 23 17:26 Log.out\n",
      "-rw-rw----+ 1 scaburet scaburet  21G May 23 17:26 SA\n",
      "-rw-rw----+ 1 scaburet scaburet 1.5G May 23 17:26 SAindex\n",
      "-rw-rw----+ 1 scaburet scaburet 8.1M May 23 17:23 sjdbInfo.txt\n",
      "-rw-rw----+ 1 scaburet scaburet 8.8M May 23 17:12 sjdbList.fromGTF.out.tab\n",
      "-rw-rw----+ 1 scaburet scaburet 7.2M May 23 17:23 sjdbList.out.tab\n",
      "-rw-rw----+ 1 scaburet scaburet  10M May 23 17:12 transcriptInfo.tab\n"
     ]
    }
   ],
   "source": [
    "## Code cell 28 ##\n",
    "\n",
    "reffolder=\"${gohome}allData/Reference/\"\n",
    "gtffile=\"${reffolder}extracted/genome_annotation.gtf\"\n",
    "indexfolder=\"${reffolder}indexes_upto99bases/\"\n",
    "\n",
    "\n",
    "ls -lh \"${indexfolder}\""
   ]
  },
  {
   "cell_type": "markdown",
   "metadata": {},
   "source": [
    "Now we create a destination folder for aligned ``.bam`` and other output files:"
   ]
  },
  {
   "cell_type": "code",
   "execution_count": 22,
   "metadata": {},
   "outputs": [],
   "source": [
    "## Code cell 29 ##\n",
    "\n",
    "mappedfolder=\"${gohome}$USER/Results/star/\"\n",
    "mkdir -p ${mappedfolder}"
   ]
  },
  {
   "cell_type": "markdown",
   "metadata": {},
   "source": [
    "... and reset matching ``Results/`` destination folder for log files..."
   ]
  },
  {
   "cell_type": "code",
   "execution_count": 21,
   "metadata": {},
   "outputs": [],
   "source": [
    "## Code cell 30 ##\n",
    "\n",
    "logfolder=\"${gohome}$USER/Results/logfiles/\""
   ]
  },
  {
   "cell_type": "markdown",
   "metadata": {},
   "source": [
    "Let's verify, or set if not done in [**Parameters**'s section](#computressources), the **number of CPU** (central processing units, cores) and **RAM-memory size (in Bytes)** that next multithreading program is allowed to use.  \n",
    "<div class=\"alert alert-block alert-danger\">\n",
    "    <b>Following values are valid for a 5-CPU session with access to 21 GB of RAM</b>. Ideally, use 70-80% of the CPU amount your system or session has. DO NOT ask for more RAM than your can use.\n",
    "</div>"
   ]
  },
  {
   "cell_type": "code",
   "execution_count": 11,
   "metadata": {},
   "outputs": [
    {
     "name": "stdout",
     "output_type": "stream",
     "text": [
      "4\n",
      "20000000000\n"
     ]
    }
   ],
   "source": [
    "## Code cell 31 ##\n",
    "\n",
    "authorizedCPU=${authorizedCPU}\n",
    "#authorizedCPU=4\n",
    "echo ${authorizedCPU}\n",
    "\n",
    "\n",
    "authorizedRAM=${authorizedRAM}\n",
    "#authorizedRAM=20000000000  # 20GB\n",
    "echo ${authorizedRAM}"
   ]
  },
  {
   "cell_type": "markdown",
   "metadata": {},
   "source": [
    "### **3.3- Running command line for mapping with <code>STAR</code>**"
   ]
  },
  {
   "cell_type": "markdown",
   "metadata": {},
   "source": [
    "If you have limited computer ressources, please change following parameters directly in the command cell below or [set ``authorizedCPU`` and ``authorizedCPU`` values](#computressources) in Code cell 5 otherwise. \n",
    "<blockquote>\n",
    "    <code>--limitBAMsortRAM</code>, to set maximum available RAM (in bytes, standing for <i>octets</i> in French) for sorting <code>.bam</code> file (integer, positive). <i>Note: Value can be null only if <code>--genomeLoad</code> option is unchanged, thus it will be set to the genome index size.</i> <br>\n",
    "    <code>--runThreadN</code>, to limit the number of threads that <code>STAR</code> can use, it has to be set to the number of available cores\n",
    "</blockquote>\n"
   ]
  },
  {
   "cell_type": "code",
   "execution_count": 23,
   "metadata": {},
   "outputs": [],
   "source": [
    "## Code cell 32 ##\n",
    "\n",
    "logfile=\"${logfolder}star_mapping_samples.log\""
   ]
  },
  {
   "cell_type": "code",
   "execution_count": 41,
   "metadata": {},
   "outputs": [
    {
     "name": "stdout",
     "output_type": "stream",
     "text": [
      "Screen output is redirected to /shared/projects/2312_rnaseq_cea/allData/Results/logfiles/star_mapping_samples.log\n",
      "====== Processing sampleID: SRR12730403...\n",
      "\tSTAR --runThreadN 45 --runMode alignReads --genomeDir /shared/projects/2312_rnaseq_cea/allData/Reference/indexes_upto99bases/ --readFilesIn /shared/projects/2312_rnaseq_cea/allData/Results/fastp/SRR12730403_1.fastp.fastq.gz /shared/projects/2312_rnaseq_cea/allData/Results/fastp/SRR12730403_2.fastp.fastq.gz --readFilesCommand zcat --outFileNamePrefix /shared/projects/2312_rnaseq_cea/allData/Results/star/SRR12730403_ --outSAMtype BAM SortedByCoordinate --outSAMattributes All --outReadsUnmapped Fastx --limitBAMsortRAM 50000000000 --quantMode GeneCounts\n",
      "\tSTAR version: 2.7.10b   compiled: 2022-11-01T09:53:26-04:00 :/home/dobin/data/STAR/STARcode/STAR.master/source\n",
      "May 23 18:33:42 ..... started STAR run\n",
      "May 23 18:33:42 ..... loading genome\n",
      "May 23 18:34:23 ..... started mapping\n",
      "May 23 18:45:23 ..... finished mapping\n",
      "May 23 18:45:24 ..... started sorting BAM\n",
      "May 23 18:46:54 ..... finished successfully\n",
      "...done\n",
      "====== Processing sampleID: SRR12730404...\n",
      "\tSTAR --runThreadN 45 --runMode alignReads --genomeDir /shared/projects/2312_rnaseq_cea/allData/Reference/indexes_upto99bases/ --readFilesIn /shared/projects/2312_rnaseq_cea/allData/Results/fastp/SRR12730404_1.fastp.fastq.gz /shared/projects/2312_rnaseq_cea/allData/Results/fastp/SRR12730404_2.fastp.fastq.gz --readFilesCommand zcat --outFileNamePrefix /shared/projects/2312_rnaseq_cea/allData/Results/star/SRR12730404_ --outSAMtype BAM SortedByCoordinate --outSAMattributes All --outReadsUnmapped Fastx --limitBAMsortRAM 50000000000 --quantMode GeneCounts\n",
      "\tSTAR version: 2.7.10b   compiled: 2022-11-01T09:53:26-04:00 :/home/dobin/data/STAR/STARcode/STAR.master/source\n",
      "May 23 18:47:00 ..... started STAR run\n",
      "May 23 18:47:00 ..... loading genome\n",
      "May 23 18:47:37 ..... started mapping\n",
      "May 23 18:56:08 ..... finished mapping\n",
      "May 23 18:56:09 ..... started sorting BAM\n",
      "May 23 18:57:23 ..... finished successfully\n",
      "...done\n",
      "====== Processing sampleID: SRR12730405...\n",
      "\tSTAR --runThreadN 45 --runMode alignReads --genomeDir /shared/projects/2312_rnaseq_cea/allData/Reference/indexes_upto99bases/ --readFilesIn /shared/projects/2312_rnaseq_cea/allData/Results/fastp/SRR12730405_1.fastp.fastq.gz /shared/projects/2312_rnaseq_cea/allData/Results/fastp/SRR12730405_2.fastp.fastq.gz --readFilesCommand zcat --outFileNamePrefix /shared/projects/2312_rnaseq_cea/allData/Results/star/SRR12730405_ --outSAMtype BAM SortedByCoordinate --outSAMattributes All --outReadsUnmapped Fastx --limitBAMsortRAM 50000000000 --quantMode GeneCounts\n",
      "\tSTAR version: 2.7.10b   compiled: 2022-11-01T09:53:26-04:00 :/home/dobin/data/STAR/STARcode/STAR.master/source\n",
      "May 23 18:57:29 ..... started STAR run\n",
      "May 23 18:57:29 ..... loading genome\n",
      "May 23 18:58:07 ..... started mapping\n",
      "May 23 19:04:19 ..... finished mapping\n",
      "May 23 19:04:20 ..... started sorting BAM\n",
      "May 23 19:05:24 ..... finished successfully\n",
      "...done\n",
      "====== Processing sampleID: SRR12730406...\n",
      "\tSTAR --runThreadN 45 --runMode alignReads --genomeDir /shared/projects/2312_rnaseq_cea/allData/Reference/indexes_upto99bases/ --readFilesIn /shared/projects/2312_rnaseq_cea/allData/Results/fastp/SRR12730406_1.fastp.fastq.gz /shared/projects/2312_rnaseq_cea/allData/Results/fastp/SRR12730406_2.fastp.fastq.gz --readFilesCommand zcat --outFileNamePrefix /shared/projects/2312_rnaseq_cea/allData/Results/star/SRR12730406_ --outSAMtype BAM SortedByCoordinate --outSAMattributes All --outReadsUnmapped Fastx --limitBAMsortRAM 50000000000 --quantMode GeneCounts\n",
      "\tSTAR version: 2.7.10b   compiled: 2022-11-01T09:53:26-04:00 :/home/dobin/data/STAR/STARcode/STAR.master/source\n",
      "May 23 19:05:29 ..... started STAR run\n",
      "May 23 19:05:29 ..... loading genome\n",
      "May 23 19:06:06 ..... started mapping\n",
      "May 23 19:13:39 ..... finished mapping\n",
      "May 23 19:13:40 ..... started sorting BAM\n",
      "May 23 19:14:47 ..... finished successfully\n",
      "...done\n",
      "====== Processing sampleID: SRR12730407...\n",
      "\tSTAR --runThreadN 45 --runMode alignReads --genomeDir /shared/projects/2312_rnaseq_cea/allData/Reference/indexes_upto99bases/ --readFilesIn /shared/projects/2312_rnaseq_cea/allData/Results/fastp/SRR12730407_1.fastp.fastq.gz /shared/projects/2312_rnaseq_cea/allData/Results/fastp/SRR12730407_2.fastp.fastq.gz --readFilesCommand zcat --outFileNamePrefix /shared/projects/2312_rnaseq_cea/allData/Results/star/SRR12730407_ --outSAMtype BAM SortedByCoordinate --outSAMattributes All --outReadsUnmapped Fastx --limitBAMsortRAM 50000000000 --quantMode GeneCounts\n",
      "\tSTAR version: 2.7.10b   compiled: 2022-11-01T09:53:26-04:00 :/home/dobin/data/STAR/STARcode/STAR.master/source\n",
      "May 23 19:14:53 ..... started STAR run\n",
      "May 23 19:14:53 ..... loading genome\n",
      "May 23 19:15:31 ..... started mapping\n",
      "May 23 19:23:47 ..... finished mapping\n",
      "May 23 19:23:48 ..... started sorting BAM\n",
      "May 23 19:25:01 ..... finished successfully\n",
      "...done\n",
      "====== Processing sampleID: SRR12730408...\n",
      "\tSTAR --runThreadN 45 --runMode alignReads --genomeDir /shared/projects/2312_rnaseq_cea/allData/Reference/indexes_upto99bases/ --readFilesIn /shared/projects/2312_rnaseq_cea/allData/Results/fastp/SRR12730408_1.fastp.fastq.gz /shared/projects/2312_rnaseq_cea/allData/Results/fastp/SRR12730408_2.fastp.fastq.gz --readFilesCommand zcat --outFileNamePrefix /shared/projects/2312_rnaseq_cea/allData/Results/star/SRR12730408_ --outSAMtype BAM SortedByCoordinate --outSAMattributes All --outReadsUnmapped Fastx --limitBAMsortRAM 50000000000 --quantMode GeneCounts\n",
      "\tSTAR version: 2.7.10b   compiled: 2022-11-01T09:53:26-04:00 :/home/dobin/data/STAR/STARcode/STAR.master/source\n",
      "May 23 19:25:06 ..... started STAR run\n",
      "May 23 19:25:06 ..... loading genome\n",
      "May 23 19:25:43 ..... started mapping\n",
      "May 23 19:31:22 ..... finished mapping\n",
      "May 23 19:31:23 ..... started sorting BAM\n",
      "May 23 19:32:33 ..... finished successfully\n",
      "...done\n",
      "====== Processing sampleID: SRR12730409...\n",
      "\tSTAR --runThreadN 45 --runMode alignReads --genomeDir /shared/projects/2312_rnaseq_cea/allData/Reference/indexes_upto99bases/ --readFilesIn /shared/projects/2312_rnaseq_cea/allData/Results/fastp/SRR12730409_1.fastp.fastq.gz /shared/projects/2312_rnaseq_cea/allData/Results/fastp/SRR12730409_2.fastp.fastq.gz --readFilesCommand zcat --outFileNamePrefix /shared/projects/2312_rnaseq_cea/allData/Results/star/SRR12730409_ --outSAMtype BAM SortedByCoordinate --outSAMattributes All --outReadsUnmapped Fastx --limitBAMsortRAM 50000000000 --quantMode GeneCounts\n",
      "\tSTAR version: 2.7.10b   compiled: 2022-11-01T09:53:26-04:00 :/home/dobin/data/STAR/STARcode/STAR.master/source\n",
      "May 23 19:32:38 ..... started STAR run\n",
      "May 23 19:32:39 ..... loading genome\n",
      "May 23 19:33:16 ..... started mapping\n",
      "May 23 19:37:36 ..... finished mapping\n",
      "May 23 19:37:37 ..... started sorting BAM\n",
      "May 23 19:38:33 ..... finished successfully\n",
      "...done\n",
      "====== Processing sampleID: SRR12730410...\n",
      "\tSTAR --runThreadN 45 --runMode alignReads --genomeDir /shared/projects/2312_rnaseq_cea/allData/Reference/indexes_upto99bases/ --readFilesIn /shared/projects/2312_rnaseq_cea/allData/Results/fastp/SRR12730410_1.fastp.fastq.gz /shared/projects/2312_rnaseq_cea/allData/Results/fastp/SRR12730410_2.fastp.fastq.gz --readFilesCommand zcat --outFileNamePrefix /shared/projects/2312_rnaseq_cea/allData/Results/star/SRR12730410_ --outSAMtype BAM SortedByCoordinate --outSAMattributes All --outReadsUnmapped Fastx --limitBAMsortRAM 50000000000 --quantMode GeneCounts\n",
      "\tSTAR version: 2.7.10b   compiled: 2022-11-01T09:53:26-04:00 :/home/dobin/data/STAR/STARcode/STAR.master/source\n",
      "May 23 19:38:39 ..... started STAR run\n",
      "May 23 19:38:39 ..... loading genome\n",
      "May 23 19:39:16 ..... started mapping\n",
      "May 23 19:44:30 ..... finished mapping\n",
      "May 23 19:44:30 ..... started sorting BAM\n",
      "May 23 19:45:30 ..... finished successfully\n",
      "...done\n",
      "====== Processing sampleID: SRR12730411...\n",
      "\tSTAR --runThreadN 45 --runMode alignReads --genomeDir /shared/projects/2312_rnaseq_cea/allData/Reference/indexes_upto99bases/ --readFilesIn /shared/projects/2312_rnaseq_cea/allData/Results/fastp/SRR12730411_1.fastp.fastq.gz /shared/projects/2312_rnaseq_cea/allData/Results/fastp/SRR12730411_2.fastp.fastq.gz --readFilesCommand zcat --outFileNamePrefix /shared/projects/2312_rnaseq_cea/allData/Results/star/SRR12730411_ --outSAMtype BAM SortedByCoordinate --outSAMattributes All --outReadsUnmapped Fastx --limitBAMsortRAM 50000000000 --quantMode GeneCounts\n",
      "\tSTAR version: 2.7.10b   compiled: 2022-11-01T09:53:26-04:00 :/home/dobin/data/STAR/STARcode/STAR.master/source\n",
      "May 23 19:45:36 ..... started STAR run\n",
      "May 23 19:45:36 ..... loading genome\n",
      "May 23 19:46:12 ..... started mapping\n",
      "May 23 19:50:34 ..... finished mapping\n",
      "May 23 19:50:35 ..... started sorting BAM\n",
      "May 23 19:51:31 ..... finished successfully\n",
      "...done\n",
      "====== Processing sampleID: SRR12730412...\n",
      "\tSTAR --runThreadN 45 --runMode alignReads --genomeDir /shared/projects/2312_rnaseq_cea/allData/Reference/indexes_upto99bases/ --readFilesIn /shared/projects/2312_rnaseq_cea/allData/Results/fastp/SRR12730412_1.fastp.fastq.gz /shared/projects/2312_rnaseq_cea/allData/Results/fastp/SRR12730412_2.fastp.fastq.gz --readFilesCommand zcat --outFileNamePrefix /shared/projects/2312_rnaseq_cea/allData/Results/star/SRR12730412_ --outSAMtype BAM SortedByCoordinate --outSAMattributes All --outReadsUnmapped Fastx --limitBAMsortRAM 50000000000 --quantMode GeneCounts\n",
      "\tSTAR version: 2.7.10b   compiled: 2022-11-01T09:53:26-04:00 :/home/dobin/data/STAR/STARcode/STAR.master/source\n",
      "May 23 19:51:36 ..... started STAR run\n",
      "May 23 19:51:37 ..... loading genome\n",
      "May 23 19:52:14 ..... started mapping\n",
      "May 23 20:01:48 ..... finished mapping\n",
      "May 23 20:01:49 ..... started sorting BAM\n",
      "May 23 20:03:06 ..... finished successfully\n",
      "...done\n",
      "====== Processing sampleID: SRR12730413...\n",
      "\tSTAR --runThreadN 45 --runMode alignReads --genomeDir /shared/projects/2312_rnaseq_cea/allData/Reference/indexes_upto99bases/ --readFilesIn /shared/projects/2312_rnaseq_cea/allData/Results/fastp/SRR12730413_1.fastp.fastq.gz /shared/projects/2312_rnaseq_cea/allData/Results/fastp/SRR12730413_2.fastp.fastq.gz --readFilesCommand zcat --outFileNamePrefix /shared/projects/2312_rnaseq_cea/allData/Results/star/SRR12730413_ --outSAMtype BAM SortedByCoordinate --outSAMattributes All --outReadsUnmapped Fastx --limitBAMsortRAM 50000000000 --quantMode GeneCounts\n",
      "\tSTAR version: 2.7.10b   compiled: 2022-11-01T09:53:26-04:00 :/home/dobin/data/STAR/STARcode/STAR.master/source\n",
      "May 23 20:03:12 ..... started STAR run\n",
      "May 23 20:03:12 ..... loading genome\n",
      "May 23 20:03:49 ..... started mapping\n",
      "May 23 20:12:14 ..... finished mapping\n",
      "May 23 20:12:15 ..... started sorting BAM\n",
      "May 23 20:13:24 ..... finished successfully\n",
      "...done\n",
      "\n",
      "real\t99m46.872s\n",
      "user\t1266m59.278s\n",
      "sys\t74m40.319s\n",
      "STAR generated 88 files during this step.\n"
     ]
    }
   ],
   "source": [
    "## Code cell 33 ##\n",
    "\n",
    "echo \"Screen output is redirected to ${logfile}\"\n",
    "\n",
    "# as time command does not redirect output\n",
    "echo \"operation starts at $(date)\" >> ${logfile}\n",
    "\n",
    "time for read1 in $(ls \"${gohome}allData/Results/fastp/\"*_1.fastp.fastq.gz); do\n",
    "\n",
    "    # handling names with the sample name\n",
    "    samplenum=$(basename ${read1} | cut -d\"_\" -f1)\n",
    "    echo \"====== Processing sampleID: ${samplenum}...\" | tee -a ${logfile}\n",
    "    read2=$(echo ${read1} | sed 's#_1#_2#')\n",
    "\n",
    "    echo \"STAR starts at $(date)\" >> ${logfile}\n",
    "    # STAR working\n",
    "    STAR --runThreadN ${authorizedCPU} --runMode alignReads \\\n",
    "        --genomeDir \"${indexfolder}\" \\\n",
    "        --readFilesIn \"${read1}\" \"${read2}\" \\\n",
    "        --readFilesCommand zcat \\\n",
    "        --outFileNamePrefix \"${mappedfolder}${samplenum}_\" \\\n",
    "        --outSAMtype BAM SortedByCoordinate \\\n",
    "        --outSAMattributes All \\\n",
    "        --outReadsUnmapped Fastx \\\n",
    "        --limitBAMsortRAM ${authorizedRAM} \\\n",
    "        --quantMode GeneCounts \\\n",
    "        |& tee -a ${logfile}\n",
    "    echo \"STAR ends at $(date)\" >> ${logfile}\n",
    "    \n",
    "    echo \"...done\" | tee -a ${logfile} \n",
    "    \n",
    "done\n",
    "echo \"operation ends at $(date)\" >> ${logfile}\n",
    "\n",
    "echo \"=== files created during mapping step ===\" >> ${logfile}\n",
    "ls -lh \"${mappedfolder}\" >> ${logfile}\n",
    "\n",
    "echo \"STAR generated $(ls \"${mappedfolder}\" | wc -l) files during this step.\" \\\n",
    "     | tee -a ${logfile}"
   ]
  },
  {
   "cell_type": "markdown",
   "metadata": {},
   "source": [
    "### **3.4 - Additionnal lines to perform single sample mapping**"
   ]
  },
  {
   "cell_type": "markdown",
   "metadata": {},
   "source": [
    "If you have only one sample to map, or if mapping failed for one sample, here is an additional Code cell without the loop:<a id=\"supplementalmapping\"></a>\n",
    "\n",
    "This additional cell can also be used to test mapping at transcript level:      \n",
    "option ``--quantMode TranscriptomeSAM GeneCounts`` "
   ]
  },
  {
   "cell_type": "raw",
   "metadata": {},
   "source": [
    "## (Code cell 34) ##\n",
    "\n",
    "read1=\"${gohome}Results/fastp/SRR12730403_1.fastp.fastq.gz\"\n",
    "\n",
    "samplenum=$(basename ${read1} | cut -d\"_\" -f1)\n",
    "echo \"====== Processing sampleID: ${samplenum} for transcript-level mapping...\" | tee -a ${logfile}\n",
    "read2=$(echo ${read1} | sed 's#_1#_2#')\n",
    "\n",
    "echo \"STAR starts at $(date)\" >> ${logfile}\n",
    "# STAR working\n",
    "STAR --runThreadN ${authorizedCPU} --runMode alignReads \\\n",
    "    --genomeDir \"${indexfolder}\" \\\n",
    "    --readFilesIn \"${read1}\" \"${read2}\" \\\n",
    "    --readFilesCommand zcat \\\n",
    "    --outFileNamePrefix \"${mappedfolder}${samplenum}_transcripts_\" \\\n",
    "    --outSAMtype BAM SortedByCoordinate \\\n",
    "    --outSAMattributes All \\\n",
    "    --outReadsUnmapped Fastx \\\n",
    "    --limitBAMsortRAM ${authorizedRAM} \\\n",
    "    --quantMode TranscriptomeSAM GeneCounts \\\n",
    "    |& tee -a ${logfile}\n",
    "echo \"STAR ends at $(date)\" >> ${logfile}\n",
    "\n",
    "echo \"...done\" | tee -a ${logfile}\n",
    "\n",
    "echo \"=== files created during SRR7430706 mapping step ===\" >> ${logfile}"
   ]
  },
  {
   "cell_type": "markdown",
   "metadata": {},
   "source": [
    "Then you can verify the output files with the name of the sample:"
   ]
  },
  {
   "cell_type": "raw",
   "metadata": {},
   "source": [
    "## (Code cell 35) ##\n",
    "\n",
    "ls -lh \"${mappedfolder}\" | grep \"SRR12730403\" >> ${logfile}"
   ]
  },
  {
   "cell_type": "markdown",
   "metadata": {},
   "source": [
    "## 4 - Building samples ``.bam`` indexes with ``samtools``\n",
    "\n",
    "We now have to index ``.bam`` files to produce the companion ``.bai`` file. Such files help, in particular, to go faster to visualize alignements ``.bam`` file in genome browser viewer."
   ]
  },
  {
   "cell_type": "markdown",
   "metadata": {},
   "source": [
    "### **4.1 - Tool version**"
   ]
  },
  {
   "cell_type": "markdown",
   "metadata": {},
   "source": [
    "The commands used for this part belong to a large package of utilities that are very useful to manage those types of files: SAMTOOLS (http://www.htslib.org/).\n",
    "\n",
    "Let's check first which version of SAMTOOLS we are using:"
   ]
  },
  {
   "cell_type": "code",
   "execution_count": 13,
   "metadata": {},
   "outputs": [
    {
     "name": "stdout",
     "output_type": "stream",
     "text": [
      "samtools 1.15.1\n",
      "Using htslib 1.15.1\n",
      "Copyright (C) 2022 Genome Research Ltd.\n",
      "\n",
      "Samtools compilation details:\n",
      "    Features:       build=configure curses=yes \n",
      "    CC:             /opt/conda/conda-bld/samtools_1649352267887/_build_env/bin/x86_64-conda-linux-gnu-cc\n",
      "    CPPFLAGS:       -DNDEBUG -D_FORTIFY_SOURCE=2 -O2 -isystem /shared/ifbstor1/software/miniconda/envs/samtools-1.15.1/include\n",
      "    CFLAGS:         -Wall -march=nocona -mtune=haswell -ftree-vectorize -fPIC -fstack-protector-strong -fno-plt -O2 -ffunction-sections -pipe -isystem /shared/ifbstor1/software/miniconda/envs/samtools-1.15.1/include -fdebug-prefix-map=/opt/conda/conda-bld/samtools_1649352267887/work=/usr/local/src/conda/samtools-1.15.1 -fdebug-prefix-map=/shared/ifbstor1/software/miniconda/envs/samtools-1.15.1=/usr/local/src/conda-prefix\n",
      "    LDFLAGS:        -Wl,-O2 -Wl,--sort-common -Wl,--as-needed -Wl,-z,relro -Wl,-z,now -Wl,--disable-new-dtags -Wl,--gc-sections -Wl,--allow-shlib-undefined -Wl,-rpath,/shared/ifbstor1/software/miniconda/envs/samtools-1.15.1/lib -Wl,-rpath-link,/shared/ifbstor1/software/miniconda/envs/samtools-1.15.1/lib -L/shared/ifbstor1/software/miniconda/envs/samtools-1.15.1/lib\n",
      "    HTSDIR:         \n",
      "    LIBS:           \n",
      "    CURSES_LIB:     -ltinfow -lncursesw\n",
      "\n",
      "HTSlib compilation details:\n",
      "    Features:       build=configure plugins=yes, plugin-path=/shared/ifbstor1/software/miniconda/envs/samtools-1.15.1/libexec/htslib libcurl=yes S3=yes GCS=yes libdeflate=yes lzma=yes bzip2=yes htscodecs=1.2.2\n",
      "    CC:             /opt/conda/conda-bld/htslib_1649384579568/_build_env/bin/x86_64-conda-linux-gnu-cc\n",
      "    CPPFLAGS:       -DNDEBUG -D_FORTIFY_SOURCE=2 -O2 -isystem /shared/ifbstor1/software/miniconda/envs/samtools-1.15.1/include\n",
      "    CFLAGS:         -Wall -march=nocona -mtune=haswell -ftree-vectorize -fPIC -fstack-protector-strong -fno-plt -O2 -ffunction-sections -pipe -isystem /shared/ifbstor1/software/miniconda/envs/samtools-1.15.1/include -fdebug-prefix-map=/opt/conda/conda-bld/htslib_1649384579568/work=/usr/local/src/conda/htslib-1.15.1 -fdebug-prefix-map=/shared/ifbstor1/software/miniconda/envs/samtools-1.15.1=/usr/local/src/conda-prefix -fvisibility=hidden\n",
      "    LDFLAGS:        -Wl,-O2 -Wl,--sort-common -Wl,--as-needed -Wl,-z,relro -Wl,-z,now -Wl,--disable-new-dtags -Wl,--gc-sections -Wl,--allow-shlib-undefined -Wl,-rpath,/shared/ifbstor1/software/miniconda/envs/samtools-1.15.1/lib -Wl,-rpath-link,/shared/ifbstor1/software/miniconda/envs/samtools-1.15.1/lib -L/shared/ifbstor1/software/miniconda/envs/samtools-1.15.1/lib -fvisibility=hidden -rdynamic\n",
      "\n",
      "HTSlib URL scheme handlers present:\n",
      "    built-in:\t preload, data, file\n",
      "    S3 Multipart Upload:\t s3w, s3w+https, s3w+http\n",
      "    libcurl:\t imaps, pop3, gophers, http, smb, gopher, sftp, ftps, imap, smtp, smtps, rtsp, scp, ftp, telnet, mqtt, https, smbs, tftp, pop3s, dict\n",
      "    Amazon S3:\t s3+https, s3+http, s3\n",
      "    Google Cloud Storage:\t gs+http, gs+https, gs\n",
      "    crypt4gh-needed:\t crypt4gh\n",
      "    mem:\t mem\n"
     ]
    }
   ],
   "source": [
    "## Code cell 36 ##\n",
    "\n",
    "samtools --version"
   ]
  },
  {
   "cell_type": "markdown",
   "metadata": {},
   "source": [
    "Simple commandline syntax is: <code>samtools index path/to/file.bam</code>\n",
    "  \n",
    "There is no need to provide a name of the ouput file, as it should always be the same as the corresponding ``.bam`` file, expect for the added ``.bai`` suffix."
   ]
  },
  {
   "cell_type": "markdown",
   "metadata": {
    "tags": []
   },
   "source": [
    "### **4.2 - Creating files**"
   ]
  },
  {
   "cell_type": "markdown",
   "metadata": {},
   "source": [
    "The only variable we need is the folder where ``.bam`` produced by <code>STAR</code> files are saved:"
   ]
  },
  {
   "cell_type": "code",
   "execution_count": 24,
   "metadata": {},
   "outputs": [
    {
     "name": "stdout",
     "output_type": "stream",
     "text": [
      "/shared/projects/2312_rnaseq_cea/scaburet/Results/star/\n"
     ]
    }
   ],
   "source": [
    "## Code cell 37 ##\n",
    "\n",
    "echo ${mappedfolder}"
   ]
  },
  {
   "cell_type": "markdown",
   "metadata": {},
   "source": [
    "Now, we use a loop to perform ``_Aligned.sortedByCoord.out.bam`` files indexation:"
   ]
  },
  {
   "cell_type": "code",
   "execution_count": 15,
   "metadata": {},
   "outputs": [
    {
     "name": "stdout",
     "output_type": "stream",
     "text": [
      "Screen output is redirected to /shared/projects/2312_rnaseq_cea/allData/Results/logfiles/samtools_indexing_samples.log\n",
      "====== Processing sampleID: SRR12730403...\n",
      "...done\n",
      "====== Processing sampleID: SRR12730404...\n",
      "...done\n",
      "====== Processing sampleID: SRR12730405...\n",
      "...done\n",
      "====== Processing sampleID: SRR12730406...\n",
      "...done\n",
      "====== Processing sampleID: SRR12730407...\n",
      "...done\n",
      "====== Processing sampleID: SRR12730408...\n",
      "...done\n",
      "====== Processing sampleID: SRR12730409...\n",
      "...done\n",
      "====== Processing sampleID: SRR12730410...\n",
      "...done\n",
      "====== Processing sampleID: SRR12730411...\n",
      "...done\n",
      "====== Processing sampleID: SRR12730412...\n",
      "...done\n",
      "====== Processing sampleID: SRR12730413...\n",
      "...done\n",
      "\n",
      "real\t12m30.564s\n",
      "user\t12m4.415s\n",
      "sys\t0m24.725s\n",
      "samtools index generated 11 files during this step.\n"
     ]
    }
   ],
   "source": [
    "## Code cell 38 ##\n",
    "\n",
    "logfile=\"${logfolder}samtools_indexing_samples.log\"\n",
    "echo \"Screen output is redirected to ${logfile}\"\n",
    "\n",
    "# as time command does not redirect output\n",
    "echo \"operation starts at $(date)\" >> ${logfile}\n",
    "\n",
    "time for bamfile in $(ls \"${mappedfolder}\"*_Aligned.sortedByCoord.out.bam); do\n",
    "\n",
    "    samplenum=$(basename ${bamfile} | cut -d\"_\" -f1)\n",
    "    echo \"====== Processing sampleID: ${samplenum}...\" | tee -a ${logfile}\n",
    "    \n",
    "    echo \"samtools index starts at $(date)\" >> ${logfile}\n",
    "    samtools index \"${bamfile}\" \\\n",
    "             &>> ${logfile}\n",
    "    echo \"samtools index ends at $(date)\" >> ${logfile}\n",
    "    \n",
    "    echo \"...done\" | tee -a ${logfile} \n",
    "    \n",
    "done\n",
    "echo \"operation ends at $(date)\" >> ${logfile}\n",
    "\n",
    "echo \"=== files created during indexing step ===\" >> ${logfile}\n",
    "ls -lh \"${mappedfolder}\"*.bai >> ${logfile}\n",
    "\n",
    "echo \"samtools index generated $(ls \"${mappedfolder}\"*.bai | wc -l) files during this step.\" \\\n",
    "     | tee -a ${logfile}"
   ]
  },
  {
   "cell_type": "markdown",
   "metadata": {},
   "source": [
    "<div class=\"alert alert-block alert-warning\">\n",
    "    If one or more <code>.bai</code> files are missing, there should be an error in their matched <code>.bam</code> file. You then have a look into the generated <code>.log</code> file. <br>\n",
    "    When there is not enough disk space during mapping process, <code>.bam</code> file may be incomplete: you can find <i>missing EOF block when one should be present</i> error for this sample. <br>\n",
    "    In fact,you have to ensure before you start the mapping step that you have at least 5 times more space than one sample <code>.fastq</code> files size (or 10 times if you activate <code>TranscriptomeSAM</code> along with <code>GeneCounts</code>).\n",
    "</div>"
   ]
  },
  {
   "cell_type": "markdown",
   "metadata": {},
   "source": [
    "## 5 - Keep track of disk space usage"
   ]
  },
  {
   "cell_type": "code",
   "execution_count": 18,
   "metadata": {},
   "outputs": [
    {
     "name": "stdout",
     "output_type": "stream",
     "text": [
      "1.3M\t/shared/projects/2312_rnaseq_cea/scaburet/Results/multiqc/2_fastp-fastq-files-3samples_plots\n",
      "1.8M\t/shared/projects/2312_rnaseq_cea/scaburet/Results/multiqc/3_fastp-fastq-files_with_fastqscreen-3samples_data\n",
      "1.3M\t/shared/projects/2312_rnaseq_cea/scaburet/Results/multiqc/3_fastp-fastq-files_with_fastqscreen-3samples_plots\n",
      "1.8M\t/shared/projects/2312_rnaseq_cea/scaburet/Results/multiqc/3_fastp-fastq-files_with_fastqscreen-3samples_data_1\n",
      "480K\t/shared/projects/2312_rnaseq_cea/scaburet/Results/multiqc/1_raw-fastq-files_data\n",
      "1.3M\t/shared/projects/2312_rnaseq_cea/scaburet/Results/multiqc/3_fastp-fastq-files_with_fastqscreen-3samples_plots_1\n",
      "972K\t/shared/projects/2312_rnaseq_cea/scaburet/Results/multiqc/1_raw-fastq-files_plots\n",
      "1.8M\t/shared/projects/2312_rnaseq_cea/scaburet/Results/multiqc/2_fastp-fastq-files-3samples_data\n",
      "1.1M\t/shared/projects/2312_rnaseq_cea/scaburet/Results/multiqc/.ipynb_checkpoints\n",
      "18M\t/shared/projects/2312_rnaseq_cea/scaburet/Results/multiqc\n",
      "8.0K\t/shared/projects/2312_rnaseq_cea/scaburet/Results/star-old/SRR12730403__STARtmp\n",
      "4.0K\t/shared/projects/2312_rnaseq_cea/scaburet/Results/star-old/.ipynb_checkpoints\n",
      "8.0K\t/shared/projects/2312_rnaseq_cea/scaburet/Results/star-old/SRR12730404__STARtmp\n",
      "8.0K\t/shared/projects/2312_rnaseq_cea/scaburet/Results/star-old/SRR12730405__STARtmp\n",
      "32K\t/shared/projects/2312_rnaseq_cea/scaburet/Results/star-old\n",
      "9.4G\t/shared/projects/2312_rnaseq_cea/scaburet/Results/fastp\n",
      "56K\t/shared/projects/2312_rnaseq_cea/scaburet/Results/logfiles/.ipynb_checkpoints\n",
      "136K\t/shared/projects/2312_rnaseq_cea/scaburet/Results/logfiles\n",
      "4.0K\t/shared/projects/2312_rnaseq_cea/scaburet/Results/fastqc/.ipynb_checkpoints\n",
      "5.7M\t/shared/projects/2312_rnaseq_cea/scaburet/Results/fastqc\n",
      "23G\t/shared/projects/2312_rnaseq_cea/scaburet/Results/star\n",
      "4.0K\t/shared/projects/2312_rnaseq_cea/scaburet/Results/.ipynb_checkpoints\n",
      "20M\t/shared/projects/2312_rnaseq_cea/scaburet/Results/fastq_screen\n",
      "32G\t/shared/projects/2312_rnaseq_cea/scaburet/Results\n",
      "9.0G\t/shared/projects/2312_rnaseq_cea/scaburet/Data/fastq/raw\n",
      "9.0G\t/shared/projects/2312_rnaseq_cea/scaburet/Data/fastq\n",
      "3.7G\t/shared/projects/2312_rnaseq_cea/scaburet/Data/sra/SRR12730403\n",
      "3.0G\t/shared/projects/2312_rnaseq_cea/scaburet/Data/sra/SRR12730404\n",
      "2.7G\t/shared/projects/2312_rnaseq_cea/scaburet/Data/sra/SRR12730405\n",
      "9.2G\t/shared/projects/2312_rnaseq_cea/scaburet/Data/sra\n",
      "12K\t/shared/projects/2312_rnaseq_cea/scaburet/Data/.ipynb_checkpoints\n",
      "19G\t/shared/projects/2312_rnaseq_cea/scaburet/Data\n",
      "4.0K\t/shared/projects/2312_rnaseq_cea/scaburet/.ipynb_checkpoints\n",
      "50G\t/shared/projects/2312_rnaseq_cea/scaburet\n",
      "50G\ttotal\n"
     ]
    }
   ],
   "source": [
    "du -ch -d3 ${gohome}$USER"
   ]
  },
  {
   "cell_type": "markdown",
   "metadata": {},
   "source": [
    "For current project, we can use up to 70 Gb in each personal folder. Next steps are less space consuming, but nervetheless, we will be able to delete the initial fastq.gz files when the mapping is verified (next session)."
   ]
  },
  {
   "cell_type": "markdown",
   "metadata": {},
   "source": [
    "---\n",
    "___\n",
    "\n",
    "Now we go on to check mapping quality.  \n",
    "  \n",
    "**=> Step 5: Post mapping Quality check** "
   ]
  },
  {
   "cell_type": "markdown",
   "metadata": {},
   "source": [
    "The jupyter notebook used for the next session will be *Pipe_5-bash_mapping-quality.ipynb*    \n",
    "Let's retrieve it in our directory, in order to have a private copy to work on:   "
   ]
  },
  {
   "cell_type": "code",
   "execution_count": 25,
   "metadata": {
    "tags": []
   },
   "outputs": [],
   "source": [
    "## Code cell 38 ##   \n",
    "\n",
    "cp \"${gohome}pipeline/Pipe_5-bash_mapping-quality.ipynb\" \"${gohome}$USER/\""
   ]
  },
  {
   "cell_type": "markdown",
   "metadata": {
    "tags": []
   },
   "source": [
    "Bénédicte Noblet - 05-07 2021   \n",
    "Sandrine Caburet - 02-05 2023   \n",
    "Maj 24/05/2023"
   ]
  }
 ],
 "metadata": {
  "kernelspec": {
   "display_name": "Bash",
   "language": "bash",
   "name": "bash"
  },
  "language_info": {
   "codemirror_mode": "shell",
   "file_extension": ".sh",
   "mimetype": "text/x-sh",
   "name": "bash"
  },
  "toc-showcode": false
 },
 "nbformat": 4,
 "nbformat_minor": 4
}

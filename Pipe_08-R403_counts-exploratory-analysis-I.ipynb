{
 "cells": [
  {
   "cell_type": "markdown",
   "id": "c869887a-113a-415d-9d51-2622ea5291e5",
   "metadata": {
    "tags": []
   },
   "source": [
    "# Formation RNAseq CEA - juin 2023\n",
    "\n",
    "*Enseignantes: Sandrine Caburet et Claire Vandiedonck*\n",
    "\n",
    "Session IFB : 5 CPU + 21 GB de RAM\n",
    "\n",
    "# Part 8: Exploratory analysis I (before normalisation)"
   ]
  },
  {
   "cell_type": "markdown",
   "id": "28bf4a39-938b-4d60-a6aa-750a719950fa",
   "metadata": {},
   "source": [
    "   \n",
    "\n",
    "- 0. 1 - Setting up this R session on IFB core cluster\n",
    "- 0. 2 - Parameters to be set or modified by the user\n",
    "- 1 - Loading input data and metadata\n",
    "- 2 - Quality assessment\n",
    "- 3 - Saving our results"
   ]
  },
  {
   "cell_type": "markdown",
   "id": "ddca799a-eb36-4fff-a5b8-b922023f72e2",
   "metadata": {},
   "source": [
    "---\n",
    "## **Before going further**\n",
    "\n",
    "<div class=\"alert alert-block alert-danger\"><b>Caution:</b> \n",
    "Before starting the analysis, save a backup copy of this notebok : in the left-hand panel, right-click on this file and select \"Duplicate\"<br>\n",
    "You can also make backups during the analysis. Don't forget to save your notebook regularly: <kbd>Ctrl</kbd> + <kbd>S</kbd> or click on the 💾 icon.\n",
    "</div>"
   ]
  },
  {
   "cell_type": "markdown",
   "id": "5f87bbeb-1b9e-406b-a873-a92cca0918e7",
   "metadata": {},
   "source": [
    "<div class=\"alert alert-block alert-warning\"><b>Warning:</b>You are strongly advised to run the cells in the indicated order. If you want to rerun cells above, you can just restart the kernel to start at 1 again. </div>"
   ]
  },
  {
   "cell_type": "markdown",
   "id": "e541b5ec-0832-41fe-949c-a9a0afc61e56",
   "metadata": {},
   "source": [
    "---\n",
    "---\n",
    "## 0. Set up parameters and RSession\n",
    "\n",
    "---\n",
    "\n",
    "### 0.1 - Setting up this R session on IFB core cluster\n",
    "\n",
    "<em>loaded JupyterLab</em> : Version 3.2.1"
   ]
  },
  {
   "cell_type": "markdown",
   "id": "c485b791-8bf5-4814-8937-ac12a71c5ad4",
   "metadata": {},
   "source": [
    "#### **0.1-a. Jupyter session**\n",
    "\n",
    "Just as in a bash notebook, we can have information about the number of threads available for this session. To do so, we will use the `system()`function in R which executes bash commands."
   ]
  },
  {
   "cell_type": "code",
   "execution_count": null,
   "id": "e4514d95-89dc-489f-98cc-028ebea62cd5",
   "metadata": {
    "tags": []
   },
   "outputs": [],
   "source": [
    "## Code cell 1 ##\n",
    "\n",
    "session_parameters <- function(){\n",
    "    \n",
    "    jupytersession <- c(system('echo \"=== Cell launched on $(date) ===\"', intern = TRUE),\n",
    "                        system('squeue -hu $USER', intern = TRUE))\n",
    "    \n",
    "    jobid <- system(\"squeue -hu $USER | awk '/jupyter/ {print $1}'\", intern = TRUE)\n",
    "    jupytersession <- c(jupytersession,\n",
    "                        \"=== Current IFB session size: Medium (5CPU, 21 GB) ===\",\n",
    "                        system(paste(\"sacct --format=JobID,AllocCPUS,NODELIST -j\", jobid), intern = TRUE))\n",
    "    print(jupytersession[1:6])\n",
    "    \n",
    "    return(invisible(NULL))\n",
    "}\n",
    "\n",
    "session_parameters()"
   ]
  },
  {
   "cell_type": "markdown",
   "id": "fcff9441-53c0-44f4-ab87-9f0a4a8ae1fe",
   "metadata": {},
   "source": [
    "__\n",
    "\n",
    "#### **0.1-b. R session**\n",
    "\n",
    "Next we load into this R session the various packages that we will use.\n",
    "\n",
    "\n",
    "<div class=\"alert alert-block alert-info\"> <b> Info on packages: </b><br>\n",
    "    \n",
    "Since this is the first time during this course we are using R packages, the next code cells 2-5 will explain you some basic commands to deal with R packages. </div>\n",
    "\n",
    "In R we can call packages with some functions to do special analyses.\n",
    "To call such a package, the usual command is `library(name_of_the_package)`. It works if the package is already installed on your computer/server, otherwise you have to install it from the main R repository called CRAN (https://cran.r-project.org/). The main function to install R packages is `install.packages()`. Some packages are not available via the CRAN package repository, specifically the ones used in bioinformatic analyses, but via ***Bioconductor***. In order to install a package from Bioconductor, you need to install the `BiocManager` package first, then use its fonction install(). An example of the commands to use is provided in cell code 5."
   ]
  },
  {
   "cell_type": "markdown",
   "id": "2642cf70-c151-44ac-89fc-534c5305ba06",
   "metadata": {},
   "source": [
    "- We can first identify the directories, called ***libraries***, where these packages are installed. "
   ]
  },
  {
   "cell_type": "code",
   "execution_count": null,
   "id": "6f75fbac-6f70-4237-b958-c9a74120a613",
   "metadata": {},
   "outputs": [],
   "source": [
    "## Code cell 2 ##\n",
    "\n",
    ".libPaths()"
   ]
  },
  {
   "cell_type": "markdown",
   "id": "6e3923f8-efa1-4399-b43e-405fd128b58c",
   "metadata": {},
   "source": [
    "If this is the first time you are using R on the IFB core cluster or you never installed packages before, the previous command should return only one folder, readable by all IFB users. It should be : `/shared/ifbstor1/software/miniconda/envs/r-4.0.3/lib/R/library`.\n",
    "\n",
    "If you have already installed R packages, you should see another folder in your home directory, most likely with this absolute path: `/shared/ifbstor1/home/mylogin/R/x86_64-conda-linux-gnu-library/4.0` *(for R versions 4.0)*."
   ]
  },
  {
   "cell_type": "markdown",
   "id": "d316a97e-b618-48b0-93a0-35b954cb5b9a",
   "metadata": {},
   "source": [
    "- You can see how many **packages were already installed on the IFB core cluster** with the following command:"
   ]
  },
  {
   "cell_type": "code",
   "execution_count": null,
   "id": "787d7fca-c5e7-4f8f-9377-74caea7ed2de",
   "metadata": {},
   "outputs": [],
   "source": [
    "## Code cell 3 ##\n",
    "\n",
    "length(list.files(\"/shared/ifbstor1/software/miniconda/envs/r-4.0.3/lib/R/library\"))# modifier l'indice selon le repertoire souhaité"
   ]
  },
  {
   "cell_type": "markdown",
   "id": "e2247c7f-4ed7-49b8-a72b-fd4501b82243",
   "metadata": {},
   "source": [
    "That is an impressive number! It is most likely that the packages you need wer alerady installed!\n",
    "\n",
    "- To know **which packages were aleardy installed**, you can either go to the corresponding folder, or use the R function `installed.packages()` which will return all packages installed with a lot of information. The most interesting ones are in the fisrt three columns, with the name, the version and the library path. We can see how it looks like for the first packages with the command `head()`."
   ]
  },
  {
   "cell_type": "code",
   "execution_count": null,
   "id": "dc4031e0-c1dd-4273-9c83-d58176d4ae95",
   "metadata": {},
   "outputs": [],
   "source": [
    "## Code cell 4 ##\n",
    "\n",
    "head(installed.packages()[,c(1,2,3)])"
   ]
  },
  {
   "cell_type": "markdown",
   "id": "2ce9dfb1-5b4a-4679-b329-1b6a1bfe4315",
   "metadata": {},
   "source": [
    "- **If your package of interest was not yet installed on the IFB cluster, you have two options:**\n",
    "\n",
    "1. either you ask them to install it for you *(and all other users)* using the community forum. They are quite reactive and this would be a good option to make sure all dependecies are correctly installed together with your package.\n",
    "\n",
    "2. or you install it in your home directory.\n",
    "\n",
    "\n",
    "If you go for the second option because you are in a rush with your analyses, you may skip the above commands and just try to install it, only if needed.\n",
    "\n",
    "The following command lines using `require` and a condition with `if()` will install the package only if it is not already there!<br>\n",
    "<span style=\"color:red\">It is good practice to have such a command at the top of your notebook/script when you are doing analyses in R.</span>"
   ]
  },
  {
   "cell_type": "code",
   "execution_count": null,
   "id": "ec022ae8-f4b1-4d63-864d-4ec41aa005af",
   "metadata": {
    "tags": []
   },
   "outputs": [],
   "source": [
    "## Code cell 5 ##\n",
    "\n",
    "# list the required libraries from the CRAN repository\n",
    "requiredLib <- c(\n",
    "    \"ggfortify\",\n",
    "    \"ggrepel\",\n",
    "    \"RColorBrewer\",\n",
    "    \"ggplot2\",\n",
    "    \"stringr\",\n",
    "    \"matrixStats\",\n",
    "    \"BiocManager\"\n",
    ")\n",
    "\n",
    "# list the required libraries from the Bioconductor project\n",
    "requiredBiocLib <- c(\"affy\")\n",
    "\n",
    "# install required libraries if not yet installed\n",
    "for (lib in requiredLib) {\n",
    "  if (!require(lib, character.only = TRUE, quiet = TRUE)) {\n",
    "    install.packages(lib, quiet = TRUE)\n",
    "  }\n",
    "}\n",
    "\n",
    "for( lib in requiredBiocLib) {\n",
    "  if (!require(lib, character.only = TRUE, quiet = TRUE)) {\n",
    "  BiocManager::install(lib, quiet = TRUE)\n",
    "  }\n",
    "}\n",
    "\n",
    "# load libraries\n",
    "message(\"Loading required libraries\")\n",
    "for (lib in requiredLib) {\n",
    "  library(lib, character.only = TRUE)}\n",
    "for (lib in requiredBiocLib) {\n",
    "  library(lib, character.only = TRUE)}\n",
    "\n",
    "# remove variables from the R session if they are no longer necessary \n",
    "rm(lib, requiredLib, requiredBiocLib)"
   ]
  },
  {
   "cell_type": "markdown",
   "id": "b7831112-60a9-4174-82fb-5d793b5af345",
   "metadata": {},
   "source": [
    "\n",
    "\n",
    "<div class=\"alert alert-block alert-warning\"><b>Warning:</b><ul>\n",
    "    <li><b><i>DO NOT worry</i></b> if you see a large red output!! </b> You should see this large red output only once, when the relevant packages are installed in your home directory (. Afterwards, they will be detected as present, and this large red output won't show if you run the cell another time. <il>\n",
    " <li><b><i> DO NOT panic </i></b> if you see a warning in the output: such commands return sometimes warnings that can arise due to changes in R versions, but as a general rule the functions in these packages will still work.<il>\n",
    "     </div>"
   ]
  },
  {
   "cell_type": "markdown",
   "id": "fba94197-dfbe-41b0-b038-0eb38fc560aa",
   "metadata": {},
   "source": [
    "The next command will return the versions for R and R-packages used in your current R session. You can check that the packages called in a previous command are indeed loaded:"
   ]
  },
  {
   "cell_type": "code",
   "execution_count": null,
   "id": "cab16e1f-e4a2-4aaa-b519-c8eaa74e9f25",
   "metadata": {
    "tags": []
   },
   "outputs": [],
   "source": [
    "## Code cell 6 ##   \n",
    "\n",
    "cat(\"---Here are the info of my R session with the loaded packages:\\n\")\n",
    "sessionInfo()"
   ]
  },
  {
   "cell_type": "markdown",
   "id": "f3b7a956-e455-4318-9d0f-0c2ba2b3c4d6",
   "metadata": {},
   "source": [
    "It looks ok and we can start the analysis!"
   ]
  },
  {
   "cell_type": "markdown",
   "id": "8e973fa8-40d1-4499-91d3-fc0fa3c37be2",
   "metadata": {
    "tags": []
   },
   "source": [
    "--\n",
    "\n",
    "### 0.2 - Parameters to be set or modified by the user\n",
    "---\n",
    "\n"
   ]
  },
  {
   "cell_type": "markdown",
   "id": "b9f20db7-6f19-4a61-ae68-b534fa14fa1c",
   "metadata": {},
   "source": [
    "- To know you **current working directory**, we use the function ̀`getwd()` (for *get working directory*, equivalent to `pwd` in bash)."
   ]
  },
  {
   "cell_type": "code",
   "execution_count": null,
   "id": "309bb29b-5b78-499c-92fc-d00de815e844",
   "metadata": {},
   "outputs": [],
   "source": [
    "## Code cell 7 ##   \n",
    "\n",
    "getwd()"
   ]
  },
  {
   "cell_type": "markdown",
   "id": "10480f12-c994-4e19-b0fe-e8053886848a",
   "metadata": {
    "jp-MarkdownHeadingCollapsed": true,
    "tags": []
   },
   "source": [
    "<div class=\"alert alert-block alert-info\"> <b> Info on working directory: </b><br>In a Jupyter Hub and a jupyter notebook in R, by default the working directory is where the notebook is opened</div>"
   ]
  },
  {
   "cell_type": "markdown",
   "id": "c9731792-b40f-4152-b57e-fae31ec958b9",
   "metadata": {},
   "source": [
    "- Using a full path with a `/` at the end, **define the folder** of the project as  `gohome` variable, the folder where you work as the `myfolder` variable and the folder with the data `datafolder`:"
   ]
  },
  {
   "cell_type": "code",
   "execution_count": null,
   "id": "2bcc9212-1ef4-443b-b670-847447e7d1d6",
   "metadata": {},
   "outputs": [],
   "source": [
    "## Code cell 8 ##\n",
    "\n",
    "gohome <- \"/shared/projects/2312_rnaseq_cea/\"\n",
    "gohome\n",
    "\n",
    "myfolder <- getwd()\n",
    "myfolder\n",
    "\n",
    "datafolder <- paste0(myfolder, \"/Data/\")\n",
    "datafolder"
   ]
  },
  {
   "cell_type": "markdown",
   "id": "bad225d2-7150-4b9f-b13f-090b3ea04a3b",
   "metadata": {},
   "source": [
    "- With a `/` at the end, define the path to the folder where the results of this initial exploratory analysis will be stored:"
   ]
  },
  {
   "cell_type": "code",
   "execution_count": null,
   "id": "c616b23e-c709-452d-ae75-d03dbd902090",
   "metadata": {},
   "outputs": [],
   "source": [
    "## Code cell 9 ##\n",
    "\n",
    "# creation of the directory, recursive = TRUE is equivalent to the mkdir -p in Unix\n",
    "dir.create(paste0(myfolder,\"/Results/pca1/\"), recursive = TRUE)\n",
    "\n",
    "# storing the path to this output folder in a variable\n",
    "pca1folder <- paste(myfolder,\"/Results/pca1/\", sep = \"\")\n",
    "pca1folder\n",
    "\n",
    "# listing the content of the folder\n",
    "print(system(paste(\"ls -hlt\", pca1folder), intern = TRUE) )"
   ]
  },
  {
   "cell_type": "markdown",
   "id": "6b40c823-72f2-4d55-8cce-c9c695e4d9ca",
   "metadata": {},
   "source": [
    "- Last, we specify the size of the graphical outputs that will be used for all the plots in the notebook.    \n",
    "This setting could be modified at will for each plot. "
   ]
  },
  {
   "cell_type": "code",
   "execution_count": null,
   "id": "1798a716-e6ad-45cf-bf1c-5c45b1bd8be7",
   "metadata": {},
   "outputs": [],
   "source": [
    "## Code cell 10 ##\n",
    "\n",
    "options(repr.plot.width = 15, repr.plot.height = 8)"
   ]
  },
  {
   "cell_type": "markdown",
   "id": "b79bad38-8e2b-470e-81dc-8680119bf739",
   "metadata": {},
   "source": [
    "---\n",
    "## 1 - Loading input data and metadata\n",
    "---"
   ]
  },
  {
   "cell_type": "markdown",
   "id": "f9b123ac-b25e-4327-a424-4039311ecd76",
   "metadata": {},
   "source": [
    "<div class=\"alert alert-block alert-info\"><b>Info:</b><br>\n",
    "In the previous parts of the pipeline, we worked only on three samples. Now that we obtained read counts per features, we have <i>lighter</i> files and we can work on <b> the whole dataset with the 11 samples</b>.</div>"
   ]
  },
  {
   "cell_type": "markdown",
   "id": "c9c6aaa5-b39d-41ab-9250-9235984594fa",
   "metadata": {},
   "source": [
    "We now need two files:   \n",
    "1. the **read counts** produced by featureCounts (as in the Pipe_06 notebook), on all 11 samples   \n",
    "2. a **metadata** file, providing information about the samples, in particular the conditions of the experiment. "
   ]
  },
  {
   "cell_type": "markdown",
   "id": "bab01a8b-7203-4ab1-b789-3210b2e1d24e",
   "metadata": {},
   "source": [
    "We copy both these file in our personal folder from the allData folder with the `file.copy()` function:"
   ]
  },
  {
   "cell_type": "code",
   "execution_count": null,
   "id": "7ca2f218-481e-4945-83a1-0eed116268d2",
   "metadata": {},
   "outputs": [],
   "source": [
    "## Code cell 11 ##\n",
    "\n",
    "file.copy(from = paste0(gohome, \"allData/Results/featurecounts/allSample_paired-unstranded.counts\"),\n",
    "          to = datafolder)\n",
    "file.copy(from = paste0(gohome, \"allData/Data/sampleData-GSE158661.tsv\"),\n",
    "         to = datafolder)"
   ]
  },
  {
   "cell_type": "markdown",
   "id": "51e12318-7ae9-4f7b-a0df-f4d0d0435e64",
   "metadata": {},
   "source": [
    "You should have obtained 2 TRUE output, and the files should appear in your folder in the left column."
   ]
  },
  {
   "cell_type": "markdown",
   "id": "d8cf238e-6c93-498e-b889-9161eaacdafa",
   "metadata": {},
   "source": [
    "### 1.1 - Loading metadata   \n",
    "---\n",
    "\n",
    "We read the tabulated table and we store the data in a dataframe named `samples` in our R session.  \n",
    "The file has column names, so we set `header=TRUE`, and the separator as a tab (<code>sep = \"\\t\"</code>)."
   ]
  },
  {
   "cell_type": "code",
   "execution_count": null,
   "id": "cd8be4c0-4c27-4963-94e9-d1d6e3ae8b8d",
   "metadata": {},
   "outputs": [],
   "source": [
    "## Code cell 12 ##\n",
    "\n",
    "samples <- read.table(paste0(datafolder, \"sampleData-GSE158661.tsv\"),\n",
    "                      sep = \"\\t\",\n",
    "                      header = TRUE,\n",
    "                      stringsAsFactors = FALSE)"
   ]
  },
  {
   "cell_type": "markdown",
   "id": "c1826ae0-d5af-4be3-b83d-d92fc2b1e350",
   "metadata": {},
   "source": [
    "We then look at the class, structure and first rows of the imported file."
   ]
  },
  {
   "cell_type": "code",
   "execution_count": null,
   "id": "9c362df3-3317-4dc0-9050-5547ef2d1812",
   "metadata": {},
   "outputs": [],
   "source": [
    "## Code cell 13 ##\n",
    "\n",
    "class(samples)"
   ]
  },
  {
   "cell_type": "code",
   "execution_count": null,
   "id": "ca4420f9-65f3-4359-a70d-7bce919eace9",
   "metadata": {},
   "outputs": [],
   "source": [
    "## Code cell 14 ##\n",
    "\n",
    "str(samples)"
   ]
  },
  {
   "cell_type": "code",
   "execution_count": null,
   "id": "ea217026-e0cf-4891-ba7a-b65c59cc4d82",
   "metadata": {},
   "outputs": [],
   "source": [
    "## Code cell 15 ##\n",
    "\n",
    "head(samples, n = 12)"
   ]
  },
  {
   "cell_type": "markdown",
   "id": "050d8ae4-c125-4dad-83f6-52f164bb8cbd",
   "metadata": {},
   "source": [
    "Note that samples are in rows and metadata in columns."
   ]
  },
  {
   "cell_type": "markdown",
   "id": "f615b6cf-ecdf-4319-9417-c175a0ec48a8",
   "metadata": {},
   "source": [
    "### 1.2 - Loading counts data   \n",
    "---\n",
    "\n",
    "We read the tabulated table and we store the data in a dataframe named `counts`.   \n",
    "In addition to specifying the separator and the columns names, we also indicate that lines beginning with \"#\" are comments and should be ignored."
   ]
  },
  {
   "cell_type": "code",
   "execution_count": null,
   "id": "541fe4f9-4878-44eb-84d6-1f44c73ce781",
   "metadata": {},
   "outputs": [],
   "source": [
    "## Code cell 16 ##\n",
    "\n",
    "countdata <- read.table(paste0(datafolder, \"allSample_paired-unstranded.counts\"),\n",
    "                     sep = \"\\t\",\n",
    "                     header = TRUE,\n",
    "                     comment=\"#\")"
   ]
  },
  {
   "cell_type": "code",
   "execution_count": null,
   "id": "f324059a-eaf6-422b-9595-8115f1561f2b",
   "metadata": {},
   "outputs": [],
   "source": [
    "## Code cell 17 ##\n",
    "\n",
    "class(countdata)"
   ]
  },
  {
   "cell_type": "code",
   "execution_count": null,
   "id": "a0859f7b-c9f1-4d8d-b4fc-eb116f6159f6",
   "metadata": {},
   "outputs": [],
   "source": [
    "## Code cell 18 ##\n",
    "\n",
    "str(countdata)"
   ]
  },
  {
   "cell_type": "code",
   "execution_count": null,
   "id": "877a3b78-06ee-4c55-abb2-de0695a5b120",
   "metadata": {},
   "outputs": [],
   "source": [
    "## Code cell 19 ##\n",
    "\n",
    "head(countdata)"
   ]
  },
  {
   "cell_type": "markdown",
   "id": "d3c07c13-0c83-4de3-a7a7-42f99b9c0cf7",
   "metadata": {},
   "source": [
    "Note that each row corresponds to a gene, with the first 6 colonns providing Ensembl/Gencode gene annotations. The next columns correpond to our samples."
   ]
  },
  {
   "cell_type": "markdown",
   "id": "6d050491-d9ea-4516-8be6-7ce06ef790c5",
   "metadata": {},
   "source": [
    "### 1.3 - Counts data formatting\n",
    "---"
   ]
  },
  {
   "cell_type": "markdown",
   "id": "422ad4dc-f40b-4836-9d4b-131cb23d3332",
   "metadata": {},
   "source": [
    "- **removing useless columns**\n",
    "\n",
    "The `countdata`dataframe contains some columns which are irrelevant for our current analysis and will be removed.\n",
    "These include the chromosome numbers, start and end positions, gene length and gene biotype (columns 2 to 7). We don't need this information to perform the exploratory and differential expression analysis, hence we drop these with the following code. We however keep the geneID in the first column *(better than in rows)*. Thus, if we want to get only the columns of data counts without the geneID, we will have to use either `countdata[,-1]` or `countdata[,2:12])`."
   ]
  },
  {
   "cell_type": "markdown",
   "id": "4f231865-0789-4290-83a1-9d91b0b722ad",
   "metadata": {
    "tags": []
   },
   "source": [
    "<div class=\"alert alert-block alert-warning\"> <b> Warning: </b><br>\n",
    "<b>R is extremely memory-consuming</b>. This is not recommanded to keep redundant R objects in a session. While formating the <code>countdata</code> object in this section, and filtering it in the next one, we will replace it by itself after each step. Thus, be careful to run the cells in the right order. If you have a doubt at some point, go back to cell 12 to start again from the initial dataframe</div>"
   ]
  },
  {
   "cell_type": "code",
   "execution_count": null,
   "id": "24f85d15-2180-4695-9e8b-205207aa177e",
   "metadata": {},
   "outputs": [],
   "source": [
    "## Code cell 20 ##\n",
    "\n",
    "countdata <- countdata[, c(1,7:17)]\n",
    "str(countdata)"
   ]
  },
  {
   "cell_type": "code",
   "execution_count": null,
   "id": "bd042423-2dc0-4d3d-b5a4-ca85bf25bed1",
   "metadata": {},
   "outputs": [],
   "source": [
    "## Code cell 21 ##\n",
    "\n",
    "dim(countdata)"
   ]
  },
  {
   "cell_type": "markdown",
   "id": "29f138ba-84d2-4e71-acd1-0b1b06237932",
   "metadata": {},
   "source": [
    "- **reformatting Sample names**\n",
    "\n",
    "Below are the sample names in the counts dataframe."
   ]
  },
  {
   "cell_type": "code",
   "execution_count": null,
   "id": "8b670764-79ff-475b-9793-c9a3f65513ca",
   "metadata": {},
   "outputs": [],
   "source": [
    "## Code cell 22 ##\n",
    "\n",
    "names(countdata)"
   ]
  },
  {
   "cell_type": "markdown",
   "id": "5903c373-688e-49b8-984d-bdd670287fa5",
   "metadata": {},
   "source": [
    "The names of the columns are not very easy to read, and most of all, they don't correspond to the sample names present in the first column of the metadata, therefore, we cannot have any correspondance between the two information. So we modify the names of the columns in `counts`, in order to remove the first part in front of the sample number, and then the last part after the `_`. "
   ]
  },
  {
   "cell_type": "code",
   "execution_count": null,
   "id": "7bc29956-e08a-4db5-81e1-ec4543da1f0e",
   "metadata": {},
   "outputs": [],
   "source": [
    "## Code cell 23 ##\n",
    "\n",
    "# We remove the common prefix in all columns except the first one\n",
    "colnames(countdata)[-1] <- gsub(\"X.shared.projects.2312_rnaseq_cea.allData.Results.featurecounts.\",\n",
    "                         \"\",\n",
    "                         colnames(countdata)[-1])\n",
    "\n",
    "# We remove the common suffix in all columns except the first one\n",
    "colnames(countdata)[-1] <- gsub(\"_Aligned.sortedByNames.bam\",\n",
    "                         \"\",\n",
    "                         colnames(countdata)[-1])"
   ]
  },
  {
   "cell_type": "markdown",
   "id": "7f35f12e-cecf-4568-bfdb-2c8af70af149",
   "metadata": {},
   "source": [
    "We check the new names."
   ]
  },
  {
   "cell_type": "code",
   "execution_count": null,
   "id": "551c298b-7263-41bb-b0f1-149dab284416",
   "metadata": {},
   "outputs": [],
   "source": [
    "## Code cell 24 ##\n",
    "\n",
    "names(countdata)"
   ]
  },
  {
   "cell_type": "markdown",
   "id": "204efc76-e27a-451c-a1dd-dc8878333ab1",
   "metadata": {},
   "source": [
    "To ensure the metadata `samples` and `countdata` dataframes have the same samples names *(tested with `==`)*, we run the code below.   \n",
    "This will return TRUE if the names in both files are the same. In all there are 11 samples in both files."
   ]
  },
  {
   "cell_type": "code",
   "execution_count": null,
   "id": "e136cb9f-07ed-4cc9-8dbb-e44e8a7c07bf",
   "metadata": {},
   "outputs": [],
   "source": [
    "## Code cell 25 ##\n",
    "\n",
    "table(colnames(countdata)[-1] == samples$SampleID)"
   ]
  },
  {
   "cell_type": "markdown",
   "id": "af1da241-351c-438e-b251-8eabbc28cd8e",
   "metadata": {},
   "source": [
    "**- rename SampleID with SampleName**:\n",
    "\n",
    "SRR names are not very informative. We replace them by the corresponding sample name."
   ]
  },
  {
   "cell_type": "code",
   "execution_count": null,
   "id": "10391ace-2e27-4274-b71e-f2c68d507119",
   "metadata": {},
   "outputs": [],
   "source": [
    "## Code cell 26 ##\n",
    "\n",
    "colnames(countdata)[-1] <- samples$SampleName\n",
    "str(countdata)"
   ]
  },
  {
   "cell_type": "markdown",
   "id": "a95a111b-006c-4cd5-82fa-c8bc12f3f4bc",
   "metadata": {},
   "source": [
    "---"
   ]
  },
  {
   "cell_type": "markdown",
   "id": "78c0d7a1-549d-4313-a3c0-613488a9f324",
   "metadata": {},
   "source": [
    "## 2 - Filtering out genes non informative genes\n",
    "\n",
    "---"
   ]
  },
  {
   "cell_type": "markdown",
   "id": "c73ec0ab-ca13-4c0b-8f7f-2eebfe45f058",
   "metadata": {},
   "source": [
    "For many analysis methods it is advisable to filter out as many genes as possible before the analysis to decrease the impact of multiple testing correction on false discovery rates.   \n",
    "\n",
    "This is normally done by filtering out **genes with low numbers of reads** and thus likely to be uninformative from a biological point of view.\n",
    "(With DESeq2, the tool that we will use later for differential analysis, this is not necessary as it applies independent filtering during the analysis.)   \n",
    "In addition, filtering out genes that are very lowly expressed does reduce the size of the dataset, meaning that less memory is required and processing steps are carried out faster.\n",
    "\n",
    "<div class=\"alert alert-block alert-info\"> <b> What is a low expressed gene ? </b><br>\n",
    "A general rule is to keep genes with a read count across all samples equal or above to number of samples.</div>\n",
    "\n",
    "For some biological questions, we may **only keep coding genes with or without long-non-coding RNAs**, thus aslo getting rid of small RNAs, microRNAs, pseudogenes, tRNAs, Ig genes, TCR genes, ..\n",
    "\n",
    "=> Here, we decide to keep all gene categories but to filter on the level of expression. We thus keep genes where the total number of reads across all 11 samples is greater than 10.\n"
   ]
  },
  {
   "cell_type": "markdown",
   "id": "add52003-d78d-4d93-9337-a4183cd8b376",
   "metadata": {},
   "source": [
    "- For each gene, we compute the total count of read in all samples, and compare to our threshold. We count the number of genes passing the test."
   ]
  },
  {
   "cell_type": "code",
   "execution_count": null,
   "id": "74b3e4f6-16d5-480d-8a51-bb3e7650d165",
   "metadata": {},
   "outputs": [],
   "source": [
    "## Code cell 27 ##\n",
    "\n",
    "# keeping outcome in vector of 'logicals' (ie TRUE or FALSE, or NA)\n",
    "keep <- rowSums(countdata[-1]) > 10\n",
    "\n",
    "# summary of test outcome: number of genes in each class:\n",
    "table(keep, useNA=\"always\") "
   ]
  },
  {
   "cell_type": "markdown",
   "id": "78c93c26-2d25-440c-8b69-d29690962c9f",
   "metadata": {},
   "source": [
    "This means that 34083 genes have a total count across samples below 10. We keep the other 22927."
   ]
  },
  {
   "cell_type": "markdown",
   "id": "ff2afb22-1d1e-4823-8746-6babb8181c20",
   "metadata": {},
   "source": [
    "- We extract those genes and replace `counts` with this subset of genes."
   ]
  },
  {
   "cell_type": "code",
   "execution_count": null,
   "id": "c78895b4-eabb-4dd3-bd33-643dc1b096ff",
   "metadata": {},
   "outputs": [],
   "source": [
    "## Code cell 28 ##\n",
    "\n",
    "\n",
    "# subset genes where test was TRUE\n",
    "countdata <- countdata[keep,]\n",
    "rm(keep)\n",
    "\n",
    "# check dimension of new count matrix\n",
    "dim(countdata)\n",
    "\n",
    "# 22927 12"
   ]
  },
  {
   "cell_type": "markdown",
   "id": "aec51e9a-55c9-4cd9-b730-9d938c1e2ad8",
   "metadata": {},
   "source": [
    "<div class=\"alert alert-block alert-warning\"> <b> Warning: </b><br>\n",
    "If your dataframe after cell 23 does not have 22927 rows and 12 columns, you probably run a command twice. In that case, rerun all cells from cell 16.</div>"
   ]
  },
  {
   "cell_type": "markdown",
   "id": "917a3ab5-0b1c-4db5-90b5-9a7caaf4bc53",
   "metadata": {},
   "source": [
    "---\n",
    "## 3 - Quality assessment\n",
    "---\n",
    "\n",
    "Before moving on to doing the actual differential expression analysis, it is important to assess the quality of our data.   \n",
    "Quality control is an important step in any data analysis. Since our purpose is to identify differentially expressed genes, we may consider excluding a sample if it is an obvious outlier that could reflect an issue in its upstream processing or preparation or if it is inconsistent with metadata (eg. Y chromosome genes expressed in females).\n",
    "\n",
    "In the ensuing steps, we will explore our data using boxplots, PCA, density plots and heatmaps.\n",
    "\n",
    "\n",
    "### 3.1 - Initial visualization of the count distributions\n",
    "---\n",
    "\n",
    "Differential expression calculations with DESeq2 uses raw read counts as input, but for visualization purposes we use transformed counts.\n",
    "\n",
    "Why not raw counts? Two issues:\n",
    "\n",
    "    - Raw counts range is very large: some highly expressed genes can have hundreds of thousands of reads\n",
    "    - Variance increases with mean gene expression, and this has impact on assessing the relationships.\n",
    "    \n",
    "Let's display the range of expression of our raw read counts:"
   ]
  },
  {
   "cell_type": "code",
   "execution_count": null,
   "id": "963e1007-436f-47bc-9049-6e64be866697",
   "metadata": {},
   "outputs": [],
   "source": [
    "## Code cell 29 ##\n",
    "\n",
    "summary(countdata[,-1])"
   ]
  },
  {
   "cell_type": "markdown",
   "id": "df6d799b-5a55-4cbb-bf06-d4cc04fbbe73",
   "metadata": {},
   "source": [
    "We also can see that few outlier genes affect distribution visualization:"
   ]
  },
  {
   "cell_type": "code",
   "execution_count": null,
   "id": "075ba5ab-0018-4821-b1ab-89921a38209e",
   "metadata": {},
   "outputs": [],
   "source": [
    "## Code cell 30 ##\n",
    "\n",
    "opar <- par()\n",
    "par(mar = c(8,2,2,2)) # to increase margin at the bottom to display full sample names\n",
    "boxplot(countdata[,-1], main = 'Raw readcounts distribution across samples', xaxt = \"n\") # no display of xlabels\n",
    "text(1:11, y = par(\"usr\")[3] - 0.45,\n",
    "     labels = names(countdata)[-1],\n",
    "     srt = 30, adj = 1, xpd = NA, cex= 0.9)# add xlabels with 30 degres srotation\n",
    "suppressWarnings(par(opar))\n"
   ]
  },
  {
   "cell_type": "markdown",
   "id": "ef03a8bb-ded0-41fd-b00b-4dfbb21817e0",
   "metadata": {},
   "source": [
    "We can see that variance increases with the average level of expression by plotting standard deviation vs mean expression:"
   ]
  },
  {
   "cell_type": "code",
   "execution_count": null,
   "id": "64ee21a3-fb28-4076-9c1f-7d6cdf4b77a2",
   "metadata": {},
   "outputs": [],
   "source": [
    "## Code cell 31 ##\n",
    "\n",
    "# Raw counts mean expression Vs standard Deviation (SD)\n",
    "plot(rowMeans(countdata[,-1]), apply(countdata[,2:12], 1, sd, na.rm = TRUE), \n",
    "     main = 'Raw read counts: sd vs mean', \n",
    "     xlim = c(0,100000), # to zoom\n",
    "     ylim = c(0,50000), # to zoom\n",
    "     xlab = \"Mean of raw counts per gene\",\n",
    "     ylab = \"SD of raw counts per gene\"\n",
    "    )\n"
   ]
  },
  {
   "cell_type": "markdown",
   "id": "d22428f4-9ec5-4687-9b3b-d9005d3bc0ff",
   "metadata": {},
   "source": [
    "### 3.2 -  Data transformation and visualization\n",
    "---\n",
    "\n",
    "To avoid problems posed by raw counts, they can be transformed. **Several transformation methods exist to limit the dependence of variance on mean gene expression** among which :\n",
    "\n",
    "    - Simple log2 transformation\n",
    "    - VST : variance stabilizing transformation\n",
    "    - rlog : regularized log transformation\n",
    "\n",
    "For the moment, we are going to use only the first one to perform this first exploratory analysis on non-normalised data.   \n",
    "The two other types of transformation are available in the DESeq2 package, that we will used in the next jupyter notebook.  \n",
    " "
   ]
  },
  {
   "cell_type": "markdown",
   "id": "18262605-0cbd-4eb5-8c53-a1af675c70ab",
   "metadata": {},
   "source": [
    "#### **-> log2 transformation**\n",
    "\n",
    "This is one of the most used transformation in transcriptomics, as it helps to normalize the data (with the meaning of changing the data distribution to one closer to the normal distribution), and it enables a better visualization of low counts.   \n",
    "    \n",
    "Because some genes are not expressed (detected) in some samples, their counts are 0. As log2(0) equals -Inf, we add an ***offset***, usually of 1, to every count value to create **pseudocounts**. The lowest value then is 1, or 0 on the log2 scale (log2(1) = 0)."
   ]
  },
  {
   "cell_type": "code",
   "execution_count": null,
   "id": "4c4ea7b8-0fc3-400a-afdb-01261f543274",
   "metadata": {},
   "outputs": [],
   "source": [
    "## Code cell 32 ##\n",
    "\n",
    "summary(log2(countdata[,2]+1)) # summary for first sample column 2"
   ]
  },
  {
   "cell_type": "code",
   "execution_count": null,
   "id": "2e02a472-835b-4561-9793-d7a75fb823dd",
   "metadata": {},
   "outputs": [],
   "source": [
    "## Code cell 33 ##\n",
    "\n",
    "summary(log2(countdata[,2:12]+1)) # summary for each sample"
   ]
  },
  {
   "cell_type": "markdown",
   "id": "20181367-5891-4b73-bb7b-600ffcf15348",
   "metadata": {},
   "source": [
    "We will check the distribution of read pseudocounts using a boxplot and add some colour to see if there is any difference between sample groups."
   ]
  },
  {
   "cell_type": "code",
   "execution_count": null,
   "id": "cfd68f0e-093b-4785-946d-643eaa9bfcdd",
   "metadata": {},
   "outputs": [],
   "source": [
    "## Code cell 34 ##\n",
    "\n",
    "# make a colour vector\n",
    "conditionColor <- match(samples$Condition, c(\"dHet\", \"dHetRag\", \"WT\")) + 1\n",
    "# '+1' to avoid color '1' i.e. black\n",
    "\n",
    "# Check distributions of samples using boxplots\n",
    "opar <- par()\n",
    "par(mar = c(6,2,2,2))\n",
    "boxplot(log2(countdata[,2:12]+1),\n",
    "        xlab = \"\", xaxt = \"n\",\n",
    "        ylab = \"Log2(Counts)\",\n",
    "        las = 2,\n",
    "        col = conditionColor,\n",
    "        main = \"Log2(Counts) distribution across samples\")\n",
    "text(1:11, y = par(\"usr\")[3] - 0.45,\n",
    "     labels = names(countdata)[-1],\n",
    "     srt = 30, adj = 1, xpd = NA, cex= 0.9)\n",
    "\n",
    "\n",
    "# Let's add a blue horizontal line that corresponds to the median\n",
    "abline(h = median.default(as.matrix(log2(countdata[,2:12]+1))), col=\"blue\")\n",
    "\n",
    "suppressWarnings(par(opar))"
   ]
  },
  {
   "cell_type": "markdown",
   "id": "330ed5d3-3cf1-4fe4-bdc9-93225faec336",
   "metadata": {},
   "source": [
    "From the boxplot, we see that overall the density distributions of raw log-counts are not identical but still not very different from one sample to another.   \n",
    "If a sample is really far above or below the blue horizontal line (overall median) we may need to investigate that sample further."
   ]
  },
  {
   "cell_type": "code",
   "execution_count": null,
   "id": "83086e25-a6c1-4d74-aa53-f63b31b7f3bc",
   "metadata": {},
   "outputs": [],
   "source": [
    "## Code cell 35 ##\n",
    "\n",
    "# Log2 counts standard deviation (sd) vs mean expression\n",
    "\n",
    "plot(rowMeans(log2(countdata[,2:12]+1)),\n",
    "              matrixStats::rowSds(as.matrix(log2(countdata[,2:12]+1), na.rm = TRUE)), \n",
    "     main = 'Log2 Counts: sd vs mean',\n",
    "     xlab = \"Mean of log2(raw counts) per gene\",\n",
    "     ylab = \"SD of log2(raw counts) per gene\"\n",
    "    \n",
    "    )"
   ]
  },
  {
   "cell_type": "markdown",
   "id": "5a182247-bb08-422e-b89c-9b69cff892e3",
   "metadata": {},
   "source": [
    "In contrast to raw counts, with log2 transformed counts, lowly expressed genes (mean expression around 5 or below) show higher variation than highly expressed genes (mean expression above 10-12)."
   ]
  },
  {
   "cell_type": "markdown",
   "id": "f2d85ff7-7d0f-4ca3-8a2d-c55616e9caa4",
   "metadata": {},
   "source": [
    "### 3.3 - Principal Component Analysis (PCA)\n",
    "---\n",
    "\n",
    "A principal component analysis (PCA) is an unsupervised method used to explore the data variance structure **by reducing its dimensions to a few principal components (PC) that explain the greatest variation in the data**.  PCA is an example of an unsupervised analysis, where we don’t specify the grouping of the samples *(see lecture 10)*.  \n",
    "If the experiment is well controlled and has worked well, we should find that replicate samples cluster closely, whilst the greatest sources of variation in the data should be between treatments/sample groups.   \n",
    "It is also an incredibly useful tool for checking for outliers and batch effects.\n",
    "\n",
    "To run the PCA on non-normalized data, we will use the log2 transformation only. \n",
    "\n",
    "- transposition of data : \n",
    "\n",
    "In PCA, the variables are genes, and should thus be in columns. So in the code below, the `t()` function is used to transpose the dataframe: the result is a new dataframe with samples as rows and genes as columns."
   ]
  },
  {
   "cell_type": "code",
   "execution_count": null,
   "id": "e2794ddd-e442-4a39-9f6b-e7695ddde0f2",
   "metadata": {},
   "outputs": [],
   "source": [
    "## Code cell 36 ##\n",
    "\n",
    "tlogcounts <- t(log2(countdata[,2:12]+1))\n",
    "dim(tlogcounts)"
   ]
  },
  {
   "cell_type": "markdown",
   "id": "b2239512-1dda-4dd8-8f08-dc68c7433d15",
   "metadata": {},
   "source": [
    "- plot PCA:\n",
    "\n",
    "To plot the PCA results we will use here the `autoplot` function from the `ggfortify` package (Tang, Horikoshi, and Li 2016). `ggfortify` is built on top of `ggplot2` and is able to recognise common statistical objects such as PCA results or linear models and it automatically generates summary plot of the results in an appropriate manner."
   ]
  },
  {
   "cell_type": "code",
   "execution_count": null,
   "id": "5df8d297-d245-4cc5-b444-5e7b4c5e5fb6",
   "metadata": {},
   "outputs": [],
   "source": [
    "## Code cell 37 ##\n",
    "\n",
    "# run PCA\n",
    "PCAdata <- prcomp(tlogcounts)\n",
    "\n",
    "# plot PCA\n",
    "autoplot(PCAdata)"
   ]
  },
  {
   "cell_type": "markdown",
   "id": "c49b06d3-db2f-4caf-90b4-a9bb312cd303",
   "metadata": {},
   "source": [
    "Without the names of the samples, or colours indicating their group, we cannot see if they cluster correctly.    \n",
    "\n",
    "- add labels to PCA plot:\n",
    "\n",
    "So we add colours and labels to the PCA plot.   \n",
    "The package `ggrepel` allows us to add text to the plot, but ensures that points that are close together don’t have their labels overlapping (they repel each other)."
   ]
  },
  {
   "cell_type": "code",
   "execution_count": null,
   "id": "a45b8459-91f4-4b11-b271-fbb911d1ff09",
   "metadata": {},
   "outputs": [],
   "source": [
    "## Code cell 38 ##\n",
    "\n",
    "autoplot(PCAdata,\n",
    "         data = samples, \n",
    "         colour = \"Condition\", \n",
    "         shape = \"Tissue\",\n",
    "         size = 6) +\n",
    "    geom_text_repel(aes(x = PC1, y = PC2, label = SampleName),\n",
    "                        box.padding = 0.8)\n"
   ]
  },
  {
   "cell_type": "markdown",
   "id": "e626e776-4bc0-4e78-888d-b5e1dd0bcacf",
   "metadata": {},
   "source": [
    "We can see that the first Principal Component (explaining the largest source of variation) shows in this dataset variation between samples from different conditions (the effect of interest), while the second PC (explaining the second largest source of variation) displays here sample differences due to WT vs mutant genotypes.   \n",
    "It seems that there is no batch effect, but let's verify if none appears in the next PCs eigen vectors.  "
   ]
  },
  {
   "cell_type": "code",
   "execution_count": null,
   "id": "ce892a39-b330-4618-9587-be3708a46e62",
   "metadata": {},
   "outputs": [],
   "source": [
    "## Code cell 39 ##\n",
    "\n",
    "autoplot(PCAdata,\n",
    "         x = 2,    # PC2\n",
    "         y = 3,    # PC3\n",
    "         data = samples, \n",
    "         colour = \"Condition\", \n",
    "         shape = \"Tissue\",\n",
    "         size = 6) +\n",
    "    geom_text_repel(aes(x = PC2, y = PC3, label = SampleName),\n",
    "                    box.padding = 0.8)\n"
   ]
  },
  {
   "cell_type": "code",
   "execution_count": null,
   "id": "ba32838e-ed6c-47d8-918e-35c197e661ec",
   "metadata": {},
   "outputs": [],
   "source": [
    "## Code cell 40 ##\n",
    "\n",
    "autoplot(PCAdata,\n",
    "         x = 3,    # PC3\n",
    "         y = 4,    # PC4\n",
    "         data = samples, \n",
    "         colour = \"Condition\", \n",
    "         shape = \"Tissue\",\n",
    "         size = 6) +\n",
    "    geom_text_repel(aes(x = PC3, y = PC4, label = SampleName),\n",
    "                    box.padding = 0.8)\n",
    "\n",
    "rm(PCAdata) # we remove the PCA dtaa from the session for memory reasons"
   ]
  },
  {
   "cell_type": "markdown",
   "id": "84d08f79-0bdf-4a9f-8604-104469ce01b8",
   "metadata": {},
   "source": [
    "On the basis of these last two plots, we cannot see a clear effect of a given factor to the variation depicted in PC3 and PC4, except maybe the difference between mice.\n",
    "\n",
    "*Note: We will do a more detailed PCA after data normalisation in notebook Pipe_10.*"
   ]
  },
  {
   "cell_type": "markdown",
   "id": "562d457e-9428-4038-a73d-c6a0250a52e6",
   "metadata": {
    "tags": []
   },
   "source": [
    "### 3.4 - Hierarchical clustering\n",
    "---\n",
    "\n",
    "This  representation can also be used to cluster the samples based on dissimilarity indexes *(see lecture 12, here we will use Ward distance)*. More information can be found with `?hclust` (or in the Contextual Help panel on the right, that can be opened via the Help menu)."
   ]
  },
  {
   "cell_type": "code",
   "execution_count": null,
   "id": "65b1970e-53e5-4f69-b640-d71017c442c3",
   "metadata": {},
   "outputs": [],
   "source": [
    "## Code cell 41 ##\n",
    "\n",
    "clusters <- hclust(dist(as.matrix(tlogcounts)), method =\"ward.D\")\n",
    "plot(clusters, labels = samples$SampleName)\n",
    "\n",
    "rm(clusters, tlogcounts)    "
   ]
  },
  {
   "cell_type": "markdown",
   "id": "fd34012a-bf02-4352-97af-21de672d651b",
   "metadata": {
    "tags": []
   },
   "source": [
    "We can see that our samples are grouped correctly, and that replicates from the same mouse cluster together, as expected."
   ]
  },
  {
   "cell_type": "markdown",
   "id": "81033386-c706-4102-b884-2716616456fc",
   "metadata": {},
   "source": [
    "### 3.5 - Density plot\n",
    "---\n",
    "\n",
    "A Density Plot can be used to visualize the distribution of data over a continuous interval. In RNA-seq analysis, this could be used to detect the presence or absence of batch effects in the data. Batch effects may be introduced through different experimental platforms, laboratory conditions, different sources of samples, different technicians, etc, and may introduce spurious variability which is not due to the condition under study (cancerous state of B and pro-B cells).   \n",
    "This [paper](https://www.ncbi.nlm.nih.gov/pmc/articles/PMC4636836/) comprehensively discusses batch effects and how they can be corrected."
   ]
  },
  {
   "cell_type": "code",
   "execution_count": null,
   "id": "937603c1-7ce7-4590-85b8-605aa93c5ebe",
   "metadata": {},
   "outputs": [],
   "source": [
    "## Code cell 42 ##\n",
    "\n",
    "affy::plotDensity(log2(countdata[,2:12]+1),\n",
    "                  xlab(\"Density\"),ylab(\"log2(Counts)\"),\n",
    "                  col = 1:11)\n",
    "legend(x = 14, y = 0.13,legend = names(log2(countdata[,2:12]+1)),\n",
    "       col = 1:11, lty = 1:11, bty = \"n\")"
   ]
  },
  {
   "cell_type": "markdown",
   "id": "912b3c48-5685-465b-96d7-1a264ce2e59f",
   "metadata": {},
   "source": [
    "The density plots overlap for all samples, none stand out as having a different profile.   \n",
    "This confirms that no batch effect is visible in our data that would need to be corrected before going on with normalisation.   \n",
    "\n",
    "To see examples of batch effects, you can have a look [there](https://evayiwenwang.github.io/Managing_batch_effects/detect.html). "
   ]
  },
  {
   "cell_type": "markdown",
   "id": "c280fb80-1ec3-41c7-8ba1-81962b2ab73f",
   "metadata": {},
   "source": [
    "## 4 - Saving our results\n",
    "\n",
    "We can save all the R objects created in this session in a single R object.   \n",
    "This will help us to reload our dataframes without having to run the same commands.   "
   ]
  },
  {
   "cell_type": "code",
   "execution_count": null,
   "id": "4ae9084a-4820-46e7-889b-8526477aa2ca",
   "metadata": {},
   "outputs": [],
   "source": [
    "## Code cell 43 ##  \n",
    "\n",
    "ls()\n",
    "save(countData, samples, conditionColor, file = paste0(pca1folder,\"RawCounts_Samples.RData\"))"
   ]
  },
  {
   "cell_type": "markdown",
   "id": "e11ca05e-895a-49c6-83dd-8252fc4c677c",
   "metadata": {},
   "source": [
    "---\n",
    "___\n",
    "\n",
    "Now we go on with the normalisation of read counts and differential expression analysis using `DESeq2`.  \n",
    "  \n",
    "**=> Step 9: DESeq2 Normalisation and Differential Expression analysis** "
   ]
  },
  {
   "cell_type": "markdown",
   "id": "e4b783d3-d54a-4adc-be70-f1a03eab1eb1",
   "metadata": {
    "tags": []
   },
   "source": [
    "The jupyter notebook used for the next session will be *Pipe_09-R403-DESeq2-normalisation-DE.ipynb*    \n",
    "Let's retrieve it in our directory, in order to have a private copy to work on:   "
   ]
  },
  {
   "cell_type": "code",
   "execution_count": null,
   "id": "edd98e1c-83b9-431b-a1b9-914992051d8d",
   "metadata": {
    "tags": []
   },
   "outputs": [],
   "source": [
    "## Code cell 44 ##   \n",
    "\n",
    "myfolder\n",
    "file.copy(\"/shared/projects/2312_rnaseq_cea/pipeline/Pipe_09-R403-DESeq2-normalisation-DE.ipynb\",\n",
    "          myfolder)\n",
    "\n"
   ]
  },
  {
   "cell_type": "markdown",
   "id": "1fd5f60d-c6eb-4ff8-a5aa-34c3a8fde969",
   "metadata": {},
   "source": [
    "\n",
    "\n",
    "**Save executed notebook**\n",
    "\n",
    "To end the session, save your executed notebook in your `run_notebooks` folder. **Adjust the name with yours** and reformat as code cell to run it."
   ]
  },
  {
   "cell_type": "raw",
   "id": "5687855f-eaab-48eb-8353-87cdacbec499",
   "metadata": {
    "tags": []
   },
   "source": [
    "## Code cell 45 ##   \n",
    "\n",
    "# creation of the directory, recursive = TRUE is equivalent to the mkdir -p in Unix\n",
    "dir.create(paste0(myfolder,\"/run_notebooks\"), recursive = TRUE)\n",
    "\n",
    "runfolder <- paste0(myfolder,\"/run_notebooks\")\n",
    "       \n",
    "file.copy(paste0(myfolder, \"/Pipe_08-R403_counts-exploratory-analysis-I.ipynb\"), runfolder)\n"
   ]
  },
  {
   "cell_type": "markdown",
   "id": "87b552b9-10f5-4b97-acce-e49e71ff529a",
   "metadata": {},
   "source": [
    "---"
   ]
  },
  {
   "cell_type": "markdown",
   "id": "c851a658-1588-4134-a6ef-5d9ea16bbc3f",
   "metadata": {
    "tags": []
   },
   "source": [
    "<div class=\"alert alert-block alert-success\"><b>Success:</b> Well done! You now know how to perform a exploratory analysis of RNAseq expression data in R.<br>\n",
    "Don't forget to save you notebook and export a copy as an <b>html</b> file as well <br>\n",
    "- Open \"File\" in the Menu<br>\n",
    "- Select \"Export Notebook As\"<br>\n",
    "- Export notebook as HTML<br>\n",
    "- You can then open it in your browser even without being connected to the server! \n",
    "</div>"
   ]
  },
  {
   "cell_type": "markdown",
   "id": "d10a6385-bf27-438b-ad95-1da7837b98cf",
   "metadata": {
    "tags": []
   },
   "source": [
    "## Useful commands\n",
    "<div class=\"alert alert-block alert-info\"> \n",
    "    \n",
    "- <kbd>CTRL</kbd>+<kbd>S</kbd> : save notebook<br>    \n",
    "- <kbd>CTRL</kbd>+<kbd>ENTER</kbd> : Run Cell<br>  \n",
    "- <kbd>SHIFT</kbd>+<kbd>ENTER</kbd> : Run Cell and Select Next<br>   \n",
    "- <kbd>ALT</kbd>+<kbd>ENTER</kbd> : Run Cell and Insert Below<br>   \n",
    "- <kbd>ESC</kbd>+<kbd>y</kbd> : Change to *Code* Cell Type<br>  \n",
    "- <kbd>ESC</kbd>+<kbd>m</kbd> : Change to *Markdown* Cell Type<br> \n",
    "- <kbd>ESC</kbd>+<kbd>r</kbd> : Change to *Raw* Cell Type<br>    \n",
    "- <kbd>ESC</kbd>+<kbd>a</kbd> : Create Cell Above<br> \n",
    "- <kbd>ESC</kbd>+<kbd>b</kbd> : Create Cell Below<br> \n",
    "\n",
    "<em>  \n",
    "To make nice html reports with markdown: <a href=\"https://dillinger.io/\" title=\"dillinger.io\">html visualization tool 1</a> or <a href=\"https://stackedit.io/app#\" title=\"stackedit.io\">html visualization tool 2</a>, <a href=\"https://www.tablesgenerator.com/markdown_tables\" title=\"tablesgenerator.com\">to draw nice tables</a>, and the <a href=\"https://medium.com/analytics-vidhya/the-ultimate-markdown-guide-for-jupyter-notebook-d5e5abf728fd\" title=\"Ultimate guide\">Ultimate guide</a>. <br>\n",
    "Further reading on JupyterLab notebooks: <a href=\"https://jupyterlab.readthedocs.io/en/latest/user/notebook.html\" title=\"Jupyter Lab\">Jupyter Lab documentation</a>.<br>   \n",
    "</em>    \n",
    " \n",
    "</div>"
   ]
  },
  {
   "cell_type": "markdown",
   "id": "4169dfc6-0732-4092-8fb7-19d46fb46c1b",
   "metadata": {},
   "source": [
    "Claire Vandiedonck - 2021-2023   \n",
    "Sandrine Caburet - 05/2023   \n",
    "MAJ : 05/06/2023 by @CVandiedonck"
   ]
  }
 ],
 "metadata": {
  "kernelspec": {
   "display_name": "R 4.0.3",
   "language": "R",
   "name": "r-4.0.3"
  },
  "language_info": {
   "codemirror_mode": "r",
   "file_extension": ".r",
   "mimetype": "text/x-r-source",
   "name": "R",
   "pygments_lexer": "r",
   "version": "4.0.3"
  },
  "toc-autonumbering": false,
  "toc-showcode": true
 },
 "nbformat": 4,
 "nbformat_minor": 5
}

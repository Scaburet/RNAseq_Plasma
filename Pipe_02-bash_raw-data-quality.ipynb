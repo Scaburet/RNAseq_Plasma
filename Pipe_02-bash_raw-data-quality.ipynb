{
 "cells": [
  {
   "cell_type": "markdown",
   "metadata": {
    "tags": []
   },
   "source": [
    "# Formation RNAseq CEA - juin 2023\n",
    "\n",
    "Session IFB : 5 CPU + 21 GB de RAM\n",
    "\n",
    "# Part 2 : Quality check of raw data before processing"
   ]
  },
  {
   "cell_type": "markdown",
   "metadata": {},
   "source": [
    "\n",
    "\n",
    "- 0.1 - About session on IFB core cluster\n",
    "- 0.2 - Parameters to be set or modified by the user\n",
    "- 1 - Some checks as a precaution\n",
    "- 2 - Quality control on raw `.fastq.gz` files\n",
    "- 3 - Summary report with MultiQC\n"
   ]
  },
  {
   "cell_type": "markdown",
   "metadata": {},
   "source": [
    "---\n",
    "## **Before going further**\n",
    "\n",
    "<div class=\"alert alert-block alert-danger\"><b>Caution:</b> \n",
    "Before starting the analysis, save a backup copy of this notebok : in the left-hand panel, right-click on this file and select \"Duplicate\"<br>\n",
    "You can also make backups during the analysis. Don't forget to save your notebook regularly: <kbd>Ctrl</kbd> + <kbd>S</kbd> or click on the 💾 icon.\n",
    "</div>"
   ]
  },
  {
   "cell_type": "markdown",
   "metadata": {
    "tags": [],
    "toc-hr-collapsed": true
   },
   "source": [
    "---\n",
    "\n",
    "## 0.1 - About session on IFB core cluster\n",
    "\n",
    "<em>loaded JupyterLab</em> : Version 3.2.1"
   ]
  },
  {
   "cell_type": "code",
   "execution_count": null,
   "metadata": {
    "tags": []
   },
   "outputs": [],
   "source": [
    "## Code cell 1 ##\n",
    "\n",
    "echo \"=== Cell launched on $(date) ===\"\n",
    "\n",
    "echo \"=== IFB session size ===\"\n",
    "jobid=$(squeue -hu $USER | awk '/jupyter/ {print $1}')\n",
    "sacct --format=JobID,AllocCPUS,NODELIST -j ${jobid}"
   ]
  },
  {
   "cell_type": "code",
   "execution_count": null,
   "metadata": {},
   "outputs": [],
   "source": [
    "## Code cell 2 ##\n",
    "\n",
    "module load bc/1.07.1 fastqc/0.11.9 multiqc/1.13\n",
    "\n",
    "echo \"===== basic calculator =====\"\n",
    "bc --version | head -n 1\n",
    "echo \"===== individual reports =====\"\n",
    "fastqc --version\n",
    "echo \"===== compiled report =====\"\n",
    "multiqc --version"
   ]
  },
  {
   "cell_type": "markdown",
   "metadata": {
    "toc-hr-collapsed": true
   },
   "source": [
    "---\n",
    "\n",
    "## 0.2 - Parameters to be set or modified by the user"
   ]
  },
  {
   "cell_type": "markdown",
   "metadata": {},
   "source": [
    "- Using a full path with a `/` at the end, **define the folder** where you want or have to work with the `gohome` variable:"
   ]
  },
  {
   "cell_type": "code",
   "execution_count": null,
   "metadata": {},
   "outputs": [],
   "source": [
    "## Code cell 3 ##\n",
    "\n",
    "gohome=\"/shared/projects/2312_rnaseq_cea/\"\n",
    "\n",
    "echo \"=== Home root folder (stored in the variable gohome) is ===\"\n",
    "echo \"${gohome}\"\n",
    "echo \"\"\n",
    "echo \"=== Working (personal) folder tree ===\"\n",
    "tree -L 2 \"${gohome}$USER\"\n",
    "echo \"=== Working directory ===\"\n",
    "echo \"${PWD}\""
   ]
  },
  {
   "cell_type": "markdown",
   "metadata": {},
   "source": [
    "- Please, precise the **maximum amount of CPU** (central processing units, cores) that programs can use.\n",
    "\n",
    "<div class=\"alert alert-block alert-warning\">\n",
    "    Following value of <b>4 is valid for a 5-CPU session</b>. Ideally, use 70-80% of the avalaible CPU you system or session has.\n",
    "</div>"
   ]
  },
  {
   "cell_type": "code",
   "execution_count": null,
   "metadata": {
    "tags": []
   },
   "outputs": [],
   "source": [
    "## Code cell 4 ##\n",
    "\n",
    "#authorizedCPU=4\n",
    "\n",
    "authorizedCPU=4"
   ]
  },
  {
   "cell_type": "markdown",
   "metadata": {},
   "source": [
    "- Give **full path to get to the folder containing (only) the rawdata files** to be analysed:"
   ]
  },
  {
   "cell_type": "code",
   "execution_count": null,
   "metadata": {
    "tags": []
   },
   "outputs": [],
   "source": [
    "## Code cell 5 ##\n",
    "\n",
    "rawfolder=\"${gohome}$USER/Data/fastq/raw/\""
   ]
  },
  {
   "cell_type": "markdown",
   "metadata": {},
   "source": [
    "- In addition, a comment will later be included in Quality report to keep experiment informations handy. Please adapt ``mycomment`` variable text in [section 3.2](#multiqctextvar) before launching MultiQC report generation."
   ]
  },
  {
   "cell_type": "markdown",
   "metadata": {},
   "source": [
    "---\n",
    "## 1 - Some checks as a precaution"
   ]
  },
  {
   "cell_type": "markdown",
   "metadata": {
    "toc-hr-collapsed": true
   },
   "source": [
    "### **1.1- Available files**"
   ]
  },
  {
   "cell_type": "markdown",
   "metadata": {},
   "source": [
    "The data files are already present on the server, in the `Data/fastq/raw/` folder of your current working directory, as produced by the previous step.\n",
    "\n",
    "As we change session and/or day, let's first check that all files are there using following commands:"
   ]
  },
  {
   "cell_type": "code",
   "execution_count": null,
   "metadata": {},
   "outputs": [],
   "source": [
    "## Code cell 6 ##\n",
    "\n",
    "rawfolder=${rawfolder}\n",
    "#rawfolder=\"${gohome}$USER/Data/fastq/raw/\"\n",
    "\n",
    "echo \"There are $(ls ${rawfolder} | wc -l) raw .fastq.gz files:\"\n",
    "ls ${rawfolder}"
   ]
  },
  {
   "cell_type": "markdown",
   "metadata": {},
   "source": [
    "The files consist of raw data from the Illumina sequencer (`.fastq`) which sizes have been reduced (`.gz`) thanks to compression (**pigz** tool, see `Pipe_01.ipynb` notebook). As genomics tools can deal with both compressed and uncompressed file formats, we save disk space using the compressed ones."
   ]
  },
  {
   "cell_type": "markdown",
   "metadata": {
    "toc-hr-collapsed": true
   },
   "source": [
    "### **1.2- Examining data files: are they what we expect?**"
   ]
  },
  {
   "cell_type": "markdown",
   "metadata": {},
   "source": [
    "Let's pick up one file to get a loook to the data.\n",
    "\n",
    "We list the files in the folder and ask for only the first line (``-n 1``)."
   ]
  },
  {
   "cell_type": "code",
   "execution_count": null,
   "metadata": {},
   "outputs": [],
   "source": [
    "## Code cell 7 ##\n",
    "\n",
    "arawfile=$(ls \"${rawfolder}\"*gz | head -n 1)\n",
    "echo ${arawfile}"
   ]
  },
  {
   "cell_type": "markdown",
   "metadata": {},
   "source": [
    "``.fastq`` files are readable by the human eye, and we can display the first lines of this file, using the Unix ``head`` command on the **zcat** command that can deal with ``.gzip`` files."
   ]
  },
  {
   "cell_type": "code",
   "execution_count": null,
   "metadata": {},
   "outputs": [],
   "source": [
    "## Code cell 8 ##\n",
    "\n",
    "zcat ${arawfile} | head"
   ]
  },
  {
   "cell_type": "markdown",
   "metadata": {},
   "source": [
    "We expect to have text file with 4 lines per read (sequence):\n",
    "- read identification starts with `@`\n",
    "- sequence itself (some `N` may appear when bases are undetermined)\n",
    "- a line separator starting with `+` and the identifier again (for first sequencers) or nothing else\n",
    "- PHRED quality string with special characters (ranging from 33 to 41 in an ASCII table)\n",
    "\n",
    "<div class=\"alert alert-block alert-info\">\n",
    "    For more information on phred score and history, please refer to <a href=\"https://en.wikipedia.org/wiki/FASTQ_format#Encoding\">FASTQ format wikipedia page</a> that display graphical view for different phred score encoding.\n",
    "</div>\n",
    "\n",
    "To count lines in that file:"
   ]
  },
  {
   "cell_type": "code",
   "execution_count": null,
   "metadata": {},
   "outputs": [],
   "source": [
    "## Code cell 9 ##\n",
    "\n",
    "time wcloutput=$(zcat ${arawfile} | wc -l)\n",
    "echo ${wcloutput}"
   ]
  },
  {
   "cell_type": "markdown",
   "metadata": {},
   "source": [
    "For those who don't want to fetch for a calculator, we will use the **bc**  basic calculator that allows to use decimal in `bash`."
   ]
  },
  {
   "cell_type": "code",
   "execution_count": null,
   "metadata": {},
   "outputs": [],
   "source": [
    "## Code cell 10 ##\n",
    "\n",
    "echo \"scale=2; ${wcloutput}/4\" | bc -l"
   ]
  },
  {
   "cell_type": "markdown",
   "metadata": {},
   "source": [
    "If the result ends with no decimal (*i.e.* `.00`) along with correct file format (upper bullet point list), we have a good start... else please ask for information to the data supplier (platform or colleagues, because file extensions are easy to add or change and files could havebeen overwriten...)."
   ]
  },
  {
   "cell_type": "markdown",
   "metadata": {},
   "source": [
    "<blockquote>\n",
    "    Alternatively, we can directly get the number of reads noticing all reads in this file start (<code>^</code> in an expression pattern) with <code>@SRR</code>, using the command <code>zgrep</code> to do the pattern search in a <code>.gz</code> file:\n",
    "</blockquote>"
   ]
  },
  {
   "cell_type": "code",
   "execution_count": null,
   "metadata": {},
   "outputs": [],
   "source": [
    "## Code cell 11 ##\n",
    "\n",
    "time zgrep \"^@SRR\" ${arawfile} | wc -l"
   ]
  },
  {
   "cell_type": "markdown",
   "metadata": {},
   "source": [
    "---\n",
    "## 2 - First quality control on raw <code>.fastq.gz</code> files"
   ]
  },
  {
   "cell_type": "markdown",
   "metadata": {
    "tags": [],
    "toc-hr-collapsed": true
   },
   "source": [
    "### **2.1 - Tool version and introduction**\n",
    "For this step, we will use <a href=\"https://www.bioinformatics.babraham.ac.uk/projects/fastqc/\"><b>FASTQC</b></a> (notebook developped with ``FastQC v0.11.9``)."
   ]
  },
  {
   "cell_type": "code",
   "execution_count": null,
   "metadata": {},
   "outputs": [],
   "source": [
    "## Code cell 12 ##\n",
    "\n",
    "fastqc --version"
   ]
  },
  {
   "cell_type": "markdown",
   "metadata": {},
   "source": [
    "To analyze a sample, we could launch: <br>\n",
    "<code>fastqc --outdir path/to/destination/folder/ \\ <br>        path/to/file.fastq.gz</code> <br>\n",
    "where <code>-- outdir</code> introduces the path where you want new created files to be saved, while file to be analyzed is placed at the end of the line. <br>\n",
    "<br>\n",
    "For several samples, we can directly launch <code>fastqc</code> with a list of files to analyze. If several cores are availables, we can ask for <code>fastqc</code> to deal with several files at a time.\n",
    "<blockquote>\n",
    "    <code>-t 16</code> or <code>-threads 16</code> to ask for 16 files to be managed in parallel, knowing that each process will use 250 MB of RAM memory (<em>so 4 GB at a time for 16 threads, and 32 files is also 2 times 16 samples)</em> \n",
    "</blockquote>"
   ]
  },
  {
   "cell_type": "markdown",
   "metadata": {
    "toc-hr-collapsed": true
   },
   "source": [
    "### **2.2 - Prepare destination folders**"
   ]
  },
  {
   "cell_type": "markdown",
   "metadata": {},
   "source": [
    "We will store output files in ``Results/`` and in a subfolder called ``fastqc/``."
   ]
  },
  {
   "cell_type": "code",
   "execution_count": null,
   "metadata": {},
   "outputs": [],
   "source": [
    "## Code cell 13 ##\n",
    "\n",
    "qcfolder=\"${gohome}$USER/Results/fastqc/\"\n",
    "mkdir -p \"${qcfolder}\""
   ]
  },
  {
   "cell_type": "markdown",
   "metadata": {},
   "source": [
    "As it's easier to work with files saved close to each other, the matched ``.log`` file will be saved in a ``logfiles/`` subfolder, also placed in ``Results/``."
   ]
  },
  {
   "cell_type": "code",
   "execution_count": null,
   "metadata": {},
   "outputs": [],
   "source": [
    "## Code cell 14 ##\n",
    "\n",
    "logfolder=\"${gohome}$USER/Results/logfiles/\"\n",
    "mkdir -p \"${logfolder}\""
   ]
  },
  {
   "cell_type": "markdown",
   "metadata": {},
   "source": [
    "Let's remember, or set if not done in **Parameters**'s section, the number of CPU (central processing units, cores) that multithreading program `pigz` is suppose to use.  \n",
    "<div class=\"alert alert-block alert-warning\">\n",
    "    Following value of <b>4 is valid for a 5-CPU session</b>. Ideally, use 70-80% of the CPU amount your system or session has.\n",
    "</div>"
   ]
  },
  {
   "cell_type": "code",
   "execution_count": null,
   "metadata": {},
   "outputs": [],
   "source": [
    "## Code cell 15 ##\n",
    "\n",
    "authorizedCPU=${authorizedCPU}\n",
    "#authorizedCPU=4\n",
    "\n",
    "\n",
    "echo \"The number of CPU available for computing is ${authorizedCPU}\""
   ]
  },
  {
   "cell_type": "markdown",
   "metadata": {
    "toc-hr-collapsed": true
   },
   "source": [
    "### **2.3 - Run ``fastqc`` tool**"
   ]
  },
  {
   "cell_type": "code",
   "execution_count": null,
   "metadata": {},
   "outputs": [],
   "source": [
    "## Code cell 16 ##\n",
    "\n",
    "logfile=\"${logfolder}fastqc_raw-quality-processing.log\"\n",
    "echo \"Screen output is redirected to ${logfile}\""
   ]
  },
  {
   "cell_type": "code",
   "execution_count": null,
   "metadata": {},
   "outputs": [],
   "source": [
    "## Code cell 17 ##\n",
    "\n",
    "# as time command does not redirect output\n",
    "echo \"operation starting by $(date)\" >> ${logfile}\n",
    "\n",
    "time fastqc --outdir ${qcfolder} --threads ${authorizedCPU} \\\n",
    "            $(echo \"${rawfolder}\"*.gz)\\\n",
    "            &>> ${logfile}\n",
    "echo \"operation finished by $(date)\" >> ${logfile}"
   ]
  },
  {
   "cell_type": "code",
   "execution_count": null,
   "metadata": {},
   "outputs": [],
   "source": [
    "## Code cell 18 ##\n",
    "\n",
    "# to see which files we have afterward and follow folder sizes\n",
    "ls -lh ${qcfolder} >> ${logfile}\n",
    "ls -lh \"${gohome}$USER/Results/\" >> ${logfile}\n",
    "\n",
    "echo \"$(ls -l \"${qcfolder}\"*.html | wc -l) generated .html reports\""
   ]
  },
  {
   "cell_type": "markdown",
   "metadata": {},
   "source": [
    "The ouputs are in a `.zip` folder and a `.html` file, the latest being a complete summary of the analysis. <br>\n",
    "To open this `html` file, in the left-hand panel of *JupyterLab* double-click the \"Results\" folder, and in it, on the html file: it should open in a new tab beside this notebook. <br>"
   ]
  },
  {
   "cell_type": "markdown",
   "metadata": {},
   "source": [
    "If you have no teacher nor bionformatician at hand (or maybe they don't know either of this subject), you can browse some links:\n",
    "<ul class=\"alert alert-block alert-info\">\n",
    "    <li><code>fastqc</code> help sections on <a href=\"https://www.bioinformatics.babraham.ac.uk/projects/fastqc/Help/\">its raw (no layout!) website</a>\n",
    "    </li>\n",
    "    <li>Michigan state University's support facility offers a nicer <a heef=\"https://rtsf.natsci.msu.edu/genomics/tech-notes/fastqc-tutorial-and-faq/\">FASTQC Tutorial and FAQ</a>\n",
    "    </li>\n",
    "    <li><i>Assessing quality metrics</i>'s section in <a ref=\"https://hbctraining.github.io/Intro-to-rnaseq-hpc-salmon/lessons/qc_fastqc_assessment.html\">Quality control</a>, from a former workshop by the <i>Harvard Chan Bioinformatics Core</i> (HBC). <br>\n",
    "        <i>++</i>: <b>some schemes on sequencing run and detailed information in general</b> \n",
    "    </li>\n",
    "    <li><a hef=\"https://huoww07.github.io/Bioinformatics-for-RNA-Seq/lessons/02_Quality_Control.html#understand-fastqc-report\">RNA sequencing quality control with fastQC</a>'s section of <i>Tufts University Research Technology Workshop</i>\n",
    "    </li>\n",
    "</ul>\n",
    "\n",
    "After eyeing one file (<i>so only one sample!</i>), you may want to view all results at the same time to compare between samples. That's where MultiQC and next steps will help us."
   ]
  },
  {
   "cell_type": "markdown",
   "metadata": {},
   "source": [
    "---\n",
    "## 3 - Compiling a summary report with MultiQC"
   ]
  },
  {
   "cell_type": "markdown",
   "metadata": {},
   "source": [
    "When numerous samples are processed, it can easily become tedious to look at each mapping quality report. To that purpose, we will run <a href=\"https://multiqc.info/\"><b>MultiQC</b></a>, that scans automatically a folder for all quality checks outputs and produce a single interactive report in html format."
   ]
  },
  {
   "cell_type": "markdown",
   "metadata": {
    "toc-hr-collapsed": true
   },
   "source": [
    "### **3.1 - Tool version and short presentation**"
   ]
  },
  {
   "cell_type": "markdown",
   "metadata": {},
   "source": [
    "This notebook was developped with ``multiqc, version 1.13``."
   ]
  },
  {
   "cell_type": "code",
   "execution_count": null,
   "metadata": {},
   "outputs": [],
   "source": [
    "## Code cell 19 ##\n",
    "\n",
    "multiqc --version"
   ]
  },
  {
   "cell_type": "markdown",
   "metadata": {},
   "source": [
    "This tool deals with almost any possible NGS tools: see <a href=\"https://multiqc.info/docs/#multiqc-modules\">the onlinefull updated list</a> for more details and to know how it works (detectd files and folder extensions)."
   ]
  },
  {
   "cell_type": "markdown",
   "metadata": {},
   "source": [
    "By default, **multiqc** identifies any report it can parse from the input directory.\n",
    "If you want to only generate a multiQC report on specific analyses, you can add the argument ``-m`` followed by the name of the module as for example:\n",
    "<code>multiqc -m fastqc ./Results/Fastqc/ -o /Results/MultiQC_on_FastQC</code>\n",
    "> You can add several modules ``-m fastqc dir_fastqc -m qualimap dir_qualimap`` etc..."
   ]
  },
  {
   "cell_type": "markdown",
   "metadata": {},
   "source": [
    "The three main options we will use are:\n",
    "<blockquote>\n",
    "    <code>-ip</code> or <code>--interactive</code> stands for integrate dynamical graphics to have interactive plots in html report <br>\n",
    "    <code>-p</code> or <code>--export</code> to export plot as static images besides html report <br>\n",
    "    <code>-o</code> or <code>--outdir</code> to define the destination folder for output and report files <br>\n",
    "    then, folder we want to be scanned <br>\n",
    "</blockquote>\n",
    "\n",
    "Others options exist: <br>\n",
    "<blockquote>\n",
    "    <code>-d</code> or <code>--dirs</code> to append directory names to files (useful for same names in different folders) <br>\n",
    "    <code>-f</code> or <code>--force</code> to force overwriting existing files <br>\n",
    "    <code>-v</code> or <code>--verbose</code> to increase output verbosity <br>\n",
    "    <code>--tag TEXT</code> if only TEXT-matching modules are desired <br>\n",
    "    <code>--pdf</code> to get a pdf report (available only with <code>pandoc</code> library)\n",
    "</blockquote>"
   ]
  },
  {
   "cell_type": "markdown",
   "metadata": {
    "toc-hr-collapsed": true
   },
   "source": [
    "### **3.2 - Folder, filename, title and comment**\n",
    "\n",
    "We will create a subfolder in the ``Results/`` folder for ``multiqc``."
   ]
  },
  {
   "cell_type": "code",
   "execution_count": null,
   "metadata": {
    "tags": []
   },
   "outputs": [],
   "source": [
    "## Code cell 20 ##\n",
    "\n",
    "qcsummaries=\"${gohome}$USER/Results/multiqc/\"\n",
    "mkdir -p ${qcsummaries}"
   ]
  },
  {
   "cell_type": "markdown",
   "metadata": {},
   "source": [
    "All downstream reports will also be saved here and we will use different file names.\n",
    "\n",
    "We will ask MultiQC for specific and meaning filenames and title using ``-n`` and ``-i`` options.\n",
    "<blockquote>\n",
    "    <code>-n</code> or <code>--filename TEXT</code> to have a non-default report filename (warning: <code>stdout</code> will just print results to console <br>\n",
    "    <code>-i</code> or <code>--title</code>, to change file header. Also used for filename if option not specified <br>\n",
    "    <code>-b</code> or <code>--comment</code> to add any text section in report\n",
    "</blockquote>\n",
    "\n",
    "Please, specify the **file name** you want to have (do not worry about extension, MultiQC will handle this for us) inside quotes in the next cell. <a id=\"multiqctextvar\"></a>  \n",
    "<b>DO NOT use spaces or any special characters!</b> "
   ]
  },
  {
   "cell_type": "code",
   "execution_count": null,
   "metadata": {
    "tags": []
   },
   "outputs": [],
   "source": [
    "## Code cell 21 ##\n",
    "\n",
    "inamemyfile=\"1_raw-fastq-files\""
   ]
  },
  {
   "cell_type": "markdown",
   "metadata": {},
   "source": [
    "Please, specify a meaningful **title** inside quotes in the next cell, to display at the head of your oncoming report.\n",
    "<b>No more space limit but still avoid any special characters.</b> "
   ]
  },
  {
   "cell_type": "code",
   "execution_count": null,
   "metadata": {
    "tags": []
   },
   "outputs": [],
   "source": [
    "## Code cell 22 ##\n",
    "\n",
    "mytitle=\"Raw fastq files quality for 3 paired-end sequenced samples from double-Htz B-ALL mice study (Dataset GSE158673, subSerie GSE158661)\""
   ]
  },
  {
   "cell_type": "markdown",
   "metadata": {},
   "source": [
    "Besides, we can add a comment in header's report. It's a good practise to do so. So we will define it in following cell.\n",
    "\n",
    "> In this cell, we use several lines to keep it readable when displaying notebook. As your text lines are just collapsed together in the html report, be sure to keep last blank space when ending every line)."
   ]
  },
  {
   "cell_type": "code",
   "execution_count": null,
   "metadata": {
    "tags": []
   },
   "outputs": [],
   "source": [
    "## Code cell 23 ##\n",
    "\n",
    "mycomment=$(echo \"Raw fastq files from bulk RNA sequencing (mouse, unstranded) \" \\\n",
    "\"performed by Ramamoorthy et al. 2020 (PMID:  33004416 ; GEO: GSE158673, subSerie GSE158661 ; SRA: PRJNA666155).   \"    \\\n",
    "\"RNASeq analysis to unravel molecular networks driving leukemia in Ebf1+/-Pax5+/- (dHet) B-ALL mice : To profile gene expression changes in  Ebf1+/-Pax5+/- (dHet) leukemic mice, RNASeq analysis was performed in dHet B-ALL, dHet proB and wt proB\n",
    "cells.    \"    \\\n",
    "\"PRJNA666155: 3 dHet mice, 2 replicates; proB cells derived from dHet pre-leukemic mouse, 3 replicates; wt proB cells, 2 replicates.    \")   "
   ]
  },
  {
   "cell_type": "markdown",
   "metadata": {
    "toc-hr-collapsed": true
   },
   "source": [
    "### **3.3 - Generate summary report**"
   ]
  },
  {
   "cell_type": "markdown",
   "metadata": {},
   "source": [
    "MultiQC is verbose but, as it will work only on FastQC reports, it is quite short.  \n",
    "So, we will let its output lines show below while saving them in a logfile for later use."
   ]
  },
  {
   "cell_type": "code",
   "execution_count": null,
   "metadata": {
    "tags": []
   },
   "outputs": [],
   "source": [
    "## Code cell 24 ##\n",
    "\n",
    "logfile=\"${logfolder}multiqc-processing_raw-quality.log\"\n",
    "echo \"Screen output is also saved in ${logfile}\""
   ]
  },
  {
   "cell_type": "code",
   "execution_count": null,
   "metadata": {
    "tags": []
   },
   "outputs": [],
   "source": [
    "## Code cell 25 ##\n",
    "\n",
    "# as time command does not redirect output\n",
    "echo \"operation starting by $(date)\" >> ${logfile}\n",
    "multiqc --interactive --export \\\n",
    "        --outdir \"${qcsummaries}\" \\\n",
    "        --filename \"${inamemyfile}\" \\\n",
    "        --title \"${mytitle}\"  \\\n",
    "        --comment \"${mycomment}\" \\\n",
    "        \"${qcfolder}\" \\\n",
    "        |& tee -a ${logfile}\n",
    "echo \"operation finished by $(date)\" >> ${logfile}\n",
    "\n",
    "# to see which files we have afterward and follow folder sizes\n",
    "ls -lh \"${qcsummaries}\" >> ${logfile}\n",
    "ls -lh \"${gohome}$USER/Results/\" >> ${logfile}"
   ]
  },
  {
   "cell_type": "markdown",
   "metadata": {},
   "source": [
    "To open the report (``.html`` file using Javascript, language not supported by *JupyterLab* so far), download the html file from the left-hand panel and open it in your own browser for it to express its full abilities."
   ]
  },
  {
   "cell_type": "markdown",
   "metadata": {
    "toc-hr-collapsed": true
   },
   "source": [
    "---\n",
    "## 4 - Files, folders and versions summary when leaving"
   ]
  },
  {
   "cell_type": "markdown",
   "metadata": {},
   "source": [
    "Let's count the number of files in our destination folder."
   ]
  },
  {
   "cell_type": "code",
   "execution_count": null,
   "metadata": {},
   "outputs": [],
   "source": [
    "## Code cell 26 ##\n",
    "\n",
    "ls \"${qcfolder}\" | wc -l"
   ]
  },
  {
   "cell_type": "markdown",
   "metadata": {},
   "source": [
    "... and check the arborescence of our folder with the Unix command `tree`.  \n",
    "<blockquote>\n",
    "    Adding <code>-L</code> option and a number allows to stop digging into the tree folder... and let the output be still readable. <br>\n",
    "    To list only directories, use option <code>-d</code>\n",
    "</blockquote>"
   ]
  },
  {
   "cell_type": "code",
   "execution_count": null,
   "metadata": {},
   "outputs": [],
   "source": [
    "## Code cell 27 ##\n",
    "\n",
    "tree -d -L 3 \"${gohome}$USER/\""
   ]
  },
  {
   "cell_type": "markdown",
   "metadata": {},
   "source": [
    "To know how many disk space files take (either shortest output or detailed one):"
   ]
  },
  {
   "cell_type": "code",
   "execution_count": null,
   "metadata": {},
   "outputs": [],
   "source": [
    "## Code cell 28 ##\n",
    "# disk usage \n",
    "\n",
    "du -ch -d1 \"${gohome}$USER/Results/\"  \n",
    "du -ch -d1 \"${gohome}$USER\"  "
   ]
  },
  {
   "cell_type": "markdown",
   "metadata": {},
   "source": [
    "or"
   ]
  },
  {
   "cell_type": "code",
   "execution_count": null,
   "metadata": {},
   "outputs": [],
   "source": [
    "## Code cell 29 ##\n",
    "\n",
    "ls -lh \"${gohome}$USER/Results/\""
   ]
  },
  {
   "cell_type": "markdown",
   "metadata": {},
   "source": [
    "Last but not least, we list the versions of the tools used in this step for future reference:   "
   ]
  },
  {
   "cell_type": "code",
   "execution_count": null,
   "metadata": {},
   "outputs": [],
   "source": [
    "## Code cell 30 ##   \n",
    "\n",
    "module list"
   ]
  },
  {
   "cell_type": "markdown",
   "metadata": {
    "tags": []
   },
   "source": [
    "---\n",
    "___\n",
    "## Conclusion\n",
    "\n",
    "\n",
    "**Next Practical session**\n",
    "\n",
    "\n",
    "After you look at the MultiQC report in order to know what to correct in your data, proceed to next step.\n",
    "  \n",
    "**=> Step 3 : Preprocessing reads and checking for their quality** "
   ]
  },
  {
   "cell_type": "markdown",
   "metadata": {
    "tags": []
   },
   "source": [
    "The jupyter notebook used for the next session will be the *Pipe_03-bash_preprocessing-and-check.ipynb*    \n",
    "Let's retrieve it in our directory, in order to have a private copy to work on:   "
   ]
  },
  {
   "cell_type": "code",
   "execution_count": null,
   "metadata": {
    "tags": []
   },
   "outputs": [],
   "source": [
    "## Code cell 31 ##   \n",
    "\n",
    "cp \"${gohome}pipeline/Pipe_03-bash_preprocessing-and-check.ipynb\" \"${gohome}$USER/\""
   ]
  },
  {
   "cell_type": "markdown",
   "metadata": {},
   "source": [
    "\n",
    "\n",
    "**Save executed notebook**\n",
    "\n",
    "To end the session, save your exectued notebook in your `run_notebooks' folder. Adjust the name with yours and reformat as code cell to run it."
   ]
  },
  {
   "cell_type": "raw",
   "metadata": {
    "tags": []
   },
   "source": [
    "## Code cell 32 ##   \n",
    "#mkdir -p /shared/projects/2312_rnaseq_cea/$USER/run_notebooks\n",
    "cp /shared/projects/2312_rnaseq_cea/$USER/Pipe_02-bash_raw-data-quality.ipynb /shared/projects/2312_rnaseq_cea/$USER/run_notebooks"
   ]
  },
  {
   "cell_type": "markdown",
   "metadata": {
    "tags": []
   },
   "source": [
    "<div class=\"alert alert-block alert-success\"><b>Success:</b> Well done! You now know how to check quality of fastq raw data files.<br>\n",
    "Don't forget to save you notebook and export a copy as an <b>html</b> file as well <br>\n",
    "- Open \"File\" in the Menu<br>\n",
    "- Select \"Export Notebook As\"<br>\n",
    "- Export notebook as HTML<br>\n",
    "- You can then open it in your browser even without being connected to the server! \n",
    "</div>"
   ]
  },
  {
   "cell_type": "markdown",
   "metadata": {},
   "source": [
    "---\n",
    "---"
   ]
  },
  {
   "cell_type": "markdown",
   "metadata": {
    "tags": []
   },
   "source": [
    "## Useful commands\n",
    "<div class=\"alert alert-block alert-info\"> \n",
    "    \n",
    "- <kbd>CTRL</kbd>+<kbd>S</kbd> : save notebook<br>    \n",
    "- <kbd>CTRL</kbd>+<kbd>ENTER</kbd> : Run Cell<br>  \n",
    "- <kbd>SHIFT</kbd>+<kbd>ENTER</kbd> : Run Cell and Select Next<br>   \n",
    "- <kbd>ALT</kbd>+<kbd>ENTER</kbd> : Run Cell and Insert Below<br>   \n",
    "- <kbd>ESC</kbd>+<kbd>y</kbd> : Change to *Code* Cell Type<br>  \n",
    "- <kbd>ESC</kbd>+<kbd>m</kbd> : Change to *Markdown* Cell Type<br> \n",
    "- <kbd>ESC</kbd>+<kbd>r</kbd> : Change to *Raw* Cell Type<br>    \n",
    "- <kbd>ESC</kbd>+<kbd>a</kbd> : Create Cell Above<br> \n",
    "- <kbd>ESC</kbd>+<kbd>b</kbd> : Create Cell Below<br> \n",
    "\n",
    "<em>  \n",
    "To make nice html reports with markdown: <a href=\"https://dillinger.io/\" title=\"dillinger.io\">html visualization tool 1</a> or <a href=\"https://stackedit.io/app#\" title=\"stackedit.io\">html visualization tool 2</a>, <a href=\"https://www.tablesgenerator.com/markdown_tables\" title=\"tablesgenerator.com\">to draw nice tables</a>, and the <a href=\"https://medium.com/analytics-vidhya/the-ultimate-markdown-guide-for-jupyter-notebook-d5e5abf728fd\" title=\"Ultimate guide\">Ultimate guide</a>. <br>\n",
    "Further reading on JupyterLab notebooks: <a href=\"https://jupyterlab.readthedocs.io/en/latest/user/notebook.html\" title=\"Jupyter Lab\">Jupyter Lab documentation</a>.<br>   \n",
    "</em>    \n",
    " \n",
    "</div>"
   ]
  },
  {
   "cell_type": "markdown",
   "metadata": {},
   "source": [
    "---\n",
    "Bénédicte Noblet - 05-07 2021   \n",
    "Sandrine Caburet - 02-05 2023   \n",
    "Claire Vandiedonck - 02-06 2023  \n",
    "Maj 02/06/2023 par @SCaburet"
   ]
  }
 ],
 "metadata": {
  "kernelspec": {
   "display_name": "Bash",
   "language": "bash",
   "name": "bash"
  },
  "language_info": {
   "codemirror_mode": "shell",
   "file_extension": ".sh",
   "mimetype": "text/x-sh",
   "name": "bash"
  },
  "toc-autonumbering": false,
  "toc-showcode": true,
  "toc-showmarkdowntxt": false
 },
 "nbformat": 4,
 "nbformat_minor": 4
}

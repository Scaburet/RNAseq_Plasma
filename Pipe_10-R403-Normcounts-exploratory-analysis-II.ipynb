{
 "cells": [
  {
   "cell_type": "markdown",
   "id": "aa070cbd-bd01-468b-ac65-fc6f00c27dda",
   "metadata": {},
   "source": [
    "# Formation RNAseq CEA - juin 2023\n",
    "\n",
    "*Enseignantes : Sandrine Caburet et Claire Vandiedonck*\n",
    "\n",
    "Session IFB : 5 CPU + 21 GB de RAM\n",
    "\n",
    "# Part 10 : Exploratory analysis of normalized read counts"
   ]
  },
  {
   "cell_type": "markdown",
   "id": "23222ca3-0048-4f32-9d23-8f1a6c2d8891",
   "metadata": {},
   "source": [
    "\n",
    "- 0. 1 - Setting up this R session on IFB core cluster  \n",
    "- 0. 2 - Parameters to be set or modified by the user   \n",
    "- 1 - Loading input data and metadata   \n",
    "- 2 - Principal Component Analysis   \n",
    "- 3 - Clustering and Heatmaps\n",
    "- 4 - Correlograms\n",
    "- 5 - Volcano plot\n",
    "- 6 - Saving our results for later use: DE genes lists and RData file"
   ]
  },
  {
   "cell_type": "markdown",
   "id": "71ec47eb-3cc4-46da-ac3e-cb15a9cdff37",
   "metadata": {
    "tags": []
   },
   "source": [
    "---\n",
    "\n",
    "## 0.1 - Setting up this R session on IFB core cluster\n",
    "\n",
    "<em>loaded JupyterLab</em> : Version 3.2.1"
   ]
  },
  {
   "cell_type": "code",
   "execution_count": null,
   "id": "5d5c4bc3-8466-4b1e-af55-879803430712",
   "metadata": {
    "tags": []
   },
   "outputs": [],
   "source": [
    "## Code cell 1 ##\n",
    "\n",
    "session_parameters <- function(){\n",
    "    \n",
    "    jupytersession <- c(system('echo \"=== Cell launched on $(date) ===\"', intern = TRUE),\n",
    "                        system('squeue -hu $USER', intern = TRUE))\n",
    "    \n",
    "    jobid <- system(\"squeue -hu $USER | awk '/jupyter/ {print $1}'\", intern = TRUE)\n",
    "    jupytersession <- c(jupytersession,\n",
    "                        \"=== Current IFB session size: Medium (5CPU, 21 GB) ===\",\n",
    "                        system(paste(\"sacct --format=JobID,AllocCPUS,NODELIST -j\", jobid), intern = TRUE))\n",
    "    print(jupytersession[1:6])\n",
    "    \n",
    "    return(invisible(NULL))\n",
    "}\n",
    "\n",
    "session_parameters()"
   ]
  },
  {
   "cell_type": "markdown",
   "id": "996a4f31-82e9-4362-9a41-00626c3b7f07",
   "metadata": {},
   "source": [
    "__\n",
    "\n",
    "Next we load into this R session the various tools that we will use.   \n",
    "***DO NOT worry*** if you see a large red output!!   \n",
    "You should see this large red output only once, when the relevant packages are installed in your home directory. Afterwards, they will be detected as present, and this large red output won't show if you run the cell another time."
   ]
  },
  {
   "cell_type": "code",
   "execution_count": null,
   "id": "c6049f7b-da44-4093-9632-63cbc985d73b",
   "metadata": {
    "tags": []
   },
   "outputs": [],
   "source": [
    "## Code cell 2 ##\n",
    "\n",
    "# list the required libraries from the CRAN repository\n",
    "requiredLib <- c(\n",
    "    \"ggfortify\",\n",
    "    \"ggrepel\",\n",
    "    \"RColorBrewer\",\n",
    "    \"ggplot2\",\n",
    "    \"stringr\",\n",
    "    \"matrixStats\",\n",
    "    \"ComplexHeatmap\",\n",
    "    \"corrplot\",\n",
    "    \"BiocManager\"\n",
    ")\n",
    "\n",
    "# list the required libraries from the Bioconductor project\n",
    "requiredBiocLib <- c(\"DESeq2\")\n",
    "\n",
    "# install required libraries if not yet installed\n",
    "for (lib in requiredLib) {\n",
    "  if (!require(lib, character.only = TRUE, quiet = TRUE)) {\n",
    "    install.packages(lib, quiet = TRUE)\n",
    "  }\n",
    "}\n",
    "\n",
    "for( lib in requiredBiocLib) {\n",
    "  if (!require(lib, character.only = TRUE, quiet = TRUE)) {\n",
    "  BiocManager::install(lib, quiet = TRUE)\n",
    "  }\n",
    "}\n",
    "\n",
    "# load libraries\n",
    "message(\"Loading required libraries\")\n",
    "for (lib in requiredLib) {\n",
    "  library(lib, character.only = TRUE)}\n",
    "for (lib in requiredBiocLib) {\n",
    "  library(lib, character.only = TRUE)}\n",
    "\n",
    "# remove variables from the R session if they are no longer necessary \n",
    "rm(lib, requiredLib, requiredBiocLib)"
   ]
  },
  {
   "cell_type": "markdown",
   "id": "24b4a98b-41bb-4523-baf2-febf714927fa",
   "metadata": {
    "tags": []
   },
   "source": [
    "---\n",
    "\n",
    "## 0.2 - Parameters to be set or modified by the user\n"
   ]
  },
  {
   "cell_type": "markdown",
   "id": "e5d10e33-f503-42bc-b32c-767c38253bd3",
   "metadata": {},
   "source": [
    "- Using a full path with a `/` at the end, **define the folder** of the project as  `gohome` variable, and the folder where you work as the `myfolder` variable:"
   ]
  },
  {
   "cell_type": "code",
   "execution_count": null,
   "id": "5e391f06-1601-48a1-b211-90cc64eab803",
   "metadata": {},
   "outputs": [],
   "source": [
    "## Code cell 3 ##\n",
    "\n",
    "\n",
    "gohome <- \"/shared/projects/2312_rnaseq_cea/\"\n",
    "gohome\n",
    "\n",
    "# In a Jupyter Hub and a jupyter notebook in R, by default the working directory is where the notebook is opened\n",
    "getwd()\n",
    "\n",
    "myfolder <- getwd()\n",
    "myfolder\n"
   ]
  },
  {
   "cell_type": "markdown",
   "id": "a0098703-e4f0-446f-90b3-a6ecc2b8863b",
   "metadata": {},
   "source": [
    "- With a `/` at the end, define the path to the folder where the results of this exploratory analysis will be stored. As it is a logical step usually performed together with the normalisation by `DESeq2`, we can stay in the same output folder :"
   ]
  },
  {
   "cell_type": "code",
   "execution_count": null,
   "id": "e23a6981-03cc-4771-ae40-840dfca02329",
   "metadata": {},
   "outputs": [],
   "source": [
    "## Code cell 4 ##\n",
    "\n",
    "# creation of the directory, recursive = TRUE is equivalent to the mkdir -p in Unix\n",
    "# we can skip this step as the folder is already created\n",
    "# dir.create(paste(myfolder,\"/Results/deseq2/\", sep = \"\"), recursive = TRUE)\n",
    "\n",
    "# storing the path to this output folder in a variable\n",
    "deseq2folder <- paste(myfolder,\"/Results/deseq2/\", sep = \"\")\n",
    "deseq2folder\n",
    "\n",
    "# listing the content of the folder\n",
    "print(system(paste(\"ls -hlt\", deseq2folder), intern = TRUE) )"
   ]
  },
  {
   "cell_type": "markdown",
   "id": "1959ea3b-28a7-4f43-adb5-e3d69eefbc89",
   "metadata": {},
   "source": [
    "- Last, we specify the size of the graphical outputs that will be used for all the plots in the notebook.    \n",
    "This setting could be modified at will for each plot. "
   ]
  },
  {
   "cell_type": "code",
   "execution_count": null,
   "id": "3b9c0448-04cd-469b-b286-45da0e9645f7",
   "metadata": {},
   "outputs": [],
   "source": [
    "## Code cell 5 ##\n",
    "\n",
    "options(repr.plot.width=15, repr.plot.height=8)"
   ]
  },
  {
   "cell_type": "markdown",
   "id": "efea1a0e-c134-4ba5-b929-ae5cb38fab20",
   "metadata": {},
   "source": [
    "## 1 - Loading input data and metadata"
   ]
  },
  {
   "cell_type": "markdown",
   "id": "ab4924e3-08ff-41fc-9b19-7296f53ca87e",
   "metadata": {},
   "source": [
    "We now need to retrieve the normalized data that we generated in the previous session.   \n",
    "As we stored it in a global Rdata objet at the end of Pipe_09, we can simply reload all our information by opening this Rdata object.  "
   ]
  },
  {
   "cell_type": "code",
   "execution_count": null,
   "id": "b1920fae-713e-44d0-8bc1-b9d018ca7765",
   "metadata": {},
   "outputs": [],
   "source": [
    "## Code cell 6 ##\n",
    "\n",
    "rdata <- paste0(deseq2folder,\"deseq2.RData\")\n",
    "rdata\n",
    "load(rdata,verbose = TRUE)"
   ]
  },
  {
   "cell_type": "markdown",
   "id": "7ef3cf90-8715-4f1c-bd30-03f5ef34be6f",
   "metadata": {},
   "source": [
    "We can now list all the object we have currently in our session: "
   ]
  },
  {
   "cell_type": "code",
   "execution_count": null,
   "id": "8dd943bb-a0e1-48fc-b2e1-536ef59db297",
   "metadata": {},
   "outputs": [],
   "source": [
    "## Code cell 7 ##\n",
    "\n",
    "ls() "
   ]
  },
  {
   "cell_type": "markdown",
   "id": "6d9346ea-e9fc-4c81-b22e-92b67e503932",
   "metadata": {},
   "source": [
    "What we need now is the `rlog.dds2.annot` object, that contains the normalized read counts, with the Ensembl Gene ID in the first column, and the gene name in the 19th column:"
   ]
  },
  {
   "cell_type": "code",
   "execution_count": null,
   "id": "0dcc240f-abbb-4f0b-81e2-2a05ca095b2d",
   "metadata": {},
   "outputs": [],
   "source": [
    "## Code cell 8 ##\n",
    "\n",
    "head(rlog.dds2.annot) \n"
   ]
  },
  {
   "cell_type": "code",
   "execution_count": null,
   "id": "bb2cd633-cbe1-4d0c-a76c-d317917bce03",
   "metadata": {},
   "outputs": [],
   "source": [
    "## Code cell 9 ##\n",
    "\n",
    "head(rlog.dds2.annot[ , 19])\n"
   ]
  },
  {
   "cell_type": "markdown",
   "id": "9635efe3-60c2-4fe3-b543-1ed7631b0522",
   "metadata": {},
   "source": [
    "We will use this matrix of normalized read counts as input for our in-depth exploratory analysis, so we store it in a specific object, `norm_counts`, together with the column with gene names, taht we put in the first column:"
   ]
  },
  {
   "cell_type": "code",
   "execution_count": null,
   "id": "bca3d858-abb3-47dc-a67a-c71a51bb6d36",
   "metadata": {},
   "outputs": [],
   "source": [
    "## Code cell 10 ##\n",
    "\n",
    "norm_counts <- rlog.dds2.annot[,c(19, 2:12)]\n",
    "dim(norm_counts)\n",
    "head(norm_counts, n= 5)\n",
    "summary(norm_counts)"
   ]
  },
  {
   "cell_type": "markdown",
   "id": "a97feb07-990a-4a90-b1c6-1c17042dfa86",
   "metadata": {},
   "source": [
    "In order to have all the visualisation in a single session, we can plot again the distribution of normalised reads:"
   ]
  },
  {
   "cell_type": "code",
   "execution_count": null,
   "id": "da5d0ad7-bd68-45cd-8075-ef5b8ec0b2d6",
   "metadata": {
    "tags": []
   },
   "outputs": [],
   "source": [
    "## Code cell 11 ##\n",
    "\n",
    "# make a colour vector\n",
    "conditionColor <- match(samples$Condition, c(\"dHet\", \"dHetRag\", \"WT\")) + 1\n",
    "# '+1' to avoid color '1' i.e. black\n",
    "\n",
    "# Check distributions of samples using boxplots, using only the columns with read counts\n",
    "boxplot(norm_counts[,2:12],\n",
    "        xlab=\"\",\n",
    "        ylab=\"rlog.dds2.annot Counts\",\n",
    "        las=2,\n",
    "        col=conditionColor,\n",
    "        main=\"rlog.dds2.annot Counts\")\n",
    "# Let's add a blue horizontal line that corresponds to the median\n",
    "abline(h=median(as.matrix(norm_counts[ ,2:12])), col=\"blue\")"
   ]
  },
  {
   "cell_type": "markdown",
   "id": "d31b1fa5-8ee5-4aaf-a0ce-b18e3efca095",
   "metadata": {},
   "source": [
    "## 2 - Principal Component Analysis"
   ]
  },
  {
   "cell_type": "markdown",
   "id": "12af9b20-6ec7-4834-a62d-4d85b9d2dd15",
   "metadata": {},
   "source": [
    "### 2.1 - PCA on all genes   \n",
    "We performed a first PCA before normalising the data (in Pipe_08), we are now going to see if the normalisation of the read counts enables a better reduction of dimensionality.    \n",
    "We run the PCA the same way we did in Pipe_08: "
   ]
  },
  {
   "cell_type": "code",
   "execution_count": null,
   "id": "084dac46-9299-4d0d-8c8d-f56ab81c11df",
   "metadata": {
    "tags": []
   },
   "outputs": [],
   "source": [
    "## Code cell 12 ##\n",
    "\n",
    "# run PCA\n",
    "PCAdata <- prcomp(t(norm_counts[, 2:12]))\n",
    "summary(PCAdata)"
   ]
  },
  {
   "cell_type": "markdown",
   "id": "ea124e86-0147-47d9-b6fb-7ce75d71a37f",
   "metadata": {},
   "source": [
    "* **Scree plot**\n",
    "\n",
    "We add a **scree plot**, that provides a visualisation of the part of variance described in the succesive Principal Components. The first components are always the ones describing the largest part of variance, but a scree plot is a good way to see how many componetns could be interesting to explore."
   ]
  },
  {
   "cell_type": "code",
   "execution_count": null,
   "id": "f9de50a6-7530-4b8b-87c4-8fa01922eb19",
   "metadata": {},
   "outputs": [],
   "source": [
    "## Code cell 13 ##\n",
    "\n",
    "# to display the two scree plots side by side\n",
    "layout(matrix(1:2, ncol=2))\n",
    "\n",
    "screeplot(PCAdata)\n",
    "screeplot(PCAdata, type=\"lines\", main = \"Screeplot PCAdata - Eigenvalues\")"
   ]
  },
  {
   "cell_type": "markdown",
   "id": "293257fd-5b5d-4880-95cd-bb9adb4ae7e4",
   "metadata": {},
   "source": [
    "* **PCA plots**\n",
    "\n",
    "Now we plot the PCA for the first 2 dimensions, and a second one for the third and fourth PC:"
   ]
  },
  {
   "cell_type": "code",
   "execution_count": null,
   "id": "a45b8459-91f4-4b11-b271-fbb911d1ff09",
   "metadata": {},
   "outputs": [],
   "source": [
    "## Code cell 14 ##\n",
    "\n",
    "autoplot(PCAdata,\n",
    "         data = samples, \n",
    "         colour=\"Condition\", \n",
    "         shape=\"Tissue\",\n",
    "         size=6) +\n",
    "        geom_text_repel(aes(x=PC1, y=PC2, label=SampleName), box.padding = 0.8)\n"
   ]
  },
  {
   "cell_type": "code",
   "execution_count": null,
   "id": "ba32838e-ed6c-47d8-918e-35c197e661ec",
   "metadata": {},
   "outputs": [],
   "source": [
    "## Code cell 15 ##\n",
    "\n",
    "autoplot(PCAdata,\n",
    "         x = 3,    # PC3\n",
    "         y = 4,    # PC4\n",
    "         data = samples, \n",
    "         colour=\"Condition\", \n",
    "         shape=\"Tissue\",\n",
    "         size=6) +\n",
    "    geom_text_repel(aes(x=PC3, y=PC4, label=SampleName), box.padding = 0.8)\n"
   ]
  },
  {
   "cell_type": "markdown",
   "id": "04efb9b9-8400-46ec-a354-9b6bdf4f7afe",
   "metadata": {},
   "source": [
    "We can see that, now that we look at the normalised data, PC1 separates clearly the leukemic cells from the non-leukemic cells, and that PC2 separates clearly the dHet cells from the WT ones. Again PC3 and PC4 seem to  separate the various mice, and to group the replicates.   \n",
    "    "
   ]
  },
  {
   "cell_type": "markdown",
   "id": "e2b57b27-872d-47d1-bba3-fcfdf1dcb56a",
   "metadata": {},
   "source": [
    "### 2.2 - PCA on the most variant genes"
   ]
  },
  {
   "cell_type": "markdown",
   "id": "d3224aea-1ffb-4dbd-a941-0e31434ac13c",
   "metadata": {},
   "source": [
    "#### 2.2.a - Selection of the most variable genes"
   ]
  },
  {
   "cell_type": "markdown",
   "id": "58176ba2-ad7c-402c-a686-66be9fcd4a97",
   "metadata": {},
   "source": [
    "Although we can see a nice separation for our dataset, it is not recommended to use all the genes to perform a PCA, even if we limit to expressed genes. Indeed, the differences between the conditions are likely to be due to a more limited number of genes that do vary because of the conditions in a way that is truly meaningful biologically.   \n",
    "So the genes under consideration for a PCA are usually restricted to the more variant ones, i.e the 1000 most variable genes, or the top 5 or 10 %.   \n",
    "Here, we are going to select the top 50 genes, on the basis of their variances.   \n",
    "\n",
    "* **Initial number of genes in our data:**"
   ]
  },
  {
   "cell_type": "code",
   "execution_count": null,
   "id": "7ad6b370-1dee-4e41-87a5-933f3c3f97f4",
   "metadata": {},
   "outputs": [],
   "source": [
    "## Code cell 16 ##\n",
    "\n",
    "dim(norm_counts)"
   ]
  },
  {
   "cell_type": "markdown",
   "id": "840257dd-41c3-4133-a4d3-c14a766bea96",
   "metadata": {},
   "source": [
    "* **Variance and Coefficient of variation**   \n",
    "The coefficient of variation (CV) is a relative measure of variability that indicates the size of a standard deviation in relation to its mean. It is a standardized, unitless measure that allows you to compare variability between disparate groups and characteristics.   It is recommended to use the CV instead of variance when the variables under consideration in the dataset are very different and present large differences in ranges (such as age and dosages, for example). Then the ranges of variations of the different variable conditions have to be scaled.\n",
    "\n",
    "We could use the CV to select the most variant genes, but here, it is not really required, as we do not have varoabes with different scales.  \n",
    "Therefore we provide the way to compute the CV for reference, but we go on with the variance. \n"
   ]
  },
  {
   "cell_type": "raw",
   "id": "1ee6eade-a437-4993-ae5e-902d485796d7",
   "metadata": {},
   "source": [
    "## (Code cell 17) ##\n",
    "# alternative way of finding the most variant genes with the coefficient of variation\n",
    "\n",
    "# we define a function to compute the coefficient of variation\n",
    "\n",
    "compute_cv <- function(x){\n",
    "    sd(x,  na.rm=TRUE) / mean(x, na.rm=TRUE)\n",
    "    }\n",
    "# we apply our function to our matrix, and we store the results in cv_genes\n",
    "var_genes <- apply(norm_counts[, 2:12], MARGIN = 1, FUN = compute_cv)"
   ]
  },
  {
   "cell_type": "markdown",
   "id": "bb53b1eb-0421-4b41-be5e-04f344b4fc70",
   "metadata": {},
   "source": [
    "We first compute the variance of all genes, using the rowVars() function, and we verify that no gene has a null variance:"
   ]
  },
  {
   "cell_type": "code",
   "execution_count": null,
   "id": "495367d0-25c1-487b-ae5f-99af6802493b",
   "metadata": {},
   "outputs": [],
   "source": [
    "## Code cell 17 ##\n",
    "#m <- as.matrix(norm_counts[ ,2:12])\n",
    "var_genes <- matrixStats::rowVars(as.matrix(norm_counts[ ,2:12]))\n",
    "str(var_genes)\n",
    "length(which(is.na(var_genes)))"
   ]
  },
  {
   "cell_type": "markdown",
   "id": "acba8e5b-f789-447c-aa53-79e9f6192d18",
   "metadata": {},
   "source": [
    "`var_genes`does not contain the gene names, so we add them:"
   ]
  },
  {
   "cell_type": "code",
   "execution_count": null,
   "id": "23e3d479-8972-47e0-873c-f0933c1eae55",
   "metadata": {},
   "outputs": [],
   "source": [
    "## Code cell 18 ##\n",
    "\n",
    "names(var_genes) <- norm_counts[,1]\n",
    "head(var_genes)\n",
    "length(unique(var_genes))"
   ]
  },
  {
   "cell_type": "markdown",
   "id": "091c4887-390b-43f2-99cc-c9ecaff6586d",
   "metadata": {},
   "source": [
    "We sort `var_genes` on decreasing values of the variance, and we store the first 50 rows in `topVargenes`:"
   ]
  },
  {
   "cell_type": "code",
   "execution_count": null,
   "id": "ebd7e701-97fa-4a8a-ba50-f7e74877e10a",
   "metadata": {},
   "outputs": [],
   "source": [
    "## Code cell 19 ##\n",
    "\n",
    "topVargenes <- head(sort(var_genes, decreasing = TRUE), 50)\n",
    "head(topVargenes)\n"
   ]
  },
  {
   "cell_type": "markdown",
   "id": "c930f442-5c0c-4701-9b51-188800f4a8c9",
   "metadata": {},
   "source": [
    "and we create a dataframe containing the normalised counts for these top genes, again with gene names in the first column, by selecting the top genes from the `norm_counts`dataframe:"
   ]
  },
  {
   "cell_type": "code",
   "execution_count": null,
   "id": "6c44d76f-221c-4a4b-b81e-2f2748fe28dc",
   "metadata": {},
   "outputs": [],
   "source": [
    "## Code cell 20 ##\n",
    "\n",
    "top50var  <- subset(norm_counts, gene_name %in% names(topVargenes))"
   ]
  },
  {
   "cell_type": "markdown",
   "id": "a423fad4-4ab4-4b02-9ebe-ec4efd733d0b",
   "metadata": {},
   "source": [
    "We verify the size of the `top50var`dataframe, and if we have indeed unique genes:"
   ]
  },
  {
   "cell_type": "code",
   "execution_count": null,
   "id": "17c520a4-cd94-425a-985e-8532a97d6287",
   "metadata": {},
   "outputs": [],
   "source": [
    "## Code cell 21 ##\n",
    "\n",
    "dim(top50var)\n",
    "length(unique(top50var$gene_name))\n",
    "head(top50var, n=5)\n"
   ]
  },
  {
   "cell_type": "markdown",
   "id": "9cb93704-9b06-4bfc-8283-2a2ad27b0842",
   "metadata": {},
   "source": [
    "We can have a quick glance at those genes, to see if we recognize some of them... and indeed, the first one is interesting! :-D "
   ]
  },
  {
   "cell_type": "code",
   "execution_count": null,
   "id": "dea6bbce-6e9b-4779-bbbd-d5581867486f",
   "metadata": {},
   "outputs": [],
   "source": [
    "## Code cell 22 ##\n",
    "\n",
    "names(topVargenes)"
   ]
  },
  {
   "cell_type": "markdown",
   "id": "4027e2ae-3d5d-4f02-91cc-01a0fbc894cc",
   "metadata": {},
   "source": [
    "In order to use this dataframe for the next steps, we put the gene names as row names (instead of numbers). "
   ]
  },
  {
   "cell_type": "code",
   "execution_count": null,
   "id": "6bd26ff4-0fa5-4552-ad2a-1f6a39c2853a",
   "metadata": {},
   "outputs": [],
   "source": [
    "## Code cell 23 ##\n",
    "\n",
    "row.names(top50var) = top50var$gene_name"
   ]
  },
  {
   "cell_type": "markdown",
   "id": "f42007c2-21e8-4048-b498-5790c9c4ca7f",
   "metadata": {},
   "source": [
    "#### 2.2.b - PCA plots"
   ]
  },
  {
   "cell_type": "markdown",
   "id": "df4517b3-495f-4fac-ba24-095b858ea3d4",
   "metadata": {},
   "source": [
    "We now use these top genes to perform our new PCA:"
   ]
  },
  {
   "cell_type": "code",
   "execution_count": null,
   "id": "076df6ec-7b33-4ef0-b528-5f24f88d0f45",
   "metadata": {
    "tags": []
   },
   "outputs": [],
   "source": [
    "## Code cell 24 ##\n",
    "\n",
    "# run PCA\n",
    "PCAdata2 <- prcomp(t(top50var[,-1]))\n"
   ]
  },
  {
   "cell_type": "markdown",
   "id": "b738c0c9-ff50-4d7b-be5f-845303c63d74",
   "metadata": {},
   "source": [
    "* **Scree plots**\n",
    "\n",
    "We display the corresponding scree plots and the first 2 PC:"
   ]
  },
  {
   "cell_type": "code",
   "execution_count": null,
   "id": "83db0180-6321-4209-a8fe-75b83172e5b3",
   "metadata": {},
   "outputs": [],
   "source": [
    "## Code cell 25 ##\n",
    "\n",
    "# to display the two scree plots side by side\n",
    "layout(matrix(1:2, ncol=2))\n",
    "\n",
    "screeplot(PCAdata2)\n",
    "screeplot(PCAdata2, type=\"lines\")"
   ]
  },
  {
   "cell_type": "markdown",
   "id": "790144c2-d780-46b3-85e1-43feb0c1bab3",
   "metadata": {},
   "source": [
    "The scree plots confirm that there is  no interest in looking into PC dimensions beyond PC3 or PCA, as the remaining ones explain very little parts of the inertia (or total variance).  "
   ]
  },
  {
   "cell_type": "markdown",
   "id": "ada747ef-a32f-4c1a-bbce-d318c1ad9687",
   "metadata": {},
   "source": [
    "* **PCA plots**"
   ]
  },
  {
   "cell_type": "code",
   "execution_count": null,
   "id": "e10003f7-442c-4e68-830d-ca911249feea",
   "metadata": {},
   "outputs": [],
   "source": [
    "## Code cell 26 ##\n",
    "\n",
    "autoplot(PCAdata2,\n",
    "         data = samples, \n",
    "         colour=\"Condition\", \n",
    "         shape=\"Tissue\",\n",
    "         size=6) +\n",
    "        geom_text_repel(aes(x=PC1, y=PC2, label=SampleName), box.padding = 0.8)\n"
   ]
  },
  {
   "cell_type": "markdown",
   "id": "b726b287-9ccd-4db2-9ede-d7861f7f59f5",
   "metadata": {},
   "source": [
    "We can see that the portion of variance explained by PC1 and PC2 is higher, when we take into consideration only our top genes. This is indeed logical, as these genes are likely to be the most impacted by the change of conditions.   \n"
   ]
  },
  {
   "cell_type": "markdown",
   "id": "4a30199a-0442-494f-b46a-ce66c4919c84",
   "metadata": {},
   "source": [
    "* **Biplot**\n",
    " \n",
    "The biplot is a very popular way for visualization of results from PCA, as it combines both the principal component scores and the loading vectors in a single biplot display. Each vector represents a gene, and the arrow represents the influence of this gene on the PC: the longer the arrow, the stronger the influence.\n",
    "\n",
    "- The orientation (direction) of the vector, with respect to the principal component space, in particular, its angle with the principal component axes: the more parallel to a principal component axis is a vector, the more it contributes only to that PC.\n",
    "\n",
    "- The length in the space: the longer the vector, the more variability of this variable is represented by the two displayed principal components; short vectors are thus better represented in other dimension.\n",
    "\n",
    "- The angles between vectors of different variables show their correlation in this space: small angles represent high positive correlation, right angles represent lack of correlation, opposite angles represent high negative correlation.\n",
    "\n"
   ]
  },
  {
   "cell_type": "code",
   "execution_count": null,
   "id": "207e7bfd-a5f2-4662-b2e2-dd1c7d24e421",
   "metadata": {
    "tags": []
   },
   "outputs": [],
   "source": [
    "## Code cell 27 ##\n",
    "\n",
    "biplot(PCAdata2,\n",
    "       scale = 0)"
   ]
  },
  {
   "cell_type": "markdown",
   "id": "32d3327e-c9fe-4755-a428-6ee7e7959dea",
   "metadata": {},
   "source": [
    "Here, we can see that `Xist` points towards the bottom right, but its vector is longer towards the bottom than towards the right. Therefore, we can deduce that the variation of `Xist` expression in our dataset contributes more to the PC2 axis, that is to the difference of dHet cells (leukemic or not) compared to WT cells. "
   ]
  },
  {
   "cell_type": "markdown",
   "id": "20e411af-e82d-43af-ace5-a451090eff45",
   "metadata": {},
   "source": [
    "You can obtain more refined plots for PCA, scree plots and bi plots (and more) by using dedicated packages.    \n",
    "One of the best and most popular is [FactoMineR](http://factominer.free.fr/index_fr.html), with its  companion package factoextra.    \n",
    "You can find many tutorials, such as this one:    \n",
    "http://www.sthda.com/english/wiki/wiki.php?id_contents=7851"
   ]
  },
  {
   "cell_type": "markdown",
   "id": "4446deaf-b23e-4ad0-a0b0-3685b7f2760c",
   "metadata": {},
   "source": [
    "---  \n",
    "\n",
    "\n",
    "## 3 - Clustering and Heatmaps "
   ]
  },
  {
   "cell_type": "markdown",
   "id": "322127fa-85b7-4e2c-ada8-90acda00ecaf",
   "metadata": {
    "tags": []
   },
   "source": [
    "### 3.1 - Hierarchical clustering   \n",
    "\n",
    "As we did before normalisation, we will look at the grouping of our samples using a Hierarchical Clustering.    \n",
    "This  representation is used to cluster the samples based on dissimilarity indexes *(see lecture 12, here we will use the Ward distance)*. More information can be found with `?hclust` (or in the Contextual Help panel on the right, that can be opened via the Help menu).\n",
    "\n",
    "Hierarchical clustering is performed in two steps: calculate the distance matrix and apply clustering. "
   ]
  },
  {
   "cell_type": "code",
   "execution_count": null,
   "id": "d1c3e4c9-3f25-4fa1-b5cc-337fa6c83ff9",
   "metadata": {},
   "outputs": [],
   "source": [
    "## Code cell 28 ##\n",
    "\n",
    "clusters <- hclust(dist(as.matrix(t(top50var[ ,-1]))), method =\"ward.D\")\n",
    "plot(clusters)\n",
    "\n",
    "rm(clusters)    "
   ]
  },
  {
   "cell_type": "markdown",
   "id": "be159e42-368b-4850-8421-7e69ac92966c",
   "metadata": {
    "tags": []
   },
   "source": [
    "We can see that replicates from the same mouse cluster together, as expected. What is less expected is the grouping together of leukemic cells with WT ones! You could test other methods and see that this clustering is robust."
   ]
  },
  {
   "cell_type": "markdown",
   "id": "63b493df-2ed9-414f-8a02-94ea4d948601",
   "metadata": {},
   "source": [
    "### 3.2 - Simple heatmaps   \n",
    "\n",
    "Another way of looking at  expression data is a heatmap, that shows the level of expression of genes as colors, usually organised with samples in columns, and genes as rows.   \n",
    "\n",
    "A simple and efficient way of plotting such a display is the function `heatmap()`, that gives a combined output combining a heatmap and dendrograms grouping samples and genes, as in hierarchical clustering:"
   ]
  },
  {
   "cell_type": "code",
   "execution_count": null,
   "id": "1b34d91d-0c43-4dd7-945f-70646138a1ee",
   "metadata": {},
   "outputs": [],
   "source": [
    "## Code cell 29 ##\n",
    "\n",
    "heatmap(as.matrix(top50var[,-1]))"
   ]
  },
  {
   "cell_type": "markdown",
   "id": "5eb978d6-6fd0-4957-8403-8c144366b013",
   "metadata": {},
   "source": [
    "### 3.2 - Enhanced heatmaps with `ComplexHeatmap`\n",
    "---\n",
    "\n",
    "There are two main packages to draw enhanced heatmaps:\n",
    "- [pheatmap](https://cran.r-project.org/web/packages/pheatmap/index.html): a CRAN packages.\n",
    "- [ComplexHeatmap](https://jokergoo.github.io/ComplexHeatmap-reference/book/) on GitHub but also available in Bioconductor, the second generation of pheatmap.\n",
    "\n",
    "ComplexHeatmap is the most flexible tool to draw heatmaps with a lot of options, notably to add annotations.  \n",
    "Below is presented a quick example on ComplexHeatmap usage."
   ]
  },
  {
   "cell_type": "markdown",
   "id": "22b952ca-f07a-4d87-9f81-b8afeba5205c",
   "metadata": {},
   "source": [
    "- To use ComplexHeatmap, the dataset must be a **matrix** with samples in columns and genes in rows. We thus transpose our matrix `top50var`.\n",
    "\n",
    "- In addition, we use the function `scale()` to **center our data with a Z score**. Centering the values will provide a heatmap with a more neutral color for middle values, thus enabling a better visualisation of variations."
   ]
  },
  {
   "cell_type": "code",
   "execution_count": null,
   "id": "0aa70b0d-e826-46eb-96cc-72ec1f21087a",
   "metadata": {},
   "outputs": [],
   "source": [
    "# Code cell 30 ##\n",
    "\n",
    "t_top50var <- t(apply(top50var[,-1], 1, scale))"
   ]
  },
  {
   "cell_type": "markdown",
   "id": "1cabd977-373a-4f8e-87fb-56c8eb69facf",
   "metadata": {},
   "source": [
    "- Then you select a **distance** for the similarity between samples. It can be a pre-defined character which is in (`euclidean`, `maximum`, `manhattan`, `canberra`, `binary`, `minkowski`, `pearson`, `spearman`, `kendall`). Default is `euclidean`.    \n",
    "It can also be a function. In R the function to compute distances is `dist()`. The correlation distance is defined as 1 - cor(x, y, method). [See there](https://jokergoo.github.io/ComplexHeatmap-reference/book/a-single-heatmap.html#distance-methods) for further details."
   ]
  },
  {
   "cell_type": "markdown",
   "id": "9a833533-b971-4b23-ac9a-24030fb181be",
   "metadata": {},
   "source": [
    "- You can also select the **clustering method** by `clustering_method_rows` and `clustering_method_columns`. Possible methods are those supported in `hclust()` function: `ward.D`, `ward.D2`, `single`, `complete`, `average` (= UPGMA), `mcquitty` (= WPGMA), `median` (= WPGMC) or `centroid` (= UPGMC)."
   ]
  },
  {
   "cell_type": "code",
   "execution_count": null,
   "id": "af997657-d668-4927-beb6-0b797765a537",
   "metadata": {},
   "outputs": [],
   "source": [
    "# Code cell 31 ##\n",
    "\n",
    "# we change the dimension of the output for better rendering\n",
    "options(repr.plot.width=10, repr.plot.height=10)\n",
    "\n",
    "ComplexHeatmap::Heatmap(t_top50var,\n",
    "                        name = \"Z-score\",\n",
    "                        clustering_distance_rows = \"pearson\",\n",
    "                        column_title = \"pre-defined distance method (1 - pearson)\", row_title = \"Top 50 genes\",\n",
    "                        clustering_method_rows = \"ward.D\")"
   ]
  },
  {
   "cell_type": "markdown",
   "id": "6abcaf72-5530-454c-a80c-d31c5452688d",
   "metadata": {},
   "source": [
    "- One nice usage of ComplexHeatmap is the possibility to add custom **annotations**: `ha` for \"heatmap annotation\" is the object name used in ComplexHeatmap tutorial.\n",
    "\n",
    "- You can add annotations on samples, either quantitative annotations with the fundtion `anno_points()` or `anno_barplot()` or qualitative annotations from a dataframe. The `col` argument is used to specify the colors of the different categorical values. For the quantitative values, you can add points or boxplots for example.   \n",
    "\n",
    "Many beautiful examples can be found in the [Complex Heatmap manual](https://jokergoo.github.io/ComplexHeatmap-reference/book/), and a nice progressive tutorial is available [here](https://www.datanovia.com/en/lessons/heatmap-in-r-static-and-interactive-visualization/). "
   ]
  },
  {
   "cell_type": "markdown",
   "id": "382baf53-fa25-4946-9fdc-03fa7b126d95",
   "metadata": {},
   "source": [
    "---  \n",
    "\n",
    "## 4 - Correlograms\n",
    "\n",
    "Gene co-expression correlations provide a robust methodology for predicting gene function, as genes sharing a biological process or a common implication in pathways are often co-regulated.  This is particularly helpful to provide clues to the functions and roles of lncRNA genes, on the basis of the *\"guilty by association\"* method: if lncRNA genes cluster with genes with known functions, they are likely to participate to the same biological process.    \n",
    "\n",
    "We want to see if the top variant genes identified above have a correlated expression in a pair-wise manner, that is if two genes share a similar pattern of expression across samples.\n",
    "\n",
    "A Pearson or Spearman correlation is performed between continuous variables with the `cor()`  function, resulting in a correlation coefficient between each pair of genes. This correlation is displayed in a scatter plot with the function `plot()`.\n",
    "\n",
    "<div class=\"alert alert-block alert-info\"><b><u>What are correlograms?</u></b><br>\n",
    "<br>When we want to study pairwise correlation between several variables (here genes are the variables), the <code>cor()</code> function can also be applied on a matrix of data. <b><br>\n",
    "<i>A correlogram is the pairwise graphical representation of the matrix of correlation coefficients</i></b>. Such a correlogram helps highlighting the most correlated variables. Some R packages will also allow to display the pvalues or to reorder variables according to their degree of correlation.\n",
    "\n",
    "You have arleady used heatmaps in session 1 to look at similar patterns of expression among a set of genes, such as the DE genes. Among distances that could be used to cluster genes in a heatmap, we could have used the Pearson distance = (1-r). In a correlogram, we rather display the <b><i>correlation coefficient ranging from -1 to 1</i></b>.\n",
    "</div>\n"
   ]
  },
  {
   "cell_type": "markdown",
   "id": "9f1637b7-552c-41c0-8baf-69e79295614b",
   "metadata": {},
   "source": [
    "###  4.1 - With R native functions\n",
    "---\n",
    "\n",
    "- with the `heatmap` function   \n",
    "which is also able to display a correlogramme.\n",
    "\n",
    "We will have first to transpose the matrix of data with the `t()` function to have each gene name as a variable."
   ]
  },
  {
   "cell_type": "code",
   "execution_count": null,
   "id": "08bf7bc4-1132-4a2d-96a7-7b8641bce398",
   "metadata": {
    "tags": []
   },
   "outputs": [],
   "source": [
    "# Code cell 32 ##\n",
    "\n",
    "heatmap(cor(t(top50var[,-1])))"
   ]
  },
  {
   "cell_type": "markdown",
   "id": "f46ce0d0-e270-4112-9752-ed6360b98a19",
   "metadata": {
    "tags": []
   },
   "source": [
    "### 4.2 - With the `corrplot` package\n",
    "\n",
    "\n",
    "The `corrplot`package is particularly efficient for customizing correlograms. https://cran.r-project.org/web/packages/corrplot/vignettes/corrplot-intro.html   \n",
    "It allows for many improvements of the rendering."
   ]
  },
  {
   "cell_type": "code",
   "execution_count": null,
   "id": "746a2ec1-ed61-4623-b6e3-75d6018c739b",
   "metadata": {},
   "outputs": [],
   "source": [
    "## Code cell 33 ##\n",
    "\n",
    "options(repr.plot.width = 13, repr.plot.height = 13)\n",
    "\n",
    "# A first \"simple\" plot\n",
    "corrplot(cor(t(top50var[,-1])))\n",
    "\n",
    "# method = \"square\" is the default \n",
    "# hclust clusterises the genes, grouping together the most correlated ones\n",
    "# rectangles around clusters and correlation coefficients are also added\n",
    "corrplot(cor(t(top50var[,-1])),\n",
    "         method = \"square\",\n",
    "         order = 'hclust',\n",
    "         addrect = 4,\n",
    "         addCoef.col = 'black',\n",
    "         number.cex = 0.3)"
   ]
  },
  {
   "cell_type": "markdown",
   "id": "5c3e395b-37eb-438a-87c5-d9d0146aaf7d",
   "metadata": {},
   "source": [
    "By definition a correlation matrix is symmetrical.   \n",
    "We can add arguments to the `corrplot()` function in order to display only one half of the matrix (here, the upper one). We can also change the shape of the  representation of each pair-wise correlation.</span>"
   ]
  },
  {
   "cell_type": "code",
   "execution_count": null,
   "id": "443c72c5-8062-4073-bcef-dcc03a5cab05",
   "metadata": {
    "tags": []
   },
   "outputs": [],
   "source": [
    "## Code cell 34 ##\n",
    "\n",
    "# type = 'upper' will show only the upper half of the matrix\n",
    "corrplot(cor(t(top50var[,-1])),\n",
    "        method = 'ellipse',\n",
    "        type = 'upper',\n",
    "        insig = 'blank')"
   ]
  },
  {
   "cell_type": "markdown",
   "id": "b2c856e5-3ca3-4006-9860-066e68fac7f1",
   "metadata": {},
   "source": [
    "____\n",
    "## 5 - Volcano plot"
   ]
  },
  {
   "cell_type": "markdown",
   "id": "4931322e-0826-4e45-b8fd-467c826766e3",
   "metadata": {},
   "source": [
    "  \n",
    "\n",
    "Volcano plots are very commonly used to display the results of RNA-seq or other omics experiments. This plot uses the  information from the Differential Expression analysis, in particular the adjusted p-value and the log2 Fold Change, to highlight the most differentially expressed genes in a very evident way.    \n",
    "A volcano plot is a type of scatterplot that shows **statistical significance (P value) versus magnitude of change (fold change)**.    \n",
    "It enables quick visual identification of genes with large fold changes that are also statistically significant, because these are likely to be the most biologically significant genes.    \n",
    "\n",
    "In a volcano plot :\n",
    "- the most upregulated genes are towards the right (positive log2 fold change), \n",
    "- the most downregulated genes are towards the left (negative log2 fold change), \n",
    "- the most statistically significant genes are towards the top (smaller adjusted p-value).   \n",
    "\n",
    "In our case, we have these values  in the `res2_ranked_p` object, respectively in the `padj` and in the `log2FoldChange` columns."
   ]
  },
  {
   "cell_type": "markdown",
   "id": "67dd65ab-b6bc-4acf-840a-1741ac29cf74",
   "metadata": {},
   "source": [
    "* **Thresholds for adjusted p-values and log2 Fold Change**\n",
    "\n",
    "First we define the cutoff for the adjusted p-value:"
   ]
  },
  {
   "cell_type": "code",
   "execution_count": null,
   "id": "e67c3d77-61fa-46d5-86e7-2e65ee97f3b2",
   "metadata": {},
   "outputs": [],
   "source": [
    "## Code cell 35 ##\n",
    "\n",
    "alpha <- 0.00001"
   ]
  },
  {
   "cell_type": "markdown",
   "id": "c6851a74-9444-4a79-b676-9721ccc06a65",
   "metadata": {},
   "source": [
    "Now we want to identify the genes that have an adjusted p-value below that cutoff, with a positive or a negative log2FoldChange.\n",
    "\n",
    "We also define a threshold for the log2 fold change, for example 2 and -2.   "
   ]
  },
  {
   "cell_type": "code",
   "execution_count": null,
   "id": "7bfcee79-8998-41c6-adaa-eb9fe5caf050",
   "metadata": {},
   "outputs": [],
   "source": [
    "## Code cell 36 ##\n",
    "\n",
    "## Number of genes with an adjusted p-value < alpha *and a positive log(FC)*\n",
    "dim(res2_dHet_dHetRag_sig_ranked_annot[which(res2_dHet_dHetRag_sig_ranked_annot$padj < alpha & res2_dHet_dHetRag_sig_ranked_annot$log2FoldChange > 2),])[1]\n",
    "upGenes <- res2_dHet_dHetRag_sig_ranked_annot[which(res2_dHet_dHetRag_sig_ranked_annot$padj < alpha & res2_dHet_dHetRag_sig_ranked_annot$log2FoldChange > 2),]\n",
    "\n",
    "## Number of genes with an adjusted p-value < alpha *and a negative log(FC)*\n",
    "dim(res2_dHet_dHetRag_sig_ranked_annot[which(res2_dHet_dHetRag_sig_ranked_annot$padj < alpha & res2_dHet_dHetRag_sig_ranked_annot$log2FoldChange < -2),])[1]\n",
    "downGenes <- res2_dHet_dHetRag_sig_ranked_annot[which(res2_dHet_dHetRag_sig_ranked_annot$padj < alpha & res2_dHet_dHetRag_sig_ranked_annot$log2FoldChange < -2),]\n"
   ]
  },
  {
   "cell_type": "markdown",
   "id": "26029a1e-f76f-4ea9-8c7f-afaa946349d9",
   "metadata": {},
   "source": [
    "* **Plotting of the volcano plot**   \n",
    "\n",
    "When drawing the volcano plot, we can color the genes according to this selection.   \n",
    "FInally, we add horizontal and vertical lines to show the thresholds. "
   ]
  },
  {
   "cell_type": "code",
   "execution_count": null,
   "id": "cb0524c2-57b7-4697-b5d6-a0f1a1b7bef1",
   "metadata": {},
   "outputs": [],
   "source": [
    "## Code cell 37 ##\n",
    "\n",
    "options(repr.plot.width = 10, repr.plot.height = 10)\n",
    "\n",
    "#draw the plot\n",
    "plot(-log10(res2_dHet_dHetRag_sig_ranked_annot$padj) ~ res2_dHet_dHetRag_sig_ranked_annot$log2FoldChange, pch = \"\", xlim = c(-15,15), ylim = c(0,90),\n",
    "     xlab = \"\",ylab = \"\", bty = \"n\", xaxt = \"n\", yaxt = \"n\"  )\n",
    "title(\"Leukemic dHet vs non-leukemic dHetRag\", font.main = 1, cex.main = 0.9)\n",
    "axis(1, at = -15:15, tcl = -0.5,cex = 0.7, labels = F )\n",
    "mtext(-15:15,side = 1,line = 1,at = -15:15, cex = 0.7)\n",
    "axis(2, at = 0:90, tcl = -0.2, cex = 0.7, labels = F )\n",
    "mtext(seq(0,90,10),side = 2,line = 0.5, at = seq(0,90,10), cex = 0.7)\n",
    "\n",
    "\n",
    "## Color in grey genes\n",
    "points(-log10(res2_dHet_dHetRag_sig_ranked_annot$padj) ~ res2_dHet_dHetRag_sig_ranked_annot$log2FoldChange, pch = 16, cex = 0.5, col = \"grey\")\n",
    "\n",
    "\n",
    "## Override the previous colouring for some genes according to the fact they are DE\n",
    "points(-log10(upGenes$padj) ~ upGenes$log2FoldChange,pch = 16, cex = 0.5, col = \"red\")\n",
    "points(-log10(downGenes$padj) ~ downGenes$log2FoldChange, pch = 16,cex = 0.5, col = \"green\")\n",
    "mtext(\"log2(FC)\", side = 1, line = 2, cex = 0.8)\n",
    "mtext(\"-log10 (adjusted p-value)\", side = 2, line = 1.5, cex = 0.8)\n",
    "\n",
    "abline(h=-log10(alpha), col=\"blue\")\n",
    "abline(v=-2, col=\"green\")\n",
    "abline(v=2, col=\"red\")"
   ]
  },
  {
   "cell_type": "markdown",
   "id": "d414eb4a-57ef-4a4d-b8ac-5a232bcfacc8",
   "metadata": {},
   "source": [
    "* **Enlarging the volcano plot** \n",
    "\n",
    "As we can see in the list of DE genes ranked by p-value: "
   ]
  },
  {
   "cell_type": "code",
   "execution_count": null,
   "id": "68fd3e85-6313-4ac0-9b45-5577bae38d72",
   "metadata": {},
   "outputs": [],
   "source": [
    "## Code cell 38 ##\n",
    "\n",
    "head(res2_dHet_dHetRag_sig_ranked_annot, n = 3)"
   ]
  },
  {
   "cell_type": "markdown",
   "id": "a70ee238-fbf9-4cdf-8f36-9996c1442de8",
   "metadata": {},
   "source": [
    "the top DE genes have *very very* low adjusted p-value, that were not displayed in this first volcano plot.    \n",
    "\n",
    "So in the cell below, we change the ylim and the ranges for the y axis to accomodate these high values.    \n",
    "We also change \n",
    "- the size of colored points: `cex = 0.7` instead of `cex = 0.5`\n",
    "- the lettering size for the main title: `cex.main = 1.5` instead of `cex.main = 0.9`\n",
    "- and for the axis titles: `cex = 1` instead of `cex = 0.8`. "
   ]
  },
  {
   "cell_type": "code",
   "execution_count": null,
   "id": "ed9c5f9a-0e1d-4537-a132-6e278b539ebe",
   "metadata": {},
   "outputs": [],
   "source": [
    "## Code cell 39 ##\n",
    "\n",
    "options(repr.plot.width = 10, repr.plot.height = 10)\n",
    "\n",
    "#draw the plot\n",
    "plot(-log10(res2_dHet_dHetRag_sig_ranked_annot$padj) ~ res2_dHet_dHetRag_sig_ranked_annot$log2FoldChange, pch = \"\", xlim = c(-15,15), ylim = c(0,245),\n",
    "     xlab = \"\",ylab = \"\", bty = \"n\", xaxt = \"n\", yaxt = \"n\"  )\n",
    "title(\"Leukemic dHet vs non-leukemic dHetRag\", font.main = 1, cex.main = 1.5)\n",
    "axis(1, at = -15:15, tcl = -0.5,cex = 0.7, labels = F )\n",
    "mtext(-15:15,side = 1,line = 1,at = -15:15, cex = 0.7)\n",
    "axis(2, at = 0:245, tcl = -0.2, cex = 0.7, labels = F )\n",
    "mtext(seq(0,245,10),side = 2,line = 0.5, at = seq(0,245,10), cex = 0.7)\n",
    "\n",
    "\n",
    "## Color in grey genes\n",
    "points(-log10(res2_dHet_dHetRag_sig_ranked_annot$padj) ~ res2_dHet_dHetRag_sig_ranked_annot$log2FoldChange, pch = 16, cex = 0.5, col = \"grey\")\n",
    "\n",
    "\n",
    "## Override the previous colouring for some genes according to the fact they are DE\n",
    "points(-log10(upGenes$padj) ~ upGenes$log2FoldChange,pch = 16, cex = 0.8, col = \"red\")\n",
    "points(-log10(downGenes$padj) ~ downGenes$log2FoldChange, pch = 16,cex = 0.8, col = \"green\")\n",
    "mtext(\"log2(FC)\", side = 1, line = 2, cex = 1.1)\n",
    "mtext(\"-log10 (adjusted p-value)\", side = 2, line = 1.5, cex = 1.1)\n",
    "\n",
    "abline(h=-log10(alpha), col=\"blue\")\n",
    "abline(v=-2, col=\"green\")\n",
    "abline(v=2, col=\"red\")"
   ]
  },
  {
   "cell_type": "markdown",
   "id": "942bd8e2-214d-4503-a8d4-e352dfe748a4",
   "metadata": {},
   "source": [
    "Finally, we write the differentially expressed gene list to a tabulated txt file, in the deseq2folder that we decided at first"
   ]
  },
  {
   "cell_type": "markdown",
   "id": "6ee7ee36-c3ed-4aec-b531-51007c8a7bcf",
   "metadata": {},
   "source": [
    "___\n",
    "## 6 - Saving our results for later use: DE genes lists and RData file\n",
    "\n",
    "### 6.1 - DE genes lists    \n",
    "\n",
    "As we have selected DE genes on the basis of their adjusted p-value and their log2 Fold change, we can save those list for further enrichment analysis.  "
   ]
  },
  {
   "cell_type": "code",
   "execution_count": null,
   "id": "8648bf9f-0323-4c04-adff-3ab6b02a95f9",
   "metadata": {},
   "outputs": [],
   "source": [
    "## Code cell 40 ##\n",
    "\n",
    "dim(upGenes)\n",
    "dim(downGenes)\n",
    "head(upGenes)"
   ]
  },
  {
   "cell_type": "markdown",
   "id": "a0923f4f-ba89-4653-8c8d-e38b1de6964a",
   "metadata": {},
   "source": [
    "We save those 2 lists in our Results/deseq2 folder:"
   ]
  },
  {
   "cell_type": "code",
   "execution_count": null,
   "id": "7e3d1092-ce5a-45ea-8902-f975584dcd40",
   "metadata": {},
   "outputs": [],
   "source": [
    "## Code cell 41 ##\n",
    "\n",
    "write.table(as.data.frame(upGenes), file=paste0(deseq2folder,\"DESeq2_significant_genes-0_00001-up.tsv\"), sep=\"\\t\", quote=F, col.names=T)\n",
    "write.table(as.data.frame(downGenes), file=paste0(deseq2folder,\"DESeq2_significant_genes-0_00001-down.tsv\"), sep=\"\\t\", quote=F, col.names=T)\n"
   ]
  },
  {
   "cell_type": "markdown",
   "id": "f491ec4d-7fd5-461a-9e93-4b4781c60978",
   "metadata": {},
   "source": [
    "### 6.2 - RData object for the session"
   ]
  },
  {
   "cell_type": "markdown",
   "id": "9df573e3-68bb-45cc-b820-3762032ab469",
   "metadata": {},
   "source": [
    "We can save all the R objects created in this session in a single R object.   \n",
    "This will help us to reload our results without having to run the same commands.   "
   ]
  },
  {
   "cell_type": "code",
   "execution_count": null,
   "id": "a11fde7c-1a3e-43bb-8a3a-c27392720303",
   "metadata": {},
   "outputs": [],
   "source": [
    "## Code cell 42 ##\n",
    "\n",
    "print(ls())"
   ]
  },
  {
   "cell_type": "code",
   "execution_count": null,
   "id": "7c4fc668-190d-48bd-aa98-8a13cf40d9e5",
   "metadata": {},
   "outputs": [],
   "source": [
    "## Code cell 43 ##\n",
    "\n",
    "head(res2_dHet_dHetRag_sig_ranked_annot)"
   ]
  },
  {
   "cell_type": "markdown",
   "id": "cadd7ef1-ac31-4a14-b98b-f6e9efd8e265",
   "metadata": {},
   "source": [
    "We keep only the relevant objects:"
   ]
  },
  {
   "cell_type": "code",
   "execution_count": null,
   "id": "ba3afe6c-c086-4f93-8b43-80dab90e6963",
   "metadata": {},
   "outputs": [],
   "source": [
    "## Code cell 44 ##\n",
    "\n",
    "rm(PCAdata, PCAdata2, rdata, t_top50var)"
   ]
  },
  {
   "cell_type": "markdown",
   "id": "3e092ab7-267a-4310-9c87-ac120836ef0a",
   "metadata": {},
   "source": [
    "and we save all our info in a single RData object in our output folder:"
   ]
  },
  {
   "cell_type": "code",
   "execution_count": null,
   "id": "7ec8ad33-13c4-40c7-966e-763deab39c69",
   "metadata": {},
   "outputs": [],
   "source": [
    "## Code cell 45 ##\n",
    "\n",
    "ls()\n",
    "save.image(file=paste0(deseq2folder,\"deseq2-final.RData\"))"
   ]
  },
  {
   "cell_type": "markdown",
   "id": "883ad9f1-5c40-48d9-a93a-dc02854fbfaa",
   "metadata": {},
   "source": [
    "---\n",
    "___\n",
    "\n",
    "Now we go on with the analysis of enrichments of gene list of interest.  \n",
    "  \n",
    "**=> Step 11: Overrepresentation and enrichment analysis** "
   ]
  },
  {
   "cell_type": "markdown",
   "id": "374ee89f-07fd-40d8-84a9-d9f3b3118e73",
   "metadata": {
    "tags": []
   },
   "source": [
    "The jupyter notebook used for the next session will be *Pipe_11-R403-Normcounts-exploratory-analysis-II.ipynb*    \n",
    "***It is not ready yet!!***  \n",
    "\n",
    "So we will not retrieve it in our personal directory as usual. \n"
   ]
  },
  {
   "cell_type": "raw",
   "id": "f581edc0-b925-4941-adb2-e92afe3dfa52",
   "metadata": {
    "tags": []
   },
   "source": [
    "## (Code cell 46) ##   \n",
    "\n",
    "myfolder\n",
    "\n",
    "file.copy(\"/shared/projects/2312_rnaseq_cea/pipeline/Pipe_11-R403-ORA-GSEA.ipynb\", myfolder)\n"
   ]
  },
  {
   "cell_type": "markdown",
   "id": "0cfe57ec-a9f2-433d-9492-4b3ff0d7435b",
   "metadata": {},
   "source": [
    "\n",
    "\n",
    "**Save executed notebook**\n",
    "\n",
    "To end the session, save your executed notebook in your `run_notebooks` folder. Adjust the name with yours and reformat as code cell to run it."
   ]
  },
  {
   "cell_type": "raw",
   "id": "0d9b21a7-980a-41c7-8276-cd6f74cf157f",
   "metadata": {
    "tags": []
   },
   "source": [
    "## Code cell 47 ##   \n",
    "\n",
    "# creation of the directory, recursive = TRUE is equivalent to the mkdir -p in Unix\n",
    "dir.create(paste0(myfolder,\"/run_notebooks\"), recursive = TRUE)\n",
    "\n",
    "runfolder <- paste0(myfolder,\"/run_notebooks\")\n",
    "       \n",
    "file.copy(paste0(myfolder, \"/Pipe_10-R403-Normcounts-exploratory-analysis-II.ipynb\"), runfolder)\n"
   ]
  },
  {
   "cell_type": "markdown",
   "id": "3f817264-d0ee-4c58-ba45-3590d3ba7a15",
   "metadata": {
    "tags": []
   },
   "source": [
    "<div class=\"alert alert-block alert-success\"><b>Success:</b> Well done! You now know how to visualize normalised expression data.<br>\n",
    "Don't forget to save you notebook and export a copy as an <b>html</b> file as well <br>\n",
    "- Open \"File\" in the Menu<br>\n",
    "- Select \"Export Notebook As\"<br>\n",
    "- Export notebook as HTML<br>\n",
    "- You can then open it in your browser even without being connected to the server! \n",
    "</div>"
   ]
  },
  {
   "cell_type": "markdown",
   "id": "d3943e1d-72bc-4d67-b598-3d9e6dc37481",
   "metadata": {},
   "source": [
    "---\n",
    "---"
   ]
  },
  {
   "cell_type": "markdown",
   "id": "cbbce7d4-b369-4121-bf3d-a89f552cc2e4",
   "metadata": {
    "tags": []
   },
   "source": [
    "## Useful commands\n",
    "<div class=\"alert alert-block alert-info\"> \n",
    "    \n",
    "- <kbd>CTRL</kbd>+<kbd>S</kbd> : save notebook<br>    \n",
    "- <kbd>CTRL</kbd>+<kbd>ENTER</kbd> : Run Cell<br>  \n",
    "- <kbd>SHIFT</kbd>+<kbd>ENTER</kbd> : Run Cell and Select Next<br>   \n",
    "- <kbd>ALT</kbd>+<kbd>ENTER</kbd> : Run Cell and Insert Below<br>   \n",
    "- <kbd>ESC</kbd>+<kbd>y</kbd> : Change to *Code* Cell Type<br>  \n",
    "- <kbd>ESC</kbd>+<kbd>m</kbd> : Change to *Markdown* Cell Type<br> \n",
    "- <kbd>ESC</kbd>+<kbd>r</kbd> : Change to *Raw* Cell Type<br>    \n",
    "- <kbd>ESC</kbd>+<kbd>a</kbd> : Create Cell Above<br> \n",
    "- <kbd>ESC</kbd>+<kbd>b</kbd> : Create Cell Below<br> \n",
    "\n",
    "<em>  \n",
    "To make nice html reports with markdown: <a href=\"https://dillinger.io/\" title=\"dillinger.io\">html visualization tool 1</a> or <a href=\"https://stackedit.io/app#\" title=\"stackedit.io\">html visualization tool 2</a>, <a href=\"https://www.tablesgenerator.com/markdown_tables\" title=\"tablesgenerator.com\">to draw nice tables</a>, and the <a href=\"https://medium.com/analytics-vidhya/the-ultimate-markdown-guide-for-jupyter-notebook-d5e5abf728fd\" title=\"Ultimate guide\">Ultimate guide</a>. <br>\n",
    "Further reading on JupyterLab notebooks: <a href=\"https://jupyterlab.readthedocs.io/en/latest/user/notebook.html\" title=\"Jupyter Lab\">Jupyter Lab documentation</a>.<br>   \n",
    "</em>    \n",
    " \n",
    "</div>"
   ]
  },
  {
   "cell_type": "markdown",
   "id": "d9386321-af31-4cbb-917b-9236f0cd6b94",
   "metadata": {},
   "source": [
    "Bénédicte Noblet - 05-07 2021   \n",
    "Sandrine Caburet et Claire Vandiedonck - 02-06 2023   \n",
    "with adaptations from https://bioinformatics-core-shared-training.github.io/RNAseq_November_2020_remote/html/02_Preprocessing_Data.html   \n",
    "and https://rpubs.com/adoughan/778146  \n",
    "Maj 08/06/2023 par @SCaburet   "
   ]
  }
 ],
 "metadata": {
  "kernelspec": {
   "display_name": "R 4.0.3",
   "language": "R",
   "name": "r-4.0.3"
  },
  "language_info": {
   "codemirror_mode": "r",
   "file_extension": ".r",
   "mimetype": "text/x-r-source",
   "name": "R",
   "pygments_lexer": "r",
   "version": "4.0.3"
  },
  "toc-showcode": false
 },
 "nbformat": 4,
 "nbformat_minor": 5
}

{
 "cells": [
  {
   "cell_type": "markdown",
   "id": "aa070cbd-bd01-468b-ac65-fc6f00c27dda",
   "metadata": {},
   "source": [
    "# Formation RNAseq CEA - juin 2023\n",
    "\n",
    "*Enseignantes : Sandrine Caburet et Claire Vandiedonck*\n",
    "\n",
    "Session IFB : 5 CPU + 21 GB de RAM\n",
    "\n",
    "# Part 10 : Exploratory analysis of normalized read counts and visualization of DGE analysis"
   ]
  },
  {
   "cell_type": "markdown",
   "id": "23222ca3-0048-4f32-9d23-8f1a6c2d8891",
   "metadata": {},
   "source": [
    "\n",
    "    0 - Gettibg started\n",
    "        0. 1 - Setting up this R session on IFB core cluster  \n",
    "        0. 2 - Parameters to be set or modified by the user   \n",
    "    1 - Loading input data and metadata   \n",
    "    2 - Principal Component Analysis   \n",
    "    3 - Clustering and Heatmaps\n",
    "    4 - Correlograms\n",
    "    5 - Volcano plot to see DE genes\n",
    "    6 - Saving our results for later use: DE genes lists and RData file"
   ]
  },
  {
   "cell_type": "markdown",
   "id": "c2fb0e91-c036-424b-aad3-30b94385166b",
   "metadata": {
    "tags": []
   },
   "source": [
    "---\n",
    "## **Before going further**\n",
    "\n",
    "<div class=\"alert alert-block alert-danger\"><b>Caution:</b> \n",
    "Before starting the analysis, save a backup copy of this notebok : in the left-hand panel, right-click on this file and select \"Duplicate\"<br>\n",
    "You can also make backups during the analysis. Don't forget to save your notebook regularly: <kbd>Ctrl</kbd> + <kbd>S</kbd> or click on the 💾 icon.\n",
    "</div>"
   ]
  },
  {
   "cell_type": "markdown",
   "id": "da80318a-6504-48b4-b4ee-752aa83416b5",
   "metadata": {},
   "source": [
    "<div class=\"alert alert-block alert-warning\"><b>Warning:</b>You are strongly advised to run the cells in the indicated order. If you want to rerun cells above, you can just restart the kernel to start at 1 again. </div>"
   ]
  },
  {
   "cell_type": "markdown",
   "id": "71ec47eb-3cc4-46da-ac3e-cb15a9cdff37",
   "metadata": {
    "tags": []
   },
   "source": [
    "---\n",
    "---\n",
    "## 0. Getting started\n",
    "\n",
    "---\n",
    "### 0.1 - Setting up this R session on IFB core cluster\n",
    "---\n",
    "\n",
    "<em>loaded JupyterLab</em> : Version 3.2.1\n",
    "\n",
    "#### **0.1-a. Jupyter session**"
   ]
  },
  {
   "cell_type": "code",
   "execution_count": null,
   "id": "5d5c4bc3-8466-4b1e-af55-879803430712",
   "metadata": {
    "tags": []
   },
   "outputs": [],
   "source": [
    "## Code cell 1 ##\n",
    "\n",
    "session_parameters <- function(){\n",
    "    \n",
    "    jupytersession <- c(system('echo \"=== Cell launched on $(date) ===\"', intern = TRUE),\n",
    "                        system('squeue -hu $USER', intern = TRUE))\n",
    "    \n",
    "    jobid <- system(\"squeue -hu $USER | awk '/jupyter/ {print $1}'\", intern = TRUE)\n",
    "    jupytersession <- c(jupytersession,\n",
    "                        \"=== Current IFB session size: Medium (5CPU, 21 GB) ===\",\n",
    "                        system(paste(\"sacct --format=JobID,AllocCPUS,NODELIST -j\", jobid), intern = TRUE))\n",
    "    print(jupytersession[1:6])\n",
    "    \n",
    "    return(invisible(NULL))\n",
    "}\n",
    "\n",
    "session_parameters()"
   ]
  },
  {
   "cell_type": "markdown",
   "id": "996a4f31-82e9-4362-9a41-00626c3b7f07",
   "metadata": {},
   "source": [
    "__\n",
    "\n",
    "#### **0.1-b. R session**\n",
    "\n",
    "Next we load into this R session the various tools that we will use.   \n",
    "***DO NOT worry*** if you see a large red output! It contains a warning message, including for functions from different packages sharing the same names. If some packages are required but not yet installed on the server, you will also see a message when the relevant packages are installed in your home directory (\"~/R/x86_64-conda-linux-gnu-library/4.0\").\n",
    "\n",
    "<div class=\"alert alert-danger\" role=\"alert\"> <b><u> Caution on R version and installation of R packages when using Jupyter notebooks </u></b>\n",
    "<br>\n",
    "In notebooks, we cannot interactively answer prompted questions when installing new packages in a session (except the question concerning the choice of the repository).\n",
    "<br>If you never installed packages with the 4.0.3 R version on the IFB core cluster, you do not have a home folder called '~/R/x86_64-conda-linux-gnu-library/4.0'. In that case, you will have to open a terminal and enter the following commands:<br>\n",
    "    <code>module load r/4.0.3</code><br>\n",
    "    <code>R</code><br>\n",
    "then you copy the whole content of the cell below and execute it (typing enter): two questions will be prompted, just answer \"y\" (without the quotes) to both of them -> R will create a 4.0.3 library folder and install missing packages in.\n",
    "<br>Then quit R by typing <code> quit()</code> and ansewr \"n\" (without the quotes).\n",
    "<br>Finally, unload the R 4.03 version with <code> module unload r</code>\n",
    "</div>\n",
    "\n"
   ]
  },
  {
   "cell_type": "code",
   "execution_count": null,
   "id": "c6049f7b-da44-4093-9632-63cbc985d73b",
   "metadata": {
    "tags": []
   },
   "outputs": [],
   "source": [
    "## Code cell 2 ##\n",
    "\n",
    "# list the required libraries from the CRAN repository\n",
    "requiredLib <- c(\n",
    "    \"ggfortify\",\n",
    "    \"ggrepel\",\n",
    "    \"RColorBrewer\",\n",
    "    \"ggplot2\",\n",
    "    \"stringr\",\n",
    "    \"matrixStats\",\n",
    "    \"corrplot\",\n",
    "    \"BiocManager\",\n",
    "    \"FactoMineR\",\n",
    "    \"factoextra\",\n",
    "    \"writexl\",\n",
    "    \"readxl\"\n",
    ")\n",
    "\n",
    "# list the required libraries from the Bioconductor project\n",
    "requiredBiocLib <- c(\n",
    "    \"DESeq2\",\n",
    "    \"ComplexHeatmap\")\n",
    "\n",
    "\n",
    "# install required libraries if not yet installed\n",
    "for (lib in requiredLib) {\n",
    "  if (!require(lib, character.only = TRUE, quiet = TRUE)) {\n",
    "    install.packages(lib, quiet = TRUE, repos = \"https://cloud.r-project.org\")\n",
    "  }\n",
    "}\n",
    "for( lib in requiredBiocLib) {\n",
    "  if (!require(lib, character.only = TRUE, quiet = TRUE)) {\n",
    "  BiocManager::install(lib, quiet = TRUE, update = FALSE)\n",
    "  }\n",
    "}\n",
    "\n",
    "# load libraries\n",
    "message(\"Loading required libraries\")\n",
    "for (lib in requiredLib) {\n",
    "  library(lib, character.only = TRUE)}\n",
    "for (lib in requiredBiocLib) {\n",
    "  library(lib, character.only = TRUE)}\n",
    "\n",
    "# remove variables from the R session if they are no longer necessary \n",
    "rm(lib, requiredLib, requiredBiocLib)\n",
    "\n"
   ]
  },
  {
   "cell_type": "code",
   "execution_count": null,
   "id": "edf0b940-069c-40fd-8865-f05fa2bcb583",
   "metadata": {
    "tags": []
   },
   "outputs": [],
   "source": [
    "## Code cell 3 ##   \n",
    "\n",
    "cat(\"Here is my R session with the loaded packages:\\n\")\n",
    "sessionInfo()"
   ]
  },
  {
   "cell_type": "markdown",
   "id": "24b4a98b-41bb-4523-baf2-febf714927fa",
   "metadata": {
    "tags": []
   },
   "source": [
    "---\n",
    "\n",
    "### 0.2 - Parameters to be set or modified by the user\n",
    "---"
   ]
  },
  {
   "cell_type": "markdown",
   "id": "e5d10e33-f503-42bc-b32c-767c38253bd3",
   "metadata": {},
   "source": [
    "- Using a full path with a `/` at the end, **define the folder** of the project as  `gohome` variable, and the folder where you work as the `myfolder` variable:"
   ]
  },
  {
   "cell_type": "markdown",
   "id": "f7396fb9-4ab3-4231-b09b-6fcfa2371a8a",
   "metadata": {
    "jp-MarkdownHeadingCollapsed": true,
    "tags": []
   },
   "source": [
    "<div class=\"alert alert-block alert-warning\"> <b> Warning on working directory: </b><br>In a Jupyter Hub and a jupyter notebook in R, by default the working directory is where the notebook is opened for the <b> fisrt time </b>. Even if you move it ton another directory, it keeps the original working diretory unless you set it again with the function <code>setwd()</code>.</div>"
   ]
  },
  {
   "cell_type": "code",
   "execution_count": null,
   "id": "5e391f06-1601-48a1-b211-90cc64eab803",
   "metadata": {},
   "outputs": [],
   "source": [
    "## Code cell 4 ##\n",
    "\n",
    "gohome <- \"/shared/projects/2312_rnaseq_cea/\"\n",
    "gohome\n",
    "\n",
    "myfolder <- getwd()\n",
    "myfolder"
   ]
  },
  {
   "cell_type": "markdown",
   "id": "a0098703-e4f0-446f-90b3-a6ecc2b8863b",
   "metadata": {},
   "source": [
    "- With a `/` at the end, define the path to the folder where the results of this analysis will be stored. As it is a logical step usually performed together with the normalisation by `DESeq2`, we can stay in the same output folder :"
   ]
  },
  {
   "cell_type": "code",
   "execution_count": null,
   "id": "e23a6981-03cc-4771-ae40-840dfca02329",
   "metadata": {},
   "outputs": [],
   "source": [
    "## Code cell 5 ##\n",
    "\n",
    "# creation of the directory, recursive = TRUE is equivalent to the mkdir -p in Unix\n",
    "# we can skip this step as the folder is already created\n",
    "# dir.create(paste(myfolder,\"/Results/deseq2/\", sep = \"\"), recursive = TRUE)\n",
    "\n",
    "# storing the path to this output folder in a variable\n",
    "deseq2folder <- paste(myfolder,\"/Results/deseq2/\", sep = \"\")\n",
    "deseq2folder\n",
    "\n",
    "# listing the content of the folder\n",
    "print(system(paste(\"ls -hlt\", deseq2folder), intern = TRUE) )"
   ]
  },
  {
   "cell_type": "markdown",
   "id": "1959ea3b-28a7-4f43-adb5-e3d69eefbc89",
   "metadata": {},
   "source": [
    "- Last, we specify the size of the graphical outputs that will be used for all the plots in the notebook.    \n",
    "This setting could be modified at will for each plot. "
   ]
  },
  {
   "cell_type": "code",
   "execution_count": null,
   "id": "3b9c0448-04cd-469b-b286-45da0e9645f7",
   "metadata": {},
   "outputs": [],
   "source": [
    "## Code cell 6 ##\n",
    "\n",
    "options(repr.plot.width = 15, repr.plot.height = 8) # for figure display in the notebook"
   ]
  },
  {
   "cell_type": "markdown",
   "id": "efea1a0e-c134-4ba5-b929-ae5cb38fab20",
   "metadata": {},
   "source": [
    "---\n",
    "---\n",
    "## 1 - Input data\n",
    "---\n",
    "\n",
    "### 1.1 - Loading input data and metadata\n",
    "---"
   ]
  },
  {
   "cell_type": "markdown",
   "id": "ab4924e3-08ff-41fc-9b19-7296f53ca87e",
   "metadata": {},
   "source": [
    "We now need to retrieve the **normalized data** and **differential expression analysis data** that we generated in the previous session.   \n",
    "As we stored it in a global Rdata objet at the end of Pipe_09, we can simply reload all our information by opening this Rdata object.  "
   ]
  },
  {
   "cell_type": "code",
   "execution_count": null,
   "id": "b1920fae-713e-44d0-8bc1-b9d018ca7765",
   "metadata": {},
   "outputs": [],
   "source": [
    "## Code cell 7 ##\n",
    "\n",
    "rdata <- paste0(deseq2folder, \"deseq2.RData\") # generate the path of the deseq2 data\n",
    "rdata # check the path\n",
    "load(rdata, verbose = TRUE) # load the path and ask to write what is loaded\n",
    "rm(rdata) # remove the path of deseq2 data, no longer needed"
   ]
  },
  {
   "cell_type": "markdown",
   "id": "7ef3cf90-8715-4f1c-bd30-03f5ef34be6f",
   "metadata": {},
   "source": [
    "We can now list all the object we have currently in our session: "
   ]
  },
  {
   "cell_type": "code",
   "execution_count": null,
   "id": "8dd943bb-a0e1-48fc-b2e1-536ef59db297",
   "metadata": {},
   "outputs": [],
   "source": [
    "## Code cell 8 ##\n",
    "\n",
    "ls() "
   ]
  },
  {
   "cell_type": "markdown",
   "id": "6d9346ea-e9fc-4c81-b22e-92b67e503932",
   "metadata": {
    "tags": []
   },
   "source": [
    "=> We can now see it contains the four following dataframes:\n",
    "\n",
    "- `rlog.dds2.annot`: the dataframe containing all normalized read counts using the rlog method implemented in DESeq2.\n",
    "- `res2_dHet_dHetRag_sig_ranked_annot`: the output of the DE analysis between dHet and dHetRag condition with the significantly DE genes, ranked by increasing pvalues and annotated.\n",
    "- `samples`:  the metadata dataframe containing the information about the samples, in particular the conditions of the experiment.\n",
    "- `genecode` : the Gencode annotation GTF file of the mouse genome (vM32) we imported also in Pipe09.\n",
    "\n",
    "\n",
    "---\n",
    "### 1.2 - Preparing \"rlog\" norm data for the exploratory analyses\n",
    "---\n",
    "\n",
    "In parts 2 to 5 of the current notebook, we will run exploratory analyses on the rlog normalized data. What we need for this is the `rlog.dds2.annot` object, that contains the normalized read counts, with the Ensembl Gene ID in the first column, and the gene name in the 19th column:"
   ]
  },
  {
   "cell_type": "code",
   "execution_count": null,
   "id": "0dcc240f-abbb-4f0b-81e2-2a05ca095b2d",
   "metadata": {},
   "outputs": [],
   "source": [
    "## Code cell 9 ##\n",
    "\n",
    "head(rlog.dds2.annot) \n",
    "str(rlog.dds2.annot)"
   ]
  },
  {
   "cell_type": "code",
   "execution_count": null,
   "id": "bb2cd633-cbe1-4d0c-a76c-d317917bce03",
   "metadata": {},
   "outputs": [],
   "source": [
    "## Code cell 10 ##\n",
    "\n",
    "head(rlog.dds2.annot[ , 19])\n",
    "head(rlog.dds2.annot[,\"gene_name\"]) #the two commands are equivalent since column 19 name is \"gene_name\""
   ]
  },
  {
   "cell_type": "markdown",
   "id": "4b1c5300-7ef3-404c-ac44-fde0341f339e",
   "metadata": {},
   "source": [
    "We notice below that the number of gene_names is smaller than the number of ensemblID, 12 genes having the same name but two different geneIDs."
   ]
  },
  {
   "cell_type": "code",
   "execution_count": null,
   "id": "5ec59832-3aea-4323-bd2f-ea7305dad691",
   "metadata": {},
   "outputs": [],
   "source": [
    "## Code cell 11 ##\n",
    "\n",
    "length(unique(rlog.dds2.annot$ensemblID))\n",
    "length(unique(rlog.dds2.annot$gene_name))\n",
    "table(table(rlog.dds2.annot$gene_name)) # contingency table of gene_wise contingency tables\n",
    "dup_genes <- names(which(table(rlog.dds2.annot$gene_name) == 2)) # to get the gene_names of the 12 gene_names with two ensemblID\n",
    "subset(rlog.dds2.annot, gene_name %in% dup_genes)[, c(\"ensemblID\", \"gene_name\")]"
   ]
  },
  {
   "cell_type": "markdown",
   "id": "9635efe3-60c2-4fe3-b543-1ed7631b0522",
   "metadata": {},
   "source": [
    "<div class=\"alert alert-block alert-warning\"> <b> <u>Caution on gene names: </u></b><br>\n",
    "One may be tempted to keep working only using gene_names, but as you can see from the previous cell, it happens quite often that some genes have several distinct IDs. Since the mapping and counts per features was performed on Ensembl IDs, it is strongly advised to keep working on them. However, for nice plots, it is often easier to display gene_names. </il>\n",
    "    </ol></div>\n",
    "\n",
    "\n",
    "For furher in-depth exploratory analyses, we will only use the columns with the normalised counts as input, so we may store it in a specific lighter object, `norm_counts`, together with the column with \"Ensembl IDs\", that we put in the first column, and the column with \"gene_name\" in a second column."
   ]
  },
  {
   "cell_type": "code",
   "execution_count": null,
   "id": "bca3d858-abb3-47dc-a67a-c71a51bb6d36",
   "metadata": {},
   "outputs": [],
   "source": [
    "## Code cell 12 ##\n",
    "\n",
    "#norm_counts <- rlog.dds2.annot[,c(19, 2:12)]\n",
    "# or sidem in a more explicit way:\n",
    "norm_counts <- rlog.dds2.annot[,c(\"ensemblID\", \"gene_name\",\n",
    "                                  \"dHet_B-ALL_686_rep1\", \"dHet_B-ALL_686_rep2\",\n",
    "                                  \"dHet_B-ALL_713_rep1\", \"dHet_B-ALL_713_rep2\",\n",
    "                                 \"dHet_B-ALL_760_rep1\", \"dHet_B-ALL_760_rep2\",\n",
    "                                 \"dHet_FetalLiver_proB_rep1\",  \"dHet_FetalLiver_proB_rep2\", \"dHet_FetalLiver_proB_rep3\",\n",
    "                                  \"wt_BoneMar_proB_rep1\", \"wt_BoneMar_proB_rep2\")]\n",
    "dim(norm_counts)\n",
    "head(norm_counts, n = 5)\n",
    "summary(norm_counts[, -c(1:2)]) # useless to do summary on the first two columns that contains qualitative data"
   ]
  },
  {
   "cell_type": "markdown",
   "id": "6620a838-d24d-4042-9719-110efe11bf7b",
   "metadata": {},
   "source": [
    "We remove the `rlog.dds2.annot` to use less memory. If at some point we need other gene info, they are still present in the gencode object."
   ]
  },
  {
   "cell_type": "code",
   "execution_count": null,
   "id": "373b64e0-dd18-4be3-acc4-d014a0d80aa9",
   "metadata": {},
   "outputs": [],
   "source": [
    "## Code cell 13 ##\n",
    "\n",
    "rm(rlog.dds2.annot)\n",
    "ls()"
   ]
  },
  {
   "cell_type": "markdown",
   "id": "a97feb07-990a-4a90-b1c6-1c17042dfa86",
   "metadata": {},
   "source": [
    "In order to have all the visualisation in a single session, we can plot again the distribution of normalised reads *(already done in Pipe08)*:"
   ]
  },
  {
   "cell_type": "code",
   "execution_count": null,
   "id": "da5d0ad7-bd68-45cd-8075-ef5b8ec0b2d6",
   "metadata": {
    "tags": []
   },
   "outputs": [],
   "source": [
    "## Code cell 14 ##\n",
    "\n",
    "# make a colour vector\n",
    "conditionColor <- match(samples$Condition, c(\"dHet\", \"dHetRag\", \"WT\")) + 1\n",
    "# '+1' to avoid color '1' i.e. black\n",
    "\n",
    "# Check distributions of samples using boxplots, using only the columns with read counts\n",
    "boxplot(norm_counts[, 3:13], # or can do -c(1:2)\n",
    "        xlab = \"\",\n",
    "        ylab = \"rlog.dds2.annot Counts\",\n",
    "        las = 2,\n",
    "        col = conditionColor,\n",
    "        main = \"rlog.dds2.annot Counts\")\n",
    "# Let's add a blue horizontal line that corresponds to the median\n",
    "abline(h = median(as.matrix(norm_counts[ , -c(1:2)])), col = \"blue\")"
   ]
  },
  {
   "cell_type": "markdown",
   "id": "d31b1fa5-8ee5-4aaf-a0ce-b18e3efca095",
   "metadata": {},
   "source": [
    "---\n",
    "---\n",
    "## 2 - Principal Component Analysis\n",
    "---"
   ]
  },
  {
   "cell_type": "markdown",
   "id": "12af9b20-6ec7-4834-a62d-4d85b9d2dd15",
   "metadata": {},
   "source": [
    "### 2.1 - PCA on all genes with R base functions\n",
    "---\n",
    "\n",
    "#### **2.1-a. Run the PCA**\n",
    "\n",
    "We performed a first PCA before normalising the data (in Pipe_08), we are now going to see if the normalisation of the read counts enables a better reduction of dimensionality.    \n",
    "Here, we run again the PCA the same way we did in Pipe_08, but this time on norm data: "
   ]
  },
  {
   "cell_type": "code",
   "execution_count": null,
   "id": "084dac46-9299-4d0d-8c8d-f56ab81c11df",
   "metadata": {
    "tags": []
   },
   "outputs": [],
   "source": [
    "## Code cell 15 ##\n",
    "\n",
    "# run PCA\n",
    "PCAdata <- prcomp(t(norm_counts[, -c(1:2)])) # we get rid of the first tow columns of norm_counts that do not contain norm data\n",
    "summary(PCAdata)"
   ]
  },
  {
   "cell_type": "markdown",
   "id": "ea124e86-0147-47d9-b6fb-7ce75d71a37f",
   "metadata": {},
   "source": [
    "#### **2.1-b. Scree plot**\n",
    "\n",
    "When looking at the summary of the PCA just above, we can see the proportion of the ***inertia*** *(total variance)* explained by each ***eigen vector*** *(other name for PC axis)*. \n",
    "\n",
    "The quality of the ACP can be detemined by looking at these proportions.  The higher inertia is explained, the better is the ACP (it means that we maintain at most the shape of the original scatter plot).\n",
    "\n",
    "To evaluate this quality, we can draw a **scree plot**, that provides a visualisation of the part of variance described in the succesive Principal Component (eigen vectors). The first components are always the ones describing the largest part of variance, but a scree plot is a good way to see how many components could be interesting to explore (look at the inflection point)."
   ]
  },
  {
   "cell_type": "code",
   "execution_count": null,
   "id": "f9de50a6-7530-4b8b-87c4-8fa01922eb19",
   "metadata": {},
   "outputs": [],
   "source": [
    "## Code cell 16 ##\n",
    "\n",
    "# to display the two scree plots side by side\n",
    "layout(matrix(1:2, ncol = 2))\n",
    "\n",
    "screeplot(PCAdata) # barplot representation\n",
    "screeplot(PCAdata, type = \"lines\", main = \"Screeplot PCAdata - Eigenvalues\") # same but with a line"
   ]
  },
  {
   "cell_type": "markdown",
   "id": "2bacdfd3-9004-45f9-875d-e6a49c69f4c5",
   "metadata": {},
   "source": [
    "Here we see that the first three components explain most of the inertia. We will see further down another package to draw nicer scree plots."
   ]
  },
  {
   "cell_type": "markdown",
   "id": "293257fd-5b5d-4880-95cd-bb9adb4ae7e4",
   "metadata": {},
   "source": [
    "#### **2.1-c. PCA plots**\n",
    "\n",
    "Now we plot the PCA for the first 2 dimensions, and a second one for the third and fourth PC:"
   ]
  },
  {
   "cell_type": "code",
   "execution_count": null,
   "id": "a45b8459-91f4-4b11-b271-fbb911d1ff09",
   "metadata": {},
   "outputs": [],
   "source": [
    "## Code cell 17 ##\n",
    "\n",
    "autoplot(PCAdata,\n",
    "         data = samples, \n",
    "         colour = \"Condition\", \n",
    "         shape = \"Tissue\",\n",
    "         size = 6) +\n",
    "        geom_text_repel(aes(x = PC1, y = PC2, label = SampleName), box.padding = 0.8)\n"
   ]
  },
  {
   "cell_type": "code",
   "execution_count": null,
   "id": "ba32838e-ed6c-47d8-918e-35c197e661ec",
   "metadata": {},
   "outputs": [],
   "source": [
    "## Code cell 18 ##\n",
    "\n",
    "autoplot(PCAdata,\n",
    "         x = 3,    # PC3\n",
    "         y = 4,    # PC4\n",
    "         data = samples, \n",
    "         colour = \"Condition\", \n",
    "         shape = \"Tissue\",\n",
    "         size = 6) +\n",
    "    geom_text_repel(aes(x = PC3, y = PC4, label = SampleName), box.padding = 0.8)\n"
   ]
  },
  {
   "cell_type": "markdown",
   "id": "04efb9b9-8400-46ec-a354-9b6bdf4f7afe",
   "metadata": {},
   "source": [
    "We can see that, now that we look at the normalised data, PC1 separates clearly the leukemic cells from the non-leukemic cells, and that PC2 separates clearly the dHet cells from the WT ones. Again PC3 and PC4 seem to  separate the various mice, and to group the replicates.   \n",
    "    "
   ]
  },
  {
   "cell_type": "markdown",
   "id": "ed75fc79-c4a0-4138-a2e1-3c14b78ec2db",
   "metadata": {},
   "source": [
    "<div class=\"alert alert-block alert-info\"><b>To go furher:</b><br> We will see in sections 2.2 and 2.3 which other plots can be drawn.</div>"
   ]
  },
  {
   "cell_type": "markdown",
   "id": "e2b57b27-872d-47d1-bba3-fcfdf1dcb56a",
   "metadata": {},
   "source": [
    "---\n",
    "### 2.2 - PCA on the most variant genes with R base functions\n",
    "---\n",
    "\n",
    "#### **2.2-a. Initial number of genes**\n",
    "\n",
    "*based on ensembl IDs* in our data:"
   ]
  },
  {
   "cell_type": "code",
   "execution_count": null,
   "id": "7ad6b370-1dee-4e41-87a5-933f3c3f97f4",
   "metadata": {},
   "outputs": [],
   "source": [
    "## Code cell 19 ##\n",
    "\n",
    "length(unique(norm_counts$ensemblID))"
   ]
  },
  {
   "cell_type": "markdown",
   "id": "d3224aea-1ffb-4dbd-a941-0e31434ac13c",
   "metadata": {},
   "source": [
    "#### __2.2-b - Selection of the **most variable genes**__"
   ]
  },
  {
   "cell_type": "markdown",
   "id": "58176ba2-ad7c-402c-a686-66be9fcd4a97",
   "metadata": {
    "tags": []
   },
   "source": [
    "<div class=\"alert alert-block alert-warning\"> <b><u> Warning on PCA: </u></b><br><br>\n",
    "\n",
    "Although we can see a nice separation for our dataset, <b>it is not recommended to use all the genes to perform a PCA </b>, even if we limit to expressed genes. Indeed, the differences between the conditions are likely to be due to a more limited number of genes that do vary because of the conditions in a way that is truly meaningful biologically. <br>  \n",
    "    <b>So the genes under consideration for a PCA are usually restricted to the most variant ones</b>, i.e the 1000 most variable genes, or the top 5 or 10 %. Two main descriptive statistic values can be used to look at the gene-wise variation : <ol>\n",
    "    <li><b> the variance </b> (or standard deviation (sd)) of each gene <il>\n",
    "    <li><b> the coefficient of variation (CV) </b>(<i>i.e sd/mean</i>) of each gene: the most recommanded one to account for the risk of <b><i>'heteroskedasticity'</i></b> (when variance is correlated to the mean, which is not fine to keep doing analyses). Indeed, the coefficient of variation (CV) is a relative measure of variability that indicates the size of a standard deviation in relation to its mean. It is a standardized, unitless measure that allows you to compare variability between disparate groups and characteristics. It is also recommended to use the CV instead of variance when the variables under consideration in the dataset are very different and present large differences in ranges (such as age and dosages, for example). Then the ranges of variations of the different variable conditions have to be scaled. <il>   \n",
    "</div>    \n",
    "\n",
    "Here, we are going to select the top 50 genes, on the basis of their variances. Indeed, all considered variables have the same scale (expression levels of the 50 genes). In addition, with the rlog normalization performed by DESeq2, the variance has been stabilized in the model to have homoskedastik data. But we provide you below the code to generate the coefficient of variation for your own analyses.\n",
    "\n"
   ]
  },
  {
   "cell_type": "markdown",
   "id": "840257dd-41c3-4133-a4d3-c14a766bea96",
   "metadata": {},
   "source": [
    "- using the **coefficient of variation**: we provide the way to compute the CV for reference, but we go on with the variance. \n"
   ]
  },
  {
   "cell_type": "raw",
   "id": "1ee6eade-a437-4993-ae5e-902d485796d7",
   "metadata": {},
   "source": [
    "## (Code cell 20) ##\n",
    "# alternative way of finding the most variant genes with the coefficient of variation\n",
    "\n",
    "# we define a function to compute the coefficient of variation\n",
    "compute_cv <- function(x){\n",
    "    sd(x,  na.rm=TRUE) / mean(x, na.rm=TRUE)\n",
    "    }\n",
    "    \n",
    "# we apply our function to our matrix, and we store the results in cv_genes\n",
    "var_genes <- apply(norm_counts[, 3:13], MARGIN = 1, FUN = compute_cv)"
   ]
  },
  {
   "cell_type": "markdown",
   "id": "bb53b1eb-0421-4b41-be5e-04f344b4fc70",
   "metadata": {},
   "source": [
    "\n",
    "- using the **variance**:\n",
    "\n",
    "We first compute the variance of all genes, using the `rowVars()` function of the ***matrixStats*** package *(or directly with the R base `apply()` function passing the `var()` function as an argument)*. We also verify that no gene has a null variance:"
   ]
  },
  {
   "cell_type": "code",
   "execution_count": null,
   "id": "495367d0-25c1-487b-ae5f-99af6802493b",
   "metadata": {},
   "outputs": [],
   "source": [
    "## Code cell 20 ##\n",
    "\n",
    "var_genes <- matrixStats::rowVars(as.matrix(norm_counts[ , 3:13]))\n",
    "#var_genes <- apply(X = norm_counts[, 3:13], MARGIN = 1, FUN = var, na.rm = TRUE) # simmilar way to generate var_genes\n",
    "\n",
    "head(var_genes)\n",
    "str(var_genes)\n",
    "summary(var_genes)"
   ]
  },
  {
   "cell_type": "markdown",
   "id": "acba8e5b-f789-447c-aa53-79e9f6192d18",
   "metadata": {},
   "source": [
    "We add these variance values to the norm_counts dataframe as a new `var` variable."
   ]
  },
  {
   "cell_type": "code",
   "execution_count": null,
   "id": "03f57f01-2d95-4148-b02a-8ef59c3ad527",
   "metadata": {},
   "outputs": [],
   "source": [
    "## Code cell 21 ##\n",
    "\n",
    "norm_counts$var <- var_genes"
   ]
  },
  {
   "cell_type": "markdown",
   "id": "091c4887-390b-43f2-99cc-c9ecaff6586d",
   "metadata": {},
   "source": [
    "We sort `norm_counts` on decreasing values of the variance and we add a variable with the rank of the variances."
   ]
  },
  {
   "cell_type": "code",
   "execution_count": null,
   "id": "3f025953-f52c-4b3a-be42-49cef5d05864",
   "metadata": {},
   "outputs": [],
   "source": [
    "## Code cell 22 ##\n",
    "\n",
    "norm_counts <- norm_counts[order(norm_counts$var, decreasing = TRUE),]\n",
    "norm_counts$rank_var <- 1:nrow(norm_counts)\n",
    "head(norm_counts)"
   ]
  },
  {
   "cell_type": "markdown",
   "id": "f5e5fb13-96e9-4d6e-ac10-df8d850adff3",
   "metadata": {},
   "source": [
    "We now select only the top 50 most variable genes."
   ]
  },
  {
   "cell_type": "code",
   "execution_count": null,
   "id": "f2017f3e-3ff3-44da-9ac8-ae51df842298",
   "metadata": {},
   "outputs": [],
   "source": [
    "## Code cell 23 ##\n",
    "\n",
    "top50var <- norm_counts[1:50,]\n",
    "head(top50var)"
   ]
  },
  {
   "cell_type": "markdown",
   "id": "a423fad4-4ab4-4b02-9ebe-ec4efd733d0b",
   "metadata": {},
   "source": [
    "We verify the size of the `top50var`dataframe, and if we have indeed unique ensemblIDs. "
   ]
  },
  {
   "cell_type": "code",
   "execution_count": null,
   "id": "17c520a4-cd94-425a-985e-8532a97d6287",
   "metadata": {},
   "outputs": [],
   "source": [
    "## Code cell 24 ##\n",
    "\n",
    "str(top50var)\n",
    "dim(top50var)\n",
    "length(unique(top50var$ensemblID))\n",
    "\n",
    "head(top50var, n = 5)"
   ]
  },
  {
   "cell_type": "markdown",
   "id": "e38df66b-c3b2-4257-8247-fd5c12c292ff",
   "metadata": {},
   "source": [
    "We also notice these 50 genes have a unique gene_name and sort the dataframe by gene name."
   ]
  },
  {
   "cell_type": "code",
   "execution_count": null,
   "id": "47ee7377-215f-4a5f-b082-ae828500e9bf",
   "metadata": {},
   "outputs": [],
   "source": [
    "## Code cell 25 ##\n",
    "\n",
    "length(unique(top50var$gene_name))\n",
    "top50var <- top50var[order(top50var$gene_name, decreasing = TRUE),]\n",
    "head(top50var)"
   ]
  },
  {
   "cell_type": "markdown",
   "id": "9cb93704-9b06-4bfc-8283-2a2ad27b0842",
   "metadata": {},
   "source": [
    "- looking at **the 50 most variable genes**\n",
    "\n",
    "We can have a quick glance at those genes, to see if we recognize some of them... and indeed, the first one is interesting! :-D "
   ]
  },
  {
   "cell_type": "code",
   "execution_count": null,
   "id": "dea6bbce-6e9b-4779-bbbd-d5581867486f",
   "metadata": {},
   "outputs": [],
   "source": [
    "## Code cell 26 ##\n",
    "\n",
    "top50var$gene_name"
   ]
  },
  {
   "cell_type": "markdown",
   "id": "54e03a12-d229-458d-ac00-38d12fa45cc0",
   "metadata": {},
   "source": [
    "In order to use this dataframe for the next steps, we put the gene names as row names (instead of numbers). "
   ]
  },
  {
   "cell_type": "code",
   "execution_count": null,
   "id": "6bd26ff4-0fa5-4552-ad2a-1f6a39c2853a",
   "metadata": {},
   "outputs": [],
   "source": [
    "## Code cell 27 ##\n",
    "\n",
    "row.names(top50var) <- top50var$gene_name"
   ]
  },
  {
   "cell_type": "markdown",
   "id": "43ccd6e3-b60b-46b0-a77e-c931a150a59b",
   "metadata": {},
   "source": [
    "- **Are they differentially expressed?** \n",
    "\n",
    "Since we are curious, we may wonder where these top 50 variable genes fall within the DE analysis.\n",
    "\n",
    "    - We first look at the DE object:"
   ]
  },
  {
   "cell_type": "code",
   "execution_count": null,
   "id": "20d9fd2f-3ef0-4893-8785-c61ff2721673",
   "metadata": {},
   "outputs": [],
   "source": [
    "## Code cell 28 ##\n",
    "\n",
    "str(res2_dHet_dHetRag_sig_ranked_annot)"
   ]
  },
  {
   "cell_type": "markdown",
   "id": "7e504b47-4806-42a6-a8b6-7d6114ed082c",
   "metadata": {},
   "source": [
    "    - We generate a new variable with the rank of each gene in the DE analysis:"
   ]
  },
  {
   "cell_type": "code",
   "execution_count": null,
   "id": "ef037628-fee6-49ed-be4c-7242966cddf4",
   "metadata": {},
   "outputs": [],
   "source": [
    "## Code cell 29 ##\n",
    "\n",
    "res2_dHet_dHetRag_sig_ranked_annot$rank_DE <- 1:nrow(res2_dHet_dHetRag_sig_ranked_annot)\n",
    "str(res2_dHet_dHetRag_sig_ranked_annot)"
   ]
  },
  {
   "cell_type": "markdown",
   "id": "073f5257-eb6b-4832-9dfa-140ed8ba6352",
   "metadata": {},
   "source": [
    "    - We look at the rank of the 50 most variable genes in the DE analysis"
   ]
  },
  {
   "cell_type": "code",
   "execution_count": null,
   "id": "46d5353b-610f-4e4b-b522-7b2f1d882bfc",
   "metadata": {},
   "outputs": [],
   "source": [
    "## Code cell 30 ##\n",
    "\n",
    "merge(top50var, res2_dHet_dHetRag_sig_ranked_annot[,-14],\n",
    "      by = \"ensemblID\", all = FALSE, sort = FALSE) [,c(\"ensemblID\", \"gene_name\", \"rank_var\", \"rank_DE\", \"log2FoldChange\", \"padj\")]"
   ]
  },
  {
   "cell_type": "markdown",
   "id": "4dbb2531-9d6e-4f43-ad6e-3b36ec8339f5",
   "metadata": {},
   "source": [
    "We notice that Xist, the top var gene, is not among the DE genes...neither 9 other genes :"
   ]
  },
  {
   "cell_type": "code",
   "execution_count": null,
   "id": "943f3a02-0f44-4265-92a3-e87b1eedaa04",
   "metadata": {},
   "outputs": [],
   "source": [
    "## Code cell 31 ##\n",
    "\n",
    "setdiff(top50var$gene_name, res2_dHet_dHetRag_sig_ranked_annot$gene_name)"
   ]
  },
  {
   "cell_type": "markdown",
   "id": "22ae9c80-5aec-42ef-a7a8-881ff4e6bf32",
   "metadata": {},
   "source": [
    "They may have been removed by DESeq2 during the DE analysis as they were considered as outliers...\n",
    "\n",
    "Reciprocally, if we look at the top50 DE expressed genes, they are not all in the list of the most variable genes. Indeed, the most variable genes may vary whatever the conditions, while DE genes vary between conditions!"
   ]
  },
  {
   "cell_type": "code",
   "execution_count": null,
   "id": "c0f62dda-5746-4601-9a6c-b4c90ea819a1",
   "metadata": {},
   "outputs": [],
   "source": [
    "## Code cell 32 ##\n",
    "\n",
    "top50DE <- res2_dHet_dHetRag_sig_ranked_annot[1:50, ]\n",
    "setdiff(top50DE$gene_name, top50var$gene_name) # list the top50 DE genes that are not among the top50 var genes\n",
    "merge(top50DE, norm_counts[, - 2], by = \"ensemblID\", all.x = TRUE, all.Y = TRUE, sort = FALSE)[,c(\"ensemblID\", \"gene_name\", \"rank_var\", \"rank_DE\", \"log2FoldChange\", \"padj\")]"
   ]
  },
  {
   "cell_type": "markdown",
   "id": "db300490-bbf1-4d82-b51b-64d78efc4723",
   "metadata": {},
   "source": [
    "We will further get gene expression data of \"Sos1\" and \"Gm2629\", the second and third genes in the DE analysis that are not among the top 50 var genes (while the first DE gene,  \"Ighj1\", ranks 26th among the most variable genes)."
   ]
  },
  {
   "cell_type": "markdown",
   "id": "f42007c2-21e8-4048-b498-5790c9c4ca7f",
   "metadata": {},
   "source": [
    "--\n",
    "#### __2.2-c - PCA on the top 50 var genes__"
   ]
  },
  {
   "cell_type": "markdown",
   "id": "df4517b3-495f-4fac-ba24-095b858ea3d4",
   "metadata": {},
   "source": [
    "We now use these top 50 variable genes to perform a proper PCA:"
   ]
  },
  {
   "cell_type": "code",
   "execution_count": null,
   "id": "076df6ec-7b33-4ef0-b528-5f24f88d0f45",
   "metadata": {
    "tags": []
   },
   "outputs": [],
   "source": [
    "## Code cell 33 ##\n",
    "\n",
    "# run PCA\n",
    "PCAdata2 <- prcomp(t(top50var[, 3:13]))\n"
   ]
  },
  {
   "cell_type": "markdown",
   "id": "b738c0c9-ff50-4d7b-be5f-845303c63d74",
   "metadata": {},
   "source": [
    "* **Scree plot**\n",
    "\n",
    "We display the corresponding scree plot :"
   ]
  },
  {
   "cell_type": "code",
   "execution_count": null,
   "id": "83db0180-6321-4209-a8fe-75b83172e5b3",
   "metadata": {},
   "outputs": [],
   "source": [
    "## Code cell 34 ##\n",
    "\n",
    "# to display the two scree plots side by side\n",
    "layout(matrix(1:2, ncol = 2))\n",
    "\n",
    "screeplot(PCAdata2)\n",
    "screeplot(PCAdata2, type = \"lines\")"
   ]
  },
  {
   "cell_type": "markdown",
   "id": "790144c2-d780-46b3-85e1-43feb0c1bab3",
   "metadata": {},
   "source": [
    "The scree plot confirms that there is  no interest in looking into PC dimensions beyond PC3 or PCA, as the remaining ones explain very little parts of the inertia (or total variance).  "
   ]
  },
  {
   "cell_type": "markdown",
   "id": "ada747ef-a32f-4c1a-bbce-d318c1ad9687",
   "metadata": {},
   "source": [
    "* **PCA plots**"
   ]
  },
  {
   "cell_type": "code",
   "execution_count": null,
   "id": "e10003f7-442c-4e68-830d-ca911249feea",
   "metadata": {},
   "outputs": [],
   "source": [
    "## Code cell 35 ##\n",
    "\n",
    "autoplot(PCAdata2,\n",
    "         data = samples, \n",
    "         colour = \"Condition\", \n",
    "         shape = \"Tissue\",\n",
    "         size = 6) +\n",
    "        geom_text_repel(aes(x = PC1, y = PC2, label = SampleName), box.padding = 0.8)\n"
   ]
  },
  {
   "cell_type": "markdown",
   "id": "b726b287-9ccd-4db2-9ede-d7861f7f59f5",
   "metadata": {},
   "source": [
    "We can see that the portion of variance explained by PC1 and PC2 is higher, when we take into consideration only our top genes. This is indeed logical, as these genes are likely to be the most impacted by the change of conditions.   \n"
   ]
  },
  {
   "cell_type": "markdown",
   "id": "4a30199a-0442-494f-b46a-ce66c4919c84",
   "metadata": {},
   "source": [
    "* **Correlation circle**\n",
    " \n",
    "The correlation circle plot is a very popular way for visualization of results from PCA, as it combines both the principal component scores and the loading vectors *(the variables)* that mostly contribute to the PC axes in a single display. Here, each vector represents a gene, and the arrow represents the influence of this gene on the PC: the longer the arrow, the stronger the influence.\n",
    "\n",
    "- The orientation (direction) of the vector, with respect to the principal component space, in particular, its angle with the principal component axes: the more parallel to a principal component axis is a vector, the more it contributes only to that PC.\n",
    "\n",
    "- The length in the space: the longer the vector, the more variability of this variable is represented by the two displayed principal components; short vectors are thus better represented in other dimension.\n",
    "\n",
    "- The angles between vectors of different variables show their correlation in this space: small angles represent high positive correlation, right angles represent lack of correlation, opposite angles represent high negative correlation.\n",
    "\n",
    "The function `biplot` is used to draw correlation circles. It is also used to draw biplots (see explanations of what is a biplot with the FactoMiner package section 2.3)."
   ]
  },
  {
   "cell_type": "code",
   "execution_count": null,
   "id": "207e7bfd-a5f2-4662-b2e2-dd1c7d24e421",
   "metadata": {
    "tags": []
   },
   "outputs": [],
   "source": [
    "## Code cell 36 ##\n",
    "\n",
    "biplot(PCAdata2,\n",
    "       scale = 0)"
   ]
  },
  {
   "cell_type": "markdown",
   "id": "32d3327e-c9fe-4755-a428-6ee7e7959dea",
   "metadata": {},
   "source": [
    "Here, we can see that `Xist` points towards the bottom right, but its vector is longer towards the bottom than towards the right. Therefore, we can deduce that the variation of `Xist` expression in our dataset contributes more to the PC2 axis, that is to the difference of dHet cells (leukemic or not) compared to WT cells. "
   ]
  },
  {
   "cell_type": "markdown",
   "id": "35fd7251-781a-4345-a4ef-66d9bb00a063",
   "metadata": {},
   "source": [
    "---\n",
    "\n",
    "### 2.3. PCA using FactoMineR package on the most variable genes\n",
    "---\n",
    "\n"
   ]
  },
  {
   "cell_type": "markdown",
   "id": "20e411af-e82d-43af-ace5-a451090eff45",
   "metadata": {},
   "source": [
    "You can obtain more refined plots for PCA, scree plots, bi plots, correlation plots (and more) by using dedicated packages.    \n",
    "\n",
    "One of the best and most popular is [FactoMineR](http://factominer.free.fr/index_fr.html), with its  companion package [factoextra](https://cran.r-project.org/web/packages/factoextra/index.html).    \n",
    "\n",
    "You can find many tutorials, such as this one:    \n",
    "http://www.sthda.com/english/wiki/wiki.php?id_contents=7851\n",
    "\n",
    "Lets' have a look at a quick analysis with FactoMineR.\n",
    "\n",
    "#### **2.3-a. Prepare input files for factominer**\n",
    "\n",
    "- FactoMineR also needs the **variables *(i.e genes here)* in columns**. So again wa have to start with the transposed version of the norm_counts, here with the top 50 variable genes. Let's put this transforsed dataframe in an object called `for_factominer`:"
   ]
  },
  {
   "cell_type": "code",
   "execution_count": null,
   "id": "c4b4d088-6704-487e-8f69-679d1d03e788",
   "metadata": {},
   "outputs": [],
   "source": [
    "## Code cell 37 ##\n",
    "\n",
    "for_factominer <- t(top50var [, 3:13])\n",
    "str(for_factominer)\n",
    "head(for_factominer)"
   ]
  },
  {
   "cell_type": "markdown",
   "id": "c625613b-a065-4611-8874-ae0bea0a8d5d",
   "metadata": {},
   "source": [
    "- We can add **qualtitative variables** as additional columns. Here we add the columns of the `samples` dataframe after checking the samples are in the same order."
   ]
  },
  {
   "cell_type": "code",
   "execution_count": null,
   "id": "7933576d-f561-4d54-91f5-9947ed6cd61c",
   "metadata": {},
   "outputs": [],
   "source": [
    "## Code cell 38 ##\n",
    "\n",
    "row.names(for_factominer) == samples$SampleName\n",
    "for_factominer <- data.frame(for_factominer, samples)\n",
    "str(for_factominer)"
   ]
  },
  {
   "cell_type": "markdown",
   "id": "b50c5cf9-6b82-4e2f-9e62-ea60b1690c20",
   "metadata": {},
   "source": [
    "Our dataframe has now 60 columns: 50 with the norm counts data for the top 50 most variable genes, followed by 10 columns with sample metadata."
   ]
  },
  {
   "cell_type": "markdown",
   "id": "51094dba-354c-4150-b44a-372fab1a6e6a",
   "metadata": {},
   "source": [
    "We may create new qualitative columns :\n",
    "    \n",
    "    - mouse ID (using abritrary increment values from 1 to 5 for the proB mice\n",
    "    - B type: B-ALL versus proB"
   ]
  },
  {
   "cell_type": "code",
   "execution_count": null,
   "id": "15cce59f-fe9e-4cdd-a9e9-82616df883bc",
   "metadata": {},
   "outputs": [],
   "source": [
    "## Code cell 39 ##\n",
    "\n",
    "for_factominer$mouseID <- c(rep(\"686\", 2), rep(\"713\", 2), rep(\"760\", 2), 1:5)\n",
    "for_factominer$B_type <- c(rep(\"B-ALL\", 6), rep(\"proB\", 5))"
   ]
  },
  {
   "cell_type": "markdown",
   "id": "3b87e90e-5f39-4969-8963-7be0e29167f5",
   "metadata": {},
   "source": [
    "Unfortunatley, the sex was not provided as a metadata by the authors. We will use the level of expression of `Xist` as a surrogate to look at the sex."
   ]
  },
  {
   "cell_type": "code",
   "execution_count": null,
   "id": "461f56e5-9740-4bb8-b5fa-062bb0890367",
   "metadata": {},
   "outputs": [],
   "source": [
    "## Code cell 40 ##\n",
    "\n",
    "summary(for_factominer$Xist)\n",
    "hist(for_factominer$Xist)\n",
    "for_factominer$sex <- ifelse(for_factominer$Xist < 6, \"male\", \"female\")\n",
    "table(for_factominer$sex)\n",
    "for_factominer[, c(\"Xist\", \"sex\")]"
   ]
  },
  {
   "cell_type": "markdown",
   "id": "aa0aba33-4995-4a77-9431-3996522501f4",
   "metadata": {},
   "source": [
    "- add **quantitative variables** as additional columns\n",
    "\n",
    "SHould you have some quantitative variables add them as additional columns. Here, as we have no quantitative data in the metadata, let's choose arbitrary one. We will take the level of expression of the second and third differentially expressed genes, \"Sos1\" and \"Gm2629\" that are not among the top 50 variable genes as seen above."
   ]
  },
  {
   "cell_type": "code",
   "execution_count": null,
   "id": "fd9518d3-b50a-45d3-b56b-75300d2d4238",
   "metadata": {},
   "outputs": [],
   "source": [
    "## Code cell 41 ##\n",
    "\n",
    "for_factominer$Sos1 <- unlist(subset(norm_counts, gene_name == \"Sos1\")[,3:13])\n",
    "for_factominer$Gm2629 <- unlist(subset(norm_counts, gene_name == \"Gm2629\")[,3:13])\n",
    "head(for_factominer)\n",
    "str(for_factominer)"
   ]
  },
  {
   "cell_type": "markdown",
   "id": "dea62585-0e24-47ae-8d2e-23fc5199ad0f",
   "metadata": {},
   "source": [
    "#### **2.3-b. Run PCA and store results**\n",
    "\n",
    "The `PCA()` function of FactoMineR creates an object of type `list` including all PCA results."
   ]
  },
  {
   "cell_type": "code",
   "execution_count": null,
   "id": "66516173-ffd4-43c9-914f-6a6a64564f96",
   "metadata": {},
   "outputs": [],
   "source": [
    "## Code cell 42 ##\n",
    "\n",
    "# Use PCA() of FactoMineR\n",
    "#?PCA\n",
    "PCAres <- FactoMineR::PCA(for_factominer,\n",
    "                          quali.sup = 51:(ncol(for_factominer)-2), # specify the index of the qulatitative colums\n",
    "                          quanti.sup = (ncol(for_factominer)-1):ncol(for_factominer),\n",
    "                                                                graph = FALSE)\n",
    "#str(PCAres) # longue structure!\n",
    "print(class(PCAres))\n",
    "names(PCAres)"
   ]
  },
  {
   "cell_type": "markdown",
   "id": "c7e172fe-9e93-44b0-a4fd-db772d341ce9",
   "metadata": {},
   "source": [
    "#### **2.3-c. Visual analysis of the first two eigen vectors**\n",
    "\n",
    "\n",
    "The first two axes explain most of the interia of the scatter plot. Let's visualize the graph by plotting each mouse along these two axes."
   ]
  },
  {
   "cell_type": "code",
   "execution_count": null,
   "id": "e27926c4-70c5-4924-a577-4ad4860d9f2a",
   "metadata": {},
   "outputs": [],
   "source": [
    "## Code cell 43 ##\n",
    "\n",
    "# Creates graphs with the samples (called \"individuals in factominer) according to each axsis :\n",
    "\n",
    "FactoMineR::plot.PCA(PCAres, choix = \"ind\", autoLab = \"yes\", invisible = \"quali\", cex = 1)"
   ]
  },
  {
   "cell_type": "markdown",
   "id": "3f6e910a-ee39-4823-b06b-e22af0d0d75f",
   "metadata": {},
   "source": [
    "Note that the contribution of each axis to the inertia is displayed in %."
   ]
  },
  {
   "cell_type": "markdown",
   "id": "69230b37-bda4-4e40-9ace-eb99e4635924",
   "metadata": {},
   "source": [
    "Let's label the dots using some qualtitative metadata:"
   ]
  },
  {
   "cell_type": "code",
   "execution_count": null,
   "id": "61f31da1-c275-4db5-83c6-e4c6be53c0f5",
   "metadata": {},
   "outputs": [],
   "source": [
    "## Code cell 44 ##\n",
    "\n",
    "# Same graph adding colors for qualitative variables\n",
    "# save in pdf if wanted\n",
    "\n",
    "#pdf(\"PCA_individus.pdf\")\n",
    "\n",
    "FactoMineR::plot.PCA(PCAres, choix = \"ind\", autoLab = \"yes\", invisible = \"quali\", cex = 1)\n",
    "FactoMineR::plot.PCA(PCAres, choix = \"ind\", autoLab = \"yes\", invisible = \"quali\", habillage = \"Condition\", cex = 1)\n",
    "FactoMineR::plot.PCA(PCAres, choix = \"ind\", autoLab = \"yes\", invisible = \"quali\", habillage = \"Tissue\", cex = 1)\n",
    "FactoMineR::plot.PCA(PCAres, choix = \"ind\", autoLab = \"yes\", invisible = \"quali\", habillage = \"mouseID\" , cex = 1)\n",
    "FactoMineR::plot.PCA(PCAres, choix = \"ind\", autoLab = \"yes\", invisible = \"quali\", habillage = \"B_type\" , cex = 1)\n",
    "FactoMineR::plot.PCA(PCAres, choix = \"ind\", autoLab = \"yes\", invisible = \"quali\", habillage = \"sex\", cex = 1)\n",
    "#dev.off()"
   ]
  },
  {
   "cell_type": "markdown",
   "id": "e1a689f2-8673-4079-a381-edadb431a59e",
   "metadata": {},
   "source": [
    "To look at other axes:"
   ]
  },
  {
   "cell_type": "code",
   "execution_count": null,
   "id": "920b8aa5-b4b3-494f-845a-152cc48f0ab8",
   "metadata": {
    "tags": []
   },
   "outputs": [],
   "source": [
    "## Code cell 45 ##\n",
    "\n",
    "FactoMineR::plot.PCA(PCAres, axes = c(2,3), choix = \"ind\", autoLab = \"yes\", invisible = \"quali\", cex = 1)"
   ]
  },
  {
   "cell_type": "markdown",
   "id": "32548e6f-d706-4907-b810-d9f178c48deb",
   "metadata": {},
   "source": [
    "#### **2.3-d. PCA quality**\n",
    "\n",
    "- The **inertia explained by each component** is stored in `PCAres$eig`."
   ]
  },
  {
   "cell_type": "code",
   "execution_count": null,
   "id": "6818587e-57a5-496c-9de1-9e36da21143c",
   "metadata": {},
   "outputs": [],
   "source": [
    "## Code cell 46 ##\n",
    "\n",
    "PCAres$eig\n",
    "\n",
    "# only for first five:\n",
    "PCAres$eig[1:5]"
   ]
  },
  {
   "cell_type": "markdown",
   "id": "19286deb-f5f5-4acf-8f44-77843a43ca6b",
   "metadata": {},
   "source": [
    "- **scree plots**: We draw the standard scree plot and a cumulative one with r base commands:"
   ]
  },
  {
   "cell_type": "code",
   "execution_count": null,
   "id": "c97bc53b-9359-40c8-9b77-504cdd2a92c4",
   "metadata": {},
   "outputs": [],
   "source": [
    "## Code cell 47 ##\n",
    "\n",
    "# Graphic Inertia and dimensions\n",
    "\n",
    "#pdf(\"PCA_inertia.pdf\")\n",
    "eig.val <- PCAres$eig\n",
    "barplot(eig.val[, 2], \n",
    "        names.arg = 1:nrow(eig.val), \n",
    "        main = \"Variances Explained by PCs (%)\",\n",
    "        xlab = \"Principal Components\",\n",
    "        ylab = \"Percentage of variances\",\n",
    "        ylim = c(0,15),\n",
    "        col =\"steelblue\")\n",
    "\n",
    "barplot(eig.val[, 3], \n",
    "        names.arg = 1:nrow(eig.val), \n",
    "        main = \"Variances Explained by PCs (%)\",\n",
    "        xlab = \"Principal Components\",\n",
    "        ylab = \"Cumulative Percentage of variance\",\n",
    "        ylim = c(0,100),\n",
    "        col =\"steelblue\")\n",
    "\n",
    "#dev.off()"
   ]
  },
  {
   "cell_type": "markdown",
   "id": "e51a4d4f-9b94-4106-8ccb-896f214b3ace",
   "metadata": {},
   "source": [
    "Using the `factoextra` package on factominer results allows to draw a nicer scree plots: "
   ]
  },
  {
   "cell_type": "code",
   "execution_count": null,
   "id": "13fbd60e-1677-4067-9489-b9ff2545cf79",
   "metadata": {},
   "outputs": [],
   "source": [
    "## Code cell 48 ##\n",
    "\n",
    "# diagramme des éboulis avec 10 composantes par défaut\n",
    "factoextra::fviz_eig(PCAres, addlabels = TRUE)"
   ]
  },
  {
   "cell_type": "code",
   "execution_count": null,
   "id": "9d532c36-4ff8-40e5-8847-7ed8eec65ee4",
   "metadata": {},
   "outputs": [],
   "source": [
    "## Code cell 49 ##\n",
    "\n",
    "# idem same with only 5 components:\n",
    "factoextra::fviz_eig(PCAres, addlabels = TRUE, ncp = 5)"
   ]
  },
  {
   "cell_type": "markdown",
   "id": "6c3a4d40-2295-4cbf-87d9-c75f6a0e982a",
   "metadata": {},
   "source": [
    "#### **2.3-e. Analysis of correlations between PCA variables and metadata**\n",
    "\n",
    "\n"
   ]
  },
  {
   "cell_type": "markdown",
   "id": "bb84caab-e565-4495-b026-c657b5fb8d28",
   "metadata": {},
   "source": [
    "In addition to visually look at each component, it is possible to test the correlation between each component and the metadata.\n",
    "\n",
    "- Correlation between each component and **qualitative metadata:**"
   ]
  },
  {
   "cell_type": "code",
   "execution_count": null,
   "id": "52c146ad-5664-4242-b0a5-d472f12afa23",
   "metadata": {},
   "outputs": [],
   "source": [
    "## Code cell 50 ##\n",
    "\n",
    "round(PCAres$quali.sup$eta2, 2)"
   ]
  },
  {
   "cell_type": "markdown",
   "id": "5cb5dfb6-8840-4856-891c-2f46847c694f",
   "metadata": {},
   "source": [
    "- Correlation between each component and **quantitative metadata:**"
   ]
  },
  {
   "cell_type": "code",
   "execution_count": null,
   "id": "5dcfead3-9af5-4178-8eb2-e9aec4bf5026",
   "metadata": {},
   "outputs": [],
   "source": [
    "## Code cell 51 ##\n",
    "\n",
    "round(PCAres$quanti.sup$cor,2)"
   ]
  },
  {
   "cell_type": "markdown",
   "id": "27ae4dda-3816-46c3-b591-c2a43e13498a",
   "metadata": {},
   "source": [
    "- graphical **representation of correlations with qualitative metadata**:\n",
    "\n",
    "In particular, use the argument `axes` to specify the dimensions of interest like in the example below."
   ]
  },
  {
   "cell_type": "code",
   "execution_count": null,
   "id": "62a85e57-b401-4ec7-b220-824c06519e53",
   "metadata": {},
   "outputs": [],
   "source": [
    "## Code cell 52 ##\n",
    "\n",
    "#pdf(\"nom_fichier.pdf\")\n",
    "# les composantes par défaut sont les 1 et 2\n",
    "# vous pouvez les modifier via l'argument \"axes\"\n",
    "\n",
    "FactoMineR::plot.PCA(PCAres, choix = \"ind\", autoLab = \"yes\", invisible = \"quali\", cex = 1,\n",
    "                     habillage = \"Condition\", axes = c(1,2))\n",
    "\n",
    "#dev.off()"
   ]
  },
  {
   "cell_type": "markdown",
   "id": "c4b723c8-5f58-4b30-98b0-181fb6b0419b",
   "metadata": {},
   "source": [
    "The package `factoextra` allows to color points and to add ***circles*** or ***ellipses*** around the groups of points sharing some qualitative characteristics. A large dot is plotted at the barycentre.\n",
    " \n",
    "We can thus visualize points per conditions. Note that there are too few points for the WT and dHetRag to draw an ellipse.\n"
   ]
  },
  {
   "cell_type": "code",
   "execution_count": null,
   "id": "2044ecdc-0ac5-4e95-b0f7-a5ccf7c4fbb7",
   "metadata": {},
   "outputs": [],
   "source": [
    "## Code cell 53 ##\n",
    "\n",
    "factoextra::fviz_pca_ind(PCAres, label = \"none\",\n",
    "                         habillage = as.factor(PCAres$call$quali.sup$quali.sup$Condition),\n",
    "             addEllipses = TRUE, ellipse.level = 0.95)"
   ]
  },
  {
   "cell_type": "markdown",
   "id": "f000dc56-a007-4ece-9ff7-b4a8baa27a56",
   "metadata": {},
   "source": [
    "We look now at the sex on dim1 and dim2, then dim2 and dim3:"
   ]
  },
  {
   "cell_type": "code",
   "execution_count": null,
   "id": "d85e8329-fd9e-4efa-ae79-6a762252f1a3",
   "metadata": {},
   "outputs": [],
   "source": [
    "## Code cell 54 ##\n",
    "\n",
    "factoextra::fviz_pca_ind(PCAres, label = \"none\",\n",
    "                         habillage = as.factor(PCAres$call$quali.sup$quali.sup$sex),\n",
    "             addEllipses = TRUE, ellipse.level = 0.95)\n",
    "\n",
    "factoextra::fviz_pca_ind(PCAres, label = \"none\",\n",
    "                         habillage = as.factor(PCAres$call$quali.sup$quali.sup$sex),\n",
    "             addEllipses = TRUE, ellipse.level = 0.95, axes = c(2,3))"
   ]
  },
  {
   "cell_type": "markdown",
   "id": "c9af1c8a-df28-4119-a0cd-ee3ccf13e3a3",
   "metadata": {},
   "source": [
    "or here with the tissue :"
   ]
  },
  {
   "cell_type": "code",
   "execution_count": null,
   "id": "223d8e27-7ed5-40da-ae12-6463ea33077c",
   "metadata": {},
   "outputs": [],
   "source": [
    "## Code cell 55 ##\n",
    "\n",
    "factoextra::fviz_pca_ind(PCAres, label = \"none\",\n",
    "                         habillage = as.factor(PCAres$call$quali.sup$quali.sup$Tissue),\n",
    "             addEllipses = TRUE, ellipse.level = 0.95)"
   ]
  },
  {
   "cell_type": "markdown",
   "id": "d8a681ec-2e79-428f-98a2-83802437255c",
   "metadata": {},
   "source": [
    "- graphical **representation of correlations with quantitative metadata**:\n",
    "\n",
    "One can also use a quantitative variable to color the points with a ***gradient***.\n",
    "\n",
    "Let'st give it a go with Sos1 gene and Gm2629 genes:"
   ]
  },
  {
   "cell_type": "code",
   "execution_count": null,
   "id": "12575765-21de-4fcd-9fc5-7cc72b069e4f",
   "metadata": {},
   "outputs": [],
   "source": [
    "## Code cell 56 ##\n",
    "\n",
    "factoextra::fviz_pca_ind(PCAres, label=\"none\",\n",
    "                         col.ind = as.numeric(PCAres$call$quanti.sup$Sos1))"
   ]
  },
  {
   "cell_type": "code",
   "execution_count": null,
   "id": "c956d7c7-72f0-40a1-a78c-be1b3f7b8d4e",
   "metadata": {},
   "outputs": [],
   "source": [
    "## Code cell 57 ##\n",
    "\n",
    "factoextra::fviz_pca_ind(PCAres, label=\"none\",\n",
    "                         col.ind = as.numeric(PCAres$call$quanti.sup$Gm2629))"
   ]
  },
  {
   "cell_type": "markdown",
   "id": "b5c42d32-a86c-4798-a80e-cbc05aa6d56e",
   "metadata": {
    "tags": []
   },
   "source": [
    "That's a good way to know which variable (*here gene*) best contributes to the inertia described by one componant/axis."
   ]
  },
  {
   "cell_type": "markdown",
   "id": "70c22787-81d8-4954-b025-72dbf4c59b34",
   "metadata": {
    "tags": []
   },
   "source": [
    "#### **2.3-f. Analysis of correlations between observations/conditions, variables and the PCA components**"
   ]
  },
  {
   "cell_type": "markdown",
   "id": "1abf0030-a078-4214-8037-c6bab79fb8f0",
   "metadata": {
    "tags": []
   },
   "source": [
    "- **Contribution of one observation *(here a mouse condition)* to the different PCA components:**\n",
    "\n",
    "This is used to know which condition contributes the most to one axis. Belwo is a code to detect the top 30 genes contributing to axis 1."
   ]
  },
  {
   "cell_type": "code",
   "execution_count": null,
   "id": "057a1cc4-24ab-42be-8575-c4a4236d9abc",
   "metadata": {
    "tags": []
   },
   "outputs": [],
   "source": [
    "## Code cell 58 ##\n",
    "\n",
    "factoextra::fviz_contrib(PCAres, choice = \"ind\", axes = 1:2, top = 30)"
   ]
  },
  {
   "cell_type": "markdown",
   "id": "a7290185-1bdd-428e-bc80-b56662b7e038",
   "metadata": {},
   "source": [
    "- **Contribution of each variable used for the PCA *(levels of expression)* to PCA components** :"
   ]
  },
  {
   "cell_type": "code",
   "execution_count": null,
   "id": "7b3ed538-e8b4-45c9-85ae-8add8119b937",
   "metadata": {
    "tags": []
   },
   "outputs": [],
   "source": [
    "## Code cell 59 ##\n",
    "\n",
    "# Contributions to axis one of the top 10 genes contributing to it :\n",
    "factoextra::fviz_contrib(PCAres, choice = \"var\", axes = 1, top = 10)\n",
    "\n",
    "# Contributions to second axis:\n",
    "factoextra::fviz_contrib(PCAres, choice = \"var\", axes = 2, top = 10)"
   ]
  },
  {
   "cell_type": "markdown",
   "id": "5bca0925-3f25-4a1c-909d-3ae1c850f114",
   "metadata": {},
   "source": [
    "- **Correlation between quantitative variables used for the PCA and the PCA components**\n",
    "\n",
    "In our example, a gene that strongly contributes to a PCA axis will have its level of expression correlated with it. If the contribution is expressed in % and is positive, the correlation can be either positive or negative.\n",
    "\n",
    "- **positive correlation** *(0 < rho < 1)*: observations *(here conditions)* with high values for the considered component have also a high level of the quantitative variable *(here gene expression)*.\n",
    "\n",
    "- **negative correlation** *(-1 < rho <0)*: observations high values for the considered component have a small level for the quantitative variable.\n",
    " \n",
    "The __correlation circle__ shows the correlation between the quantitative variables *(here gene levels)* and the PCA eigen vectors. Each transcipt is represented with an arrow. The end of the arrow indicates the correlation coefficient between the transcript and the two displayed components."
   ]
  },
  {
   "cell_type": "code",
   "execution_count": null,
   "id": "2d982f25-4b66-4ab3-9ba9-a1b3e6219ab8",
   "metadata": {},
   "outputs": [],
   "source": [
    "## Code cell 60 ##\n",
    "\n",
    "# Correlation circle\n",
    "# with the argument \"contrib 10\" you display the top 10 genes with the best correlations with axes 1 and 2\n",
    "\n",
    "#pdf(file = \"PCA_diab_contrib30.pdf\")\n",
    "FactoMineR::plot.PCA(PCAres, choix = \"var\", cex = 1, select = \"contrib 10\", unselect = 1)\n",
    "#dev.off()"
   ]
  },
  {
   "cell_type": "markdown",
   "id": "3bfad26a-db9d-4b27-8d6a-c4696d976500",
   "metadata": {},
   "source": [
    "Same plot, using `factoextra`:"
   ]
  },
  {
   "cell_type": "code",
   "execution_count": null,
   "id": "0e9407d3-7b7c-4126-b5cc-0bd350af6aeb",
   "metadata": {},
   "outputs": [],
   "source": [
    "## Code cell 61 ##\n",
    "\n",
    "factoextra::fviz_pca_var(PCAres, select.var = list(contrib = 10))"
   ]
  },
  {
   "cell_type": "markdown",
   "id": "0e10f327-cde9-4b28-a80e-9b4317759293",
   "metadata": {},
   "source": [
    "One can decide to put a threshold on the level of correlation."
   ]
  },
  {
   "cell_type": "code",
   "execution_count": null,
   "id": "35abb8eb-1b76-4119-9e25-c8d29e6ba08c",
   "metadata": {},
   "outputs": [],
   "source": [
    "## Code cell 62 ##\n",
    "\n",
    "factoextra::fviz_pca_var(PCAres, select.var = list(cos2 = 0.8))"
   ]
  },
  {
   "cell_type": "markdown",
   "id": "ae32bf43-698a-498a-a0f9-e2022ddb3e67",
   "metadata": {},
   "source": [
    "- **Biplots of observations and variables**\n",
    "\n",
    "A biplot allows to display simultaneoulsy the scatter plot (PCA plot) of observations (with the best labelling) and the variables mostly contributing to the displayed axes.   \n",
    "\n",
    "\n",
    "<div class=\"alert alert-block alert-warning\"><b>Warning:</b><br> Do not try to display too many variables, otherwise the plot would not be meaningful.</div>\n",
    "\n",
    "Here we choose to display the top 10 variables and observations colred according to the condition on the first and second PCA axes : "
   ]
  },
  {
   "cell_type": "code",
   "execution_count": null,
   "id": "306a85d3-148b-4a53-a627-be90a3cc5220",
   "metadata": {},
   "outputs": [],
   "source": [
    "## Code cell 63 ##\n",
    "\n",
    "factoextra::fviz_pca_biplot(PCAres, select.var = list(contrib = 10),\n",
    "                            col.var = \"black\",\n",
    "                            habillage = as.factor(PCAres$call$quali.sup$quali.sup$Condition))"
   ]
  },
  {
   "cell_type": "markdown",
   "id": "0694baed-36d3-4dc2-86e0-fd732fe2eafd",
   "metadata": {},
   "source": [
    "- **Correlation of a specific variable with specific axes:**\n",
    "\n",
    "Finally, we can compute the correlation of one transcript level with positions on a given axis."
   ]
  },
  {
   "cell_type": "code",
   "execution_count": null,
   "id": "d7b2ca04-2bc2-4ab6-9b20-0557e0a7f876",
   "metadata": {},
   "outputs": [],
   "source": [
    "## Code cell 64 ##\n",
    "\n",
    "# Lignes de codes pour calculer les coefficients de corrélation entre le niveau des transcrits et la position des échantillons sur les axes\n",
    "cor.test(for_factominer$Xist, PCAres$ind$coord[,1])\n",
    "cor.test(for_factominer$Xist, PCAres$ind$coord[,2])"
   ]
  },
  {
   "cell_type": "markdown",
   "id": "4446deaf-b23e-4ad0-a0b0-3685b7f2760c",
   "metadata": {},
   "source": [
    "---  \n",
    "---\n",
    "\n",
    "## 3 - Clustering and Heatmaps \n",
    "---"
   ]
  },
  {
   "cell_type": "markdown",
   "id": "322127fa-85b7-4e2c-ada8-90acda00ecaf",
   "metadata": {
    "tags": []
   },
   "source": [
    "### 3.1 - Hierarchical clustering   \n",
    "---\n",
    "\n",
    "As we did before normalisation, we will look at the grouping of our samples using a Hierarchical Clustering.    \n",
    "This  representation is used to cluster the samples based on dissimilarity indexes *(see lecture 12, here we will use the Ward distance)*. More information can be found with `?hclust` (or in the Contextual Help panel on the right, that can be opened via the Help menu).\n",
    "\n",
    "Hierarchical clustering is performed in two steps: calculate the distance matrix and apply clustering. "
   ]
  },
  {
   "cell_type": "code",
   "execution_count": null,
   "id": "d1c3e4c9-3f25-4fa1-b5cc-337fa6c83ff9",
   "metadata": {},
   "outputs": [],
   "source": [
    "## Code cell 65 ##\n",
    "\n",
    "clusters <- hclust(dist(as.matrix(t(top50var[ ,- c(1:2)]))), method = \"ward.D\" )\n",
    "plot(clusters)\n",
    "\n",
    "rm(clusters)    "
   ]
  },
  {
   "cell_type": "markdown",
   "id": "be159e42-368b-4850-8421-7e69ac92966c",
   "metadata": {
    "tags": []
   },
   "source": [
    "We can see that replicates from the same mouse cluster together, as expected. What is less expected is the grouping together of leukemic cells with WT ones! You could test other methods and see that this clustering is robust."
   ]
  },
  {
   "cell_type": "markdown",
   "id": "63b493df-2ed9-414f-8a02-94ea4d948601",
   "metadata": {},
   "source": [
    "### 3.2 - Simple heatmaps   \n",
    "---\n",
    "\n",
    "Another way of looking at  expression data is a heatmap, that shows the level of expression of genes as colors, usually organised with samples in columns, and genes as rows.   \n",
    "\n",
    "A simple and efficient way of plotting such a display is the function `heatmap()`, that gives a combined output combining a heatmap and dendrograms grouping samples and genes, as in hierarchical clustering:"
   ]
  },
  {
   "cell_type": "code",
   "execution_count": null,
   "id": "1b34d91d-0c43-4dd7-945f-70646138a1ee",
   "metadata": {},
   "outputs": [],
   "source": [
    "## Code cell 66 ##\n",
    "\n",
    "heatmap(as.matrix(top50var[,-c(1:2)]))"
   ]
  },
  {
   "cell_type": "markdown",
   "id": "5eb978d6-6fd0-4957-8403-8c144366b013",
   "metadata": {},
   "source": [
    "### 3.2 - Enhanced heatmaps with `ComplexHeatmap`\n",
    "---\n",
    "\n",
    "There are two main packages to draw enhanced heatmaps:\n",
    "- [pheatmap](https://cran.r-project.org/web/packages/pheatmap/index.html): a CRAN packages.\n",
    "- [ComplexHeatmap](https://jokergoo.github.io/ComplexHeatmap-reference/book/) on GitHub but also available in Bioconductor, the second generation of pheatmap.\n",
    "\n",
    "ComplexHeatmap is the most flexible tool to draw heatmaps with a lot of options, notably to add annotations.  \n",
    "Below is presented a quick example on ComplexHeatmap usage."
   ]
  },
  {
   "cell_type": "markdown",
   "id": "22b952ca-f07a-4d87-9f81-b8afeba5205c",
   "metadata": {},
   "source": [
    "- To use ComplexHeatmap, the dataset must be a **matrix** with samples in columns and genes in rows. We thus transpose our matrix `top50var`.\n",
    "\n",
    "- In addition, we use the function `scale()` to **center our data with a Z score**. Centering the values will provide a heatmap with a more neutral color for middle values, thus enabling a better visualisation of variations."
   ]
  },
  {
   "cell_type": "code",
   "execution_count": null,
   "id": "0aa70b0d-e826-46eb-96cc-72ec1f21087a",
   "metadata": {},
   "outputs": [],
   "source": [
    "## Code cell 67 ##\n",
    "\n",
    "t_top50var <- t(apply(top50var[,-c(1:2)], 1, scale))"
   ]
  },
  {
   "cell_type": "markdown",
   "id": "1cabd977-373a-4f8e-87fb-56c8eb69facf",
   "metadata": {},
   "source": [
    "- Then you select a **distance** for the similarity between samples. It can be a pre-defined character which is in (`euclidean`, `maximum`, `manhattan`, `canberra`, `binary`, `minkowski`, `pearson`, `spearman`, `kendall`). Default is `euclidean`.    \n",
    "It can also be a function. In R the function to compute distances is `dist()`. The correlation distance is defined as 1 - cor(x, y, method). [See there](https://jokergoo.github.io/ComplexHeatmap-reference/book/a-single-heatmap.html#distance-methods) for further details."
   ]
  },
  {
   "cell_type": "markdown",
   "id": "9a833533-b971-4b23-ac9a-24030fb181be",
   "metadata": {},
   "source": [
    "- You can also select the **clustering method** by `clustering_method_rows` and `clustering_method_columns`. Possible methods are those supported in `hclust()` function: `ward.D`, `ward.D2`, `single`, `complete`, `average` (= UPGMA), `mcquitty` (= WPGMA), `median` (= WPGMC) or `centroid` (= UPGMC)."
   ]
  },
  {
   "cell_type": "code",
   "execution_count": null,
   "id": "af997657-d668-4927-beb6-0b797765a537",
   "metadata": {},
   "outputs": [],
   "source": [
    "## Code cell 68 ##\n",
    "\n",
    "# we change the dimension of the output for better rendering\n",
    "options(repr.plot.width = 10, repr.plot.height = 10)\n",
    "\n",
    "ComplexHeatmap::Heatmap(t_top50var,\n",
    "                        name = \"Z-score\",\n",
    "                        clustering_distance_rows = \"pearson\",\n",
    "                        column_title = \"pre-defined distance method (1 - pearson)\", row_title = \"Top 50 genes\",\n",
    "                        clustering_method_rows = \"ward.D\")"
   ]
  },
  {
   "cell_type": "markdown",
   "id": "6abcaf72-5530-454c-a80c-d31c5452688d",
   "metadata": {},
   "source": [
    "- One nice usage of ComplexHeatmap is the possibility to add custom **annotations**: `ha` for \"heatmap annotation\" is the object name used in ComplexHeatmap tutorial.\n",
    "\n",
    "- You can add annotations on samples, either quantitative annotations with the fundtion `anno_points()` or `anno_barplot()` or qualitative annotations from a dataframe. The `col` argument is used to specify the colors of the different categorical values. For the quantitative values, you can add points or boxplots for example.   \n",
    "\n",
    "Many beautiful examples can be found in the [Complex Heatmap manual](https://jokergoo.github.io/ComplexHeatmap-reference/book/), and a nice progressive tutorial is available [here](https://www.datanovia.com/en/lessons/heatmap-in-r-static-and-interactive-visualization/). "
   ]
  },
  {
   "cell_type": "markdown",
   "id": "382baf53-fa25-4946-9fdc-03fa7b126d95",
   "metadata": {},
   "source": [
    "---  \n",
    "---\n",
    "\n",
    "## 4 - Correlograms\n",
    "---\n",
    "\n",
    "Gene co-expression correlations provide a robust methodology for predicting gene function, as genes sharing a biological process or a common implication in pathways are often co-regulated.  This is particularly helpful to provide clues to the functions and roles of lncRNA genes, on the basis of the *\"guilty by association\"* method: if lncRNA genes cluster with genes with known functions, they are likely to participate to the same biological process.    \n",
    "\n",
    "We want to see if the top variant genes identified above have a correlated expression in a pair-wise manner, that is if two genes share a similar pattern of expression across samples.\n",
    "\n",
    "A Pearson or Spearman correlation is performed between continuous variables with the `cor()`  function, resulting in a correlation coefficient between each pair of genes. This correlation is displayed in a scatter plot with the function `plot()`.\n",
    "\n",
    "<div class=\"alert alert-block alert-info\"><b><u>What are correlograms?</u></b><br>\n",
    "<br>When we want to study pairwise correlation between several variables (here genes are the variables), the <code>cor()</code> function can also be applied on a matrix of data. <b><br>\n",
    "<i>A correlogram is the pairwise graphical representation of the matrix of correlation coefficients</i></b>. Such a correlogram helps highlighting the most correlated variables. Some R packages will also allow to display the pvalues or to reorder variables according to their degree of correlation.\n",
    "\n",
    "You have arleady used heatmaps in session 1 to look at similar patterns of expression among a set of genes, such as the DE genes. Among distances that could be used to cluster genes in a heatmap, we could have used the Pearson distance = (1-r). In a correlogram, we rather display the <b><i>correlation coefficient ranging from -1 to 1</i></b>.\n",
    "</div>\n"
   ]
  },
  {
   "cell_type": "markdown",
   "id": "9f1637b7-552c-41c0-8baf-69e79295614b",
   "metadata": {},
   "source": [
    "###  4.1 - With R native functions\n",
    "---\n",
    "\n",
    "- with the `heatmap` function   \n",
    "which is also able to display a correlogramme.\n",
    "\n",
    "We will have first to transpose the matrix of data with the `t()` function to have each gene name as a variable."
   ]
  },
  {
   "cell_type": "code",
   "execution_count": null,
   "id": "08bf7bc4-1132-4a2d-96a7-7b8641bce398",
   "metadata": {
    "tags": []
   },
   "outputs": [],
   "source": [
    "## Code cell 69 ##\n",
    "\n",
    "heatmap(cor(t(top50var[,-c(1:2)])))"
   ]
  },
  {
   "cell_type": "markdown",
   "id": "f46ce0d0-e270-4112-9752-ed6360b98a19",
   "metadata": {
    "tags": []
   },
   "source": [
    "### 4.2 - With the `corrplot` package\n",
    "\n",
    "\n",
    "The `corrplot`package is particularly efficient for customizing correlograms. https://cran.r-project.org/web/packages/corrplot/vignettes/corrplot-intro.html   \n",
    "It allows for many improvements of the rendering."
   ]
  },
  {
   "cell_type": "code",
   "execution_count": null,
   "id": "746a2ec1-ed61-4623-b6e3-75d6018c739b",
   "metadata": {},
   "outputs": [],
   "source": [
    "## Code cell 70 ##\n",
    "\n",
    "options(repr.plot.width = 13, repr.plot.height = 13)\n",
    "\n",
    "# A first \"simple\" plot\n",
    "corrplot(cor(t(top50var[,-c(1:2)])))\n",
    "\n",
    "# method = \"square\" is the default \n",
    "# hclust clusterises the genes, grouping together the most correlated ones\n",
    "# rectangles around clusters and correlation coefficients are also added\n",
    "corrplot(cor(t(top50var[,-c(1:2)])),\n",
    "         method = \"square\",\n",
    "         order = 'hclust',\n",
    "         addrect = 4,\n",
    "         addCoef.col = 'black',\n",
    "         number.cex = 0.3)"
   ]
  },
  {
   "cell_type": "markdown",
   "id": "5c3e395b-37eb-438a-87c5-d9d0146aaf7d",
   "metadata": {},
   "source": [
    "By definition a correlation matrix is symmetrical.   \n",
    "We can add arguments to the `corrplot()` function in order to display only one half of the matrix (here, the upper one). We can also change the shape of the  representation of each pair-wise correlation.</span>"
   ]
  },
  {
   "cell_type": "code",
   "execution_count": null,
   "id": "443c72c5-8062-4073-bcef-dcc03a5cab05",
   "metadata": {
    "tags": []
   },
   "outputs": [],
   "source": [
    "## Code cell 71 ##\n",
    "\n",
    "# type = 'upper' will show only the upper half of the matrix\n",
    "corrplot(cor(t(top50var[,-c(1:2)])),\n",
    "        method = 'ellipse',\n",
    "        type = 'upper',\n",
    "        insig = 'blank')"
   ]
  },
  {
   "cell_type": "markdown",
   "id": "b2c856e5-3ca3-4006-9860-066e68fac7f1",
   "metadata": {},
   "source": [
    "____\n",
    "---\n",
    "## 5 - Volcano plot\n",
    "---"
   ]
  },
  {
   "cell_type": "markdown",
   "id": "4931322e-0826-4e45-b8fd-467c826766e3",
   "metadata": {},
   "source": [
    "  \n",
    "\n",
    "Volcano plots are very commonly used to display the results of RNA-seq or other omics experiments. This plot uses the  information from the Differential Expression analysis, in particular the adjusted p-value and the log2 Fold Change, to highlight the most differentially expressed genes in a very evident way.    \n",
    "A volcano plot is a type of scatterplot that shows **statistical significance (P value) versus magnitude of change (fold change)**.    \n",
    "It enables quick visual identification of genes with large fold changes that are also statistically significant, because these are likely to be the most biologically significant genes.    \n",
    "\n",
    "In a volcano plot :\n",
    "- the most upregulated genes are towards the right (positive log2 fold change), \n",
    "- the most downregulated genes are towards the left (negative log2 fold change), \n",
    "- the most statistically significant genes are towards the top (smaller adjusted p-value).   \n",
    "\n",
    "In our case, we have these values  in the `res2_ranked_p` object, respectively in the `padj` and in the `log2FoldChange` columns."
   ]
  },
  {
   "cell_type": "markdown",
   "id": "67dd65ab-b6bc-4acf-840a-1741ac29cf74",
   "metadata": {},
   "source": [
    "* **Thresholds for adjusted p-values and log2 Fold Change**\n",
    "\n",
    "First we define the cutoff for the adjusted p-value:"
   ]
  },
  {
   "cell_type": "code",
   "execution_count": null,
   "id": "e67c3d77-61fa-46d5-86e7-2e65ee97f3b2",
   "metadata": {},
   "outputs": [],
   "source": [
    "## Code cell 72 ##\n",
    "\n",
    "alpha <- 0.00001"
   ]
  },
  {
   "cell_type": "markdown",
   "id": "c6851a74-9444-4a79-b676-9721ccc06a65",
   "metadata": {},
   "source": [
    "Now we want to identify the genes that have an adjusted p-value below that cutoff, with a positive or a negative log2FoldChange.\n",
    "\n",
    "We also define a threshold for the log2 fold change, for example 2 and -2.   "
   ]
  },
  {
   "cell_type": "code",
   "execution_count": null,
   "id": "7bfcee79-8998-41c6-adaa-eb9fe5caf050",
   "metadata": {},
   "outputs": [],
   "source": [
    "## Code cell 73 ##\n",
    "\n",
    "## Number of genes with an adjusted p-value < alpha *and a positive log(FC)*\n",
    "dim(res2_dHet_dHetRag_sig_ranked_annot[which(res2_dHet_dHetRag_sig_ranked_annot$padj < alpha & res2_dHet_dHetRag_sig_ranked_annot$log2FoldChange > 2),])[1]\n",
    "upGenes <- res2_dHet_dHetRag_sig_ranked_annot[which(res2_dHet_dHetRag_sig_ranked_annot$padj < alpha & res2_dHet_dHetRag_sig_ranked_annot$log2FoldChange > 2),]\n",
    "\n",
    "## Number of genes with an adjusted p-value < alpha *and a negative log(FC)*\n",
    "dim(res2_dHet_dHetRag_sig_ranked_annot[which(res2_dHet_dHetRag_sig_ranked_annot$padj < alpha & res2_dHet_dHetRag_sig_ranked_annot$log2FoldChange < -2),])[1]\n",
    "downGenes <- res2_dHet_dHetRag_sig_ranked_annot[which(res2_dHet_dHetRag_sig_ranked_annot$padj < alpha & res2_dHet_dHetRag_sig_ranked_annot$log2FoldChange < -2),]\n"
   ]
  },
  {
   "cell_type": "markdown",
   "id": "26029a1e-f76f-4ea9-8c7f-afaa946349d9",
   "metadata": {},
   "source": [
    "* **Plotting of the volcano plot**   \n",
    "\n",
    "When drawing the volcano plot, we can color the genes according to this selection.   \n",
    "FInally, we add horizontal and vertical lines to show the thresholds. "
   ]
  },
  {
   "cell_type": "code",
   "execution_count": null,
   "id": "cb0524c2-57b7-4697-b5d6-a0f1a1b7bef1",
   "metadata": {},
   "outputs": [],
   "source": [
    "## Code cell 74 ##\n",
    "\n",
    "options(repr.plot.width = 10, repr.plot.height = 10)\n",
    "\n",
    "#draw the plot\n",
    "plot(-log10(res2_dHet_dHetRag_sig_ranked_annot$padj) ~ res2_dHet_dHetRag_sig_ranked_annot$log2FoldChange, pch = \"\", xlim = c(-15,15), ylim = c(0,90),\n",
    "     xlab = \"\",ylab = \"\", bty = \"n\", xaxt = \"n\", yaxt = \"n\"  )\n",
    "title(\"Leukemic dHet vs non-leukemic dHetRag\", font.main = 1, cex.main = 0.9)\n",
    "axis(1, at = -15:15, tcl = -0.5,cex = 0.7, labels = F )\n",
    "mtext(-15:15,side = 1,line = 1,at = -15:15, cex = 0.7)\n",
    "axis(2, at = 0:90, tcl = -0.2, cex = 0.7, labels = F )\n",
    "mtext(seq(0,90,10),side = 2,line = 0.5, at = seq(0,90,10), cex = 0.7)\n",
    "\n",
    "\n",
    "## Color in grey genes\n",
    "points(-log10(res2_dHet_dHetRag_sig_ranked_annot$padj) ~ res2_dHet_dHetRag_sig_ranked_annot$log2FoldChange, pch = 16, cex = 0.5, col = \"grey\")\n",
    "\n",
    "\n",
    "## Override the previous colouring for some genes according to the fact they are DE\n",
    "points(-log10(upGenes$padj) ~ upGenes$log2FoldChange,pch = 16, cex = 0.5, col = \"red\")\n",
    "points(-log10(downGenes$padj) ~ downGenes$log2FoldChange, pch = 16,cex = 0.5, col = \"green\")\n",
    "mtext(\"log2(FC)\", side = 1, line = 2, cex = 0.8)\n",
    "mtext(\"-log10 (adjusted p-value)\", side = 2, line = 1.5, cex = 0.8)\n",
    "\n",
    "abline(h=-log10(alpha), col=\"blue\")\n",
    "abline(v=-2, col=\"green\")\n",
    "abline(v=2, col=\"red\")"
   ]
  },
  {
   "cell_type": "markdown",
   "id": "d414eb4a-57ef-4a4d-b8ac-5a232bcfacc8",
   "metadata": {},
   "source": [
    "* **Enlarging the volcano plot** \n",
    "\n",
    "As we can see in the list of DE genes ranked by p-value: "
   ]
  },
  {
   "cell_type": "code",
   "execution_count": null,
   "id": "68fd3e85-6313-4ac0-9b45-5577bae38d72",
   "metadata": {},
   "outputs": [],
   "source": [
    "## Code cell 75 ##\n",
    "\n",
    "head(res2_dHet_dHetRag_sig_ranked_annot, n = 3)"
   ]
  },
  {
   "cell_type": "markdown",
   "id": "a70ee238-fbf9-4cdf-8f36-9996c1442de8",
   "metadata": {},
   "source": [
    "the top DE genes have *very very* low adjusted p-value, that were not displayed in this first volcano plot.    \n",
    "\n",
    "So in the cell below, we change the ylim and the ranges for the y axis to accomodate these high values.    \n",
    "We also change \n",
    "- the size of colored points: `cex = 0.7` instead of `cex = 0.5`\n",
    "- the lettering size for the main title: `cex.main = 1.5` instead of `cex.main = 0.9`\n",
    "- and for the axis titles: `cex = 1` instead of `cex = 0.8`. "
   ]
  },
  {
   "cell_type": "code",
   "execution_count": null,
   "id": "ed9c5f9a-0e1d-4537-a132-6e278b539ebe",
   "metadata": {},
   "outputs": [],
   "source": [
    "## Code cell 76 ##\n",
    "\n",
    "options(repr.plot.width = 10, repr.plot.height = 10)\n",
    "\n",
    "#draw the plot\n",
    "plot(-log10(res2_dHet_dHetRag_sig_ranked_annot$padj) ~ res2_dHet_dHetRag_sig_ranked_annot$log2FoldChange, pch = \"\", xlim = c(-15,15), ylim = c(0,245),\n",
    "     xlab = \"\",ylab = \"\", bty = \"n\", xaxt = \"n\", yaxt = \"n\"  )\n",
    "title(\"Leukemic dHet vs non-leukemic dHetRag\", font.main = 1, cex.main = 1.5)\n",
    "axis(1, at = -15:15, tcl = -0.5,cex = 0.7, labels = F )\n",
    "mtext(-15:15,side = 1,line = 1,at = -15:15, cex = 0.7)\n",
    "axis(2, at = 0:245, tcl = -0.2, cex = 0.7, labels = F )\n",
    "mtext(seq(0,245,10),side = 2,line = 0.5, at = seq(0,245,10), cex = 0.7)\n",
    "\n",
    "\n",
    "## Color in grey genes\n",
    "points(-log10(res2_dHet_dHetRag_sig_ranked_annot$padj) ~ res2_dHet_dHetRag_sig_ranked_annot$log2FoldChange, pch = 16, cex = 0.5, col = \"grey\")\n",
    "\n",
    "\n",
    "## Override the previous colouring for some genes according to the fact they are DE\n",
    "points(-log10(upGenes$padj) ~ upGenes$log2FoldChange,pch = 16, cex = 0.8, col = \"red\")\n",
    "points(-log10(downGenes$padj) ~ downGenes$log2FoldChange, pch = 16,cex = 0.8, col = \"green\")\n",
    "mtext(\"log2(FC)\", side = 1, line = 2, cex = 1.1)\n",
    "mtext(\"-log10 (adjusted p-value)\", side = 2, line = 1.5, cex = 1.1)\n",
    "\n",
    "abline(h=-log10(alpha), col=\"blue\")\n",
    "abline(v=-2, col=\"green\")\n",
    "abline(v=2, col=\"red\")"
   ]
  },
  {
   "cell_type": "markdown",
   "id": "942bd8e2-214d-4503-a8d4-e352dfe748a4",
   "metadata": {},
   "source": [
    "Finally, we write the differentially expressed gene list to a tabulated txt file, in the deseq2folder that we decided at first"
   ]
  },
  {
   "cell_type": "markdown",
   "id": "6ee7ee36-c3ed-4aec-b531-51007c8a7bcf",
   "metadata": {},
   "source": [
    "___\n",
    "---\n",
    "## 6 - Saving our results for later use: DE genes lists and RData file\n",
    "---\n",
    "\n",
    "### 6.1 - DE genes lists    \n",
    "---\n",
    "\n",
    "As we have selected DE genes on the basis of their adjusted p-value and their log2 Fold change, we can save those list for further enrichment analysis.  "
   ]
  },
  {
   "cell_type": "code",
   "execution_count": null,
   "id": "8648bf9f-0323-4c04-adff-3ab6b02a95f9",
   "metadata": {},
   "outputs": [],
   "source": [
    "## Code cell 77 ##\n",
    "\n",
    "dim(upGenes)\n",
    "dim(downGenes)\n",
    "head(upGenes)"
   ]
  },
  {
   "cell_type": "markdown",
   "id": "a0923f4f-ba89-4653-8c8d-e38b1de6964a",
   "metadata": {},
   "source": [
    "We save those 2 lists in our Results/deseq2 folder:"
   ]
  },
  {
   "cell_type": "code",
   "execution_count": null,
   "id": "7e3d1092-ce5a-45ea-8902-f975584dcd40",
   "metadata": {},
   "outputs": [],
   "source": [
    "## Code cell 78 ##\n",
    "\n",
    "write.table(upGenes$gene_name, file=paste0(deseq2folder,\"DESeq2_significant_genes-0_00001-up.tsv\"), sep=\"\\t\", quote=F, col.names=T, row.names = F)\n",
    "write.table(downGenes$gene_name, file=paste0(deseq2folder,\"DESeq2_significant_genes-0_00001-down.tsv\"), sep=\"\\t\", quote=F, col.names=T)\n"
   ]
  },
  {
   "cell_type": "markdown",
   "id": "f491ec4d-7fd5-461a-9e93-4b4781c60978",
   "metadata": {},
   "source": [
    "### 6.2 - RData object for the session\n",
    "---"
   ]
  },
  {
   "cell_type": "markdown",
   "id": "9df573e3-68bb-45cc-b820-3762032ab469",
   "metadata": {},
   "source": [
    "We can save all the R objects created in this session in a single R object.   \n",
    "This will help us to reload our results without having to run the same commands.   "
   ]
  },
  {
   "cell_type": "code",
   "execution_count": null,
   "id": "a11fde7c-1a3e-43bb-8a3a-c27392720303",
   "metadata": {},
   "outputs": [],
   "source": [
    "## Code cell 79 ##\n",
    "\n",
    "print(ls())"
   ]
  },
  {
   "cell_type": "code",
   "execution_count": null,
   "id": "7c4fc668-190d-48bd-aa98-8a13cf40d9e5",
   "metadata": {},
   "outputs": [],
   "source": [
    "## Code cell 80 ##\n",
    "\n",
    "head(res2_dHet_dHetRag_sig_ranked_annot)"
   ]
  },
  {
   "cell_type": "markdown",
   "id": "cadd7ef1-ac31-4a14-b98b-f6e9efd8e265",
   "metadata": {},
   "source": [
    "We keep only the relevant objects:"
   ]
  },
  {
   "cell_type": "code",
   "execution_count": null,
   "id": "ba3afe6c-c086-4f93-8b43-80dab90e6963",
   "metadata": {},
   "outputs": [],
   "source": [
    "## Code cell 81 ##\n",
    "\n",
    "rm(PCAdata, PCAdata2, rdata, t_top50var)"
   ]
  },
  {
   "cell_type": "markdown",
   "id": "3e092ab7-267a-4310-9c87-ac120836ef0a",
   "metadata": {},
   "source": [
    "and we save all our info in a single RData object in our output folder:"
   ]
  },
  {
   "cell_type": "code",
   "execution_count": null,
   "id": "7ec8ad33-13c4-40c7-966e-763deab39c69",
   "metadata": {},
   "outputs": [],
   "source": [
    "## Code cell 82 ##\n",
    "\n",
    "ls()\n",
    "save.image(file=paste0(deseq2folder,\"deseq2-final.RData\"))"
   ]
  },
  {
   "cell_type": "markdown",
   "id": "883ad9f1-5c40-48d9-a93a-dc02854fbfaa",
   "metadata": {},
   "source": [
    "---\n",
    "___\n",
    "\n",
    "Now we go on with the analysis of enrichments of gene list of interest.  \n",
    "  \n",
    "**=> Step 11: Overrepresentation and enrichment analysis** "
   ]
  },
  {
   "cell_type": "markdown",
   "id": "374ee89f-07fd-40d8-84a9-d9f3b3118e73",
   "metadata": {
    "tags": []
   },
   "source": [
    "The jupyter notebook used for the next session will be *Pipe_11-R403-Normcounts-exploratory-analysis-II.ipynb*    \n",
    "***It is not ready yet!!***  \n",
    "\n",
    "So we will not retrieve it in our personal directory as usual. \n"
   ]
  },
  {
   "cell_type": "raw",
   "id": "f581edc0-b925-4941-adb2-e92afe3dfa52",
   "metadata": {
    "tags": []
   },
   "source": [
    "## (Code cell 83) ##   \n",
    "\n",
    "myfolder\n",
    "\n",
    "file.copy(\"/shared/projects/2312_rnaseq_cea/pipeline/Pipe_11-R403-ORA-GSEA.ipynb\", myfolder)\n"
   ]
  },
  {
   "cell_type": "markdown",
   "id": "0cfe57ec-a9f2-433d-9492-4b3ff0d7435b",
   "metadata": {},
   "source": [
    "**Save executed notebook**\n",
    "\n",
    "To end the session, save your executed notebook in your `run_notebooks` folder. Adjust the name with yours and reformat as code cell to run it."
   ]
  },
  {
   "cell_type": "raw",
   "id": "0d9b21a7-980a-41c7-8276-cd6f74cf157f",
   "metadata": {
    "tags": []
   },
   "source": [
    "## Code cell 84 ##   \n",
    "\n",
    "# creation of the directory, recursive = TRUE is equivalent to the mkdir -p in Unix\n",
    "dir.create(paste0(myfolder,\"/run_notebooks\"), recursive = TRUE)\n",
    "\n",
    "runfolder <- paste0(myfolder,\"/run_notebooks\")\n",
    "       \n",
    "file.copy(paste0(myfolder, \"/Pipe_10-R403-Normcounts-exploratory-analysis-II.ipynb\"), runfolder)\n"
   ]
  },
  {
   "cell_type": "markdown",
   "id": "3f817264-d0ee-4c58-ba45-3590d3ba7a15",
   "metadata": {
    "tags": []
   },
   "source": [
    "<div class=\"alert alert-block alert-success\"><b>Success:</b> Well done! You now know how to visualize normalised expression data.<br>\n",
    "Don't forget to save you notebook and export a copy as an <b>html</b> file as well <br>\n",
    "- Open \"File\" in the Menu<br>\n",
    "- Select \"Export Notebook As\"<br>\n",
    "- Export notebook as HTML<br>\n",
    "- You can then open it in your browser even without being connected to the server! \n",
    "</div>"
   ]
  },
  {
   "cell_type": "markdown",
   "id": "d3943e1d-72bc-4d67-b598-3d9e6dc37481",
   "metadata": {},
   "source": [
    "---\n",
    "---"
   ]
  },
  {
   "cell_type": "markdown",
   "id": "cbbce7d4-b369-4121-bf3d-a89f552cc2e4",
   "metadata": {
    "tags": []
   },
   "source": [
    "## Useful commands\n",
    "<div class=\"alert alert-block alert-info\"> \n",
    "    \n",
    "- <kbd>CTRL</kbd>+<kbd>S</kbd> : save notebook<br>    \n",
    "- <kbd>CTRL</kbd>+<kbd>ENTER</kbd> : Run Cell<br>  \n",
    "- <kbd>SHIFT</kbd>+<kbd>ENTER</kbd> : Run Cell and Select Next<br>   \n",
    "- <kbd>ALT</kbd>+<kbd>ENTER</kbd> : Run Cell and Insert Below<br>   \n",
    "- <kbd>ESC</kbd>+<kbd>y</kbd> : Change to *Code* Cell Type<br>  \n",
    "- <kbd>ESC</kbd>+<kbd>m</kbd> : Change to *Markdown* Cell Type<br> \n",
    "- <kbd>ESC</kbd>+<kbd>r</kbd> : Change to *Raw* Cell Type<br>    \n",
    "- <kbd>ESC</kbd>+<kbd>a</kbd> : Create Cell Above<br> \n",
    "- <kbd>ESC</kbd>+<kbd>b</kbd> : Create Cell Below<br> \n",
    "\n",
    "<em>  \n",
    "To make nice html reports with markdown: <a href=\"https://dillinger.io/\" title=\"dillinger.io\">html visualization tool 1</a> or <a href=\"https://stackedit.io/app#\" title=\"stackedit.io\">html visualization tool 2</a>, <a href=\"https://www.tablesgenerator.com/markdown_tables\" title=\"tablesgenerator.com\">to draw nice tables</a>, and the <a href=\"https://medium.com/analytics-vidhya/the-ultimate-markdown-guide-for-jupyter-notebook-d5e5abf728fd\" title=\"Ultimate guide\">Ultimate guide</a>. <br>\n",
    "Further reading on JupyterLab notebooks: <a href=\"https://jupyterlab.readthedocs.io/en/latest/user/notebook.html\" title=\"Jupyter Lab\">Jupyter Lab documentation</a>.<br>   \n",
    "</em>    \n",
    " \n",
    "</div>"
   ]
  },
  {
   "cell_type": "markdown",
   "id": "d9386321-af31-4cbb-917b-9236f0cd6b94",
   "metadata": {},
   "source": [
    "Bénédicte Noblet - 05-07 2021   \n",
    "Sandrine Caburet et Claire Vandiedonck - 02-06 2023   \n",
    "with adaptations from https://bioinformatics-core-shared-training.github.io/RNAseq_November_2020_remote/html/02_Preprocessing_Data.html   \n",
    "and https://rpubs.com/adoughan/778146  \n",
    "Maj 14/09/2023 par @CVandiedonck   "
   ]
  }
 ],
 "metadata": {
  "kernelspec": {
   "display_name": "R 4.0.3",
   "language": "R",
   "name": "r-4.0.3"
  },
  "language_info": {
   "codemirror_mode": "r",
   "file_extension": ".r",
   "mimetype": "text/x-r-source",
   "name": "R",
   "pygments_lexer": "r",
   "version": "4.0.3"
  },
  "toc-autonumbering": false,
  "toc-showcode": false
 },
 "nbformat": 4,
 "nbformat_minor": 5
}

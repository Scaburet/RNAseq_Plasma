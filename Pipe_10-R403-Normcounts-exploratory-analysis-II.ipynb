{
 "cells": [
  {
   "cell_type": "markdown",
   "id": "aa070cbd-bd01-468b-ac65-fc6f00c27dda",
   "metadata": {},
   "source": [
    "# Formation RNAseq CEA - juin 2023\n",
    "\n",
    "*Enseignantes : Sandrine Caburet et Claire Vandiedonck*\n",
    "\n",
    "Session IFB : 5 CPU + 21 GB de RAM\n",
    "\n",
    "# Part 10 : Exploratory analysis of normalized read counts"
   ]
  },
  {
   "cell_type": "code",
   "execution_count": null,
   "id": "2776fe07-d5bd-4fbf-a780-c86035c932e4",
   "metadata": {},
   "outputs": [],
   "source": []
  }
 ],
 "metadata": {
  "kernelspec": {
   "display_name": "R 4.0.3",
   "language": "R",
   "name": "r-4.0.3"
  },
  "language_info": {
   "codemirror_mode": "r",
   "file_extension": ".r",
   "mimetype": "text/x-r-source",
   "name": "R",
   "pygments_lexer": "r",
   "version": "4.0.3"
  }
 },
 "nbformat": 4,
 "nbformat_minor": 5
}

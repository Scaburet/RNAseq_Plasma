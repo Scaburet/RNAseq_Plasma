{
 "cells": [
  {
   "cell_type": "markdown",
   "metadata": {
    "tags": []
   },
   "source": [
    "# Formation RNAseq CEA - juin 2023\n",
    "\n",
    "Session IFB : 5 CPU + 21 GB de RAM\n",
    "\n",
    "# Part 6: Read Counts"
   ]
  },
  {
   "cell_type": "markdown",
   "metadata": {},
   "source": [
    "   \n",
    "\n",
    "- 0. 1 - About session for IFB core cluster\n",
    "- 0. 2 - Parameters to be set or modified by the user\n",
    "- 1 - Some checks as a precaution\n",
    "- 2 - Gene level quantification using ``featureCounts``\n",
    "- 3 - Monitoring disk usage"
   ]
  },
  {
   "cell_type": "markdown",
   "metadata": {
    "tags": []
   },
   "source": [
    "- This notebook contains heavy running cells in Section 2, so make sure before you launch these cells that they are adapted to your environment. <br>\n",
    "For Samtools, the ``-m`` option is the **RAM memory size that will be used by each thread**! <br>\n",
    "<blockquote>\n",
    "        See options <code>--threads 3 -m 5G</code> in Samtools line, Section 2  <br>\n",
    "        Adapt <code>-T 4</code> in featureCounts lines to set it to 70-80% of available CPU number. <br>\n",
    "        Adapt <code>-s 0</code> in  line to fit your library preparation. In the current notebook version, this option is set to <code>0</code> as the librairies are unstranded. <br>\n",
    "</blockquote>\n",
    "\n",
    "<div class=\"alert alert-block alert-danger\">\n",
    "    <b>Values set in this notebook are valid for a 5-CPU session with access to 21 GB of RAM</b>. Ideally, use 70-80% of the CPU amount your system or session has. <br>\n",
    "    DO NOT ask for more RAM than you can use.\n",
    "</div>"
   ]
  },
  {
   "cell_type": "markdown",
   "metadata": {},
   "source": [
    "---\n",
    "## **Before going further**\n",
    "\n",
    "<div class=\"alert alert-block alert-danger\"><b>Caution:</b> \n",
    "Before starting the analysis, save a backup copy of this notebok : in the left-hand panel, right-click on this file and select \"Duplicate\"<br>\n",
    "You can also make backups during the analysis. Don't forget to save your notebook regularly: <kbd>Ctrl</kbd> + <kbd>S</kbd> or click on the 💾 icon.\n",
    "</div>"
   ]
  },
  {
   "cell_type": "markdown",
   "metadata": {},
   "source": [
    "---\n",
    "\n",
    "## 0.1 - About session for IFB core cluster\n",
    "\n",
    "<em>loaded JupyterLab</em> : Version 3.2.1"
   ]
  },
  {
   "cell_type": "code",
   "execution_count": 3,
   "metadata": {
    "tags": []
   },
   "outputs": [
    {
     "name": "stdout",
     "output_type": "stream",
     "text": [
      "=== Cell launched on Wed May 31 18:50:00 CEST 2023 ===\n",
      "=== Current IFB session size: Medium (5CPU, 21 GB) ===\n",
      "       JobID  AllocCPUS        NodeList \n",
      "------------ ---------- --------------- \n",
      "33600830              5      cpu-node-7 \n",
      "33600830.ba+          5      cpu-node-7 \n",
      "33600830.0            5      cpu-node-7 \n"
     ]
    }
   ],
   "source": [
    "## Code cell 1 ##\n",
    "\n",
    "echo \"=== Cell launched on $(date) ===\"\n",
    "\n",
    "echo \"=== Current IFB session size: Medium (5CPU, 21 GB) ===\"\n",
    "jobid=$(squeue -hu $USER | awk '/jupyter/ {print $1}')\n",
    "sacct --format=JobID,AllocCPUS,NODELIST -j ${jobid}"
   ]
  },
  {
   "cell_type": "code",
   "execution_count": 13,
   "metadata": {
    "tags": []
   },
   "outputs": [
    {
     "name": "stdout",
     "output_type": "stream",
     "text": [
      "===== bam sorting by names =====\n",
      "samtools 1.10\n",
      "Using htslib 1.10.2\n",
      "===== gene level quantification =====\n",
      "\n",
      "featureCounts v2.0.1\n",
      "\n"
     ]
    }
   ],
   "source": [
    "## Code cell 2 ##\n",
    "\n",
    "module load samtools/1.10 subread/2.0.1\n",
    "\n",
    "echo \"===== bam sorting by names =====\"\n",
    "samtools --version | head -n 2\n",
    "echo \"===== gene level quantification =====\"\n",
    "featureCounts -v\n"
   ]
  },
  {
   "cell_type": "markdown",
   "metadata": {},
   "source": [
    "---\n",
    "\n",
    "## 0.2 - Parameters to be set or modified by the user\n"
   ]
  },
  {
   "cell_type": "markdown",
   "metadata": {},
   "source": [
    "- Using a full path with a `/` at the end, **define the folder** where you want or have to work with `gohome` variable:"
   ]
  },
  {
   "cell_type": "code",
   "execution_count": 14,
   "metadata": {},
   "outputs": [
    {
     "name": "stdout",
     "output_type": "stream",
     "text": [
      "=== Home root folder is ===\n",
      "/shared/projects/2312_rnaseq_cea/\n",
      "\n",
      "=== Working (personal) folder tree ===\n",
      "/shared/projects/2312_rnaseq_cea/scaburet\n",
      "├── Data\n",
      "│   ├── fastq\n",
      "│   └── sra\n",
      "└── Results\n",
      "    ├── fastp\n",
      "    ├── fastqc\n",
      "    ├── fastq_screen\n",
      "    ├── featurecounts\n",
      "    ├── logfiles\n",
      "    ├── multiqc\n",
      "    ├── qualimap\n",
      "    ├── samtools\n",
      "    └── star\n",
      "\n",
      "13 directories\n",
      "=== current working directory ===\n",
      "/shared/ifbstor1/projects/2312_rnaseq_cea/pipeline\n"
     ]
    }
   ],
   "source": [
    "## Code cell 3 ##\n",
    "\n",
    "gohome=\"/shared/projects/2312_rnaseq_cea/\"\n",
    "\n",
    "echo \"=== Home root folder is ===\"\n",
    "echo \"${gohome}\"\n",
    "echo \"\"\n",
    "echo \"=== Working (personal) folder tree ===\"\n",
    "tree -d -L 2 \"${gohome}$USER\"\n",
    "echo \"=== current working directory ===\"\n",
    "echo \"${PWD}\""
   ]
  },
  {
   "cell_type": "markdown",
   "metadata": {},
   "source": [
    "- With a `/` at the end, precise the folder where alignment ``_ALigned.SortedByCoord.out.bam`` files (produced by ``STAR``) are:"
   ]
  },
  {
   "cell_type": "code",
   "execution_count": 15,
   "metadata": {},
   "outputs": [],
   "source": [
    "## Code cell 4 ##\n",
    "\n",
    "#mappedfolder=\"${gohome}$USER/Results/star/\"\n",
    "mappedfolder=\"${gohome}allData/Results/star/\""
   ]
  },
  {
   "cell_type": "markdown",
   "metadata": {},
   "source": [
    "- Please remember the path to uncompressed annotation file, especially if you changed it in previous notebooks."
   ]
  },
  {
   "cell_type": "code",
   "execution_count": 16,
   "metadata": {},
   "outputs": [],
   "source": [
    "## Code cell 5 ##\n",
    "\n",
    "gtffile=\"${gohome}allData/Reference/extracted/genome_annotation.gtf\""
   ]
  },
  {
   "cell_type": "markdown",
   "metadata": {},
   "source": [
    "---\n",
    "## 1 - Initial checks"
   ]
  },
  {
   "cell_type": "markdown",
   "metadata": {},
   "source": [
    "As we change session or even day, let's first check all files are there:"
   ]
  },
  {
   "cell_type": "code",
   "execution_count": 17,
   "metadata": {},
   "outputs": [
    {
     "name": "stdout",
     "output_type": "stream",
     "text": [
      "There are 6 bam files:\n",
      "/shared/projects/2312_rnaseq_cea/allData/Results/star/SRR12730408_Aligned.sortedByCoord.out.bam\n",
      "/shared/projects/2312_rnaseq_cea/allData/Results/star/SRR12730409_Aligned.sortedByCoord.out.bam\n",
      "/shared/projects/2312_rnaseq_cea/allData/Results/star/SRR12730410_Aligned.sortedByCoord.out.bam\n",
      "/shared/projects/2312_rnaseq_cea/allData/Results/star/SRR12730411_Aligned.sortedByCoord.out.bam\n",
      "/shared/projects/2312_rnaseq_cea/allData/Results/star/SRR12730412_Aligned.sortedByCoord.out.bam\n",
      "/shared/projects/2312_rnaseq_cea/allData/Results/star/SRR12730413_Aligned.sortedByCoord.out.bam\n"
     ]
    }
   ],
   "source": [
    "## Code cell 6 ##\n",
    "\n",
    "mappedfolder=${mappedfolder}\n",
    "echo \"There are $(ls \"${mappedfolder}\"*_Aligned.sortedByCoord.out.bam | wc -l) bam files:\"\n",
    "ls \"${mappedfolder}\"*_Aligned.sortedByCoord.out.bam"
   ]
  },
  {
   "cell_type": "markdown",
   "metadata": {},
   "source": [
    "## 2 - Gene level quantification using <code>featureCounts</code>"
   ]
  },
  {
   "cell_type": "markdown",
   "metadata": {},
   "source": [
    "### **1- Tool presentation**"
   ]
  },
  {
   "cell_type": "markdown",
   "metadata": {},
   "source": [
    "`featureCounts` is part of the package <a href=\"http://subread.sourceforge.net/\">SubRead</a>, to be used with bash, and RSubRead, to be used with R. This tool allows to attribute mapped reads to their matching feature (exon, gene, promoter, ...) on the genome and summarize counts per feature.  \n",
    "  \n",
    "In SubRead user guide, developpers recommend to use <i>specialized transcript-level quantification tools [...] for counting reads to transcripts</i> (see section 6.2.5, page 34 of pdf manual you can download with this <a href=\"https://www.google.com/url?sa=t&rct=j&q=&esrc=s&source=web&cd=&ved=2ahUKEwie1YDqwpD_AhXgU6QEHVLnB14QFnoECAsQAQ&url=https%3A%2F%2Fbioconductor.org%2Fpackages%2Frelease%2Fbioc%2Fvignettes%2FRsubread%2Finst%2Fdoc%2FSubreadUsersGuide.pdf&usg=AOvVaw1b3PpVhTNokdJHARtYAXgf\">link</a>). So we will only generate gene-level quantification with `featureCounts`."
   ]
  },
  {
   "cell_type": "code",
   "execution_count": 7,
   "metadata": {},
   "outputs": [
    {
     "name": "stdout",
     "output_type": "stream",
     "text": [
      "\n",
      "featureCounts v2.0.1\n",
      "\n"
     ]
    }
   ],
   "source": [
    "## Code cell 7 ##\n",
    "\n",
    "featureCounts -v"
   ]
  },
  {
   "cell_type": "markdown",
   "metadata": {},
   "source": [
    "A simple usage to count paired-end sequencing data, then counts fragments instead or reads, is:  \n",
    "<code>featureCounts -p -a annotation.gtf \\ \n",
    "                  -o counts.txt \\ \n",
    "                  alignment.bam</code>"
   ]
  },
  {
   "cell_type": "markdown",
   "metadata": {},
   "source": [
    "The <code>feautureCounts</code> options correspond to: <br>\n",
    "<blockquote>\n",
    "    <code>-p</code>, to count fragments instead or reads (paired-end data) <br>\n",
    "    <code>-a TEXT</code>, to locate annotation file, in GTF/GFF format by default (<code>-f</code> to be used to give other file format) that can be a <code>.gzip</code> one. <br>\n",
    "    <code>-o TEXT</code>, to set filename for counts<br>\n",
    "    then alignement files (it may be a list) come. Either in BAM or SAM format, they can be sorted by read names or by chromosomal coordinates.\n",
    "</blockquote>\n",
    "\n",
    "By default, multi-mapped reads (or fragments) are not considered unless we use `-M` option (see others parameters to set in manual, pdf pages 38 to 43).  \n",
    "It will select <code>exon</code> lines in annotation file (<code>-T exon</code> by default) to attribute reads (or fragments). Then, it will count them according to <code>gene_id</code> meta-feature level (<code>-g gene_id</code> by default)."
   ]
  },
  {
   "cell_type": "markdown",
   "metadata": {},
   "source": [
    "We will use some other options:  \n",
    "<blockquote>\n",
    "    <code>-s INTEGER</code>, to specify strandness. Possible values include: 0 (unstranded), 1 (stranded) and 2 (reversely stranded). Default value is 0. <br>\n",
    "    <code>-T INTEGER</code>, to set the number of threads to use (default, 1) <br>\n",
    "    <code>--verbose</code>, to get information for debugging, such as unmatched chromosome/contig names. <br>\n",
    "    As temporary files are saved by default to directory specified in <code>-o</code> option, we won't use <code>--tmpDir STRING</code> option <br>\n",
    "</blockquote>\n",
    "\n",
    "For paired-end data, it is possible to ask for filtering fragments that have both ends aligned (`-B` option), on same chromose and strand (`-C`) and even separated by an insert distance (`-P`, included in `-d` and `-D` values).  \n",
    "\n",
    "Besides, input files will be used as sorted by names. Even if `featureCounts` handles `.bam` files as fast as `samtools` does, we will nonetheless use `samtools` and `--donotsort` option. Indeed, some files may be bigger than supported by `featureCounts`."
   ]
  },
  {
   "cell_type": "markdown",
   "metadata": {},
   "source": [
    "### **2- Step preparation**"
   ]
  },
  {
   "cell_type": "markdown",
   "metadata": {},
   "source": [
    "We need to create a destination folder..."
   ]
  },
  {
   "cell_type": "code",
   "execution_count": 8,
   "metadata": {},
   "outputs": [
    {
     "name": "stdout",
     "output_type": "stream",
     "text": [
      "/shared/projects/2312_rnaseq_cea/allData/Results/\n",
      "├── fastp\n",
      "├── fastqc\n",
      "├── fastq_screen\n",
      "├── featurecounts\n",
      "├── logfiles\n",
      "├── multiqc\n",
      "├── qualimap\n",
      "├── samtools\n",
      "└── star\n",
      "\n",
      "9 directories\n"
     ]
    }
   ],
   "source": [
    "## Code cell 8 ##\n",
    "\n",
    "#featcountfolder=\"${gohome}$USER/Results/featurecounts/\"\n",
    "featcountfolder=\"${gohome}allData/Results/featurecounts/\"\n",
    "mkdir -p ${featcountfolder}\n",
    "#tree -d -L 1 \"${gohome}$USER/Results/\"\n",
    "tree -d -L 1 \"${gohome}allData/Results/\""
   ]
  },
  {
   "cell_type": "markdown",
   "metadata": {},
   "source": [
    "... and remember used folder for saved screen output files."
   ]
  },
  {
   "cell_type": "code",
   "execution_count": 9,
   "metadata": {},
   "outputs": [],
   "source": [
    "## Code cell 9 ##\n",
    "\n",
    "logfolder=\"${gohome}allData/Results/logfiles/\"\n",
    "#logfolder=\"${gohome}$USER/Results/logfiles/\""
   ]
  },
  {
   "cell_type": "code",
   "execution_count": 10,
   "metadata": {},
   "outputs": [
    {
     "name": "stdout",
     "output_type": "stream",
     "text": [
      "Annotation file: /shared/projects/2312_rnaseq_cea/allData/Reference/extracted/genome_annotation.gtf\n"
     ]
    }
   ],
   "source": [
    "## Code cell 10 ##\n",
    "\n",
    "gtffile=${gtffile}\n",
    "#gtffile=\"${gohome}allData/Reference/extracted/genome_annotation.gtf\"\n",
    "\n",
    "echo \"Annotation file: ${gtffile}\""
   ]
  },
  {
   "cell_type": "markdown",
   "metadata": {},
   "source": [
    "### **3- Compute reads or fragments counts**"
   ]
  },
  {
   "cell_type": "markdown",
   "metadata": {},
   "source": [
    "#### 3.1 - Running <code>featuresCounts</code> on individual samples"
   ]
  },
  {
   "cell_type": "markdown",
   "metadata": {
    "tags": []
   },
   "source": [
    "- Before you run the following cells, make sure that they are adapted to your environment. <br>\n",
    "For Samtools, the ``-m`` option is the **RAM memory size that will be used by each thread**! <br>\n",
    "<blockquote>\n",
    "        See options <code>--threads 3 -m 5G</code> in Samtools line <br>\n",
    "        Adapt <code>-T 4</code> in featureCounts lines to set it to 70-80% of available CPU number. <br>\n",
    "        Adapt <code>-s 0</code> in  line to fit your library preparation. In the current notebook version, this option is set to <code>0</code> as the librairies are unstranded. <br>\n",
    "</blockquote>\n",
    "\n",
    "<div class=\"alert alert-block alert-danger\">\n",
    "    <b>Values set in this notebook are valid for a 5-CPU session with access to 21 GB of RAM</b>. Ideally, use 70-80% of the CPU amount your system or session has. <br>\n",
    "    DO NOT ask for more RAM than you can use.\n",
    "</div>"
   ]
  },
  {
   "cell_type": "markdown",
   "metadata": {},
   "source": [
    "<div class=\"alert alert-block alert-warning\">\n",
    "    <b><code>-T</code> option in featureCounts command line doesn't have an impact during counting process</b>. It has an effect when BAM are sorted on the fly by features counts, but this is not the case here, as the input file is sorted before by samtools.\n",
    "</div>"
   ]
  },
  {
   "cell_type": "code",
   "execution_count": 27,
   "metadata": {},
   "outputs": [
    {
     "name": "stdout",
     "output_type": "stream",
     "text": [
      "Screen output is redirected to /shared/projects/2312_rnaseq_cea/allData/Results/logfiles/featureCounts-gene-level-counts-samtoolsSort.log\n"
     ]
    }
   ],
   "source": [
    "## Code cell 11 ##\n",
    "\n",
    "logfile=\"${logfolder}featureCounts-gene-level-counts-samtoolsSort.log\"\n",
    "echo \"Screen output is redirected to ${logfile}\""
   ]
  },
  {
   "cell_type": "code",
   "execution_count": null,
   "metadata": {},
   "outputs": [
    {
     "name": "stdout",
     "output_type": "stream",
     "text": [
      "===== Processing sampleID: SRR12730403...\n",
      "...changing tool...\n",
      "... done\n",
      "===== Processing sampleID: SRR12730404...\n",
      "...changing tool...\n",
      "... done\n",
      "===== Processing sampleID: SRR12730405...\n",
      "...changing tool...\n",
      "... done\n",
      "===== Processing sampleID: SRR12730406...\n",
      "...changing tool...\n",
      "... done\n",
      "===== Processing sampleID: SRR12730407...\n",
      "...changing tool...\n",
      "... done\n",
      "===== Processing sampleID: SRR12730408...\n",
      "...changing tool...\n",
      "... done\n",
      "===== Processing sampleID: SRR12730409...\n",
      "...changing tool...\n",
      "... done\n",
      "===== Processing sampleID: SRR12730410...\n",
      "...changing tool...\n",
      "... done\n",
      "===== Processing sampleID: SRR12730411...\n",
      "...changing tool...\n",
      "... done\n",
      "===== Processing sampleID: SRR12730412...\n"
     ]
    }
   ],
   "source": [
    "## Code cell 12 ##\n",
    "\n",
    "# as time command does not redirect output\n",
    "echo \"operation starts at $(date)\" >> ${logfile}\n",
    "\n",
    "time for fn in $(ls \"${mappedfolder}\"*_Aligned.sortedByCoord.out.bam); do  \n",
    "    \n",
    "    mysortedbam=$(basename ${fn})\n",
    "    id=${mysortedbam/_Aligned.sortedByCoord.out.bam/}\n",
    "    echo \"===== Processing sampleID: ${id}...\" | tee -a ${logfile}\n",
    "    \n",
    "    # outputfiles\n",
    "    mytempfile=\"${featcountfolder}${id}_Aligned.sortedByNames.bam\"\n",
    "    myoutfile=\"${featcountfolder}${id}_paired-unstranded\"\n",
    "    \n",
    "    # bam sorting...\n",
    "    echo \"samtools starts at $(date)\" >> ${logfile}\n",
    "    samtools sort -n \\\n",
    "                --threads 2 -m 5G \\\n",
    "                --output-fmt BAM \\\n",
    "                -o ${mytempfile} \\\n",
    "                -T ${featcountfolder} \\\n",
    "                ${fn} \\\n",
    "                &>> ${logfile}\n",
    "    echo \"samtools ends at $(date)\" >> ${logfile}\n",
    "\n",
    "    # some user conversation to help being patient\n",
    "    echo \"...changing tool...\" | tee -a ${logfile}\n",
    "\n",
    "    # then featureCounts\n",
    "    echo \"featureCounts starts at $(date)\" >> ${logfile}\n",
    "\n",
    "    featureCounts -p -s 0 -T 4 \\\n",
    "                  -a \"${gtffile}\" \\\n",
    "                  -o \"${myoutfile}.counts\" \\\n",
    "                  ${mytempfile} \\\n",
    "                  --donotsort \\\n",
    "                  --verbose \\\n",
    "                  &>> ${logfile}\n",
    "    echo \"featureCounts ends at $(date)\" >> ${logfile}\n",
    "    \n",
    "    # removing extra bam file... saving disk space\n",
    "    rm ${mytempfile}\n",
    "    \n",
    "    echo \"... done\" | tee -a ${logfile}\n",
    "    \n",
    "done\n",
    "\n",
    "echo \"operation ends at $(date)\" >> ${logfile}\n",
    "\n",
    "echo \"=== Files created after featureCounts ===\" >> ${logfile}\n",
    "ls -lh \"${featcountfolder}\" >> ${logfile}\n",
    "echo \"featureCounts generated $(ls \"${featcountfolder}\"*.counts | wc -l) count files.\" \\\n",
    "    | tee -a ${logfile}\n",
    "echo \"featureCounts generated $(ls \"${featcountfolder}\"*.counts.summary | wc -l) summary files.\" \\\n",
    "    | tee -a ${logfile}"
   ]
  },
  {
   "cell_type": "markdown",
   "metadata": {},
   "source": [
    "#### 3.2 - Running <code>featuresCounts</code> on multiple samples"
   ]
  },
  {
   "cell_type": "markdown",
   "metadata": {},
   "source": [
    "The above cell processed each sample file individually: <code>samtools</code> generated the sorted bam that was used immediately by <code>featureCounts</code>, and that was removed afterward.   \n",
    "Therefore we obtain one count file per sample. Those count files could be later joined in a single count matrix for the next step of analysis.   \n",
    "\n",
    "Alternatively, <code>featuresCounts</code> can handle multiple bam files at once, creating directly a single count matrix for all the samples.    \n",
    "This requires that all the sorted bam files are available as input for <code>featuresCounts</code>.    \n",
    "This was done beforehand for all 11 samples, by running the next 2 cells.   \n",
    "Code cell 14 runs <code>samtools</code> to generate (and keep!) the sorted bam files.   \n",
    "Code cell 16 runs <code>featuresCounts</code> only once, using the list of sorted bam filenames as input.  \n",
    "\n",
    "To run those cells in your own project, simply change their type from *Markdown* to *Code*.\n"
   ]
  },
  {
   "cell_type": "markdown",
   "metadata": {},
   "source": [
    "## (Code cell 13) ##\n",
    "\n",
    "logfile=\"${logfolder}counts-gene-level-counts-samtoolsSort.log\"\n",
    "echo \"Screen output is redirected to ${logfile}\""
   ]
  },
  {
   "cell_type": "markdown",
   "metadata": {},
   "source": [
    "## (Code cell 14) ##\n",
    "\n",
    "# as time command does not redirect output\n",
    "echo \"operation starts at $(date)\" >> ${logfile}\n",
    "\n",
    "time for fn in $(ls \"${mappedfolder}\"*_Aligned.sortedByCoord.out.bam); do  \n",
    "    \n",
    "    mysortedbam=$(basename ${fn})\n",
    "    id=${mysortedbam/_Aligned.sortedByCoord.out.bam/}\n",
    "    echo \"===== Processing sampleID: ${id}...\" | tee -a ${logfile}\n",
    "    \n",
    "    # outputfiles\n",
    "    mytempfile=\"${featcountfolder}${id}_Aligned.sortedByNames.bam\"\n",
    "\n",
    "    \n",
    "    # bam sorting...\n",
    "    echo \"samtools starts at $(date)\" >> ${logfile}\n",
    "    samtools sort -n \\\n",
    "                --threads 3 -m 5G \\\n",
    "                --output-fmt BAM \\\n",
    "                -o ${mytempfile} \\\n",
    "                -T ${featcountfolder} \\\n",
    "                ${fn} \\\n",
    "                &>> ${logfile}\n",
    "    echo \"samtools ends at $(date)\" >> ${logfile}\n",
    "\n",
    "done"
   ]
  },
  {
   "cell_type": "markdown",
   "metadata": {},
   "source": [
    "## (Code cell 15) ##\n",
    "\n",
    "logfile=\"${logfolder}counts-gene-level-counts-featureCounts.log\"\n",
    "echo \"Screen output is redirected to ${logfile}\""
   ]
  },
  {
   "cell_type": "markdown",
   "metadata": {},
   "source": [
    "## (Code cell 16) ##\n",
    "\n",
    "# creating the list of input filenames\n",
    "listSortedBam=$(ls \"${featcountfolder}\"*_Aligned.sortedByNames.bam)\n",
    "echo \"The list of input files is: ${listSortedBam}\" | tee -a ${logfile}\n",
    "\n",
    "myoutfile=\"${featcountfolder}allSample_paired-unstranded\"\n",
    "\n",
    "echo \"The output file is: ${myoutfile}\" | tee -a ${logfile}\n",
    "\n",
    "# then running featureCounts\n",
    "echo \"featureCounts starts at $(date)\" >> ${logfile}\n",
    "\n",
    "featureCounts -p -s 0 -T 4 \\\n",
    "              -a \"${gtffile}\" \\\n",
    "              -o \"${myoutfile}.counts\" \\\n",
    "              ${listSortedBam} \\\n",
    "              --donotsort \\\n",
    "              --verbose \\\n",
    "              &>> ${logfile}\n",
    "echo \"featureCounts ends at $(date)\" >> ${logfile}\n",
    "       \n",
    "echo \"... done\" | tee -a ${logfile}\n",
    "echo \"operation ends at $(date)\" >> ${logfile}\n",
    "\n",
    "echo \"=== Files created after featureCounts ===\" >> ${logfile}\n",
    "ls -lh \"${featcountfolder}\" >> ${logfile}\n",
    "echo \"featureCounts generated $(ls \"${featcountfolder}\"*.counts | wc -l) count files.\" \\\n",
    "    | tee -a ${logfile}\n",
    "echo \"featureCounts generated $(ls \"${featcountfolder}\"*.counts.summary | wc -l) summary files.\" \\\n",
    "    | tee -a ${logfile}"
   ]
  },
  {
   "cell_type": "markdown",
   "metadata": {},
   "source": [
    "We can see the proportions of alignements that match a single gene (if default `featureCounts` parameters were kept) thanks to logfile and a research for specifiy patterns (`grep -e PATTERN`)."
   ]
  },
  {
   "cell_type": "code",
   "execution_count": 49,
   "metadata": {},
   "outputs": [
    {
     "name": "stdout",
     "output_type": "stream",
     "text": [
      "|| Process BAM file SRR12730403_Aligned.sortedByNames.bam...                  ||\n",
      "||    Successfully assigned alignments : 43209224 (78.0%)                     ||\n",
      "|| Process BAM file SRR12730404_Aligned.sortedByNames.bam...                  ||\n",
      "||    Successfully assigned alignments : 33717431 (77.2%)                     ||\n",
      "|| Process BAM file SRR12730405_Aligned.sortedByNames.bam...                  ||\n",
      "||    Successfully assigned alignments : 30674349 (77.7%)                     ||\n",
      "|| Process BAM file SRR12730406_Aligned.sortedByNames.bam...                  ||\n",
      "||    Successfully assigned alignments : 31942711 (77.6%)                     ||\n",
      "|| Process BAM file SRR12730407_Aligned.sortedByNames.bam...                  ||\n",
      "||    Successfully assigned alignments : 35514233 (79.1%)                     ||\n",
      "|| Process BAM file SRR12730408_Aligned.sortedByNames.bam...                  ||\n",
      "||    Successfully assigned alignments : 32357023 (77.6%)                     ||\n",
      "|| Process BAM file SRR12730409_Aligned.sortedByNames.bam...                  ||\n",
      "||    Successfully assigned alignments : 26421608 (74.8%)                     ||\n",
      "|| Process BAM file SRR12730410_Aligned.sortedByNames.bam...                  ||\n",
      "||    Successfully assigned alignments : 27930159 (74.2%)                     ||\n",
      "|| Process BAM file SRR12730411_Aligned.sortedByNames.bam...                  ||\n",
      "||    Successfully assigned alignments : 26078645 (74.5%)                     ||\n",
      "|| Process BAM file SRR12730412_Aligned.sortedByNames.bam...                  ||\n",
      "||    Successfully assigned alignments : 37343546 (75.8%)                     ||\n",
      "|| Process BAM file SRR12730413_Aligned.sortedByNames.bam...                  ||\n",
      "||    Successfully assigned alignments : 32585926 (75.5%)                     ||\n"
     ]
    }
   ],
   "source": [
    "## Code cell 17 ##\n",
    "\n",
    "logfile=\"${logfolder}counts-gene-level-counts-featureCounts.log\"\n",
    "\n",
    "cat ${logfile} | grep -e \"Successfully assigned alignments\" -e \"Process BAM\""
   ]
  },
  {
   "cell_type": "code",
   "execution_count": 50,
   "metadata": {},
   "outputs": [
    {
     "name": "stdout",
     "output_type": "stream",
     "text": [
      "summary file\n",
      "Status\t/shared/projects/2312_rnaseq_cea/allData/Results/featurecounts/SRR12730403_Aligned.sortedByNames.bam\t/shared/projects/2312_rnaseq_cea/allData/Results/featurecounts/SRR12730404_Aligned.sortedByNames.bam\t/shared/projects/2312_rnaseq_cea/allData/Results/featurecounts/SRR12730405_Aligned.sortedByNames.bam\t/shared/projects/2312_rnaseq_cea/allData/Results/featurecounts/SRR12730406_Aligned.sortedByNames.bam\t/shared/projects/2312_rnaseq_cea/allData/Results/featurecounts/SRR12730407_Aligned.sortedByNames.bam\t/shared/projects/2312_rnaseq_cea/allData/Results/featurecounts/SRR12730408_Aligned.sortedByNames.bam\t/shared/projects/2312_rnaseq_cea/allData/Results/featurecounts/SRR12730409_Aligned.sortedByNames.bam\t/shared/projects/2312_rnaseq_cea/allData/Results/featurecounts/SRR12730410_Aligned.sortedByNames.bam\t/shared/projects/2312_rnaseq_cea/allData/Results/featurecounts/SRR12730411_Aligned.sortedByNames.bam\t/shared/projects/2312_rnaseq_cea/allData/Results/featurecounts/SRR12730412_Aligned.sortedByNames.bam\t/shared/projects/2312_rnaseq_cea/allData/Results/featurecounts/SRR12730413_Aligned.sortedByNames.bam\n",
      "Assigned\t43209224\t33717431\t30674349\t31942711\t35514233\t32357023\t26421608\t27930159\t26078645\t37343546\t32585926\n",
      "Unassigned_Unmapped\t0\t0\t0\t0\t0\t0\t0\t0\t0\t0\t0\n",
      "Unassigned_Read_Type\t0\t0\t0\t0\t0\t0\t0\t0\t0\t0\t0\n",
      "Unassigned_Singleton\t0\t0\t0\t0\t0\t0\t0\t0\t0\t0\t0\n",
      "Unassigned_MappingQuality\t0\t0\t0\t0\t0\t0\t0\t0\t0\t0\t0\n",
      "Unassigned_Chimera\t0\t0\t0\t0\t0\t0\t0\t0\t0\t0\t0\n",
      "Unassigned_FragmentLength\t0\t0\t0\t0\t0\t0\t0\t0\t0\t0\t0\n",
      "Unassigned_Duplicate\t0\t0\t0\t0\t0\t0\t0\t0\t0\t0\t0\n",
      "Unassigned_MultiMapping\t7881073\t6307557\t5627095\t5689557\t6461125\t5916044\t5385946\t6220659\t4759519\t6724989\t5777264\n",
      "Unassigned_Secondary\t0\t0\t0\t0\t0\t0\t0\t0\t0\t0\t0\n",
      "Unassigned_NonSplit\t0\t0\t0\t0\t0\t0\t0\t0\t0\t0\t0\n",
      "Unassigned_NoFeatures\t2517538\t2135759\t1764215\t2118606\t1331143\t1920148\t2185145\t2070038\t2828490\t3434707\t3248658\n",
      "Unassigned_Overlapping_Length\t0\t0\t0\t0\t0\t0\t0\t0\t0\t0\t0\n",
      "Unassigned_Ambiguity\t1821334\t1519037\t1387595\t1429358\t1602290\t1485164\t1341005\t1416460\t1322642\t1730478\t1539424\n"
     ]
    }
   ],
   "source": [
    "## Code cell 18 ##\n",
    "\n",
    "# to have explanations\n",
    "echo \"summary file\"\n",
    "cat \"${myoutfile}.counts.summary\""
   ]
  },
  {
   "cell_type": "markdown",
   "metadata": {},
   "source": [
    "Let's have a look at the beginning of result files from featureCounts: "
   ]
  },
  {
   "cell_type": "code",
   "execution_count": 18,
   "metadata": {},
   "outputs": [
    {
     "name": "stdout",
     "output_type": "stream",
     "text": [
      "==> /shared/projects/2312_rnaseq_cea/scaburet/Results/featurecounts/SRR12730409_paired-unstranded.counts <==\n",
      "# Program:featureCounts v2.0.1; Command:\"featureCounts\" \"-p\" \"-s\" \"0\" \"-T\" \"4\" \"-a\" \"/shared/projects/2312_rnaseq_cea/allData/Reference/extracted/genome_annotation.gtf\" \"-o\" \"/shared/projects/2312_rnaseq_cea/allData/Results/featurecounts/SRR12730409_paired-unstranded.counts\" \"/shared/projects/2312_rnaseq_cea/allData/Results/featurecounts/SRR12730409_Aligned.sortedByNames.bam\" \"--donotsort\" \"--verbose\" \n",
      "Geneid\tChr\tStart\tEnd\tStrand\tLength\t/shared/projects/2312_rnaseq_cea/allData/Results/featurecounts/SRR12730409_Aligned.sortedByNames.bam\n",
      "ENSMUSG00000102693.2\tchr1\t3143476\t3144545\t+\t1070\t0\n",
      "ENSMUSG00000064842.3\tchr1\t3172239\t3172348\t+\t110\t0\n",
      "ENSMUSG00000051951.6\tchr1;chr1;chr1;chr1;chr1;chr1;chr1\t3276124;3276746;3283662;3283832;3284705;3491925;3740775\t3277540;3277540;3285855;3286567;3287191;3492124;3741721\t-;-;-;-;-;-;-\t6094\t0\n",
      "ENSMUSG00000102851.2\tchr1\t3322980\t3323459\t+\t480\t0\n",
      "ENSMUSG00000103377.2\tchr1\t3435954\t3438772\t-\t2819\t0\n",
      "ENSMUSG00000104017.2\tchr1\t3445779\t3448011\t-\t2233\t0\n",
      "ENSMUSG00000103025.2\tchr1\t3535200\t3537508\t-\t2309\t0\n",
      "ENSMUSG00000089699.2\tchr1;chr1\t3536810;3583628\t3536910;3583776\t+;+\t250\t0\n",
      "\n",
      "==> /shared/projects/2312_rnaseq_cea/scaburet/Results/featurecounts/SRR12730410_paired-unstranded.counts <==\n",
      "# Program:featureCounts v2.0.1; Command:\"featureCounts\" \"-p\" \"-s\" \"0\" \"-T\" \"4\" \"-a\" \"/shared/projects/2312_rnaseq_cea/allData/Reference/extracted/genome_annotation.gtf\" \"-o\" \"/shared/projects/2312_rnaseq_cea/allData/Results/featurecounts/SRR12730410_paired-unstranded.counts\" \"/shared/projects/2312_rnaseq_cea/allData/Results/featurecounts/SRR12730410_Aligned.sortedByNames.bam\" \"--donotsort\" \"--verbose\" \n",
      "Geneid\tChr\tStart\tEnd\tStrand\tLength\t/shared/projects/2312_rnaseq_cea/allData/Results/featurecounts/SRR12730410_Aligned.sortedByNames.bam\n",
      "ENSMUSG00000102693.2\tchr1\t3143476\t3144545\t+\t1070\t0\n",
      "ENSMUSG00000064842.3\tchr1\t3172239\t3172348\t+\t110\t0\n",
      "ENSMUSG00000051951.6\tchr1;chr1;chr1;chr1;chr1;chr1;chr1\t3276124;3276746;3283662;3283832;3284705;3491925;3740775\t3277540;3277540;3285855;3286567;3287191;3492124;3741721\t-;-;-;-;-;-;-\t6094\t1\n",
      "ENSMUSG00000102851.2\tchr1\t3322980\t3323459\t+\t480\t0\n",
      "ENSMUSG00000103377.2\tchr1\t3435954\t3438772\t-\t2819\t0\n",
      "ENSMUSG00000104017.2\tchr1\t3445779\t3448011\t-\t2233\t0\n",
      "ENSMUSG00000103025.2\tchr1\t3535200\t3537508\t-\t2309\t0\n",
      "ENSMUSG00000089699.2\tchr1;chr1\t3536810;3583628\t3536910;3583776\t+;+\t250\t0\n",
      "\n",
      "==> /shared/projects/2312_rnaseq_cea/scaburet/Results/featurecounts/SRR12730411_paired-unstranded.counts <==\n",
      "# Program:featureCounts v2.0.1; Command:\"featureCounts\" \"-p\" \"-s\" \"0\" \"-T\" \"4\" \"-a\" \"/shared/projects/2312_rnaseq_cea/allData/Reference/extracted/genome_annotation.gtf\" \"-o\" \"/shared/projects/2312_rnaseq_cea/allData/Results/featurecounts/SRR12730411_paired-unstranded.counts\" \"/shared/projects/2312_rnaseq_cea/allData/Results/featurecounts/SRR12730411_Aligned.sortedByNames.bam\" \"--donotsort\" \"--verbose\" \n",
      "Geneid\tChr\tStart\tEnd\tStrand\tLength\t/shared/projects/2312_rnaseq_cea/allData/Results/featurecounts/SRR12730411_Aligned.sortedByNames.bam\n",
      "ENSMUSG00000102693.2\tchr1\t3143476\t3144545\t+\t1070\t0\n",
      "ENSMUSG00000064842.3\tchr1\t3172239\t3172348\t+\t110\t0\n",
      "ENSMUSG00000051951.6\tchr1;chr1;chr1;chr1;chr1;chr1;chr1\t3276124;3276746;3283662;3283832;3284705;3491925;3740775\t3277540;3277540;3285855;3286567;3287191;3492124;3741721\t-;-;-;-;-;-;-\t6094\t0\n",
      "ENSMUSG00000102851.2\tchr1\t3322980\t3323459\t+\t480\t0\n",
      "ENSMUSG00000103377.2\tchr1\t3435954\t3438772\t-\t2819\t0\n",
      "ENSMUSG00000104017.2\tchr1\t3445779\t3448011\t-\t2233\t0\n",
      "ENSMUSG00000103025.2\tchr1\t3535200\t3537508\t-\t2309\t0\n",
      "ENSMUSG00000089699.2\tchr1;chr1\t3536810;3583628\t3536910;3583776\t+;+\t250\t0\n"
     ]
    }
   ],
   "source": [
    "## Code cell 19 ##\n",
    "\n",
    "head -n 10 ${gohome}$USER/Results/featurecounts/*_paired-unstranded.counts"
   ]
  },
  {
   "cell_type": "markdown",
   "metadata": {},
   "source": [
    "As you can see, the genes are in rows and the counts in the samples are provided in the on-before-last column.   "
   ]
  },
  {
   "cell_type": "markdown",
   "metadata": {},
   "source": [
    "## 4 - Monitoring disk usage"
   ]
  },
  {
   "cell_type": "code",
   "execution_count": null,
   "metadata": {},
   "outputs": [],
   "source": [
    "## Code cell 20 ##\n",
    "\n",
    "du -h -d2 ${gohome}$USER"
   ]
  },
  {
   "cell_type": "markdown",
   "metadata": {},
   "source": [
    "We now have a personal folder that gets too heavy.  Let's remove some files we won't use anymore: \n",
    "\n",
    "- initial srr files in Data/sra/   \n",
    "- raw fastq.gz files in Data/fastq/raw/   \n",
    "- cleaned fastq.gz files in /Results/fastp   \n",
    "- intermediate Aligned.sortedByNames.bam files produced by <code>samtools</code> fo <code>featuresCounts</code> just above"
   ]
  },
  {
   "cell_type": "code",
   "execution_count": 21,
   "metadata": {},
   "outputs": [
    {
     "name": "stdout",
     "output_type": "stream",
     "text": [
      "rm: cannot remove ‘/shared/projects/2312_rnaseq_cea/scaburet/Data/sra/’: No such file or directory\n",
      "rm: cannot remove ‘/shared/projects/2312_rnaseq_cea/scaburet/Data/fastq/raw/*.fastq.gz’: No such file or directory\n",
      "rm: cannot remove ‘/shared/projects/2312_rnaseq_cea/scaburet/Results/fastp/*.fastp.fastq.gz’: No such file or directory\n",
      "rm: cannot remove ‘/shared/projects/2312_rnaseq_cea/scaburet/Results/featurecounts/*_Aligned.sortedByNames.bam’: No such file or directory\n"
     ]
    },
    {
     "ename": "",
     "evalue": "1",
     "output_type": "error",
     "traceback": []
    }
   ],
   "source": [
    "## Code cell 21 ##\n",
    "\n",
    "# Saving disk space\n",
    "# initial srr files\n",
    "rm -r ${gohome}$USER/Data/sra/\n",
    "\n",
    "# raw fastq.gz\n",
    "rm ${gohome}$USER/Data/fastq/raw/*.fastq.gz\n",
    "\n",
    "# cleaned fastq.gz\n",
    "rm ${gohome}$USER/Results/fastp/*.fastp.fastq.gz\n",
    "\n",
    "# intermediate Aligned.sortedByNames.bam\n",
    "rm ${gohome}$USER/Results/featurecounts/*_Aligned.sortedByNames.bam"
   ]
  },
  {
   "cell_type": "markdown",
   "metadata": {},
   "source": [
    "Let's see our disk usage now:"
   ]
  },
  {
   "cell_type": "code",
   "execution_count": 22,
   "metadata": {},
   "outputs": [
    {
     "name": "stdout",
     "output_type": "stream",
     "text": [
      "19M\t/shared/projects/2312_rnaseq_cea/scaburet/Results/multiqc\n",
      "70M\t/shared/projects/2312_rnaseq_cea/scaburet/Results/featurecounts\n",
      "1.8M\t/shared/projects/2312_rnaseq_cea/scaburet/Results/fastp\n",
      "1.1M\t/shared/projects/2312_rnaseq_cea/scaburet/Results/samtools\n",
      "252K\t/shared/projects/2312_rnaseq_cea/scaburet/Results/logfiles\n",
      "6.3M\t/shared/projects/2312_rnaseq_cea/scaburet/Results/fastqc\n",
      "12K\t/shared/projects/2312_rnaseq_cea/scaburet/Results/star\n",
      "4.0K\t/shared/projects/2312_rnaseq_cea/scaburet/Results/.ipynb_checkpoints\n",
      "20M\t/shared/projects/2312_rnaseq_cea/scaburet/Results/fastq_screen\n",
      "8.6M\t/shared/projects/2312_rnaseq_cea/scaburet/Results/qualimap\n",
      "125M\t/shared/projects/2312_rnaseq_cea/scaburet/Results\n",
      "12K\t/shared/projects/2312_rnaseq_cea/scaburet/Data/fastq\n",
      "12K\t/shared/projects/2312_rnaseq_cea/scaburet/Data/.ipynb_checkpoints\n",
      "40K\t/shared/projects/2312_rnaseq_cea/scaburet/Data\n",
      "8.0K\t/shared/projects/2312_rnaseq_cea/scaburet/.ipynb_checkpoints\n",
      "125M\t/shared/projects/2312_rnaseq_cea/scaburet\n"
     ]
    }
   ],
   "source": [
    "## Code cell 22 ##\n",
    "\n",
    "du -h -d2 ${gohome}$USER"
   ]
  },
  {
   "cell_type": "markdown",
   "metadata": {},
   "source": [
    "---\n",
    "___\n",
    "\n",
    "Now we go on with an introduction to the R language, that will be used during the next steps of the analysis.  \n",
    "  \n",
    "**=> Step 7: Introduction to R** "
   ]
  },
  {
   "cell_type": "markdown",
   "metadata": {
    "tags": []
   },
   "source": [
    "The jupyter notebook used for the next session will be *Pipe_07-R403_Intro-to-R.ipynb*    \n",
    "Let's retrieve it in our personal directory, in order to have a private copy to work on:   "
   ]
  },
  {
   "cell_type": "code",
   "execution_count": 23,
   "metadata": {
    "tags": []
   },
   "outputs": [],
   "source": [
    "## Code cell 38 ##   \n",
    "\n",
    "cp \"${gohome}pipeline/Pipe_07-R403_Intro-to-R.ipynb\" \"${gohome}$USER/\"\n",
    "cp \"${gohome}pipeline/Temperatures.txt\" \"${gohome}$USER/\""
   ]
  },
  {
   "cell_type": "markdown",
   "metadata": {
    "tags": []
   },
   "source": [
    "Bénédicte Noblet - 05-07 2021   \n",
    "Sandrine Caburet - 02-05 2023   \n",
    "Maj 24/05/2023"
   ]
  }
 ],
 "metadata": {
  "kernelspec": {
   "display_name": "Bash",
   "language": "bash",
   "name": "bash"
  },
  "language_info": {
   "codemirror_mode": "shell",
   "file_extension": ".sh",
   "mimetype": "text/x-sh",
   "name": "bash"
  },
  "toc-showcode": false
 },
 "nbformat": 4,
 "nbformat_minor": 4
}

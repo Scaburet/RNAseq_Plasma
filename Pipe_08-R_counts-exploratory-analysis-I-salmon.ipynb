{
 "cells": [
  {
   "cell_type": "markdown",
   "id": "c869887a-113a-415d-9d51-2622ea5291e5",
   "metadata": {
    "tags": []
   },
   "source": [
    "# Formation RNAseq CEA - juin 2024\n",
    "\n",
    "*Enseignantes: Sandrine Caburet et Claire Vandiedonck*\n",
    "\n",
    "Session IFB : 7 CPU + 33 GB de RAM\n",
    "\n",
    "R version 4.2.3\n",
    "\n",
    "# Part 8: Exploratory analysis I (before normalisation)"
   ]
  },
  {
   "cell_type": "markdown",
   "id": "28bf4a39-938b-4d60-a6aa-750a719950fa",
   "metadata": {},
   "source": [
    "   \n",
    "\n",
    "- 0. 1 - Setting up this R session on IFB core cluster\n",
    "- 0. 2 - Parameters to be set or modified by the user\n",
    "- 1 - Loading input data and metadata\n",
    "- 2 - Quality assessment\n",
    "- 3 - Saving our results"
   ]
  },
  {
   "cell_type": "markdown",
   "id": "ddca799a-eb36-4fff-a5b8-b922023f72e2",
   "metadata": {},
   "source": [
    "---\n",
    "## **Before going further**\n",
    "\n",
    "<div class=\"alert alert-block alert-danger\"><b>Caution:</b> \n",
    "Before starting the analysis, save a backup copy of this notebok : in the left-hand panel, right-click on this file and select \"Duplicate\"<br>\n",
    "You can also make backups during the analysis. Don't forget to save your notebook regularly: <kbd>Ctrl</kbd> + <kbd>S</kbd> or click on the 💾 icon.\n",
    "</div>"
   ]
  },
  {
   "cell_type": "markdown",
   "id": "5f87bbeb-1b9e-406b-a873-a92cca0918e7",
   "metadata": {},
   "source": [
    "<div class=\"alert alert-block alert-warning\"><b>Warning:</b>You are strongly advised to run the cells in the indicated order. If you want to rerun cells above, you can just restart the kernel to start at 1 again. </div>"
   ]
  },
  {
   "cell_type": "markdown",
   "id": "e541b5ec-0832-41fe-949c-a9a0afc61e56",
   "metadata": {
    "toc-hr-collapsed": true
   },
   "source": [
    "---\n",
    "---\n",
    "## 0. Set up parameters and RSession\n",
    "\n",
    "---\n",
    "\n",
    "### 0.1 - Setting up this R session on IFB core cluster\n",
    "\n",
    "<em>loaded JupyterLab</em> : Version 3.5.0"
   ]
  },
  {
   "cell_type": "markdown",
   "id": "c485b791-8bf5-4814-8937-ac12a71c5ad4",
   "metadata": {},
   "source": [
    "#### **0.1-a. Jupyter session**\n",
    "\n",
    "Just as in a bash notebook, we can have information about the number of threads available for this session. To do so, we will use the `system()`function in R which executes bash commands."
   ]
  },
  {
   "cell_type": "code",
   "execution_count": 1,
   "id": "06fe898f-68c9-4efe-89d7-37d05e2568fd",
   "metadata": {
    "tags": []
   },
   "outputs": [
    {
     "name": "stdout",
     "output_type": "stream",
     "text": [
      "[1] \"=== Cell launched on Sun Jun 23 18:51:00 CEST 2024 ===\"                         \n",
      "[2] \"          40340009      fast sys/dash cvandied  R    2:55:17      1 cpu-node-51\"\n",
      "[3] \"=== Current IFB session size: Medium (5CPU, 21 GB) ===\"                         \n",
      "[4] \"JobID         AllocCPUS     ReqMem        NodeList    Elapsed      State \"      \n",
      "[5] \"------------ ---------- ---------- --------------- ---------- ---------- \"      \n",
      "[6] \"40340009              5        21G     cpu-node-51   02:55:17    RUNNING \"      \n"
     ]
    }
   ],
   "source": [
    "## Code cell 1 ##\n",
    "\n",
    "session_parameters <- function(){\n",
    "    \n",
    "    jupytersession <- c(system('echo \"=== Cell launched on $(date) ===\"', intern = TRUE),\n",
    "                        system('squeue -hu $USER', intern = TRUE))\n",
    "    \n",
    "    jobid <- system(\"squeue -hu $USER | awk '/sys/dash {print $1}'\", intern = TRUE)\n",
    "    jupytersession <- c(jupytersession,\n",
    "                        \"=== Current IFB session size: Medium (5CPU, 21 GB) ===\",\n",
    "                        system(paste(\"sacct --format=JobID,AllocCPUS,ReqMem,NodeList,Elapsed,State -j\", jobid), intern = TRUE))\n",
    "    print(jupytersession[1:6])\n",
    "    \n",
    "    return(invisible(NULL))\n",
    "}\n",
    "\n",
    "session_parameters()"
   ]
  },
  {
   "cell_type": "markdown",
   "id": "fcff9441-53c0-44f4-ab87-9f0a4a8ae1fe",
   "metadata": {},
   "source": [
    "__\n",
    "\n",
    "#### **0.1-b. R session**\n",
    "\n",
    "Next we load into this R session the various packages that we will use.\n",
    "\n",
    "\n",
    "<div class=\"alert alert-block alert-info\"> <b> Info on packages: </b><br>\n",
    "    \n",
    "Since this is the first time during this course we are using R packages, the next code cells 2-5 will explain you some basic commands to deal with R packages. </div>\n",
    "\n",
    "In R we can call packages with some functions to do special analyses.\n",
    "To call such a package, the usual command is `library(name_of_the_package)`. It works if the package is already installed on your computer/server, otherwise you have to install it from the main R repository called CRAN (https://cran.r-project.org/). The main function to install R packages is `install.packages()`. Some packages are not available via the CRAN package repository, specifically the ones used in bioinformatic analyses, but via another repository: ***Bioconductor***. In order to install a package from Bioconductor, you need to install the `BiocManager` package first, then use its fonction `install()`. An example of the commands to use is provided in Code cell 5."
   ]
  },
  {
   "cell_type": "markdown",
   "id": "2642cf70-c151-44ac-89fc-534c5305ba06",
   "metadata": {},
   "source": [
    "- We can first identify the directories, called ***libraries***, where these packages are installed. "
   ]
  },
  {
   "cell_type": "code",
   "execution_count": 2,
   "id": "6f75fbac-6f70-4237-b958-c9a74120a613",
   "metadata": {},
   "outputs": [
    {
     "data": {
      "text/html": [
       "<style>\n",
       ".list-inline {list-style: none; margin:0; padding: 0}\n",
       ".list-inline>li {display: inline-block}\n",
       ".list-inline>li:not(:last-child)::after {content: \"\\00b7\"; padding: 0 .5ex}\n",
       "</style>\n",
       "<ol class=list-inline><li>'/shared/ifbstor1/home/cvandiedonck/R/x86_64-conda-linux-gnu-library/4.2'</li><li>'/shared/ifbstor1/software/miniconda/envs/r-4.2.3/lib/R/library'</li></ol>\n"
      ],
      "text/latex": [
       "\\begin{enumerate*}\n",
       "\\item '/shared/ifbstor1/home/cvandiedonck/R/x86\\_64-conda-linux-gnu-library/4.2'\n",
       "\\item '/shared/ifbstor1/software/miniconda/envs/r-4.2.3/lib/R/library'\n",
       "\\end{enumerate*}\n"
      ],
      "text/markdown": [
       "1. '/shared/ifbstor1/home/cvandiedonck/R/x86_64-conda-linux-gnu-library/4.2'\n",
       "2. '/shared/ifbstor1/software/miniconda/envs/r-4.2.3/lib/R/library'\n",
       "\n",
       "\n"
      ],
      "text/plain": [
       "[1] \"/shared/ifbstor1/home/cvandiedonck/R/x86_64-conda-linux-gnu-library/4.2\"\n",
       "[2] \"/shared/ifbstor1/software/miniconda/envs/r-4.2.3/lib/R/library\"         "
      ]
     },
     "metadata": {},
     "output_type": "display_data"
    }
   ],
   "source": [
    "## Code cell 2 ##\n",
    "\n",
    ".libPaths()"
   ]
  },
  {
   "cell_type": "markdown",
   "id": "6e3923f8-efa1-4399-b43e-405fd128b58c",
   "metadata": {},
   "source": [
    "If this is the first time you are using this R version on the IFB core cluster or you never installed packages before, the previous command should return only one folder, readable by all IFB users. It should be : `/shared/ifbstor1/software/miniconda/envs/r-4.2.3/lib/R/library` since the R version currently installed is 4.2.3.\n",
    "\n",
    "If you have already installed R packages, you should see another folder in your home directory, most likely with this absolute path: `/shared/ifbstor1/home/mylogin/R/x86_64-conda-linux-gnu-library/4.2` *(for R versions 4.2)*."
   ]
  },
  {
   "cell_type": "markdown",
   "id": "d316a97e-b618-48b0-93a0-35b954cb5b9a",
   "metadata": {},
   "source": [
    "- You can see how many **packages were already installed on the IFB core cluster** with the following command:"
   ]
  },
  {
   "cell_type": "code",
   "execution_count": 3,
   "id": "787d7fca-c5e7-4f8f-9377-74caea7ed2de",
   "metadata": {},
   "outputs": [
    {
     "data": {
      "text/html": [
       "1154"
      ],
      "text/latex": [
       "1154"
      ],
      "text/markdown": [
       "1154"
      ],
      "text/plain": [
       "[1] 1154"
      ]
     },
     "metadata": {},
     "output_type": "display_data"
    }
   ],
   "source": [
    "## Code cell 3 ##\n",
    "\n",
    "length(list.files(\"/shared/ifbstor1/software/miniconda/envs/r-4.2.3/lib/R/library\"))  # modifier l'indice selon le repertoire souhaité"
   ]
  },
  {
   "cell_type": "markdown",
   "id": "e2247c7f-4ed7-49b8-a72b-fd4501b82243",
   "metadata": {},
   "source": [
    "That is an impressive number! It is highly likely that the packages you need were already installed on the server!\n",
    "\n",
    "- To know **which packages were already installed**, you can either go to the corresponding folder, or use the R function `installed.packages()` which will return all packages installed with a lot of information. The most interesting infos are in the first three columns, with the name, the version and the library path. We can see how it looks like for the first packages with the command `head()`, or verify the presence of a given package with the command `grep()`."
   ]
  },
  {
   "cell_type": "code",
   "execution_count": 4,
   "id": "dc4031e0-c1dd-4273-9c83-d58176d4ae95",
   "metadata": {},
   "outputs": [
    {
     "data": {
      "text/html": [
       "<table class=\"dataframe\">\n",
       "<caption>A matrix: 6 x 3 of type chr</caption>\n",
       "<thead>\n",
       "\t<tr><th></th><th scope=col>Package</th><th scope=col>LibPath</th><th scope=col>Version</th></tr>\n",
       "</thead>\n",
       "<tbody>\n",
       "\t<tr><th scope=row>ggfortify</th><td>ggfortify</td><td>/shared/ifbstor1/home/cvandiedonck/R/x86_64-conda-linux-gnu-library/4.2</td><td>0.4.16</td></tr>\n",
       "\t<tr><th scope=row>writexl</th><td>writexl  </td><td>/shared/ifbstor1/home/cvandiedonck/R/x86_64-conda-linux-gnu-library/4.2</td><td>1.4.2 </td></tr>\n",
       "\t<tr><th scope=row>ADGofTest</th><td>ADGofTest</td><td>/shared/ifbstor1/software/miniconda/envs/r-4.2.3/lib/R/library         </td><td>0.3   </td></tr>\n",
       "\t<tr><th scope=row>ANCOMBC</th><td>ANCOMBC  </td><td>/shared/ifbstor1/software/miniconda/envs/r-4.2.3/lib/R/library         </td><td>2.0.2 </td></tr>\n",
       "\t<tr><th scope=row>AUCell</th><td>AUCell   </td><td>/shared/ifbstor1/software/miniconda/envs/r-4.2.3/lib/R/library         </td><td>1.20.2</td></tr>\n",
       "\t<tr><th scope=row>AlgDesign</th><td>AlgDesign</td><td>/shared/ifbstor1/software/miniconda/envs/r-4.2.3/lib/R/library         </td><td>1.2.1 </td></tr>\n",
       "</tbody>\n",
       "</table>\n"
      ],
      "text/latex": [
       "A matrix: 6 x 3 of type chr\n",
       "\\begin{tabular}{r|lll}\n",
       "  & Package & LibPath & Version\\\\\n",
       "\\hline\n",
       "\tggfortify & ggfortify & /shared/ifbstor1/home/cvandiedonck/R/x86\\_64-conda-linux-gnu-library/4.2 & 0.4.16\\\\\n",
       "\twritexl & writexl   & /shared/ifbstor1/home/cvandiedonck/R/x86\\_64-conda-linux-gnu-library/4.2 & 1.4.2 \\\\\n",
       "\tADGofTest & ADGofTest & /shared/ifbstor1/software/miniconda/envs/r-4.2.3/lib/R/library          & 0.3   \\\\\n",
       "\tANCOMBC & ANCOMBC   & /shared/ifbstor1/software/miniconda/envs/r-4.2.3/lib/R/library          & 2.0.2 \\\\\n",
       "\tAUCell & AUCell    & /shared/ifbstor1/software/miniconda/envs/r-4.2.3/lib/R/library          & 1.20.2\\\\\n",
       "\tAlgDesign & AlgDesign & /shared/ifbstor1/software/miniconda/envs/r-4.2.3/lib/R/library          & 1.2.1 \\\\\n",
       "\\end{tabular}\n"
      ],
      "text/markdown": [
       "\n",
       "A matrix: 6 x 3 of type chr\n",
       "\n",
       "| <!--/--> | Package | LibPath | Version |\n",
       "|---|---|---|---|\n",
       "| ggfortify | ggfortify | /shared/ifbstor1/home/cvandiedonck/R/x86_64-conda-linux-gnu-library/4.2 | 0.4.16 |\n",
       "| writexl | writexl   | /shared/ifbstor1/home/cvandiedonck/R/x86_64-conda-linux-gnu-library/4.2 | 1.4.2  |\n",
       "| ADGofTest | ADGofTest | /shared/ifbstor1/software/miniconda/envs/r-4.2.3/lib/R/library          | 0.3    |\n",
       "| ANCOMBC | ANCOMBC   | /shared/ifbstor1/software/miniconda/envs/r-4.2.3/lib/R/library          | 2.0.2  |\n",
       "| AUCell | AUCell    | /shared/ifbstor1/software/miniconda/envs/r-4.2.3/lib/R/library          | 1.20.2 |\n",
       "| AlgDesign | AlgDesign | /shared/ifbstor1/software/miniconda/envs/r-4.2.3/lib/R/library          | 1.2.1  |\n",
       "\n"
      ],
      "text/plain": [
       "          Package  \n",
       "ggfortify ggfortify\n",
       "writexl   writexl  \n",
       "ADGofTest ADGofTest\n",
       "ANCOMBC   ANCOMBC  \n",
       "AUCell    AUCell   \n",
       "AlgDesign AlgDesign\n",
       "          LibPath                                                                \n",
       "ggfortify /shared/ifbstor1/home/cvandiedonck/R/x86_64-conda-linux-gnu-library/4.2\n",
       "writexl   /shared/ifbstor1/home/cvandiedonck/R/x86_64-conda-linux-gnu-library/4.2\n",
       "ADGofTest /shared/ifbstor1/software/miniconda/envs/r-4.2.3/lib/R/library         \n",
       "ANCOMBC   /shared/ifbstor1/software/miniconda/envs/r-4.2.3/lib/R/library         \n",
       "AUCell    /shared/ifbstor1/software/miniconda/envs/r-4.2.3/lib/R/library         \n",
       "AlgDesign /shared/ifbstor1/software/miniconda/envs/r-4.2.3/lib/R/library         \n",
       "          Version\n",
       "ggfortify 0.4.16 \n",
       "writexl   1.4.2  \n",
       "ADGofTest 0.3    \n",
       "ANCOMBC   2.0.2  \n",
       "AUCell    1.20.2 \n",
       "AlgDesign 1.2.1  "
      ]
     },
     "metadata": {},
     "output_type": "display_data"
    },
    {
     "data": {
      "text/html": [
       "'ggplot2'"
      ],
      "text/latex": [
       "'ggplot2'"
      ],
      "text/markdown": [
       "'ggplot2'"
      ],
      "text/plain": [
       "[1] \"ggplot2\""
      ]
     },
     "metadata": {},
     "output_type": "display_data"
    }
   ],
   "source": [
    "## Code cell 4 ##\n",
    "\n",
    "head(installed.packages()[,c(1,2,3)])\n",
    "\n",
    "grep(\"ggplot2\", installed.packages()[,c(1,2,3)], value = TRUE)"
   ]
  },
  {
   "cell_type": "markdown",
   "id": "5e963f1c-5e89-4fff-87ac-1691c28a74b4",
   "metadata": {},
   "source": [
    "- **If your package of interest was not yet installed on the IFB cluster, you have two options:**\n",
    "\n",
    "1. either you ask them to install it for you *(and therefore for all other users)* using the community forum (https://community.france-bioinformatique.fr/). They are quite reactive and this would be a good option to make sure all dependecies are correctly installed together with your package.\n",
    "\n",
    "2. or you install it in your home directory.\n",
    "\n",
    "\n",
    "If you go for the second option because you are in a rush with your analyses, you may skip the above commands and just try to install it, only if needed."
   ]
  },
  {
   "cell_type": "markdown",
   "id": "159c3ab2-addf-4045-bdd1-dfc5309fc3f5",
   "metadata": {},
   "source": [
    "If the `.libPaths()`command run in Code cell 2 above did not return the name of your R library folder in your home, you first have to create it, then load its path as one of the possibilities: \n"
   ]
  },
  {
   "cell_type": "code",
   "execution_count": 5,
   "id": "2cb38b0d-f12d-450d-8f47-2b0d40d69d71",
   "metadata": {},
   "outputs": [
    {
     "data": {
      "text/html": [
       "<style>\n",
       ".list-inline {list-style: none; margin:0; padding: 0}\n",
       ".list-inline>li {display: inline-block}\n",
       ".list-inline>li:not(:last-child)::after {content: \"\\00b7\"; padding: 0 .5ex}\n",
       "</style>\n",
       "<ol class=list-inline><li>'/shared/ifbstor1/home/cvandiedonck/R/x86_64-conda-linux-gnu-library/4.2'</li><li>'/shared/ifbstor1/software/miniconda/envs/r-4.2.3/lib/R/library'</li></ol>\n"
      ],
      "text/latex": [
       "\\begin{enumerate*}\n",
       "\\item '/shared/ifbstor1/home/cvandiedonck/R/x86\\_64-conda-linux-gnu-library/4.2'\n",
       "\\item '/shared/ifbstor1/software/miniconda/envs/r-4.2.3/lib/R/library'\n",
       "\\end{enumerate*}\n"
      ],
      "text/markdown": [
       "1. '/shared/ifbstor1/home/cvandiedonck/R/x86_64-conda-linux-gnu-library/4.2'\n",
       "2. '/shared/ifbstor1/software/miniconda/envs/r-4.2.3/lib/R/library'\n",
       "\n",
       "\n"
      ],
      "text/plain": [
       "[1] \"/shared/ifbstor1/home/cvandiedonck/R/x86_64-conda-linux-gnu-library/4.2\"\n",
       "[2] \"/shared/ifbstor1/software/miniconda/envs/r-4.2.3/lib/R/library\"         "
      ]
     },
     "metadata": {},
     "output_type": "display_data"
    }
   ],
   "source": [
    "## Code cell 5 ##\n",
    "\n",
    "# creation of the directory, recursive = TRUE is equivalent to the mkdir -p in Unix (thus only created if not yet present)\n",
    "dir.create(\"~/R/x86_64-conda-linux-gnu-library/4.2\", recursive = TRUE, showWarnings = FALSE)\n",
    "\n",
    "# this new directory is added to the possible paths:\n",
    ".libPaths('~/R/x86_64-conda-linux-gnu-library/4.2')\n",
    "\n",
    "# and we verify its addition:\n",
    ".libPaths()"
   ]
  },
  {
   "cell_type": "markdown",
   "id": "c46b8d32-bdc0-4e77-9ba2-b805b434e10d",
   "metadata": {},
   "source": [
    "Now we can install new packages in our home, if they are not available on the cluster.    \n",
    "\n",
    "The following command lines using `require` and a condition with `if()` will install the package only if it is not already there!<br>\n",
    "Then the packages are loaded into your R session.       \n",
    "   \n",
    "<span style=\"color:red\">It is good practice to have such a command at the top of your notebook/script when you are doing analyses in R.</span>"
   ]
  },
  {
   "cell_type": "code",
   "execution_count": 6,
   "id": "ec022ae8-f4b1-4d63-864d-4ec41aa005af",
   "metadata": {
    "tags": []
   },
   "outputs": [
    {
     "name": "stderr",
     "output_type": "stream",
     "text": [
      "-- \u001b[1mAttaching core tidyverse packages\u001b[22m ------------------------ tidyverse 2.0.0 --\n",
      "\u001b[32mv\u001b[39m \u001b[34mdplyr    \u001b[39m 1.1.4     \u001b[32mv\u001b[39m \u001b[34mreadr    \u001b[39m 2.1.5\n",
      "\u001b[32mv\u001b[39m \u001b[34mforcats  \u001b[39m 1.0.0     \u001b[32mv\u001b[39m \u001b[34mstringr  \u001b[39m 1.5.1\n",
      "\u001b[32mv\u001b[39m \u001b[34mggplot2  \u001b[39m 3.5.1     \u001b[32mv\u001b[39m \u001b[34mtibble   \u001b[39m 3.2.1\n",
      "\u001b[32mv\u001b[39m \u001b[34mlubridate\u001b[39m 1.9.3     \u001b[32mv\u001b[39m \u001b[34mtidyr    \u001b[39m 1.3.1\n",
      "\u001b[32mv\u001b[39m \u001b[34mpurrr    \u001b[39m 1.0.2     \n",
      "-- \u001b[1mConflicts\u001b[22m ------------------------------------------ tidyverse_conflicts() --\n",
      "\u001b[31mx\u001b[39m \u001b[34mdplyr\u001b[39m::\u001b[32mfilter()\u001b[39m masks \u001b[34mstats\u001b[39m::filter()\n",
      "\u001b[31mx\u001b[39m \u001b[34mdplyr\u001b[39m::\u001b[32mlag()\u001b[39m    masks \u001b[34mstats\u001b[39m::lag()\n",
      "\u001b[36mi\u001b[39m Use the conflicted package (\u001b[3m\u001b[34m<http://conflicted.r-lib.org/>\u001b[39m\u001b[23m) to force all conflicts to become errors\n",
      "\n",
      "Attaching package: 'data.table'\n",
      "\n",
      "\n",
      "The following objects are masked from 'package:lubridate':\n",
      "\n",
      "    hour, isoweek, mday, minute, month, quarter, second, wday, week,\n",
      "    yday, year\n",
      "\n",
      "\n",
      "The following objects are masked from 'package:dplyr':\n",
      "\n",
      "    between, first, last\n",
      "\n",
      "\n",
      "The following object is masked from 'package:purrr':\n",
      "\n",
      "    transpose\n",
      "\n",
      "\n",
      "\n",
      "Attaching package: 'matrixStats'\n",
      "\n",
      "\n",
      "The following object is masked from 'package:dplyr':\n",
      "\n",
      "    count\n",
      "\n",
      "\n",
      "Bioconductor version '3.16' is out-of-date; the current release version '3.19'\n",
      "  is available with R version '4.4'; see https://bioconductor.org/install\n",
      "\n",
      "\n",
      "Attaching package: 'BiocGenerics'\n",
      "\n",
      "\n",
      "The following objects are masked from 'package:lubridate':\n",
      "\n",
      "    intersect, setdiff, union\n",
      "\n",
      "\n",
      "The following objects are masked from 'package:dplyr':\n",
      "\n",
      "    combine, intersect, setdiff, union\n",
      "\n",
      "\n",
      "The following objects are masked from 'package:stats':\n",
      "\n",
      "    IQR, mad, sd, var, xtabs\n",
      "\n",
      "\n",
      "The following objects are masked from 'package:base':\n",
      "\n",
      "    Filter, Find, Map, Position, Reduce, anyDuplicated, aperm, append,\n",
      "    as.data.frame, basename, cbind, colnames, dirname, do.call,\n",
      "    duplicated, eval, evalq, get, grep, grepl, intersect, is.unsorted,\n",
      "    lapply, mapply, match, mget, order, paste, pmax, pmax.int, pmin,\n",
      "    pmin.int, rank, rbind, rownames, sapply, setdiff, sort, table,\n",
      "    tapply, union, unique, unsplit, which.max, which.min\n",
      "\n",
      "\n",
      "Welcome to Bioconductor\n",
      "\n",
      "    Vignettes contain introductory material; view with\n",
      "    'browseVignettes()'. To cite Bioconductor, see\n",
      "    'citation(\"Biobase\")', and for packages 'citation(\"pkgname\")'.\n",
      "\n",
      "\n",
      "\n",
      "Attaching package: 'Biobase'\n",
      "\n",
      "\n",
      "The following objects are masked from 'package:matrixStats':\n",
      "\n",
      "    anyMissing, rowMedians\n",
      "\n",
      "\n",
      "\n",
      "Attaching package: 'affy'\n",
      "\n",
      "\n",
      "The following object is masked from 'package:lubridate':\n",
      "\n",
      "    pm\n",
      "\n",
      "\n",
      "Loading required libraries\n",
      "\n"
     ]
    }
   ],
   "source": [
    "## Code cell 6 ##\n",
    "\n",
    "# list the required libraries from the CRAN repository\n",
    "requiredLib <- c(\n",
    "    \"tidyverse\",\n",
    "    \"data.table\",\n",
    "    \"ggfortify\",\n",
    "    \"ggrepel\",\n",
    "    \"RColorBrewer\",\n",
    "    \"matrixStats\",\n",
    "    \"BiocManager\"    \n",
    ")\n",
    "\n",
    "# list the required libraries from the Bioconductor project\n",
    "requiredBiocLib <- c(\"affy\")\n",
    "\n",
    "# install required libraries if not yet installed\n",
    "for (lib in requiredLib) {\n",
    "  if (!require(lib, character.only = TRUE, quiet = TRUE)) {\n",
    "    install.packages(lib, quiet = TRUE)\n",
    "  }\n",
    "}\n",
    "\n",
    "for( lib in requiredBiocLib) {\n",
    "  if (!require(lib, character.only = TRUE, quiet = TRUE)) {\n",
    "  BiocManager::install(lib, quiet = TRUE)\n",
    "  }\n",
    "}\n",
    "\n",
    "# load libraries\n",
    "message(\"Loading required libraries\")\n",
    "for (lib in requiredLib) {\n",
    "  library(lib, character.only = TRUE)}\n",
    "for (lib in requiredBiocLib) {\n",
    "  library(lib, character.only = TRUE)}\n",
    "\n",
    "# remove variables from the R session if they are no longer necessary \n",
    "rm(lib, requiredLib, requiredBiocLib)"
   ]
  },
  {
   "cell_type": "markdown",
   "id": "b7831112-60a9-4174-82fb-5d793b5af345",
   "metadata": {},
   "source": [
    "\n",
    "\n",
    "<div class=\"alert alert-block alert-warning\"><b>Warning:</b><ul>\n",
    "    <li><b><i>DO NOT worry</i></b> if you see a large red output!! </b> You should see this large red output only once, when the relevant packages are installed in your home directory. (Afterwards, they will be detected as present, and this large red output won't show if you run the cell another time. <il>\n",
    " <li><b><i> DO NOT panic </i></b> if you see a warning in the output: such commands return sometimes warnings that can arise due to changes in R versions, but as a general rule the functions in these packages will still work.<il>\n",
    "     </div>"
   ]
  },
  {
   "cell_type": "markdown",
   "id": "fba94197-dfbe-41b0-b038-0eb38fc560aa",
   "metadata": {},
   "source": [
    "The next command will return the versions for R and R-packages used in your current R session. You can check that the packages called in a previous command are indeed loaded:"
   ]
  },
  {
   "cell_type": "code",
   "execution_count": 7,
   "id": "cab16e1f-e4a2-4aaa-b519-c8eaa74e9f25",
   "metadata": {
    "tags": []
   },
   "outputs": [
    {
     "name": "stdout",
     "output_type": "stream",
     "text": [
      "---Here are the info of my R session with the loaded packages:\n"
     ]
    },
    {
     "data": {
      "text/plain": [
       "R version 4.2.3 (2023-03-15)\n",
       "Platform: x86_64-conda-linux-gnu (64-bit)\n",
       "Running under: CentOS Linux 7 (Core)\n",
       "\n",
       "Matrix products: default\n",
       "BLAS/LAPACK: /shared/ifbstor1/software/miniconda/envs/r-4.2.3/lib/libopenblasp-r0.3.21.so\n",
       "\n",
       "locale:\n",
       "[1] C\n",
       "\n",
       "attached base packages:\n",
       "[1] stats     graphics  grDevices utils     datasets  methods   base     \n",
       "\n",
       "other attached packages:\n",
       " [1] affy_1.76.0         Biobase_2.62.0      BiocGenerics_0.44.0\n",
       " [4] BiocManager_1.30.23 matrixStats_1.3.0   RColorBrewer_1.1-3 \n",
       " [7] ggrepel_0.9.5       ggfortify_0.4.16    data.table_1.15.4  \n",
       "[10] lubridate_1.9.3     forcats_1.0.0       stringr_1.5.1      \n",
       "[13] dplyr_1.1.4         purrr_1.0.2         readr_2.1.5        \n",
       "[16] tidyr_1.3.1         tibble_3.2.1        ggplot2_3.5.1      \n",
       "[19] tidyverse_2.0.0    \n",
       "\n",
       "loaded via a namespace (and not attached):\n",
       " [1] pbdZMQ_0.3-11         tidyselect_1.2.1      repr_1.1.7           \n",
       " [4] colorspace_2.1-0      vctrs_0.6.5           generics_0.1.3       \n",
       " [7] htmltools_0.5.8.1     base64enc_0.1-3       utf8_1.2.4           \n",
       "[10] rlang_1.1.3           pillar_1.9.0          glue_1.7.0           \n",
       "[13] withr_3.0.0           uuid_1.2-0            affyio_1.68.0        \n",
       "[16] lifecycle_1.0.4       zlibbioc_1.44.0       munsell_0.5.1        \n",
       "[19] gtable_0.3.5          evaluate_0.23         tzdb_0.4.0           \n",
       "[22] fastmap_1.2.0         fansi_1.0.6           preprocessCore_1.60.2\n",
       "[25] IRdisplay_1.1         Rcpp_1.0.12           scales_1.3.0         \n",
       "[28] IRkernel_1.3.2        jsonlite_1.8.8        gridExtra_2.3        \n",
       "[31] hms_1.1.3             digest_0.6.35         stringi_1.8.4        \n",
       "[34] grid_4.2.3            cli_3.6.2             tools_4.2.3          \n",
       "[37] magrittr_2.0.3        crayon_1.5.2          pkgconfig_2.0.3      \n",
       "[40] timechange_0.3.0      R6_2.5.1              compiler_4.2.3       "
      ]
     },
     "metadata": {},
     "output_type": "display_data"
    }
   ],
   "source": [
    "## Code cell 7 ##   \n",
    "\n",
    "cat(\"---Here are the info of my R session with the loaded packages:\\n\")\n",
    "sessionInfo()"
   ]
  },
  {
   "cell_type": "markdown",
   "id": "f3b7a956-e455-4318-9d0f-0c2ba2b3c4d6",
   "metadata": {},
   "source": [
    "It looks ok and we can start the analysis!"
   ]
  },
  {
   "cell_type": "markdown",
   "id": "8e973fa8-40d1-4499-91d3-fc0fa3c37be2",
   "metadata": {
    "tags": []
   },
   "source": [
    "--\n",
    "\n",
    "### 0.2 - Parameters to be set or modified by the user\n",
    "---\n",
    "\n"
   ]
  },
  {
   "cell_type": "markdown",
   "id": "b9f20db7-6f19-4a61-ae68-b534fa14fa1c",
   "metadata": {},
   "source": [
    "- To know our **current working directory**, we use the function ̀`getwd()` (for *get working directory*, equivalent to `pwd` in bash)."
   ]
  },
  {
   "cell_type": "code",
   "execution_count": 8,
   "id": "309bb29b-5b78-499c-92fc-d00de815e844",
   "metadata": {},
   "outputs": [
    {
     "data": {
      "text/html": [
       "'/shared/ifbstor1/projects/2413_rnaseq_cea/cvandiedonck'"
      ],
      "text/latex": [
       "'/shared/ifbstor1/projects/2413\\_rnaseq\\_cea/cvandiedonck'"
      ],
      "text/markdown": [
       "'/shared/ifbstor1/projects/2413_rnaseq_cea/cvandiedonck'"
      ],
      "text/plain": [
       "[1] \"/shared/ifbstor1/projects/2413_rnaseq_cea/cvandiedonck\""
      ]
     },
     "metadata": {},
     "output_type": "display_data"
    }
   ],
   "source": [
    "## Code cell 8 ##   \n",
    "\n",
    "getwd()"
   ]
  },
  {
   "cell_type": "markdown",
   "id": "10480f12-c994-4e19-b0fe-e8053886848a",
   "metadata": {
    "jp-MarkdownHeadingCollapsed": true,
    "tags": []
   },
   "source": [
    "<div class=\"alert alert-block alert-info\"> <b> Info on working directory: </b><br>In a Jupyter Hub and a jupyter notebook in R, by default the working directory is where the notebook is opened</div>"
   ]
  },
  {
   "cell_type": "markdown",
   "id": "c9731792-b40f-4152-b57e-fae31ec958b9",
   "metadata": {},
   "source": [
    "- Using a full path with a `/` at the end, **define the folder** of the project as  `gohome` variable, the folder where you work as the `myfolder` variable."
   ]
  },
  {
   "cell_type": "code",
   "execution_count": 9,
   "id": "2bcc9212-1ef4-443b-b670-847447e7d1d6",
   "metadata": {},
   "outputs": [
    {
     "data": {
      "text/html": [
       "'/shared/projects/2413_rnaseq_cea/'"
      ],
      "text/latex": [
       "'/shared/projects/2413\\_rnaseq\\_cea/'"
      ],
      "text/markdown": [
       "'/shared/projects/2413_rnaseq_cea/'"
      ],
      "text/plain": [
       "[1] \"/shared/projects/2413_rnaseq_cea/\""
      ]
     },
     "metadata": {},
     "output_type": "display_data"
    },
    {
     "data": {
      "text/html": [
       "'/shared/ifbstor1/projects/2413_rnaseq_cea/cvandiedonck'"
      ],
      "text/latex": [
       "'/shared/ifbstor1/projects/2413\\_rnaseq\\_cea/cvandiedonck'"
      ],
      "text/markdown": [
       "'/shared/ifbstor1/projects/2413_rnaseq_cea/cvandiedonck'"
      ],
      "text/plain": [
       "[1] \"/shared/ifbstor1/projects/2413_rnaseq_cea/cvandiedonck\""
      ]
     },
     "metadata": {},
     "output_type": "display_data"
    }
   ],
   "source": [
    "## Code cell 9 ##\n",
    "\n",
    "gohome <- \"/shared/projects/2413_rnaseq_cea/\"\n",
    "gohome\n",
    "\n",
    "myfolder <- getwd()\n",
    "myfolder"
   ]
  },
  {
   "cell_type": "markdown",
   "id": "41dcab62-9553-4c2e-bebf-8c62c180ac7f",
   "metadata": {},
   "source": [
    "- We also define the folder with the raw data as `datafolder`, the reference folder with the reference genome data `reffolder` and we specify the variable of the reference genome annotation used `annot_version`."
   ]
  },
  {
   "cell_type": "code",
   "execution_count": 10,
   "id": "dd30dba4-990d-42a1-8e97-a0e2aa895797",
   "metadata": {},
   "outputs": [
    {
     "data": {
      "text/html": [
       "'/shared/ifbstor1/projects/2413_rnaseq_cea/cvandiedonck/Data/'"
      ],
      "text/latex": [
       "'/shared/ifbstor1/projects/2413\\_rnaseq\\_cea/cvandiedonck/Data/'"
      ],
      "text/markdown": [
       "'/shared/ifbstor1/projects/2413_rnaseq_cea/cvandiedonck/Data/'"
      ],
      "text/plain": [
       "[1] \"/shared/ifbstor1/projects/2413_rnaseq_cea/cvandiedonck/Data/\""
      ]
     },
     "metadata": {},
     "output_type": "display_data"
    },
    {
     "data": {
      "text/html": [
       "'/shared/projects/2413_rnaseq_cea/alldata/Reference/'"
      ],
      "text/latex": [
       "'/shared/projects/2413\\_rnaseq\\_cea/alldata/Reference/'"
      ],
      "text/markdown": [
       "'/shared/projects/2413_rnaseq_cea/alldata/Reference/'"
      ],
      "text/plain": [
       "[1] \"/shared/projects/2413_rnaseq_cea/alldata/Reference/\""
      ]
     },
     "metadata": {},
     "output_type": "display_data"
    }
   ],
   "source": [
    "## Code cell 10 ##\n",
    "\n",
    "datafolder <- paste0(myfolder, \"/Data/\")\n",
    "datafolder\n",
    "\n",
    "reffolder <- paste0(gohome, \"alldata/Reference/\")\n",
    "reffolder\n",
    "annot_version <- \"vM35\""
   ]
  },
  {
   "cell_type": "markdown",
   "id": "70f942a6-e1b7-453c-95a4-61f21e9e82c8",
   "metadata": {},
   "source": [
    "- With a `/` at the end, we also add the folder `salmonfolder` with salmon data  we still need to aggregate for all samples at both the transcript and gene levels."
   ]
  },
  {
   "cell_type": "code",
   "execution_count": 11,
   "id": "b6980357-fcff-4dfb-b66d-ea83c434e360",
   "metadata": {},
   "outputs": [
    {
     "data": {
      "text/html": [
       "'/shared/ifbstor1/projects/2413_rnaseq_cea/cvandiedonck/Results/salmon/'"
      ],
      "text/latex": [
       "'/shared/ifbstor1/projects/2413\\_rnaseq\\_cea/cvandiedonck/Results/salmon/'"
      ],
      "text/markdown": [
       "'/shared/ifbstor1/projects/2413_rnaseq_cea/cvandiedonck/Results/salmon/'"
      ],
      "text/plain": [
       "[1] \"/shared/ifbstor1/projects/2413_rnaseq_cea/cvandiedonck/Results/salmon/\""
      ]
     },
     "metadata": {},
     "output_type": "display_data"
    }
   ],
   "source": [
    "## Code cell 11 ##\n",
    "\n",
    "salmonfolder <- paste0(myfolder, \"/Results/salmon/\")\n",
    "salmonfolder"
   ]
  },
  {
   "cell_type": "markdown",
   "id": "bad225d2-7150-4b9f-b13f-090b3ea04a3b",
   "metadata": {},
   "source": [
    "- With a `/` at the end, define the path to the folder where the results of this initial exploratory analysis will be stored:"
   ]
  },
  {
   "cell_type": "code",
   "execution_count": 12,
   "id": "c616b23e-c709-452d-ae75-d03dbd902090",
   "metadata": {},
   "outputs": [
    {
     "name": "stderr",
     "output_type": "stream",
     "text": [
      "Warning message in dir.create(paste0(myfolder, \"/Results/pca1/\"), recursive = TRUE):\n",
      "\"'/shared/ifbstor1/projects/2413_rnaseq_cea/cvandiedonck/Results/pca1' already exists\"\n"
     ]
    },
    {
     "data": {
      "text/html": [
       "'/shared/ifbstor1/projects/2413_rnaseq_cea/cvandiedonck/Results/pca1/'"
      ],
      "text/latex": [
       "'/shared/ifbstor1/projects/2413\\_rnaseq\\_cea/cvandiedonck/Results/pca1/'"
      ],
      "text/markdown": [
       "'/shared/ifbstor1/projects/2413_rnaseq_cea/cvandiedonck/Results/pca1/'"
      ],
      "text/plain": [
       "[1] \"/shared/ifbstor1/projects/2413_rnaseq_cea/cvandiedonck/Results/pca1/\""
      ]
     },
     "metadata": {},
     "output_type": "display_data"
    },
    {
     "name": "stdout",
     "output_type": "stream",
     "text": [
      "[1] \"total 668K\"                                                                       \n",
      "[2] \"-rw-rw----+ 1 cvandiedonck cvandiedonck 663K Jun 21 18:14 RawCounts_Samples.RData\"\n"
     ]
    }
   ],
   "source": [
    "## Code cell 12 ##\n",
    "\n",
    "# creation of the directory, recursive = TRUE is equivalent to the mkdir -p in Unix\n",
    "dir.create(paste0(myfolder,\"/Results/pca1/\"), recursive = TRUE)\n",
    "\n",
    "# storing the path to this output folder in a variable\n",
    "pca1folder <- paste(myfolder,\"/Results/pca1/\", sep = \"\")\n",
    "pca1folder\n",
    "\n",
    "# listing the content of the folder\n",
    "print(system(paste(\"ls -hlt\", pca1folder), intern = TRUE) )"
   ]
  },
  {
   "cell_type": "markdown",
   "id": "0f37bfa3-4389-4458-ab30-8e5f5219b40d",
   "metadata": {},
   "source": [
    "(When creating a directory with the `recursive = TRUE`argument, you obtain a red warning if the directory already exists.    \n",
    "You can inactivate this warning with the additional argument  `showWarnings = FALSE`, as in the Code cell 5 above. ) "
   ]
  },
  {
   "cell_type": "markdown",
   "id": "6b40c823-72f2-4d55-8cce-c9c695e4d9ca",
   "metadata": {},
   "source": [
    "- Last, we specify the size of the graphical outputs that will be used for all the plots in the notebook.    \n",
    "This setting could be modified at will for each plot. "
   ]
  },
  {
   "cell_type": "code",
   "execution_count": 13,
   "id": "1798a716-e6ad-45cf-bf1c-5c45b1bd8be7",
   "metadata": {},
   "outputs": [],
   "source": [
    "## Code cell 13 ##\n",
    "\n",
    "options(repr.plot.width = 15, repr.plot.height = 8)"
   ]
  },
  {
   "cell_type": "markdown",
   "id": "b79bad38-8e2b-470e-81dc-8680119bf739",
   "metadata": {},
   "source": [
    "---\n",
    "## 1 - Loading metadata and input (STAR and Salmon) data\n",
    "---"
   ]
  },
  {
   "cell_type": "markdown",
   "id": "60e59641-cd20-419d-ba54-cf0009921404",
   "metadata": {},
   "source": [
    "<div class=\"alert alert-block alert-info\"><b>Info:</b><br>\n",
    "In the previous parts of the pipeline, we worked only on three samples. Now that we obtained read counts per features, we have <i>lighter</i> files and we can work on <b> the whole dataset with all 11 samples</b>.</div>"
   ]
  },
  {
   "cell_type": "markdown",
   "id": "c9c6aaa5-b39d-41ab-9250-9235984594fa",
   "metadata": {},
   "source": [
    "We now need three types of files:   \n",
    "1. a **metadata** file, providing information about the samples, in particular the conditions of the experiment. \n",
    "2. the **gene read counts** produced by `STAR` and `featureCounts` (as in the Pipe_06 notebook), on all 11 samples   \n",
    "3. the **transcript counts** produced by `SALMON` for each sample"
   ]
  },
  {
   "cell_type": "markdown",
   "id": "51e12318-7ae9-4f7b-a0df-f4d0d0435e64",
   "metadata": {},
   "source": [
    "You should have obtained 2 TRUE output, and the files should appear in your folder in the left column."
   ]
  },
  {
   "cell_type": "markdown",
   "id": "5cb928ec-d882-4e6f-bf1a-9ac8736da418",
   "metadata": {},
   "source": [
    "### 1.1 - Loading metadata   \n",
    "---"
   ]
  },
  {
   "cell_type": "markdown",
   "id": "2546d84d-45f2-47f6-9fc1-cc5a532623dc",
   "metadata": {},
   "source": [
    "We copy the first metadata file in our personal folder from the alldata folder with the `file.copy()` function."
   ]
  },
  {
   "cell_type": "code",
   "execution_count": 14,
   "id": "2a364987-06f0-4fef-b64c-bb6347cc9ff8",
   "metadata": {},
   "outputs": [
    {
     "data": {
      "text/html": [
       "FALSE"
      ],
      "text/latex": [
       "FALSE"
      ],
      "text/markdown": [
       "FALSE"
      ],
      "text/plain": [
       "[1] FALSE"
      ]
     },
     "metadata": {},
     "output_type": "display_data"
    }
   ],
   "source": [
    "## Code cell 14 ##\n",
    "\n",
    "file.copy(from = paste0(gohome, \"alldata/Data/sampleData-GSE158661.tsv\"),\n",
    "         to = datafolder)"
   ]
  },
  {
   "cell_type": "markdown",
   "id": "3aadb40e-f05b-499f-a4ec-dfd9fa3dcdb6",
   "metadata": {},
   "source": [
    "We read the tabulated table and we store the data in a dataframe named `samples` in our R session.  \n",
    "The file has column names, so we set `header=TRUE`, and the separator as a tab (<code>sep = \"\\t\"</code>)."
   ]
  },
  {
   "cell_type": "code",
   "execution_count": 15,
   "id": "cd8be4c0-4c27-4963-94e9-d1d6e3ae8b8d",
   "metadata": {},
   "outputs": [],
   "source": [
    "## Code cell 15 ##\n",
    "\n",
    "samples <- read.table(paste0(datafolder, \"sampleData-GSE158661.tsv\"),\n",
    "                      sep = \"\\t\",\n",
    "                      header = TRUE,\n",
    "                      stringsAsFactors = FALSE)"
   ]
  },
  {
   "cell_type": "markdown",
   "id": "c1826ae0-d5af-4be3-b83d-d92fc2b1e350",
   "metadata": {},
   "source": [
    "We then look at the class, structure and first rows of the imported file."
   ]
  },
  {
   "cell_type": "code",
   "execution_count": 16,
   "id": "9c362df3-3317-4dc0-9050-5547ef2d1812",
   "metadata": {},
   "outputs": [
    {
     "data": {
      "text/html": [
       "'data.frame'"
      ],
      "text/latex": [
       "'data.frame'"
      ],
      "text/markdown": [
       "'data.frame'"
      ],
      "text/plain": [
       "[1] \"data.frame\""
      ]
     },
     "metadata": {},
     "output_type": "display_data"
    }
   ],
   "source": [
    "## Code cell 16 ##\n",
    "\n",
    "class(samples)"
   ]
  },
  {
   "cell_type": "code",
   "execution_count": 17,
   "id": "ca4420f9-65f3-4359-a70d-7bce919eace9",
   "metadata": {},
   "outputs": [
    {
     "name": "stdout",
     "output_type": "stream",
     "text": [
      "'data.frame':\t11 obs. of  10 variables:\n",
      " $ SampleID           : chr  \"SRR12730403\" \"SRR12730404\" \"SRR12730405\" \"SRR12730406\" ...\n",
      " $ SampleName         : chr  \"dHet_B-ALL_686_rep1\" \"dHet_B-ALL_686_rep2\" \"dHet_B-ALL_713_rep1\" \"dHet_B-ALL_713_rep2\" ...\n",
      " $ Condition          : chr  \"dHet\" \"dHet\" \"dHet\" \"dHet\" ...\n",
      " $ Genotype           : chr  \"Ebf1+/- Pax5+/-\" \"Ebf1+/- Pax5+/-\" \"Ebf1+/- Pax5+/-\" \"Ebf1+/- Pax5+/-\" ...\n",
      " $ GEO_Accession..exp.: chr  \"GSM4805160\" \"GSM4805161\" \"GSM4805162\" \"GSM4805163\" ...\n",
      " $ Sample.Name        : chr  \"GSM4805160\" \"GSM4805161\" \"GSM4805162\" \"GSM4805163\" ...\n",
      " $ source_name        : chr  \"Ebf1+/- Pax5+/- dHet leukemic cells derived from lymph node (mouse 686)\\\\,Replicate1\" \"Ebf1+/- Pax5+/- dHet leukemic cells derived from lymph node (mouse 686)\\\\,Replicate2\" \"Ebf1+/- Pax5+/- dHet leukemic cells derived from lymph node (mouse 713)\\\\,Replicate1\" \"Ebf1+/- Pax5+/- dHet leukemic cells derived from lymph node (mouse 713)\\\\,Replicate2\" ...\n",
      " $ SRA.Study          : chr  \"SRP285633\" \"SRP285633\" \"SRP285633\" \"SRP285633\" ...\n",
      " $ Strain             : chr  \"C57BL/6J\" \"C57BL/6J\" \"C57BL/6J\" \"C57BL/6J\" ...\n",
      " $ Tissue             : chr  \"Ebf1+/- Pax5+/- lymph node\" \"Ebf1+/- Pax5+/- lymph node\" \"Ebf1+/- Pax5+/- lymph node\" \"Ebf1+/- Pax5+/- lymph node\" ...\n"
     ]
    }
   ],
   "source": [
    "## Code cell 17 ##\n",
    "\n",
    "str(samples)"
   ]
  },
  {
   "cell_type": "code",
   "execution_count": 18,
   "id": "ea217026-e0cf-4891-ba7a-b65c59cc4d82",
   "metadata": {},
   "outputs": [
    {
     "data": {
      "text/html": [
       "<table class=\"dataframe\">\n",
       "<caption>A data.frame: 11 x 10</caption>\n",
       "<thead>\n",
       "\t<tr><th></th><th scope=col>SampleID</th><th scope=col>SampleName</th><th scope=col>Condition</th><th scope=col>Genotype</th><th scope=col>GEO_Accession..exp.</th><th scope=col>Sample.Name</th><th scope=col>source_name</th><th scope=col>SRA.Study</th><th scope=col>Strain</th><th scope=col>Tissue</th></tr>\n",
       "\t<tr><th></th><th scope=col>&lt;chr&gt;</th><th scope=col>&lt;chr&gt;</th><th scope=col>&lt;chr&gt;</th><th scope=col>&lt;chr&gt;</th><th scope=col>&lt;chr&gt;</th><th scope=col>&lt;chr&gt;</th><th scope=col>&lt;chr&gt;</th><th scope=col>&lt;chr&gt;</th><th scope=col>&lt;chr&gt;</th><th scope=col>&lt;chr&gt;</th></tr>\n",
       "</thead>\n",
       "<tbody>\n",
       "\t<tr><th scope=row>1</th><td>SRR12730403</td><td>dHet_B-ALL_686_rep1      </td><td>dHet   </td><td>Ebf1+/- Pax5+/-        </td><td>GSM4805160</td><td>GSM4805160</td><td>Ebf1+/- Pax5+/- dHet leukemic cells derived from lymph node (mouse 686)\\,Replicate1</td><td>SRP285633</td><td>C57BL/6J</td><td>Ebf1+/- Pax5+/- lymph node              </td></tr>\n",
       "\t<tr><th scope=row>2</th><td>SRR12730404</td><td>dHet_B-ALL_686_rep2      </td><td>dHet   </td><td>Ebf1+/- Pax5+/-        </td><td>GSM4805161</td><td>GSM4805161</td><td>Ebf1+/- Pax5+/- dHet leukemic cells derived from lymph node (mouse 686)\\,Replicate2</td><td>SRP285633</td><td>C57BL/6J</td><td>Ebf1+/- Pax5+/- lymph node              </td></tr>\n",
       "\t<tr><th scope=row>3</th><td>SRR12730405</td><td>dHet_B-ALL_713_rep1      </td><td>dHet   </td><td>Ebf1+/- Pax5+/-        </td><td>GSM4805162</td><td>GSM4805162</td><td>Ebf1+/- Pax5+/- dHet leukemic cells derived from lymph node (mouse 713)\\,Replicate1</td><td>SRP285633</td><td>C57BL/6J</td><td>Ebf1+/- Pax5+/- lymph node              </td></tr>\n",
       "\t<tr><th scope=row>4</th><td>SRR12730406</td><td>dHet_B-ALL_713_rep2      </td><td>dHet   </td><td>Ebf1+/- Pax5+/-        </td><td>GSM4805163</td><td>GSM4805163</td><td>Ebf1+/- Pax5+/- dHet leukemic cells derived from lymph node (mouse 713)\\,Replicate2</td><td>SRP285633</td><td>C57BL/6J</td><td>Ebf1+/- Pax5+/- lymph node              </td></tr>\n",
       "\t<tr><th scope=row>5</th><td>SRR12730407</td><td>dHet_B-ALL_760_rep1      </td><td>dHet   </td><td>Ebf1+/- Pax5+/-        </td><td>GSM4805164</td><td>GSM4805164</td><td>Ebf1+/- Pax5+/- dHet leukemic cells derived from lymph node (mouse 760)\\,Replicate1</td><td>SRP285633</td><td>C57BL/6J</td><td>Ebf1+/- Pax5+/- lymph node              </td></tr>\n",
       "\t<tr><th scope=row>6</th><td>SRR12730408</td><td>dHet_B-ALL_760_rep2      </td><td>dHet   </td><td>Ebf1+/- Pax5+/-        </td><td>GSM4805165</td><td>GSM4805165</td><td>Ebf1+/- Pax5+/- dHet leukemic cells derived from lymph node (mouse 760)\\,Replicate2</td><td>SRP285633</td><td>C57BL/6J</td><td>Ebf1+/- Pax5+/- lymph node              </td></tr>\n",
       "\t<tr><th scope=row>7</th><td>SRR12730409</td><td>dHet_FetalLiver_proB_rep1</td><td>dHetRag</td><td>Ebf1+/- Pax5+/- Rag2-/-</td><td>GSM4805166</td><td>GSM4805166</td><td>Ebf1+/- Pax5+/- dHet fetal liver proB cells\\,Replicate1                            </td><td>SRP285633</td><td>C57BL/6J</td><td>Ebf1+/- Pax5+/- Rag2-/- proB fetal liver</td></tr>\n",
       "\t<tr><th scope=row>8</th><td>SRR12730410</td><td>dHet_FetalLiver_proB_rep2</td><td>dHetRag</td><td>Ebf1+/- Pax5+/- Rag2-/-</td><td>GSM4805167</td><td>GSM4805167</td><td>Ebf1+/- Pax5+/- dHet fetal liver proB cells\\,Replicate2                            </td><td>SRP285633</td><td>C57BL/6J</td><td>Ebf1+/- Pax5+/- Rag2-/- proB fetal liver</td></tr>\n",
       "\t<tr><th scope=row>9</th><td>SRR12730411</td><td>dHet_FetalLiver_proB_rep3</td><td>dHetRag</td><td>Ebf1+/- Pax5+/- Rag2-/-</td><td>GSM4805168</td><td>GSM4805168</td><td>Ebf1+/- Pax5+/- dHet fetal liver proB cells\\,Replicate3                            </td><td>SRP285633</td><td>C57BL/6J</td><td>Ebf1+/- Pax5+/- Rag2-/- proB fetal liver</td></tr>\n",
       "\t<tr><th scope=row>10</th><td>SRR12730412</td><td>wt_BoneMar_proB_rep1     </td><td>WT     </td><td>Ebf1+/+ Pax5+/+ Rag2+/+</td><td>GSM4805169</td><td>GSM4805169</td><td>wt proB cells\\, Replicate1                                                         </td><td>SRP285633</td><td>C57BL/6J</td><td>wt proB (Fraction BC) bone marrow       </td></tr>\n",
       "\t<tr><th scope=row>11</th><td>SRR12730413</td><td>wt_BoneMar_proB_rep2     </td><td>WT     </td><td>Ebf1+/+ Pax5+/+ Rag2+/+</td><td>GSM4805170</td><td>GSM4805170</td><td>wt proB cells\\, Replicate2                                                         </td><td>SRP285633</td><td>C57BL/6J</td><td>wt proB (Fraction BC) bone marrow       </td></tr>\n",
       "</tbody>\n",
       "</table>\n"
      ],
      "text/latex": [
       "A data.frame: 11 x 10\n",
       "\\begin{tabular}{r|llllllllll}\n",
       "  & SampleID & SampleName & Condition & Genotype & GEO\\_Accession..exp. & Sample.Name & source\\_name & SRA.Study & Strain & Tissue\\\\\n",
       "  & <chr> & <chr> & <chr> & <chr> & <chr> & <chr> & <chr> & <chr> & <chr> & <chr>\\\\\n",
       "\\hline\n",
       "\t1 & SRR12730403 & dHet\\_B-ALL\\_686\\_rep1       & dHet    & Ebf1+/- Pax5+/-         & GSM4805160 & GSM4805160 & Ebf1+/- Pax5+/- dHet leukemic cells derived from lymph node (mouse 686)\\textbackslash{},Replicate1 & SRP285633 & C57BL/6J & Ebf1+/- Pax5+/- lymph node              \\\\\n",
       "\t2 & SRR12730404 & dHet\\_B-ALL\\_686\\_rep2       & dHet    & Ebf1+/- Pax5+/-         & GSM4805161 & GSM4805161 & Ebf1+/- Pax5+/- dHet leukemic cells derived from lymph node (mouse 686)\\textbackslash{},Replicate2 & SRP285633 & C57BL/6J & Ebf1+/- Pax5+/- lymph node              \\\\\n",
       "\t3 & SRR12730405 & dHet\\_B-ALL\\_713\\_rep1       & dHet    & Ebf1+/- Pax5+/-         & GSM4805162 & GSM4805162 & Ebf1+/- Pax5+/- dHet leukemic cells derived from lymph node (mouse 713)\\textbackslash{},Replicate1 & SRP285633 & C57BL/6J & Ebf1+/- Pax5+/- lymph node              \\\\\n",
       "\t4 & SRR12730406 & dHet\\_B-ALL\\_713\\_rep2       & dHet    & Ebf1+/- Pax5+/-         & GSM4805163 & GSM4805163 & Ebf1+/- Pax5+/- dHet leukemic cells derived from lymph node (mouse 713)\\textbackslash{},Replicate2 & SRP285633 & C57BL/6J & Ebf1+/- Pax5+/- lymph node              \\\\\n",
       "\t5 & SRR12730407 & dHet\\_B-ALL\\_760\\_rep1       & dHet    & Ebf1+/- Pax5+/-         & GSM4805164 & GSM4805164 & Ebf1+/- Pax5+/- dHet leukemic cells derived from lymph node (mouse 760)\\textbackslash{},Replicate1 & SRP285633 & C57BL/6J & Ebf1+/- Pax5+/- lymph node              \\\\\n",
       "\t6 & SRR12730408 & dHet\\_B-ALL\\_760\\_rep2       & dHet    & Ebf1+/- Pax5+/-         & GSM4805165 & GSM4805165 & Ebf1+/- Pax5+/- dHet leukemic cells derived from lymph node (mouse 760)\\textbackslash{},Replicate2 & SRP285633 & C57BL/6J & Ebf1+/- Pax5+/- lymph node              \\\\\n",
       "\t7 & SRR12730409 & dHet\\_FetalLiver\\_proB\\_rep1 & dHetRag & Ebf1+/- Pax5+/- Rag2-/- & GSM4805166 & GSM4805166 & Ebf1+/- Pax5+/- dHet fetal liver proB cells\\textbackslash{},Replicate1                             & SRP285633 & C57BL/6J & Ebf1+/- Pax5+/- Rag2-/- proB fetal liver\\\\\n",
       "\t8 & SRR12730410 & dHet\\_FetalLiver\\_proB\\_rep2 & dHetRag & Ebf1+/- Pax5+/- Rag2-/- & GSM4805167 & GSM4805167 & Ebf1+/- Pax5+/- dHet fetal liver proB cells\\textbackslash{},Replicate2                             & SRP285633 & C57BL/6J & Ebf1+/- Pax5+/- Rag2-/- proB fetal liver\\\\\n",
       "\t9 & SRR12730411 & dHet\\_FetalLiver\\_proB\\_rep3 & dHetRag & Ebf1+/- Pax5+/- Rag2-/- & GSM4805168 & GSM4805168 & Ebf1+/- Pax5+/- dHet fetal liver proB cells\\textbackslash{},Replicate3                             & SRP285633 & C57BL/6J & Ebf1+/- Pax5+/- Rag2-/- proB fetal liver\\\\\n",
       "\t10 & SRR12730412 & wt\\_BoneMar\\_proB\\_rep1      & WT      & Ebf1+/+ Pax5+/+ Rag2+/+ & GSM4805169 & GSM4805169 & wt proB cells\\textbackslash{}, Replicate1                                                          & SRP285633 & C57BL/6J & wt proB (Fraction BC) bone marrow       \\\\\n",
       "\t11 & SRR12730413 & wt\\_BoneMar\\_proB\\_rep2      & WT      & Ebf1+/+ Pax5+/+ Rag2+/+ & GSM4805170 & GSM4805170 & wt proB cells\\textbackslash{}, Replicate2                                                          & SRP285633 & C57BL/6J & wt proB (Fraction BC) bone marrow       \\\\\n",
       "\\end{tabular}\n"
      ],
      "text/markdown": [
       "\n",
       "A data.frame: 11 x 10\n",
       "\n",
       "| <!--/--> | SampleID &lt;chr&gt; | SampleName &lt;chr&gt; | Condition &lt;chr&gt; | Genotype &lt;chr&gt; | GEO_Accession..exp. &lt;chr&gt; | Sample.Name &lt;chr&gt; | source_name &lt;chr&gt; | SRA.Study &lt;chr&gt; | Strain &lt;chr&gt; | Tissue &lt;chr&gt; |\n",
       "|---|---|---|---|---|---|---|---|---|---|---|\n",
       "| 1 | SRR12730403 | dHet_B-ALL_686_rep1       | dHet    | Ebf1+/- Pax5+/-         | GSM4805160 | GSM4805160 | Ebf1+/- Pax5+/- dHet leukemic cells derived from lymph node (mouse 686)\\,Replicate1 | SRP285633 | C57BL/6J | Ebf1+/- Pax5+/- lymph node               |\n",
       "| 2 | SRR12730404 | dHet_B-ALL_686_rep2       | dHet    | Ebf1+/- Pax5+/-         | GSM4805161 | GSM4805161 | Ebf1+/- Pax5+/- dHet leukemic cells derived from lymph node (mouse 686)\\,Replicate2 | SRP285633 | C57BL/6J | Ebf1+/- Pax5+/- lymph node               |\n",
       "| 3 | SRR12730405 | dHet_B-ALL_713_rep1       | dHet    | Ebf1+/- Pax5+/-         | GSM4805162 | GSM4805162 | Ebf1+/- Pax5+/- dHet leukemic cells derived from lymph node (mouse 713)\\,Replicate1 | SRP285633 | C57BL/6J | Ebf1+/- Pax5+/- lymph node               |\n",
       "| 4 | SRR12730406 | dHet_B-ALL_713_rep2       | dHet    | Ebf1+/- Pax5+/-         | GSM4805163 | GSM4805163 | Ebf1+/- Pax5+/- dHet leukemic cells derived from lymph node (mouse 713)\\,Replicate2 | SRP285633 | C57BL/6J | Ebf1+/- Pax5+/- lymph node               |\n",
       "| 5 | SRR12730407 | dHet_B-ALL_760_rep1       | dHet    | Ebf1+/- Pax5+/-         | GSM4805164 | GSM4805164 | Ebf1+/- Pax5+/- dHet leukemic cells derived from lymph node (mouse 760)\\,Replicate1 | SRP285633 | C57BL/6J | Ebf1+/- Pax5+/- lymph node               |\n",
       "| 6 | SRR12730408 | dHet_B-ALL_760_rep2       | dHet    | Ebf1+/- Pax5+/-         | GSM4805165 | GSM4805165 | Ebf1+/- Pax5+/- dHet leukemic cells derived from lymph node (mouse 760)\\,Replicate2 | SRP285633 | C57BL/6J | Ebf1+/- Pax5+/- lymph node               |\n",
       "| 7 | SRR12730409 | dHet_FetalLiver_proB_rep1 | dHetRag | Ebf1+/- Pax5+/- Rag2-/- | GSM4805166 | GSM4805166 | Ebf1+/- Pax5+/- dHet fetal liver proB cells\\,Replicate1                             | SRP285633 | C57BL/6J | Ebf1+/- Pax5+/- Rag2-/- proB fetal liver |\n",
       "| 8 | SRR12730410 | dHet_FetalLiver_proB_rep2 | dHetRag | Ebf1+/- Pax5+/- Rag2-/- | GSM4805167 | GSM4805167 | Ebf1+/- Pax5+/- dHet fetal liver proB cells\\,Replicate2                             | SRP285633 | C57BL/6J | Ebf1+/- Pax5+/- Rag2-/- proB fetal liver |\n",
       "| 9 | SRR12730411 | dHet_FetalLiver_proB_rep3 | dHetRag | Ebf1+/- Pax5+/- Rag2-/- | GSM4805168 | GSM4805168 | Ebf1+/- Pax5+/- dHet fetal liver proB cells\\,Replicate3                             | SRP285633 | C57BL/6J | Ebf1+/- Pax5+/- Rag2-/- proB fetal liver |\n",
       "| 10 | SRR12730412 | wt_BoneMar_proB_rep1      | WT      | Ebf1+/+ Pax5+/+ Rag2+/+ | GSM4805169 | GSM4805169 | wt proB cells\\, Replicate1                                                          | SRP285633 | C57BL/6J | wt proB (Fraction BC) bone marrow        |\n",
       "| 11 | SRR12730413 | wt_BoneMar_proB_rep2      | WT      | Ebf1+/+ Pax5+/+ Rag2+/+ | GSM4805170 | GSM4805170 | wt proB cells\\, Replicate2                                                          | SRP285633 | C57BL/6J | wt proB (Fraction BC) bone marrow        |\n",
       "\n"
      ],
      "text/plain": [
       "   SampleID    SampleName                Condition Genotype               \n",
       "1  SRR12730403 dHet_B-ALL_686_rep1       dHet      Ebf1+/- Pax5+/-        \n",
       "2  SRR12730404 dHet_B-ALL_686_rep2       dHet      Ebf1+/- Pax5+/-        \n",
       "3  SRR12730405 dHet_B-ALL_713_rep1       dHet      Ebf1+/- Pax5+/-        \n",
       "4  SRR12730406 dHet_B-ALL_713_rep2       dHet      Ebf1+/- Pax5+/-        \n",
       "5  SRR12730407 dHet_B-ALL_760_rep1       dHet      Ebf1+/- Pax5+/-        \n",
       "6  SRR12730408 dHet_B-ALL_760_rep2       dHet      Ebf1+/- Pax5+/-        \n",
       "7  SRR12730409 dHet_FetalLiver_proB_rep1 dHetRag   Ebf1+/- Pax5+/- Rag2-/-\n",
       "8  SRR12730410 dHet_FetalLiver_proB_rep2 dHetRag   Ebf1+/- Pax5+/- Rag2-/-\n",
       "9  SRR12730411 dHet_FetalLiver_proB_rep3 dHetRag   Ebf1+/- Pax5+/- Rag2-/-\n",
       "10 SRR12730412 wt_BoneMar_proB_rep1      WT        Ebf1+/+ Pax5+/+ Rag2+/+\n",
       "11 SRR12730413 wt_BoneMar_proB_rep2      WT        Ebf1+/+ Pax5+/+ Rag2+/+\n",
       "   GEO_Accession..exp. Sample.Name\n",
       "1  GSM4805160          GSM4805160 \n",
       "2  GSM4805161          GSM4805161 \n",
       "3  GSM4805162          GSM4805162 \n",
       "4  GSM4805163          GSM4805163 \n",
       "5  GSM4805164          GSM4805164 \n",
       "6  GSM4805165          GSM4805165 \n",
       "7  GSM4805166          GSM4805166 \n",
       "8  GSM4805167          GSM4805167 \n",
       "9  GSM4805168          GSM4805168 \n",
       "10 GSM4805169          GSM4805169 \n",
       "11 GSM4805170          GSM4805170 \n",
       "   source_name                                                                         \n",
       "1  Ebf1+/- Pax5+/- dHet leukemic cells derived from lymph node (mouse 686)\\\\,Replicate1\n",
       "2  Ebf1+/- Pax5+/- dHet leukemic cells derived from lymph node (mouse 686)\\\\,Replicate2\n",
       "3  Ebf1+/- Pax5+/- dHet leukemic cells derived from lymph node (mouse 713)\\\\,Replicate1\n",
       "4  Ebf1+/- Pax5+/- dHet leukemic cells derived from lymph node (mouse 713)\\\\,Replicate2\n",
       "5  Ebf1+/- Pax5+/- dHet leukemic cells derived from lymph node (mouse 760)\\\\,Replicate1\n",
       "6  Ebf1+/- Pax5+/- dHet leukemic cells derived from lymph node (mouse 760)\\\\,Replicate2\n",
       "7  Ebf1+/- Pax5+/- dHet fetal liver proB cells\\\\,Replicate1                            \n",
       "8  Ebf1+/- Pax5+/- dHet fetal liver proB cells\\\\,Replicate2                            \n",
       "9  Ebf1+/- Pax5+/- dHet fetal liver proB cells\\\\,Replicate3                            \n",
       "10 wt proB cells\\\\, Replicate1                                                         \n",
       "11 wt proB cells\\\\, Replicate2                                                         \n",
       "   SRA.Study Strain   Tissue                                  \n",
       "1  SRP285633 C57BL/6J Ebf1+/- Pax5+/- lymph node              \n",
       "2  SRP285633 C57BL/6J Ebf1+/- Pax5+/- lymph node              \n",
       "3  SRP285633 C57BL/6J Ebf1+/- Pax5+/- lymph node              \n",
       "4  SRP285633 C57BL/6J Ebf1+/- Pax5+/- lymph node              \n",
       "5  SRP285633 C57BL/6J Ebf1+/- Pax5+/- lymph node              \n",
       "6  SRP285633 C57BL/6J Ebf1+/- Pax5+/- lymph node              \n",
       "7  SRP285633 C57BL/6J Ebf1+/- Pax5+/- Rag2-/- proB fetal liver\n",
       "8  SRP285633 C57BL/6J Ebf1+/- Pax5+/- Rag2-/- proB fetal liver\n",
       "9  SRP285633 C57BL/6J Ebf1+/- Pax5+/- Rag2-/- proB fetal liver\n",
       "10 SRP285633 C57BL/6J wt proB (Fraction BC) bone marrow       \n",
       "11 SRP285633 C57BL/6J wt proB (Fraction BC) bone marrow       "
      ]
     },
     "metadata": {},
     "output_type": "display_data"
    }
   ],
   "source": [
    "## Code cell 18 ##\n",
    "\n",
    "head(samples, n = 12)"
   ]
  },
  {
   "cell_type": "markdown",
   "id": "050d8ae4-c125-4dad-83f6-52f164bb8cbd",
   "metadata": {},
   "source": [
    "Note that samples are in rows and metadata in columns."
   ]
  },
  {
   "cell_type": "markdown",
   "id": "f615b6cf-ecdf-4319-9417-c175a0ec48a8",
   "metadata": {},
   "source": [
    "### 1.2 - STAR/feature counts raw data   \n",
    "---\n",
    "\n",
    "#### 1.2.1. Loading the data"
   ]
  },
  {
   "cell_type": "markdown",
   "id": "de0f4a26-c395-4fbb-968a-18507824fdbf",
   "metadata": {},
   "source": [
    "We copy the file with STAR/featurecounts readcounts in our personal folder from the alldata folder with the `file.copy()` function."
   ]
  },
  {
   "cell_type": "code",
   "execution_count": 19,
   "id": "7ca2f218-481e-4945-83a1-0eed116268d2",
   "metadata": {},
   "outputs": [
    {
     "data": {
      "text/html": [
       "FALSE"
      ],
      "text/latex": [
       "FALSE"
      ],
      "text/markdown": [
       "FALSE"
      ],
      "text/plain": [
       "[1] FALSE"
      ]
     },
     "metadata": {},
     "output_type": "display_data"
    }
   ],
   "source": [
    "## Code cell 19 ##\n",
    "\n",
    "file.copy(from = paste0(gohome, \"alldata/Results/featurecounts/11samples_paired-unstranded.counts\"),\n",
    "          to = datafolder)"
   ]
  },
  {
   "cell_type": "markdown",
   "id": "65e141a4-dd59-4d90-9af1-b7c2e64d86db",
   "metadata": {},
   "source": [
    "We read the tabulated table and we store the data in a dataframe named `counts`.   \n",
    "In addition to specifying the separator and the columns names, we also indicate that lines beginning with \"#\" are comments and should be ignored."
   ]
  },
  {
   "cell_type": "code",
   "execution_count": 20,
   "id": "541fe4f9-4878-44eb-84d6-1f44c73ce781",
   "metadata": {},
   "outputs": [],
   "source": [
    "## Code cell 20 ##\n",
    "\n",
    "countdata <- read.table(paste0(datafolder, \"11samples_paired-unstranded.counts\"),\n",
    "                     sep = \"\\t\",\n",
    "                     header = TRUE,\n",
    "                     comment=\"#\")"
   ]
  },
  {
   "cell_type": "code",
   "execution_count": 21,
   "id": "f324059a-eaf6-422b-9595-8115f1561f2b",
   "metadata": {},
   "outputs": [
    {
     "data": {
      "text/html": [
       "'data.frame'"
      ],
      "text/latex": [
       "'data.frame'"
      ],
      "text/markdown": [
       "'data.frame'"
      ],
      "text/plain": [
       "[1] \"data.frame\""
      ]
     },
     "metadata": {},
     "output_type": "display_data"
    }
   ],
   "source": [
    "## Code cell 21 ##\n",
    "\n",
    "class(countdata)"
   ]
  },
  {
   "cell_type": "code",
   "execution_count": 22,
   "id": "a0859f7b-c9f1-4d8d-b4fc-eb116f6159f6",
   "metadata": {},
   "outputs": [
    {
     "name": "stdout",
     "output_type": "stream",
     "text": [
      "'data.frame':\t57186 obs. of  17 variables:\n",
      " $ Geneid                                                                                               : chr  \"ENSMUSG00000102693.2\" \"ENSMUSG00000064842.3\" \"ENSMUSG00000051951.6\" \"ENSMUSG00000102851.2\" ...\n",
      " $ Chr                                                                                                  : chr  \"chr1\" \"chr1\" \"chr1;chr1;chr1;chr1;chr1;chr1;chr1\" \"chr1\" ...\n",
      " $ Start                                                                                                : chr  \"3143476\" \"3172239\" \"3276124;3276746;3283662;3283832;3284705;3491925;3740775\" \"3322980\" ...\n",
      " $ End                                                                                                  : chr  \"3144545\" \"3172348\" \"3277540;3277540;3285855;3286567;3287191;3492124;3741721\" \"3323459\" ...\n",
      " $ Strand                                                                                               : chr  \"+\" \"+\" \"-;-;-;-;-;-;-\" \"+\" ...\n",
      " $ Length                                                                                               : int  1070 110 6094 480 2819 2233 2309 250 2057 926 ...\n",
      " $ X.shared.projects.2413_rnaseq_cea.alldata.Results.featurecounts.SRR12730403_Aligned.sortedByNames.bam: int  0 0 0 0 0 0 0 0 0 0 ...\n",
      " $ X.shared.projects.2413_rnaseq_cea.alldata.Results.featurecounts.SRR12730404_Aligned.sortedByNames.bam: int  0 0 0 0 0 0 0 0 0 0 ...\n",
      " $ X.shared.projects.2413_rnaseq_cea.alldata.Results.featurecounts.SRR12730405_Aligned.sortedByNames.bam: int  0 0 0 0 0 0 0 0 0 0 ...\n",
      " $ X.shared.projects.2413_rnaseq_cea.alldata.Results.featurecounts.SRR12730406_Aligned.sortedByNames.bam: int  0 0 0 0 0 0 0 0 0 2 ...\n",
      " $ X.shared.projects.2413_rnaseq_cea.alldata.Results.featurecounts.SRR12730407_Aligned.sortedByNames.bam: int  0 0 0 0 0 0 0 0 0 0 ...\n",
      " $ X.shared.projects.2413_rnaseq_cea.alldata.Results.featurecounts.SRR12730408_Aligned.sortedByNames.bam: int  0 0 0 0 0 0 0 0 0 0 ...\n",
      " $ X.shared.projects.2413_rnaseq_cea.alldata.Results.featurecounts.SRR12730409_Aligned.sortedByNames.bam: int  0 0 0 0 0 0 0 0 0 0 ...\n",
      " $ X.shared.projects.2413_rnaseq_cea.alldata.Results.featurecounts.SRR12730410_Aligned.sortedByNames.bam: int  0 0 2 0 0 0 0 0 0 0 ...\n",
      " $ X.shared.projects.2413_rnaseq_cea.alldata.Results.featurecounts.SRR12730411_Aligned.sortedByNames.bam: int  0 0 0 0 0 0 0 0 0 0 ...\n",
      " $ X.shared.projects.2413_rnaseq_cea.alldata.Results.featurecounts.SRR12730412_Aligned.sortedByNames.bam: int  0 0 0 0 0 0 0 0 0 0 ...\n",
      " $ X.shared.projects.2413_rnaseq_cea.alldata.Results.featurecounts.SRR12730413_Aligned.sortedByNames.bam: int  0 0 0 1 0 0 0 0 0 0 ...\n"
     ]
    }
   ],
   "source": [
    "## Code cell 22 ##\n",
    "\n",
    "str(countdata)"
   ]
  },
  {
   "cell_type": "code",
   "execution_count": 23,
   "id": "877a3b78-06ee-4c55-abb2-de0695a5b120",
   "metadata": {},
   "outputs": [
    {
     "data": {
      "text/html": [
       "<table class=\"dataframe\">\n",
       "<caption>A data.frame: 6 x 17</caption>\n",
       "<thead>\n",
       "\t<tr><th></th><th scope=col>Geneid</th><th scope=col>Chr</th><th scope=col>Start</th><th scope=col>End</th><th scope=col>Strand</th><th scope=col>Length</th><th scope=col>X.shared.projects.2413_rnaseq_cea.alldata.Results.featurecounts.SRR12730403_Aligned.sortedByNames.bam</th><th scope=col>X.shared.projects.2413_rnaseq_cea.alldata.Results.featurecounts.SRR12730404_Aligned.sortedByNames.bam</th><th scope=col>X.shared.projects.2413_rnaseq_cea.alldata.Results.featurecounts.SRR12730405_Aligned.sortedByNames.bam</th><th scope=col>X.shared.projects.2413_rnaseq_cea.alldata.Results.featurecounts.SRR12730406_Aligned.sortedByNames.bam</th><th scope=col>X.shared.projects.2413_rnaseq_cea.alldata.Results.featurecounts.SRR12730407_Aligned.sortedByNames.bam</th><th scope=col>X.shared.projects.2413_rnaseq_cea.alldata.Results.featurecounts.SRR12730408_Aligned.sortedByNames.bam</th><th scope=col>X.shared.projects.2413_rnaseq_cea.alldata.Results.featurecounts.SRR12730409_Aligned.sortedByNames.bam</th><th scope=col>X.shared.projects.2413_rnaseq_cea.alldata.Results.featurecounts.SRR12730410_Aligned.sortedByNames.bam</th><th scope=col>X.shared.projects.2413_rnaseq_cea.alldata.Results.featurecounts.SRR12730411_Aligned.sortedByNames.bam</th><th scope=col>X.shared.projects.2413_rnaseq_cea.alldata.Results.featurecounts.SRR12730412_Aligned.sortedByNames.bam</th><th scope=col>X.shared.projects.2413_rnaseq_cea.alldata.Results.featurecounts.SRR12730413_Aligned.sortedByNames.bam</th></tr>\n",
       "\t<tr><th></th><th scope=col>&lt;chr&gt;</th><th scope=col>&lt;chr&gt;</th><th scope=col>&lt;chr&gt;</th><th scope=col>&lt;chr&gt;</th><th scope=col>&lt;chr&gt;</th><th scope=col>&lt;int&gt;</th><th scope=col>&lt;int&gt;</th><th scope=col>&lt;int&gt;</th><th scope=col>&lt;int&gt;</th><th scope=col>&lt;int&gt;</th><th scope=col>&lt;int&gt;</th><th scope=col>&lt;int&gt;</th><th scope=col>&lt;int&gt;</th><th scope=col>&lt;int&gt;</th><th scope=col>&lt;int&gt;</th><th scope=col>&lt;int&gt;</th><th scope=col>&lt;int&gt;</th></tr>\n",
       "</thead>\n",
       "<tbody>\n",
       "\t<tr><th scope=row>1</th><td>ENSMUSG00000102693.2</td><td>chr1                              </td><td>3143476                                                </td><td>3144545                                                </td><td>+            </td><td>1070</td><td>0</td><td>0</td><td>0</td><td>0</td><td>0</td><td>0</td><td>0</td><td>0</td><td>0</td><td>0</td><td>0</td></tr>\n",
       "\t<tr><th scope=row>2</th><td>ENSMUSG00000064842.3</td><td>chr1                              </td><td>3172239                                                </td><td>3172348                                                </td><td>+            </td><td> 110</td><td>0</td><td>0</td><td>0</td><td>0</td><td>0</td><td>0</td><td>0</td><td>0</td><td>0</td><td>0</td><td>0</td></tr>\n",
       "\t<tr><th scope=row>3</th><td>ENSMUSG00000051951.6</td><td>chr1;chr1;chr1;chr1;chr1;chr1;chr1</td><td>3276124;3276746;3283662;3283832;3284705;3491925;3740775</td><td>3277540;3277540;3285855;3286567;3287191;3492124;3741721</td><td>-;-;-;-;-;-;-</td><td>6094</td><td>0</td><td>0</td><td>0</td><td>0</td><td>0</td><td>0</td><td>0</td><td>2</td><td>0</td><td>0</td><td>0</td></tr>\n",
       "\t<tr><th scope=row>4</th><td>ENSMUSG00000102851.2</td><td>chr1                              </td><td>3322980                                                </td><td>3323459                                                </td><td>+            </td><td> 480</td><td>0</td><td>0</td><td>0</td><td>0</td><td>0</td><td>0</td><td>0</td><td>0</td><td>0</td><td>0</td><td>1</td></tr>\n",
       "\t<tr><th scope=row>5</th><td>ENSMUSG00000103377.2</td><td>chr1                              </td><td>3435954                                                </td><td>3438772                                                </td><td>-            </td><td>2819</td><td>0</td><td>0</td><td>0</td><td>0</td><td>0</td><td>0</td><td>0</td><td>0</td><td>0</td><td>0</td><td>0</td></tr>\n",
       "\t<tr><th scope=row>6</th><td>ENSMUSG00000104017.2</td><td>chr1                              </td><td>3445779                                                </td><td>3448011                                                </td><td>-            </td><td>2233</td><td>0</td><td>0</td><td>0</td><td>0</td><td>0</td><td>0</td><td>0</td><td>0</td><td>0</td><td>0</td><td>0</td></tr>\n",
       "</tbody>\n",
       "</table>\n"
      ],
      "text/latex": [
       "A data.frame: 6 x 17\n",
       "\\begin{tabular}{r|lllllllllllllllll}\n",
       "  & Geneid & Chr & Start & End & Strand & Length & X.shared.projects.2413\\_rnaseq\\_cea.alldata.Results.featurecounts.SRR12730403\\_Aligned.sortedByNames.bam & X.shared.projects.2413\\_rnaseq\\_cea.alldata.Results.featurecounts.SRR12730404\\_Aligned.sortedByNames.bam & X.shared.projects.2413\\_rnaseq\\_cea.alldata.Results.featurecounts.SRR12730405\\_Aligned.sortedByNames.bam & X.shared.projects.2413\\_rnaseq\\_cea.alldata.Results.featurecounts.SRR12730406\\_Aligned.sortedByNames.bam & X.shared.projects.2413\\_rnaseq\\_cea.alldata.Results.featurecounts.SRR12730407\\_Aligned.sortedByNames.bam & X.shared.projects.2413\\_rnaseq\\_cea.alldata.Results.featurecounts.SRR12730408\\_Aligned.sortedByNames.bam & X.shared.projects.2413\\_rnaseq\\_cea.alldata.Results.featurecounts.SRR12730409\\_Aligned.sortedByNames.bam & X.shared.projects.2413\\_rnaseq\\_cea.alldata.Results.featurecounts.SRR12730410\\_Aligned.sortedByNames.bam & X.shared.projects.2413\\_rnaseq\\_cea.alldata.Results.featurecounts.SRR12730411\\_Aligned.sortedByNames.bam & X.shared.projects.2413\\_rnaseq\\_cea.alldata.Results.featurecounts.SRR12730412\\_Aligned.sortedByNames.bam & X.shared.projects.2413\\_rnaseq\\_cea.alldata.Results.featurecounts.SRR12730413\\_Aligned.sortedByNames.bam\\\\\n",
       "  & <chr> & <chr> & <chr> & <chr> & <chr> & <int> & <int> & <int> & <int> & <int> & <int> & <int> & <int> & <int> & <int> & <int> & <int>\\\\\n",
       "\\hline\n",
       "\t1 & ENSMUSG00000102693.2 & chr1                               & 3143476                                                 & 3144545                                                 & +             & 1070 & 0 & 0 & 0 & 0 & 0 & 0 & 0 & 0 & 0 & 0 & 0\\\\\n",
       "\t2 & ENSMUSG00000064842.3 & chr1                               & 3172239                                                 & 3172348                                                 & +             &  110 & 0 & 0 & 0 & 0 & 0 & 0 & 0 & 0 & 0 & 0 & 0\\\\\n",
       "\t3 & ENSMUSG00000051951.6 & chr1;chr1;chr1;chr1;chr1;chr1;chr1 & 3276124;3276746;3283662;3283832;3284705;3491925;3740775 & 3277540;3277540;3285855;3286567;3287191;3492124;3741721 & -;-;-;-;-;-;- & 6094 & 0 & 0 & 0 & 0 & 0 & 0 & 0 & 2 & 0 & 0 & 0\\\\\n",
       "\t4 & ENSMUSG00000102851.2 & chr1                               & 3322980                                                 & 3323459                                                 & +             &  480 & 0 & 0 & 0 & 0 & 0 & 0 & 0 & 0 & 0 & 0 & 1\\\\\n",
       "\t5 & ENSMUSG00000103377.2 & chr1                               & 3435954                                                 & 3438772                                                 & -             & 2819 & 0 & 0 & 0 & 0 & 0 & 0 & 0 & 0 & 0 & 0 & 0\\\\\n",
       "\t6 & ENSMUSG00000104017.2 & chr1                               & 3445779                                                 & 3448011                                                 & -             & 2233 & 0 & 0 & 0 & 0 & 0 & 0 & 0 & 0 & 0 & 0 & 0\\\\\n",
       "\\end{tabular}\n"
      ],
      "text/markdown": [
       "\n",
       "A data.frame: 6 x 17\n",
       "\n",
       "| <!--/--> | Geneid &lt;chr&gt; | Chr &lt;chr&gt; | Start &lt;chr&gt; | End &lt;chr&gt; | Strand &lt;chr&gt; | Length &lt;int&gt; | X.shared.projects.2413_rnaseq_cea.alldata.Results.featurecounts.SRR12730403_Aligned.sortedByNames.bam &lt;int&gt; | X.shared.projects.2413_rnaseq_cea.alldata.Results.featurecounts.SRR12730404_Aligned.sortedByNames.bam &lt;int&gt; | X.shared.projects.2413_rnaseq_cea.alldata.Results.featurecounts.SRR12730405_Aligned.sortedByNames.bam &lt;int&gt; | X.shared.projects.2413_rnaseq_cea.alldata.Results.featurecounts.SRR12730406_Aligned.sortedByNames.bam &lt;int&gt; | X.shared.projects.2413_rnaseq_cea.alldata.Results.featurecounts.SRR12730407_Aligned.sortedByNames.bam &lt;int&gt; | X.shared.projects.2413_rnaseq_cea.alldata.Results.featurecounts.SRR12730408_Aligned.sortedByNames.bam &lt;int&gt; | X.shared.projects.2413_rnaseq_cea.alldata.Results.featurecounts.SRR12730409_Aligned.sortedByNames.bam &lt;int&gt; | X.shared.projects.2413_rnaseq_cea.alldata.Results.featurecounts.SRR12730410_Aligned.sortedByNames.bam &lt;int&gt; | X.shared.projects.2413_rnaseq_cea.alldata.Results.featurecounts.SRR12730411_Aligned.sortedByNames.bam &lt;int&gt; | X.shared.projects.2413_rnaseq_cea.alldata.Results.featurecounts.SRR12730412_Aligned.sortedByNames.bam &lt;int&gt; | X.shared.projects.2413_rnaseq_cea.alldata.Results.featurecounts.SRR12730413_Aligned.sortedByNames.bam &lt;int&gt; |\n",
       "|---|---|---|---|---|---|---|---|---|---|---|---|---|---|---|---|---|---|\n",
       "| 1 | ENSMUSG00000102693.2 | chr1                               | 3143476                                                 | 3144545                                                 | +             | 1070 | 0 | 0 | 0 | 0 | 0 | 0 | 0 | 0 | 0 | 0 | 0 |\n",
       "| 2 | ENSMUSG00000064842.3 | chr1                               | 3172239                                                 | 3172348                                                 | +             |  110 | 0 | 0 | 0 | 0 | 0 | 0 | 0 | 0 | 0 | 0 | 0 |\n",
       "| 3 | ENSMUSG00000051951.6 | chr1;chr1;chr1;chr1;chr1;chr1;chr1 | 3276124;3276746;3283662;3283832;3284705;3491925;3740775 | 3277540;3277540;3285855;3286567;3287191;3492124;3741721 | -;-;-;-;-;-;- | 6094 | 0 | 0 | 0 | 0 | 0 | 0 | 0 | 2 | 0 | 0 | 0 |\n",
       "| 4 | ENSMUSG00000102851.2 | chr1                               | 3322980                                                 | 3323459                                                 | +             |  480 | 0 | 0 | 0 | 0 | 0 | 0 | 0 | 0 | 0 | 0 | 1 |\n",
       "| 5 | ENSMUSG00000103377.2 | chr1                               | 3435954                                                 | 3438772                                                 | -             | 2819 | 0 | 0 | 0 | 0 | 0 | 0 | 0 | 0 | 0 | 0 | 0 |\n",
       "| 6 | ENSMUSG00000104017.2 | chr1                               | 3445779                                                 | 3448011                                                 | -             | 2233 | 0 | 0 | 0 | 0 | 0 | 0 | 0 | 0 | 0 | 0 | 0 |\n",
       "\n"
      ],
      "text/plain": [
       "  Geneid               Chr                               \n",
       "1 ENSMUSG00000102693.2 chr1                              \n",
       "2 ENSMUSG00000064842.3 chr1                              \n",
       "3 ENSMUSG00000051951.6 chr1;chr1;chr1;chr1;chr1;chr1;chr1\n",
       "4 ENSMUSG00000102851.2 chr1                              \n",
       "5 ENSMUSG00000103377.2 chr1                              \n",
       "6 ENSMUSG00000104017.2 chr1                              \n",
       "  Start                                                  \n",
       "1 3143476                                                \n",
       "2 3172239                                                \n",
       "3 3276124;3276746;3283662;3283832;3284705;3491925;3740775\n",
       "4 3322980                                                \n",
       "5 3435954                                                \n",
       "6 3445779                                                \n",
       "  End                                                     Strand        Length\n",
       "1 3144545                                                 +             1070  \n",
       "2 3172348                                                 +              110  \n",
       "3 3277540;3277540;3285855;3286567;3287191;3492124;3741721 -;-;-;-;-;-;- 6094  \n",
       "4 3323459                                                 +              480  \n",
       "5 3438772                                                 -             2819  \n",
       "6 3448011                                                 -             2233  \n",
       "  X.shared.projects.2413_rnaseq_cea.alldata.Results.featurecounts.SRR12730403_Aligned.sortedByNames.bam\n",
       "1 0                                                                                                    \n",
       "2 0                                                                                                    \n",
       "3 0                                                                                                    \n",
       "4 0                                                                                                    \n",
       "5 0                                                                                                    \n",
       "6 0                                                                                                    \n",
       "  X.shared.projects.2413_rnaseq_cea.alldata.Results.featurecounts.SRR12730404_Aligned.sortedByNames.bam\n",
       "1 0                                                                                                    \n",
       "2 0                                                                                                    \n",
       "3 0                                                                                                    \n",
       "4 0                                                                                                    \n",
       "5 0                                                                                                    \n",
       "6 0                                                                                                    \n",
       "  X.shared.projects.2413_rnaseq_cea.alldata.Results.featurecounts.SRR12730405_Aligned.sortedByNames.bam\n",
       "1 0                                                                                                    \n",
       "2 0                                                                                                    \n",
       "3 0                                                                                                    \n",
       "4 0                                                                                                    \n",
       "5 0                                                                                                    \n",
       "6 0                                                                                                    \n",
       "  X.shared.projects.2413_rnaseq_cea.alldata.Results.featurecounts.SRR12730406_Aligned.sortedByNames.bam\n",
       "1 0                                                                                                    \n",
       "2 0                                                                                                    \n",
       "3 0                                                                                                    \n",
       "4 0                                                                                                    \n",
       "5 0                                                                                                    \n",
       "6 0                                                                                                    \n",
       "  X.shared.projects.2413_rnaseq_cea.alldata.Results.featurecounts.SRR12730407_Aligned.sortedByNames.bam\n",
       "1 0                                                                                                    \n",
       "2 0                                                                                                    \n",
       "3 0                                                                                                    \n",
       "4 0                                                                                                    \n",
       "5 0                                                                                                    \n",
       "6 0                                                                                                    \n",
       "  X.shared.projects.2413_rnaseq_cea.alldata.Results.featurecounts.SRR12730408_Aligned.sortedByNames.bam\n",
       "1 0                                                                                                    \n",
       "2 0                                                                                                    \n",
       "3 0                                                                                                    \n",
       "4 0                                                                                                    \n",
       "5 0                                                                                                    \n",
       "6 0                                                                                                    \n",
       "  X.shared.projects.2413_rnaseq_cea.alldata.Results.featurecounts.SRR12730409_Aligned.sortedByNames.bam\n",
       "1 0                                                                                                    \n",
       "2 0                                                                                                    \n",
       "3 0                                                                                                    \n",
       "4 0                                                                                                    \n",
       "5 0                                                                                                    \n",
       "6 0                                                                                                    \n",
       "  X.shared.projects.2413_rnaseq_cea.alldata.Results.featurecounts.SRR12730410_Aligned.sortedByNames.bam\n",
       "1 0                                                                                                    \n",
       "2 0                                                                                                    \n",
       "3 2                                                                                                    \n",
       "4 0                                                                                                    \n",
       "5 0                                                                                                    \n",
       "6 0                                                                                                    \n",
       "  X.shared.projects.2413_rnaseq_cea.alldata.Results.featurecounts.SRR12730411_Aligned.sortedByNames.bam\n",
       "1 0                                                                                                    \n",
       "2 0                                                                                                    \n",
       "3 0                                                                                                    \n",
       "4 0                                                                                                    \n",
       "5 0                                                                                                    \n",
       "6 0                                                                                                    \n",
       "  X.shared.projects.2413_rnaseq_cea.alldata.Results.featurecounts.SRR12730412_Aligned.sortedByNames.bam\n",
       "1 0                                                                                                    \n",
       "2 0                                                                                                    \n",
       "3 0                                                                                                    \n",
       "4 0                                                                                                    \n",
       "5 0                                                                                                    \n",
       "6 0                                                                                                    \n",
       "  X.shared.projects.2413_rnaseq_cea.alldata.Results.featurecounts.SRR12730413_Aligned.sortedByNames.bam\n",
       "1 0                                                                                                    \n",
       "2 0                                                                                                    \n",
       "3 0                                                                                                    \n",
       "4 1                                                                                                    \n",
       "5 0                                                                                                    \n",
       "6 0                                                                                                    "
      ]
     },
     "metadata": {},
     "output_type": "display_data"
    }
   ],
   "source": [
    "## Code cell 23 ##\n",
    "\n",
    "head(countdata)"
   ]
  },
  {
   "cell_type": "markdown",
   "id": "d3c07c13-0c83-4de3-a7a7-42f99b9c0cf7",
   "metadata": {},
   "source": [
    "Note that each row corresponds to a gene, with the first 6 columns providing Ensembl/Gencode gene annotations. The next columns correspond to our samples."
   ]
  },
  {
   "cell_type": "markdown",
   "id": "6d050491-d9ea-4516-8be6-7ce06ef790c5",
   "metadata": {},
   "source": [
    "---\n",
    "#### 1.2.2 - Counts data formatting\n"
   ]
  },
  {
   "cell_type": "markdown",
   "id": "422ad4dc-f40b-4836-9d4b-131cb23d3332",
   "metadata": {},
   "source": [
    "- **removing useless columns**\n",
    "\n",
    "The `countdata`dataframe contains some columns which are irrelevant for our current analysis and will be removed.\n",
    "These include the chromosome numbers, start and end positions, strand and gene length (columns 2 to 6). We don't need this information to perform the exploratory and differential expression analysis, hence we drop these with the following code. We however keep the geneID in the first column *(better than as row names)*. Thus, if we want to get only the columns of data counts without the geneID, we will have to use either `countdata[,-1]` or `countdata[,2:12])`."
   ]
  },
  {
   "cell_type": "markdown",
   "id": "4f231865-0789-4290-83a1-9d91b0b722ad",
   "metadata": {
    "tags": []
   },
   "source": [
    "<div class=\"alert alert-block alert-warning\"> <b> Warning: </b><br>\n",
    "<b>R is extremely memory-consuming</b>. It is not recommanded to keep redundant R objects in a session. While formating the <code>countdata</code> object in this section, and filtering it in the next one, we will replace it by itself after each step. Thus, be careful to run the cells in the right order. If you have a doubt at some point, go back to cell 13 to start again from the initial dataframe</div>"
   ]
  },
  {
   "cell_type": "code",
   "execution_count": 24,
   "id": "24f85d15-2180-4695-9e8b-205207aa177e",
   "metadata": {},
   "outputs": [
    {
     "name": "stdout",
     "output_type": "stream",
     "text": [
      "'data.frame':\t57186 obs. of  12 variables:\n",
      " $ Geneid                                                                                               : chr  \"ENSMUSG00000102693.2\" \"ENSMUSG00000064842.3\" \"ENSMUSG00000051951.6\" \"ENSMUSG00000102851.2\" ...\n",
      " $ X.shared.projects.2413_rnaseq_cea.alldata.Results.featurecounts.SRR12730403_Aligned.sortedByNames.bam: int  0 0 0 0 0 0 0 0 0 0 ...\n",
      " $ X.shared.projects.2413_rnaseq_cea.alldata.Results.featurecounts.SRR12730404_Aligned.sortedByNames.bam: int  0 0 0 0 0 0 0 0 0 0 ...\n",
      " $ X.shared.projects.2413_rnaseq_cea.alldata.Results.featurecounts.SRR12730405_Aligned.sortedByNames.bam: int  0 0 0 0 0 0 0 0 0 0 ...\n",
      " $ X.shared.projects.2413_rnaseq_cea.alldata.Results.featurecounts.SRR12730406_Aligned.sortedByNames.bam: int  0 0 0 0 0 0 0 0 0 2 ...\n",
      " $ X.shared.projects.2413_rnaseq_cea.alldata.Results.featurecounts.SRR12730407_Aligned.sortedByNames.bam: int  0 0 0 0 0 0 0 0 0 0 ...\n",
      " $ X.shared.projects.2413_rnaseq_cea.alldata.Results.featurecounts.SRR12730408_Aligned.sortedByNames.bam: int  0 0 0 0 0 0 0 0 0 0 ...\n",
      " $ X.shared.projects.2413_rnaseq_cea.alldata.Results.featurecounts.SRR12730409_Aligned.sortedByNames.bam: int  0 0 0 0 0 0 0 0 0 0 ...\n",
      " $ X.shared.projects.2413_rnaseq_cea.alldata.Results.featurecounts.SRR12730410_Aligned.sortedByNames.bam: int  0 0 2 0 0 0 0 0 0 0 ...\n",
      " $ X.shared.projects.2413_rnaseq_cea.alldata.Results.featurecounts.SRR12730411_Aligned.sortedByNames.bam: int  0 0 0 0 0 0 0 0 0 0 ...\n",
      " $ X.shared.projects.2413_rnaseq_cea.alldata.Results.featurecounts.SRR12730412_Aligned.sortedByNames.bam: int  0 0 0 0 0 0 0 0 0 0 ...\n",
      " $ X.shared.projects.2413_rnaseq_cea.alldata.Results.featurecounts.SRR12730413_Aligned.sortedByNames.bam: int  0 0 0 1 0 0 0 0 0 0 ...\n"
     ]
    },
    {
     "data": {
      "text/html": [
       "<table class=\"dataframe\">\n",
       "<caption>A data.frame: 6 x 12</caption>\n",
       "<thead>\n",
       "\t<tr><th></th><th scope=col>Geneid</th><th scope=col>X.shared.projects.2413_rnaseq_cea.alldata.Results.featurecounts.SRR12730403_Aligned.sortedByNames.bam</th><th scope=col>X.shared.projects.2413_rnaseq_cea.alldata.Results.featurecounts.SRR12730404_Aligned.sortedByNames.bam</th><th scope=col>X.shared.projects.2413_rnaseq_cea.alldata.Results.featurecounts.SRR12730405_Aligned.sortedByNames.bam</th><th scope=col>X.shared.projects.2413_rnaseq_cea.alldata.Results.featurecounts.SRR12730406_Aligned.sortedByNames.bam</th><th scope=col>X.shared.projects.2413_rnaseq_cea.alldata.Results.featurecounts.SRR12730407_Aligned.sortedByNames.bam</th><th scope=col>X.shared.projects.2413_rnaseq_cea.alldata.Results.featurecounts.SRR12730408_Aligned.sortedByNames.bam</th><th scope=col>X.shared.projects.2413_rnaseq_cea.alldata.Results.featurecounts.SRR12730409_Aligned.sortedByNames.bam</th><th scope=col>X.shared.projects.2413_rnaseq_cea.alldata.Results.featurecounts.SRR12730410_Aligned.sortedByNames.bam</th><th scope=col>X.shared.projects.2413_rnaseq_cea.alldata.Results.featurecounts.SRR12730411_Aligned.sortedByNames.bam</th><th scope=col>X.shared.projects.2413_rnaseq_cea.alldata.Results.featurecounts.SRR12730412_Aligned.sortedByNames.bam</th><th scope=col>X.shared.projects.2413_rnaseq_cea.alldata.Results.featurecounts.SRR12730413_Aligned.sortedByNames.bam</th></tr>\n",
       "\t<tr><th></th><th scope=col>&lt;chr&gt;</th><th scope=col>&lt;int&gt;</th><th scope=col>&lt;int&gt;</th><th scope=col>&lt;int&gt;</th><th scope=col>&lt;int&gt;</th><th scope=col>&lt;int&gt;</th><th scope=col>&lt;int&gt;</th><th scope=col>&lt;int&gt;</th><th scope=col>&lt;int&gt;</th><th scope=col>&lt;int&gt;</th><th scope=col>&lt;int&gt;</th><th scope=col>&lt;int&gt;</th></tr>\n",
       "</thead>\n",
       "<tbody>\n",
       "\t<tr><th scope=row>1</th><td>ENSMUSG00000102693.2</td><td>0</td><td>0</td><td>0</td><td>0</td><td>0</td><td>0</td><td>0</td><td>0</td><td>0</td><td>0</td><td>0</td></tr>\n",
       "\t<tr><th scope=row>2</th><td>ENSMUSG00000064842.3</td><td>0</td><td>0</td><td>0</td><td>0</td><td>0</td><td>0</td><td>0</td><td>0</td><td>0</td><td>0</td><td>0</td></tr>\n",
       "\t<tr><th scope=row>3</th><td>ENSMUSG00000051951.6</td><td>0</td><td>0</td><td>0</td><td>0</td><td>0</td><td>0</td><td>0</td><td>2</td><td>0</td><td>0</td><td>0</td></tr>\n",
       "\t<tr><th scope=row>4</th><td>ENSMUSG00000102851.2</td><td>0</td><td>0</td><td>0</td><td>0</td><td>0</td><td>0</td><td>0</td><td>0</td><td>0</td><td>0</td><td>1</td></tr>\n",
       "\t<tr><th scope=row>5</th><td>ENSMUSG00000103377.2</td><td>0</td><td>0</td><td>0</td><td>0</td><td>0</td><td>0</td><td>0</td><td>0</td><td>0</td><td>0</td><td>0</td></tr>\n",
       "\t<tr><th scope=row>6</th><td>ENSMUSG00000104017.2</td><td>0</td><td>0</td><td>0</td><td>0</td><td>0</td><td>0</td><td>0</td><td>0</td><td>0</td><td>0</td><td>0</td></tr>\n",
       "</tbody>\n",
       "</table>\n"
      ],
      "text/latex": [
       "A data.frame: 6 x 12\n",
       "\\begin{tabular}{r|llllllllllll}\n",
       "  & Geneid & X.shared.projects.2413\\_rnaseq\\_cea.alldata.Results.featurecounts.SRR12730403\\_Aligned.sortedByNames.bam & X.shared.projects.2413\\_rnaseq\\_cea.alldata.Results.featurecounts.SRR12730404\\_Aligned.sortedByNames.bam & X.shared.projects.2413\\_rnaseq\\_cea.alldata.Results.featurecounts.SRR12730405\\_Aligned.sortedByNames.bam & X.shared.projects.2413\\_rnaseq\\_cea.alldata.Results.featurecounts.SRR12730406\\_Aligned.sortedByNames.bam & X.shared.projects.2413\\_rnaseq\\_cea.alldata.Results.featurecounts.SRR12730407\\_Aligned.sortedByNames.bam & X.shared.projects.2413\\_rnaseq\\_cea.alldata.Results.featurecounts.SRR12730408\\_Aligned.sortedByNames.bam & X.shared.projects.2413\\_rnaseq\\_cea.alldata.Results.featurecounts.SRR12730409\\_Aligned.sortedByNames.bam & X.shared.projects.2413\\_rnaseq\\_cea.alldata.Results.featurecounts.SRR12730410\\_Aligned.sortedByNames.bam & X.shared.projects.2413\\_rnaseq\\_cea.alldata.Results.featurecounts.SRR12730411\\_Aligned.sortedByNames.bam & X.shared.projects.2413\\_rnaseq\\_cea.alldata.Results.featurecounts.SRR12730412\\_Aligned.sortedByNames.bam & X.shared.projects.2413\\_rnaseq\\_cea.alldata.Results.featurecounts.SRR12730413\\_Aligned.sortedByNames.bam\\\\\n",
       "  & <chr> & <int> & <int> & <int> & <int> & <int> & <int> & <int> & <int> & <int> & <int> & <int>\\\\\n",
       "\\hline\n",
       "\t1 & ENSMUSG00000102693.2 & 0 & 0 & 0 & 0 & 0 & 0 & 0 & 0 & 0 & 0 & 0\\\\\n",
       "\t2 & ENSMUSG00000064842.3 & 0 & 0 & 0 & 0 & 0 & 0 & 0 & 0 & 0 & 0 & 0\\\\\n",
       "\t3 & ENSMUSG00000051951.6 & 0 & 0 & 0 & 0 & 0 & 0 & 0 & 2 & 0 & 0 & 0\\\\\n",
       "\t4 & ENSMUSG00000102851.2 & 0 & 0 & 0 & 0 & 0 & 0 & 0 & 0 & 0 & 0 & 1\\\\\n",
       "\t5 & ENSMUSG00000103377.2 & 0 & 0 & 0 & 0 & 0 & 0 & 0 & 0 & 0 & 0 & 0\\\\\n",
       "\t6 & ENSMUSG00000104017.2 & 0 & 0 & 0 & 0 & 0 & 0 & 0 & 0 & 0 & 0 & 0\\\\\n",
       "\\end{tabular}\n"
      ],
      "text/markdown": [
       "\n",
       "A data.frame: 6 x 12\n",
       "\n",
       "| <!--/--> | Geneid &lt;chr&gt; | X.shared.projects.2413_rnaseq_cea.alldata.Results.featurecounts.SRR12730403_Aligned.sortedByNames.bam &lt;int&gt; | X.shared.projects.2413_rnaseq_cea.alldata.Results.featurecounts.SRR12730404_Aligned.sortedByNames.bam &lt;int&gt; | X.shared.projects.2413_rnaseq_cea.alldata.Results.featurecounts.SRR12730405_Aligned.sortedByNames.bam &lt;int&gt; | X.shared.projects.2413_rnaseq_cea.alldata.Results.featurecounts.SRR12730406_Aligned.sortedByNames.bam &lt;int&gt; | X.shared.projects.2413_rnaseq_cea.alldata.Results.featurecounts.SRR12730407_Aligned.sortedByNames.bam &lt;int&gt; | X.shared.projects.2413_rnaseq_cea.alldata.Results.featurecounts.SRR12730408_Aligned.sortedByNames.bam &lt;int&gt; | X.shared.projects.2413_rnaseq_cea.alldata.Results.featurecounts.SRR12730409_Aligned.sortedByNames.bam &lt;int&gt; | X.shared.projects.2413_rnaseq_cea.alldata.Results.featurecounts.SRR12730410_Aligned.sortedByNames.bam &lt;int&gt; | X.shared.projects.2413_rnaseq_cea.alldata.Results.featurecounts.SRR12730411_Aligned.sortedByNames.bam &lt;int&gt; | X.shared.projects.2413_rnaseq_cea.alldata.Results.featurecounts.SRR12730412_Aligned.sortedByNames.bam &lt;int&gt; | X.shared.projects.2413_rnaseq_cea.alldata.Results.featurecounts.SRR12730413_Aligned.sortedByNames.bam &lt;int&gt; |\n",
       "|---|---|---|---|---|---|---|---|---|---|---|---|---|\n",
       "| 1 | ENSMUSG00000102693.2 | 0 | 0 | 0 | 0 | 0 | 0 | 0 | 0 | 0 | 0 | 0 |\n",
       "| 2 | ENSMUSG00000064842.3 | 0 | 0 | 0 | 0 | 0 | 0 | 0 | 0 | 0 | 0 | 0 |\n",
       "| 3 | ENSMUSG00000051951.6 | 0 | 0 | 0 | 0 | 0 | 0 | 0 | 2 | 0 | 0 | 0 |\n",
       "| 4 | ENSMUSG00000102851.2 | 0 | 0 | 0 | 0 | 0 | 0 | 0 | 0 | 0 | 0 | 1 |\n",
       "| 5 | ENSMUSG00000103377.2 | 0 | 0 | 0 | 0 | 0 | 0 | 0 | 0 | 0 | 0 | 0 |\n",
       "| 6 | ENSMUSG00000104017.2 | 0 | 0 | 0 | 0 | 0 | 0 | 0 | 0 | 0 | 0 | 0 |\n",
       "\n"
      ],
      "text/plain": [
       "  Geneid              \n",
       "1 ENSMUSG00000102693.2\n",
       "2 ENSMUSG00000064842.3\n",
       "3 ENSMUSG00000051951.6\n",
       "4 ENSMUSG00000102851.2\n",
       "5 ENSMUSG00000103377.2\n",
       "6 ENSMUSG00000104017.2\n",
       "  X.shared.projects.2413_rnaseq_cea.alldata.Results.featurecounts.SRR12730403_Aligned.sortedByNames.bam\n",
       "1 0                                                                                                    \n",
       "2 0                                                                                                    \n",
       "3 0                                                                                                    \n",
       "4 0                                                                                                    \n",
       "5 0                                                                                                    \n",
       "6 0                                                                                                    \n",
       "  X.shared.projects.2413_rnaseq_cea.alldata.Results.featurecounts.SRR12730404_Aligned.sortedByNames.bam\n",
       "1 0                                                                                                    \n",
       "2 0                                                                                                    \n",
       "3 0                                                                                                    \n",
       "4 0                                                                                                    \n",
       "5 0                                                                                                    \n",
       "6 0                                                                                                    \n",
       "  X.shared.projects.2413_rnaseq_cea.alldata.Results.featurecounts.SRR12730405_Aligned.sortedByNames.bam\n",
       "1 0                                                                                                    \n",
       "2 0                                                                                                    \n",
       "3 0                                                                                                    \n",
       "4 0                                                                                                    \n",
       "5 0                                                                                                    \n",
       "6 0                                                                                                    \n",
       "  X.shared.projects.2413_rnaseq_cea.alldata.Results.featurecounts.SRR12730406_Aligned.sortedByNames.bam\n",
       "1 0                                                                                                    \n",
       "2 0                                                                                                    \n",
       "3 0                                                                                                    \n",
       "4 0                                                                                                    \n",
       "5 0                                                                                                    \n",
       "6 0                                                                                                    \n",
       "  X.shared.projects.2413_rnaseq_cea.alldata.Results.featurecounts.SRR12730407_Aligned.sortedByNames.bam\n",
       "1 0                                                                                                    \n",
       "2 0                                                                                                    \n",
       "3 0                                                                                                    \n",
       "4 0                                                                                                    \n",
       "5 0                                                                                                    \n",
       "6 0                                                                                                    \n",
       "  X.shared.projects.2413_rnaseq_cea.alldata.Results.featurecounts.SRR12730408_Aligned.sortedByNames.bam\n",
       "1 0                                                                                                    \n",
       "2 0                                                                                                    \n",
       "3 0                                                                                                    \n",
       "4 0                                                                                                    \n",
       "5 0                                                                                                    \n",
       "6 0                                                                                                    \n",
       "  X.shared.projects.2413_rnaseq_cea.alldata.Results.featurecounts.SRR12730409_Aligned.sortedByNames.bam\n",
       "1 0                                                                                                    \n",
       "2 0                                                                                                    \n",
       "3 0                                                                                                    \n",
       "4 0                                                                                                    \n",
       "5 0                                                                                                    \n",
       "6 0                                                                                                    \n",
       "  X.shared.projects.2413_rnaseq_cea.alldata.Results.featurecounts.SRR12730410_Aligned.sortedByNames.bam\n",
       "1 0                                                                                                    \n",
       "2 0                                                                                                    \n",
       "3 2                                                                                                    \n",
       "4 0                                                                                                    \n",
       "5 0                                                                                                    \n",
       "6 0                                                                                                    \n",
       "  X.shared.projects.2413_rnaseq_cea.alldata.Results.featurecounts.SRR12730411_Aligned.sortedByNames.bam\n",
       "1 0                                                                                                    \n",
       "2 0                                                                                                    \n",
       "3 0                                                                                                    \n",
       "4 0                                                                                                    \n",
       "5 0                                                                                                    \n",
       "6 0                                                                                                    \n",
       "  X.shared.projects.2413_rnaseq_cea.alldata.Results.featurecounts.SRR12730412_Aligned.sortedByNames.bam\n",
       "1 0                                                                                                    \n",
       "2 0                                                                                                    \n",
       "3 0                                                                                                    \n",
       "4 0                                                                                                    \n",
       "5 0                                                                                                    \n",
       "6 0                                                                                                    \n",
       "  X.shared.projects.2413_rnaseq_cea.alldata.Results.featurecounts.SRR12730413_Aligned.sortedByNames.bam\n",
       "1 0                                                                                                    \n",
       "2 0                                                                                                    \n",
       "3 0                                                                                                    \n",
       "4 1                                                                                                    \n",
       "5 0                                                                                                    \n",
       "6 0                                                                                                    "
      ]
     },
     "metadata": {},
     "output_type": "display_data"
    }
   ],
   "source": [
    "## Code cell 24 ##\n",
    "\n",
    "countdata <- countdata[, c(1,7:17)]\n",
    "str(countdata)\n",
    "head(countdata)"
   ]
  },
  {
   "cell_type": "code",
   "execution_count": 25,
   "id": "bd042423-2dc0-4d3d-b5a4-ca85bf25bed1",
   "metadata": {},
   "outputs": [
    {
     "data": {
      "text/html": [
       "<style>\n",
       ".list-inline {list-style: none; margin:0; padding: 0}\n",
       ".list-inline>li {display: inline-block}\n",
       ".list-inline>li:not(:last-child)::after {content: \"\\00b7\"; padding: 0 .5ex}\n",
       "</style>\n",
       "<ol class=list-inline><li>57186</li><li>12</li></ol>\n"
      ],
      "text/latex": [
       "\\begin{enumerate*}\n",
       "\\item 57186\n",
       "\\item 12\n",
       "\\end{enumerate*}\n"
      ],
      "text/markdown": [
       "1. 57186\n",
       "2. 12\n",
       "\n",
       "\n"
      ],
      "text/plain": [
       "[1] 57186    12"
      ]
     },
     "metadata": {},
     "output_type": "display_data"
    }
   ],
   "source": [
    "## Code cell 25 ##\n",
    "\n",
    "dim(countdata)"
   ]
  },
  {
   "cell_type": "markdown",
   "id": "29f138ba-84d2-4e71-acd1-0b1b06237932",
   "metadata": {},
   "source": [
    "- **reformatting Sample names**\n",
    "\n",
    "Below are the sample names in the counts dataframe:"
   ]
  },
  {
   "cell_type": "code",
   "execution_count": 26,
   "id": "8b670764-79ff-475b-9793-c9a3f65513ca",
   "metadata": {},
   "outputs": [
    {
     "data": {
      "text/html": [
       "<style>\n",
       ".list-inline {list-style: none; margin:0; padding: 0}\n",
       ".list-inline>li {display: inline-block}\n",
       ".list-inline>li:not(:last-child)::after {content: \"\\00b7\"; padding: 0 .5ex}\n",
       "</style>\n",
       "<ol class=list-inline><li>'Geneid'</li><li>'X.shared.projects.2413_rnaseq_cea.alldata.Results.featurecounts.SRR12730403_Aligned.sortedByNames.bam'</li><li>'X.shared.projects.2413_rnaseq_cea.alldata.Results.featurecounts.SRR12730404_Aligned.sortedByNames.bam'</li><li>'X.shared.projects.2413_rnaseq_cea.alldata.Results.featurecounts.SRR12730405_Aligned.sortedByNames.bam'</li><li>'X.shared.projects.2413_rnaseq_cea.alldata.Results.featurecounts.SRR12730406_Aligned.sortedByNames.bam'</li><li>'X.shared.projects.2413_rnaseq_cea.alldata.Results.featurecounts.SRR12730407_Aligned.sortedByNames.bam'</li><li>'X.shared.projects.2413_rnaseq_cea.alldata.Results.featurecounts.SRR12730408_Aligned.sortedByNames.bam'</li><li>'X.shared.projects.2413_rnaseq_cea.alldata.Results.featurecounts.SRR12730409_Aligned.sortedByNames.bam'</li><li>'X.shared.projects.2413_rnaseq_cea.alldata.Results.featurecounts.SRR12730410_Aligned.sortedByNames.bam'</li><li>'X.shared.projects.2413_rnaseq_cea.alldata.Results.featurecounts.SRR12730411_Aligned.sortedByNames.bam'</li><li>'X.shared.projects.2413_rnaseq_cea.alldata.Results.featurecounts.SRR12730412_Aligned.sortedByNames.bam'</li><li>'X.shared.projects.2413_rnaseq_cea.alldata.Results.featurecounts.SRR12730413_Aligned.sortedByNames.bam'</li></ol>\n"
      ],
      "text/latex": [
       "\\begin{enumerate*}\n",
       "\\item 'Geneid'\n",
       "\\item 'X.shared.projects.2413\\_rnaseq\\_cea.alldata.Results.featurecounts.SRR12730403\\_Aligned.sortedByNames.bam'\n",
       "\\item 'X.shared.projects.2413\\_rnaseq\\_cea.alldata.Results.featurecounts.SRR12730404\\_Aligned.sortedByNames.bam'\n",
       "\\item 'X.shared.projects.2413\\_rnaseq\\_cea.alldata.Results.featurecounts.SRR12730405\\_Aligned.sortedByNames.bam'\n",
       "\\item 'X.shared.projects.2413\\_rnaseq\\_cea.alldata.Results.featurecounts.SRR12730406\\_Aligned.sortedByNames.bam'\n",
       "\\item 'X.shared.projects.2413\\_rnaseq\\_cea.alldata.Results.featurecounts.SRR12730407\\_Aligned.sortedByNames.bam'\n",
       "\\item 'X.shared.projects.2413\\_rnaseq\\_cea.alldata.Results.featurecounts.SRR12730408\\_Aligned.sortedByNames.bam'\n",
       "\\item 'X.shared.projects.2413\\_rnaseq\\_cea.alldata.Results.featurecounts.SRR12730409\\_Aligned.sortedByNames.bam'\n",
       "\\item 'X.shared.projects.2413\\_rnaseq\\_cea.alldata.Results.featurecounts.SRR12730410\\_Aligned.sortedByNames.bam'\n",
       "\\item 'X.shared.projects.2413\\_rnaseq\\_cea.alldata.Results.featurecounts.SRR12730411\\_Aligned.sortedByNames.bam'\n",
       "\\item 'X.shared.projects.2413\\_rnaseq\\_cea.alldata.Results.featurecounts.SRR12730412\\_Aligned.sortedByNames.bam'\n",
       "\\item 'X.shared.projects.2413\\_rnaseq\\_cea.alldata.Results.featurecounts.SRR12730413\\_Aligned.sortedByNames.bam'\n",
       "\\end{enumerate*}\n"
      ],
      "text/markdown": [
       "1. 'Geneid'\n",
       "2. 'X.shared.projects.2413_rnaseq_cea.alldata.Results.featurecounts.SRR12730403_Aligned.sortedByNames.bam'\n",
       "3. 'X.shared.projects.2413_rnaseq_cea.alldata.Results.featurecounts.SRR12730404_Aligned.sortedByNames.bam'\n",
       "4. 'X.shared.projects.2413_rnaseq_cea.alldata.Results.featurecounts.SRR12730405_Aligned.sortedByNames.bam'\n",
       "5. 'X.shared.projects.2413_rnaseq_cea.alldata.Results.featurecounts.SRR12730406_Aligned.sortedByNames.bam'\n",
       "6. 'X.shared.projects.2413_rnaseq_cea.alldata.Results.featurecounts.SRR12730407_Aligned.sortedByNames.bam'\n",
       "7. 'X.shared.projects.2413_rnaseq_cea.alldata.Results.featurecounts.SRR12730408_Aligned.sortedByNames.bam'\n",
       "8. 'X.shared.projects.2413_rnaseq_cea.alldata.Results.featurecounts.SRR12730409_Aligned.sortedByNames.bam'\n",
       "9. 'X.shared.projects.2413_rnaseq_cea.alldata.Results.featurecounts.SRR12730410_Aligned.sortedByNames.bam'\n",
       "10. 'X.shared.projects.2413_rnaseq_cea.alldata.Results.featurecounts.SRR12730411_Aligned.sortedByNames.bam'\n",
       "11. 'X.shared.projects.2413_rnaseq_cea.alldata.Results.featurecounts.SRR12730412_Aligned.sortedByNames.bam'\n",
       "12. 'X.shared.projects.2413_rnaseq_cea.alldata.Results.featurecounts.SRR12730413_Aligned.sortedByNames.bam'\n",
       "\n",
       "\n"
      ],
      "text/plain": [
       " [1] \"Geneid\"                                                                                               \n",
       " [2] \"X.shared.projects.2413_rnaseq_cea.alldata.Results.featurecounts.SRR12730403_Aligned.sortedByNames.bam\"\n",
       " [3] \"X.shared.projects.2413_rnaseq_cea.alldata.Results.featurecounts.SRR12730404_Aligned.sortedByNames.bam\"\n",
       " [4] \"X.shared.projects.2413_rnaseq_cea.alldata.Results.featurecounts.SRR12730405_Aligned.sortedByNames.bam\"\n",
       " [5] \"X.shared.projects.2413_rnaseq_cea.alldata.Results.featurecounts.SRR12730406_Aligned.sortedByNames.bam\"\n",
       " [6] \"X.shared.projects.2413_rnaseq_cea.alldata.Results.featurecounts.SRR12730407_Aligned.sortedByNames.bam\"\n",
       " [7] \"X.shared.projects.2413_rnaseq_cea.alldata.Results.featurecounts.SRR12730408_Aligned.sortedByNames.bam\"\n",
       " [8] \"X.shared.projects.2413_rnaseq_cea.alldata.Results.featurecounts.SRR12730409_Aligned.sortedByNames.bam\"\n",
       " [9] \"X.shared.projects.2413_rnaseq_cea.alldata.Results.featurecounts.SRR12730410_Aligned.sortedByNames.bam\"\n",
       "[10] \"X.shared.projects.2413_rnaseq_cea.alldata.Results.featurecounts.SRR12730411_Aligned.sortedByNames.bam\"\n",
       "[11] \"X.shared.projects.2413_rnaseq_cea.alldata.Results.featurecounts.SRR12730412_Aligned.sortedByNames.bam\"\n",
       "[12] \"X.shared.projects.2413_rnaseq_cea.alldata.Results.featurecounts.SRR12730413_Aligned.sortedByNames.bam\""
      ]
     },
     "metadata": {},
     "output_type": "display_data"
    }
   ],
   "source": [
    "## Code cell 26 ##\n",
    "\n",
    "names(countdata)"
   ]
  },
  {
   "cell_type": "markdown",
   "id": "5903c373-688e-49b8-984d-bdd670287fa5",
   "metadata": {},
   "source": [
    "The names of the columns are not very easy to read, and most of all, they don't correspond to the sample names present in the first column of the metadata. Therefore, we cannot have any correspondance between the two information. So we modify the names of the columns in `counts`, in order to remove the first part in front of the sample number, and then the last part after the `_`. "
   ]
  },
  {
   "cell_type": "code",
   "execution_count": 27,
   "id": "7bc29956-e08a-4db5-81e1-ec4543da1f0e",
   "metadata": {},
   "outputs": [],
   "source": [
    "## Code cell 27 ##\n",
    "\n",
    "# We remove the common prefix in all columns except the first one\n",
    "colnames(countdata)[-1] <- gsub(\"X.shared.projects.2413_rnaseq_cea.alldata.Results.featurecounts.\",\n",
    "                         \"\",\n",
    "                         colnames(countdata)[-1])\n",
    "\n",
    "# We remove the common suffix in all columns except the first one\n",
    "colnames(countdata)[-1] <- gsub(\"_Aligned.sortedByNames.bam\",\n",
    "                         \"\",\n",
    "                         colnames(countdata)[-1])"
   ]
  },
  {
   "cell_type": "markdown",
   "id": "7f35f12e-cecf-4568-bfdb-2c8af70af149",
   "metadata": {},
   "source": [
    "We check the new names:"
   ]
  },
  {
   "cell_type": "code",
   "execution_count": 28,
   "id": "551c298b-7263-41bb-b0f1-149dab284416",
   "metadata": {},
   "outputs": [
    {
     "data": {
      "text/html": [
       "<style>\n",
       ".list-inline {list-style: none; margin:0; padding: 0}\n",
       ".list-inline>li {display: inline-block}\n",
       ".list-inline>li:not(:last-child)::after {content: \"\\00b7\"; padding: 0 .5ex}\n",
       "</style>\n",
       "<ol class=list-inline><li>'Geneid'</li><li>'SRR12730403'</li><li>'SRR12730404'</li><li>'SRR12730405'</li><li>'SRR12730406'</li><li>'SRR12730407'</li><li>'SRR12730408'</li><li>'SRR12730409'</li><li>'SRR12730410'</li><li>'SRR12730411'</li><li>'SRR12730412'</li><li>'SRR12730413'</li></ol>\n"
      ],
      "text/latex": [
       "\\begin{enumerate*}\n",
       "\\item 'Geneid'\n",
       "\\item 'SRR12730403'\n",
       "\\item 'SRR12730404'\n",
       "\\item 'SRR12730405'\n",
       "\\item 'SRR12730406'\n",
       "\\item 'SRR12730407'\n",
       "\\item 'SRR12730408'\n",
       "\\item 'SRR12730409'\n",
       "\\item 'SRR12730410'\n",
       "\\item 'SRR12730411'\n",
       "\\item 'SRR12730412'\n",
       "\\item 'SRR12730413'\n",
       "\\end{enumerate*}\n"
      ],
      "text/markdown": [
       "1. 'Geneid'\n",
       "2. 'SRR12730403'\n",
       "3. 'SRR12730404'\n",
       "4. 'SRR12730405'\n",
       "5. 'SRR12730406'\n",
       "6. 'SRR12730407'\n",
       "7. 'SRR12730408'\n",
       "8. 'SRR12730409'\n",
       "9. 'SRR12730410'\n",
       "10. 'SRR12730411'\n",
       "11. 'SRR12730412'\n",
       "12. 'SRR12730413'\n",
       "\n",
       "\n"
      ],
      "text/plain": [
       " [1] \"Geneid\"      \"SRR12730403\" \"SRR12730404\" \"SRR12730405\" \"SRR12730406\"\n",
       " [6] \"SRR12730407\" \"SRR12730408\" \"SRR12730409\" \"SRR12730410\" \"SRR12730411\"\n",
       "[11] \"SRR12730412\" \"SRR12730413\""
      ]
     },
     "metadata": {},
     "output_type": "display_data"
    }
   ],
   "source": [
    "## Code cell 28 ##\n",
    "\n",
    "names(countdata)"
   ]
  },
  {
   "cell_type": "markdown",
   "id": "204efc76-e27a-451c-a1dd-dc8878333ab1",
   "metadata": {},
   "source": [
    "To ensure the metadata `samples` and `countdata` dataframes have the same samples names *(tested with `==`)*, we run the code below.   \n",
    "This will return TRUE if the names in both files are the same. In all there are 11 samples in both files."
   ]
  },
  {
   "cell_type": "code",
   "execution_count": 29,
   "id": "e136cb9f-07ed-4cc9-8dbb-e44e8a7c07bf",
   "metadata": {},
   "outputs": [
    {
     "data": {
      "text/plain": [
       "\n",
       "TRUE \n",
       "  11 "
      ]
     },
     "metadata": {},
     "output_type": "display_data"
    }
   ],
   "source": [
    "## Code cell 29 ##\n",
    "\n",
    "table(colnames(countdata)[-1] == samples$SampleID)"
   ]
  },
  {
   "cell_type": "markdown",
   "id": "af1da241-351c-438e-b251-8eabbc28cd8e",
   "metadata": {},
   "source": [
    "- **rename SampleID with SampleName**:\n",
    "\n",
    "SRR names are not very informative. We replace them by the corresponding sample name."
   ]
  },
  {
   "cell_type": "code",
   "execution_count": 30,
   "id": "10391ace-2e27-4274-b71e-f2c68d507119",
   "metadata": {},
   "outputs": [
    {
     "name": "stdout",
     "output_type": "stream",
     "text": [
      "'data.frame':\t57186 obs. of  12 variables:\n",
      " $ Geneid                   : chr  \"ENSMUSG00000102693.2\" \"ENSMUSG00000064842.3\" \"ENSMUSG00000051951.6\" \"ENSMUSG00000102851.2\" ...\n",
      " $ dHet_B-ALL_686_rep1      : int  0 0 0 0 0 0 0 0 0 0 ...\n",
      " $ dHet_B-ALL_686_rep2      : int  0 0 0 0 0 0 0 0 0 0 ...\n",
      " $ dHet_B-ALL_713_rep1      : int  0 0 0 0 0 0 0 0 0 0 ...\n",
      " $ dHet_B-ALL_713_rep2      : int  0 0 0 0 0 0 0 0 0 2 ...\n",
      " $ dHet_B-ALL_760_rep1      : int  0 0 0 0 0 0 0 0 0 0 ...\n",
      " $ dHet_B-ALL_760_rep2      : int  0 0 0 0 0 0 0 0 0 0 ...\n",
      " $ dHet_FetalLiver_proB_rep1: int  0 0 0 0 0 0 0 0 0 0 ...\n",
      " $ dHet_FetalLiver_proB_rep2: int  0 0 2 0 0 0 0 0 0 0 ...\n",
      " $ dHet_FetalLiver_proB_rep3: int  0 0 0 0 0 0 0 0 0 0 ...\n",
      " $ wt_BoneMar_proB_rep1     : int  0 0 0 0 0 0 0 0 0 0 ...\n",
      " $ wt_BoneMar_proB_rep2     : int  0 0 0 1 0 0 0 0 0 0 ...\n"
     ]
    },
    {
     "data": {
      "text/html": [
       "<table class=\"dataframe\">\n",
       "<caption>A data.frame: 6 x 12</caption>\n",
       "<thead>\n",
       "\t<tr><th></th><th scope=col>Geneid</th><th scope=col>dHet_B-ALL_686_rep1</th><th scope=col>dHet_B-ALL_686_rep2</th><th scope=col>dHet_B-ALL_713_rep1</th><th scope=col>dHet_B-ALL_713_rep2</th><th scope=col>dHet_B-ALL_760_rep1</th><th scope=col>dHet_B-ALL_760_rep2</th><th scope=col>dHet_FetalLiver_proB_rep1</th><th scope=col>dHet_FetalLiver_proB_rep2</th><th scope=col>dHet_FetalLiver_proB_rep3</th><th scope=col>wt_BoneMar_proB_rep1</th><th scope=col>wt_BoneMar_proB_rep2</th></tr>\n",
       "\t<tr><th></th><th scope=col>&lt;chr&gt;</th><th scope=col>&lt;int&gt;</th><th scope=col>&lt;int&gt;</th><th scope=col>&lt;int&gt;</th><th scope=col>&lt;int&gt;</th><th scope=col>&lt;int&gt;</th><th scope=col>&lt;int&gt;</th><th scope=col>&lt;int&gt;</th><th scope=col>&lt;int&gt;</th><th scope=col>&lt;int&gt;</th><th scope=col>&lt;int&gt;</th><th scope=col>&lt;int&gt;</th></tr>\n",
       "</thead>\n",
       "<tbody>\n",
       "\t<tr><th scope=row>1</th><td>ENSMUSG00000102693.2</td><td>0</td><td>0</td><td>0</td><td>0</td><td>0</td><td>0</td><td>0</td><td>0</td><td>0</td><td>0</td><td>0</td></tr>\n",
       "\t<tr><th scope=row>2</th><td>ENSMUSG00000064842.3</td><td>0</td><td>0</td><td>0</td><td>0</td><td>0</td><td>0</td><td>0</td><td>0</td><td>0</td><td>0</td><td>0</td></tr>\n",
       "\t<tr><th scope=row>3</th><td>ENSMUSG00000051951.6</td><td>0</td><td>0</td><td>0</td><td>0</td><td>0</td><td>0</td><td>0</td><td>2</td><td>0</td><td>0</td><td>0</td></tr>\n",
       "\t<tr><th scope=row>4</th><td>ENSMUSG00000102851.2</td><td>0</td><td>0</td><td>0</td><td>0</td><td>0</td><td>0</td><td>0</td><td>0</td><td>0</td><td>0</td><td>1</td></tr>\n",
       "\t<tr><th scope=row>5</th><td>ENSMUSG00000103377.2</td><td>0</td><td>0</td><td>0</td><td>0</td><td>0</td><td>0</td><td>0</td><td>0</td><td>0</td><td>0</td><td>0</td></tr>\n",
       "\t<tr><th scope=row>6</th><td>ENSMUSG00000104017.2</td><td>0</td><td>0</td><td>0</td><td>0</td><td>0</td><td>0</td><td>0</td><td>0</td><td>0</td><td>0</td><td>0</td></tr>\n",
       "</tbody>\n",
       "</table>\n"
      ],
      "text/latex": [
       "A data.frame: 6 x 12\n",
       "\\begin{tabular}{r|llllllllllll}\n",
       "  & Geneid & dHet\\_B-ALL\\_686\\_rep1 & dHet\\_B-ALL\\_686\\_rep2 & dHet\\_B-ALL\\_713\\_rep1 & dHet\\_B-ALL\\_713\\_rep2 & dHet\\_B-ALL\\_760\\_rep1 & dHet\\_B-ALL\\_760\\_rep2 & dHet\\_FetalLiver\\_proB\\_rep1 & dHet\\_FetalLiver\\_proB\\_rep2 & dHet\\_FetalLiver\\_proB\\_rep3 & wt\\_BoneMar\\_proB\\_rep1 & wt\\_BoneMar\\_proB\\_rep2\\\\\n",
       "  & <chr> & <int> & <int> & <int> & <int> & <int> & <int> & <int> & <int> & <int> & <int> & <int>\\\\\n",
       "\\hline\n",
       "\t1 & ENSMUSG00000102693.2 & 0 & 0 & 0 & 0 & 0 & 0 & 0 & 0 & 0 & 0 & 0\\\\\n",
       "\t2 & ENSMUSG00000064842.3 & 0 & 0 & 0 & 0 & 0 & 0 & 0 & 0 & 0 & 0 & 0\\\\\n",
       "\t3 & ENSMUSG00000051951.6 & 0 & 0 & 0 & 0 & 0 & 0 & 0 & 2 & 0 & 0 & 0\\\\\n",
       "\t4 & ENSMUSG00000102851.2 & 0 & 0 & 0 & 0 & 0 & 0 & 0 & 0 & 0 & 0 & 1\\\\\n",
       "\t5 & ENSMUSG00000103377.2 & 0 & 0 & 0 & 0 & 0 & 0 & 0 & 0 & 0 & 0 & 0\\\\\n",
       "\t6 & ENSMUSG00000104017.2 & 0 & 0 & 0 & 0 & 0 & 0 & 0 & 0 & 0 & 0 & 0\\\\\n",
       "\\end{tabular}\n"
      ],
      "text/markdown": [
       "\n",
       "A data.frame: 6 x 12\n",
       "\n",
       "| <!--/--> | Geneid &lt;chr&gt; | dHet_B-ALL_686_rep1 &lt;int&gt; | dHet_B-ALL_686_rep2 &lt;int&gt; | dHet_B-ALL_713_rep1 &lt;int&gt; | dHet_B-ALL_713_rep2 &lt;int&gt; | dHet_B-ALL_760_rep1 &lt;int&gt; | dHet_B-ALL_760_rep2 &lt;int&gt; | dHet_FetalLiver_proB_rep1 &lt;int&gt; | dHet_FetalLiver_proB_rep2 &lt;int&gt; | dHet_FetalLiver_proB_rep3 &lt;int&gt; | wt_BoneMar_proB_rep1 &lt;int&gt; | wt_BoneMar_proB_rep2 &lt;int&gt; |\n",
       "|---|---|---|---|---|---|---|---|---|---|---|---|---|\n",
       "| 1 | ENSMUSG00000102693.2 | 0 | 0 | 0 | 0 | 0 | 0 | 0 | 0 | 0 | 0 | 0 |\n",
       "| 2 | ENSMUSG00000064842.3 | 0 | 0 | 0 | 0 | 0 | 0 | 0 | 0 | 0 | 0 | 0 |\n",
       "| 3 | ENSMUSG00000051951.6 | 0 | 0 | 0 | 0 | 0 | 0 | 0 | 2 | 0 | 0 | 0 |\n",
       "| 4 | ENSMUSG00000102851.2 | 0 | 0 | 0 | 0 | 0 | 0 | 0 | 0 | 0 | 0 | 1 |\n",
       "| 5 | ENSMUSG00000103377.2 | 0 | 0 | 0 | 0 | 0 | 0 | 0 | 0 | 0 | 0 | 0 |\n",
       "| 6 | ENSMUSG00000104017.2 | 0 | 0 | 0 | 0 | 0 | 0 | 0 | 0 | 0 | 0 | 0 |\n",
       "\n"
      ],
      "text/plain": [
       "  Geneid               dHet_B-ALL_686_rep1 dHet_B-ALL_686_rep2\n",
       "1 ENSMUSG00000102693.2 0                   0                  \n",
       "2 ENSMUSG00000064842.3 0                   0                  \n",
       "3 ENSMUSG00000051951.6 0                   0                  \n",
       "4 ENSMUSG00000102851.2 0                   0                  \n",
       "5 ENSMUSG00000103377.2 0                   0                  \n",
       "6 ENSMUSG00000104017.2 0                   0                  \n",
       "  dHet_B-ALL_713_rep1 dHet_B-ALL_713_rep2 dHet_B-ALL_760_rep1\n",
       "1 0                   0                   0                  \n",
       "2 0                   0                   0                  \n",
       "3 0                   0                   0                  \n",
       "4 0                   0                   0                  \n",
       "5 0                   0                   0                  \n",
       "6 0                   0                   0                  \n",
       "  dHet_B-ALL_760_rep2 dHet_FetalLiver_proB_rep1 dHet_FetalLiver_proB_rep2\n",
       "1 0                   0                         0                        \n",
       "2 0                   0                         0                        \n",
       "3 0                   0                         2                        \n",
       "4 0                   0                         0                        \n",
       "5 0                   0                         0                        \n",
       "6 0                   0                         0                        \n",
       "  dHet_FetalLiver_proB_rep3 wt_BoneMar_proB_rep1 wt_BoneMar_proB_rep2\n",
       "1 0                         0                    0                   \n",
       "2 0                         0                    0                   \n",
       "3 0                         0                    0                   \n",
       "4 0                         0                    1                   \n",
       "5 0                         0                    0                   \n",
       "6 0                         0                    0                   "
      ]
     },
     "metadata": {},
     "output_type": "display_data"
    }
   ],
   "source": [
    "## Code cell 30 ##\n",
    "\n",
    "colnames(countdata)[-1] <- samples$SampleName\n",
    "str(countdata)\n",
    "head(countdata)"
   ]
  },
  {
   "cell_type": "markdown",
   "id": "5bed9744-f4ec-4d54-8673-45bc961f3f4d",
   "metadata": {
    "tags": []
   },
   "source": [
    "### 1.3 - Salmon pseudo-mapping data   \n",
    "---"
   ]
  },
  {
   "cell_type": "code",
   "execution_count": 31,
   "id": "1be47746-764c-42f3-9f5d-654ccfcf65ff",
   "metadata": {},
   "outputs": [
    {
     "name": "stdout",
     "output_type": "stream",
     "text": [
      "Start time is : Sun Jun 23 18:51:05 2024 \n",
      "Gencode reference :  vM35 \n",
      "Salmon directory is  /shared/ifbstor1/projects/2413_rnaseq_cea/cvandiedonck/Results/salmon/ \n"
     ]
    }
   ],
   "source": [
    "## Code cell 31 ##\n",
    "\n",
    "cat(\"Start time is :\", date(), \"\\n\")\n",
    "cat(\"Gencode reference : \", annot_version, \"\\n\")  \n",
    "cat(\"Salmon directory is \", salmonfolder, \"\\n\")"
   ]
  },
  {
   "cell_type": "markdown",
   "id": "ec9b6b28-b91d-4556-9104-6f5b05b0209c",
   "metadata": {},
   "source": [
    "#### 1.3.1. Getting the salmon files"
   ]
  },
  {
   "cell_type": "markdown",
   "id": "451470f0-d09a-43ca-86b2-abd951d5872e",
   "metadata": {},
   "source": [
    "We directly do it for the 11 samples after copying them to our own directory *(be aware that here we erase our previous folders)*. You can skip this cell in your own study if all your salmon results are already in your personnal directory."
   ]
  },
  {
   "cell_type": "code",
   "execution_count": 32,
   "id": "e6103363-11a5-4800-818a-c4a6d392d4a1",
   "metadata": {
    "tags": []
   },
   "outputs": [],
   "source": [
    "## Code cell 32 ##\n",
    "\n",
    "R.utils::copyDirectory(from = paste0(gohome, \"alldata/Results/salmon/\"),\n",
    "                       to = salmonfolder,\n",
    "                       recursive = TRUE)"
   ]
  },
  {
   "cell_type": "markdown",
   "id": "f273089d-69ae-4d5f-bdf9-b7d7fed813d2",
   "metadata": {},
   "source": [
    "We now retrieve IDs of our samples: "
   ]
  },
  {
   "cell_type": "code",
   "execution_count": 33,
   "id": "acd702e4-8da9-4889-a412-57d3ac63aa91",
   "metadata": {},
   "outputs": [
    {
     "data": {
      "text/html": [
       "<style>\n",
       ".list-inline {list-style: none; margin:0; padding: 0}\n",
       ".list-inline>li {display: inline-block}\n",
       ".list-inline>li:not(:last-child)::after {content: \"\\00b7\"; padding: 0 .5ex}\n",
       "</style>\n",
       "<ol class=list-inline><li>'SRR12730403'</li><li>'SRR12730404'</li><li>'SRR12730405'</li><li>'SRR12730406'</li><li>'SRR12730407'</li><li>'SRR12730408'</li><li>'SRR12730409'</li><li>'SRR12730410'</li><li>'SRR12730411'</li><li>'SRR12730412'</li><li>'SRR12730413'</li></ol>\n"
      ],
      "text/latex": [
       "\\begin{enumerate*}\n",
       "\\item 'SRR12730403'\n",
       "\\item 'SRR12730404'\n",
       "\\item 'SRR12730405'\n",
       "\\item 'SRR12730406'\n",
       "\\item 'SRR12730407'\n",
       "\\item 'SRR12730408'\n",
       "\\item 'SRR12730409'\n",
       "\\item 'SRR12730410'\n",
       "\\item 'SRR12730411'\n",
       "\\item 'SRR12730412'\n",
       "\\item 'SRR12730413'\n",
       "\\end{enumerate*}\n"
      ],
      "text/markdown": [
       "1. 'SRR12730403'\n",
       "2. 'SRR12730404'\n",
       "3. 'SRR12730405'\n",
       "4. 'SRR12730406'\n",
       "5. 'SRR12730407'\n",
       "6. 'SRR12730408'\n",
       "7. 'SRR12730409'\n",
       "8. 'SRR12730410'\n",
       "9. 'SRR12730411'\n",
       "10. 'SRR12730412'\n",
       "11. 'SRR12730413'\n",
       "\n",
       "\n"
      ],
      "text/plain": [
       " [1] \"SRR12730403\" \"SRR12730404\" \"SRR12730405\" \"SRR12730406\" \"SRR12730407\"\n",
       " [6] \"SRR12730408\" \"SRR12730409\" \"SRR12730410\" \"SRR12730411\" \"SRR12730412\"\n",
       "[11] \"SRR12730413\""
      ]
     },
     "metadata": {},
     "output_type": "display_data"
    }
   ],
   "source": [
    "## Code cell 33 ##\n",
    "\n",
    "sample_names <- list.files(\"./Results/salmon/\")\n",
    "sample_names"
   ]
  },
  {
   "cell_type": "markdown",
   "id": "0d3b9ad5-ea4f-4fb1-acae-1b09512e3218",
   "metadata": {},
   "source": [
    "We then list the file paths to the corresponding `quant.sf` files containing the Salmon pseudomapping counts per transcripts for each sample."
   ]
  },
  {
   "cell_type": "code",
   "execution_count": 34,
   "id": "277d38bf-b5e3-47f7-a654-ea0271d15e84",
   "metadata": {},
   "outputs": [
    {
     "data": {
      "text/html": [
       "<style>\n",
       ".list-inline {list-style: none; margin:0; padding: 0}\n",
       ".list-inline>li {display: inline-block}\n",
       ".list-inline>li:not(:last-child)::after {content: \"\\00b7\"; padding: 0 .5ex}\n",
       "</style>\n",
       "<ol class=list-inline><li>'./Results/salmon/SRR12730403/quant.sf'</li><li>'./Results/salmon/SRR12730404/quant.sf'</li><li>'./Results/salmon/SRR12730405/quant.sf'</li><li>'./Results/salmon/SRR12730406/quant.sf'</li><li>'./Results/salmon/SRR12730407/quant.sf'</li><li>'./Results/salmon/SRR12730408/quant.sf'</li><li>'./Results/salmon/SRR12730409/quant.sf'</li><li>'./Results/salmon/SRR12730410/quant.sf'</li><li>'./Results/salmon/SRR12730411/quant.sf'</li><li>'./Results/salmon/SRR12730412/quant.sf'</li><li>'./Results/salmon/SRR12730413/quant.sf'</li></ol>\n"
      ],
      "text/latex": [
       "\\begin{enumerate*}\n",
       "\\item './Results/salmon/SRR12730403/quant.sf'\n",
       "\\item './Results/salmon/SRR12730404/quant.sf'\n",
       "\\item './Results/salmon/SRR12730405/quant.sf'\n",
       "\\item './Results/salmon/SRR12730406/quant.sf'\n",
       "\\item './Results/salmon/SRR12730407/quant.sf'\n",
       "\\item './Results/salmon/SRR12730408/quant.sf'\n",
       "\\item './Results/salmon/SRR12730409/quant.sf'\n",
       "\\item './Results/salmon/SRR12730410/quant.sf'\n",
       "\\item './Results/salmon/SRR12730411/quant.sf'\n",
       "\\item './Results/salmon/SRR12730412/quant.sf'\n",
       "\\item './Results/salmon/SRR12730413/quant.sf'\n",
       "\\end{enumerate*}\n"
      ],
      "text/markdown": [
       "1. './Results/salmon/SRR12730403/quant.sf'\n",
       "2. './Results/salmon/SRR12730404/quant.sf'\n",
       "3. './Results/salmon/SRR12730405/quant.sf'\n",
       "4. './Results/salmon/SRR12730406/quant.sf'\n",
       "5. './Results/salmon/SRR12730407/quant.sf'\n",
       "6. './Results/salmon/SRR12730408/quant.sf'\n",
       "7. './Results/salmon/SRR12730409/quant.sf'\n",
       "8. './Results/salmon/SRR12730410/quant.sf'\n",
       "9. './Results/salmon/SRR12730411/quant.sf'\n",
       "10. './Results/salmon/SRR12730412/quant.sf'\n",
       "11. './Results/salmon/SRR12730413/quant.sf'\n",
       "\n",
       "\n"
      ],
      "text/plain": [
       " [1] \"./Results/salmon/SRR12730403/quant.sf\"\n",
       " [2] \"./Results/salmon/SRR12730404/quant.sf\"\n",
       " [3] \"./Results/salmon/SRR12730405/quant.sf\"\n",
       " [4] \"./Results/salmon/SRR12730406/quant.sf\"\n",
       " [5] \"./Results/salmon/SRR12730407/quant.sf\"\n",
       " [6] \"./Results/salmon/SRR12730408/quant.sf\"\n",
       " [7] \"./Results/salmon/SRR12730409/quant.sf\"\n",
       " [8] \"./Results/salmon/SRR12730410/quant.sf\"\n",
       " [9] \"./Results/salmon/SRR12730411/quant.sf\"\n",
       "[10] \"./Results/salmon/SRR12730412/quant.sf\"\n",
       "[11] \"./Results/salmon/SRR12730413/quant.sf\""
      ]
     },
     "metadata": {},
     "output_type": "display_data"
    }
   ],
   "source": [
    "## Code cell 34 ##\n",
    "\n",
    "sample_files <- paste0(\"./Results/salmon/\",sample_names, \"/quant.sf\")\n",
    "sample_files"
   ]
  },
  {
   "cell_type": "markdown",
   "id": "3b8b127e-cd88-4943-950d-228a7f047bf5",
   "metadata": {},
   "source": [
    " => We check the number of samples we are dealing with:"
   ]
  },
  {
   "cell_type": "code",
   "execution_count": 35,
   "id": "fb69e563-bcb1-4ce9-a8b3-863798be7b52",
   "metadata": {},
   "outputs": [
    {
     "name": "stdout",
     "output_type": "stream",
     "text": [
      "\n",
      "Number of samples :  11 \n"
     ]
    }
   ],
   "source": [
    "## Code cell 34 ##\n",
    "\n",
    "cat(\"\\nNumber of samples : \", length(sample_names), \"\\n\")"
   ]
  },
  {
   "cell_type": "markdown",
   "id": "72cae8c6-2e5d-405c-b1aa-1abe79e63594",
   "metadata": {},
   "source": [
    "--\n",
    "#### 1.3.2. Create a table of **raw read counts** *(NumReads)* per transcript for all samples"
   ]
  },
  {
   "cell_type": "markdown",
   "id": "335e6589-6d10-4559-a388-9f51043a552b",
   "metadata": {},
   "source": [
    "We now start with the first sample and read the `quant.sf` file with its first column *(name of the transcript)* and its last (=5th) column *(NumReads)* containg the raw counts per transcript:"
   ]
  },
  {
   "cell_type": "code",
   "execution_count": 36,
   "id": "7a3a2c9a-9c0a-44b1-8d4a-05fb9eb785e7",
   "metadata": {},
   "outputs": [
    {
     "name": "stdout",
     "output_type": "stream",
     "text": [
      "\n",
      "First sample : ./Results/salmon/SRR12730403/quant.sf \n"
     ]
    }
   ],
   "source": [
    "## Code cell 36 ##\n",
    "\n",
    "cat(\"\\nFirst sample :\", sample_files[1], \"\\n\")"
   ]
  },
  {
   "cell_type": "code",
   "execution_count": 37,
   "id": "bf9ab5ee-9bb4-4fb7-a517-9b15daca4436",
   "metadata": {},
   "outputs": [
    {
     "data": {
      "text/html": [
       "<table class=\"dataframe\">\n",
       "<caption>A data.frame: 6 x 2</caption>\n",
       "<thead>\n",
       "\t<tr><th></th><th scope=col>Name</th><th scope=col>NumReads</th></tr>\n",
       "\t<tr><th></th><th scope=col>&lt;chr&gt;</th><th scope=col>&lt;dbl&gt;</th></tr>\n",
       "</thead>\n",
       "<tbody>\n",
       "\t<tr><th scope=row>1</th><td>ENSMUST00000193812.2</td><td>0</td></tr>\n",
       "\t<tr><th scope=row>2</th><td>ENSMUST00000082908.3</td><td>0</td></tr>\n",
       "\t<tr><th scope=row>3</th><td>ENSMUST00000162897.2</td><td>0</td></tr>\n",
       "\t<tr><th scope=row>4</th><td>ENSMUST00000159265.2</td><td>0</td></tr>\n",
       "\t<tr><th scope=row>5</th><td>ENSMUST00000070533.5</td><td>0</td></tr>\n",
       "\t<tr><th scope=row>6</th><td>ENSMUST00000192857.2</td><td>0</td></tr>\n",
       "</tbody>\n",
       "</table>\n"
      ],
      "text/latex": [
       "A data.frame: 6 x 2\n",
       "\\begin{tabular}{r|ll}\n",
       "  & Name & NumReads\\\\\n",
       "  & <chr> & <dbl>\\\\\n",
       "\\hline\n",
       "\t1 & ENSMUST00000193812.2 & 0\\\\\n",
       "\t2 & ENSMUST00000082908.3 & 0\\\\\n",
       "\t3 & ENSMUST00000162897.2 & 0\\\\\n",
       "\t4 & ENSMUST00000159265.2 & 0\\\\\n",
       "\t5 & ENSMUST00000070533.5 & 0\\\\\n",
       "\t6 & ENSMUST00000192857.2 & 0\\\\\n",
       "\\end{tabular}\n"
      ],
      "text/markdown": [
       "\n",
       "A data.frame: 6 x 2\n",
       "\n",
       "| <!--/--> | Name &lt;chr&gt; | NumReads &lt;dbl&gt; |\n",
       "|---|---|---|\n",
       "| 1 | ENSMUST00000193812.2 | 0 |\n",
       "| 2 | ENSMUST00000082908.3 | 0 |\n",
       "| 3 | ENSMUST00000162897.2 | 0 |\n",
       "| 4 | ENSMUST00000159265.2 | 0 |\n",
       "| 5 | ENSMUST00000070533.5 | 0 |\n",
       "| 6 | ENSMUST00000192857.2 | 0 |\n",
       "\n"
      ],
      "text/plain": [
       "  Name                 NumReads\n",
       "1 ENSMUST00000193812.2 0       \n",
       "2 ENSMUST00000082908.3 0       \n",
       "3 ENSMUST00000162897.2 0       \n",
       "4 ENSMUST00000159265.2 0       \n",
       "5 ENSMUST00000070533.5 0       \n",
       "6 ENSMUST00000192857.2 0       "
      ]
     },
     "metadata": {},
     "output_type": "display_data"
    },
    {
     "data": {
      "text/html": [
       "<style>\n",
       ".list-inline {list-style: none; margin:0; padding: 0}\n",
       ".list-inline>li {display: inline-block}\n",
       ".list-inline>li:not(:last-child)::after {content: \"\\00b7\"; padding: 0 .5ex}\n",
       "</style>\n",
       "<ol class=list-inline><li>147556</li><li>2</li></ol>\n"
      ],
      "text/latex": [
       "\\begin{enumerate*}\n",
       "\\item 147556\n",
       "\\item 2\n",
       "\\end{enumerate*}\n"
      ],
      "text/markdown": [
       "1. 147556\n",
       "2. 2\n",
       "\n",
       "\n"
      ],
      "text/plain": [
       "[1] 147556      2"
      ]
     },
     "metadata": {},
     "output_type": "display_data"
    }
   ],
   "source": [
    "## Code cell 37 ##\n",
    "\n",
    "numreads <- read.table(sample_files[1], sep = \"\\t\", header= T)\n",
    "numreads <- numreads [,c(1,5)]\n",
    "head(numreads)\n",
    "dim(numreads)"
   ]
  },
  {
   "cell_type": "markdown",
   "id": "5cbe691c-516c-433f-837e-7fc36675881b",
   "metadata": {},
   "source": [
    "We keep going with a loop to retrieve in the same dataframe the other samples and we rename the columns: the first one as `transcript_id` and the `NumReads` columns with the sample name."
   ]
  },
  {
   "cell_type": "code",
   "execution_count": 38,
   "id": "9c7dc1a5-aca2-4912-bedd-f810733202f2",
   "metadata": {},
   "outputs": [
    {
     "data": {
      "text/html": [
       "<table class=\"dataframe\">\n",
       "<caption>A data.frame: 6 x 12</caption>\n",
       "<thead>\n",
       "\t<tr><th></th><th scope=col>transcript_id</th><th scope=col>SRR12730403</th><th scope=col>SRR12730404</th><th scope=col>SRR12730405</th><th scope=col>SRR12730406</th><th scope=col>SRR12730407</th><th scope=col>SRR12730408</th><th scope=col>SRR12730409</th><th scope=col>SRR12730410</th><th scope=col>SRR12730411</th><th scope=col>SRR12730412</th><th scope=col>SRR12730413</th></tr>\n",
       "\t<tr><th></th><th scope=col>&lt;chr&gt;</th><th scope=col>&lt;dbl&gt;</th><th scope=col>&lt;dbl&gt;</th><th scope=col>&lt;dbl&gt;</th><th scope=col>&lt;dbl&gt;</th><th scope=col>&lt;dbl&gt;</th><th scope=col>&lt;dbl&gt;</th><th scope=col>&lt;dbl&gt;</th><th scope=col>&lt;dbl&gt;</th><th scope=col>&lt;dbl&gt;</th><th scope=col>&lt;dbl&gt;</th><th scope=col>&lt;dbl&gt;</th></tr>\n",
       "</thead>\n",
       "<tbody>\n",
       "\t<tr><th scope=row>1</th><td>ENSMUST00000193812.2</td><td>0</td><td>0</td><td>0</td><td>0</td><td>0</td><td>0</td><td>0</td><td>0</td><td>0</td><td>0</td><td>0</td></tr>\n",
       "\t<tr><th scope=row>2</th><td>ENSMUST00000082908.3</td><td>0</td><td>0</td><td>0</td><td>0</td><td>0</td><td>0</td><td>0</td><td>0</td><td>0</td><td>0</td><td>0</td></tr>\n",
       "\t<tr><th scope=row>3</th><td>ENSMUST00000162897.2</td><td>0</td><td>0</td><td>0</td><td>0</td><td>0</td><td>0</td><td>0</td><td>0</td><td>0</td><td>0</td><td>0</td></tr>\n",
       "\t<tr><th scope=row>4</th><td>ENSMUST00000159265.2</td><td>0</td><td>0</td><td>0</td><td>0</td><td>0</td><td>0</td><td>0</td><td>0</td><td>0</td><td>0</td><td>0</td></tr>\n",
       "\t<tr><th scope=row>5</th><td>ENSMUST00000070533.5</td><td>0</td><td>0</td><td>0</td><td>0</td><td>0</td><td>0</td><td>0</td><td>0</td><td>0</td><td>0</td><td>0</td></tr>\n",
       "\t<tr><th scope=row>6</th><td>ENSMUST00000192857.2</td><td>0</td><td>0</td><td>0</td><td>0</td><td>0</td><td>0</td><td>0</td><td>0</td><td>0</td><td>0</td><td>0</td></tr>\n",
       "</tbody>\n",
       "</table>\n"
      ],
      "text/latex": [
       "A data.frame: 6 x 12\n",
       "\\begin{tabular}{r|llllllllllll}\n",
       "  & transcript\\_id & SRR12730403 & SRR12730404 & SRR12730405 & SRR12730406 & SRR12730407 & SRR12730408 & SRR12730409 & SRR12730410 & SRR12730411 & SRR12730412 & SRR12730413\\\\\n",
       "  & <chr> & <dbl> & <dbl> & <dbl> & <dbl> & <dbl> & <dbl> & <dbl> & <dbl> & <dbl> & <dbl> & <dbl>\\\\\n",
       "\\hline\n",
       "\t1 & ENSMUST00000193812.2 & 0 & 0 & 0 & 0 & 0 & 0 & 0 & 0 & 0 & 0 & 0\\\\\n",
       "\t2 & ENSMUST00000082908.3 & 0 & 0 & 0 & 0 & 0 & 0 & 0 & 0 & 0 & 0 & 0\\\\\n",
       "\t3 & ENSMUST00000162897.2 & 0 & 0 & 0 & 0 & 0 & 0 & 0 & 0 & 0 & 0 & 0\\\\\n",
       "\t4 & ENSMUST00000159265.2 & 0 & 0 & 0 & 0 & 0 & 0 & 0 & 0 & 0 & 0 & 0\\\\\n",
       "\t5 & ENSMUST00000070533.5 & 0 & 0 & 0 & 0 & 0 & 0 & 0 & 0 & 0 & 0 & 0\\\\\n",
       "\t6 & ENSMUST00000192857.2 & 0 & 0 & 0 & 0 & 0 & 0 & 0 & 0 & 0 & 0 & 0\\\\\n",
       "\\end{tabular}\n"
      ],
      "text/markdown": [
       "\n",
       "A data.frame: 6 x 12\n",
       "\n",
       "| <!--/--> | transcript_id &lt;chr&gt; | SRR12730403 &lt;dbl&gt; | SRR12730404 &lt;dbl&gt; | SRR12730405 &lt;dbl&gt; | SRR12730406 &lt;dbl&gt; | SRR12730407 &lt;dbl&gt; | SRR12730408 &lt;dbl&gt; | SRR12730409 &lt;dbl&gt; | SRR12730410 &lt;dbl&gt; | SRR12730411 &lt;dbl&gt; | SRR12730412 &lt;dbl&gt; | SRR12730413 &lt;dbl&gt; |\n",
       "|---|---|---|---|---|---|---|---|---|---|---|---|---|\n",
       "| 1 | ENSMUST00000193812.2 | 0 | 0 | 0 | 0 | 0 | 0 | 0 | 0 | 0 | 0 | 0 |\n",
       "| 2 | ENSMUST00000082908.3 | 0 | 0 | 0 | 0 | 0 | 0 | 0 | 0 | 0 | 0 | 0 |\n",
       "| 3 | ENSMUST00000162897.2 | 0 | 0 | 0 | 0 | 0 | 0 | 0 | 0 | 0 | 0 | 0 |\n",
       "| 4 | ENSMUST00000159265.2 | 0 | 0 | 0 | 0 | 0 | 0 | 0 | 0 | 0 | 0 | 0 |\n",
       "| 5 | ENSMUST00000070533.5 | 0 | 0 | 0 | 0 | 0 | 0 | 0 | 0 | 0 | 0 | 0 |\n",
       "| 6 | ENSMUST00000192857.2 | 0 | 0 | 0 | 0 | 0 | 0 | 0 | 0 | 0 | 0 | 0 |\n",
       "\n"
      ],
      "text/plain": [
       "  transcript_id        SRR12730403 SRR12730404 SRR12730405 SRR12730406\n",
       "1 ENSMUST00000193812.2 0           0           0           0          \n",
       "2 ENSMUST00000082908.3 0           0           0           0          \n",
       "3 ENSMUST00000162897.2 0           0           0           0          \n",
       "4 ENSMUST00000159265.2 0           0           0           0          \n",
       "5 ENSMUST00000070533.5 0           0           0           0          \n",
       "6 ENSMUST00000192857.2 0           0           0           0          \n",
       "  SRR12730407 SRR12730408 SRR12730409 SRR12730410 SRR12730411 SRR12730412\n",
       "1 0           0           0           0           0           0          \n",
       "2 0           0           0           0           0           0          \n",
       "3 0           0           0           0           0           0          \n",
       "4 0           0           0           0           0           0          \n",
       "5 0           0           0           0           0           0          \n",
       "6 0           0           0           0           0           0          \n",
       "  SRR12730413\n",
       "1 0          \n",
       "2 0          \n",
       "3 0          \n",
       "4 0          \n",
       "5 0          \n",
       "6 0          "
      ]
     },
     "metadata": {},
     "output_type": "display_data"
    }
   ],
   "source": [
    "## Code cell 38 ##\n",
    "\n",
    "for (i in 2:length(sample_files)) { \n",
    " mytab <- read.table(sample_files[i], sep = \"\\t\", header= T)\n",
    " mytab  <- mytab  [,c(1,5)]  \n",
    " names(mytab)[2] <- sample_names[i]\n",
    " numreads <- numreads %>% left_join(mytab, by='Name')\n",
    "}\n",
    "names(numreads) <- c(\"transcript_id\", sample_names)\t\n",
    "head(numreads)\n",
    "rm(mytab)"
   ]
  },
  {
   "cell_type": "markdown",
   "id": "5c2ef7d5-83dc-4766-9195-910b78a6d55c",
   "metadata": {},
   "source": [
    "For further analyses, it is even better to rename the samples currently idntified by their SRR number with the corresponding sample name after checking the correct correspondance of IDs. "
   ]
  },
  {
   "cell_type": "code",
   "execution_count": 39,
   "id": "5c6d5d9c-2420-4b16-8cda-3f63a834cec8",
   "metadata": {},
   "outputs": [
    {
     "data": {
      "text/plain": [
       "\n",
       "TRUE \n",
       "  11 "
      ]
     },
     "metadata": {},
     "output_type": "display_data"
    },
    {
     "data": {
      "text/html": [
       "<table class=\"dataframe\">\n",
       "<caption>A data.frame: 6 x 12</caption>\n",
       "<thead>\n",
       "\t<tr><th></th><th scope=col>transcript_id</th><th scope=col>dHet_B-ALL_686_rep1</th><th scope=col>dHet_B-ALL_686_rep2</th><th scope=col>dHet_B-ALL_713_rep1</th><th scope=col>dHet_B-ALL_713_rep2</th><th scope=col>dHet_B-ALL_760_rep1</th><th scope=col>dHet_B-ALL_760_rep2</th><th scope=col>dHet_FetalLiver_proB_rep1</th><th scope=col>dHet_FetalLiver_proB_rep2</th><th scope=col>dHet_FetalLiver_proB_rep3</th><th scope=col>wt_BoneMar_proB_rep1</th><th scope=col>wt_BoneMar_proB_rep2</th></tr>\n",
       "\t<tr><th></th><th scope=col>&lt;chr&gt;</th><th scope=col>&lt;dbl&gt;</th><th scope=col>&lt;dbl&gt;</th><th scope=col>&lt;dbl&gt;</th><th scope=col>&lt;dbl&gt;</th><th scope=col>&lt;dbl&gt;</th><th scope=col>&lt;dbl&gt;</th><th scope=col>&lt;dbl&gt;</th><th scope=col>&lt;dbl&gt;</th><th scope=col>&lt;dbl&gt;</th><th scope=col>&lt;dbl&gt;</th><th scope=col>&lt;dbl&gt;</th></tr>\n",
       "</thead>\n",
       "<tbody>\n",
       "\t<tr><th scope=row>1</th><td>ENSMUST00000193812.2</td><td>0</td><td>0</td><td>0</td><td>0</td><td>0</td><td>0</td><td>0</td><td>0</td><td>0</td><td>0</td><td>0</td></tr>\n",
       "\t<tr><th scope=row>2</th><td>ENSMUST00000082908.3</td><td>0</td><td>0</td><td>0</td><td>0</td><td>0</td><td>0</td><td>0</td><td>0</td><td>0</td><td>0</td><td>0</td></tr>\n",
       "\t<tr><th scope=row>3</th><td>ENSMUST00000162897.2</td><td>0</td><td>0</td><td>0</td><td>0</td><td>0</td><td>0</td><td>0</td><td>0</td><td>0</td><td>0</td><td>0</td></tr>\n",
       "\t<tr><th scope=row>4</th><td>ENSMUST00000159265.2</td><td>0</td><td>0</td><td>0</td><td>0</td><td>0</td><td>0</td><td>0</td><td>0</td><td>0</td><td>0</td><td>0</td></tr>\n",
       "\t<tr><th scope=row>5</th><td>ENSMUST00000070533.5</td><td>0</td><td>0</td><td>0</td><td>0</td><td>0</td><td>0</td><td>0</td><td>0</td><td>0</td><td>0</td><td>0</td></tr>\n",
       "\t<tr><th scope=row>6</th><td>ENSMUST00000192857.2</td><td>0</td><td>0</td><td>0</td><td>0</td><td>0</td><td>0</td><td>0</td><td>0</td><td>0</td><td>0</td><td>0</td></tr>\n",
       "</tbody>\n",
       "</table>\n"
      ],
      "text/latex": [
       "A data.frame: 6 x 12\n",
       "\\begin{tabular}{r|llllllllllll}\n",
       "  & transcript\\_id & dHet\\_B-ALL\\_686\\_rep1 & dHet\\_B-ALL\\_686\\_rep2 & dHet\\_B-ALL\\_713\\_rep1 & dHet\\_B-ALL\\_713\\_rep2 & dHet\\_B-ALL\\_760\\_rep1 & dHet\\_B-ALL\\_760\\_rep2 & dHet\\_FetalLiver\\_proB\\_rep1 & dHet\\_FetalLiver\\_proB\\_rep2 & dHet\\_FetalLiver\\_proB\\_rep3 & wt\\_BoneMar\\_proB\\_rep1 & wt\\_BoneMar\\_proB\\_rep2\\\\\n",
       "  & <chr> & <dbl> & <dbl> & <dbl> & <dbl> & <dbl> & <dbl> & <dbl> & <dbl> & <dbl> & <dbl> & <dbl>\\\\\n",
       "\\hline\n",
       "\t1 & ENSMUST00000193812.2 & 0 & 0 & 0 & 0 & 0 & 0 & 0 & 0 & 0 & 0 & 0\\\\\n",
       "\t2 & ENSMUST00000082908.3 & 0 & 0 & 0 & 0 & 0 & 0 & 0 & 0 & 0 & 0 & 0\\\\\n",
       "\t3 & ENSMUST00000162897.2 & 0 & 0 & 0 & 0 & 0 & 0 & 0 & 0 & 0 & 0 & 0\\\\\n",
       "\t4 & ENSMUST00000159265.2 & 0 & 0 & 0 & 0 & 0 & 0 & 0 & 0 & 0 & 0 & 0\\\\\n",
       "\t5 & ENSMUST00000070533.5 & 0 & 0 & 0 & 0 & 0 & 0 & 0 & 0 & 0 & 0 & 0\\\\\n",
       "\t6 & ENSMUST00000192857.2 & 0 & 0 & 0 & 0 & 0 & 0 & 0 & 0 & 0 & 0 & 0\\\\\n",
       "\\end{tabular}\n"
      ],
      "text/markdown": [
       "\n",
       "A data.frame: 6 x 12\n",
       "\n",
       "| <!--/--> | transcript_id &lt;chr&gt; | dHet_B-ALL_686_rep1 &lt;dbl&gt; | dHet_B-ALL_686_rep2 &lt;dbl&gt; | dHet_B-ALL_713_rep1 &lt;dbl&gt; | dHet_B-ALL_713_rep2 &lt;dbl&gt; | dHet_B-ALL_760_rep1 &lt;dbl&gt; | dHet_B-ALL_760_rep2 &lt;dbl&gt; | dHet_FetalLiver_proB_rep1 &lt;dbl&gt; | dHet_FetalLiver_proB_rep2 &lt;dbl&gt; | dHet_FetalLiver_proB_rep3 &lt;dbl&gt; | wt_BoneMar_proB_rep1 &lt;dbl&gt; | wt_BoneMar_proB_rep2 &lt;dbl&gt; |\n",
       "|---|---|---|---|---|---|---|---|---|---|---|---|---|\n",
       "| 1 | ENSMUST00000193812.2 | 0 | 0 | 0 | 0 | 0 | 0 | 0 | 0 | 0 | 0 | 0 |\n",
       "| 2 | ENSMUST00000082908.3 | 0 | 0 | 0 | 0 | 0 | 0 | 0 | 0 | 0 | 0 | 0 |\n",
       "| 3 | ENSMUST00000162897.2 | 0 | 0 | 0 | 0 | 0 | 0 | 0 | 0 | 0 | 0 | 0 |\n",
       "| 4 | ENSMUST00000159265.2 | 0 | 0 | 0 | 0 | 0 | 0 | 0 | 0 | 0 | 0 | 0 |\n",
       "| 5 | ENSMUST00000070533.5 | 0 | 0 | 0 | 0 | 0 | 0 | 0 | 0 | 0 | 0 | 0 |\n",
       "| 6 | ENSMUST00000192857.2 | 0 | 0 | 0 | 0 | 0 | 0 | 0 | 0 | 0 | 0 | 0 |\n",
       "\n"
      ],
      "text/plain": [
       "  transcript_id        dHet_B-ALL_686_rep1 dHet_B-ALL_686_rep2\n",
       "1 ENSMUST00000193812.2 0                   0                  \n",
       "2 ENSMUST00000082908.3 0                   0                  \n",
       "3 ENSMUST00000162897.2 0                   0                  \n",
       "4 ENSMUST00000159265.2 0                   0                  \n",
       "5 ENSMUST00000070533.5 0                   0                  \n",
       "6 ENSMUST00000192857.2 0                   0                  \n",
       "  dHet_B-ALL_713_rep1 dHet_B-ALL_713_rep2 dHet_B-ALL_760_rep1\n",
       "1 0                   0                   0                  \n",
       "2 0                   0                   0                  \n",
       "3 0                   0                   0                  \n",
       "4 0                   0                   0                  \n",
       "5 0                   0                   0                  \n",
       "6 0                   0                   0                  \n",
       "  dHet_B-ALL_760_rep2 dHet_FetalLiver_proB_rep1 dHet_FetalLiver_proB_rep2\n",
       "1 0                   0                         0                        \n",
       "2 0                   0                         0                        \n",
       "3 0                   0                         0                        \n",
       "4 0                   0                         0                        \n",
       "5 0                   0                         0                        \n",
       "6 0                   0                         0                        \n",
       "  dHet_FetalLiver_proB_rep3 wt_BoneMar_proB_rep1 wt_BoneMar_proB_rep2\n",
       "1 0                         0                    0                   \n",
       "2 0                         0                    0                   \n",
       "3 0                         0                    0                   \n",
       "4 0                         0                    0                   \n",
       "5 0                         0                    0                   \n",
       "6 0                         0                    0                   "
      ]
     },
     "metadata": {},
     "output_type": "display_data"
    }
   ],
   "source": [
    "## Code cell 39 ##\n",
    "\n",
    "table(names(numreads)[-1] == samples$SampleID)\n",
    "names(numreads)[-1]  <- samples$SampleName\n",
    "head(numreads)"
   ]
  },
  {
   "cell_type": "markdown",
   "id": "66029106-5924-4be0-a920-6d39c83505d0",
   "metadata": {},
   "source": [
    "--\n",
    "#### 1.3.3. Create a table of **transcripts per millions** *(TPM)* for all samples"
   ]
  },
  {
   "cell_type": "markdown",
   "id": "d297a122-4b08-4e65-953f-1e87d8b9ef0c",
   "metadata": {},
   "source": [
    "Similarly, we generate a dataframe with TPM counts for all samples. These TPMs were already calculated by salmon and are present in the forth column of the `quant.sf` files."
   ]
  },
  {
   "cell_type": "code",
   "execution_count": 40,
   "id": "e3c812b3-0dd6-4657-86f9-2e2a71acf449",
   "metadata": {},
   "outputs": [
    {
     "name": "stdout",
     "output_type": "stream",
     "text": [
      "Table dimensions :  147556 12 \n"
     ]
    },
    {
     "data": {
      "text/html": [
       "<table class=\"dataframe\">\n",
       "<caption>A data.frame: 6 x 12</caption>\n",
       "<thead>\n",
       "\t<tr><th></th><th scope=col>transcript_id</th><th scope=col>SRR12730403</th><th scope=col>SRR12730404</th><th scope=col>SRR12730405</th><th scope=col>SRR12730406</th><th scope=col>SRR12730407</th><th scope=col>SRR12730408</th><th scope=col>SRR12730409</th><th scope=col>SRR12730410</th><th scope=col>SRR12730411</th><th scope=col>SRR12730412</th><th scope=col>SRR12730413</th></tr>\n",
       "\t<tr><th></th><th scope=col>&lt;chr&gt;</th><th scope=col>&lt;dbl&gt;</th><th scope=col>&lt;dbl&gt;</th><th scope=col>&lt;dbl&gt;</th><th scope=col>&lt;dbl&gt;</th><th scope=col>&lt;dbl&gt;</th><th scope=col>&lt;dbl&gt;</th><th scope=col>&lt;dbl&gt;</th><th scope=col>&lt;dbl&gt;</th><th scope=col>&lt;dbl&gt;</th><th scope=col>&lt;dbl&gt;</th><th scope=col>&lt;dbl&gt;</th></tr>\n",
       "</thead>\n",
       "<tbody>\n",
       "\t<tr><th scope=row>1</th><td>ENSMUST00000193812.2</td><td>0</td><td>0</td><td>0</td><td>0</td><td>0</td><td>0</td><td>0</td><td>0</td><td>0</td><td>0</td><td>0</td></tr>\n",
       "\t<tr><th scope=row>2</th><td>ENSMUST00000082908.3</td><td>0</td><td>0</td><td>0</td><td>0</td><td>0</td><td>0</td><td>0</td><td>0</td><td>0</td><td>0</td><td>0</td></tr>\n",
       "\t<tr><th scope=row>3</th><td>ENSMUST00000162897.2</td><td>0</td><td>0</td><td>0</td><td>0</td><td>0</td><td>0</td><td>0</td><td>0</td><td>0</td><td>0</td><td>0</td></tr>\n",
       "\t<tr><th scope=row>4</th><td>ENSMUST00000159265.2</td><td>0</td><td>0</td><td>0</td><td>0</td><td>0</td><td>0</td><td>0</td><td>0</td><td>0</td><td>0</td><td>0</td></tr>\n",
       "\t<tr><th scope=row>5</th><td>ENSMUST00000070533.5</td><td>0</td><td>0</td><td>0</td><td>0</td><td>0</td><td>0</td><td>0</td><td>0</td><td>0</td><td>0</td><td>0</td></tr>\n",
       "\t<tr><th scope=row>6</th><td>ENSMUST00000192857.2</td><td>0</td><td>0</td><td>0</td><td>0</td><td>0</td><td>0</td><td>0</td><td>0</td><td>0</td><td>0</td><td>0</td></tr>\n",
       "</tbody>\n",
       "</table>\n"
      ],
      "text/latex": [
       "A data.frame: 6 x 12\n",
       "\\begin{tabular}{r|llllllllllll}\n",
       "  & transcript\\_id & SRR12730403 & SRR12730404 & SRR12730405 & SRR12730406 & SRR12730407 & SRR12730408 & SRR12730409 & SRR12730410 & SRR12730411 & SRR12730412 & SRR12730413\\\\\n",
       "  & <chr> & <dbl> & <dbl> & <dbl> & <dbl> & <dbl> & <dbl> & <dbl> & <dbl> & <dbl> & <dbl> & <dbl>\\\\\n",
       "\\hline\n",
       "\t1 & ENSMUST00000193812.2 & 0 & 0 & 0 & 0 & 0 & 0 & 0 & 0 & 0 & 0 & 0\\\\\n",
       "\t2 & ENSMUST00000082908.3 & 0 & 0 & 0 & 0 & 0 & 0 & 0 & 0 & 0 & 0 & 0\\\\\n",
       "\t3 & ENSMUST00000162897.2 & 0 & 0 & 0 & 0 & 0 & 0 & 0 & 0 & 0 & 0 & 0\\\\\n",
       "\t4 & ENSMUST00000159265.2 & 0 & 0 & 0 & 0 & 0 & 0 & 0 & 0 & 0 & 0 & 0\\\\\n",
       "\t5 & ENSMUST00000070533.5 & 0 & 0 & 0 & 0 & 0 & 0 & 0 & 0 & 0 & 0 & 0\\\\\n",
       "\t6 & ENSMUST00000192857.2 & 0 & 0 & 0 & 0 & 0 & 0 & 0 & 0 & 0 & 0 & 0\\\\\n",
       "\\end{tabular}\n"
      ],
      "text/markdown": [
       "\n",
       "A data.frame: 6 x 12\n",
       "\n",
       "| <!--/--> | transcript_id &lt;chr&gt; | SRR12730403 &lt;dbl&gt; | SRR12730404 &lt;dbl&gt; | SRR12730405 &lt;dbl&gt; | SRR12730406 &lt;dbl&gt; | SRR12730407 &lt;dbl&gt; | SRR12730408 &lt;dbl&gt; | SRR12730409 &lt;dbl&gt; | SRR12730410 &lt;dbl&gt; | SRR12730411 &lt;dbl&gt; | SRR12730412 &lt;dbl&gt; | SRR12730413 &lt;dbl&gt; |\n",
       "|---|---|---|---|---|---|---|---|---|---|---|---|---|\n",
       "| 1 | ENSMUST00000193812.2 | 0 | 0 | 0 | 0 | 0 | 0 | 0 | 0 | 0 | 0 | 0 |\n",
       "| 2 | ENSMUST00000082908.3 | 0 | 0 | 0 | 0 | 0 | 0 | 0 | 0 | 0 | 0 | 0 |\n",
       "| 3 | ENSMUST00000162897.2 | 0 | 0 | 0 | 0 | 0 | 0 | 0 | 0 | 0 | 0 | 0 |\n",
       "| 4 | ENSMUST00000159265.2 | 0 | 0 | 0 | 0 | 0 | 0 | 0 | 0 | 0 | 0 | 0 |\n",
       "| 5 | ENSMUST00000070533.5 | 0 | 0 | 0 | 0 | 0 | 0 | 0 | 0 | 0 | 0 | 0 |\n",
       "| 6 | ENSMUST00000192857.2 | 0 | 0 | 0 | 0 | 0 | 0 | 0 | 0 | 0 | 0 | 0 |\n",
       "\n"
      ],
      "text/plain": [
       "  transcript_id        SRR12730403 SRR12730404 SRR12730405 SRR12730406\n",
       "1 ENSMUST00000193812.2 0           0           0           0          \n",
       "2 ENSMUST00000082908.3 0           0           0           0          \n",
       "3 ENSMUST00000162897.2 0           0           0           0          \n",
       "4 ENSMUST00000159265.2 0           0           0           0          \n",
       "5 ENSMUST00000070533.5 0           0           0           0          \n",
       "6 ENSMUST00000192857.2 0           0           0           0          \n",
       "  SRR12730407 SRR12730408 SRR12730409 SRR12730410 SRR12730411 SRR12730412\n",
       "1 0           0           0           0           0           0          \n",
       "2 0           0           0           0           0           0          \n",
       "3 0           0           0           0           0           0          \n",
       "4 0           0           0           0           0           0          \n",
       "5 0           0           0           0           0           0          \n",
       "6 0           0           0           0           0           0          \n",
       "  SRR12730413\n",
       "1 0          \n",
       "2 0          \n",
       "3 0          \n",
       "4 0          \n",
       "5 0          \n",
       "6 0          "
      ]
     },
     "metadata": {},
     "output_type": "display_data"
    }
   ],
   "source": [
    "## Code cell 40 ##\n",
    "\n",
    "tpm <- read.table(sample_files[1], sep = \"\\t\", header= T)\n",
    "tpm <- tpm [,c(1,4)]\n",
    "#head(tpm)\n",
    "\n",
    "for (i in 2:length(sample_files)) { \n",
    " mytab <- read.table(sample_files[i], sep = \"\\t\", header= T)\n",
    " mytab  <- mytab  [,c(1,4)]  \n",
    " names(mytab)[2] <- sample_names[i]\n",
    " tpm <- tpm %>% left_join(mytab, by='Name')\n",
    "}\n",
    "names(tpm) <- c(\"transcript_id\", sample_names)\t\n",
    "cat(\"Table dimensions : \", dim(tpm), \"\\n\")\n",
    "head(tpm)\n",
    "rm(mytab)"
   ]
  },
  {
   "cell_type": "markdown",
   "id": "7b80100f-080e-47f1-875f-77f30af68b95",
   "metadata": {},
   "source": [
    "For further analyses, it is even better to rename the samples currently idntified by their SRR number with the corresponding sample name after checking the correct correspondance of IDs. "
   ]
  },
  {
   "cell_type": "code",
   "execution_count": 41,
   "id": "8d74a4f9-9267-4c31-97d1-99bb2cfa2da7",
   "metadata": {},
   "outputs": [
    {
     "data": {
      "text/plain": [
       "\n",
       "TRUE \n",
       "  11 "
      ]
     },
     "metadata": {},
     "output_type": "display_data"
    },
    {
     "data": {
      "text/html": [
       "<table class=\"dataframe\">\n",
       "<caption>A data.frame: 6 x 12</caption>\n",
       "<thead>\n",
       "\t<tr><th></th><th scope=col>transcript_id</th><th scope=col>dHet_B-ALL_686_rep1</th><th scope=col>dHet_B-ALL_686_rep2</th><th scope=col>dHet_B-ALL_713_rep1</th><th scope=col>dHet_B-ALL_713_rep2</th><th scope=col>dHet_B-ALL_760_rep1</th><th scope=col>dHet_B-ALL_760_rep2</th><th scope=col>dHet_FetalLiver_proB_rep1</th><th scope=col>dHet_FetalLiver_proB_rep2</th><th scope=col>dHet_FetalLiver_proB_rep3</th><th scope=col>wt_BoneMar_proB_rep1</th><th scope=col>wt_BoneMar_proB_rep2</th></tr>\n",
       "\t<tr><th></th><th scope=col>&lt;chr&gt;</th><th scope=col>&lt;dbl&gt;</th><th scope=col>&lt;dbl&gt;</th><th scope=col>&lt;dbl&gt;</th><th scope=col>&lt;dbl&gt;</th><th scope=col>&lt;dbl&gt;</th><th scope=col>&lt;dbl&gt;</th><th scope=col>&lt;dbl&gt;</th><th scope=col>&lt;dbl&gt;</th><th scope=col>&lt;dbl&gt;</th><th scope=col>&lt;dbl&gt;</th><th scope=col>&lt;dbl&gt;</th></tr>\n",
       "</thead>\n",
       "<tbody>\n",
       "\t<tr><th scope=row>1</th><td>ENSMUST00000193812.2</td><td>0</td><td>0</td><td>0</td><td>0</td><td>0</td><td>0</td><td>0</td><td>0</td><td>0</td><td>0</td><td>0</td></tr>\n",
       "\t<tr><th scope=row>2</th><td>ENSMUST00000082908.3</td><td>0</td><td>0</td><td>0</td><td>0</td><td>0</td><td>0</td><td>0</td><td>0</td><td>0</td><td>0</td><td>0</td></tr>\n",
       "\t<tr><th scope=row>3</th><td>ENSMUST00000162897.2</td><td>0</td><td>0</td><td>0</td><td>0</td><td>0</td><td>0</td><td>0</td><td>0</td><td>0</td><td>0</td><td>0</td></tr>\n",
       "\t<tr><th scope=row>4</th><td>ENSMUST00000159265.2</td><td>0</td><td>0</td><td>0</td><td>0</td><td>0</td><td>0</td><td>0</td><td>0</td><td>0</td><td>0</td><td>0</td></tr>\n",
       "\t<tr><th scope=row>5</th><td>ENSMUST00000070533.5</td><td>0</td><td>0</td><td>0</td><td>0</td><td>0</td><td>0</td><td>0</td><td>0</td><td>0</td><td>0</td><td>0</td></tr>\n",
       "\t<tr><th scope=row>6</th><td>ENSMUST00000192857.2</td><td>0</td><td>0</td><td>0</td><td>0</td><td>0</td><td>0</td><td>0</td><td>0</td><td>0</td><td>0</td><td>0</td></tr>\n",
       "</tbody>\n",
       "</table>\n"
      ],
      "text/latex": [
       "A data.frame: 6 x 12\n",
       "\\begin{tabular}{r|llllllllllll}\n",
       "  & transcript\\_id & dHet\\_B-ALL\\_686\\_rep1 & dHet\\_B-ALL\\_686\\_rep2 & dHet\\_B-ALL\\_713\\_rep1 & dHet\\_B-ALL\\_713\\_rep2 & dHet\\_B-ALL\\_760\\_rep1 & dHet\\_B-ALL\\_760\\_rep2 & dHet\\_FetalLiver\\_proB\\_rep1 & dHet\\_FetalLiver\\_proB\\_rep2 & dHet\\_FetalLiver\\_proB\\_rep3 & wt\\_BoneMar\\_proB\\_rep1 & wt\\_BoneMar\\_proB\\_rep2\\\\\n",
       "  & <chr> & <dbl> & <dbl> & <dbl> & <dbl> & <dbl> & <dbl> & <dbl> & <dbl> & <dbl> & <dbl> & <dbl>\\\\\n",
       "\\hline\n",
       "\t1 & ENSMUST00000193812.2 & 0 & 0 & 0 & 0 & 0 & 0 & 0 & 0 & 0 & 0 & 0\\\\\n",
       "\t2 & ENSMUST00000082908.3 & 0 & 0 & 0 & 0 & 0 & 0 & 0 & 0 & 0 & 0 & 0\\\\\n",
       "\t3 & ENSMUST00000162897.2 & 0 & 0 & 0 & 0 & 0 & 0 & 0 & 0 & 0 & 0 & 0\\\\\n",
       "\t4 & ENSMUST00000159265.2 & 0 & 0 & 0 & 0 & 0 & 0 & 0 & 0 & 0 & 0 & 0\\\\\n",
       "\t5 & ENSMUST00000070533.5 & 0 & 0 & 0 & 0 & 0 & 0 & 0 & 0 & 0 & 0 & 0\\\\\n",
       "\t6 & ENSMUST00000192857.2 & 0 & 0 & 0 & 0 & 0 & 0 & 0 & 0 & 0 & 0 & 0\\\\\n",
       "\\end{tabular}\n"
      ],
      "text/markdown": [
       "\n",
       "A data.frame: 6 x 12\n",
       "\n",
       "| <!--/--> | transcript_id &lt;chr&gt; | dHet_B-ALL_686_rep1 &lt;dbl&gt; | dHet_B-ALL_686_rep2 &lt;dbl&gt; | dHet_B-ALL_713_rep1 &lt;dbl&gt; | dHet_B-ALL_713_rep2 &lt;dbl&gt; | dHet_B-ALL_760_rep1 &lt;dbl&gt; | dHet_B-ALL_760_rep2 &lt;dbl&gt; | dHet_FetalLiver_proB_rep1 &lt;dbl&gt; | dHet_FetalLiver_proB_rep2 &lt;dbl&gt; | dHet_FetalLiver_proB_rep3 &lt;dbl&gt; | wt_BoneMar_proB_rep1 &lt;dbl&gt; | wt_BoneMar_proB_rep2 &lt;dbl&gt; |\n",
       "|---|---|---|---|---|---|---|---|---|---|---|---|---|\n",
       "| 1 | ENSMUST00000193812.2 | 0 | 0 | 0 | 0 | 0 | 0 | 0 | 0 | 0 | 0 | 0 |\n",
       "| 2 | ENSMUST00000082908.3 | 0 | 0 | 0 | 0 | 0 | 0 | 0 | 0 | 0 | 0 | 0 |\n",
       "| 3 | ENSMUST00000162897.2 | 0 | 0 | 0 | 0 | 0 | 0 | 0 | 0 | 0 | 0 | 0 |\n",
       "| 4 | ENSMUST00000159265.2 | 0 | 0 | 0 | 0 | 0 | 0 | 0 | 0 | 0 | 0 | 0 |\n",
       "| 5 | ENSMUST00000070533.5 | 0 | 0 | 0 | 0 | 0 | 0 | 0 | 0 | 0 | 0 | 0 |\n",
       "| 6 | ENSMUST00000192857.2 | 0 | 0 | 0 | 0 | 0 | 0 | 0 | 0 | 0 | 0 | 0 |\n",
       "\n"
      ],
      "text/plain": [
       "  transcript_id        dHet_B-ALL_686_rep1 dHet_B-ALL_686_rep2\n",
       "1 ENSMUST00000193812.2 0                   0                  \n",
       "2 ENSMUST00000082908.3 0                   0                  \n",
       "3 ENSMUST00000162897.2 0                   0                  \n",
       "4 ENSMUST00000159265.2 0                   0                  \n",
       "5 ENSMUST00000070533.5 0                   0                  \n",
       "6 ENSMUST00000192857.2 0                   0                  \n",
       "  dHet_B-ALL_713_rep1 dHet_B-ALL_713_rep2 dHet_B-ALL_760_rep1\n",
       "1 0                   0                   0                  \n",
       "2 0                   0                   0                  \n",
       "3 0                   0                   0                  \n",
       "4 0                   0                   0                  \n",
       "5 0                   0                   0                  \n",
       "6 0                   0                   0                  \n",
       "  dHet_B-ALL_760_rep2 dHet_FetalLiver_proB_rep1 dHet_FetalLiver_proB_rep2\n",
       "1 0                   0                         0                        \n",
       "2 0                   0                         0                        \n",
       "3 0                   0                         0                        \n",
       "4 0                   0                         0                        \n",
       "5 0                   0                         0                        \n",
       "6 0                   0                         0                        \n",
       "  dHet_FetalLiver_proB_rep3 wt_BoneMar_proB_rep1 wt_BoneMar_proB_rep2\n",
       "1 0                         0                    0                   \n",
       "2 0                         0                    0                   \n",
       "3 0                         0                    0                   \n",
       "4 0                         0                    0                   \n",
       "5 0                         0                    0                   \n",
       "6 0                         0                    0                   "
      ]
     },
     "metadata": {},
     "output_type": "display_data"
    }
   ],
   "source": [
    "## Code cell 41 ##\n",
    "\n",
    "table(names(tpm)[-1] == samples$SampleID)\n",
    "names(tpm)[-1]  <- samples$SampleName\n",
    "head(tpm)"
   ]
  },
  {
   "cell_type": "markdown",
   "id": "87b97a28-2401-4417-9054-e1fac701fc61",
   "metadata": {},
   "source": [
    "--\n",
    "#### 1.3.4. Aggregate counts at the **gene level** for all samples"
   ]
  },
  {
   "cell_type": "markdown",
   "id": "5cff15eb-1d35-4ade-9541-eef467d84978",
   "metadata": {},
   "source": [
    "- **Upload the transcript reference:**\n",
    "\n",
    "We need to get the transcript IDs and the corresponding gene IDs.\n",
    "\n",
    "We read rge transcript fast gz file and select only the rows staring with an `>` to get the transcript IDs."
   ]
  },
  {
   "cell_type": "code",
   "execution_count": 42,
   "id": "9ed9bb34-e985-44f9-b244-353e0c11f60f",
   "metadata": {},
   "outputs": [
    {
     "name": "stdout",
     "output_type": "stream",
     "text": [
      "Classes 'data.table' and 'data.frame':\t149138 obs. of  1 variable:\n",
      " $ V1: chr  \">ENSMUST00000193812.2|ENSMUSG00000102693.2|OTTMUSG00000049935.1|OTTMUST00000127109.1|4933401J01Rik-201|4933401J01Rik|1070|TEC|\" \">ENSMUST00000082908.3|ENSMUSG00000064842.3|-|-|Gm26206-201|Gm26206|110|snRNA|\" \">ENSMUST00000162897.2|ENSMUSG00000051951.6|OTTMUSG00000026353.2|OTTMUST00000086625.1|Xkr4-203|Xkr4|4153|protein\"| __truncated__ \">ENSMUST00000159265.2|ENSMUSG00000051951.6|OTTMUSG00000026353.2|OTTMUST00000086624.1|Xkr4-202|Xkr4|2989|protein\"| __truncated__ ...\n",
      " - attr(*, \".internal.selfref\")=<externalptr> \n"
     ]
    }
   ],
   "source": [
    "## Code cell 42 ##\n",
    "\n",
    "transcripts_info <- data.table::fread(paste0(reffolder, \"salmon/gencode.vM35.transcripts.fa.gz\"), header = FALSE) %>% filter(str_detect(V1, \"^>\"))\n",
    "str(transcripts_info)"
   ]
  },
  {
   "cell_type": "markdown",
   "id": "06bee259-e84b-42af-a295-4505fe9f83fe",
   "metadata": {},
   "source": [
    "As you can see, the first and only column contains several information separated by a `|` so we separate this column in 8."
   ]
  },
  {
   "cell_type": "code",
   "execution_count": 43,
   "id": "338203fb-9a1e-4c13-b6f8-c3191e548714",
   "metadata": {},
   "outputs": [
    {
     "name": "stdout",
     "output_type": "stream",
     "text": [
      "'data.frame':\t149138 obs. of  8 variables:\n",
      " $ transcript_id : chr  \">ENSMUST00000193812.2\" \">ENSMUST00000082908.3\" \">ENSMUST00000162897.2\" \">ENSMUST00000159265.2\" ...\n",
      " $ gene_id       : chr  \"ENSMUSG00000102693.2\" \"ENSMUSG00000064842.3\" \"ENSMUSG00000051951.6\" \"ENSMUSG00000051951.6\" ...\n",
      " $ havana_gene_id: chr  \"OTTMUSG00000049935.1\" \"-\" \"OTTMUSG00000026353.2\" \"OTTMUSG00000026353.2\" ...\n",
      " $ havana_tr_id  : chr  \"OTTMUST00000127109.1\" \"-\" \"OTTMUST00000086625.1\" \"OTTMUST00000086624.1\" ...\n",
      " $ ext_tr_name   : chr  \"4933401J01Rik-201\" \"Gm26206-201\" \"Xkr4-203\" \"Xkr4-202\" ...\n",
      " $ gene_name     : chr  \"4933401J01Rik\" \"Gm26206\" \"Xkr4\" \"Xkr4\" ...\n",
      " $ length        : chr  \"1070\" \"110\" \"4153\" \"2989\" ...\n",
      " $ biotype       : chr  \"TEC\" \"snRNA\" \"protein_coding_CDS_not_defined\" \"protein_coding_CDS_not_defined\" ...\n"
     ]
    }
   ],
   "source": [
    "## Code cell 43 ##\n",
    "\n",
    "transcripts_info <- transcripts_info %>% separate(V1,\n",
    "                                                  into = c(\"transcript_id\", \"gene_id\", \"havana_gene_id\", \"havana_tr_id\", \"ext_tr_name\", \"gene_name\", \"length\", \"biotype\"),\n",
    "                                                  remove = TRUE,\n",
    "                                                 sep = \"\\\\|\",\n",
    "                                                 extra =\"drop\")\n",
    "str(transcripts_info)"
   ]
  },
  {
   "cell_type": "markdown",
   "id": "e4509513-84cf-41ac-9728-1f390929d5a8",
   "metadata": {},
   "source": [
    "Finally, we need ro further format this dataframe by removing the `>` at the beginning of the ENSG transcript ID in the first column."
   ]
  },
  {
   "cell_type": "code",
   "execution_count": 44,
   "id": "745d3585-a91e-4222-b4b3-7c9fb865c2ad",
   "metadata": {},
   "outputs": [
    {
     "data": {
      "text/html": [
       "<table class=\"dataframe\">\n",
       "<caption>A data.frame: 6 x 8</caption>\n",
       "<thead>\n",
       "\t<tr><th></th><th scope=col>transcript_id</th><th scope=col>gene_id</th><th scope=col>havana_gene_id</th><th scope=col>havana_tr_id</th><th scope=col>ext_tr_name</th><th scope=col>gene_name</th><th scope=col>length</th><th scope=col>biotype</th></tr>\n",
       "\t<tr><th></th><th scope=col>&lt;chr&gt;</th><th scope=col>&lt;chr&gt;</th><th scope=col>&lt;chr&gt;</th><th scope=col>&lt;chr&gt;</th><th scope=col>&lt;chr&gt;</th><th scope=col>&lt;chr&gt;</th><th scope=col>&lt;chr&gt;</th><th scope=col>&lt;chr&gt;</th></tr>\n",
       "</thead>\n",
       "<tbody>\n",
       "\t<tr><th scope=row>1</th><td>ENSMUST00000193812.2</td><td>ENSMUSG00000102693.2</td><td>OTTMUSG00000049935.1</td><td>OTTMUST00000127109.1</td><td>4933401J01Rik-201</td><td>4933401J01Rik</td><td>1070</td><td>TEC                           </td></tr>\n",
       "\t<tr><th scope=row>2</th><td>ENSMUST00000082908.3</td><td>ENSMUSG00000064842.3</td><td>-                   </td><td>-                   </td><td>Gm26206-201      </td><td>Gm26206      </td><td>110 </td><td>snRNA                         </td></tr>\n",
       "\t<tr><th scope=row>3</th><td>ENSMUST00000162897.2</td><td>ENSMUSG00000051951.6</td><td>OTTMUSG00000026353.2</td><td>OTTMUST00000086625.1</td><td>Xkr4-203         </td><td>Xkr4         </td><td>4153</td><td>protein_coding_CDS_not_defined</td></tr>\n",
       "\t<tr><th scope=row>4</th><td>ENSMUST00000159265.2</td><td>ENSMUSG00000051951.6</td><td>OTTMUSG00000026353.2</td><td>OTTMUST00000086624.1</td><td>Xkr4-202         </td><td>Xkr4         </td><td>2989</td><td>protein_coding_CDS_not_defined</td></tr>\n",
       "\t<tr><th scope=row>5</th><td>ENSMUST00000070533.5</td><td>ENSMUSG00000051951.6</td><td>OTTMUSG00000026353.2</td><td>OTTMUST00000065166.1</td><td>Xkr4-201         </td><td>Xkr4         </td><td>3634</td><td>protein_coding                </td></tr>\n",
       "\t<tr><th scope=row>6</th><td>ENSMUST00000192857.2</td><td>ENSMUSG00000102851.2</td><td>OTTMUSG00000049958.1</td><td>OTTMUST00000127143.1</td><td>Gm18956-201      </td><td>Gm18956      </td><td>480 </td><td>processed_pseudogene          </td></tr>\n",
       "</tbody>\n",
       "</table>\n"
      ],
      "text/latex": [
       "A data.frame: 6 x 8\n",
       "\\begin{tabular}{r|llllllll}\n",
       "  & transcript\\_id & gene\\_id & havana\\_gene\\_id & havana\\_tr\\_id & ext\\_tr\\_name & gene\\_name & length & biotype\\\\\n",
       "  & <chr> & <chr> & <chr> & <chr> & <chr> & <chr> & <chr> & <chr>\\\\\n",
       "\\hline\n",
       "\t1 & ENSMUST00000193812.2 & ENSMUSG00000102693.2 & OTTMUSG00000049935.1 & OTTMUST00000127109.1 & 4933401J01Rik-201 & 4933401J01Rik & 1070 & TEC                           \\\\\n",
       "\t2 & ENSMUST00000082908.3 & ENSMUSG00000064842.3 & -                    & -                    & Gm26206-201       & Gm26206       & 110  & snRNA                         \\\\\n",
       "\t3 & ENSMUST00000162897.2 & ENSMUSG00000051951.6 & OTTMUSG00000026353.2 & OTTMUST00000086625.1 & Xkr4-203          & Xkr4          & 4153 & protein\\_coding\\_CDS\\_not\\_defined\\\\\n",
       "\t4 & ENSMUST00000159265.2 & ENSMUSG00000051951.6 & OTTMUSG00000026353.2 & OTTMUST00000086624.1 & Xkr4-202          & Xkr4          & 2989 & protein\\_coding\\_CDS\\_not\\_defined\\\\\n",
       "\t5 & ENSMUST00000070533.5 & ENSMUSG00000051951.6 & OTTMUSG00000026353.2 & OTTMUST00000065166.1 & Xkr4-201          & Xkr4          & 3634 & protein\\_coding                \\\\\n",
       "\t6 & ENSMUST00000192857.2 & ENSMUSG00000102851.2 & OTTMUSG00000049958.1 & OTTMUST00000127143.1 & Gm18956-201       & Gm18956       & 480  & processed\\_pseudogene          \\\\\n",
       "\\end{tabular}\n"
      ],
      "text/markdown": [
       "\n",
       "A data.frame: 6 x 8\n",
       "\n",
       "| <!--/--> | transcript_id &lt;chr&gt; | gene_id &lt;chr&gt; | havana_gene_id &lt;chr&gt; | havana_tr_id &lt;chr&gt; | ext_tr_name &lt;chr&gt; | gene_name &lt;chr&gt; | length &lt;chr&gt; | biotype &lt;chr&gt; |\n",
       "|---|---|---|---|---|---|---|---|---|\n",
       "| 1 | ENSMUST00000193812.2 | ENSMUSG00000102693.2 | OTTMUSG00000049935.1 | OTTMUST00000127109.1 | 4933401J01Rik-201 | 4933401J01Rik | 1070 | TEC                            |\n",
       "| 2 | ENSMUST00000082908.3 | ENSMUSG00000064842.3 | -                    | -                    | Gm26206-201       | Gm26206       | 110  | snRNA                          |\n",
       "| 3 | ENSMUST00000162897.2 | ENSMUSG00000051951.6 | OTTMUSG00000026353.2 | OTTMUST00000086625.1 | Xkr4-203          | Xkr4          | 4153 | protein_coding_CDS_not_defined |\n",
       "| 4 | ENSMUST00000159265.2 | ENSMUSG00000051951.6 | OTTMUSG00000026353.2 | OTTMUST00000086624.1 | Xkr4-202          | Xkr4          | 2989 | protein_coding_CDS_not_defined |\n",
       "| 5 | ENSMUST00000070533.5 | ENSMUSG00000051951.6 | OTTMUSG00000026353.2 | OTTMUST00000065166.1 | Xkr4-201          | Xkr4          | 3634 | protein_coding                 |\n",
       "| 6 | ENSMUST00000192857.2 | ENSMUSG00000102851.2 | OTTMUSG00000049958.1 | OTTMUST00000127143.1 | Gm18956-201       | Gm18956       | 480  | processed_pseudogene           |\n",
       "\n"
      ],
      "text/plain": [
       "  transcript_id        gene_id              havana_gene_id      \n",
       "1 ENSMUST00000193812.2 ENSMUSG00000102693.2 OTTMUSG00000049935.1\n",
       "2 ENSMUST00000082908.3 ENSMUSG00000064842.3 -                   \n",
       "3 ENSMUST00000162897.2 ENSMUSG00000051951.6 OTTMUSG00000026353.2\n",
       "4 ENSMUST00000159265.2 ENSMUSG00000051951.6 OTTMUSG00000026353.2\n",
       "5 ENSMUST00000070533.5 ENSMUSG00000051951.6 OTTMUSG00000026353.2\n",
       "6 ENSMUST00000192857.2 ENSMUSG00000102851.2 OTTMUSG00000049958.1\n",
       "  havana_tr_id         ext_tr_name       gene_name     length\n",
       "1 OTTMUST00000127109.1 4933401J01Rik-201 4933401J01Rik 1070  \n",
       "2 -                    Gm26206-201       Gm26206       110   \n",
       "3 OTTMUST00000086625.1 Xkr4-203          Xkr4          4153  \n",
       "4 OTTMUST00000086624.1 Xkr4-202          Xkr4          2989  \n",
       "5 OTTMUST00000065166.1 Xkr4-201          Xkr4          3634  \n",
       "6 OTTMUST00000127143.1 Gm18956-201       Gm18956       480   \n",
       "  biotype                       \n",
       "1 TEC                           \n",
       "2 snRNA                         \n",
       "3 protein_coding_CDS_not_defined\n",
       "4 protein_coding_CDS_not_defined\n",
       "5 protein_coding                \n",
       "6 processed_pseudogene          "
      ]
     },
     "metadata": {},
     "output_type": "display_data"
    },
    {
     "data": {
      "text/html": [
       "<table class=\"dataframe\">\n",
       "<caption>A data.frame: 6 x 8</caption>\n",
       "<thead>\n",
       "\t<tr><th></th><th scope=col>transcript_id</th><th scope=col>gene_id</th><th scope=col>havana_gene_id</th><th scope=col>havana_tr_id</th><th scope=col>ext_tr_name</th><th scope=col>gene_name</th><th scope=col>length</th><th scope=col>biotype</th></tr>\n",
       "\t<tr><th></th><th scope=col>&lt;chr&gt;</th><th scope=col>&lt;chr&gt;</th><th scope=col>&lt;chr&gt;</th><th scope=col>&lt;chr&gt;</th><th scope=col>&lt;chr&gt;</th><th scope=col>&lt;chr&gt;</th><th scope=col>&lt;chr&gt;</th><th scope=col>&lt;chr&gt;</th></tr>\n",
       "</thead>\n",
       "<tbody>\n",
       "\t<tr><th scope=row>149133</th><td>ENSMUST00000082418.1</td><td>ENSMUSG00000064367.1</td><td>-</td><td>-</td><td>mt-Nd5-201 </td><td>mt-Nd5 </td><td>1824</td><td>protein_coding</td></tr>\n",
       "\t<tr><th scope=row>149134</th><td>ENSMUST00000082419.1</td><td>ENSMUSG00000064368.1</td><td>-</td><td>-</td><td>mt-Nd6-201 </td><td>mt-Nd6 </td><td>519 </td><td>protein_coding</td></tr>\n",
       "\t<tr><th scope=row>149135</th><td>ENSMUST00000082420.1</td><td>ENSMUSG00000064369.1</td><td>-</td><td>-</td><td>mt-Te-201  </td><td>mt-Te  </td><td>69  </td><td>Mt_tRNA       </td></tr>\n",
       "\t<tr><th scope=row>149136</th><td>ENSMUST00000082421.1</td><td>ENSMUSG00000064370.1</td><td>-</td><td>-</td><td>mt-Cytb-201</td><td>mt-Cytb</td><td>1144</td><td>protein_coding</td></tr>\n",
       "\t<tr><th scope=row>149137</th><td>ENSMUST00000082422.1</td><td>ENSMUSG00000064371.1</td><td>-</td><td>-</td><td>mt-Tt-201  </td><td>mt-Tt  </td><td>67  </td><td>Mt_tRNA       </td></tr>\n",
       "\t<tr><th scope=row>149138</th><td>ENSMUST00000082423.1</td><td>ENSMUSG00000064372.1</td><td>-</td><td>-</td><td>mt-Tp-201  </td><td>mt-Tp  </td><td>67  </td><td>Mt_tRNA       </td></tr>\n",
       "</tbody>\n",
       "</table>\n"
      ],
      "text/latex": [
       "A data.frame: 6 x 8\n",
       "\\begin{tabular}{r|llllllll}\n",
       "  & transcript\\_id & gene\\_id & havana\\_gene\\_id & havana\\_tr\\_id & ext\\_tr\\_name & gene\\_name & length & biotype\\\\\n",
       "  & <chr> & <chr> & <chr> & <chr> & <chr> & <chr> & <chr> & <chr>\\\\\n",
       "\\hline\n",
       "\t149133 & ENSMUST00000082418.1 & ENSMUSG00000064367.1 & - & - & mt-Nd5-201  & mt-Nd5  & 1824 & protein\\_coding\\\\\n",
       "\t149134 & ENSMUST00000082419.1 & ENSMUSG00000064368.1 & - & - & mt-Nd6-201  & mt-Nd6  & 519  & protein\\_coding\\\\\n",
       "\t149135 & ENSMUST00000082420.1 & ENSMUSG00000064369.1 & - & - & mt-Te-201   & mt-Te   & 69   & Mt\\_tRNA       \\\\\n",
       "\t149136 & ENSMUST00000082421.1 & ENSMUSG00000064370.1 & - & - & mt-Cytb-201 & mt-Cytb & 1144 & protein\\_coding\\\\\n",
       "\t149137 & ENSMUST00000082422.1 & ENSMUSG00000064371.1 & - & - & mt-Tt-201   & mt-Tt   & 67   & Mt\\_tRNA       \\\\\n",
       "\t149138 & ENSMUST00000082423.1 & ENSMUSG00000064372.1 & - & - & mt-Tp-201   & mt-Tp   & 67   & Mt\\_tRNA       \\\\\n",
       "\\end{tabular}\n"
      ],
      "text/markdown": [
       "\n",
       "A data.frame: 6 x 8\n",
       "\n",
       "| <!--/--> | transcript_id &lt;chr&gt; | gene_id &lt;chr&gt; | havana_gene_id &lt;chr&gt; | havana_tr_id &lt;chr&gt; | ext_tr_name &lt;chr&gt; | gene_name &lt;chr&gt; | length &lt;chr&gt; | biotype &lt;chr&gt; |\n",
       "|---|---|---|---|---|---|---|---|---|\n",
       "| 149133 | ENSMUST00000082418.1 | ENSMUSG00000064367.1 | - | - | mt-Nd5-201  | mt-Nd5  | 1824 | protein_coding |\n",
       "| 149134 | ENSMUST00000082419.1 | ENSMUSG00000064368.1 | - | - | mt-Nd6-201  | mt-Nd6  | 519  | protein_coding |\n",
       "| 149135 | ENSMUST00000082420.1 | ENSMUSG00000064369.1 | - | - | mt-Te-201   | mt-Te   | 69   | Mt_tRNA        |\n",
       "| 149136 | ENSMUST00000082421.1 | ENSMUSG00000064370.1 | - | - | mt-Cytb-201 | mt-Cytb | 1144 | protein_coding |\n",
       "| 149137 | ENSMUST00000082422.1 | ENSMUSG00000064371.1 | - | - | mt-Tt-201   | mt-Tt   | 67   | Mt_tRNA        |\n",
       "| 149138 | ENSMUST00000082423.1 | ENSMUSG00000064372.1 | - | - | mt-Tp-201   | mt-Tp   | 67   | Mt_tRNA        |\n",
       "\n"
      ],
      "text/plain": [
       "       transcript_id        gene_id              havana_gene_id havana_tr_id\n",
       "149133 ENSMUST00000082418.1 ENSMUSG00000064367.1 -              -           \n",
       "149134 ENSMUST00000082419.1 ENSMUSG00000064368.1 -              -           \n",
       "149135 ENSMUST00000082420.1 ENSMUSG00000064369.1 -              -           \n",
       "149136 ENSMUST00000082421.1 ENSMUSG00000064370.1 -              -           \n",
       "149137 ENSMUST00000082422.1 ENSMUSG00000064371.1 -              -           \n",
       "149138 ENSMUST00000082423.1 ENSMUSG00000064372.1 -              -           \n",
       "       ext_tr_name gene_name length biotype       \n",
       "149133 mt-Nd5-201  mt-Nd5    1824   protein_coding\n",
       "149134 mt-Nd6-201  mt-Nd6    519    protein_coding\n",
       "149135 mt-Te-201   mt-Te     69     Mt_tRNA       \n",
       "149136 mt-Cytb-201 mt-Cytb   1144   protein_coding\n",
       "149137 mt-Tt-201   mt-Tt     67     Mt_tRNA       \n",
       "149138 mt-Tp-201   mt-Tp     67     Mt_tRNA       "
      ]
     },
     "metadata": {},
     "output_type": "display_data"
    }
   ],
   "source": [
    "## Code cell 44 ##\n",
    "\n",
    "transcripts_info <- transcripts_info %>% mutate(transcript_id = str_replace(transcript_id, \">\", \"\"))\n",
    "head(transcripts_info)\n",
    "tail(transcripts_info)"
   ]
  },
  {
   "cell_type": "markdown",
   "id": "2e17e715-b5e0-4f01-aebd-d1fa0db85fb3",
   "metadata": {},
   "source": [
    "As a final check, we verify all the transcript ids persent in numreads (and tpm) are well present in this transcript annotation file."
   ]
  },
  {
   "cell_type": "code",
   "execution_count": 45,
   "id": "9775a6a1-c5f4-4c85-b790-2776e45b8a9f",
   "metadata": {},
   "outputs": [
    {
     "name": "stdout",
     "output_type": "stream",
     "text": [
      "\n",
      "Check missing transcripts...\n",
      " this experiment - the reference :0 \n",
      " the reference - this experiment :1582 \n"
     ]
    }
   ],
   "source": [
    "## Code cell 45 ##\n",
    "\n",
    "cat(\"\\nCheck missing transcripts...\\n\")\n",
    "cat(\" this experiment - the reference :\")\n",
    "cat(length(setdiff(numreads$transcript_id, transcripts_info$transcript_id)), \"\\n\")\n",
    "# [1] 0\n",
    "cat(\" the reference - this experiment :\")\n",
    "cat(length(setdiff(transcripts_info$transcript_id, numreads$transcript_id)), \"\\n\")\n",
    "# [1] 847\n"
   ]
  },
  {
   "cell_type": "markdown",
   "id": "9e577a70-65dc-4967-a343-efeb2baaa886",
   "metadata": {},
   "source": [
    "we are now ready to preform the aggregation by genes, since the transcript annotation file contains both the transcripts and the gene ids."
   ]
  },
  {
   "cell_type": "markdown",
   "id": "6d72d9ca-55ff-4648-8492-3617b21eb0cf",
   "metadata": {},
   "source": [
    "##### **a-gene aggregation on numreads**"
   ]
  },
  {
   "cell_type": "code",
   "execution_count": 46,
   "id": "32465807-366e-481d-9aac-36c95cd50b09",
   "metadata": {},
   "outputs": [
    {
     "name": "stdout",
     "output_type": "stream",
     "text": [
      "Table dimensions: 56065 12 \n"
     ]
    },
    {
     "data": {
      "text/html": [
       "<table class=\"dataframe\">\n",
       "<caption>A tibble: 6 x 12</caption>\n",
       "<thead>\n",
       "\t<tr><th scope=col>gene_id</th><th scope=col>dHet_B-ALL_686_rep1</th><th scope=col>dHet_B-ALL_686_rep2</th><th scope=col>dHet_B-ALL_713_rep1</th><th scope=col>dHet_B-ALL_713_rep2</th><th scope=col>dHet_B-ALL_760_rep1</th><th scope=col>dHet_B-ALL_760_rep2</th><th scope=col>dHet_FetalLiver_proB_rep1</th><th scope=col>dHet_FetalLiver_proB_rep2</th><th scope=col>dHet_FetalLiver_proB_rep3</th><th scope=col>wt_BoneMar_proB_rep1</th><th scope=col>wt_BoneMar_proB_rep2</th></tr>\n",
       "\t<tr><th scope=col>&lt;chr&gt;</th><th scope=col>&lt;dbl&gt;</th><th scope=col>&lt;dbl&gt;</th><th scope=col>&lt;dbl&gt;</th><th scope=col>&lt;dbl&gt;</th><th scope=col>&lt;dbl&gt;</th><th scope=col>&lt;dbl&gt;</th><th scope=col>&lt;dbl&gt;</th><th scope=col>&lt;dbl&gt;</th><th scope=col>&lt;dbl&gt;</th><th scope=col>&lt;dbl&gt;</th><th scope=col>&lt;dbl&gt;</th></tr>\n",
       "</thead>\n",
       "<tbody>\n",
       "\t<tr><td>ENSMUSG00000000001</td><td>10106.681</td><td>7297.753</td><td>8223.932</td><td>7960.522</td><td>7963.566</td><td>7331.798</td><td>8147.421</td><td>7791.765</td><td>7611.429</td><td>9301.767</td><td>8276.171</td></tr>\n",
       "\t<tr><td>ENSMUSG00000000003</td><td>    0.000</td><td>   0.000</td><td>   0.000</td><td>   0.000</td><td>   0.000</td><td>   0.000</td><td>   0.000</td><td>   0.000</td><td>   0.000</td><td>   0.000</td><td>   0.000</td></tr>\n",
       "\t<tr><td>ENSMUSG00000000028</td><td> 2506.125</td><td>1785.969</td><td>1188.757</td><td>1324.565</td><td>1818.400</td><td>1720.502</td><td>1429.305</td><td>2342.227</td><td> 649.554</td><td>2712.591</td><td>2054.161</td></tr>\n",
       "\t<tr><td>ENSMUSG00000000031</td><td>    0.000</td><td>   3.000</td><td>  24.000</td><td>  31.000</td><td> 149.000</td><td> 160.000</td><td> 100.061</td><td> 102.000</td><td> 416.616</td><td>   0.000</td><td>   0.000</td></tr>\n",
       "\t<tr><td>ENSMUSG00000000037</td><td>    0.000</td><td>   0.000</td><td>   0.000</td><td>   0.000</td><td>   0.000</td><td>   0.000</td><td>   0.000</td><td>   2.000</td><td>   0.000</td><td>  17.000</td><td>  42.012</td></tr>\n",
       "\t<tr><td>ENSMUSG00000000049</td><td>    1.000</td><td>   3.000</td><td>  12.000</td><td>  13.000</td><td>   3.000</td><td>   3.000</td><td>   5.000</td><td>   0.000</td><td>   8.000</td><td>   2.000</td><td>   2.000</td></tr>\n",
       "</tbody>\n",
       "</table>\n"
      ],
      "text/latex": [
       "A tibble: 6 x 12\n",
       "\\begin{tabular}{llllllllllll}\n",
       " gene\\_id & dHet\\_B-ALL\\_686\\_rep1 & dHet\\_B-ALL\\_686\\_rep2 & dHet\\_B-ALL\\_713\\_rep1 & dHet\\_B-ALL\\_713\\_rep2 & dHet\\_B-ALL\\_760\\_rep1 & dHet\\_B-ALL\\_760\\_rep2 & dHet\\_FetalLiver\\_proB\\_rep1 & dHet\\_FetalLiver\\_proB\\_rep2 & dHet\\_FetalLiver\\_proB\\_rep3 & wt\\_BoneMar\\_proB\\_rep1 & wt\\_BoneMar\\_proB\\_rep2\\\\\n",
       " <chr> & <dbl> & <dbl> & <dbl> & <dbl> & <dbl> & <dbl> & <dbl> & <dbl> & <dbl> & <dbl> & <dbl>\\\\\n",
       "\\hline\n",
       "\t ENSMUSG00000000001 & 10106.681 & 7297.753 & 8223.932 & 7960.522 & 7963.566 & 7331.798 & 8147.421 & 7791.765 & 7611.429 & 9301.767 & 8276.171\\\\\n",
       "\t ENSMUSG00000000003 &     0.000 &    0.000 &    0.000 &    0.000 &    0.000 &    0.000 &    0.000 &    0.000 &    0.000 &    0.000 &    0.000\\\\\n",
       "\t ENSMUSG00000000028 &  2506.125 & 1785.969 & 1188.757 & 1324.565 & 1818.400 & 1720.502 & 1429.305 & 2342.227 &  649.554 & 2712.591 & 2054.161\\\\\n",
       "\t ENSMUSG00000000031 &     0.000 &    3.000 &   24.000 &   31.000 &  149.000 &  160.000 &  100.061 &  102.000 &  416.616 &    0.000 &    0.000\\\\\n",
       "\t ENSMUSG00000000037 &     0.000 &    0.000 &    0.000 &    0.000 &    0.000 &    0.000 &    0.000 &    2.000 &    0.000 &   17.000 &   42.012\\\\\n",
       "\t ENSMUSG00000000049 &     1.000 &    3.000 &   12.000 &   13.000 &    3.000 &    3.000 &    5.000 &    0.000 &    8.000 &    2.000 &    2.000\\\\\n",
       "\\end{tabular}\n"
      ],
      "text/markdown": [
       "\n",
       "A tibble: 6 x 12\n",
       "\n",
       "| gene_id &lt;chr&gt; | dHet_B-ALL_686_rep1 &lt;dbl&gt; | dHet_B-ALL_686_rep2 &lt;dbl&gt; | dHet_B-ALL_713_rep1 &lt;dbl&gt; | dHet_B-ALL_713_rep2 &lt;dbl&gt; | dHet_B-ALL_760_rep1 &lt;dbl&gt; | dHet_B-ALL_760_rep2 &lt;dbl&gt; | dHet_FetalLiver_proB_rep1 &lt;dbl&gt; | dHet_FetalLiver_proB_rep2 &lt;dbl&gt; | dHet_FetalLiver_proB_rep3 &lt;dbl&gt; | wt_BoneMar_proB_rep1 &lt;dbl&gt; | wt_BoneMar_proB_rep2 &lt;dbl&gt; |\n",
       "|---|---|---|---|---|---|---|---|---|---|---|---|\n",
       "| ENSMUSG00000000001 | 10106.681 | 7297.753 | 8223.932 | 7960.522 | 7963.566 | 7331.798 | 8147.421 | 7791.765 | 7611.429 | 9301.767 | 8276.171 |\n",
       "| ENSMUSG00000000003 |     0.000 |    0.000 |    0.000 |    0.000 |    0.000 |    0.000 |    0.000 |    0.000 |    0.000 |    0.000 |    0.000 |\n",
       "| ENSMUSG00000000028 |  2506.125 | 1785.969 | 1188.757 | 1324.565 | 1818.400 | 1720.502 | 1429.305 | 2342.227 |  649.554 | 2712.591 | 2054.161 |\n",
       "| ENSMUSG00000000031 |     0.000 |    3.000 |   24.000 |   31.000 |  149.000 |  160.000 |  100.061 |  102.000 |  416.616 |    0.000 |    0.000 |\n",
       "| ENSMUSG00000000037 |     0.000 |    0.000 |    0.000 |    0.000 |    0.000 |    0.000 |    0.000 |    2.000 |    0.000 |   17.000 |   42.012 |\n",
       "| ENSMUSG00000000049 |     1.000 |    3.000 |   12.000 |   13.000 |    3.000 |    3.000 |    5.000 |    0.000 |    8.000 |    2.000 |    2.000 |\n",
       "\n"
      ],
      "text/plain": [
       "  gene_id            dHet_B-ALL_686_rep1 dHet_B-ALL_686_rep2\n",
       "1 ENSMUSG00000000001 10106.681           7297.753           \n",
       "2 ENSMUSG00000000003     0.000              0.000           \n",
       "3 ENSMUSG00000000028  2506.125           1785.969           \n",
       "4 ENSMUSG00000000031     0.000              3.000           \n",
       "5 ENSMUSG00000000037     0.000              0.000           \n",
       "6 ENSMUSG00000000049     1.000              3.000           \n",
       "  dHet_B-ALL_713_rep1 dHet_B-ALL_713_rep2 dHet_B-ALL_760_rep1\n",
       "1 8223.932            7960.522            7963.566           \n",
       "2    0.000               0.000               0.000           \n",
       "3 1188.757            1324.565            1818.400           \n",
       "4   24.000              31.000             149.000           \n",
       "5    0.000               0.000               0.000           \n",
       "6   12.000              13.000               3.000           \n",
       "  dHet_B-ALL_760_rep2 dHet_FetalLiver_proB_rep1 dHet_FetalLiver_proB_rep2\n",
       "1 7331.798            8147.421                  7791.765                 \n",
       "2    0.000               0.000                     0.000                 \n",
       "3 1720.502            1429.305                  2342.227                 \n",
       "4  160.000             100.061                   102.000                 \n",
       "5    0.000               0.000                     2.000                 \n",
       "6    3.000               5.000                     0.000                 \n",
       "  dHet_FetalLiver_proB_rep3 wt_BoneMar_proB_rep1 wt_BoneMar_proB_rep2\n",
       "1 7611.429                  9301.767             8276.171            \n",
       "2    0.000                     0.000                0.000            \n",
       "3  649.554                  2712.591             2054.161            \n",
       "4  416.616                     0.000                0.000            \n",
       "5    0.000                    17.000               42.012            \n",
       "6    8.000                     2.000                2.000            "
      ]
     },
     "metadata": {},
     "output_type": "display_data"
    }
   ],
   "source": [
    "## Code cell 46 ##\n",
    "\n",
    "genecounts <- numreads  %>% left_join(transcripts_info %>% select(transcript_id, gene_id),\n",
    "                                      by='transcript_id') %>% \n",
    " select(transcript_id, gene_id, everything()) %>% select(-1) %>% \n",
    " group_by(gene_id) %>% summarize_all(sum, na.rm = TRUE) \n",
    "\n",
    "genecounts <- genecounts %>% mutate(gene_id = str_replace(gene_id, \"\\\\.\\\\d{1,2}$\", \"\"))\n",
    "\n",
    "cat(\"Table dimensions:\", dim(genecounts), \"\\n\")\n",
    "\n",
    "head(genecounts)"
   ]
  },
  {
   "cell_type": "markdown",
   "id": "5a598c01-16b1-4ad7-80f1-f1f1dbc49851",
   "metadata": {},
   "source": [
    "We add gene names/symbol for further analyses"
   ]
  },
  {
   "cell_type": "code",
   "execution_count": 47,
   "id": "31e58c96-4fe0-45c2-b456-0b2b856c9bd5",
   "metadata": {},
   "outputs": [
    {
     "name": "stdout",
     "output_type": "stream",
     "text": [
      "Table dimensions: 55970 12 \n"
     ]
    },
    {
     "data": {
      "text/html": [
       "<table class=\"dataframe\">\n",
       "<caption>A tibble: 6 x 12</caption>\n",
       "<thead>\n",
       "\t<tr><th scope=col>gene_name</th><th scope=col>dHet_B-ALL_686_rep1</th><th scope=col>dHet_B-ALL_686_rep2</th><th scope=col>dHet_B-ALL_713_rep1</th><th scope=col>dHet_B-ALL_713_rep2</th><th scope=col>dHet_B-ALL_760_rep1</th><th scope=col>dHet_B-ALL_760_rep2</th><th scope=col>dHet_FetalLiver_proB_rep1</th><th scope=col>dHet_FetalLiver_proB_rep2</th><th scope=col>dHet_FetalLiver_proB_rep3</th><th scope=col>wt_BoneMar_proB_rep1</th><th scope=col>wt_BoneMar_proB_rep2</th></tr>\n",
       "\t<tr><th scope=col>&lt;chr&gt;</th><th scope=col>&lt;dbl&gt;</th><th scope=col>&lt;dbl&gt;</th><th scope=col>&lt;dbl&gt;</th><th scope=col>&lt;dbl&gt;</th><th scope=col>&lt;dbl&gt;</th><th scope=col>&lt;dbl&gt;</th><th scope=col>&lt;dbl&gt;</th><th scope=col>&lt;dbl&gt;</th><th scope=col>&lt;dbl&gt;</th><th scope=col>&lt;dbl&gt;</th><th scope=col>&lt;dbl&gt;</th></tr>\n",
       "</thead>\n",
       "<tbody>\n",
       "\t<tr><td>Gnai3</td><td>10106.681</td><td>7297.753</td><td>8223.932</td><td>7960.522</td><td>7963.566</td><td>7331.798</td><td>8147.421</td><td>7791.765</td><td>7611.429</td><td>9301.767</td><td>8276.171</td></tr>\n",
       "\t<tr><td>Pbsn </td><td>    0.000</td><td>   0.000</td><td>   0.000</td><td>   0.000</td><td>   0.000</td><td>   0.000</td><td>   0.000</td><td>   0.000</td><td>   0.000</td><td>   0.000</td><td>   0.000</td></tr>\n",
       "\t<tr><td>Cdc45</td><td> 2506.125</td><td>1785.969</td><td>1188.757</td><td>1324.565</td><td>1818.400</td><td>1720.502</td><td>1429.305</td><td>2342.227</td><td> 649.554</td><td>2712.591</td><td>2054.161</td></tr>\n",
       "\t<tr><td>H19  </td><td>    0.000</td><td>   3.000</td><td>  24.000</td><td>  31.000</td><td> 149.000</td><td> 160.000</td><td> 100.061</td><td> 102.000</td><td> 416.616</td><td>   0.000</td><td>   0.000</td></tr>\n",
       "\t<tr><td>Scml2</td><td>    0.000</td><td>   0.000</td><td>   0.000</td><td>   0.000</td><td>   0.000</td><td>   0.000</td><td>   0.000</td><td>   2.000</td><td>   0.000</td><td>  17.000</td><td>  42.012</td></tr>\n",
       "\t<tr><td>Apoh </td><td>    1.000</td><td>   3.000</td><td>  12.000</td><td>  13.000</td><td>   3.000</td><td>   3.000</td><td>   5.000</td><td>   0.000</td><td>   8.000</td><td>   2.000</td><td>   2.000</td></tr>\n",
       "</tbody>\n",
       "</table>\n"
      ],
      "text/latex": [
       "A tibble: 6 x 12\n",
       "\\begin{tabular}{llllllllllll}\n",
       " gene\\_name & dHet\\_B-ALL\\_686\\_rep1 & dHet\\_B-ALL\\_686\\_rep2 & dHet\\_B-ALL\\_713\\_rep1 & dHet\\_B-ALL\\_713\\_rep2 & dHet\\_B-ALL\\_760\\_rep1 & dHet\\_B-ALL\\_760\\_rep2 & dHet\\_FetalLiver\\_proB\\_rep1 & dHet\\_FetalLiver\\_proB\\_rep2 & dHet\\_FetalLiver\\_proB\\_rep3 & wt\\_BoneMar\\_proB\\_rep1 & wt\\_BoneMar\\_proB\\_rep2\\\\\n",
       " <chr> & <dbl> & <dbl> & <dbl> & <dbl> & <dbl> & <dbl> & <dbl> & <dbl> & <dbl> & <dbl> & <dbl>\\\\\n",
       "\\hline\n",
       "\t Gnai3 & 10106.681 & 7297.753 & 8223.932 & 7960.522 & 7963.566 & 7331.798 & 8147.421 & 7791.765 & 7611.429 & 9301.767 & 8276.171\\\\\n",
       "\t Pbsn  &     0.000 &    0.000 &    0.000 &    0.000 &    0.000 &    0.000 &    0.000 &    0.000 &    0.000 &    0.000 &    0.000\\\\\n",
       "\t Cdc45 &  2506.125 & 1785.969 & 1188.757 & 1324.565 & 1818.400 & 1720.502 & 1429.305 & 2342.227 &  649.554 & 2712.591 & 2054.161\\\\\n",
       "\t H19   &     0.000 &    3.000 &   24.000 &   31.000 &  149.000 &  160.000 &  100.061 &  102.000 &  416.616 &    0.000 &    0.000\\\\\n",
       "\t Scml2 &     0.000 &    0.000 &    0.000 &    0.000 &    0.000 &    0.000 &    0.000 &    2.000 &    0.000 &   17.000 &   42.012\\\\\n",
       "\t Apoh  &     1.000 &    3.000 &   12.000 &   13.000 &    3.000 &    3.000 &    5.000 &    0.000 &    8.000 &    2.000 &    2.000\\\\\n",
       "\\end{tabular}\n"
      ],
      "text/markdown": [
       "\n",
       "A tibble: 6 x 12\n",
       "\n",
       "| gene_name &lt;chr&gt; | dHet_B-ALL_686_rep1 &lt;dbl&gt; | dHet_B-ALL_686_rep2 &lt;dbl&gt; | dHet_B-ALL_713_rep1 &lt;dbl&gt; | dHet_B-ALL_713_rep2 &lt;dbl&gt; | dHet_B-ALL_760_rep1 &lt;dbl&gt; | dHet_B-ALL_760_rep2 &lt;dbl&gt; | dHet_FetalLiver_proB_rep1 &lt;dbl&gt; | dHet_FetalLiver_proB_rep2 &lt;dbl&gt; | dHet_FetalLiver_proB_rep3 &lt;dbl&gt; | wt_BoneMar_proB_rep1 &lt;dbl&gt; | wt_BoneMar_proB_rep2 &lt;dbl&gt; |\n",
       "|---|---|---|---|---|---|---|---|---|---|---|---|\n",
       "| Gnai3 | 10106.681 | 7297.753 | 8223.932 | 7960.522 | 7963.566 | 7331.798 | 8147.421 | 7791.765 | 7611.429 | 9301.767 | 8276.171 |\n",
       "| Pbsn  |     0.000 |    0.000 |    0.000 |    0.000 |    0.000 |    0.000 |    0.000 |    0.000 |    0.000 |    0.000 |    0.000 |\n",
       "| Cdc45 |  2506.125 | 1785.969 | 1188.757 | 1324.565 | 1818.400 | 1720.502 | 1429.305 | 2342.227 |  649.554 | 2712.591 | 2054.161 |\n",
       "| H19   |     0.000 |    3.000 |   24.000 |   31.000 |  149.000 |  160.000 |  100.061 |  102.000 |  416.616 |    0.000 |    0.000 |\n",
       "| Scml2 |     0.000 |    0.000 |    0.000 |    0.000 |    0.000 |    0.000 |    0.000 |    2.000 |    0.000 |   17.000 |   42.012 |\n",
       "| Apoh  |     1.000 |    3.000 |   12.000 |   13.000 |    3.000 |    3.000 |    5.000 |    0.000 |    8.000 |    2.000 |    2.000 |\n",
       "\n"
      ],
      "text/plain": [
       "  gene_name dHet_B-ALL_686_rep1 dHet_B-ALL_686_rep2 dHet_B-ALL_713_rep1\n",
       "1 Gnai3     10106.681           7297.753            8223.932           \n",
       "2 Pbsn          0.000              0.000               0.000           \n",
       "3 Cdc45      2506.125           1785.969            1188.757           \n",
       "4 H19           0.000              3.000              24.000           \n",
       "5 Scml2         0.000              0.000               0.000           \n",
       "6 Apoh          1.000              3.000              12.000           \n",
       "  dHet_B-ALL_713_rep2 dHet_B-ALL_760_rep1 dHet_B-ALL_760_rep2\n",
       "1 7960.522            7963.566            7331.798           \n",
       "2    0.000               0.000               0.000           \n",
       "3 1324.565            1818.400            1720.502           \n",
       "4   31.000             149.000             160.000           \n",
       "5    0.000               0.000               0.000           \n",
       "6   13.000               3.000               3.000           \n",
       "  dHet_FetalLiver_proB_rep1 dHet_FetalLiver_proB_rep2 dHet_FetalLiver_proB_rep3\n",
       "1 8147.421                  7791.765                  7611.429                 \n",
       "2    0.000                     0.000                     0.000                 \n",
       "3 1429.305                  2342.227                   649.554                 \n",
       "4  100.061                   102.000                   416.616                 \n",
       "5    0.000                     2.000                     0.000                 \n",
       "6    5.000                     0.000                     8.000                 \n",
       "  wt_BoneMar_proB_rep1 wt_BoneMar_proB_rep2\n",
       "1 9301.767             8276.171            \n",
       "2    0.000                0.000            \n",
       "3 2712.591             2054.161            \n",
       "4    0.000                0.000            \n",
       "5   17.000               42.012            \n",
       "6    2.000                2.000            "
      ]
     },
     "metadata": {},
     "output_type": "display_data"
    }
   ],
   "source": [
    "## Code cell 47 ##\n",
    "\n",
    "genecounts_symbols <- genecounts %>% left_join(transcripts_info %>%\n",
    "                                   mutate(gene_id = str_remove(gene_id, \".\\\\d{1,2}$\")) %>%  \n",
    " select(gene_id, gene_name), by = 'gene_id') %>% select(-gene_id) %>% \n",
    "        select(gene_name, everything()) %>% distinct()\n",
    "\n",
    "cat(\"Table dimensions:\", dim(genecounts_symbols), \"\\n\")\n",
    "\n",
    "head(genecounts_symbols)"
   ]
  },
  {
   "cell_type": "markdown",
   "id": "43721145-92f4-4074-9912-eee8ae3e126a",
   "metadata": {},
   "source": [
    "##### **b-gene aggregation on TPMs**\n",
    "\n",
    "We do not recommand to keep working with gene levels on TPMs, but for a quick and dirty evaluation of gene levels, we might want them."
   ]
  },
  {
   "cell_type": "code",
   "execution_count": 48,
   "id": "db02224c-30cc-4b04-90de-4f3c40add7d2",
   "metadata": {},
   "outputs": [
    {
     "name": "stdout",
     "output_type": "stream",
     "text": [
      "Table dimensions: 56065 12 \n"
     ]
    },
    {
     "data": {
      "text/html": [
       "<table class=\"dataframe\">\n",
       "<caption>A tibble: 6 x 12</caption>\n",
       "<thead>\n",
       "\t<tr><th scope=col>gene_id</th><th scope=col>dHet_B-ALL_686_rep1</th><th scope=col>dHet_B-ALL_686_rep2</th><th scope=col>dHet_B-ALL_713_rep1</th><th scope=col>dHet_B-ALL_713_rep2</th><th scope=col>dHet_B-ALL_760_rep1</th><th scope=col>dHet_B-ALL_760_rep2</th><th scope=col>dHet_FetalLiver_proB_rep1</th><th scope=col>dHet_FetalLiver_proB_rep2</th><th scope=col>dHet_FetalLiver_proB_rep3</th><th scope=col>wt_BoneMar_proB_rep1</th><th scope=col>wt_BoneMar_proB_rep2</th></tr>\n",
       "\t<tr><th scope=col>&lt;chr&gt;</th><th scope=col>&lt;dbl&gt;</th><th scope=col>&lt;dbl&gt;</th><th scope=col>&lt;dbl&gt;</th><th scope=col>&lt;dbl&gt;</th><th scope=col>&lt;dbl&gt;</th><th scope=col>&lt;dbl&gt;</th><th scope=col>&lt;dbl&gt;</th><th scope=col>&lt;dbl&gt;</th><th scope=col>&lt;dbl&gt;</th><th scope=col>&lt;dbl&gt;</th><th scope=col>&lt;dbl&gt;</th></tr>\n",
       "</thead>\n",
       "<tbody>\n",
       "\t<tr><td>ENSMUSG00000000001</td><td>94.909270</td><td>85.630010</td><td>107.549622</td><td>99.406256</td><td>89.016454</td><td>94.202083</td><td>129.173375</td><td>115.818792</td><td>129.110559</td><td>103.294256</td><td>110.482353</td></tr>\n",
       "\t<tr><td>ENSMUSG00000000003</td><td> 0.000000</td><td> 0.000000</td><td>  0.000000</td><td> 0.000000</td><td> 0.000000</td><td> 0.000000</td><td>  0.000000</td><td>  0.000000</td><td>  0.000000</td><td>  0.000000</td><td>  0.000000</td></tr>\n",
       "\t<tr><td>ENSMUSG00000000028</td><td>39.795792</td><td>35.414221</td><td> 26.567223</td><td>28.400625</td><td>35.635202</td><td>38.068106</td><td> 39.002803</td><td> 59.254796</td><td> 18.931210</td><td> 52.404483</td><td> 47.476351</td></tr>\n",
       "\t<tr><td>ENSMUSG00000000031</td><td> 0.000000</td><td> 0.084361</td><td>  0.874980</td><td> 0.561346</td><td> 4.494676</td><td> 4.208726</td><td>  4.311468</td><td>  3.427708</td><td> 18.374148</td><td>  0.000000</td><td>  0.000000</td></tr>\n",
       "\t<tr><td>ENSMUSG00000000037</td><td> 0.000000</td><td> 0.000000</td><td>  0.000000</td><td> 0.000000</td><td> 0.000000</td><td> 0.000000</td><td>  0.000000</td><td>  0.028093</td><td>  0.000000</td><td>  0.123960</td><td>  0.474874</td></tr>\n",
       "\t<tr><td>ENSMUSG00000000049</td><td> 0.200706</td><td> 0.700875</td><td>  0.709392</td><td> 1.361124</td><td> 0.665852</td><td> 0.720562</td><td>  0.702987</td><td>  0.000000</td><td>  2.401379</td><td>  0.249507</td><td>  0.491915</td></tr>\n",
       "</tbody>\n",
       "</table>\n"
      ],
      "text/latex": [
       "A tibble: 6 x 12\n",
       "\\begin{tabular}{llllllllllll}\n",
       " gene\\_id & dHet\\_B-ALL\\_686\\_rep1 & dHet\\_B-ALL\\_686\\_rep2 & dHet\\_B-ALL\\_713\\_rep1 & dHet\\_B-ALL\\_713\\_rep2 & dHet\\_B-ALL\\_760\\_rep1 & dHet\\_B-ALL\\_760\\_rep2 & dHet\\_FetalLiver\\_proB\\_rep1 & dHet\\_FetalLiver\\_proB\\_rep2 & dHet\\_FetalLiver\\_proB\\_rep3 & wt\\_BoneMar\\_proB\\_rep1 & wt\\_BoneMar\\_proB\\_rep2\\\\\n",
       " <chr> & <dbl> & <dbl> & <dbl> & <dbl> & <dbl> & <dbl> & <dbl> & <dbl> & <dbl> & <dbl> & <dbl>\\\\\n",
       "\\hline\n",
       "\t ENSMUSG00000000001 & 94.909270 & 85.630010 & 107.549622 & 99.406256 & 89.016454 & 94.202083 & 129.173375 & 115.818792 & 129.110559 & 103.294256 & 110.482353\\\\\n",
       "\t ENSMUSG00000000003 &  0.000000 &  0.000000 &   0.000000 &  0.000000 &  0.000000 &  0.000000 &   0.000000 &   0.000000 &   0.000000 &   0.000000 &   0.000000\\\\\n",
       "\t ENSMUSG00000000028 & 39.795792 & 35.414221 &  26.567223 & 28.400625 & 35.635202 & 38.068106 &  39.002803 &  59.254796 &  18.931210 &  52.404483 &  47.476351\\\\\n",
       "\t ENSMUSG00000000031 &  0.000000 &  0.084361 &   0.874980 &  0.561346 &  4.494676 &  4.208726 &   4.311468 &   3.427708 &  18.374148 &   0.000000 &   0.000000\\\\\n",
       "\t ENSMUSG00000000037 &  0.000000 &  0.000000 &   0.000000 &  0.000000 &  0.000000 &  0.000000 &   0.000000 &   0.028093 &   0.000000 &   0.123960 &   0.474874\\\\\n",
       "\t ENSMUSG00000000049 &  0.200706 &  0.700875 &   0.709392 &  1.361124 &  0.665852 &  0.720562 &   0.702987 &   0.000000 &   2.401379 &   0.249507 &   0.491915\\\\\n",
       "\\end{tabular}\n"
      ],
      "text/markdown": [
       "\n",
       "A tibble: 6 x 12\n",
       "\n",
       "| gene_id &lt;chr&gt; | dHet_B-ALL_686_rep1 &lt;dbl&gt; | dHet_B-ALL_686_rep2 &lt;dbl&gt; | dHet_B-ALL_713_rep1 &lt;dbl&gt; | dHet_B-ALL_713_rep2 &lt;dbl&gt; | dHet_B-ALL_760_rep1 &lt;dbl&gt; | dHet_B-ALL_760_rep2 &lt;dbl&gt; | dHet_FetalLiver_proB_rep1 &lt;dbl&gt; | dHet_FetalLiver_proB_rep2 &lt;dbl&gt; | dHet_FetalLiver_proB_rep3 &lt;dbl&gt; | wt_BoneMar_proB_rep1 &lt;dbl&gt; | wt_BoneMar_proB_rep2 &lt;dbl&gt; |\n",
       "|---|---|---|---|---|---|---|---|---|---|---|---|\n",
       "| ENSMUSG00000000001 | 94.909270 | 85.630010 | 107.549622 | 99.406256 | 89.016454 | 94.202083 | 129.173375 | 115.818792 | 129.110559 | 103.294256 | 110.482353 |\n",
       "| ENSMUSG00000000003 |  0.000000 |  0.000000 |   0.000000 |  0.000000 |  0.000000 |  0.000000 |   0.000000 |   0.000000 |   0.000000 |   0.000000 |   0.000000 |\n",
       "| ENSMUSG00000000028 | 39.795792 | 35.414221 |  26.567223 | 28.400625 | 35.635202 | 38.068106 |  39.002803 |  59.254796 |  18.931210 |  52.404483 |  47.476351 |\n",
       "| ENSMUSG00000000031 |  0.000000 |  0.084361 |   0.874980 |  0.561346 |  4.494676 |  4.208726 |   4.311468 |   3.427708 |  18.374148 |   0.000000 |   0.000000 |\n",
       "| ENSMUSG00000000037 |  0.000000 |  0.000000 |   0.000000 |  0.000000 |  0.000000 |  0.000000 |   0.000000 |   0.028093 |   0.000000 |   0.123960 |   0.474874 |\n",
       "| ENSMUSG00000000049 |  0.200706 |  0.700875 |   0.709392 |  1.361124 |  0.665852 |  0.720562 |   0.702987 |   0.000000 |   2.401379 |   0.249507 |   0.491915 |\n",
       "\n"
      ],
      "text/plain": [
       "  gene_id            dHet_B-ALL_686_rep1 dHet_B-ALL_686_rep2\n",
       "1 ENSMUSG00000000001 94.909270           85.630010          \n",
       "2 ENSMUSG00000000003  0.000000            0.000000          \n",
       "3 ENSMUSG00000000028 39.795792           35.414221          \n",
       "4 ENSMUSG00000000031  0.000000            0.084361          \n",
       "5 ENSMUSG00000000037  0.000000            0.000000          \n",
       "6 ENSMUSG00000000049  0.200706            0.700875          \n",
       "  dHet_B-ALL_713_rep1 dHet_B-ALL_713_rep2 dHet_B-ALL_760_rep1\n",
       "1 107.549622          99.406256           89.016454          \n",
       "2   0.000000           0.000000            0.000000          \n",
       "3  26.567223          28.400625           35.635202          \n",
       "4   0.874980           0.561346            4.494676          \n",
       "5   0.000000           0.000000            0.000000          \n",
       "6   0.709392           1.361124            0.665852          \n",
       "  dHet_B-ALL_760_rep2 dHet_FetalLiver_proB_rep1 dHet_FetalLiver_proB_rep2\n",
       "1 94.202083           129.173375                115.818792               \n",
       "2  0.000000             0.000000                  0.000000               \n",
       "3 38.068106            39.002803                 59.254796               \n",
       "4  4.208726             4.311468                  3.427708               \n",
       "5  0.000000             0.000000                  0.028093               \n",
       "6  0.720562             0.702987                  0.000000               \n",
       "  dHet_FetalLiver_proB_rep3 wt_BoneMar_proB_rep1 wt_BoneMar_proB_rep2\n",
       "1 129.110559                103.294256           110.482353          \n",
       "2   0.000000                  0.000000             0.000000          \n",
       "3  18.931210                 52.404483            47.476351          \n",
       "4  18.374148                  0.000000             0.000000          \n",
       "5   0.000000                  0.123960             0.474874          \n",
       "6   2.401379                  0.249507             0.491915          "
      ]
     },
     "metadata": {},
     "output_type": "display_data"
    }
   ],
   "source": [
    "## Code cell 48 ##\n",
    "\n",
    "gtpm <- tpm  %>% left_join(transcripts_info %>% select(transcript_id, gene_id), by='transcript_id') %>% \n",
    "\tselect(transcript_id, gene_id, everything()) %>% select(-1) %>% \n",
    "\tgroup_by(gene_id) %>% summarize_all(sum, na.rm = TRUE) \n",
    "\n",
    "gtpm <- gtpm %>% mutate(gene_id = str_replace(gene_id, \"\\\\.\\\\d{1,2}$\", \"\"))\n",
    "\n",
    "cat(\"Table dimensions:\", dim(gtpm), \"\\n\")\n",
    "\n",
    "head(gtpm)"
   ]
  },
  {
   "cell_type": "markdown",
   "id": "01664918-e296-4d27-949d-45d57f471f70",
   "metadata": {},
   "source": [
    "and we add gene names :"
   ]
  },
  {
   "cell_type": "code",
   "execution_count": 49,
   "id": "1867215c-0dfe-41f2-b67a-bd506b893269",
   "metadata": {},
   "outputs": [
    {
     "name": "stdout",
     "output_type": "stream",
     "text": [
      "Table dimensions: 55970 12 \n"
     ]
    },
    {
     "data": {
      "text/html": [
       "<table class=\"dataframe\">\n",
       "<caption>A tibble: 6 x 12</caption>\n",
       "<thead>\n",
       "\t<tr><th scope=col>gene_name</th><th scope=col>dHet_B-ALL_686_rep1</th><th scope=col>dHet_B-ALL_686_rep2</th><th scope=col>dHet_B-ALL_713_rep1</th><th scope=col>dHet_B-ALL_713_rep2</th><th scope=col>dHet_B-ALL_760_rep1</th><th scope=col>dHet_B-ALL_760_rep2</th><th scope=col>dHet_FetalLiver_proB_rep1</th><th scope=col>dHet_FetalLiver_proB_rep2</th><th scope=col>dHet_FetalLiver_proB_rep3</th><th scope=col>wt_BoneMar_proB_rep1</th><th scope=col>wt_BoneMar_proB_rep2</th></tr>\n",
       "\t<tr><th scope=col>&lt;chr&gt;</th><th scope=col>&lt;dbl&gt;</th><th scope=col>&lt;dbl&gt;</th><th scope=col>&lt;dbl&gt;</th><th scope=col>&lt;dbl&gt;</th><th scope=col>&lt;dbl&gt;</th><th scope=col>&lt;dbl&gt;</th><th scope=col>&lt;dbl&gt;</th><th scope=col>&lt;dbl&gt;</th><th scope=col>&lt;dbl&gt;</th><th scope=col>&lt;dbl&gt;</th><th scope=col>&lt;dbl&gt;</th></tr>\n",
       "</thead>\n",
       "<tbody>\n",
       "\t<tr><td>Gnai3</td><td>94.909270</td><td>85.630010</td><td>107.549622</td><td>99.406256</td><td>89.016454</td><td>94.202083</td><td>129.173375</td><td>115.818792</td><td>129.110559</td><td>103.294256</td><td>110.482353</td></tr>\n",
       "\t<tr><td>Pbsn </td><td> 0.000000</td><td> 0.000000</td><td>  0.000000</td><td> 0.000000</td><td> 0.000000</td><td> 0.000000</td><td>  0.000000</td><td>  0.000000</td><td>  0.000000</td><td>  0.000000</td><td>  0.000000</td></tr>\n",
       "\t<tr><td>Cdc45</td><td>39.795792</td><td>35.414221</td><td> 26.567223</td><td>28.400625</td><td>35.635202</td><td>38.068106</td><td> 39.002803</td><td> 59.254796</td><td> 18.931210</td><td> 52.404483</td><td> 47.476351</td></tr>\n",
       "\t<tr><td>H19  </td><td> 0.000000</td><td> 0.084361</td><td>  0.874980</td><td> 0.561346</td><td> 4.494676</td><td> 4.208726</td><td>  4.311468</td><td>  3.427708</td><td> 18.374148</td><td>  0.000000</td><td>  0.000000</td></tr>\n",
       "\t<tr><td>Scml2</td><td> 0.000000</td><td> 0.000000</td><td>  0.000000</td><td> 0.000000</td><td> 0.000000</td><td> 0.000000</td><td>  0.000000</td><td>  0.028093</td><td>  0.000000</td><td>  0.123960</td><td>  0.474874</td></tr>\n",
       "\t<tr><td>Apoh </td><td> 0.200706</td><td> 0.700875</td><td>  0.709392</td><td> 1.361124</td><td> 0.665852</td><td> 0.720562</td><td>  0.702987</td><td>  0.000000</td><td>  2.401379</td><td>  0.249507</td><td>  0.491915</td></tr>\n",
       "</tbody>\n",
       "</table>\n"
      ],
      "text/latex": [
       "A tibble: 6 x 12\n",
       "\\begin{tabular}{llllllllllll}\n",
       " gene\\_name & dHet\\_B-ALL\\_686\\_rep1 & dHet\\_B-ALL\\_686\\_rep2 & dHet\\_B-ALL\\_713\\_rep1 & dHet\\_B-ALL\\_713\\_rep2 & dHet\\_B-ALL\\_760\\_rep1 & dHet\\_B-ALL\\_760\\_rep2 & dHet\\_FetalLiver\\_proB\\_rep1 & dHet\\_FetalLiver\\_proB\\_rep2 & dHet\\_FetalLiver\\_proB\\_rep3 & wt\\_BoneMar\\_proB\\_rep1 & wt\\_BoneMar\\_proB\\_rep2\\\\\n",
       " <chr> & <dbl> & <dbl> & <dbl> & <dbl> & <dbl> & <dbl> & <dbl> & <dbl> & <dbl> & <dbl> & <dbl>\\\\\n",
       "\\hline\n",
       "\t Gnai3 & 94.909270 & 85.630010 & 107.549622 & 99.406256 & 89.016454 & 94.202083 & 129.173375 & 115.818792 & 129.110559 & 103.294256 & 110.482353\\\\\n",
       "\t Pbsn  &  0.000000 &  0.000000 &   0.000000 &  0.000000 &  0.000000 &  0.000000 &   0.000000 &   0.000000 &   0.000000 &   0.000000 &   0.000000\\\\\n",
       "\t Cdc45 & 39.795792 & 35.414221 &  26.567223 & 28.400625 & 35.635202 & 38.068106 &  39.002803 &  59.254796 &  18.931210 &  52.404483 &  47.476351\\\\\n",
       "\t H19   &  0.000000 &  0.084361 &   0.874980 &  0.561346 &  4.494676 &  4.208726 &   4.311468 &   3.427708 &  18.374148 &   0.000000 &   0.000000\\\\\n",
       "\t Scml2 &  0.000000 &  0.000000 &   0.000000 &  0.000000 &  0.000000 &  0.000000 &   0.000000 &   0.028093 &   0.000000 &   0.123960 &   0.474874\\\\\n",
       "\t Apoh  &  0.200706 &  0.700875 &   0.709392 &  1.361124 &  0.665852 &  0.720562 &   0.702987 &   0.000000 &   2.401379 &   0.249507 &   0.491915\\\\\n",
       "\\end{tabular}\n"
      ],
      "text/markdown": [
       "\n",
       "A tibble: 6 x 12\n",
       "\n",
       "| gene_name &lt;chr&gt; | dHet_B-ALL_686_rep1 &lt;dbl&gt; | dHet_B-ALL_686_rep2 &lt;dbl&gt; | dHet_B-ALL_713_rep1 &lt;dbl&gt; | dHet_B-ALL_713_rep2 &lt;dbl&gt; | dHet_B-ALL_760_rep1 &lt;dbl&gt; | dHet_B-ALL_760_rep2 &lt;dbl&gt; | dHet_FetalLiver_proB_rep1 &lt;dbl&gt; | dHet_FetalLiver_proB_rep2 &lt;dbl&gt; | dHet_FetalLiver_proB_rep3 &lt;dbl&gt; | wt_BoneMar_proB_rep1 &lt;dbl&gt; | wt_BoneMar_proB_rep2 &lt;dbl&gt; |\n",
       "|---|---|---|---|---|---|---|---|---|---|---|---|\n",
       "| Gnai3 | 94.909270 | 85.630010 | 107.549622 | 99.406256 | 89.016454 | 94.202083 | 129.173375 | 115.818792 | 129.110559 | 103.294256 | 110.482353 |\n",
       "| Pbsn  |  0.000000 |  0.000000 |   0.000000 |  0.000000 |  0.000000 |  0.000000 |   0.000000 |   0.000000 |   0.000000 |   0.000000 |   0.000000 |\n",
       "| Cdc45 | 39.795792 | 35.414221 |  26.567223 | 28.400625 | 35.635202 | 38.068106 |  39.002803 |  59.254796 |  18.931210 |  52.404483 |  47.476351 |\n",
       "| H19   |  0.000000 |  0.084361 |   0.874980 |  0.561346 |  4.494676 |  4.208726 |   4.311468 |   3.427708 |  18.374148 |   0.000000 |   0.000000 |\n",
       "| Scml2 |  0.000000 |  0.000000 |   0.000000 |  0.000000 |  0.000000 |  0.000000 |   0.000000 |   0.028093 |   0.000000 |   0.123960 |   0.474874 |\n",
       "| Apoh  |  0.200706 |  0.700875 |   0.709392 |  1.361124 |  0.665852 |  0.720562 |   0.702987 |   0.000000 |   2.401379 |   0.249507 |   0.491915 |\n",
       "\n"
      ],
      "text/plain": [
       "  gene_name dHet_B-ALL_686_rep1 dHet_B-ALL_686_rep2 dHet_B-ALL_713_rep1\n",
       "1 Gnai3     94.909270           85.630010           107.549622         \n",
       "2 Pbsn       0.000000            0.000000             0.000000         \n",
       "3 Cdc45     39.795792           35.414221            26.567223         \n",
       "4 H19        0.000000            0.084361             0.874980         \n",
       "5 Scml2      0.000000            0.000000             0.000000         \n",
       "6 Apoh       0.200706            0.700875             0.709392         \n",
       "  dHet_B-ALL_713_rep2 dHet_B-ALL_760_rep1 dHet_B-ALL_760_rep2\n",
       "1 99.406256           89.016454           94.202083          \n",
       "2  0.000000            0.000000            0.000000          \n",
       "3 28.400625           35.635202           38.068106          \n",
       "4  0.561346            4.494676            4.208726          \n",
       "5  0.000000            0.000000            0.000000          \n",
       "6  1.361124            0.665852            0.720562          \n",
       "  dHet_FetalLiver_proB_rep1 dHet_FetalLiver_proB_rep2 dHet_FetalLiver_proB_rep3\n",
       "1 129.173375                115.818792                129.110559               \n",
       "2   0.000000                  0.000000                  0.000000               \n",
       "3  39.002803                 59.254796                 18.931210               \n",
       "4   4.311468                  3.427708                 18.374148               \n",
       "5   0.000000                  0.028093                  0.000000               \n",
       "6   0.702987                  0.000000                  2.401379               \n",
       "  wt_BoneMar_proB_rep1 wt_BoneMar_proB_rep2\n",
       "1 103.294256           110.482353          \n",
       "2   0.000000             0.000000          \n",
       "3  52.404483            47.476351          \n",
       "4   0.000000             0.000000          \n",
       "5   0.123960             0.474874          \n",
       "6   0.249507             0.491915          "
      ]
     },
     "metadata": {},
     "output_type": "display_data"
    }
   ],
   "source": [
    "## Code cell 49 ##\n",
    "\n",
    "gtpm_symbols <- gtpm %>% left_join(transcripts_info %>%\n",
    "                                   mutate(gene_id = str_remove(gene_id, \".\\\\d{1,2}$\")) %>%  \n",
    " select(gene_id, gene_name), by = 'gene_id') %>% select(-gene_id) %>% \n",
    "        select(gene_name, everything()) %>% distinct()\n",
    "\n",
    "cat(\"Table dimensions:\", dim(gtpm_symbols), \"\\n\")\n",
    "\n",
    "head(gtpm_symbols)"
   ]
  },
  {
   "cell_type": "code",
   "execution_count": 50,
   "id": "b68dd6ae-eabd-426f-81f9-02b0aba8cb9e",
   "metadata": {},
   "outputs": [
    {
     "name": "stdout",
     "output_type": "stream",
     "text": [
      "End time is : Sun Jun 23 18:51:44 2024 \n"
     ]
    }
   ],
   "source": [
    "## Code cell 50 ##\n",
    "\n",
    "cat(\"End time is :\", date(), \"\\n\")"
   ]
  },
  {
   "cell_type": "markdown",
   "id": "a95a111b-006c-4cd5-82fa-c8bc12f3f4bc",
   "metadata": {},
   "source": [
    "---"
   ]
  },
  {
   "cell_type": "markdown",
   "id": "78c0d7a1-549d-4313-a3c0-613488a9f324",
   "metadata": {},
   "source": [
    "## 2 - Filtering out genes non informative genes\n",
    "\n",
    "---"
   ]
  },
  {
   "cell_type": "markdown",
   "id": "c73ec0ab-ca13-4c0b-8f7f-2eebfe45f058",
   "metadata": {},
   "source": [
    "For many analysis methods, it is advisable to filter out as many genes as possible before the analysis to decrease the impact of multiple testing correction on false discovery rates.   \n",
    "\n",
    "This is normally done by filtering out **genes with low numbers of reads** and thus likely to be uninformative from a biological point of view.  \n",
    "(With DESeq2, the tool that we will use later for differential analysis, this filtering is not necessary beforehand, as DESeq2 applies independent filtering during the analysis.)   \n",
    "In addition, filtering out genes that are very lowly expressed does reduce the size of the dataset, meaning that less memory is required and processing steps are carried out faster.\n",
    "\n",
    "<div class=\"alert alert-block alert-info\"> <b> What is a lowly expressed gene ? </b><br>\n",
    "A general rule is to keep genes with a read count across all samples equal or above to number of samples.</div>\n",
    "\n",
    "For some biological questions, we may want to **keep only coding genes with or without long-non-coding RNAs**, thus also getting rid of small RNAs, microRNAs, pseudogenes, tRNAs, Ig genes, TCR genes, ..\n",
    "\n",
    "=> Here, we decide to keep all gene categories but to filter on the level of expression. We thus keep genes where the total number of reads across all 11 samples is greater than 10.\n"
   ]
  },
  {
   "cell_type": "markdown",
   "id": "add52003-d78d-4d93-9337-a4183cd8b376",
   "metadata": {},
   "source": [
    "- For each gene, we compute the total count of read in all samples, and compare to our threshold. We count the number of genes passing the test."
   ]
  },
  {
   "cell_type": "code",
   "execution_count": null,
   "id": "74b3e4f6-16d5-480d-8a51-bb3e7650d165",
   "metadata": {},
   "outputs": [],
   "source": [
    "## Code cell 51 ##\n",
    "\n",
    "# keeping outcome in a vector of 'logical' values (ie TRUE or FALSE, or NA)\n",
    "keep <- rowSums(countdata[-1]) > 10\n",
    "\n",
    "# summary of test outcome: number of genes in each class:\n",
    "table(keep, useNA=\"always\") "
   ]
  },
  {
   "cell_type": "markdown",
   "id": "78c93c26-2d25-440c-8b69-d29690962c9f",
   "metadata": {},
   "source": [
    "This means that 32754 genes have a total count across samples below 10. We keep the other 24432 genes.  \n",
    "For information, when we performed the same analysis in 2023 with the M32 annotation, we eliminated 34083 genes with a total count across samples below 10 and we kept 22927 genes"
   ]
  },
  {
   "cell_type": "markdown",
   "id": "ff2afb22-1d1e-4823-8746-6babb8181c20",
   "metadata": {},
   "source": [
    "- We extract those genes and replace `counts` with this subset of genes."
   ]
  },
  {
   "cell_type": "code",
   "execution_count": null,
   "id": "c78895b4-eabb-4dd3-bd33-643dc1b096ff",
   "metadata": {},
   "outputs": [],
   "source": [
    "## Code cell 52 ##\n",
    "\n",
    "\n",
    "# subset genes where test was TRUE\n",
    "countdata <- countdata[keep,]\n",
    "rm(keep)\n",
    "\n",
    "# check dimension of new count matrix\n",
    "dim(countdata)\n",
    "\n",
    "# 24432 12"
   ]
  },
  {
   "cell_type": "markdown",
   "id": "aec51e9a-55c9-4cd9-b730-9d938c1e2ad8",
   "metadata": {},
   "source": [
    "<div class=\"alert alert-block alert-warning\"> <b> Warning: </b><br>\n",
    "If your dataframe after cell 29 does not have 24432 rows and 12 columns, you probably run a command twice. In that case, rerun all cells from cell 17.</div>"
   ]
  },
  {
   "cell_type": "markdown",
   "id": "917a3ab5-0b1c-4db5-90b5-9a7caaf4bc53",
   "metadata": {
    "tags": [],
    "toc-hr-collapsed": true
   },
   "source": [
    "---\n",
    "## 3 - Quality assessment\n",
    "---\n",
    "\n",
    "Before moving on to the actual differential expression analysis, it is important to assess the quality of our data.   \n",
    "Quality control is an important step in any data analysis. Since our purpose is to identify differentially expressed genes, we may consider excluding a sample if it is an obvious outlier that could reflect an issue in its upstream processing or preparation or if it is inconsistent with metadata (eg. Y chromosome genes expressed in females).\n",
    "\n",
    "In the ensuing steps, we will explore our data using boxplots, PCA, density plots and heatmaps.\n",
    "\n",
    "\n",
    "### 3.1 - Initial visualization of the count distributions\n",
    "---\n",
    "\n",
    "Differential expression calculations with DESeq2 uses raw read counts as input, but for visualization purposes we use transformed counts.\n",
    "\n",
    "Why not raw counts? Two issues:\n",
    "\n",
    "    - Raw counts range is very large: some highly expressed genes can have hundreds of thousands of reads\n",
    "    - Variance increases with mean gene expression, and this has impact on assessing the relationships.\n",
    "    \n",
    "Let's display the range of expression of our raw read counts:"
   ]
  },
  {
   "cell_type": "code",
   "execution_count": null,
   "id": "963e1007-436f-47bc-9049-6e64be866697",
   "metadata": {},
   "outputs": [],
   "source": [
    "## Code cell 53 ##\n",
    "\n",
    "summary(countdata[,-1])"
   ]
  },
  {
   "cell_type": "markdown",
   "id": "df6d799b-5a55-4cbb-bf06-d4cc04fbbe73",
   "metadata": {},
   "source": [
    "We also can see that few outlier genes affect distribution visualization:"
   ]
  },
  {
   "cell_type": "code",
   "execution_count": null,
   "id": "075ba5ab-0018-4821-b1ab-89921a38209e",
   "metadata": {},
   "outputs": [],
   "source": [
    "## Code cell 54 ##\n",
    "\n",
    "opar <- par(no.readonly=TRUE) # l'argument no.readonly=TRUE permet de supprimer l'affichage d'éventuels warnings \n",
    "par(mar = c(8,2,2,2)) # to increase margin at the bottom to display full sample names\n",
    "boxplot(countdata[,-1], main = 'Raw readcounts distribution across samples', xaxt = \"n\") # no display of xlabels\n",
    "text(1:11, y = par(\"usr\")[3] - 0.45,\n",
    "     labels = names(countdata)[-1],\n",
    "     srt = 30, adj = 1, xpd = NA, cex= 0.9)# add xlabels with 30 degres srotation\n",
    "suppressWarnings(par(opar))\n"
   ]
  },
  {
   "cell_type": "markdown",
   "id": "ef03a8bb-ded0-41fd-b00b-4dfbb21817e0",
   "metadata": {},
   "source": [
    "We can see that the variance increases with the average level of expression by plotting standard deviation vs mean expression :"
   ]
  },
  {
   "cell_type": "code",
   "execution_count": null,
   "id": "64ee21a3-fb28-4076-9c1f-7d6cdf4b77a2",
   "metadata": {},
   "outputs": [],
   "source": [
    "## Code cell 55 ##\n",
    "\n",
    "# Raw counts mean expression vs Standard Deviation (SD)\n",
    "plot(rowMeans(countdata[,-1]), apply(countdata[,2:12], 1, sd, na.rm = TRUE), \n",
    "     main = 'Raw read counts: sd vs mean', \n",
    "     xlim = c(0,100000), # to zoom\n",
    "     ylim = c(0,50000), # to zoom\n",
    "     xlab = \"Mean of raw counts per gene\",\n",
    "     ylab = \"SD of raw counts per gene\"\n",
    "    )\n"
   ]
  },
  {
   "cell_type": "markdown",
   "id": "340cc2fc-2411-4c86-949f-69e6c3d9f69a",
   "metadata": {},
   "source": [
    "This problem is called heteroskedasticy : variances and means are not independent."
   ]
  },
  {
   "cell_type": "markdown",
   "id": "d22428f4-9ec5-4687-9b3b-d9005d3bc0ff",
   "metadata": {},
   "source": [
    "### 3.2 -  Data transformation and visualization\n",
    "---\n",
    "\n",
    "In exploratory data analysis, we are going to look at the distance between samples. It is thus crucial to make the data homoscedatic.\n",
    "\n",
    "To avoid the problems posed by raw counts, they can be transformed. **Several transformation methods exist to limit the dependence of variance on mean gene expression**, among which :\n",
    "\n",
    "    - Simple log2 transformation\n",
    "    - VST : variance stabilizing transformation\n",
    "    - rlog : regularized log transformation\n",
    "\n",
    "For the moment, we are going to use only the first one to perform this first exploratory analysis on non-normalised data.   \n",
    "The two other types of transformation are available in the DESeq2 package, that we will use in the next jupyter notebook.  \n",
    " "
   ]
  },
  {
   "cell_type": "markdown",
   "id": "18262605-0cbd-4eb5-8c53-a1af675c70ab",
   "metadata": {},
   "source": [
    "#### **-> log2 transformation**\n",
    "\n",
    "This is one of the most used transformation in transcriptomics, as it helps to normalize the data (with the meaning of changing the data distribution to one closer to the normal distribution), and it enables a better visualization of low counts.   \n",
    "    \n",
    "Because some genes are not expressed (detected) in some samples, their counts are 0. As log2(0) equals -Inf, we add an ***offset***, usually of 1, to every count value to create **pseudocounts**. The lowest value then is 1, or 0 on the log2 scale (log2(1) = 0)."
   ]
  },
  {
   "cell_type": "code",
   "execution_count": null,
   "id": "4c4ea7b8-0fc3-400a-afdb-01261f543274",
   "metadata": {},
   "outputs": [],
   "source": [
    "## Code cell 56 ##\n",
    "\n",
    "summary(log2(countdata[,2]+1)) # summary for first sample column 2"
   ]
  },
  {
   "cell_type": "code",
   "execution_count": null,
   "id": "2e02a472-835b-4561-9793-d7a75fb823dd",
   "metadata": {},
   "outputs": [],
   "source": [
    "## Code cell 57 ##\n",
    "\n",
    "summary(log2(countdata[,2:12]+1)) # summary for each sample"
   ]
  },
  {
   "cell_type": "markdown",
   "id": "20181367-5891-4b73-bb7b-600ffcf15348",
   "metadata": {},
   "source": [
    "We will check the distribution of read pseudocounts using a boxplot and add some colour to see if there is any difference between sample groups."
   ]
  },
  {
   "cell_type": "code",
   "execution_count": null,
   "id": "cfd68f0e-093b-4785-946d-643eaa9bfcdd",
   "metadata": {},
   "outputs": [],
   "source": [
    "## Code cell 58 ##\n",
    "\n",
    "# make a colour vector\n",
    "conditionColor <- match(samples$Condition, c(\"dHet\", \"dHetRag\", \"WT\")) + 1\n",
    "# '+1' to avoid color '1' i.e. black\n",
    "\n",
    "# Check distributions of samples using boxplots\n",
    "opar <- par(no.readonly=TRUE) # l'argument no.readonly=TRUE permet de supprimer l'affichage d'éventuels warnings \n",
    "par(mar = c(6,2,2,2))\n",
    "boxplot(log2(countdata[,2:12]+1),\n",
    "        xlab = \"\", xaxt = \"n\",\n",
    "        ylab = \"Log2(Counts)\",\n",
    "        las = 2,\n",
    "        col = conditionColor,\n",
    "        main = \"Log2(Counts) distribution across samples\")\n",
    "text(1:11, y = par(\"usr\")[3] - 0.45,\n",
    "     labels = names(countdata)[-1],\n",
    "     srt = 30, adj = 1, xpd = NA, cex= 0.9)\n",
    "\n",
    "\n",
    "# Let's add a blue horizontal line that corresponds to the median\n",
    "abline(h = median.default(as.matrix(log2(countdata[,2:12]+1))), col=\"blue\")\n",
    "\n",
    "suppressWarnings(par(opar))"
   ]
  },
  {
   "cell_type": "markdown",
   "id": "330ed5d3-3cf1-4fe4-bdc9-93225faec336",
   "metadata": {},
   "source": [
    "From the boxplot, we see that overall the density distributions of raw log-counts are not identical but still not very different from one sample to another.   \n",
    "If a sample is really far above or below the blue horizontal line (overall median) we may need to investigate that sample further."
   ]
  },
  {
   "cell_type": "code",
   "execution_count": null,
   "id": "83086e25-a6c1-4d74-aa53-f63b31b7f3bc",
   "metadata": {},
   "outputs": [],
   "source": [
    "## Code cell 59 ##\n",
    "\n",
    "# Log2 counts standard deviation (sd) vs mean expression\n",
    "\n",
    "plot(rowMeans(log2(countdata[,2:12]+1)),\n",
    "              matrixStats::rowSds(as.matrix(log2(countdata[,2:12]+1), na.rm = TRUE)), \n",
    "     main = 'Log2 Counts: sd vs mean',\n",
    "     xlab = \"Mean of log2(raw counts) per gene\",\n",
    "     ylab = \"SD of log2(raw counts) per gene\"\n",
    "    \n",
    "    )"
   ]
  },
  {
   "cell_type": "markdown",
   "id": "5a182247-bb08-422e-b89c-9b69cff892e3",
   "metadata": {},
   "source": [
    "In contrast to raw counts, with log2 transformed counts, lowly expressed genes (mean expression around 5 or below) show higher variation than highly expressed genes (mean expression above 10-12)."
   ]
  },
  {
   "cell_type": "markdown",
   "id": "f2d85ff7-7d0f-4ca3-8a2d-c55616e9caa4",
   "metadata": {},
   "source": [
    "### 3.3 - Principal Component Analysis (PCA)\n",
    "---\n",
    "\n",
    "A principal component analysis (PCA) is an unsupervised method used to explore the data variance structure **by reducing its dimensions to a few principal components (PC) that explain the greatest variation in the data**.  PCA is an example of an unsupervised analysis, where we don’t specify the grouping of the samples *(see lecture 12)*.  \n",
    "If the experiment is well controlled and has worked properly, we should find that replicate samples cluster closely, whilst the greatest sources of variation in the data should be between treatments/sample groups.   \n",
    "It is also an incredibly useful tool for checking for outliers and batch effects.\n",
    "\n",
    "We cannot run the PCA directly on raw non-normalized data. Data must have a common scale. To circumvent this, we thus run here the PCA on the log2 transformation data. Another method could have been to center (to substract the mean) and reduce (to divide by the variance). \n",
    "\n",
    "- transposition of data : \n",
    "\n",
    "In a PCA where we want to visualize the grouping of samples, the variables are genes, and thus should be in columns. So in the code below, the `t()` function is used to transpose the dataframe: the result is a new dataframe with samples as rows and genes as columns."
   ]
  },
  {
   "cell_type": "code",
   "execution_count": null,
   "id": "e2794ddd-e442-4a39-9f6b-e7695ddde0f2",
   "metadata": {},
   "outputs": [],
   "source": [
    "## Code cell 60 ##\n",
    "\n",
    "tlogcounts <- t(log2(countdata[,2:12]+1))\n",
    "dim(tlogcounts)"
   ]
  },
  {
   "cell_type": "markdown",
   "id": "b2239512-1dda-4dd8-8f08-dc68c7433d15",
   "metadata": {},
   "source": [
    "- plot PCA:\n",
    "\n",
    "To plot the PCA results, we will use here the `autoplot` function from the `ggfortify` package (Tang, Horikoshi, and Li 2016). `ggfortify` is built on top of `ggplot2` and is able to recognise common statistical objects such as PCA results or linear models and to automatically generate a summary plot of the results in an appropriate manner."
   ]
  },
  {
   "cell_type": "code",
   "execution_count": null,
   "id": "5df8d297-d245-4cc5-b444-5e7b4c5e5fb6",
   "metadata": {},
   "outputs": [],
   "source": [
    "## Code cell 61 ##\n",
    "\n",
    "# run PCA\n",
    "PCAdata <- prcomp(tlogcounts)\n",
    "\n",
    "# plot PCA\n",
    "autoplot(PCAdata)"
   ]
  },
  {
   "cell_type": "markdown",
   "id": "c49b06d3-db2f-4caf-90b4-a9bb312cd303",
   "metadata": {},
   "source": [
    "Without the names of the samples, or colours indicating their group, we cannot see if they cluster correctly.    \n",
    "\n",
    "- add labels to PCA plot:\n",
    "\n",
    "So we add colours and labels to the PCA plot.   \n",
    "The package `ggrepel` allows us to add text to the plot, but ensures that points that are close together don’t have overlapping labels  (they repel each other)."
   ]
  },
  {
   "cell_type": "code",
   "execution_count": null,
   "id": "a45b8459-91f4-4b11-b271-fbb911d1ff09",
   "metadata": {},
   "outputs": [],
   "source": [
    "## Code cell 62 ##\n",
    "\n",
    "autoplot(PCAdata,\n",
    "         data = samples, \n",
    "         colour = \"Condition\", \n",
    "         shape = \"Tissue\",\n",
    "         size = 6) +\n",
    "    geom_text_repel(aes(x = PC1, y = PC2, label = SampleName),\n",
    "                        box.padding = 0.8)\n"
   ]
  },
  {
   "cell_type": "markdown",
   "id": "e626e776-4bc0-4e78-888d-b5e1dd0bcacf",
   "metadata": {},
   "source": [
    "We can see that the first Principal Component (explaining the largest source of variation) shows in this dataset variation between samples from different conditions (the effect of interest), while the second PC (explaining the second largest source of variation) displays here sample differences due to WT vs mutant genotypes.   \n",
    "It seems that there is no batch effect, but let's verify if none appears in the next PCs eigen vectors.  "
   ]
  },
  {
   "cell_type": "code",
   "execution_count": null,
   "id": "ce892a39-b330-4618-9587-be3708a46e62",
   "metadata": {},
   "outputs": [],
   "source": [
    "## Code cell 63 ##\n",
    "\n",
    "autoplot(PCAdata,\n",
    "         x = 2,    # PC2\n",
    "         y = 3,    # PC3\n",
    "         data = samples, \n",
    "         colour = \"Condition\", \n",
    "         shape = \"Tissue\",\n",
    "         size = 6) +\n",
    "    geom_text_repel(aes(x = PC2, y = PC3, label = SampleName),\n",
    "                    box.padding = 0.8)\n"
   ]
  },
  {
   "cell_type": "code",
   "execution_count": null,
   "id": "ba32838e-ed6c-47d8-918e-35c197e661ec",
   "metadata": {},
   "outputs": [],
   "source": [
    "## Code cell 64 ##\n",
    "\n",
    "autoplot(PCAdata,\n",
    "         x = 3,    # PC3\n",
    "         y = 4,    # PC4\n",
    "         data = samples, \n",
    "         colour = \"Condition\", \n",
    "         shape = \"Tissue\",\n",
    "         size = 6) +\n",
    "    geom_text_repel(aes(x = PC3, y = PC4, label = SampleName),\n",
    "                    box.padding = 0.8)\n",
    "\n",
    "rm(PCAdata) # we remove the PCA dtaa from the session for memory reasons"
   ]
  },
  {
   "cell_type": "markdown",
   "id": "84d08f79-0bdf-4a9f-8604-104469ce01b8",
   "metadata": {},
   "source": [
    "On the basis of these last two plots, we cannot see a clear effect of a given factor to the variation depicted in PC3 and PC4, except maybe the difference between mice.\n",
    "\n",
    "*Note: We will perform a more detailed PCA after data normalisation in notebook Pipe_10.*"
   ]
  },
  {
   "cell_type": "markdown",
   "id": "562d457e-9428-4038-a73d-c6a0250a52e6",
   "metadata": {
    "tags": []
   },
   "source": [
    "### 3.4 - Hierarchical clustering\n",
    "---\n",
    "\n",
    "This  representation can also be used to cluster the samples based on dissimilarity indexes *(see lecture 13, here we will use Ward distance)*. More information can be found with `?hclust` (or in the Contextual Help panel on the right, that can be opened via the Help menu)."
   ]
  },
  {
   "cell_type": "code",
   "execution_count": null,
   "id": "65b1970e-53e5-4f69-b640-d71017c442c3",
   "metadata": {},
   "outputs": [],
   "source": [
    "## Code cell 65 ##\n",
    "\n",
    "clusters <- hclust(dist(as.matrix(tlogcounts)), method =\"ward.D\")\n",
    "plot(clusters, labels = samples$SampleName)\n",
    "\n",
    "rm(clusters, tlogcounts)    "
   ]
  },
  {
   "cell_type": "markdown",
   "id": "fd34012a-bf02-4352-97af-21de672d651b",
   "metadata": {
    "tags": []
   },
   "source": [
    "We can see that our samples are grouped correctly, and that replicates from the same mouse cluster together, as expected."
   ]
  },
  {
   "cell_type": "markdown",
   "id": "81033386-c706-4102-b884-2716616456fc",
   "metadata": {},
   "source": [
    "### 3.5 - Density plot\n",
    "---\n",
    "\n",
    "A Density Plot can be used to visualize the distribution of data over a continuous interval. In RNA-seq analysis, this could be used to detect the presence or absence of batch effects in the data. Batch effects may be introduced through different experimental platforms, laboratory conditions, different sources of samples, different technicians, etc, and may introduce spurious variability which is not due to the condition under study (cancerous state of B and pro-B cells).   \n",
    "This [paper](https://www.ncbi.nlm.nih.gov/pmc/articles/PMC4636836/) comprehensively discusses batch effects and how they can be corrected."
   ]
  },
  {
   "cell_type": "code",
   "execution_count": null,
   "id": "937603c1-7ce7-4590-85b8-605aa93c5ebe",
   "metadata": {},
   "outputs": [],
   "source": [
    "## Code cell 66 ##\n",
    "\n",
    "affy::plotDensity(log2(countdata[,2:12]+1),\n",
    "                  xlab(\"Density\"),ylab(\"log2(Counts)\"),\n",
    "                  col = 1:11)\n",
    "legend(x = 14, y = 0.13,legend = names(log2(countdata[,2:12]+1)),\n",
    "       col = 1:11, lty = 1:11, bty = \"n\")"
   ]
  },
  {
   "cell_type": "markdown",
   "id": "912b3c48-5685-465b-96d7-1a264ce2e59f",
   "metadata": {},
   "source": [
    "The density plots overlap for all samples, none stand out as having a different profile.   \n",
    "This confirms that no batch effect is visible in our data that would need to be corrected before going on with normalisation.   \n",
    "\n",
    "To see examples of batch effects, you can have a look [there](https://evayiwenwang.github.io/Managing_batch_effects/detect.html). "
   ]
  },
  {
   "cell_type": "markdown",
   "id": "c280fb80-1ec3-41c7-8ba1-81962b2ab73f",
   "metadata": {},
   "source": [
    "## 4 - Saving our results\n",
    "\n",
    "We can save all the R objects created in this session in a single R object.   \n",
    "This will help us to reload our dataframes without having to run the same commands.   "
   ]
  },
  {
   "cell_type": "code",
   "execution_count": null,
   "id": "4ae9084a-4820-46e7-889b-8526477aa2ca",
   "metadata": {},
   "outputs": [],
   "source": [
    "## Code cell 67 ##  \n",
    "\n",
    "ls()\n",
    "save(countdata, samples, conditionColor, file = paste0(pca1folder,\"RawCounts_Samples.RData\"))"
   ]
  },
  {
   "cell_type": "markdown",
   "id": "e11ca05e-895a-49c6-83dd-8252fc4c677c",
   "metadata": {},
   "source": [
    "---\n",
    "___\n",
    "\n",
    "Now we go on with the normalisation of read counts and differential expression analysis using `DESeq2`.  \n",
    "  \n",
    "**=> Step 9: DESeq2 Normalisation and Differential Expression analysis** "
   ]
  },
  {
   "cell_type": "markdown",
   "id": "e4b783d3-d54a-4adc-be70-f1a03eab1eb1",
   "metadata": {
    "tags": []
   },
   "source": [
    "The jupyter notebook used for the next session will be *Pipe_09-R-DESeq2-normalisation-DE.ipynb*    \n",
    "Let's retrieve it in our directory, in order to have a private copy to work on:   "
   ]
  },
  {
   "cell_type": "code",
   "execution_count": null,
   "id": "edd98e1c-83b9-431b-a1b9-914992051d8d",
   "metadata": {
    "tags": []
   },
   "outputs": [],
   "source": [
    "## Code cell 68 ##   \n",
    "\n",
    "myfolder\n",
    "file.copy(\"/shared/projects/2413_rnaseq_cea/pipeline/Pipe_09-R-DESeq2-normalisation-DE.ipynb\", myfolder)\n"
   ]
  },
  {
   "cell_type": "markdown",
   "id": "1fd5f60d-c6eb-4ff8-a5aa-34c3a8fde969",
   "metadata": {},
   "source": [
    "\n",
    "\n",
    "**Save executed notebook**\n",
    "\n",
    "To end the session, save your executed notebook in your `run_notebooks` folder. **Adjust the name with yours** and reformat as code cell to run it."
   ]
  },
  {
   "cell_type": "code",
   "execution_count": null,
   "id": "cf436e71-c713-45fc-8f75-0a3760c6c5c9",
   "metadata": {
    "tags": []
   },
   "outputs": [],
   "source": [
    "## Code cell 69 ##   \n",
    "\n",
    "# creation of the directory, recursive = TRUE is equivalent to the mkdir -p in Unix\n",
    "dir.create(paste0(myfolder,\"/run_notebooks\"), recursive = TRUE)\n",
    "\n",
    "runfolder <- paste0(myfolder,\"/run_notebooks\")\n",
    "       \n",
    "# file.copy(paste0(myfolder, \"/Pipe_08-R_counts-exploratory-analysis-I.ipynb\"), runfolder)\n",
    "file.copy(paste0(myfolder, \"/Pipe_08-R_counts-exploratory-analysis-I.ipynb\"), paste0(runfolder, \"/Pipe_08-R_counts-exploratory-analysis-I-run.ipynb\"))"
   ]
  },
  {
   "cell_type": "markdown",
   "id": "87b552b9-10f5-4b97-acce-e49e71ff529a",
   "metadata": {},
   "source": [
    "---"
   ]
  },
  {
   "cell_type": "markdown",
   "id": "c851a658-1588-4134-a6ef-5d9ea16bbc3f",
   "metadata": {
    "tags": []
   },
   "source": [
    "<div class=\"alert alert-block alert-success\"><b>Success:</b> Well done! You now know how to perform a exploratory analysis of RNAseq expression data in R.<br>\n",
    "Don't forget to save you notebook and export a copy as an <b>html</b> file as well <br>\n",
    "- Open \"File\" in the Menu<br>\n",
    "- Select \"Export Notebook As\"<br>\n",
    "- Export notebook as HTML<br>\n",
    "- You can then open it in your browser even without being connected to the server! \n",
    "</div>"
   ]
  },
  {
   "cell_type": "markdown",
   "id": "d10a6385-bf27-438b-ad95-1da7837b98cf",
   "metadata": {
    "tags": []
   },
   "source": [
    "## Useful commands\n",
    "<div class=\"alert alert-block alert-info\"> \n",
    "    \n",
    "- <kbd>CTRL</kbd>+<kbd>S</kbd> : save notebook<br>    \n",
    "- <kbd>CTRL</kbd>+<kbd>ENTER</kbd> : Run Cell<br>  \n",
    "- <kbd>SHIFT</kbd>+<kbd>ENTER</kbd> : Run Cell and Select Next<br>   \n",
    "- <kbd>ALT</kbd>+<kbd>ENTER</kbd> : Run Cell and Insert Below<br>   \n",
    "- <kbd>ESC</kbd>+<kbd>y</kbd> : Change to *Code* Cell Type<br>  \n",
    "- <kbd>ESC</kbd>+<kbd>m</kbd> : Change to *Markdown* Cell Type<br> \n",
    "- <kbd>ESC</kbd>+<kbd>r</kbd> : Change to *Raw* Cell Type<br>    \n",
    "- <kbd>ESC</kbd>+<kbd>a</kbd> : Create Cell Above<br> \n",
    "- <kbd>ESC</kbd>+<kbd>b</kbd> : Create Cell Below<br> \n",
    "\n",
    "<em>  \n",
    "To make nice html reports with markdown: <a href=\"https://dillinger.io/\" title=\"dillinger.io\">html visualization tool 1</a> or <a href=\"https://stackedit.io/app#\" title=\"stackedit.io\">html visualization tool 2</a>, <a href=\"https://www.tablesgenerator.com/markdown_tables\" title=\"tablesgenerator.com\">to draw nice tables</a>, and the <a href=\"https://medium.com/analytics-vidhya/the-ultimate-markdown-guide-for-jupyter-notebook-d5e5abf728fd\" title=\"Ultimate guide\">Ultimate guide</a>. <br>\n",
    "Further reading on JupyterLab notebooks: <a href=\"https://jupyterlab.readthedocs.io/en/latest/user/notebook.html\" title=\"Jupyter Lab\">Jupyter Lab documentation</a>.<br>   \n",
    "</em>    \n",
    " \n",
    "</div>"
   ]
  },
  {
   "cell_type": "markdown",
   "id": "4169dfc6-0732-4092-8fb7-19d46fb46c1b",
   "metadata": {},
   "source": [
    "Claire Vandiedonck - 2021-2023   \n",
    "Sandrine Caburet - 05/2023   \n",
    "MAJ : 23/06/2024 by @CVandiedonck"
   ]
  }
 ],
 "metadata": {
  "kernelspec": {
   "display_name": "R 4.2.3",
   "language": "R",
   "name": "r-4.2.3"
  },
  "language_info": {
   "codemirror_mode": "r",
   "file_extension": ".r",
   "mimetype": "text/x-r-source",
   "name": "R",
   "pygments_lexer": "r",
   "version": "4.2.3"
  },
  "toc-autonumbering": false,
  "toc-showcode": false
 },
 "nbformat": 4,
 "nbformat_minor": 5
}

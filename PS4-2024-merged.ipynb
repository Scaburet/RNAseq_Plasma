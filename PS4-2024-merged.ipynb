{
 "cells": [
  {
   "cell_type": "markdown",
   "id": "73b00908",
   "metadata": {},
   "source": [
    "# RNA-seq Data Analysis Pipeline - PS4 2024\n",
    "## Tuesday 26/11/2024\n",
    "\n",
    "This notebook covers the analysis of RNA-seq data from mouse samples, focusing on quality assessment and processing of mapped reads.\n",
    "\n",
    "<div class=\"alert alert-info\">\n",
    "<b>Environment Requirements:</b><br>\n",
    "- 10 CPUs per student<br>\n",
    "- 6 GB RAM per student<br>\n",
    "- Tools: samtools, QUALIMAP, MultiQC\n",
    "</div>\n"
   ]
  },
  {
   "cell_type": "markdown",
   "id": "6305fd85",
   "metadata": {},
   "source": [
    "## Required Files and Data\n",
    "\n",
    "<div class=\"alert alert-warning\">\n",
    "<b>Required Input Files:</b>\n",
    "1. Paired-end RNA-seq data (fastq.gz format)\n",
    "   - Location: `/srv/data/meg-m2-rnaseq/Data/fastq/raw/`\n",
    "   - Format: `*_1.fastq.gz` and `*_2.fastq.gz` for paired-end reads\n",
    "\n",
    "2. Reference Genome Files:\n",
    "   - Mouse genome (GRCm39)\n",
    "   - GTF annotation: `/srv/data/meg-m2-rnaseq/Genomes/Mmu/GRCm39/extracted/genome_annotation-M35.gtf`\n",
    "\n",
    "3. Previously Generated Files:\n",
    "   - BAM files from STAR mapping\n",
    "   - fastp results in `/srv/data/meg-m2-rnaseq/Results/fastp/`\n",
    "</div>\n",
    "\n",
    "<div class=\"alert alert-info\">\n",
    "<b>Output Structure:</b>\n",
    "Results will be organized in tool-specific directories:\n",
    "- `Results/samtools/` - Alignment statistics\n",
    "- `Results/qualimap/` - RNA-seq QC metrics\n",
    "- `Results/multiqc/` - Combined quality reports\n",
    "</div>\n"
   ]
  },
  {
   "cell_type": "markdown",
   "id": "444c54c3",
   "metadata": {},
   "source": [
    "## Reference Genome and Annotation\n",
    "\n",
    "This section covers the downloading and indexing of reference genome files. These steps are typically performed during environment setup.\n",
    "\n",
    "<div class=\"alert alert-info\">\n",
    "<b>Reference Files:</b>\n",
    "- Genome: Mus musculus GRCm39\n",
    "- Source: Ensembl Release 109\n",
    "- Annotation: genome_annotation-M35.gtf\n",
    "</div>\n",
    "\n",
    "<div class=\"alert alert-warning\">\n",
    "<b>Note:</b> The following commands are provided for reference and documentation. They are kept in raw format as they are typically executed during environment setup.\n",
    "</div>\n"
   ]
  },
  {
   "cell_type": "raw",
   "id": "7f5fce43",
   "metadata": {},
   "source": [
    "# Create genome directory\n",
    "mkdir -p reference/mouse/GRCm39\n",
    "\n",
    "# Download mouse reference genome\n",
    "wget -P reference/mouse/GRCm39 https://ftp.ensembl.org/pub/release-109/fasta/mus_musculus/dna/Mus_musculus.GRCm39.dna.primary_assembly.fa.gz\n",
    "\n",
    "# Extract genome\n",
    "gunzip reference/mouse/GRCm39/Mus_musculus.GRCm39.dna.primary_assembly.fa.gz\n",
    "\n",
    "# Index the genome\n",
    "cd reference/mouse/GRCm39\n",
    "samtools faidx Mus_musculus.GRCm39.dna.primary_assembly.fa"
   ]
  },
  {
   "cell_type": "markdown",
   "id": "963e6175",
   "metadata": {},
   "source": [
    "## Quality Assessment of Mapped Reads\n",
    "\n",
    "We'll use multiple tools to assess the quality of our mapped reads:\n",
    "\n",
    "1. **samtools**: Basic alignment statistics\n",
    "   - Read counts\n",
    "   - Mapping quality\n",
    "   - Insert size distribution\n",
    "\n",
    "2. **QUALIMAP**: Detailed RNA-seq metrics\n",
    "   - Gene coverage\n",
    "   - Read distribution\n",
    "   - Transcript coverage\n",
    "\n",
    "3. **MultiQC**: Combined report generation\n",
    "   - Aggregates results from all tools\n",
    "   - Creates interactive visualizations\n",
    "\n",
    "<div class=\"alert alert-info\">\n",
    "<b>Documentation Links:</b>\n",
    "- [Samtools Manual](http://www.htslib.org/doc/samtools.html)\n",
    "- [QUALIMAP Documentation](http://qualimap.conesalab.org/doc_html/index.html)\n",
    "- [MultiQC Documentation](https://multiqc.info/)\n",
    "</div>\n"
   ]
  },
  {
   "cell_type": "markdown",
   "id": "8cba5f1d",
   "metadata": {},
   "source": [
    "### Setup Results Directories\n",
    "\n",
    "First, we'll create the necessary directories for organizing our results.\n"
   ]
  },
  {
   "cell_type": "code",
   "execution_count": null,
   "id": "f9d1ea11",
   "metadata": {},
   "outputs": [],
   "source": [
    "# Create results directories\n",
    "mkdir -p Results/samtools Results/qualimap Results/multiqc"
   ]
  },
  {
   "cell_type": "markdown",
   "id": "9b7cc444",
   "metadata": {},
   "source": [
    "### Process First Two Samples\n",
    "\n",
    "We'll demonstrate the analysis pipeline on the first two samples. The same process will be applied to all samples later.\n",
    "\n",
    "<div class=\"alert alert-info\">\n",
    "<b>Important Parameters:</b>\n",
    "- samtools stats: Generates comprehensive alignment statistics\n",
    "- QUALIMAP rnaseq:\n",
    "  - java-mem-size=6G: Memory allocation\n",
    "  - GTF file: Required for gene-based analysis\n",
    "</div>\n"
   ]
  },
  {
   "cell_type": "code",
   "execution_count": null,
   "id": "c27e6125",
   "metadata": {},
   "outputs": [],
   "source": [
    "# Get first two samples\n",
    "samples=$(ls /srv/data/meg-m2-rnaseq/Data/fastq/raw/*_1.fastq.gz | head -n 2)\n",
    "\n",
    "# Process each sample\n",
    "for sample in $samples; do\n",
    "    # Extract base name\n",
    "    base=$(basename $sample _1.fastq.gz)\n",
    "    echo \"Processing sample: $base\"\n",
    "\n",
    "    # Samtools stats\n",
    "    echo \"Running samtools stats...\"\n",
    "    samtools stats ${base}.bam > Results/samtools/${base}_stats.txt\n",
    "\n",
    "    # QUALIMAP analysis\n",
    "    echo \"Running QUALIMAP...\"\n",
    "    qualimap rnaseq \\\n",
    "        -bam ${base}.bam \\\n",
    "        -gtf /srv/data/meg-m2-rnaseq/Genomes/Mmu/GRCm39/extracted/genome_annotation-M35.gtf \\\n",
    "        --java-mem-size=6G \\\n",
    "        -outdir Results/qualimap/${base}\n",
    "done"
   ]
  },
  {
   "cell_type": "markdown",
   "id": "4cf9ad1a",
   "metadata": {},
   "source": [
    "### Process All Samples\n",
    "\n",
    "The following commands (in raw format) show how to process all samples in the dataset.\n"
   ]
  },
  {
   "cell_type": "raw",
   "id": "1d1bf2c0",
   "metadata": {},
   "source": [
    "# Process all samples\n",
    "for sample in /srv/data/meg-m2-rnaseq/Data/fastq/raw/*_1.fastq.gz; do\n",
    "    base=$(basename $sample _1.fastq.gz)\n",
    "    echo \"Processing sample: $base\"\n",
    "\n",
    "    # Samtools stats\n",
    "    samtools stats ${base}.bam > Results/samtools/${base}_stats.txt\n",
    "\n",
    "    # QUALIMAP analysis\n",
    "    qualimap rnaseq \\\n",
    "        -bam ${base}.bam \\\n",
    "        -gtf /srv/data/meg-m2-rnaseq/Genomes/Mmu/GRCm39/extracted/genome_annotation-M35.gtf \\\n",
    "        --java-mem-size=6G \\\n",
    "        -outdir Results/qualimap/${base}\n",
    "done"
   ]
  },
  {
   "cell_type": "markdown",
   "id": "92d08a78",
   "metadata": {},
   "source": [
    "## MultiQC Report Generation\n",
    "\n",
    "MultiQC combines the quality reports from all samples into a comprehensive report.\n",
    "\n",
    "<div class=\"alert alert-info\">\n",
    "<b>MultiQC Features:</b>\n",
    "- Combines reports from multiple tools\n",
    "- Creates interactive visualizations\n",
    "- Enables easy sample comparison\n",
    "- Generates HTML report\n",
    "\n",
    "<b>Input Sources:</b>\n",
    "- samtools stats results\n",
    "- QUALIMAP RNA-seq reports\n",
    "</div>\n"
   ]
  },
  {
   "cell_type": "code",
   "execution_count": null,
   "id": "e2ccd189",
   "metadata": {},
   "outputs": [],
   "source": [
    "# Generate MultiQC report\n",
    "echo \"Generating MultiQC report...\"\n",
    "multiqc \\\n",
    "    Results/samtools/ \\\n",
    "    Results/qualimap/ \\\n",
    "    -o Results/multiqc/ \\\n",
    "    --title \"Mouse RNA-seq Quality Report\" \\\n",
    "    --comment \"Generated for PS4-2024 course\"\n"
   ]
  }
 ],
 "metadata": {},
 "nbformat": 4,
 "nbformat_minor": 5
}

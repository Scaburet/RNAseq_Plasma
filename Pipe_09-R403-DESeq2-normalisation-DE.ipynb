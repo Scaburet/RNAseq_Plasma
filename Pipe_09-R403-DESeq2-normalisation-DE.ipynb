{
 "cells": [
  {
   "cell_type": "markdown",
   "metadata": {},
   "source": [
    "# Formation RNAseq CEA - juin 2023\n",
    "\n",
    "*Enseignantes : Sandrine Caburet et Claire Vandiedonck*\n",
    "\n",
    "Session IFB : 5 CPU + 21 GB de RAM\n",
    "\n",
    "# Part 9: DESeq2 Normalisation and Differential Expression analysis"
   ]
  },
  {
   "cell_type": "markdown",
   "metadata": {},
   "source": [
    "\n",
    "- 0. 1 - Setting up this R session on IFB core cluster  \n",
    "- 0. 2 - Parameters to be set or modified by the user   \n",
    "- 1 - Loading input data and metadata   \n",
    "- 2 - Normalisation with 'DESeq2   \n",
    "- 3 - Differential expression analysis with `DESeq2`   \n",
    "- 4 - Saving our results for later use : RData file"
   ]
  },
  {
   "cell_type": "markdown",
   "metadata": {
    "tags": []
   },
   "source": [
    "---\n",
    "\n",
    "## 0.1 - Setting up this R session on IFB core cluster\n",
    "\n",
    "<em>loaded JupyterLab</em> : Version 3.2.1"
   ]
  },
  {
   "cell_type": "code",
   "execution_count": null,
   "metadata": {
    "tags": []
   },
   "outputs": [],
   "source": [
    "## Code cell 1 ##\n",
    "\n",
    "session_parameters <- function(){\n",
    "    \n",
    "    jupytersession <- c(system('echo \"=== Cell launched on $(date) ===\"', intern = TRUE),\n",
    "                        system('squeue -hu $USER', intern = TRUE))\n",
    "    \n",
    "    jobid <- system(\"squeue -hu $USER | awk '/jupyter/ {print $1}'\", intern = TRUE)\n",
    "    jupytersession <- c(jupytersession,\n",
    "                        \"=== Current IFB session size: Medium (5CPU, 21 GB) ===\",\n",
    "                        system(paste(\"sacct --format=JobID,AllocCPUS,NODELIST -j\", jobid), intern = TRUE))\n",
    "    print(jupytersession[1:6])\n",
    "    \n",
    "    return(invisible(NULL))\n",
    "}\n",
    "\n",
    "session_parameters()"
   ]
  },
  {
   "cell_type": "markdown",
   "metadata": {},
   "source": [
    "__\n",
    "\n",
    "Next we load into this R session the various tools that we will use.   \n",
    "***DO NOT worry*** if you see a large red output!!   \n",
    "You should see this large red output only once, when the relevant packages are installed in your home directory. Afterwards, they will be detected as present, and this large red output won't show if you run the cell another time."
   ]
  },
  {
   "cell_type": "code",
   "execution_count": null,
   "metadata": {
    "tags": []
   },
   "outputs": [],
   "source": [
    "## Code cell 2 ##\n",
    "\n",
    "if (!require(\"DESeq2\", quietly = TRUE)) {\n",
    "    install.packages(\"DESeq2\")}\n",
    "\n",
    "library(\"matrixStats\")\n",
    "library(\"DESeq2\", quietly = TRUE)"
   ]
  },
  {
   "cell_type": "code",
   "execution_count": null,
   "metadata": {
    "tags": []
   },
   "outputs": [],
   "source": [
    "## Code cell 3 ##   \n",
    "\n",
    "cat(\"Voici mon environnement de travail avec les paquets de R chargés:\\n\")\n",
    "sessionInfo()"
   ]
  },
  {
   "cell_type": "markdown",
   "metadata": {
    "tags": []
   },
   "source": [
    "---\n",
    "\n",
    "## 0.2 - Parameters to be set or modified by the user\n"
   ]
  },
  {
   "cell_type": "markdown",
   "metadata": {},
   "source": [
    "- Using a full path with a `/` at the end, **define the folder** of the project as  `gohome` variable, and the folder where you work as the `myfolder` variable:"
   ]
  },
  {
   "cell_type": "code",
   "execution_count": null,
   "metadata": {},
   "outputs": [],
   "source": [
    "## Code cell 4 ##\n",
    "\n",
    "\n",
    "gohome <- \"/shared/projects/2312_rnaseq_cea/\"\n",
    "gohome\n",
    "\n",
    "# In a Jupyter Hub and a jupyter notebook in R, by default the working directory is where the notebook is opened\n",
    "getwd()\n",
    "myfolder <- getwd()\n",
    "myfolder\n"
   ]
  },
  {
   "cell_type": "markdown",
   "metadata": {},
   "source": [
    "- With a `/` at the end, define the path to the folder where the results of this normalisation by `DESeq2` will be stored:"
   ]
  },
  {
   "cell_type": "code",
   "execution_count": null,
   "metadata": {},
   "outputs": [],
   "source": [
    "## Code cell 5 ##\n",
    "\n",
    "# creation of the directory, recursive = TRUE is equivalent to the mkdir -p in Unix\n",
    "dir.create(paste(myfolder,\"/Results/deseq2/\", sep = \"\"), recursive = TRUE)\n",
    "\n",
    "# storing the path to this output folder in a variable\n",
    "deseq2folder <- paste(myfolder,\"/Results/deseq2/\", sep = \"\")\n",
    "deseq2folder\n",
    "\n",
    "# listing the content of the folder\n",
    "print(system(paste(\"ls -hlt\", deseq2folder), intern = TRUE) )"
   ]
  },
  {
   "cell_type": "markdown",
   "metadata": {},
   "source": [
    "- Last, we specify the size of the graphical outputs that will be used for all the plots in the notebook.    \n",
    "This setting could be modified at will for each plot. "
   ]
  },
  {
   "cell_type": "code",
   "execution_count": null,
   "metadata": {},
   "outputs": [],
   "source": [
    "## Code cell 6 ##\n",
    "\n",
    "options(repr.plot.width=15, repr.plot.height=8)"
   ]
  },
  {
   "cell_type": "markdown",
   "metadata": {},
   "source": [
    "## 1 - Loading input data and metadata"
   ]
  },
  {
   "cell_type": "markdown",
   "metadata": {},
   "source": [
    "We now need to retrieve the counts data and the metadata about samples.   \n",
    "As we stored those in a global Rdata objet at the end of Pipe_08, we can simply reload all our information by openig this Rdata object.  \n",
    "\n",
    "\n",
    "- the read counts produced by featureCounts (as in the Pipe_6 notebook), on all 11 samples   \n",
    "- a metadata file, providing information about the samples, in particular the conditions of the experiment. "
   ]
  },
  {
   "cell_type": "code",
   "execution_count": null,
   "metadata": {},
   "outputs": [],
   "source": [
    "## Code cell 7 ##\n",
    "\n",
    "pca1folder <- paste0(myfolder,\"/Results/pca1/\")\n",
    "pca1folder\n",
    "rdata <- paste0(pca1folder,\"AllMyData.RData\")\n",
    "rdata\n",
    "load(rdata,verbose = T)"
   ]
  },
  {
   "cell_type": "markdown",
   "metadata": {},
   "source": [
    "We can now list all the object we have currently in our session: "
   ]
  },
  {
   "cell_type": "code",
   "execution_count": null,
   "metadata": {},
   "outputs": [],
   "source": [
    "## Code cell 8 ##\n",
    "\n",
    "ls() "
   ]
  },
  {
   "cell_type": "markdown",
   "metadata": {},
   "source": [
    "- `countdata`is a dataframe containing all the read counts produced by `featureCounts` (as in the Pipe_06 notebook), on all 11 samples, including low counts genes.\n",
    "- `countdata2`is the same dataframe without the low counts genes      \n",
    "- `samples`is a dataframe containing the information about the samples, in particular the conditions of the experiment. "
   ]
  },
  {
   "cell_type": "markdown",
   "metadata": {},
   "source": [
    "We don't need anything else from the previous session, so we can remove the other objects from our current R session, in order to save memory."
   ]
  },
  {
   "cell_type": "code",
   "execution_count": null,
   "metadata": {},
   "outputs": [],
   "source": [
    "## Code cell 9 ##\n",
    "\n",
    "rm(logcounts, counts, clusters, keep, pca1folder, PCAdata, tlogcounts)  \n",
    "ls()"
   ]
  },
  {
   "cell_type": "markdown",
   "metadata": {},
   "source": [
    "We verify that the counts dataframes look like what we expect:"
   ]
  },
  {
   "cell_type": "code",
   "execution_count": null,
   "metadata": {},
   "outputs": [],
   "source": [
    "## Code cell 10 ##\n",
    "\n",
    "head(countdata)\n",
    "head(countdata2)"
   ]
  },
  {
   "cell_type": "code",
   "execution_count": null,
   "metadata": {},
   "outputs": [],
   "source": [
    "## Code cell 11 ##\n",
    "\n",
    "head(samples, n=13)"
   ]
  },
  {
   "cell_type": "markdown",
   "metadata": {},
   "source": [
    "To ensure the metadata `samples` and `countdata` dataframes have the same samples names, we run the code below.    \n",
    "This will return TRUE if the names in both files are the same. In all there are 11 samples in both files."
   ]
  },
  {
   "cell_type": "code",
   "execution_count": null,
   "metadata": {},
   "outputs": [],
   "source": [
    "## Code cell 12 ##\n",
    "\n",
    "table(colnames(countdata)==samples$SampleID)"
   ]
  },
  {
   "cell_type": "markdown",
   "metadata": {},
   "source": [
    "**Great!!**. All is set now to perform normalisation and differential expression analysis with `DESeq2`."
   ]
  },
  {
   "cell_type": "markdown",
   "metadata": {
    "tags": []
   },
   "source": [
    "---\n",
    "## 2 - Normalisation with 'DESeq2'"
   ]
  },
  {
   "cell_type": "markdown",
   "metadata": {},
   "source": [
    "All the steps required to perform normalisation of read counts and differential expression analysis has been placed into a single function, DESeq. More details on the respective steps can be found in the DESeq2 paper. You could also type and run ?DESeq to read more on the steps."
   ]
  },
  {
   "cell_type": "markdown",
   "metadata": {},
   "source": [
    "### 2.1 - Create the DESeqDataSet object from the countdata and metadata\n",
    "\n",
    "DESeq2 uses an object called DESeqDataSet to store read counts and other intermediate calculations needed for normalisation and differential expression analysis. This is represented in the code below as dds (d for DESeq, d for Data and s for set). The basic idea behind this is to coerce the countdata and metadata into a single format that DESeq2 can accept and work with. We do this with the DESeqDataSetFromMatrix function."
   ]
  },
  {
   "cell_type": "code",
   "execution_count": null,
   "metadata": {
    "tags": []
   },
   "outputs": [],
   "source": [
    "## Code cell 13 ##\n",
    "\n",
    "nrow(countdata)\n",
    "nrow(countdata2)\n",
    "\n",
    "# 57010 in countdata\n",
    "# 22927 in countdata2"
   ]
  },
  {
   "cell_type": "markdown",
   "metadata": {},
   "source": [
    "There are 57010 genes in our samples, because the genes with a null or a low expression were not filtered out.   \n",
    "`DESeq2` takes care of these genes along the way, so we can keep those.   \n",
    "Nevertheless, if you work in a low-memory setting, it is preferable to reduce the size of the matrix to ease its handling, by removing the low-expression genes the same way we did in Pipe_08, of by using as input the `countData2`dataframe that is already computed.   \n",
    "Here, we will go on with the `countdata2`dataframe, without low counts genes."
   ]
  },
  {
   "cell_type": "markdown",
   "metadata": {},
   "source": [
    "**Factorisation**  \n",
    "\n",
    "We have to tell DESeq2 which information is used as a *factor*, meaning the one that is going to be used as a way to separate groups for future comparison.   \n",
    "This is done by using the `factor()` function, and providing the name of the column containing this information, and the various values that this info can take.   \n",
    "Feeding this factorisation into our samples dataframe changes the way this column will be read: as a factor istead of mere characters. \n",
    "   \n",
    "   The `relevel()` function can also be used to clearly specify which level is used as a reference. Most of the times, it will be the WT condition.  \n"
   ]
  },
  {
   "cell_type": "code",
   "execution_count": null,
   "metadata": {},
   "outputs": [],
   "source": [
    "## Code cell 14 ##\n",
    "\n",
    "samples$Condition = factor(samples$Condition, levels = c(\"WT\", \"dHet\", \"dHetRag\" ))"
   ]
  },
  {
   "cell_type": "code",
   "execution_count": null,
   "metadata": {},
   "outputs": [],
   "source": [
    "## Code cell 15 ##\n",
    "\n",
    "samples$Condition = relevel(samples$Condition, ref = \"WT\")"
   ]
  },
  {
   "cell_type": "markdown",
   "metadata": {},
   "source": [
    "We can verify that this factorisation worked, by showing how many samples were placed in each group:"
   ]
  },
  {
   "cell_type": "code",
   "execution_count": null,
   "metadata": {},
   "outputs": [],
   "source": [
    "## Code cell 16 ##\n",
    "\n",
    "table(samples$Condition)"
   ]
  },
  {
   "cell_type": "markdown",
   "metadata": {},
   "source": [
    "and by checking the levels included in that factor:"
   ]
  },
  {
   "cell_type": "code",
   "execution_count": null,
   "metadata": {},
   "outputs": [],
   "source": [
    "## Code cell 17 ##\n",
    "\n",
    "levels(samples$Condition)"
   ]
  },
  {
   "cell_type": "markdown",
   "metadata": {},
   "source": [
    "If we look at our `samples`dataframe, we can now see that our `Condition`column is marked as a factor: **fct**"
   ]
  },
  {
   "cell_type": "code",
   "execution_count": null,
   "metadata": {},
   "outputs": [],
   "source": [
    "## Code cell 18 ##\n",
    "\n",
    "head(samples, n = 2)"
   ]
  },
  {
   "cell_type": "markdown",
   "metadata": {},
   "source": [
    "We can now create the `dds` object from our two dataframes:"
   ]
  },
  {
   "cell_type": "code",
   "execution_count": null,
   "metadata": {},
   "outputs": [],
   "source": [
    "## Code cell 19 ##\n",
    "\n",
    "# round() is used as a security, because DESeq2 works only in integers. Read counts should be integers.\n",
    "\n",
    "dds <- DESeq2::DESeqDataSetFromMatrix(countData = round(countdata2),\n",
    "                              colData = samples,\n",
    "                              design = ~Condition)"
   ]
  },
  {
   "cell_type": "markdown",
   "metadata": {},
   "source": [
    "We check the number of genes in the dataset"
   ]
  },
  {
   "cell_type": "code",
   "execution_count": null,
   "metadata": {
    "tags": []
   },
   "outputs": [],
   "source": [
    "## Code cell 20 ##\n",
    "\n",
    "nrow(dds)\n",
    "\n",
    "# 57010 in countdata\n",
    "# 22927 in countdata2"
   ]
  },
  {
   "cell_type": "markdown",
   "metadata": {},
   "source": [
    "## 2.2 - Run the DESeq function to analyse the dds object\n",
    "\n",
    "Next, the DEseq function performs the following steps on the dds object we created:\n",
    "\n",
    "    Estimation of size factors\n",
    "    Estimation of dispersion\n",
    "    Negative Binomial GLM fitting and Wald statistic \n",
    "    \n",
    "For detailed explanation, please refer to the DESeq2 paper."
   ]
  },
  {
   "cell_type": "code",
   "execution_count": null,
   "metadata": {},
   "outputs": [],
   "source": [
    "## Code cell 21 ##\n",
    "\n",
    "dds2 <- DESeq2::DESeq(dds)"
   ]
  },
  {
   "cell_type": "markdown",
   "metadata": {},
   "source": [
    "Let's inspect the header of the newly created object"
   ]
  },
  {
   "cell_type": "code",
   "execution_count": null,
   "metadata": {},
   "outputs": [],
   "source": [
    "## Code cell 22 ##\n",
    "\n",
    "head(dds2)"
   ]
  },
  {
   "cell_type": "markdown",
   "metadata": {},
   "source": [
    "The portion `assay` within `dds` contains the expression data, still not normalized :"
   ]
  },
  {
   "cell_type": "code",
   "execution_count": null,
   "metadata": {},
   "outputs": [],
   "source": [
    "## Code cell 23 ##\n",
    "\n",
    "head(assay(dds2))"
   ]
  },
  {
   "cell_type": "code",
   "execution_count": null,
   "metadata": {},
   "outputs": [],
   "source": [
    "## Code cell 24 ##\n",
    "\n",
    "summary(assay(dds2))"
   ]
  },
  {
   "cell_type": "markdown",
   "metadata": {},
   "source": [
    "We can verify this by plotting the distribution of read counts (with a log2 transformation) using a boxplot, to verify that the read counts have indeed not yet been normalized between samples."
   ]
  },
  {
   "cell_type": "code",
   "execution_count": null,
   "metadata": {
    "tags": []
   },
   "outputs": [],
   "source": [
    "## Code cell 25 ##\n",
    "\n",
    "# Get log2 counts\n",
    "logcountsdds2 <- log2(assay(dds2) + 1)\n",
    "# summary(logcounts[,1]) # summary for first column\n",
    " summary(logcountsdds2) # summary for each column"
   ]
  },
  {
   "cell_type": "code",
   "execution_count": null,
   "metadata": {
    "tags": []
   },
   "outputs": [],
   "source": [
    "## Code cell 26 ##\n",
    "\n",
    "# make a colour vector\n",
    "conditionColor <- match(samples$Condition, c(\"dHet\", \"dHetRag\", \"WT\")) + 1\n",
    "# '+1' to avoid color '1' i.e. black\n",
    "\n",
    "# Check distributions of samples using boxplots\n",
    "boxplot(logcountsdds2,\n",
    "        xlab=\"\",\n",
    "        ylab=\"Log2(dds2 Counts)\",\n",
    "        las=2,\n",
    "        col=conditionColor,\n",
    "        main=\"Log2(dds2 Counts)\")\n",
    "# Let's add a blue horizontal line that corresponds to the median\n",
    "abline(h=median.default(as.matrix(logcountsdds2)), col=\"blue\")"
   ]
  },
  {
   "cell_type": "markdown",
   "metadata": {},
   "source": [
    "\n",
    "As we can see, the log2 transformation gives a data distribution closer to the normal distribution, but does not perform well for normalizing data between samples.    \n",
    "\n",
    "The main motive behind normalization is to change numeric values in a dataset to a common scale without distorting the differences between samples. This reduces the sparsity of the data as they are brought to a common close scale. There are several normalization methods that can be applied to our data.\n",
    "\n",
    "DESeq2 provides 2 normalisation methods: `rlog`and `vst`.  \n",
    "We will test the effect of both. "
   ]
  },
  {
   "cell_type": "markdown",
   "metadata": {},
   "source": [
    "## 2.3 - Data normalisation with `rlog`: Regularized-logarithm transformation"
   ]
  },
  {
   "cell_type": "markdown",
   "metadata": {},
   "source": [
    "This function transforms the count data to the log2 scale in a way which minimizes differences between samples for rows with small counts, and which normalizes with respect to library size."
   ]
  },
  {
   "cell_type": "markdown",
   "metadata": {},
   "source": [
    "> *In the function calls, we specified `blind = FALSE`, which means that differences between cell lines and treatment (the variables in the design) will not contribute to the expected variance-mean trend of the experiment. The experimental design is not used directly in the transformation, only in estimating the global amount of variability in the counts. For a fully **unsupervised** transformation, one can set `blind = TRUE` (which is the default).*   \n",
    "[Love MI *et al.*, 2019](https://www.bioconductor.org/packages/release/workflows/vignettes/rnaseqGene/inst/doc/rnaseqGene.html#the-variance-stabilizing-transformation-and-the-rlog)"
   ]
  },
  {
   "cell_type": "markdown",
   "metadata": {},
   "source": [
    "`blind=FALSE` greatly reduces the run time."
   ]
  },
  {
   "cell_type": "code",
   "execution_count": null,
   "metadata": {},
   "outputs": [],
   "source": [
    "## Code cell 27 ##\n",
    "\n",
    "rlog.dds2 <- rlog(dds2, blind = FALSE)\n",
    "rlog.dds2"
   ]
  },
  {
   "cell_type": "markdown",
   "metadata": {},
   "source": [
    "Let's verify the effect by plotting the counts from `rlog.dds2`"
   ]
  },
  {
   "cell_type": "code",
   "execution_count": null,
   "metadata": {
    "tags": []
   },
   "outputs": [],
   "source": [
    "## Code cell 28 ##\n",
    "\n",
    "# Get log2 counts\n",
    "counts.rlog.dds2 <- assay(rlog.dds2)\n",
    "\n",
    "summary(counts.rlog.dds2) # summary for each column"
   ]
  },
  {
   "cell_type": "code",
   "execution_count": null,
   "metadata": {
    "tags": []
   },
   "outputs": [],
   "source": [
    "## Code cell 29 ##\n",
    "\n",
    "# make a colour vector\n",
    "conditionCol <- match(samples$Condition, c(\"dHet\", \"dHetRag\", \"WT\")) + 1\n",
    "# '+1' to avoid color '1' i.e. black\n",
    "\n",
    "# Check distributions of samples using boxplots\n",
    "boxplot(counts.rlog.dds2,\n",
    "        xlab=\"\",\n",
    "        ylab=\"rlog.dds2 Counts\",\n",
    "        las=2,\n",
    "        col=conditionCol,\n",
    "        main=\"rlog.dds2 Counts\")\n",
    "# Let's add a blue horizontal line that corresponds to the median\n",
    "abline(h=median.default(counts.rlog.dds2), col=\"blue\")"
   ]
  },
  {
   "cell_type": "markdown",
   "metadata": {},
   "source": [
    "We can verify that variance is not correlated any more to the average level of expression by plotting standard deviation vs mean expression:"
   ]
  },
  {
   "cell_type": "code",
   "execution_count": null,
   "metadata": {
    "tags": []
   },
   "outputs": [],
   "source": [
    "## Code cell 30 ##\n",
    "\n",
    "# Raw counts mean expression Vs standard Deviation (SD)\n",
    "plot(rowMeans(assay(rlog.dds2)), matrixStats::rowSds(as.matrix(assay(rlog.dds2)), na.rm=TRUE), \n",
    "     main='rlog normalized read counts: sd vs mean', \n",
    "     xlim=c(-1,17),\n",
    "     ylim=c(-1,5))"
   ]
  },
  {
   "cell_type": "markdown",
   "metadata": {},
   "source": [
    "## 2.4 - Normalization with `vst`: variance stabilizing transformation\n",
    "\n",
    "Variance stabilizing transformation (VST) aims at generating a matrix of values for which variance is constant across the range of mean values, especially for low mean.\n",
    "\n",
    "The vst function computes the fitted dispersion-mean relation, derives the transformation to apply and accounts for library size."
   ]
  },
  {
   "cell_type": "code",
   "execution_count": null,
   "metadata": {},
   "outputs": [],
   "source": [
    "## Code cell 31 ##\n",
    "\n",
    "vst.dds2 = vst(dds2, blind=FALSE)\n",
    "vst.dds2"
   ]
  },
  {
   "cell_type": "markdown",
   "metadata": {},
   "source": [
    "Again, we check the effect by plotting the log2 counts from `vst.dds2`"
   ]
  },
  {
   "cell_type": "code",
   "execution_count": null,
   "metadata": {
    "tags": []
   },
   "outputs": [],
   "source": [
    "## Code cell 32 ##\n",
    "\n",
    "# Get log2 counts\n",
    "counts.vst.dds2 <- assay(vst.dds2)\n",
    "\n",
    "summary(counts.vst.dds2) # summary for each column"
   ]
  },
  {
   "cell_type": "code",
   "execution_count": null,
   "metadata": {
    "tags": []
   },
   "outputs": [],
   "source": [
    "## Code cell 33 ##\n",
    "\n",
    "# make a colour vector\n",
    "conditionCol <- match(samples$Condition, c(\"dHet\", \"dHetRag\", \"WT\")) + 1\n",
    "# '+1' to avoid color '1' i.e. black\n",
    "\n",
    "# Check distributions of samples using boxplots\n",
    "boxplot(counts.vst.dds2,\n",
    "        xlab=\"\",\n",
    "        ylab=\"vst.dds2 Counts\",\n",
    "        las=2,\n",
    "        col=conditionCol,\n",
    "        main=\"vst.dds2 Counts\")\n",
    "# Let's add a blue horizontal line that corresponds to the median\n",
    "abline(h=median.default(counts.vst.dds2), col=\"blue\")"
   ]
  },
  {
   "cell_type": "markdown",
   "metadata": {},
   "source": [
    "We also verify the decoupling of variance and mean level of expression:"
   ]
  },
  {
   "cell_type": "code",
   "execution_count": null,
   "metadata": {
    "tags": []
   },
   "outputs": [],
   "source": [
    "## Code cell 34 ##\n",
    "\n",
    "# Raw counts mean expression Vs standard Deviation (SD)\n",
    "plot(rowMeans(assay(vst.dds2)), matrixStats::rowSds(as.matrix(assay(vst.dds2)), na.rm=TRUE), \n",
    "     main='vst normalized read counts: sd vs mean', \n",
    "     xlim=c(5,17),\n",
    "     ylim=c(-1,5))"
   ]
  },
  {
   "cell_type": "markdown",
   "metadata": {
    "tags": []
   },
   "source": [
    "## 2.5- Choosing best transformation for our data"
   ]
  },
  {
   "cell_type": "markdown",
   "metadata": {},
   "source": [
    "You can see that both methods worked on our data, even if the output are different.   \n",
    "    \n",
    "The indications to guide the choice between the two methods are:"
   ]
  },
  {
   "cell_type": "markdown",
   "metadata": {},
   "source": [
    "> *For genes with high counts, both the VST and the rlog will give similar result to the ordinary log2 transformation of normalized counts. For genes with lower counts, however, the values are shrunken towards a middle value. The VST or rlog-transformed data then become approximately homoskedastic (more flat trend in the meanSdPlot), and can be used directly for computing distances between samples, making PCA plots, or as input to downstream methods which perform best with homoskedastic data.  \n",
    "> **Which transformation to choose?** The VST is much faster to compute and is less sensitive to high count outliers than the rlog. The rlog tends to work well on small datasets (n < 30), potentially outperforming the VST when there is a wide range of sequencing depth across samples (an order of magnitude difference). We therefore recommend the VST for medium-to-large datasets (n > 30). You can perform both transformations and compare the meanSdPlot or PCA plots generated, as described below.*  \n",
    "[Love MI *et al.*, 2019](https://www.bioconductor.org/packages/release/workflows/vignettes/rnaseqGene/inst/doc/rnaseqGene.html#the-variance-stabilizing-transformation-and-the-rlog)"
   ]
  },
  {
   "cell_type": "markdown",
   "metadata": {},
   "source": [
    "\n",
    "Both tranformation methods performed well on our dataset, but we can notice that, in the rlog normalisation, the distribution appear more centered on the median for each sample, and the variance seems less related to the mean level of expression, especially for low values. Furthermore, there are still some outliers for the vst nomalisation.  \n",
    "\n",
    "Thus, we will keep the **rlog** transformation to go on with the the second exploratory analysis in the next notebook. "
   ]
  },
  {
   "cell_type": "markdown",
   "metadata": {
    "tags": []
   },
   "source": [
    "---\n",
    "## 3 - Differential expression analysis with `DESeq2`"
   ]
  },
  {
   "cell_type": "markdown",
   "metadata": {},
   "source": [
    "### 3.1 - Building the results table\n",
    "\n",
    "The `results` table is a dataframe that contains our differentially expressed genes, their p-values, whether the genes are upregulated or downregulated, the number of outliers, etc.  \n",
    "`summary()` gives us the genes that are up and down regulated in our condition under study, as well as low count genes and outliers. This generates summary tarries for the data. You can read about more about the results function by looking up ?results"
   ]
  },
  {
   "cell_type": "markdown",
   "metadata": {},
   "source": [
    "We begin by defining the contrast, that is the comparison that we want to perform.    \n",
    "Here we choose to compare the ALL cells to the WT ones: "
   ]
  },
  {
   "cell_type": "code",
   "execution_count": null,
   "metadata": {},
   "outputs": [],
   "source": [
    "## Code cell 35 ##\n",
    "\n",
    "contrastALL=c(\"Condition\", \"dHet\",\"WT\")"
   ]
  },
  {
   "cell_type": "markdown",
   "metadata": {},
   "source": [
    "Now we can run DESeq2 for this comparison. It will not work on the normalised rlog.dds2, but on the not-yet normalised dds2 : indeed the normalisation step has to take into account the inter-group variability, and the intra-group variability to be correct, meaning that... the groups have to be defined first!   \n",
    "Now that DESeq2 knows which group we want to compare, thanks to the `contrast` defined above, it will run the normalisation on the fly, and identify the genes that are significantly differentially expressed (DE genes) according to that specific normalisation.  "
   ]
  },
  {
   "cell_type": "code",
   "execution_count": null,
   "metadata": {},
   "outputs": [],
   "source": [
    "## Code cell 36 ##\n",
    "\n",
    "res_table <- results(dds2, contrast = contrastALL)\n",
    "summary(res_table)"
   ]
  },
  {
   "cell_type": "markdown",
   "metadata": {},
   "source": [
    "Here, we found very few outliers, and we have 9.7% of low counts genes.   \n",
    "The threshold used to considered a gene as significantly diffrentially expressed is a adjusted p-value of 0.1. Adjusted p-value means that a correction have been performed on the raw p-value, to take into consideration that the statistical test have been reiterated many times, as many as the number of genes. On such a high number of tests, some will give a \"significant result\" only by chance.   \n",
    "The most-commonly used p-value correction is the **Benjamini-Hochberg method**, it is the one used by default by `DESeq2`. You could specify another one in the argument of the function.  \n",
    "\n",
    "We obtain 3309 significantly up-regulated genes + 3542 significantly down-regulated genes. LFC stands for Log2 Fold Change, that is the ratio of the expression of a given gene in the test conditon on its expression in the Reference condition, in log2 scale. Therefore, un log2 FC of 1 means that the gene is 2-times more expressed in the test samples versus the reference samples."
   ]
  },
  {
   "cell_type": "markdown",
   "metadata": {},
   "source": [
    "### 3.2 - Working with a different threshold: alpha 0.05\n",
    "\n",
    "By default, the result function uses an adjusted p-value cutoff of 0.1. If any other p value is prefered, `alpha` should be set to that value, as shown below where we set `alpha=0.05`."
   ]
  },
  {
   "cell_type": "code",
   "execution_count": null,
   "metadata": {},
   "outputs": [],
   "source": [
    "## Code cell 37 ##\n",
    "\n",
    "results2 <- results(dds2, alpha=0.05)"
   ]
  },
  {
   "cell_type": "markdown",
   "metadata": {},
   "source": [
    "We can now count the number of differentially expressed genes with adjusted p-values were less than 0.05. na.rm=TRUE removes any row with missing information."
   ]
  },
  {
   "cell_type": "code",
   "execution_count": null,
   "metadata": {},
   "outputs": [],
   "source": [
    "## Code cell 38 ##\n",
    "\n",
    "sum(results2$padj < 0.05, na.rm=TRUE)\n",
    "summary(results2)\n",
    "\n",
    "# 2759 "
   ]
  },
  {
   "cell_type": "markdown",
   "metadata": {},
   "source": [
    "So out of the 22927 filtered genes, only 2759 have adjusted p-values less than 0.05, with 909 significantly up-regulated genes + 1850 significantly down-regulated genes. Let’s go ahead and select them."
   ]
  },
  {
   "cell_type": "code",
   "execution_count": null,
   "metadata": {},
   "outputs": [],
   "source": [
    "## Code cell 39 ##\n",
    "\n",
    "res2_sig_genes <- subset(results2, padj < 0.05)\n",
    "dim(res2_sig_genes)\n",
    "\n",
    "## 2759     6"
   ]
  },
  {
   "cell_type": "markdown",
   "metadata": {},
   "source": [
    "We then order the selected genes by the smallest p value:"
   ]
  },
  {
   "cell_type": "code",
   "execution_count": null,
   "metadata": {},
   "outputs": [],
   "source": [
    "## Code cell 40 ##\n",
    "\n",
    "res2_ranked_p <- res2_sig_genes[order(res2_sig_genes$pvalue),]\n",
    "dim(res2_ranked_p)\n",
    "\n",
    "## [1] 2759     6"
   ]
  },
  {
   "cell_type": "markdown",
   "metadata": {},
   "source": [
    "Finally, we write the differentially expressed gene list to a tabulated txt file, in the deseq2folder that we decided at first:"
   ]
  },
  {
   "cell_type": "code",
   "execution_count": null,
   "metadata": {},
   "outputs": [],
   "source": [
    "## Code cell 41 ##\n",
    "\n",
    "write.table(as.data.frame(res2_ranked_p), file=paste0(deseq2folder,\"DESeq2_significant_genes-0_05.tsv\"), sep=\"\\t\", quote=F, col.names=T)"
   ]
  },
  {
   "cell_type": "markdown",
   "metadata": {},
   "source": [
    "## 4 - Saving our results for later use: RData file\n",
    "\n",
    "We can save all the R objects created in this session in a single R object.   \n",
    "This will help us to reload our results without having to run the same commands.   "
   ]
  },
  {
   "cell_type": "code",
   "execution_count": null,
   "metadata": {},
   "outputs": [],
   "source": [
    "## Code cell 42 ##\n",
    "\n",
    "print(ls())"
   ]
  },
  {
   "cell_type": "markdown",
   "metadata": {},
   "source": [
    "We keep only the relevant objects:"
   ]
  },
  {
   "cell_type": "code",
   "execution_count": null,
   "metadata": {},
   "outputs": [],
   "source": [
    "## Code cell 43 ##\n",
    "\n",
    "rm(conditionCol, countdata, dds, res_table, results2, res2_sig_genes, vst.dds2)"
   ]
  },
  {
   "cell_type": "markdown",
   "metadata": {},
   "source": [
    "and we save all our info in a single RData object in our output folder:"
   ]
  },
  {
   "cell_type": "code",
   "execution_count": null,
   "metadata": {},
   "outputs": [],
   "source": [
    "## Code cell 44 ##\n",
    "\n",
    "ls()\n",
    "save.image(file=paste0(deseq2folder,\"deseq2.RData\"))"
   ]
  },
  {
   "cell_type": "markdown",
   "metadata": {},
   "source": [
    "---\n",
    "___\n",
    "\n",
    "Now we go on with the visualization of normalized read counts in a full exploratory analysis.  \n",
    "  \n",
    "**=> Step 10: Exploratory analysis of normalized data** "
   ]
  },
  {
   "cell_type": "markdown",
   "metadata": {
    "tags": []
   },
   "source": [
    "The jupyter notebook used for the next session will be *Pipe_10-R403-Normcounts-exploratory-analysis-II.ipynb*    \n",
    "Let's retrieve it in our directory, in order to have a private copy to work on:   "
   ]
  },
  {
   "cell_type": "code",
   "execution_count": null,
   "metadata": {
    "tags": []
   },
   "outputs": [],
   "source": [
    "## Code cell 45 ##   \n",
    "\n",
    "myfolder\n",
    "\n",
    "file.copy(\"/shared/projects/2312_rnaseq_cea/pipeline/Pipe_10-R403-Normcounts-exploratory-analysis-II.ipynb\", myfolder)\n"
   ]
  },
  {
   "cell_type": "markdown",
   "metadata": {},
   "source": [
    "\n",
    "\n",
    "**Save executed notebook**\n",
    "\n",
    "To end the session, save your executed notebook in your `run_notebooks' folder. **Adjust the name with yours** and reformat as code cell to run it."
   ]
  },
  {
   "cell_type": "code",
   "execution_count": null,
   "metadata": {
    "tags": []
   },
   "outputs": [],
   "source": [
    "## Code cell 46 ##   \n",
    "\n",
    "# creation of the directory, recursive = TRUE is equivalent to the mkdir -p in Unix\n",
    "dir.create(paste0(myfolder,\"/run_notebooks\"), recursive = TRUE)\n",
    "\n",
    "runfolder <- paste0(myfolder,\"/run_notebooks\")\n",
    "       \n",
    "file.copy(paste0(myfolder, \"/Pipe_09-R403-DESeq2-normalisation-DE.ipynb\"), runfolder)\n"
   ]
  },
  {
   "cell_type": "markdown",
   "metadata": {
    "tags": []
   },
   "source": [
    "<div class=\"alert alert-block alert-success\"><b>Success:</b> Well done! You now know how to perform a normalisation and a differential expression analysis using DESeq2.<br>\n",
    "Don't forget to save you notebook and export a copy as an <b>html</b> file as well <br>\n",
    "- Open \"File\" in the Menu<br>\n",
    "- Select \"Export Notebook As\"<br>\n",
    "- Export notebook as HTML<br>\n",
    "- You can then open it in your browser even without being connected to the server! \n",
    "</div>"
   ]
  },
  {
   "cell_type": "markdown",
   "metadata": {},
   "source": [
    "---\n",
    "---"
   ]
  },
  {
   "cell_type": "markdown",
   "metadata": {
    "tags": []
   },
   "source": [
    "## Useful commands\n",
    "<div class=\"alert alert-block alert-info\"> \n",
    "    \n",
    "- <kbd>CTRL</kbd>+<kbd>S</kbd> : save notebook<br>    \n",
    "- <kbd>CTRL</kbd>+<kbd>ENTER</kbd> : Run Cell<br>  \n",
    "- <kbd>SHIFT</kbd>+<kbd>ENTER</kbd> : Run Cell and Select Next<br>   \n",
    "- <kbd>ALT</kbd>+<kbd>ENTER</kbd> : Run Cell and Insert Below<br>   \n",
    "- <kbd>ESC</kbd>+<kbd>y</kbd> : Change to *Code* Cell Type<br>  \n",
    "- <kbd>ESC</kbd>+<kbd>m</kbd> : Change to *Markdown* Cell Type<br> \n",
    "- <kbd>ESC</kbd>+<kbd>r</kbd> : Change to *Raw* Cell Type<br>    \n",
    "- <kbd>ESC</kbd>+<kbd>a</kbd> : Create Cell Above<br> \n",
    "- <kbd>ESC</kbd>+<kbd>b</kbd> : Create Cell Below<br> \n",
    "\n",
    "<em>  \n",
    "To make nice html reports with markdown: <a href=\"https://dillinger.io/\" title=\"dillinger.io\">html visualization tool 1</a> or <a href=\"https://stackedit.io/app#\" title=\"stackedit.io\">html visualization tool 2</a>, <a href=\"https://www.tablesgenerator.com/markdown_tables\" title=\"tablesgenerator.com\">to draw nice tables</a>, and the <a href=\"https://medium.com/analytics-vidhya/the-ultimate-markdown-guide-for-jupyter-notebook-d5e5abf728fd\" title=\"Ultimate guide\">Ultimate guide</a>. <br>\n",
    "Further reading on JupyterLab notebooks: <a href=\"https://jupyterlab.readthedocs.io/en/latest/user/notebook.html\" title=\"Jupyter Lab\">Jupyter Lab documentation</a>.<br>   \n",
    "</em>    \n",
    " \n",
    "</div>"
   ]
  },
  {
   "cell_type": "markdown",
   "metadata": {},
   "source": [
    "Bénédicte Noblet - 05-07 2021   \n",
    "Sandrine Caburet et Claire Vandiedonck - 02-06 2023   \n",
    "with adaptations from https://bioinformatics-core-shared-training.github.io/RNAseq_November_2020_remote/html/02_Preprocessing_Data.html   \n",
    "and https://rpubs.com/adoughan/778146  \n",
    "Maj 01/06/2023 par @SCaburet   "
   ]
  }
 ],
 "metadata": {
  "kernelspec": {
   "display_name": "R 4.0.3",
   "language": "R",
   "name": "r-4.0.3"
  },
  "language_info": {
   "codemirror_mode": "r",
   "file_extension": ".r",
   "mimetype": "text/x-r-source",
   "name": "R",
   "pygments_lexer": "r",
   "version": "4.0.3"
  },
  "toc-showcode": false
 },
 "nbformat": 4,
 "nbformat_minor": 4
}

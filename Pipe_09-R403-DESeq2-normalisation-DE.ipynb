{
 "cells": [
  {
   "cell_type": "markdown",
   "metadata": {},
   "source": [
    "# Formation RNAseq CEA - juin 2023\n",
    "\n",
    "*Enseignantes : Sandrine Caburet et Claire Vandiedonck*\n",
    "\n",
    "Session IFB : 5 CPU + 21 GB de RAM\n",
    "\n",
    "# Part 9: Normalisation and Differential Expression analysis with DESeq2 "
   ]
  },
  {
   "cell_type": "markdown",
   "metadata": {},
   "source": [
    "- 0. 1 - Setting up this R session on IFB core cluster  \n",
    "- 0. 2 - Parameters to be set or modified by the user   \n",
    "- 1 - Loading input data: countdata, metadata and gene info\n",
    "- 2 - Modeling count distribution for each gene with `DESeq()`\n",
    "- 3 - Normalisation of count distribution with `rlog` and `vst`\n",
    "- 4 - Differential expression analysis with `DESeq2`   \n",
    "- 5 - Saving our results for later use : RData file"
   ]
  },
  {
   "cell_type": "markdown",
   "metadata": {
    "tags": []
   },
   "source": [
    "---\n",
    "---\n",
    "## 0 - Getting started\n",
    "---\n",
    "\n",
    "### 0.1 - Setting up this R session on IFB core cluster\n",
    "\n",
    "<em>loaded JupyterLab</em> : Version 3.2.1"
   ]
  },
  {
   "cell_type": "code",
   "execution_count": null,
   "metadata": {
    "tags": []
   },
   "outputs": [],
   "source": [
    "## Code cell 1 ##\n",
    "\n",
    "session_parameters <- function(){\n",
    "    \n",
    "    jupytersession <- c(system('echo \"=== Cell launched on $(date) ===\"', intern = TRUE),\n",
    "                        system('squeue -hu $USER', intern = TRUE))\n",
    "    \n",
    "    jobid <- system(\"squeue -hu $USER | awk '/jupyter/ {print $1}'\", intern = TRUE)\n",
    "    jupytersession <- c(jupytersession,\n",
    "                        \"=== Current IFB session size: Medium (5CPU, 21 GB) ===\",\n",
    "                        system(paste(\"sacct --format=JobID,AllocCPUS,NODELIST -j\", jobid), intern = TRUE))\n",
    "    print(jupytersession[1:6])\n",
    "    \n",
    "    return(invisible(NULL))\n",
    "}\n",
    "\n",
    "session_parameters()"
   ]
  },
  {
   "cell_type": "markdown",
   "metadata": {},
   "source": [
    "__\n",
    "\n",
    "Next we load into this R session the various tools that we will use.   \n",
    "***DO NOT worry*** if you see a large red output!! It contains only a warning message, including for functions from different packages sharing the same names."
   ]
  },
  {
   "cell_type": "code",
   "execution_count": null,
   "metadata": {
    "tags": []
   },
   "outputs": [],
   "source": [
    "## Code cell 2 ##\n",
    "\n",
    "# list the required libraries from the CRAN repository\n",
    "requiredLib <- c(\n",
    "     \"tidyverse\",\n",
    "    \"magrittr\",\n",
    "    \"matrixStats\",\n",
    "    \"BiocManager\",\n",
    "    \"ggplot2\"\n",
    ")\n",
    "\n",
    "# list the required libraries from the Bioconductor project\n",
    "requiredBiocLib <- c(\"DESeq2\", \"vsn\")\n",
    "\n",
    "# install required libraries if not yet installed\n",
    "for (lib in requiredLib) {\n",
    "  if (!require(lib, character.only = TRUE, quiet = TRUE)) {\n",
    "    install.packages(lib, quiet = TRUE)\n",
    "  }\n",
    "}\n",
    "\n",
    "for( lib in requiredBiocLib) {\n",
    "  if (!require(lib, character.only = TRUE, quiet = TRUE)) {\n",
    "  BiocManager::install(lib, quiet = TRUE)\n",
    "  }\n",
    "}\n",
    "\n",
    "# load libraries\n",
    "message(\"Loading required libraries\")\n",
    "for (lib in requiredLib) {\n",
    "  library(lib, character.only = TRUE)}\n",
    "for (lib in requiredBiocLib) {\n",
    "  library(lib, character.only = TRUE)}\n",
    "\n",
    "# remove variables from the R session if they are no longer necessary \n",
    "rm(lib, requiredLib, requiredBiocLib)"
   ]
  },
  {
   "cell_type": "code",
   "execution_count": null,
   "metadata": {
    "tags": []
   },
   "outputs": [],
   "source": [
    "## Code cell 3 ##   \n",
    "\n",
    "cat(\"Here is my R session with the loaded packages:\\n\")\n",
    "sessionInfo()"
   ]
  },
  {
   "cell_type": "markdown",
   "metadata": {
    "tags": []
   },
   "source": [
    "---\n",
    "### 0.2 - Parameters to be set or modified by the user\n",
    "---\n"
   ]
  },
  {
   "cell_type": "markdown",
   "metadata": {},
   "source": [
    "- Using a full path with a `/` at the end, **define the folder** of the project as  `gohome` variable, and the folder where you work as the `myfolder` variable:"
   ]
  },
  {
   "cell_type": "markdown",
   "metadata": {
    "jp-MarkdownHeadingCollapsed": true,
    "tags": []
   },
   "source": [
    "<div class=\"alert alert-block alert-warning\"> <b> Warning on working directory: </b><br>In a Jupyter Hub and a jupyter notebook in R, by default the working directory is where the notebook is opened for the <b> fisrt time </b>. Even if you move it ton another directory, it keeps the original working diretory unless you set it again with the function <code>setwd()</code>.</div>"
   ]
  },
  {
   "cell_type": "code",
   "execution_count": null,
   "metadata": {},
   "outputs": [],
   "source": [
    "## Code cell 4 ##\n",
    "\n",
    "gohome <- \"/shared/projects/2312_rnaseq_cea/\"\n",
    "gohome\n",
    "\n",
    "myfolder <- getwd()\n",
    "myfolder"
   ]
  },
  {
   "cell_type": "markdown",
   "metadata": {},
   "source": [
    "- With a `/` at the end, define the path to the folder where the results of this analysis with `DESeq2` will be stored:"
   ]
  },
  {
   "cell_type": "code",
   "execution_count": null,
   "metadata": {},
   "outputs": [],
   "source": [
    "## Code cell 5 ##\n",
    "\n",
    "# creation of the directory, recursive = TRUE is equivalent to the mkdir -p in Unix\n",
    "dir.create(paste(myfolder,\"/Results/deseq2/\", sep = \"\"), recursive = TRUE)\n",
    "\n",
    "# storing the path to this output folder in a variable\n",
    "deseq2folder <- paste(myfolder,\"/Results/deseq2/\", sep = \"\")\n",
    "deseq2folder\n",
    "\n",
    "# listing the content of the folder\n",
    "print(system(paste(\"ls -hlt\", deseq2folder), intern = TRUE) )"
   ]
  },
  {
   "cell_type": "markdown",
   "metadata": {},
   "source": [
    "- Last, we specify the size of the graphical outputs that will be used for all the plots in the notebook.    \n",
    "This setting could be modified at will for each plot. "
   ]
  },
  {
   "cell_type": "code",
   "execution_count": null,
   "metadata": {},
   "outputs": [],
   "source": [
    "## Code cell 6 ##\n",
    "\n",
    "options(repr.plot.width = 15, repr.plot.height = 8) # for figure display in the notebook"
   ]
  },
  {
   "cell_type": "markdown",
   "metadata": {},
   "source": [
    "---\n",
    "---\n",
    "## 1 - Loading data\n",
    "---\n",
    "\n",
    "### 1.1 - Count data and metadata\n",
    "---"
   ]
  },
  {
   "cell_type": "markdown",
   "metadata": {},
   "source": [
    "First we need to retrieve the counts data and the metadata about samples. As we stored those in a global `.RData` object at the end of \"Pipe_08\", we can simply reload all our information by openig this .Rdata object. "
   ]
  },
  {
   "cell_type": "code",
   "execution_count": null,
   "metadata": {},
   "outputs": [],
   "source": [
    "## Code cell 7 ##\n",
    "\n",
    "pca1folder <- paste0(myfolder,\"/Results/pca1/\")\n",
    "pca1folder\n",
    "rdata <- paste0(pca1folder,\"RawCounts_Samples.RData\")\n",
    "rdata\n",
    "load(rdata,verbose = T)\n",
    "rm(pca1folder) # not used any further"
   ]
  },
  {
   "cell_type": "markdown",
   "metadata": {},
   "source": [
    "We list all the objects we have currently in our session: "
   ]
  },
  {
   "cell_type": "code",
   "execution_count": null,
   "metadata": {},
   "outputs": [],
   "source": [
    "## Code cell 8 ##\n",
    "\n",
    "ls() "
   ]
  },
  {
   "cell_type": "markdown",
   "metadata": {},
   "source": [
    "We can now see it contains the two following dataframes:\n",
    "\n",
    "- `countdata`: the dataframe containing all the read counts produced by `featureCounts` (as in the Pipe_06 notebook), ***on all 11 samples***, without the low counts genes.      \n",
    "- `samples`:  the metadata dataframe containing the information about the samples, in particular the conditions of the experiment.\n",
    "\n",
    "We will verify their content and structure."
   ]
  },
  {
   "cell_type": "markdown",
   "metadata": {},
   "source": [
    "***-> Let's start with the `samples` object containing the metadata.*** We see below it has 11 rows, one per sample."
   ]
  },
  {
   "cell_type": "code",
   "execution_count": null,
   "metadata": {},
   "outputs": [],
   "source": [
    "## Code cell 9 ##\n",
    "\n",
    "samples # since we have only 11 rows, we can easily print the whole file. We could aslo have used head(samples, n=11).\n",
    "str(samples)"
   ]
  },
  {
   "cell_type": "markdown",
   "metadata": {},
   "source": [
    "***-> We verify now that the raw `countdata` dataframe look like what we expect*** by checking the first rows and it structure. We see below it has 12 columns, one for Geneid and the other ones for each sample, while genes are present in rows."
   ]
  },
  {
   "cell_type": "code",
   "execution_count": null,
   "metadata": {},
   "outputs": [],
   "source": [
    "## Code cell 10 ##\n",
    "\n",
    "head(countdata)\n",
    "str(countdata)"
   ]
  },
  {
   "cell_type": "markdown",
   "metadata": {},
   "source": [
    "-> ***Most importantly**, to ensure the **metadata `samples` and `countData` dataframes have the same sample names***, we run the code below. It tests for equality in the sample names in both dataframes, in the colnames of countdata (except column 1 for gene ids) and the column \"SampleName\" in samples. This will return TRUE for each name, if theay are the same in both files. The `table()` function counts how many are equal. In all there are 11 samples in both files."
   ]
  },
  {
   "cell_type": "code",
   "execution_count": null,
   "metadata": {},
   "outputs": [],
   "source": [
    "## Code cell 11 ##\n",
    "\n",
    "table(colnames(countdata[,-1]) == samples$SampleName, useNA = \"ifany\")"
   ]
  },
  {
   "cell_type": "markdown",
   "metadata": {},
   "source": [
    "### 1.2 - Annotation of genes in `gene_info`\n",
    "---\n",
    "\n",
    "In the above `countdata` dataframe, we can notice the genes are only indicated with their Ensembl GeneID (http://www.ensembl.org/Mus_musculus/Info/Index). It will thus be useful to obtain further information, including gene names or coordinates.\n",
    "\n",
    "To do so we create a `genecode`dataframe from the Gencode annotation GTF file of the mouse genome. We have already downloaded it for all users of the project in `/shared/projects/2312_rnaseq_cea/allData/Reference/` from this link: https://ftp.ebi.ac.uk/pub/databases/gencode/Gencode_mouse/release_M32/gencode.vM32.annotation.gtf.gz. It can easily be done in bash with the `wget` command or its equivalent `wget()` fonction in R.\n",
    "\n",
    "-> We now import it into R and look at its structure and the first rows."
   ]
  },
  {
   "cell_type": "code",
   "execution_count": null,
   "metadata": {},
   "outputs": [],
   "source": [
    "## Code cell 12 ##\n",
    "\n",
    "gencode <- read_tsv(\"/shared/projects/2312_rnaseq_cea/allData/Reference/gencode.vM32.primary_assembly.annotation.gtf.gz\",\n",
    "                                     skip = 5, col_names = F, show_col_types = FALSE)\n"
   ]
  },
  {
   "cell_type": "code",
   "execution_count": null,
   "metadata": {},
   "outputs": [],
   "source": [
    "## Code cell 13 ##\n",
    "\n",
    "str(gencode)\n",
    "head(gencode)"
   ]
  },
  {
   "cell_type": "markdown",
   "metadata": {},
   "source": [
    "We can see above that it contains 190,516 genes in rows and 9 columns with the chromosome, the curated source (HAVANA or ENSEMBL), the type of gene, the start and end position on the chromosome and the strand.\n",
    "\n",
    "The last column includes many information including gene_id, gene_type, gene_name, MGI_id or Havana ID. Its structure is complicated and we will parse it to sperate fields delimited by \";\". In addition, we will only select annotations with the type \"gene\". This will be done with some R commands of the `tidyverse` package (https://www.tidyverse.org/). Do not worry with the warning message. It occured because some genes have not all fileds filled in the last column."
   ]
  },
  {
   "cell_type": "code",
   "execution_count": null,
   "metadata": {},
   "outputs": [],
   "source": [
    "## Code cell 14 ##\n",
    "\n",
    "gencode %<>% filter(X3==\"gene\")\n",
    "gencode %<>% dplyr::select(X1,X2, X4,X5,X7,X9) \n",
    "#gencode %<>% rename(chr=X1, annotation=X2, start=X4, end=X5, strand=X7)\n",
    "names(gencode)[1:5] <- c(\"chr\", \"annotation\", \"start\", \"end\", \"strand\")\n",
    "gencode %<>% separate(X9, into = c(\"gene_id\", \"gene_type\", \"gene_name\", \"level\", \"mgi_id\", \"havana_gene\"), sep = \";\")\n",
    "gencode %<>% mutate(gene_id = str_remove(gene_id, \"gene_id \\\"\"),\n",
    "                   gene_type = str_remove(gene_type, \" gene_type \\\"\"), \n",
    "                   gene_name = str_remove(gene_name, \" gene_name \\\"\"),\n",
    "                   mgi_id = str_remove(mgi_id, \" mgi_id \\\"\"),\n",
    "                   havana_gene = str_remove(havana_gene, \" havana_gene \\\"\"))\n",
    "gencode %<>% mutate(gene_id = str_remove(gene_id, \"\\\"\"),\n",
    "                   gene_type = str_remove(gene_type, \"\\\"\"), \n",
    "                   gene_name = str_remove(gene_name, \"\\\"\"),\n",
    "                   mgi_id = str_remove(mgi_id, \"\\\"\"), \n",
    "                   havana_gene = str_remove(havana_gene, \"\\\"\"))"
   ]
  },
  {
   "cell_type": "markdown",
   "metadata": {},
   "source": [
    "Let's have a look at the generated file."
   ]
  },
  {
   "cell_type": "code",
   "execution_count": null,
   "metadata": {},
   "outputs": [],
   "source": [
    "## Code cell 15 ##\n",
    "\n",
    "str(gencode)\n",
    "head(gencode)"
   ]
  },
  {
   "cell_type": "markdown",
   "metadata": {},
   "source": [
    "It is a `tibble`, a sort of dataframe object with slightly different properties. For example, it does not have row names. It is appropriate for large datasets.\n",
    "\n",
    "The file contains now **57,010 Ensembl IDs**. \n",
    "\n",
    "***-> Could we only use the gene name for further analyses?***"
   ]
  },
  {
   "cell_type": "code",
   "execution_count": null,
   "metadata": {},
   "outputs": [],
   "source": [
    "## Code cell 16 ##\n",
    "\n",
    "table(table(gencode$gene_name))\n",
    "length(unique(gencode$gene_id))\n",
    "length(unique(gencode$gene_name))"
   ]
  },
  {
   "cell_type": "markdown",
   "metadata": {},
   "source": [
    "As you can see, the file contains 56,860 unique gene names: 56,713 have a unique gene ID, while 3 genes have 3 different Ensembl ID and 144 genes have 2 Ensembl IDs. We will keep them all and write the parsed gene_info file on our personal directory in the Data folder."
   ]
  },
  {
   "cell_type": "code",
   "execution_count": null,
   "metadata": {},
   "outputs": [],
   "source": [
    "## Code cell 17 ##\n",
    "\n",
    "write.table(gencode, file = paste0(myfolder, \"/Data/gene_info.txt\"), quote=F, sep=\"\\t\", row.names = F, col.names = T)"
   ]
  },
  {
   "cell_type": "markdown",
   "metadata": {},
   "source": [
    "**=> Great!!** All is set now to perform normalisation and differential expression analysis with `DESeq2`."
   ]
  },
  {
   "cell_type": "markdown",
   "metadata": {
    "tags": []
   },
   "source": [
    "---\n",
    "---\n",
    "## 2 - Modeling count distribution for each gene using library size factor and dispersion estimation with `DESeq2`\n",
    "---"
   ]
  },
  {
   "cell_type": "markdown",
   "metadata": {},
   "source": [
    "[**DESeq2**](https://bioconductor.org/packages/release/bioc/html/DESeq2.html) is among the best packages to perform modeling, normalisation and differential expression of quantitative omics data. It uses the **effective library size** method that assumes a majority of transcripts is not differentially expressed. DESeq2 defines a virtual reference sample by taking the median of each gene’s values across samples and then computes size factors as the median of ratios of each sample to the reference sample.\n",
    "\n",
    "Of note, other packages using the same method that we could also use are [***EdgeR***](https://bioconductor.org/packages/release/bioc/html/edgeR.html) and [***limma***](https://bioconductor.org/packages/release/bioc/html/limma.html).\n",
    "\n",
    "All are available on the [Bioconductor project](https://www.bioconductor.org/). \n",
    "\n",
    "<div class=\"alert alert-block alert-warning\"> <b> <u>Caution on normalized and un-normalized counts: </u></b><br>\n",
    "In a workflow, DESeq2 can be used twice, with two objectives:<ol>\n",
    "    <li><b>generation of normalized counts, exclusively to run exploratory analyses</b>, in particular downstream visualization and analyses of results.</il>\n",
    "    <li><b>differential expression analysis without using the normalized counts</b>, the model being designed to account for the library size differences internally. DE of each gene are tested using a Generalized Linear Model (GLM) of the negative bonomial family </il>\n",
    "    </ol></div>\n",
    "\n",
    "For both these objectives, there are <u>**several common steps**</u>. DESeq2 will:\n",
    "- model the raw counts distribution using the ***size factors*** to account for differences in library depth\n",
    "- estimate the ***gene-wise dispersion*** and shrink these estimates to generate accurate ***estimates of dispersion*** to model the counts\n",
    "- fit curve to gene-wise dispersion estimates folowing a ***negative binomial model***\n",
    "\n",
    "These common steps have been wrapped into a single function, `DESeq()`. More details on the respective steps can be found in the DESeq2 paper and in the tutorial available in the package vignette at https://bioconductor.org/packages/devel/bioc/vignettes/DESeq2/inst/doc/DESeq2.html#the-deseqdataset. You could also type and run `?DESeq` to read more on the steps.\n",
    "\n",
    "Below, we will see first how to generate a DESeq data object and how to model the count distributions. Then we will focus on the part generating normalized counts for downtream exploratory analyses. We will finish with the DE analysis using un-normalized counts."
   ]
  },
  {
   "cell_type": "markdown",
   "metadata": {},
   "source": [
    "### 2.1 - Create the `DESeqDataSet` object\n",
    "---\n",
    "\n",
    "DESeq2 uses an object called `DESeqDataSet` to store read counts and other intermediate calculations needed for normalisation and differential expression analysis. This is represented in the code below as ***dds*** (*d* for DESeq, *d* for Data and *s* for set). The basic idea behind this is to coerce the countdata and metadata, and any other relevant associated information, into slots of a single R object that DESeq2 can accept and work with. We do this with the `DESeqDataSetFromMatrix()` function.\n",
    "\n",
    "#### **2.1.a - preparation of countdata matrix for DESeq2**\n",
    "\n",
    "DESeq2 can use inputs generated from different tools. For counts data, they can be either matrices of counts, or homogeneuous dataframes with no other additional columns than the counts for each sample.\n",
    "\n",
    "<div class=\"alert alert-block alert-danger\"> <b> Caution on input counts: </b><br>\n",
    "    <ul>\n",
    "        <li> DESeq2 requires <b>raw un-normalized counts</b>, without prior normalisation of any kind, not even with log2.<il>\n",
    "        <li> The counts must be <b>non-negative integers</b>. So if your matrix was generated with Salmon with pseudo counts, you have to round the values to the nearest integer.<il>\n",
    "        </div>\n",
    "\n",
    "\n",
    "\n",
    "Several steps must be carried out to model the gene count distribbutions:\n",
    "\n",
    "\n",
    "- **Pre-Filter on low input genes**\n",
    "\n",
    "For genes with low counts across samples, we will miss statistical power to detect differential expression. Keeping those genes in the dataset will also reduce the statistical power to detect other differentially expressed genes because it increases the number of multiple tests. In addition, if you work in a low-memory setting, it is preferable to reduce the size of the matrix to ease its handling,\n",
    "\n",
    "A general rule is thus to remove genes with a total number of reads across samples below the number of samples, as we did in Pipe_08. It is recommanded to  perform this prefiltering before any normalization step. A filtering process is included in DESeq2 but we will run it before for clarity and compatibility with other normalization tools. \n",
    "\n",
    "Here, there are 57,010 genes analysed in our samples, if the genes with a null or a low expression were not filtered out. `DESeq2` can take care of these genes along the way, so we could have kept those. Nevertheless, here we will go on with the `countdata`dataframe, without low counts genes we got rid off in Pipe_08 by using as input the `countdata`dataframe that is already computed and contains 22,977 genes.   "
   ]
  },
  {
   "cell_type": "code",
   "execution_count": null,
   "metadata": {
    "tags": []
   },
   "outputs": [],
   "source": [
    "## Code cell 18 ##\n",
    "\n",
    "nrow(countdata) # 22927 in counts\n",
    "str(countdata)"
   ]
  },
  {
   "cell_type": "markdown",
   "metadata": {},
   "source": [
    "- **Need genes as row names**\n",
    "\n",
    "For DESeq2, counts must be provided in a matrix, or dataframe, with genes in rows put as row names, while there are only samples in columns. No additional column must be present. We reformat countdata accordingly."
   ]
  },
  {
   "cell_type": "code",
   "execution_count": null,
   "metadata": {},
   "outputs": [],
   "source": [
    "## Code cell 19 ##\n",
    "\n",
    "row.names(countdata) <- countdata[,\"Geneid\"] # here we used the name of the column, we could also have put the index (i.e) without quotes\n",
    "countdata <- countdata[,-1] # to remove the first column"
   ]
  },
  {
   "cell_type": "markdown",
   "metadata": {},
   "source": [
    "We check this formating was effective."
   ]
  },
  {
   "cell_type": "code",
   "execution_count": null,
   "metadata": {},
   "outputs": [],
   "source": [
    "## Code cell 20 ##\n",
    "\n",
    "head(countdata)"
   ]
  },
  {
   "cell_type": "markdown",
   "metadata": {},
   "source": [
    "We run a final check on sample names that must be identical and in the same order in the coundata and samples dataframe."
   ]
  },
  {
   "cell_type": "code",
   "execution_count": null,
   "metadata": {},
   "outputs": [],
   "source": [
    "## Code cell 21 ##\n",
    "\n",
    "all(names(countdata) == samples$SampleName)"
   ]
  },
  {
   "cell_type": "markdown",
   "metadata": {},
   "source": [
    "#### **2.1.b - preparation of sample_info (*metadata*) matrix for DESEq2**\n",
    "\n",
    "- **sample names**\n",
    "\n",
    "It is recommanded for DESeq2 to put sample names as row names of the matrix, in addition to the column/variable where they already are."
   ]
  },
  {
   "cell_type": "code",
   "execution_count": null,
   "metadata": {},
   "outputs": [],
   "source": [
    "## Code cell 22 ##\n",
    "\n",
    "row.names(samples) <- samples[,\"SampleName\"]\n",
    "head(samples)"
   ]
  },
  {
   "cell_type": "markdown",
   "metadata": {},
   "source": [
    "* **Factorisation**  \n",
    "\n",
    "Categorical variables of interest to make comparisons must be formatted as factors in R for DESeq2.\n",
    "\n",
    "We have to tell DESeq2 which information is used as a *factor*, meaning the one(s) that is going to be used as a way to separate groups for future comparisons.   \n",
    "This is done by using the `factor()` function, and providing the name of the column containing this information, and the various values that this info can take.   \n",
    "Feeding this factorisation into our samples dataframe changes the way this column will be read: as a factor instead of mere characters. \n",
    "   \n",
    " "
   ]
  },
  {
   "cell_type": "code",
   "execution_count": null,
   "metadata": {},
   "outputs": [],
   "source": [
    "## Code cell 23 ##\n",
    "\n",
    "samples$Condition <- factor(samples$Condition, levels = c(\"WT\", \"dHet\", \"dHetRag\" ))"
   ]
  },
  {
   "cell_type": "markdown",
   "metadata": {},
   "source": [
    "We can verify that this factorisation worked, by showing how many samples were placed in each group:"
   ]
  },
  {
   "cell_type": "code",
   "execution_count": null,
   "metadata": {},
   "outputs": [],
   "source": [
    "## Code cell 24 ##\n",
    "\n",
    "table(samples$Condition)"
   ]
  },
  {
   "cell_type": "markdown",
   "metadata": {},
   "source": [
    "and by checking the levels included in that factor or checking the structure of the factor itself:"
   ]
  },
  {
   "cell_type": "code",
   "execution_count": null,
   "metadata": {},
   "outputs": [],
   "source": [
    "## Code cell 25 ##\n",
    "\n",
    "levels(samples$Condition)\n",
    "str(samples$Condition)"
   ]
  },
  {
   "cell_type": "markdown",
   "metadata": {},
   "source": [
    "  Alternatively, the `relevel()` function can also be used to clearly specify which level is used as a reference. Most of the times, it will be the WT condition.  "
   ]
  },
  {
   "cell_type": "code",
   "execution_count": null,
   "metadata": {},
   "outputs": [],
   "source": [
    "## Code cell 26 ##\n",
    "\n",
    "samples$Condition <- relevel(samples$Condition, ref = \"WT\")"
   ]
  },
  {
   "cell_type": "code",
   "execution_count": null,
   "metadata": {},
   "outputs": [],
   "source": [
    "## Code cell 27 ##\n",
    "\n",
    "table(samples$Condition)"
   ]
  },
  {
   "cell_type": "markdown",
   "metadata": {},
   "source": [
    "If we look at our `samples`dataframe, we can now see that our `Condition`column is marked as a factor: **fct**"
   ]
  },
  {
   "cell_type": "code",
   "execution_count": null,
   "metadata": {},
   "outputs": [],
   "source": [
    "## Code cell 28 ##\n",
    "\n",
    "head(samples, n = 2)\n",
    "str(samples)"
   ]
  },
  {
   "cell_type": "markdown",
   "metadata": {},
   "source": [
    "#### **2.1.c - Create the `dds` object**"
   ]
  },
  {
   "cell_type": "markdown",
   "metadata": {},
   "source": [
    "We can now create the `dds` object with 3 inputs:\n",
    "\n",
    "- `countdata` dataframe as ar argument to the the option countData\n",
    "- `samples` dataframe as an argument of the option colData\n",
    "- `experimental design` to define the formula of the gene expression linear model\n",
    "\n",
    "For a good tutorial on defining models with different type of experimental designs (one factor with 2 levels, one factor with 3 levles, two factors, two nested factors, paired samples...), see this [tutorial](https://github.com/tavareshugo/tutorial_DESeq2_contrasts/blob/main/DESeq2_contrasts.md) and companion [slides](https://docs.google.com/presentation/d/1B9zW1_F-kBqQEu4xqxIJrudYP5DecytYMRR6bY4H6aM/edit). For more complex designs see chapter 8 of limma package [userguide](https://bioconductor.org/packages/release/bioc/vignettes/limma/inst/doc/usersguide.pdf).\n",
    "\n",
    "<div class=\"alert alert-block alert-danger\"> <b> Caution on design: </b><br>The full design must be specified at the beginning of the analysis. It is used by all  DESeq2 functions treating samples except for the setp of the size factor estimation. The design formula should have all of the factors in your metadata that account for major sources of variation of gene expression in your experiment. This includes you factor(s) of interest. Add also any covariates (eg age or sex). You may have prior knowledge of the sources of variation (example with covariates) or you may have identified them during the QC. It is critical to include all factors in your design formula. Unfortunately, it reduces your power but without including them you may end up with inacurate results. The design formula can be changed later if you want to change the reference level or factor. </div>\n",
    "\n",
    "Here the dataset has a nested design (condisering the double mutation or the proB state) but we are missing replicates to evaluate variation in each group.\n",
    "For simplicity, we will only consider the \"Condition\" factor defining the \"dHet\", \"dHetRag\" and \"WT\" levels.\n",
    "\n",
    "Let's create the `dds`  object with the `DESeqDataSetFromMatrix()` function dedicated to count matrices as inputs. *(Note that other function exist to import results of other R packages)*.\n"
   ]
  },
  {
   "cell_type": "code",
   "execution_count": null,
   "metadata": {},
   "outputs": [],
   "source": [
    "## Code cell 29 ##\n",
    "\n",
    "# round() is used as a security, because DESeq2 works only in integers. Read counts should be integers.\n",
    "# Be careful: countData is the name of a variable for this function, and countdata is the name of our dataframe\n",
    "\n",
    "dds <- DESeq2::DESeqDataSetFromMatrix(countData = round(countdata, digits = 0),\n",
    "                              colData = samples,\n",
    "                              design = ~ Condition)"
   ]
  },
  {
   "cell_type": "markdown",
   "metadata": {},
   "source": [
    "We check the number of genes in the dataset"
   ]
  },
  {
   "cell_type": "code",
   "execution_count": null,
   "metadata": {
    "tags": []
   },
   "outputs": [],
   "source": [
    "## Code cell 30 ##\n",
    "\n",
    "nrow(dds) # 22927 in counts"
   ]
  },
  {
   "cell_type": "markdown",
   "metadata": {},
   "source": [
    "We can also print dds and see that the assay slot contains the raw counts that were in countdata dataframe. We can even extract it back from dds with the function `assay().`"
   ]
  },
  {
   "cell_type": "code",
   "execution_count": null,
   "metadata": {
    "tags": []
   },
   "outputs": [],
   "source": [
    "## Code cell 31 ##\n",
    "dds"
   ]
  },
  {
   "cell_type": "code",
   "execution_count": null,
   "metadata": {},
   "outputs": [],
   "source": [
    "## Code cell 32 ##\n",
    "head(assay(dds)) # same as coutdata"
   ]
  },
  {
   "cell_type": "markdown",
   "metadata": {},
   "source": [
    "### 2.2 - Run the DESeq analysis on the dds object\n",
    "---\n",
    "\n",
    "Next, the `DEseq` function performs the 3 following steps on the dds object we created:\n",
    "\n",
    "    1.Estimation of size factors\n",
    "    2.Estimation of dispersion\n",
    "    3.Negative Binomial GLM fitting and Wald statistic \n",
    "    \n",
    "For detailed explanation, please refer to the DESeq2 links above.\n",
    "In this section, we will discuss the first two steps. The test part will be presented in part 4 of this notebook."
   ]
  },
  {
   "cell_type": "code",
   "execution_count": null,
   "metadata": {},
   "outputs": [],
   "source": [
    "## Code cell 33 ##\n",
    "\n",
    "dds2 <- DESeq2::DESeq(dds)"
   ]
  },
  {
   "cell_type": "markdown",
   "metadata": {},
   "source": [
    "Let's inspect the newly created object dds2. *(Note that in most tutorials, they often replace dds here. In fact, the dds object is completed with the results of the 3 steps. For clarity, we recalled the object dds2).*"
   ]
  },
  {
   "cell_type": "code",
   "execution_count": null,
   "metadata": {},
   "outputs": [],
   "source": [
    "## Code cell 34 ##\n",
    "\n",
    "dds2"
   ]
  },
  {
   "cell_type": "markdown",
   "metadata": {},
   "source": [
    "The portion `assays` within `dds2` contains the expression data, still not normalized:"
   ]
  },
  {
   "cell_type": "code",
   "execution_count": null,
   "metadata": {},
   "outputs": [],
   "source": [
    "## Code cell 35 ##\n",
    "\n",
    "head(assay(dds2))"
   ]
  },
  {
   "cell_type": "markdown",
   "metadata": {},
   "source": [
    "The `counts()` function with default parameters also returns the same raw counts stored in the assays slot."
   ]
  },
  {
   "cell_type": "code",
   "execution_count": null,
   "metadata": {},
   "outputs": [],
   "source": [
    "## Code cell 36 ##\n",
    "\n",
    "head(counts(dds2))"
   ]
  },
  {
   "cell_type": "markdown",
   "metadata": {},
   "source": [
    "However, if we add the argument `normalize = TRUE` it returns normalised counts obtained after dividing raw counts by the library size factor."
   ]
  },
  {
   "cell_type": "code",
   "execution_count": null,
   "metadata": {},
   "outputs": [],
   "source": [
    "## Code cell 37 ##\n",
    "\n",
    "head(counts(dds2, normalize = TRUE))"
   ]
  },
  {
   "cell_type": "markdown",
   "metadata": {},
   "source": [
    "Before looking at their distributions, let's comment the two main steps just performed by DESeq()."
   ]
  },
  {
   "cell_type": "markdown",
   "metadata": {},
   "source": [
    "- The first setp run by DESeq() was an **estimation of size factors**. This initial step did not use the desig matrix.\n",
    "\n",
    "We can have a look at the size factor values for each sample with the `sizeFactors()` function. Let's see how it correlates with library size given by `colSums(assay(dds2))` on raw data and with the normalized counts given by `colSums(counts(dds2, normalize = TRUE))`. We put them together in a dataframe."
   ]
  },
  {
   "cell_type": "code",
   "execution_count": null,
   "metadata": {},
   "outputs": [],
   "source": [
    "## Code cell 38 ##\n",
    "\n",
    "data.frame(colData(dds2)[,c(\"Condition\", \"Tissue\")],\n",
    "           \"sizeFactor\" = sizeFactors(dds2),\n",
    "           \"library.size\" = colSums(assay(dds2)),\n",
    "           \"total number after norm\" = colSums(counts(dds2, normalize = TRUE)))"
   ]
  },
  {
   "cell_type": "markdown",
   "metadata": {},
   "source": [
    "You can see that larger size factors correspond to samples with higher sequencing depth."
   ]
  },
  {
   "cell_type": "markdown",
   "metadata": {},
   "source": [
    "- The next step run by DESeq() was the **estimation of the dispersion.**\n",
    "\n",
    "The dispersion models the within-group variability. It describes how much variance deviates from the mean.\n",
    "\n",
    "We can see it with the `plotDispEsts()` function. The black dots represent the raw data of each gene. "
   ]
  },
  {
   "cell_type": "code",
   "execution_count": null,
   "metadata": {},
   "outputs": [],
   "source": [
    "## Code cell 39 ##\n",
    "\n",
    "plotDispEsts(dds2)"
   ]
  },
  {
   "cell_type": "markdown",
   "metadata": {},
   "source": [
    "The plot here is as expected in a typical RNASeq data set where the dispersion increases when variance incraases, but it decreases when mean increases.\n",
    "\n",
    "Given the small sample size of most RNASeq datasets, estimation of gene variation is difficult. DESeq2 will borrow information from other genes to generate better estimates. It assumes that genes with similat expression levels have a similar variannce. The red line corresponds to the fitted curve to gene-wise dispersion estimates. This curve facilitates the identification of DE genes when sample sizes are small. In blue is the estimated dispersion for each gene toward the predicted values by the curve."
   ]
  },
  {
   "cell_type": "markdown",
   "metadata": {},
   "source": [
    "- Now consider the **distribution of raw counts and normalized counts by DESeq()**:"
   ]
  },
  {
   "cell_type": "code",
   "execution_count": null,
   "metadata": {},
   "outputs": [],
   "source": [
    "## Code cell 40 ##\n",
    "\n",
    "summary(counts(dds2)) # raw counts"
   ]
  },
  {
   "cell_type": "code",
   "execution_count": null,
   "metadata": {},
   "outputs": [],
   "source": [
    "## Code cell 41 ##\n",
    "\n",
    "summary(counts(dds2, normalize = TRUE))# normalized counts"
   ]
  },
  {
   "cell_type": "markdown",
   "metadata": {},
   "source": [
    "We can plot these distribution of read counts (with a log2 transformation) using a boxplot, to verify that the read counts have indeed not yet been normalized between samples, unless we use normalize = TRUE."
   ]
  },
  {
   "cell_type": "code",
   "execution_count": null,
   "metadata": {
    "tags": []
   },
   "outputs": [],
   "source": [
    "## Code cell 42 ##\n",
    "\n",
    "# make a colour vector\n",
    "#conditionColor <- match(samples$Condition, c(\"dHet\", \"dHetRag\", \"WT\")) + 1\n",
    "# '+1' to avoid color '1' i.e. black\n",
    "\n",
    "# to display the two plots side by side\n",
    "layout(matrix(1:2, ncol=2))\n",
    "\n",
    "# Check distributions of samples using boxplots for the non-normalised data in log2\n",
    "boxplot(log2(counts(dds2)+1), outline = FALSE,\n",
    "        xlab=\"\",\n",
    "        ylab=\"Log2(dds2 raw counts)\",\n",
    "        las=2,\n",
    "        col=conditionColor,\n",
    "        main=\"Log2(dds2 raw counts)\")\n",
    "# Let's add a blue horizontal line that corresponds to the median\n",
    "abline(h=median.default(log2(counts(dds2)+1)), col=\"blue\")\n",
    "\n",
    "# Check distributions of samples using boxplots\n",
    "boxplot(log2(counts(dds2, normalize = TRUE)+1), outline = FALSE,\n",
    "        xlab=\"\",\n",
    "        ylab=\"DESeq2 norm counts\",\n",
    "        las=2,\n",
    "        col=conditionColor,\n",
    "        main=\"DESeq2 norm counts\")\n",
    "# Let's add a blue horizontal line that corresponds to the median\n",
    "abline(h = median(log2(counts(dds2, normalize = TRUE)+1)), col=\"blue\")"
   ]
  },
  {
   "cell_type": "markdown",
   "metadata": {},
   "source": [
    "\n",
    "As we can see, the log2 transformation gives a data distribution closer to the normal distribution, but does not perform well for normalizing data between samples.    \n",
    "\n",
    "The main motive behind normalization is to change numeric values in a dataset to a common scale without distorting the differences between samples. This reduces the sparsity of the data as they are brought to a common close scale.\n",
    "\n",
    "\n",
    "<div class=\"alert alert-block alert-danger\"> <b> Caution on DESeq() norm counts: </b><br><ul> <li>For further exploratory analyses, it is not recommanded to use the normalised counts from DESeq() but one of the 2 other normalisation methods: <code>rlog</code>and <code>vst</code>. We will test the effect of both in part 3.<il>\n",
    "    <li> For DE analysis, DESeq() norm counts must not be used since the linear model was already tested with the function. We will see in part 4 how to perform the DE analysis with the factor and contrats of interest.<il> </div>"
   ]
  },
  {
   "cell_type": "markdown",
   "metadata": {},
   "source": [
    "---\n",
    "---\n",
    "## 3 - Normalization of the data with `rlog` or `vst` for vizualisation and further exploratory analyses\n",
    "---\n",
    "\n",
    "The following two methods of normalization implented in DESeq2 package are to be considered prior to exploratory analyses, like PCA, hierarchical clustering or heatmap, that will follow in the next pipeline.\n",
    "\n",
    "### 3.1 - Data normalisation with `rlog`: Regularized-logarithm transformation\n",
    "---"
   ]
  },
  {
   "cell_type": "markdown",
   "metadata": {},
   "source": [
    "This function transforms the count data to the log2 scale in a way which minimizes differences between samples for rows with small counts, and which normalizes with respect to library size. For genes with high counts, rlog will not differ much from an ordinary log2 transformation."
   ]
  },
  {
   "cell_type": "markdown",
   "metadata": {},
   "source": [
    "> *In the function calls, we specified `blind = FALSE`, which means that differences between cell lines and treatment (the variables in the design) will not contribute to the expected variance-mean trend of the experiment. The experimental design is not used directly in the transformation, only in estimating the global amount of variability in the counts. For a fully **unsupervised** transformation, one can set `blind = TRUE` (which is the default).*   \n",
    "[Love MI *et al.*, 2019](https://www.bioconductor.org/packages/release/workflows/vignettes/rnaseqGene/inst/doc/rnaseqGene.html#the-variance-stabilizing-transformation-and-the-rlog)"
   ]
  },
  {
   "cell_type": "markdown",
   "metadata": {},
   "source": [
    "`blind=FALSE` greatly reduces the run time."
   ]
  },
  {
   "cell_type": "code",
   "execution_count": null,
   "metadata": {},
   "outputs": [],
   "source": [
    "## Code cell 43 ##\n",
    "\n",
    "rlog.dds2 <- rlog(dds2, blind = FALSE)\n",
    "rlog.dds2"
   ]
  },
  {
   "cell_type": "markdown",
   "metadata": {},
   "source": [
    "Let's verify the effect by plotting the counts from `rlog.dds2`, side by side with the non-normalised data to see the effect of normalisation."
   ]
  },
  {
   "cell_type": "code",
   "execution_count": null,
   "metadata": {
    "tags": []
   },
   "outputs": [],
   "source": [
    "## Code cell 44 ##\n",
    "\n",
    "# Get log2 counts\n",
    "counts.rlog.dds2 <- assay(rlog.dds2)\n",
    "\n",
    "summary(counts.rlog.dds2) # summary for each column"
   ]
  },
  {
   "cell_type": "code",
   "execution_count": null,
   "metadata": {
    "tags": []
   },
   "outputs": [],
   "source": [
    "## Code cell 45 ##\n",
    "\n",
    "# make a colour vector\n",
    "#conditionColor <- match(samples$Condition, c(\"dHet\", \"dHetRag\", \"WT\")) + 1\n",
    "# '+1' to avoid color '1' i.e. black\n",
    "\n",
    "# to display the two plots side by side\n",
    "layout(matrix(1:2, ncol=2))\n",
    "\n",
    "# Check distributions of samples using boxplots for the non-normalised data in log2\n",
    "boxplot(log2(counts(dds2)+1), outline = FALSE,\n",
    "        xlab=\"\",\n",
    "        ylab=\"Log2(dds2 raw counts)\",\n",
    "        las=2,\n",
    "        col=conditionColor,\n",
    "        main=\"Log2(dds2 raw counts)\")\n",
    "# Let's add a blue horizontal line that corresponds to the median\n",
    "abline(h=median.default(log2(counts(dds2)+1)), col=\"blue\")\n",
    "\n",
    "# Check distributions of samples using boxplots for the rlog normalised data\n",
    "boxplot(counts.rlog.dds2,\n",
    "        xlab=\"\",\n",
    "        ylab=\"rlog.dds2 counts\",\n",
    "        las=2,\n",
    "        col=conditionColor,\n",
    "        main=\"rlog.dds2 counts\")\n",
    "# Let's add a blue horizontal line that corresponds to the median\n",
    "abline(h=median.default(counts.rlog.dds2), col=\"blue\")"
   ]
  },
  {
   "cell_type": "markdown",
   "metadata": {},
   "source": [
    "We can also verify that the variance is not correlated any more to the average level of expression, by plotting standard deviation vs mean expression:"
   ]
  },
  {
   "cell_type": "code",
   "execution_count": null,
   "metadata": {
    "tags": []
   },
   "outputs": [],
   "source": [
    "## Code cell 46 ##\n",
    "\n",
    "# Raw counts mean expression Vs standard Deviation (SD)\n",
    "plot(rowMeans(assay(rlog.dds2)), matrixStats::rowSds(as.matrix(assay(rlog.dds2)), na.rm=TRUE), \n",
    "     main='rlog normalized read counts: sd vs mean', \n",
    "     xlim=c(-1,17),\n",
    "     ylim=c(-1,5))"
   ]
  },
  {
   "cell_type": "code",
   "execution_count": null,
   "metadata": {},
   "outputs": [],
   "source": [
    "## Code cell 47 ##\n",
    "\n",
    "vsn::meanSdPlot(assay(rlog.dds2), ranks=FALSE)"
   ]
  },
  {
   "cell_type": "markdown",
   "metadata": {},
   "source": [
    "### 3.2 - Normalization with `vst`: variance stabilizing transformation\n",
    "---\n",
    "\n",
    "Variance stabilizing transformation (VST) aims at generating a matrix of values for which variance is constant across the range of mean values, especially for low mean.\n",
    "\n",
    "The vst function computes the fitted dispersion-mean relation, derives the transformation to apply and accounts for library size."
   ]
  },
  {
   "cell_type": "code",
   "execution_count": null,
   "metadata": {},
   "outputs": [],
   "source": [
    "## Code cell 48 ##\n",
    "\n",
    "vst.dds2 <- vst(dds2, blind = FALSE)\n",
    "vst.dds2"
   ]
  },
  {
   "cell_type": "markdown",
   "metadata": {},
   "source": [
    "Again, we check the effect by looking at summaries and plotting the log2 counts from `vst.dds2`"
   ]
  },
  {
   "cell_type": "code",
   "execution_count": null,
   "metadata": {
    "tags": []
   },
   "outputs": [],
   "source": [
    "## Code cell 49 ##\n",
    "\n",
    "# Get log2 counts\n",
    "counts.vst.dds2 <- assay(vst.dds2)\n",
    "\n",
    "summary(counts.vst.dds2) # summary for each column"
   ]
  },
  {
   "cell_type": "code",
   "execution_count": null,
   "metadata": {
    "tags": []
   },
   "outputs": [],
   "source": [
    "## Code cell 50 ##\n",
    "\n",
    "# make a colour vector\n",
    "#conditionColor <- match(samples$Condition, c(\"dHet\", \"dHetRag\", \"WT\")) + 1\n",
    "# '+1' to avoid color '1' i.e. black\n",
    "\n",
    "# to display the two plots side by side\n",
    "layout(matrix(1:3, ncol=3))\n",
    "\n",
    "\n",
    "# Check distributions of samples using boxplots for the non-normalised data in log2\n",
    "boxplot(log2(counts(dds2)+1), outline = FALSE,\n",
    "        xlab=\"\",\n",
    "        ylab=\"Log2(dds2 raw counts)\",\n",
    "        las=2,\n",
    "        col=conditionColor,\n",
    "        main=\"Log2(dds2 raw counts)\")\n",
    "# Let's add a blue horizontal line that corresponds to the median\n",
    "abline(h=median.default(log2(counts(dds2)+1)), col=\"blue\")\n",
    "\n",
    "# Check distributions of samples using boxplots for the rlog normalised data\n",
    "boxplot(counts.rlog.dds2,\n",
    "        xlab=\"\",\n",
    "        ylab=\"rlog.dds2 counts\",\n",
    "        las=2,\n",
    "        col=conditionColor,\n",
    "        main=\"rlog.dds2 counts\")\n",
    "# Let's add a blue horizontal line that corresponds to the median\n",
    "abline(h=median.default(counts.rlog.dds2), col=\"blue\")\n",
    "\n",
    "# Check distributions of samples using boxplots\n",
    "boxplot(counts.vst.dds2,\n",
    "        xlab=\"\",\n",
    "        ylab=\"vst.dds2 counts\",\n",
    "        las=2,\n",
    "        col=conditionColor,\n",
    "        main=\"vst.dds2 counts\")\n",
    "# Let's add a blue horizontal line that corresponds to the median\n",
    "abline(h=median.default(counts.vst.dds2), col=\"blue\")"
   ]
  },
  {
   "cell_type": "markdown",
   "metadata": {},
   "source": [
    "We also verify the decoupling of variance and mean level of expression:"
   ]
  },
  {
   "cell_type": "code",
   "execution_count": null,
   "metadata": {
    "tags": []
   },
   "outputs": [],
   "source": [
    "## Code cell 51 ##\n",
    "\n",
    "# Raw counts mean expression Vs standard Deviation (SD)\n",
    "plot(rowMeans(assay(vst.dds2)), matrixStats::rowSds(as.matrix(assay(vst.dds2)), na.rm = TRUE), \n",
    "     main = 'vst normalized read counts: sd vs mean', \n",
    "     xlim = c(5,17),\n",
    "     ylim = c(-1,5))"
   ]
  },
  {
   "cell_type": "code",
   "execution_count": null,
   "metadata": {},
   "outputs": [],
   "source": [
    "## Code cell 52 ##\n",
    "\n",
    "vsn::meanSdPlot(assay(vst.dds2), ranks=FALSE)\n"
   ]
  },
  {
   "cell_type": "markdown",
   "metadata": {},
   "source": [
    "We can also display the scatterplot of transformed counts from two samples:"
   ]
  },
  {
   "cell_type": "code",
   "execution_count": null,
   "metadata": {},
   "outputs": [],
   "source": [
    "## Code cell 53 ##\n",
    "\n",
    "df <- bind_rows(\n",
    "  as_data_frame(log2(counts(dds2, normalized=TRUE)[, 1:2]+1)) %>%\n",
    "         mutate(transformation = \"log2(x + 1)\"),\n",
    "  as_data_frame(assay(rlog.dds2)[, 1:2]) %>% mutate(transformation = \"rlog\"),\n",
    "  as_data_frame(assay(vst.dds2)[, 1:2]) %>% mutate(transformation = \"vst\"))\n",
    "  \n",
    "colnames(df)[1:2] <- c(\"x\", \"y\")  \n",
    "\n",
    "lvls <- c(\"log2(x + 1)\", \"rlog\", \"vst\")\n",
    "df$transformation <- factor(df$transformation, levels=lvls)\n",
    "\n",
    "ggplot(df, aes(x = x, y = y)) + geom_hex(bins = 80) +\n",
    "  coord_fixed() + facet_grid( . ~ transformation)  "
   ]
  },
  {
   "cell_type": "markdown",
   "metadata": {
    "tags": []
   },
   "source": [
    "### 3.3- Choosing the best transformation for our data for further exploratory analyses\n",
    "---"
   ]
  },
  {
   "cell_type": "markdown",
   "metadata": {},
   "source": [
    "You can see that both methods worked on our data, even if the output are different.   \n",
    "    \n",
    "The indications to guide the choice between the two methods are:"
   ]
  },
  {
   "cell_type": "markdown",
   "metadata": {},
   "source": [
    "> *For genes with high counts, both the VST and the rlog will give similar result to the ordinary log2 transformation of normalized counts. For genes with lower counts, however, the values are shrunken towards a middle value. The VST or rlog-transformed data then become approximately homoskedastic (more flat trend in the meanSdPlot), and can be used directly for computing distances between samples, making PCA plots, or as input to downstream methods which perform best with homoskedastic data.  \n",
    "> **Which transformation to choose?** The VST is much faster to compute and is less sensitive to high count outliers than the rlog. The rlog tends to work well on small datasets (n < 30), potentially outperforming the VST when there is a wide range of sequencing depth across samples (an order of magnitude difference). We therefore recommend the VST for medium-to-large datasets (n > 30). You can perform both transformations and compare the meanSdPlot or PCA plots generated, as described below.*  \n",
    "[Love MI *et al.*, 2019](https://www.bioconductor.org/packages/release/workflows/vignettes/rnaseqGene/inst/doc/rnaseqGene.html#the-variance-stabilizing-transformation-and-the-rlog)"
   ]
  },
  {
   "cell_type": "markdown",
   "metadata": {},
   "source": [
    "Both tranformation methods performed well on our dataset, but we can notice that, in the rlog normalisation, the distribution appear more centered on the median for each sample, and the variance seems less related to the mean level of expression, especially for low values. Furthermore, there are still some outliers for the vst nomalisation.  \n",
    "\n",
    "Thus, we will keep the **rlog** transformation to go on with the the second exploratory analysis in the next notebook."
   ]
  },
  {
   "cell_type": "code",
   "execution_count": null,
   "metadata": {},
   "outputs": [],
   "source": [
    "## Code cell 54 ##\n",
    "\n",
    "head(assay(rlog.dds2))"
   ]
  },
  {
   "cell_type": "markdown",
   "metadata": {},
   "source": [
    "Before saving the rlog counts for further analysis, we will merge this data with the gene info stored in gencode dataframe in order to have gene names in addition to Ensembl IDs. \n",
    "\n",
    "In the `merge()` function, we specify both dataframes, followed by `by.x = 0` to indicate the `gene_id` key is present in the row names of the first dataframe."
   ]
  },
  {
   "cell_type": "code",
   "execution_count": null,
   "metadata": {},
   "outputs": [],
   "source": [
    "## Code cell 55 ##\n",
    "\n",
    "rlog.dds2.annot <- merge(as.data.frame(assay(rlog.dds2)),\n",
    "                gencode,\n",
    "                by.x = 0, by.y = \"gene_id\",\n",
    "                all.x = T, sort = F)\n",
    "names(rlog.dds2.annot)[1] <- \"ensemblID\""
   ]
  },
  {
   "cell_type": "code",
   "execution_count": null,
   "metadata": {},
   "outputs": [],
   "source": [
    "## Code cell 56 ##\n",
    "\n",
    "head(rlog.dds2.annot)"
   ]
  },
  {
   "cell_type": "markdown",
   "metadata": {
    "tags": []
   },
   "source": [
    "---\n",
    "---\n",
    "## 4 - Differential expression analysis with `DESeq2`\n",
    "---\n",
    "\n",
    "Differential expression analysis is classically the main way to analyse expression data from a quantitative point of view.   \n",
    "This approach relies on statistical tests to identify the genes that present a level of expression that is significantly different  from one condition to another, or between several conditions.  \n",
    "The genes are therefore considered as Differentially Expressed, and you'll often see the abreviation *DE genes*.   \n",
    "\n",
    "To identify those DE genes, we need to:\n",
    "- define the comparison(s) that we want to perform, by building a *contrast*\n",
    "- run the analysis of expression data using this constrast. \n",
    "\n",
    "Tools such as `DESeq2` will :\n",
    "- take into account the contrast to define the groups to compare, \n",
    "- compute the within-group and the between-group variability, \n",
    "- run a statistical test on each gene to look for statistically-significant differences of expression, \n",
    "- correct the resulting p-value to account for multiple testing\n",
    "- return the list of genes with an adjusted p-value below a given threshold"
   ]
  },
  {
   "cell_type": "markdown",
   "metadata": {},
   "source": [
    "### 4.1 - Building the results table\n",
    "---\n",
    "\n",
    "The `results` table is a dataframe that contains our differentially expressed genes, their p-values, whether the genes are upregulated or downregulated, the number of outliers, etc.  \n",
    "\n",
    "`summary()` gives us the genes that are up and down regulated in our condition under study, as well as low count genes and outliers. This generates summary tarries for the data. You can read about more about the results function by looking up `?results`"
   ]
  },
  {
   "cell_type": "markdown",
   "metadata": {},
   "source": [
    "* **Choose the comparison to perform**\n",
    "\n",
    "We begin by defining the contrast, that is the comparison that we want to perform.  \n",
    "When geneating dds2, we specified the WT group as a reference. We can see that the current model design will test the contrats between either dHet or dHetRag versus the WT group."
   ]
  },
  {
   "cell_type": "code",
   "execution_count": null,
   "metadata": {},
   "outputs": [],
   "source": [
    "## Code cell 57 ##\n",
    "\n",
    "resultsNames(dds2)"
   ]
  },
  {
   "cell_type": "markdown",
   "metadata": {},
   "source": [
    "We always can define new contrats."
   ]
  },
  {
   "cell_type": "markdown",
   "metadata": {},
   "source": [
    "  \n",
    "Here we choose to compare **the ALL leukemic cells to the dHet-Rag non leukemic ones**: "
   ]
  },
  {
   "cell_type": "code",
   "execution_count": null,
   "metadata": {},
   "outputs": [],
   "source": [
    "## Code cell 58 ##\n",
    "\n",
    "dHet_dHetRag <- c(\"Condition\", \"dHet\", \"dHetRag\")"
   ]
  },
  {
   "cell_type": "markdown",
   "metadata": {},
   "source": [
    "* **Perform the comparison between groups**\n",
    "\n",
    "Now we can run `DESeq2` for this comparison. It will not work on the normalised rlog.dds2, but on the not-yet normalised dds2 : indeed the normalisation step has to take into account the inter-group variability, and the intra-group variability to be correct, meaning that... the groups have to be defined first!   \n",
    "Now that `DESeq2` knows which groups we want to compare, thanks to the `contrast` defined above, it will run the normalisation on the fly, and identify the genes that are significantly differentially expressed (DE genes) according to that specific normalisation.  "
   ]
  },
  {
   "cell_type": "code",
   "execution_count": null,
   "metadata": {},
   "outputs": [],
   "source": [
    "## Code cell 59 ##\n",
    "\n",
    "res_dHet_dHetRag <- results(dds2, contrast = dHet_dHetRag)\n",
    "summary(res_dHet_dHetRag)"
   ]
  },
  {
   "cell_type": "markdown",
   "metadata": {},
   "source": [
    "Here, we found very few outliers, and we have 7.8% of low counts genes.   \n",
    "The threshold used to consider a gene as significantly differentially expressed is a adjusted p-value of 0.1. Adjusted p-value means that a correction has been performed on the raw p-value, to take into consideration that the statistical test have been reiterated many times, as many as the number of genes. On such a high number of tests, numerous will give a \"significant result\" only by chance.   \n",
    "The most-commonly used p-value correction is the **Benjamini-Hochberg method**, it is the one used by default by `DESeq2`. You could specify another one in the argument of the function.  \n",
    "\n",
    "We obtain 4714 significantly up-regulated genes + 3710 significantly down-regulated genes. LFC stands for Log2 Fold Change, that is the ratio of the expression of a given gene in the test conditon on its expression in the Reference condition, in log2 scale. Therefore, a log2 FC of 1 means that the gene is 2-times more expressed in the test samples versus the reference samples."
   ]
  },
  {
   "cell_type": "markdown",
   "metadata": {},
   "source": [
    "*For information, if we run the comparison between `dHet`and `WT` cells, we obtain:*    \n",
    "    out of 22927 with nonzero total read count   \n",
    "    adjusted p-value < 0.1   \n",
    "    LFC > 0 (up)       : 3309, 14%   \n",
    "    LFC < 0 (down)     : 3542, 15%   \n",
    "    outliers [1]       : 29, 0.13%   \n",
    "    low counts [2]     : 2223, 9.7%   \n",
    "    (mean count < 2)   \n",
    "    [1] see 'cooksCutoff' argument of ?results   \n",
    "    [2] see 'independentFiltering' argument of ?results"
   ]
  },
  {
   "cell_type": "markdown",
   "metadata": {},
   "source": [
    "### 4.2 - Working with a different threshold: alpha 0.05\n",
    "\n",
    "By default, the result function uses an adjusted p-value (FDR) cutoff of 0.1. If any other p value is prefered, `alpha` should be set to that value, as shown below where we set `alpha=0.05`."
   ]
  },
  {
   "cell_type": "code",
   "execution_count": null,
   "metadata": {},
   "outputs": [],
   "source": [
    "## Code cell 60 ##\n",
    "\n",
    "res2_dHet_dHetRag <- results(dds2, contrast = dHet_dHetRag,  alpha = 0.05)\n",
    "summary(res2_dHet_dHetRag)"
   ]
  },
  {
   "cell_type": "markdown",
   "metadata": {},
   "source": [
    "We can now count the number of differentially expressed genes with adjusted p-values were less than 0.05. na.rm=TRUE removes any row with missing information."
   ]
  },
  {
   "cell_type": "code",
   "execution_count": null,
   "metadata": {},
   "outputs": [],
   "source": [
    "## Code cell 61 ##\n",
    "\n",
    "sum(res2_dHet_dHetRag$padj < 0.05, na.rm = TRUE)\n",
    "summary(res2_dHet_dHetRag)\n",
    "# 7140"
   ]
  },
  {
   "cell_type": "markdown",
   "metadata": {},
   "source": [
    "So out of the 22927 filtered genes, 7140 have adjusted p-values below 0.05, with 4044 significantly up-regulated genes + 3096 significantly down-regulated genes. Let’s go ahead and select them."
   ]
  },
  {
   "cell_type": "code",
   "execution_count": null,
   "metadata": {},
   "outputs": [],
   "source": [
    "## Code cell 62 ##\n",
    "\n",
    "res2_dHet_dHetRag_sig_genes <- subset(res2_dHet_dHetRag, padj < 0.05)\n",
    "dim(res2_dHet_dHetRag_sig_genes)\n",
    "\n",
    "## 7140     6"
   ]
  },
  {
   "cell_type": "markdown",
   "metadata": {},
   "source": [
    "We then order the selected genes by the smallest p value:"
   ]
  },
  {
   "cell_type": "code",
   "execution_count": null,
   "metadata": {},
   "outputs": [],
   "source": [
    "## Code cell 63 ##\n",
    "\n",
    "res2_dHet_dHetRag_sig_ranked <- res2_dHet_dHetRag_sig_genes[order(res2_dHet_dHetRag_sig_genes$pvalue),]\n",
    "dim(res2_dHet_dHetRag_sig_ranked)\n",
    "head(res2_dHet_dHetRag_sig_ranked)\n",
    "## [1] 7140    6"
   ]
  },
  {
   "cell_type": "markdown",
   "metadata": {},
   "source": [
    "\n",
    "\n",
    "As you can see above, our current list only contains Ensembl GeneID and no genes names. \n",
    "\n",
    "We will thus merge DE genes with the gene info stored in gencode dataframe.  We keep only the 7140 genes that were present in the DE results by using all.x = T."
   ]
  },
  {
   "cell_type": "code",
   "execution_count": null,
   "metadata": {},
   "outputs": [],
   "source": [
    "## Code cell 64 ##\n",
    "\n",
    "res2_dHet_dHetRag_sig_ranked_annot <- merge(as.data.frame(res2_dHet_dHetRag_sig_ranked), gencode, \n",
    "                                            by.x = 0, by.y = \"gene_id\",\n",
    "                                            all.x = T, sort = F)"
   ]
  },
  {
   "cell_type": "code",
   "execution_count": null,
   "metadata": {},
   "outputs": [],
   "source": [
    "## Code cell 65 ##\n",
    "\n",
    "str(res2_dHet_dHetRag_sig_ranked_annot)"
   ]
  },
  {
   "cell_type": "markdown",
   "metadata": {},
   "source": [
    "For further vizualization and analyses of the data, we may need to have the Ensembl gene ID as row names."
   ]
  },
  {
   "cell_type": "code",
   "execution_count": null,
   "metadata": {},
   "outputs": [],
   "source": [
    "## Code cell 66 ##\n",
    "\n",
    "names(res2_dHet_dHetRag_sig_ranked_annot)[1] <- \"ensemblID\"\n",
    "head(res2_dHet_dHetRag_sig_ranked_annot, n = 20)"
   ]
  },
  {
   "cell_type": "markdown",
   "metadata": {},
   "source": [
    "You can see that the top DE gene is Ighj1 with an adjusted pvalue of 1.7e-243 and we can extract it from the results table."
   ]
  },
  {
   "cell_type": "code",
   "execution_count": null,
   "metadata": {},
   "outputs": [],
   "source": [
    "## Code cell 67 ##\n",
    "\n",
    "subset(res2_dHet_dHetRag_sig_ranked_annot, gene_name == \"Ighj1\")"
   ]
  },
  {
   "cell_type": "markdown",
   "metadata": {},
   "source": [
    "Finally, we write the differentially expressed gene list to a tabulated txt file, in the deseq2folder that we decided at first:"
   ]
  },
  {
   "cell_type": "code",
   "execution_count": null,
   "metadata": {},
   "outputs": [],
   "source": [
    "## Code cell 68 ##\n",
    "\n",
    "write.table(as.data.frame(res2_dHet_dHetRag_sig_ranked_annot),\n",
    "            file = paste0(deseq2folder,\"DESeq2_significant_genes-0_05.tsv\"),\n",
    "            sep = \"\\t\", quote = FALSE, col.names = TRUE)\n",
    "\n"
   ]
  },
  {
   "cell_type": "markdown",
   "metadata": {},
   "source": [
    "\n",
    "---\n",
    "---\n",
    "## 5 - Saving our results for later use: RData file\n",
    "---\n",
    "\n",
    "We can save all relevant R objects created in this session in a single R object.   \n",
    "This will help us to reload our results without having to run the same commands.   "
   ]
  },
  {
   "cell_type": "code",
   "execution_count": null,
   "metadata": {},
   "outputs": [],
   "source": [
    "## Code cell 69 ##\n",
    "\n",
    "print(ls())"
   ]
  },
  {
   "cell_type": "markdown",
   "metadata": {},
   "source": [
    "and we save our info in a single RData object in our output folder:"
   ]
  },
  {
   "cell_type": "code",
   "execution_count": null,
   "metadata": {},
   "outputs": [],
   "source": [
    "## Code cell 70 ##\n",
    "\n",
    "save(rlog.dds2.annot, res2_dHet_dHetRag_sig_ranked_annot, gencode, samples, file = paste0(deseq2folder, \"deseq2.RData\"))"
   ]
  },
  {
   "cell_type": "markdown",
   "metadata": {},
   "source": [
    "---\n",
    "___\n",
    "\n",
    "\n",
    "Now we go on with the visualization of normalized read counts in a full exploratory analysis.  \n",
    "  \n",
    "**=> Step 10: Exploratory analysis of normalized data** "
   ]
  },
  {
   "cell_type": "markdown",
   "metadata": {
    "tags": []
   },
   "source": [
    "The jupyter notebook used for the next session will be *Pipe_10-R403-Normcounts-exploratory-analysis-II.ipynb*    \n",
    "Let's retrieve it in our directory, in order to have a private copy to work on:   "
   ]
  },
  {
   "cell_type": "code",
   "execution_count": null,
   "metadata": {
    "tags": []
   },
   "outputs": [],
   "source": [
    "## Code cell 71 ##   \n",
    "\n",
    "myfolder\n",
    "file.copy(\"/shared/projects/2312_rnaseq_cea/pipeline/Pipe_10-R403-Normcounts-exploratory-analysis-II.ipynb\", myfolder)\n"
   ]
  },
  {
   "cell_type": "markdown",
   "metadata": {},
   "source": [
    "\n",
    "\n",
    "**Save executed notebook**\n",
    "\n",
    "To end the session, save your executed notebook in your `run_notebooks' folder. **Adjust the name with yours** and reformat as code cell to run it."
   ]
  },
  {
   "cell_type": "code",
   "execution_count": null,
   "metadata": {
    "tags": []
   },
   "outputs": [],
   "source": [
    "## Code cell 72 ##   \n",
    "\n",
    "# creation of the directory, recursive = TRUE is equivalent to the mkdir -p in Unix\n",
    "dir.create(paste0(myfolder,\"/run_notebooks\"), recursive = TRUE)\n",
    "\n",
    "runfolder <- paste0(myfolder,\"/run_notebooks\")\n",
    "       \n",
    "file.copy(paste0(myfolder, \"/Pipe_09-R403-DESeq2-normalisation-DE.ipynb\"), runfolder)\n"
   ]
  },
  {
   "cell_type": "markdown",
   "metadata": {
    "tags": []
   },
   "source": [
    "<div class=\"alert alert-block alert-success\"><b>Success:</b> Well done! You now know how to perform a normalisation and a differential expression analysis using DESeq2.<br>\n",
    "Don't forget to save you notebook and export a copy as an <b>html</b> file as well <br>\n",
    "- Open \"File\" in the Menu<br>\n",
    "- Select \"Export Notebook As\"<br>\n",
    "- Export notebook as HTML<br>\n",
    "- You can then open it in your browser even without being connected to the server! \n",
    "</div>"
   ]
  },
  {
   "cell_type": "markdown",
   "metadata": {},
   "source": [
    "---\n",
    "---"
   ]
  },
  {
   "cell_type": "markdown",
   "metadata": {
    "tags": []
   },
   "source": [
    "## Useful commands\n",
    "<div class=\"alert alert-block alert-info\"> \n",
    "    \n",
    "- <kbd>CTRL</kbd>+<kbd>S</kbd> : save notebook<br>    \n",
    "- <kbd>CTRL</kbd>+<kbd>ENTER</kbd> : Run Cell<br>  \n",
    "- <kbd>SHIFT</kbd>+<kbd>ENTER</kbd> : Run Cell and Select Next<br>   \n",
    "- <kbd>ALT</kbd>+<kbd>ENTER</kbd> : Run Cell and Insert Below<br>   \n",
    "- <kbd>ESC</kbd>+<kbd>y</kbd> : Change to *Code* Cell Type<br>  \n",
    "- <kbd>ESC</kbd>+<kbd>m</kbd> : Change to *Markdown* Cell Type<br> \n",
    "- <kbd>ESC</kbd>+<kbd>r</kbd> : Change to *Raw* Cell Type<br>    \n",
    "- <kbd>ESC</kbd>+<kbd>a</kbd> : Create Cell Above<br> \n",
    "- <kbd>ESC</kbd>+<kbd>b</kbd> : Create Cell Below<br> \n",
    "\n",
    "<em>  \n",
    "To make nice html reports with markdown: <a href=\"https://dillinger.io/\" title=\"dillinger.io\">html visualization tool 1</a> or <a href=\"https://stackedit.io/app#\" title=\"stackedit.io\">html visualization tool 2</a>, <a href=\"https://www.tablesgenerator.com/markdown_tables\" title=\"tablesgenerator.com\">to draw nice tables</a>, and the <a href=\"https://medium.com/analytics-vidhya/the-ultimate-markdown-guide-for-jupyter-notebook-d5e5abf728fd\" title=\"Ultimate guide\">Ultimate guide</a>. <br>\n",
    "Further reading on JupyterLab notebooks: <a href=\"https://jupyterlab.readthedocs.io/en/latest/user/notebook.html\" title=\"Jupyter Lab\">Jupyter Lab documentation</a>.<br>   \n",
    "</em>    \n",
    " \n",
    "</div>"
   ]
  },
  {
   "cell_type": "markdown",
   "metadata": {},
   "source": [
    "Bénédicte Noblet - 05-07 2021   \n",
    "Sandrine Caburet et Claire Vandiedonck - 02-06 2023   \n",
    "with adaptations from https://bioinformatics-core-shared-training.github.io/RNAseq_November_2020_remote/html/02_Preprocessing_Data.html, https://rpubs.com/adoughan/778146 , https://github.com/hbctraining/DGE_workshop_salmon_online/tree/master/lessons, https://www.bioconductor.org/packages/release/workflows/vignettes/rnaseqGene/inst/doc/rnaseqGene.html#the-variance-stabilizing-transformation-and-the-rlog and  https://bioconductor.org/packages/devel/bioc/vignettes/DESeq2/inst/doc/DESeq2.html#the-deseqdataset\n",
    "\n",
    "Maj 09/06/2023 par @CVandiedonck   "
   ]
  }
 ],
 "metadata": {
  "kernelspec": {
   "display_name": "R 4.0.3",
   "language": "R",
   "name": "r-4.0.3"
  },
  "language_info": {
   "codemirror_mode": "r",
   "file_extension": ".r",
   "mimetype": "text/x-r-source",
   "name": "R",
   "pygments_lexer": "r",
   "version": "4.0.3"
  },
  "toc-showcode": false
 },
 "nbformat": 4,
 "nbformat_minor": 4
}

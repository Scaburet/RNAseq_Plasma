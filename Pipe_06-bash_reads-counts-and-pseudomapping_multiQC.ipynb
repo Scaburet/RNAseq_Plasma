{
 "cells": [
  {
   "cell_type": "markdown",
   "metadata": {
    "tags": []
   },
   "source": [
    "# Formation RNAseq CEA - juin 2024\n",
    "\n",
    "*Enseignantes: Sandrine Caburet et Claire Vandiedonck*\n",
    "\n",
    "Session IFB : 5 CPU + 21 GB de RAM\n",
    "\n",
    "# Part 6: Read Counts"
   ]
  },
  {
   "cell_type": "markdown",
   "metadata": {},
   "source": [
    "   \n",
    "\n",
    "- 0. 1 - About session for IFB core cluster\n",
    "- 0. 2 - Parameters to be set or modified by the user\n",
    "- 1 - Gene level quantification using ``featureCounts``\n",
    "- 2 - Pseudo-mapping with Salmon\n",
    "- 3 - Monitoring disk usage"
   ]
  },
  {
   "cell_type": "markdown",
   "metadata": {
    "tags": []
   },
   "source": [
    "- This notebook contains heavy running cells in Section 2, so make sure before you launch these cells that they are adapted to your environment. <br>\n",
    "For Samtools, the ``-m`` option is the **RAM memory size that will be used by each thread**! <br>\n",
    "<blockquote>\n",
    "        See options <code>--threads 3 -m 4G</code> in Samtools line, Section 2  <br>\n",
    "        Adapt <code>-T 4</code> in featureCounts lines to set it to 70-80% of available CPU number. <br>\n",
    "        Adapt <code>-s 0</code> in  line to fit your library preparation. In the current notebook version, this option is set to <code>0</code> as the librairies are unstranded. <br>\n",
    "</blockquote>\n",
    "\n",
    "<div class=\"alert alert-block alert-danger\">\n",
    "    <b>Values set in this notebook are valid for a 5-CPU session with access to 21 GB of RAM</b>. Ideally, use 70-80% of the CPU amount your system or session has. <br>\n",
    "    DO NOT ask for more RAM than you can use.\n",
    "</div>"
   ]
  },
  {
   "cell_type": "markdown",
   "metadata": {},
   "source": [
    "---\n",
    "---\n",
    "## 0. Before going further\n",
    "---\n",
    "\n",
    "<div class=\"alert alert-block alert-danger\"><b>Caution:</b> \n",
    "Before starting the analysis, save a backup copy of this notebok : in the left-hand panel, right-click on this file and select \"Duplicate\"<br>\n",
    "You can also make backups during the analysis. Don't forget to save your notebook regularly: <kbd>Ctrl</kbd> + <kbd>S</kbd> or click on the 💾 icon.\n",
    "</div>"
   ]
  },
  {
   "cell_type": "markdown",
   "metadata": {},
   "source": [
    "---\n",
    "\n",
    "## 0.1 - About session for IFB core cluster\n",
    "\n",
    "<em>loaded JupyterLab</em> : Version 3.5.0"
   ]
  },
  {
   "cell_type": "code",
   "execution_count": 1,
   "metadata": {
    "tags": []
   },
   "outputs": [
    {
     "name": "stdout",
     "output_type": "stream",
     "text": [
      "=== Cell launched on Tue Jun 18 20:44:27 CEST 2024 ===\n",
      "          40262071      fast sys/dash cvandied  R    3:44:53      1 cpu-node-51\n",
      "=== Current IFB session size: as an indication: Medium (4CPU, 10GB) or Large (10CPU, 50GB) ===\n",
      "JobID         AllocCPUS     ReqMem        NodeList    Elapsed      State \n",
      "------------ ---------- ---------- --------------- ---------- ---------- \n",
      "40262071              5        21G     cpu-node-51   03:44:53    RUNNING \n",
      "40262071.ba+          5                cpu-node-51   03:44:53    RUNNING \n"
     ]
    }
   ],
   "source": [
    "## Code cell 1 ##\n",
    "\n",
    "echo \"=== Cell launched on $(date) ===\"\n",
    "squeue -hu $USER \n",
    "\n",
    "echo \"=== Current IFB session size: as an indication: Medium (4CPU, 10GB) or Large (10CPU, 50GB) ===\"\n",
    "jobid=$(squeue -hu $USER | awk '/sys/dash {print $1}')\n",
    "\n",
    "sacct --format=JobID,AllocCPUS,ReqMem,NodeList,Elapsed,State --jobs ${jobid}"
   ]
  },
  {
   "cell_type": "code",
   "execution_count": 2,
   "metadata": {
    "tags": []
   },
   "outputs": [
    {
     "name": "stdout",
     "output_type": "stream",
     "text": [
      "===== bam sorting by names =====\n",
      "samtools 1.18\n",
      "Using htslib 1.19\n",
      "===== gene level quantification =====\n",
      "\n",
      "featureCounts v2.0.6\n",
      "\n",
      "===== Pseudo mapping and quantification with Salmon =====\n",
      "salmon 1.10.2\n",
      "===== quality reports compilation =====\n",
      "multiqc, version 1.13\n"
     ]
    }
   ],
   "source": [
    "## Code cell 2 ##\n",
    "\n",
    "module load samtools/1.18 subread/2.0.6 salmon/1.10.2 multiqc\n",
    "\n",
    "# module load samtools/1.10 subread/2.0.1 in 2023\n",
    "\n",
    "echo \"===== bam sorting by names =====\"\n",
    "samtools --version | head -n 2\n",
    "echo \"===== gene level quantification =====\"\n",
    "featureCounts -v\n",
    "echo \"===== Pseudo mapping and quantification with Salmon =====\"\n",
    "salmon -v\n",
    "echo \"===== quality reports compilation =====\"\n",
    "multiqc --version"
   ]
  },
  {
   "cell_type": "markdown",
   "metadata": {},
   "source": [
    "---\n",
    "\n",
    "## 0.2 - General parameters to be set or modified by the user\n"
   ]
  },
  {
   "cell_type": "markdown",
   "metadata": {},
   "source": [
    "- Precise the **maximum amount of CPU** (central processing units, cores) and **RAM-memory (in Bytes)** that programs can use.<a id=\"computressources\"></a>"
   ]
  },
  {
   "cell_type": "code",
   "execution_count": 3,
   "metadata": {
    "tags": []
   },
   "outputs": [],
   "source": [
    "## Code cell 3 ##\n",
    "\n",
    "authorizedCPU=4           # 4 CPU\n",
    "\n",
    "authorizedRAM=20000000000  # 20GB"
   ]
  },
  {
   "cell_type": "markdown",
   "metadata": {},
   "source": [
    "- Using a full path with a `/` at the end, **define the folder** where you want or have to work with `gohome` variable:"
   ]
  },
  {
   "cell_type": "code",
   "execution_count": 4,
   "metadata": {
    "tags": []
   },
   "outputs": [
    {
     "name": "stdout",
     "output_type": "stream",
     "text": [
      "=== Home root folder is ===\n",
      "/shared/projects/2413_rnaseq_cea/\n",
      "\n",
      "=== Working (personal) folder tree ===\n",
      "/shared/projects/2413_rnaseq_cea/cvandiedonck\n",
      "|-- Data\n",
      "|   `-- fastq\n",
      "|-- Results\n",
      "|   |-- fastp\n",
      "|   |-- fastq_screen\n",
      "|   |-- fastqc\n",
      "|   |-- logfiles\n",
      "|   |-- multiqc\n",
      "|   |-- qualimap\n",
      "|   |-- samtools\n",
      "|   `-- star\n",
      "|-- archives\n",
      "|-- ongoing\n",
      "|-- run_notebooks\n",
      "|-- temporary\n",
      "|   |-- Results\n",
      "|   `-- run_notebooks\n",
      "`-- tmp\n",
      "\n",
      "18 directories\n",
      "=== current working directory ===\n",
      "/shared/ifbstor1/projects/2413_rnaseq_cea/cvandiedonck\n"
     ]
    }
   ],
   "source": [
    "## Code cell 4 ##\n",
    "\n",
    "gohome=\"/shared/projects/2413_rnaseq_cea/\"\n",
    "\n",
    "echo \"=== Home root folder is ===\"\n",
    "echo \"${gohome}\"\n",
    "echo \"\"\n",
    "echo \"=== Working (personal) folder tree ===\"\n",
    "tree -d -L 2 \"${gohome}$USER\"\n",
    "echo \"=== current working directory ===\"\n",
    "echo \"${PWD}\""
   ]
  },
  {
   "cell_type": "markdown",
   "metadata": {},
   "source": [
    "- ... and remember the folder for log files."
   ]
  },
  {
   "cell_type": "code",
   "execution_count": 5,
   "metadata": {},
   "outputs": [
    {
     "name": "stdout",
     "output_type": "stream",
     "text": [
      "the folder for log files is /shared/projects/2413_rnaseq_cea/cvandiedonck/Results/logfiles/\n"
     ]
    }
   ],
   "source": [
    "## Code cell 5 ##\n",
    "\n",
    "logfolder=\"${gohome}$USER/Results/logfiles/\"\n",
    "echo \"the folder for log files is ${logfolder}\""
   ]
  },
  {
   "cell_type": "markdown",
   "metadata": {},
   "source": [
    "---\n",
    "---\n",
    "## 1 - Gene level quantification using <code>featureCounts</code>\n",
    "---"
   ]
  },
  {
   "cell_type": "markdown",
   "metadata": {},
   "source": [
    "### 1.1- Tool presentation\n",
    "---"
   ]
  },
  {
   "cell_type": "markdown",
   "metadata": {},
   "source": [
    "`featureCounts` is part of the package <a href=\"http://subread.sourceforge.net/\">SubRead</a>, to be used with bash, and RSubRead, to be used with R. This tool allows to attribute mapped reads to their matching feature (exon, gene, promoter, ...) on the genome and summarize counts per feature.  \n",
    "  \n",
    "In SubRead user guide, developpers recommend to use <i>specialized transcript-level quantification tools [...] for counting reads to transcripts</i> (see section 6.2.5, page 34 of pdf manual you can download with this <a href=\"https://www.google.com/url?sa=t&rct=j&q=&esrc=s&source=web&cd=&ved=2ahUKEwie1YDqwpD_AhXgU6QEHVLnB14QFnoECAsQAQ&url=https%3A%2F%2Fbioconductor.org%2Fpackages%2Frelease%2Fbioc%2Fvignettes%2FRsubread%2Finst%2Fdoc%2FSubreadUsersGuide.pdf&usg=AOvVaw1b3PpVhTNokdJHARtYAXgf\">link</a>). So we will only generate gene-level quantification with `featureCounts`."
   ]
  },
  {
   "cell_type": "code",
   "execution_count": 6,
   "metadata": {},
   "outputs": [
    {
     "name": "stdout",
     "output_type": "stream",
     "text": [
      "\n",
      "featureCounts v2.0.6\n",
      "\n"
     ]
    }
   ],
   "source": [
    "## Code cell 6 ##\n",
    "\n",
    "featureCounts -v"
   ]
  },
  {
   "cell_type": "markdown",
   "metadata": {},
   "source": [
    "A simple usage to count paired-end sequencing data, then counts fragments instead or reads, is:  \n",
    "<code>featureCounts -p -a annotation.gtf \\ \n",
    "                  -o counts.txt \\ \n",
    "                  alignment.bam</code>"
   ]
  },
  {
   "cell_type": "markdown",
   "metadata": {},
   "source": [
    "The main <code>featureCounts</code> options correspond to: <br>\n",
    "- `-p` to count fragments instead or reads (paired-end data)\n",
    "- `-a TEXT` to locate annotation file, in GTF/GFF format by default (<code>-f</code> to be used to give other file format) that can be a <code>.gzip</code> one. <br>\n",
    "- `-o TEXT` to set filename for counts<br>\n",
    "- then alignement files (it may be a list) come. Either in BAM or SAM format, they can be sorted by read names or by chromosomal coordinates.\n",
    "- `M`: By default, multi-mapped reads (or fragments) are not considered unless we use `-M` option (see others parameters to set in manual, pdf pages 38 to 43).\n",
    "- `-T exon` *(by default)*: It will select exon lines in annotation file to attribute reads (or fragments).\n",
    "- `-g gene_id` *(by default)*: Then, it will count them according to gene_id meta-feature level."
   ]
  },
  {
   "cell_type": "markdown",
   "metadata": {},
   "source": [
    "We will use some other options:  \n",
    "\n",
    "- <code>-s INTEGER</code>, to specify strandness. Possible values include: 0 (unstranded), 1 (stranded) and 2 (reversely stranded). Default value is 0. <br>\n",
    "- <code>-T INTEGER</code>, to set the number of threads to use (default, 1) <br>\n",
    "- <code>--verbose</code>, to get information for debugging, such as unmatched chromosome/contig names. <br>\n",
    "    \n",
    "As temporary files are saved by default to directory specified in <code>-o</code> option, we won't use <code>--tmpDir STRING</code> option <br>\n",
    "</blockquote>\n",
    "\n",
    "For paired-end data, it is possible to ask for filtering fragments that have both ends aligned (`-B` option), on same chromose and strand (`-C`) and even separated by an insert distance (`-P`, included in `-d` and `-D` values).  \n",
    "\n",
    "Besides, input files will be used as sorted by names. Even if ***featureCount*** handles `.bam` files as fast as ***samtools*** does, we will nonetheless use samtools and `--donotsort` option. Indeed, some files may be bigger than supported by featureCounts."
   ]
  },
  {
   "cell_type": "markdown",
   "metadata": {},
   "source": [
    "---\n",
    "### 1.2- Step preparation\n",
    "---"
   ]
  },
  {
   "cell_type": "markdown",
   "metadata": {},
   "source": [
    "- With a `/` at the end, precise the folder where alignment ``_ALigned.SortedByCoord.out.bam`` files produced by ***Star*** are:"
   ]
  },
  {
   "cell_type": "code",
   "execution_count": 7,
   "metadata": {},
   "outputs": [
    {
     "name": "stdout",
     "output_type": "stream",
     "text": [
      "There are 3 bam files:\n",
      "/shared/projects/2413_rnaseq_cea/cvandiedonck/Results/star/SRR12730409_Aligned.sortedByCoord.out.bam\n",
      "/shared/projects/2413_rnaseq_cea/cvandiedonck/Results/star/SRR12730410_Aligned.sortedByCoord.out.bam\n",
      "/shared/projects/2413_rnaseq_cea/cvandiedonck/Results/star/SRR12730411_Aligned.sortedByCoord.out.bam\n"
     ]
    }
   ],
   "source": [
    "## Code cell 7 ##\n",
    "\n",
    "mappedfolder=\"${gohome}$USER/Results/star/\"\n",
    "echo \"There are $(ls \"${mappedfolder}\"*_Aligned.sortedByCoord.out.bam | wc -l) bam files:\"\n",
    "ls \"${mappedfolder}\"*_Aligned.sortedByCoord.out.bam"
   ]
  },
  {
   "cell_type": "markdown",
   "metadata": {},
   "source": [
    "- Please remember the path to the uncompressed annotation file, especially if you changed it in previous notebooks. We can also show its first line to verify the version (here we work with the M35 release on the GRCm39 mouse genome)"
   ]
  },
  {
   "cell_type": "code",
   "execution_count": 8,
   "metadata": {},
   "outputs": [
    {
     "name": "stdout",
     "output_type": "stream",
     "text": [
      "The transcript reference gtf file is /shared/projects/2413_rnaseq_cea/alldata/Reference/extracted/genome_annotation-M35.gtf\n",
      "First rows of the annotation file: /shared/projects/2413_rnaseq_cea/alldata/Reference/extracted/genome_annotation-M35.gtf\n",
      "##description: evidence-based annotation of the mouse genome (GRCm39), version M35 (Ensembl 112)\n",
      "##provider: GENCODE\n",
      "##contact: gencode-help@ebi.ac.uk\n",
      "##format: gtf\n",
      "##date: 2024-02-27\n",
      "chr1\tHAVANA\tgene\t3143476\t3144545\t.\t+\t.\tgene_id \"ENSMUSG00000102693.2\"; gene_type \"TEC\"; gene_name \"4933401J01Rik\"; level 2; mgi_id \"MGI:1918292\"; havana_gene \"OTTMUSG00000049935.1\";\n"
     ]
    }
   ],
   "source": [
    "## Code cell 8 ##\n",
    "\n",
    "gtffile=\"${gohome}alldata/Reference/extracted/genome_annotation-M35.gtf\"\n",
    "echo \"The transcript reference gtf file is ${gtffile}\"\n",
    "echo \"First rows of the annotation file: ${gtffile}\"\n",
    "head -n 6 ${gtffile}"
   ]
  },
  {
   "cell_type": "markdown",
   "metadata": {},
   "source": [
    "- We need to create a destination folder..."
   ]
  },
  {
   "cell_type": "code",
   "execution_count": 9,
   "metadata": {},
   "outputs": [
    {
     "name": "stdout",
     "output_type": "stream",
     "text": [
      "/shared/projects/2413_rnaseq_cea/cvandiedonck/Results/\n",
      "|-- fastp\n",
      "|-- fastq_screen\n",
      "|-- fastqc\n",
      "|-- featurecounts\n",
      "|-- logfiles\n",
      "|-- multiqc\n",
      "|-- qualimap\n",
      "|-- samtools\n",
      "`-- star\n",
      "\n",
      "9 directories\n"
     ]
    }
   ],
   "source": [
    "## Code cell 9 ##\n",
    "\n",
    "featcountfolder=\"${gohome}$USER/Results/featurecounts/\"\n",
    "mkdir -p ${featcountfolder}\n",
    "tree -d -L 1 \"${gohome}$USER/Results/\""
   ]
  },
  {
   "cell_type": "markdown",
   "metadata": {},
   "source": [
    "\n",
    "---\n",
    "\n",
    "### 1.3- Compute reads or fragments counts\n",
    "---"
   ]
  },
  {
   "cell_type": "markdown",
   "metadata": {},
   "source": [
    "#### 1.3.1 - Running <code>featuresCounts</code> on individual samples\n",
    "---"
   ]
  },
  {
   "cell_type": "markdown",
   "metadata": {
    "tags": []
   },
   "source": [
    "- Before you run the following cells, make sure that they are adapted to your environment. <br>\n",
    "For Samtools, the ``-m`` option is the **RAM memory size that will be used by each thread**! <br>\n",
    "<blockquote>\n",
    "        See options <code>--threads 3 -m 5G</code> in Samtools line <br>\n",
    "        Adapt <code>-T 4</code> in featureCounts lines to set it to 70-80% of available CPU number. <br>\n",
    "        Adapt <code>-s 0</code> in  line to fit your library preparation. In the current notebook version, this option is set to <code>0</code> as the librairies are unstranded. <br>\n",
    "</blockquote>\n",
    "\n",
    "<div class=\"alert alert-block alert-danger\">\n",
    "    <b>Values set in this notebook are valid for a 5-CPU session with access to 21 GB of RAM</b>. Ideally, use 70-80% of the CPU amount your system or session has. <br>\n",
    "    DO NOT ask for more RAM than you can use.\n",
    "</div>"
   ]
  },
  {
   "cell_type": "markdown",
   "metadata": {},
   "source": [
    "<div class=\"alert alert-block alert-warning\">\n",
    "    <b><code>-T</code> option in featureCounts command line doesn't have an impact during counting process</b>. It has an effect when BAM are sorted on the fly by features counts, but this is not the case here, as the input file is sorted before by samtools.\n",
    "</div>"
   ]
  },
  {
   "cell_type": "code",
   "execution_count": 10,
   "metadata": {},
   "outputs": [
    {
     "name": "stdout",
     "output_type": "stream",
     "text": [
      "Screen output is redirected to /shared/projects/2413_rnaseq_cea/cvandiedonck/Results/logfiles/featureCounts-gene-level-counts-individualsamples_samtoolsSort.log\n"
     ]
    }
   ],
   "source": [
    "## Code cell 10 ##\n",
    "\n",
    "logfile=\"${logfolder}featureCounts-gene-level-counts-individualsamples_samtoolsSort.log\"\n",
    "echo \"Screen output is redirected to ${logfile}\""
   ]
  },
  {
   "cell_type": "markdown",
   "metadata": {},
   "source": [
    "In the next cell, each sample file is analysed individually: first <code>samtools</code> generates a bam sorted by read names, that is used immediately by <code>featureCounts</code>. The intermediate bam file is then removed.   \n",
    "Therefore we obtain one count file per sample. "
   ]
  },
  {
   "cell_type": "code",
   "execution_count": 11,
   "metadata": {},
   "outputs": [
    {
     "name": "stdout",
     "output_type": "stream",
     "text": [
      "===== Processing sampleID: SRR12730409...\n",
      "...changing tool...\n",
      "... done\n",
      "===== Processing sampleID: SRR12730410...\n",
      "...changing tool...\n",
      "... done\n",
      "===== Processing sampleID: SRR12730411...\n",
      "...changing tool...\n",
      "... done\n",
      "\n",
      "real\t13m16.666s\n",
      "user\t40m22.400s\n",
      "sys\t0m57.766s\n"
     ]
    }
   ],
   "source": [
    "## Code cell 11 ##\n",
    "\n",
    "# as time command does not redirect output\n",
    "echo \"operation starts at $(date)\" >> ${logfile}\n",
    "\n",
    "time for fn in $(ls \"${mappedfolder}\"*_Aligned.sortedByCoord.out.bam); do  \n",
    "    \n",
    "    mysortedbam=$(basename ${fn})\n",
    "    id=${mysortedbam/_Aligned.sortedByCoord.out.bam/}\n",
    "    echo \"===== Processing sampleID: ${id}...\" | tee -a ${logfile}\n",
    "    \n",
    "    # outputfiles\n",
    "    mytempfile=\"${featcountfolder}${id}_Aligned.sortedByNames.bam\"\n",
    "    myoutfile=\"${featcountfolder}${id}_paired-unstranded\"\n",
    "    \n",
    "    # bam sorting...\n",
    "    echo \"samtools starts at $(date)\" >> ${logfile}\n",
    "    samtools sort -n \\\n",
    "                --threads 3 -m 4G \\\n",
    "                --output-fmt BAM \\\n",
    "                -o ${mytempfile} \\\n",
    "                -T ${featcountfolder} \\\n",
    "                ${fn} \\\n",
    "                &>> ${logfile}\n",
    "    echo \"samtools ends at $(date)\" >> ${logfile}\n",
    "\n",
    "    # some user conversation to help being patient\n",
    "    echo \"...changing tool...\" | tee -a ${logfile}\n",
    "\n",
    "    # then featureCounts\n",
    "    echo \"featureCounts starts at $(date)\" >> ${logfile}\n",
    "\n",
    "    featureCounts -p -s 0 -T 4 \\\n",
    "                  -a \"${gtffile}\" \\\n",
    "                  -o \"${myoutfile}.counts\" \\\n",
    "                  ${mytempfile} \\\n",
    "                  --donotsort \\\n",
    "                  --verbose \\\n",
    "                  &>> ${logfile}\n",
    "    echo \"featureCounts ends at $(date)\" >> ${logfile}\n",
    "    \n",
    "    # removing extra bam file... saving disk space\n",
    "    rm ${mytempfile}\n",
    "    \n",
    "    echo \"... done\" | tee -a ${logfile}\n",
    "    \n",
    "done"
   ]
  },
  {
   "cell_type": "code",
   "execution_count": 12,
   "metadata": {},
   "outputs": [
    {
     "name": "stdout",
     "output_type": "stream",
     "text": [
      "featureCounts generated 3 count files.\n",
      "featureCounts generated 3 summary files.\n"
     ]
    }
   ],
   "source": [
    "## Code cell 12 ##\n",
    "\n",
    "echo \"operation ends at $(date)\" >> ${logfile}\n",
    "\n",
    "echo \"=== Files created after featureCounts ===\" >> ${logfile}\n",
    "ls -lh \"${featcountfolder}\" >> ${logfile}\n",
    "echo \"featureCounts generated $(ls \"${featcountfolder}\"*.counts | wc -l) count files.\" \\\n",
    "    | tee -a ${logfile}\n",
    "echo \"featureCounts generated $(ls \"${featcountfolder}\"*.counts.summary | wc -l) summary files.\" \\\n",
    "    | tee -a ${logfile}"
   ]
  },
  {
   "cell_type": "markdown",
   "metadata": {},
   "source": [
    "#### 1.3.2 - Running <code>featuresCounts</code> on multiple samples\n",
    "---"
   ]
  },
  {
   "cell_type": "markdown",
   "metadata": {},
   "source": [
    "The above cell processed each sample file individually: each sorted bam generated by <code>samtools</code> is used as input by <code>featureCounts</code>, and we obtain one count file per sample. Those count files could be later joined in a single count matrix for the next step of analysis.   \n",
    "\n",
    "Alternatively, <code>featuresCounts</code> can handle multiple bam files at once, creating directly a single count matrix for all the samples.    \n",
    "This requires that all the sorted bam files are available as input for <code>featuresCounts</code>.    \n",
    "This was done beforehand for all 11 samples, by running the next 2 cells.   \n",
    "Code cell 14 runs <code>samtools</code> to generate (and keep!) the sorted bam files.   \n",
    "Code cell 16 runs <code>featuresCounts</code> only once, using the list of sorted bam filenames as input.  \n",
    "\n",
    "To run those cells in your own project, simply change their type from *Raw* to *Code*.\n"
   ]
  },
  {
   "cell_type": "raw",
   "metadata": {},
   "source": [
    "## (Code cell 13) ##\n",
    "\n",
    "logfile2=\"${logfolder}featureCounts-gene-level-counts_samplestogether-samtoolsSort.log\"\n",
    "echo \"Screen output is redirected to ${logfile2}\""
   ]
  },
  {
   "cell_type": "raw",
   "metadata": {},
   "source": [
    "## (Code cell 14) ##\n",
    "\n",
    "# as time command does not redirect output\n",
    "echo \"operation starts at $(date)\" >> ${logfile2}\n",
    "\n",
    "time for fn in $(ls \"${mappedfolder}\"*_Aligned.sortedByCoord.out.bam); do  \n",
    "    \n",
    "    mysortedbam=$(basename ${fn})\n",
    "    id=${mysortedbam/_Aligned.sortedByCoord.out.bam/}\n",
    "    echo \"===== Processing sampleID: ${id}...\" | tee -a ${logfile2}\n",
    "    \n",
    "    # outputfiles\n",
    "    mytempfile=\"${featcountfolder}${id}_Aligned.sortedByNames.bam\"\n",
    "\n",
    "    \n",
    "    # bam sorting...\n",
    "    echo \"samtools starts at $(date)\" >> ${logfile2}\n",
    "    samtools sort -n \\\n",
    "                --threads 3 -m 5G \\\n",
    "                --output-fmt BAM \\\n",
    "                -o ${mytempfile} \\\n",
    "                -T ${featcountfolder} \\\n",
    "                ${fn} \\\n",
    "                &>> ${logfile}\n",
    "    echo \"samtools ends at $(date)\" >> ${logfile2}\n",
    "\n",
    "done"
   ]
  },
  {
   "cell_type": "raw",
   "metadata": {},
   "source": [
    "## (Code cell 15) ##\n",
    "# second log file for the featureCounts steps\n",
    "\n",
    "logfile3=\"${logfolder}counts-gene-level-counts-3samplestogether_featureCounts.log\"\n",
    "echo \"Screen output is redirected to ${logfile3}\""
   ]
  },
  {
   "cell_type": "raw",
   "metadata": {},
   "source": [
    "## (Code cell 16) ##\n",
    "\n",
    "# creating the list of input filenames\n",
    "listSortedBam=$(ls \"${featcountfolder}\"*_Aligned.sortedByNames.bam)\n",
    "echo \"The list of input files is: ${listSortedBam}\" | tee -a ${logfile3}\n",
    "\n",
    "myoutfile=\"${featcountfolder}3samples_paired-unstranded\"\n",
    "\n",
    "echo \"The output file is: ${myoutfile}\" | tee -a ${logfile3}\n",
    "\n",
    "# then running featureCounts\n",
    "echo \"featureCounts starts at $(date)\" >> ${logfile3}\n",
    "\n",
    "featureCounts -p -s 0 -T 16 \\\n",
    "              -a \"${gtffile}\" \\\n",
    "              -o \"${myoutfile}.counts\" \\\n",
    "              ${listSortedBam} \\\n",
    "              --donotsort \\\n",
    "              --verbose \\\n",
    "              &>> ${logfile3}\n",
    "echo \"featureCounts ends at $(date)\" >> ${logfile3}\n",
    "       \n",
    "echo \"... done\" | tee -a ${logfile3}\n",
    "echo \"operation ends at $(date)\" >> ${logfile3}\n",
    "\n",
    "echo \"=== Files created after featureCounts ===\" >> ${logfile3}\n",
    "ls -lh \"${featcountfolder}\" >> ${logfile3}\n",
    "echo \"featureCounts generated $(ls \"${featcountfolder}\"*.counts | wc -l) count files.\" \\\n",
    "    | tee -a ${logfile3}\n",
    "echo \"featureCounts generated $(ls \"${featcountfolder}\"*.counts.summary | wc -l) summary files.\" \\\n",
    "    | tee -a ${logfile3}"
   ]
  },
  {
   "cell_type": "markdown",
   "metadata": {},
   "source": [
    "We can see the proportions of alignements that match a single gene (if default `featureCounts` parameters were kept) in the logfile and a research for specified patterns (`grep -e PATTERN`)."
   ]
  },
  {
   "cell_type": "raw",
   "metadata": {},
   "source": [
    "## Code cell 17 ##\n",
    "\n",
    "cat ${logfile3} | grep -e \"Successfully assigned alignments\" -e \"Process BAM\""
   ]
  },
  {
   "cell_type": "raw",
   "metadata": {},
   "source": [
    "## Code cell 18 ##\n",
    "\n",
    "# to have explanations\n",
    "echo \"summary file\"\n",
    "cat \"${myoutfile}.counts.summary\""
   ]
  },
  {
   "cell_type": "markdown",
   "metadata": {},
   "source": [
    "Let's have a look at the beginning of result files from featureCounts.   \n",
    "We retrieve a copy of the count for all samples in our own Results/featurecounts folder, and we display the two types of counts files."
   ]
  },
  {
   "cell_type": "code",
   "execution_count": 13,
   "metadata": {},
   "outputs": [
    {
     "name": "stdout",
     "output_type": "stream",
     "text": [
      "==> /shared/projects/2413_rnaseq_cea/cvandiedonck/Results/featurecounts/11samples_paired-unstranded.counts <==\n",
      "# Program:featureCounts v2.0.6; Command:\"featureCounts\" \"-p\" \"-s\" \"0\" \"-T\" \"16\" \"-a\" \"/shared/projects/2413_rnaseq_cea/alldata/Reference/extracted/genome_annotation-M35.gtf\" \"-o\" \"/shared/projects/2413_rnaseq_cea/alldata/Results/featurecounts/11samples_paired-unstranded.counts\" \"/shared/projects/2413_rnaseq_cea/alldata/Results/featurecounts/SRR12730403_Aligned.sortedByNames.bam\" \"/shared/projects/2413_rnaseq_cea/alldata/Results/featurecounts/SRR12730404_Aligned.sortedByNames.bam\" \"/shared/projects/2413_rnaseq_cea/alldata/Results/featurecounts/SRR12730405_Aligned.sortedByNames.bam\" \"/shared/projects/2413_rnaseq_cea/alldata/Results/featurecounts/SRR12730406_Aligned.sortedByNames.bam\" \"/shared/projects/2413_rnaseq_cea/alldata/Results/featurecounts/SRR12730407_Aligned.sortedByNames.bam\" \"/shared/projects/2413_rnaseq_cea/alldata/Results/featurecounts/SRR12730408_Aligned.sortedByNames.bam\" \"/shared/projects/2413_rnaseq_cea/alldata/Results/featurecounts/SRR12730409_Aligned.sortedByNames.bam\" \"/shared/projects/2413_rnaseq_cea/alldata/Results/featurecounts/SRR12730410_Aligned.sortedByNames.bam\" \"/shared/projects/2413_rnaseq_cea/alldata/Results/featurecounts/SRR12730411_Aligned.sortedByNames.bam\" \"/shared/projects/2413_rnaseq_cea/alldata/Results/featurecounts/SRR12730412_Aligned.sortedByNames.bam\" \"/shared/projects/2413_rnaseq_cea/alldata/Results/featurecounts/SRR12730413_Aligned.sortedByNames.bam\" \"--donotsort\" \"--verbose\" \n",
      "Geneid\tChr\tStart\tEnd\tStrand\tLength\t/shared/projects/2413_rnaseq_cea/alldata/Results/featurecounts/SRR12730403_Aligned.sortedByNames.bam\t/shared/projects/2413_rnaseq_cea/alldata/Results/featurecounts/SRR12730404_Aligned.sortedByNames.bam\t/shared/projects/2413_rnaseq_cea/alldata/Results/featurecounts/SRR12730405_Aligned.sortedByNames.bam\t/shared/projects/2413_rnaseq_cea/alldata/Results/featurecounts/SRR12730406_Aligned.sortedByNames.bam\t/shared/projects/2413_rnaseq_cea/alldata/Results/featurecounts/SRR12730407_Aligned.sortedByNames.bam\t/shared/projects/2413_rnaseq_cea/alldata/Results/featurecounts/SRR12730408_Aligned.sortedByNames.bam\t/shared/projects/2413_rnaseq_cea/alldata/Results/featurecounts/SRR12730409_Aligned.sortedByNames.bam\t/shared/projects/2413_rnaseq_cea/alldata/Results/featurecounts/SRR12730410_Aligned.sortedByNames.bam\t/shared/projects/2413_rnaseq_cea/alldata/Results/featurecounts/SRR12730411_Aligned.sortedByNames.bam\t/shared/projects/2413_rnaseq_cea/alldata/Results/featurecounts/SRR12730412_Aligned.sortedByNames.bam\t/shared/projects/2413_rnaseq_cea/alldata/Results/featurecounts/SRR12730413_Aligned.sortedByNames.bam\n",
      "ENSMUSG00000102693.2\tchr1\t3143476\t3144545\t+\t1070\t0\t0\t0\t0\t0\t0\t0\t0\t0\t0\t0\n",
      "ENSMUSG00000064842.3\tchr1\t3172239\t3172348\t+\t110\t0\t0\t0\t0\t0\t0\t0\t0\t0\t0\t0\n",
      "ENSMUSG00000051951.6\tchr1;chr1;chr1;chr1;chr1;chr1;chr1\t3276124;3276746;3283662;3283832;3284705;3491925;3740775\t3277540;3277540;3285855;3286567;3287191;3492124;3741721\t-;-;-;-;-;-;-\t6094\t0\t0\t0\t0\t0\t0\t0\t2\t0\t0\t0\n",
      "ENSMUSG00000102851.2\tchr1\t3322980\t3323459\t+\t480\t0\t0\t0\t0\t0\t0\t0\t0\t0\t0\t1\n",
      "ENSMUSG00000103377.2\tchr1\t3435954\t3438772\t-\t2819\t0\t0\t0\t0\t0\t0\t0\t0\t0\t0\t0\n",
      "ENSMUSG00000104017.2\tchr1\t3445779\t3448011\t-\t2233\t0\t0\t0\t0\t0\t0\t0\t0\t0\t0\t0\n",
      "\n",
      "==> /shared/projects/2413_rnaseq_cea/cvandiedonck/Results/featurecounts/SRR12730409_paired-unstranded.counts <==\n",
      "# Program:featureCounts v2.0.6; Command:\"featureCounts\" \"-p\" \"-s\" \"0\" \"-T\" \"4\" \"-a\" \"/shared/projects/2413_rnaseq_cea/alldata/Reference/extracted/genome_annotation-M35.gtf\" \"-o\" \"/shared/projects/2413_rnaseq_cea/cvandiedonck/Results/featurecounts/SRR12730409_paired-unstranded.counts\" \"/shared/projects/2413_rnaseq_cea/cvandiedonck/Results/featurecounts/SRR12730409_Aligned.sortedByNames.bam\" \"--donotsort\" \"--verbose\" \n",
      "Geneid\tChr\tStart\tEnd\tStrand\tLength\t/shared/projects/2413_rnaseq_cea/cvandiedonck/Results/featurecounts/SRR12730409_Aligned.sortedByNames.bam\n",
      "ENSMUSG00000102693.2\tchr1\t3143476\t3144545\t+\t1070\t0\n",
      "ENSMUSG00000064842.3\tchr1\t3172239\t3172348\t+\t110\t0\n",
      "ENSMUSG00000051951.6\tchr1;chr1;chr1;chr1;chr1;chr1;chr1\t3276124;3276746;3283662;3283832;3284705;3491925;3740775\t3277540;3277540;3285855;3286567;3287191;3492124;3741721\t-;-;-;-;-;-;-\t6094\t0\n",
      "ENSMUSG00000102851.2\tchr1\t3322980\t3323459\t+\t480\t0\n",
      "ENSMUSG00000103377.2\tchr1\t3435954\t3438772\t-\t2819\t0\n",
      "ENSMUSG00000104017.2\tchr1\t3445779\t3448011\t-\t2233\t0\n",
      "\n",
      "==> /shared/projects/2413_rnaseq_cea/cvandiedonck/Results/featurecounts/SRR12730410_paired-unstranded.counts <==\n",
      "# Program:featureCounts v2.0.6; Command:\"featureCounts\" \"-p\" \"-s\" \"0\" \"-T\" \"4\" \"-a\" \"/shared/projects/2413_rnaseq_cea/alldata/Reference/extracted/genome_annotation-M35.gtf\" \"-o\" \"/shared/projects/2413_rnaseq_cea/cvandiedonck/Results/featurecounts/SRR12730410_paired-unstranded.counts\" \"/shared/projects/2413_rnaseq_cea/cvandiedonck/Results/featurecounts/SRR12730410_Aligned.sortedByNames.bam\" \"--donotsort\" \"--verbose\" \n",
      "Geneid\tChr\tStart\tEnd\tStrand\tLength\t/shared/projects/2413_rnaseq_cea/cvandiedonck/Results/featurecounts/SRR12730410_Aligned.sortedByNames.bam\n",
      "ENSMUSG00000102693.2\tchr1\t3143476\t3144545\t+\t1070\t0\n",
      "ENSMUSG00000064842.3\tchr1\t3172239\t3172348\t+\t110\t0\n",
      "ENSMUSG00000051951.6\tchr1;chr1;chr1;chr1;chr1;chr1;chr1\t3276124;3276746;3283662;3283832;3284705;3491925;3740775\t3277540;3277540;3285855;3286567;3287191;3492124;3741721\t-;-;-;-;-;-;-\t6094\t2\n",
      "ENSMUSG00000102851.2\tchr1\t3322980\t3323459\t+\t480\t0\n",
      "ENSMUSG00000103377.2\tchr1\t3435954\t3438772\t-\t2819\t0\n",
      "ENSMUSG00000104017.2\tchr1\t3445779\t3448011\t-\t2233\t0\n",
      "\n",
      "==> /shared/projects/2413_rnaseq_cea/cvandiedonck/Results/featurecounts/SRR12730411_paired-unstranded.counts <==\n",
      "# Program:featureCounts v2.0.6; Command:\"featureCounts\" \"-p\" \"-s\" \"0\" \"-T\" \"4\" \"-a\" \"/shared/projects/2413_rnaseq_cea/alldata/Reference/extracted/genome_annotation-M35.gtf\" \"-o\" \"/shared/projects/2413_rnaseq_cea/cvandiedonck/Results/featurecounts/SRR12730411_paired-unstranded.counts\" \"/shared/projects/2413_rnaseq_cea/cvandiedonck/Results/featurecounts/SRR12730411_Aligned.sortedByNames.bam\" \"--donotsort\" \"--verbose\" \n",
      "Geneid\tChr\tStart\tEnd\tStrand\tLength\t/shared/projects/2413_rnaseq_cea/cvandiedonck/Results/featurecounts/SRR12730411_Aligned.sortedByNames.bam\n",
      "ENSMUSG00000102693.2\tchr1\t3143476\t3144545\t+\t1070\t0\n",
      "ENSMUSG00000064842.3\tchr1\t3172239\t3172348\t+\t110\t0\n",
      "ENSMUSG00000051951.6\tchr1;chr1;chr1;chr1;chr1;chr1;chr1\t3276124;3276746;3283662;3283832;3284705;3491925;3740775\t3277540;3277540;3285855;3286567;3287191;3492124;3741721\t-;-;-;-;-;-;-\t6094\t0\n",
      "ENSMUSG00000102851.2\tchr1\t3322980\t3323459\t+\t480\t0\n",
      "ENSMUSG00000103377.2\tchr1\t3435954\t3438772\t-\t2819\t0\n",
      "ENSMUSG00000104017.2\tchr1\t3445779\t3448011\t-\t2233\t0\n"
     ]
    }
   ],
   "source": [
    "## Code cell 19 ##\n",
    "\n",
    "cp ${gohome}alldata/Results/featurecounts/11samples_* ${gohome}$USER/Results/featurecounts/\n",
    "\n",
    "head -n 8 ${gohome}$USER/Results/featurecounts/*_paired-unstranded.counts"
   ]
  },
  {
   "cell_type": "markdown",
   "metadata": {},
   "source": [
    "As you can see, the genes are in rows and the counts in the samples are provided in the one-before-last column.   "
   ]
  },
  {
   "cell_type": "markdown",
   "metadata": {
    "tags": []
   },
   "source": [
    "---\n",
    "---\n",
    "## 2 - Pseudo-mapping with **Salmon**\n",
    "---"
   ]
  },
  {
   "cell_type": "markdown",
   "metadata": {},
   "source": [
    "### 2.1- Tool presentation\n",
    "---"
   ]
  },
  {
   "cell_type": "markdown",
   "metadata": {},
   "source": [
    "The **pseudomapping** or **pseudoalignement** is an alternative method of counting reads to transcripts and genes without prior mapping to a reference genome. It relies on prior indexation of all transcripts (rather than indexing the genome). Using theses indeces, reads are directly assigned to transcripts. This method does not generate BAM/SAM alignement files. It produces directly the matrix of counts for each transcript.\n",
    "\n",
    "The main advantages of this method is the speed and direct count of all transcript isoforms (only annotated ones). On the opposite, only annotated transcripts can be counted and it does not allow the discovery of new transcripts. It is also impossible to vizualize the alignments of the reads with visualization tools such as IGV.\n",
    "To quantify expression at the gene level, transcript counts can simply be aggregated (i.e summed) by genes.\n",
    "\n",
    "Two softwares are currently available with very similar characteristics and outputs, namely [Salmon](https://salmon.readthedocs.io/en/latest/index.html#) and [Kallisto](https://pachterlab.github.io/kallisto/). You can find a brief summary of both methods here: https://learn.gencore.bio.nyu.edu/rna-seq-analysis/salmon-kallisto-rapid-transcript-quantification-for-rna-seq-data/. Both methods are higly similar and provide same results (see blog of Lior Pachter: https://liorpachter.wordpress.com/2015/05/10/near-optimal-rna-seq-quantification-with-kallisto/ claming that Salmon copied Kallisto). Nonetheless, Salmon is somehow easier to use., soo we will use Salmon in this pipeline."
   ]
  },
  {
   "cell_type": "markdown",
   "metadata": {},
   "source": [
    "To use **Salmon** (documentation here: https://salmon.readthedocs.io/en/latest/index.html), two main steps are necessary:\n",
    "\n",
    "**1. build the ***gentrome*** index**:\n",
    "Gentrome is a contraction for genome and transcriptome. The `gentrome.fa` is a new hybrid fasta file which contains the decoy sequences from the genome, concatenated with the transcriptome, following the indications provided by the annotation file.\n",
    "\n",
    "The basic command to generate the index on the gentrome sequence is:\n",
    "<code> salmon index -t gentrome.fa.gz -i salmon_annot_index --gencode</code>\n",
    "\n",
    "**2. run pseudo-alignement of reads** :\n",
    "\n",
    "The generic command is:\n",
    "\n",
    "salmon quant -i <salmon_index> -l <lib_type> -1 <read_1.fastq> -2 <read_2.fastq> -o <output_dir>\n",
    "\n",
    "<code>salmon quant -i salmon_annot_index \\\n",
    "         -l A \\\n",
    "         -1 sampleID_R1_fastp.fastq.gz \\\n",
    "         -2 sampleID_R2_fastp.fastq.gz \\\n",
    "\t --validateMappings \\\n",
    "\t -o output_dir</code>\n",
    "     \n",
    "The main options above are:\n",
    "- `-i` : to specify the ngentrome index file\n",
    "- `-l` : to specify the library type with the argument `A` to let Salmon infer it, or manually specifying the orientation (I = inward, O = outward, M = matching), the strandedness (S = stranded, U = unstranded) and the strand from which the read originates in a strand-specific protocol (F = read 1 comes from the forward strand, R = read 1 comes from the reverse strand)\n",
    "\n",
    "Among other options that can be used, we higlight two of them:\n",
    "- `-p` : to specify the number of threads, we will use it.\n",
    "- `--numBootstraps` : to optionally compute bootstrapped abundance estimates. This is very time consuming as it is done by resampling (with replacement) from the counts assigned to the fragment equivalence classes, and then re-running the optimization procedure,for each such sample. It is used to assess technical variance in the main abundance estimates. The more samples computed, the better the estimates of variance, but the more computation (and time) required. We are not using it.\n",
    "\n",
    "\n",
    "\n",
    "For each sample, we obtain a folder in salmon _res_folder with `quant.sf` as main output. This file contains ***TPM (transcripts per million)*** and read count for each transcript ID in rows.\n",
    "\n",
    "<div class=\"alert alert-block alert-danger\">Caution, TPM are not integger values. It may have implications for downstream analyses.</div>"
   ]
  },
  {
   "cell_type": "markdown",
   "metadata": {},
   "source": [
    "---\n",
    "### 2.2- Step preparation\n",
    "---"
   ]
  },
  {
   "cell_type": "markdown",
   "metadata": {},
   "source": [
    "- We check the version of Salmon we are using:"
   ]
  },
  {
   "cell_type": "code",
   "execution_count": 14,
   "metadata": {},
   "outputs": [
    {
     "name": "stdout",
     "output_type": "stream",
     "text": [
      "salmon 1.10.2\n"
     ]
    }
   ],
   "source": [
    "## Code cell 20 ##\n",
    "\n",
    "salmon -v"
   ]
  },
  {
   "cell_type": "markdown",
   "metadata": {},
   "source": [
    "- We precise the folder where the Salmon pseudo-alignments will be saved:"
   ]
  },
  {
   "cell_type": "code",
   "execution_count": 15,
   "metadata": {},
   "outputs": [
    {
     "name": "stdout",
     "output_type": "stream",
     "text": [
      "The resulting salmon files will be in /shared/projects/2413_rnaseq_cea/cvandiedonck/Results/salmon/\n"
     ]
    }
   ],
   "source": [
    "## Code cell 21 ##\n",
    "\n",
    "salmonfolder=\"${gohome}$USER/Results/salmon/\"\n",
    "mkdir -p ${salmonfolder}\n",
    "echo \"The resulting salmon files will be in ${salmonfolder}\""
   ]
  },
  {
   "cell_type": "markdown",
   "metadata": {
    "tags": []
   },
   "source": [
    "- and for Salmon pseudomapping, we will also need to generate a folder with the indexing of the transcripts, so we remember the path `Reference` including all reference sequences and annotations (we use the common file in the `alldata` folder):"
   ]
  },
  {
   "cell_type": "code",
   "execution_count": 16,
   "metadata": {},
   "outputs": [
    {
     "name": "stdout",
     "output_type": "stream",
     "text": [
      "The general folder for reference genome, annotations and index files is /shared/projects/2413_rnaseq_cea/alldata/Reference/\n",
      "The index folder for Salmon is /shared/projects/2413_rnaseq_cea/alldata/Reference//salmon/\n"
     ]
    }
   ],
   "source": [
    "## Code cell 22 ##\n",
    "\n",
    "reffolder=\"${gohome}alldata/Reference/\"\n",
    "# mkdir -p ${reffolder}\n",
    "echo \"The general folder for reference genome, annotations and index files is ${reffolder}\"\n",
    "\n",
    "\n",
    "salmonreffolder=\"${reffolder}/salmon/\"\n",
    "# mkdir -p ${salmonreffolder}\n",
    "echo \"The index folder for Salmon is ${salmonreffolder}\""
   ]
  },
  {
   "cell_type": "markdown",
   "metadata": {
    "tags": []
   },
   "source": [
    "- finally, for Salmon pseudomapping, we will also need to specify the path to our input files, i.e, the fastq files after fastp quality control:"
   ]
  },
  {
   "cell_type": "code",
   "execution_count": 17,
   "metadata": {},
   "outputs": [
    {
     "name": "stdout",
     "output_type": "stream",
     "text": [
      "The analysed fastp.fastq files are in /shared/projects/2413_rnaseq_cea/cvandiedonck/Results/fastp/\n",
      "and they are:\n",
      "SRR12730409_1.fastp.fastq.gz\n",
      "SRR12730409_2.fastp.fastq.gz\n",
      "SRR12730409_fastp.html\n",
      "SRR12730409_fastp.json\n",
      "SRR12730410_1.fastp.fastq.gz\n",
      "SRR12730410_2.fastp.fastq.gz\n",
      "SRR12730410_fastp.html\n",
      "SRR12730410_fastp.json\n",
      "SRR12730411_1.fastp.fastq.gz\n",
      "SRR12730411_2.fastp.fastq.gz\n",
      "SRR12730411_fastp.html\n",
      "SRR12730411_fastp.json\n"
     ]
    }
   ],
   "source": [
    "## Code cell 23 ##\n",
    "\n",
    "fastpfolder=\"${gohome}$USER/Results/fastp/\"\n",
    "echo \"The analysed fastp.fastq files are in ${fastpfolder}\"\n",
    "echo \"and they are:\"\n",
    "ls ${fastpfolder} | grep -v -e \"_removed\" \n",
    "\n",
    "#| wc -l"
   ]
  },
  {
   "cell_type": "markdown",
   "metadata": {},
   "source": [
    "- an of course, we do not forget the log file !"
   ]
  },
  {
   "cell_type": "code",
   "execution_count": 18,
   "metadata": {},
   "outputs": [
    {
     "name": "stdout",
     "output_type": "stream",
     "text": [
      "Screen output is redirected to /shared/projects/2413_rnaseq_cea/cvandiedonck/Results/logfiles/Salmon.log\n"
     ]
    }
   ],
   "source": [
    "## Code cell 24 ##\n",
    "\n",
    "logfile4=\"${logfolder}Salmon.log\"\n",
    "echo \"Screen output is redirected to ${logfile4}\""
   ]
  },
  {
   "cell_type": "markdown",
   "metadata": {
    "tags": []
   },
   "source": [
    "---\n",
    "### 2.3- Run Salmon\n",
    "---\n",
    "\n",
    "#### 2.3.1. Build the gentrome index\n",
    "\n",
    "\n",
    "To gain time and preserve space, we already performed this step and the results are available for eveyone in the alldata folder."
   ]
  },
  {
   "cell_type": "markdown",
   "metadata": {
    "tags": []
   },
   "source": [
    "- obtain the **transcriptome sequences**\n"
   ]
  },
  {
   "cell_type": "raw",
   "metadata": {
    "tags": []
   },
   "source": [
    "## (Code cell 24) ##\n",
    "\n",
    "# For Mus musculus release M35 (latest,June 2024) on GRCm39:\n",
    "\n",
    "transcriptgzurl=\"https://ftp.ebi.ac.uk/pub/databases/gencode/Gencode_mouse/release_M35/gencode.vM35.transcripts.fa.gz\"\n",
    "\n",
    "echo \"===== Transcript file retrieval ...\" >> ${logfile4}\n",
    "wget -P \"${reffolder}\" -N \"${transcriptgzurl}\"\n",
    "echo \"... done\" >> ${logfile4}"
   ]
  },
  {
   "cell_type": "raw",
   "metadata": {
    "tags": []
   },
   "source": [
    "## (Code cell 25) ##\n",
    "\n",
    "transcriptfile=\"${reffolder}gencode.vM35.transcripts.fa.gz\"\n",
    "\n",
    "echo \"The transcript reference files is ${transcriptfile}\""
   ]
  },
  {
   "cell_type": "markdown",
   "metadata": {
    "tags": []
   },
   "source": [
    "- obtain the **genome sequence** *(already done in Pipe 04)*"
   ]
  },
  {
   "cell_type": "raw",
   "metadata": {
    "tags": []
   },
   "source": [
    "## (Code cell 26) ##\n",
    "\n",
    "# For Mus musculus release M35 (latest,June 2024) on GRCm39:\n",
    "fagzurl=\"https://ftp.ebi.ac.uk/pub/databases/gencode/Gencode_mouse/release_M35/GRCm39.primary_assembly.genome.fa.gz\"\n",
    "\n",
    "echo \"===== Genome sequence retrieval ...\" >> ${logfile4}\n",
    "wget -P \"${reffolder}\" -N \"${fagzurl}\"\n",
    "echo \"... done\" >> ${logfile4}"
   ]
  },
  {
   "cell_type": "raw",
   "metadata": {
    "tags": []
   },
   "source": [
    "## (Code cell 27) ##\n",
    "\n",
    "fagzfile=\"${reffolder}GRCm39.primary_assembly.genome.fa.gz\"\n",
    "\n",
    "echo \"The genome reference file is ${fagzfile}\""
   ]
  },
  {
   "cell_type": "markdown",
   "metadata": {
    "tags": []
   },
   "source": [
    "- **concatenate transcript sequences and genome sequence** :"
   ]
  },
  {
   "cell_type": "raw",
   "metadata": {
    "tags": []
   },
   "source": [
    "## (Code cell 28) ##\n",
    "\n",
    "gentromefile=\"${salmonreffolder}gentrome.fa.gz\"\n",
    "cat ${transcriptfile} ${fagzfile} > ${gentromefile}\n",
    "ls -la ${salmonreffolder}\n",
    "\n",
    "#cat gencode.vM35.transcripts.fa.gz GRCm39.primary_assembly.genome.fa.gz > gentrome.fa.gz"
   ]
  },
  {
   "cell_type": "markdown",
   "metadata": {
    "tags": []
   },
   "source": [
    "- extract the **name of contigs of the genome sequence** (headers of fasta sequences)\n",
    "\n",
    "Salmon recommands to use a selective alignment with a decoy-aware transcriptome, to mitigate potential spurious mapping of reads that actually arise from some unannotated genomic locus that is sequence-similar to an annotated transcriptome. Thus, decoy sequences will improve the quality of the pseudomammping.\n",
    "\n",
    "There are actually two methods for generating decoyed sequences, as specified in the documentation of Salmon. Here we use the second one, meaning the entire genome of the organism is used as the decoy sequence."
   ]
  },
  {
   "cell_type": "raw",
   "metadata": {
    "tags": []
   },
   "source": [
    "## (Code cell 29) ##\n",
    "\n",
    "decoy=\"${salmonreffolder}decoys.txt\"\n",
    "\n",
    "grep \"^>\" <(gunzip -c ${fagzfile}) | cut -d \" \" -f 1 > ${decoy}\n",
    "sed -i.bak -e 's/>//g' ${decoy}"
   ]
  },
  {
   "cell_type": "markdown",
   "metadata": {
    "tags": []
   },
   "source": [
    "- **transcriptome indexation** with the basic command (for mouse genome version 39):\n",
    "\n",
    "We choose the kmer size of 31 as recommanded in Salmon documentation for reads of at least 75 bases."
   ]
  },
  {
   "cell_type": "raw",
   "metadata": {
    "tags": []
   },
   "source": [
    "## (Code cell 30) ##\n",
    "\n",
    "salmonindex=\"${salmonreffolder}salmon_vM35_index\"\n",
    "\n",
    "salmon index -t ${gentromefile}  \\\n",
    "             -i ${salmonindex} \\ \n",
    "             --decoys ${decoy} \\\n",
    "             --gencode \\\n",
    "             -k 31 \\\n",
    "             -p 18"
   ]
  },
  {
   "cell_type": "markdown",
   "metadata": {},
   "source": [
    "#### 2.3.1. Run the pseudoalignment"
   ]
  },
  {
   "cell_type": "code",
   "execution_count": 19,
   "metadata": {},
   "outputs": [
    {
     "name": "stdout",
     "output_type": "stream",
     "text": [
      "Screen output is redirected to /shared/projects/2413_rnaseq_cea/cvandiedonck/Results/logfiles/Salmon.log\n",
      "before loop\n",
      "starting the loop with /shared/projects/2413_rnaseq_cea/cvandiedonck/Results/fastp/SRR12730409_1.fastp.fastq.gz\n",
      "====== Processing sampleID: SRR12730409...\n",
      "Version Server Response: Not Found\n",
      "### salmon (selective-alignment-based) v1.10.2\n",
      "### [ program ] => salmon \n",
      "### [ command ] => quant \n",
      "### [ index ] => { /shared/projects/2413_rnaseq_cea/alldata/Reference//salmon/salmon_vM35_index }\n",
      "### [ libType ] => { A }\n",
      "### [ mates1 ] => { /shared/projects/2413_rnaseq_cea/cvandiedonck/Results/fastp/SRR12730409_1.fastp.fastq.gz }\n",
      "### [ mates2 ] => { /shared/projects/2413_rnaseq_cea/cvandiedonck/Results/fastp/SRR12730409_2.fastp.fastq.gz }\n",
      "### [ validateMappings ] => { }\n",
      "### [ threads ] => { 4 }\n",
      "### [ output ] => { /shared/projects/2413_rnaseq_cea/cvandiedonck/Results/salmon/SRR12730409 }\n",
      "Logs will be written to /shared/projects/2413_rnaseq_cea/cvandiedonck/Results/salmon/SRR12730409/logs\n",
      "[2024-06-18 20:58:02.739] [jointLog] [info] setting maxHashResizeThreads to 4\n",
      "[2024-06-18 20:58:02.739] [jointLog] [info] Fragment incompatibility prior below threshold.  Incompatible fragments will be ignored.\n",
      "[2024-06-18 20:58:02.739] [jointLog] [info] Usage of --validateMappings implies use of minScoreFraction. Since not explicitly specified, it is being set to 0.65\n",
      "[2024-06-18 20:58:02.739] [jointLog] [info] Setting consensusSlack to selective-alignment default of 0.35.\n",
      "[2024-06-18 20:58:02.739] [jointLog] [info] parsing read library format\n",
      "[2024-06-18 20:58:02.739] [jointLog] [info] There is 1 library.\n",
      "[2024-06-18 20:58:02.740] [jointLog] [info] Loading pufferfish index\n",
      "[2024-06-18 20:58:02.741] [jointLog] [info] Loading dense pufferfish index.\n",
      "-----------------------------------------\n",
      "| Loading contig table | Time = 24.148 s\n",
      "-----------------------------------------\n",
      "size = 25108302\n",
      "-----------------------------------------\n",
      "| Loading contig offsets | Time = 222.86 ms\n",
      "-----------------------------------------\n",
      "-----------------------------------------\n",
      "| Loading reference lengths | Time = 19.252 ms\n",
      "-----------------------------------------\n",
      "-----------------------------------------\n",
      "| Loading mphf table | Time = 2.5767 s\n",
      "-----------------------------------------\n",
      "size = 3025387350\n",
      "Number of ones: 25108301\n",
      "Number of ones per inventory item: 512\n",
      "Inventory entries filled: 49040\n",
      "-----------------------------------------\n",
      "| Loading contig boundaries | Time = 6.4015 s\n",
      "-----------------------------------------\n",
      "size = 3025387350\n",
      "-----------------------------------------\n",
      "| Loading sequence | Time = 1.4285 s\n",
      "-----------------------------------------\n",
      "size = 2272138320\n",
      "-----------------------------------------\n",
      "| Loading positions | Time = 19.306 s\n",
      "-----------------------------------------\n",
      "size = 2977721149\n",
      "-----------------------------------------\n",
      "| Loading reference sequence | Time = 1.7637 s\n",
      "-----------------------------------------\n",
      "-----------------------------------------\n",
      "| Loading reference accumulative lengths | Time = 73.73 ms\n",
      "-----------------------------------------\n",
      "[2024-06-18 20:58:58.886] [jointLog] [info] done\n",
      "\n",
      "\n",
      "\n",
      "\n",
      "[2024-06-18 20:58:59.388] [jointLog] [info] Index contained 147,617 targets\n",
      "[2024-06-18 20:58:59.439] [jointLog] [info] Number of decoys : 61\n",
      "[2024-06-18 20:58:59.439] [jointLog] [info] First decoy index : 147,519 \n",
      "[2024-06-18 20:59:01.141] [jointLog] [info] Automatically detected most likely library type as IU\n",
      "\n",
      "\u001b[A\u001b[32mprocessed\u001b[31m 500,000 \u001b[32mfragments\u001b[0m\n",
      "hits: 1,146,761, hits per frag:  2.35224\u001b[A\u001b[32mprocessed\u001b[31m 1,000,000 \u001b[32mfragments\u001b[0m\n",
      "hits: 2,266,889, hits per frag:  2.2761\u001b[A\u001b[32mprocessed\u001b[31m 1,500,000 \u001b[32mfragments\u001b[0m\n",
      "hits: 3,379,621, hits per frag:  2.26148\u001b[A\u001b[32mprocessed\u001b[31m 2,000,000 \u001b[32mfragments\u001b[0m\n",
      "hits: 4,460,147, hits per frag:  2.23262\u001b[A\u001b[32mprocessed\u001b[31m 2,500,000 \u001b[32mfragments\u001b[0m\n",
      "hits: 5,584,562, hits per frag:  2.23877\u001b[A\u001b[32mprocessed\u001b[31m 3,000,000 \u001b[32mfragments\u001b[0m\n",
      "hits: 6,712,089, hits per frag:  2.23831\u001b[A\u001b[32mprocessed\u001b[31m 3,500,000 \u001b[32mfragments\u001b[0m\n",
      "hits: 7,788,447, hits per frag:  2.23128\u001b[A\u001b[32mprocessed\u001b[31m 4,000,001 \u001b[32mfragments\u001b[0m\n",
      "hits: 8,928,292, hits per frag:  2.2371\u001b[A\u001b[32mprocessed\u001b[31m 4,500,000 \u001b[32mfragments\u001b[0m\n",
      "hits: 10,080,700, hits per frag:  2.24358\u001b[A\u001b[32mprocessed\u001b[31m 5,000,000 \u001b[32mfragments\u001b[0m\n",
      "hits: 11,208,547, hits per frag:  2.24633\u001b[A\u001b[32mprocessed\u001b[31m 5,500,000 \u001b[32mfragments\u001b[0m\n",
      "hits: 12,407,616, hits per frag:  2.26035\u001b[A\u001b[32mprocessed\u001b[31m 6,000,000 \u001b[32mfragments\u001b[0m\n",
      "hits: 13,505,460, hits per frag:  2.2535\u001b[A\u001b[32mprocessed\u001b[31m 6,500,000 \u001b[32mfragments\u001b[0m\n",
      "hits: 14,637,389, hits per frag:  2.25408\u001b[A\u001b[32mprocessed\u001b[31m 7,000,000 \u001b[32mfragments\u001b[0m\n",
      "hits: 15,739,106, hits per frag:  2.24928\u001b[A\u001b[32mprocessed\u001b[31m 7,500,000 \u001b[32mfragments\u001b[0m\n",
      "hits: 16,861,216, hits per frag:  2.25377\u001b[A\u001b[32mprocessed\u001b[31m 8,000,000 \u001b[32mfragments\u001b[0m\n",
      "hits: 17,939,685, hits per frag:  2.24411\u001b[A\u001b[32mprocessed\u001b[31m 8,500,000 \u001b[32mfragments\u001b[0m\n",
      "hits: 19,067,265, hits per frag:  2.24677\u001b[A\u001b[32mprocessed\u001b[31m 9,000,000 \u001b[32mfragments\u001b[0m\n",
      "hits: 20,211,879, hits per frag:  2.24836\u001b[A\u001b[32mprocessed\u001b[31m 9,500,000 \u001b[32mfragments\u001b[0m\n",
      "hits: 21,313,742, hits per frag:  2.24688\u001b[A\u001b[32mprocessed\u001b[31m 10,000,000 \u001b[32mfragments\u001b[0m\n",
      "hits: 22,433,422, hits per frag:  2.24442\u001b[A\u001b[32mprocessed\u001b[31m 10,500,000 \u001b[32mfragments\u001b[0m\n",
      "hits: 23,571,373, hits per frag:  2.24616\u001b[A\u001b[32mprocessed\u001b[31m 11,000,000 \u001b[32mfragments\u001b[0m\n",
      "hits: 24,638,389, hits per frag:  2.24262\u001b[A\u001b[32mprocessed\u001b[31m 11,500,001 \u001b[32mfragments\u001b[0m\n",
      "hits: 25,633,471, hits per frag:  2.23009\u001b[A\u001b[32mprocessed\u001b[31m 12,000,000 \u001b[32mfragments\u001b[0m\n",
      "hits: 26,848,644, hits per frag:  2.23844\u001b[A\u001b[32mprocessed\u001b[31m 12,500,000 \u001b[32mfragments\u001b[0m\n",
      "hits: 27,889,545, hits per frag:  2.23344\u001b[A\u001b[32mprocessed\u001b[31m 13,000,000 \u001b[32mfragments\u001b[0m\n",
      "hits: 28,975,913, hits per frag:  2.22941\u001b[A\u001b[32mprocessed\u001b[31m 13,500,000 \u001b[32mfragments\u001b[0m\n",
      "hits: 30,058,876, hits per frag:  2.22879\u001b[A\u001b[32mprocessed\u001b[31m 14,000,001 \u001b[32mfragments\u001b[0m\n",
      "hits: 31,218,860, hits per frag:  2.23104\u001b[A\u001b[32mprocessed\u001b[31m 14,500,000 \u001b[32mfragments\u001b[0m\n",
      "hits: 32,334,376, hits per frag:  2.23107\u001b[A\u001b[32mprocessed\u001b[31m 15,000,001 \u001b[32mfragments\u001b[0m\n",
      "hits: 33,410,499, hits per frag:  2.22967\u001b[A\u001b[32mprocessed\u001b[31m 15,500,000 \u001b[32mfragments\u001b[0m\n",
      "hits: 34,492,705, hits per frag:  2.22722\u001b[A\u001b[32mprocessed\u001b[31m 16,000,000 \u001b[32mfragments\u001b[0m\n",
      "hits: 35,576,166, hits per frag:  2.22475\u001b[A\u001b[32mprocessed\u001b[31m 16,500,002 \u001b[32mfragments\u001b[0m\n",
      "hits: 36,607,300, hits per frag:  2.21956\u001b[A\u001b[32mprocessed\u001b[31m 17,000,000 \u001b[32mfragments\u001b[0m\n",
      "hits: 37,750,420, hits per frag:  2.22125\u001b[A\u001b[32mprocessed\u001b[31m 17,500,000 \u001b[32mfragments\u001b[0m\n",
      "hits: 38,937,686, hits per frag:  2.22695\u001b[A\u001b[32mprocessed\u001b[31m 18,000,000 \u001b[32mfragments\u001b[0m\n",
      "hits: 40,006,660, hits per frag:  2.22344\u001b[A\u001b[32mprocessed\u001b[31m 18,500,000 \u001b[32mfragments\u001b[0m\n",
      "hits: 41,016,846, hits per frag:  2.218\u001b[A\u001b[32mprocessed\u001b[31m 19,000,000 \u001b[32mfragments\u001b[0m\n",
      "hits: 42,156,896, hits per frag:  2.21897\u001b[A\u001b[32mprocessed\u001b[31m 19,500,001 \u001b[32mfragments\u001b[0m\n",
      "hits: 43,247,600, hits per frag:  2.21956\u001b[A\u001b[32mprocessed\u001b[31m 20,000,001 \u001b[32mfragments\u001b[0m\n",
      "hits: 44,324,129, hits per frag:  2.21695\u001b[A\u001b[32mprocessed\u001b[31m 20,500,001 \u001b[32mfragments\u001b[0m\n",
      "hits: 45,366,583, hits per frag:  2.2147\u001b[A\u001b[32mprocessed\u001b[31m 21,000,000 \u001b[32mfragments\u001b[0m\n",
      "hits: 46,350,026, hits per frag:  2.20787\u001b[A\u001b[32mprocessed\u001b[31m 21,500,000 \u001b[32mfragments\u001b[0m\n",
      "hits: 47,384,647, hits per frag:  2.20508\u001b[A\u001b[32mprocessed\u001b[31m 22,000,000 \u001b[32mfragments\u001b[0m\n",
      "hits: 48,513,039, hits per frag:  2.20849\u001b[A\u001b[32mprocessed\u001b[31m 22,500,001 \u001b[32mfragments\u001b[0m\n",
      "hits: 49,612,688, hits per frag:  2.20665\u001b[A\u001b[32mprocessed\u001b[31m 23,000,001 \u001b[32mfragments\u001b[0m\n",
      "hits: 50,716,976, hits per frag:  2.20626\u001b[A\u001b[32mprocessed\u001b[31m 23,500,000 \u001b[32mfragments\u001b[0m\n",
      "hits: 51,706,127, hits per frag:  2.20139\u001b[A\u001b[32mprocessed\u001b[31m 24,000,000 \u001b[32mfragments\u001b[0m\n",
      "hits: 52,769,577, hits per frag:  2.19987\u001b[A\u001b[32mprocessed\u001b[31m 24,500,000 \u001b[32mfragments\u001b[0m\n",
      "hits: 53,664,202, hits per frag:  2.1912\u001b[A\u001b[32mprocessed\u001b[31m 25,000,000 \u001b[32mfragments\u001b[0m\n",
      "hits: 54,602,632, hits per frag:  2.18416\u001b[A\u001b[32mprocessed\u001b[31m 25,500,000 \u001b[32mfragments\u001b[0m\n",
      "hits: 55,570,943, hits per frag:  2.17968\u001b[A\u001b[32mprocessed\u001b[31m 26,000,000 \u001b[32mfragments\u001b[0m\n",
      "hits: 56,526,960, hits per frag:  2.17465\u001b[A\u001b[32mprocessed\u001b[31m 26,500,001 \u001b[32mfragments\u001b[0m\n",
      "hits: 57,649,325, hits per frag:  2.17646\u001b[A\u001b[32mprocessed\u001b[31m 27,000,000 \u001b[32mfragments\u001b[0m\n",
      "hits: 58,806,119, hits per frag:  2.17823\u001b[A\u001b[32mprocessed\u001b[31m 27,500,000 \u001b[32mfragments\u001b[0m\n",
      "hits: 59,927,967, hits per frag:  2.17935\u001b[A\u001b[32mprocessed\u001b[31m 28,000,000 \u001b[32mfragments\u001b[0m\n",
      "hits: 61,128,737, hits per frag:  2.18365\u001b[A\u001b[32mprocessed\u001b[31m 28,500,000 \u001b[32mfragments\u001b[0m\n",
      "hits: 62,243,052, hits per frag:  2.18445\u001b[A\u001b[32mprocessed\u001b[31m 29,000,000 \u001b[32mfragments\u001b[0m\n",
      "hits: 63,365,318, hits per frag:  2.18607\u001b[A\u001b[32mprocessed\u001b[31m 29,500,000 \u001b[32mfragments\u001b[0m\n",
      "hits: 64,322,233, hits per frag:  2.18194\u001b[A\u001b[32mprocessed\u001b[31m 30,000,000 \u001b[32mfragments\u001b[0m\n",
      "hits: 65,436,615, hits per frag:  2.18168\u001b[A\u001b[32mprocessed\u001b[31m 30,500,000 \u001b[32mfragments\u001b[0m\n",
      "hits: 66,445,994, hits per frag:  2.18114\u001b[A\u001b[32mprocessed\u001b[31m 31,000,000 \u001b[32mfragments\u001b[0m\n",
      "hits: 67,572,977, hits per frag:  2.18133\u001b[A\u001b[32mprocessed\u001b[31m 31,500,000 \u001b[32mfragments\u001b[0m\n",
      "hits: 68,657,965, hits per frag:  2.18012\u001b[A\u001b[32mprocessed\u001b[31m 32,000,000 \u001b[32mfragments\u001b[0m\n",
      "hits: 69,800,191, hits per frag:  2.18168\u001b[A\u001b[32mprocessed\u001b[31m 32,500,000 \u001b[32mfragments\u001b[0m\n",
      "hits: 70,871,709, hits per frag:  2.18175\u001b[A\u001b[32mprocessed\u001b[31m 33,000,000 \u001b[32mfragments\u001b[0m\n",
      "hits: 72,001,548, hits per frag:  2.18189\u001b[A\u001b[32mprocessed\u001b[31m 33,500,001 \u001b[32mfragments\u001b[0m\n",
      "hits: 73,127,901, hits per frag:  2.183\u001b[A\u001b[32mprocessed\u001b[31m 34,000,000 \u001b[32mfragments\u001b[0m\n",
      "hits: 74,201,964, hits per frag:  2.18361\u001b[A\u001b[32mprocessed\u001b[31m 34,500,000 \u001b[32mfragments\u001b[0m\n",
      "hits: 75,214,790, hits per frag:  2.18116\u001b[A\u001b[32mprocessed\u001b[31m 35,000,000 \u001b[32mfragments\u001b[0m\n",
      "hits: 76,330,146, hits per frag:  2.18091\u001b[A\u001b[32mprocessed\u001b[31m 35,500,000 \u001b[32mfragments\u001b[0m\n",
      "hits: 77,448,407, hits per frag:  2.18166\u001b[A\u001b[32mprocessed\u001b[31m 36,000,000 \u001b[32mfragments\u001b[0m\n",
      "hits: 78,571,251, hits per frag:  2.18349\u001b[A\u001b[32mprocessed\u001b[31m 36,500,000 \u001b[32mfragments\u001b[0m\n",
      "hits: 79,647,864, hits per frag:  2.18287\u001b[A\u001b[32mprocessed\u001b[31m 37,000,000 \u001b[32mfragments\u001b[0m\n",
      "hits: 80,745,534, hits per frag:  2.18235\u001b[A\u001b[32mprocessed\u001b[31m 37,500,000 \u001b[32mfragments\u001b[0m\n",
      "hits: 81,796,286, hits per frag:  2.18174\u001b[A\u001b[32mprocessed\u001b[31m 38,000,000 \u001b[32mfragments\u001b[0m\n",
      "hits: 82,845,056, hits per frag:  2.18076\n",
      "\n",
      "\n",
      "\n",
      "\n",
      "\n",
      "\n",
      "\n",
      "[2024-06-18 21:16:41.266] [jointLog] [info] Computed 344,937 rich equivalence classes for further processing\n",
      "[2024-06-18 21:16:41.266] [jointLog] [info] Counted 28,788,645 total reads in the equivalence classes \n",
      "[2024-06-18 21:16:41.270] [jointLog] [info] Number of mappings discarded because of alignment score : 69,021,761\n",
      "[2024-06-18 21:16:41.270] [jointLog] [info] Number of fragments entirely discarded because of alignment score : 7,160,477\n",
      "[2024-06-18 21:16:41.270] [jointLog] [info] Number of fragments discarded because they are best-mapped to decoys : 1,045,152\n",
      "[2024-06-18 21:16:41.270] [jointLog] [info] Number of fragments discarded because they have only dovetail (discordant) mappings to valid targets : 272,999\n",
      "[2024-06-18 21:16:41.270] [jointLog] [info] Mapping rate = 75.3482%\n",
      "\n",
      "[2024-06-18 21:16:41.270] [jointLog] [info] finished quantifyLibrary()\n",
      "[2024-06-18 21:16:41.271] [jointLog] [info] Starting optimizer\n",
      "[2024-06-18 21:16:41.496] [jointLog] [info] Marked 0 weighted equivalence classes as degenerate\n",
      "[2024-06-18 21:16:41.516] [jointLog] [info] iteration = 0 | max rel diff. = 8186.92\n",
      "[2024-06-18 21:16:43.366] [jointLog] [info] iteration = 100 | max rel diff. = 11.1554\n",
      "[2024-06-18 21:16:45.208] [jointLog] [info] iteration = 200 | max rel diff. = 4.04927\n",
      "[2024-06-18 21:16:47.048] [jointLog] [info] iteration = 300 | max rel diff. = 2.33133\n",
      "[2024-06-18 21:16:48.889] [jointLog] [info] iteration = 400 | max rel diff. = 0.183276\n",
      "[2024-06-18 21:16:50.733] [jointLog] [info] iteration = 500 | max rel diff. = 15.0921\n",
      "[2024-06-18 21:16:52.579] [jointLog] [info] iteration = 600 | max rel diff. = 2.75361\n",
      "[2024-06-18 21:16:54.421] [jointLog] [info] iteration = 700 | max rel diff. = 0.187294\n",
      "[2024-06-18 21:16:56.261] [jointLog] [info] iteration = 800 | max rel diff. = 0.0502365\n",
      "[2024-06-18 21:16:58.107] [jointLog] [info] iteration = 900 | max rel diff. = 0.0964888\n",
      "[2024-06-18 21:16:59.954] [jointLog] [info] iteration = 1,000 | max rel diff. = 4.33307\n",
      "[2024-06-18 21:17:01.807] [jointLog] [info] iteration = 1,100 | max rel diff. = 0.0397424\n",
      "[2024-06-18 21:17:03.650] [jointLog] [info] iteration = 1,200 | max rel diff. = 0.205564\n",
      "[2024-06-18 21:17:04.902] [jointLog] [info] iteration = 1,269 | max rel diff. = 0.00428954\n",
      "[2024-06-18 21:17:04.913] [jointLog] [info] Finished optimizer\n",
      "[2024-06-18 21:17:04.913] [jointLog] [info] writing output \n",
      "\n",
      "...done\n",
      "starting the loop with /shared/projects/2413_rnaseq_cea/cvandiedonck/Results/fastp/SRR12730410_1.fastp.fastq.gz\n",
      "====== Processing sampleID: SRR12730410...\n",
      "Version Server Response: Not Found\n",
      "### salmon (selective-alignment-based) v1.10.2\n",
      "### [ program ] => salmon \n",
      "### [ command ] => quant \n",
      "### [ index ] => { /shared/projects/2413_rnaseq_cea/alldata/Reference//salmon/salmon_vM35_index }\n",
      "### [ libType ] => { A }\n",
      "### [ mates1 ] => { /shared/projects/2413_rnaseq_cea/cvandiedonck/Results/fastp/SRR12730410_1.fastp.fastq.gz }\n",
      "### [ mates2 ] => { /shared/projects/2413_rnaseq_cea/cvandiedonck/Results/fastp/SRR12730410_2.fastp.fastq.gz }\n",
      "### [ validateMappings ] => { }\n",
      "### [ threads ] => { 4 }\n",
      "### [ output ] => { /shared/projects/2413_rnaseq_cea/cvandiedonck/Results/salmon/SRR12730410 }\n",
      "Logs will be written to /shared/projects/2413_rnaseq_cea/cvandiedonck/Results/salmon/SRR12730410/logs\n",
      "[2024-06-18 21:17:07.957] [jointLog] [info] setting maxHashResizeThreads to 4\n",
      "[2024-06-18 21:17:07.957] [jointLog] [info] Fragment incompatibility prior below threshold.  Incompatible fragments will be ignored.\n",
      "[2024-06-18 21:17:07.957] [jointLog] [info] Usage of --validateMappings implies use of minScoreFraction. Since not explicitly specified, it is being set to 0.65\n",
      "[2024-06-18 21:17:07.957] [jointLog] [info] Setting consensusSlack to selective-alignment default of 0.35.\n",
      "[2024-06-18 21:17:07.957] [jointLog] [info] parsing read library format\n",
      "[2024-06-18 21:17:07.957] [jointLog] [info] There is 1 library.\n",
      "[2024-06-18 21:17:07.958] [jointLog] [info] Loading pufferfish index\n",
      "[2024-06-18 21:17:07.959] [jointLog] [info] Loading dense pufferfish index.\n",
      "-----------------------------------------\n",
      "| Loading contig table | Time = 24.616 s\n",
      "-----------------------------------------\n",
      "size = 25108302\n",
      "-----------------------------------------\n",
      "| Loading contig offsets | Time = 202.69 ms\n",
      "-----------------------------------------\n",
      "-----------------------------------------\n",
      "| Loading reference lengths | Time = 19.851 ms\n",
      "-----------------------------------------\n",
      "-----------------------------------------\n",
      "| Loading mphf table | Time = 2.627 s\n",
      "-----------------------------------------\n",
      "size = 3025387350\n",
      "Number of ones: 25108301\n",
      "Number of ones per inventory item: 512\n",
      "Inventory entries filled: 49040\n",
      "-----------------------------------------\n",
      "| Loading contig boundaries | Time = 6.4474 s\n",
      "-----------------------------------------\n",
      "size = 3025387350\n",
      "-----------------------------------------\n",
      "| Loading sequence | Time = 1.456 s\n",
      "-----------------------------------------\n",
      "size = 2272138320\n",
      "-----------------------------------------\n",
      "| Loading positions | Time = 20.379 s\n",
      "-----------------------------------------\n",
      "size = 2977721149\n",
      "-----------------------------------------\n",
      "| Loading reference sequence | Time = 1.8293 s\n",
      "-----------------------------------------\n",
      "-----------------------------------------\n",
      "| Loading reference accumulative lengths | Time = 308.24 ms\n",
      "-----------------------------------------\n",
      "\n",
      "\n",
      "\n",
      "\n",
      "[2024-06-18 21:18:05.869] [jointLog] [info] done\n",
      "[2024-06-18 21:18:05.997] [jointLog] [info] Index contained 147,617 targets\n",
      "[2024-06-18 21:18:06.050] [jointLog] [info] Number of decoys : 61\n",
      "[2024-06-18 21:18:06.050] [jointLog] [info] First decoy index : 147,519 \n",
      "[2024-06-18 21:18:07.920] [jointLog] [info] Automatically detected most likely library type as IU\n",
      "\n",
      "\u001b[A\u001b[32mprocessed\u001b[31m 500,000 \u001b[32mfragments\u001b[0m\n",
      "hits: 1,219,146, hits per frag:  2.45356\u001b[A\u001b[32mprocessed\u001b[31m 1,000,000 \u001b[32mfragments\u001b[0m\n",
      "hits: 2,407,685, hits per frag:  2.4378\u001b[A\u001b[32mprocessed\u001b[31m 1,500,001 \u001b[32mfragments\u001b[0m\n",
      "hits: 3,571,910, hits per frag:  2.41212\u001b[A\u001b[32mprocessed\u001b[31m 2,000,000 \u001b[32mfragments\u001b[0m\n",
      "hits: 4,737,398, hits per frag:  2.38111\u001b[A\u001b[32mprocessed\u001b[31m 2,500,000 \u001b[32mfragments\u001b[0m\n",
      "hits: 5,831,967, hits per frag:  2.34447\u001b[A\u001b[32mprocessed\u001b[31m 3,000,000 \u001b[32mfragments\u001b[0m\n",
      "hits: 7,134,415, hits per frag:  2.38722\u001b[A\u001b[32mprocessed\u001b[31m 3,500,001 \u001b[32mfragments\u001b[0m\n",
      "hits: 8,397,407, hits per frag:  2.40153\u001b[A\u001b[32mprocessed\u001b[31m 4,000,000 \u001b[32mfragments\u001b[0m\n",
      "hits: 9,512,624, hits per frag:  2.38049\u001b[A\u001b[32mprocessed\u001b[31m 4,500,000 \u001b[32mfragments\u001b[0m\n",
      "hits: 10,628,738, hits per frag:  2.36699\u001b[A\u001b[32mprocessed\u001b[31m 5,000,000 \u001b[32mfragments\u001b[0m\n",
      "hits: 11,719,902, hits per frag:  2.35047\u001b[A\u001b[32mprocessed\u001b[31m 5,500,000 \u001b[32mfragments\u001b[0m\n",
      "hits: 12,874,205, hits per frag:  2.34787\u001b[A\u001b[32mprocessed\u001b[31m 6,000,000 \u001b[32mfragments\u001b[0m\n",
      "hits: 14,007,490, hits per frag:  2.33965\u001b[A\u001b[32mprocessed\u001b[31m 6,500,000 \u001b[32mfragments\u001b[0m\n",
      "hits: 15,090,995, hits per frag:  2.3248\u001b[A\u001b[32mprocessed\u001b[31m 7,000,000 \u001b[32mfragments\u001b[0m\n",
      "hits: 16,287,960, hits per frag:  2.32815\u001b[A\u001b[32mprocessed\u001b[31m 7,500,000 \u001b[32mfragments\u001b[0m\n",
      "hits: 17,491,717, hits per frag:  2.33362\u001b[A\u001b[32mprocessed\u001b[31m 8,000,000 \u001b[32mfragments\u001b[0m\n",
      "hits: 18,574,254, hits per frag:  2.32253\u001b[A\u001b[32mprocessed\u001b[31m 8,500,000 \u001b[32mfragments\u001b[0m\n",
      "hits: 19,683,235, hits per frag:  2.31722\u001b[A\u001b[32mprocessed\u001b[31m 9,000,000 \u001b[32mfragments\u001b[0m\n",
      "hits: 20,937,392, hits per frag:  2.32662\u001b[A\u001b[32mprocessed\u001b[31m 9,500,000 \u001b[32mfragments\u001b[0m\n",
      "hits: 22,066,813, hits per frag:  2.32639\u001b[A\u001b[32mprocessed\u001b[31m 10,000,000 \u001b[32mfragments\u001b[0m\n",
      "hits: 23,218,146, hits per frag:  2.32294\u001b[A\u001b[32mprocessed\u001b[31m 10,500,000 \u001b[32mfragments\u001b[0m\n",
      "hits: 24,427,165, hits per frag:  2.32933\u001b[A\u001b[32mprocessed\u001b[31m 11,000,000 \u001b[32mfragments\u001b[0m\n",
      "hits: 25,544,801, hits per frag:  2.32382\u001b[A\u001b[32mprocessed\u001b[31m 11,500,000 \u001b[32mfragments\u001b[0m\n",
      "hits: 26,772,781, hits per frag:  2.32931\u001b[A\u001b[32mprocessed\u001b[31m 12,000,000 \u001b[32mfragments\u001b[0m\n",
      "hits: 27,913,528, hits per frag:  2.32909\u001b[A\u001b[32mprocessed\u001b[31m 12,500,000 \u001b[32mfragments\u001b[0m\n",
      "hits: 29,024,516, hits per frag:  2.32235\u001b[A\u001b[32mprocessed\u001b[31m 13,000,000 \u001b[32mfragments\u001b[0m\n",
      "hits: 30,142,382, hits per frag:  2.31955\u001b[A\u001b[32mprocessed\u001b[31m 13,500,000 \u001b[32mfragments\u001b[0m\n",
      "hits: 31,290,037, hits per frag:  2.31894\u001b[A\u001b[32mprocessed\u001b[31m 14,000,000 \u001b[32mfragments\u001b[0m\n",
      "hits: 32,391,820, hits per frag:  2.31623\u001b[A\u001b[32mprocessed\u001b[31m 14,500,000 \u001b[32mfragments\u001b[0m\n",
      "hits: 33,656,807, hits per frag:  2.32148\u001b[A\u001b[32mprocessed\u001b[31m 15,000,000 \u001b[32mfragments\u001b[0m\n",
      "hits: 34,733,473, hits per frag:  2.31581\u001b[A\u001b[32mprocessed\u001b[31m 15,500,000 \u001b[32mfragments\u001b[0m\n",
      "hits: 35,899,014, hits per frag:  2.3176\u001b[A\u001b[32mprocessed\u001b[31m 16,000,000 \u001b[32mfragments\u001b[0m\n",
      "hits: 36,993,789, hits per frag:  2.31428\u001b[A\u001b[32mprocessed\u001b[31m 16,500,002 \u001b[32mfragments\u001b[0m\n",
      "hits: 38,110,077, hits per frag:  2.31107\u001b[A\u001b[32mprocessed\u001b[31m 17,000,000 \u001b[32mfragments\u001b[0m\n",
      "hits: 39,244,533, hits per frag:  2.30914\u001b[A\u001b[32mprocessed\u001b[31m 17,500,000 \u001b[32mfragments\u001b[0m\n",
      "hits: 40,397,196, hits per frag:  2.3086\u001b[A\u001b[32mprocessed\u001b[31m 18,000,000 \u001b[32mfragments\u001b[0m\n",
      "hits: 41,509,705, hits per frag:  2.30775\u001b[A\u001b[32mprocessed\u001b[31m 18,500,000 \u001b[32mfragments\u001b[0m\n",
      "hits: 42,663,655, hits per frag:  2.30779\u001b[A\u001b[32mprocessed\u001b[31m 19,000,000 \u001b[32mfragments\u001b[0m\n",
      "hits: 43,731,502, hits per frag:  2.30302\u001b[A\u001b[32mprocessed\u001b[31m 19,500,000 \u001b[32mfragments\u001b[0m\n",
      "hits: 44,857,819, hits per frag:  2.30223\u001b[A\u001b[32mprocessed\u001b[31m 20,000,000 \u001b[32mfragments\u001b[0m\n",
      "hits: 45,942,142, hits per frag:  2.29881\u001b[A\u001b[32mprocessed\u001b[31m 20,500,000 \u001b[32mfragments\u001b[0m\n",
      "hits: 47,069,938, hits per frag:  2.29719\u001b[A\u001b[32mprocessed\u001b[31m 21,000,000 \u001b[32mfragments\u001b[0m\n",
      "hits: 48,174,484, hits per frag:  2.29543\u001b[A\u001b[32mprocessed\u001b[31m 21,500,000 \u001b[32mfragments\u001b[0m\n",
      "hits: 49,441,748, hits per frag:  2.30218\u001b[A\u001b[32mprocessed\u001b[31m 22,000,000 \u001b[32mfragments\u001b[0m\n",
      "hits: 50,611,206, hits per frag:  2.30165\u001b[A\u001b[32mprocessed\u001b[31m 22,500,000 \u001b[32mfragments\u001b[0m\n",
      "hits: 51,519,243, hits per frag:  2.29114\u001b[A\u001b[32mprocessed\u001b[31m 23,000,000 \u001b[32mfragments\u001b[0m\n",
      "hits: 52,649,363, hits per frag:  2.28935\u001b[A\u001b[32mprocessed\u001b[31m 23,500,000 \u001b[32mfragments\u001b[0m\n",
      "hits: 53,772,890, hits per frag:  2.289\u001b[A\u001b[32mprocessed\u001b[31m 24,000,000 \u001b[32mfragments\u001b[0m\n",
      "hits: 54,879,126, hits per frag:  2.28745\u001b[A\u001b[32mprocessed\u001b[31m 24,500,000 \u001b[32mfragments\u001b[0m\n",
      "hits: 55,866,141, hits per frag:  2.28136\u001b[A\u001b[32mprocessed\u001b[31m 25,000,000 \u001b[32mfragments\u001b[0m\n",
      "hits: 57,000,975, hits per frag:  2.28013\u001b[A\u001b[32mprocessed\u001b[31m 25,500,000 \u001b[32mfragments\u001b[0m\n",
      "hits: 58,204,297, hits per frag:  2.28326\u001b[A\u001b[32mprocessed\u001b[31m 26,000,000 \u001b[32mfragments\u001b[0m\n",
      "hits: 59,385,806, hits per frag:  2.28532\u001b[A\u001b[32mprocessed\u001b[31m 26,500,000 \u001b[32mfragments\u001b[0m\n",
      "hits: 60,557,768, hits per frag:  2.28582\u001b[A\u001b[32mprocessed\u001b[31m 27,000,000 \u001b[32mfragments\u001b[0m\n",
      "hits: 61,738,422, hits per frag:  2.28744\u001b[A\u001b[32mprocessed\u001b[31m 27,500,000 \u001b[32mfragments\u001b[0m\n",
      "hits: 62,721,470, hits per frag:  2.28139\u001b[A\u001b[32mprocessed\u001b[31m 28,000,000 \u001b[32mfragments\u001b[0m\n",
      "hits: 63,586,384, hits per frag:  2.27144\u001b[A\u001b[32mprocessed\u001b[31m 28,500,000 \u001b[32mfragments\u001b[0m\n",
      "hits: 64,480,560, hits per frag:  2.26325\u001b[A\u001b[32mprocessed\u001b[31m 29,000,000 \u001b[32mfragments\u001b[0m\n",
      "hits: 65,369,605, hits per frag:  2.2553\u001b[A\u001b[32mprocessed\u001b[31m 29,500,000 \u001b[32mfragments\u001b[0m\n",
      "hits: 66,411,823, hits per frag:  2.25242\u001b[A\u001b[32mprocessed\u001b[31m 30,000,000 \u001b[32mfragments\u001b[0m\n",
      "hits: 67,659,504, hits per frag:  2.25646\u001b[A\u001b[32mprocessed\u001b[31m 30,500,000 \u001b[32mfragments\u001b[0m\n",
      "hits: 68,724,083, hits per frag:  2.25438\u001b[A\u001b[32mprocessed\u001b[31m 31,000,000 \u001b[32mfragments\u001b[0m\n",
      "hits: 69,858,461, hits per frag:  2.25352\u001b[A\u001b[32mprocessed\u001b[31m 31,500,000 \u001b[32mfragments\u001b[0m\n",
      "hits: 71,061,147, hits per frag:  2.25646\u001b[A\u001b[32mprocessed\u001b[31m 32,000,000 \u001b[32mfragments\u001b[0m\n",
      "hits: 71,953,628, hits per frag:  2.24995\u001b[A\u001b[32mprocessed\u001b[31m 32,500,000 \u001b[32mfragments\u001b[0m\n",
      "hits: 73,041,909, hits per frag:  2.24793\u001b[A\u001b[32mprocessed\u001b[31m 33,000,000 \u001b[32mfragments\u001b[0m\n",
      "hits: 74,183,672, hits per frag:  2.24898\u001b[A\u001b[32mprocessed\u001b[31m 33,500,000 \u001b[32mfragments\u001b[0m\n",
      "hits: 75,224,466, hits per frag:  2.24648\u001b[A\u001b[32mprocessed\u001b[31m 34,000,000 \u001b[32mfragments\u001b[0m\n",
      "hits: 76,383,403, hits per frag:  2.24691\u001b[A\u001b[32mprocessed\u001b[31m 34,500,000 \u001b[32mfragments\u001b[0m\n",
      "hits: 77,505,588, hits per frag:  2.24704\u001b[A\u001b[32mprocessed\u001b[31m 35,000,000 \u001b[32mfragments\u001b[0m\n",
      "hits: 78,648,945, hits per frag:  2.24762\u001b[A\u001b[32mprocessed\u001b[31m 35,500,000 \u001b[32mfragments\u001b[0m\n",
      "hits: 79,817,652, hits per frag:  2.24915\u001b[A\u001b[32mprocessed\u001b[31m 36,000,000 \u001b[32mfragments\u001b[0m\n",
      "hits: 80,991,323, hits per frag:  2.24984\u001b[A\u001b[32mprocessed\u001b[31m 36,500,000 \u001b[32mfragments\u001b[0m\n",
      "hits: 82,020,482, hits per frag:  2.24764\u001b[A\u001b[32mprocessed\u001b[31m 37,000,000 \u001b[32mfragments\u001b[0m\n",
      "hits: 83,179,108, hits per frag:  2.2495\u001b[A\u001b[32mprocessed\u001b[31m 37,500,000 \u001b[32mfragments\u001b[0m\n",
      "hits: 84,273,588, hits per frag:  2.24753\u001b[A\u001b[32mprocessed\u001b[31m 38,000,001 \u001b[32mfragments\u001b[0m\n",
      "hits: 85,446,779, hits per frag:  2.24924\u001b[A\u001b[32mprocessed\u001b[31m 38,500,000 \u001b[32mfragments\u001b[0m\n",
      "hits: 86,555,503, hits per frag:  2.2482\u001b[A\u001b[32mprocessed\u001b[31m 39,000,000 \u001b[32mfragments\u001b[0m\n",
      "hits: 87,634,273, hits per frag:  2.24746\u001b[A\u001b[32mprocessed\u001b[31m 39,500,000 \u001b[32mfragments\u001b[0m\n",
      "hits: 88,753,291, hits per frag:  2.2475\u001b[A\u001b[32mprocessed\u001b[31m 40,000,000 \u001b[32mfragments\u001b[0m\n",
      "hits: 89,979,069, hits per frag:  2.24994\n",
      "\n",
      "\n",
      "\n",
      "\n",
      "\n",
      "\n",
      "\n",
      "[2024-06-18 21:42:42.098] [jointLog] [info] Computed 339,275 rich equivalence classes for further processing\n",
      "[2024-06-18 21:42:42.098] [jointLog] [info] Counted 30,713,106 total reads in the equivalence classes \n",
      "[2024-06-18 21:42:42.101] [jointLog] [info] Number of mappings discarded because of alignment score : 77,170,175\n",
      "[2024-06-18 21:42:42.101] [jointLog] [info] Number of fragments entirely discarded because of alignment score : 7,351,838\n",
      "[2024-06-18 21:42:42.101] [jointLog] [info] Number of fragments discarded because they are best-mapped to decoys : 1,030,557\n",
      "[2024-06-18 21:42:42.101] [jointLog] [info] Number of fragments discarded because they have only dovetail (discordant) mappings to valid targets : 313,649\n",
      "[2024-06-18 21:42:42.101] [jointLog] [info] Mapping rate = 76.5155%\n",
      "\n",
      "[2024-06-18 21:42:42.101] [jointLog] [info] finished quantifyLibrary()\n",
      "[2024-06-18 21:42:42.103] [jointLog] [info] Starting optimizer\n",
      "[2024-06-18 21:42:42.247] [jointLog] [info] Marked 0 weighted equivalence classes as degenerate\n",
      "[2024-06-18 21:42:42.270] [jointLog] [info] iteration = 0 | max rel diff. = 8016.34\n",
      "[2024-06-18 21:42:44.115] [jointLog] [info] iteration = 100 | max rel diff. = 11.5797\n",
      "[2024-06-18 21:42:45.958] [jointLog] [info] iteration = 200 | max rel diff. = 1.9888\n",
      "[2024-06-18 21:42:47.802] [jointLog] [info] iteration = 300 | max rel diff. = 11.6432\n",
      "[2024-06-18 21:42:49.643] [jointLog] [info] iteration = 400 | max rel diff. = 7.50871\n",
      "[2024-06-18 21:42:51.484] [jointLog] [info] iteration = 500 | max rel diff. = 0.183248\n",
      "[2024-06-18 21:42:53.324] [jointLog] [info] iteration = 600 | max rel diff. = 3.19507\n",
      "[2024-06-18 21:42:55.164] [jointLog] [info] iteration = 700 | max rel diff. = 0.045604\n",
      "[2024-06-18 21:42:57.006] [jointLog] [info] iteration = 800 | max rel diff. = 0.0792155\n",
      "[2024-06-18 21:42:58.847] [jointLog] [info] iteration = 900 | max rel diff. = 0.108338\n",
      "[2024-06-18 21:43:00.689] [jointLog] [info] iteration = 1,000 | max rel diff. = 0.0223516\n",
      "[2024-06-18 21:43:02.530] [jointLog] [info] iteration = 1,100 | max rel diff. = 0.0302169\n",
      "[2024-06-18 21:43:04.375] [jointLog] [info] iteration = 1,200 | max rel diff. = 0.0965855\n",
      "[2024-06-18 21:43:06.218] [jointLog] [info] iteration = 1,300 | max rel diff. = 3.9411\n",
      "[2024-06-18 21:43:08.066] [jointLog] [info] iteration = 1,400 | max rel diff. = 0.0666134\n",
      "[2024-06-18 21:43:08.365] [jointLog] [info] iteration = 1,417 | max rel diff. = 0.00799108\n",
      "[2024-06-18 21:43:08.376] [jointLog] [info] Finished optimizer\n",
      "[2024-06-18 21:43:08.376] [jointLog] [info] writing output \n",
      "\n",
      "...done\n",
      "starting the loop with /shared/projects/2413_rnaseq_cea/cvandiedonck/Results/fastp/SRR12730411_1.fastp.fastq.gz\n",
      "====== Processing sampleID: SRR12730411...\n",
      "Version Server Response: Not Found\n",
      "### salmon (selective-alignment-based) v1.10.2\n",
      "### [ program ] => salmon \n",
      "### [ command ] => quant \n",
      "### [ index ] => { /shared/projects/2413_rnaseq_cea/alldata/Reference//salmon/salmon_vM35_index }\n",
      "### [ libType ] => { A }\n",
      "### [ mates1 ] => { /shared/projects/2413_rnaseq_cea/cvandiedonck/Results/fastp/SRR12730411_1.fastp.fastq.gz }\n",
      "### [ mates2 ] => { /shared/projects/2413_rnaseq_cea/cvandiedonck/Results/fastp/SRR12730411_2.fastp.fastq.gz }\n",
      "### [ validateMappings ] => { }\n",
      "### [ threads ] => { 4 }\n",
      "### [ output ] => { /shared/projects/2413_rnaseq_cea/cvandiedonck/Results/salmon/SRR12730411 }\n",
      "Logs will be written to /shared/projects/2413_rnaseq_cea/cvandiedonck/Results/salmon/SRR12730411/logs\n",
      "[2024-06-18 21:43:11.653] [jointLog] [info] setting maxHashResizeThreads to 4\n",
      "[2024-06-18 21:43:11.653] [jointLog] [info] Fragment incompatibility prior below threshold.  Incompatible fragments will be ignored.\n",
      "[2024-06-18 21:43:11.653] [jointLog] [info] Usage of --validateMappings implies use of minScoreFraction. Since not explicitly specified, it is being set to 0.65\n",
      "[2024-06-18 21:43:11.653] [jointLog] [info] Setting consensusSlack to selective-alignment default of 0.35.\n",
      "[2024-06-18 21:43:11.653] [jointLog] [info] parsing read library format\n",
      "[2024-06-18 21:43:11.653] [jointLog] [info] There is 1 library.\n",
      "[2024-06-18 21:43:11.659] [jointLog] [info] Loading pufferfish index\n",
      "[2024-06-18 21:43:11.659] [jointLog] [info] Loading dense pufferfish index.\n",
      "-----------------------------------------\n",
      "| Loading contig table | Time = 25.836 s\n",
      "-----------------------------------------\n",
      "size = 25108302\n",
      "-----------------------------------------\n",
      "| Loading contig offsets | Time = 360.61 ms\n",
      "-----------------------------------------\n",
      "-----------------------------------------\n",
      "| Loading reference lengths | Time = 90.807 ms\n",
      "-----------------------------------------\n",
      "-----------------------------------------\n",
      "| Loading mphf table | Time = 3.1175 s\n",
      "-----------------------------------------\n",
      "size = 3025387350\n",
      "Number of ones: 25108301\n",
      "Number of ones per inventory item: 512\n",
      "Inventory entries filled: 49040\n",
      "-----------------------------------------\n",
      "| Loading contig boundaries | Time = 6.5752 s\n",
      "-----------------------------------------\n",
      "size = 3025387350\n",
      "-----------------------------------------\n",
      "| Loading sequence | Time = 1.7249 s\n",
      "-----------------------------------------\n",
      "size = 2272138320\n",
      "-----------------------------------------\n",
      "| Loading positions | Time = 16.974 s\n",
      "-----------------------------------------\n",
      "size = 2977721149\n",
      "-----------------------------------------\n",
      "| Loading reference sequence | Time = 1.7581 s\n",
      "-----------------------------------------\n",
      "-----------------------------------------\n",
      "| Loading reference accumulative lengths | Time = 21.467 ms\n",
      "-----------------------------------------\n",
      "[2024-06-18 21:44:08.356] [jointLog] [info] done\n",
      "\n",
      "\n",
      "\n",
      "\n",
      "[2024-06-18 21:44:08.814] [jointLog] [info] Index contained 147,617 targets\n",
      "[2024-06-18 21:44:08.865] [jointLog] [info] Number of decoys : 61\n",
      "[2024-06-18 21:44:08.865] [jointLog] [info] First decoy index : 147,519 \n",
      "[2024-06-18 21:44:10.112] [jointLog] [info] Automatically detected most likely library type as IU\n",
      "\n",
      "\u001b[A\u001b[32mprocessed\u001b[31m 500,000 \u001b[32mfragments\u001b[0m\n",
      "hits: 1,049,399, hits per frag:  2.11359\u001b[A\u001b[32mprocessed\u001b[31m 1,000,000 \u001b[32mfragments\u001b[0m\n",
      "hits: 2,145,909, hits per frag:  2.17202\u001b[A\u001b[32mprocessed\u001b[31m 1,500,000 \u001b[32mfragments\u001b[0m\n",
      "hits: 3,204,720, hits per frag:  2.15188\u001b[A\u001b[32mprocessed\u001b[31m 2,000,000 \u001b[32mfragments\u001b[0m\n",
      "hits: 4,347,169, hits per frag:  2.17876\u001b[A\u001b[32mprocessed\u001b[31m 2,500,000 \u001b[32mfragments\u001b[0m\n",
      "hits: 5,480,670, hits per frag:  2.20177\u001b[A\u001b[32mprocessed\u001b[31m 3,000,000 \u001b[32mfragments\u001b[0m\n",
      "hits: 6,641,557, hits per frag:  2.22069\u001b[A\u001b[32mprocessed\u001b[31m 3,500,000 \u001b[32mfragments\u001b[0m\n",
      "hits: 7,657,764, hits per frag:  2.18882\u001b[A\u001b[32mprocessed\u001b[31m 4,000,000 \u001b[32mfragments\u001b[0m\n",
      "hits: 8,785,599, hits per frag:  2.20091\u001b[A\u001b[32mprocessed\u001b[31m 4,500,000 \u001b[32mfragments\u001b[0m\n",
      "hits: 9,852,375, hits per frag:  2.19176\u001b[A\u001b[32mprocessed\u001b[31m 5,000,000 \u001b[32mfragments\u001b[0m\n",
      "hits: 10,903,550, hits per frag:  2.18249\u001b[A\u001b[32mprocessed\u001b[31m 5,500,000 \u001b[32mfragments\u001b[0m\n",
      "hits: 12,059,904, hits per frag:  2.20015\u001b[A\u001b[32mprocessed\u001b[31m 6,000,000 \u001b[32mfragments\u001b[0m\n",
      "hits: 13,098,508, hits per frag:  2.18417\u001b[A\u001b[32mprocessed\u001b[31m 6,500,000 \u001b[32mfragments\u001b[0m\n",
      "hits: 14,185,338, hits per frag:  2.18685\u001b[A\u001b[32mprocessed\u001b[31m 7,000,000 \u001b[32mfragments\u001b[0m\n",
      "hits: 15,265,460, hits per frag:  2.1839\u001b[A\u001b[32mprocessed\u001b[31m 7,500,000 \u001b[32mfragments\u001b[0m\n",
      "hits: 16,380,190, hits per frag:  2.1851\u001b[A\u001b[32mprocessed\u001b[31m 8,000,000 \u001b[32mfragments\u001b[0m\n",
      "hits: 17,400,990, hits per frag:  2.17583\u001b[A\u001b[32mprocessed\u001b[31m 8,500,000 \u001b[32mfragments\u001b[0m\n",
      "hits: 18,471,873, hits per frag:  2.17442\u001b[A\u001b[32mprocessed\u001b[31m 9,000,000 \u001b[32mfragments\u001b[0m\n",
      "hits: 19,517,374, hits per frag:  2.17107\u001b[A\u001b[32mprocessed\u001b[31m 9,500,000 \u001b[32mfragments\u001b[0m\n",
      "hits: 20,670,428, hits per frag:  2.18216\u001b[A\u001b[32mprocessed\u001b[31m 10,000,000 \u001b[32mfragments\u001b[0m\n",
      "hits: 21,732,972, hits per frag:  2.17626\u001b[A\u001b[32mprocessed\u001b[31m 10,500,000 \u001b[32mfragments\u001b[0m\n",
      "hits: 22,826,231, hits per frag:  2.17558\u001b[A\u001b[32mprocessed\u001b[31m 11,000,000 \u001b[32mfragments\u001b[0m\n",
      "hits: 23,966,698, hits per frag:  2.18092\u001b[A\u001b[32mprocessed\u001b[31m 11,500,000 \u001b[32mfragments\u001b[0m\n",
      "hits: 25,019,762, hits per frag:  2.17884\u001b[A\u001b[32mprocessed\u001b[31m 12,000,000 \u001b[32mfragments\u001b[0m\n",
      "hits: 26,098,498, hits per frag:  2.1765\u001b[A\u001b[32mprocessed\u001b[31m 12,500,000 \u001b[32mfragments\u001b[0m\n",
      "hits: 27,139,706, hits per frag:  2.18212\u001b[A\u001b[32mprocessed\u001b[31m 13,000,000 \u001b[32mfragments\u001b[0m\n",
      "hits: 28,136,458, hits per frag:  2.16455\u001b[A\u001b[32mprocessed\u001b[31m 13,500,000 \u001b[32mfragments\u001b[0m\n",
      "hits: 29,160,633, hits per frag:  2.16179\u001b[A\u001b[32mprocessed\u001b[31m 14,000,000 \u001b[32mfragments\u001b[0m\n",
      "hits: 30,205,278, hits per frag:  2.15865\u001b[A\u001b[32mprocessed\u001b[31m 14,500,000 \u001b[32mfragments\u001b[0m\n",
      "hits: 31,300,664, hits per frag:  2.16045\u001b[A\u001b[32mprocessed\u001b[31m 15,000,000 \u001b[32mfragments\u001b[0m\n",
      "hits: 32,370,597, hits per frag:  2.16002\u001b[A\u001b[32mprocessed\u001b[31m 15,500,000 \u001b[32mfragments\u001b[0m\n",
      "hits: 33,476,682, hits per frag:  2.16018\u001b[A\u001b[32mprocessed\u001b[31m 16,000,000 \u001b[32mfragments\u001b[0m\n",
      "hits: 34,564,339, hits per frag:  2.16593\u001b[A\u001b[32mprocessed\u001b[31m 16,500,000 \u001b[32mfragments\u001b[0m\n",
      "hits: 35,676,279, hits per frag:  2.16318\u001b[A\u001b[32mprocessed\u001b[31m 17,000,000 \u001b[32mfragments\u001b[0m\n",
      "hits: 36,772,271, hits per frag:  2.16451\u001b[A\u001b[32mprocessed\u001b[31m 17,500,000 \u001b[32mfragments\u001b[0m\n",
      "hits: 37,856,187, hits per frag:  2.16374\u001b[A\u001b[32mprocessed\u001b[31m 18,000,000 \u001b[32mfragments\u001b[0m\n",
      "hits: 38,900,052, hits per frag:  2.16137\u001b[A\u001b[32mprocessed\u001b[31m 18,500,000 \u001b[32mfragments\u001b[0m\n",
      "hits: 39,979,845, hits per frag:  2.16162\u001b[A\u001b[32mprocessed\u001b[31m 19,000,000 \u001b[32mfragments\u001b[0m\n",
      "hits: 41,045,209, hits per frag:  2.16086\u001b[A\u001b[32mprocessed\u001b[31m 19,500,000 \u001b[32mfragments\u001b[0m\n",
      "hits: 42,129,795, hits per frag:  2.16296\u001b[A\u001b[32mprocessed\u001b[31m 20,000,000 \u001b[32mfragments\u001b[0m\n",
      "hits: 43,160,791, hits per frag:  2.15832\u001b[A\u001b[32mprocessed\u001b[31m 20,500,000 \u001b[32mfragments\u001b[0m\n",
      "hits: 44,161,750, hits per frag:  2.15461\u001b[A\u001b[32mprocessed\u001b[31m 21,000,000 \u001b[32mfragments\u001b[0m\n",
      "hits: 45,266,275, hits per frag:  2.15651\u001b[A\u001b[32mprocessed\u001b[31m 21,500,000 \u001b[32mfragments\u001b[0m\n",
      "hits: 46,319,817, hits per frag:  2.15498\u001b[A\u001b[32mprocessed\u001b[31m 22,000,000 \u001b[32mfragments\u001b[0m\n",
      "hits: 47,405,532, hits per frag:  2.15488\u001b[A\u001b[32mprocessed\u001b[31m 22,500,000 \u001b[32mfragments\u001b[0m\n",
      "hits: 48,508,556, hits per frag:  2.15619\u001b[A\u001b[32mprocessed\u001b[31m 23,000,000 \u001b[32mfragments\u001b[0m\n",
      "hits: 49,476,152, hits per frag:  2.15235\u001b[A\u001b[32mprocessed\u001b[31m 23,500,000 \u001b[32mfragments\u001b[0m\n",
      "hits: 50,394,656, hits per frag:  2.14711\u001b[A\u001b[32mprocessed\u001b[31m 24,000,000 \u001b[32mfragments\u001b[0m\n",
      "hits: 51,428,876, hits per frag:  2.14334\u001b[A\u001b[32mprocessed\u001b[31m 24,500,000 \u001b[32mfragments\u001b[0m\n",
      "hits: 52,534,163, hits per frag:  2.14478\u001b[A\u001b[32mprocessed\u001b[31m 25,000,000 \u001b[32mfragments\u001b[0m\n",
      "hits: 53,655,454, hits per frag:  2.14682\u001b[A\u001b[32mprocessed\u001b[31m 25,500,000 \u001b[32mfragments\u001b[0m\n",
      "hits: 54,725,612, hits per frag:  2.14652\u001b[A\u001b[32mprocessed\u001b[31m 26,000,000 \u001b[32mfragments\u001b[0m\n",
      "hits: 55,789,691, hits per frag:  2.14581\u001b[A\u001b[32mprocessed\u001b[31m 26,500,001 \u001b[32mfragments\u001b[0m\n",
      "hits: 56,863,259, hits per frag:  2.14676\u001b[A\u001b[32mprocessed\u001b[31m 27,000,000 \u001b[32mfragments\u001b[0m\n",
      "hits: 57,862,156, hits per frag:  2.14386\u001b[A\u001b[32mprocessed\u001b[31m 27,500,000 \u001b[32mfragments\u001b[0m\n",
      "hits: 58,978,419, hits per frag:  2.14538\u001b[A\u001b[32mprocessed\u001b[31m 28,000,000 \u001b[32mfragments\u001b[0m\n",
      "hits: 59,905,421, hits per frag:  2.14016\u001b[A\u001b[32mprocessed\u001b[31m 28,500,000 \u001b[32mfragments\u001b[0m\n",
      "hits: 60,768,379, hits per frag:  2.13281\u001b[A\u001b[32mprocessed\u001b[31m 29,000,000 \u001b[32mfragments\u001b[0m\n",
      "hits: 61,652,115, hits per frag:  2.12773\u001b[A\u001b[32mprocessed\u001b[31m 29,500,000 \u001b[32mfragments\u001b[0m\n",
      "hits: 62,514,510, hits per frag:  2.11988\u001b[A\u001b[32mprocessed\u001b[31m 30,000,000 \u001b[32mfragments\u001b[0m\n",
      "hits: 63,587,937, hits per frag:  2.11966\u001b[A\u001b[32mprocessed\u001b[31m 30,500,000 \u001b[32mfragments\u001b[0m\n",
      "hits: 64,699,590, hits per frag:  2.12178\u001b[A\u001b[32mprocessed\u001b[31m 31,000,000 \u001b[32mfragments\u001b[0m\n",
      "hits: 65,798,244, hits per frag:  2.12309\u001b[A\u001b[32mprocessed\u001b[31m 31,500,000 \u001b[32mfragments\u001b[0m\n",
      "hits: 66,921,589, hits per frag:  2.12505\u001b[A\u001b[32mprocessed\u001b[31m 32,000,000 \u001b[32mfragments\u001b[0m\n",
      "hits: 68,017,244, hits per frag:  2.12559\u001b[A\u001b[32mprocessed\u001b[31m 32,500,000 \u001b[32mfragments\u001b[0m\n",
      "hits: 69,114,264, hits per frag:  2.12731\u001b[A\u001b[32mprocessed\u001b[31m 33,000,000 \u001b[32mfragments\u001b[0m\n",
      "hits: 70,138,264, hits per frag:  2.12698\u001b[A\u001b[32mprocessed\u001b[31m 33,500,001 \u001b[32mfragments\u001b[0m\n",
      "hits: 71,172,562, hits per frag:  2.1249\u001b[A\u001b[32mprocessed\u001b[31m 34,000,000 \u001b[32mfragments\u001b[0m\n",
      "hits: 72,252,338, hits per frag:  2.12603\u001b[A\u001b[32mprocessed\u001b[31m 34,500,001 \u001b[32mfragments\u001b[0m\n",
      "hits: 73,320,704, hits per frag:  2.12534\u001b[A\u001b[32mprocessed\u001b[31m 35,000,000 \u001b[32mfragments\u001b[0m\n",
      "hits: 74,377,227, hits per frag:  2.12545\u001b[A\u001b[32mprocessed\u001b[31m 35,500,000 \u001b[32mfragments\u001b[0m\n",
      "hits: 75,270,577, hits per frag:  2.12096\u001b[A\u001b[32mprocessed\u001b[31m 36,000,000 \u001b[32mfragments\u001b[0m\n",
      "hits: 76,322,917, hits per frag:  2.12049\u001b[A\u001b[32mprocessed\u001b[31m 36,500,000 \u001b[32mfragments\u001b[0m\n",
      "hits: 77,394,768, hits per frag:  2.12072\u001b[A\u001b[32mprocessed\u001b[31m 37,000,000 \u001b[32mfragments\u001b[0m\n",
      "hits: 78,522,455, hits per frag:  2.12287\u001b[A\u001b[32mprocessed\u001b[31m 37,500,001 \u001b[32mfragments\u001b[0m\n",
      "hits: 79,596,800, hits per frag:  2.12289\u001b[A\u001b[32mprocessed\u001b[31m 38,000,000 \u001b[32mfragments\u001b[0m\n",
      "hits: 80,689,791, hits per frag:  2.1236\n",
      "\n",
      "\n",
      "\n",
      "\n",
      "\n",
      "\n",
      "\n",
      "[2024-06-18 22:01:34.250] [jointLog] [info] Computed 351,632 rich equivalence classes for further processing\n",
      "[2024-06-18 22:01:34.250] [jointLog] [info] Counted 28,163,617 total reads in the equivalence classes \n",
      "[2024-06-18 22:01:34.253] [jointLog] [info] Number of mappings discarded because of alignment score : 68,156,781\n",
      "[2024-06-18 22:01:34.253] [jointLog] [info] Number of fragments entirely discarded because of alignment score : 7,131,114\n",
      "[2024-06-18 22:01:34.253] [jointLog] [info] Number of fragments discarded because they are best-mapped to decoys : 1,201,495\n",
      "[2024-06-18 22:01:34.253] [jointLog] [info] Number of fragments discarded because they have only dovetail (discordant) mappings to valid targets : 206,338\n",
      "[2024-06-18 22:01:34.253] [jointLog] [info] Mapping rate = 73.9205%\n",
      "\n",
      "[2024-06-18 22:01:34.253] [jointLog] [info] finished quantifyLibrary()\n",
      "[2024-06-18 22:01:34.254] [jointLog] [info] Starting optimizer\n",
      "[2024-06-18 22:01:34.489] [jointLog] [info] Marked 0 weighted equivalence classes as degenerate\n",
      "[2024-06-18 22:01:34.508] [jointLog] [info] iteration = 0 | max rel diff. = 8316.41\n",
      "[2024-06-18 22:01:36.354] [jointLog] [info] iteration = 100 | max rel diff. = 16.597\n",
      "[2024-06-18 22:01:38.188] [jointLog] [info] iteration = 200 | max rel diff. = 2.75034\n",
      "[2024-06-18 22:01:40.020] [jointLog] [info] iteration = 300 | max rel diff. = 5.6344\n",
      "[2024-06-18 22:01:41.853] [jointLog] [info] iteration = 400 | max rel diff. = 2.15226\n",
      "[2024-06-18 22:01:43.686] [jointLog] [info] iteration = 500 | max rel diff. = 0.355435\n",
      "[2024-06-18 22:01:45.522] [jointLog] [info] iteration = 600 | max rel diff. = 0.290959\n",
      "[2024-06-18 22:01:47.357] [jointLog] [info] iteration = 700 | max rel diff. = 0.0528784\n",
      "[2024-06-18 22:01:49.192] [jointLog] [info] iteration = 800 | max rel diff. = 0.199097\n",
      "[2024-06-18 22:01:51.029] [jointLog] [info] iteration = 900 | max rel diff. = 0.430076\n",
      "[2024-06-18 22:01:52.863] [jointLog] [info] iteration = 1,000 | max rel diff. = 0.0465375\n",
      "[2024-06-18 22:01:54.699] [jointLog] [info] iteration = 1,100 | max rel diff. = 0.231619\n",
      "[2024-06-18 22:01:56.535] [jointLog] [info] iteration = 1,200 | max rel diff. = 1.3552\n",
      "[2024-06-18 22:01:58.368] [jointLog] [info] iteration = 1,300 | max rel diff. = 0.184277\n",
      "[2024-06-18 22:02:00.205] [jointLog] [info] iteration = 1,400 | max rel diff. = 0.0307262\n",
      "[2024-06-18 22:02:00.792] [jointLog] [info] iteration = 1,433 | max rel diff. = 0.00713048\n",
      "[2024-06-18 22:02:00.803] [jointLog] [info] Finished optimizer\n",
      "[2024-06-18 22:02:00.803] [jointLog] [info] writing output \n",
      "\n",
      "...done\n",
      "\n",
      "real\t64m1.285s\n",
      "user\t251m19.868s\n",
      "sys\t1m40.404s\n"
     ]
    }
   ],
   "source": [
    "## Code cell 31 ##\n",
    "\n",
    "echo \"Screen output is redirected to ${logfile4}\"\n",
    "\n",
    "# as time command does not redirect output\n",
    "echo \"operation starts at $(date)\" >> ${logfile4}\n",
    "echo \"before loop\"\n",
    "\n",
    "time for read1 in $(ls \"${gohome}$USER/Results/fastp/\"*_1.fastp.fastq.gz); do\n",
    "    echo \"starting the loop with ${read1}\"\n",
    "    \n",
    "    # handling names with the sample name\n",
    "    samplenum=$(basename ${read1} | cut -d\"_\" -f1)\n",
    "    echo \"====== Processing sampleID: ${samplenum}...\" | tee -a ${logfile4}\n",
    "    read2=$(echo ${read1} | sed 's#_1#_2#')\n",
    "\n",
    "    echo \"Salmon starts at $(date)\" >> ${logfile4}\n",
    "    \n",
    "    # Salmon working\n",
    "    salmon quant -i \"${salmonreffolder}salmon_vM35_index\" -l A \\\n",
    "         -1 ${read1} \\\n",
    "         -2 ${read2} \\\n",
    "         --validateMappings \\\n",
    "         --threads ${authorizedCPU} -o \"${salmonfolder}${samplenum}\" \\\n",
    "         |& tee -a ${logfile4}\n",
    "         \n",
    "    echo \"Salmon ends at $(date)\" >> ${logfile4}\n",
    "    \n",
    "    echo \"...done\" | tee -a ${logfile4} \n",
    "done  "
   ]
  },
  {
   "cell_type": "markdown",
   "metadata": {
    "tags": []
   },
   "source": [
    "For more details, you can follow a nice tutorial here: https://combine-lab.github.io/alevin-tutorial/2019/selective-alignment/ or this one: https://combine-lab.github.io/salmon/getting_started/"
   ]
  },
  {
   "cell_type": "markdown",
   "metadata": {},
   "source": [
    "---\n",
    "---\n",
    "## 3 - MultiQC on featureCounts and Salmon\n",
    "---"
   ]
  },
  {
   "cell_type": "markdown",
   "metadata": {},
   "source": [
    "### **3.1 - Folder, filename, title and comment**\n",
    "\n",
    "Let's indicate where report files are to be placed:"
   ]
  },
  {
   "cell_type": "code",
   "execution_count": 26,
   "metadata": {},
   "outputs": [],
   "source": [
    "## Code cell 39 ## \n",
    "\n",
    "qcsummaries=\"${gohome}$USER/Results/multiqc/\""
   ]
  },
  {
   "cell_type": "markdown",
   "metadata": {},
   "source": [
    "We specify then names for files and title to display on html report page. <a id=\"multiqctextvar2\"></a>"
   ]
  },
  {
   "cell_type": "code",
   "execution_count": 27,
   "metadata": {},
   "outputs": [],
   "source": [
    "## Code cell 40 ## \n",
    "\n",
    "inamemyfile=\"5_featureCounts_salmon_3samples\"\n",
    "\n",
    "mytitle=$(echo \"Quality check after featureCounts and Salmon\")"
   ]
  },
  {
   "cell_type": "markdown",
   "metadata": {},
   "source": [
    "To keep record of what have been done with these files, we add an comment to remember for later use and for informing others readers:"
   ]
  },
  {
   "cell_type": "code",
   "execution_count": 28,
   "metadata": {},
   "outputs": [],
   "source": [
    "## Code cell 41 ## \n",
    "\n",
    "mycomment=$(echo \"featureCounts run at gene level and Salmon for pseudomapping on transcripts using the mouse genome (GRCm39), version M35 (Ensembl 112)\")"
   ]
  },
  {
   "cell_type": "markdown",
   "metadata": {},
   "source": [
    "### **3.2 - Generate summary report**"
   ]
  },
  {
   "cell_type": "code",
   "execution_count": 36,
   "metadata": {},
   "outputs": [
    {
     "name": "stdout",
     "output_type": "stream",
     "text": [
      "Screen output is also saved in /shared/projects/2413_rnaseq_cea/cvandiedonck/Results/logfiles/multiqc-featurecounts-salmon.log\n",
      "\n",
      "  /// MultiQC 🔍 | v1.13\n",
      "\n",
      "|           multiqc | MultiQC Version v1.22.2 now available!\n",
      "|           multiqc | Report title: Quality check after featureCounts and Salmon\n",
      "|           multiqc | Only using modules: featureCounts, salmon\n",
      "|           multiqc | Search path : /shared/projects/2413_rnaseq_cea/cvandiedonck/Results/featurecounts\n",
      "|           multiqc | Search path : /shared/projects/2413_rnaseq_cea/cvandiedonck/Results/salmon\n",
      "|           multiqc | Search path : /shared/projects/2413_rnaseq_cea/cvandiedonck/Results\n",
      "|         searching | ━━━━━━━━━━━━━━━━━━━━━━━━━━━━━━━━━━━━━━━━ 100% 775/775  \n",
      "|    feature_counts | Found 11 reports\n",
      "|            salmon | Found 3 meta reports\n",
      "|            salmon | Found 3 fragment length distributions\n",
      "|           multiqc | Compressing plot data\n",
      "|           multiqc | Report      : ../../../../projects/2413_rnaseq_cea/cvandiedonck/Results/multiqc/5_featureCounts_salmon_3samples.html\n",
      "|           multiqc | Data        : ../../../../projects/2413_rnaseq_cea/cvandiedonck/Results/multiqc/5_featureCounts_salmon_3samples_data\n",
      "|           multiqc | Plots       : ../../../../projects/2413_rnaseq_cea/cvandiedonck/Results/multiqc/5_featureCounts_salmon_3samples_plots\n",
      "|           multiqc | MultiQC complete\n"
     ]
    }
   ],
   "source": [
    "## Code cell 42 ## \n",
    "\n",
    "logfile5=\"${logfolder}multiqc-featurecounts-salmon.log\"\n",
    "echo \"Screen output is also saved in ${logfile5}\"\n",
    "\n",
    "echo \"operation starting by $(date)\" >> ${logfile5}\n",
    "multiqc --interactive --export \\\n",
    "        --module featureCounts ${featcountfolder} \\\n",
    "        --module salmon ${salmonfolder} \\\n",
    "        --outdir \"$qcsummaries\" \\\n",
    "        --filename \"${inamemyfile}\" \\\n",
    "        --title \"${mytitle}\"  \\\n",
    "        --comment \"${mycomment}\" \\\n",
    "        \"${gohome}$USER/Results/\" \\\n",
    "        |& tee -a ${logfile}\n",
    "echo \"operation finished by $(date)\" >> ${logfile5}"
   ]
  },
  {
   "cell_type": "code",
   "execution_count": 25,
   "metadata": {},
   "outputs": [],
   "source": [
    "## Code cell 43 ## \n",
    "\n",
    "# to see which files we have afterward and follow folder sizes\n",
    "ls -lh \"${qcsummaries}\" >> ${logfile}\n",
    "ls -lh \"${gohome}$USER/Results/\" >> ${logfile}"
   ]
  },
  {
   "cell_type": "markdown",
   "metadata": {},
   "source": [
    "---\n",
    "---\n",
    "## 4 - Monitoring disk usage\n",
    "---"
   ]
  },
  {
   "cell_type": "code",
   "execution_count": null,
   "metadata": {},
   "outputs": [],
   "source": [
    "## Code cell 44 ##\n",
    "\n",
    "du -h -d2 ${gohome}$USER"
   ]
  },
  {
   "cell_type": "markdown",
   "metadata": {},
   "source": [
    "We now have a personal folder that gets too heavy.  Let's remove some files we won't use anymore: \n",
    "\n",
    "- initial srr files in Data/sra/   \n",
    "- raw fastq.gz files in Data/fastq/raw/   \n",
    "- cleaned fastq.gz files in /Results/fastp   \n",
    "- intermediate Aligned.sortedByNames.bam files produced by <code>samtools</code> for <code>featuresCounts</code> above, if the rm command was masked at the end of Code cell 12.  "
   ]
  },
  {
   "cell_type": "code",
   "execution_count": null,
   "metadata": {},
   "outputs": [],
   "source": [
    "## Code cell 45 ##\n",
    "\n",
    "# Saving disk space\n",
    "\n",
    "# Removing:\n",
    "# initial srr files\n",
    "rm -r ${gohome}$USER/Data/sra/\n",
    "\n",
    "# raw fastq.gz\n",
    "rm ${gohome}$USER/Data/fastq/raw/*.fastq.gz\n",
    "\n",
    "# cleaned fastq.gz\n",
    "#rm ${gohome}$USER/Results/fastp/*.fastp.fastq.gz\n",
    "\n",
    "# intermediate Aligned.sortedByNames.bam\n",
    "# rm ${gohome}$USER/Results/featurecounts/*_Aligned.sortedByNames.bam    # if is was not already done in cell 11"
   ]
  },
  {
   "cell_type": "markdown",
   "metadata": {},
   "source": [
    "Let's see our disk usage now:"
   ]
  },
  {
   "cell_type": "code",
   "execution_count": null,
   "metadata": {},
   "outputs": [],
   "source": [
    "## Code cell 46 ##\n",
    "\n",
    "du -h -d2 ${gohome}$USER"
   ]
  },
  {
   "cell_type": "markdown",
   "metadata": {
    "tags": []
   },
   "source": [
    "---\n",
    "___\n",
    "\n",
    "## Conclusion\n",
    "\n",
    "\n",
    "**Next Practical session**"
   ]
  },
  {
   "cell_type": "markdown",
   "metadata": {},
   "source": [
    "Now we go on with an introduction to the R language, that will be used during the next steps of the analysis.  \n",
    "  \n",
    "**=> Step 7: Introduction to R** "
   ]
  },
  {
   "cell_type": "markdown",
   "metadata": {
    "tags": []
   },
   "source": [
    "The jupyter notebook used for the next session will be *Pipe_07-R403_Intro-to-R.ipynb*    \n",
    "Let's retrieve it in our personal directory, in order to have a private copy to work on:   "
   ]
  },
  {
   "cell_type": "code",
   "execution_count": null,
   "metadata": {
    "tags": []
   },
   "outputs": [],
   "source": [
    "## Code cell 47 ##   \n",
    "\n",
    "cp \"${gohome}pipeline/Pipe_07a-R_intro-to-R.ipynb\" \"${gohome}$USER/\"\n",
    "cp \"${gohome}alldata/Example_Data/Temperatures.txt\" \"${gohome}$USER/\""
   ]
  },
  {
   "cell_type": "markdown",
   "metadata": {},
   "source": [
    "\n",
    "\n",
    "**Save executed notebook**\n",
    "\n",
    "To end the session, save your executed notebook in your `run_notebooks` folder. Adjust the name with yours and reformat as Code cell to run it."
   ]
  },
  {
   "cell_type": "raw",
   "metadata": {
    "tags": []
   },
   "source": [
    "## Code cell 48 ##   \n",
    "#mkdir -p /shared/projects/2413_rnaseq_cea/$USER/run_notebooks\n",
    "cp /shared/projects/2413_rnaseq_cea/$USER/Pipe_06-bash_reads-counts-and-pseudomapping.ipynb /shared/projects/2413_rnaseq_cea/$USER/run_notebooks/Pipe_06-bash_reads-counts-and-pseudomapping_run.ipynb"
   ]
  },
  {
   "cell_type": "markdown",
   "metadata": {
    "tags": []
   },
   "source": [
    "<div class=\"alert alert-block alert-success\"><b>Success:</b> Well done! You now know how to count reads per features.<br>\n",
    "Don't forget to save you notebook and export a copy as an <b>html</b> file as well <br>\n",
    "- Open \"File\" in the Menu<br>\n",
    "- Select \"Export Notebook As\"<br>\n",
    "- Export notebook as HTML<br>\n",
    "- You can then open it in your browser even without being connected to the server! \n",
    "</div>"
   ]
  },
  {
   "cell_type": "markdown",
   "metadata": {},
   "source": [
    "---\n",
    "---"
   ]
  },
  {
   "cell_type": "markdown",
   "metadata": {
    "tags": []
   },
   "source": [
    "## Useful commands\n",
    "<div class=\"alert alert-block alert-info\"> \n",
    "    \n",
    "- <kbd>CTRL</kbd>+<kbd>S</kbd> : save notebook<br>    \n",
    "- <kbd>CTRL</kbd>+<kbd>ENTER</kbd> : Run Cell<br>  \n",
    "- <kbd>SHIFT</kbd>+<kbd>ENTER</kbd> : Run Cell and Select Next<br>   \n",
    "- <kbd>ALT</kbd>+<kbd>ENTER</kbd> : Run Cell and Insert Below<br>   \n",
    "- <kbd>ESC</kbd>+<kbd>y</kbd> : Change to *Code* Cell Type<br>  \n",
    "- <kbd>ESC</kbd>+<kbd>m</kbd> : Change to *Markdown* Cell Type<br> \n",
    "- <kbd>ESC</kbd>+<kbd>r</kbd> : Change to *Raw* Cell Type<br>    \n",
    "- <kbd>ESC</kbd>+<kbd>a</kbd> : Create Cell Above<br> \n",
    "- <kbd>ESC</kbd>+<kbd>b</kbd> : Create Cell Below<br> \n",
    "\n",
    "<em>  \n",
    "To make nice html reports with markdown: <a href=\"https://dillinger.io/\" title=\"dillinger.io\">html visualization tool 1</a> or <a href=\"https://stackedit.io/app#\" title=\"stackedit.io\">html visualization tool 2</a>, <a href=\"https://www.tablesgenerator.com/markdown_tables\" title=\"tablesgenerator.com\">to draw nice tables</a>, and the <a href=\"https://medium.com/analytics-vidhya/the-ultimate-markdown-guide-for-jupyter-notebook-d5e5abf728fd\" title=\"Ultimate guide\">Ultimate guide</a>. <br>\n",
    "Further reading on JupyterLab notebooks: <a href=\"https://jupyterlab.readthedocs.io/en/latest/user/notebook.html\" title=\"Jupyter Lab\">Jupyter Lab documentation</a>.<br>   \n",
    "</em>    \n",
    " \n",
    "</div>"
   ]
  },
  {
   "cell_type": "markdown",
   "metadata": {
    "tags": []
   },
   "source": [
    "---\n",
    "Bénédicte Noblet - 05-07 2021   \n",
    "Sandrine Caburet - 02-05 2023   \n",
    "Claire Vandiedonck - 03-06 2023  \n",
    "Maj 16/06/2024 by @CVandiedonck"
   ]
  }
 ],
 "metadata": {
  "kernelspec": {
   "display_name": "Bash",
   "language": "bash",
   "name": "bash"
  },
  "language_info": {
   "codemirror_mode": "shell",
   "file_extension": ".sh",
   "mimetype": "text/x-sh",
   "name": "bash"
  },
  "toc-showcode": false
 },
 "nbformat": 4,
 "nbformat_minor": 4
}

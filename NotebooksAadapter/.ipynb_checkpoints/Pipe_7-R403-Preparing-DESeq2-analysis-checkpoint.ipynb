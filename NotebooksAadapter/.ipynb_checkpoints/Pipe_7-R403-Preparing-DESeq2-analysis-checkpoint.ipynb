{
 "cells": [
  {
   "cell_type": "markdown",
   "metadata": {},
   "source": [
    "# Loading data for DESeq2 analyzes"
   ]
  },
  {
   "cell_type": "markdown",
   "metadata": {},
   "source": [
    "<big><b>File completed</b></big> (08/11/2021) <br>  \n",
    "\n",
    "Bénédicte Noblet\n",
    "\n",
    "- About session for IFB core cluster\n",
    "- Retrieve and adpat SRAtable file to get all informations\n",
    "- From sample counts data to a DESeq2 dataset\n",
    "- Prepare R objects for downstream analysis"
   ]
  },
  {
   "cell_type": "markdown",
   "metadata": {},
   "source": [
    "---\n",
    "\n",
    "## <b>About session for IFB core cluster</b>\n",
    "\n",
    "<em>loaded JupyterLab</em> : Version 2.2.9"
   ]
  },
  {
   "cell_type": "code",
   "execution_count": 1,
   "metadata": {},
   "outputs": [
    {
     "name": "stdout",
     "output_type": "stream",
     "text": [
      "[1] \"=== Cell launched on Wed Aug 11 15:54:23 CEST 2021 ===\"                         \n",
      "[2] \"          18219911      fast  jupyter  bnoblet  R    1:25:01      1 cpu-node-17\"\n",
      "[3] \"=== Current IFB session size: Medium (4CPU, 10GB) or Large (10CPU, 50GB) ===\"   \n",
      "[4] \"       JobID  AllocCPUS        NodeList \"                                       \n",
      "[5] \"------------ ---------- --------------- \"                                       \n",
      "[6] \"18219911              4     cpu-node-17 \"                                       \n"
     ]
    }
   ],
   "source": [
    "session_parameters <- function(){\n",
    "    \n",
    "    jupytersession <- c(system('echo \"=== Cell launched on $(date) ===\"', intern = TRUE),\n",
    "                        system('squeue -hu $USER', intern = TRUE))\n",
    "    \n",
    "    jobid <- system(\"squeue -hu $USER | awk '/jupyter/ {print $1}'\", intern = TRUE)\n",
    "    jupytersession <- c(jupytersession,\n",
    "                        \"=== Current IFB session size: Medium (4CPU, 10GB) or Large (10CPU, 50GB) ===\",\n",
    "                        system(paste(\"sacct --format=JobID,AllocCPUS,NODELIST -j\", jobid), intern = TRUE))\n",
    "    print(jupytersession[1:6])\n",
    "    \n",
    "    return(invisible(NULL))\n",
    "}\n",
    "\n",
    "session_parameters()"
   ]
  },
  {
   "cell_type": "markdown",
   "metadata": {},
   "source": [
    "---\n",
    "## <b>I- Retrieve and adapt SRAtable file to get all informations</b>"
   ]
  },
  {
   "cell_type": "markdown",
   "metadata": {},
   "source": [
    "### **1- Loading SRA metadata table**"
   ]
  },
  {
   "cell_type": "code",
   "execution_count": 2,
   "metadata": {},
   "outputs": [
    {
     "data": {
      "text/html": [
       "<table class=\"dataframe\">\n",
       "<caption>A data.frame: 16 × 27</caption>\n",
       "<thead>\n",
       "\t<tr><th scope=col>Run</th><th scope=col>AGE</th><th scope=col>Assay.Type</th><th scope=col>AvgSpotLen</th><th scope=col>Bases</th><th scope=col>BioProject</th><th scope=col>BioSample</th><th scope=col>Bytes</th><th scope=col>Center.Name</th><th scope=col>Consent</th><th scope=col>⋯</th><th scope=col>LibrarySelection</th><th scope=col>LibrarySource</th><th scope=col>Organism</th><th scope=col>Platform</th><th scope=col>ReleaseDate</th><th scope=col>Sample.Name</th><th scope=col>Sexe</th><th scope=col>source_name</th><th scope=col>SRA.Study</th><th scope=col>Tissue</th></tr>\n",
       "\t<tr><th scope=col>&lt;chr&gt;</th><th scope=col>&lt;chr&gt;</th><th scope=col>&lt;chr&gt;</th><th scope=col>&lt;int&gt;</th><th scope=col>&lt;dbl&gt;</th><th scope=col>&lt;chr&gt;</th><th scope=col>&lt;chr&gt;</th><th scope=col>&lt;dbl&gt;</th><th scope=col>&lt;chr&gt;</th><th scope=col>&lt;chr&gt;</th><th scope=col>⋯</th><th scope=col>&lt;chr&gt;</th><th scope=col>&lt;chr&gt;</th><th scope=col>&lt;chr&gt;</th><th scope=col>&lt;chr&gt;</th><th scope=col>&lt;chr&gt;</th><th scope=col>&lt;chr&gt;</th><th scope=col>&lt;chr&gt;</th><th scope=col>&lt;chr&gt;</th><th scope=col>&lt;chr&gt;</th><th scope=col>&lt;chr&gt;</th></tr>\n",
       "</thead>\n",
       "<tbody>\n",
       "\t<tr><td>SRR7430706</td><td>6GW+2d </td><td>RNA-Seq</td><td>100</td><td>5233393500</td><td>PRJNA478051</td><td>SAMN09495494</td><td>3175420095</td><td>GEO</td><td>public</td><td>⋯</td><td>cDNA</td><td>TRANSCRIPTOMIC</td><td>Homo sapiens</td><td>ILLUMINA</td><td>2020-02-20T00:00:00Z</td><td>GSM3223657</td><td>Female</td><td>Ovary </td><td>SRP151462</td><td>Ovary </td></tr>\n",
       "\t<tr><td>SRR7430707</td><td>6GW+2d </td><td>RNA-Seq</td><td>100</td><td>4564533100</td><td>PRJNA478051</td><td>SAMN09495493</td><td>2739850864</td><td>GEO</td><td>public</td><td>⋯</td><td>cDNA</td><td>TRANSCRIPTOMIC</td><td>Homo sapiens</td><td>ILLUMINA</td><td>2020-02-20T00:00:00Z</td><td>GSM3223658</td><td>Female</td><td>Ovary </td><td>SRP151462</td><td>Ovary </td></tr>\n",
       "\t<tr><td>SRR7430708</td><td>6GW+6d </td><td>RNA-Seq</td><td>100</td><td>5490941400</td><td>PRJNA478051</td><td>SAMN09495487</td><td>3232029711</td><td>GEO</td><td>public</td><td>⋯</td><td>cDNA</td><td>TRANSCRIPTOMIC</td><td>Homo sapiens</td><td>ILLUMINA</td><td>2020-02-20T00:00:00Z</td><td>GSM3223659</td><td>Female</td><td>Ovary </td><td>SRP151462</td><td>Ovary </td></tr>\n",
       "\t<tr><td>SRR7430709</td><td>6GW+5d </td><td>RNA-Seq</td><td>100</td><td>4802762900</td><td>PRJNA478051</td><td>SAMN09495486</td><td>2884317954</td><td>GEO</td><td>public</td><td>⋯</td><td>cDNA</td><td>TRANSCRIPTOMIC</td><td>Homo sapiens</td><td>ILLUMINA</td><td>2020-02-20T00:00:00Z</td><td>GSM3223660</td><td>Female</td><td>Ovary </td><td>SRP151462</td><td>Ovary </td></tr>\n",
       "\t<tr><td>SRR7430710</td><td>6GW+0d </td><td>RNA-Seq</td><td>100</td><td>5651159100</td><td>PRJNA478051</td><td>SAMN09495492</td><td>3418092037</td><td>GEO</td><td>public</td><td>⋯</td><td>cDNA</td><td>TRANSCRIPTOMIC</td><td>Homo sapiens</td><td>ILLUMINA</td><td>2020-02-20T00:00:00Z</td><td>GSM3223661</td><td>Male  </td><td>Testis</td><td>SRP151462</td><td>Testis</td></tr>\n",
       "\t<tr><td>SRR7430711</td><td>6GW+0d </td><td>RNA-Seq</td><td>100</td><td>4837998700</td><td>PRJNA478051</td><td>SAMN09495491</td><td>2905912075</td><td>GEO</td><td>public</td><td>⋯</td><td>cDNA</td><td>TRANSCRIPTOMIC</td><td>Homo sapiens</td><td>ILLUMINA</td><td>2020-02-20T00:00:00Z</td><td>GSM3223662</td><td>Male  </td><td>Testis</td><td>SRP151462</td><td>Testis</td></tr>\n",
       "\t<tr><td>SRR7430712</td><td>6GW+3d </td><td>RNA-Seq</td><td>100</td><td>4351153200</td><td>PRJNA478051</td><td>SAMN09495490</td><td>2613300399</td><td>GEO</td><td>public</td><td>⋯</td><td>cDNA</td><td>TRANSCRIPTOMIC</td><td>Homo sapiens</td><td>ILLUMINA</td><td>2020-02-20T00:00:00Z</td><td>GSM3223663</td><td>Male  </td><td>Testis</td><td>SRP151462</td><td>Testis</td></tr>\n",
       "\t<tr><td>SRR7430713</td><td>6GW+4d </td><td>RNA-Seq</td><td>100</td><td>5225035300</td><td>PRJNA478051</td><td>SAMN09495489</td><td>3120369302</td><td>GEO</td><td>public</td><td>⋯</td><td>cDNA</td><td>TRANSCRIPTOMIC</td><td>Homo sapiens</td><td>ILLUMINA</td><td>2020-02-20T00:00:00Z</td><td>GSM3223664</td><td>Male  </td><td>Testis</td><td>SRP151462</td><td>Testis</td></tr>\n",
       "\t<tr><td>SRR7430738</td><td>11GW+6d</td><td>RNA-Seq</td><td>100</td><td>5237656400</td><td>PRJNA478051</td><td>SAMN09495549</td><td>3303005156</td><td>GEO</td><td>public</td><td>⋯</td><td>cDNA</td><td>TRANSCRIPTOMIC</td><td>Homo sapiens</td><td>ILLUMINA</td><td>2020-02-20T00:00:00Z</td><td>GSM3223689</td><td>Female</td><td>Ovary </td><td>SRP151462</td><td>Ovary </td></tr>\n",
       "\t<tr><td>SRR7430739</td><td>12GW   </td><td>RNA-Seq</td><td>100</td><td>4500870600</td><td>PRJNA478051</td><td>SAMN09495541</td><td>2830500219</td><td>GEO</td><td>public</td><td>⋯</td><td>cDNA</td><td>TRANSCRIPTOMIC</td><td>Homo sapiens</td><td>ILLUMINA</td><td>2020-02-20T00:00:00Z</td><td>GSM3223690</td><td>Female</td><td>Ovary </td><td>SRP151462</td><td>Ovary </td></tr>\n",
       "\t<tr><td>SRR7430741</td><td>12GW   </td><td>RNA-Seq</td><td>100</td><td>3577239700</td><td>PRJNA478051</td><td>SAMN09495547</td><td>2341260732</td><td>GEO</td><td>public</td><td>⋯</td><td>cDNA</td><td>TRANSCRIPTOMIC</td><td>Homo sapiens</td><td>ILLUMINA</td><td>2020-02-20T00:00:00Z</td><td>GSM3223692</td><td>Female</td><td>Ovary </td><td>SRP151462</td><td>Ovary </td></tr>\n",
       "\t<tr><td>SRR7430742</td><td>11GW+4d</td><td>RNA-Seq</td><td>100</td><td>4473006700</td><td>PRJNA478051</td><td>SAMN09495546</td><td>2836994800</td><td>GEO</td><td>public</td><td>⋯</td><td>cDNA</td><td>TRANSCRIPTOMIC</td><td>Homo sapiens</td><td>ILLUMINA</td><td>2020-02-20T00:00:00Z</td><td>GSM3223693</td><td>Male  </td><td>Testis</td><td>SRP151462</td><td>Testis</td></tr>\n",
       "\t<tr><td>SRR7430745</td><td>12GW   </td><td>RNA-Seq</td><td>100</td><td>8360636000</td><td>PRJNA478051</td><td>SAMN09495543</td><td>5486747966</td><td>GEO</td><td>public</td><td>⋯</td><td>cDNA</td><td>TRANSCRIPTOMIC</td><td>Homo sapiens</td><td>ILLUMINA</td><td>2020-02-20T00:00:00Z</td><td>GSM3223696</td><td>Male  </td><td>Testis</td><td>SRP151462</td><td>Testis</td></tr>\n",
       "\t<tr><td>SRR7430743</td><td>11GW+6d</td><td>RNA-Seq</td><td>100</td><td>4211604300</td><td>PRJNA478051</td><td>SAMN09495545</td><td>2637192481</td><td>GEO</td><td>public</td><td>⋯</td><td>cDNA</td><td>TRANSCRIPTOMIC</td><td>Homo sapiens</td><td>ILLUMINA</td><td>2020-02-20T00:00:00Z</td><td>GSM3223694</td><td>Male  </td><td>Testis</td><td>SRP151462</td><td>Testis</td></tr>\n",
       "\t<tr><td>SRR7430740</td><td>12GW   </td><td>RNA-Seq</td><td>100</td><td>4847461000</td><td>PRJNA478051</td><td>SAMN09495548</td><td>3049604991</td><td>GEO</td><td>public</td><td>⋯</td><td>cDNA</td><td>TRANSCRIPTOMIC</td><td>Homo sapiens</td><td>ILLUMINA</td><td>2020-02-20T00:00:00Z</td><td>GSM3223691</td><td>Female</td><td>Ovary </td><td>SRP151462</td><td>Ovary </td></tr>\n",
       "\t<tr><td>SRR7430744</td><td>12GW   </td><td>RNA-Seq</td><td>100</td><td>3921042700</td><td>PRJNA478051</td><td>SAMN09495544</td><td>2465667067</td><td>GEO</td><td>public</td><td>⋯</td><td>cDNA</td><td>TRANSCRIPTOMIC</td><td>Homo sapiens</td><td>ILLUMINA</td><td>2020-02-20T00:00:00Z</td><td>GSM3223695</td><td>Male  </td><td>Testis</td><td>SRP151462</td><td>Testis</td></tr>\n",
       "</tbody>\n",
       "</table>\n"
      ],
      "text/latex": [
       "A data.frame: 16 × 27\n",
       "\\begin{tabular}{lllllllllllllllllllll}\n",
       " Run & AGE & Assay.Type & AvgSpotLen & Bases & BioProject & BioSample & Bytes & Center.Name & Consent & ⋯ & LibrarySelection & LibrarySource & Organism & Platform & ReleaseDate & Sample.Name & Sexe & source\\_name & SRA.Study & Tissue\\\\\n",
       " <chr> & <chr> & <chr> & <int> & <dbl> & <chr> & <chr> & <dbl> & <chr> & <chr> & ⋯ & <chr> & <chr> & <chr> & <chr> & <chr> & <chr> & <chr> & <chr> & <chr> & <chr>\\\\\n",
       "\\hline\n",
       "\t SRR7430706 & 6GW+2d  & RNA-Seq & 100 & 5233393500 & PRJNA478051 & SAMN09495494 & 3175420095 & GEO & public & ⋯ & cDNA & TRANSCRIPTOMIC & Homo sapiens & ILLUMINA & 2020-02-20T00:00:00Z & GSM3223657 & Female & Ovary  & SRP151462 & Ovary \\\\\n",
       "\t SRR7430707 & 6GW+2d  & RNA-Seq & 100 & 4564533100 & PRJNA478051 & SAMN09495493 & 2739850864 & GEO & public & ⋯ & cDNA & TRANSCRIPTOMIC & Homo sapiens & ILLUMINA & 2020-02-20T00:00:00Z & GSM3223658 & Female & Ovary  & SRP151462 & Ovary \\\\\n",
       "\t SRR7430708 & 6GW+6d  & RNA-Seq & 100 & 5490941400 & PRJNA478051 & SAMN09495487 & 3232029711 & GEO & public & ⋯ & cDNA & TRANSCRIPTOMIC & Homo sapiens & ILLUMINA & 2020-02-20T00:00:00Z & GSM3223659 & Female & Ovary  & SRP151462 & Ovary \\\\\n",
       "\t SRR7430709 & 6GW+5d  & RNA-Seq & 100 & 4802762900 & PRJNA478051 & SAMN09495486 & 2884317954 & GEO & public & ⋯ & cDNA & TRANSCRIPTOMIC & Homo sapiens & ILLUMINA & 2020-02-20T00:00:00Z & GSM3223660 & Female & Ovary  & SRP151462 & Ovary \\\\\n",
       "\t SRR7430710 & 6GW+0d  & RNA-Seq & 100 & 5651159100 & PRJNA478051 & SAMN09495492 & 3418092037 & GEO & public & ⋯ & cDNA & TRANSCRIPTOMIC & Homo sapiens & ILLUMINA & 2020-02-20T00:00:00Z & GSM3223661 & Male   & Testis & SRP151462 & Testis\\\\\n",
       "\t SRR7430711 & 6GW+0d  & RNA-Seq & 100 & 4837998700 & PRJNA478051 & SAMN09495491 & 2905912075 & GEO & public & ⋯ & cDNA & TRANSCRIPTOMIC & Homo sapiens & ILLUMINA & 2020-02-20T00:00:00Z & GSM3223662 & Male   & Testis & SRP151462 & Testis\\\\\n",
       "\t SRR7430712 & 6GW+3d  & RNA-Seq & 100 & 4351153200 & PRJNA478051 & SAMN09495490 & 2613300399 & GEO & public & ⋯ & cDNA & TRANSCRIPTOMIC & Homo sapiens & ILLUMINA & 2020-02-20T00:00:00Z & GSM3223663 & Male   & Testis & SRP151462 & Testis\\\\\n",
       "\t SRR7430713 & 6GW+4d  & RNA-Seq & 100 & 5225035300 & PRJNA478051 & SAMN09495489 & 3120369302 & GEO & public & ⋯ & cDNA & TRANSCRIPTOMIC & Homo sapiens & ILLUMINA & 2020-02-20T00:00:00Z & GSM3223664 & Male   & Testis & SRP151462 & Testis\\\\\n",
       "\t SRR7430738 & 11GW+6d & RNA-Seq & 100 & 5237656400 & PRJNA478051 & SAMN09495549 & 3303005156 & GEO & public & ⋯ & cDNA & TRANSCRIPTOMIC & Homo sapiens & ILLUMINA & 2020-02-20T00:00:00Z & GSM3223689 & Female & Ovary  & SRP151462 & Ovary \\\\\n",
       "\t SRR7430739 & 12GW    & RNA-Seq & 100 & 4500870600 & PRJNA478051 & SAMN09495541 & 2830500219 & GEO & public & ⋯ & cDNA & TRANSCRIPTOMIC & Homo sapiens & ILLUMINA & 2020-02-20T00:00:00Z & GSM3223690 & Female & Ovary  & SRP151462 & Ovary \\\\\n",
       "\t SRR7430741 & 12GW    & RNA-Seq & 100 & 3577239700 & PRJNA478051 & SAMN09495547 & 2341260732 & GEO & public & ⋯ & cDNA & TRANSCRIPTOMIC & Homo sapiens & ILLUMINA & 2020-02-20T00:00:00Z & GSM3223692 & Female & Ovary  & SRP151462 & Ovary \\\\\n",
       "\t SRR7430742 & 11GW+4d & RNA-Seq & 100 & 4473006700 & PRJNA478051 & SAMN09495546 & 2836994800 & GEO & public & ⋯ & cDNA & TRANSCRIPTOMIC & Homo sapiens & ILLUMINA & 2020-02-20T00:00:00Z & GSM3223693 & Male   & Testis & SRP151462 & Testis\\\\\n",
       "\t SRR7430745 & 12GW    & RNA-Seq & 100 & 8360636000 & PRJNA478051 & SAMN09495543 & 5486747966 & GEO & public & ⋯ & cDNA & TRANSCRIPTOMIC & Homo sapiens & ILLUMINA & 2020-02-20T00:00:00Z & GSM3223696 & Male   & Testis & SRP151462 & Testis\\\\\n",
       "\t SRR7430743 & 11GW+6d & RNA-Seq & 100 & 4211604300 & PRJNA478051 & SAMN09495545 & 2637192481 & GEO & public & ⋯ & cDNA & TRANSCRIPTOMIC & Homo sapiens & ILLUMINA & 2020-02-20T00:00:00Z & GSM3223694 & Male   & Testis & SRP151462 & Testis\\\\\n",
       "\t SRR7430740 & 12GW    & RNA-Seq & 100 & 4847461000 & PRJNA478051 & SAMN09495548 & 3049604991 & GEO & public & ⋯ & cDNA & TRANSCRIPTOMIC & Homo sapiens & ILLUMINA & 2020-02-20T00:00:00Z & GSM3223691 & Female & Ovary  & SRP151462 & Ovary \\\\\n",
       "\t SRR7430744 & 12GW    & RNA-Seq & 100 & 3921042700 & PRJNA478051 & SAMN09495544 & 2465667067 & GEO & public & ⋯ & cDNA & TRANSCRIPTOMIC & Homo sapiens & ILLUMINA & 2020-02-20T00:00:00Z & GSM3223695 & Male   & Testis & SRP151462 & Testis\\\\\n",
       "\\end{tabular}\n"
      ],
      "text/markdown": [
       "\n",
       "A data.frame: 16 × 27\n",
       "\n",
       "| Run &lt;chr&gt; | AGE &lt;chr&gt; | Assay.Type &lt;chr&gt; | AvgSpotLen &lt;int&gt; | Bases &lt;dbl&gt; | BioProject &lt;chr&gt; | BioSample &lt;chr&gt; | Bytes &lt;dbl&gt; | Center.Name &lt;chr&gt; | Consent &lt;chr&gt; | ⋯ ⋯ | LibrarySelection &lt;chr&gt; | LibrarySource &lt;chr&gt; | Organism &lt;chr&gt; | Platform &lt;chr&gt; | ReleaseDate &lt;chr&gt; | Sample.Name &lt;chr&gt; | Sexe &lt;chr&gt; | source_name &lt;chr&gt; | SRA.Study &lt;chr&gt; | Tissue &lt;chr&gt; |\n",
       "|---|---|---|---|---|---|---|---|---|---|---|---|---|---|---|---|---|---|---|---|---|\n",
       "| SRR7430706 | 6GW+2d  | RNA-Seq | 100 | 5233393500 | PRJNA478051 | SAMN09495494 | 3175420095 | GEO | public | ⋯ | cDNA | TRANSCRIPTOMIC | Homo sapiens | ILLUMINA | 2020-02-20T00:00:00Z | GSM3223657 | Female | Ovary  | SRP151462 | Ovary  |\n",
       "| SRR7430707 | 6GW+2d  | RNA-Seq | 100 | 4564533100 | PRJNA478051 | SAMN09495493 | 2739850864 | GEO | public | ⋯ | cDNA | TRANSCRIPTOMIC | Homo sapiens | ILLUMINA | 2020-02-20T00:00:00Z | GSM3223658 | Female | Ovary  | SRP151462 | Ovary  |\n",
       "| SRR7430708 | 6GW+6d  | RNA-Seq | 100 | 5490941400 | PRJNA478051 | SAMN09495487 | 3232029711 | GEO | public | ⋯ | cDNA | TRANSCRIPTOMIC | Homo sapiens | ILLUMINA | 2020-02-20T00:00:00Z | GSM3223659 | Female | Ovary  | SRP151462 | Ovary  |\n",
       "| SRR7430709 | 6GW+5d  | RNA-Seq | 100 | 4802762900 | PRJNA478051 | SAMN09495486 | 2884317954 | GEO | public | ⋯ | cDNA | TRANSCRIPTOMIC | Homo sapiens | ILLUMINA | 2020-02-20T00:00:00Z | GSM3223660 | Female | Ovary  | SRP151462 | Ovary  |\n",
       "| SRR7430710 | 6GW+0d  | RNA-Seq | 100 | 5651159100 | PRJNA478051 | SAMN09495492 | 3418092037 | GEO | public | ⋯ | cDNA | TRANSCRIPTOMIC | Homo sapiens | ILLUMINA | 2020-02-20T00:00:00Z | GSM3223661 | Male   | Testis | SRP151462 | Testis |\n",
       "| SRR7430711 | 6GW+0d  | RNA-Seq | 100 | 4837998700 | PRJNA478051 | SAMN09495491 | 2905912075 | GEO | public | ⋯ | cDNA | TRANSCRIPTOMIC | Homo sapiens | ILLUMINA | 2020-02-20T00:00:00Z | GSM3223662 | Male   | Testis | SRP151462 | Testis |\n",
       "| SRR7430712 | 6GW+3d  | RNA-Seq | 100 | 4351153200 | PRJNA478051 | SAMN09495490 | 2613300399 | GEO | public | ⋯ | cDNA | TRANSCRIPTOMIC | Homo sapiens | ILLUMINA | 2020-02-20T00:00:00Z | GSM3223663 | Male   | Testis | SRP151462 | Testis |\n",
       "| SRR7430713 | 6GW+4d  | RNA-Seq | 100 | 5225035300 | PRJNA478051 | SAMN09495489 | 3120369302 | GEO | public | ⋯ | cDNA | TRANSCRIPTOMIC | Homo sapiens | ILLUMINA | 2020-02-20T00:00:00Z | GSM3223664 | Male   | Testis | SRP151462 | Testis |\n",
       "| SRR7430738 | 11GW+6d | RNA-Seq | 100 | 5237656400 | PRJNA478051 | SAMN09495549 | 3303005156 | GEO | public | ⋯ | cDNA | TRANSCRIPTOMIC | Homo sapiens | ILLUMINA | 2020-02-20T00:00:00Z | GSM3223689 | Female | Ovary  | SRP151462 | Ovary  |\n",
       "| SRR7430739 | 12GW    | RNA-Seq | 100 | 4500870600 | PRJNA478051 | SAMN09495541 | 2830500219 | GEO | public | ⋯ | cDNA | TRANSCRIPTOMIC | Homo sapiens | ILLUMINA | 2020-02-20T00:00:00Z | GSM3223690 | Female | Ovary  | SRP151462 | Ovary  |\n",
       "| SRR7430741 | 12GW    | RNA-Seq | 100 | 3577239700 | PRJNA478051 | SAMN09495547 | 2341260732 | GEO | public | ⋯ | cDNA | TRANSCRIPTOMIC | Homo sapiens | ILLUMINA | 2020-02-20T00:00:00Z | GSM3223692 | Female | Ovary  | SRP151462 | Ovary  |\n",
       "| SRR7430742 | 11GW+4d | RNA-Seq | 100 | 4473006700 | PRJNA478051 | SAMN09495546 | 2836994800 | GEO | public | ⋯ | cDNA | TRANSCRIPTOMIC | Homo sapiens | ILLUMINA | 2020-02-20T00:00:00Z | GSM3223693 | Male   | Testis | SRP151462 | Testis |\n",
       "| SRR7430745 | 12GW    | RNA-Seq | 100 | 8360636000 | PRJNA478051 | SAMN09495543 | 5486747966 | GEO | public | ⋯ | cDNA | TRANSCRIPTOMIC | Homo sapiens | ILLUMINA | 2020-02-20T00:00:00Z | GSM3223696 | Male   | Testis | SRP151462 | Testis |\n",
       "| SRR7430743 | 11GW+6d | RNA-Seq | 100 | 4211604300 | PRJNA478051 | SAMN09495545 | 2637192481 | GEO | public | ⋯ | cDNA | TRANSCRIPTOMIC | Homo sapiens | ILLUMINA | 2020-02-20T00:00:00Z | GSM3223694 | Male   | Testis | SRP151462 | Testis |\n",
       "| SRR7430740 | 12GW    | RNA-Seq | 100 | 4847461000 | PRJNA478051 | SAMN09495548 | 3049604991 | GEO | public | ⋯ | cDNA | TRANSCRIPTOMIC | Homo sapiens | ILLUMINA | 2020-02-20T00:00:00Z | GSM3223691 | Female | Ovary  | SRP151462 | Ovary  |\n",
       "| SRR7430744 | 12GW    | RNA-Seq | 100 | 3921042700 | PRJNA478051 | SAMN09495544 | 2465667067 | GEO | public | ⋯ | cDNA | TRANSCRIPTOMIC | Homo sapiens | ILLUMINA | 2020-02-20T00:00:00Z | GSM3223695 | Male   | Testis | SRP151462 | Testis |\n",
       "\n"
      ],
      "text/plain": [
       "   Run        AGE     Assay.Type AvgSpotLen Bases      BioProject  BioSample   \n",
       "1  SRR7430706 6GW+2d  RNA-Seq    100        5233393500 PRJNA478051 SAMN09495494\n",
       "2  SRR7430707 6GW+2d  RNA-Seq    100        4564533100 PRJNA478051 SAMN09495493\n",
       "3  SRR7430708 6GW+6d  RNA-Seq    100        5490941400 PRJNA478051 SAMN09495487\n",
       "4  SRR7430709 6GW+5d  RNA-Seq    100        4802762900 PRJNA478051 SAMN09495486\n",
       "5  SRR7430710 6GW+0d  RNA-Seq    100        5651159100 PRJNA478051 SAMN09495492\n",
       "6  SRR7430711 6GW+0d  RNA-Seq    100        4837998700 PRJNA478051 SAMN09495491\n",
       "7  SRR7430712 6GW+3d  RNA-Seq    100        4351153200 PRJNA478051 SAMN09495490\n",
       "8  SRR7430713 6GW+4d  RNA-Seq    100        5225035300 PRJNA478051 SAMN09495489\n",
       "9  SRR7430738 11GW+6d RNA-Seq    100        5237656400 PRJNA478051 SAMN09495549\n",
       "10 SRR7430739 12GW    RNA-Seq    100        4500870600 PRJNA478051 SAMN09495541\n",
       "11 SRR7430741 12GW    RNA-Seq    100        3577239700 PRJNA478051 SAMN09495547\n",
       "12 SRR7430742 11GW+4d RNA-Seq    100        4473006700 PRJNA478051 SAMN09495546\n",
       "13 SRR7430745 12GW    RNA-Seq    100        8360636000 PRJNA478051 SAMN09495543\n",
       "14 SRR7430743 11GW+6d RNA-Seq    100        4211604300 PRJNA478051 SAMN09495545\n",
       "15 SRR7430740 12GW    RNA-Seq    100        4847461000 PRJNA478051 SAMN09495548\n",
       "16 SRR7430744 12GW    RNA-Seq    100        3921042700 PRJNA478051 SAMN09495544\n",
       "   Bytes      Center.Name Consent ⋯ LibrarySelection LibrarySource \n",
       "1  3175420095 GEO         public  ⋯ cDNA             TRANSCRIPTOMIC\n",
       "2  2739850864 GEO         public  ⋯ cDNA             TRANSCRIPTOMIC\n",
       "3  3232029711 GEO         public  ⋯ cDNA             TRANSCRIPTOMIC\n",
       "4  2884317954 GEO         public  ⋯ cDNA             TRANSCRIPTOMIC\n",
       "5  3418092037 GEO         public  ⋯ cDNA             TRANSCRIPTOMIC\n",
       "6  2905912075 GEO         public  ⋯ cDNA             TRANSCRIPTOMIC\n",
       "7  2613300399 GEO         public  ⋯ cDNA             TRANSCRIPTOMIC\n",
       "8  3120369302 GEO         public  ⋯ cDNA             TRANSCRIPTOMIC\n",
       "9  3303005156 GEO         public  ⋯ cDNA             TRANSCRIPTOMIC\n",
       "10 2830500219 GEO         public  ⋯ cDNA             TRANSCRIPTOMIC\n",
       "11 2341260732 GEO         public  ⋯ cDNA             TRANSCRIPTOMIC\n",
       "12 2836994800 GEO         public  ⋯ cDNA             TRANSCRIPTOMIC\n",
       "13 5486747966 GEO         public  ⋯ cDNA             TRANSCRIPTOMIC\n",
       "14 2637192481 GEO         public  ⋯ cDNA             TRANSCRIPTOMIC\n",
       "15 3049604991 GEO         public  ⋯ cDNA             TRANSCRIPTOMIC\n",
       "16 2465667067 GEO         public  ⋯ cDNA             TRANSCRIPTOMIC\n",
       "   Organism     Platform ReleaseDate          Sample.Name Sexe   source_name\n",
       "1  Homo sapiens ILLUMINA 2020-02-20T00:00:00Z GSM3223657  Female Ovary      \n",
       "2  Homo sapiens ILLUMINA 2020-02-20T00:00:00Z GSM3223658  Female Ovary      \n",
       "3  Homo sapiens ILLUMINA 2020-02-20T00:00:00Z GSM3223659  Female Ovary      \n",
       "4  Homo sapiens ILLUMINA 2020-02-20T00:00:00Z GSM3223660  Female Ovary      \n",
       "5  Homo sapiens ILLUMINA 2020-02-20T00:00:00Z GSM3223661  Male   Testis     \n",
       "6  Homo sapiens ILLUMINA 2020-02-20T00:00:00Z GSM3223662  Male   Testis     \n",
       "7  Homo sapiens ILLUMINA 2020-02-20T00:00:00Z GSM3223663  Male   Testis     \n",
       "8  Homo sapiens ILLUMINA 2020-02-20T00:00:00Z GSM3223664  Male   Testis     \n",
       "9  Homo sapiens ILLUMINA 2020-02-20T00:00:00Z GSM3223689  Female Ovary      \n",
       "10 Homo sapiens ILLUMINA 2020-02-20T00:00:00Z GSM3223690  Female Ovary      \n",
       "11 Homo sapiens ILLUMINA 2020-02-20T00:00:00Z GSM3223692  Female Ovary      \n",
       "12 Homo sapiens ILLUMINA 2020-02-20T00:00:00Z GSM3223693  Male   Testis     \n",
       "13 Homo sapiens ILLUMINA 2020-02-20T00:00:00Z GSM3223696  Male   Testis     \n",
       "14 Homo sapiens ILLUMINA 2020-02-20T00:00:00Z GSM3223694  Male   Testis     \n",
       "15 Homo sapiens ILLUMINA 2020-02-20T00:00:00Z GSM3223691  Female Ovary      \n",
       "16 Homo sapiens ILLUMINA 2020-02-20T00:00:00Z GSM3223695  Male   Testis     \n",
       "   SRA.Study Tissue\n",
       "1  SRP151462 Ovary \n",
       "2  SRP151462 Ovary \n",
       "3  SRP151462 Ovary \n",
       "4  SRP151462 Ovary \n",
       "5  SRP151462 Testis\n",
       "6  SRP151462 Testis\n",
       "7  SRP151462 Testis\n",
       "8  SRP151462 Testis\n",
       "9  SRP151462 Ovary \n",
       "10 SRP151462 Ovary \n",
       "11 SRP151462 Ovary \n",
       "12 SRP151462 Testis\n",
       "13 SRP151462 Testis\n",
       "14 SRP151462 Testis\n",
       "15 SRP151462 Ovary \n",
       "16 SRP151462 Testis"
      ]
     },
     "metadata": {},
     "output_type": "display_data"
    }
   ],
   "source": [
    "sratable <- read.table(\"/shared/projects/gonseq/Building/Data/info/16samples_SraRunTable.txt\",\n",
    "                       header=TRUE, sep=\",\", na.strings=\"\")\n",
    "sratable"
   ]
  },
  {
   "cell_type": "markdown",
   "metadata": {},
   "source": [
    "### **2- Addition of factors of interest**"
   ]
  },
  {
   "cell_type": "markdown",
   "metadata": {},
   "source": [
    "If not present, we need to add a column for each factor of interest.  \n",
    "\n",
    "In the case of `gonseq` study (extracted from Lecluze et al., 2020), there are two biological factors:\n",
    "- time or development stage\n",
    "- tissue sampling or sex determination"
   ]
  },
  {
   "cell_type": "markdown",
   "metadata": {},
   "source": [
    "#### **2.a- Factor 1: devlopment stage**"
   ]
  },
  {
   "cell_type": "markdown",
   "metadata": {},
   "source": [
    "<div class=\"alert alert-block alert-danger\">\n",
    "    <b>Authors made a mistake when they annotated samples: in the paper they use PostConceptional Weeks instead of Gestational Weeks. Biological data is in favor of PCW units (sexual differentiation at 6 PCW / 8 GW).</b>  <br>\n",
    "I correct it along whith time simplification for statistical analysis.\n",
    "</div>"
   ]
  },
  {
   "cell_type": "code",
   "execution_count": 3,
   "metadata": {},
   "outputs": [
    {
     "data": {
      "text/html": [
       "<table class=\"dataframe\">\n",
       "<caption>A data.frame: 9 × 2</caption>\n",
       "<thead>\n",
       "\t<tr><th></th><th scope=col>AGE</th><th scope=col>Stage</th></tr>\n",
       "\t<tr><th></th><th scope=col>&lt;chr&gt;</th><th scope=col>&lt;chr&gt;</th></tr>\n",
       "</thead>\n",
       "<tbody>\n",
       "\t<tr><th scope=row>1</th><td>6GW+2d </td><td>6PCW </td></tr>\n",
       "\t<tr><th scope=row>3</th><td>6GW+6d </td><td>6PCW </td></tr>\n",
       "\t<tr><th scope=row>4</th><td>6GW+5d </td><td>6PCW </td></tr>\n",
       "\t<tr><th scope=row>5</th><td>6GW+0d </td><td>6PCW </td></tr>\n",
       "\t<tr><th scope=row>7</th><td>6GW+3d </td><td>6PCW </td></tr>\n",
       "\t<tr><th scope=row>8</th><td>6GW+4d </td><td>6PCW </td></tr>\n",
       "\t<tr><th scope=row>9</th><td>11GW+6d</td><td>12PCW</td></tr>\n",
       "\t<tr><th scope=row>10</th><td>12GW   </td><td>12PCW</td></tr>\n",
       "\t<tr><th scope=row>12</th><td>11GW+4d</td><td>12PCW</td></tr>\n",
       "</tbody>\n",
       "</table>\n"
      ],
      "text/latex": [
       "A data.frame: 9 × 2\n",
       "\\begin{tabular}{r|ll}\n",
       "  & AGE & Stage\\\\\n",
       "  & <chr> & <chr>\\\\\n",
       "\\hline\n",
       "\t1 & 6GW+2d  & 6PCW \\\\\n",
       "\t3 & 6GW+6d  & 6PCW \\\\\n",
       "\t4 & 6GW+5d  & 6PCW \\\\\n",
       "\t5 & 6GW+0d  & 6PCW \\\\\n",
       "\t7 & 6GW+3d  & 6PCW \\\\\n",
       "\t8 & 6GW+4d  & 6PCW \\\\\n",
       "\t9 & 11GW+6d & 12PCW\\\\\n",
       "\t10 & 12GW    & 12PCW\\\\\n",
       "\t12 & 11GW+4d & 12PCW\\\\\n",
       "\\end{tabular}\n"
      ],
      "text/markdown": [
       "\n",
       "A data.frame: 9 × 2\n",
       "\n",
       "| <!--/--> | AGE &lt;chr&gt; | Stage &lt;chr&gt; |\n",
       "|---|---|---|\n",
       "| 1 | 6GW+2d  | 6PCW  |\n",
       "| 3 | 6GW+6d  | 6PCW  |\n",
       "| 4 | 6GW+5d  | 6PCW  |\n",
       "| 5 | 6GW+0d  | 6PCW  |\n",
       "| 7 | 6GW+3d  | 6PCW  |\n",
       "| 8 | 6GW+4d  | 6PCW  |\n",
       "| 9 | 11GW+6d | 12PCW |\n",
       "| 10 | 12GW    | 12PCW |\n",
       "| 12 | 11GW+4d | 12PCW |\n",
       "\n"
      ],
      "text/plain": [
       "   AGE     Stage\n",
       "1  6GW+2d  6PCW \n",
       "3  6GW+6d  6PCW \n",
       "4  6GW+5d  6PCW \n",
       "5  6GW+0d  6PCW \n",
       "7  6GW+3d  6PCW \n",
       "8  6GW+4d  6PCW \n",
       "9  11GW+6d 12PCW\n",
       "10 12GW    12PCW\n",
       "12 11GW+4d 12PCW"
      ]
     },
     "metadata": {},
     "output_type": "display_data"
    }
   ],
   "source": [
    "sratable[grepl(\"6GW\", sratable$AGE), \"Stage\"] <- \"6PCW\"\n",
    "sratable[grepl(\"11GW|12GW\", sratable$AGE), \"Stage\"] <- \"12PCW\"\n",
    "unique(sratable[ , c(\"AGE\", \"Stage\")])"
   ]
  },
  {
   "cell_type": "markdown",
   "metadata": {},
   "source": [
    "#### **2.b- Factor 2: gonadal type**"
   ]
  },
  {
   "cell_type": "markdown",
   "metadata": {},
   "source": [
    "Let's first see which columns do we already have:"
   ]
  },
  {
   "cell_type": "code",
   "execution_count": 5,
   "metadata": {},
   "outputs": [
    {
     "name": "stdout",
     "output_type": "stream",
     "text": [
      " [1] \"Run\"                 \"AGE\"                 \"Assay.Type\"         \n",
      " [4] \"AvgSpotLen\"          \"Bases\"               \"BioProject\"         \n",
      " [7] \"BioSample\"           \"Bytes\"               \"Center.Name\"        \n",
      "[10] \"Consent\"             \"DATASTORE.filetype\"  \"DATASTORE.provider\" \n",
      "[13] \"DATASTORE.region\"    \"Experiment\"          \"GEO_Accession..exp.\"\n",
      "[16] \"Instrument\"          \"LibraryLayout\"       \"LibrarySelection\"   \n",
      "[19] \"LibrarySource\"       \"Organism\"            \"Platform\"           \n",
      "[22] \"ReleaseDate\"         \"Sample.Name\"         \"Sexe\"               \n",
      "[25] \"source_name\"         \"SRA.Study\"           \"Tissue\"             \n",
      "[28] \"Stage\"              \n"
     ]
    }
   ],
   "source": [
    "print( colnames(sratable) )"
   ]
  },
  {
   "cell_type": "code",
   "execution_count": 6,
   "metadata": {},
   "outputs": [
    {
     "data": {
      "text/html": [
       "<table class=\"dataframe\">\n",
       "<caption>A data.frame: 2 × 2</caption>\n",
       "<thead>\n",
       "\t<tr><th></th><th scope=col>Sexe</th><th scope=col>Tissue</th></tr>\n",
       "\t<tr><th></th><th scope=col>&lt;chr&gt;</th><th scope=col>&lt;chr&gt;</th></tr>\n",
       "</thead>\n",
       "<tbody>\n",
       "\t<tr><th scope=row>1</th><td>Female</td><td>Ovary </td></tr>\n",
       "\t<tr><th scope=row>5</th><td>Male  </td><td>Testis</td></tr>\n",
       "</tbody>\n",
       "</table>\n"
      ],
      "text/latex": [
       "A data.frame: 2 × 2\n",
       "\\begin{tabular}{r|ll}\n",
       "  & Sexe & Tissue\\\\\n",
       "  & <chr> & <chr>\\\\\n",
       "\\hline\n",
       "\t1 & Female & Ovary \\\\\n",
       "\t5 & Male   & Testis\\\\\n",
       "\\end{tabular}\n"
      ],
      "text/markdown": [
       "\n",
       "A data.frame: 2 × 2\n",
       "\n",
       "| <!--/--> | Sexe &lt;chr&gt; | Tissue &lt;chr&gt; |\n",
       "|---|---|---|\n",
       "| 1 | Female | Ovary  |\n",
       "| 5 | Male   | Testis |\n",
       "\n"
      ],
      "text/plain": [
       "  Sexe   Tissue\n",
       "1 Female Ovary \n",
       "5 Male   Testis"
      ]
     },
     "metadata": {},
     "output_type": "display_data"
    }
   ],
   "source": [
    "unique(sratable[ , c(\"Sexe\", \"Tissue\")])"
   ]
  },
  {
   "cell_type": "markdown",
   "metadata": {},
   "source": [
    "Only two combinations exist for `Sexe` and `Tissue`columns: Female-Ovary and Male-Testis. Thus, the `Tissue` column already gives us the organ origin, we will use this column as the second factor."
   ]
  },
  {
   "cell_type": "markdown",
   "metadata": {},
   "source": [
    "#### **2.c- List of all factors, number of samples per group and names with meaning**"
   ]
  },
  {
   "cell_type": "markdown",
   "metadata": {},
   "source": [
    "We will define a variable to host factor colnames:"
   ]
  },
  {
   "cell_type": "code",
   "execution_count": 7,
   "metadata": {},
   "outputs": [],
   "source": [
    "varnames <- c(\"Stage\", \"Tissue\")"
   ]
  },
  {
   "cell_type": "markdown",
   "metadata": {},
   "source": [
    "Let's check that we have at least 2 samples per condition, to be sure that we can perform a statistical analysis with this dataset."
   ]
  },
  {
   "cell_type": "code",
   "execution_count": 8,
   "metadata": {},
   "outputs": [
    {
     "data": {
      "text/plain": [
       "       Tissue\n",
       "Stage   Ovary Testis\n",
       "  12PCW     4      4\n",
       "  6PCW      4      4"
      ]
     },
     "metadata": {},
     "output_type": "display_data"
    }
   ],
   "source": [
    "table(sratable[, varnames])"
   ]
  },
  {
   "cell_type": "markdown",
   "metadata": {},
   "source": [
    "With following cells, we will add a column to have names with a human-readable meaning:\n",
    "- prepare a chart with name format and a value to count sample number"
   ]
  },
  {
   "cell_type": "code",
   "execution_count": 9,
   "metadata": {},
   "outputs": [
    {
     "data": {
      "text/html": [
       "<table class=\"dataframe\">\n",
       "<caption>A data.frame: 4 × 4</caption>\n",
       "<thead>\n",
       "\t<tr><th></th><th scope=col>Stage</th><th scope=col>Tissue</th><th scope=col>counts</th><th scope=col>names</th></tr>\n",
       "\t<tr><th></th><th scope=col>&lt;chr&gt;</th><th scope=col>&lt;chr&gt;</th><th scope=col>&lt;dbl&gt;</th><th scope=col>&lt;chr&gt;</th></tr>\n",
       "</thead>\n",
       "<tbody>\n",
       "\t<tr><th scope=row>1</th><td>6PCW </td><td>Ovary </td><td>0</td><td>6pcw-ovary-  </td></tr>\n",
       "\t<tr><th scope=row>5</th><td>6PCW </td><td>Testis</td><td>0</td><td>6pcw-testis- </td></tr>\n",
       "\t<tr><th scope=row>9</th><td>12PCW</td><td>Ovary </td><td>0</td><td>12pcw-ovary- </td></tr>\n",
       "\t<tr><th scope=row>12</th><td>12PCW</td><td>Testis</td><td>0</td><td>12pcw-testis-</td></tr>\n",
       "</tbody>\n",
       "</table>\n"
      ],
      "text/latex": [
       "A data.frame: 4 × 4\n",
       "\\begin{tabular}{r|llll}\n",
       "  & Stage & Tissue & counts & names\\\\\n",
       "  & <chr> & <chr> & <dbl> & <chr>\\\\\n",
       "\\hline\n",
       "\t1 & 6PCW  & Ovary  & 0 & 6pcw-ovary-  \\\\\n",
       "\t5 & 6PCW  & Testis & 0 & 6pcw-testis- \\\\\n",
       "\t9 & 12PCW & Ovary  & 0 & 12pcw-ovary- \\\\\n",
       "\t12 & 12PCW & Testis & 0 & 12pcw-testis-\\\\\n",
       "\\end{tabular}\n"
      ],
      "text/markdown": [
       "\n",
       "A data.frame: 4 × 4\n",
       "\n",
       "| <!--/--> | Stage &lt;chr&gt; | Tissue &lt;chr&gt; | counts &lt;dbl&gt; | names &lt;chr&gt; |\n",
       "|---|---|---|---|---|\n",
       "| 1 | 6PCW  | Ovary  | 0 | 6pcw-ovary-   |\n",
       "| 5 | 6PCW  | Testis | 0 | 6pcw-testis-  |\n",
       "| 9 | 12PCW | Ovary  | 0 | 12pcw-ovary-  |\n",
       "| 12 | 12PCW | Testis | 0 | 12pcw-testis- |\n",
       "\n"
      ],
      "text/plain": [
       "   Stage Tissue counts names        \n",
       "1  6PCW  Ovary  0      6pcw-ovary-  \n",
       "5  6PCW  Testis 0      6pcw-testis- \n",
       "9  12PCW Ovary  0      12pcw-ovary- \n",
       "12 12PCW Testis 0      12pcw-testis-"
      ]
     },
     "metadata": {},
     "output_type": "display_data"
    }
   ],
   "source": [
    "groups <- unique(sratable[, varnames])\n",
    "\n",
    "if (is.null(dim(groups))){\n",
    "    groups <- cbind(groups,\n",
    "                    counts = rep(0, times = length(groups)),\n",
    "                    names = paste0(tolower(groups), \"-\"))\n",
    "} else {\n",
    "    groups[ , \"counts\"] <- 0\n",
    "    groups[ , \"names\"] <- \"\"\n",
    "    for (i in 1:length(varnames)){\n",
    "        groups[ , \"names\"] <- paste0(tolower(groups[ , \"names\"]),\n",
    "                                     tolower(groups[ , varnames[i]]), sep=\"-\")\n",
    "    }\n",
    "}\n",
    "groups"
   ]
  },
  {
   "cell_type": "markdown",
   "metadata": {},
   "source": [
    "- sort lines by alphanumerical order of the column we prefer (here *Run* numbers)"
   ]
  },
  {
   "cell_type": "code",
   "execution_count": 10,
   "metadata": {},
   "outputs": [],
   "source": [
    "colsorter <- \"Run\"                                         # colname to perform lines sorting\n",
    "sratable <- sratable[order(sratable[, colsorter]), ]       # basic and not extensively tested: check that it works as you expect\n",
    "\n",
    "\n",
    "rownames(sratable) <- 1:dim(sratable)[1]"
   ]
  },
  {
   "cell_type": "code",
   "execution_count": 12,
   "metadata": {},
   "outputs": [
    {
     "data": {
      "text/html": [
       "<table class=\"dataframe\">\n",
       "<caption>A data.frame: 16 × 3</caption>\n",
       "<thead>\n",
       "\t<tr><th></th><th scope=col>Run</th><th scope=col>Stage</th><th scope=col>Tissue</th></tr>\n",
       "\t<tr><th></th><th scope=col>&lt;chr&gt;</th><th scope=col>&lt;chr&gt;</th><th scope=col>&lt;chr&gt;</th></tr>\n",
       "</thead>\n",
       "<tbody>\n",
       "\t<tr><th scope=row>1</th><td>SRR7430706</td><td>6PCW </td><td>Ovary </td></tr>\n",
       "\t<tr><th scope=row>2</th><td>SRR7430707</td><td>6PCW </td><td>Ovary </td></tr>\n",
       "\t<tr><th scope=row>3</th><td>SRR7430708</td><td>6PCW </td><td>Ovary </td></tr>\n",
       "\t<tr><th scope=row>4</th><td>SRR7430709</td><td>6PCW </td><td>Ovary </td></tr>\n",
       "\t<tr><th scope=row>5</th><td>SRR7430710</td><td>6PCW </td><td>Testis</td></tr>\n",
       "\t<tr><th scope=row>6</th><td>SRR7430711</td><td>6PCW </td><td>Testis</td></tr>\n",
       "\t<tr><th scope=row>7</th><td>SRR7430712</td><td>6PCW </td><td>Testis</td></tr>\n",
       "\t<tr><th scope=row>8</th><td>SRR7430713</td><td>6PCW </td><td>Testis</td></tr>\n",
       "\t<tr><th scope=row>9</th><td>SRR7430738</td><td>12PCW</td><td>Ovary </td></tr>\n",
       "\t<tr><th scope=row>10</th><td>SRR7430739</td><td>12PCW</td><td>Ovary </td></tr>\n",
       "\t<tr><th scope=row>11</th><td>SRR7430740</td><td>12PCW</td><td>Ovary </td></tr>\n",
       "\t<tr><th scope=row>12</th><td>SRR7430741</td><td>12PCW</td><td>Ovary </td></tr>\n",
       "\t<tr><th scope=row>13</th><td>SRR7430742</td><td>12PCW</td><td>Testis</td></tr>\n",
       "\t<tr><th scope=row>14</th><td>SRR7430743</td><td>12PCW</td><td>Testis</td></tr>\n",
       "\t<tr><th scope=row>15</th><td>SRR7430744</td><td>12PCW</td><td>Testis</td></tr>\n",
       "\t<tr><th scope=row>16</th><td>SRR7430745</td><td>12PCW</td><td>Testis</td></tr>\n",
       "</tbody>\n",
       "</table>\n"
      ],
      "text/latex": [
       "A data.frame: 16 × 3\n",
       "\\begin{tabular}{r|lll}\n",
       "  & Run & Stage & Tissue\\\\\n",
       "  & <chr> & <chr> & <chr>\\\\\n",
       "\\hline\n",
       "\t1 & SRR7430706 & 6PCW  & Ovary \\\\\n",
       "\t2 & SRR7430707 & 6PCW  & Ovary \\\\\n",
       "\t3 & SRR7430708 & 6PCW  & Ovary \\\\\n",
       "\t4 & SRR7430709 & 6PCW  & Ovary \\\\\n",
       "\t5 & SRR7430710 & 6PCW  & Testis\\\\\n",
       "\t6 & SRR7430711 & 6PCW  & Testis\\\\\n",
       "\t7 & SRR7430712 & 6PCW  & Testis\\\\\n",
       "\t8 & SRR7430713 & 6PCW  & Testis\\\\\n",
       "\t9 & SRR7430738 & 12PCW & Ovary \\\\\n",
       "\t10 & SRR7430739 & 12PCW & Ovary \\\\\n",
       "\t11 & SRR7430740 & 12PCW & Ovary \\\\\n",
       "\t12 & SRR7430741 & 12PCW & Ovary \\\\\n",
       "\t13 & SRR7430742 & 12PCW & Testis\\\\\n",
       "\t14 & SRR7430743 & 12PCW & Testis\\\\\n",
       "\t15 & SRR7430744 & 12PCW & Testis\\\\\n",
       "\t16 & SRR7430745 & 12PCW & Testis\\\\\n",
       "\\end{tabular}\n"
      ],
      "text/markdown": [
       "\n",
       "A data.frame: 16 × 3\n",
       "\n",
       "| <!--/--> | Run &lt;chr&gt; | Stage &lt;chr&gt; | Tissue &lt;chr&gt; |\n",
       "|---|---|---|---|\n",
       "| 1 | SRR7430706 | 6PCW  | Ovary  |\n",
       "| 2 | SRR7430707 | 6PCW  | Ovary  |\n",
       "| 3 | SRR7430708 | 6PCW  | Ovary  |\n",
       "| 4 | SRR7430709 | 6PCW  | Ovary  |\n",
       "| 5 | SRR7430710 | 6PCW  | Testis |\n",
       "| 6 | SRR7430711 | 6PCW  | Testis |\n",
       "| 7 | SRR7430712 | 6PCW  | Testis |\n",
       "| 8 | SRR7430713 | 6PCW  | Testis |\n",
       "| 9 | SRR7430738 | 12PCW | Ovary  |\n",
       "| 10 | SRR7430739 | 12PCW | Ovary  |\n",
       "| 11 | SRR7430740 | 12PCW | Ovary  |\n",
       "| 12 | SRR7430741 | 12PCW | Ovary  |\n",
       "| 13 | SRR7430742 | 12PCW | Testis |\n",
       "| 14 | SRR7430743 | 12PCW | Testis |\n",
       "| 15 | SRR7430744 | 12PCW | Testis |\n",
       "| 16 | SRR7430745 | 12PCW | Testis |\n",
       "\n"
      ],
      "text/plain": [
       "   Run        Stage Tissue\n",
       "1  SRR7430706 6PCW  Ovary \n",
       "2  SRR7430707 6PCW  Ovary \n",
       "3  SRR7430708 6PCW  Ovary \n",
       "4  SRR7430709 6PCW  Ovary \n",
       "5  SRR7430710 6PCW  Testis\n",
       "6  SRR7430711 6PCW  Testis\n",
       "7  SRR7430712 6PCW  Testis\n",
       "8  SRR7430713 6PCW  Testis\n",
       "9  SRR7430738 12PCW Ovary \n",
       "10 SRR7430739 12PCW Ovary \n",
       "11 SRR7430740 12PCW Ovary \n",
       "12 SRR7430741 12PCW Ovary \n",
       "13 SRR7430742 12PCW Testis\n",
       "14 SRR7430743 12PCW Testis\n",
       "15 SRR7430744 12PCW Testis\n",
       "16 SRR7430745 12PCW Testis"
      ]
     },
     "metadata": {},
     "output_type": "display_data"
    }
   ],
   "source": [
    "sratable[ , c(colsorter, varnames)]"
   ]
  },
  {
   "cell_type": "markdown",
   "metadata": {},
   "source": [
    "- add individual number for each sample.\n",
    "\n",
    "*Remark*: I use TRUE/FALSE corresponding integer's values (1, 0 respectively) to help me knowing if both one or several groups match. That way I do not suppose someone's number of factors. *Feel free to add batch (no spaces nor special characters in batch values!) in `varnames` if you want to add it in sample names. But don't forget to remove it later from `varInt` in section II.1.*"
   ]
  },
  {
   "cell_type": "code",
   "execution_count": 13,
   "metadata": {},
   "outputs": [
    {
     "data": {
      "text/html": [
       "<table class=\"dataframe\">\n",
       "<caption>A data.frame: 16 × 2</caption>\n",
       "<thead>\n",
       "\t<tr><th></th><th scope=col>Run</th><th scope=col>Names</th></tr>\n",
       "\t<tr><th></th><th scope=col>&lt;chr&gt;</th><th scope=col>&lt;chr&gt;</th></tr>\n",
       "</thead>\n",
       "<tbody>\n",
       "\t<tr><th scope=row>1</th><td>SRR7430706</td><td>6pcw-ovary-1  </td></tr>\n",
       "\t<tr><th scope=row>2</th><td>SRR7430707</td><td>6pcw-ovary-2  </td></tr>\n",
       "\t<tr><th scope=row>3</th><td>SRR7430708</td><td>6pcw-ovary-3  </td></tr>\n",
       "\t<tr><th scope=row>4</th><td>SRR7430709</td><td>6pcw-ovary-4  </td></tr>\n",
       "\t<tr><th scope=row>5</th><td>SRR7430710</td><td>6pcw-testis-1 </td></tr>\n",
       "\t<tr><th scope=row>6</th><td>SRR7430711</td><td>6pcw-testis-2 </td></tr>\n",
       "\t<tr><th scope=row>7</th><td>SRR7430712</td><td>6pcw-testis-3 </td></tr>\n",
       "\t<tr><th scope=row>8</th><td>SRR7430713</td><td>6pcw-testis-4 </td></tr>\n",
       "\t<tr><th scope=row>9</th><td>SRR7430738</td><td>12pcw-ovary-1 </td></tr>\n",
       "\t<tr><th scope=row>10</th><td>SRR7430739</td><td>12pcw-ovary-2 </td></tr>\n",
       "\t<tr><th scope=row>11</th><td>SRR7430740</td><td>12pcw-ovary-3 </td></tr>\n",
       "\t<tr><th scope=row>12</th><td>SRR7430741</td><td>12pcw-ovary-4 </td></tr>\n",
       "\t<tr><th scope=row>13</th><td>SRR7430742</td><td>12pcw-testis-1</td></tr>\n",
       "\t<tr><th scope=row>14</th><td>SRR7430743</td><td>12pcw-testis-2</td></tr>\n",
       "\t<tr><th scope=row>15</th><td>SRR7430744</td><td>12pcw-testis-3</td></tr>\n",
       "\t<tr><th scope=row>16</th><td>SRR7430745</td><td>12pcw-testis-4</td></tr>\n",
       "</tbody>\n",
       "</table>\n"
      ],
      "text/latex": [
       "A data.frame: 16 × 2\n",
       "\\begin{tabular}{r|ll}\n",
       "  & Run & Names\\\\\n",
       "  & <chr> & <chr>\\\\\n",
       "\\hline\n",
       "\t1 & SRR7430706 & 6pcw-ovary-1  \\\\\n",
       "\t2 & SRR7430707 & 6pcw-ovary-2  \\\\\n",
       "\t3 & SRR7430708 & 6pcw-ovary-3  \\\\\n",
       "\t4 & SRR7430709 & 6pcw-ovary-4  \\\\\n",
       "\t5 & SRR7430710 & 6pcw-testis-1 \\\\\n",
       "\t6 & SRR7430711 & 6pcw-testis-2 \\\\\n",
       "\t7 & SRR7430712 & 6pcw-testis-3 \\\\\n",
       "\t8 & SRR7430713 & 6pcw-testis-4 \\\\\n",
       "\t9 & SRR7430738 & 12pcw-ovary-1 \\\\\n",
       "\t10 & SRR7430739 & 12pcw-ovary-2 \\\\\n",
       "\t11 & SRR7430740 & 12pcw-ovary-3 \\\\\n",
       "\t12 & SRR7430741 & 12pcw-ovary-4 \\\\\n",
       "\t13 & SRR7430742 & 12pcw-testis-1\\\\\n",
       "\t14 & SRR7430743 & 12pcw-testis-2\\\\\n",
       "\t15 & SRR7430744 & 12pcw-testis-3\\\\\n",
       "\t16 & SRR7430745 & 12pcw-testis-4\\\\\n",
       "\\end{tabular}\n"
      ],
      "text/markdown": [
       "\n",
       "A data.frame: 16 × 2\n",
       "\n",
       "| <!--/--> | Run &lt;chr&gt; | Names &lt;chr&gt; |\n",
       "|---|---|---|\n",
       "| 1 | SRR7430706 | 6pcw-ovary-1   |\n",
       "| 2 | SRR7430707 | 6pcw-ovary-2   |\n",
       "| 3 | SRR7430708 | 6pcw-ovary-3   |\n",
       "| 4 | SRR7430709 | 6pcw-ovary-4   |\n",
       "| 5 | SRR7430710 | 6pcw-testis-1  |\n",
       "| 6 | SRR7430711 | 6pcw-testis-2  |\n",
       "| 7 | SRR7430712 | 6pcw-testis-3  |\n",
       "| 8 | SRR7430713 | 6pcw-testis-4  |\n",
       "| 9 | SRR7430738 | 12pcw-ovary-1  |\n",
       "| 10 | SRR7430739 | 12pcw-ovary-2  |\n",
       "| 11 | SRR7430740 | 12pcw-ovary-3  |\n",
       "| 12 | SRR7430741 | 12pcw-ovary-4  |\n",
       "| 13 | SRR7430742 | 12pcw-testis-1 |\n",
       "| 14 | SRR7430743 | 12pcw-testis-2 |\n",
       "| 15 | SRR7430744 | 12pcw-testis-3 |\n",
       "| 16 | SRR7430745 | 12pcw-testis-4 |\n",
       "\n"
      ],
      "text/plain": [
       "   Run        Names         \n",
       "1  SRR7430706 6pcw-ovary-1  \n",
       "2  SRR7430707 6pcw-ovary-2  \n",
       "3  SRR7430708 6pcw-ovary-3  \n",
       "4  SRR7430709 6pcw-ovary-4  \n",
       "5  SRR7430710 6pcw-testis-1 \n",
       "6  SRR7430711 6pcw-testis-2 \n",
       "7  SRR7430712 6pcw-testis-3 \n",
       "8  SRR7430713 6pcw-testis-4 \n",
       "9  SRR7430738 12pcw-ovary-1 \n",
       "10 SRR7430739 12pcw-ovary-2 \n",
       "11 SRR7430740 12pcw-ovary-3 \n",
       "12 SRR7430741 12pcw-ovary-4 \n",
       "13 SRR7430742 12pcw-testis-1\n",
       "14 SRR7430743 12pcw-testis-2\n",
       "15 SRR7430744 12pcw-testis-3\n",
       "16 SRR7430745 12pcw-testis-4"
      ]
     },
     "metadata": {},
     "output_type": "display_data"
    }
   ],
   "source": [
    "sratable[ , \"Names\"] <- \"\"     # to be sure column is empty else it appends\n",
    "groups[ , \"counts\"] <- 0       # to be sure counts are null else number increases each time we try\n",
    "\n",
    "for (i in 1:dim(sratable)[1]){\n",
    "    for (j in 1:dim(groups)[1]){\n",
    "        if (sum( sratable[i, varnames] == groups[j, varnames] ) == length(varnames)){\n",
    "            groups[j, \"counts\"] <- groups[j, \"counts\"] + 1\n",
    "            sratable[i, \"Names\"] <- paste0(groups[j, \"names\"], groups[j, \"counts\"])\n",
    "        }\n",
    "    }\n",
    "}\n",
    "sratable[ ,c(\"Run\", \"Names\")]"
   ]
  },
  {
   "cell_type": "markdown",
   "metadata": {},
   "source": [
    "### **3- Countfiles specification**"
   ]
  },
  {
   "cell_type": "markdown",
   "metadata": {},
   "source": [
    "We will add here two columns to have:  \n",
    "- filenames of count files"
   ]
  },
  {
   "cell_type": "code",
   "execution_count": 14,
   "metadata": {},
   "outputs": [
    {
     "name": "stdout",
     "output_type": "stream",
     "text": [
      " [1] \"SRR7430706_paired-reverse-stranded.counts\"\n",
      " [2] \"SRR7430707_paired-reverse-stranded.counts\"\n",
      " [3] \"SRR7430708_paired-reverse-stranded.counts\"\n",
      " [4] \"SRR7430709_paired-reverse-stranded.counts\"\n",
      " [5] \"SRR7430710_paired-reverse-stranded.counts\"\n",
      " [6] \"SRR7430711_paired-reverse-stranded.counts\"\n",
      " [7] \"SRR7430712_paired-reverse-stranded.counts\"\n",
      " [8] \"SRR7430713_paired-reverse-stranded.counts\"\n",
      " [9] \"SRR7430738_paired-reverse-stranded.counts\"\n",
      "[10] \"SRR7430739_paired-reverse-stranded.counts\"\n",
      "[11] \"SRR7430740_paired-reverse-stranded.counts\"\n",
      "[12] \"SRR7430741_paired-reverse-stranded.counts\"\n",
      "[13] \"SRR7430742_paired-reverse-stranded.counts\"\n",
      "[14] \"SRR7430743_paired-reverse-stranded.counts\"\n",
      "[15] \"SRR7430744_paired-reverse-stranded.counts\"\n",
      "[16] \"SRR7430745_paired-reverse-stranded.counts\"\n"
     ]
    }
   ],
   "source": [
    "sample.colname <- \"Run\"                                     # or whatever reference you use for your featureCounts loop\n",
    "filename.extension <- \"_paired-reverse-stranded.counts\"     # or other filename text you add when performing read summarization\n",
    "\n",
    "sratable[, \"Filename\"] <- paste(sratable[ , sample.colname], filename.extension, sep=\"\")\n",
    "print(sratable$Filename)"
   ]
  },
  {
   "cell_type": "markdown",
   "metadata": {},
   "source": [
    "- full filepath to these files"
   ]
  },
  {
   "cell_type": "code",
   "execution_count": 15,
   "metadata": {},
   "outputs": [
    {
     "name": "stdout",
     "output_type": "stream",
     "text": [
      " [1] \"/shared/projects/gonseq/Building/Results/featurecounts/SRR7430706_paired-reverse-stranded.counts\"\n",
      " [2] \"/shared/projects/gonseq/Building/Results/featurecounts/SRR7430707_paired-reverse-stranded.counts\"\n",
      " [3] \"/shared/projects/gonseq/Building/Results/featurecounts/SRR7430708_paired-reverse-stranded.counts\"\n",
      " [4] \"/shared/projects/gonseq/Building/Results/featurecounts/SRR7430709_paired-reverse-stranded.counts\"\n",
      " [5] \"/shared/projects/gonseq/Building/Results/featurecounts/SRR7430710_paired-reverse-stranded.counts\"\n",
      " [6] \"/shared/projects/gonseq/Building/Results/featurecounts/SRR7430711_paired-reverse-stranded.counts\"\n",
      " [7] \"/shared/projects/gonseq/Building/Results/featurecounts/SRR7430712_paired-reverse-stranded.counts\"\n",
      " [8] \"/shared/projects/gonseq/Building/Results/featurecounts/SRR7430713_paired-reverse-stranded.counts\"\n",
      " [9] \"/shared/projects/gonseq/Building/Results/featurecounts/SRR7430738_paired-reverse-stranded.counts\"\n",
      "[10] \"/shared/projects/gonseq/Building/Results/featurecounts/SRR7430739_paired-reverse-stranded.counts\"\n",
      "[11] \"/shared/projects/gonseq/Building/Results/featurecounts/SRR7430740_paired-reverse-stranded.counts\"\n",
      "[12] \"/shared/projects/gonseq/Building/Results/featurecounts/SRR7430741_paired-reverse-stranded.counts\"\n",
      "[13] \"/shared/projects/gonseq/Building/Results/featurecounts/SRR7430742_paired-reverse-stranded.counts\"\n",
      "[14] \"/shared/projects/gonseq/Building/Results/featurecounts/SRR7430743_paired-reverse-stranded.counts\"\n",
      "[15] \"/shared/projects/gonseq/Building/Results/featurecounts/SRR7430744_paired-reverse-stranded.counts\"\n",
      "[16] \"/shared/projects/gonseq/Building/Results/featurecounts/SRR7430745_paired-reverse-stranded.counts\"\n"
     ]
    }
   ],
   "source": [
    "path.to.counts <- \"/shared/projects/gonseq/Building/Results/featurecounts/\"      # destination folder when performing read summarization (with / at the end!)\n",
    "\n",
    "sratable[, \"Filepath\"] <- paste(path.to.counts, sratable[ , \"Filename\"], sep=\"\")\n",
    "print(sratable$Filepath)"
   ]
  },
  {
   "cell_type": "markdown",
   "metadata": {},
   "source": [
    "- check all files exist and, identify missing ones if any"
   ]
  },
  {
   "cell_type": "code",
   "execution_count": 16,
   "metadata": {},
   "outputs": [
    {
     "name": "stdout",
     "output_type": "stream",
     "text": [
      "[1] \"All files are present.\"\n"
     ]
    }
   ],
   "source": [
    "seeninfolder <- NULL\n",
    "for (i in 1:length(sratable[, \"Filepath\"])){\n",
    "    seeninfolder <- c(seeninfolder, file.exists(sratable[i, \"Filepath\"]))\n",
    "}\n",
    "\n",
    "# display readable output\n",
    "if (sum( !unique(seeninfolder) ) == 0){\n",
    "    print(\"All files are present.\")\n",
    "} else {\n",
    "    print(\"Missing file(s):\")\n",
    "    sratable[!seeninfolder, c(sample.colname, \"Filepath\")]\n",
    "}"
   ]
  },
  {
   "cell_type": "markdown",
   "metadata": {},
   "source": [
    "### **4- See final table and save it**"
   ]
  },
  {
   "cell_type": "code",
   "execution_count": 17,
   "metadata": {},
   "outputs": [
    {
     "data": {
      "text/html": [
       "<table class=\"dataframe\">\n",
       "<caption>A data.frame: 16 × 6</caption>\n",
       "<thead>\n",
       "\t<tr><th></th><th scope=col>Run</th><th scope=col>Stage</th><th scope=col>Tissue</th><th scope=col>Names</th><th scope=col>Filename</th><th scope=col>Filepath</th></tr>\n",
       "\t<tr><th></th><th scope=col>&lt;chr&gt;</th><th scope=col>&lt;chr&gt;</th><th scope=col>&lt;chr&gt;</th><th scope=col>&lt;chr&gt;</th><th scope=col>&lt;chr&gt;</th><th scope=col>&lt;chr&gt;</th></tr>\n",
       "</thead>\n",
       "<tbody>\n",
       "\t<tr><th scope=row>1</th><td>SRR7430706</td><td>6PCW </td><td>Ovary </td><td>6pcw-ovary-1  </td><td>SRR7430706_paired-reverse-stranded.counts</td><td>/shared/projects/gonseq/Building/Results/featurecounts/SRR7430706_paired-reverse-stranded.counts</td></tr>\n",
       "\t<tr><th scope=row>2</th><td>SRR7430707</td><td>6PCW </td><td>Ovary </td><td>6pcw-ovary-2  </td><td>SRR7430707_paired-reverse-stranded.counts</td><td>/shared/projects/gonseq/Building/Results/featurecounts/SRR7430707_paired-reverse-stranded.counts</td></tr>\n",
       "\t<tr><th scope=row>3</th><td>SRR7430708</td><td>6PCW </td><td>Ovary </td><td>6pcw-ovary-3  </td><td>SRR7430708_paired-reverse-stranded.counts</td><td>/shared/projects/gonseq/Building/Results/featurecounts/SRR7430708_paired-reverse-stranded.counts</td></tr>\n",
       "\t<tr><th scope=row>4</th><td>SRR7430709</td><td>6PCW </td><td>Ovary </td><td>6pcw-ovary-4  </td><td>SRR7430709_paired-reverse-stranded.counts</td><td>/shared/projects/gonseq/Building/Results/featurecounts/SRR7430709_paired-reverse-stranded.counts</td></tr>\n",
       "\t<tr><th scope=row>5</th><td>SRR7430710</td><td>6PCW </td><td>Testis</td><td>6pcw-testis-1 </td><td>SRR7430710_paired-reverse-stranded.counts</td><td>/shared/projects/gonseq/Building/Results/featurecounts/SRR7430710_paired-reverse-stranded.counts</td></tr>\n",
       "\t<tr><th scope=row>6</th><td>SRR7430711</td><td>6PCW </td><td>Testis</td><td>6pcw-testis-2 </td><td>SRR7430711_paired-reverse-stranded.counts</td><td>/shared/projects/gonseq/Building/Results/featurecounts/SRR7430711_paired-reverse-stranded.counts</td></tr>\n",
       "\t<tr><th scope=row>7</th><td>SRR7430712</td><td>6PCW </td><td>Testis</td><td>6pcw-testis-3 </td><td>SRR7430712_paired-reverse-stranded.counts</td><td>/shared/projects/gonseq/Building/Results/featurecounts/SRR7430712_paired-reverse-stranded.counts</td></tr>\n",
       "\t<tr><th scope=row>8</th><td>SRR7430713</td><td>6PCW </td><td>Testis</td><td>6pcw-testis-4 </td><td>SRR7430713_paired-reverse-stranded.counts</td><td>/shared/projects/gonseq/Building/Results/featurecounts/SRR7430713_paired-reverse-stranded.counts</td></tr>\n",
       "\t<tr><th scope=row>9</th><td>SRR7430738</td><td>12PCW</td><td>Ovary </td><td>12pcw-ovary-1 </td><td>SRR7430738_paired-reverse-stranded.counts</td><td>/shared/projects/gonseq/Building/Results/featurecounts/SRR7430738_paired-reverse-stranded.counts</td></tr>\n",
       "\t<tr><th scope=row>10</th><td>SRR7430739</td><td>12PCW</td><td>Ovary </td><td>12pcw-ovary-2 </td><td>SRR7430739_paired-reverse-stranded.counts</td><td>/shared/projects/gonseq/Building/Results/featurecounts/SRR7430739_paired-reverse-stranded.counts</td></tr>\n",
       "\t<tr><th scope=row>11</th><td>SRR7430740</td><td>12PCW</td><td>Ovary </td><td>12pcw-ovary-3 </td><td>SRR7430740_paired-reverse-stranded.counts</td><td>/shared/projects/gonseq/Building/Results/featurecounts/SRR7430740_paired-reverse-stranded.counts</td></tr>\n",
       "\t<tr><th scope=row>12</th><td>SRR7430741</td><td>12PCW</td><td>Ovary </td><td>12pcw-ovary-4 </td><td>SRR7430741_paired-reverse-stranded.counts</td><td>/shared/projects/gonseq/Building/Results/featurecounts/SRR7430741_paired-reverse-stranded.counts</td></tr>\n",
       "\t<tr><th scope=row>13</th><td>SRR7430742</td><td>12PCW</td><td>Testis</td><td>12pcw-testis-1</td><td>SRR7430742_paired-reverse-stranded.counts</td><td>/shared/projects/gonseq/Building/Results/featurecounts/SRR7430742_paired-reverse-stranded.counts</td></tr>\n",
       "\t<tr><th scope=row>14</th><td>SRR7430743</td><td>12PCW</td><td>Testis</td><td>12pcw-testis-2</td><td>SRR7430743_paired-reverse-stranded.counts</td><td>/shared/projects/gonseq/Building/Results/featurecounts/SRR7430743_paired-reverse-stranded.counts</td></tr>\n",
       "\t<tr><th scope=row>15</th><td>SRR7430744</td><td>12PCW</td><td>Testis</td><td>12pcw-testis-3</td><td>SRR7430744_paired-reverse-stranded.counts</td><td>/shared/projects/gonseq/Building/Results/featurecounts/SRR7430744_paired-reverse-stranded.counts</td></tr>\n",
       "\t<tr><th scope=row>16</th><td>SRR7430745</td><td>12PCW</td><td>Testis</td><td>12pcw-testis-4</td><td>SRR7430745_paired-reverse-stranded.counts</td><td>/shared/projects/gonseq/Building/Results/featurecounts/SRR7430745_paired-reverse-stranded.counts</td></tr>\n",
       "</tbody>\n",
       "</table>\n"
      ],
      "text/latex": [
       "A data.frame: 16 × 6\n",
       "\\begin{tabular}{r|llllll}\n",
       "  & Run & Stage & Tissue & Names & Filename & Filepath\\\\\n",
       "  & <chr> & <chr> & <chr> & <chr> & <chr> & <chr>\\\\\n",
       "\\hline\n",
       "\t1 & SRR7430706 & 6PCW  & Ovary  & 6pcw-ovary-1   & SRR7430706\\_paired-reverse-stranded.counts & /shared/projects/gonseq/Building/Results/featurecounts/SRR7430706\\_paired-reverse-stranded.counts\\\\\n",
       "\t2 & SRR7430707 & 6PCW  & Ovary  & 6pcw-ovary-2   & SRR7430707\\_paired-reverse-stranded.counts & /shared/projects/gonseq/Building/Results/featurecounts/SRR7430707\\_paired-reverse-stranded.counts\\\\\n",
       "\t3 & SRR7430708 & 6PCW  & Ovary  & 6pcw-ovary-3   & SRR7430708\\_paired-reverse-stranded.counts & /shared/projects/gonseq/Building/Results/featurecounts/SRR7430708\\_paired-reverse-stranded.counts\\\\\n",
       "\t4 & SRR7430709 & 6PCW  & Ovary  & 6pcw-ovary-4   & SRR7430709\\_paired-reverse-stranded.counts & /shared/projects/gonseq/Building/Results/featurecounts/SRR7430709\\_paired-reverse-stranded.counts\\\\\n",
       "\t5 & SRR7430710 & 6PCW  & Testis & 6pcw-testis-1  & SRR7430710\\_paired-reverse-stranded.counts & /shared/projects/gonseq/Building/Results/featurecounts/SRR7430710\\_paired-reverse-stranded.counts\\\\\n",
       "\t6 & SRR7430711 & 6PCW  & Testis & 6pcw-testis-2  & SRR7430711\\_paired-reverse-stranded.counts & /shared/projects/gonseq/Building/Results/featurecounts/SRR7430711\\_paired-reverse-stranded.counts\\\\\n",
       "\t7 & SRR7430712 & 6PCW  & Testis & 6pcw-testis-3  & SRR7430712\\_paired-reverse-stranded.counts & /shared/projects/gonseq/Building/Results/featurecounts/SRR7430712\\_paired-reverse-stranded.counts\\\\\n",
       "\t8 & SRR7430713 & 6PCW  & Testis & 6pcw-testis-4  & SRR7430713\\_paired-reverse-stranded.counts & /shared/projects/gonseq/Building/Results/featurecounts/SRR7430713\\_paired-reverse-stranded.counts\\\\\n",
       "\t9 & SRR7430738 & 12PCW & Ovary  & 12pcw-ovary-1  & SRR7430738\\_paired-reverse-stranded.counts & /shared/projects/gonseq/Building/Results/featurecounts/SRR7430738\\_paired-reverse-stranded.counts\\\\\n",
       "\t10 & SRR7430739 & 12PCW & Ovary  & 12pcw-ovary-2  & SRR7430739\\_paired-reverse-stranded.counts & /shared/projects/gonseq/Building/Results/featurecounts/SRR7430739\\_paired-reverse-stranded.counts\\\\\n",
       "\t11 & SRR7430740 & 12PCW & Ovary  & 12pcw-ovary-3  & SRR7430740\\_paired-reverse-stranded.counts & /shared/projects/gonseq/Building/Results/featurecounts/SRR7430740\\_paired-reverse-stranded.counts\\\\\n",
       "\t12 & SRR7430741 & 12PCW & Ovary  & 12pcw-ovary-4  & SRR7430741\\_paired-reverse-stranded.counts & /shared/projects/gonseq/Building/Results/featurecounts/SRR7430741\\_paired-reverse-stranded.counts\\\\\n",
       "\t13 & SRR7430742 & 12PCW & Testis & 12pcw-testis-1 & SRR7430742\\_paired-reverse-stranded.counts & /shared/projects/gonseq/Building/Results/featurecounts/SRR7430742\\_paired-reverse-stranded.counts\\\\\n",
       "\t14 & SRR7430743 & 12PCW & Testis & 12pcw-testis-2 & SRR7430743\\_paired-reverse-stranded.counts & /shared/projects/gonseq/Building/Results/featurecounts/SRR7430743\\_paired-reverse-stranded.counts\\\\\n",
       "\t15 & SRR7430744 & 12PCW & Testis & 12pcw-testis-3 & SRR7430744\\_paired-reverse-stranded.counts & /shared/projects/gonseq/Building/Results/featurecounts/SRR7430744\\_paired-reverse-stranded.counts\\\\\n",
       "\t16 & SRR7430745 & 12PCW & Testis & 12pcw-testis-4 & SRR7430745\\_paired-reverse-stranded.counts & /shared/projects/gonseq/Building/Results/featurecounts/SRR7430745\\_paired-reverse-stranded.counts\\\\\n",
       "\\end{tabular}\n"
      ],
      "text/markdown": [
       "\n",
       "A data.frame: 16 × 6\n",
       "\n",
       "| <!--/--> | Run &lt;chr&gt; | Stage &lt;chr&gt; | Tissue &lt;chr&gt; | Names &lt;chr&gt; | Filename &lt;chr&gt; | Filepath &lt;chr&gt; |\n",
       "|---|---|---|---|---|---|---|\n",
       "| 1 | SRR7430706 | 6PCW  | Ovary  | 6pcw-ovary-1   | SRR7430706_paired-reverse-stranded.counts | /shared/projects/gonseq/Building/Results/featurecounts/SRR7430706_paired-reverse-stranded.counts |\n",
       "| 2 | SRR7430707 | 6PCW  | Ovary  | 6pcw-ovary-2   | SRR7430707_paired-reverse-stranded.counts | /shared/projects/gonseq/Building/Results/featurecounts/SRR7430707_paired-reverse-stranded.counts |\n",
       "| 3 | SRR7430708 | 6PCW  | Ovary  | 6pcw-ovary-3   | SRR7430708_paired-reverse-stranded.counts | /shared/projects/gonseq/Building/Results/featurecounts/SRR7430708_paired-reverse-stranded.counts |\n",
       "| 4 | SRR7430709 | 6PCW  | Ovary  | 6pcw-ovary-4   | SRR7430709_paired-reverse-stranded.counts | /shared/projects/gonseq/Building/Results/featurecounts/SRR7430709_paired-reverse-stranded.counts |\n",
       "| 5 | SRR7430710 | 6PCW  | Testis | 6pcw-testis-1  | SRR7430710_paired-reverse-stranded.counts | /shared/projects/gonseq/Building/Results/featurecounts/SRR7430710_paired-reverse-stranded.counts |\n",
       "| 6 | SRR7430711 | 6PCW  | Testis | 6pcw-testis-2  | SRR7430711_paired-reverse-stranded.counts | /shared/projects/gonseq/Building/Results/featurecounts/SRR7430711_paired-reverse-stranded.counts |\n",
       "| 7 | SRR7430712 | 6PCW  | Testis | 6pcw-testis-3  | SRR7430712_paired-reverse-stranded.counts | /shared/projects/gonseq/Building/Results/featurecounts/SRR7430712_paired-reverse-stranded.counts |\n",
       "| 8 | SRR7430713 | 6PCW  | Testis | 6pcw-testis-4  | SRR7430713_paired-reverse-stranded.counts | /shared/projects/gonseq/Building/Results/featurecounts/SRR7430713_paired-reverse-stranded.counts |\n",
       "| 9 | SRR7430738 | 12PCW | Ovary  | 12pcw-ovary-1  | SRR7430738_paired-reverse-stranded.counts | /shared/projects/gonseq/Building/Results/featurecounts/SRR7430738_paired-reverse-stranded.counts |\n",
       "| 10 | SRR7430739 | 12PCW | Ovary  | 12pcw-ovary-2  | SRR7430739_paired-reverse-stranded.counts | /shared/projects/gonseq/Building/Results/featurecounts/SRR7430739_paired-reverse-stranded.counts |\n",
       "| 11 | SRR7430740 | 12PCW | Ovary  | 12pcw-ovary-3  | SRR7430740_paired-reverse-stranded.counts | /shared/projects/gonseq/Building/Results/featurecounts/SRR7430740_paired-reverse-stranded.counts |\n",
       "| 12 | SRR7430741 | 12PCW | Ovary  | 12pcw-ovary-4  | SRR7430741_paired-reverse-stranded.counts | /shared/projects/gonseq/Building/Results/featurecounts/SRR7430741_paired-reverse-stranded.counts |\n",
       "| 13 | SRR7430742 | 12PCW | Testis | 12pcw-testis-1 | SRR7430742_paired-reverse-stranded.counts | /shared/projects/gonseq/Building/Results/featurecounts/SRR7430742_paired-reverse-stranded.counts |\n",
       "| 14 | SRR7430743 | 12PCW | Testis | 12pcw-testis-2 | SRR7430743_paired-reverse-stranded.counts | /shared/projects/gonseq/Building/Results/featurecounts/SRR7430743_paired-reverse-stranded.counts |\n",
       "| 15 | SRR7430744 | 12PCW | Testis | 12pcw-testis-3 | SRR7430744_paired-reverse-stranded.counts | /shared/projects/gonseq/Building/Results/featurecounts/SRR7430744_paired-reverse-stranded.counts |\n",
       "| 16 | SRR7430745 | 12PCW | Testis | 12pcw-testis-4 | SRR7430745_paired-reverse-stranded.counts | /shared/projects/gonseq/Building/Results/featurecounts/SRR7430745_paired-reverse-stranded.counts |\n",
       "\n"
      ],
      "text/plain": [
       "   Run        Stage Tissue Names         \n",
       "1  SRR7430706 6PCW  Ovary  6pcw-ovary-1  \n",
       "2  SRR7430707 6PCW  Ovary  6pcw-ovary-2  \n",
       "3  SRR7430708 6PCW  Ovary  6pcw-ovary-3  \n",
       "4  SRR7430709 6PCW  Ovary  6pcw-ovary-4  \n",
       "5  SRR7430710 6PCW  Testis 6pcw-testis-1 \n",
       "6  SRR7430711 6PCW  Testis 6pcw-testis-2 \n",
       "7  SRR7430712 6PCW  Testis 6pcw-testis-3 \n",
       "8  SRR7430713 6PCW  Testis 6pcw-testis-4 \n",
       "9  SRR7430738 12PCW Ovary  12pcw-ovary-1 \n",
       "10 SRR7430739 12PCW Ovary  12pcw-ovary-2 \n",
       "11 SRR7430740 12PCW Ovary  12pcw-ovary-3 \n",
       "12 SRR7430741 12PCW Ovary  12pcw-ovary-4 \n",
       "13 SRR7430742 12PCW Testis 12pcw-testis-1\n",
       "14 SRR7430743 12PCW Testis 12pcw-testis-2\n",
       "15 SRR7430744 12PCW Testis 12pcw-testis-3\n",
       "16 SRR7430745 12PCW Testis 12pcw-testis-4\n",
       "   Filename                                 \n",
       "1  SRR7430706_paired-reverse-stranded.counts\n",
       "2  SRR7430707_paired-reverse-stranded.counts\n",
       "3  SRR7430708_paired-reverse-stranded.counts\n",
       "4  SRR7430709_paired-reverse-stranded.counts\n",
       "5  SRR7430710_paired-reverse-stranded.counts\n",
       "6  SRR7430711_paired-reverse-stranded.counts\n",
       "7  SRR7430712_paired-reverse-stranded.counts\n",
       "8  SRR7430713_paired-reverse-stranded.counts\n",
       "9  SRR7430738_paired-reverse-stranded.counts\n",
       "10 SRR7430739_paired-reverse-stranded.counts\n",
       "11 SRR7430740_paired-reverse-stranded.counts\n",
       "12 SRR7430741_paired-reverse-stranded.counts\n",
       "13 SRR7430742_paired-reverse-stranded.counts\n",
       "14 SRR7430743_paired-reverse-stranded.counts\n",
       "15 SRR7430744_paired-reverse-stranded.counts\n",
       "16 SRR7430745_paired-reverse-stranded.counts\n",
       "   Filepath                                                                                        \n",
       "1  /shared/projects/gonseq/Building/Results/featurecounts/SRR7430706_paired-reverse-stranded.counts\n",
       "2  /shared/projects/gonseq/Building/Results/featurecounts/SRR7430707_paired-reverse-stranded.counts\n",
       "3  /shared/projects/gonseq/Building/Results/featurecounts/SRR7430708_paired-reverse-stranded.counts\n",
       "4  /shared/projects/gonseq/Building/Results/featurecounts/SRR7430709_paired-reverse-stranded.counts\n",
       "5  /shared/projects/gonseq/Building/Results/featurecounts/SRR7430710_paired-reverse-stranded.counts\n",
       "6  /shared/projects/gonseq/Building/Results/featurecounts/SRR7430711_paired-reverse-stranded.counts\n",
       "7  /shared/projects/gonseq/Building/Results/featurecounts/SRR7430712_paired-reverse-stranded.counts\n",
       "8  /shared/projects/gonseq/Building/Results/featurecounts/SRR7430713_paired-reverse-stranded.counts\n",
       "9  /shared/projects/gonseq/Building/Results/featurecounts/SRR7430738_paired-reverse-stranded.counts\n",
       "10 /shared/projects/gonseq/Building/Results/featurecounts/SRR7430739_paired-reverse-stranded.counts\n",
       "11 /shared/projects/gonseq/Building/Results/featurecounts/SRR7430740_paired-reverse-stranded.counts\n",
       "12 /shared/projects/gonseq/Building/Results/featurecounts/SRR7430741_paired-reverse-stranded.counts\n",
       "13 /shared/projects/gonseq/Building/Results/featurecounts/SRR7430742_paired-reverse-stranded.counts\n",
       "14 /shared/projects/gonseq/Building/Results/featurecounts/SRR7430743_paired-reverse-stranded.counts\n",
       "15 /shared/projects/gonseq/Building/Results/featurecounts/SRR7430744_paired-reverse-stranded.counts\n",
       "16 /shared/projects/gonseq/Building/Results/featurecounts/SRR7430745_paired-reverse-stranded.counts"
      ]
     },
     "metadata": {},
     "output_type": "display_data"
    }
   ],
   "source": [
    "sratable[ , c(sample.colname, varnames, \"Names\", \"Filename\", \"Filepath\")]"
   ]
  },
  {
   "cell_type": "markdown",
   "metadata": {},
   "source": [
    "Let's create a folder before saving file:"
   ]
  },
  {
   "cell_type": "code",
   "execution_count": 18,
   "metadata": {},
   "outputs": [
    {
     "data": {
      "text/html": [],
      "text/latex": [],
      "text/markdown": [],
      "text/plain": [
       "character(0)"
      ]
     },
     "metadata": {},
     "output_type": "display_data"
    },
    {
     "name": "stdout",
     "output_type": "stream",
     "text": [
      "[1] \"total 0\"\n"
     ]
    }
   ],
   "source": [
    "destinationfolder <- \"/shared/projects/gonseq/Building/Results/Routputs/\"     # where you want to find files\n",
    "system(paste(\"mkdir -p\", destinationfolder), intern = TRUE)\n",
    "print( system(paste(\"ls -l\", destinationfolder), intern = TRUE) )"
   ]
  },
  {
   "cell_type": "markdown",
   "metadata": {},
   "source": [
    "<div class=\"alert alert-block alert-success\">\n",
    "    Even if last command line output is printed in a Jupyter Notebook, I nonetheless explicitly use <code>print( )</code> function to have real vectors display as in an R console:\n",
    "    <ul>\n",
    "        <li>\n",
    "            Results take shorter spaces as there can be several list items on a same line\n",
    "        </li>\n",
    "        <li>\n",
    "            One's can get used to R console display this way\n",
    "        </li>\n",
    "    </ul>\n",
    "</div>"
   ]
  },
  {
   "cell_type": "code",
   "execution_count": 19,
   "metadata": {},
   "outputs": [
    {
     "name": "stdout",
     "output_type": "stream",
     "text": [
      " [1] \"colsorter\"          \"destinationfolder\"  \"filename.extension\"\n",
      " [4] \"groups\"             \"i\"                  \"j\"                 \n",
      " [7] \"path.to.counts\"     \"sample.colname\"     \"seeninfolder\"      \n",
      "[10] \"session_parameters\" \"sratable\"           \"varnames\"          \n"
     ]
    }
   ],
   "source": [
    "print( ls() )"
   ]
  },
  {
   "cell_type": "code",
   "execution_count": 20,
   "metadata": {},
   "outputs": [
    {
     "name": "stdout",
     "output_type": "stream",
     "text": [
      " [1] \"Run\"                 \"AGE\"                 \"Assay.Type\"         \n",
      " [4] \"AvgSpotLen\"          \"Bases\"               \"BioProject\"         \n",
      " [7] \"BioSample\"           \"Bytes\"               \"Center.Name\"        \n",
      "[10] \"Consent\"             \"DATASTORE.filetype\"  \"DATASTORE.provider\" \n",
      "[13] \"DATASTORE.region\"    \"Experiment\"          \"GEO_Accession..exp.\"\n",
      "[16] \"Instrument\"          \"LibraryLayout\"       \"LibrarySelection\"   \n",
      "[19] \"LibrarySource\"       \"Organism\"            \"Platform\"           \n",
      "[22] \"ReleaseDate\"         \"Sample.Name\"         \"Sexe\"               \n",
      "[25] \"source_name\"         \"SRA.Study\"           \"Tissue\"             \n",
      "[28] \"Stage\"               \"Names\"               \"Filename\"           \n",
      "[31] \"Filepath\"           \n"
     ]
    }
   ],
   "source": [
    "print( colnames(sratable) )"
   ]
  },
  {
   "cell_type": "markdown",
   "metadata": {},
   "source": [
    "<div class=\"alert alert-block alert-warning\">\n",
    "    TODO Béné 07/16/2021:\n",
    "    <ul>\n",
    "        <li>\n",
    "            add selection step to remove unwanted or unused columns\n",
    "        </li>\n",
    "        <li>\n",
    "            adapt or add Claire's Rmarkdown file to retrieve quality metrics in <code>sratable</code> (better than in <code>counts</code>, it would disturb statistical analysis). Maybe in a third distinct table?\n",
    "        </li>\n",
    "    </ul>\n",
    "</div>"
   ]
  },
  {
   "cell_type": "code",
   "execution_count": 22,
   "metadata": {},
   "outputs": [],
   "source": [
    "myname <- \"16samples_SraRunTable_v2.txt\"                                # don't forget to adapt it to your project \n",
    "write.table(sratable,\n",
    "            file = paste0(destinationfolder, myname),\n",
    "            append = FALSE, sep = \"\\t\", row.names = FALSE)"
   ]
  },
  {
   "cell_type": "code",
   "execution_count": 23,
   "metadata": {},
   "outputs": [
    {
     "name": "stdout",
     "output_type": "stream",
     "text": [
      "[1] \"total 12K\"                                                                   \n",
      "[2] \"-rw-rw----+ 1 bnoblet bnoblet 8.3K Aug 11 16:19 16samples_SraRunTable_v2.txt\"\n"
     ]
    }
   ],
   "source": [
    "print( system(paste(\"ls -lh\", destinationfolder), intern = TRUE) )"
   ]
  },
  {
   "cell_type": "markdown",
   "metadata": {},
   "source": [
    "**Remark**: *My count starts with the original SraRunTable (v1) even if it is in another folder.*"
   ]
  },
  {
   "cell_type": "markdown",
   "metadata": {},
   "source": [
    "---\n",
    "## <b>II- From sample counts data to a DESeq2 dataset</b>"
   ]
  },
  {
   "cell_type": "markdown",
   "metadata": {},
   "source": [
    "The function `DESeqDataSetFromMatrix( )` can be used if you already have a matrix of read counts prepared from featureCounts function (Liao, Smyth, and Shi 2013) in the Rsubread package. To use `DESeqDataSetFromMatrix( )`, the user should provide the counts matrix, the information about the samples (the columns of the count matrix) as a DataFrame or `data.frame`, and the design formula. From http://www.bioconductor.org/packages/devel/bioc/vignettes/DESeq2/inst/doc/DESeq2.html"
   ]
  },
  {
   "cell_type": "markdown",
   "metadata": {},
   "source": [
    "<div class=\"alert alert-block alert-info\">\n",
    "    This section <b>uses, with some changes, <a href=\"https://github.com/PF2-pasteur-fr/SARTools\">SARTools</a> scripts and functions</b> to prepare the counts data from featureCounts output files. <br>\n",
    "    A <a href=\"https://bioinfo-fr.net/sartools-lanalyse-differentielle-pour-tous\">presentation</a> of SARTools can be read in French in <b>Bioinfo-fr.net</b>'s blog.\n",
    "</div>"
   ]
  },
  {
   "cell_type": "markdown",
   "metadata": {},
   "source": [
    "### **1- Parameters to be modified by the user**"
   ]
  },
  {
   "cell_type": "markdown",
   "metadata": {},
   "source": [
    "We first begin with a cleaning step, in order to be sure there is no conflict or previously set variable that could interfer with our analysis"
   ]
  },
  {
   "cell_type": "code",
   "execution_count": 24,
   "metadata": {},
   "outputs": [
    {
     "name": "stdout",
     "output_type": "stream",
     "text": [
      "character(0)\n"
     ]
    }
   ],
   "source": [
    "rm(list = ls())\n",
    "print(ls())"
   ]
  },
  {
   "cell_type": "markdown",
   "metadata": {},
   "source": [
    "We need to identify the experiment design, which we will name `targetFile`, along with the columns containing other sample information. The obtained table will later be considered as column data for the summarizing DESeq Data Set (dds) object."
   ]
  },
  {
   "cell_type": "code",
   "execution_count": 30,
   "metadata": {},
   "outputs": [],
   "source": [
    "targetFile <- paste0(\"/shared/projects/gonseq/Building/\",\n",
    "                     \"Results/Routputs/16samples_SraRunTable_v2.txt\") # path to the design/target file\n",
    "\n",
    "essentials <- c(\"Names\", \"Filepath\", \"Run\")          # colnames where no missing value is expected (column for rownames first, filepath second)\n",
    "varInt <- c(\"Stage\", \"Tissue\")                       # colname(s) for factor(s) of interest\n",
    "batch <- NULL                                        # if any blocking factor: colname for batch factor"
   ]
  },
  {
   "cell_type": "markdown",
   "metadata": {},
   "source": [
    "We read in a count matrix, which we will name `counts`, and the sample information table, which we will name `coldata`."
   ]
  },
  {
   "cell_type": "markdown",
   "metadata": {},
   "source": [
    "### **2- Loading target file**"
   ]
  },
  {
   "cell_type": "markdown",
   "metadata": {},
   "source": [
    "We will use this function to load the design file prepared in section I or elsewhere.  Please check that:  \n",
    "- filepath is correct  \n",
    "- all factors of interest and, eventually, batch columns are present\n",
    "- file names  \n",
    "- extension  "
   ]
  },
  {
   "cell_type": "code",
   "execution_count": 32,
   "metadata": {},
   "outputs": [],
   "source": [
    "loadTargetFile <- function(targetFile, varInt, essentials, batch){\n",
    "    \n",
    "    # check file exists then loding it\n",
    "    if (!file.exists(targetFile)){\n",
    "        stop(paste0(\"Design file not found at \", targetFile,\n",
    "                   \": please check if present and filepath is correct\"))\n",
    "    }\n",
    "    target <- read.table(targetFile, header=TRUE, sep=\"\\t\", na.strings=\"\")\n",
    "\n",
    "    # check features are present...\n",
    "    if (!unique( I(varInt %in% names(target)) )){\n",
    "        stop(paste(\"The factor(s) of interest\", varInt, \"is (are) not (all) in the target file\"))\n",
    "    }\n",
    "    if (!is.null(batch) && !I(batch %in% names(target))){\n",
    "        stop(paste(\"The batch effect\", batch, \"is not in the target file\"))\n",
    "    }\n",
    "\n",
    "    # ... consistent ...\n",
    "    if (min(table(target[, varInt]))<2){\n",
    "        stop(\"At least one group of interest has a level without replicates\")\n",
    "    } \n",
    "    if (any(is.na(target[, c(essentials, varInt, batch)]))){\n",
    "        stop(\"NA are present in the target file\")\n",
    "    } \n",
    "\n",
    "    # ... without any format issue\n",
    "    for (i in 1:length(target[,varInt])){\n",
    "        if (any(grepl(\"[[:punct:]]\", as.character(target[,varInt[i]])))){\n",
    "            stop(paste(\"The\", varInt[i], \"variable contains punctuation characters, please remove them\"))\n",
    "        }\n",
    "    }\n",
    "    if (!is.null(batch) && is.numeric(target[,batch])){\n",
    "        warning(paste(\"The\", batch, \"variable is numeric. Use factor() or rename the levels with letters to convert it into a factor\"))\n",
    "    }\n",
    "\n",
    "    # Some adaptations\n",
    "    rownames(target) <- as.character(target[ , essentials[1]])\n",
    "    for (i in 1:length(varInt)){\n",
    "        target[ , varInt[i]] <- as.factor(target[ , varInt[i]])\n",
    "    } # changing varInt columns in factor(s) to avoid latter warning message\n",
    "    \n",
    "    # removed as a better display can be done directly calling for object\n",
    "    # cat(\"Target file:\\n\")\n",
    "    # print(target)\n",
    "    \n",
    "    return(target)\n",
    "}"
   ]
  },
  {
   "cell_type": "code",
   "execution_count": 33,
   "metadata": {},
   "outputs": [
    {
     "data": {
      "text/html": [
       "<table class=\"dataframe\">\n",
       "<caption>A data.frame: 16 × 5</caption>\n",
       "<thead>\n",
       "\t<tr><th></th><th scope=col>Names</th><th scope=col>Filepath</th><th scope=col>Run</th><th scope=col>Stage</th><th scope=col>Tissue</th></tr>\n",
       "\t<tr><th></th><th scope=col>&lt;chr&gt;</th><th scope=col>&lt;chr&gt;</th><th scope=col>&lt;chr&gt;</th><th scope=col>&lt;fct&gt;</th><th scope=col>&lt;fct&gt;</th></tr>\n",
       "</thead>\n",
       "<tbody>\n",
       "\t<tr><th scope=row>6pcw-ovary-1</th><td>6pcw-ovary-1  </td><td>/shared/projects/gonseq/Building/Results/featurecounts/SRR7430706_paired-reverse-stranded.counts</td><td>SRR7430706</td><td>6PCW </td><td>Ovary </td></tr>\n",
       "\t<tr><th scope=row>6pcw-ovary-2</th><td>6pcw-ovary-2  </td><td>/shared/projects/gonseq/Building/Results/featurecounts/SRR7430707_paired-reverse-stranded.counts</td><td>SRR7430707</td><td>6PCW </td><td>Ovary </td></tr>\n",
       "\t<tr><th scope=row>6pcw-ovary-3</th><td>6pcw-ovary-3  </td><td>/shared/projects/gonseq/Building/Results/featurecounts/SRR7430708_paired-reverse-stranded.counts</td><td>SRR7430708</td><td>6PCW </td><td>Ovary </td></tr>\n",
       "\t<tr><th scope=row>6pcw-ovary-4</th><td>6pcw-ovary-4  </td><td>/shared/projects/gonseq/Building/Results/featurecounts/SRR7430709_paired-reverse-stranded.counts</td><td>SRR7430709</td><td>6PCW </td><td>Ovary </td></tr>\n",
       "\t<tr><th scope=row>6pcw-testis-1</th><td>6pcw-testis-1 </td><td>/shared/projects/gonseq/Building/Results/featurecounts/SRR7430710_paired-reverse-stranded.counts</td><td>SRR7430710</td><td>6PCW </td><td>Testis</td></tr>\n",
       "\t<tr><th scope=row>6pcw-testis-2</th><td>6pcw-testis-2 </td><td>/shared/projects/gonseq/Building/Results/featurecounts/SRR7430711_paired-reverse-stranded.counts</td><td>SRR7430711</td><td>6PCW </td><td>Testis</td></tr>\n",
       "\t<tr><th scope=row>6pcw-testis-3</th><td>6pcw-testis-3 </td><td>/shared/projects/gonseq/Building/Results/featurecounts/SRR7430712_paired-reverse-stranded.counts</td><td>SRR7430712</td><td>6PCW </td><td>Testis</td></tr>\n",
       "\t<tr><th scope=row>6pcw-testis-4</th><td>6pcw-testis-4 </td><td>/shared/projects/gonseq/Building/Results/featurecounts/SRR7430713_paired-reverse-stranded.counts</td><td>SRR7430713</td><td>6PCW </td><td>Testis</td></tr>\n",
       "\t<tr><th scope=row>12pcw-ovary-1</th><td>12pcw-ovary-1 </td><td>/shared/projects/gonseq/Building/Results/featurecounts/SRR7430738_paired-reverse-stranded.counts</td><td>SRR7430738</td><td>12PCW</td><td>Ovary </td></tr>\n",
       "\t<tr><th scope=row>12pcw-ovary-2</th><td>12pcw-ovary-2 </td><td>/shared/projects/gonseq/Building/Results/featurecounts/SRR7430739_paired-reverse-stranded.counts</td><td>SRR7430739</td><td>12PCW</td><td>Ovary </td></tr>\n",
       "\t<tr><th scope=row>12pcw-ovary-3</th><td>12pcw-ovary-3 </td><td>/shared/projects/gonseq/Building/Results/featurecounts/SRR7430740_paired-reverse-stranded.counts</td><td>SRR7430740</td><td>12PCW</td><td>Ovary </td></tr>\n",
       "\t<tr><th scope=row>12pcw-ovary-4</th><td>12pcw-ovary-4 </td><td>/shared/projects/gonseq/Building/Results/featurecounts/SRR7430741_paired-reverse-stranded.counts</td><td>SRR7430741</td><td>12PCW</td><td>Ovary </td></tr>\n",
       "\t<tr><th scope=row>12pcw-testis-1</th><td>12pcw-testis-1</td><td>/shared/projects/gonseq/Building/Results/featurecounts/SRR7430742_paired-reverse-stranded.counts</td><td>SRR7430742</td><td>12PCW</td><td>Testis</td></tr>\n",
       "\t<tr><th scope=row>12pcw-testis-2</th><td>12pcw-testis-2</td><td>/shared/projects/gonseq/Building/Results/featurecounts/SRR7430743_paired-reverse-stranded.counts</td><td>SRR7430743</td><td>12PCW</td><td>Testis</td></tr>\n",
       "\t<tr><th scope=row>12pcw-testis-3</th><td>12pcw-testis-3</td><td>/shared/projects/gonseq/Building/Results/featurecounts/SRR7430744_paired-reverse-stranded.counts</td><td>SRR7430744</td><td>12PCW</td><td>Testis</td></tr>\n",
       "\t<tr><th scope=row>12pcw-testis-4</th><td>12pcw-testis-4</td><td>/shared/projects/gonseq/Building/Results/featurecounts/SRR7430745_paired-reverse-stranded.counts</td><td>SRR7430745</td><td>12PCW</td><td>Testis</td></tr>\n",
       "</tbody>\n",
       "</table>\n"
      ],
      "text/latex": [
       "A data.frame: 16 × 5\n",
       "\\begin{tabular}{r|lllll}\n",
       "  & Names & Filepath & Run & Stage & Tissue\\\\\n",
       "  & <chr> & <chr> & <chr> & <fct> & <fct>\\\\\n",
       "\\hline\n",
       "\t6pcw-ovary-1 & 6pcw-ovary-1   & /shared/projects/gonseq/Building/Results/featurecounts/SRR7430706\\_paired-reverse-stranded.counts & SRR7430706 & 6PCW  & Ovary \\\\\n",
       "\t6pcw-ovary-2 & 6pcw-ovary-2   & /shared/projects/gonseq/Building/Results/featurecounts/SRR7430707\\_paired-reverse-stranded.counts & SRR7430707 & 6PCW  & Ovary \\\\\n",
       "\t6pcw-ovary-3 & 6pcw-ovary-3   & /shared/projects/gonseq/Building/Results/featurecounts/SRR7430708\\_paired-reverse-stranded.counts & SRR7430708 & 6PCW  & Ovary \\\\\n",
       "\t6pcw-ovary-4 & 6pcw-ovary-4   & /shared/projects/gonseq/Building/Results/featurecounts/SRR7430709\\_paired-reverse-stranded.counts & SRR7430709 & 6PCW  & Ovary \\\\\n",
       "\t6pcw-testis-1 & 6pcw-testis-1  & /shared/projects/gonseq/Building/Results/featurecounts/SRR7430710\\_paired-reverse-stranded.counts & SRR7430710 & 6PCW  & Testis\\\\\n",
       "\t6pcw-testis-2 & 6pcw-testis-2  & /shared/projects/gonseq/Building/Results/featurecounts/SRR7430711\\_paired-reverse-stranded.counts & SRR7430711 & 6PCW  & Testis\\\\\n",
       "\t6pcw-testis-3 & 6pcw-testis-3  & /shared/projects/gonseq/Building/Results/featurecounts/SRR7430712\\_paired-reverse-stranded.counts & SRR7430712 & 6PCW  & Testis\\\\\n",
       "\t6pcw-testis-4 & 6pcw-testis-4  & /shared/projects/gonseq/Building/Results/featurecounts/SRR7430713\\_paired-reverse-stranded.counts & SRR7430713 & 6PCW  & Testis\\\\\n",
       "\t12pcw-ovary-1 & 12pcw-ovary-1  & /shared/projects/gonseq/Building/Results/featurecounts/SRR7430738\\_paired-reverse-stranded.counts & SRR7430738 & 12PCW & Ovary \\\\\n",
       "\t12pcw-ovary-2 & 12pcw-ovary-2  & /shared/projects/gonseq/Building/Results/featurecounts/SRR7430739\\_paired-reverse-stranded.counts & SRR7430739 & 12PCW & Ovary \\\\\n",
       "\t12pcw-ovary-3 & 12pcw-ovary-3  & /shared/projects/gonseq/Building/Results/featurecounts/SRR7430740\\_paired-reverse-stranded.counts & SRR7430740 & 12PCW & Ovary \\\\\n",
       "\t12pcw-ovary-4 & 12pcw-ovary-4  & /shared/projects/gonseq/Building/Results/featurecounts/SRR7430741\\_paired-reverse-stranded.counts & SRR7430741 & 12PCW & Ovary \\\\\n",
       "\t12pcw-testis-1 & 12pcw-testis-1 & /shared/projects/gonseq/Building/Results/featurecounts/SRR7430742\\_paired-reverse-stranded.counts & SRR7430742 & 12PCW & Testis\\\\\n",
       "\t12pcw-testis-2 & 12pcw-testis-2 & /shared/projects/gonseq/Building/Results/featurecounts/SRR7430743\\_paired-reverse-stranded.counts & SRR7430743 & 12PCW & Testis\\\\\n",
       "\t12pcw-testis-3 & 12pcw-testis-3 & /shared/projects/gonseq/Building/Results/featurecounts/SRR7430744\\_paired-reverse-stranded.counts & SRR7430744 & 12PCW & Testis\\\\\n",
       "\t12pcw-testis-4 & 12pcw-testis-4 & /shared/projects/gonseq/Building/Results/featurecounts/SRR7430745\\_paired-reverse-stranded.counts & SRR7430745 & 12PCW & Testis\\\\\n",
       "\\end{tabular}\n"
      ],
      "text/markdown": [
       "\n",
       "A data.frame: 16 × 5\n",
       "\n",
       "| <!--/--> | Names &lt;chr&gt; | Filepath &lt;chr&gt; | Run &lt;chr&gt; | Stage &lt;fct&gt; | Tissue &lt;fct&gt; |\n",
       "|---|---|---|---|---|---|\n",
       "| 6pcw-ovary-1 | 6pcw-ovary-1   | /shared/projects/gonseq/Building/Results/featurecounts/SRR7430706_paired-reverse-stranded.counts | SRR7430706 | 6PCW  | Ovary  |\n",
       "| 6pcw-ovary-2 | 6pcw-ovary-2   | /shared/projects/gonseq/Building/Results/featurecounts/SRR7430707_paired-reverse-stranded.counts | SRR7430707 | 6PCW  | Ovary  |\n",
       "| 6pcw-ovary-3 | 6pcw-ovary-3   | /shared/projects/gonseq/Building/Results/featurecounts/SRR7430708_paired-reverse-stranded.counts | SRR7430708 | 6PCW  | Ovary  |\n",
       "| 6pcw-ovary-4 | 6pcw-ovary-4   | /shared/projects/gonseq/Building/Results/featurecounts/SRR7430709_paired-reverse-stranded.counts | SRR7430709 | 6PCW  | Ovary  |\n",
       "| 6pcw-testis-1 | 6pcw-testis-1  | /shared/projects/gonseq/Building/Results/featurecounts/SRR7430710_paired-reverse-stranded.counts | SRR7430710 | 6PCW  | Testis |\n",
       "| 6pcw-testis-2 | 6pcw-testis-2  | /shared/projects/gonseq/Building/Results/featurecounts/SRR7430711_paired-reverse-stranded.counts | SRR7430711 | 6PCW  | Testis |\n",
       "| 6pcw-testis-3 | 6pcw-testis-3  | /shared/projects/gonseq/Building/Results/featurecounts/SRR7430712_paired-reverse-stranded.counts | SRR7430712 | 6PCW  | Testis |\n",
       "| 6pcw-testis-4 | 6pcw-testis-4  | /shared/projects/gonseq/Building/Results/featurecounts/SRR7430713_paired-reverse-stranded.counts | SRR7430713 | 6PCW  | Testis |\n",
       "| 12pcw-ovary-1 | 12pcw-ovary-1  | /shared/projects/gonseq/Building/Results/featurecounts/SRR7430738_paired-reverse-stranded.counts | SRR7430738 | 12PCW | Ovary  |\n",
       "| 12pcw-ovary-2 | 12pcw-ovary-2  | /shared/projects/gonseq/Building/Results/featurecounts/SRR7430739_paired-reverse-stranded.counts | SRR7430739 | 12PCW | Ovary  |\n",
       "| 12pcw-ovary-3 | 12pcw-ovary-3  | /shared/projects/gonseq/Building/Results/featurecounts/SRR7430740_paired-reverse-stranded.counts | SRR7430740 | 12PCW | Ovary  |\n",
       "| 12pcw-ovary-4 | 12pcw-ovary-4  | /shared/projects/gonseq/Building/Results/featurecounts/SRR7430741_paired-reverse-stranded.counts | SRR7430741 | 12PCW | Ovary  |\n",
       "| 12pcw-testis-1 | 12pcw-testis-1 | /shared/projects/gonseq/Building/Results/featurecounts/SRR7430742_paired-reverse-stranded.counts | SRR7430742 | 12PCW | Testis |\n",
       "| 12pcw-testis-2 | 12pcw-testis-2 | /shared/projects/gonseq/Building/Results/featurecounts/SRR7430743_paired-reverse-stranded.counts | SRR7430743 | 12PCW | Testis |\n",
       "| 12pcw-testis-3 | 12pcw-testis-3 | /shared/projects/gonseq/Building/Results/featurecounts/SRR7430744_paired-reverse-stranded.counts | SRR7430744 | 12PCW | Testis |\n",
       "| 12pcw-testis-4 | 12pcw-testis-4 | /shared/projects/gonseq/Building/Results/featurecounts/SRR7430745_paired-reverse-stranded.counts | SRR7430745 | 12PCW | Testis |\n",
       "\n"
      ],
      "text/plain": [
       "               Names         \n",
       "6pcw-ovary-1   6pcw-ovary-1  \n",
       "6pcw-ovary-2   6pcw-ovary-2  \n",
       "6pcw-ovary-3   6pcw-ovary-3  \n",
       "6pcw-ovary-4   6pcw-ovary-4  \n",
       "6pcw-testis-1  6pcw-testis-1 \n",
       "6pcw-testis-2  6pcw-testis-2 \n",
       "6pcw-testis-3  6pcw-testis-3 \n",
       "6pcw-testis-4  6pcw-testis-4 \n",
       "12pcw-ovary-1  12pcw-ovary-1 \n",
       "12pcw-ovary-2  12pcw-ovary-2 \n",
       "12pcw-ovary-3  12pcw-ovary-3 \n",
       "12pcw-ovary-4  12pcw-ovary-4 \n",
       "12pcw-testis-1 12pcw-testis-1\n",
       "12pcw-testis-2 12pcw-testis-2\n",
       "12pcw-testis-3 12pcw-testis-3\n",
       "12pcw-testis-4 12pcw-testis-4\n",
       "               Filepath                                                                                        \n",
       "6pcw-ovary-1   /shared/projects/gonseq/Building/Results/featurecounts/SRR7430706_paired-reverse-stranded.counts\n",
       "6pcw-ovary-2   /shared/projects/gonseq/Building/Results/featurecounts/SRR7430707_paired-reverse-stranded.counts\n",
       "6pcw-ovary-3   /shared/projects/gonseq/Building/Results/featurecounts/SRR7430708_paired-reverse-stranded.counts\n",
       "6pcw-ovary-4   /shared/projects/gonseq/Building/Results/featurecounts/SRR7430709_paired-reverse-stranded.counts\n",
       "6pcw-testis-1  /shared/projects/gonseq/Building/Results/featurecounts/SRR7430710_paired-reverse-stranded.counts\n",
       "6pcw-testis-2  /shared/projects/gonseq/Building/Results/featurecounts/SRR7430711_paired-reverse-stranded.counts\n",
       "6pcw-testis-3  /shared/projects/gonseq/Building/Results/featurecounts/SRR7430712_paired-reverse-stranded.counts\n",
       "6pcw-testis-4  /shared/projects/gonseq/Building/Results/featurecounts/SRR7430713_paired-reverse-stranded.counts\n",
       "12pcw-ovary-1  /shared/projects/gonseq/Building/Results/featurecounts/SRR7430738_paired-reverse-stranded.counts\n",
       "12pcw-ovary-2  /shared/projects/gonseq/Building/Results/featurecounts/SRR7430739_paired-reverse-stranded.counts\n",
       "12pcw-ovary-3  /shared/projects/gonseq/Building/Results/featurecounts/SRR7430740_paired-reverse-stranded.counts\n",
       "12pcw-ovary-4  /shared/projects/gonseq/Building/Results/featurecounts/SRR7430741_paired-reverse-stranded.counts\n",
       "12pcw-testis-1 /shared/projects/gonseq/Building/Results/featurecounts/SRR7430742_paired-reverse-stranded.counts\n",
       "12pcw-testis-2 /shared/projects/gonseq/Building/Results/featurecounts/SRR7430743_paired-reverse-stranded.counts\n",
       "12pcw-testis-3 /shared/projects/gonseq/Building/Results/featurecounts/SRR7430744_paired-reverse-stranded.counts\n",
       "12pcw-testis-4 /shared/projects/gonseq/Building/Results/featurecounts/SRR7430745_paired-reverse-stranded.counts\n",
       "               Run        Stage Tissue\n",
       "6pcw-ovary-1   SRR7430706 6PCW  Ovary \n",
       "6pcw-ovary-2   SRR7430707 6PCW  Ovary \n",
       "6pcw-ovary-3   SRR7430708 6PCW  Ovary \n",
       "6pcw-ovary-4   SRR7430709 6PCW  Ovary \n",
       "6pcw-testis-1  SRR7430710 6PCW  Testis\n",
       "6pcw-testis-2  SRR7430711 6PCW  Testis\n",
       "6pcw-testis-3  SRR7430712 6PCW  Testis\n",
       "6pcw-testis-4  SRR7430713 6PCW  Testis\n",
       "12pcw-ovary-1  SRR7430738 12PCW Ovary \n",
       "12pcw-ovary-2  SRR7430739 12PCW Ovary \n",
       "12pcw-ovary-3  SRR7430740 12PCW Ovary \n",
       "12pcw-ovary-4  SRR7430741 12PCW Ovary \n",
       "12pcw-testis-1 SRR7430742 12PCW Testis\n",
       "12pcw-testis-2 SRR7430743 12PCW Testis\n",
       "12pcw-testis-3 SRR7430744 12PCW Testis\n",
       "12pcw-testis-4 SRR7430745 12PCW Testis"
      ]
     },
     "metadata": {},
     "output_type": "display_data"
    }
   ],
   "source": [
    "target <- loadTargetFile(targetFile=targetFile, varInt=varInt, essentials=essentials, batch=batch)\n",
    "target[ , c(essentials, varInt, batch)]"
   ]
  },
  {
   "cell_type": "markdown",
   "metadata": {},
   "source": [
    "### **3- Loading count data: creation of the matrix of counts from the individual counts files**"
   ]
  },
  {
   "cell_type": "code",
   "execution_count": 34,
   "metadata": {},
   "outputs": [],
   "source": [
    "loadCountData <- function(target, essentials, skip=0,\n",
    "                          featuresToRemove=c(\"alignment_not_unique\", \"ambiguous\", \"no_feature\", \"not_aligned\", \"too_low_aQual\")){\n",
    "\n",
    "    labels <- as.character(target[, essentials[1]])\n",
    "    files <- as.character(target[, essentials[2]])\n",
    "\n",
    "    # detect if input count files are from featureCounts or HTSeq-count\n",
    "    f1 <- read.table(files[1], sep=\"\\t\", quote=\"\\\"\", header=FALSE, skip=5, nrows=5, stringsAsFactors=FALSE)\n",
    "    if (ncol(f1) >= 7 && is.numeric(f1[,7])){\n",
    "        # counter featurecounts\n",
    "        idCol <- 1\n",
    "        countsCol <- 7\n",
    "        header <- TRUE\n",
    "    } else{\n",
    "        if (ncol(f1) >= 2 && is.numeric(f1[,2])){\n",
    "            # counter htseq-count\n",
    "            idCol <- 1\n",
    "            countsCol <- 2\n",
    "            header <- FALSE\n",
    "        } else{\n",
    "            stop(\"Can't determine if count files come from HTSeq-count or featureCounts\")\n",
    "        }\n",
    "    }\n",
    "\n",
    "    # loading first file\n",
    "    rawCounts <- read.table(files[1], sep=\"\\t\", quote=\"\\\"\", header=header, skip=skip, stringsAsFactors=FALSE)\n",
    "    rawCounts <- rawCounts[ ,c(idCol, countsCol)]\n",
    "    colnames(rawCounts) <- c(\"Id\", labels[1])\n",
    "    \n",
    "    if (any(duplicated(rawCounts$Id))){\n",
    "        stop(\"Duplicated feature names in \", files[1], \": \",\n",
    "             paste(unique(rawCounts$Id[duplicated(rawCounts$Id)]), collapse=\", \"))\n",
    "    }\n",
    "    cat(\"Loading files:\\n\")\n",
    "    cat(files[1], \": \", length(rawCounts[,labels[1]]), \" rows and \", sum(rawCounts[,labels[1]]==0), \" null count(s)\\n\", sep=\"\")\n",
    "    \n",
    "    # loading remaining files\n",
    "    for (i in 2:length(files)){\n",
    "        tmp <- read.table(files[i], sep=\"\\t\", quote=\"\\\"\", header=header, skip=skip, stringsAsFactors=FALSE)\n",
    "        tmp <- tmp[, c(idCol, countsCol)]\n",
    "        colnames(tmp) <- c(\"Id\", labels[i])\n",
    "        if (any(duplicated(tmp$Id))){\n",
    "            stop(\"Duplicated feature names in \", files[i], \": \",\n",
    "                 paste(unique(tmp$Id[duplicated(tmp$Id)]), collapse=\", \"))\n",
    "        }\n",
    "        rawCounts <- merge(rawCounts, tmp, by=\"Id\", all=TRUE)\n",
    "        cat(files[i],\": \",length(tmp[,labels[i]]),\" rows and \",sum(tmp[,labels[i]]==0),\" null count(s)\\n\",sep=\"\")\n",
    "    }\n",
    "\n",
    "    rawCounts[is.na(rawCounts)] <- 0\n",
    "    counts <- as.matrix(rawCounts[,-1])\n",
    "    rownames(counts) <- rawCounts[,1]\n",
    "    counts <- counts[order(rownames(counts)),]\n",
    "\n",
    "    # check that input counts are integers to fit edgeR and DESeq2 requirements\n",
    "    if (any(counts %% 1 != 0)){\n",
    "        stop(\"Input counts are not integer values as required by DESeq2 and edgeR.\")\n",
    "    }\n",
    "    \n",
    "    # removing not usable features\n",
    "    cat(\"\\nFeatures removed:\\n\")\n",
    "    for (f in setdiff(featuresToRemove,\"\")){\n",
    "        match <- grep(f, rownames(counts))\n",
    "        if (length(match)>0){\n",
    "            cat(rownames(counts)[match],sep=\"\\n\")\n",
    "            counts <- counts[-match,]\n",
    "        }\n",
    "    }\n",
    "    \n",
    "    # silenced section: better display outside\n",
    "    # cat(\"\\nTop of the counts matrix:\\n\")\n",
    "    # print(head(counts))\n",
    "    # cat(\"\\nBottom of the counts matrix:\\n\")\n",
    "    # print(tail(counts))\n",
    "    \n",
    "    return(counts)\n",
    "}"
   ]
  },
  {
   "cell_type": "markdown",
   "metadata": {},
   "source": [
    "<div class=\"alert alert-block alert-warning\">\n",
    "    Following cell takes some time before displaying progression, please be patient.\n",
    "</div>"
   ]
  },
  {
   "cell_type": "code",
   "execution_count": 35,
   "metadata": {},
   "outputs": [
    {
     "name": "stdout",
     "output_type": "stream",
     "text": [
      "Loading files:\n",
      "/shared/projects/gonseq/Building/Results/featurecounts/SRR7430706_paired-reverse-stranded.counts: 60710 rows and 27672 null count(s)\n",
      "/shared/projects/gonseq/Building/Results/featurecounts/SRR7430707_paired-reverse-stranded.counts: 60710 rows and 28662 null count(s)\n",
      "/shared/projects/gonseq/Building/Results/featurecounts/SRR7430708_paired-reverse-stranded.counts: 60710 rows and 27213 null count(s)\n",
      "/shared/projects/gonseq/Building/Results/featurecounts/SRR7430709_paired-reverse-stranded.counts: 60710 rows and 27788 null count(s)\n",
      "/shared/projects/gonseq/Building/Results/featurecounts/SRR7430710_paired-reverse-stranded.counts: 60710 rows and 27493 null count(s)\n",
      "/shared/projects/gonseq/Building/Results/featurecounts/SRR7430711_paired-reverse-stranded.counts: 60710 rows and 29473 null count(s)\n",
      "/shared/projects/gonseq/Building/Results/featurecounts/SRR7430712_paired-reverse-stranded.counts: 60710 rows and 29412 null count(s)\n",
      "/shared/projects/gonseq/Building/Results/featurecounts/SRR7430713_paired-reverse-stranded.counts: 60710 rows and 27961 null count(s)\n",
      "/shared/projects/gonseq/Building/Results/featurecounts/SRR7430738_paired-reverse-stranded.counts: 60710 rows and 27453 null count(s)\n",
      "/shared/projects/gonseq/Building/Results/featurecounts/SRR7430739_paired-reverse-stranded.counts: 60710 rows and 27311 null count(s)\n",
      "/shared/projects/gonseq/Building/Results/featurecounts/SRR7430740_paired-reverse-stranded.counts: 60710 rows and 25831 null count(s)\n",
      "/shared/projects/gonseq/Building/Results/featurecounts/SRR7430741_paired-reverse-stranded.counts: 60710 rows and 28605 null count(s)\n",
      "/shared/projects/gonseq/Building/Results/featurecounts/SRR7430742_paired-reverse-stranded.counts: 60710 rows and 28411 null count(s)\n",
      "/shared/projects/gonseq/Building/Results/featurecounts/SRR7430743_paired-reverse-stranded.counts: 60710 rows and 29946 null count(s)\n",
      "/shared/projects/gonseq/Building/Results/featurecounts/SRR7430744_paired-reverse-stranded.counts: 60710 rows and 29511 null count(s)\n",
      "/shared/projects/gonseq/Building/Results/featurecounts/SRR7430745_paired-reverse-stranded.counts: 60710 rows and 26067 null count(s)\n",
      "\n",
      "Features removed:\n"
     ]
    }
   ],
   "source": [
    "counts <- loadCountData(target=target, essentials=essentials)"
   ]
  },
  {
   "cell_type": "code",
   "execution_count": 36,
   "metadata": {},
   "outputs": [
    {
     "name": "stdout",
     "output_type": "stream",
     "text": [
      "Top of the counts matrix:\n"
     ]
    },
    {
     "data": {
      "text/html": [
       "<table class=\"dataframe\">\n",
       "<caption>A matrix: 6 × 16 of type int</caption>\n",
       "<thead>\n",
       "\t<tr><th></th><th scope=col>6pcw-ovary-1</th><th scope=col>6pcw-ovary-2</th><th scope=col>6pcw-ovary-3</th><th scope=col>6pcw-ovary-4</th><th scope=col>6pcw-testis-1</th><th scope=col>6pcw-testis-2</th><th scope=col>6pcw-testis-3</th><th scope=col>6pcw-testis-4</th><th scope=col>12pcw-ovary-1</th><th scope=col>12pcw-ovary-2</th><th scope=col>12pcw-ovary-3</th><th scope=col>12pcw-ovary-4</th><th scope=col>12pcw-testis-1</th><th scope=col>12pcw-testis-2</th><th scope=col>12pcw-testis-3</th><th scope=col>12pcw-testis-4</th></tr>\n",
       "</thead>\n",
       "<tbody>\n",
       "\t<tr><th scope=row>ENSG00000000003.15</th><td>4428</td><td>4296</td><td>3557</td><td>3805</td><td>4354</td><td>4829</td><td>4610</td><td>3595</td><td>4447</td><td>4390</td><td>5015</td><td>3702</td><td>2023</td><td>2381</td><td>1808</td><td>3779</td></tr>\n",
       "\t<tr><th scope=row>ENSG00000000005.6</th><td>  58</td><td>  78</td><td>  37</td><td> 106</td><td>  17</td><td>  90</td><td>  54</td><td>  13</td><td>  25</td><td>  33</td><td>  42</td><td>  21</td><td>   4</td><td>   7</td><td>  10</td><td>   6</td></tr>\n",
       "\t<tr><th scope=row>ENSG00000000419.13</th><td> 986</td><td> 911</td><td> 909</td><td> 828</td><td> 835</td><td>1151</td><td> 952</td><td>1031</td><td> 824</td><td> 948</td><td>1263</td><td> 933</td><td> 804</td><td> 876</td><td> 816</td><td>1515</td></tr>\n",
       "\t<tr><th scope=row>ENSG00000000457.14</th><td> 845</td><td> 707</td><td> 595</td><td> 673</td><td> 807</td><td> 924</td><td> 672</td><td> 575</td><td> 639</td><td> 660</td><td> 584</td><td> 532</td><td> 691</td><td> 550</td><td> 523</td><td>1035</td></tr>\n",
       "\t<tr><th scope=row>ENSG00000000460.17</th><td> 675</td><td> 793</td><td> 881</td><td> 649</td><td> 724</td><td> 831</td><td> 752</td><td>1124</td><td> 871</td><td>1300</td><td>1477</td><td>1241</td><td> 564</td><td> 517</td><td> 541</td><td> 928</td></tr>\n",
       "\t<tr><th scope=row>ENSG00000000938.13</th><td>  43</td><td>  32</td><td>  10</td><td>  30</td><td>  45</td><td>  60</td><td>  45</td><td>  67</td><td>  15</td><td>  25</td><td>  23</td><td>  16</td><td>  73</td><td>  84</td><td> 100</td><td> 151</td></tr>\n",
       "</tbody>\n",
       "</table>\n"
      ],
      "text/latex": [
       "A matrix: 6 × 16 of type int\n",
       "\\begin{tabular}{r|llllllllllllllll}\n",
       "  & 6pcw-ovary-1 & 6pcw-ovary-2 & 6pcw-ovary-3 & 6pcw-ovary-4 & 6pcw-testis-1 & 6pcw-testis-2 & 6pcw-testis-3 & 6pcw-testis-4 & 12pcw-ovary-1 & 12pcw-ovary-2 & 12pcw-ovary-3 & 12pcw-ovary-4 & 12pcw-testis-1 & 12pcw-testis-2 & 12pcw-testis-3 & 12pcw-testis-4\\\\\n",
       "\\hline\n",
       "\tENSG00000000003.15 & 4428 & 4296 & 3557 & 3805 & 4354 & 4829 & 4610 & 3595 & 4447 & 4390 & 5015 & 3702 & 2023 & 2381 & 1808 & 3779\\\\\n",
       "\tENSG00000000005.6 &   58 &   78 &   37 &  106 &   17 &   90 &   54 &   13 &   25 &   33 &   42 &   21 &    4 &    7 &   10 &    6\\\\\n",
       "\tENSG00000000419.13 &  986 &  911 &  909 &  828 &  835 & 1151 &  952 & 1031 &  824 &  948 & 1263 &  933 &  804 &  876 &  816 & 1515\\\\\n",
       "\tENSG00000000457.14 &  845 &  707 &  595 &  673 &  807 &  924 &  672 &  575 &  639 &  660 &  584 &  532 &  691 &  550 &  523 & 1035\\\\\n",
       "\tENSG00000000460.17 &  675 &  793 &  881 &  649 &  724 &  831 &  752 & 1124 &  871 & 1300 & 1477 & 1241 &  564 &  517 &  541 &  928\\\\\n",
       "\tENSG00000000938.13 &   43 &   32 &   10 &   30 &   45 &   60 &   45 &   67 &   15 &   25 &   23 &   16 &   73 &   84 &  100 &  151\\\\\n",
       "\\end{tabular}\n"
      ],
      "text/markdown": [
       "\n",
       "A matrix: 6 × 16 of type int\n",
       "\n",
       "| <!--/--> | 6pcw-ovary-1 | 6pcw-ovary-2 | 6pcw-ovary-3 | 6pcw-ovary-4 | 6pcw-testis-1 | 6pcw-testis-2 | 6pcw-testis-3 | 6pcw-testis-4 | 12pcw-ovary-1 | 12pcw-ovary-2 | 12pcw-ovary-3 | 12pcw-ovary-4 | 12pcw-testis-1 | 12pcw-testis-2 | 12pcw-testis-3 | 12pcw-testis-4 |\n",
       "|---|---|---|---|---|---|---|---|---|---|---|---|---|---|---|---|---|\n",
       "| ENSG00000000003.15 | 4428 | 4296 | 3557 | 3805 | 4354 | 4829 | 4610 | 3595 | 4447 | 4390 | 5015 | 3702 | 2023 | 2381 | 1808 | 3779 |\n",
       "| ENSG00000000005.6 |   58 |   78 |   37 |  106 |   17 |   90 |   54 |   13 |   25 |   33 |   42 |   21 |    4 |    7 |   10 |    6 |\n",
       "| ENSG00000000419.13 |  986 |  911 |  909 |  828 |  835 | 1151 |  952 | 1031 |  824 |  948 | 1263 |  933 |  804 |  876 |  816 | 1515 |\n",
       "| ENSG00000000457.14 |  845 |  707 |  595 |  673 |  807 |  924 |  672 |  575 |  639 |  660 |  584 |  532 |  691 |  550 |  523 | 1035 |\n",
       "| ENSG00000000460.17 |  675 |  793 |  881 |  649 |  724 |  831 |  752 | 1124 |  871 | 1300 | 1477 | 1241 |  564 |  517 |  541 |  928 |\n",
       "| ENSG00000000938.13 |   43 |   32 |   10 |   30 |   45 |   60 |   45 |   67 |   15 |   25 |   23 |   16 |   73 |   84 |  100 |  151 |\n",
       "\n"
      ],
      "text/plain": [
       "                   6pcw-ovary-1 6pcw-ovary-2 6pcw-ovary-3 6pcw-ovary-4\n",
       "ENSG00000000003.15 4428         4296         3557         3805        \n",
       "ENSG00000000005.6    58           78           37          106        \n",
       "ENSG00000000419.13  986          911          909          828        \n",
       "ENSG00000000457.14  845          707          595          673        \n",
       "ENSG00000000460.17  675          793          881          649        \n",
       "ENSG00000000938.13   43           32           10           30        \n",
       "                   6pcw-testis-1 6pcw-testis-2 6pcw-testis-3 6pcw-testis-4\n",
       "ENSG00000000003.15 4354          4829          4610          3595         \n",
       "ENSG00000000005.6    17            90            54            13         \n",
       "ENSG00000000419.13  835          1151           952          1031         \n",
       "ENSG00000000457.14  807           924           672           575         \n",
       "ENSG00000000460.17  724           831           752          1124         \n",
       "ENSG00000000938.13   45            60            45            67         \n",
       "                   12pcw-ovary-1 12pcw-ovary-2 12pcw-ovary-3 12pcw-ovary-4\n",
       "ENSG00000000003.15 4447          4390          5015          3702         \n",
       "ENSG00000000005.6    25            33            42            21         \n",
       "ENSG00000000419.13  824           948          1263           933         \n",
       "ENSG00000000457.14  639           660           584           532         \n",
       "ENSG00000000460.17  871          1300          1477          1241         \n",
       "ENSG00000000938.13   15            25            23            16         \n",
       "                   12pcw-testis-1 12pcw-testis-2 12pcw-testis-3 12pcw-testis-4\n",
       "ENSG00000000003.15 2023           2381           1808           3779          \n",
       "ENSG00000000005.6     4              7             10              6          \n",
       "ENSG00000000419.13  804            876            816           1515          \n",
       "ENSG00000000457.14  691            550            523           1035          \n",
       "ENSG00000000460.17  564            517            541            928          \n",
       "ENSG00000000938.13   73             84            100            151          "
      ]
     },
     "metadata": {},
     "output_type": "display_data"
    }
   ],
   "source": [
    "# from loadCountData function\n",
    "cat(\"Top of the counts matrix:\\n\")\n",
    "head(counts)"
   ]
  },
  {
   "cell_type": "code",
   "execution_count": 37,
   "metadata": {},
   "outputs": [
    {
     "name": "stdout",
     "output_type": "stream",
     "text": [
      "Bottom of the counts matrix:\n"
     ]
    },
    {
     "data": {
      "text/html": [
       "<table class=\"dataframe\">\n",
       "<caption>A matrix: 6 × 16 of type int</caption>\n",
       "<thead>\n",
       "\t<tr><th></th><th scope=col>6pcw-ovary-1</th><th scope=col>6pcw-ovary-2</th><th scope=col>6pcw-ovary-3</th><th scope=col>6pcw-ovary-4</th><th scope=col>6pcw-testis-1</th><th scope=col>6pcw-testis-2</th><th scope=col>6pcw-testis-3</th><th scope=col>6pcw-testis-4</th><th scope=col>12pcw-ovary-1</th><th scope=col>12pcw-ovary-2</th><th scope=col>12pcw-ovary-3</th><th scope=col>12pcw-ovary-4</th><th scope=col>12pcw-testis-1</th><th scope=col>12pcw-testis-2</th><th scope=col>12pcw-testis-3</th><th scope=col>12pcw-testis-4</th></tr>\n",
       "</thead>\n",
       "<tbody>\n",
       "\t<tr><th scope=row>ENSG00000288694.1</th><td>6</td><td>2</td><td>14</td><td>12</td><td>0</td><td>1</td><td>1</td><td>2</td><td>22</td><td>38</td><td>51</td><td>17</td><td>20</td><td>3</td><td>11</td><td>11</td></tr>\n",
       "\t<tr><th scope=row>ENSG00000288695.1</th><td>5</td><td>9</td><td> 5</td><td> 5</td><td>3</td><td>3</td><td>7</td><td>4</td><td> 2</td><td> 1</td><td> 1</td><td> 3</td><td>10</td><td>6</td><td> 2</td><td> 5</td></tr>\n",
       "\t<tr><th scope=row>ENSG00000288696.1</th><td>0</td><td>0</td><td> 0</td><td> 0</td><td>0</td><td>0</td><td>0</td><td>0</td><td> 0</td><td> 0</td><td> 0</td><td> 0</td><td> 0</td><td>0</td><td> 0</td><td> 0</td></tr>\n",
       "\t<tr><th scope=row>ENSG00000288697.1</th><td>0</td><td>0</td><td> 0</td><td> 0</td><td>0</td><td>0</td><td>0</td><td>0</td><td> 0</td><td> 0</td><td> 0</td><td> 0</td><td> 0</td><td>0</td><td> 0</td><td> 0</td></tr>\n",
       "\t<tr><th scope=row>ENSG00000288698.1</th><td>1</td><td>1</td><td> 0</td><td> 3</td><td>6</td><td>2</td><td>3</td><td>0</td><td> 3</td><td> 1</td><td> 2</td><td> 0</td><td> 1</td><td>1</td><td> 4</td><td> 0</td></tr>\n",
       "\t<tr><th scope=row>ENSG00000288699.1</th><td>1</td><td>0</td><td> 0</td><td> 0</td><td>0</td><td>0</td><td>0</td><td>0</td><td> 0</td><td> 0</td><td> 0</td><td> 0</td><td> 0</td><td>0</td><td> 0</td><td> 0</td></tr>\n",
       "</tbody>\n",
       "</table>\n"
      ],
      "text/latex": [
       "A matrix: 6 × 16 of type int\n",
       "\\begin{tabular}{r|llllllllllllllll}\n",
       "  & 6pcw-ovary-1 & 6pcw-ovary-2 & 6pcw-ovary-3 & 6pcw-ovary-4 & 6pcw-testis-1 & 6pcw-testis-2 & 6pcw-testis-3 & 6pcw-testis-4 & 12pcw-ovary-1 & 12pcw-ovary-2 & 12pcw-ovary-3 & 12pcw-ovary-4 & 12pcw-testis-1 & 12pcw-testis-2 & 12pcw-testis-3 & 12pcw-testis-4\\\\\n",
       "\\hline\n",
       "\tENSG00000288694.1 & 6 & 2 & 14 & 12 & 0 & 1 & 1 & 2 & 22 & 38 & 51 & 17 & 20 & 3 & 11 & 11\\\\\n",
       "\tENSG00000288695.1 & 5 & 9 &  5 &  5 & 3 & 3 & 7 & 4 &  2 &  1 &  1 &  3 & 10 & 6 &  2 &  5\\\\\n",
       "\tENSG00000288696.1 & 0 & 0 &  0 &  0 & 0 & 0 & 0 & 0 &  0 &  0 &  0 &  0 &  0 & 0 &  0 &  0\\\\\n",
       "\tENSG00000288697.1 & 0 & 0 &  0 &  0 & 0 & 0 & 0 & 0 &  0 &  0 &  0 &  0 &  0 & 0 &  0 &  0\\\\\n",
       "\tENSG00000288698.1 & 1 & 1 &  0 &  3 & 6 & 2 & 3 & 0 &  3 &  1 &  2 &  0 &  1 & 1 &  4 &  0\\\\\n",
       "\tENSG00000288699.1 & 1 & 0 &  0 &  0 & 0 & 0 & 0 & 0 &  0 &  0 &  0 &  0 &  0 & 0 &  0 &  0\\\\\n",
       "\\end{tabular}\n"
      ],
      "text/markdown": [
       "\n",
       "A matrix: 6 × 16 of type int\n",
       "\n",
       "| <!--/--> | 6pcw-ovary-1 | 6pcw-ovary-2 | 6pcw-ovary-3 | 6pcw-ovary-4 | 6pcw-testis-1 | 6pcw-testis-2 | 6pcw-testis-3 | 6pcw-testis-4 | 12pcw-ovary-1 | 12pcw-ovary-2 | 12pcw-ovary-3 | 12pcw-ovary-4 | 12pcw-testis-1 | 12pcw-testis-2 | 12pcw-testis-3 | 12pcw-testis-4 |\n",
       "|---|---|---|---|---|---|---|---|---|---|---|---|---|---|---|---|---|\n",
       "| ENSG00000288694.1 | 6 | 2 | 14 | 12 | 0 | 1 | 1 | 2 | 22 | 38 | 51 | 17 | 20 | 3 | 11 | 11 |\n",
       "| ENSG00000288695.1 | 5 | 9 |  5 |  5 | 3 | 3 | 7 | 4 |  2 |  1 |  1 |  3 | 10 | 6 |  2 |  5 |\n",
       "| ENSG00000288696.1 | 0 | 0 |  0 |  0 | 0 | 0 | 0 | 0 |  0 |  0 |  0 |  0 |  0 | 0 |  0 |  0 |\n",
       "| ENSG00000288697.1 | 0 | 0 |  0 |  0 | 0 | 0 | 0 | 0 |  0 |  0 |  0 |  0 |  0 | 0 |  0 |  0 |\n",
       "| ENSG00000288698.1 | 1 | 1 |  0 |  3 | 6 | 2 | 3 | 0 |  3 |  1 |  2 |  0 |  1 | 1 |  4 |  0 |\n",
       "| ENSG00000288699.1 | 1 | 0 |  0 |  0 | 0 | 0 | 0 | 0 |  0 |  0 |  0 |  0 |  0 | 0 |  0 |  0 |\n",
       "\n"
      ],
      "text/plain": [
       "                  6pcw-ovary-1 6pcw-ovary-2 6pcw-ovary-3 6pcw-ovary-4\n",
       "ENSG00000288694.1 6            2            14           12          \n",
       "ENSG00000288695.1 5            9             5            5          \n",
       "ENSG00000288696.1 0            0             0            0          \n",
       "ENSG00000288697.1 0            0             0            0          \n",
       "ENSG00000288698.1 1            1             0            3          \n",
       "ENSG00000288699.1 1            0             0            0          \n",
       "                  6pcw-testis-1 6pcw-testis-2 6pcw-testis-3 6pcw-testis-4\n",
       "ENSG00000288694.1 0             1             1             2            \n",
       "ENSG00000288695.1 3             3             7             4            \n",
       "ENSG00000288696.1 0             0             0             0            \n",
       "ENSG00000288697.1 0             0             0             0            \n",
       "ENSG00000288698.1 6             2             3             0            \n",
       "ENSG00000288699.1 0             0             0             0            \n",
       "                  12pcw-ovary-1 12pcw-ovary-2 12pcw-ovary-3 12pcw-ovary-4\n",
       "ENSG00000288694.1 22            38            51            17           \n",
       "ENSG00000288695.1  2             1             1             3           \n",
       "ENSG00000288696.1  0             0             0             0           \n",
       "ENSG00000288697.1  0             0             0             0           \n",
       "ENSG00000288698.1  3             1             2             0           \n",
       "ENSG00000288699.1  0             0             0             0           \n",
       "                  12pcw-testis-1 12pcw-testis-2 12pcw-testis-3 12pcw-testis-4\n",
       "ENSG00000288694.1 20             3              11             11            \n",
       "ENSG00000288695.1 10             6               2              5            \n",
       "ENSG00000288696.1  0             0               0              0            \n",
       "ENSG00000288697.1  0             0               0              0            \n",
       "ENSG00000288698.1  1             1               4              0            \n",
       "ENSG00000288699.1  0             0               0              0            "
      ]
     },
     "metadata": {},
     "output_type": "display_data"
    }
   ],
   "source": [
    "# from loadCountData function\n",
    "cat(\"Bottom of the counts matrix:\\n\")\n",
    "tail(counts)"
   ]
  },
  {
   "cell_type": "markdown",
   "metadata": {},
   "source": [
    "### **4- Creating DESeqDataSet (``dds``) object**"
   ]
  },
  {
   "cell_type": "markdown",
   "metadata": {},
   "source": [
    "#### **4.a- Loading DESeq2 library**"
   ]
  },
  {
   "cell_type": "code",
   "execution_count": 38,
   "metadata": {},
   "outputs": [
    {
     "name": "stderr",
     "output_type": "stream",
     "text": [
      "\n",
      "Attaching package: ‘BiocGenerics’\n",
      "\n",
      "\n",
      "The following objects are masked from ‘package:parallel’:\n",
      "\n",
      "    clusterApply, clusterApplyLB, clusterCall, clusterEvalQ,\n",
      "    clusterExport, clusterMap, parApply, parCapply, parLapply,\n",
      "    parLapplyLB, parRapply, parSapply, parSapplyLB\n",
      "\n",
      "\n",
      "The following objects are masked from ‘package:stats’:\n",
      "\n",
      "    IQR, mad, sd, var, xtabs\n",
      "\n",
      "\n",
      "The following objects are masked from ‘package:base’:\n",
      "\n",
      "    anyDuplicated, append, as.data.frame, basename, cbind, colnames,\n",
      "    dirname, do.call, duplicated, eval, evalq, Filter, Find, get, grep,\n",
      "    grepl, intersect, is.unsorted, lapply, Map, mapply, match, mget,\n",
      "    order, paste, pmax, pmax.int, pmin, pmin.int, Position, rank,\n",
      "    rbind, Reduce, rownames, sapply, setdiff, sort, table, tapply,\n",
      "    union, unique, unsplit, which.max, which.min\n",
      "\n",
      "\n",
      "\n",
      "Attaching package: ‘S4Vectors’\n",
      "\n",
      "\n",
      "The following object is masked from ‘package:base’:\n",
      "\n",
      "    expand.grid\n",
      "\n",
      "\n",
      "\n",
      "Attaching package: ‘MatrixGenerics’\n",
      "\n",
      "\n",
      "The following objects are masked from ‘package:matrixStats’:\n",
      "\n",
      "    colAlls, colAnyNAs, colAnys, colAvgsPerRowSet, colCollapse,\n",
      "    colCounts, colCummaxs, colCummins, colCumprods, colCumsums,\n",
      "    colDiffs, colIQRDiffs, colIQRs, colLogSumExps, colMadDiffs,\n",
      "    colMads, colMaxs, colMeans2, colMedians, colMins, colOrderStats,\n",
      "    colProds, colQuantiles, colRanges, colRanks, colSdDiffs, colSds,\n",
      "    colSums2, colTabulates, colVarDiffs, colVars, colWeightedMads,\n",
      "    colWeightedMeans, colWeightedMedians, colWeightedSds,\n",
      "    colWeightedVars, rowAlls, rowAnyNAs, rowAnys, rowAvgsPerColSet,\n",
      "    rowCollapse, rowCounts, rowCummaxs, rowCummins, rowCumprods,\n",
      "    rowCumsums, rowDiffs, rowIQRDiffs, rowIQRs, rowLogSumExps,\n",
      "    rowMadDiffs, rowMads, rowMaxs, rowMeans2, rowMedians, rowMins,\n",
      "    rowOrderStats, rowProds, rowQuantiles, rowRanges, rowRanks,\n",
      "    rowSdDiffs, rowSds, rowSums2, rowTabulates, rowVarDiffs, rowVars,\n",
      "    rowWeightedMads, rowWeightedMeans, rowWeightedMedians,\n",
      "    rowWeightedSds, rowWeightedVars\n",
      "\n",
      "\n",
      "Welcome to Bioconductor\n",
      "\n",
      "    Vignettes contain introductory material; view with\n",
      "    'browseVignettes()'. To cite Bioconductor, see\n",
      "    'citation(\"Biobase\")', and for packages 'citation(\"pkgname\")'.\n",
      "\n",
      "\n",
      "\n",
      "Attaching package: ‘Biobase’\n",
      "\n",
      "\n",
      "The following object is masked from ‘package:MatrixGenerics’:\n",
      "\n",
      "    rowMedians\n",
      "\n",
      "\n",
      "The following objects are masked from ‘package:matrixStats’:\n",
      "\n",
      "    anyMissing, rowMedians\n",
      "\n",
      "\n"
     ]
    }
   ],
   "source": [
    "library(\"DESeq2\", quietly = TRUE)"
   ]
  },
  {
   "cell_type": "markdown",
   "metadata": {},
   "source": [
    "<del>As we ask for a silent loading library, <i>no message confirming package attaching is printed, and most often, no errors/warnings are printed if package attaching fails</i> (from <i>Help</i>'s section). <br>\n",
    "Please <b>check that this library is in <i>other attached packages</i>'s section</b> bellow: </del>\n",
    "\n",
    "Let's show `sessionInfo( )` to have packages versions (*used version for development* DESeq2_1.30.1): "
   ]
  },
  {
   "cell_type": "code",
   "execution_count": 39,
   "metadata": {},
   "outputs": [
    {
     "data": {
      "text/plain": [
       "R version 4.0.3 (2020-10-10)\n",
       "Platform: x86_64-conda-linux-gnu (64-bit)\n",
       "Running under: CentOS Linux 7 (Core)\n",
       "\n",
       "Matrix products: default\n",
       "BLAS/LAPACK: /shared/ifbstor1/software/miniconda/envs/r-4.0.3/lib/libopenblasp-r0.3.10.so\n",
       "\n",
       "locale:\n",
       " [1] LC_CTYPE=en_US.UTF-8       LC_NUMERIC=C              \n",
       " [3] LC_TIME=en_US.UTF-8        LC_COLLATE=en_US.UTF-8    \n",
       " [5] LC_MONETARY=en_US.UTF-8    LC_MESSAGES=en_US.UTF-8   \n",
       " [7] LC_PAPER=en_US.UTF-8       LC_NAME=C                 \n",
       " [9] LC_ADDRESS=C               LC_TELEPHONE=C            \n",
       "[11] LC_MEASUREMENT=en_US.UTF-8 LC_IDENTIFICATION=C       \n",
       "\n",
       "attached base packages:\n",
       "[1] parallel  stats4    stats     graphics  grDevices utils     datasets \n",
       "[8] methods   base     \n",
       "\n",
       "other attached packages:\n",
       " [1] DESeq2_1.30.1               SummarizedExperiment_1.20.0\n",
       " [3] Biobase_2.50.0              MatrixGenerics_1.2.1       \n",
       " [5] matrixStats_0.59.0          GenomicRanges_1.42.0       \n",
       " [7] GenomeInfoDb_1.26.7         IRanges_2.24.1             \n",
       " [9] S4Vectors_0.28.1            BiocGenerics_0.36.1        \n",
       "\n",
       "loaded via a namespace (and not attached):\n",
       " [1] locfit_1.5-9.4         Rcpp_1.0.6             lattice_0.20-41       \n",
       " [4] assertthat_0.2.1       digest_0.6.27          utf8_1.2.1            \n",
       " [7] IRdisplay_1.0          R6_2.5.0               repr_1.1.3            \n",
       "[10] RSQLite_2.2.7          evaluate_0.14          httr_1.4.2            \n",
       "[13] ggplot2_3.3.5          pillar_1.6.2           zlibbioc_1.36.0       \n",
       "[16] rlang_0.4.11           uuid_0.1-4             annotate_1.68.0       \n",
       "[19] blob_1.2.1             Matrix_1.3-4           splines_4.0.3         \n",
       "[22] BiocParallel_1.24.1    geneplotter_1.68.0     RCurl_1.98-1.3        \n",
       "[25] bit_4.0.4              munsell_0.5.0          DelayedArray_0.16.3   \n",
       "[28] compiler_4.0.3         pkgconfig_2.0.3        base64enc_0.1-3       \n",
       "[31] htmltools_0.5.1.1      tidyselect_1.1.1       tibble_3.1.2          \n",
       "[34] GenomeInfoDbData_1.2.4 XML_3.99-0.6           fansi_0.5.0           \n",
       "[37] crayon_1.4.1           dplyr_1.0.6            bitops_1.0-7          \n",
       "[40] grid_4.0.3             jsonlite_1.7.2         xtable_1.8-4          \n",
       "[43] gtable_0.3.0           lifecycle_1.0.0        DBI_1.1.1             \n",
       "[46] magrittr_2.0.1         scales_1.1.1           cachem_1.0.5          \n",
       "[49] XVector_0.30.0         genefilter_1.72.1      ellipsis_0.3.2        \n",
       "[52] vctrs_0.3.8            generics_0.1.0         IRkernel_1.1.1        \n",
       "[55] RColorBrewer_1.1-2     tools_4.0.3            bit64_4.0.5           \n",
       "[58] glue_1.4.2             purrr_0.3.4            fastmap_1.1.0         \n",
       "[61] survival_3.2-10        AnnotationDbi_1.52.0   colorspace_2.0-1      \n",
       "[64] memoise_2.0.0          pbdZMQ_0.3-5          "
      ]
     },
     "metadata": {},
     "output_type": "display_data"
    }
   ],
   "source": [
    "sessionInfo()"
   ]
  },
  {
   "cell_type": "code",
   "execution_count": 40,
   "metadata": {},
   "outputs": [
    {
     "name": "stdout",
     "output_type": "stream",
     "text": [
      "[1] \"batch\"            \"counts\"           \"essentials\"       \"featuresToRemove\"\n",
      "[5] \"loadCountData\"    \"loadTargetFile\"   \"target\"           \"targetFile\"      \n",
      "[9] \"varInt\"          \n"
     ]
    }
   ],
   "source": [
    "print( ls() )"
   ]
  },
  {
   "cell_type": "markdown",
   "metadata": {},
   "source": [
    "#### **4.b- Operating on dataset**"
   ]
  },
  {
   "cell_type": "markdown",
   "metadata": {},
   "source": [
    "Let's remember the names of our factors of interest and batch variables:"
   ]
  },
  {
   "cell_type": "code",
   "execution_count": 41,
   "metadata": {},
   "outputs": [
    {
     "name": "stdout",
     "output_type": "stream",
     "text": [
      "NULL\n",
      "[1] \"Stage\"  \"Tissue\"\n"
     ]
    }
   ],
   "source": [
    "print( batch )\n",
    "print( varInt )"
   ]
  },
  {
   "cell_type": "markdown",
   "metadata": {},
   "source": [
    "Please adapt the parameter `design` following your own experimental design:   \n",
    "\n",
    "> Be sure to put main factor of interest at last position  \n",
    "> To have an interaction factor, use `factor1:factor2` format"
   ]
  },
  {
   "cell_type": "code",
   "execution_count": 43,
   "metadata": {},
   "outputs": [
    {
     "data": {
      "text/plain": [
       "class: DESeqDataSet \n",
       "dim: 60710 16 \n",
       "metadata(1): version\n",
       "assays(1): counts\n",
       "rownames(60710): ENSG00000000003.15 ENSG00000000005.6 ...\n",
       "  ENSG00000288698.1 ENSG00000288699.1\n",
       "rowData names(0):\n",
       "colnames(16): 6pcw-ovary-1 6pcw-ovary-2 ... 12pcw-testis-3\n",
       "  12pcw-testis-4\n",
       "colData names(32): Run AGE ... Filepath sizeFactor"
      ]
     },
     "metadata": {},
     "output_type": "display_data"
    }
   ],
   "source": [
    "# Constructing a DESeqDataSet object\n",
    "dds <- DESeqDataSetFromMatrix(countData = counts,\n",
    "                              colData = target,\n",
    "                              design = ~ Tissue + Stage + Tissue:Stage)\n",
    "dds <- estimateSizeFactors(dds)\n",
    "dds"
   ]
  },
  {
   "cell_type": "markdown",
   "metadata": {},
   "source": [
    "#### **4.c- Discovering DES DataSet (dds) object**"
   ]
  },
  {
   "cell_type": "markdown",
   "metadata": {},
   "source": [
    "The ``DESeqdataset`` object contains several tables, we can explore each one using its own accessor function.  \n",
    "*I use ``head`` function to limit results display in Jupyter notebook, you may have mentionned that ``DESeqdataset`` object has huge amount of lines!*\n",
    "- counts table"
   ]
  },
  {
   "cell_type": "code",
   "execution_count": 44,
   "metadata": {},
   "outputs": [
    {
     "data": {
      "text/html": [
       "<table class=\"dataframe\">\n",
       "<caption>A matrix: 6 × 16 of type int</caption>\n",
       "<thead>\n",
       "\t<tr><th></th><th scope=col>6pcw-ovary-1</th><th scope=col>6pcw-ovary-2</th><th scope=col>6pcw-ovary-3</th><th scope=col>6pcw-ovary-4</th><th scope=col>6pcw-testis-1</th><th scope=col>6pcw-testis-2</th><th scope=col>6pcw-testis-3</th><th scope=col>6pcw-testis-4</th><th scope=col>12pcw-ovary-1</th><th scope=col>12pcw-ovary-2</th><th scope=col>12pcw-ovary-3</th><th scope=col>12pcw-ovary-4</th><th scope=col>12pcw-testis-1</th><th scope=col>12pcw-testis-2</th><th scope=col>12pcw-testis-3</th><th scope=col>12pcw-testis-4</th></tr>\n",
       "</thead>\n",
       "<tbody>\n",
       "\t<tr><th scope=row>ENSG00000000003.15</th><td>4428</td><td>4296</td><td>3557</td><td>3805</td><td>4354</td><td>4829</td><td>4610</td><td>3595</td><td>4447</td><td>4390</td><td>5015</td><td>3702</td><td>2023</td><td>2381</td><td>1808</td><td>3779</td></tr>\n",
       "\t<tr><th scope=row>ENSG00000000005.6</th><td>  58</td><td>  78</td><td>  37</td><td> 106</td><td>  17</td><td>  90</td><td>  54</td><td>  13</td><td>  25</td><td>  33</td><td>  42</td><td>  21</td><td>   4</td><td>   7</td><td>  10</td><td>   6</td></tr>\n",
       "\t<tr><th scope=row>ENSG00000000419.13</th><td> 986</td><td> 911</td><td> 909</td><td> 828</td><td> 835</td><td>1151</td><td> 952</td><td>1031</td><td> 824</td><td> 948</td><td>1263</td><td> 933</td><td> 804</td><td> 876</td><td> 816</td><td>1515</td></tr>\n",
       "\t<tr><th scope=row>ENSG00000000457.14</th><td> 845</td><td> 707</td><td> 595</td><td> 673</td><td> 807</td><td> 924</td><td> 672</td><td> 575</td><td> 639</td><td> 660</td><td> 584</td><td> 532</td><td> 691</td><td> 550</td><td> 523</td><td>1035</td></tr>\n",
       "\t<tr><th scope=row>ENSG00000000460.17</th><td> 675</td><td> 793</td><td> 881</td><td> 649</td><td> 724</td><td> 831</td><td> 752</td><td>1124</td><td> 871</td><td>1300</td><td>1477</td><td>1241</td><td> 564</td><td> 517</td><td> 541</td><td> 928</td></tr>\n",
       "\t<tr><th scope=row>ENSG00000000938.13</th><td>  43</td><td>  32</td><td>  10</td><td>  30</td><td>  45</td><td>  60</td><td>  45</td><td>  67</td><td>  15</td><td>  25</td><td>  23</td><td>  16</td><td>  73</td><td>  84</td><td> 100</td><td> 151</td></tr>\n",
       "</tbody>\n",
       "</table>\n"
      ],
      "text/latex": [
       "A matrix: 6 × 16 of type int\n",
       "\\begin{tabular}{r|llllllllllllllll}\n",
       "  & 6pcw-ovary-1 & 6pcw-ovary-2 & 6pcw-ovary-3 & 6pcw-ovary-4 & 6pcw-testis-1 & 6pcw-testis-2 & 6pcw-testis-3 & 6pcw-testis-4 & 12pcw-ovary-1 & 12pcw-ovary-2 & 12pcw-ovary-3 & 12pcw-ovary-4 & 12pcw-testis-1 & 12pcw-testis-2 & 12pcw-testis-3 & 12pcw-testis-4\\\\\n",
       "\\hline\n",
       "\tENSG00000000003.15 & 4428 & 4296 & 3557 & 3805 & 4354 & 4829 & 4610 & 3595 & 4447 & 4390 & 5015 & 3702 & 2023 & 2381 & 1808 & 3779\\\\\n",
       "\tENSG00000000005.6 &   58 &   78 &   37 &  106 &   17 &   90 &   54 &   13 &   25 &   33 &   42 &   21 &    4 &    7 &   10 &    6\\\\\n",
       "\tENSG00000000419.13 &  986 &  911 &  909 &  828 &  835 & 1151 &  952 & 1031 &  824 &  948 & 1263 &  933 &  804 &  876 &  816 & 1515\\\\\n",
       "\tENSG00000000457.14 &  845 &  707 &  595 &  673 &  807 &  924 &  672 &  575 &  639 &  660 &  584 &  532 &  691 &  550 &  523 & 1035\\\\\n",
       "\tENSG00000000460.17 &  675 &  793 &  881 &  649 &  724 &  831 &  752 & 1124 &  871 & 1300 & 1477 & 1241 &  564 &  517 &  541 &  928\\\\\n",
       "\tENSG00000000938.13 &   43 &   32 &   10 &   30 &   45 &   60 &   45 &   67 &   15 &   25 &   23 &   16 &   73 &   84 &  100 &  151\\\\\n",
       "\\end{tabular}\n"
      ],
      "text/markdown": [
       "\n",
       "A matrix: 6 × 16 of type int\n",
       "\n",
       "| <!--/--> | 6pcw-ovary-1 | 6pcw-ovary-2 | 6pcw-ovary-3 | 6pcw-ovary-4 | 6pcw-testis-1 | 6pcw-testis-2 | 6pcw-testis-3 | 6pcw-testis-4 | 12pcw-ovary-1 | 12pcw-ovary-2 | 12pcw-ovary-3 | 12pcw-ovary-4 | 12pcw-testis-1 | 12pcw-testis-2 | 12pcw-testis-3 | 12pcw-testis-4 |\n",
       "|---|---|---|---|---|---|---|---|---|---|---|---|---|---|---|---|---|\n",
       "| ENSG00000000003.15 | 4428 | 4296 | 3557 | 3805 | 4354 | 4829 | 4610 | 3595 | 4447 | 4390 | 5015 | 3702 | 2023 | 2381 | 1808 | 3779 |\n",
       "| ENSG00000000005.6 |   58 |   78 |   37 |  106 |   17 |   90 |   54 |   13 |   25 |   33 |   42 |   21 |    4 |    7 |   10 |    6 |\n",
       "| ENSG00000000419.13 |  986 |  911 |  909 |  828 |  835 | 1151 |  952 | 1031 |  824 |  948 | 1263 |  933 |  804 |  876 |  816 | 1515 |\n",
       "| ENSG00000000457.14 |  845 |  707 |  595 |  673 |  807 |  924 |  672 |  575 |  639 |  660 |  584 |  532 |  691 |  550 |  523 | 1035 |\n",
       "| ENSG00000000460.17 |  675 |  793 |  881 |  649 |  724 |  831 |  752 | 1124 |  871 | 1300 | 1477 | 1241 |  564 |  517 |  541 |  928 |\n",
       "| ENSG00000000938.13 |   43 |   32 |   10 |   30 |   45 |   60 |   45 |   67 |   15 |   25 |   23 |   16 |   73 |   84 |  100 |  151 |\n",
       "\n"
      ],
      "text/plain": [
       "                   6pcw-ovary-1 6pcw-ovary-2 6pcw-ovary-3 6pcw-ovary-4\n",
       "ENSG00000000003.15 4428         4296         3557         3805        \n",
       "ENSG00000000005.6    58           78           37          106        \n",
       "ENSG00000000419.13  986          911          909          828        \n",
       "ENSG00000000457.14  845          707          595          673        \n",
       "ENSG00000000460.17  675          793          881          649        \n",
       "ENSG00000000938.13   43           32           10           30        \n",
       "                   6pcw-testis-1 6pcw-testis-2 6pcw-testis-3 6pcw-testis-4\n",
       "ENSG00000000003.15 4354          4829          4610          3595         \n",
       "ENSG00000000005.6    17            90            54            13         \n",
       "ENSG00000000419.13  835          1151           952          1031         \n",
       "ENSG00000000457.14  807           924           672           575         \n",
       "ENSG00000000460.17  724           831           752          1124         \n",
       "ENSG00000000938.13   45            60            45            67         \n",
       "                   12pcw-ovary-1 12pcw-ovary-2 12pcw-ovary-3 12pcw-ovary-4\n",
       "ENSG00000000003.15 4447          4390          5015          3702         \n",
       "ENSG00000000005.6    25            33            42            21         \n",
       "ENSG00000000419.13  824           948          1263           933         \n",
       "ENSG00000000457.14  639           660           584           532         \n",
       "ENSG00000000460.17  871          1300          1477          1241         \n",
       "ENSG00000000938.13   15            25            23            16         \n",
       "                   12pcw-testis-1 12pcw-testis-2 12pcw-testis-3 12pcw-testis-4\n",
       "ENSG00000000003.15 2023           2381           1808           3779          \n",
       "ENSG00000000005.6     4              7             10              6          \n",
       "ENSG00000000419.13  804            876            816           1515          \n",
       "ENSG00000000457.14  691            550            523           1035          \n",
       "ENSG00000000460.17  564            517            541            928          \n",
       "ENSG00000000938.13   73             84            100            151          "
      ]
     },
     "metadata": {},
     "output_type": "display_data"
    }
   ],
   "source": [
    "head( counts(dds) )"
   ]
  },
  {
   "cell_type": "markdown",
   "metadata": {},
   "source": [
    "- sample informations"
   ]
  },
  {
   "cell_type": "code",
   "execution_count": 47,
   "metadata": {},
   "outputs": [
    {
     "data": {
      "text/plain": [
       "DataFrame with 3 rows and 32 columns\n",
       "                     Run         AGE  Assay.Type AvgSpotLen      Bases\n",
       "             <character> <character> <character>  <integer>  <numeric>\n",
       "6pcw-ovary-1  SRR7430706      6GW+2d     RNA-Seq        100 5233393500\n",
       "6pcw-ovary-2  SRR7430707      6GW+2d     RNA-Seq        100 4564533100\n",
       "6pcw-ovary-3  SRR7430708      6GW+6d     RNA-Seq        100 5490941400\n",
       "              BioProject    BioSample      Bytes Center.Name     Consent\n",
       "             <character>  <character>  <numeric> <character> <character>\n",
       "6pcw-ovary-1 PRJNA478051 SAMN09495494 3175420095         GEO      public\n",
       "6pcw-ovary-2 PRJNA478051 SAMN09495493 2739850864         GEO      public\n",
       "6pcw-ovary-3 PRJNA478051 SAMN09495487 3232029711         GEO      public\n",
       "             DATASTORE.filetype DATASTORE.provider       DATASTORE.region\n",
       "                    <character>        <character>            <character>\n",
       "6pcw-ovary-1          fastq,sra         s3,gs,ncbi s3.us-east-1,gs.US,n..\n",
       "6pcw-ovary-2          fastq,sra         gs,ncbi,s3 ncbi.public,s3.us-ea..\n",
       "6pcw-ovary-3          sra,fastq         gs,ncbi,s3 gs.US,ncbi.public,s3..\n",
       "              Experiment GEO_Accession..exp.          Instrument LibraryLayout\n",
       "             <character>         <character>         <character>   <character>\n",
       "6pcw-ovary-1  SRX4301506          GSM3223657 Illumina HiSeq 2500        PAIRED\n",
       "6pcw-ovary-2  SRX4301507          GSM3223658 Illumina HiSeq 2500        PAIRED\n",
       "6pcw-ovary-3  SRX4301508          GSM3223659 Illumina HiSeq 2500        PAIRED\n",
       "             LibrarySelection  LibrarySource     Organism    Platform\n",
       "                  <character>    <character>  <character> <character>\n",
       "6pcw-ovary-1             cDNA TRANSCRIPTOMIC Homo sapiens    ILLUMINA\n",
       "6pcw-ovary-2             cDNA TRANSCRIPTOMIC Homo sapiens    ILLUMINA\n",
       "6pcw-ovary-3             cDNA TRANSCRIPTOMIC Homo sapiens    ILLUMINA\n",
       "                      ReleaseDate Sample.Name        Sexe source_name\n",
       "                      <character> <character> <character> <character>\n",
       "6pcw-ovary-1 2020-02-20T00:00:00Z  GSM3223657      Female       Ovary\n",
       "6pcw-ovary-2 2020-02-20T00:00:00Z  GSM3223658      Female       Ovary\n",
       "6pcw-ovary-3 2020-02-20T00:00:00Z  GSM3223659      Female       Ovary\n",
       "               SRA.Study   Tissue    Stage        Names               Filename\n",
       "             <character> <factor> <factor>  <character>            <character>\n",
       "6pcw-ovary-1   SRP151462    Ovary     6PCW 6pcw-ovary-1 SRR7430706_paired-re..\n",
       "6pcw-ovary-2   SRP151462    Ovary     6PCW 6pcw-ovary-2 SRR7430707_paired-re..\n",
       "6pcw-ovary-3   SRP151462    Ovary     6PCW 6pcw-ovary-3 SRR7430708_paired-re..\n",
       "                           Filepath sizeFactor\n",
       "                        <character>  <numeric>\n",
       "6pcw-ovary-1 /shared/projects/gon..    1.13176\n",
       "6pcw-ovary-2 /shared/projects/gon..    1.00380\n",
       "6pcw-ovary-3 /shared/projects/gon..    1.00707"
      ]
     },
     "metadata": {},
     "output_type": "display_data"
    }
   ],
   "source": [
    "head( colData(dds), n = 3 )"
   ]
  },
  {
   "cell_type": "markdown",
   "metadata": {},
   "source": [
    "- gene or transcript informations"
   ]
  },
  {
   "cell_type": "code",
   "execution_count": 48,
   "metadata": {},
   "outputs": [
    {
     "data": {
      "text/plain": [
       "DataFrame with 6 rows and 0 columns"
      ]
     },
     "metadata": {},
     "output_type": "display_data"
    }
   ],
   "source": [
    "head( mcols(dds), n=6)"
   ]
  },
  {
   "cell_type": "markdown",
   "metadata": {},
   "source": [
    "Even this dataframe is empty as we don't gave any information yet, we can at least see its rownames."
   ]
  },
  {
   "cell_type": "code",
   "execution_count": 49,
   "metadata": {},
   "outputs": [
    {
     "name": "stdout",
     "output_type": "stream",
     "text": [
      "[1] \"ENSG00000000003.15\" \"ENSG00000000005.6\"  \"ENSG00000000419.13\"\n",
      "[4] \"ENSG00000000457.14\" \"ENSG00000000460.17\" \"ENSG00000000938.13\"\n"
     ]
    }
   ],
   "source": [
    "print( head(rownames(mcols(dds))) )"
   ]
  },
  {
   "cell_type": "markdown",
   "metadata": {},
   "source": [
    "## <b>III- Prepare R objects for dowstream analysis</b>"
   ]
  },
  {
   "cell_type": "markdown",
   "metadata": {},
   "source": [
    "### **1- Filtering dataset: no and very low expressed features**"
   ]
  },
  {
   "cell_type": "markdown",
   "metadata": {},
   "source": [
    "A rather basic filter for non-expressed genes (or features) is to remove those that have null counts considering all samples.  \n",
    "We will use a slightly different and more stringent treshold: we will remove features that have less read counts in all samples than the total number of samples in the experiment.  \n",
    "\n",
    "Moreover, we will consider for read counts the normalized ones by DESeq2 method.  \n",
    "This way, we avoid *sequencing depth and RNA composition* (terms from [HCB training page](https://hbctraining.github.io/DGE_workshop_salmon/lessons/02_DGE_count_normalization.html), **Common normalization methods** section) variabilities between samples and results driven by some samples."
   ]
  },
  {
   "cell_type": "code",
   "execution_count": 50,
   "metadata": {},
   "outputs": [
    {
     "data": {
      "text/plain": [
       "rowsum.in.norm\n",
       "FALSE  TRUE \n",
       "28695 32015 "
      ]
     },
     "metadata": {},
     "output_type": "display_data"
    }
   ],
   "source": [
    "# normalized = true if following Claire's way of doing, not the case in Sandrine's vignette\n",
    "rowsum.in.norm <- rowSums( counts(dds, normalized=TRUE)) >= dim(dds)[2]\n",
    "table(rowsum.in.norm)"
   ]
  },
  {
   "cell_type": "code",
   "execution_count": 52,
   "metadata": {},
   "outputs": [],
   "source": [
    "dds.filteredbyNnorm <- dds[rowsum.in.norm, ]"
   ]
  },
  {
   "cell_type": "code",
   "execution_count": 66,
   "metadata": {},
   "outputs": [
    {
     "data": {
      "text/plain": [
       "class: DESeqDataSet \n",
       "dim: 32015 16 \n",
       "metadata(1): version\n",
       "assays(1): counts\n",
       "rownames(32015): ENSG00000000003.15 ENSG00000000005.6 ...\n",
       "  ENSG00000288695.1 ENSG00000288698.1\n",
       "rowData names(3): ensemblid symbol entrezid\n",
       "colnames(16): 6pcw-ovary-1 6pcw-ovary-2 ... 12pcw-testis-3\n",
       "  12pcw-testis-4\n",
       "colData names(32): Run AGE ... Filepath sizeFactor"
      ]
     },
     "metadata": {},
     "output_type": "display_data"
    }
   ],
   "source": [
    "dds.filteredbyNnorm"
   ]
  },
  {
   "cell_type": "markdown",
   "metadata": {},
   "source": [
    "### **2- Add gene names annotation**\n",
    "<div class=\"alert alert-block alert-info\">\n",
    "    We will use <i>AnnotationDbi</i> and <i>org.Hs.eg.db</i> (human database!) packages to do so as Love <i>et al.</i>, 2019 performed it. <br>\n",
    "    See vignette's section <a href=\"http://www.bioconductor.org/packages/devel/workflows/vignettes/rnaseqGene/inst/doc/rnaseqGene.html#annotating-and-exporting-results\"><b>7 Annotation and exporting results</b></a>.\n",
    "</div>"
   ]
  },
  {
   "cell_type": "markdown",
   "metadata": {},
   "source": [
    "#### **2.a- Loading `AnnotationDbi` and `org.Hs.eg.db` libraries**"
   ]
  },
  {
   "cell_type": "code",
   "execution_count": 54,
   "metadata": {},
   "outputs": [
    {
     "name": "stderr",
     "output_type": "stream",
     "text": [
      "\n",
      "\n"
     ]
    }
   ],
   "source": [
    "library(\"AnnotationDbi\", quietly = TRUE)\n",
    "library(\"org.Hs.eg.db\", quietly = TRUE)   # Hs stands for Homo Sapiens: it's for Human genome!"
   ]
  },
  {
   "cell_type": "code",
   "execution_count": 55,
   "metadata": {},
   "outputs": [
    {
     "data": {
      "text/plain": [
       "R version 4.0.3 (2020-10-10)\n",
       "Platform: x86_64-conda-linux-gnu (64-bit)\n",
       "Running under: CentOS Linux 7 (Core)\n",
       "\n",
       "Matrix products: default\n",
       "BLAS/LAPACK: /shared/ifbstor1/software/miniconda/envs/r-4.0.3/lib/libopenblasp-r0.3.10.so\n",
       "\n",
       "locale:\n",
       " [1] LC_CTYPE=en_US.UTF-8       LC_NUMERIC=C              \n",
       " [3] LC_TIME=en_US.UTF-8        LC_COLLATE=en_US.UTF-8    \n",
       " [5] LC_MONETARY=en_US.UTF-8    LC_MESSAGES=en_US.UTF-8   \n",
       " [7] LC_PAPER=en_US.UTF-8       LC_NAME=C                 \n",
       " [9] LC_ADDRESS=C               LC_TELEPHONE=C            \n",
       "[11] LC_MEASUREMENT=en_US.UTF-8 LC_IDENTIFICATION=C       \n",
       "\n",
       "attached base packages:\n",
       "[1] parallel  stats4    stats     graphics  grDevices utils     datasets \n",
       "[8] methods   base     \n",
       "\n",
       "other attached packages:\n",
       " [1] org.Hs.eg.db_3.12.0         AnnotationDbi_1.52.0       \n",
       " [3] DESeq2_1.30.1               SummarizedExperiment_1.20.0\n",
       " [5] Biobase_2.50.0              MatrixGenerics_1.2.1       \n",
       " [7] matrixStats_0.59.0          GenomicRanges_1.42.0       \n",
       " [9] GenomeInfoDb_1.26.7         IRanges_2.24.1             \n",
       "[11] S4Vectors_0.28.1            BiocGenerics_0.36.1        \n",
       "\n",
       "loaded via a namespace (and not attached):\n",
       " [1] locfit_1.5-9.4         Rcpp_1.0.6             lattice_0.20-41       \n",
       " [4] assertthat_0.2.1       digest_0.6.27          utf8_1.2.1            \n",
       " [7] IRdisplay_1.0          R6_2.5.0               repr_1.1.3            \n",
       "[10] RSQLite_2.2.7          evaluate_0.14          httr_1.4.2            \n",
       "[13] ggplot2_3.3.5          pillar_1.6.2           zlibbioc_1.36.0       \n",
       "[16] rlang_0.4.11           uuid_0.1-4             annotate_1.68.0       \n",
       "[19] blob_1.2.1             Matrix_1.3-4           splines_4.0.3         \n",
       "[22] BiocParallel_1.24.1    geneplotter_1.68.0     RCurl_1.98-1.3        \n",
       "[25] bit_4.0.4              munsell_0.5.0          DelayedArray_0.16.3   \n",
       "[28] compiler_4.0.3         pkgconfig_2.0.3        base64enc_0.1-3       \n",
       "[31] htmltools_0.5.1.1      tidyselect_1.1.1       tibble_3.1.2          \n",
       "[34] GenomeInfoDbData_1.2.4 XML_3.99-0.6           fansi_0.5.0           \n",
       "[37] crayon_1.4.1           dplyr_1.0.6            bitops_1.0-7          \n",
       "[40] grid_4.0.3             jsonlite_1.7.2         xtable_1.8-4          \n",
       "[43] gtable_0.3.0           lifecycle_1.0.0        DBI_1.1.1             \n",
       "[46] magrittr_2.0.1         scales_1.1.1           cachem_1.0.5          \n",
       "[49] XVector_0.30.0         genefilter_1.72.1      ellipsis_0.3.2        \n",
       "[52] vctrs_0.3.8            generics_0.1.0         IRkernel_1.1.1        \n",
       "[55] RColorBrewer_1.1-2     tools_4.0.3            bit64_4.0.5           \n",
       "[58] glue_1.4.2             purrr_0.3.4            fastmap_1.1.0         \n",
       "[61] survival_3.2-10        colorspace_2.0-1       memoise_2.0.0         \n",
       "[64] pbdZMQ_0.3-5          "
      ]
     },
     "metadata": {},
     "output_type": "display_data"
    }
   ],
   "source": [
    "sessionInfo()"
   ]
  },
  {
   "cell_type": "markdown",
   "metadata": {},
   "source": [
    "The database object have the following column names, each one may be used to add a new reference to `mcols(dds)` dataframe using one column as a key."
   ]
  },
  {
   "cell_type": "code",
   "execution_count": 56,
   "metadata": {},
   "outputs": [
    {
     "name": "stdout",
     "output_type": "stream",
     "text": [
      " [1] \"ACCNUM\"       \"ALIAS\"        \"ENSEMBL\"      \"ENSEMBLPROT\"  \"ENSEMBLTRANS\"\n",
      " [6] \"ENTREZID\"     \"ENZYME\"       \"EVIDENCE\"     \"EVIDENCEALL\"  \"GENENAME\"    \n",
      "[11] \"GO\"           \"GOALL\"        \"IPI\"          \"MAP\"          \"OMIM\"        \n",
      "[16] \"ONTOLOGY\"     \"ONTOLOGYALL\"  \"PATH\"         \"PFAM\"         \"PMID\"        \n",
      "[21] \"PROSITE\"      \"REFSEQ\"       \"SYMBOL\"       \"UCSCKG\"       \"UNIGENE\"     \n",
      "[26] \"UNIPROT\"     \n"
     ]
    }
   ],
   "source": [
    "print( columns(org.Hs.eg.db) )"
   ]
  },
  {
   "cell_type": "markdown",
   "metadata": {},
   "source": [
    "#### **2.b- Adding gene symbols and NCBI EntrezID**"
   ]
  },
  {
   "cell_type": "markdown",
   "metadata": {},
   "source": [
    "The IDs used in this object don't have version number, thus we create a new column (first one) in `mcols(dds)` to store the `ensemblid` references:"
   ]
  },
  {
   "cell_type": "code",
   "execution_count": 58,
   "metadata": {},
   "outputs": [],
   "source": [
    "mcols(dds.filteredbyNnorm)$ensemblid <- gsub(\"\\\\..*\",\"\", rownames(mcols(dds.filteredbyNnorm)))"
   ]
  },
  {
   "cell_type": "markdown",
   "metadata": {},
   "source": [
    "We now can ask for:\n",
    "- gene symbols"
   ]
  },
  {
   "cell_type": "code",
   "execution_count": 59,
   "metadata": {},
   "outputs": [
    {
     "name": "stderr",
     "output_type": "stream",
     "text": [
      "'select()' returned 1:many mapping between keys and columns\n",
      "\n"
     ]
    }
   ],
   "source": [
    "mcols(dds.filteredbyNnorm)$symbol <- mapIds(org.Hs.eg.db,\n",
    "                                            keys = mcols(dds.filteredbyNnorm)$ensemblid,\n",
    "                                            column = \"SYMBOL\",\n",
    "                                            keytype = \"ENSEMBL\",\n",
    "                                            multiVals = \"first\")"
   ]
  },
  {
   "cell_type": "markdown",
   "metadata": {},
   "source": [
    "> Despite `multiVals = \"first\"` parameter, `mapIds( )` function warns us that there are for one key (here ENSEMBL ID) several matches (SYMBOLS).  \n",
    "Indeed, it calls for `select( )` function that gives all available pairs. *See `select( )` use below in section 2.c*."
   ]
  },
  {
   "cell_type": "code",
   "execution_count": 60,
   "metadata": {},
   "outputs": [
    {
     "data": {
      "text/plain": [
       "\n",
       "FALSE  TRUE \n",
       "22695  9320 "
      ]
     },
     "metadata": {},
     "output_type": "display_data"
    }
   ],
   "source": [
    "table(is.na(mcols(dds.filteredbyNnorm)$symbol))"
   ]
  },
  {
   "cell_type": "markdown",
   "metadata": {},
   "source": [
    "- NCBI EntrezID number"
   ]
  },
  {
   "cell_type": "code",
   "execution_count": 61,
   "metadata": {},
   "outputs": [
    {
     "name": "stderr",
     "output_type": "stream",
     "text": [
      "'select()' returned 1:many mapping between keys and columns\n",
      "\n"
     ]
    }
   ],
   "source": [
    "mcols(dds.filteredbyNnorm)$entrezid <- mapIds(org.Hs.eg.db,\n",
    "                                              keys = mcols(dds.filteredbyNnorm)$ensemblid,\n",
    "                                              column = \"ENTREZID\",\n",
    "                                              keytype = \"ENSEMBL\",\n",
    "                                              multiVals = \"first\")"
   ]
  },
  {
   "cell_type": "code",
   "execution_count": 62,
   "metadata": {},
   "outputs": [
    {
     "data": {
      "text/plain": [
       "\n",
       "FALSE  TRUE \n",
       "22695  9320 "
      ]
     },
     "metadata": {},
     "output_type": "display_data"
    }
   ],
   "source": [
    "table(is.na(mcols(dds.filteredbyNnorm)$entrezid))"
   ]
  },
  {
   "cell_type": "markdown",
   "metadata": {},
   "source": [
    "**Remark**: Some ENSEMBL genes do not have any symbols nor *EntrezID*.  <br>\n",
    "I get an eye on one of them, it seems to be putative genes (new ones or with few evidence yet)."
   ]
  },
  {
   "cell_type": "markdown",
   "metadata": {},
   "source": [
    "#### **2.c- Playing with database object and `select( )` function to see values**"
   ]
  },
  {
   "cell_type": "markdown",
   "metadata": {},
   "source": [
    "Other informations available in this database object are available only through `select( )` function:"
   ]
  },
  {
   "cell_type": "code",
   "execution_count": 64,
   "metadata": {},
   "outputs": [
    {
     "name": "stderr",
     "output_type": "stream",
     "text": [
      "'select()' returned 1:many mapping between keys and columns\n",
      "\n"
     ]
    },
    {
     "data": {
      "text/html": [
       "<table class=\"dataframe\">\n",
       "<caption>A data.frame: 2211143 × 4</caption>\n",
       "<thead>\n",
       "\t<tr><th scope=col>ENSEMBL</th><th scope=col>ALIAS</th><th scope=col>ENSEMBLTRANS</th><th scope=col>REFSEQ</th></tr>\n",
       "\t<tr><th scope=col>&lt;chr&gt;</th><th scope=col>&lt;chr&gt;</th><th scope=col>&lt;chr&gt;</th><th scope=col>&lt;chr&gt;</th></tr>\n",
       "</thead>\n",
       "<tbody>\n",
       "\t<tr><td>ENSG00000000003</td><td>T245   </td><td>NA</td><td>NM_001278740</td></tr>\n",
       "\t<tr><td>ENSG00000000003</td><td>T245   </td><td>NA</td><td>NM_001278741</td></tr>\n",
       "\t<tr><td>ENSG00000000003</td><td>T245   </td><td>NA</td><td>NM_001278742</td></tr>\n",
       "\t<tr><td>ENSG00000000003</td><td>T245   </td><td>NA</td><td>NM_001278743</td></tr>\n",
       "\t<tr><td>ENSG00000000003</td><td>T245   </td><td>NA</td><td>NM_003270   </td></tr>\n",
       "\t<tr><td>ENSG00000000003</td><td>T245   </td><td>NA</td><td>NP_001265669</td></tr>\n",
       "\t<tr><td>ENSG00000000003</td><td>T245   </td><td>NA</td><td>NP_001265670</td></tr>\n",
       "\t<tr><td>ENSG00000000003</td><td>T245   </td><td>NA</td><td>NP_001265671</td></tr>\n",
       "\t<tr><td>ENSG00000000003</td><td>T245   </td><td>NA</td><td>NP_001265672</td></tr>\n",
       "\t<tr><td>ENSG00000000003</td><td>T245   </td><td>NA</td><td>NP_003261   </td></tr>\n",
       "\t<tr><td>ENSG00000000003</td><td>T245   </td><td>NA</td><td>XM_011531018</td></tr>\n",
       "\t<tr><td>ENSG00000000003</td><td>T245   </td><td>NA</td><td>XP_011529320</td></tr>\n",
       "\t<tr><td>ENSG00000000003</td><td>TM4SF6 </td><td>NA</td><td>NM_001278740</td></tr>\n",
       "\t<tr><td>ENSG00000000003</td><td>TM4SF6 </td><td>NA</td><td>NM_001278741</td></tr>\n",
       "\t<tr><td>ENSG00000000003</td><td>TM4SF6 </td><td>NA</td><td>NM_001278742</td></tr>\n",
       "\t<tr><td>ENSG00000000003</td><td>TM4SF6 </td><td>NA</td><td>NM_001278743</td></tr>\n",
       "\t<tr><td>ENSG00000000003</td><td>TM4SF6 </td><td>NA</td><td>NM_003270   </td></tr>\n",
       "\t<tr><td>ENSG00000000003</td><td>TM4SF6 </td><td>NA</td><td>NP_001265669</td></tr>\n",
       "\t<tr><td>ENSG00000000003</td><td>TM4SF6 </td><td>NA</td><td>NP_001265670</td></tr>\n",
       "\t<tr><td>ENSG00000000003</td><td>TM4SF6 </td><td>NA</td><td>NP_001265671</td></tr>\n",
       "\t<tr><td>ENSG00000000003</td><td>TM4SF6 </td><td>NA</td><td>NP_001265672</td></tr>\n",
       "\t<tr><td>ENSG00000000003</td><td>TM4SF6 </td><td>NA</td><td>NP_003261   </td></tr>\n",
       "\t<tr><td>ENSG00000000003</td><td>TM4SF6 </td><td>NA</td><td>XM_011531018</td></tr>\n",
       "\t<tr><td>ENSG00000000003</td><td>TM4SF6 </td><td>NA</td><td>XP_011529320</td></tr>\n",
       "\t<tr><td>ENSG00000000003</td><td>TSPAN-6</td><td>NA</td><td>NM_001278740</td></tr>\n",
       "\t<tr><td>ENSG00000000003</td><td>TSPAN-6</td><td>NA</td><td>NM_001278741</td></tr>\n",
       "\t<tr><td>ENSG00000000003</td><td>TSPAN-6</td><td>NA</td><td>NM_001278742</td></tr>\n",
       "\t<tr><td>ENSG00000000003</td><td>TSPAN-6</td><td>NA</td><td>NM_001278743</td></tr>\n",
       "\t<tr><td>ENSG00000000003</td><td>TSPAN-6</td><td>NA</td><td>NM_003270   </td></tr>\n",
       "\t<tr><td>ENSG00000000003</td><td>TSPAN-6</td><td>NA</td><td>NP_001265669</td></tr>\n",
       "\t<tr><td>⋮</td><td>⋮</td><td>⋮</td><td>⋮</td></tr>\n",
       "\t<tr><td>ENSG00000288638</td><td>YYLNCT</td><td>NA             </td><td>NR_166067</td></tr>\n",
       "\t<tr><td>ENSG00000288638</td><td>YYLNCT</td><td>NA             </td><td>NR_166068</td></tr>\n",
       "\t<tr><td>ENSG00000288638</td><td>LNCDAT</td><td>NA             </td><td>NR_166065</td></tr>\n",
       "\t<tr><td>ENSG00000288638</td><td>LNCDAT</td><td>NA             </td><td>NR_166066</td></tr>\n",
       "\t<tr><td>ENSG00000288638</td><td>LNCDAT</td><td>NA             </td><td>NR_166067</td></tr>\n",
       "\t<tr><td>ENSG00000288638</td><td>LNCDAT</td><td>NA             </td><td>NR_166068</td></tr>\n",
       "\t<tr><td>ENSG00000288642</td><td>CDR   </td><td>ENST00000674533</td><td>NM_004065</td></tr>\n",
       "\t<tr><td>ENSG00000288642</td><td>CDR   </td><td>ENST00000674533</td><td>NP_004056</td></tr>\n",
       "\t<tr><td>ENSG00000288642</td><td>CDR34 </td><td>ENST00000674533</td><td>NM_004065</td></tr>\n",
       "\t<tr><td>ENSG00000288642</td><td>CDR34 </td><td>ENST00000674533</td><td>NP_004056</td></tr>\n",
       "\t<tr><td>ENSG00000288642</td><td>CDR62A</td><td>ENST00000674533</td><td>NM_004065</td></tr>\n",
       "\t<tr><td>ENSG00000288642</td><td>CDR62A</td><td>ENST00000674533</td><td>NP_004056</td></tr>\n",
       "\t<tr><td>ENSG00000288642</td><td>CDR1  </td><td>ENST00000674533</td><td>NM_004065</td></tr>\n",
       "\t<tr><td>ENSG00000288642</td><td>CDR1  </td><td>ENST00000674533</td><td>NP_004056</td></tr>\n",
       "\t<tr><td>ENSG00000288656</td><td>NA    </td><td>NA             </td><td>NA       </td></tr>\n",
       "\t<tr><td>ENSG00000288657</td><td>NA    </td><td>NA             </td><td>NA       </td></tr>\n",
       "\t<tr><td>ENSG00000288658</td><td>NA    </td><td>NA             </td><td>NA       </td></tr>\n",
       "\t<tr><td>ENSG00000288662</td><td>NA    </td><td>NA             </td><td>NA       </td></tr>\n",
       "\t<tr><td>ENSG00000288663</td><td>NA    </td><td>NA             </td><td>NA       </td></tr>\n",
       "\t<tr><td>ENSG00000288667</td><td>NA    </td><td>NA             </td><td>NA       </td></tr>\n",
       "\t<tr><td>ENSG00000288670</td><td>NA    </td><td>NA             </td><td>NA       </td></tr>\n",
       "\t<tr><td>ENSG00000288674</td><td>NA    </td><td>NA             </td><td>NA       </td></tr>\n",
       "\t<tr><td>ENSG00000288675</td><td>NA    </td><td>NA             </td><td>NA       </td></tr>\n",
       "\t<tr><td>ENSG00000288680</td><td>NA    </td><td>NA             </td><td>NA       </td></tr>\n",
       "\t<tr><td>ENSG00000288684</td><td>NA    </td><td>NA             </td><td>NA       </td></tr>\n",
       "\t<tr><td>ENSG00000288686</td><td>NA    </td><td>NA             </td><td>NA       </td></tr>\n",
       "\t<tr><td>ENSG00000288690</td><td>NA    </td><td>NA             </td><td>NA       </td></tr>\n",
       "\t<tr><td>ENSG00000288694</td><td>NA    </td><td>NA             </td><td>NA       </td></tr>\n",
       "\t<tr><td>ENSG00000288695</td><td>NA    </td><td>NA             </td><td>NA       </td></tr>\n",
       "\t<tr><td>ENSG00000288698</td><td>NA    </td><td>NA             </td><td>NA       </td></tr>\n",
       "</tbody>\n",
       "</table>\n"
      ],
      "text/latex": [
       "A data.frame: 2211143 × 4\n",
       "\\begin{tabular}{llll}\n",
       " ENSEMBL & ALIAS & ENSEMBLTRANS & REFSEQ\\\\\n",
       " <chr> & <chr> & <chr> & <chr>\\\\\n",
       "\\hline\n",
       "\t ENSG00000000003 & T245    & NA & NM\\_001278740\\\\\n",
       "\t ENSG00000000003 & T245    & NA & NM\\_001278741\\\\\n",
       "\t ENSG00000000003 & T245    & NA & NM\\_001278742\\\\\n",
       "\t ENSG00000000003 & T245    & NA & NM\\_001278743\\\\\n",
       "\t ENSG00000000003 & T245    & NA & NM\\_003270   \\\\\n",
       "\t ENSG00000000003 & T245    & NA & NP\\_001265669\\\\\n",
       "\t ENSG00000000003 & T245    & NA & NP\\_001265670\\\\\n",
       "\t ENSG00000000003 & T245    & NA & NP\\_001265671\\\\\n",
       "\t ENSG00000000003 & T245    & NA & NP\\_001265672\\\\\n",
       "\t ENSG00000000003 & T245    & NA & NP\\_003261   \\\\\n",
       "\t ENSG00000000003 & T245    & NA & XM\\_011531018\\\\\n",
       "\t ENSG00000000003 & T245    & NA & XP\\_011529320\\\\\n",
       "\t ENSG00000000003 & TM4SF6  & NA & NM\\_001278740\\\\\n",
       "\t ENSG00000000003 & TM4SF6  & NA & NM\\_001278741\\\\\n",
       "\t ENSG00000000003 & TM4SF6  & NA & NM\\_001278742\\\\\n",
       "\t ENSG00000000003 & TM4SF6  & NA & NM\\_001278743\\\\\n",
       "\t ENSG00000000003 & TM4SF6  & NA & NM\\_003270   \\\\\n",
       "\t ENSG00000000003 & TM4SF6  & NA & NP\\_001265669\\\\\n",
       "\t ENSG00000000003 & TM4SF6  & NA & NP\\_001265670\\\\\n",
       "\t ENSG00000000003 & TM4SF6  & NA & NP\\_001265671\\\\\n",
       "\t ENSG00000000003 & TM4SF6  & NA & NP\\_001265672\\\\\n",
       "\t ENSG00000000003 & TM4SF6  & NA & NP\\_003261   \\\\\n",
       "\t ENSG00000000003 & TM4SF6  & NA & XM\\_011531018\\\\\n",
       "\t ENSG00000000003 & TM4SF6  & NA & XP\\_011529320\\\\\n",
       "\t ENSG00000000003 & TSPAN-6 & NA & NM\\_001278740\\\\\n",
       "\t ENSG00000000003 & TSPAN-6 & NA & NM\\_001278741\\\\\n",
       "\t ENSG00000000003 & TSPAN-6 & NA & NM\\_001278742\\\\\n",
       "\t ENSG00000000003 & TSPAN-6 & NA & NM\\_001278743\\\\\n",
       "\t ENSG00000000003 & TSPAN-6 & NA & NM\\_003270   \\\\\n",
       "\t ENSG00000000003 & TSPAN-6 & NA & NP\\_001265669\\\\\n",
       "\t ⋮ & ⋮ & ⋮ & ⋮\\\\\n",
       "\t ENSG00000288638 & YYLNCT & NA              & NR\\_166067\\\\\n",
       "\t ENSG00000288638 & YYLNCT & NA              & NR\\_166068\\\\\n",
       "\t ENSG00000288638 & LNCDAT & NA              & NR\\_166065\\\\\n",
       "\t ENSG00000288638 & LNCDAT & NA              & NR\\_166066\\\\\n",
       "\t ENSG00000288638 & LNCDAT & NA              & NR\\_166067\\\\\n",
       "\t ENSG00000288638 & LNCDAT & NA              & NR\\_166068\\\\\n",
       "\t ENSG00000288642 & CDR    & ENST00000674533 & NM\\_004065\\\\\n",
       "\t ENSG00000288642 & CDR    & ENST00000674533 & NP\\_004056\\\\\n",
       "\t ENSG00000288642 & CDR34  & ENST00000674533 & NM\\_004065\\\\\n",
       "\t ENSG00000288642 & CDR34  & ENST00000674533 & NP\\_004056\\\\\n",
       "\t ENSG00000288642 & CDR62A & ENST00000674533 & NM\\_004065\\\\\n",
       "\t ENSG00000288642 & CDR62A & ENST00000674533 & NP\\_004056\\\\\n",
       "\t ENSG00000288642 & CDR1   & ENST00000674533 & NM\\_004065\\\\\n",
       "\t ENSG00000288642 & CDR1   & ENST00000674533 & NP\\_004056\\\\\n",
       "\t ENSG00000288656 & NA     & NA              & NA       \\\\\n",
       "\t ENSG00000288657 & NA     & NA              & NA       \\\\\n",
       "\t ENSG00000288658 & NA     & NA              & NA       \\\\\n",
       "\t ENSG00000288662 & NA     & NA              & NA       \\\\\n",
       "\t ENSG00000288663 & NA     & NA              & NA       \\\\\n",
       "\t ENSG00000288667 & NA     & NA              & NA       \\\\\n",
       "\t ENSG00000288670 & NA     & NA              & NA       \\\\\n",
       "\t ENSG00000288674 & NA     & NA              & NA       \\\\\n",
       "\t ENSG00000288675 & NA     & NA              & NA       \\\\\n",
       "\t ENSG00000288680 & NA     & NA              & NA       \\\\\n",
       "\t ENSG00000288684 & NA     & NA              & NA       \\\\\n",
       "\t ENSG00000288686 & NA     & NA              & NA       \\\\\n",
       "\t ENSG00000288690 & NA     & NA              & NA       \\\\\n",
       "\t ENSG00000288694 & NA     & NA              & NA       \\\\\n",
       "\t ENSG00000288695 & NA     & NA              & NA       \\\\\n",
       "\t ENSG00000288698 & NA     & NA              & NA       \\\\\n",
       "\\end{tabular}\n"
      ],
      "text/markdown": [
       "\n",
       "A data.frame: 2211143 × 4\n",
       "\n",
       "| ENSEMBL &lt;chr&gt; | ALIAS &lt;chr&gt; | ENSEMBLTRANS &lt;chr&gt; | REFSEQ &lt;chr&gt; |\n",
       "|---|---|---|---|\n",
       "| ENSG00000000003 | T245    | NA | NM_001278740 |\n",
       "| ENSG00000000003 | T245    | NA | NM_001278741 |\n",
       "| ENSG00000000003 | T245    | NA | NM_001278742 |\n",
       "| ENSG00000000003 | T245    | NA | NM_001278743 |\n",
       "| ENSG00000000003 | T245    | NA | NM_003270    |\n",
       "| ENSG00000000003 | T245    | NA | NP_001265669 |\n",
       "| ENSG00000000003 | T245    | NA | NP_001265670 |\n",
       "| ENSG00000000003 | T245    | NA | NP_001265671 |\n",
       "| ENSG00000000003 | T245    | NA | NP_001265672 |\n",
       "| ENSG00000000003 | T245    | NA | NP_003261    |\n",
       "| ENSG00000000003 | T245    | NA | XM_011531018 |\n",
       "| ENSG00000000003 | T245    | NA | XP_011529320 |\n",
       "| ENSG00000000003 | TM4SF6  | NA | NM_001278740 |\n",
       "| ENSG00000000003 | TM4SF6  | NA | NM_001278741 |\n",
       "| ENSG00000000003 | TM4SF6  | NA | NM_001278742 |\n",
       "| ENSG00000000003 | TM4SF6  | NA | NM_001278743 |\n",
       "| ENSG00000000003 | TM4SF6  | NA | NM_003270    |\n",
       "| ENSG00000000003 | TM4SF6  | NA | NP_001265669 |\n",
       "| ENSG00000000003 | TM4SF6  | NA | NP_001265670 |\n",
       "| ENSG00000000003 | TM4SF6  | NA | NP_001265671 |\n",
       "| ENSG00000000003 | TM4SF6  | NA | NP_001265672 |\n",
       "| ENSG00000000003 | TM4SF6  | NA | NP_003261    |\n",
       "| ENSG00000000003 | TM4SF6  | NA | XM_011531018 |\n",
       "| ENSG00000000003 | TM4SF6  | NA | XP_011529320 |\n",
       "| ENSG00000000003 | TSPAN-6 | NA | NM_001278740 |\n",
       "| ENSG00000000003 | TSPAN-6 | NA | NM_001278741 |\n",
       "| ENSG00000000003 | TSPAN-6 | NA | NM_001278742 |\n",
       "| ENSG00000000003 | TSPAN-6 | NA | NM_001278743 |\n",
       "| ENSG00000000003 | TSPAN-6 | NA | NM_003270    |\n",
       "| ENSG00000000003 | TSPAN-6 | NA | NP_001265669 |\n",
       "| ⋮ | ⋮ | ⋮ | ⋮ |\n",
       "| ENSG00000288638 | YYLNCT | NA              | NR_166067 |\n",
       "| ENSG00000288638 | YYLNCT | NA              | NR_166068 |\n",
       "| ENSG00000288638 | LNCDAT | NA              | NR_166065 |\n",
       "| ENSG00000288638 | LNCDAT | NA              | NR_166066 |\n",
       "| ENSG00000288638 | LNCDAT | NA              | NR_166067 |\n",
       "| ENSG00000288638 | LNCDAT | NA              | NR_166068 |\n",
       "| ENSG00000288642 | CDR    | ENST00000674533 | NM_004065 |\n",
       "| ENSG00000288642 | CDR    | ENST00000674533 | NP_004056 |\n",
       "| ENSG00000288642 | CDR34  | ENST00000674533 | NM_004065 |\n",
       "| ENSG00000288642 | CDR34  | ENST00000674533 | NP_004056 |\n",
       "| ENSG00000288642 | CDR62A | ENST00000674533 | NM_004065 |\n",
       "| ENSG00000288642 | CDR62A | ENST00000674533 | NP_004056 |\n",
       "| ENSG00000288642 | CDR1   | ENST00000674533 | NM_004065 |\n",
       "| ENSG00000288642 | CDR1   | ENST00000674533 | NP_004056 |\n",
       "| ENSG00000288656 | NA     | NA              | NA        |\n",
       "| ENSG00000288657 | NA     | NA              | NA        |\n",
       "| ENSG00000288658 | NA     | NA              | NA        |\n",
       "| ENSG00000288662 | NA     | NA              | NA        |\n",
       "| ENSG00000288663 | NA     | NA              | NA        |\n",
       "| ENSG00000288667 | NA     | NA              | NA        |\n",
       "| ENSG00000288670 | NA     | NA              | NA        |\n",
       "| ENSG00000288674 | NA     | NA              | NA        |\n",
       "| ENSG00000288675 | NA     | NA              | NA        |\n",
       "| ENSG00000288680 | NA     | NA              | NA        |\n",
       "| ENSG00000288684 | NA     | NA              | NA        |\n",
       "| ENSG00000288686 | NA     | NA              | NA        |\n",
       "| ENSG00000288690 | NA     | NA              | NA        |\n",
       "| ENSG00000288694 | NA     | NA              | NA        |\n",
       "| ENSG00000288695 | NA     | NA              | NA        |\n",
       "| ENSG00000288698 | NA     | NA              | NA        |\n",
       "\n"
      ],
      "text/plain": [
       "        ENSEMBL         ALIAS   ENSEMBLTRANS    REFSEQ      \n",
       "1       ENSG00000000003 T245    NA              NM_001278740\n",
       "2       ENSG00000000003 T245    NA              NM_001278741\n",
       "3       ENSG00000000003 T245    NA              NM_001278742\n",
       "4       ENSG00000000003 T245    NA              NM_001278743\n",
       "5       ENSG00000000003 T245    NA              NM_003270   \n",
       "6       ENSG00000000003 T245    NA              NP_001265669\n",
       "7       ENSG00000000003 T245    NA              NP_001265670\n",
       "8       ENSG00000000003 T245    NA              NP_001265671\n",
       "9       ENSG00000000003 T245    NA              NP_001265672\n",
       "10      ENSG00000000003 T245    NA              NP_003261   \n",
       "11      ENSG00000000003 T245    NA              XM_011531018\n",
       "12      ENSG00000000003 T245    NA              XP_011529320\n",
       "13      ENSG00000000003 TM4SF6  NA              NM_001278740\n",
       "14      ENSG00000000003 TM4SF6  NA              NM_001278741\n",
       "15      ENSG00000000003 TM4SF6  NA              NM_001278742\n",
       "16      ENSG00000000003 TM4SF6  NA              NM_001278743\n",
       "17      ENSG00000000003 TM4SF6  NA              NM_003270   \n",
       "18      ENSG00000000003 TM4SF6  NA              NP_001265669\n",
       "19      ENSG00000000003 TM4SF6  NA              NP_001265670\n",
       "20      ENSG00000000003 TM4SF6  NA              NP_001265671\n",
       "21      ENSG00000000003 TM4SF6  NA              NP_001265672\n",
       "22      ENSG00000000003 TM4SF6  NA              NP_003261   \n",
       "23      ENSG00000000003 TM4SF6  NA              XM_011531018\n",
       "24      ENSG00000000003 TM4SF6  NA              XP_011529320\n",
       "25      ENSG00000000003 TSPAN-6 NA              NM_001278740\n",
       "26      ENSG00000000003 TSPAN-6 NA              NM_001278741\n",
       "27      ENSG00000000003 TSPAN-6 NA              NM_001278742\n",
       "28      ENSG00000000003 TSPAN-6 NA              NM_001278743\n",
       "29      ENSG00000000003 TSPAN-6 NA              NM_003270   \n",
       "30      ENSG00000000003 TSPAN-6 NA              NP_001265669\n",
       "⋮       ⋮               ⋮       ⋮               ⋮           \n",
       "2211114 ENSG00000288638 YYLNCT  NA              NR_166067   \n",
       "2211115 ENSG00000288638 YYLNCT  NA              NR_166068   \n",
       "2211116 ENSG00000288638 LNCDAT  NA              NR_166065   \n",
       "2211117 ENSG00000288638 LNCDAT  NA              NR_166066   \n",
       "2211118 ENSG00000288638 LNCDAT  NA              NR_166067   \n",
       "2211119 ENSG00000288638 LNCDAT  NA              NR_166068   \n",
       "2211120 ENSG00000288642 CDR     ENST00000674533 NM_004065   \n",
       "2211121 ENSG00000288642 CDR     ENST00000674533 NP_004056   \n",
       "2211122 ENSG00000288642 CDR34   ENST00000674533 NM_004065   \n",
       "2211123 ENSG00000288642 CDR34   ENST00000674533 NP_004056   \n",
       "2211124 ENSG00000288642 CDR62A  ENST00000674533 NM_004065   \n",
       "2211125 ENSG00000288642 CDR62A  ENST00000674533 NP_004056   \n",
       "2211126 ENSG00000288642 CDR1    ENST00000674533 NM_004065   \n",
       "2211127 ENSG00000288642 CDR1    ENST00000674533 NP_004056   \n",
       "2211128 ENSG00000288656 NA      NA              NA          \n",
       "2211129 ENSG00000288657 NA      NA              NA          \n",
       "2211130 ENSG00000288658 NA      NA              NA          \n",
       "2211131 ENSG00000288662 NA      NA              NA          \n",
       "2211132 ENSG00000288663 NA      NA              NA          \n",
       "2211133 ENSG00000288667 NA      NA              NA          \n",
       "2211134 ENSG00000288670 NA      NA              NA          \n",
       "2211135 ENSG00000288674 NA      NA              NA          \n",
       "2211136 ENSG00000288675 NA      NA              NA          \n",
       "2211137 ENSG00000288680 NA      NA              NA          \n",
       "2211138 ENSG00000288684 NA      NA              NA          \n",
       "2211139 ENSG00000288686 NA      NA              NA          \n",
       "2211140 ENSG00000288690 NA      NA              NA          \n",
       "2211141 ENSG00000288694 NA      NA              NA          \n",
       "2211142 ENSG00000288695 NA      NA              NA          \n",
       "2211143 ENSG00000288698 NA      NA              NA          "
      ]
     },
     "metadata": {},
     "output_type": "display_data"
    }
   ],
   "source": [
    "select(x = org.Hs.eg.db,\n",
    "       keys = mcols(dds.filteredbyNnorm)$ensemblid,\n",
    "       keytype = \"ENSEMBL\",\n",
    "       columns = c(\"ALIAS\", \"ENSEMBLTRANS\", \"REFSEQ\"))"
   ]
  },
  {
   "cell_type": "markdown",
   "metadata": {},
   "source": [
    "<div class=\"alert alert-block alert-warning\">\n",
    "    Béné TODO 08/10/2021: add transcript annotation if available in exprAnalysis. -> maybe available for with <code>mapIds( )</code>\n",
    "</div>"
   ]
  },
  {
   "cell_type": "markdown",
   "metadata": {},
   "source": [
    "### **3- Saving objects for later use: RData file**"
   ]
  },
  {
   "cell_type": "code",
   "execution_count": 69,
   "metadata": {},
   "outputs": [
    {
     "name": "stdout",
     "output_type": "stream",
     "text": [
      " [1] \"batch\"               \"counts\"              \"dds\"                \n",
      " [4] \"dds.filteredbyNnorm\" \"destinationfolder\"   \"essentials\"         \n",
      " [7] \"loadCountData\"       \"loadTargetFile\"      \"rowsum.in.norm\"     \n",
      "[10] \"target\"              \"targetFile\"          \"varInt\"             \n"
     ]
    }
   ],
   "source": [
    "print( ls() )"
   ]
  },
  {
   "cell_type": "markdown",
   "metadata": {},
   "source": [
    "Let's remind the folder where we want to save R outputs files:"
   ]
  },
  {
   "cell_type": "code",
   "execution_count": 67,
   "metadata": {},
   "outputs": [],
   "source": [
    "destinationfolder <- \"/shared/projects/gonseq/Building/Results/Routputs/\"     # where you want to find files"
   ]
  },
  {
   "cell_type": "markdown",
   "metadata": {},
   "source": [
    "Let's save everything in a file..."
   ]
  },
  {
   "cell_type": "code",
   "execution_count": 70,
   "metadata": {},
   "outputs": [
    {
     "name": "stdout",
     "output_type": "stream",
     "text": [
      "[1] \"total 8.3K\"                                                                    \n",
      "[2] \"-rw-rw----+ 1 bnoblet bnoblet 8.3K Aug 11 16:19 16samples_SraRunTable_v2.txt\"  \n",
      "[3] \"-rw-rw----+ 1 bnoblet bnoblet 4.5M Aug 11 18:05 Pipe7_ending_session_all.RData\"\n"
     ]
    }
   ],
   "source": [
    "save(list = ls(),\n",
    "     file = paste0(destinationfolder, \"Pipe7_ending_session_all.RData\"))\n",
    "print(system(paste(\"ls -lh\", destinationfolder), intern = TRUE))"
   ]
  },
  {
   "cell_type": "markdown",
   "metadata": {},
   "source": [
    "... and just keep DESeq DataSet objects along with usefull colnames and destinationfolder."
   ]
  },
  {
   "cell_type": "code",
   "execution_count": 71,
   "metadata": {},
   "outputs": [
    {
     "name": "stdout",
     "output_type": "stream",
     "text": [
      "[1] \"total 4.5M\"                                                                                         \n",
      "[2] \"-rw-rw----+ 1 bnoblet bnoblet 8.3K Aug 11 16:19 16samples_SraRunTable_v2.txt\"                       \n",
      "[3] \"-rw-rw----+ 1 bnoblet bnoblet 3.0M Aug 11 18:22 Pipe7_ending_session_2dds_3colnameset_1folder.RData\"\n",
      "[4] \"-rw-rw----+ 1 bnoblet bnoblet 4.5M Aug 11 18:05 Pipe7_ending_session_all.RData\"                     \n"
     ]
    }
   ],
   "source": [
    "save(list = c(\"dds\", \"dds.filteredbyNnorm\", \"essentials\", \"varInt\", \"batch\", \"destinationfolder\"),\n",
    "     file = paste0(destinationfolder, \"Pipe7_ending_session_2dds_3colnameset_1folder.RData\"))\n",
    "print(system(paste(\"ls -lh\", destinationfolder), intern = TRUE))"
   ]
  }
 ],
 "metadata": {
  "kernelspec": {
   "display_name": "R 4.0.3",
   "language": "R",
   "name": "r-4.0.3"
  },
  "language_info": {
   "codemirror_mode": "r",
   "file_extension": ".r",
   "mimetype": "text/x-r-source",
   "name": "R",
   "pygments_lexer": "r",
   "version": "4.0.3"
  },
  "toc-showcode": false
 },
 "nbformat": 4,
 "nbformat_minor": 4
}

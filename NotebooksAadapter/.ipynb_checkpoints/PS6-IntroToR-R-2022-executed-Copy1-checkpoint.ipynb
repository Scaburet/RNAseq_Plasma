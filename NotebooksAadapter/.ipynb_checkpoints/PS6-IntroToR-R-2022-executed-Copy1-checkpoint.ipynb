{
 "cells": [
  {
   "cell_type": "markdown",
   "metadata": {},
   "source": [
    "# __RNAseq Analysis Module__"
   ]
  },
  {
   "cell_type": "markdown",
   "metadata": {},
   "source": [
    "## **Practical session 6: Introduction to R**\n",
    "Thursday, the 2ndd of December, 2021   \n",
    "Claire Vandiedonck"
   ]
  },
  {
   "cell_type": "markdown",
   "metadata": {},
   "source": [
    "        1. R as a calculator \n",
    "        2. Assigning data into R objects, using and reading them  \n",
    "        3. Managing your session\n",
    "        4. Managing objects in your R Session\n",
    "        5. Saving your data, session, and history\n",
    "             5.1 Data: specific variables or functions to save\n",
    "             5.2 Session: save all variables and functions\n",
    "             5.3 History: save all past commands\n",
    "        6. Classes and types of R objects\n",
    "             6.1. classes of objects\n",
    "             6.2. main data structures in R\n",
    "        7. Vectors\n",
    "        8. Matrices\n",
    "        9. Dataframes\n",
    "            9.1. creating a dataframe\n",
    "            9.2. reading  a text file into a dataframe in R and vice versa\n",
    "            9.3. subsetting a dataframe\n",
    "            9.4. merging dataframes\n",
    "        10. Some basic plotting"
   ]
  },
  {
   "cell_type": "markdown",
   "metadata": {},
   "source": [
    "---\n",
    "## **Before going further**\n",
    "\n",
    "<div class=\"alert alert-block alert-danger\"><b>Caution:</b> \n",
    "Before starting the analysis, save a backup copy of this notebok : in the left-hand panel, right-click on this file and select \"Duplicate\"<br>\n",
    "You can also make backups during the analysis. Don't forget to save your notebook regularly: <kbd>Ctrl</kbd> + <kbd>S</kbd> or click on the 💾 icon.\n",
    "</div>"
   ]
  },
  {
   "cell_type": "markdown",
   "metadata": {},
   "source": [
    "<div class=\"alert alert-block alert-warning\"><b>Warning:</b>You are strongly advised to run the cells in the indicated order. If you want to rerun cells above, you can just restart the kernel to start at 1 again. </div>"
   ]
  },
  {
   "cell_type": "markdown",
   "metadata": {},
   "source": [
    "In this practical, you will run one cell at a time.    \n",
    "___\n",
    "\n",
    "__*=> About this jupyter notebook*__\n",
    "\n",
    "This a jupyter notebook in **R**, meaning that the commands you will enter or run in `Code` cells are directly understood by the server in the R language. <br>You could run the same commands in a `Terminal` by starting R: type `R` and `enter`. \n",
    "\n",
    ">_If you want to see this by yourself, you can open a terminal on adenine:_\n",
    ">- _in the `File` menu in the top bar, select `New Launcher` or click on the `+` sign below_\n",
    ">- _open either a R `Console` or a `Terminal`_\n",
    "> - if you choose the `Terminal`, type `R` and enter. The bash `$` prompt will be changed to a R `>` prompt \n",
    ">- _you'll be able to copy and paste the commands from the `Code` cells of the notebook in the \"bottom cell\" (for the console) or after the `>` sign (for the terminal)_\n",
    ">- to quit R from the terminal type `quit()` or `q()` and enter. You can either save or not the data and history of your session by answering \"y\" or \"n\" or directly by typing q(\"yes\" or q(\"no\").\n",
    ">_This is for your information only, and not needed. All the commands are already included in this notebook_\n",
    "<br>    "
   ]
  },
  {
   "cell_type": "markdown",
   "metadata": {},
   "source": [
    "`In this practical, you will run one cell at a time.`"
   ]
  },
  {
   "cell_type": "markdown",
   "metadata": {},
   "source": [
    "___\n",
    "\n",
    "## **0 - What is R ?**\n",
    "\n",
    "R is available on this website: https://www.r-project.org\n",
    "\n",
    "The language is:\n",
    "- open-source\n",
    "- available for Windows, Mac and Unix\n",
    "- widely used in academia, finance, pharma, social sciences...\n",
    "\n",
    "R is a statsitical programming language. This project started in 1993. We are currently at version 4.1.2 (01/11/2021). There is a new release twice a year.\n",
    "\n",
    "It includes a \"core language\" called `R base` with more than 3000 contributed packages. A package is a set of functions.\n",
    "\n",
    "R can be used for:\n",
    "1. data manipulation: import, format, edit, export\n",
    "2. statistics\n",
    "3. avdanced graphics\n",
    "\n",
    "***Some useful links***\n",
    "- Quick R: https://www.statmethods.net/index.html\n",
    "- Emmanuel Paradis tutorial: [in French](https://cran.r-project.org/doc/contrib/Paradis-rdebuts_fr.pdf) or [in English](https://cran.r-project.org/doc/contrib/Paradis-rdebuts_en.pdf)\n",
    "- R cheatsheet: https://rstudio.com/resources/cheatsheets/\n",
    "- R style guide: https://google.github.io/styleguide/Rguide.html\n"
   ]
  },
  {
   "cell_type": "markdown",
   "metadata": {},
   "source": [
    "___\n",
    "\n",
    "## **I - R as a calulator**\n",
    "\n",
    "Some very simple examples**"
   ]
  },
  {
   "cell_type": "markdown",
   "metadata": {},
   "source": [
    "You can directly use R to perform mathematic operations with usual operators: `+`, `-`, `*` to multiply,`^` to raise to the power, `/` to divide, `%%` to get the modulo."
   ]
  },
  {
   "cell_type": "code",
   "execution_count": 120,
   "metadata": {},
   "outputs": [
    {
     "data": {
      "text/html": [
       "4"
      ],
      "text/latex": [
       "4"
      ],
      "text/markdown": [
       "4"
      ],
      "text/plain": [
       "[1] 4"
      ]
     },
     "metadata": {},
     "output_type": "display_data"
    }
   ],
   "source": [
    "## Code cell n°1 ##\n",
    "\n",
    "2+2"
   ]
  },
  {
   "cell_type": "code",
   "execution_count": 2,
   "metadata": {},
   "outputs": [
    {
     "data": {
      "text/html": [
       "-1"
      ],
      "text/latex": [
       "-1"
      ],
      "text/markdown": [
       "-1"
      ],
      "text/plain": [
       "[1] -1"
      ]
     },
     "metadata": {},
     "output_type": "display_data"
    }
   ],
   "source": [
    "## Code cell n°2 ##\n",
    "\n",
    "2-3"
   ]
  },
  {
   "cell_type": "code",
   "execution_count": 3,
   "metadata": {},
   "outputs": [
    {
     "data": {
      "text/html": [
       "3"
      ],
      "text/latex": [
       "3"
      ],
      "text/markdown": [
       "3"
      ],
      "text/plain": [
       "[1] 3"
      ]
     },
     "metadata": {},
     "output_type": "display_data"
    }
   ],
   "source": [
    "## Code cell n°3 ##\n",
    "\n",
    "6/2"
   ]
  },
  {
   "cell_type": "code",
   "execution_count": 4,
   "metadata": {},
   "outputs": [
    {
     "data": {
      "text/html": [
       "3.33333333333333"
      ],
      "text/latex": [
       "3.33333333333333"
      ],
      "text/markdown": [
       "3.33333333333333"
      ],
      "text/plain": [
       "[1] 3.333333"
      ]
     },
     "metadata": {},
     "output_type": "display_data"
    }
   ],
   "source": [
    "## Code cell n°4 ##\n",
    "\n",
    "10/3"
   ]
  },
  {
   "cell_type": "code",
   "execution_count": 5,
   "metadata": {},
   "outputs": [
    {
     "data": {
      "text/html": [
       "1"
      ],
      "text/latex": [
       "1"
      ],
      "text/markdown": [
       "1"
      ],
      "text/plain": [
       "[1] 1"
      ]
     },
     "metadata": {},
     "output_type": "display_data"
    }
   ],
   "source": [
    "## Code cell n°5 ##\n",
    "\n",
    "10%%3"
   ]
  },
  {
   "cell_type": "markdown",
   "metadata": {},
   "source": [
    "You can use built-in functions like `round()`,`log()`, `mean`...\n"
   ]
  },
  {
   "cell_type": "code",
   "execution_count": 6,
   "metadata": {},
   "outputs": [
    {
     "data": {
      "text/html": [
       "1.5"
      ],
      "text/latex": [
       "1.5"
      ],
      "text/markdown": [
       "1.5"
      ],
      "text/plain": [
       "[1] 1.5"
      ]
     },
     "metadata": {},
     "output_type": "display_data"
    },
    {
     "data": {
      "text/html": [
       "0.135335283236613"
      ],
      "text/latex": [
       "0.135335283236613"
      ],
      "text/markdown": [
       "0.135335283236613"
      ],
      "text/plain": [
       "[1] 0.1353353"
      ]
     },
     "metadata": {},
     "output_type": "display_data"
    }
   ],
   "source": [
    "## Code cell n°6 ##\n",
    "\n",
    "mean(c(1,2)) # we will see further down in this notebook that we need to put concatenate different values with a c() first\n",
    "exp(-2)"
   ]
  },
  {
   "cell_type": "markdown",
   "metadata": {},
   "source": [
    "You can nest functions, in the following example, `exp()` is netsed in `round()`"
   ]
  },
  {
   "cell_type": "code",
   "execution_count": 7,
   "metadata": {},
   "outputs": [
    {
     "data": {
      "text/html": [
       "0.14"
      ],
      "text/latex": [
       "0.14"
      ],
      "text/markdown": [
       "0.14"
      ],
      "text/plain": [
       "[1] 0.14"
      ]
     },
     "metadata": {},
     "output_type": "display_data"
    }
   ],
   "source": [
    "## Code cell n°7 ##\n",
    "\n",
    "round(exp(-2), 2)"
   ]
  },
  {
   "cell_type": "markdown",
   "metadata": {},
   "source": [
    "For some functions, you need to enter several arguments. In the example below, we add the `base` argument for the `log()` function."
   ]
  },
  {
   "cell_type": "code",
   "execution_count": 8,
   "metadata": {},
   "outputs": [
    {
     "data": {
      "text/html": [
       "2"
      ],
      "text/latex": [
       "2"
      ],
      "text/markdown": [
       "2"
      ],
      "text/plain": [
       "[1] 2"
      ]
     },
     "metadata": {},
     "output_type": "display_data"
    }
   ],
   "source": [
    "## Code cell n°8 ##\n",
    "\n",
    "log(100,base=10) #we want to get the log of 100 in base 10 "
   ]
  },
  {
   "cell_type": "markdown",
   "metadata": {},
   "source": [
    "***Getting help on functions:***\n",
    "\n",
    "To know which argument to use, it is recommanded to always look at the help of the functions. To do so, enter the name of the function after `?` or `help()` and the name of the function in the brackets. A help page will be displayed with different sections:\n",
    "\n",
    "- description: what is the purpose of the function?\n",
    "- usage: how it i used?\n",
    "- arguments: which parameters are used by the function. Defautls value may be specified.\n",
    "- details: technical description of the function\n",
    "- value: type of the output returned by the function\n",
    "- see also: similar functions in R\n",
    "- source/references: not always\n",
    "- example: concrete examples -> the best way to learn how it works!"
   ]
  },
  {
   "cell_type": "code",
   "execution_count": 9,
   "metadata": {},
   "outputs": [
    {
     "data": {
      "text/html": [
       "\n",
       "<table width=\"100%\" summary=\"page for Round {base}\"><tr><td>Round {base}</td><td style=\"text-align: right;\">R Documentation</td></tr></table>\n",
       "\n",
       "<h2>Rounding of Numbers</h2>\n",
       "\n",
       "<h3>Description</h3>\n",
       "\n",
       "<p><code>ceiling</code> takes a single numeric argument <code>x</code> and returns a\n",
       "numeric vector containing the smallest integers not less than the\n",
       "corresponding elements of <code>x</code>.\n",
       "</p>\n",
       "<p><code>floor</code> takes a single numeric argument <code>x</code> and returns a\n",
       "numeric vector containing the largest integers not greater than the\n",
       "corresponding elements of <code>x</code>.\n",
       "</p>\n",
       "<p><code>trunc</code> takes a single numeric argument <code>x</code> and returns a\n",
       "numeric vector containing the integers formed by truncating the values in\n",
       "<code>x</code> toward <code>0</code>.\n",
       "</p>\n",
       "<p><code>round</code> rounds the values in its first argument to the specified\n",
       "number of decimal places (default 0).  See &lsquo;Details&rsquo; about\n",
       "&ldquo;round to even&rdquo; when rounding off a 5.\n",
       "</p>\n",
       "<p><code>signif</code> rounds the values in its first argument to the specified\n",
       "number of significant digits.   Hence, for <code>numeric</code> <code>x</code>,\n",
       "<code>signif(x, dig)</code> is the same as <code>round(x, dig - ceiling(log10(abs(x))))</code>.\n",
       "For <code>complex</code> <code>x</code>, this is not the case, \n",
       "see the &lsquo;Details&rsquo;.\n",
       "</p>\n",
       "\n",
       "\n",
       "<h3>Usage</h3>\n",
       "\n",
       "<pre>\n",
       "ceiling(x)\n",
       "floor(x)\n",
       "trunc(x, ...)\n",
       "\n",
       "round(x, digits = 0)\n",
       "signif(x, digits = 6)\n",
       "</pre>\n",
       "\n",
       "\n",
       "<h3>Arguments</h3>\n",
       "\n",
       "<table summary=\"R argblock\">\n",
       "<tr valign=\"top\"><td><code>x</code></td>\n",
       "<td>\n",
       "<p>a numeric vector.  Or, for <code>round</code> and <code>signif</code>, a\n",
       "complex vector.</p>\n",
       "</td></tr>\n",
       "<tr valign=\"top\"><td><code>digits</code></td>\n",
       "<td>\n",
       "<p>integer indicating the number of decimal places\n",
       "(<code>round</code>) or significant digits (<code>signif</code>) to be used.\n",
       "Negative values are allowed (see &lsquo;Details&rsquo;).</p>\n",
       "</td></tr>\n",
       "<tr valign=\"top\"><td><code>...</code></td>\n",
       "<td>\n",
       "<p>arguments to be passed to methods.</p>\n",
       "</td></tr>\n",
       "</table>\n",
       "\n",
       "\n",
       "<h3>Details</h3>\n",
       "\n",
       "<p>These are generic functions: methods can be defined for them\n",
       "individually or via the <code>Math</code> group\n",
       "generic.\n",
       "</p>\n",
       "<p>Note that for rounding off a 5, the IEC 60559 standard (see also\n",
       "&lsquo;IEEE 754&rsquo;) is expected to be used, &lsquo;<em>go to the even digit</em>&rsquo;.\n",
       "Therefore <code>round(0.5)</code> is <code>0</code> and <code>round(-1.5)</code> is\n",
       "<code>-2</code>.  However, this is dependent on OS services and on\n",
       "representation error (since e.g. <code>0.15</code> is not represented\n",
       "exactly, the rounding rule applies to the represented number and not\n",
       "to the printed number, and so <code>round(0.15, 1)</code> could be either\n",
       "<code>0.1</code> or <code>0.2</code>).\n",
       "</p>\n",
       "<p>Rounding to a negative number of digits means rounding to a power of\n",
       "ten, so for example <code>round(x, digits = -2)</code> rounds to the nearest\n",
       "hundred.\n",
       "</p>\n",
       "<p>For <code>signif</code> the recognized values of <code>digits</code> are\n",
       "<code>1...22</code>, and non-missing values are rounded to the nearest\n",
       "integer in that range.  Complex numbers are rounded to retain the\n",
       "specified number of digits in the larger of the components.  Each\n",
       "element of the vector is rounded individually, unlike printing.\n",
       "</p>\n",
       "<p>These are all primitive functions.\n",
       "</p>\n",
       "\n",
       "\n",
       "<h3>S4 methods</h3>\n",
       "\n",
       "<p>These are all (internally) S4 generic.\n",
       "</p>\n",
       "<p><code>ceiling</code>, <code>floor</code> and <code>trunc</code> are members of the\n",
       "<code>Math</code> group generic.  As an S4\n",
       "generic, <code>trunc</code> has only one argument.\n",
       "</p>\n",
       "<p><code>round</code> and <code>signif</code> are members of the\n",
       "<code>Math2</code> group generic.\n",
       "</p>\n",
       "\n",
       "\n",
       "<h3>Warning</h3>\n",
       "\n",
       "<p>The realities of computer arithmetic can cause unexpected results,\n",
       "especially with <code>floor</code> and <code>ceiling</code>.  For example, we\n",
       "&lsquo;know&rsquo; that <code>floor(log(x, base = 8))</code> for <code>x = 8</code> is\n",
       "<code>1</code>, but <code>0</code> has been seen on an <span style=\"font-family: Courier New, Courier; color: #666666;\"><b>R</b></span> platform.  It is\n",
       "normally necessary to use a tolerance.\n",
       "</p>\n",
       "<p>Rounding to decimal digits in binary arithmetic is non-trivial (when\n",
       "<code>digits != 0</code>) and may be surprising.  Be aware that most decimal\n",
       "fractions are <em>not</em> exactly representable in binary double precision.\n",
       "In <span style=\"font-family: Courier New, Courier; color: #666666;\"><b>R</b></span> 4.0.0, the algorithm for <code>round(x, d)</code>, for <i>d &gt; 0</i>, has\n",
       "been improved to <em>measure</em> and round &ldquo;to nearest even&rdquo;,\n",
       "contrary to earlier versions of <span style=\"font-family: Courier New, Courier; color: #666666;\"><b>R</b></span> (or also to <code>sprintf()</code>\n",
       "or <code>format()</code> based rounding).\n",
       "</p>\n",
       "\n",
       "\n",
       "<h3>References</h3>\n",
       "\n",
       "<p>Becker, R. A., Chambers, J. M. and Wilks, A. R. (1988)\n",
       "<em>The New S Language</em>.  Wadsworth &amp; Brooks/Cole.\n",
       "</p>\n",
       "<p>The ISO/IEC/IEEE 60559:2011 standard is available for money from\n",
       "<a href=\"https://www.iso.org\">https://www.iso.org</a>.\n",
       "</p>\n",
       "<p>The IEEE 754:2008 standard is more openly documented, e.g, at\n",
       "<a href=\"https://en.wikipedia.org/wiki/IEEE_754\">https://en.wikipedia.org/wiki/IEEE_754</a>.\n",
       "</p>\n",
       "\n",
       "\n",
       "<h3>See Also</h3>\n",
       "\n",
       "<p><code>as.integer</code>.\n",
       "Package <a href=\"https://CRAN.R-project.org/package=round\"><span class=\"pkg\">round</span></a>'s <code>roundX()</code> for several\n",
       "versions or implementations of rounding, including some previous and the\n",
       "current <span style=\"font-family: Courier New, Courier; color: #666666;\"><b>R</b></span> version (as <code>version = \"3d.C\"</code>).\n",
       "</p>\n",
       "\n",
       "\n",
       "<h3>Examples</h3>\n",
       "\n",
       "<pre>\n",
       "round(.5 + -2:4) # IEEE / IEC rounding: -2  0  0  2  2  4  4\n",
       "## (this is *good* behaviour -- do *NOT* report it as bug !)\n",
       "\n",
       "( x1 &lt;- seq(-2, 4, by = .5) )\n",
       "round(x1) #-- IEEE / IEC rounding !\n",
       "x1[trunc(x1) != floor(x1)]\n",
       "x1[round(x1) != floor(x1 + .5)]\n",
       "(non.int &lt;- ceiling(x1) != floor(x1))\n",
       "\n",
       "x2 &lt;- pi * 100^(-1:3)\n",
       "round(x2, 3)\n",
       "signif(x2, 3)\n",
       "</pre>\n",
       "\n",
       "<hr /><div style=\"text-align: center;\">[Package <em>base</em> version 4.1.3 ]</div>"
      ],
      "text/latex": [
       "\\inputencoding{utf8}\n",
       "\\HeaderA{Round}{Rounding of Numbers}{Round}\n",
       "\\aliasA{ceiling}{Round}{ceiling}\n",
       "\\aliasA{floor}{Round}{floor}\n",
       "\\aliasA{round}{Round}{round}\n",
       "\\aliasA{signif}{Round}{signif}\n",
       "\\aliasA{trunc}{Round}{trunc}\n",
       "\\keyword{arith}{Round}\n",
       "%\n",
       "\\begin{Description}\\relax\n",
       "\\code{ceiling} takes a single numeric argument \\code{x} and returns a\n",
       "numeric vector containing the smallest integers not less than the\n",
       "corresponding elements of \\code{x}.\n",
       "\n",
       "\\code{floor} takes a single numeric argument \\code{x} and returns a\n",
       "numeric vector containing the largest integers not greater than the\n",
       "corresponding elements of \\code{x}.\n",
       "\n",
       "\\code{trunc} takes a single numeric argument \\code{x} and returns a\n",
       "numeric vector containing the integers formed by truncating the values in\n",
       "\\code{x} toward \\code{0}.\n",
       "\n",
       "\\code{round} rounds the values in its first argument to the specified\n",
       "number of decimal places (default 0).  See `Details' about\n",
       "``round to even'' when rounding off a 5.\n",
       "\n",
       "\\code{signif} rounds the values in its first argument to the specified\n",
       "number of significant digits.   Hence, for \\code{numeric} \\code{x},\n",
       "\\code{signif(x, dig)} is the same as \\code{round(x, dig - ceiling(log10(abs(x))))}.\n",
       "For \\code{\\LinkA{complex}{complex}} \\code{x}, this is not the case, \n",
       "see the `Details'.\n",
       "\\end{Description}\n",
       "%\n",
       "\\begin{Usage}\n",
       "\\begin{verbatim}\n",
       "ceiling(x)\n",
       "floor(x)\n",
       "trunc(x, ...)\n",
       "\n",
       "round(x, digits = 0)\n",
       "signif(x, digits = 6)\n",
       "\\end{verbatim}\n",
       "\\end{Usage}\n",
       "%\n",
       "\\begin{Arguments}\n",
       "\\begin{ldescription}\n",
       "\\item[\\code{x}] a numeric vector.  Or, for \\code{round} and \\code{signif}, a\n",
       "complex vector.\n",
       "\n",
       "\\item[\\code{digits}] integer indicating the number of decimal places\n",
       "(\\code{round}) or significant digits (\\code{signif}) to be used.\n",
       "Negative values are allowed (see `Details').\n",
       "\n",
       "\\item[\\code{...}] arguments to be passed to methods.\n",
       "\\end{ldescription}\n",
       "\\end{Arguments}\n",
       "%\n",
       "\\begin{Details}\\relax\n",
       "These are generic functions: methods can be defined for them\n",
       "individually or via the \\code{\\LinkA{Math}{S3groupGeneric}} group\n",
       "generic.\n",
       "\n",
       "Note that for rounding off a 5, the IEC 60559 standard (see also\n",
       "`IEEE 754') is expected to be used, `\\emph{go to the even digit}'.\n",
       "Therefore \\code{round(0.5)} is \\code{0} and \\code{round(-1.5)} is\n",
       "\\code{-2}.  However, this is dependent on OS services and on\n",
       "representation error (since e.g.~\\code{0.15} is not represented\n",
       "exactly, the rounding rule applies to the represented number and not\n",
       "to the printed number, and so \\code{round(0.15, 1)} could be either\n",
       "\\code{0.1} or \\code{0.2}).\n",
       "\n",
       "Rounding to a negative number of digits means rounding to a power of\n",
       "ten, so for example \\code{round(x, digits = -2)} rounds to the nearest\n",
       "hundred.\n",
       "\n",
       "For \\code{signif} the recognized values of \\code{digits} are\n",
       "\\code{1...22}, and non-missing values are rounded to the nearest\n",
       "integer in that range.  Complex numbers are rounded to retain the\n",
       "specified number of digits in the larger of the components.  Each\n",
       "element of the vector is rounded individually, unlike printing.\n",
       "\n",
       "These are all primitive functions.\n",
       "\\end{Details}\n",
       "%\n",
       "\\begin{Section}{S4 methods}\n",
       "These are all (internally) S4 generic.\n",
       "\n",
       "\\code{ceiling}, \\code{floor} and \\code{trunc} are members of the\n",
       "\\code{\\LinkA{Math}{S4groupGeneric}} group generic.  As an S4\n",
       "generic, \\code{trunc} has only one argument.\n",
       "\n",
       "\\code{round} and \\code{signif} are members of the\n",
       "\\code{\\LinkA{Math2}{S4groupGeneric}} group generic.\n",
       "\\end{Section}\n",
       "%\n",
       "\\begin{Section}{Warning}\n",
       "The realities of computer arithmetic can cause unexpected results,\n",
       "especially with \\code{floor} and \\code{ceiling}.  For example, we\n",
       "`know' that \\code{floor(log(x, base = 8))} for \\code{x = 8} is\n",
       "\\code{1}, but \\code{0} has been seen on an \\R{} platform.  It is\n",
       "normally necessary to use a tolerance.\n",
       "\n",
       "Rounding to decimal digits in binary arithmetic is non-trivial (when\n",
       "\\code{digits != 0}) and may be surprising.  Be aware that most decimal\n",
       "fractions are \\emph{not} exactly representable in binary double precision.\n",
       "In \\R{} 4.0.0, the algorithm for \\code{round(x, d)}, for \\eqn{d > 0}{}, has\n",
       "been improved to \\emph{measure} and round ``to nearest even'',\n",
       "contrary to earlier versions of \\R{} (or also to \\code{\\LinkA{sprintf}{sprintf}()}\n",
       "or \\code{\\LinkA{format}{format}()} based rounding).\n",
       "\\end{Section}\n",
       "%\n",
       "\\begin{References}\\relax\n",
       "Becker, R. A., Chambers, J. M. and Wilks, A. R. (1988)\n",
       "\\emph{The New S Language}.  Wadsworth \\& Brooks/Cole.\n",
       "\n",
       "The ISO/IEC/IEEE 60559:2011 standard is available for money from\n",
       "\\url{https://www.iso.org}.\n",
       "\n",
       "The IEEE 754:2008 standard is more openly documented, e.g, at\n",
       "\\url{https://en.wikipedia.org/wiki/IEEE_754}.\n",
       "\\end{References}\n",
       "%\n",
       "\\begin{SeeAlso}\\relax\n",
       "\\code{\\LinkA{as.integer}{as.integer}}.\n",
       "Package \\Rhref{https://CRAN.R-project.org/package=round}{\\pkg{round}}'s \\code{\\LinkA{roundX}{roundX}()} for several\n",
       "versions or implementations of rounding, including some previous and the\n",
       "current \\R{} version (as \\code{version = \"3d.C\"}).\n",
       "\\end{SeeAlso}\n",
       "%\n",
       "\\begin{Examples}\n",
       "\\begin{ExampleCode}\n",
       "round(.5 + -2:4) # IEEE / IEC rounding: -2  0  0  2  2  4  4\n",
       "## (this is *good* behaviour -- do *NOT* report it as bug !)\n",
       "\n",
       "( x1 <- seq(-2, 4, by = .5) )\n",
       "round(x1) #-- IEEE / IEC rounding !\n",
       "x1[trunc(x1) != floor(x1)]\n",
       "x1[round(x1) != floor(x1 + .5)]\n",
       "(non.int <- ceiling(x1) != floor(x1))\n",
       "\n",
       "x2 <- pi * 100^(-1:3)\n",
       "round(x2, 3)\n",
       "signif(x2, 3)\n",
       "\\end{ExampleCode}\n",
       "\\end{Examples}"
      ],
      "text/plain": [
       "Round                   package:base                   R Documentation\n",
       "\n",
       "_\bR_\bo_\bu_\bn_\bd_\bi_\bn_\bg _\bo_\bf _\bN_\bu_\bm_\bb_\be_\br_\bs\n",
       "\n",
       "_\bD_\be_\bs_\bc_\br_\bi_\bp_\bt_\bi_\bo_\bn:\n",
       "\n",
       "     ‘ceiling’ takes a single numeric argument ‘x’ and returns a\n",
       "     numeric vector containing the smallest integers not less than the\n",
       "     corresponding elements of ‘x’.\n",
       "\n",
       "     ‘floor’ takes a single numeric argument ‘x’ and returns a numeric\n",
       "     vector containing the largest integers not greater than the\n",
       "     corresponding elements of ‘x’.\n",
       "\n",
       "     ‘trunc’ takes a single numeric argument ‘x’ and returns a numeric\n",
       "     vector containing the integers formed by truncating the values in\n",
       "     ‘x’ toward ‘0’.\n",
       "\n",
       "     ‘round’ rounds the values in its first argument to the specified\n",
       "     number of decimal places (default 0).  See ‘Details’ about “round\n",
       "     to even” when rounding off a 5.\n",
       "\n",
       "     ‘signif’ rounds the values in its first argument to the specified\n",
       "     number of significant digits.  Hence, for ‘numeric’ ‘x’,\n",
       "     ‘signif(x, dig)’ is the same as ‘round(x, dig -\n",
       "     ceiling(log10(abs(x))))’.  For ‘complex’ ‘x’, this is not the\n",
       "     case, see the ‘Details’.\n",
       "\n",
       "_\bU_\bs_\ba_\bg_\be:\n",
       "\n",
       "     ceiling(x)\n",
       "     floor(x)\n",
       "     trunc(x, ...)\n",
       "     \n",
       "     round(x, digits = 0)\n",
       "     signif(x, digits = 6)\n",
       "     \n",
       "_\bA_\br_\bg_\bu_\bm_\be_\bn_\bt_\bs:\n",
       "\n",
       "       x: a numeric vector.  Or, for ‘round’ and ‘signif’, a complex\n",
       "          vector.\n",
       "\n",
       "  digits: integer indicating the number of decimal places (‘round’) or\n",
       "          significant digits (‘signif’) to be used.  Negative values\n",
       "          are allowed (see ‘Details’).\n",
       "\n",
       "     ...: arguments to be passed to methods.\n",
       "\n",
       "_\bD_\be_\bt_\ba_\bi_\bl_\bs:\n",
       "\n",
       "     These are generic functions: methods can be defined for them\n",
       "     individually or via the ‘Math’ group generic.\n",
       "\n",
       "     Note that for rounding off a 5, the IEC 60559 standard (see also\n",
       "     ‘IEEE 754’) is expected to be used, ‘_go to the even digit_’.\n",
       "     Therefore ‘round(0.5)’ is ‘0’ and ‘round(-1.5)’ is ‘-2’.  However,\n",
       "     this is dependent on OS services and on representation error\n",
       "     (since e.g. ‘0.15’ is not represented exactly, the rounding rule\n",
       "     applies to the represented number and not to the printed number,\n",
       "     and so ‘round(0.15, 1)’ could be either ‘0.1’ or ‘0.2’).\n",
       "\n",
       "     Rounding to a negative number of digits means rounding to a power\n",
       "     of ten, so for example ‘round(x, digits = -2)’ rounds to the\n",
       "     nearest hundred.\n",
       "\n",
       "     For ‘signif’ the recognized values of ‘digits’ are ‘1...22’, and\n",
       "     non-missing values are rounded to the nearest integer in that\n",
       "     range.  Complex numbers are rounded to retain the specified number\n",
       "     of digits in the larger of the components.  Each element of the\n",
       "     vector is rounded individually, unlike printing.\n",
       "\n",
       "     These are all primitive functions.\n",
       "\n",
       "_\bS_\b4 _\bm_\be_\bt_\bh_\bo_\bd_\bs:\n",
       "\n",
       "     These are all (internally) S4 generic.\n",
       "\n",
       "     ‘ceiling’, ‘floor’ and ‘trunc’ are members of the ‘Math’ group\n",
       "     generic.  As an S4 generic, ‘trunc’ has only one argument.\n",
       "\n",
       "     ‘round’ and ‘signif’ are members of the ‘Math2’ group generic.\n",
       "\n",
       "_\bW_\ba_\br_\bn_\bi_\bn_\bg:\n",
       "\n",
       "     The realities of computer arithmetic can cause unexpected results,\n",
       "     especially with ‘floor’ and ‘ceiling’.  For example, we ‘know’\n",
       "     that ‘floor(log(x, base = 8))’ for ‘x = 8’ is ‘1’, but ‘0’ has\n",
       "     been seen on an R platform.  It is normally necessary to use a\n",
       "     tolerance.\n",
       "\n",
       "     Rounding to decimal digits in binary arithmetic is non-trivial\n",
       "     (when ‘digits != 0’) and may be surprising.  Be aware that most\n",
       "     decimal fractions are _not_ exactly representable in binary double\n",
       "     precision.  In R 4.0.0, the algorithm for ‘round(x, d)’, for d >\n",
       "     0, has been improved to _measure_ and round “to nearest even”,\n",
       "     contrary to earlier versions of R (or also to ‘sprintf()’ or\n",
       "     ‘format()’ based rounding).\n",
       "\n",
       "_\bR_\be_\bf_\be_\br_\be_\bn_\bc_\be_\bs:\n",
       "\n",
       "     Becker, R. A., Chambers, J. M. and Wilks, A. R. (1988) _The New S\n",
       "     Language_.  Wadsworth & Brooks/Cole.\n",
       "\n",
       "     The ISO/IEC/IEEE 60559:2011 standard is available for money from\n",
       "     <URL: https://www.iso.org>.\n",
       "\n",
       "     The IEEE 754:2008 standard is more openly documented, e.g, at\n",
       "     <URL: https://en.wikipedia.org/wiki/IEEE_754>.\n",
       "\n",
       "_\bS_\be_\be _\bA_\bl_\bs_\bo:\n",
       "\n",
       "     ‘as.integer’.  Package ‘round’'s ‘roundX()’ for several versions\n",
       "     or implementations of rounding, including some previous and the\n",
       "     current R version (as ‘version = \"3d.C\"’).\n",
       "\n",
       "_\bE_\bx_\ba_\bm_\bp_\bl_\be_\bs:\n",
       "\n",
       "     round(.5 + -2:4) # IEEE / IEC rounding: -2  0  0  2  2  4  4\n",
       "     ## (this is *good* behaviour -- do *NOT* report it as bug !)\n",
       "     \n",
       "     ( x1 <- seq(-2, 4, by = .5) )\n",
       "     round(x1) #-- IEEE / IEC rounding !\n",
       "     x1[trunc(x1) != floor(x1)]\n",
       "     x1[round(x1) != floor(x1 + .5)]\n",
       "     (non.int <- ceiling(x1) != floor(x1))\n",
       "     \n",
       "     x2 <- pi * 100^(-1:3)\n",
       "     round(x2, 3)\n",
       "     signif(x2, 3)\n",
       "     "
      ]
     },
     "metadata": {},
     "output_type": "display_data"
    }
   ],
   "source": [
    "## Code cell n°9 ##\n",
    "\n",
    "help(round)"
   ]
  },
  {
   "cell_type": "code",
   "execution_count": 10,
   "metadata": {},
   "outputs": [
    {
     "data": {
      "text/html": [
       "\n",
       "<table width=\"100%\" summary=\"page for log {base}\"><tr><td>log {base}</td><td style=\"text-align: right;\">R Documentation</td></tr></table>\n",
       "\n",
       "<h2>Logarithms and Exponentials</h2>\n",
       "\n",
       "<h3>Description</h3>\n",
       "\n",
       "<p><code>log</code> computes logarithms, by default natural logarithms,\n",
       "<code>log10</code> computes common (i.e., base 10) logarithms, and\n",
       "<code>log2</code> computes binary (i.e., base 2) logarithms.\n",
       "The general form <code>log(x, base)</code> computes logarithms with base\n",
       "<code>base</code>.\n",
       "</p>\n",
       "<p><code>log1p(x)</code> computes <i>log(1+x)</i> accurately also for\n",
       "<i>|x| &lt;&lt; 1</i>.\n",
       "</p>\n",
       "<p><code>exp</code> computes the exponential function.\n",
       "</p>\n",
       "<p><code>expm1(x)</code> computes <i>exp(x) - 1</i> accurately also for\n",
       "<i>|x| &lt;&lt; 1</i>.\n",
       "</p>\n",
       "\n",
       "\n",
       "<h3>Usage</h3>\n",
       "\n",
       "<pre>\n",
       "log(x, base = exp(1))\n",
       "logb(x, base = exp(1))\n",
       "log10(x)\n",
       "log2(x)\n",
       "\n",
       "log1p(x)\n",
       "\n",
       "exp(x)\n",
       "expm1(x)\n",
       "</pre>\n",
       "\n",
       "\n",
       "<h3>Arguments</h3>\n",
       "\n",
       "<table summary=\"R argblock\">\n",
       "<tr valign=\"top\"><td><code>x</code></td>\n",
       "<td>\n",
       "<p>a numeric or complex vector.</p>\n",
       "</td></tr>\n",
       "<tr valign=\"top\"><td><code>base</code></td>\n",
       "<td>\n",
       "<p>a positive or complex number: the base with respect to which\n",
       "logarithms are computed.  Defaults to <i>e</i>=<code>exp(1)</code>.</p>\n",
       "</td></tr>\n",
       "</table>\n",
       "\n",
       "\n",
       "<h3>Details</h3>\n",
       "\n",
       "<p>All except <code>logb</code> are generic functions: methods can be defined\n",
       "for them individually or via the <code>Math</code>\n",
       "group generic.\n",
       "</p>\n",
       "<p><code>log10</code> and <code>log2</code> are only convenience wrappers, but logs\n",
       "to bases 10 and 2 (whether computed <em>via</em> <code>log</code> or the wrappers)\n",
       "will be computed more efficiently and accurately where supported by the OS.\n",
       "Methods can be set for them individually (and otherwise methods for\n",
       "<code>log</code> will be used).\n",
       "</p>\n",
       "<p><code>logb</code> is a wrapper for <code>log</code> for compatibility with S.  If\n",
       "(S3 or S4) methods are set for <code>log</code> they will be dispatched.\n",
       "Do not set S4 methods on <code>logb</code> itself.\n",
       "</p>\n",
       "<p>All except <code>log</code> are primitive functions.\n",
       "</p>\n",
       "\n",
       "\n",
       "<h3>Value</h3>\n",
       "\n",
       "<p>A vector of the same length as <code>x</code> containing the transformed\n",
       "values.  <code>log(0)</code> gives <code>-Inf</code>, and <code>log(x)</code> for\n",
       "negative values of <code>x</code> is <code>NaN</code>.  <code>exp(-Inf)</code> is <code>0</code>.\n",
       "</p>\n",
       "<p>For complex inputs to the log functions, the value is a complex number\n",
       "with imaginary part in the range <i>[-pi, pi]</i>: which\n",
       "end of the range is used might be platform-specific.\n",
       "</p>\n",
       "\n",
       "\n",
       "<h3>S4 methods</h3>\n",
       "\n",
       "<p><code>exp</code>, <code>expm1</code>, <code>log</code>, <code>log10</code>, <code>log2</code> and\n",
       "<code>log1p</code> are S4 generic and are members of the\n",
       "<code>Math</code> group generic.\n",
       "</p>\n",
       "<p>Note that this means that the S4 generic for <code>log</code> has a\n",
       "signature with only one argument, <code>x</code>, but that <code>base</code> can\n",
       "be passed to methods (but will not be used for method selection).  On\n",
       "the other hand, if you only set a method for the <code>Math</code> group\n",
       "generic then <code>base</code> argument of <code>log</code> will be ignored for\n",
       "your class.\n",
       "</p>\n",
       "\n",
       "\n",
       "<h3>Source</h3>\n",
       "\n",
       "<p><code>log1p</code> and <code>expm1</code> may be taken from the operating system,\n",
       "but if not available there then they are based on the Fortran subroutine\n",
       "<code>dlnrel</code> by W. Fullerton of Los Alamos Scientific Laboratory (see\n",
       "<a href=\"https://www.netlib.org/slatec/fnlib/dlnrel.f\">https://www.netlib.org/slatec/fnlib/dlnrel.f</a>) and (for small x) a\n",
       "single Newton step for the solution of <code>log1p(y) = x</code>\n",
       "respectively.\n",
       "</p>\n",
       "\n",
       "\n",
       "<h3>References</h3>\n",
       "\n",
       "<p>Becker, R. A., Chambers, J. M. and Wilks, A. R. (1988)\n",
       "<em>The New S Language</em>.\n",
       "Wadsworth &amp; Brooks/Cole.\n",
       "(for <code>log</code>, <code>log10</code> and <code>exp</code>.)\n",
       "</p>\n",
       "<p>Chambers, J. M. (1998)\n",
       "<em>Programming with Data.  A Guide to the S Language</em>.\n",
       "Springer. (for <code>logb</code>.)\n",
       "</p>\n",
       "\n",
       "\n",
       "<h3>See Also</h3>\n",
       "\n",
       "<p><code>Trig</code>,\n",
       "<code>sqrt</code>,\n",
       "<code>Arithmetic</code>.\n",
       "</p>\n",
       "\n",
       "\n",
       "<h3>Examples</h3>\n",
       "\n",
       "<pre>\n",
       "log(exp(3))\n",
       "log10(1e7) # = 7\n",
       "\n",
       "x &lt;- 10^-(1+2*1:9)\n",
       "cbind(x, log(1+x), log1p(x), exp(x)-1, expm1(x))\n",
       "</pre>\n",
       "\n",
       "<hr /><div style=\"text-align: center;\">[Package <em>base</em> version 4.1.3 ]</div>"
      ],
      "text/latex": [
       "\\inputencoding{utf8}\n",
       "\\HeaderA{log}{Logarithms and Exponentials}{log}\n",
       "\\aliasA{exp}{log}{exp}\n",
       "\\aliasA{expm1}{log}{expm1}\n",
       "\\aliasA{log10}{log}{log10}\n",
       "\\aliasA{log1p}{log}{log1p}\n",
       "\\aliasA{log2}{log}{log2}\n",
       "\\aliasA{logb}{log}{logb}\n",
       "\\keyword{math}{log}\n",
       "%\n",
       "\\begin{Description}\\relax\n",
       "\\code{log} computes logarithms, by default natural logarithms,\n",
       "\\code{log10} computes common (i.e., base 10) logarithms, and\n",
       "\\code{log2} computes binary (i.e., base 2) logarithms.\n",
       "The general form \\code{log(x, base)} computes logarithms with base\n",
       "\\code{base}.\n",
       "\n",
       "\\code{log1p(x)} computes \\eqn{\\log(1+x)}{} accurately also for\n",
       "\\eqn{|x| \\ll 1}{}.\n",
       "\n",
       "\\code{exp} computes the exponential function.\n",
       "\n",
       "\\code{expm1(x)} computes \\eqn{\\exp(x) - 1}{} accurately also for\n",
       "\\eqn{|x| \\ll 1}{}.\n",
       "\\end{Description}\n",
       "%\n",
       "\\begin{Usage}\n",
       "\\begin{verbatim}\n",
       "log(x, base = exp(1))\n",
       "logb(x, base = exp(1))\n",
       "log10(x)\n",
       "log2(x)\n",
       "\n",
       "log1p(x)\n",
       "\n",
       "exp(x)\n",
       "expm1(x)\n",
       "\\end{verbatim}\n",
       "\\end{Usage}\n",
       "%\n",
       "\\begin{Arguments}\n",
       "\\begin{ldescription}\n",
       "\\item[\\code{x}] a numeric or complex vector.\n",
       "\\item[\\code{base}] a positive or complex number: the base with respect to which\n",
       "logarithms are computed.  Defaults to \\eqn{e}{}=\\code{exp(1)}.\n",
       "\n",
       "\\end{ldescription}\n",
       "\\end{Arguments}\n",
       "%\n",
       "\\begin{Details}\\relax\n",
       "All except \\code{logb} are generic functions: methods can be defined\n",
       "for them individually or via the \\code{\\LinkA{Math}{S3groupGeneric}}\n",
       "group generic.\n",
       "\n",
       "\\code{log10} and \\code{log2} are only convenience wrappers, but logs\n",
       "to bases 10 and 2 (whether computed \\emph{via} \\code{log} or the wrappers)\n",
       "will be computed more efficiently and accurately where supported by the OS.\n",
       "Methods can be set for them individually (and otherwise methods for\n",
       "\\code{log} will be used).\n",
       "\n",
       "\\code{logb} is a wrapper for \\code{log} for compatibility with S.  If\n",
       "(S3 or S4) methods are set for \\code{log} they will be dispatched.\n",
       "Do not set S4 methods on \\code{logb} itself.\n",
       "\n",
       "All except \\code{log} are \\LinkA{primitive}{primitive} functions.\n",
       "\\end{Details}\n",
       "%\n",
       "\\begin{Value}\n",
       "A vector of the same length as \\code{x} containing the transformed\n",
       "values.  \\code{log(0)} gives \\code{-Inf}, and \\code{log(x)} for\n",
       "negative values of \\code{x} is \\code{NaN}.  \\code{exp(-Inf)} is \\code{0}.\n",
       "\n",
       "For complex inputs to the log functions, the value is a complex number\n",
       "with imaginary part in the range \\eqn{[-\\pi, \\pi]}{}: which\n",
       "end of the range is used might be platform-specific.\n",
       "\\end{Value}\n",
       "%\n",
       "\\begin{Section}{S4 methods}\n",
       "\\code{exp}, \\code{expm1}, \\code{log}, \\code{log10}, \\code{log2} and\n",
       "\\code{log1p} are S4 generic and are members of the\n",
       "\\code{\\LinkA{Math}{S4groupGeneric}} group generic.\n",
       "\n",
       "Note that this means that the S4 generic for \\code{log} has a\n",
       "signature with only one argument, \\code{x}, but that \\code{base} can\n",
       "be passed to methods (but will not be used for method selection).  On\n",
       "the other hand, if you only set a method for the \\code{Math} group\n",
       "generic then \\code{base} argument of \\code{log} will be ignored for\n",
       "your class.\n",
       "\\end{Section}\n",
       "%\n",
       "\\begin{Source}\\relax\n",
       "\\code{log1p} and \\code{expm1} may be taken from the operating system,\n",
       "but if not available there then they are based on the Fortran subroutine\n",
       "\\code{dlnrel} by W. Fullerton of Los Alamos Scientific Laboratory (see\n",
       "\\url{https://www.netlib.org/slatec/fnlib/dlnrel.f}) and (for small x) a\n",
       "single Newton step for the solution of \\code{log1p(y) = x}\n",
       "respectively.\n",
       "\\end{Source}\n",
       "%\n",
       "\\begin{References}\\relax\n",
       "Becker, R. A., Chambers, J. M. and Wilks, A. R. (1988)\n",
       "\\emph{The New S Language}.\n",
       "Wadsworth \\& Brooks/Cole.\n",
       "(for \\code{log}, \\code{log10} and \\code{exp}.)\n",
       "\n",
       "Chambers, J. M. (1998)\n",
       "\\emph{Programming with Data.  A Guide to the S Language}.\n",
       "Springer. (for \\code{logb}.)\n",
       "\\end{References}\n",
       "%\n",
       "\\begin{SeeAlso}\\relax\n",
       "\\code{\\LinkA{Trig}{Trig}},\n",
       "\\code{\\LinkA{sqrt}{sqrt}},\n",
       "\\code{\\LinkA{Arithmetic}{Arithmetic}}.\n",
       "\\end{SeeAlso}\n",
       "%\n",
       "\\begin{Examples}\n",
       "\\begin{ExampleCode}\n",
       "log(exp(3))\n",
       "log10(1e7) # = 7\n",
       "\n",
       "x <- 10^-(1+2*1:9)\n",
       "cbind(x, log(1+x), log1p(x), exp(x)-1, expm1(x))\n",
       "\\end{ExampleCode}\n",
       "\\end{Examples}"
      ],
      "text/plain": [
       "log                    package:base                    R Documentation\n",
       "\n",
       "_\bL_\bo_\bg_\ba_\br_\bi_\bt_\bh_\bm_\bs _\ba_\bn_\bd _\bE_\bx_\bp_\bo_\bn_\be_\bn_\bt_\bi_\ba_\bl_\bs\n",
       "\n",
       "_\bD_\be_\bs_\bc_\br_\bi_\bp_\bt_\bi_\bo_\bn:\n",
       "\n",
       "     ‘log’ computes logarithms, by default natural logarithms, ‘log10’\n",
       "     computes common (i.e., base 10) logarithms, and ‘log2’ computes\n",
       "     binary (i.e., base 2) logarithms.  The general form ‘log(x, base)’\n",
       "     computes logarithms with base ‘base’.\n",
       "\n",
       "     ‘log1p(x)’ computes log(1+x) accurately also for |x| << 1.\n",
       "\n",
       "     ‘exp’ computes the exponential function.\n",
       "\n",
       "     ‘expm1(x)’ computes exp(x) - 1 accurately also for |x| << 1.\n",
       "\n",
       "_\bU_\bs_\ba_\bg_\be:\n",
       "\n",
       "     log(x, base = exp(1))\n",
       "     logb(x, base = exp(1))\n",
       "     log10(x)\n",
       "     log2(x)\n",
       "     \n",
       "     log1p(x)\n",
       "     \n",
       "     exp(x)\n",
       "     expm1(x)\n",
       "     \n",
       "_\bA_\br_\bg_\bu_\bm_\be_\bn_\bt_\bs:\n",
       "\n",
       "       x: a numeric or complex vector.\n",
       "\n",
       "    base: a positive or complex number: the base with respect to which\n",
       "          logarithms are computed.  Defaults to e=‘exp(1)’.\n",
       "\n",
       "_\bD_\be_\bt_\ba_\bi_\bl_\bs:\n",
       "\n",
       "     All except ‘logb’ are generic functions: methods can be defined\n",
       "     for them individually or via the ‘Math’ group generic.\n",
       "\n",
       "     ‘log10’ and ‘log2’ are only convenience wrappers, but logs to\n",
       "     bases 10 and 2 (whether computed _via_ ‘log’ or the wrappers) will\n",
       "     be computed more efficiently and accurately where supported by the\n",
       "     OS.  Methods can be set for them individually (and otherwise\n",
       "     methods for ‘log’ will be used).\n",
       "\n",
       "     ‘logb’ is a wrapper for ‘log’ for compatibility with S.  If (S3 or\n",
       "     S4) methods are set for ‘log’ they will be dispatched.  Do not set\n",
       "     S4 methods on ‘logb’ itself.\n",
       "\n",
       "     All except ‘log’ are primitive functions.\n",
       "\n",
       "_\bV_\ba_\bl_\bu_\be:\n",
       "\n",
       "     A vector of the same length as ‘x’ containing the transformed\n",
       "     values.  ‘log(0)’ gives ‘-Inf’, and ‘log(x)’ for negative values\n",
       "     of ‘x’ is ‘NaN’.  ‘exp(-Inf)’ is ‘0’.\n",
       "\n",
       "     For complex inputs to the log functions, the value is a complex\n",
       "     number with imaginary part in the range [-pi, pi]: which end of\n",
       "     the range is used might be platform-specific.\n",
       "\n",
       "_\bS_\b4 _\bm_\be_\bt_\bh_\bo_\bd_\bs:\n",
       "\n",
       "     ‘exp’, ‘expm1’, ‘log’, ‘log10’, ‘log2’ and ‘log1p’ are S4 generic\n",
       "     and are members of the ‘Math’ group generic.\n",
       "\n",
       "     Note that this means that the S4 generic for ‘log’ has a signature\n",
       "     with only one argument, ‘x’, but that ‘base’ can be passed to\n",
       "     methods (but will not be used for method selection).  On the other\n",
       "     hand, if you only set a method for the ‘Math’ group generic then\n",
       "     ‘base’ argument of ‘log’ will be ignored for your class.\n",
       "\n",
       "_\bS_\bo_\bu_\br_\bc_\be:\n",
       "\n",
       "     ‘log1p’ and ‘expm1’ may be taken from the operating system, but if\n",
       "     not available there then they are based on the Fortran subroutine\n",
       "     ‘dlnrel’ by W. Fullerton of Los Alamos Scientific Laboratory (see\n",
       "     <URL: https://www.netlib.org/slatec/fnlib/dlnrel.f>) and (for\n",
       "     small x) a single Newton step for the solution of ‘log1p(y) = x’\n",
       "     respectively.\n",
       "\n",
       "_\bR_\be_\bf_\be_\br_\be_\bn_\bc_\be_\bs:\n",
       "\n",
       "     Becker, R. A., Chambers, J. M. and Wilks, A. R. (1988) _The New S\n",
       "     Language_.  Wadsworth & Brooks/Cole.  (for ‘log’, ‘log10’ and\n",
       "     ‘exp’.)\n",
       "\n",
       "     Chambers, J. M. (1998) _Programming with Data.  A Guide to the S\n",
       "     Language_.  Springer. (for ‘logb’.)\n",
       "\n",
       "_\bS_\be_\be _\bA_\bl_\bs_\bo:\n",
       "\n",
       "     ‘Trig’, ‘sqrt’, ‘Arithmetic’.\n",
       "\n",
       "_\bE_\bx_\ba_\bm_\bp_\bl_\be_\bs:\n",
       "\n",
       "     log(exp(3))\n",
       "     log10(1e7) # = 7\n",
       "     \n",
       "     x <- 10^-(1+2*1:9)\n",
       "     cbind(x, log(1+x), log1p(x), exp(x)-1, expm1(x))\n",
       "     "
      ]
     },
     "metadata": {},
     "output_type": "display_data"
    }
   ],
   "source": [
    "## Code cell n°10 ##\n",
    "\n",
    "?exp"
   ]
  },
  {
   "cell_type": "markdown",
   "metadata": {},
   "source": [
    "___\n",
    "\n",
    "## **II - Assigning data into R objects, using and reading them**"
   ]
  },
  {
   "cell_type": "markdown",
   "metadata": {},
   "source": [
    "We can store values in R objects/variables to reuse them in another command.\n",
    "To do so, use `<-` made with `<` and `-`. *An alternative is to use `=` for for code clarity it is not recommanded.*\n",
    "\n",
    "Lets' assign for example `2` in `x`:"
   ]
  },
  {
   "cell_type": "code",
   "execution_count": 11,
   "metadata": {},
   "outputs": [],
   "source": [
    "## Code cell n°11 ##\n",
    "\n",
    "x <- 2"
   ]
  },
  {
   "cell_type": "markdown",
   "metadata": {},
   "source": [
    "To know what is in `x` just enter `x`:"
   ]
  },
  {
   "cell_type": "code",
   "execution_count": 12,
   "metadata": {},
   "outputs": [
    {
     "data": {
      "text/html": [
       "2"
      ],
      "text/latex": [
       "2"
      ],
      "text/markdown": [
       "2"
      ],
      "text/plain": [
       "[1] 2"
      ]
     },
     "metadata": {},
     "output_type": "display_data"
    }
   ],
   "source": [
    "## Code cell n°12 ##\n",
    "\n",
    "x"
   ]
  },
  {
   "cell_type": "markdown",
   "metadata": {},
   "source": [
    "We can do operations on x:"
   ]
  },
  {
   "cell_type": "code",
   "execution_count": 13,
   "metadata": {},
   "outputs": [
    {
     "data": {
      "text/html": [
       "4"
      ],
      "text/latex": [
       "4"
      ],
      "text/markdown": [
       "4"
      ],
      "text/plain": [
       "[1] 4"
      ]
     },
     "metadata": {},
     "output_type": "display_data"
    }
   ],
   "source": [
    "## Code cell n°13 ##\n",
    "\n",
    "x+x"
   ]
  },
  {
   "cell_type": "markdown",
   "metadata": {},
   "source": [
    "You can then assign in `y` an operation with `x`."
   ]
  },
  {
   "cell_type": "code",
   "execution_count": 14,
   "metadata": {},
   "outputs": [],
   "source": [
    "## Code cell n°14 ##\n",
    "\n",
    "y <- x + 3"
   ]
  },
  {
   "cell_type": "markdown",
   "metadata": {},
   "source": [
    "To get the result of y, enter it in the next command:"
   ]
  },
  {
   "cell_type": "code",
   "execution_count": 15,
   "metadata": {},
   "outputs": [
    {
     "data": {
      "text/html": [
       "5"
      ],
      "text/latex": [
       "5"
      ],
      "text/markdown": [
       "5"
      ],
      "text/plain": [
       "[1] 5"
      ]
     },
     "metadata": {},
     "output_type": "display_data"
    }
   ],
   "source": [
    "## Code cell n°15 ##\n",
    "\n",
    "y"
   ]
  },
  {
   "cell_type": "markdown",
   "metadata": {},
   "source": [
    "<div class=\"alert alert-block alert-danger\"><b>Caution:</b> \n",
    "If you assign a new value in x, y will not change because the result of the operation x+3 was stored in y, not the operation \"x + 3\" itself.\n",
    "</div>"
   ]
  },
  {
   "cell_type": "code",
   "execution_count": 16,
   "metadata": {},
   "outputs": [
    {
     "data": {
      "text/html": [
       "5"
      ],
      "text/latex": [
       "5"
      ],
      "text/markdown": [
       "5"
      ],
      "text/plain": [
       "[1] 5"
      ]
     },
     "metadata": {},
     "output_type": "display_data"
    }
   ],
   "source": [
    "## Code cell n°16 ##\n",
    "\n",
    "x <- 4\n",
    "y"
   ]
  },
  {
   "cell_type": "markdown",
   "metadata": {},
   "source": [
    "So you would have to rerun the command assigning `x+3` in y to change the value of y."
   ]
  },
  {
   "cell_type": "code",
   "execution_count": 17,
   "metadata": {},
   "outputs": [
    {
     "data": {
      "text/html": [
       "7"
      ],
      "text/latex": [
       "7"
      ],
      "text/markdown": [
       "7"
      ],
      "text/plain": [
       "[1] 7"
      ]
     },
     "metadata": {},
     "output_type": "display_data"
    }
   ],
   "source": [
    "## Code cell n°17 ##\n",
    "\n",
    "y <- x + 3\n",
    "y"
   ]
  },
  {
   "cell_type": "markdown",
   "metadata": {},
   "source": [
    "In addition to numeric values, we can store other kind of data in an object. For example we will put a string of character in s. Strings of characters have to be put between \"quotes\""
   ]
  },
  {
   "cell_type": "code",
   "execution_count": 18,
   "metadata": {},
   "outputs": [
    {
     "data": {
      "text/html": [
       "'this is a string of characters'"
      ],
      "text/latex": [
       "'this is a string of characters'"
      ],
      "text/markdown": [
       "'this is a string of characters'"
      ],
      "text/plain": [
       "[1] \"this is a string of characters\""
      ]
     },
     "metadata": {},
     "output_type": "display_data"
    }
   ],
   "source": [
    "## Code cell n°18 ##\n",
    "\n",
    "s <- \"this is a string of characters\"\n",
    "s"
   ]
  },
  {
   "cell_type": "markdown",
   "metadata": {},
   "source": [
    "Of note, you can check the type of R object using `class()`."
   ]
  },
  {
   "cell_type": "code",
   "execution_count": 19,
   "metadata": {},
   "outputs": [
    {
     "data": {
      "text/html": [
       "'numeric'"
      ],
      "text/latex": [
       "'numeric'"
      ],
      "text/markdown": [
       "'numeric'"
      ],
      "text/plain": [
       "[1] \"numeric\""
      ]
     },
     "metadata": {},
     "output_type": "display_data"
    },
    {
     "data": {
      "text/html": [
       "'character'"
      ],
      "text/latex": [
       "'character'"
      ],
      "text/markdown": [
       "'character'"
      ],
      "text/plain": [
       "[1] \"character\""
      ]
     },
     "metadata": {},
     "output_type": "display_data"
    }
   ],
   "source": [
    "## Code cell n°19 ##\n",
    "\n",
    "class(x)\n",
    "class(s)"
   ]
  },
  {
   "cell_type": "markdown",
   "metadata": {},
   "source": [
    "It is important that numeric values are well encoded as numeric in R and not as strings of characters. You can not do operation with strings of characters:"
   ]
  },
  {
   "cell_type": "code",
   "execution_count": 20,
   "metadata": {},
   "outputs": [
    {
     "data": {
      "text/html": [
       "'1'"
      ],
      "text/latex": [
       "'1'"
      ],
      "text/markdown": [
       "'1'"
      ],
      "text/plain": [
       "[1] \"1\""
      ]
     },
     "metadata": {},
     "output_type": "display_data"
    },
    {
     "data": {
      "text/html": [
       "'character'"
      ],
      "text/latex": [
       "'character'"
      ],
      "text/markdown": [
       "'character'"
      ],
      "text/plain": [
       "[1] \"character\""
      ]
     },
     "metadata": {},
     "output_type": "display_data"
    },
    {
     "data": {
      "text/html": [
       "'numeric'"
      ],
      "text/latex": [
       "'numeric'"
      ],
      "text/markdown": [
       "'numeric'"
      ],
      "text/plain": [
       "[1] \"numeric\""
      ]
     },
     "metadata": {},
     "output_type": "display_data"
    }
   ],
   "source": [
    "## Code cell n°20 ##\n",
    "\n",
    "\"1\"\n",
    "class(\"1\")\n",
    "class(1)"
   ]
  },
  {
   "cell_type": "markdown",
   "metadata": {},
   "source": [
    "If you try to add `\"1\"` and 3,  an error message is returned here since we are trying to make an impossible operation:"
   ]
  },
  {
   "cell_type": "code",
   "execution_count": 21,
   "metadata": {},
   "outputs": [
    {
     "name": "stdout",
     "output_type": "stream",
     "text": [
      "Error in \"1\" + 3 : non-numeric argument to binary operator\n"
     ]
    }
   ],
   "source": [
    "## Code cell n°21 ##\n",
    "\n",
    "try(\"1\" + 3)# I added the try function to avoid stopping the notebook if you want to run all the cells"
   ]
  },
  {
   "cell_type": "markdown",
   "metadata": {},
   "source": [
    "If you are using numeric variables, the operation can be done:"
   ]
  },
  {
   "cell_type": "code",
   "execution_count": 22,
   "metadata": {},
   "outputs": [
    {
     "data": {
      "text/html": [
       "4"
      ],
      "text/latex": [
       "4"
      ],
      "text/markdown": [
       "4"
      ],
      "text/plain": [
       "[1] 4"
      ]
     },
     "metadata": {},
     "output_type": "display_data"
    }
   ],
   "source": [
    "## Code cell n°22 ##\n",
    "\n",
    "1 + 3"
   ]
  },
  {
   "cell_type": "markdown",
   "metadata": {},
   "source": [
    "___\n",
    "\n",
    "## **III - Managing your session**"
   ]
  },
  {
   "cell_type": "markdown",
   "metadata": {},
   "source": [
    "When working with R, it is always a good practice to document the R version you are using and the packages that are loaded. The function is `sessionInfo()`."
   ]
  },
  {
   "cell_type": "code",
   "execution_count": 23,
   "metadata": {},
   "outputs": [
    {
     "data": {
      "text/plain": [
       "R version 4.1.3 (2022-03-10)\n",
       "Platform: x86_64-conda-linux-gnu (64-bit)\n",
       "Running under: Ubuntu 18.04.4 LTS\n",
       "\n",
       "Matrix products: default\n",
       "BLAS/LAPACK: /srv/conda/envs/notebook/lib/libopenblasp-r0.3.21.so\n",
       "\n",
       "locale:\n",
       " [1] LC_CTYPE=en_US.UTF-8       LC_NUMERIC=C              \n",
       " [3] LC_TIME=en_US.UTF-8        LC_COLLATE=en_US.UTF-8    \n",
       " [5] LC_MONETARY=en_US.UTF-8    LC_MESSAGES=en_US.UTF-8   \n",
       " [7] LC_PAPER=en_US.UTF-8       LC_NAME=C                 \n",
       " [9] LC_ADDRESS=C               LC_TELEPHONE=C            \n",
       "[11] LC_MEASUREMENT=en_US.UTF-8 LC_IDENTIFICATION=C       \n",
       "\n",
       "attached base packages:\n",
       "[1] stats     graphics  grDevices utils     datasets  methods   base     \n",
       "\n",
       "loaded via a namespace (and not attached):\n",
       " [1] fansi_1.0.3     crayon_1.5.2    digest_0.6.30   utf8_1.2.2     \n",
       " [5] IRdisplay_1.1   repr_1.1.4      lifecycle_1.0.3 jsonlite_1.8.3 \n",
       " [9] evaluate_0.18   pillar_1.8.1    rlang_1.0.6     cli_3.4.1      \n",
       "[13] uuid_1.1-0      vctrs_0.5.0     IRkernel_1.2    tools_4.1.3    \n",
       "[17] glue_1.6.2      fastmap_1.1.0   compiler_4.1.3  base64enc_0.1-3\n",
       "[21] pbdZMQ_0.3-8    htmltools_0.5.3"
      ]
     },
     "metadata": {},
     "output_type": "display_data"
    }
   ],
   "source": [
    "## Code cell n°23 ##\n",
    "\n",
    "sessionInfo()"
   ]
  },
  {
   "cell_type": "markdown",
   "metadata": {},
   "source": [
    "As you can see, the version 3.6.1 is the one installed on this environment. By default, some \"base\" packages like stats are loaded. We will see in the next notebook that we can load other packages.\n",
    "\n",
    "The command `getwd()` gives you the path of your working directory."
   ]
  },
  {
   "cell_type": "code",
   "execution_count": 24,
   "metadata": {},
   "outputs": [
    {
     "data": {
      "text/html": [
       "'/srv/home/scaburet/meg_m2_rnaseq_r'"
      ],
      "text/latex": [
       "'/srv/home/scaburet/meg\\_m2\\_rnaseq\\_r'"
      ],
      "text/markdown": [
       "'/srv/home/scaburet/meg_m2_rnaseq_r'"
      ],
      "text/plain": [
       "[1] \"/srv/home/scaburet/meg_m2_rnaseq_r\""
      ]
     },
     "metadata": {},
     "output_type": "display_data"
    }
   ],
   "source": [
    "## Code cell n°24 ##\n",
    "\n",
    "getwd()"
   ]
  },
  {
   "cell_type": "markdown",
   "metadata": {},
   "source": [
    "<div class=\"alert alert-block alert-warning\"><b>The result should be like this:</b>`/srv/home/mylogin/meg_m2_rnaseq_r` with your \"login\".</div>"
   ]
  },
  {
   "cell_type": "markdown",
   "metadata": {},
   "source": [
    "If needed, you can change it to another directory with `setwd()`."
   ]
  },
  {
   "cell_type": "markdown",
   "metadata": {},
   "source": [
    "Here is an example where we will save your current working directory in a variable as a string of characters, then we set up a new one, and we get back to the initial one."
   ]
  },
  {
   "cell_type": "code",
   "execution_count": 25,
   "metadata": {},
   "outputs": [
    {
     "data": {
      "text/html": [
       "'/srv/home/scaburet/meg_m2_rnaseq_r'"
      ],
      "text/latex": [
       "'/srv/home/scaburet/meg\\_m2\\_rnaseq\\_r'"
      ],
      "text/markdown": [
       "'/srv/home/scaburet/meg_m2_rnaseq_r'"
      ],
      "text/plain": [
       "[1] \"/srv/home/scaburet/meg_m2_rnaseq_r\""
      ]
     },
     "metadata": {},
     "output_type": "display_data"
    }
   ],
   "source": [
    "## Code cell n°25 ##\n",
    "\n",
    "initial_path <- getwd()\n",
    "initial_path #current working directory"
   ]
  },
  {
   "cell_type": "markdown",
   "metadata": {},
   "source": [
    "Then we change it:"
   ]
  },
  {
   "cell_type": "code",
   "execution_count": 26,
   "metadata": {},
   "outputs": [
    {
     "data": {
      "text/html": [
       "'/srv/home'"
      ],
      "text/latex": [
       "'/srv/home'"
      ],
      "text/markdown": [
       "'/srv/home'"
      ],
      "text/plain": [
       "[1] \"/srv/home\""
      ]
     },
     "metadata": {},
     "output_type": "display_data"
    }
   ],
   "source": [
    "## Code cell n°26 ##\n",
    "\n",
    "setwd('/srv/home/') #change current working directory\n",
    "getwd() #change is visible"
   ]
  },
  {
   "cell_type": "markdown",
   "metadata": {},
   "source": [
    "An we put back or initial directory."
   ]
  },
  {
   "cell_type": "code",
   "execution_count": 27,
   "metadata": {},
   "outputs": [
    {
     "data": {
      "text/html": [
       "'/srv/home/scaburet/meg_m2_rnaseq_r'"
      ],
      "text/latex": [
       "'/srv/home/scaburet/meg\\_m2\\_rnaseq\\_r'"
      ],
      "text/markdown": [
       "'/srv/home/scaburet/meg_m2_rnaseq_r'"
      ],
      "text/plain": [
       "[1] \"/srv/home/scaburet/meg_m2_rnaseq_r\""
      ]
     },
     "metadata": {},
     "output_type": "display_data"
    }
   ],
   "source": [
    "## Code cell n°27 ##\n",
    "\n",
    "setwd(initial_path) # reset to initial working directory by using the content of the variable\n",
    "rm(initial_path)\n",
    "getwd()"
   ]
  },
  {
   "cell_type": "markdown",
   "metadata": {},
   "source": [
    "___\n",
    "\n",
    "## **IV - Managing objects in your R Session and working directory**"
   ]
  },
  {
   "cell_type": "markdown",
   "metadata": {},
   "source": [
    "The objects `x`, `y`and `s`you have cretaed above are only present in your R session, but they are not written in your working directory on the computer -> they are not present in the left-hand panel of Jupyter Lab.\n",
    "\n",
    "So, to know which objects you have in your R session, you can use the same function as in Unix/bash to list the files. The only difference is that in R you add brackets to use functions."
   ]
  },
  {
   "cell_type": "code",
   "execution_count": 28,
   "metadata": {},
   "outputs": [
    {
     "data": {
      "text/html": [
       "<style>\n",
       ".list-inline {list-style: none; margin:0; padding: 0}\n",
       ".list-inline>li {display: inline-block}\n",
       ".list-inline>li:not(:last-child)::after {content: \"\\00b7\"; padding: 0 .5ex}\n",
       "</style>\n",
       "<ol class=list-inline><li>'s'</li><li>'x'</li><li>'y'</li></ol>\n"
      ],
      "text/latex": [
       "\\begin{enumerate*}\n",
       "\\item 's'\n",
       "\\item 'x'\n",
       "\\item 'y'\n",
       "\\end{enumerate*}\n"
      ],
      "text/markdown": [
       "1. 's'\n",
       "2. 'x'\n",
       "3. 'y'\n",
       "\n",
       "\n"
      ],
      "text/plain": [
       "[1] \"s\" \"x\" \"y\""
      ]
     },
     "metadata": {},
     "output_type": "display_data"
    }
   ],
   "source": [
    "## Code cell n°28 ##\n",
    "\n",
    "ls()"
   ]
  },
  {
   "cell_type": "markdown",
   "metadata": {},
   "source": [
    "Similarly, you can get rid of an object with the function `rm()`."
   ]
  },
  {
   "cell_type": "code",
   "execution_count": 29,
   "metadata": {},
   "outputs": [
    {
     "data": {
      "text/html": [
       "<style>\n",
       ".list-inline {list-style: none; margin:0; padding: 0}\n",
       ".list-inline>li {display: inline-block}\n",
       ".list-inline>li:not(:last-child)::after {content: \"\\00b7\"; padding: 0 .5ex}\n",
       "</style>\n",
       "<ol class=list-inline><li>'s'</li><li>'x'</li></ol>\n"
      ],
      "text/latex": [
       "\\begin{enumerate*}\n",
       "\\item 's'\n",
       "\\item 'x'\n",
       "\\end{enumerate*}\n"
      ],
      "text/markdown": [
       "1. 's'\n",
       "2. 'x'\n",
       "\n",
       "\n"
      ],
      "text/plain": [
       "[1] \"s\" \"x\""
      ]
     },
     "metadata": {},
     "output_type": "display_data"
    }
   ],
   "source": [
    "## Code cell n°29 ##\n",
    "\n",
    "rm(y)\n",
    "ls()"
   ]
  },
  {
   "cell_type": "markdown",
   "metadata": {},
   "source": [
    "Conversely, you can also look at the data on your computer from R with the function `dir()` or `list.files()`. With the second function, you can add an argument to specify a pattern of interest."
   ]
  },
  {
   "cell_type": "code",
   "execution_count": 30,
   "metadata": {},
   "outputs": [
    {
     "data": {
      "text/html": [
       "<style>\n",
       ".list-inline {list-style: none; margin:0; padding: 0}\n",
       ".list-inline>li {display: inline-block}\n",
       ".list-inline>li:not(:last-child)::after {content: \"\\00b7\"; padding: 0 .5ex}\n",
       "</style>\n",
       "<ol class=list-inline><li>'binder'</li><li>'DESeq_1.38.0.tar.gz'</li><li>'example-notebook.ipynb'</li><li>'example-script.R'</li><li>'LICENSE'</li><li>'M2MEG-RNAseq-TP7-R.ipynb'</li><li>'PS6-IntroToR-R-2021-executed.ipynb'</li><li>'PS6-IntroToR-R-2021.ipynb'</li><li>'PS7-DEanalysis-R-2022-executed.ipynb'</li><li>'PS7-DEanalysis-R-2022.ipynb'</li><li>'README.md'</li><li>'Results'</li><li>'Temperatures.txt'</li><li>'Untitled.ipynb'</li></ol>\n"
      ],
      "text/latex": [
       "\\begin{enumerate*}\n",
       "\\item 'binder'\n",
       "\\item 'DESeq\\_1.38.0.tar.gz'\n",
       "\\item 'example-notebook.ipynb'\n",
       "\\item 'example-script.R'\n",
       "\\item 'LICENSE'\n",
       "\\item 'M2MEG-RNAseq-TP7-R.ipynb'\n",
       "\\item 'PS6-IntroToR-R-2021-executed.ipynb'\n",
       "\\item 'PS6-IntroToR-R-2021.ipynb'\n",
       "\\item 'PS7-DEanalysis-R-2022-executed.ipynb'\n",
       "\\item 'PS7-DEanalysis-R-2022.ipynb'\n",
       "\\item 'README.md'\n",
       "\\item 'Results'\n",
       "\\item 'Temperatures.txt'\n",
       "\\item 'Untitled.ipynb'\n",
       "\\end{enumerate*}\n"
      ],
      "text/markdown": [
       "1. 'binder'\n",
       "2. 'DESeq_1.38.0.tar.gz'\n",
       "3. 'example-notebook.ipynb'\n",
       "4. 'example-script.R'\n",
       "5. 'LICENSE'\n",
       "6. 'M2MEG-RNAseq-TP7-R.ipynb'\n",
       "7. 'PS6-IntroToR-R-2021-executed.ipynb'\n",
       "8. 'PS6-IntroToR-R-2021.ipynb'\n",
       "9. 'PS7-DEanalysis-R-2022-executed.ipynb'\n",
       "10. 'PS7-DEanalysis-R-2022.ipynb'\n",
       "11. 'README.md'\n",
       "12. 'Results'\n",
       "13. 'Temperatures.txt'\n",
       "14. 'Untitled.ipynb'\n",
       "\n",
       "\n"
      ],
      "text/plain": [
       " [1] \"binder\"                              \n",
       " [2] \"DESeq_1.38.0.tar.gz\"                 \n",
       " [3] \"example-notebook.ipynb\"              \n",
       " [4] \"example-script.R\"                    \n",
       " [5] \"LICENSE\"                             \n",
       " [6] \"M2MEG-RNAseq-TP7-R.ipynb\"            \n",
       " [7] \"PS6-IntroToR-R-2021-executed.ipynb\"  \n",
       " [8] \"PS6-IntroToR-R-2021.ipynb\"           \n",
       " [9] \"PS7-DEanalysis-R-2022-executed.ipynb\"\n",
       "[10] \"PS7-DEanalysis-R-2022.ipynb\"         \n",
       "[11] \"README.md\"                           \n",
       "[12] \"Results\"                             \n",
       "[13] \"Temperatures.txt\"                    \n",
       "[14] \"Untitled.ipynb\"                      "
      ]
     },
     "metadata": {},
     "output_type": "display_data"
    }
   ],
   "source": [
    "## Code cell n°30 ##\n",
    "\n",
    "dir()"
   ]
  },
  {
   "cell_type": "code",
   "execution_count": 31,
   "metadata": {},
   "outputs": [
    {
     "data": {
      "text/html": [
       "<style>\n",
       ".list-inline {list-style: none; margin:0; padding: 0}\n",
       ".list-inline>li {display: inline-block}\n",
       ".list-inline>li:not(:last-child)::after {content: \"\\00b7\"; padding: 0 .5ex}\n",
       "</style>\n",
       "<ol class=list-inline><li>'example-notebook.ipynb'</li><li>'M2MEG-RNAseq-TP7-R.ipynb'</li><li>'PS6-IntroToR-R-2021-executed.ipynb'</li><li>'PS6-IntroToR-R-2021.ipynb'</li><li>'PS7-DEanalysis-R-2022-executed.ipynb'</li><li>'PS7-DEanalysis-R-2022.ipynb'</li><li>'Untitled.ipynb'</li></ol>\n"
      ],
      "text/latex": [
       "\\begin{enumerate*}\n",
       "\\item 'example-notebook.ipynb'\n",
       "\\item 'M2MEG-RNAseq-TP7-R.ipynb'\n",
       "\\item 'PS6-IntroToR-R-2021-executed.ipynb'\n",
       "\\item 'PS6-IntroToR-R-2021.ipynb'\n",
       "\\item 'PS7-DEanalysis-R-2022-executed.ipynb'\n",
       "\\item 'PS7-DEanalysis-R-2022.ipynb'\n",
       "\\item 'Untitled.ipynb'\n",
       "\\end{enumerate*}\n"
      ],
      "text/markdown": [
       "1. 'example-notebook.ipynb'\n",
       "2. 'M2MEG-RNAseq-TP7-R.ipynb'\n",
       "3. 'PS6-IntroToR-R-2021-executed.ipynb'\n",
       "4. 'PS6-IntroToR-R-2021.ipynb'\n",
       "5. 'PS7-DEanalysis-R-2022-executed.ipynb'\n",
       "6. 'PS7-DEanalysis-R-2022.ipynb'\n",
       "7. 'Untitled.ipynb'\n",
       "\n",
       "\n"
      ],
      "text/plain": [
       "[1] \"example-notebook.ipynb\"              \n",
       "[2] \"M2MEG-RNAseq-TP7-R.ipynb\"            \n",
       "[3] \"PS6-IntroToR-R-2021-executed.ipynb\"  \n",
       "[4] \"PS6-IntroToR-R-2021.ipynb\"           \n",
       "[5] \"PS7-DEanalysis-R-2022-executed.ipynb\"\n",
       "[6] \"PS7-DEanalysis-R-2022.ipynb\"         \n",
       "[7] \"Untitled.ipynb\"                      "
      ]
     },
     "metadata": {},
     "output_type": "display_data"
    }
   ],
   "source": [
    "## Code cell n°31 ##\n",
    "\n",
    "list.files(pattern=\".ipynb\")"
   ]
  },
  {
   "cell_type": "markdown",
   "metadata": {},
   "source": [
    "___\n",
    "\n",
    "## **V - Saving your data, session, and history**"
   ]
  },
  {
   "cell_type": "markdown",
   "metadata": {},
   "source": [
    "Before quitting R, you will probably want to save objects and other session information on your computer to be able to find them again next time you use R.\n",
    "By default, all the data and files you save will be saved in your ***working directory***."
   ]
  },
  {
   "cell_type": "markdown",
   "metadata": {},
   "source": [
    "### **V.1 - Saving specific data *(or functions)***"
   ]
  },
  {
   "cell_type": "markdown",
   "metadata": {},
   "source": [
    "The function `save()` is used to save a specific object in your computer. You will have to give a name to the file on your computer. Generally, we save them with the extension `.RData`."
   ]
  },
  {
   "cell_type": "code",
   "execution_count": 32,
   "metadata": {},
   "outputs": [],
   "source": [
    "## Code cell n°32 ##\n",
    "\n",
    "save(x,file=\"x.RData\")"
   ]
  },
  {
   "cell_type": "markdown",
   "metadata": {},
   "source": [
    "With the above command, you should have created the file `x.Rdata` in your working directory. Check it is present on the left-hand panel of Jupyter Lab.<br>\n",
    "Now, if you remove `x` from your R session, you can load it back again with the `load()` function."
   ]
  },
  {
   "cell_type": "code",
   "execution_count": 33,
   "metadata": {},
   "outputs": [
    {
     "data": {
      "text/html": [
       "'s'"
      ],
      "text/latex": [
       "'s'"
      ],
      "text/markdown": [
       "'s'"
      ],
      "text/plain": [
       "[1] \"s\""
      ]
     },
     "metadata": {},
     "output_type": "display_data"
    }
   ],
   "source": [
    "## Code cell n°33 ##\n",
    "\n",
    "rm(x)\n",
    "ls()"
   ]
  },
  {
   "cell_type": "code",
   "execution_count": 34,
   "metadata": {},
   "outputs": [
    {
     "data": {
      "text/html": [
       "<style>\n",
       ".list-inline {list-style: none; margin:0; padding: 0}\n",
       ".list-inline>li {display: inline-block}\n",
       ".list-inline>li:not(:last-child)::after {content: \"\\00b7\"; padding: 0 .5ex}\n",
       "</style>\n",
       "<ol class=list-inline><li>'s'</li><li>'x'</li></ol>\n"
      ],
      "text/latex": [
       "\\begin{enumerate*}\n",
       "\\item 's'\n",
       "\\item 'x'\n",
       "\\end{enumerate*}\n"
      ],
      "text/markdown": [
       "1. 's'\n",
       "2. 'x'\n",
       "\n",
       "\n"
      ],
      "text/plain": [
       "[1] \"s\" \"x\""
      ]
     },
     "metadata": {},
     "output_type": "display_data"
    },
    {
     "data": {
      "text/html": [
       "4"
      ],
      "text/latex": [
       "4"
      ],
      "text/markdown": [
       "4"
      ],
      "text/plain": [
       "[1] 4"
      ]
     },
     "metadata": {},
     "output_type": "display_data"
    }
   ],
   "source": [
    "## Code cell n°34 ##\n",
    "\n",
    "load(\"x.RData\")\n",
    "ls()\n",
    "x #x is again accessible"
   ]
  },
  {
   "cell_type": "markdown",
   "metadata": {},
   "source": [
    "You can also delete the file from the working directory with the function `file.remove()`."
   ]
  },
  {
   "cell_type": "code",
   "execution_count": 35,
   "metadata": {},
   "outputs": [
    {
     "data": {
      "text/html": [
       "TRUE"
      ],
      "text/latex": [
       "TRUE"
      ],
      "text/markdown": [
       "TRUE"
      ],
      "text/plain": [
       "[1] TRUE"
      ]
     },
     "metadata": {},
     "output_type": "display_data"
    }
   ],
   "source": [
    "## Code cell n°35 ##\n",
    "\n",
    "file.remove(\"x.RData\") #remove file: returns TRUE on successful removal"
   ]
  },
  {
   "cell_type": "markdown",
   "metadata": {},
   "source": [
    "Instead of saving a single object, you can save several by listing them all as sepearte arguments in the `save()` function."
   ]
  },
  {
   "cell_type": "code",
   "execution_count": 36,
   "metadata": {},
   "outputs": [],
   "source": [
    "## Code cell n°36 ##\n",
    "\n",
    "save(x,s, file=\"xands.RData\")"
   ]
  },
  {
   "cell_type": "code",
   "execution_count": 37,
   "metadata": {},
   "outputs": [
    {
     "data": {
      "text/html": [
       "TRUE"
      ],
      "text/latex": [
       "TRUE"
      ],
      "text/markdown": [
       "TRUE"
      ],
      "text/plain": [
       "[1] TRUE"
      ]
     },
     "metadata": {},
     "output_type": "display_data"
    }
   ],
   "source": [
    "file.remove(\"xands.RData\")# to clean the working directory"
   ]
  },
  {
   "cell_type": "markdown",
   "metadata": {},
   "source": [
    "### **V.2 - Saving all variables *(and functions)* at once**"
   ]
  },
  {
   "cell_type": "markdown",
   "metadata": {},
   "source": [
    "It is even more efficient when you want to save all objects to use the function `save.image()`"
   ]
  },
  {
   "cell_type": "code",
   "execution_count": 38,
   "metadata": {},
   "outputs": [
    {
     "data": {
      "text/html": [
       "<style>\n",
       ".list-inline {list-style: none; margin:0; padding: 0}\n",
       ".list-inline>li {display: inline-block}\n",
       ".list-inline>li:not(:last-child)::after {content: \"\\00b7\"; padding: 0 .5ex}\n",
       "</style>\n",
       "<ol class=list-inline><li>'s'</li><li>'x'</li></ol>\n"
      ],
      "text/latex": [
       "\\begin{enumerate*}\n",
       "\\item 's'\n",
       "\\item 'x'\n",
       "\\end{enumerate*}\n"
      ],
      "text/markdown": [
       "1. 's'\n",
       "2. 'x'\n",
       "\n",
       "\n"
      ],
      "text/plain": [
       "[1] \"s\" \"x\""
      ]
     },
     "metadata": {},
     "output_type": "display_data"
    }
   ],
   "source": [
    "## Code cell n°37 ##\n",
    "\n",
    "ls()\n",
    "save.image(file=\"AllMyData.RData\")"
   ]
  },
  {
   "cell_type": "markdown",
   "metadata": {},
   "source": [
    "And similarly you can upload them all back after removing all objects in the session or starting a new one."
   ]
  },
  {
   "cell_type": "code",
   "execution_count": 39,
   "metadata": {},
   "outputs": [
    {
     "data": {
      "text/html": [],
      "text/latex": [],
      "text/markdown": [],
      "text/plain": [
       "character(0)"
      ]
     },
     "metadata": {},
     "output_type": "display_data"
    }
   ],
   "source": [
    "## Code cell n°38 ##\n",
    "\n",
    "rm(list=ls()) # this command removes all the objects on the R session\n",
    "ls() #all variables have been removed"
   ]
  },
  {
   "cell_type": "code",
   "execution_count": 40,
   "metadata": {},
   "outputs": [
    {
     "data": {
      "text/html": [
       "<style>\n",
       ".list-inline {list-style: none; margin:0; padding: 0}\n",
       ".list-inline>li {display: inline-block}\n",
       ".list-inline>li:not(:last-child)::after {content: \"\\00b7\"; padding: 0 .5ex}\n",
       "</style>\n",
       "<ol class=list-inline><li>'s'</li><li>'x'</li></ol>\n"
      ],
      "text/latex": [
       "\\begin{enumerate*}\n",
       "\\item 's'\n",
       "\\item 'x'\n",
       "\\end{enumerate*}\n"
      ],
      "text/markdown": [
       "1. 's'\n",
       "2. 'x'\n",
       "\n",
       "\n"
      ],
      "text/plain": [
       "[1] \"s\" \"x\""
      ]
     },
     "metadata": {},
     "output_type": "display_data"
    },
    {
     "data": {
      "text/html": [
       "TRUE"
      ],
      "text/latex": [
       "TRUE"
      ],
      "text/markdown": [
       "TRUE"
      ],
      "text/plain": [
       "[1] TRUE"
      ]
     },
     "metadata": {},
     "output_type": "display_data"
    },
    {
     "data": {
      "text/html": [
       "<style>\n",
       ".list-inline {list-style: none; margin:0; padding: 0}\n",
       ".list-inline>li {display: inline-block}\n",
       ".list-inline>li:not(:last-child)::after {content: \"\\00b7\"; padding: 0 .5ex}\n",
       "</style>\n",
       "<ol class=list-inline><li>'s'</li><li>'x'</li></ol>\n"
      ],
      "text/latex": [
       "\\begin{enumerate*}\n",
       "\\item 's'\n",
       "\\item 'x'\n",
       "\\end{enumerate*}\n"
      ],
      "text/markdown": [
       "1. 's'\n",
       "2. 'x'\n",
       "\n",
       "\n"
      ],
      "text/plain": [
       "[1] \"s\" \"x\""
      ]
     },
     "metadata": {},
     "output_type": "display_data"
    }
   ],
   "source": [
    "## Code cell n°39 ##\n",
    "\n",
    "load(\"AllMyData.RData\")\n",
    "ls() #all variables are accessible again\n",
    "file.remove(\"AllMyData.RData\")\n",
    "ls()"
   ]
  },
  {
   "cell_type": "markdown",
   "metadata": {},
   "source": [
    "### **V.3 - Save \"history\"** = all past commands"
   ]
  },
  {
   "cell_type": "markdown",
   "metadata": {},
   "source": [
    "<div class=\"alert alert-block alert-warning\"><b> Do not run</b>. It does not work in R notebooks where no history is saved because we are running independant cells! The command below would be the one to run in R shell (Terminal > R) or in RStudio (change \"lab\" in URL to \"rstudio\").</div>"
   ]
  },
  {
   "cell_type": "raw",
   "metadata": {},
   "source": [
    "ls()\n",
    "savehistory(file=\"MyHistory.Rhistory\") #save all previously run commands in a special formatted file\n",
    "loadhistory(\"MyHistory.Rhistory\") #load all commands stored in the specified file\n",
    "hist <- read.delim(\"MyHistory.Rhistory\") #see how the file is formatted: number of line and associated command\n",
    "head(hist)"
   ]
  },
  {
   "cell_type": "markdown",
   "metadata": {},
   "source": [
    "___\n",
    "\n",
    "## **VI - Classes and types of R objects**"
   ]
  },
  {
   "cell_type": "markdown",
   "metadata": {},
   "source": [
    "### **VI.1 - Classes of R objects**"
   ]
  },
  {
   "cell_type": "markdown",
   "metadata": {},
   "source": [
    "The main types of variables are :\n",
    "\n",
    "- numeric/integer\n",
    "- character\n",
    "- logical (FALSE/TRUE/NA)\n",
    "- factors"
   ]
  },
  {
   "cell_type": "code",
   "execution_count": 41,
   "metadata": {},
   "outputs": [
    {
     "data": {
      "text/html": [
       "<style>\n",
       ".list-inline {list-style: none; margin:0; padding: 0}\n",
       ".list-inline>li {display: inline-block}\n",
       ".list-inline>li:not(:last-child)::after {content: \"\\00b7\"; padding: 0 .5ex}\n",
       "</style>\n",
       "<ol class=list-inline><li>3</li><li>7</li><li>1</li><li>2</li></ol>\n"
      ],
      "text/latex": [
       "\\begin{enumerate*}\n",
       "\\item 3\n",
       "\\item 7\n",
       "\\item 1\n",
       "\\item 2\n",
       "\\end{enumerate*}\n"
      ],
      "text/markdown": [
       "1. 3\n",
       "2. 7\n",
       "3. 1\n",
       "4. 2\n",
       "\n",
       "\n"
      ],
      "text/plain": [
       "[1] 3 7 1 2"
      ]
     },
     "metadata": {},
     "output_type": "display_data"
    }
   ],
   "source": [
    "## Code cell n°41 ##\n",
    "\n",
    "x <- c(3, 7, 1, 2) # we define a variable x with 4 numeric values concatenated\n",
    "x"
   ]
  },
  {
   "cell_type": "markdown",
   "metadata": {},
   "source": [
    "To have a more classicla R display than in a notebook, you can add print()."
   ]
  },
  {
   "cell_type": "code",
   "execution_count": 42,
   "metadata": {},
   "outputs": [
    {
     "name": "stdout",
     "output_type": "stream",
     "text": [
      "[1] 3 7 1 2\n"
     ]
    }
   ],
   "source": [
    "## Code cell n°42 ##\n",
    "\n",
    "print(x) "
   ]
  },
  {
   "cell_type": "markdown",
   "metadata": {},
   "source": [
    "X contains 4 numeric values. We can check it is numeric with the function `is.numeric()`."
   ]
  },
  {
   "cell_type": "code",
   "execution_count": 43,
   "metadata": {},
   "outputs": [
    {
     "data": {
      "text/html": [
       "TRUE"
      ],
      "text/latex": [
       "TRUE"
      ],
      "text/markdown": [
       "TRUE"
      ],
      "text/plain": [
       "[1] TRUE"
      ]
     },
     "metadata": {},
     "output_type": "display_data"
    }
   ],
   "source": [
    "## Code cell n°43 ##\n",
    "\n",
    "is.numeric(x)"
   ]
  },
  {
   "cell_type": "markdown",
   "metadata": {},
   "source": [
    "It returns the logical value `TRUE`.\n",
    "\n",
    "You can also perform tests that will return logical values. Below we test wether the values in x are below 2."
   ]
  },
  {
   "cell_type": "code",
   "execution_count": 44,
   "metadata": {},
   "outputs": [
    {
     "data": {
      "text/html": [
       "<style>\n",
       ".list-inline {list-style: none; margin:0; padding: 0}\n",
       ".list-inline>li {display: inline-block}\n",
       ".list-inline>li:not(:last-child)::after {content: \"\\00b7\"; padding: 0 .5ex}\n",
       "</style>\n",
       "<ol class=list-inline><li>FALSE</li><li>FALSE</li><li>TRUE</li><li>FALSE</li></ol>\n"
      ],
      "text/latex": [
       "\\begin{enumerate*}\n",
       "\\item FALSE\n",
       "\\item FALSE\n",
       "\\item TRUE\n",
       "\\item FALSE\n",
       "\\end{enumerate*}\n"
      ],
      "text/markdown": [
       "1. FALSE\n",
       "2. FALSE\n",
       "3. TRUE\n",
       "4. FALSE\n",
       "\n",
       "\n"
      ],
      "text/plain": [
       "[1] FALSE FALSE  TRUE FALSE"
      ]
     },
     "metadata": {},
     "output_type": "display_data"
    }
   ],
   "source": [
    "## Code cell n°44 ##\n",
    "\n",
    "x < 2 # we test wether the 4 values are < 2"
   ]
  },
  {
   "cell_type": "markdown",
   "metadata": {},
   "source": [
    "Only the third value of x is < 2. Similarly, we can test which values of x are equal to 2."
   ]
  },
  {
   "cell_type": "code",
   "execution_count": 45,
   "metadata": {},
   "outputs": [
    {
     "data": {
      "text/html": [
       "<style>\n",
       ".list-inline {list-style: none; margin:0; padding: 0}\n",
       ".list-inline>li {display: inline-block}\n",
       ".list-inline>li:not(:last-child)::after {content: \"\\00b7\"; padding: 0 .5ex}\n",
       "</style>\n",
       "<ol class=list-inline><li>FALSE</li><li>FALSE</li><li>FALSE</li><li>TRUE</li></ol>\n"
      ],
      "text/latex": [
       "\\begin{enumerate*}\n",
       "\\item FALSE\n",
       "\\item FALSE\n",
       "\\item FALSE\n",
       "\\item TRUE\n",
       "\\end{enumerate*}\n"
      ],
      "text/markdown": [
       "1. FALSE\n",
       "2. FALSE\n",
       "3. FALSE\n",
       "4. TRUE\n",
       "\n",
       "\n"
      ],
      "text/plain": [
       "[1] FALSE FALSE FALSE  TRUE"
      ]
     },
     "metadata": {},
     "output_type": "display_data"
    }
   ],
   "source": [
    "## Code cell n°45 ##\n",
    "\n",
    "x == 2"
   ]
  },
  {
   "cell_type": "markdown",
   "metadata": {},
   "source": [
    "In R, the function `class()` returns the class of the object. The functions `is.logical()`, `is.numeric()`, `is.character()`,...test whether the values are of this type. You may enventually do a type conversion with `as.numeric()`, `as.logical()`, ..."
   ]
  },
  {
   "cell_type": "code",
   "execution_count": 46,
   "metadata": {},
   "outputs": [
    {
     "data": {
      "text/html": [
       "'numeric'"
      ],
      "text/latex": [
       "'numeric'"
      ],
      "text/markdown": [
       "'numeric'"
      ],
      "text/plain": [
       "[1] \"numeric\""
      ]
     },
     "metadata": {},
     "output_type": "display_data"
    },
    {
     "data": {
      "text/html": [
       "'character'"
      ],
      "text/latex": [
       "'character'"
      ],
      "text/markdown": [
       "'character'"
      ],
      "text/plain": [
       "[1] \"character\""
      ]
     },
     "metadata": {},
     "output_type": "display_data"
    },
    {
     "data": {
      "text/html": [
       "TRUE"
      ],
      "text/latex": [
       "TRUE"
      ],
      "text/markdown": [
       "TRUE"
      ],
      "text/plain": [
       "[1] TRUE"
      ]
     },
     "metadata": {},
     "output_type": "display_data"
    },
    {
     "data": {
      "text/html": [
       "FALSE"
      ],
      "text/latex": [
       "FALSE"
      ],
      "text/markdown": [
       "FALSE"
      ],
      "text/plain": [
       "[1] FALSE"
      ]
     },
     "metadata": {},
     "output_type": "display_data"
    },
    {
     "name": "stdout",
     "output_type": "stream",
     "text": [
      "[1] 0 0 1 0\n"
     ]
    },
    {
     "data": {
      "text/html": [
       "FALSE"
      ],
      "text/latex": [
       "FALSE"
      ],
      "text/markdown": [
       "FALSE"
      ],
      "text/plain": [
       "[1] FALSE"
      ]
     },
     "metadata": {},
     "output_type": "display_data"
    },
    {
     "data": {
      "text/html": [
       "TRUE"
      ],
      "text/latex": [
       "TRUE"
      ],
      "text/markdown": [
       "TRUE"
      ],
      "text/plain": [
       "[1] TRUE"
      ]
     },
     "metadata": {},
     "output_type": "display_data"
    },
    {
     "data": {
      "text/html": [
       "FALSE"
      ],
      "text/latex": [
       "FALSE"
      ],
      "text/markdown": [
       "FALSE"
      ],
      "text/plain": [
       "[1] FALSE"
      ]
     },
     "metadata": {},
     "output_type": "display_data"
    }
   ],
   "source": [
    "## Code cell n°46 ##\n",
    "\n",
    "class(x)\n",
    "class(s)\n",
    "is.character(s)\n",
    "is.numeric(s)\n",
    "print(as.numeric(x < 2))\n",
    "is.numeric(\"1\")\n",
    "is.numeric(as.numeric(\"1\"))\n",
    "is.numeric(c(1, \"1\"))"
   ]
  },
  {
   "cell_type": "markdown",
   "metadata": {},
   "source": [
    "***Coercion rules:*** There are some coercion rules when doing conversions on concatenating elements of different types: `logical <integer < numeric < complex < character < list`\n"
   ]
  },
  {
   "cell_type": "markdown",
   "metadata": {},
   "source": [
    "- if character strings are present, everything will be coerced to a character string.\n",
    "- otherwise logical values are coerced to numbers: TRUE is converted to 1, FALSE to 0\n",
    "- values are converted to the simplest type required to represent all information\n",
    "- object attributes (sort of metadata of objects/variables like their names) are dropped"
   ]
  },
  {
   "cell_type": "markdown",
   "metadata": {},
   "source": [
    "### **VI.2 Main data structures in R**\n",
    "\n",
    "There are 4 main data structures in R. The heterogeneous ones accept several classes inside.\n",
    "\n",
    "|   object  | Can it be heterogeneous? |\n",
    "|:---------:|:------------------------:|\n",
    "|   vector  |            no            |\n",
    "|   matrix  |            no            |\n",
    "| dataframe |            yes           |\n",
    "|    list   |            yes           |\n",
    "\n",
    "\n",
    "___\n",
    "## **VII. Vectors**\n",
    "\n",
    "- They are the most elementary R objects. They have one dimension. Some functions to create them are `c()`, `seq()`, `:`, `rep()`, `append()`...\n"
   ]
  },
  {
   "cell_type": "code",
   "execution_count": 47,
   "metadata": {},
   "outputs": [
    {
     "data": {
      "text/plain": [
       "NULL"
      ]
     },
     "metadata": {},
     "output_type": "display_data"
    }
   ],
   "source": [
    "## Code cell n°47 ##\n",
    "\n",
    "a <- c()\n",
    "a"
   ]
  },
  {
   "cell_type": "code",
   "execution_count": 48,
   "metadata": {},
   "outputs": [
    {
     "data": {
      "text/html": [
       "<style>\n",
       ".list-inline {list-style: none; margin:0; padding: 0}\n",
       ".list-inline>li {display: inline-block}\n",
       ".list-inline>li:not(:last-child)::after {content: \"\\00b7\"; padding: 0 .5ex}\n",
       "</style>\n",
       "<ol class=list-inline><li>60</li><li>72</li><li>57</li><li>90</li><li>95</li><li>72</li></ol>\n"
      ],
      "text/latex": [
       "\\begin{enumerate*}\n",
       "\\item 60\n",
       "\\item 72\n",
       "\\item 57\n",
       "\\item 90\n",
       "\\item 95\n",
       "\\item 72\n",
       "\\end{enumerate*}\n"
      ],
      "text/markdown": [
       "1. 60\n",
       "2. 72\n",
       "3. 57\n",
       "4. 90\n",
       "5. 95\n",
       "6. 72\n",
       "\n",
       "\n"
      ],
      "text/plain": [
       "[1] 60 72 57 90 95 72"
      ]
     },
     "metadata": {},
     "output_type": "display_data"
    }
   ],
   "source": [
    "## Code cell n°48 ##\n",
    "\n",
    "weight <- c(60, 72, 57, 90, 95, 72)\n",
    "weight"
   ]
  },
  {
   "cell_type": "markdown",
   "metadata": {},
   "source": [
    "<div class=\"alert alert-block alert-info\"><b>Remark:</b><br> In a jupyter notebook, by default each item of a vector can be displayed on a different numbered row. Should you wish to display a vector in a more classical way, like in the R console, where they are not displayed in different rows but in a row, you should use the function <b>print()</b>. </div>\n"
   ]
  },
  {
   "cell_type": "code",
   "execution_count": 49,
   "metadata": {},
   "outputs": [
    {
     "name": "stdout",
     "output_type": "stream",
     "text": [
      "[1] 60 72 57 90 95 72\n"
     ]
    }
   ],
   "source": [
    "## Code cell n°49 ##\n",
    "\n",
    "print(weight)"
   ]
  },
  {
   "cell_type": "code",
   "execution_count": 50,
   "metadata": {},
   "outputs": [
    {
     "data": {
      "text/html": [
       "<style>\n",
       ".list-inline {list-style: none; margin:0; padding: 0}\n",
       ".list-inline>li {display: inline-block}\n",
       ".list-inline>li:not(:last-child)::after {content: \"\\00b7\"; padding: 0 .5ex}\n",
       "</style>\n",
       "<ol class=list-inline><li>4</li><li>5</li><li>6</li><li>7</li><li>8</li><li>9</li><li>10</li></ol>\n"
      ],
      "text/latex": [
       "\\begin{enumerate*}\n",
       "\\item 4\n",
       "\\item 5\n",
       "\\item 6\n",
       "\\item 7\n",
       "\\item 8\n",
       "\\item 9\n",
       "\\item 10\n",
       "\\end{enumerate*}\n"
      ],
      "text/markdown": [
       "1. 4\n",
       "2. 5\n",
       "3. 6\n",
       "4. 7\n",
       "5. 8\n",
       "6. 9\n",
       "7. 10\n",
       "\n",
       "\n"
      ],
      "text/plain": [
       "[1]  4  5  6  7  8  9 10"
      ]
     },
     "metadata": {},
     "output_type": "display_data"
    },
    {
     "name": "stdout",
     "output_type": "stream",
     "text": [
      "[1]  4  5  6  7  8  9 10\n"
     ]
    }
   ],
   "source": [
    "## Code cell n°50 ##\n",
    "\n",
    "4:10\n",
    "print(4:10)"
   ]
  },
  {
   "cell_type": "code",
   "execution_count": 51,
   "metadata": {},
   "outputs": [
    {
     "name": "stdout",
     "output_type": "stream",
     "text": [
      "[1]  4  5  6  7  8  9 10\n"
     ]
    }
   ],
   "source": [
    "## Code cell n°51 ##\n",
    "\n",
    "print(seq(4, 10))"
   ]
  },
  {
   "cell_type": "code",
   "execution_count": 52,
   "metadata": {},
   "outputs": [
    {
     "name": "stdout",
     "output_type": "stream",
     "text": [
      "[1]  2  4  6  8 10\n"
     ]
    }
   ],
   "source": [
    "## Code cell n°52 ##\n",
    "\n",
    "print(seq(2, 10, 2))"
   ]
  },
  {
   "cell_type": "code",
   "execution_count": 53,
   "metadata": {},
   "outputs": [
    {
     "name": "stdout",
     "output_type": "stream",
     "text": [
      "[1] 4 4\n"
     ]
    }
   ],
   "source": [
    "## Code cell n°53 ##\n",
    "\n",
    "print(rep(4, 2))"
   ]
  },
  {
   "cell_type": "code",
   "execution_count": 54,
   "metadata": {},
   "outputs": [
    {
     "name": "stdout",
     "output_type": "stream",
     "text": [
      "[1]  4  6  8 10\n",
      "[1] 1 1 1 1 2 2 2 2\n",
      "[1] \"5\"                              \"this is a string of characters\"\n"
     ]
    }
   ],
   "source": [
    "## Code cell n°54 ##\n",
    "\n",
    "print(rep(seq(4, 10, 2)))\n",
    "print(c(rep(1, 4),rep(2, 4)))\n",
    "print(c(5, s))"
   ]
  },
  {
   "cell_type": "markdown",
   "metadata": {},
   "source": [
    "You can check the class of a vector but also get some information on its length with `length()` and structure with `str()`."
   ]
  },
  {
   "cell_type": "code",
   "execution_count": 55,
   "metadata": {},
   "outputs": [
    {
     "data": {
      "text/html": [
       "'character'"
      ],
      "text/latex": [
       "'character'"
      ],
      "text/markdown": [
       "'character'"
      ],
      "text/plain": [
       "[1] \"character\""
      ]
     },
     "metadata": {},
     "output_type": "display_data"
    },
    {
     "data": {
      "text/html": [
       "10"
      ],
      "text/latex": [
       "10"
      ],
      "text/markdown": [
       "10"
      ],
      "text/plain": [
       "[1] 10"
      ]
     },
     "metadata": {},
     "output_type": "display_data"
    },
    {
     "data": {
      "text/html": [
       "6"
      ],
      "text/latex": [
       "6"
      ],
      "text/markdown": [
       "6"
      ],
      "text/plain": [
       "[1] 6"
      ]
     },
     "metadata": {},
     "output_type": "display_data"
    },
    {
     "name": "stdout",
     "output_type": "stream",
     "text": [
      " num [1:6] 60 72 57 90 95 72\n"
     ]
    }
   ],
   "source": [
    "## Code cell n°55 ##\n",
    "\n",
    "class(c(5, s))\n",
    "length(1:10)\n",
    "length(weight)\n",
    "str(weight)"
   ]
  },
  {
   "cell_type": "markdown",
   "metadata": {},
   "source": [
    "- You can perform operation directly on vectors:"
   ]
  },
  {
   "cell_type": "code",
   "execution_count": 56,
   "metadata": {},
   "outputs": [
    {
     "name": "stdout",
     "output_type": "stream",
     "text": [
      "[1] 3.0625 3.2400 2.7225 3.6100 3.0276 3.6481\n",
      "[1] 19.59184 22.22222 20.93664 24.93075 31.37799 19.73630\n",
      "[1] 19.59184 22.22222 20.93664 24.93075 31.37799 19.73630\n"
     ]
    }
   ],
   "source": [
    "## Code cell n°56 ##\n",
    "\n",
    "size <- c(1.75, 1.8, 1.65, 1.9, 1.74, 1.91)\n",
    "print(size^2)\n",
    "print(bmi <- weight/size^2 )\n",
    "print(bmi)"
   ]
  },
  {
   "cell_type": "markdown",
   "metadata": {},
   "source": [
    "- You can order them or get dispersion values:"
   ]
  },
  {
   "cell_type": "code",
   "execution_count": 57,
   "metadata": {},
   "outputs": [
    {
     "name": "stdout",
     "output_type": "stream",
     "text": [
      "[1] 1.65 1.74 1.75 1.80 1.90 1.91\n"
     ]
    },
    {
     "data": {
      "text/html": [
       "1.79166666666667"
      ],
      "text/latex": [
       "1.79166666666667"
      ],
      "text/markdown": [
       "1.79166666666667"
      ],
      "text/plain": [
       "[1] 1.791667"
      ]
     },
     "metadata": {},
     "output_type": "display_data"
    },
    {
     "data": {
      "text/html": [
       "0.100282933077701"
      ],
      "text/latex": [
       "0.100282933077701"
      ],
      "text/markdown": [
       "0.100282933077701"
      ],
      "text/plain": [
       "[1] 0.1002829"
      ]
     },
     "metadata": {},
     "output_type": "display_data"
    },
    {
     "data": {
      "text/html": [
       "1.775"
      ],
      "text/latex": [
       "1.775"
      ],
      "text/markdown": [
       "1.775"
      ],
      "text/plain": [
       "[1] 1.775"
      ]
     },
     "metadata": {},
     "output_type": "display_data"
    },
    {
     "data": {
      "text/html": [
       "1.65"
      ],
      "text/latex": [
       "1.65"
      ],
      "text/markdown": [
       "1.65"
      ],
      "text/plain": [
       "[1] 1.65"
      ]
     },
     "metadata": {},
     "output_type": "display_data"
    },
    {
     "data": {
      "text/html": [
       "1.91"
      ],
      "text/latex": [
       "1.91"
      ],
      "text/markdown": [
       "1.91"
      ],
      "text/plain": [
       "[1] 1.91"
      ]
     },
     "metadata": {},
     "output_type": "display_data"
    },
    {
     "name": "stdout",
     "output_type": "stream",
     "text": [
      "[1] 1.65 1.91\n"
     ]
    },
    {
     "data": {
      "text/plain": [
       "   Min. 1st Qu.  Median    Mean 3rd Qu.    Max. \n",
       "  1.650   1.742   1.775   1.792   1.875   1.910 "
      ]
     },
     "metadata": {},
     "output_type": "display_data"
    }
   ],
   "source": [
    "## Code cell n°57 ##\n",
    "\n",
    "print(sort(size))\n",
    "mean(size)\n",
    "sd(size)\n",
    "median(size)\n",
    "min(size)\n",
    "max(size)\n",
    "print(range(size))\n",
    "summary(size)"
   ]
  },
  {
   "cell_type": "markdown",
   "metadata": {},
   "source": [
    "- You can extract some values from a vector with the index of tthe values you want to extract inside using square brackets `[]`:"
   ]
  },
  {
   "cell_type": "code",
   "execution_count": 58,
   "metadata": {},
   "outputs": [
    {
     "name": "stdout",
     "output_type": "stream",
     "text": [
      "[1] 1.75 1.80 1.65 1.90 1.74 1.91\n"
     ]
    },
    {
     "data": {
      "text/html": [
       "1.75"
      ],
      "text/latex": [
       "1.75"
      ],
      "text/markdown": [
       "1.75"
      ],
      "text/plain": [
       "[1] 1.75"
      ]
     },
     "metadata": {},
     "output_type": "display_data"
    },
    {
     "data": {
      "text/html": [
       "1.8"
      ],
      "text/latex": [
       "1.8"
      ],
      "text/markdown": [
       "1.8"
      ],
      "text/plain": [
       "[1] 1.8"
      ]
     },
     "metadata": {},
     "output_type": "display_data"
    },
    {
     "data": {
      "text/html": [
       "1.91"
      ],
      "text/latex": [
       "1.91"
      ],
      "text/markdown": [
       "1.91"
      ],
      "text/plain": [
       "[1] 1.91"
      ]
     },
     "metadata": {},
     "output_type": "display_data"
    },
    {
     "name": "stdout",
     "output_type": "stream",
     "text": [
      "[1] 1.80 1.91\n",
      "[1] 1.91 1.80\n"
     ]
    },
    {
     "data": {
      "text/html": [
       "1.8"
      ],
      "text/latex": [
       "1.8"
      ],
      "text/markdown": [
       "1.8"
      ],
      "text/plain": [
       "[1] 1.8"
      ]
     },
     "metadata": {},
     "output_type": "display_data"
    }
   ],
   "source": [
    "## Code cell n°58 ##\n",
    "\n",
    "print(size)\n",
    "size[1]\n",
    "size[2]\n",
    "size[6]\n",
    "print(size[c(2,6)])\n",
    "print(size[c(6,2)])\n",
    "min(size[c(6,2)])"
   ]
  },
  {
   "cell_type": "markdown",
   "metadata": {},
   "source": [
    "- Finally you can add a name to the different values. Names on vector values are attributes of the vector. Here the function `names()` returns a vector of the names of vector `size`. "
   ]
  },
  {
   "cell_type": "code",
   "execution_count": 59,
   "metadata": {},
   "outputs": [
    {
     "data": {
      "text/plain": [
       "NULL"
      ]
     },
     "metadata": {},
     "output_type": "display_data"
    },
    {
     "data": {
      "text/html": [
       "<style>\n",
       ".dl-inline {width: auto; margin:0; padding: 0}\n",
       ".dl-inline>dt, .dl-inline>dd {float: none; width: auto; display: inline-block}\n",
       ".dl-inline>dt::after {content: \":\\0020\"; padding-right: .5ex}\n",
       ".dl-inline>dt:not(:first-of-type) {padding-left: .5ex}\n",
       "</style><dl class=dl-inline><dt>Fabien</dt><dd>1.75</dd><dt>Pierre</dt><dd>1.8</dd><dt>Sandrine</dt><dd>1.65</dd><dt>Claire</dt><dd>1.9</dd><dt>Bruno</dt><dd>1.74</dd><dt>Delphine</dt><dd>1.91</dd></dl>\n"
      ],
      "text/latex": [
       "\\begin{description*}\n",
       "\\item[Fabien] 1.75\n",
       "\\item[Pierre] 1.8\n",
       "\\item[Sandrine] 1.65\n",
       "\\item[Claire] 1.9\n",
       "\\item[Bruno] 1.74\n",
       "\\item[Delphine] 1.91\n",
       "\\end{description*}\n"
      ],
      "text/markdown": [
       "Fabien\n",
       ":   1.75Pierre\n",
       ":   1.8Sandrine\n",
       ":   1.65Claire\n",
       ":   1.9Bruno\n",
       ":   1.74Delphine\n",
       ":   1.91\n",
       "\n"
      ],
      "text/plain": [
       "  Fabien   Pierre Sandrine   Claire    Bruno Delphine \n",
       "    1.75     1.80     1.65     1.90     1.74     1.91 "
      ]
     },
     "metadata": {},
     "output_type": "display_data"
    },
    {
     "name": "stdout",
     "output_type": "stream",
     "text": [
      " Named num [1:6] 1.75 1.8 1.65 1.9 1.74 1.91\n",
      " - attr(*, \"names\")= chr [1:6] \"Fabien\" \"Pierre\" \"Sandrine\" \"Claire\" ...\n"
     ]
    }
   ],
   "source": [
    "## Code cell n°59 ##\n",
    "\n",
    "names(size)\n",
    "names(size) <- c(\"Fabien\", \"Pierre\", \"Sandrine\", \"Claire\", \"Bruno\", \"Delphine\")\n",
    "size\n",
    "str(size)"
   ]
  },
  {
   "cell_type": "markdown",
   "metadata": {},
   "source": [
    "___\n",
    "\n",
    "## **VIII - Matrices**\n",
    "\n",
    "- 2-dimension objects (rows x columns)\n",
    "- contain only one type of varibale (e.g numeric) = homogeneous\n",
    "\n",
    "The function to create a matrix is `matrix()`"
   ]
  },
  {
   "cell_type": "code",
   "execution_count": 60,
   "metadata": {},
   "outputs": [
    {
     "data": {
      "text/html": [
       "<table class=\"dataframe\">\n",
       "<caption>A matrix: 2 × 3 of type dbl</caption>\n",
       "<tbody>\n",
       "\t<tr><td>1</td><td> 3</td><td>12</td></tr>\n",
       "\t<tr><td>2</td><td>11</td><td>13</td></tr>\n",
       "</tbody>\n",
       "</table>\n"
      ],
      "text/latex": [
       "A matrix: 2 × 3 of type dbl\n",
       "\\begin{tabular}{lll}\n",
       "\t 1 &  3 & 12\\\\\n",
       "\t 2 & 11 & 13\\\\\n",
       "\\end{tabular}\n"
      ],
      "text/markdown": [
       "\n",
       "A matrix: 2 × 3 of type dbl\n",
       "\n",
       "| 1 |  3 | 12 |\n",
       "| 2 | 11 | 13 |\n",
       "\n"
      ],
      "text/plain": [
       "     [,1] [,2] [,3]\n",
       "[1,] 1     3   12  \n",
       "[2,] 2    11   13  "
      ]
     },
     "metadata": {},
     "output_type": "display_data"
    },
    {
     "data": {
      "text/html": [
       "<style>\n",
       ".list-inline {list-style: none; margin:0; padding: 0}\n",
       ".list-inline>li {display: inline-block}\n",
       ".list-inline>li:not(:last-child)::after {content: \"\\00b7\"; padding: 0 .5ex}\n",
       "</style>\n",
       "<ol class=list-inline><li>'matrix'</li><li>'array'</li></ol>\n"
      ],
      "text/latex": [
       "\\begin{enumerate*}\n",
       "\\item 'matrix'\n",
       "\\item 'array'\n",
       "\\end{enumerate*}\n"
      ],
      "text/markdown": [
       "1. 'matrix'\n",
       "2. 'array'\n",
       "\n",
       "\n"
      ],
      "text/plain": [
       "[1] \"matrix\" \"array\" "
      ]
     },
     "metadata": {},
     "output_type": "display_data"
    }
   ],
   "source": [
    "## Code cell n°60 ##\n",
    "\n",
    "myData <- matrix(c(1, 2, 3, 11, 12, 13), nrow = 2, ncol = 3)\n",
    "myData\n",
    "class(myData)"
   ]
  },
  {
   "cell_type": "markdown",
   "metadata": {},
   "source": [
    "Thus by default, a matrix is filled by columns but you can change this behaviour and fill it by rows."
   ]
  },
  {
   "cell_type": "code",
   "execution_count": 61,
   "metadata": {},
   "outputs": [
    {
     "data": {
      "text/html": [
       "<table class=\"dataframe\">\n",
       "<caption>A matrix: 2 × 3 of type dbl</caption>\n",
       "<tbody>\n",
       "\t<tr><td> 1</td><td> 2</td><td> 3</td></tr>\n",
       "\t<tr><td>11</td><td>12</td><td>13</td></tr>\n",
       "</tbody>\n",
       "</table>\n"
      ],
      "text/latex": [
       "A matrix: 2 × 3 of type dbl\n",
       "\\begin{tabular}{lll}\n",
       "\t  1 &  2 &  3\\\\\n",
       "\t 11 & 12 & 13\\\\\n",
       "\\end{tabular}\n"
      ],
      "text/markdown": [
       "\n",
       "A matrix: 2 × 3 of type dbl\n",
       "\n",
       "|  1 |  2 |  3 |\n",
       "| 11 | 12 | 13 |\n",
       "\n"
      ],
      "text/plain": [
       "     [,1] [,2] [,3]\n",
       "[1,]  1    2    3  \n",
       "[2,] 11   12   13  "
      ]
     },
     "metadata": {},
     "output_type": "display_data"
    }
   ],
   "source": [
    "## Code cell n°61 ##\n",
    "\n",
    "myData <- matrix(c(1, 2, 3, 11, 12, 13), nrow = 2, ncol = 3, byrow = TRUE)\n",
    "myData"
   ]
  },
  {
   "cell_type": "markdown",
   "metadata": {},
   "source": [
    "- you can check the dimensions with `dim()` or `str()`, `nrow()` or `ncol()`"
   ]
  },
  {
   "cell_type": "code",
   "execution_count": 62,
   "metadata": {},
   "outputs": [
    {
     "name": "stdout",
     "output_type": "stream",
     "text": [
      "[1] 2 3\n",
      " num [1:2, 1:3] 1 11 2 12 3 13\n"
     ]
    },
    {
     "data": {
      "text/html": [
       "2"
      ],
      "text/latex": [
       "2"
      ],
      "text/markdown": [
       "2"
      ],
      "text/plain": [
       "[1] 2"
      ]
     },
     "metadata": {},
     "output_type": "display_data"
    },
    {
     "data": {
      "text/html": [
       "3"
      ],
      "text/latex": [
       "3"
      ],
      "text/markdown": [
       "3"
      ],
      "text/plain": [
       "[1] 3"
      ]
     },
     "metadata": {},
     "output_type": "display_data"
    }
   ],
   "source": [
    "## Code cell n°62 ##\n",
    "\n",
    "print(dim(myData))\n",
    "str(myData)\n",
    "nrow(myData)\n",
    "ncol(myData)"
   ]
  },
  {
   "cell_type": "markdown",
   "metadata": {},
   "source": [
    "Printing the matrix shows you `[i,j]` coordinates, where is the index of the row and j of the column."
   ]
  },
  {
   "cell_type": "code",
   "execution_count": 63,
   "metadata": {},
   "outputs": [
    {
     "name": "stdout",
     "output_type": "stream",
     "text": [
      "     [,1] [,2] [,3]\n",
      "[1,]    1    2    3\n",
      "[2,]   11   12   13\n"
     ]
    }
   ],
   "source": [
    "## Code cell n°63 ##\n",
    "\n",
    "print(myData)"
   ]
  },
  {
   "cell_type": "markdown",
   "metadata": {},
   "source": [
    "- values can be sliced with the `[]`"
   ]
  },
  {
   "cell_type": "code",
   "execution_count": 64,
   "metadata": {},
   "outputs": [
    {
     "data": {
      "text/html": [
       "2"
      ],
      "text/latex": [
       "2"
      ],
      "text/markdown": [
       "2"
      ],
      "text/plain": [
       "[1] 2"
      ]
     },
     "metadata": {},
     "output_type": "display_data"
    }
   ],
   "source": [
    "## Code cell n°64 ##\n",
    "\n",
    "myData[1, 2] # returns the value of the 1st row and 2nd column"
   ]
  },
  {
   "cell_type": "code",
   "execution_count": 65,
   "metadata": {},
   "outputs": [
    {
     "data": {
      "text/html": [
       "11"
      ],
      "text/latex": [
       "11"
      ],
      "text/markdown": [
       "11"
      ],
      "text/plain": [
       "[1] 11"
      ]
     },
     "metadata": {},
     "output_type": "display_data"
    }
   ],
   "source": [
    "## Code cell n°65 ##\n",
    "\n",
    "myData[2, 1] # returns the value of the 2nd row and 1st column"
   ]
  },
  {
   "cell_type": "code",
   "execution_count": 66,
   "metadata": {},
   "outputs": [
    {
     "name": "stdout",
     "output_type": "stream",
     "text": [
      "[1]  1 11\n"
     ]
    }
   ],
   "source": [
    "## Code cell n°66 ##\n",
    "\n",
    "print(myData[, 1]) # returns the values of the vector corresponding to the 1st column"
   ]
  },
  {
   "cell_type": "code",
   "execution_count": 67,
   "metadata": {},
   "outputs": [
    {
     "name": "stdout",
     "output_type": "stream",
     "text": [
      "[1] 11 12 13\n"
     ]
    }
   ],
   "source": [
    "## Code cell n°67 ##\n",
    "\n",
    "print(myData[2,])  # returns the values of the vector corresponding to the 2nd row"
   ]
  },
  {
   "cell_type": "code",
   "execution_count": 68,
   "metadata": {},
   "outputs": [
    {
     "data": {
      "text/html": [
       "<table class=\"dataframe\">\n",
       "<caption>A matrix: 2 × 2 of type dbl</caption>\n",
       "<tbody>\n",
       "\t<tr><td> 2</td><td> 3</td></tr>\n",
       "\t<tr><td>12</td><td>13</td></tr>\n",
       "</tbody>\n",
       "</table>\n"
      ],
      "text/latex": [
       "A matrix: 2 × 2 of type dbl\n",
       "\\begin{tabular}{ll}\n",
       "\t  2 &  3\\\\\n",
       "\t 12 & 13\\\\\n",
       "\\end{tabular}\n"
      ],
      "text/markdown": [
       "\n",
       "A matrix: 2 × 2 of type dbl\n",
       "\n",
       "|  2 |  3 |\n",
       "| 12 | 13 |\n",
       "\n"
      ],
      "text/plain": [
       "     [,1] [,2]\n",
       "[1,]  2    3  \n",
       "[2,] 12   13  "
      ]
     },
     "metadata": {},
     "output_type": "display_data"
    }
   ],
   "source": [
    "## Code cell n°68 ##\n",
    "\n",
    "myData[, 2:3] # subsets the initial matrix returning a sub-matrix\n",
    "             # with all rows of the 2nd and 3rd columns from the initial matrix\n",
    "             # the generated matrix has 2 rows and 2 columns"
   ]
  },
  {
   "cell_type": "code",
   "execution_count": 69,
   "metadata": {},
   "outputs": [
    {
     "name": "stdout",
     "output_type": "stream",
     "text": [
      "[1] 2 2\n"
     ]
    }
   ],
   "source": [
    "## Code cell n°69 ##\n",
    "\n",
    "print(dim(myData[, 2:3])) # the generated matrix has 2 rows and 2 columns"
   ]
  },
  {
   "cell_type": "code",
   "execution_count": 70,
   "metadata": {},
   "outputs": [
    {
     "data": {
      "text/html": [
       "'numeric'"
      ],
      "text/latex": [
       "'numeric'"
      ],
      "text/markdown": [
       "'numeric'"
      ],
      "text/plain": [
       "[1] \"numeric\""
      ]
     },
     "metadata": {},
     "output_type": "display_data"
    },
    {
     "data": {
      "text/html": [
       "3"
      ],
      "text/latex": [
       "3"
      ],
      "text/markdown": [
       "3"
      ],
      "text/plain": [
       "[1] 3"
      ]
     },
     "metadata": {},
     "output_type": "display_data"
    },
    {
     "data": {
      "text/html": [
       "2"
      ],
      "text/latex": [
       "2"
      ],
      "text/markdown": [
       "2"
      ],
      "text/plain": [
       "[1] 2"
      ]
     },
     "metadata": {},
     "output_type": "display_data"
    }
   ],
   "source": [
    "## Code cell n°70 ##\n",
    "\n",
    "class(myData[, 1]) # we extract a vector -> thus the class is numeric and no more matrix\n",
    "length(myData[1,])\n",
    "length(myData[, 1])"
   ]
  },
  {
   "cell_type": "markdown",
   "metadata": {},
   "source": [
    "- Vectors can be associated to generate a matrix with `rbind()` or `cbind()`"
   ]
  },
  {
   "cell_type": "code",
   "execution_count": 71,
   "metadata": {},
   "outputs": [
    {
     "data": {
      "text/html": [
       "<table class=\"dataframe\">\n",
       "<caption>A matrix: 6 × 3 of type dbl</caption>\n",
       "<thead>\n",
       "\t<tr><th></th><th scope=col>weight</th><th scope=col>size</th><th scope=col>bmi</th></tr>\n",
       "</thead>\n",
       "<tbody>\n",
       "\t<tr><th scope=row>Fabien</th><td>60</td><td>1.75</td><td>19.59184</td></tr>\n",
       "\t<tr><th scope=row>Pierre</th><td>72</td><td>1.80</td><td>22.22222</td></tr>\n",
       "\t<tr><th scope=row>Sandrine</th><td>57</td><td>1.65</td><td>20.93664</td></tr>\n",
       "\t<tr><th scope=row>Claire</th><td>90</td><td>1.90</td><td>24.93075</td></tr>\n",
       "\t<tr><th scope=row>Bruno</th><td>95</td><td>1.74</td><td>31.37799</td></tr>\n",
       "\t<tr><th scope=row>Delphine</th><td>72</td><td>1.91</td><td>19.73630</td></tr>\n",
       "</tbody>\n",
       "</table>\n"
      ],
      "text/latex": [
       "A matrix: 6 × 3 of type dbl\n",
       "\\begin{tabular}{r|lll}\n",
       "  & weight & size & bmi\\\\\n",
       "\\hline\n",
       "\tFabien & 60 & 1.75 & 19.59184\\\\\n",
       "\tPierre & 72 & 1.80 & 22.22222\\\\\n",
       "\tSandrine & 57 & 1.65 & 20.93664\\\\\n",
       "\tClaire & 90 & 1.90 & 24.93075\\\\\n",
       "\tBruno & 95 & 1.74 & 31.37799\\\\\n",
       "\tDelphine & 72 & 1.91 & 19.73630\\\\\n",
       "\\end{tabular}\n"
      ],
      "text/markdown": [
       "\n",
       "A matrix: 6 × 3 of type dbl\n",
       "\n",
       "| <!--/--> | weight | size | bmi |\n",
       "|---|---|---|---|\n",
       "| Fabien | 60 | 1.75 | 19.59184 |\n",
       "| Pierre | 72 | 1.80 | 22.22222 |\n",
       "| Sandrine | 57 | 1.65 | 20.93664 |\n",
       "| Claire | 90 | 1.90 | 24.93075 |\n",
       "| Bruno | 95 | 1.74 | 31.37799 |\n",
       "| Delphine | 72 | 1.91 | 19.73630 |\n",
       "\n"
      ],
      "text/plain": [
       "         weight size bmi     \n",
       "Fabien   60     1.75 19.59184\n",
       "Pierre   72     1.80 22.22222\n",
       "Sandrine 57     1.65 20.93664\n",
       "Claire   90     1.90 24.93075\n",
       "Bruno    95     1.74 31.37799\n",
       "Delphine 72     1.91 19.73630"
      ]
     },
     "metadata": {},
     "output_type": "display_data"
    },
    {
     "data": {
      "text/html": [
       "<table class=\"dataframe\">\n",
       "<caption>A matrix: 3 × 6 of type dbl</caption>\n",
       "<thead>\n",
       "\t<tr><th></th><th scope=col>Fabien</th><th scope=col>Pierre</th><th scope=col>Sandrine</th><th scope=col>Claire</th><th scope=col>Bruno</th><th scope=col>Delphine</th></tr>\n",
       "</thead>\n",
       "<tbody>\n",
       "\t<tr><th scope=row>weight</th><td>60.00000</td><td>72.00000</td><td>57.00000</td><td>90.00000</td><td>95.00000</td><td>72.0000</td></tr>\n",
       "\t<tr><th scope=row>size</th><td> 1.75000</td><td> 1.80000</td><td> 1.65000</td><td> 1.90000</td><td> 1.74000</td><td> 1.9100</td></tr>\n",
       "\t<tr><th scope=row>bmi</th><td>19.59184</td><td>22.22222</td><td>20.93664</td><td>24.93075</td><td>31.37799</td><td>19.7363</td></tr>\n",
       "</tbody>\n",
       "</table>\n"
      ],
      "text/latex": [
       "A matrix: 3 × 6 of type dbl\n",
       "\\begin{tabular}{r|llllll}\n",
       "  & Fabien & Pierre & Sandrine & Claire & Bruno & Delphine\\\\\n",
       "\\hline\n",
       "\tweight & 60.00000 & 72.00000 & 57.00000 & 90.00000 & 95.00000 & 72.0000\\\\\n",
       "\tsize &  1.75000 &  1.80000 &  1.65000 &  1.90000 &  1.74000 &  1.9100\\\\\n",
       "\tbmi & 19.59184 & 22.22222 & 20.93664 & 24.93075 & 31.37799 & 19.7363\\\\\n",
       "\\end{tabular}\n"
      ],
      "text/markdown": [
       "\n",
       "A matrix: 3 × 6 of type dbl\n",
       "\n",
       "| <!--/--> | Fabien | Pierre | Sandrine | Claire | Bruno | Delphine |\n",
       "|---|---|---|---|---|---|---|\n",
       "| weight | 60.00000 | 72.00000 | 57.00000 | 90.00000 | 95.00000 | 72.0000 |\n",
       "| size |  1.75000 |  1.80000 |  1.65000 |  1.90000 |  1.74000 |  1.9100 |\n",
       "| bmi | 19.59184 | 22.22222 | 20.93664 | 24.93075 | 31.37799 | 19.7363 |\n",
       "\n"
      ],
      "text/plain": [
       "       Fabien   Pierre   Sandrine Claire   Bruno    Delphine\n",
       "weight 60.00000 72.00000 57.00000 90.00000 95.00000 72.0000 \n",
       "size    1.75000  1.80000  1.65000  1.90000  1.74000  1.9100 \n",
       "bmi    19.59184 22.22222 20.93664 24.93075 31.37799 19.7363 "
      ]
     },
     "metadata": {},
     "output_type": "display_data"
    }
   ],
   "source": [
    "## Code cell n°71 ##\n",
    "\n",
    "myData2 <- cbind(weight, size, bmi)\n",
    "myData2\n",
    "myData3 <- rbind(weight, size, bmi)\n",
    "myData3"
   ]
  },
  {
   "cell_type": "markdown",
   "metadata": {},
   "source": [
    "- of course, operation can be applied to the values in the matrix"
   ]
  },
  {
   "cell_type": "code",
   "execution_count": 72,
   "metadata": {},
   "outputs": [
    {
     "data": {
      "text/html": [
       "<table class=\"dataframe\">\n",
       "<caption>A matrix: 6 × 3 of type dbl</caption>\n",
       "<thead>\n",
       "\t<tr><th></th><th scope=col>weight</th><th scope=col>size</th><th scope=col>bmi</th></tr>\n",
       "</thead>\n",
       "<tbody>\n",
       "\t<tr><th scope=row>Fabien</th><td>120</td><td>3.50</td><td>39.18367</td></tr>\n",
       "\t<tr><th scope=row>Pierre</th><td>144</td><td>3.60</td><td>44.44444</td></tr>\n",
       "\t<tr><th scope=row>Sandrine</th><td>114</td><td>3.30</td><td>41.87328</td></tr>\n",
       "\t<tr><th scope=row>Claire</th><td>180</td><td>3.80</td><td>49.86150</td></tr>\n",
       "\t<tr><th scope=row>Bruno</th><td>190</td><td>3.48</td><td>62.75598</td></tr>\n",
       "\t<tr><th scope=row>Delphine</th><td>144</td><td>3.82</td><td>39.47260</td></tr>\n",
       "</tbody>\n",
       "</table>\n"
      ],
      "text/latex": [
       "A matrix: 6 × 3 of type dbl\n",
       "\\begin{tabular}{r|lll}\n",
       "  & weight & size & bmi\\\\\n",
       "\\hline\n",
       "\tFabien & 120 & 3.50 & 39.18367\\\\\n",
       "\tPierre & 144 & 3.60 & 44.44444\\\\\n",
       "\tSandrine & 114 & 3.30 & 41.87328\\\\\n",
       "\tClaire & 180 & 3.80 & 49.86150\\\\\n",
       "\tBruno & 190 & 3.48 & 62.75598\\\\\n",
       "\tDelphine & 144 & 3.82 & 39.47260\\\\\n",
       "\\end{tabular}\n"
      ],
      "text/markdown": [
       "\n",
       "A matrix: 6 × 3 of type dbl\n",
       "\n",
       "| <!--/--> | weight | size | bmi |\n",
       "|---|---|---|---|\n",
       "| Fabien | 120 | 3.50 | 39.18367 |\n",
       "| Pierre | 144 | 3.60 | 44.44444 |\n",
       "| Sandrine | 114 | 3.30 | 41.87328 |\n",
       "| Claire | 180 | 3.80 | 49.86150 |\n",
       "| Bruno | 190 | 3.48 | 62.75598 |\n",
       "| Delphine | 144 | 3.82 | 39.47260 |\n",
       "\n"
      ],
      "text/plain": [
       "         weight size bmi     \n",
       "Fabien   120    3.50 39.18367\n",
       "Pierre   144    3.60 44.44444\n",
       "Sandrine 114    3.30 41.87328\n",
       "Claire   180    3.80 49.86150\n",
       "Bruno    190    3.48 62.75598\n",
       "Delphine 144    3.82 39.47260"
      ]
     },
     "metadata": {},
     "output_type": "display_data"
    },
    {
     "data": {
      "text/plain": [
       "     weight           size            bmi       \n",
       " Min.   :57.00   Min.   :1.650   Min.   :19.59  \n",
       " 1st Qu.:63.00   1st Qu.:1.742   1st Qu.:20.04  \n",
       " Median :72.00   Median :1.775   Median :21.58  \n",
       " Mean   :74.33   Mean   :1.792   Mean   :23.13  \n",
       " 3rd Qu.:85.50   3rd Qu.:1.875   3rd Qu.:24.25  \n",
       " Max.   :95.00   Max.   :1.910   Max.   :31.38  "
      ]
     },
     "metadata": {},
     "output_type": "display_data"
    },
    {
     "data": {
      "text/html": [
       "33.0858742362436"
      ],
      "text/latex": [
       "33.0858742362436"
      ],
      "text/markdown": [
       "33.0858742362436"
      ],
      "text/plain": [
       "[1] 33.08587"
      ]
     },
     "metadata": {},
     "output_type": "display_data"
    },
    {
     "data": {
      "text/html": [
       "74.3333333333333"
      ],
      "text/latex": [
       "74.3333333333333"
      ],
      "text/markdown": [
       "74.3333333333333"
      ],
      "text/plain": [
       "[1] 74.33333"
      ]
     },
     "metadata": {},
     "output_type": "display_data"
    }
   ],
   "source": [
    "## Code cell n°72 ##\n",
    "\n",
    "myData2*2\n",
    "summary(myData2)\n",
    "mean(myData2)\n",
    "mean(myData2[, 1])"
   ]
  },
  {
   "cell_type": "markdown",
   "metadata": {},
   "source": [
    "___\n",
    "\n",
    "## **IX - Dataframes**\n",
    "\n",
    "=  two-dimensinal object that can be heterogeneous between columns (but homogeneous within a column)"
   ]
  },
  {
   "cell_type": "markdown",
   "metadata": {},
   "source": [
    "### **IX.1. - Creating a dataframe:**\n",
    "\n",
    "- They are generated with the function `data.frame()`:\n",
    "\n",
    "This can be done **using existing vectors of same length** like the previoulsy generated \"weight\", \"size\" and \"bmi\" ."
   ]
  },
  {
   "cell_type": "code",
   "execution_count": 73,
   "metadata": {},
   "outputs": [
    {
     "data": {
      "text/html": [
       "<table class=\"dataframe\">\n",
       "<caption>A data.frame: 6 × 3</caption>\n",
       "<thead>\n",
       "\t<tr><th></th><th scope=col>weight</th><th scope=col>size</th><th scope=col>bmi</th></tr>\n",
       "\t<tr><th></th><th scope=col>&lt;dbl&gt;</th><th scope=col>&lt;dbl&gt;</th><th scope=col>&lt;dbl&gt;</th></tr>\n",
       "</thead>\n",
       "<tbody>\n",
       "\t<tr><th scope=row>Fabien</th><td>60</td><td>1.75</td><td>19.59184</td></tr>\n",
       "\t<tr><th scope=row>Pierre</th><td>72</td><td>1.80</td><td>22.22222</td></tr>\n",
       "\t<tr><th scope=row>Sandrine</th><td>57</td><td>1.65</td><td>20.93664</td></tr>\n",
       "\t<tr><th scope=row>Claire</th><td>90</td><td>1.90</td><td>24.93075</td></tr>\n",
       "\t<tr><th scope=row>Bruno</th><td>95</td><td>1.74</td><td>31.37799</td></tr>\n",
       "\t<tr><th scope=row>Delphine</th><td>72</td><td>1.91</td><td>19.73630</td></tr>\n",
       "</tbody>\n",
       "</table>\n"
      ],
      "text/latex": [
       "A data.frame: 6 × 3\n",
       "\\begin{tabular}{r|lll}\n",
       "  & weight & size & bmi\\\\\n",
       "  & <dbl> & <dbl> & <dbl>\\\\\n",
       "\\hline\n",
       "\tFabien & 60 & 1.75 & 19.59184\\\\\n",
       "\tPierre & 72 & 1.80 & 22.22222\\\\\n",
       "\tSandrine & 57 & 1.65 & 20.93664\\\\\n",
       "\tClaire & 90 & 1.90 & 24.93075\\\\\n",
       "\tBruno & 95 & 1.74 & 31.37799\\\\\n",
       "\tDelphine & 72 & 1.91 & 19.73630\\\\\n",
       "\\end{tabular}\n"
      ],
      "text/markdown": [
       "\n",
       "A data.frame: 6 × 3\n",
       "\n",
       "| <!--/--> | weight &lt;dbl&gt; | size &lt;dbl&gt; | bmi &lt;dbl&gt; |\n",
       "|---|---|---|---|\n",
       "| Fabien | 60 | 1.75 | 19.59184 |\n",
       "| Pierre | 72 | 1.80 | 22.22222 |\n",
       "| Sandrine | 57 | 1.65 | 20.93664 |\n",
       "| Claire | 90 | 1.90 | 24.93075 |\n",
       "| Bruno | 95 | 1.74 | 31.37799 |\n",
       "| Delphine | 72 | 1.91 | 19.73630 |\n",
       "\n"
      ],
      "text/plain": [
       "         weight size bmi     \n",
       "Fabien   60     1.75 19.59184\n",
       "Pierre   72     1.80 22.22222\n",
       "Sandrine 57     1.65 20.93664\n",
       "Claire   90     1.90 24.93075\n",
       "Bruno    95     1.74 31.37799\n",
       "Delphine 72     1.91 19.73630"
      ]
     },
     "metadata": {},
     "output_type": "display_data"
    }
   ],
   "source": [
    "## Code cell n°73 ##\n",
    "\n",
    "myDataf <- data.frame(weight, size, bmi)\n",
    "myDataf"
   ]
  },
  {
   "cell_type": "markdown",
   "metadata": {},
   "source": [
    "The obtained dataframe looks pretty much like the previous matrix myData2."
   ]
  },
  {
   "cell_type": "code",
   "execution_count": 74,
   "metadata": {},
   "outputs": [
    {
     "data": {
      "text/html": [
       "'data.frame'"
      ],
      "text/latex": [
       "'data.frame'"
      ],
      "text/markdown": [
       "'data.frame'"
      ],
      "text/plain": [
       "[1] \"data.frame\""
      ]
     },
     "metadata": {},
     "output_type": "display_data"
    }
   ],
   "source": [
    "## Code cell n°74 ##\n",
    "\n",
    "class(myDataf)"
   ]
  },
  {
   "cell_type": "code",
   "execution_count": 75,
   "metadata": {},
   "outputs": [
    {
     "name": "stdout",
     "output_type": "stream",
     "text": [
      "'data.frame':\t6 obs. of  3 variables:\n",
      " $ weight: num  60 72 57 90 95 72\n",
      " $ size  : num  1.75 1.8 1.65 1.9 1.74 1.91\n",
      " $ bmi   : num  19.6 22.2 20.9 24.9 31.4 ...\n"
     ]
    }
   ],
   "source": [
    "## Code cell n°75 ##\n",
    "\n",
    "str(myDataf)"
   ]
  },
  {
   "cell_type": "code",
   "execution_count": 76,
   "metadata": {},
   "outputs": [
    {
     "name": "stdout",
     "output_type": "stream",
     "text": [
      "[1] 6 3\n"
     ]
    }
   ],
   "source": [
    "## Code cell n°76 ##\n",
    "\n",
    "print(dim(myDataf))"
   ]
  },
  {
   "cell_type": "markdown",
   "metadata": {},
   "source": [
    ">*Note that if the vectors used to generate the dataframe are character strings, it is advised in versions < 4 to add the argument `stringsAsFactors=FALSE`*\n",
    "\n",
    "If the vectors that will generate the dataframe do not exist yet in the session, but you would like to initiate a dataframe to fill it during your analysis, you could imagine creating an empty dataframe. But this method is useless as it is impossible to fill the generated dataframe having 0 columns and rows."
   ]
  },
  {
   "cell_type": "code",
   "execution_count": 77,
   "metadata": {},
   "outputs": [
    {
     "data": {
      "text/html": [],
      "text/latex": [],
      "text/markdown": [],
      "text/plain": [
       "<0 x 0 matrix>"
      ]
     },
     "metadata": {},
     "output_type": "display_data"
    },
    {
     "data": {
      "text/html": [
       "<style>\n",
       ".list-inline {list-style: none; margin:0; padding: 0}\n",
       ".list-inline>li {display: inline-block}\n",
       ".list-inline>li:not(:last-child)::after {content: \"\\00b7\"; padding: 0 .5ex}\n",
       "</style>\n",
       "<ol class=list-inline><li>0</li><li>0</li></ol>\n"
      ],
      "text/latex": [
       "\\begin{enumerate*}\n",
       "\\item 0\n",
       "\\item 0\n",
       "\\end{enumerate*}\n"
      ],
      "text/markdown": [
       "1. 0\n",
       "2. 0\n",
       "\n",
       "\n"
      ],
      "text/plain": [
       "[1] 0 0"
      ]
     },
     "metadata": {},
     "output_type": "display_data"
    }
   ],
   "source": [
    "## Code cell n°77 ##\n",
    "\n",
    "d <- data.frame()\n",
    "d\n",
    "dim(d)"
   ]
  },
  {
   "cell_type": "markdown",
   "metadata": {},
   "source": [
    "- Dataframes can be generated by **converting a matrix into a dataframe** with `as.data.frame()`\n",
    "\n",
    "Let's try with the object myData2 we previously created. It is a matrix:"
   ]
  },
  {
   "cell_type": "code",
   "execution_count": 78,
   "metadata": {},
   "outputs": [
    {
     "data": {
      "text/html": [
       "<style>\n",
       ".list-inline {list-style: none; margin:0; padding: 0}\n",
       ".list-inline>li {display: inline-block}\n",
       ".list-inline>li:not(:last-child)::after {content: \"\\00b7\"; padding: 0 .5ex}\n",
       "</style>\n",
       "<ol class=list-inline><li>'matrix'</li><li>'array'</li></ol>\n"
      ],
      "text/latex": [
       "\\begin{enumerate*}\n",
       "\\item 'matrix'\n",
       "\\item 'array'\n",
       "\\end{enumerate*}\n"
      ],
      "text/markdown": [
       "1. 'matrix'\n",
       "2. 'array'\n",
       "\n",
       "\n"
      ],
      "text/plain": [
       "[1] \"matrix\" \"array\" "
      ]
     },
     "metadata": {},
     "output_type": "display_data"
    },
    {
     "data": {
      "text/html": [
       "'data.frame'"
      ],
      "text/latex": [
       "'data.frame'"
      ],
      "text/markdown": [
       "'data.frame'"
      ],
      "text/plain": [
       "[1] \"data.frame\""
      ]
     },
     "metadata": {},
     "output_type": "display_data"
    },
    {
     "name": "stdout",
     "output_type": "stream",
     "text": [
      "'data.frame':\t6 obs. of  3 variables:\n",
      " $ weight: num  60 72 57 90 95 72\n",
      " $ size  : num  1.75 1.8 1.65 1.9 1.74 1.91\n",
      " $ bmi   : num  19.6 22.2 20.9 24.9 31.4 ...\n"
     ]
    }
   ],
   "source": [
    "## Code cell n°78 ##\n",
    "\n",
    "class(myData2)\n",
    "class(as.data.frame(myData2))\n",
    "str(as.data.frame(myData2))"
   ]
  },
  {
   "cell_type": "markdown",
   "metadata": {},
   "source": [
    "You may also use `as.data.frame()` matrix generated by binding rows or columns:"
   ]
  },
  {
   "cell_type": "code",
   "execution_count": 79,
   "metadata": {},
   "outputs": [
    {
     "name": "stdout",
     "output_type": "stream",
     "text": [
      "'data.frame':\t2 obs. of  2 variables:\n",
      " $ V1: int  1 2\n",
      " $ V2: int  10 11\n"
     ]
    }
   ],
   "source": [
    "## Code cell n°79 ##\n",
    "\n",
    "d2 <- as.data.frame(cbind(1:2, 10:11))\n",
    "str(d2)"
   ]
  },
  {
   "cell_type": "markdown",
   "metadata": {},
   "source": [
    "So, similarly, we can do such a conversion of an empy matrix into a dataframe like in this example with a matrix of two rows and three columns currently filled with missing values:"
   ]
  },
  {
   "cell_type": "code",
   "execution_count": 80,
   "metadata": {},
   "outputs": [
    {
     "data": {
      "text/html": [
       "<table class=\"dataframe\">\n",
       "<caption>A data.frame: 2 × 3</caption>\n",
       "<thead>\n",
       "\t<tr><th scope=col>V1</th><th scope=col>V2</th><th scope=col>V3</th></tr>\n",
       "\t<tr><th scope=col>&lt;lgl&gt;</th><th scope=col>&lt;lgl&gt;</th><th scope=col>&lt;lgl&gt;</th></tr>\n",
       "</thead>\n",
       "<tbody>\n",
       "\t<tr><td>NA</td><td>NA</td><td>NA</td></tr>\n",
       "\t<tr><td>NA</td><td>NA</td><td>NA</td></tr>\n",
       "</tbody>\n",
       "</table>\n"
      ],
      "text/latex": [
       "A data.frame: 2 × 3\n",
       "\\begin{tabular}{lll}\n",
       " V1 & V2 & V3\\\\\n",
       " <lgl> & <lgl> & <lgl>\\\\\n",
       "\\hline\n",
       "\t NA & NA & NA\\\\\n",
       "\t NA & NA & NA\\\\\n",
       "\\end{tabular}\n"
      ],
      "text/markdown": [
       "\n",
       "A data.frame: 2 × 3\n",
       "\n",
       "| V1 &lt;lgl&gt; | V2 &lt;lgl&gt; | V3 &lt;lgl&gt; |\n",
       "|---|---|---|\n",
       "| NA | NA | NA |\n",
       "| NA | NA | NA |\n",
       "\n"
      ],
      "text/plain": [
       "  V1 V2 V3\n",
       "1 NA NA NA\n",
       "2 NA NA NA"
      ]
     },
     "metadata": {},
     "output_type": "display_data"
    },
    {
     "data": {
      "text/html": [
       "<style>\n",
       ".list-inline {list-style: none; margin:0; padding: 0}\n",
       ".list-inline>li {display: inline-block}\n",
       ".list-inline>li:not(:last-child)::after {content: \"\\00b7\"; padding: 0 .5ex}\n",
       "</style>\n",
       "<ol class=list-inline><li>2</li><li>3</li></ol>\n"
      ],
      "text/latex": [
       "\\begin{enumerate*}\n",
       "\\item 2\n",
       "\\item 3\n",
       "\\end{enumerate*}\n"
      ],
      "text/markdown": [
       "1. 2\n",
       "2. 3\n",
       "\n",
       "\n"
      ],
      "text/plain": [
       "[1] 2 3"
      ]
     },
     "metadata": {},
     "output_type": "display_data"
    },
    {
     "name": "stdout",
     "output_type": "stream",
     "text": [
      "'data.frame':\t2 obs. of  3 variables:\n",
      " $ V1: logi  NA NA\n",
      " $ V2: logi  NA NA\n",
      " $ V3: logi  NA NA\n"
     ]
    }
   ],
   "source": [
    "## Code cell n°80 ##\n",
    "\n",
    "d <- as.data.frame(matrix(NA, 2, 3))\n",
    "d\n",
    "dim(d)\n",
    "str(d)"
   ]
  },
  {
   "cell_type": "markdown",
   "metadata": {},
   "source": [
    "- Getting **row and column names** of a dataframe:"
   ]
  },
  {
   "cell_type": "markdown",
   "metadata": {},
   "source": [
    "You may use the same fonctions as the ones used for matrices: `rownames()` and `colnames()`:"
   ]
  },
  {
   "cell_type": "code",
   "execution_count": 81,
   "metadata": {},
   "outputs": [
    {
     "data": {
      "text/html": [
       "<style>\n",
       ".list-inline {list-style: none; margin:0; padding: 0}\n",
       ".list-inline>li {display: inline-block}\n",
       ".list-inline>li:not(:last-child)::after {content: \"\\00b7\"; padding: 0 .5ex}\n",
       "</style>\n",
       "<ol class=list-inline><li>'1'</li><li>'2'</li></ol>\n"
      ],
      "text/latex": [
       "\\begin{enumerate*}\n",
       "\\item '1'\n",
       "\\item '2'\n",
       "\\end{enumerate*}\n"
      ],
      "text/markdown": [
       "1. '1'\n",
       "2. '2'\n",
       "\n",
       "\n"
      ],
      "text/plain": [
       "[1] \"1\" \"2\""
      ]
     },
     "metadata": {},
     "output_type": "display_data"
    },
    {
     "data": {
      "text/html": [
       "<style>\n",
       ".list-inline {list-style: none; margin:0; padding: 0}\n",
       ".list-inline>li {display: inline-block}\n",
       ".list-inline>li:not(:last-child)::after {content: \"\\00b7\"; padding: 0 .5ex}\n",
       "</style>\n",
       "<ol class=list-inline><li>'V1'</li><li>'V2'</li><li>'V3'</li></ol>\n"
      ],
      "text/latex": [
       "\\begin{enumerate*}\n",
       "\\item 'V1'\n",
       "\\item 'V2'\n",
       "\\item 'V3'\n",
       "\\end{enumerate*}\n"
      ],
      "text/markdown": [
       "1. 'V1'\n",
       "2. 'V2'\n",
       "3. 'V3'\n",
       "\n",
       "\n"
      ],
      "text/plain": [
       "[1] \"V1\" \"V2\" \"V3\""
      ]
     },
     "metadata": {},
     "output_type": "display_data"
    }
   ],
   "source": [
    "## Code cell n°81 ##\n",
    "\n",
    "rownames(d)\n",
    "colnames(d)"
   ]
  },
  {
   "cell_type": "markdown",
   "metadata": {},
   "source": [
    "But it is better to use the functions dedicated to dataframes which are `row.names()` and `names()`:"
   ]
  },
  {
   "cell_type": "code",
   "execution_count": 82,
   "metadata": {},
   "outputs": [
    {
     "data": {
      "text/html": [
       "<style>\n",
       ".list-inline {list-style: none; margin:0; padding: 0}\n",
       ".list-inline>li {display: inline-block}\n",
       ".list-inline>li:not(:last-child)::after {content: \"\\00b7\"; padding: 0 .5ex}\n",
       "</style>\n",
       "<ol class=list-inline><li>'1'</li><li>'2'</li></ol>\n"
      ],
      "text/latex": [
       "\\begin{enumerate*}\n",
       "\\item '1'\n",
       "\\item '2'\n",
       "\\end{enumerate*}\n"
      ],
      "text/markdown": [
       "1. '1'\n",
       "2. '2'\n",
       "\n",
       "\n"
      ],
      "text/plain": [
       "[1] \"1\" \"2\""
      ]
     },
     "metadata": {},
     "output_type": "display_data"
    },
    {
     "data": {
      "text/html": [
       "<style>\n",
       ".list-inline {list-style: none; margin:0; padding: 0}\n",
       ".list-inline>li {display: inline-block}\n",
       ".list-inline>li:not(:last-child)::after {content: \"\\00b7\"; padding: 0 .5ex}\n",
       "</style>\n",
       "<ol class=list-inline><li>'V1'</li><li>'V2'</li><li>'V3'</li></ol>\n"
      ],
      "text/latex": [
       "\\begin{enumerate*}\n",
       "\\item 'V1'\n",
       "\\item 'V2'\n",
       "\\item 'V3'\n",
       "\\end{enumerate*}\n"
      ],
      "text/markdown": [
       "1. 'V1'\n",
       "2. 'V2'\n",
       "3. 'V3'\n",
       "\n",
       "\n"
      ],
      "text/plain": [
       "[1] \"V1\" \"V2\" \"V3\""
      ]
     },
     "metadata": {},
     "output_type": "display_data"
    }
   ],
   "source": [
    "## Code cell n°82 ##\n",
    "\n",
    "row.names(d)\n",
    "names(d)"
   ]
  },
  {
   "cell_type": "markdown",
   "metadata": {},
   "source": [
    "<div class=\"alert alert-block alert-danger\"><b>Caution:</b>\n",
    "    each row name must be unique in a dataframe!\n",
    "</div>"
   ]
  },
  {
   "cell_type": "markdown",
   "metadata": {},
   "source": [
    "- **Getting a variable from a dataframe:**\n",
    "\n",
    "To better follow, let's first diplay again myDataf"
   ]
  },
  {
   "cell_type": "code",
   "execution_count": 83,
   "metadata": {},
   "outputs": [
    {
     "name": "stdout",
     "output_type": "stream",
     "text": [
      "         weight size      bmi\n",
      "Fabien       60 1.75 19.59184\n",
      "Pierre       72 1.80 22.22222\n",
      "Sandrine     57 1.65 20.93664\n",
      "Claire       90 1.90 24.93075\n",
      "Bruno        95 1.74 31.37799\n",
      "Delphine     72 1.91 19.73630\n"
     ]
    }
   ],
   "source": [
    "## Code cell n°83 ##\n",
    "\n",
    "print(myDataf)"
   ]
  },
  {
   "cell_type": "markdown",
   "metadata": {},
   "source": [
    "Variables are the columns of a dataframe. You can extract the vector corresponding to a column from a dataframe with its `index`, with the `name` of the column inside`\"\"` or using the symbol `$`:"
   ]
  },
  {
   "cell_type": "code",
   "execution_count": 84,
   "metadata": {},
   "outputs": [
    {
     "name": "stdout",
     "output_type": "stream",
     "text": [
      "[1] 1.75 1.80 1.65 1.90 1.74 1.91\n",
      "[1] 1.75 1.80 1.65 1.90 1.74 1.91\n",
      "[1] 1.75 1.80 1.65 1.90 1.74 1.91\n"
     ]
    }
   ],
   "source": [
    "## Code cell n°84 ##\n",
    "\n",
    "print(myDataf[, 2])\n",
    "print(myDataf[, \"size\"])\n",
    "print(myDataf$size)"
   ]
  },
  {
   "cell_type": "markdown",
   "metadata": {},
   "source": [
    "- **Extracting rows from a dataframe:**\n",
    "\n",
    "You have two options to do so:\n",
    "\n",
    "1. either by specifying the index of the row"
   ]
  },
  {
   "cell_type": "code",
   "execution_count": 85,
   "metadata": {},
   "outputs": [
    {
     "data": {
      "text/html": [
       "<table class=\"dataframe\">\n",
       "<caption>A data.frame: 1 × 3</caption>\n",
       "<thead>\n",
       "\t<tr><th></th><th scope=col>weight</th><th scope=col>size</th><th scope=col>bmi</th></tr>\n",
       "\t<tr><th></th><th scope=col>&lt;dbl&gt;</th><th scope=col>&lt;dbl&gt;</th><th scope=col>&lt;dbl&gt;</th></tr>\n",
       "</thead>\n",
       "<tbody>\n",
       "\t<tr><th scope=row>Pierre</th><td>72</td><td>1.8</td><td>22.22222</td></tr>\n",
       "</tbody>\n",
       "</table>\n"
      ],
      "text/latex": [
       "A data.frame: 1 × 3\n",
       "\\begin{tabular}{r|lll}\n",
       "  & weight & size & bmi\\\\\n",
       "  & <dbl> & <dbl> & <dbl>\\\\\n",
       "\\hline\n",
       "\tPierre & 72 & 1.8 & 22.22222\\\\\n",
       "\\end{tabular}\n"
      ],
      "text/markdown": [
       "\n",
       "A data.frame: 1 × 3\n",
       "\n",
       "| <!--/--> | weight &lt;dbl&gt; | size &lt;dbl&gt; | bmi &lt;dbl&gt; |\n",
       "|---|---|---|---|\n",
       "| Pierre | 72 | 1.8 | 22.22222 |\n",
       "\n"
      ],
      "text/plain": [
       "       weight size bmi     \n",
       "Pierre 72     1.8  22.22222"
      ]
     },
     "metadata": {},
     "output_type": "display_data"
    }
   ],
   "source": [
    "## Code cell n°85 ##\n",
    "\n",
    "myDataf[2,]"
   ]
  },
  {
   "cell_type": "markdown",
   "metadata": {},
   "source": [
    "2. or by giving its name within the `\"\"` insie the squared brackets:"
   ]
  },
  {
   "cell_type": "code",
   "execution_count": 86,
   "metadata": {},
   "outputs": [
    {
     "data": {
      "text/html": [
       "<table class=\"dataframe\">\n",
       "<caption>A data.frame: 1 × 3</caption>\n",
       "<thead>\n",
       "\t<tr><th></th><th scope=col>weight</th><th scope=col>size</th><th scope=col>bmi</th></tr>\n",
       "\t<tr><th></th><th scope=col>&lt;dbl&gt;</th><th scope=col>&lt;dbl&gt;</th><th scope=col>&lt;dbl&gt;</th></tr>\n",
       "</thead>\n",
       "<tbody>\n",
       "\t<tr><th scope=row>Pierre</th><td>72</td><td>1.8</td><td>22.22222</td></tr>\n",
       "</tbody>\n",
       "</table>\n"
      ],
      "text/latex": [
       "A data.frame: 1 × 3\n",
       "\\begin{tabular}{r|lll}\n",
       "  & weight & size & bmi\\\\\n",
       "  & <dbl> & <dbl> & <dbl>\\\\\n",
       "\\hline\n",
       "\tPierre & 72 & 1.8 & 22.22222\\\\\n",
       "\\end{tabular}\n"
      ],
      "text/markdown": [
       "\n",
       "A data.frame: 1 × 3\n",
       "\n",
       "| <!--/--> | weight &lt;dbl&gt; | size &lt;dbl&gt; | bmi &lt;dbl&gt; |\n",
       "|---|---|---|---|\n",
       "| Pierre | 72 | 1.8 | 22.22222 |\n",
       "\n"
      ],
      "text/plain": [
       "       weight size bmi     \n",
       "Pierre 72     1.8  22.22222"
      ]
     },
     "metadata": {},
     "output_type": "display_data"
    }
   ],
   "source": [
    "## Code cell n°86 ##\n",
    "\n",
    "myDataf[\"Pierre\",]"
   ]
  },
  {
   "cell_type": "code",
   "execution_count": 87,
   "metadata": {},
   "outputs": [
    {
     "data": {
      "text/html": [
       "'data.frame'"
      ],
      "text/latex": [
       "'data.frame'"
      ],
      "text/markdown": [
       "'data.frame'"
      ],
      "text/plain": [
       "[1] \"data.frame\""
      ]
     },
     "metadata": {},
     "output_type": "display_data"
    }
   ],
   "source": [
    "## Code cell n°87 ##\n",
    "\n",
    "class(myDataf[\"Pierre\",])"
   ]
  },
  {
   "cell_type": "markdown",
   "metadata": {},
   "source": [
    "In both cases, you may notice that you obtain a dataframe and not a vector, even if you extract only one row.\n",
    "If you wish to get the vector corresponing to a row, you have to convert it with the `unlist()` function.\n",
    "\n",
    ">*Of note, dataframes are a special case of list variables of the same number of rows with unique row names.*"
   ]
  },
  {
   "cell_type": "code",
   "execution_count": 88,
   "metadata": {},
   "outputs": [
    {
     "name": "stdout",
     "output_type": "stream",
     "text": [
      "  weight     size      bmi \n",
      "72.00000  1.80000 22.22222 \n"
     ]
    },
    {
     "data": {
      "text/html": [
       "'numeric'"
      ],
      "text/latex": [
       "'numeric'"
      ],
      "text/markdown": [
       "'numeric'"
      ],
      "text/plain": [
       "[1] \"numeric\""
      ]
     },
     "metadata": {},
     "output_type": "display_data"
    }
   ],
   "source": [
    "## Code cell n°88 ##\n",
    "\n",
    "temp <- unlist(myDataf[\"Pierre\",])\n",
    "print(temp)\n",
    "class(temp)"
   ]
  },
  {
   "cell_type": "markdown",
   "metadata": {},
   "source": [
    "- **adding a column:** creating a new vector with characters and including it in the dataframe\n",
    "\n",
    "1. either you add one vector at a time:"
   ]
  },
  {
   "cell_type": "code",
   "execution_count": 89,
   "metadata": {},
   "outputs": [
    {
     "data": {
      "text/html": [
       "<table class=\"dataframe\">\n",
       "<caption>A data.frame: 2 × 3</caption>\n",
       "<thead>\n",
       "\t<tr><th scope=col>V1</th><th scope=col>V2</th><th scope=col>new</th></tr>\n",
       "\t<tr><th scope=col>&lt;int&gt;</th><th scope=col>&lt;int&gt;</th><th scope=col>&lt;int&gt;</th></tr>\n",
       "</thead>\n",
       "<tbody>\n",
       "\t<tr><td>1</td><td>10</td><td>1</td></tr>\n",
       "\t<tr><td>2</td><td>11</td><td>2</td></tr>\n",
       "</tbody>\n",
       "</table>\n"
      ],
      "text/latex": [
       "A data.frame: 2 × 3\n",
       "\\begin{tabular}{lll}\n",
       " V1 & V2 & new\\\\\n",
       " <int> & <int> & <int>\\\\\n",
       "\\hline\n",
       "\t 1 & 10 & 1\\\\\n",
       "\t 2 & 11 & 2\\\\\n",
       "\\end{tabular}\n"
      ],
      "text/markdown": [
       "\n",
       "A data.frame: 2 × 3\n",
       "\n",
       "| V1 &lt;int&gt; | V2 &lt;int&gt; | new &lt;int&gt; |\n",
       "|---|---|---|\n",
       "| 1 | 10 | 1 |\n",
       "| 2 | 11 | 2 |\n",
       "\n"
      ],
      "text/plain": [
       "  V1 V2 new\n",
       "1 1  10 1  \n",
       "2 2  11 2  "
      ]
     },
     "metadata": {},
     "output_type": "display_data"
    }
   ],
   "source": [
    "## Code cell n°89 ##\n",
    "\n",
    "d2$new <- 1:2\n",
    "d2"
   ]
  },
  {
   "cell_type": "markdown",
   "metadata": {},
   "source": [
    "Here is another example to add a colum \"sex\" to the dataframe myData using a vector called \"sex\". I changed the name of the vector but you could keep the same name!"
   ]
  },
  {
   "cell_type": "code",
   "execution_count": 90,
   "metadata": {},
   "outputs": [
    {
     "name": "stdout",
     "output_type": "stream",
     "text": [
      "[1] \"Man\"   \"Man\"   \"Woman\" \"Woman\" \"Man\"   \"Woman\"\n",
      "[1] \"Man\"   \"Man\"   \"Woman\" \"Woman\" \"Man\"   \"Woman\"\n"
     ]
    },
    {
     "data": {
      "text/html": [
       "<table class=\"dataframe\">\n",
       "<caption>A data.frame: 6 × 4</caption>\n",
       "<thead>\n",
       "\t<tr><th></th><th scope=col>weight</th><th scope=col>size</th><th scope=col>bmi</th><th scope=col>sex</th></tr>\n",
       "\t<tr><th></th><th scope=col>&lt;dbl&gt;</th><th scope=col>&lt;dbl&gt;</th><th scope=col>&lt;dbl&gt;</th><th scope=col>&lt;chr&gt;</th></tr>\n",
       "</thead>\n",
       "<tbody>\n",
       "\t<tr><th scope=row>Fabien</th><td>60</td><td>1.75</td><td>19.59184</td><td>Man  </td></tr>\n",
       "\t<tr><th scope=row>Pierre</th><td>72</td><td>1.80</td><td>22.22222</td><td>Man  </td></tr>\n",
       "\t<tr><th scope=row>Sandrine</th><td>57</td><td>1.65</td><td>20.93664</td><td>Woman</td></tr>\n",
       "\t<tr><th scope=row>Claire</th><td>90</td><td>1.90</td><td>24.93075</td><td>Woman</td></tr>\n",
       "\t<tr><th scope=row>Bruno</th><td>95</td><td>1.74</td><td>31.37799</td><td>Man  </td></tr>\n",
       "\t<tr><th scope=row>Delphine</th><td>72</td><td>1.91</td><td>19.73630</td><td>Woman</td></tr>\n",
       "</tbody>\n",
       "</table>\n"
      ],
      "text/latex": [
       "A data.frame: 6 × 4\n",
       "\\begin{tabular}{r|llll}\n",
       "  & weight & size & bmi & sex\\\\\n",
       "  & <dbl> & <dbl> & <dbl> & <chr>\\\\\n",
       "\\hline\n",
       "\tFabien & 60 & 1.75 & 19.59184 & Man  \\\\\n",
       "\tPierre & 72 & 1.80 & 22.22222 & Man  \\\\\n",
       "\tSandrine & 57 & 1.65 & 20.93664 & Woman\\\\\n",
       "\tClaire & 90 & 1.90 & 24.93075 & Woman\\\\\n",
       "\tBruno & 95 & 1.74 & 31.37799 & Man  \\\\\n",
       "\tDelphine & 72 & 1.91 & 19.73630 & Woman\\\\\n",
       "\\end{tabular}\n"
      ],
      "text/markdown": [
       "\n",
       "A data.frame: 6 × 4\n",
       "\n",
       "| <!--/--> | weight &lt;dbl&gt; | size &lt;dbl&gt; | bmi &lt;dbl&gt; | sex &lt;chr&gt; |\n",
       "|---|---|---|---|---|\n",
       "| Fabien | 60 | 1.75 | 19.59184 | Man   |\n",
       "| Pierre | 72 | 1.80 | 22.22222 | Man   |\n",
       "| Sandrine | 57 | 1.65 | 20.93664 | Woman |\n",
       "| Claire | 90 | 1.90 | 24.93075 | Woman |\n",
       "| Bruno | 95 | 1.74 | 31.37799 | Man   |\n",
       "| Delphine | 72 | 1.91 | 19.73630 | Woman |\n",
       "\n"
      ],
      "text/plain": [
       "         weight size bmi      sex  \n",
       "Fabien   60     1.75 19.59184 Man  \n",
       "Pierre   72     1.80 22.22222 Man  \n",
       "Sandrine 57     1.65 20.93664 Woman\n",
       "Claire   90     1.90 24.93075 Woman\n",
       "Bruno    95     1.74 31.37799 Man  \n",
       "Delphine 72     1.91 19.73630 Woman"
      ]
     },
     "metadata": {},
     "output_type": "display_data"
    },
    {
     "name": "stdout",
     "output_type": "stream",
     "text": [
      "'data.frame':\t6 obs. of  4 variables:\n",
      " $ weight: num  60 72 57 90 95 72\n",
      " $ size  : num  1.75 1.8 1.65 1.9 1.74 1.91\n",
      " $ bmi   : num  19.6 22.2 20.9 24.9 31.4 ...\n",
      " $ sex   : chr  \"Man\" \"Man\" \"Woman\" \"Woman\" ...\n"
     ]
    }
   ],
   "source": [
    "## Code cell n°90 ##\n",
    "\n",
    "gender <- c(\"Man\",\"Man\",\"Woman\",\"Woman\",\"Man\",\"Woman\")\n",
    "print(gender)\n",
    "myDataf$sex <- gender\n",
    "print(myDataf$sex)\n",
    "myDataf\n",
    "str(myDataf)"
   ]
  },
  {
   "cell_type": "markdown",
   "metadata": {},
   "source": [
    "2. or add several vectors or several columns from another dataframe at once using `data.frame()`:"
   ]
  },
  {
   "cell_type": "code",
   "execution_count": 91,
   "metadata": {},
   "outputs": [
    {
     "data": {
      "text/html": [
       "<table class=\"dataframe\">\n",
       "<caption>A data.frame: 2 × 6</caption>\n",
       "<thead>\n",
       "\t<tr><th scope=col>V1</th><th scope=col>V2</th><th scope=col>V3</th><th scope=col>V1.1</th><th scope=col>V2.1</th><th scope=col>new</th></tr>\n",
       "\t<tr><th scope=col>&lt;lgl&gt;</th><th scope=col>&lt;lgl&gt;</th><th scope=col>&lt;lgl&gt;</th><th scope=col>&lt;int&gt;</th><th scope=col>&lt;int&gt;</th><th scope=col>&lt;int&gt;</th></tr>\n",
       "</thead>\n",
       "<tbody>\n",
       "\t<tr><td>NA</td><td>NA</td><td>NA</td><td>1</td><td>10</td><td>1</td></tr>\n",
       "\t<tr><td>NA</td><td>NA</td><td>NA</td><td>2</td><td>11</td><td>2</td></tr>\n",
       "</tbody>\n",
       "</table>\n"
      ],
      "text/latex": [
       "A data.frame: 2 × 6\n",
       "\\begin{tabular}{llllll}\n",
       " V1 & V2 & V3 & V1.1 & V2.1 & new\\\\\n",
       " <lgl> & <lgl> & <lgl> & <int> & <int> & <int>\\\\\n",
       "\\hline\n",
       "\t NA & NA & NA & 1 & 10 & 1\\\\\n",
       "\t NA & NA & NA & 2 & 11 & 2\\\\\n",
       "\\end{tabular}\n"
      ],
      "text/markdown": [
       "\n",
       "A data.frame: 2 × 6\n",
       "\n",
       "| V1 &lt;lgl&gt; | V2 &lt;lgl&gt; | V3 &lt;lgl&gt; | V1.1 &lt;int&gt; | V2.1 &lt;int&gt; | new &lt;int&gt; |\n",
       "|---|---|---|---|---|---|\n",
       "| NA | NA | NA | 1 | 10 | 1 |\n",
       "| NA | NA | NA | 2 | 11 | 2 |\n",
       "\n"
      ],
      "text/plain": [
       "  V1 V2 V3 V1.1 V2.1 new\n",
       "1 NA NA NA 1    10   1  \n",
       "2 NA NA NA 2    11   2  "
      ]
     },
     "metadata": {},
     "output_type": "display_data"
    }
   ],
   "source": [
    "## Code cell n°91 ##\n",
    "\n",
    "d3 <-  data.frame(d, d2)\n",
    "d3"
   ]
  },
  {
   "cell_type": "markdown",
   "metadata": {},
   "source": [
    "<div class=\"alert alert-block alert-danger\"><b>Caution:</b> \n",
    "    You could also use <b>cbind()</b> but it is at risk as cbind() is rather a function for matrices. If you use it for dataframes, it will keep the data types only if you combine several variables of both dataframes. If you take only one variable from a dataframe, cbind() will convert it as a vector with a possible risk of coercion and of factorisation in versions of R < 4.\n",
    "</div>"
   ]
  },
  {
   "cell_type": "markdown",
   "metadata": {},
   "source": [
    "### **IX.2. - Reading a text file into R and vice versa**\n",
    "---"
   ]
  },
  {
   "cell_type": "markdown",
   "metadata": {},
   "source": [
    "#### **a. reading a text file into R**\n",
    "\n",
    "The function `read.table()` reads a delimited text file (tabulated, scv or other column separator) into R and **generates a dataframe**. \n",
    "\n",
    "Before importing the file `Temperature.txt` let's see how it looks like. Just double click on it. It is located in `~/m2meg-rnaseq-practicals6-7-r/data/`\n",
    "\n",
    "You will see it is a tab-delimited text file.\n",
    "\n",
    "Now let's import it in R by specifying the correct separator with the `read.table()` function:"
   ]
  },
  {
   "cell_type": "code",
   "execution_count": 92,
   "metadata": {},
   "outputs": [
    {
     "data": {
      "text/html": [
       "<table class=\"dataframe\">\n",
       "<caption>A data.frame: 12 × 2</caption>\n",
       "<thead>\n",
       "\t<tr><th scope=col>Month</th><th scope=col>Mean_Temp</th></tr>\n",
       "\t<tr><th scope=col>&lt;chr&gt;</th><th scope=col>&lt;dbl&gt;</th></tr>\n",
       "</thead>\n",
       "<tbody>\n",
       "\t<tr><td>January  </td><td> 2.0</td></tr>\n",
       "\t<tr><td>February </td><td> 2.6</td></tr>\n",
       "\t<tr><td>March    </td><td> 7.9</td></tr>\n",
       "\t<tr><td>April    </td><td>11.2</td></tr>\n",
       "\t<tr><td>May      </td><td>15.3</td></tr>\n",
       "\t<tr><td>June     </td><td>22.2</td></tr>\n",
       "\t<tr><td>July     </td><td>22.9</td></tr>\n",
       "\t<tr><td>August   </td><td>22.5</td></tr>\n",
       "\t<tr><td>September</td><td>17.3</td></tr>\n",
       "\t<tr><td>October  </td><td>11.7</td></tr>\n",
       "\t<tr><td>November </td><td> 5.2</td></tr>\n",
       "\t<tr><td>December </td><td> 2.8</td></tr>\n",
       "</tbody>\n",
       "</table>\n"
      ],
      "text/latex": [
       "A data.frame: 12 × 2\n",
       "\\begin{tabular}{ll}\n",
       " Month & Mean\\_Temp\\\\\n",
       " <chr> & <dbl>\\\\\n",
       "\\hline\n",
       "\t January   &  2.0\\\\\n",
       "\t February  &  2.6\\\\\n",
       "\t March     &  7.9\\\\\n",
       "\t April     & 11.2\\\\\n",
       "\t May       & 15.3\\\\\n",
       "\t June      & 22.2\\\\\n",
       "\t July      & 22.9\\\\\n",
       "\t August    & 22.5\\\\\n",
       "\t September & 17.3\\\\\n",
       "\t October   & 11.7\\\\\n",
       "\t November  &  5.2\\\\\n",
       "\t December  &  2.8\\\\\n",
       "\\end{tabular}\n"
      ],
      "text/markdown": [
       "\n",
       "A data.frame: 12 × 2\n",
       "\n",
       "| Month &lt;chr&gt; | Mean_Temp &lt;dbl&gt; |\n",
       "|---|---|\n",
       "| January   |  2.0 |\n",
       "| February  |  2.6 |\n",
       "| March     |  7.9 |\n",
       "| April     | 11.2 |\n",
       "| May       | 15.3 |\n",
       "| June      | 22.2 |\n",
       "| July      | 22.9 |\n",
       "| August    | 22.5 |\n",
       "| September | 17.3 |\n",
       "| October   | 11.7 |\n",
       "| November  |  5.2 |\n",
       "| December  |  2.8 |\n",
       "\n"
      ],
      "text/plain": [
       "   Month     Mean_Temp\n",
       "1  January    2.0     \n",
       "2  February   2.6     \n",
       "3  March      7.9     \n",
       "4  April     11.2     \n",
       "5  May       15.3     \n",
       "6  June      22.2     \n",
       "7  July      22.9     \n",
       "8  August    22.5     \n",
       "9  September 17.3     \n",
       "10 October   11.7     \n",
       "11 November   5.2     \n",
       "12 December   2.8     "
      ]
     },
     "metadata": {},
     "output_type": "display_data"
    },
    {
     "name": "stdout",
     "output_type": "stream",
     "text": [
      "'data.frame':\t12 obs. of  2 variables:\n",
      " $ Month    : chr  \"January\" \"February\" \"March\" \"April\" ...\n",
      " $ Mean_Temp: num  2 2.6 7.9 11.2 15.3 22.2 22.9 22.5 17.3 11.7 ...\n"
     ]
    }
   ],
   "source": [
    "## Code cell n°92 ##\n",
    "\n",
    "path_to_file <- \"Temperatures.txt\" \n",
    "temperatures <- read.table(path_to_file, sep=\"\\t\", header=T, stringsAsFactors=F)\n",
    "temperatures\n",
    "str(temperatures)"
   ]
  },
  {
   "cell_type": "markdown",
   "metadata": {},
   "source": [
    "In the above command, I used the argument `stringsAsFactors=FALSE`to avoid a factorisation of the columns with strings of character (here the \"Month\" column).\n",
    "In R versions < 4, the default value for this argument is `TRUE`. Let's see what would have happened:"
   ]
  },
  {
   "cell_type": "code",
   "execution_count": 93,
   "metadata": {},
   "outputs": [
    {
     "name": "stdout",
     "output_type": "stream",
     "text": [
      "'data.frame':\t12 obs. of  2 variables:\n",
      " $ Month    : Factor w/ 12 levels \"April\",\"August\",..: 5 4 8 1 9 7 6 2 12 11 ...\n",
      " $ Mean_Temp: num  2 2.6 7.9 11.2 15.3 22.2 22.9 22.5 17.3 11.7 ...\n"
     ]
    }
   ],
   "source": [
    "## Code cell n°93 ##\n",
    "\n",
    "temperatures.2 <- read.table(path_to_file, sep=\"\\t\", header=T, stringsAsFactors=TRUE)\n",
    "str(temperatures.2)"
   ]
  },
  {
   "cell_type": "markdown",
   "metadata": {},
   "source": [
    "Here the \"Month\" column has been factorised. How?"
   ]
  },
  {
   "cell_type": "code",
   "execution_count": 94,
   "metadata": {},
   "outputs": [
    {
     "data": {
      "text/html": [
       "<style>\n",
       ".list-inline {list-style: none; margin:0; padding: 0}\n",
       ".list-inline>li {display: inline-block}\n",
       ".list-inline>li:not(:last-child)::after {content: \"\\00b7\"; padding: 0 .5ex}\n",
       "</style>\n",
       "<ol class=list-inline><li>'April'</li><li>'August'</li><li>'December'</li><li>'February'</li><li>'January'</li><li>'July'</li><li>'June'</li><li>'March'</li><li>'May'</li><li>'November'</li><li>'October'</li><li>'September'</li></ol>\n"
      ],
      "text/latex": [
       "\\begin{enumerate*}\n",
       "\\item 'April'\n",
       "\\item 'August'\n",
       "\\item 'December'\n",
       "\\item 'February'\n",
       "\\item 'January'\n",
       "\\item 'July'\n",
       "\\item 'June'\n",
       "\\item 'March'\n",
       "\\item 'May'\n",
       "\\item 'November'\n",
       "\\item 'October'\n",
       "\\item 'September'\n",
       "\\end{enumerate*}\n"
      ],
      "text/markdown": [
       "1. 'April'\n",
       "2. 'August'\n",
       "3. 'December'\n",
       "4. 'February'\n",
       "5. 'January'\n",
       "6. 'July'\n",
       "7. 'June'\n",
       "8. 'March'\n",
       "9. 'May'\n",
       "10. 'November'\n",
       "11. 'October'\n",
       "12. 'September'\n",
       "\n",
       "\n"
      ],
      "text/plain": [
       " [1] \"April\"     \"August\"    \"December\"  \"February\"  \"January\"   \"July\"     \n",
       " [7] \"June\"      \"March\"     \"May\"       \"November\"  \"October\"   \"September\""
      ]
     },
     "metadata": {},
     "output_type": "display_data"
    }
   ],
   "source": [
    "## Code cell n°94 ##\n",
    "\n",
    "levels(temperatures.2$Month)"
   ]
  },
  {
   "cell_type": "markdown",
   "metadata": {},
   "source": [
    "By alphabetic order, which is not what you want!\n",
    "Thus always use `stringsAsFactors=FALSE`"
   ]
  },
  {
   "cell_type": "markdown",
   "metadata": {},
   "source": [
    "#### **b. writing a dataframe on your computer**\n",
    "\n",
    "Conversely, save a dataframe into your working directory with `write.table()`:"
   ]
  },
  {
   "cell_type": "code",
   "execution_count": 95,
   "metadata": {},
   "outputs": [],
   "source": [
    "## Code cell n°95 ##\n",
    "\n",
    "# save a dataframe as a text file in the working directory\n",
    "write.table(myDataf, file=\"bmi_data.txt\", sep=\"\\t\", quote=F, col.names=T)"
   ]
  },
  {
   "cell_type": "markdown",
   "metadata": {},
   "source": [
    "Have a look at it by double clicking on it in your working directory."
   ]
  },
  {
   "cell_type": "markdown",
   "metadata": {},
   "source": [
    "and check you can import it back in R again:"
   ]
  },
  {
   "cell_type": "code",
   "execution_count": 96,
   "metadata": {},
   "outputs": [
    {
     "data": {
      "text/html": [
       "<table class=\"dataframe\">\n",
       "<caption>A data.frame: 6 × 4</caption>\n",
       "<thead>\n",
       "\t<tr><th></th><th scope=col>weight</th><th scope=col>size</th><th scope=col>bmi</th><th scope=col>sex</th></tr>\n",
       "\t<tr><th></th><th scope=col>&lt;int&gt;</th><th scope=col>&lt;dbl&gt;</th><th scope=col>&lt;dbl&gt;</th><th scope=col>&lt;chr&gt;</th></tr>\n",
       "</thead>\n",
       "<tbody>\n",
       "\t<tr><th scope=row>Fabien</th><td>60</td><td>1.75</td><td>19.59184</td><td>Man  </td></tr>\n",
       "\t<tr><th scope=row>Pierre</th><td>72</td><td>1.80</td><td>22.22222</td><td>Man  </td></tr>\n",
       "\t<tr><th scope=row>Sandrine</th><td>57</td><td>1.65</td><td>20.93664</td><td>Woman</td></tr>\n",
       "\t<tr><th scope=row>Claire</th><td>90</td><td>1.90</td><td>24.93075</td><td>Woman</td></tr>\n",
       "\t<tr><th scope=row>Bruno</th><td>95</td><td>1.74</td><td>31.37799</td><td>Man  </td></tr>\n",
       "\t<tr><th scope=row>Delphine</th><td>72</td><td>1.91</td><td>19.73630</td><td>Woman</td></tr>\n",
       "</tbody>\n",
       "</table>\n"
      ],
      "text/latex": [
       "A data.frame: 6 × 4\n",
       "\\begin{tabular}{r|llll}\n",
       "  & weight & size & bmi & sex\\\\\n",
       "  & <int> & <dbl> & <dbl> & <chr>\\\\\n",
       "\\hline\n",
       "\tFabien & 60 & 1.75 & 19.59184 & Man  \\\\\n",
       "\tPierre & 72 & 1.80 & 22.22222 & Man  \\\\\n",
       "\tSandrine & 57 & 1.65 & 20.93664 & Woman\\\\\n",
       "\tClaire & 90 & 1.90 & 24.93075 & Woman\\\\\n",
       "\tBruno & 95 & 1.74 & 31.37799 & Man  \\\\\n",
       "\tDelphine & 72 & 1.91 & 19.73630 & Woman\\\\\n",
       "\\end{tabular}\n"
      ],
      "text/markdown": [
       "\n",
       "A data.frame: 6 × 4\n",
       "\n",
       "| <!--/--> | weight &lt;int&gt; | size &lt;dbl&gt; | bmi &lt;dbl&gt; | sex &lt;chr&gt; |\n",
       "|---|---|---|---|---|\n",
       "| Fabien | 60 | 1.75 | 19.59184 | Man   |\n",
       "| Pierre | 72 | 1.80 | 22.22222 | Man   |\n",
       "| Sandrine | 57 | 1.65 | 20.93664 | Woman |\n",
       "| Claire | 90 | 1.90 | 24.93075 | Woman |\n",
       "| Bruno | 95 | 1.74 | 31.37799 | Man   |\n",
       "| Delphine | 72 | 1.91 | 19.73630 | Woman |\n",
       "\n"
      ],
      "text/plain": [
       "         weight size bmi      sex  \n",
       "Fabien   60     1.75 19.59184 Man  \n",
       "Pierre   72     1.80 22.22222 Man  \n",
       "Sandrine 57     1.65 20.93664 Woman\n",
       "Claire   90     1.90 24.93075 Woman\n",
       "Bruno    95     1.74 31.37799 Man  \n",
       "Delphine 72     1.91 19.73630 Woman"
      ]
     },
     "metadata": {},
     "output_type": "display_data"
    },
    {
     "data": {
      "text/html": [
       "TRUE"
      ],
      "text/latex": [
       "TRUE"
      ],
      "text/markdown": [
       "TRUE"
      ],
      "text/plain": [
       "[1] TRUE"
      ]
     },
     "metadata": {},
     "output_type": "display_data"
    }
   ],
   "source": [
    "## Code cell n°96 ##\n",
    "\n",
    "rm(myDataf)\n",
    "myDataf <- read.table(\"bmi_data.txt\", sep=\"\\t\", header=T, stringsAsFactors=F)\n",
    "head(myDataf) #myDataf is again accessible\n",
    "file.remove(\"bmi_data.txt\") #to clean the working directory"
   ]
  },
  {
   "cell_type": "markdown",
   "metadata": {},
   "source": [
    "### **IX.3. - Subsetting a dataframe**\n",
    "---"
   ]
  },
  {
   "cell_type": "markdown",
   "metadata": {},
   "source": [
    "#### **a. The function `which()` returns the index of what is TRUE in a tested condition:**"
   ]
  },
  {
   "cell_type": "code",
   "execution_count": 97,
   "metadata": {},
   "outputs": [
    {
     "name": "stdout",
     "output_type": "stream",
     "text": [
      "[1] 3 4 6\n"
     ]
    }
   ],
   "source": [
    "## Code cell n°97 ##\n",
    "\n",
    "print(which ( myDataf$sex == \"Woman\") )"
   ]
  },
  {
   "cell_type": "markdown",
   "metadata": {},
   "source": [
    "Here, we obtain a vector where 3, 4 and 6 corrrespond to the positions or indexes (1-based) of the occurence \"Woman\" in the vector/variable myDataf$sex. We can the use this vector as usual in a dataframe before the \",\" to select the corresponding rows."
   ]
  },
  {
   "cell_type": "code",
   "execution_count": 98,
   "metadata": {},
   "outputs": [
    {
     "data": {
      "text/html": [
       "<table class=\"dataframe\">\n",
       "<caption>A data.frame: 3 × 4</caption>\n",
       "<thead>\n",
       "\t<tr><th></th><th scope=col>weight</th><th scope=col>size</th><th scope=col>bmi</th><th scope=col>sex</th></tr>\n",
       "\t<tr><th></th><th scope=col>&lt;int&gt;</th><th scope=col>&lt;dbl&gt;</th><th scope=col>&lt;dbl&gt;</th><th scope=col>&lt;chr&gt;</th></tr>\n",
       "</thead>\n",
       "<tbody>\n",
       "\t<tr><th scope=row>Sandrine</th><td>57</td><td>1.65</td><td>20.93664</td><td>Woman</td></tr>\n",
       "\t<tr><th scope=row>Claire</th><td>90</td><td>1.90</td><td>24.93075</td><td>Woman</td></tr>\n",
       "\t<tr><th scope=row>Delphine</th><td>72</td><td>1.91</td><td>19.73630</td><td>Woman</td></tr>\n",
       "</tbody>\n",
       "</table>\n"
      ],
      "text/latex": [
       "A data.frame: 3 × 4\n",
       "\\begin{tabular}{r|llll}\n",
       "  & weight & size & bmi & sex\\\\\n",
       "  & <int> & <dbl> & <dbl> & <chr>\\\\\n",
       "\\hline\n",
       "\tSandrine & 57 & 1.65 & 20.93664 & Woman\\\\\n",
       "\tClaire & 90 & 1.90 & 24.93075 & Woman\\\\\n",
       "\tDelphine & 72 & 1.91 & 19.73630 & Woman\\\\\n",
       "\\end{tabular}\n"
      ],
      "text/markdown": [
       "\n",
       "A data.frame: 3 × 4\n",
       "\n",
       "| <!--/--> | weight &lt;int&gt; | size &lt;dbl&gt; | bmi &lt;dbl&gt; | sex &lt;chr&gt; |\n",
       "|---|---|---|---|---|\n",
       "| Sandrine | 57 | 1.65 | 20.93664 | Woman |\n",
       "| Claire | 90 | 1.90 | 24.93075 | Woman |\n",
       "| Delphine | 72 | 1.91 | 19.73630 | Woman |\n",
       "\n"
      ],
      "text/plain": [
       "         weight size bmi      sex  \n",
       "Sandrine 57     1.65 20.93664 Woman\n",
       "Claire   90     1.90 24.93075 Woman\n",
       "Delphine 72     1.91 19.73630 Woman"
      ]
     },
     "metadata": {},
     "output_type": "display_data"
    }
   ],
   "source": [
    "## Code cell n°98 ##\n",
    "\n",
    "myDataf [ which ( myDataf$sex == \"Woman\") , ] "
   ]
  },
  {
   "cell_type": "code",
   "execution_count": 99,
   "metadata": {},
   "outputs": [
    {
     "name": "stdout",
     "output_type": "stream",
     "text": [
      "'data.frame':\t3 obs. of  4 variables:\n",
      " $ weight: int  57 90 72\n",
      " $ size  : num  1.65 1.9 1.91\n",
      " $ bmi   : num  20.9 24.9 19.7\n",
      " $ sex   : chr  \"Woman\" \"Woman\" \"Woman\"\n"
     ]
    }
   ],
   "source": [
    "## Code cell n°99 ##\n",
    "\n",
    "str(myDataf [ which ( myDataf$sex == \"Woman\") , ])"
   ]
  },
  {
   "cell_type": "markdown",
   "metadata": {},
   "source": [
    "Instead of \"==\" one can use ̀`!=` for \"is different\" to detect what does not match."
   ]
  },
  {
   "cell_type": "code",
   "execution_count": 100,
   "metadata": {},
   "outputs": [
    {
     "name": "stdout",
     "output_type": "stream",
     "text": [
      "[1] 3 4 6\n"
     ]
    }
   ],
   "source": [
    "## Code cell n°100 ##\n",
    "\n",
    "print(which ( myDataf$sex != \"Man\"))"
   ]
  },
  {
   "cell_type": "markdown",
   "metadata": {},
   "source": [
    "Abother method would be to add `!`  for \"not\" before the test, to get the complementary result:"
   ]
  },
  {
   "cell_type": "code",
   "execution_count": 101,
   "metadata": {},
   "outputs": [
    {
     "name": "stdout",
     "output_type": "stream",
     "text": [
      "[1] 3 4 6\n"
     ]
    }
   ],
   "source": [
    "## Code cell n°101 ##\n",
    "\n",
    "print(which (! myDataf$sex == \"Man\"))"
   ]
  },
  {
   "cell_type": "markdown",
   "metadata": {},
   "source": [
    "<div class=\"alert alert-block alert-danger\"><b>Caution:</b>\n",
    "    What happens if you do not use `which()`?\n",
    "</div>"
   ]
  },
  {
   "cell_type": "markdown",
   "metadata": {},
   "source": [
    "Lets' make a copy of our dataframe and replace the gender of Claire by a missing value:"
   ]
  },
  {
   "cell_type": "code",
   "execution_count": 102,
   "metadata": {},
   "outputs": [
    {
     "data": {
      "text/html": [
       "<table class=\"dataframe\">\n",
       "<caption>A data.frame: 6 × 4</caption>\n",
       "<thead>\n",
       "\t<tr><th></th><th scope=col>weight</th><th scope=col>size</th><th scope=col>bmi</th><th scope=col>sex</th></tr>\n",
       "\t<tr><th></th><th scope=col>&lt;int&gt;</th><th scope=col>&lt;dbl&gt;</th><th scope=col>&lt;dbl&gt;</th><th scope=col>&lt;chr&gt;</th></tr>\n",
       "</thead>\n",
       "<tbody>\n",
       "\t<tr><th scope=row>Fabien</th><td>60</td><td>1.75</td><td>19.59184</td><td>Man  </td></tr>\n",
       "\t<tr><th scope=row>Pierre</th><td>72</td><td>1.80</td><td>22.22222</td><td>Man  </td></tr>\n",
       "\t<tr><th scope=row>Sandrine</th><td>57</td><td>1.65</td><td>20.93664</td><td>Woman</td></tr>\n",
       "\t<tr><th scope=row>Claire</th><td>90</td><td>1.90</td><td>24.93075</td><td>NA   </td></tr>\n",
       "\t<tr><th scope=row>Bruno</th><td>95</td><td>1.74</td><td>31.37799</td><td>Man  </td></tr>\n",
       "\t<tr><th scope=row>Delphine</th><td>72</td><td>1.91</td><td>19.73630</td><td>Woman</td></tr>\n",
       "</tbody>\n",
       "</table>\n"
      ],
      "text/latex": [
       "A data.frame: 6 × 4\n",
       "\\begin{tabular}{r|llll}\n",
       "  & weight & size & bmi & sex\\\\\n",
       "  & <int> & <dbl> & <dbl> & <chr>\\\\\n",
       "\\hline\n",
       "\tFabien & 60 & 1.75 & 19.59184 & Man  \\\\\n",
       "\tPierre & 72 & 1.80 & 22.22222 & Man  \\\\\n",
       "\tSandrine & 57 & 1.65 & 20.93664 & Woman\\\\\n",
       "\tClaire & 90 & 1.90 & 24.93075 & NA   \\\\\n",
       "\tBruno & 95 & 1.74 & 31.37799 & Man  \\\\\n",
       "\tDelphine & 72 & 1.91 & 19.73630 & Woman\\\\\n",
       "\\end{tabular}\n"
      ],
      "text/markdown": [
       "\n",
       "A data.frame: 6 × 4\n",
       "\n",
       "| <!--/--> | weight &lt;int&gt; | size &lt;dbl&gt; | bmi &lt;dbl&gt; | sex &lt;chr&gt; |\n",
       "|---|---|---|---|---|\n",
       "| Fabien | 60 | 1.75 | 19.59184 | Man   |\n",
       "| Pierre | 72 | 1.80 | 22.22222 | Man   |\n",
       "| Sandrine | 57 | 1.65 | 20.93664 | Woman |\n",
       "| Claire | 90 | 1.90 | 24.93075 | NA    |\n",
       "| Bruno | 95 | 1.74 | 31.37799 | Man   |\n",
       "| Delphine | 72 | 1.91 | 19.73630 | Woman |\n",
       "\n"
      ],
      "text/plain": [
       "         weight size bmi      sex  \n",
       "Fabien   60     1.75 19.59184 Man  \n",
       "Pierre   72     1.80 22.22222 Man  \n",
       "Sandrine 57     1.65 20.93664 Woman\n",
       "Claire   90     1.90 24.93075 NA   \n",
       "Bruno    95     1.74 31.37799 Man  \n",
       "Delphine 72     1.91 19.73630 Woman"
      ]
     },
     "metadata": {},
     "output_type": "display_data"
    }
   ],
   "source": [
    "## Code cell n°102 ##\n",
    "\n",
    "myDataf2 <- myDataf\n",
    "myDataf2[\"Claire\", \"sex\"] <- NA\n",
    "myDataf2"
   ]
  },
  {
   "cell_type": "markdown",
   "metadata": {},
   "source": [
    "and rerun the same command as above without which() on the new myDataf2:"
   ]
  },
  {
   "cell_type": "code",
   "execution_count": 103,
   "metadata": {},
   "outputs": [
    {
     "data": {
      "text/html": [
       "<table class=\"dataframe\">\n",
       "<caption>A data.frame: 3 × 4</caption>\n",
       "<thead>\n",
       "\t<tr><th></th><th scope=col>weight</th><th scope=col>size</th><th scope=col>bmi</th><th scope=col>sex</th></tr>\n",
       "\t<tr><th></th><th scope=col>&lt;int&gt;</th><th scope=col>&lt;dbl&gt;</th><th scope=col>&lt;dbl&gt;</th><th scope=col>&lt;chr&gt;</th></tr>\n",
       "</thead>\n",
       "<tbody>\n",
       "\t<tr><th scope=row>Sandrine</th><td>57</td><td>1.65</td><td>20.93664</td><td>Woman</td></tr>\n",
       "\t<tr><th scope=row>NA</th><td>NA</td><td>  NA</td><td>      NA</td><td>NA   </td></tr>\n",
       "\t<tr><th scope=row>Delphine</th><td>72</td><td>1.91</td><td>19.73630</td><td>Woman</td></tr>\n",
       "</tbody>\n",
       "</table>\n"
      ],
      "text/latex": [
       "A data.frame: 3 × 4\n",
       "\\begin{tabular}{r|llll}\n",
       "  & weight & size & bmi & sex\\\\\n",
       "  & <int> & <dbl> & <dbl> & <chr>\\\\\n",
       "\\hline\n",
       "\tSandrine & 57 & 1.65 & 20.93664 & Woman\\\\\n",
       "\tNA & NA &   NA &       NA & NA   \\\\\n",
       "\tDelphine & 72 & 1.91 & 19.73630 & Woman\\\\\n",
       "\\end{tabular}\n"
      ],
      "text/markdown": [
       "\n",
       "A data.frame: 3 × 4\n",
       "\n",
       "| <!--/--> | weight &lt;int&gt; | size &lt;dbl&gt; | bmi &lt;dbl&gt; | sex &lt;chr&gt; |\n",
       "|---|---|---|---|---|\n",
       "| Sandrine | 57 | 1.65 | 20.93664 | Woman |\n",
       "| NA | NA |   NA |       NA | NA    |\n",
       "| Delphine | 72 | 1.91 | 19.73630 | Woman |\n",
       "\n"
      ],
      "text/plain": [
       "         weight size bmi      sex  \n",
       "Sandrine 57     1.65 20.93664 Woman\n",
       "NA       NA       NA       NA NA   \n",
       "Delphine 72     1.91 19.73630 Woman"
      ]
     },
     "metadata": {},
     "output_type": "display_data"
    }
   ],
   "source": [
    "## Code cell n°103 ##\n",
    "\n",
    "myDataf2[myDataf2$sex == \"Woman\",]"
   ]
  },
  {
   "cell_type": "code",
   "execution_count": 104,
   "metadata": {},
   "outputs": [
    {
     "data": {
      "text/html": [
       "<table class=\"dataframe\">\n",
       "<caption>A data.frame: 2 × 4</caption>\n",
       "<thead>\n",
       "\t<tr><th></th><th scope=col>weight</th><th scope=col>size</th><th scope=col>bmi</th><th scope=col>sex</th></tr>\n",
       "\t<tr><th></th><th scope=col>&lt;int&gt;</th><th scope=col>&lt;dbl&gt;</th><th scope=col>&lt;dbl&gt;</th><th scope=col>&lt;chr&gt;</th></tr>\n",
       "</thead>\n",
       "<tbody>\n",
       "\t<tr><th scope=row>Sandrine</th><td>57</td><td>1.65</td><td>20.93664</td><td>Woman</td></tr>\n",
       "\t<tr><th scope=row>Delphine</th><td>72</td><td>1.91</td><td>19.73630</td><td>Woman</td></tr>\n",
       "</tbody>\n",
       "</table>\n"
      ],
      "text/latex": [
       "A data.frame: 2 × 4\n",
       "\\begin{tabular}{r|llll}\n",
       "  & weight & size & bmi & sex\\\\\n",
       "  & <int> & <dbl> & <dbl> & <chr>\\\\\n",
       "\\hline\n",
       "\tSandrine & 57 & 1.65 & 20.93664 & Woman\\\\\n",
       "\tDelphine & 72 & 1.91 & 19.73630 & Woman\\\\\n",
       "\\end{tabular}\n"
      ],
      "text/markdown": [
       "\n",
       "A data.frame: 2 × 4\n",
       "\n",
       "| <!--/--> | weight &lt;int&gt; | size &lt;dbl&gt; | bmi &lt;dbl&gt; | sex &lt;chr&gt; |\n",
       "|---|---|---|---|---|\n",
       "| Sandrine | 57 | 1.65 | 20.93664 | Woman |\n",
       "| Delphine | 72 | 1.91 | 19.73630 | Woman |\n",
       "\n"
      ],
      "text/plain": [
       "         weight size bmi      sex  \n",
       "Sandrine 57     1.65 20.93664 Woman\n",
       "Delphine 72     1.91 19.73630 Woman"
      ]
     },
     "metadata": {},
     "output_type": "display_data"
    }
   ],
   "source": [
    "## Code cell n°104 ##\n",
    "\n",
    "myDataf2[which(myDataf2$sex == \"Woman\"),]"
   ]
  },
  {
   "cell_type": "markdown",
   "metadata": {},
   "source": [
    "<div class=\"alert alert-block alert-danger\"><b>Caution:</b>\n",
    "    If you have missing data and you forget to use which(), you will also return them.<b> =>  Always use which()</b>\n",
    "</div>"
   ]
  },
  {
   "cell_type": "markdown",
   "metadata": {},
   "source": [
    "#### **b. One can also search for a pattern with `grep()`:**\n",
    "\n",
    "It returns the index of what matches, even partially."
   ]
  },
  {
   "cell_type": "code",
   "execution_count": 105,
   "metadata": {},
   "outputs": [
    {
     "name": "stdout",
     "output_type": "stream",
     "text": [
      "[1] 3 4 6\n"
     ]
    }
   ],
   "source": [
    "## Code cell n°105 ##\n",
    "\n",
    "print(grep(\"Wom\", myDataf$sex))"
   ]
  },
  {
   "cell_type": "code",
   "execution_count": 106,
   "metadata": {},
   "outputs": [
    {
     "name": "stdout",
     "output_type": "stream",
     "text": [
      "[1] 3 4 6\n"
     ]
    }
   ],
   "source": [
    "## Code cell n°106 ##\n",
    "\n",
    "print(grep(\"Woman\", myDataf$sex))"
   ]
  },
  {
   "cell_type": "code",
   "execution_count": 107,
   "metadata": {},
   "outputs": [
    {
     "data": {
      "text/html": [
       "<table class=\"dataframe\">\n",
       "<caption>A data.frame: 3 × 4</caption>\n",
       "<thead>\n",
       "\t<tr><th></th><th scope=col>weight</th><th scope=col>size</th><th scope=col>bmi</th><th scope=col>sex</th></tr>\n",
       "\t<tr><th></th><th scope=col>&lt;int&gt;</th><th scope=col>&lt;dbl&gt;</th><th scope=col>&lt;dbl&gt;</th><th scope=col>&lt;chr&gt;</th></tr>\n",
       "</thead>\n",
       "<tbody>\n",
       "\t<tr><th scope=row>Sandrine</th><td>57</td><td>1.65</td><td>20.93664</td><td>Woman</td></tr>\n",
       "\t<tr><th scope=row>Claire</th><td>90</td><td>1.90</td><td>24.93075</td><td>Woman</td></tr>\n",
       "\t<tr><th scope=row>Delphine</th><td>72</td><td>1.91</td><td>19.73630</td><td>Woman</td></tr>\n",
       "</tbody>\n",
       "</table>\n"
      ],
      "text/latex": [
       "A data.frame: 3 × 4\n",
       "\\begin{tabular}{r|llll}\n",
       "  & weight & size & bmi & sex\\\\\n",
       "  & <int> & <dbl> & <dbl> & <chr>\\\\\n",
       "\\hline\n",
       "\tSandrine & 57 & 1.65 & 20.93664 & Woman\\\\\n",
       "\tClaire & 90 & 1.90 & 24.93075 & Woman\\\\\n",
       "\tDelphine & 72 & 1.91 & 19.73630 & Woman\\\\\n",
       "\\end{tabular}\n"
      ],
      "text/markdown": [
       "\n",
       "A data.frame: 3 × 4\n",
       "\n",
       "| <!--/--> | weight &lt;int&gt; | size &lt;dbl&gt; | bmi &lt;dbl&gt; | sex &lt;chr&gt; |\n",
       "|---|---|---|---|---|\n",
       "| Sandrine | 57 | 1.65 | 20.93664 | Woman |\n",
       "| Claire | 90 | 1.90 | 24.93075 | Woman |\n",
       "| Delphine | 72 | 1.91 | 19.73630 | Woman |\n",
       "\n"
      ],
      "text/plain": [
       "         weight size bmi      sex  \n",
       "Sandrine 57     1.65 20.93664 Woman\n",
       "Claire   90     1.90 24.93075 Woman\n",
       "Delphine 72     1.91 19.73630 Woman"
      ]
     },
     "metadata": {},
     "output_type": "display_data"
    }
   ],
   "source": [
    "## Code cell n°107 ##\n",
    "\n",
    "myDataf [grep(\"Woman\", myDataf$sex), ] "
   ]
  },
  {
   "cell_type": "code",
   "execution_count": 108,
   "metadata": {},
   "outputs": [
    {
     "name": "stdout",
     "output_type": "stream",
     "text": [
      "[1] 1 3 4\n"
     ]
    }
   ],
   "source": [
    "## Code cell n°108 ##\n",
    "\n",
    "print(grep(\"a\", row.names(myDataf)))"
   ]
  },
  {
   "cell_type": "code",
   "execution_count": 109,
   "metadata": {},
   "outputs": [
    {
     "data": {
      "text/html": [
       "<table class=\"dataframe\">\n",
       "<caption>A data.frame: 3 × 4</caption>\n",
       "<thead>\n",
       "\t<tr><th></th><th scope=col>weight</th><th scope=col>size</th><th scope=col>bmi</th><th scope=col>sex</th></tr>\n",
       "\t<tr><th></th><th scope=col>&lt;int&gt;</th><th scope=col>&lt;dbl&gt;</th><th scope=col>&lt;dbl&gt;</th><th scope=col>&lt;chr&gt;</th></tr>\n",
       "</thead>\n",
       "<tbody>\n",
       "\t<tr><th scope=row>Fabien</th><td>60</td><td>1.75</td><td>19.59184</td><td>Man  </td></tr>\n",
       "\t<tr><th scope=row>Sandrine</th><td>57</td><td>1.65</td><td>20.93664</td><td>Woman</td></tr>\n",
       "\t<tr><th scope=row>Claire</th><td>90</td><td>1.90</td><td>24.93075</td><td>Woman</td></tr>\n",
       "</tbody>\n",
       "</table>\n"
      ],
      "text/latex": [
       "A data.frame: 3 × 4\n",
       "\\begin{tabular}{r|llll}\n",
       "  & weight & size & bmi & sex\\\\\n",
       "  & <int> & <dbl> & <dbl> & <chr>\\\\\n",
       "\\hline\n",
       "\tFabien & 60 & 1.75 & 19.59184 & Man  \\\\\n",
       "\tSandrine & 57 & 1.65 & 20.93664 & Woman\\\\\n",
       "\tClaire & 90 & 1.90 & 24.93075 & Woman\\\\\n",
       "\\end{tabular}\n"
      ],
      "text/markdown": [
       "\n",
       "A data.frame: 3 × 4\n",
       "\n",
       "| <!--/--> | weight &lt;int&gt; | size &lt;dbl&gt; | bmi &lt;dbl&gt; | sex &lt;chr&gt; |\n",
       "|---|---|---|---|---|\n",
       "| Fabien | 60 | 1.75 | 19.59184 | Man   |\n",
       "| Sandrine | 57 | 1.65 | 20.93664 | Woman |\n",
       "| Claire | 90 | 1.90 | 24.93075 | Woman |\n",
       "\n"
      ],
      "text/plain": [
       "         weight size bmi      sex  \n",
       "Fabien   60     1.75 19.59184 Man  \n",
       "Sandrine 57     1.65 20.93664 Woman\n",
       "Claire   90     1.90 24.93075 Woman"
      ]
     },
     "metadata": {},
     "output_type": "display_data"
    }
   ],
   "source": [
    "## Code cell n°109 ##\n",
    "\n",
    "myDataf [grep(\"a\", row.names(myDataf)),]"
   ]
  },
  {
   "cell_type": "markdown",
   "metadata": {},
   "source": [
    "#### **c. The function `subset()` is even simpler than `which()`:**\n",
    "\n",
    "Just enter the dataframe as first argument, and the variable without \"quotes\" on which you do the filtering followed by the condition."
   ]
  },
  {
   "cell_type": "code",
   "execution_count": 110,
   "metadata": {},
   "outputs": [
    {
     "data": {
      "text/html": [
       "<table class=\"dataframe\">\n",
       "<caption>A data.frame: 3 × 4</caption>\n",
       "<thead>\n",
       "\t<tr><th></th><th scope=col>weight</th><th scope=col>size</th><th scope=col>bmi</th><th scope=col>sex</th></tr>\n",
       "\t<tr><th></th><th scope=col>&lt;int&gt;</th><th scope=col>&lt;dbl&gt;</th><th scope=col>&lt;dbl&gt;</th><th scope=col>&lt;chr&gt;</th></tr>\n",
       "</thead>\n",
       "<tbody>\n",
       "\t<tr><th scope=row>Sandrine</th><td>57</td><td>1.65</td><td>20.93664</td><td>Woman</td></tr>\n",
       "\t<tr><th scope=row>Claire</th><td>90</td><td>1.90</td><td>24.93075</td><td>Woman</td></tr>\n",
       "\t<tr><th scope=row>Delphine</th><td>72</td><td>1.91</td><td>19.73630</td><td>Woman</td></tr>\n",
       "</tbody>\n",
       "</table>\n"
      ],
      "text/latex": [
       "A data.frame: 3 × 4\n",
       "\\begin{tabular}{r|llll}\n",
       "  & weight & size & bmi & sex\\\\\n",
       "  & <int> & <dbl> & <dbl> & <chr>\\\\\n",
       "\\hline\n",
       "\tSandrine & 57 & 1.65 & 20.93664 & Woman\\\\\n",
       "\tClaire & 90 & 1.90 & 24.93075 & Woman\\\\\n",
       "\tDelphine & 72 & 1.91 & 19.73630 & Woman\\\\\n",
       "\\end{tabular}\n"
      ],
      "text/markdown": [
       "\n",
       "A data.frame: 3 × 4\n",
       "\n",
       "| <!--/--> | weight &lt;int&gt; | size &lt;dbl&gt; | bmi &lt;dbl&gt; | sex &lt;chr&gt; |\n",
       "|---|---|---|---|---|\n",
       "| Sandrine | 57 | 1.65 | 20.93664 | Woman |\n",
       "| Claire | 90 | 1.90 | 24.93075 | Woman |\n",
       "| Delphine | 72 | 1.91 | 19.73630 | Woman |\n",
       "\n"
      ],
      "text/plain": [
       "         weight size bmi      sex  \n",
       "Sandrine 57     1.65 20.93664 Woman\n",
       "Claire   90     1.90 24.93075 Woman\n",
       "Delphine 72     1.91 19.73630 Woman"
      ]
     },
     "metadata": {},
     "output_type": "display_data"
    }
   ],
   "source": [
    "## Code cell n°110 ##\n",
    "\n",
    "WomenDataf <- subset(myDataf, gender== \"Woman\")\n",
    "WomenDataf"
   ]
  },
  {
   "cell_type": "markdown",
   "metadata": {},
   "source": [
    "#### **d. You can even combine conditions:**\n",
    "\n",
    "- logical: `&` = AND, `|` = OR, `!` = not\n",
    "- comparisons: `==` , `!=` for diffferent, `>`, `<`, `>=`, `>=`\n",
    "- \"is an element of\" a vector using `%in%`"
   ]
  },
  {
   "cell_type": "code",
   "execution_count": 111,
   "metadata": {},
   "outputs": [
    {
     "data": {
      "text/html": [
       "<table class=\"dataframe\">\n",
       "<caption>A data.frame: 1 × 4</caption>\n",
       "<thead>\n",
       "\t<tr><th></th><th scope=col>weight</th><th scope=col>size</th><th scope=col>bmi</th><th scope=col>sex</th></tr>\n",
       "\t<tr><th></th><th scope=col>&lt;int&gt;</th><th scope=col>&lt;dbl&gt;</th><th scope=col>&lt;dbl&gt;</th><th scope=col>&lt;chr&gt;</th></tr>\n",
       "</thead>\n",
       "<tbody>\n",
       "\t<tr><th scope=row>Sandrine</th><td>57</td><td>1.65</td><td>20.93664</td><td>Woman</td></tr>\n",
       "</tbody>\n",
       "</table>\n"
      ],
      "text/latex": [
       "A data.frame: 1 × 4\n",
       "\\begin{tabular}{r|llll}\n",
       "  & weight & size & bmi & sex\\\\\n",
       "  & <int> & <dbl> & <dbl> & <chr>\\\\\n",
       "\\hline\n",
       "\tSandrine & 57 & 1.65 & 20.93664 & Woman\\\\\n",
       "\\end{tabular}\n"
      ],
      "text/markdown": [
       "\n",
       "A data.frame: 1 × 4\n",
       "\n",
       "| <!--/--> | weight &lt;int&gt; | size &lt;dbl&gt; | bmi &lt;dbl&gt; | sex &lt;chr&gt; |\n",
       "|---|---|---|---|---|\n",
       "| Sandrine | 57 | 1.65 | 20.93664 | Woman |\n",
       "\n"
      ],
      "text/plain": [
       "         weight size bmi      sex  \n",
       "Sandrine 57     1.65 20.93664 Woman"
      ]
     },
     "metadata": {},
     "output_type": "display_data"
    }
   ],
   "source": [
    "## Code cell n°111 ##\n",
    "\n",
    "filteredData <- myDataf [ which ( myDataf$sex == \"Woman\" & myDataf$weight < 80 & myDataf$bmi > 20), ]\n",
    "filteredData"
   ]
  },
  {
   "cell_type": "code",
   "execution_count": 112,
   "metadata": {},
   "outputs": [
    {
     "data": {
      "text/html": [
       "<table class=\"dataframe\">\n",
       "<caption>A data.frame: 1 × 4</caption>\n",
       "<thead>\n",
       "\t<tr><th></th><th scope=col>weight</th><th scope=col>size</th><th scope=col>bmi</th><th scope=col>sex</th></tr>\n",
       "\t<tr><th></th><th scope=col>&lt;int&gt;</th><th scope=col>&lt;dbl&gt;</th><th scope=col>&lt;dbl&gt;</th><th scope=col>&lt;chr&gt;</th></tr>\n",
       "</thead>\n",
       "<tbody>\n",
       "\t<tr><th scope=row>Sandrine</th><td>57</td><td>1.65</td><td>20.93664</td><td>Woman</td></tr>\n",
       "</tbody>\n",
       "</table>\n"
      ],
      "text/latex": [
       "A data.frame: 1 × 4\n",
       "\\begin{tabular}{r|llll}\n",
       "  & weight & size & bmi & sex\\\\\n",
       "  & <int> & <dbl> & <dbl> & <chr>\\\\\n",
       "\\hline\n",
       "\tSandrine & 57 & 1.65 & 20.93664 & Woman\\\\\n",
       "\\end{tabular}\n"
      ],
      "text/markdown": [
       "\n",
       "A data.frame: 1 × 4\n",
       "\n",
       "| <!--/--> | weight &lt;int&gt; | size &lt;dbl&gt; | bmi &lt;dbl&gt; | sex &lt;chr&gt; |\n",
       "|---|---|---|---|---|\n",
       "| Sandrine | 57 | 1.65 | 20.93664 | Woman |\n",
       "\n"
      ],
      "text/plain": [
       "         weight size bmi      sex  \n",
       "Sandrine 57     1.65 20.93664 Woman"
      ]
     },
     "metadata": {},
     "output_type": "display_data"
    }
   ],
   "source": [
    "## Code cell n°112 ##\n",
    "\n",
    "subset( myDataf, sex == \"Woman\" & weight < 80 & bmi > 20)"
   ]
  },
  {
   "cell_type": "markdown",
   "metadata": {},
   "source": [
    "### **IX.4. -Merging dataframes:** using a column as a \"key\"\n",
    "\n",
    "In this example, I add one column with indexes that I will use as a key, but we can also use an existing variable as a key."
   ]
  },
  {
   "cell_type": "code",
   "execution_count": 113,
   "metadata": {},
   "outputs": [
    {
     "data": {
      "text/html": [
       "<table class=\"dataframe\">\n",
       "<caption>A data.frame: 6 × 5</caption>\n",
       "<thead>\n",
       "\t<tr><th></th><th scope=col>weight</th><th scope=col>size</th><th scope=col>bmi</th><th scope=col>sex</th><th scope=col>index</th></tr>\n",
       "\t<tr><th></th><th scope=col>&lt;int&gt;</th><th scope=col>&lt;dbl&gt;</th><th scope=col>&lt;dbl&gt;</th><th scope=col>&lt;chr&gt;</th><th scope=col>&lt;int&gt;</th></tr>\n",
       "</thead>\n",
       "<tbody>\n",
       "\t<tr><th scope=row>Fabien</th><td>60</td><td>1.75</td><td>19.59184</td><td>Man  </td><td>1</td></tr>\n",
       "\t<tr><th scope=row>Pierre</th><td>72</td><td>1.80</td><td>22.22222</td><td>Man  </td><td>2</td></tr>\n",
       "\t<tr><th scope=row>Sandrine</th><td>57</td><td>1.65</td><td>20.93664</td><td>Woman</td><td>3</td></tr>\n",
       "\t<tr><th scope=row>Claire</th><td>90</td><td>1.90</td><td>24.93075</td><td>Woman</td><td>4</td></tr>\n",
       "\t<tr><th scope=row>Bruno</th><td>95</td><td>1.74</td><td>31.37799</td><td>Man  </td><td>5</td></tr>\n",
       "\t<tr><th scope=row>Delphine</th><td>72</td><td>1.91</td><td>19.73630</td><td>Woman</td><td>6</td></tr>\n",
       "</tbody>\n",
       "</table>\n"
      ],
      "text/latex": [
       "A data.frame: 6 × 5\n",
       "\\begin{tabular}{r|lllll}\n",
       "  & weight & size & bmi & sex & index\\\\\n",
       "  & <int> & <dbl> & <dbl> & <chr> & <int>\\\\\n",
       "\\hline\n",
       "\tFabien & 60 & 1.75 & 19.59184 & Man   & 1\\\\\n",
       "\tPierre & 72 & 1.80 & 22.22222 & Man   & 2\\\\\n",
       "\tSandrine & 57 & 1.65 & 20.93664 & Woman & 3\\\\\n",
       "\tClaire & 90 & 1.90 & 24.93075 & Woman & 4\\\\\n",
       "\tBruno & 95 & 1.74 & 31.37799 & Man   & 5\\\\\n",
       "\tDelphine & 72 & 1.91 & 19.73630 & Woman & 6\\\\\n",
       "\\end{tabular}\n"
      ],
      "text/markdown": [
       "\n",
       "A data.frame: 6 × 5\n",
       "\n",
       "| <!--/--> | weight &lt;int&gt; | size &lt;dbl&gt; | bmi &lt;dbl&gt; | sex &lt;chr&gt; | index &lt;int&gt; |\n",
       "|---|---|---|---|---|---|\n",
       "| Fabien | 60 | 1.75 | 19.59184 | Man   | 1 |\n",
       "| Pierre | 72 | 1.80 | 22.22222 | Man   | 2 |\n",
       "| Sandrine | 57 | 1.65 | 20.93664 | Woman | 3 |\n",
       "| Claire | 90 | 1.90 | 24.93075 | Woman | 4 |\n",
       "| Bruno | 95 | 1.74 | 31.37799 | Man   | 5 |\n",
       "| Delphine | 72 | 1.91 | 19.73630 | Woman | 6 |\n",
       "\n"
      ],
      "text/plain": [
       "         weight size bmi      sex   index\n",
       "Fabien   60     1.75 19.59184 Man   1    \n",
       "Pierre   72     1.80 22.22222 Man   2    \n",
       "Sandrine 57     1.65 20.93664 Woman 3    \n",
       "Claire   90     1.90 24.93075 Woman 4    \n",
       "Bruno    95     1.74 31.37799 Man   5    \n",
       "Delphine 72     1.91 19.73630 Woman 6    "
      ]
     },
     "metadata": {},
     "output_type": "display_data"
    }
   ],
   "source": [
    "## Code cell n°113 ##\n",
    "\n",
    "myDataf$index <- 1:6\n",
    "myDataf"
   ]
  },
  {
   "cell_type": "markdown",
   "metadata": {},
   "source": [
    "Then I generate another dataframe with handedness information on 6 samples, but one sample is new compared to the initial dataframe."
   ]
  },
  {
   "cell_type": "code",
   "execution_count": 114,
   "metadata": {},
   "outputs": [
    {
     "data": {
      "text/html": [
       "<table class=\"dataframe\">\n",
       "<caption>A data.frame: 6 × 2</caption>\n",
       "<thead>\n",
       "\t<tr><th scope=col>ID</th><th scope=col>handedness</th></tr>\n",
       "\t<tr><th scope=col>&lt;dbl&gt;</th><th scope=col>&lt;chr&gt;</th></tr>\n",
       "</thead>\n",
       "<tbody>\n",
       "\t<tr><td>1</td><td>right-handed</td></tr>\n",
       "\t<tr><td>2</td><td>left-handed </td></tr>\n",
       "\t<tr><td>3</td><td>right-handed</td></tr>\n",
       "\t<tr><td>4</td><td>left-handed </td></tr>\n",
       "\t<tr><td>5</td><td>right-handed</td></tr>\n",
       "\t<tr><td>7</td><td>left-handed </td></tr>\n",
       "</tbody>\n",
       "</table>\n"
      ],
      "text/latex": [
       "A data.frame: 6 × 2\n",
       "\\begin{tabular}{ll}\n",
       " ID & handedness\\\\\n",
       " <dbl> & <chr>\\\\\n",
       "\\hline\n",
       "\t 1 & right-handed\\\\\n",
       "\t 2 & left-handed \\\\\n",
       "\t 3 & right-handed\\\\\n",
       "\t 4 & left-handed \\\\\n",
       "\t 5 & right-handed\\\\\n",
       "\t 7 & left-handed \\\\\n",
       "\\end{tabular}\n"
      ],
      "text/markdown": [
       "\n",
       "A data.frame: 6 × 2\n",
       "\n",
       "| ID &lt;dbl&gt; | handedness &lt;chr&gt; |\n",
       "|---|---|\n",
       "| 1 | right-handed |\n",
       "| 2 | left-handed  |\n",
       "| 3 | right-handed |\n",
       "| 4 | left-handed  |\n",
       "| 5 | right-handed |\n",
       "| 7 | left-handed  |\n",
       "\n"
      ],
      "text/plain": [
       "  ID handedness  \n",
       "1 1  right-handed\n",
       "2 2  left-handed \n",
       "3 3  right-handed\n",
       "4 4  left-handed \n",
       "5 5  right-handed\n",
       "6 7  left-handed "
      ]
     },
     "metadata": {},
     "output_type": "display_data"
    }
   ],
   "source": [
    "## Code cell n°114 ##\n",
    "\n",
    "OtherData <- data.frame(c(1:5, 7),rep(c(\"right-handed\",\"left-handed\"),3))\n",
    "names(OtherData) <- c(\"ID\",\"handedness\")\n",
    "OtherData"
   ]
  },
  {
   "cell_type": "markdown",
   "metadata": {},
   "source": [
    "We can now merge them together by specifying the \"key\" column with the argument `by`. The `all` argument is used to keep all the rows of a dataframe that are not present in the other. The `.x` refers to the first dataframe while `.y` refers to the second one.\n",
    "\n",
    "<div class=\"alert alert-block alert-warning\"><b>Warning:</b>If adding <b>sort=F</b> we will avoid the merged dataframe to be sorted by the \"key\" column. </div>\n"
   ]
  },
  {
   "cell_type": "code",
   "execution_count": 115,
   "metadata": {},
   "outputs": [
    {
     "data": {
      "text/html": [
       "<table class=\"dataframe\">\n",
       "<caption>A data.frame: 7 × 6</caption>\n",
       "<thead>\n",
       "\t<tr><th scope=col>index</th><th scope=col>weight</th><th scope=col>size</th><th scope=col>bmi</th><th scope=col>sex</th><th scope=col>handedness</th></tr>\n",
       "\t<tr><th scope=col>&lt;dbl&gt;</th><th scope=col>&lt;int&gt;</th><th scope=col>&lt;dbl&gt;</th><th scope=col>&lt;dbl&gt;</th><th scope=col>&lt;chr&gt;</th><th scope=col>&lt;chr&gt;</th></tr>\n",
       "</thead>\n",
       "<tbody>\n",
       "\t<tr><td>1</td><td>60</td><td>1.75</td><td>19.59184</td><td>Man  </td><td>right-handed</td></tr>\n",
       "\t<tr><td>2</td><td>72</td><td>1.80</td><td>22.22222</td><td>Man  </td><td>left-handed </td></tr>\n",
       "\t<tr><td>3</td><td>57</td><td>1.65</td><td>20.93664</td><td>Woman</td><td>right-handed</td></tr>\n",
       "\t<tr><td>4</td><td>90</td><td>1.90</td><td>24.93075</td><td>Woman</td><td>left-handed </td></tr>\n",
       "\t<tr><td>5</td><td>95</td><td>1.74</td><td>31.37799</td><td>Man  </td><td>right-handed</td></tr>\n",
       "\t<tr><td>6</td><td>72</td><td>1.91</td><td>19.73630</td><td>Woman</td><td>NA          </td></tr>\n",
       "\t<tr><td>7</td><td>NA</td><td>  NA</td><td>      NA</td><td>NA   </td><td>left-handed </td></tr>\n",
       "</tbody>\n",
       "</table>\n"
      ],
      "text/latex": [
       "A data.frame: 7 × 6\n",
       "\\begin{tabular}{llllll}\n",
       " index & weight & size & bmi & sex & handedness\\\\\n",
       " <dbl> & <int> & <dbl> & <dbl> & <chr> & <chr>\\\\\n",
       "\\hline\n",
       "\t 1 & 60 & 1.75 & 19.59184 & Man   & right-handed\\\\\n",
       "\t 2 & 72 & 1.80 & 22.22222 & Man   & left-handed \\\\\n",
       "\t 3 & 57 & 1.65 & 20.93664 & Woman & right-handed\\\\\n",
       "\t 4 & 90 & 1.90 & 24.93075 & Woman & left-handed \\\\\n",
       "\t 5 & 95 & 1.74 & 31.37799 & Man   & right-handed\\\\\n",
       "\t 6 & 72 & 1.91 & 19.73630 & Woman & NA          \\\\\n",
       "\t 7 & NA &   NA &       NA & NA    & left-handed \\\\\n",
       "\\end{tabular}\n"
      ],
      "text/markdown": [
       "\n",
       "A data.frame: 7 × 6\n",
       "\n",
       "| index &lt;dbl&gt; | weight &lt;int&gt; | size &lt;dbl&gt; | bmi &lt;dbl&gt; | sex &lt;chr&gt; | handedness &lt;chr&gt; |\n",
       "|---|---|---|---|---|---|\n",
       "| 1 | 60 | 1.75 | 19.59184 | Man   | right-handed |\n",
       "| 2 | 72 | 1.80 | 22.22222 | Man   | left-handed  |\n",
       "| 3 | 57 | 1.65 | 20.93664 | Woman | right-handed |\n",
       "| 4 | 90 | 1.90 | 24.93075 | Woman | left-handed  |\n",
       "| 5 | 95 | 1.74 | 31.37799 | Man   | right-handed |\n",
       "| 6 | 72 | 1.91 | 19.73630 | Woman | NA           |\n",
       "| 7 | NA |   NA |       NA | NA    | left-handed  |\n",
       "\n"
      ],
      "text/plain": [
       "  index weight size bmi      sex   handedness  \n",
       "1 1     60     1.75 19.59184 Man   right-handed\n",
       "2 2     72     1.80 22.22222 Man   left-handed \n",
       "3 3     57     1.65 20.93664 Woman right-handed\n",
       "4 4     90     1.90 24.93075 Woman left-handed \n",
       "5 5     95     1.74 31.37799 Man   right-handed\n",
       "6 6     72     1.91 19.73630 Woman NA          \n",
       "7 7     NA       NA       NA NA    left-handed "
      ]
     },
     "metadata": {},
     "output_type": "display_data"
    }
   ],
   "source": [
    "## Code cell n°115 ##\n",
    "\n",
    "myMergedDataf <- merge(myDataf, OtherData, by.x=\"index\", by.y=\"ID\", all.x=T, all.y=T, sort=F)\n",
    "myMergedDataf"
   ]
  },
  {
   "cell_type": "markdown",
   "metadata": {},
   "source": [
    "In the merged dataframe, we start with all the rows present in both dataframes. The next row contains the data only present in the first dataframe with missing data for the columns in the second dataframe. The last rows are the ones with data only present in the second dataframe with missing data for the first dataframe.\n",
    "\n",
    "Unless the merge is done on the row names (by=\"0\"), the row names of the initial dataframe are lost. The new dataframe has its own row names. \n",
    "\n",
    "If two columns have the same name in both dataframes, by default R adds an \".x\" to the one from the first dataframe and \".y\" to the one of the second dataframe. The names can be changed with the argument `suffixes`."
   ]
  },
  {
   "cell_type": "markdown",
   "metadata": {},
   "source": [
    "___\n",
    "\n",
    "## **X - Some basic plotting**"
   ]
  },
  {
   "cell_type": "markdown",
   "metadata": {},
   "source": [
    "We will see more deeply how to generate basic plots in you personal work on Wednesday for different kind of variables, and during session 2 of R how to generate custom plots either with R base or ggplot.\n",
    "\n",
    "But let's have a quick view of what can be done on our dataframe."
   ]
  },
  {
   "cell_type": "markdown",
   "metadata": {},
   "source": [
    "#### **a. scatter plot with the function `plot()`**"
   ]
  },
  {
   "cell_type": "code",
   "execution_count": 116,
   "metadata": {},
   "outputs": [
    {
     "data": {
      "image/png": "[encoded data removed]",
      "text/plain": [
       "plot without title"
      ]
     },
     "metadata": {
      "image/png": {
       "height": 420,
       "width": 420
      }
     },
     "output_type": "display_data"
    }
   ],
   "source": [
    "## Code cell n°116 ##\n",
    "\n",
    "plot(myDataf$weight ~ myDataf$size)  "
   ]
  },
  {
   "cell_type": "markdown",
   "metadata": {},
   "source": [
    "#### **b. Representation of quantitative data distribution:** \n",
    "\n",
    "- as a boxplot with `boxplot()`:"
   ]
  },
  {
   "cell_type": "code",
   "execution_count": 117,
   "metadata": {},
   "outputs": [
    {
     "data": {
      "image/png": "[encoded data removed]",
      "text/plain": [
       "plot without title"
      ]
     },
     "metadata": {
      "image/png": {
       "height": 420,
       "width": 420
      }
     },
     "output_type": "display_data"
    }
   ],
   "source": [
    "## Code cell n°117 ##\n",
    "\n",
    "boxplot(myDataf$weight)"
   ]
  },
  {
   "cell_type": "markdown",
   "metadata": {},
   "source": [
    "or using `~ ` to display boxplots on the same plot depending on a categorical variable:"
   ]
  },
  {
   "cell_type": "code",
   "execution_count": 118,
   "metadata": {},
   "outputs": [
    {
     "data": {
      "image/png": "[encoded data removed]",
      "text/plain": [
       "plot without title"
      ]
     },
     "metadata": {
      "image/png": {
       "height": 420,
       "width": 420
      }
     },
     "output_type": "display_data"
    }
   ],
   "source": [
    "## Code cell n°118 ##\n",
    "\n",
    "boxplot(myDataf$weight ~ myDataf$sex) "
   ]
  },
  {
   "cell_type": "markdown",
   "metadata": {},
   "source": [
    "- as a histogram with `hist()`:"
   ]
  },
  {
   "cell_type": "code",
   "execution_count": 119,
   "metadata": {},
   "outputs": [
    {
     "data": {
      "image/png": "[encoded data removed]",
      "text/plain": [
       "Plot with title “Histogram of a”"
      ]
     },
     "metadata": {
      "image/png": {
       "height": 420,
       "width": 420
      }
     },
     "output_type": "display_data"
    }
   ],
   "source": [
    "## Code cell n°119 ##\n",
    "\n",
    "a <- rnorm(1000) # to sample 1000 values from a normal distribution of mean 0 and standard deviation 1\n",
    "hist(a, breaks = 20) # the argument breaks is used to specify the number of intervals"
   ]
  },
  {
   "cell_type": "markdown",
   "metadata": {},
   "source": [
    "We will further see that graphs have three-level functions:\n",
    "\n",
    "1. primary graph functions like `plot()`, `boxplot` and `hist()` to display the most principal graphs in R\n",
    "\n",
    "2. secondary graph functions to complement an existing plot\n",
    "\n",
    "3. graphical parameters to modify the plots display:\n",
    "    - either as options of the primary and secondary functions\n",
    "    - or permanetly with the `par()` function before plotting the graph.\n",
    "\n"
   ]
  },
  {
   "cell_type": "markdown",
   "metadata": {},
   "source": [
    "<div class=\"alert alert-block alert-success\"><b>Success:</b> Well done! You now know all the main functions to create and manipulate basic R objects.<br>\n",
    "Don't forget to save you notebook and export a copy as an <b>html</b> file as well <br>\n",
    "- Open \"File\" in the Menu<br>\n",
    "- Select \"Export Notebook As\"<br>\n",
    "- Export notebook as HTML<br>\n",
    "- You can then open it in your browser even without being connected to adenine! \n",
    "</div>"
   ]
  },
  {
   "cell_type": "markdown",
   "metadata": {},
   "source": [
    "---"
   ]
  },
  {
   "cell_type": "markdown",
   "metadata": {},
   "source": [
    "## Useful commands\n",
    "<div class=\"alert alert-block alert-info\"> \n",
    "    \n",
    "- <kbd>CTRL</kbd>+<kbd>S</kbd> : save notebook<br>    \n",
    "- <kbd>CTRL</kbd>+<kbd>ENTER</kbd> : Run Cell<br>  \n",
    "- <kbd>SHIFT</kbd>+<kbd>ENTER</kbd> : Run Cell and Select Next<br>   \n",
    "- <kbd>ALT</kbd>+<kbd>ENTER</kbd> : Run Cell and Insert Below<br>   \n",
    "- <kbd>ESC</kbd>+<kbd>y</kbd> : Change to *Code* Cell Type<br>  \n",
    "- <kbd>ESC</kbd>+<kbd>m</kbd> : Change to *Markdown* Cell Type<br> \n",
    "- <kbd>ESC</kbd>+<kbd>r</kbd> : Change to *Raw* Cell Type<br>    \n",
    "- <kbd>ESC</kbd>+<kbd>a</kbd> : Create Cell Above<br> \n",
    "- <kbd>ESC</kbd>+<kbd>b</kbd> : Create Cell Below<br> \n",
    "\n",
    "<em>  \n",
    "To make nice html reports with markdown: <a href=\"https://dillinger.io/\" title=\"dillinger.io\">html visualization tool 1</a> or <a href=\"https://stackedit.io/app#\" title=\"stackedit.io\">html visualization tool 2</a>, <a href=\"https://www.tablesgenerator.com/markdown_tables\" title=\"tablesgenerator.com\">to draw nice tables</a>, and the <a href=\"https://medium.com/analytics-vidhya/the-ultimate-markdown-guide-for-jupyter-notebook-d5e5abf728fd\" title=\"Ultimate guide\">Ultimate guide</a>. <br>\n",
    "Further reading on JupyterLab notebooks: <a href=\"https://jupyterlab.readthedocs.io/en/latest/user/notebook.html\" title=\"Jupyter Lab\">Jupyter Lab documentation</a>.<br>   \n",
    "</em>    \n",
    " \n",
    "</div>"
   ]
  }
 ],
 "metadata": {
  "kernelspec": {
   "display_name": "R",
   "language": "R",
   "name": "ir"
  },
  "language_info": {
   "codemirror_mode": "r",
   "file_extension": ".r",
   "mimetype": "text/x-r-source",
   "name": "R",
   "pygments_lexer": "r",
   "version": "4.1.3"
  }
 },
 "nbformat": 4,
 "nbformat_minor": 4
}

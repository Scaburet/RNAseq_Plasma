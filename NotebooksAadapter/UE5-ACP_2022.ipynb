{
 "cells": [
  {
   "cell_type": "markdown",
   "metadata": {},
   "source": [
    "# Analyse en Composantes Principales sur des transcriptomes \n",
    "#            de patients atteints de diabète de type 1\n",
    "------------------------------------------------------------------------------------------------------\n"
   ]
  },
  {
   "cell_type": "markdown",
   "metadata": {},
   "source": [
    "Dans ce TP vous allez réaliser une Analyse en Composantes Principales (ACP). Cette méthode permet d'évaluer et d'explorer la variabilité de vos données. Elle repose sur une transformation des variables (ici: niveaux de transcrits) partiellement corrélées entre elles en de nouvelles variables dé-corrélées les unes des autres. L'ACP vous permet ainsi d'optimiser la représentation de données massives pour en tirer un maximum d'information.\n",
    "\n",
    "Vous allez analyser des données de transcriptome générées sur puces d'expression, les mêmes que celles étudiées au cours des TP 6 et 7 de l'UE1.\n",
    "\n",
    "__Les ARN ont été extraits à partir de cultures de lignées lymphoblastoïdes (lymphocytes B immortalisés par le virus EBV) de patients et apparentés (germains partageant les mêmes allèles HLA), stimulés 6h ou 24h avec du Phorbol Myristate Acetate (PMA), ou non stimulés.__\n",
    "\n",
    "Vous allez :\n",
    "- Réaliser l'ACP en utilisant le package FactoMineR de R.\n",
    "- Analyser les graphiques des individus et repérer si les nouveaux axes séparent des groupes d'individus pertinents sur le plan clinique\n",
    "- Analyser les cercles des corrélations et identifier les transcrits les mieux représentés par les axes de l'ACP.\n",
    "\n",
    "\n"
   ]
  },
  {
   "cell_type": "markdown",
   "metadata": {},
   "source": [
    "---\n",
    "---\n",
    "\n",
    "## 1. Préparation de l'environnement R"
   ]
  },
  {
   "cell_type": "markdown",
   "metadata": {},
   "source": [
    "### 1.1 Choix du répertoire de travail et chargement des paquets nécessaires"
   ]
  },
  {
   "cell_type": "markdown",
   "metadata": {},
   "source": [
    "Travaillez dans un repertoire `PCA` dans lequel vous mettrez ce notebook.\n",
    "\n",
    "Choix du répertoire de travail et chargement des paquets FactoMineR et factoextra (déjà installés dans l'environnement).  \n",
    "Les commandes précédées du \"if\" ne sont utiles que si les paquets n'étaient pas présents dans l'environnement."
   ]
  },
  {
   "cell_type": "markdown",
   "metadata": {},
   "source": [
    "#cell 1\n",
    "getwd()\n",
    "list.files() # on verifie que l'objet for_factominer.RData est bien présent sinon on décommente la ligne suivante:\n",
    "#setwd('~/m1_meg-acp')"
   ]
  },
  {
   "cell_type": "code",
   "execution_count": null,
   "metadata": {},
   "outputs": [],
   "source": [
    "#cell 2\n",
    "# Importation du package FactoMineR et factoextra:\n",
    "options(width=160)\n",
    "installed.packages()[\"FactoMineR\",c(1,2,3)] # pour vérifier que le paquet est bien installé\n",
    "installed.packages()[\"factoextra\",c(1,2,3)]\n",
    "\n",
    "if (!require(\"FactoMineR\", quietly = T)) {\n",
    "    install.packages(\"FactoMineR\")}  # commande pour installer factominer au cas où -> peut-être utile si vous travailler sur un autre ordinateur/serveur\n",
    "if (!require(\"factoextra\", quietly = T)) {\n",
    "    install.packages(\"factoextra\")}\n",
    "library(FactoMineR)\n",
    "library(factoextra)\n"
   ]
  },
  {
   "cell_type": "code",
   "execution_count": null,
   "metadata": {},
   "outputs": [],
   "source": [
    "#cell 3\n",
    "cat(\"Voici mon environnement de travail avec les paquets de R chargés:\\n\")\n",
    "sessionInfo()"
   ]
  },
  {
   "cell_type": "markdown",
   "metadata": {},
   "source": [
    "       "
   ]
  },
  {
   "cell_type": "markdown",
   "metadata": {},
   "source": [
    "### 1.2 Importation et vérification des données"
   ]
  },
  {
   "cell_type": "markdown",
   "metadata": {},
   "source": [
    "Importation des données de transcriptome:\n",
    "\n",
    "Elles ont été générées à partir des données de départ en utilisant le script R\n",
    "`script_to_generate_forfactominer.RData.R`   \n",
    "présent sur moodle avec les fichiers nécessaires: https://moodle.u-paris.fr/mod/folder/view.php?id=601573"
   ]
  },
  {
   "cell_type": "code",
   "execution_count": null,
   "metadata": {},
   "outputs": [],
   "source": [
    "#cell 4\n",
    "load(\"for_factominer.RData\")\n",
    "ls()"
   ]
  },
  {
   "cell_type": "markdown",
   "metadata": {},
   "source": [
    "L'objet `for_factominer` contient les variables en colonnes, ainsi que des variables supplémentaires, qualitatives et quantitatives."
   ]
  },
  {
   "cell_type": "markdown",
   "metadata": {},
   "source": [
    "- Combien ce dataframe contient-elle de lignes et de colonnes ? A quoi correspondent-elles ?\n",
    "Faites attention notamment aux 6 dernières colonnes du dataframe.\n",
    "\n",
    "*__Fonctions à utiliser__*: `str()` ou `dim()` ou `nrow()` et `ncol()`; `head()` et `tail()`"
   ]
  },
  {
   "cell_type": "code",
   "execution_count": null,
   "metadata": {},
   "outputs": [],
   "source": [
    "# cell 5 à compléter par les étudiants\n",
    "head(for_factominer)\n",
    "str(for_factominer)\n",
    "names(for_factominer) # pour avoir toute la liste des noms de colonnes"
   ]
  },
  {
   "cell_type": "markdown",
   "metadata": {},
   "source": [
    "Affichez la structure uniquement pour les 10 dernières colonnes:"
   ]
  },
  {
   "cell_type": "code",
   "execution_count": null,
   "metadata": {},
   "outputs": [],
   "source": [
    "#cell 6\n",
    "str(for_factominer[,(ncol(for_factominer)-9):ncol(for_factominer)]) # ou str(for_factominer[,1917:1926])"
   ]
  },
  {
   "cell_type": "markdown",
   "metadata": {},
   "source": [
    "> Vos commentaires :"
   ]
  },
  {
   "cell_type": "markdown",
   "metadata": {},
   "source": [
    "Autre façon de visualiser le dataframe:   \n",
    "-> ici en le transposant (ce qui permet de remettre les gènes ne lignes et les échantillons en colonnes)    \n",
    "-> en utilisant la fonction datatable de la librairie \"DT\" qui permet de naviguer avec les ascenceurs dans la table d'un notebook et de le filtrer"
   ]
  },
  {
   "cell_type": "code",
   "execution_count": null,
   "metadata": {},
   "outputs": [],
   "source": [
    "#cell 7\n",
    "if (!require(\"DT\", quietly = T)) {\n",
    "    install.packages(\"DT\")}\n",
    "\n",
    "options(warn = -1)\n",
    "transposed_data <- as.data.frame(t(for_factominer), stringsAsFactors=F)\n",
    "str(transposed_data)\n",
    "transposed_data$Gene_name <- row.names(transposed_data)\n",
    "transposed_data <- transposed_data[,c(ncol(transposed_data), 1: ncol(transposed_data)-1)]\n",
    "datatable(transposed_data, rownames=F, caption=\"Dataset for ACP analysis\", filter=\"top\", options = list(lengthMenu=c(10,20, 30, 40, 50)))"
   ]
  },
  {
   "cell_type": "markdown",
   "metadata": {},
   "source": [
    "        \n",
    "             \n",
    "             "
   ]
  },
  {
   "cell_type": "markdown",
   "metadata": {},
   "source": [
    "---\n",
    "\n",
    "## 2. Analyse en Composantes Principales par FactoMineR"
   ]
  },
  {
   "cell_type": "markdown",
   "metadata": {},
   "source": [
    "### 2.1. Création des résultats de l'ACP:\n",
    "\n",
    "La fonction `PCA()` de FactoMineR crée un objet de type `list` contenant tous les résultats de l'ACP."
   ]
  },
  {
   "cell_type": "code",
   "execution_count": null,
   "metadata": {},
   "outputs": [],
   "source": [
    "#cell 8\n",
    "# Utilisation de la fonction PCA() de FactoMineR\n",
    "#?PCA\n",
    "PCAres <- FactoMineR::PCA(for_factominer, quali.sup = 1921:1925, quanti.sup = 1926, graph = FALSE)\n",
    "#str(PCAres) # longue structure!\n",
    "print(class(PCAres))\n",
    "names(PCAres)"
   ]
  },
  {
   "cell_type": "markdown",
   "metadata": {},
   "source": [
    "### 2.2 Analyse visuelle des deux premières composantes de l'ACP\n",
    "Les deux premières composantes rendent compte au maximum de l'inertie du nuage de points d'origine. Visualisons les résultats grâce à un graphique affichant la position des individus en fonction des deux premières composantes principes."
   ]
  },
  {
   "cell_type": "code",
   "execution_count": null,
   "metadata": {
    "tags": []
   },
   "outputs": [],
   "source": [
    "#cell 9\n",
    "# Création de graphiques indiquant la position des échantillons par rapport aux deux premières composantes :\n",
    "\n",
    "FactoMineR::plot.PCA(PCAres, choix = \"ind\", autoLab = \"yes\", invisible = \"quali\", cex=0.3)"
   ]
  },
  {
   "cell_type": "code",
   "execution_count": null,
   "metadata": {
    "tags": []
   },
   "outputs": [],
   "source": [
    "#cell 9b\n",
    "# Création de graphiques indiquant la position des échantillons par rapport aux deux premières composantes \n",
    "# en y ajoutant la visualisation des variables qualitatives ( donc des caractéristiques des individus\n",
    "# et enregistrement dans un fichier PDF:\n",
    "\n",
    "pdf(\"PCA_individus.pdf\")\n",
    "\n",
    "FactoMineR::plot.PCA(PCAres, choix = \"ind\", autoLab = \"yes\", invisible = \"quali\", cex=0.3)\n",
    "FactoMineR::plot.PCA(PCAres, choix = \"ind\", autoLab = \"yes\", invisible = \"quali\", habillage = \"Stim\", cex=0.3)\n",
    "FactoMineR::plot.PCA(PCAres, choix = \"ind\", autoLab = \"yes\", invisible = \"quali\", cex=0.3, habillage = \"PedID\")\n",
    "FactoMineR::plot.PCA(PCAres, choix = \"ind\", autoLab = \"yes\", invisible = \"quali\", cex=0.3, habillage = \"ID\")\n",
    "FactoMineR::plot.PCA(PCAres, choix = \"ind\", autoLab = \"yes\", invisible = \"quali\", cex=0.3, habillage = \"Status\")\n",
    "FactoMineR::plot.PCA(PCAres, choix = \"ind\", autoLab = \"yes\", invisible = \"quali\", cex=0.3, habillage = \"Sex\")\n",
    "\n",
    "dev.off()"
   ]
  },
  {
   "cell_type": "code",
   "execution_count": null,
   "metadata": {
    "tags": []
   },
   "outputs": [],
   "source": [
    "# Pour définir d'autres axes :\n",
    "FactoMineR::plot.PCA(PCAres, axes = c(2,3), choix = \"ind\", autoLab = \"yes\", invisible = \"quali\", cex=0.3)"
   ]
  },
  {
   "cell_type": "markdown",
   "metadata": {},
   "source": [
    "> Pensez à ajouter un titre et une légende!\n",
    "\n",
    "Figure 1. Titre\n",
    "Légende"
   ]
  },
  {
   "cell_type": "markdown",
   "metadata": {},
   "source": [
    "__Commentez les éléments communs à ces différents graphiques, notamment  :__\n",
    "- à quoi correspondent les axes de ces graphiques ?\n",
    "- que signifient les pourcentages associés à chacun de ces graphiques ?\n",
    "- que représentent les points de ce graphique et les coordonnées de ces points ?\n",
    "- les points son-ils étalés sur ces deux axes ? Constate-t-on des regroupements de certains points ?\n",
    "\n",
    "__Commentez ensuite pour chacun de ce ces graphiques :__\n",
    "- Constatez-vous un lien entre les annotations indiquées en couleurs de ces points et leur position sur chacun des axes créés par l'ACP ?"
   ]
  },
  {
   "cell_type": "markdown",
   "metadata": {},
   "source": [
    "Vos commentaires :"
   ]
  },
  {
   "cell_type": "markdown",
   "metadata": {},
   "source": [
    "> Eléments communs à tous les graphiques :"
   ]
  },
  {
   "cell_type": "markdown",
   "metadata": {},
   "source": [
    "> Eléments spécifiques à chaque graphique :"
   ]
  },
  {
   "cell_type": "markdown",
   "metadata": {},
   "source": [
    "### 2.3. Qualité de l'ACP"
   ]
  },
  {
   "cell_type": "markdown",
   "metadata": {},
   "source": [
    "Plus les axes de l'ACP rendent comptent de l'inertie du nuage de points d'origine, meilleure est la qualité de l'ACP (cela signifie que l'on a maintenu au mieux la forme du nuage de points d'origine).\n",
    "L'inertie exprimée par chacune des composantes est enregistrée dans `PCAres$eig`."
   ]
  },
  {
   "cell_type": "code",
   "execution_count": null,
   "metadata": {},
   "outputs": [],
   "source": [
    "#cell 10\n",
    "\n",
    "PCAres$eig\n",
    "\n",
    "# Inertie traduite par les 5 premières composantes\n",
    "PCAres$eig[1:5]"
   ]
  },
  {
   "cell_type": "markdown",
   "metadata": {},
   "source": [
    "__Commentez ces valeurs :__\n",
    "- Quel pourcentage de l'inertie du nuage de point d'origine est traduit par les composantes 1 et 2 ? \n",
    "- Quel pourcentage de l'intertie est traduit par les cinq premières composantes ?"
   ]
  },
  {
   "cell_type": "markdown",
   "metadata": {},
   "source": [
    "> Vos commentaires :"
   ]
  },
  {
   "cell_type": "markdown",
   "metadata": {},
   "source": [
    "Il est possible d'afficher sous forme graphique le pourcentage d'inertie traduit par chaque dimension : le diagramme des éboulis"
   ]
  },
  {
   "cell_type": "code",
   "execution_count": null,
   "metadata": {},
   "outputs": [],
   "source": [
    "# cell 11\n",
    "# Graphique Inertia and dimensions\n",
    "\n",
    "#pdf(\"PCA_inertia.pdf\")\n",
    "eig.val <- PCAres$eig\n",
    "barplot(eig.val[, 2], \n",
    "        names.arg = 1:nrow(eig.val), \n",
    "        main = \"Variances Explained by PCs (%)\",\n",
    "        xlab = \"Principal Components\",\n",
    "        ylab = \"Percentage of variances\",\n",
    "        ylim = c(0,15),\n",
    "        col =\"steelblue\")\n",
    "\n",
    "barplot(eig.val[, 3], \n",
    "        names.arg = 1:nrow(eig.val), \n",
    "        main = \"Variances Explained by PCs (%)\",\n",
    "        xlab = \"Principal Components\",\n",
    "        ylab = \"Cumulative Percentage of variance\",\n",
    "        ylim = c(0,100),\n",
    "        col =\"steelblue\")\n",
    "\n",
    "#dev.off()"
   ]
  },
  {
   "cell_type": "markdown",
   "metadata": {},
   "source": [
    "Le paquet `factoextra`permet une visualisation assez claire des contributions respectives : "
   ]
  },
  {
   "cell_type": "code",
   "execution_count": null,
   "metadata": {},
   "outputs": [],
   "source": [
    "# cell 12\n",
    "\n",
    "# diagramme des éboulis avec 10 composantes par défaut\n",
    "factoextra::fviz_eig(PCAres, addlabels = TRUE)"
   ]
  },
  {
   "cell_type": "code",
   "execution_count": null,
   "metadata": {},
   "outputs": [],
   "source": [
    "# cell 13\n",
    "\n",
    "# idem avec 15 composantes\n",
    "factoextra::fviz_eig(PCAres, addlabels = TRUE, ncp = 15)"
   ]
  },
  {
   "cell_type": "markdown",
   "metadata": {},
   "source": [
    "__Comment évolue l'inertie avec les différentes composantes ?__\n",
    "- Combien de composantes sont finalement nécessaires pour rendre compte de 50% de l'inertie du nuage d'origine ?\n",
    "- Comment évolue le pourcentage d'inertie traduit par les composantes ?"
   ]
  },
  {
   "cell_type": "markdown",
   "metadata": {},
   "source": [
    "> Vos commentaires :"
   ]
  },
  {
   "cell_type": "markdown",
   "metadata": {},
   "source": [
    "---\n",
    "\n",
    "## 3. Analyse de corrélations entre les variables du dataframe et/ou de l'ACP\n",
    "\n",
    "### 3.1. Corrélation entre les différentes composantes et les variables supplémentaires (traitement, sexe, âge, famille, individu)"
   ]
  },
  {
   "cell_type": "markdown",
   "metadata": {},
   "source": [
    "Plutôt que d'étudier de façon visuelle chacune des composantes, il est possible de tester la corrélation entre les différentes composantes et chacune des variables. On peut ainsi mettre en évidence que les échantillons situés sur les valeurs basses de la composante 1 auront par exemple été traitées avec le PMA, tandis que les échantillons situés dans les valeurs hautes n'auront pas été stimulés."
   ]
  },
  {
   "cell_type": "code",
   "execution_count": null,
   "metadata": {},
   "outputs": [],
   "source": [
    "#cell 14\n",
    "# Test de corrélation entre les variables supplémentaires qualitatives et les composantes\n",
    "\n",
    "round(PCAres$quali.sup$eta2,2)"
   ]
  },
  {
   "cell_type": "code",
   "execution_count": null,
   "metadata": {},
   "outputs": [],
   "source": [
    "#cell 15\n",
    "# Test de corrélation entre les variables supplémentaires quantitatives et les composantes\n",
    "\n",
    "round(PCAres$quanti.sup$cor,2)"
   ]
  },
  {
   "cell_type": "markdown",
   "metadata": {},
   "source": [
    "__Commentez les résultats de ces tests de corrélation__\n",
    "- Quelle(s) composante(s) vous semble corrélée(s) avec quelle(s) variable(s) supplémentaire(s) ?\n",
    "- Cela va-t-il dans le même sens que vos observations sur les deux premières composantes ?"
   ]
  },
  {
   "cell_type": "markdown",
   "metadata": {},
   "source": [
    "> Vos commentaires :"
   ]
  },
  {
   "cell_type": "markdown",
   "metadata": {},
   "source": [
    "*__Vous pouvez observer les éventuelles corrélations entre variables qualitatives et composantes via des graphiques !__*\n",
    "\n",
    "En particulier, utilisez l'argument `axes` pour spécifier les dimensions d'intérêt comme dans l'exemple ci-dessous."
   ]
  },
  {
   "cell_type": "code",
   "execution_count": null,
   "metadata": {},
   "outputs": [],
   "source": [
    "#cell 16\n",
    "#pdf(\"nom_fichier.pdf\")\n",
    "# les composantes par défaut sont les 1 et 2\n",
    "# vous pouvez les modifier via l'argument \"axes\" (cf. exemple ci-dessous pour les composantes3 et 4)\n",
    "\n",
    "FactoMineR::plot.PCA(PCAres, choix = \"ind\", autoLab = \"yes\", invisible = \"quali\", cex=0.3, habillage = \"Status\", axes = c(3,4))\n",
    "\n",
    "#dev.off()"
   ]
  },
  {
   "cell_type": "markdown",
   "metadata": {},
   "source": [
    "Le paquet `factoextra` permet de colorer les points et de rajouter des cercles (ou ellipses) autour des points selon des groupes, c'est à dire partageant une caractéristique. Un gros point est ajouté qui donne le barycentre du cercle ou de l'ellipse.   \n",
    "On peut ainsi visualiser la répartition des points correspondants aux hommes et aux femmes :  "
   ]
  },
  {
   "cell_type": "code",
   "execution_count": null,
   "metadata": {},
   "outputs": [],
   "source": [
    "# cell 17\n",
    "\n",
    "factoextra::fviz_pca_ind(PCAres, label = \"none\", habillage = as.factor(PCAres$call$quali.sup$quali.sup$Sex),\n",
    "             addEllipses = TRUE, ellipse.level = 0.95)"
   ]
  },
  {
   "cell_type": "markdown",
   "metadata": {},
   "source": [
    "Même plot, mais en passant maintenant le niveau de stimulation comme option d'habillage des points :"
   ]
  },
  {
   "cell_type": "code",
   "execution_count": null,
   "metadata": {},
   "outputs": [],
   "source": [
    "# cell 18  \n",
    "\n",
    "factoextra::fviz_pca_ind(PCAres, label = \"none\", habillage = as.factor(PCAres$call$quali.sup$quali.sup$Stim),\n",
    "             addEllipses = TRUE, ellipse.level = 0.95)"
   ]
  },
  {
   "cell_type": "markdown",
   "metadata": {},
   "source": [
    "Même plot, mais en passant maintenant le statut vis à vis de la maladie comme option d'habillage des points :"
   ]
  },
  {
   "cell_type": "code",
   "execution_count": null,
   "metadata": {},
   "outputs": [],
   "source": [
    "# cell 19\n",
    "\n",
    "factoextra::fviz_pca_ind(PCAres, label = \"none\", habillage = as.factor(PCAres$call$quali.sup$quali.sup$Status),\n",
    "             addEllipses = TRUE, ellipse.level = 0.95)"
   ]
  },
  {
   "cell_type": "markdown",
   "metadata": {},
   "source": [
    "On peut utiliser une variable quantitative pour l'habillage des points, dans ce cas, on ne peut pas mettre d'ellipses pour des groupes :"
   ]
  },
  {
   "cell_type": "code",
   "execution_count": null,
   "metadata": {},
   "outputs": [],
   "source": [
    "# cell 20\n",
    "\n",
    "factoextra::fviz_pca_ind(PCAres, label=\"none\", col.ind = as.numeric(PCAres$call$quanti.sup$Age))"
   ]
  },
  {
   "cell_type": "markdown",
   "metadata": {},
   "source": [
    "> Vos commentaires :"
   ]
  },
  {
   "cell_type": "markdown",
   "metadata": {},
   "source": [
    "### 3.2 Corrélation entre les différentes composantes et les variables utilisées par l'ACP (quantité des ARNm)"
   ]
  },
  {
   "cell_type": "markdown",
   "metadata": {
    "tags": []
   },
   "source": [
    "### Contribution d'une variable à un des axes (une composante)   \n",
    "Si on veut savoir quelle variable (donc ici quel gène) contribue le plus à l'inertie décrite par une composante donnée (donc à un axe) :"
   ]
  },
  {
   "cell_type": "code",
   "execution_count": null,
   "metadata": {
    "tags": []
   },
   "outputs": [],
   "source": [
    "# cell 21\n",
    "\n",
    "# Contributions à l'axe 1, pour les 10 gènes contribuant le plus :\n",
    "factoextra::fviz_contrib(PCAres, choice = \"var\", axes = 1, top = 10)\n",
    "\n",
    "# Contributions à l'axe 2\n",
    "factoextra::fviz_contrib(PCAres, choice = \"var\", axes = 2, top = 10)"
   ]
  },
  {
   "cell_type": "markdown",
   "metadata": {
    "tags": []
   },
   "source": [
    "On peut de la même manière savoir quel échantillon (ici quel individu) contribue le plus aux différents axes : "
   ]
  },
  {
   "cell_type": "code",
   "execution_count": null,
   "metadata": {
    "tags": []
   },
   "outputs": [],
   "source": [
    "# cell 22\n",
    "\n",
    "factoextra::fviz_contrib(PCAres, choice = \"ind\", axes = 1:2, top = 30)"
   ]
  },
  {
   "cell_type": "markdown",
   "metadata": {},
   "source": [
    "### Corrélation des niveaux d'expression des gènes avec les composantes de la PCA\n",
    "\n",
    "Un gène ayant fortement contribué à une composante sera corrélé avec elle !   \n",
    "Mais contrairement à la contribution (% forcément positif), la corrélation peut prendre 2 sens : positif ou négatif.   \n",
    "\n",
    "\n",
    "Cela signifie que :\n",
    "- les individus situés dans les valeurs hautes de la composante expriment fortement ce gène (corrélation positive, 0 < coeff. de corrélation < 1)\n",
    "\n",
    "- OU les individus situés dans les valeurs hautes de la composante expriment faiblement ce gène (corrélation inverse, -1 < coeff. de corrélation < 0)\n",
    " \n",
    " Le __cercle de corrélation__ révèle la corrélation entre les différentes variables (ici les niveaux de transcrits) et les composantes. Chaque transcrit est représenté par une flèche. La position de l'extrémité de la flèche indique le coefficient de corrélation entre le transcrit et les deux composantes affichées."
   ]
  },
  {
   "cell_type": "code",
   "execution_count": null,
   "metadata": {},
   "outputs": [],
   "source": [
    "#cell 23\n",
    "# Cercle de corrélation\n",
    "# L'argument \"contrib 30\" indique que vous choisisser de n'afficher que les 30 transcrits les plus corrélés avec les composantes 1 et 2\n",
    "\n",
    "#pdf(file = \"PCA_diab_contrib30.pdf\")\n",
    "FactoMineR::plot.PCA(PCAres, choix = \"var\", cex = 0.6, select = \"contrib 30\", unselect = 1)\n",
    "#dev.off()"
   ]
  },
  {
   "cell_type": "markdown",
   "metadata": {},
   "source": [
    "Même plot, mais en utilisant le paquet `factoextra`:"
   ]
  },
  {
   "cell_type": "code",
   "execution_count": null,
   "metadata": {},
   "outputs": [],
   "source": [
    "# cell 24\n",
    "\n",
    "factoextra::fviz_pca_var(PCAres, select.var = list(contrib = 10))"
   ]
  },
  {
   "cell_type": "markdown",
   "metadata": {},
   "source": [
    "On peut utiliser un seuil pour n'afficher que les gènes ayant un taux de corrélation supérieur à la valeur choisie : "
   ]
  },
  {
   "cell_type": "code",
   "execution_count": null,
   "metadata": {},
   "outputs": [],
   "source": [
    "# cell 25\n",
    "\n",
    "factoextra::fviz_pca_var(PCAres, select.var = list(cos2 = 0.8))"
   ]
  },
  {
   "cell_type": "markdown",
   "metadata": {},
   "source": [
    "Un biplot vous permet d'afficher à la fois le nuage de points des échantillons (avec l'habillage le plus pertinent) et les variables qui contribuent le plus aux 2 composantes affichées.   \n",
    "Attention à ne pas chercher à afficher trop de gènes, sinon le biplot devient illisible !!   \n",
    "\n",
    "Ici biplot du top 10 des variables + individus colorés selon le niveau de stimulation, sur les 2 premiers axes de la PCA : "
   ]
  },
  {
   "cell_type": "code",
   "execution_count": null,
   "metadata": {},
   "outputs": [],
   "source": [
    "# cell 26\n",
    "# biplot\n",
    "\n",
    "factoextra::fviz_pca_biplot(PCAres, select.var = list(contrib = 10), col.var = \"black\", habillage = as.factor(PCAres$call$quali.sup$quali.sup$Stim))"
   ]
  },
  {
   "cell_type": "markdown",
   "metadata": {},
   "source": [
    "__Identifiez quelques transcrits dont les niveaux vous semblent corrélés avec les composantes 1 et 2__\n",
    "- Identifiez les transcrits représenrés par des flèches proches de l'un des axes\n",
    "- S'agit-il d'une corrélation ou d'une corrélation inverse ?"
   ]
  },
  {
   "cell_type": "markdown",
   "metadata": {},
   "source": [
    "> Vos commentaires :"
   ]
  },
  {
   "cell_type": "markdown",
   "metadata": {},
   "source": [
    "Enfin, vous pouvez calculer le niveau de corrélation de ces transcrits avec la position de ces échantillons sur les axes qui vous intéressent."
   ]
  },
  {
   "cell_type": "code",
   "execution_count": null,
   "metadata": {},
   "outputs": [],
   "source": [
    "#cell 27\n",
    "# Lignes de codes pour calculer les coefficients de corrélation entre le niveau des transcrits et la position des échantillons sur les axes\n",
    "cor.test(for_factominer$SLAMF1,PCAres$ind$coord[,1])\n",
    "cor.test(for_factominer$SLAMF1,PCAres$ind$coord[,2])\n",
    "cor.test(for_factominer$RGS16,PCAres$ind$coord[,1])\n",
    "cor.test(for_factominer$RGS16,PCAres$ind$coord[,2])"
   ]
  },
  {
   "cell_type": "markdown",
   "metadata": {},
   "source": [
    "> Vos commentaires : (lien entre la flèche du cercle de corrélation et les valeurs que vous venez de calculer)"
   ]
  },
  {
   "cell_type": "markdown",
   "metadata": {},
   "source": [
    "__Cette analyse a-t-elle répondu à votre question scientifique ? Quelles analyses pourriez vous imaginer afin d'aller plus loin ?__"
   ]
  },
  {
   "cell_type": "markdown",
   "metadata": {},
   "source": [
    "---\n",
    "---\n",
    "# Fil Rouge RNASeq final part option 2:\n",
    "\n",
    "<span style=\"color:red\">Au choix, vous rendrez ce travail portant sur l'ACP des données de puces d'expression ou le Fil Rouge final part option 1 portant sur l'analyse différentielle du RNASeq.</span>\n",
    "\n",
    "## Consignes pour votre compte-rendu de TP ACP\n",
    "\n",
    "Vous allez réaliser un compte-rendu récapitulant les informations importantes ce TP. Les consignes sont les suivantes :\n",
    "    \n",
    "- Compte-rendu à remettre sur Moodle pour le **2 décembre 2022 23h59** \n",
    "- Un compte-rendu par binôme\n",
    "- formats possibles: `.docx`, `.pdf` ou un notebook `.ipynb` ou `.html`. \n",
    "- Nombre limite de caractères : 4000 en dehors des légendes des figures pour les formats `docx` et `pdf`\n",
    "(4000 caractères en taille 12 Times New Roman en interligne simple représentent un texte un peu aéré d'environ une page et demi -> ajustez au mieux pour la version notebook)\n",
    "\n",
    "Le compte-rendu inclura : \n",
    "- un **titre** pertinent décrivant le message essentiel de votre compte-rendu (\"Compte-rendu de TP ACP\" ne constitue donc pas un titre pour ce travail)\n",
    "\n",
    "- une **brève introduction** situant votre analyse dans les recherches sur le diabète. Elle amène à la question posée par cette étude (2 pts avec le titre)\n",
    "\n",
    "- un chapitre **Résutats** qui décrit les résultats obtenus et concluent de façon factuelle ce que vous avez découvert via l'ACP. Ils seront illustrés par une/des figure(s), que vous devez citer dans le texte de façon pertinente. Les figures doivent être légendées. La légende inclut le titre de la figure et doit être suffisamment explicite, en quelques lignes, pour que votre lecteur soit capable de la comprendre (et de se forger sa propre opinion) sans avoir à lire votre texte. (4 pts texte + 2 pts figures)\n",
    "\n",
    "- une **brève discussion/conclusion** dans laquelle vous pourrez donner :\n",
    "    1) une interprétation des résultats allant au delà d'une pure description, par exemple en indiquant si vos résultats ont apporté des éléments nouveaux sur le diabète\n",
    "    2) des idées d'expériences possibles pour aller au-delà\n",
    "    3) une phrase d'ouverture.\n",
    "    \n",
    "Dans certains articles la discussion peut contenir un schéma de modèle (mais cela ne vous est pas demandé pour ce TP). (2 pts pour la partie discussion/conclusion)\n",
    "\n",
    "***Rappel important :***<br>\n",
    "Les plagiats sont interdits. Des comptes-rendus considérés comme excessivement proches par le correcteur pourront entraîner des \n",
    "procédures disciplinaires.\n"
   ]
  }
 ],
 "metadata": {
  "kernelspec": {
   "display_name": "R 4.0.3",
   "language": "R",
   "name": "r-4.0.3"
  },
  "language_info": {
   "codemirror_mode": "r",
   "file_extension": ".r",
   "mimetype": "text/x-r-source",
   "name": "R",
   "pygments_lexer": "r",
   "version": "4.0.3"
  }
 },
 "nbformat": 4,
 "nbformat_minor": 4
}

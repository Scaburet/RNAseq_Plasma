{
 "cells": [
  {
   "cell_type": "markdown",
   "metadata": {
    "tags": []
   },
   "source": [
    "# Formation RNAseq CEA - juin 2023\n",
    "\n",
    "Session IFB : 5 CPU + 21 GB de RAM\n",
    "\n",
    "# Part 3 : Preprocessing reads: cleaning and checking quality"
   ]
  },
  {
   "cell_type": "markdown",
   "metadata": {},
   "source": [
    "\n",
    "- 0.1 - About session on IFB core cluster  \n",
    "- 0.2 - Parameters to be set or modified by the user     \n",
    "- 1 - Cleaning reads along, with some quality thanks to `fastp`   \n",
    "- 2 - MultiQC report summary post prepping   \n",
    "- 3 - Checking for species contamination   \n",
    "- 4 - MultiQC summary report after `fastq-screen`   \n",
    "- 5 - Current disk usage situation after preprocessing   \n"
   ]
  },
  {
   "cell_type": "markdown",
   "metadata": {},
   "source": [
    "---\n",
    "## **Before going further**\n",
    "\n",
    "<div class=\"alert alert-block alert-danger\"><b>Caution:</b> \n",
    "Before starting the analysis, save a backup copy of this notebok : in the left-hand panel, right-click on this file and select \"Duplicate\"<br>\n",
    "You can also make backups during the analysis. Don't forget to save your notebook regularly: <kbd>Ctrl</kbd> + <kbd>S</kbd> or click on the 💾 icon.\n",
    "</div>"
   ]
  },
  {
   "cell_type": "markdown",
   "metadata": {
    "tags": []
   },
   "source": [
    "---\n",
    "\n",
    "## 0.1 - Preparing session for IFB core cluster   \n",
    "\n",
    "<em>loaded JupyterLab</em> : Version 3.2.1"
   ]
  },
  {
   "cell_type": "code",
   "execution_count": null,
   "metadata": {},
   "outputs": [],
   "source": [
    "## Code cell 1 ##\n",
    "\n",
    "echo \"=== Cell launched on $(date) ===\"\n",
    "\n",
    "echo \"=== Current IFB session size ===\"\n",
    "jobid=$(squeue -hu $USER | awk '/jupyter/ {print $1}')\n",
    "sacct --format=JobID,AllocCPUS,NODELIST -j ${jobid}"
   ]
  },
  {
   "cell_type": "code",
   "execution_count": null,
   "metadata": {},
   "outputs": [],
   "source": [
    "## Code cell 2 ## \n",
    "\n",
    "module load fastp/0.23.1 multiqc/1.13 fastq-screen/0.13.0\n",
    "\n",
    "echo \"===== cleanning, pre and post-quilities =====\"\n",
    "fastp --version\n",
    "echo \"===== compiled report =====\"\n",
    "multiqc --version\n",
    "echo \"===== checking species contamination =====\"  # not used, see below\n",
    "fastq_screen --version "
   ]
  },
  {
   "cell_type": "markdown",
   "metadata": {},
   "source": [
    "---\n",
    "\n",
    "## 0.2 - Parameters to be set or modified by the user"
   ]
  },
  {
   "cell_type": "markdown",
   "metadata": {},
   "source": [
    "- Using a full path with a `/` at the end, **define the folder** where you want or have to work with the `gohome` variable:"
   ]
  },
  {
   "cell_type": "code",
   "execution_count": null,
   "metadata": {},
   "outputs": [],
   "source": [
    "## Code cell 3 ## \n",
    "\n",
    "gohome=\"/shared/projects/2312_rnaseq_cea/\"\n",
    "\n",
    "echo \"=== Home root folder is ===\"\n",
    "echo \"${gohome}\"\n",
    "echo \"\"\n",
    "echo \"=== Working (personal) folder tree ===\"\n",
    "tree -L 2 \"${gohome}$USER\"\n",
    "echo \"=== current working directory ===\"\n",
    "echo \"${PWD}\""
   ]
  },
  {
   "cell_type": "markdown",
   "metadata": {
    "tags": []
   },
   "source": [
    "- Please, precise the **maximum amount of CPU** (central processing units, cores) that programs can use.\n",
    "\n",
    "<div class=\"alert alert-block alert-warning\">\n",
    "    A value of <b>4 is valid for a 5-CPU session</b>. Ideally, use 70-80% of the avalaible CPU you system or session has.\n",
    "</div>"
   ]
  },
  {
   "cell_type": "code",
   "execution_count": 2,
   "metadata": {
    "tags": []
   },
   "outputs": [],
   "source": [
    "## Code cell 4 ## \n",
    "\n",
    "authorizedCPU=4"
   ]
  },
  {
   "cell_type": "markdown",
   "metadata": {},
   "source": [
    "- Give **full path to get to the folder containing (only) the rawdata files** to be analysed:"
   ]
  },
  {
   "cell_type": "code",
   "execution_count": null,
   "metadata": {},
   "outputs": [],
   "source": [
    "## Code cell 5 ## \n",
    "\n",
    "rawfolder=\"${gohome}$USER/Data/fastq/raw/\"\n",
    "echo \"${rawfolder}\""
   ]
  },
  {
   "cell_type": "markdown",
   "metadata": {},
   "source": [
    "- Comments will later be included in Quality reports to keep analysis informations handy. Please adapt ``mycomment`` variables text in [section 2.2](#multiqctextvar1) and [section 4.2](#multiqctextvar2) before launching MultiQC report generations."
   ]
  },
  {
   "cell_type": "markdown",
   "metadata": {},
   "source": [
    "---\n",
    "## 1 - Cleaning reads with <code>fastp</code></b>"
   ]
  },
  {
   "cell_type": "markdown",
   "metadata": {},
   "source": [
    "A widely used software is <a href=\"http://www.usadellab.org/cms/?page=trimmomatic\">Trimmomatic</a>. <br>\n",
    "Unfornately, this tool is only performing trimming step (low quality bases removal) and do not include quality control afterwards. Thus, files need to be open at least 3 times, and for big files, this takes quite some time as you discovered with FastQC. <br>\n",
    "\n",
    "Researchers from China developped a complete preprocessor tool, called <b>Fastp</b>, and published it in <a href=\"https://academic.oup.com/bioinformatics/article/34/17/i884/5093234\"><em>Bioinformatics Journal</em> in 2018</a>. Currently, code and guides are available on their <a href=\"https://github.com/OpenGene/fastp\">GitHub repository</a>."
   ]
  },
  {
   "cell_type": "markdown",
   "metadata": {
    "tags": []
   },
   "source": [
    "### **1.1 - Tool version and default options overview**\n",
    "This notebook was developped with ``fastp 0.20.0``."
   ]
  },
  {
   "cell_type": "code",
   "execution_count": null,
   "metadata": {},
   "outputs": [],
   "source": [
    "## Code cell 6 ## \n",
    "\n",
    "fastp --version"
   ]
  },
  {
   "cell_type": "markdown",
   "metadata": {},
   "source": [
    "Simpliest usage for paired end (PE) sequencing data is:\n",
    "\n",
    "<code>fastp -i R1.fastqsanger.gz -I R2.fastqsanger.gz \\\n",
    "       -o R1.fastp.fastqsanger.gz -O R2.fastp.fastqsanger.gz <br></code>\n",
    "       \n",
    "If output options (`-o` and `-O` for paired end data) are omitted, `fastp` will operate the same and generate a report but won't write clean `.fastq.gz` files!"
   ]
  },
  {
   "cell_type": "markdown",
   "metadata": {},
   "source": [
    "<div class=\"alert alert-block alert-info\">\n",
    "    As its manual page, either on <a href=\"https://github.com/OpenGene/fastp/blob/master/README.md\">Github repository</a> or with <code>fastp --help</code> (also displayed on Github page), is quite long, we will summarize here some features.\n",
    "</div>\n",
    "\n",
    "In its default options, *Fastp* proceeds to:\n",
    "- adaptater removal, also named trimming (automatic identification for commercial sets, ``-A`` to disable it)\n",
    "- base removal when phred quality drops below 15 (``-q 15``, change value if wanted)\n",
    "- read removal when there are more than 40% of unqualified bases (``-u 40``) <br>\n",
    "- read removal when length drops below 15 bases (``-l 15``, ``-L`` can be used to inactivate this option)\n",
    "- read removal when there are more than 5 N (undetermined) bases (``-n 5`` or ``--n_base_limit 5`` to adjust) <br>\n",
    "- record of mated reads in separated files (specified with ``-o`` and ``-O``)\n",
    "- usage of 2 threads (<a href=\"https://github.com/OpenGene/fastp/issues/13\">IN FACT CORES</a>!), standing for 4 computer threads (``-w 2`` or ``--thread 2``)\n",
    "- a compression of created ``.fastq`` files (``-z 4`` compression level gzip, ranging from 1-faster to 9-smaller)\n",
    "- files overwriting if names already used (to change it, ``--dont_overwrite``) \n",
    "- naming report as \"fastp report\" (title inside file)\n",
    "- report files writing IN CURRENT WORKING DIRECTORY\n",
    "\n",
    "Thus, afterwards, you don't have the removed reads anymore, no matter what is the reason (good quality but alone or bad quality per itself)... and each report erases the previous one!  \n",
    "We will adjust this later!"
   ]
  },
  {
   "cell_type": "markdown",
   "metadata": {},
   "source": [
    "### **1.2 - Further options for ``fastp``**"
   ]
  },
  {
   "cell_type": "markdown",
   "metadata": {},
   "source": [
    "Others avalaible options are:\n",
    "<blockquote>\n",
    "    <code>-e score</code> or <code>--average_qual score</code> to filter reads by their mean quality (default 0, no requirement) <br>\n",
    "    <code>-V</code> to set it verbose every 1M reads are processed <br>\n",
    "    <code>-a</code> or <code>--adapter_sequence</code> to specify adapter sequence, else autodetected <br>\n",
    "    <code>--adapter_sequence_r2</code> for read2 adapter sequence <br>\n",
    "    <code>--adapter_fasta</code> to add a <code>.fasta</code> file with adaptors sequences to apply all sequences on both read1 and read2 <br>\n",
    "    <code>--filter_by_index1</code> (same for 2), to specify file containing barcodes list and <code>--filter_by_index_treshold</code> to allow for mismatches (default is set to 0) <br>\n",
    "    <code>-c</code> or <code>--correction</code>, enable base correction for overlapping regions in PE: if one base is unqualified use corresponding base in mate pair if of good quality. <i>Caution: There are other options to add with this one.</i> <br>\n",
    "    <code>-p</code> or <code>--overrepresentation_analysis</code>, to have overrepresented sequences per sample (<i>careful, big hmtl report!</i>) and     <code>-P number</code> or <code>--overrepresentation_samples number</code>, to have 1 in <i>number</i> reads used to identify those overrepresentated sequences (default, <code>-P 20</code>)\n",
    "</blockquote>\n",
    "\n",
    "PolyG tail trimming is required for sequencing data from Illumina NextSeq and NovaSeqand platforms (2-colors technology). It is activated by default for such datasets (<code>-g</code> or <code>--trim_poly_g</code>). See <a href=\"https://github.com/OpenGene/fastp#polyg-tail-trimming\">corresponding section</a> for more details and <a href=\"https://github.com/OpenGene/fastp#polyx-tail-trimming\">polyX tail trimming</a> counterpart."
   ]
  },
  {
   "cell_type": "markdown",
   "metadata": {},
   "source": [
    "In addition to default bad quality removal, you can add more stringent filters if needed:\n",
    "<blockquote>\n",
    "    <code>-f x</code> or <code>--trim_front1 x</code> to trim x bases from 5' reads extremity of read 1 (<code>-F x</code> or <code>--trim_front2 x</code> for read 2) <br>\n",
    "    <code>-t x</code> or <code>--trim_tail1 x</code> to trim x bases from the 3' tail of the reads in read1 file (<code>-T x</code> or <code>--trim_tail2 x</code> for read 2) <br>\n",
    "    <code>-y</code> or <code>--low_complexity_filter</code> to enable removal of reads containing few base changes (with <code>-Y 30</code> percent by default) <br>\n",
    "</blockquote>\n",
    "\n",
    "For next 3 options, you need to specify a window size (default <code>-W 4</code> or <code>--cut_window_size 4</code>, number ranging from 1 to 1000) to work with.\n",
    "<blockquote>\n",
    "    <code>-5</code> or <code>--cut_front</code>: from start, sliding window, drops just hit windows <br>\n",
    "    <code>-3</code> or <code>--cut_tail</code>: from tail, same <br>\n",
    "    <code>-r</code> or <code>--cut_right</code>: drop window and dowstream bases\n",
    "</blockquote>\n",
    "\n",
    "With a window size of 1 (``-W 1``), they are equivalent to, respectively, run ``LEADING``, ``TRAILING`` and ``SLIDINGWINDOW`` with *Trimmomatic*. Please, be aware that **these tools interfere with downstream deduplicated algorithms** (see <a href=\"https://github.com/OpenGene/fastp#per-read-cutting-by-quality-score\">corresponding section</a> in manual)."
   ]
  },
  {
   "cell_type": "markdown",
   "metadata": {},
   "source": [
    "### **1.3 - Preparing step**"
   ]
  },
  {
   "cell_type": "markdown",
   "metadata": {},
   "source": [
    "For *Fastp* to treat raw ``.fastq.gz`` files, let's remember where they can be found:"
   ]
  },
  {
   "cell_type": "code",
   "execution_count": null,
   "metadata": {},
   "outputs": [],
   "source": [
    "## Code cell 7 ## \n",
    "\n",
    "echo \"${rawfolder}\"\n",
    "\n",
    "ls -lh \"${rawfolder}\"\n",
    "#rawfolder=\"${gohome}$USER/Data/fastq/raw/\""
   ]
  },
  {
   "cell_type": "markdown",
   "metadata": {},
   "source": [
    "We will create a folder to store the files ``fastp`` will create:  \n",
    "- cleaned ``.fastq.gz`` files  \n",
    "- quality reports, one per sample (including quality before and after processiong reads)"
   ]
  },
  {
   "cell_type": "code",
   "execution_count": null,
   "metadata": {},
   "outputs": [],
   "source": [
    "## Code cell 8 ## \n",
    "\n",
    "fastpfolder=\"${gohome}$USER/Results/fastp/\"\n",
    "mkdir -p ${fastpfolder}"
   ]
  },
  {
   "cell_type": "markdown",
   "metadata": {},
   "source": [
    "In addition, we remember the destination folder for text file of redirected outputs."
   ]
  },
  {
   "cell_type": "code",
   "execution_count": null,
   "metadata": {},
   "outputs": [],
   "source": [
    "## Code cell 9 ## \n",
    "\n",
    "logfolder=\"${gohome}$USER/Results/logfiles/\""
   ]
  },
  {
   "cell_type": "markdown",
   "metadata": {},
   "source": [
    "Let's remember, or set if not done in **Parameters**'s section, the number of CPU (central processing units, cores) that multithreading program `fastp` is supposed to use.  \n",
    "<div class=\"alert alert-block alert-warning\">\n",
    "    A value of <b>4 is valid for a 5-CPU session</b>. Ideally, use 70-80% of the CPU amount your system or session has.\n",
    "</div>"
   ]
  },
  {
   "cell_type": "code",
   "execution_count": 1,
   "metadata": {},
   "outputs": [
    {
     "name": "stdout",
     "output_type": "stream",
     "text": [
      "The number of CPU available for computing is \n"
     ]
    }
   ],
   "source": [
    "## Code cell 10 ## \n",
    "\n",
    "authorizedCPU=${authorizedCPU}\n",
    "#authorizedCPU=4\n",
    "\n",
    "echo \"The number of CPU available for computing is ${authorizedCPU}\""
   ]
  },
  {
   "cell_type": "markdown",
   "metadata": {},
   "source": [
    "### **1.4 - Samples ``fastp`` processing**"
   ]
  },
  {
   "cell_type": "markdown",
   "metadata": {},
   "source": [
    "And, now the big loop! :-D"
   ]
  },
  {
   "cell_type": "code",
   "execution_count": null,
   "metadata": {
    "tags": []
   },
   "outputs": [],
   "source": [
    "## Code cell 11 ## \n",
    "\n",
    "logfile=\"${logfolder}fastp_prequality-filtering-postquality.log\"\n",
    "echo \"Screen output is redirected to ${logfile}\""
   ]
  },
  {
   "cell_type": "code",
   "execution_count": null,
   "metadata": {},
   "outputs": [],
   "source": [
    "## Code cell 12 ## \n",
    "\n",
    "# as time command does not redirect output\n",
    "echo \"operation starting by $(date)\" >> ${logfile}\n",
    "\n",
    "time for read1 in $(ls \"${rawfolder}\"*_1.fastq.gz); do\n",
    "\n",
    "    # starting with the sample name\n",
    "    id=$(basename ${read1} | cut -d\"_\" -f1)\n",
    "    echo \"====== Processing sampleID: ${id}...\" | tee -a ${logfile}\n",
    "        \n",
    "    # fastq files section\n",
    "    read2=$(echo ${read1} | sed 's#_1#_2#')\n",
    "    outread1=\"${fastpfolder}${id}_1.fastp.fastq.gz\"\n",
    "    outread2=$(echo ${outread1} | sed \"s#_1#_2#\")\n",
    "    outremoved=\"${fastpfolder}${id}_removed.fastp.fastq.gz\"\n",
    "    \n",
    "    # report section\n",
    "    hreport=\"${fastpfolder}${id}_fastp.html\"  # fastp at the end, else multiqc doesn't see it\n",
    "    jreport=$(echo ${hreport} | sed \"s#html#json#\")\n",
    "    myheader=$(echo \"Sample ${id} fastp report\") # append sample reference to default title\n",
    "\n",
    "    echo \"fastp starts by $(date)\" >> ${logfile}\n",
    "    # fastp working\n",
    "    fastp --in1 ${read1} --in2 ${read2} \\\n",
    "          --out1 ${outread1} --out2 ${outread2} \\\n",
    "          --failed_out ${outremoved} \\\n",
    "          --qualified_quality_phred 15 \\\n",
    "          --length_required 30 \\\n",
    "          --thread ${authorizedCPU} \\\n",
    "          --html ${hreport} --json ${jreport} \\\n",
    "          --report_title \"$(echo ${myheader})\" \\\n",
    "          &>> $logfile\n",
    "    echo \"fastp ends by $(date)\" >> ${logfile}\n",
    "    \n",
    "    echo \"...done\" | tee -a ${logfile} \n",
    "    \n",
    "done\n",
    "\n",
    "# size of files\n",
    "ls -lh \"${fastpfolder}\" >> ${logfile}\n",
    "\n",
    "echo \"fastp folder contains $(ls -l \"${fastpfolder}\"*fastq.gz | wc -l) fastq.gz files.\" \\\n",
    "     | tee -a ${logfile}\n",
    "echo \"fastp folder contains $(ls -l \"${fastpfolder}\"*.html | wc -l) html reports.\" \\\n",
    "     | tee -a ${logfile} "
   ]
  },
  {
   "cell_type": "markdown",
   "metadata": {},
   "source": [
    "Additional options that could have been added are:\n",
    "<blockquote>\n",
    "    <code>--failed_out</code> to have an output for failed reads with specified failure reason. For paired-end (PE) data with no filename for unpaired reads, the qualified discarded read is registered as <code>paired_read_is_failing</code> <br>\n",
    "    <code>-R text</code> or <code>--report_title text</code>, report <b>title</b> (default \"fastp report\") <br>\n",
    "    <code>-j</code> or <code>--json</code> for json <b>filename</b> <br>\n",
    "    <code>-h</code> or <code>--html</code> for html <b>filename</b>\n",
    "</blockquote>"
   ]
  },
  {
   "cell_type": "markdown",
   "metadata": {},
   "source": [
    "Before modifying output filenames, please note:\n",
    "<ul class=\"alert alert-block alert-info\">\n",
    "    <li>\n",
    "        MultiQC detects reports only based <a href=\"https://multiqc.info/docs/#fastp\">on the end of the filenames</a>: it looks for <code>fastp.json</code> and <code>_fastqc.zip</code>.\n",
    "    </li>\n",
    "</ul>"
   ]
  },
  {
   "cell_type": "markdown",
   "metadata": {},
   "source": [
    "---\n",
    "## 2 - MultiQC report summary post prepping</b>"
   ]
  },
  {
   "cell_type": "markdown",
   "metadata": {},
   "source": [
    "Now let's have a look at our cleaned (we expect) dataset before mapping reads to the reference genome. <br>"
   ]
  },
  {
   "cell_type": "code",
   "execution_count": null,
   "metadata": {},
   "outputs": [],
   "source": [
    "## Code cell 13 ## \n",
    "\n",
    "multiqc --version"
   ]
  },
  {
   "cell_type": "markdown",
   "metadata": {},
   "source": [
    "For more details about MultiQC, please refer to previous notebook."
   ]
  },
  {
   "cell_type": "markdown",
   "metadata": {},
   "source": [
    "### **2.1 - Folder, filename, title and comment**\n",
    "\n",
    "Let's remember where report files are to be placed:"
   ]
  },
  {
   "cell_type": "code",
   "execution_count": null,
   "metadata": {},
   "outputs": [],
   "source": [
    "## Code cell 14 ## \n",
    "\n",
    "qcsummaries=\"${gohome}$USER/Results/multiqc/\""
   ]
  },
  {
   "cell_type": "markdown",
   "metadata": {},
   "source": [
    "We specify then names for files and title to display on html report page. <a id=\"multiqctextvar1\"></a>"
   ]
  },
  {
   "cell_type": "code",
   "execution_count": null,
   "metadata": {},
   "outputs": [],
   "source": [
    "## Code cell 15 ## \n",
    "\n",
    "inamemyfile=\"2_fastp-fastq-files-3samples\"\n",
    "mytitle=\"Fastq files qualities by Fastp: before and after filtering\""
   ]
  },
  {
   "cell_type": "markdown",
   "metadata": {},
   "source": [
    "To keep record of what have been done with these files, I add an additionnal comment to remember for later use (along with to inform others readers):"
   ]
  },
  {
   "cell_type": "code",
   "execution_count": null,
   "metadata": {},
   "outputs": [],
   "source": [
    "## Code cell 16 ## \n",
    "\n",
    "mycomment=$(echo \"Fastq files processed by Fastp with following options. \" \\\n",
    "\"qualified quality: 15, minimum length: 30, removed reads kept in same file.\")"
   ]
  },
  {
   "cell_type": "markdown",
   "metadata": {},
   "source": [
    "### **2- Generate summary report**"
   ]
  },
  {
   "cell_type": "code",
   "execution_count": null,
   "metadata": {},
   "outputs": [],
   "source": [
    "## Code cell 17 ## \n",
    "\n",
    "logfile=\"${logfolder}multiqc-processing_fastp-quality.log\"\n",
    "echo \"Screen output is also saved in ${logfile}\"\n",
    "\n",
    "echo \"operation starting by $(date)\" >> ${logfile}\n",
    "multiqc --interactive --export \\\n",
    "        --module fastp \\\n",
    "        --outdir \"${qcsummaries}\" \\\n",
    "        --filename \"${inamemyfile}\" \\\n",
    "        --title \"${mytitle}\"  \\\n",
    "        --comment \"${mycomment}\" \\\n",
    "        \"${fastpfolder}\" \\\n",
    "        |& tee -a ${logfile}\n",
    "echo \"operation finished by $(date)\" >> ${logfile}\n",
    "\n",
    "# to see which files we have afterward and follow folder sizes\n",
    "ls -lh \"${gohome}$USER/Results/multiqc/\" >> ${logfile}\n",
    "ls -lh \"${gohome}$USER/Results/\" >> ${logfile}"
   ]
  },
  {
   "cell_type": "markdown",
   "metadata": {},
   "source": [
    "---\n",
    "## 3 - Checking for species contamination"
   ]
  },
  {
   "cell_type": "markdown",
   "metadata": {},
   "source": [
    "<ul class=\"alert alert-block alert-info\">\n",
    "    <li>\n",
    "        Reading <b>FastQ-screen</b> documentation's introduction to see how can I retrieve application's version, we can see that <b>FastQ Screen</b> <a href=\"https://www.bioinformatics.babraham.ac.uk/projects/fastq_screen/_build/html/index.html?highlight=version#installation\">is compatible with Bowtie, Bowtie2 or BWA</a> aligners... and <a href=\"https://www.bioinformatics.babraham.ac.uk/projects/fastq_screen/_build/html/index.html?highlight=version#configuration\">that the aligner used to build the index files is supposed to be used also to map RNA reads</a>\n",
    "    </li>\n",
    "    <li>\n",
    "       Here, we will use Fastq-Screen by-default aligner (Bowtie2) only to identify contaminations regardless of nucleic acid type, and we will later map RNA reads properly with a splice-aware aligner.\n",
    "    </li>\n",
    "</ul>"
   ]
  },
  {
   "cell_type": "markdown",
   "metadata": {},
   "source": [
    "### **3.1 - Tool version and default options overview**\n",
    "This notebook was developped with ``fastq-screen 0.13.0``."
   ]
  },
  {
   "cell_type": "code",
   "execution_count": null,
   "metadata": {},
   "outputs": [],
   "source": [
    "## Code cell 18 ## \n",
    "\n",
    "fastq_screen --version"
   ]
  },
  {
   "cell_type": "markdown",
   "metadata": {},
   "source": [
    "FastQ Screen allows to detect species contamination by aligning a sample set of reads from a ``.fastq`` on chosen reference genomes.  \n",
    "To date, only 3 aligners can be used to do so: ``bowtie``, ``bowtie2``and ``bwa``."
   ]
  },
  {
   "cell_type": "markdown",
   "metadata": {},
   "source": [
    "To use this tool, we need indexes files for other species, the ones that could contaminate the reads in our samples. We can either:  \n",
    "- download genomes sequence files and create indexes using the chosen aligner\n",
    "- retrieve <a href=\"https://www.bioinformatics.babraham.ac.uk/projects/fastq_screen/_build/html/index.html#obtaining-reference-genomes\">pre-indexed <code>bowtie2</code> genomes for a range of commonly studied species and sequences</a> using ``--get_genomes``"
   ]
  },
  {
   "cell_type": "markdown",
   "metadata": {},
   "source": [
    "During this first step, we can specify destination folder for retrieved and generated files with <code>--outdir TEXT</code> option. If this destination folder is not specified, then output files are saved in our current working directory.  \n",
    "A folder called ``FastQ_Screen_Genomes/`` is created and contains a text configuration file along with reference genomes indexes. The configuration file provide gives ``fastq_screen`` script with the paths to reference genomes (same folder when using ``--get_genomes``). It is meant to be modified to specify the path to the aligner, but we can also directly use ``--aligner`` option in command line.  \n",
    "  \n",
    "In the second step, the analysis itself, the default command line is ``fastq_screen path/to/sample.fastq.gz``.  \n",
    "  \n",
    "Along with the path to ``.fastq.gz files``, we will use below options: \n",
    "<blockquote>\n",
    "    <code>--aligner OPTION</code>, to specify the aligner to use for the mapping. Valid arguments are 'bowtie', bowtie2' (default) or 'bwa'. If not specified, it will search for <code>bowtie2</code> location in the configuration file <br>\n",
    "    <code>--threads INTEGER</code>, to specify how many threads the aligner will be allowed to run on. This options overrides the default value set in the configuration file <br>\n",
    "    <code>--conf TEXT</code> to manually specify a location for the configuration file. Alternatively, the configuration file should be within the program folder <br>\n",
    "</blockquote>"
   ]
  },
  {
   "cell_type": "markdown",
   "metadata": {},
   "source": [
    "### **3.2 - Preparation steps**"
   ]
  },
  {
   "cell_type": "markdown",
   "metadata": {},
   "source": [
    "<div class=\"alert alert-block alert-warning\">\n",
    "    It takes about about half an hour (30 minutes) to download all reference files.   <br>\n",
    "    Therefore, we will work today on pre-downloaded files.    <br>\n",
    "    The following cells are provided or later use in your own project. <br>\n",
    "    (To use the commands in cells 19 to 21, change their type from <code>Raw</code> to <code>Code</code> in the drop-down menu above)\n",
    "</div>"
   ]
  },
  {
   "cell_type": "markdown",
   "metadata": {},
   "source": [
    "(3.2.1) - First, we will create a destination folder for all ``fastq_screen`` linked files"
   ]
  },
  {
   "cell_type": "raw",
   "metadata": {},
   "source": [
    "## (Code cell 19) ## \n",
    "\n",
    "contascreenfolder=\"${gohome}$USER/Results/fastq_screen/\"\n",
    "mkdir -p ${contascreenfolder}"
   ]
  },
  {
   "cell_type": "markdown",
   "metadata": {},
   "source": [
    "(3.2.2) - Then, we download genome references thanks to ``--get_genomes`` option."
   ]
  },
  {
   "cell_type": "raw",
   "metadata": {},
   "source": [
    "## (Code cell 20) ## \n",
    "\n",
    "logfile=\"${gohome}$USER/Results/logfiles/fastq_screen_get_genomes.log\"\n",
    "echo \"Screen output is redirected to ${logfile}\""
   ]
  },
  {
   "cell_type": "raw",
   "metadata": {},
   "source": [
    "## (Code cell 21) ## \n",
    "\n",
    "echo \"fastq_screen get_genomes starts at $(date)\" >> ${logfile}\n",
    "time fastq_screen --get_genomes \\\n",
    "                  --outdir ${contascreenfolder} \\\n",
    "                  &>> ${logfile}\n",
    "echo \"fastq_screen get_genomes ends at $(date)\" >> ${logfile}"
   ]
  },
  {
   "cell_type": "markdown",
   "metadata": {},
   "source": [
    "3.2.3 - We verify the available genomes for contamination check:"
   ]
  },
  {
   "cell_type": "code",
   "execution_count": null,
   "metadata": {},
   "outputs": [],
   "source": [
    "# Code cell 22 ## \n",
    "# to be skipped if the cells 19 to 21 above are run for another project\n",
    "\n",
    "contascreenfolder=\"${gohome}allData/Results/fastq_screen/\"\n",
    "fastq_screenfolder=\"${gohome}$USER/Results/fastq_screen/\"\n",
    "mkdir -p ${fastq_screenfolder}\n",
    "logfile=\"${gohome}allData/Results/logfiles/fastq_screen_get_genomes.log\""
   ]
  },
  {
   "cell_type": "code",
   "execution_count": null,
   "metadata": {},
   "outputs": [],
   "source": [
    "## Code cell 23 ## \n",
    "\n",
    "echo \"Folder composition:\" >> ${logfile}\n",
    "tree ${contascreenfolder} >> ${logfile}\n",
    "du -h \"${contascreenfolder}FastQ_Screen_Genomes/\" >> ${logfile}\n",
    "\n",
    "echo \"Downloaded genomes:\" | tee -a ${logfile}\n",
    "ls \"${contascreenfolder}FastQ_Screen_Genomes/\" | tee -a ${logfile}"
   ]
  },
  {
   "cell_type": "markdown",
   "metadata": {},
   "source": [
    "We can see genomes versions in the logfile searching for network links (``http://``), then filtering for particular species."
   ]
  },
  {
   "cell_type": "code",
   "execution_count": null,
   "metadata": {},
   "outputs": [],
   "source": [
    "## Code cell 24 ## \n",
    "\n",
    "cat \"${logfile}\" | grep \"http://\" | grep -e \"Human/Homo_sapiens\" -e \"Mouse/Mus_musculus\""
   ]
  },
  {
   "cell_type": "markdown",
   "metadata": {},
   "source": [
    "3.2.4 - Predefined Config file with path to genome indexes:"
   ]
  },
  {
   "cell_type": "markdown",
   "metadata": {},
   "source": [
    "We will need a predefined config file to tell ``fastq_screen`` where to find the genome files. Let's create a variable to handle it more easily."
   ]
  },
  {
   "cell_type": "code",
   "execution_count": null,
   "metadata": {},
   "outputs": [],
   "source": [
    "## Code cell 25 ## \n",
    "\n",
    "fscreenconffile=\"${contascreenfolder}FastQ_Screen_Genomes/fastq_screen.conf\""
   ]
  },
  {
   "cell_type": "markdown",
   "metadata": {},
   "source": [
    "### **3.3 - Samples analysis**"
   ]
  },
  {
   "cell_type": "markdown",
   "metadata": {},
   "source": [
    "Let's remember, or if it was not set in **Parameters** section, the number of CPU (central processing units, cores) that `fastq_screen` is supposed to use.  \n",
    "<div class=\"alert alert-block alert-warning\">\n",
    "    Following value of <b>4 is valid for a 5-CPU session</b>. Ideally, use 70-80% of the CPU amount your system or session has.\n",
    "</div>"
   ]
  },
  {
   "cell_type": "code",
   "execution_count": null,
   "metadata": {},
   "outputs": [],
   "source": [
    "## Code cell 26 ## \n",
    "\n",
    "authorizedCPU=${authorizedCPU}\n",
    "#authorizedCPU=4\n",
    "\n",
    "echo \"The number of CPU available for computing is ${authorizedCPU}\""
   ]
  },
  {
   "cell_type": "markdown",
   "metadata": {},
   "source": [
    "We can now check all cleaned ``.fastq.gz`` files produced earlier by ``fastp``."
   ]
  },
  {
   "cell_type": "code",
   "execution_count": null,
   "metadata": {},
   "outputs": [],
   "source": [
    "## Code cell 27 ## \n",
    "\n",
    "logfile=\"${gohome}$USER/Results/logfiles/fastq_screen_3samples.log\"\n",
    "echo \"Screen output is redirected to ${logfile}\""
   ]
  },
  {
   "cell_type": "code",
   "execution_count": null,
   "metadata": {},
   "outputs": [],
   "source": [
    "## Code cell 28 ## \n",
    "\n",
    "echo \"Destination folder already contains:\" >> ${logfile}\n",
    "ls -lh ${fastq_screenfolder} >> ${logfile}\n",
    "\n",
    "echo \"operations start at $(date)\" >> ${logfile}\n",
    "\n",
    "time for fastqfile in $(ls \"${fastpfolder}\"* | grep -v \"removed\"); do\n",
    "    \n",
    "    echo \"=== starting for $(basename ${fastqfile})...\" |& tee -a ${logfile}\n",
    "    date >> ${logfile}\n",
    "    \n",
    "    fastq_screen --aligner bowtie2  \\\n",
    "                 --outdir ${fastq_screenfolder} \\\n",
    "                 --threads ${authorizedCPU} \\\n",
    "                 --conf ${fscreenconffile} \\\n",
    "                 ${fastqfile} \\\n",
    "                 &>> ${logfile}\n",
    "                 \n",
    "    echo \"... done ===\" | tee -a ${logfile}\n",
    "    date >> ${logfile}\n",
    "    \n",
    "done\n",
    "\n",
    "echo \"operations end at $(date)\" >> ${logfile}\n",
    "\n",
    "ls -lh ${contascreenfolder} >> ${logfile}\n",
    "echo \"$(ls ${contascreenfolder} | wc -l) files were created.\""
   ]
  },
  {
   "cell_type": "markdown",
   "metadata": {},
   "source": [
    "If we want to know the time it took to perform this analysis, we can retrieve the info from the log file:"
   ]
  },
  {
   "cell_type": "code",
   "execution_count": null,
   "metadata": {
    "tags": []
   },
   "outputs": [],
   "source": [
    "## Code cell 29 ## \n",
    "\n",
    "cat ${logfile} | grep \"operations\""
   ]
  },
  {
   "cell_type": "markdown",
   "metadata": {},
   "source": [
    "The results are shown in several files for each fastq.gz input file, and we could look at each html result.    \n",
    "The other possibility is to compile the various reportswith MultiQC, as in the following section."
   ]
  },
  {
   "cell_type": "code",
   "execution_count": null,
   "metadata": {
    "tags": []
   },
   "outputs": [],
   "source": [
    "## Code cell 30 ## \n",
    "\n",
    "${contascreenfolder}\n",
    "ls ${fastq_screenfolder}\n",
    "ls ${watchingforcontafolder} | wc -l\n",
    "ls ${watchingforcontafolder} | grep ^\".html\" | wc -l\n",
    "ls ${watchingforcontafolder} | wc -l"
   ]
  },
  {
   "cell_type": "markdown",
   "metadata": {},
   "source": [
    "---\n",
    "## 4- MultiQC summary report after <code>fastq_screen</code>"
   ]
  },
  {
   "cell_type": "markdown",
   "metadata": {},
   "source": [
    "### **4.1 - Folder, filename, title and comment**\n",
    "\n",
    "Let's remember where report files are to be placed:"
   ]
  },
  {
   "cell_type": "code",
   "execution_count": null,
   "metadata": {},
   "outputs": [],
   "source": [
    "## Code cell 31 ## \n",
    "\n",
    "qcsummaries=\"${gohome}$USER/Results/multiqc/\""
   ]
  },
  {
   "cell_type": "markdown",
   "metadata": {},
   "source": [
    "We specify then names for files and title to display on html report page. <a id=\"multiqctextvar2\"></a>"
   ]
  },
  {
   "cell_type": "code",
   "execution_count": null,
   "metadata": {},
   "outputs": [],
   "source": [
    "## Code cell 32 ## \n",
    "\n",
    "inamemyfile=\"3_fastp-fastq-files_with_fastqscreen-3samples\"\n",
    "\n",
    "mytitle=$(echo \"Fastq files qualities by Fastp (before and after filtering) \" \\\n",
    "\"and FastQ Screen genomes contamination screening\")"
   ]
  },
  {
   "cell_type": "markdown",
   "metadata": {},
   "source": [
    "To keep record of what have been done with these files, I add an additionnal comment to remember for later use (along with aiming at informing others readers):"
   ]
  },
  {
   "cell_type": "code",
   "execution_count": null,
   "metadata": {},
   "outputs": [],
   "source": [
    "## Code cell 33 ## \n",
    "\n",
    "mycomment=$(echo \"Fastq files processed by Fastp with following options. \" \\\n",
    "\"qualified quality: 15, minimum length: 30, removed reads kept in same file.\" \\\n",
    "\"FastQ Screen with bowtie2 (included version) and Babraham genomes reference.\")"
   ]
  },
  {
   "cell_type": "markdown",
   "metadata": {},
   "source": [
    "### **4.2 - Generate summary report**"
   ]
  },
  {
   "cell_type": "code",
   "execution_count": null,
   "metadata": {},
   "outputs": [],
   "source": [
    "## Code cell 34 ## \n",
    "\n",
    "logfile=\"${logfolder}multiqc-processing_fastp-quality_and_fastqscreen_screening.log\"\n",
    "echo \"Screen output is also saved in ${logfile}\"\n",
    "\n",
    "echo \"operation starting by $(date)\" >> ${logfile}\n",
    "multiqc --interactive --export \\\n",
    "        --module fastp ${fastpfolder} \\\n",
    "        --module fastq_screen ${fastq_screenfolder} \\\n",
    "        --outdir \"${qcsummaries}\" \\\n",
    "        --filename \"${inamemyfile}\" \\\n",
    "        --title \"${mytitle}\"  \\\n",
    "        --comment \"${mycomment}\" \\\n",
    "        \"${gohome}$USER/Results/\" \\\n",
    "        |& tee -a ${logfile}\n",
    "echo \"operation finished by $(date)\" >> ${logfile}\n",
    "\n",
    "# to see which files we have afterward and follow folder sizes\n",
    "ls -lh \"${qcsummaries}\" >> ${logfile}\n",
    "ls -lh \"${gohome}$USER/Results/\" >> ${logfile}"
   ]
  },
  {
   "cell_type": "markdown",
   "metadata": {
    "tags": []
   },
   "source": [
    "### **4.3 - Retrieve MultiQC report for all samples**"
   ]
  },
  {
   "cell_type": "markdown",
   "metadata": {},
   "source": [
    "Similar reports were generated for all 11 samples. They are available in the allData folder, and we can have a copy in our personal folder for later use."
   ]
  },
  {
   "cell_type": "code",
   "execution_count": null,
   "metadata": {},
   "outputs": [],
   "source": [
    "## Code cell 35 ##   \n",
    "\n",
    "cp \"${gohome}allData/Results/multiqc/2_fastp-fastq-files-all.html\" \"${gohome}$USER/Results/multiqc/\"\n",
    "cp \"${gohome}allData/Results/multiqc/3_fastp-fastq-files_with_fastqscreen-all.html\" \"${gohome}$USER/Results/multiqc/\""
   ]
  },
  {
   "cell_type": "markdown",
   "metadata": {
    "tags": []
   },
   "source": [
    "---\n",
    "## 5 - Current disk usage situation after preprocessing"
   ]
  },
  {
   "cell_type": "code",
   "execution_count": null,
   "metadata": {},
   "outputs": [],
   "source": [
    "## Code cell 36 ##   \n",
    "\n",
    "# little look at the folder tree\n",
    "tree -d -L 2 \"${gohome}$USER\""
   ]
  },
  {
   "cell_type": "markdown",
   "metadata": {},
   "source": [
    "Used options are:\n",
    "<blockquote>\n",
    "    <code>-d</code> to list only directories <br>\n",
    "    Adding <code>-L</code> option and a number to avoid going too deep in the tree... and let the output be still readable.\n",
    "</blockquote>"
   ]
  },
  {
   "cell_type": "code",
   "execution_count": null,
   "metadata": {},
   "outputs": [],
   "source": [
    "## Code cell 37 ##   \n",
    "\n",
    "# disk usage by folder and subfolders\n",
    "du -ch -d2 \"${gohome}$USER\""
   ]
  },
  {
   "cell_type": "markdown",
   "metadata": {},
   "source": [
    "The options stand for:\n",
    "<blockquote>\n",
    "    <code>-c</code> or <code>--total</code> to have total amount displayed <br>\n",
    "    <code>-h</code> or <code>--human-readable</code>  to get sizes in Mega and Giga bytes format <br>\n",
    "    <code>-dx</code> or <code>--max-depth=x</code> to limit folder enumeration to x levels\n",
    "</blockquote>"
   ]
  },
  {
   "cell_type": "markdown",
   "metadata": {},
   "source": [
    "---\n",
    "___\n",
    "\n",
    "Now we go on to map reads on the reference genome and observing.  \n",
    "  \n",
    "**=> Step 4 : Classical reads mapping** "
   ]
  },
  {
   "cell_type": "markdown",
   "metadata": {},
   "source": [
    "The jupyter notebook used for the next session will be the *Pipe_4-bash_classical-reads-mapping.ipynb*    \n",
    "Let's retrieve it in our directory, in order to have a private copy to work on:   "
   ]
  },
  {
   "cell_type": "code",
   "execution_count": null,
   "metadata": {
    "tags": []
   },
   "outputs": [],
   "source": [
    "## Code cell 38 ##   \n",
    "\n",
    "cp \"${gohome}pipeline/Pipe_4-bash_classical-reads-mapping.ipynb\" \"${gohome}$USER/\""
   ]
  },
  {
   "cell_type": "markdown",
   "metadata": {
    "tags": []
   },
   "source": [
    "Bénédicte Noblet - 05-07 2021   \n",
    "Sandrine Caburet - 02-05 2023   \n",
    "Maj 23/05/2023"
   ]
  },
  {
   "cell_type": "markdown",
   "metadata": {
    "tags": []
   },
   "source": [
    "---\n",
    "___\n",
    "\n",
    "Another option exists to go faster : carrying out a pseudo mapping on transcriptome.  \n",
    "  \n",
    "**=> Alternate step 4 : Pseudomapping**"
   ]
  }
 ],
 "metadata": {
  "kernelspec": {
   "display_name": "Bash",
   "language": "bash",
   "name": "bash"
  },
  "language_info": {
   "codemirror_mode": "shell",
   "file_extension": ".sh",
   "mimetype": "text/x-sh",
   "name": "bash"
  },
  "toc-autonumbering": false,
  "toc-showcode": false,
  "toc-showmarkdowntxt": false
 },
 "nbformat": 4,
 "nbformat_minor": 4
}

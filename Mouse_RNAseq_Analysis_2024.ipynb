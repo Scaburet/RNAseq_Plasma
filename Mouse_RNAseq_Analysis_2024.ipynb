{
 "cells": [
  {
   "cell_type": "markdown",
   "id": "e9019c03",
   "metadata": {},
   "source": [
    "# Mouse RNA-seq Data Analysis Pipeline\n",
    "### Master Course - Tuesday 26/11/2024\n",
    "\n",
    "<div class=\"alert alert-block alert-info\">\n",
    "<b>Course Overview:</b><br>\n",
    "This notebook guides you through the first half of the RNA-seq analysis pipeline for mouse paired-end data. You will learn how to:\n",
    "- Assess raw data quality using FastQC\n",
    "- Preprocess reads using fastp for adapter removal and quality trimming\n",
    "- Map cleaned reads to the mouse genome using STAR\n",
    "- Generate comprehensive quality reports with MultiQC\n",
    "\n",
    "<b>Resource Allocation:</b><br>\n",
    "- CPUs: 10 per student\n",
    "- RAM: 6 GB per student\n",
    "</div>\n",
    "\n",
    "<div class=\"alert alert-block alert-warning\">\n",
    "<b>Important Data Locations:</b><br>\n",
    "- Raw fastq files: <code>/srv/data/meg-m2-rnaseq/Data/fastq/raw/</code>\n",
    "- Mouse genome annotation: <code>/srv/data/meg-m2-rnaseq/Genomes/Mmu/GRCm39/extracted/mouse genome_annotation-M35.gtf</code>\n",
    "- Fastp results: <code>/srv/data/meg-m2-rnaseq/Results/fastp/</code>\n",
    "\n",
    "<b>Note:</b> For efficiency, we will demonstrate the analysis on the first two samples. Commands for processing all samples are provided as silent cells.\n",
    "</div>"
   ]
  },
  {
   "cell_type": "markdown",
   "id": "ec226102",
   "metadata": {},
   "source": [
    "## 1. Environment Setup\n",
    "<div class=\"alert alert-block alert-info\">\n",
    "First, we'll check our tool versions and set up our working environment. This ensures reproducibility and proper resource allocation.\n",
    "</div>"
   ]
  },
  {
   "cell_type": "code",
   "execution_count": null,
   "id": "d260456c",
   "metadata": {},
   "outputs": [],
   "source": [
    "# Cell 1: Tool Versions\n",
    "echo \"=== Tool Versions ===\"\n",
    "fastqc --version\n",
    "fastp --version\n",
    "STAR --version\n",
    "samtools --version | head -n 2\n",
    "multiqc --version"
   ]
  },
  {
   "cell_type": "code",
   "execution_count": null,
   "id": "18cc52a7",
   "metadata": {},
   "outputs": [],
   "source": [
    "# Cell 2: Directory Setup\n",
    "# Create results directories\n",
    "mkdir -p Results/{fastqc,fastp,star,multiqc}\n",
    "echo \"Created analysis directories:\"\n",
    "ls -l Results/\n",
    "\n",
    "# Set data paths\n",
    "FASTQ_DIR=\"/srv/data/meg-m2-rnaseq/Data/fastq/raw\"\n",
    "GENOME_DIR=\"/srv/data/meg-m2-rnaseq/Genomes/Mmu/GRCm39/extracted\"\n",
    "FASTP_DIR=\"/srv/data/meg-m2-rnaseq/Results/fastp\"\n",
    "\n",
    "# Set number of threads (80% of available CPUs)\n",
    "N_THREADS=8  # Based on 10 CPUs per student"
   ]
  },
  {
   "cell_type": "markdown",
   "id": "622be630",
   "metadata": {},
   "source": [
    "## 2. Raw Data Quality Assessment\n",
    "<div class=\"alert alert-block alert-info\">\n",
    "FastQC performs quality control checks on raw sequence data. It provides:\n",
    "- Basic statistics\n",
    "- Per base sequence quality\n",
    "- Per sequence quality scores\n",
    "- Sequence duplication levels\n",
    "- Overrepresented sequences\n",
    "- Adapter content\n",
    "</div>"
   ]
  },
  {
   "cell_type": "code",
   "execution_count": null,
   "id": "f020f8cc",
   "metadata": {},
   "outputs": [],
   "source": [
    "# Cell 3: Initial FastQC Analysis\n",
    "# Get first two samples\n",
    "SAMPLES=($(ls ${FASTQ_DIR}/*_R{1,2}.fastq.gz | head -n 4))\n",
    "echo \"Processing samples:\"\n",
    "printf '%s\\n' \"${SAMPLES[@]}\"\n",
    "\n",
    "# Run FastQC\n",
    "for sample in \"${SAMPLES[@]}\"; do\n",
    "    echo \"Processing $sample...\"\n",
    "    fastqc --outdir Results/fastqc --threads $N_THREADS \"$sample\"\n",
    "done"
   ]
  },
  {
   "cell_type": "raw",
   "id": "8ecd93ba",
   "metadata": {},
   "source": [
    "# (Cell 4): FastQC Analysis for All Samples\n",
    "# Process all samples\n",
    "for sample in ${FASTQ_DIR}/*_R{1,2}.fastq.gz; do\n",
    "    echo \"Processing $sample...\"\n",
    "    fastqc --outdir Results/fastqc --threads $N_THREADS \"$sample\"\n",
    "done"
   ]
  },
  {
   "cell_type": "markdown",
   "id": "9fd64916",
   "metadata": {},
   "source": [
    "## 3. Read Preprocessing\n",
    "<div class=\"alert alert-block alert-info\">\n",
    "<b>Fastp performs several crucial preprocessing steps:</b>\n",
    "- Adapter trimming\n",
    "- Low quality base trimming\n",
    "- Quality filtering\n",
    "- Per base quality pruning\n",
    "- Length filtering\n",
    "\n",
    "We'll process the first two samples and provide commands for processing all samples.\n",
    "</div>"
   ]
  },
  {
   "cell_type": "code",
   "execution_count": null,
   "id": "ab12e203",
   "metadata": {},
   "outputs": [],
   "source": [
    "# Cell 5: Fastp Processing (First 2 Samples)\n",
    "# Process first two paired-end samples\n",
    "for i in {1..2}; do\n",
    "    R1=$(ls ${FASTQ_DIR}/*_R1.fastq.gz | head -n $i | tail -n 1)\n",
    "    R2=${R1/_R1/_R2}\n",
    "    base=$(basename $R1 _R1.fastq.gz)\n",
    "\n",
    "    echo \"Processing $base...\"\n",
    "    fastp --in1 $R1 \\\n",
    "          --in2 $R2 \\\n",
    "          --out1 Results/fastp/${base}_R1.cleaned.fastq.gz \\\n",
    "          --out2 Results/fastp/${base}_R2.cleaned.fastq.gz \\\n",
    "          --html Results/fastp/${base}_fastp.html \\\n",
    "          --json Results/fastp/${base}_fastp.json \\\n",
    "          --thread $N_THREADS \\\n",
    "          --detect_adapter_for_pe\n",
    "done"
   ]
  },
  {
   "cell_type": "raw",
   "id": "a1d37e72",
   "metadata": {},
   "source": [
    "# (Cell 6): Fastp Processing for All Samples\n",
    "# Process all paired-end samples\n",
    "for R1 in ${FASTQ_DIR}/*_R1.fastq.gz; do\n",
    "    R2=${R1/_R1/_R2}\n",
    "    base=$(basename $R1 _R1.fastq.gz)\n",
    "\n",
    "    echo \"Processing $base...\"\n",
    "    fastp --in1 $R1 \\\n",
    "          --in2 $R2 \\\n",
    "          --out1 Results/fastp/${base}_R1.cleaned.fastq.gz \\\n",
    "          --out2 Results/fastp/${base}_R2.cleaned.fastq.gz \\\n",
    "          --html Results/fastp/${base}_fastp.html \\\n",
    "          --json Results/fastp/${base}_fastp.json \\\n",
    "          --thread $N_THREADS \\\n",
    "          --detect_adapter_for_pe\n",
    "done"
   ]
  },
  {
   "cell_type": "markdown",
   "id": "ce006955",
   "metadata": {},
   "source": [
    "## 4. Read Mapping\n",
    "<div class=\"alert alert-block alert-info\">\n",
    "<b>STAR Mapping Process:</b>\n",
    "1. First, we need to index the reference genome (provided in a silent cell)\n",
    "2. Then, we'll map the cleaned reads to the reference\n",
    "3. Finally, we'll index the resulting BAM files\n",
    "\n",
    "<b>Note:</b> We'll only process the first two samples. BAM and BAI files for the remaining samples will be provided on the server.\n",
    "</div>"
   ]
  },
  {
   "cell_type": "raw",
   "id": "b4b47ffa",
   "metadata": {},
   "source": [
    "# (Cell 7): STAR Genome Indexing\n",
    "# Prepare genome index\n",
    "GENOME_FASTA=\"${GENOME_DIR}/genome.fa\"\n",
    "GENOME_GTF=\"${GENOME_DIR}/mouse genome_annotation-M35.gtf\"  # Updated path to match requirements\n",
    "STAR_INDEX=\"Results/star/genome_index\"\n",
    "\n",
    "mkdir -p $STAR_INDEX\n",
    "\n",
    "# Generate genome index\n",
    "STAR --runMode genomeGenerate \\\n",
    "     --genomeDir $STAR_INDEX \\\n",
    "     --genomeFastaFiles $GENOME_FASTA \\\n",
    "     --sjdbGTFfile $GENOME_GTF \\\n",
    "     --sjdbOverhang 99 \\\n",
    "     --runThreadN $N_THREADS"
   ]
  },
  {
   "cell_type": "code",
   "execution_count": null,
   "id": "08c97946",
   "metadata": {},
   "outputs": [],
   "source": [
    "# Cell 8: STAR Mapping (First 2 Samples)\n",
    "# Map first two samples\n",
    "for i in {1..2}; do\n",
    "    R1=$(ls Results/fastp/*_R1.cleaned.fastq.gz | head -n $i | tail -n 1)\n",
    "    R2=${R1/_R1/_R2}\n",
    "    base=$(basename $R1 _R1.cleaned.fastq.gz)\n",
    "\n",
    "    echo \"Mapping $base...\"\n",
    "    STAR --genomeDir Results/star/genome_index \\\n",
    "         --readFilesIn $R1 $R2 \\\n",
    "         --readFilesCommand zcat \\\n",
    "         --outFileNamePrefix Results/star/${base}_ \\\n",
    "         --outSAMtype BAM SortedByCoordinate \\\n",
    "         --runThreadN $N_THREADS\n",
    "\n",
    "    # Index BAM file\n",
    "    samtools index Results/star/${base}_Aligned.sortedByCoord.out.bam\n",
    "done"
   ]
  },
  {
   "cell_type": "markdown",
   "id": "1ffab11b",
   "metadata": {},
   "source": [
    "## 5. Quality Reports\n",
    "<div class=\"alert alert-block alert-info\">\n",
    "MultiQC aggregates results from:\n",
    "- FastQC (raw data quality)\n",
    "- Fastp (preprocessing statistics)\n",
    "- STAR (mapping metrics)\n",
    "\n",
    "This provides a comprehensive view of the analysis quality at each step.\n",
    "</div>"
   ]
  },
  {
   "cell_type": "code",
   "execution_count": null,
   "id": "07f7ab3c",
   "metadata": {},
   "outputs": [],
   "source": [
    "# Cell 9: MultiQC Report Generation\n",
    "# Generate comprehensive report for all available results\n",
    "multiqc --outdir Results/multiqc \\\n",
    "        --filename \"mouse_rnaseq_report\" \\\n",
    "        Results/fastqc \\\n",
    "        Results/fastp \\\n",
    "        Results/star"
   ]
  }
 ],
 "metadata": {
  "kernelspec": {
   "display_name": "Bash",
   "language": "bash",
   "name": "bash"
  },
  "language_info": {
   "codemirror_mode": "shell",
   "file_extension": ".sh",
   "mimetype": "text/x-sh",
   "name": "bash"
  }
 },
 "nbformat": 4,
 "nbformat_minor": 5
}
